{
 "cells": [
  {
   "cell_type": "markdown",
   "id": "becd9a5b-6e44-43c0-bc13-f8004c400054",
   "metadata": {},
   "source": [
    "<header>\n",
    "   <p  style='font-size:36px;font-family:Arial; color:#F0F0F0; background-color: #00233c; padding-left: 20pt; padding-top: 20pt;padding-bottom: 10pt; padding-right: 20pt;'>\n",
    "       Startup Script\n",
    "  <br>\n",
    "       <img id=\"teradata-logo\" src=\"https://storage.googleapis.com/clearscape_analytics_demo_data/DEMO_Logo/teradata.svg\" alt=\"Teradata\" style=\"width: 125px; height: auto; margin-top: 20pt;\">\n",
    "    </p>\n",
    "</header>"
   ]
  },
  {
   "cell_type": "code",
   "execution_count": null,
   "id": "5adc5813-21db-455d-b224-2e6f47ae914d",
   "metadata": {},
   "outputs": [],
   "source": [
    "##############################################################################################\n",
    "#\n",
    "# This is a multi-platform startup script which is called by other workbooks. If porting\n",
    "# to another platform, you may need to change the setting of the username below to prompt\n",
    "#\n",
    "#############################################################################################\n",
    "\n",
    "import getpass\n",
    "import sys\n",
    "import warnings\n",
    "from sqlalchemy import create_engine\n",
    "\n",
    "# Ignores warning messages, so they will not be displayed during the execution of the code.\n",
    "warnings.filterwarnings('ignore')"
   ]
  },
  {
   "cell_type": "code",
   "execution_count": null,
   "id": "removed-board",
   "metadata": {},
   "outputs": [],
   "source": [
    "# Initializes a boolean variable new_password to False\n",
    "new_password = False\n",
    "\n",
    "# Checks if the variable first_time is not present in the global namespace,\n",
    "# indicating that it is the first time the code is being run.\n",
    "first_time = 'first_time' not in globals()\n",
    "\n",
    "# Executes the block of code if it is the first time the code is being run\n",
    "if first_time:\n",
    "    print(\"Performing setup ...\")\n",
    "    %load_ext sql\n",
    "    first_time = False\n",
    "    print(\"Setup complete\")\n",
    "\n",
    "# Checks if the variable logonstr is not present in the global namespace,\n",
    "# indicating that the logon string has not been created yet.\n",
    "if 'logonstr' not in globals(): \n",
    "    # username = getpass.getuser()          # If environment variable can provide the username\n",
    "    # username = input(\"Enter your user name: \")      # If username from Docker is different from Teradata username\n",
    "    username = 'demo_user'      # for DemoNow\n",
    "    password = getpass.getpass(prompt = '\\nEnter password: ')\n",
    "    logonstr = \"teradatasql://{}:{}@host.docker.internal/dbc\".format(username, password)    # Create logon string for Teradata connection\n",
    "    new_password = True"
   ]
  },
  {
   "cell_type": "code",
   "execution_count": null,
   "id": "d7e9063a-7576-4c5e-9805-3d8104612e92",
   "metadata": {
    "tags": []
   },
   "outputs": [],
   "source": [
    "if new_password:\n",
    "    sqlalchemy_engine = create_engine(logonstr)\n",
    "\n",
    "try:\n",
    "    sqlalchemy_engine.connect()\n",
    "    print('... Logon successful')\n",
    "    print(\"Connected as:\",logonstr.replace(password,\"xxxxx\"))\n",
    "except Exception as e:\n",
    "    del logonstr\n",
    "    error_message = str(e)\n",
    "    string = 'The UserId, Password or Account is invalid.'\n",
    "    if string in error_message:\n",
    "        print(\"\\033[1m\" + string +  \"\\033[0m\" + '\\n' + \"Please enter the password again!\")\n",
    "        %run -i ../startup.ipynb\n",
    "    else:\n",
    "        print(\"Logon did not work\")"
   ]
  },
  {
   "cell_type": "markdown",
   "id": "dcac486c-aab9-450b-9326-1f86b2941269",
   "metadata": {},
   "source": [
    "<footer style=\"padding-bottom:35px; background:#f9f9f9; border-bottom:3px solid #00233C\">\n",
    "    <div style=\"float:left;margin-top:14px\">ClearScape Analytics™</div>\n",
    "    <div style=\"float:right;\">\n",
    "        <div style=\"float:left; margin-top:14px\">\n",
    "            Copyright © Teradata Corporation - 2023. All Rights Reserved\n",
    "        </div>\n",
    "    </div>\n",
    "</footer>"
   ]
  }
 ],
 "metadata": {
  "kernelspec": {
   "display_name": "Python 3 (ipykernel)",
   "language": "python",
   "name": "python3"
  },
  "language_info": {
   "codemirror_mode": {
    "name": "ipython",
    "version": 3
   },
   "file_extension": ".py",
   "mimetype": "text/x-python",
   "name": "python",
   "nbconvert_exporter": "python",
   "pygments_lexer": "ipython3",
   "version": "3.9.10"
  }
 },
 "nbformat": 4,
 "nbformat_minor": 5
}
