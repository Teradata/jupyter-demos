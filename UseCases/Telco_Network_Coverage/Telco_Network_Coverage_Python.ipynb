{
 "cells": [
  {
   "cell_type": "markdown",
   "id": "78ad8a32",
   "metadata": {},
   "source": [
    "<header>\n",
    "   <p  style='font-size:36px;font-family:Arial; color:#F0F0F0; background-color: #00233c; padding-left: 20pt; padding-top: 20pt;padding-bottom: 10pt; padding-right: 20pt;'>\n",
    "       Telco Network Coverage Analysis\n",
    "  <br>\n",
    "       <img id=\"teradata-logo\" src=\"https://storage.googleapis.com/clearscape_analytics_demo_data/DEMO_Logo/teradata.svg\" alt=\"Teradata\" style=\"width: 125px; height: auto; margin-top: 20pt;\">\n",
    "    </p>\n",
    "</header>"
   ]
  },
  {
   "cell_type": "markdown",
   "id": "454c6ae9",
   "metadata": {},
   "source": [
    "<p style = 'font-size:20px;font-family:Arial;color:#00233C'><b>Introduction</b></p>\n",
    "<p style = 'font-size:16px;font-family:Arial;color:#00233C'>\n",
    "Mobile communication is an essential technology in the present era. Telecommunication towers which support mobile telecommunication services are constantly constructed as the community need increases. To outline when and where the new towers need to be built, users can utilize Teradata Vantage and ClearScape Analytics. Vantage’s capabilities aid in determining the number of mobile subscribers and traffic capacity in each area, using geospatial analysis which incorporates geographical and demand data. Once, the telco network and connectivity issues are fully analyzed, telco companies can create the appropriate number of base stations and telecommunication towers.\n",
    "</p>\n",
    "\n",
    "<p style = 'font-size:18px;font-family:Arial;color:#00233C'><b>Business Values</b></p>\n",
    "<ul style = 'font-size:16px;font-family:Arial;color:#00233C'>\n",
    "    <li>Driving Spatial Insights for Network Optimization to:\n",
    "        <ul style = 'font-size:16px;font-family:Arial;color:#00233C'>\n",
    "            <li>Optimize network layouts</li>\n",
    "            <li>Minimize construction costs</li>\n",
    "            <li>Plan least-cost network reducing capital expenditures</li></ul>\n",
    "    </li>\n",
    "    <li>Calculate the number of mobile subscribers and traffic capacity</li>\n",
    "    <li>Determine the number of base stations and telecommunication towers</li>\n",
    "    <li>Customer acquisition: Determine the service users who will subscribe through Geographic Information Systems (GIS)</li>\n",
    " </ul>\n",
    "<p style = 'font-size:18px;font-family:Arial;color:#00233C'><b>Why Vantage?</b></p>  \n",
    "<p style = 'font-size:16px;font-family:Arial;color:#00233C'>The benefit of geospatial analysis in Vantage starts with the ability to combine this type of analytics with traditional and advanced ML techniques at scale. With these capabilities, users can create deeper and more accurate insights. Although there are a variety of Geographic Information Systems (GIS) tools available, Vantage has unique advantages. \n",
    "Driving actionable insights from location-based data requires a platform scalable enough to analyze data at the volume of entire populations. In order to drive real-world insights, this platform needs to enable both traditional and advanced ML and AI techniques. ClearScape Analytics combines these analytic disciplines into a single, massively scalable platform which enables unique business outcomes and more accurate analytic and predictive models.\n",
    "</p>"
   ]
  },
  {
   "cell_type": "markdown",
   "id": "22173c1b-a4eb-4cd7-b0ae-ba68bc39aba2",
   "metadata": {},
   "source": [
    "<hr style=\"height:2px;border:none;background-color:#00233C;\">\n",
    "<p style = 'font-size:20px;font-family:Arial;color:#00233C'><b>1. Connect to Vantage</b></p>"
   ]
  },
  {
   "cell_type": "markdown",
   "id": "55434ae0-6795-4dd4-8cd6-d5c39b5808c0",
   "metadata": {},
   "source": [
    "<p style = 'font-size:16px;font-family:Arial;color:#00233C'>Let's start by importing the libraries needed.</p>"
   ]
  },
  {
   "cell_type": "code",
   "execution_count": null,
   "id": "5199b325-11f8-4dbd-a13f-fadf334c58c6",
   "metadata": {},
   "outputs": [],
   "source": [
    "# Standard libraries\n",
    "import getpass\n",
    "import warnings\n",
    "\n",
    "# Third-party libraries\n",
    "import geopandas as gpd\n",
    "import matplotlib.pyplot as plt \n",
    "import pandas as pd\n",
    "import plotly.express as px\n",
    "import plotly.graph_objects as go\n",
    "import json\n",
    "from pandas import json_normalize\n",
    "from  ipywidgets import widgets, interact\n",
    "\n",
    "# Teradata libraries\n",
    "from teradataml import *\n",
    "display.max_rows = 5\n",
    "\n",
    "# Suppress warnings\n",
    "warnings.filterwarnings('ignore')\n",
    "warnings.filterwarnings('ignore')\n",
    "warnings.simplefilter(action='ignore', category=DeprecationWarning)\n",
    "warnings.simplefilter(action='ignore', category=RuntimeWarning)\n",
    "warnings.simplefilter(action='ignore', category=FutureWarning)\n"
   ]
  },
  {
   "cell_type": "markdown",
   "id": "113ada1d-a5ff-4d5e-9145-f0f03b26b3f2",
   "metadata": {},
   "source": [
    "<p style = 'font-size:16px;font-family:Arial;color:#00233C'>We will be prompted to provide the password. We will enter the password, press the Enter key, and then use the down arrow to go to the next cell. Begin running steps with Shift + Enter keys.</p>"
   ]
  },
  {
   "cell_type": "code",
   "execution_count": null,
   "id": "fdfeb088-39f6-40f8-a4e1-1d03fb5a3771",
   "metadata": {},
   "outputs": [],
   "source": [
    "%run -i ../startup.ipynb\n",
    "eng = create_context(host = 'host.docker.internal', username='demo_user', password = password)\n",
    "print(eng)"
   ]
  },
  {
   "cell_type": "code",
   "execution_count": null,
   "id": "ec94b292-b55f-418e-90da-40c4017f7b43",
   "metadata": {},
   "outputs": [],
   "source": [
    "%%capture\n",
    "execute_sql(\"SET query_band='DEMO=Telco_Network_Coverage_PY_SQL.ipynb;' UPDATE FOR SESSION;\")"
   ]
  },
  {
   "cell_type": "markdown",
   "id": "6d8f8388-e318-4bf4-84c1-7dfcf2d1dd40",
   "metadata": {},
   "source": [
    "<p style = 'font-size:18px;font-family:Arial;color:#00233C'> <b>Getting Data for This Demo</b></p>\n",
    "<p style = 'font-size:16px;font-family:Arial;color:#00233C'>We have provided data for this demo on cloud storage. We have the option of either running the demo using foreign tables to access the data without using any storage on our environment or downloading the data to local storage, which may yield somewhat faster execution. However, we need to consider available storage. There are two statements in the following cell, and one is commented out. We may switch which mode we choose by changing the comment string.</p>"
   ]
  },
  {
   "cell_type": "code",
   "execution_count": null,
   "id": "b3460a89-d570-488e-a97a-39423afa7b27",
   "metadata": {},
   "outputs": [],
   "source": [
    " #%run -i ../run_procedure.py \"call get_data('DEMO_TelcoNetwork_cloud');\"\n",
    " # takes about 30 seconds, estimated space: 0 MB\n",
    "%run -i ../run_procedure.py \"call get_data('DEMO_TelcoNetwork_local');\" \n",
    "# takes about 30 seconds, estimated space: 3 MB"
   ]
  },
  {
   "cell_type": "markdown",
   "id": "53237f92-8be4-40eb-941b-6c5b9a778146",
   "metadata": {},
   "source": [
    "<p style = 'font-size:16px;font-family:Arial;color:#00233C'>Optional step – We should execute the below step only if we want to see the status of databases/tables created and space used.</p>"
   ]
  },
  {
   "cell_type": "code",
   "execution_count": null,
   "id": "1dbc1f31-38b7-4d42-8573-5f05767c1591",
   "metadata": {},
   "outputs": [],
   "source": [
    "%run -i ../run_procedure.py \"call space_report();\""
   ]
  },
  {
   "cell_type": "markdown",
   "id": "bdd6dd8c",
   "metadata": {},
   "source": [
    "<hr style=\"height:2px;border:none;background-color:#00233C;\">\n",
    "<p style = 'font-size:20px;font-family:Arial;color:#00233C'><b>2. Initial Data Sets</b></p>"
   ]
  },
  {
   "cell_type": "markdown",
   "id": "13288769-f1b3-40a5-8cad-95e5f4ae92fd",
   "metadata": {},
   "source": [
    "<p style = 'font-size:16px;font-family:Arial;color:#00233C'>Let us start by looking at the data we have and what information we can derive from those.</p>\n",
    "<p style = 'font-size:18px;font-family:Arial;color:#00233C'><b>2.1 Cell Tower</b></p>\n",
    "<p style = 'font-size:16px;font-family:Arial;color:#00233C'>Geographical location (Longitude and Latitude) of Cell Towers with additional details of the cell towers were given in this table. Let's see how the data looks like.<br>\n",
    "The teradataml GeoDataFrame module function creates a pointer to a table in the target Vantage system. Note, no data is copied back to the client, and all operations on the data are translated to SQL and executed in Vantage. We use GeoDataFrame when we have any geometry datatype like Point, Linestring etc in our table otherwise we use teradataml DataFrame. </p>"
   ]
  },
  {
   "cell_type": "code",
   "execution_count": null,
   "id": "4f842008-9a40-4475-8fbb-77dbf3800bc9",
   "metadata": {},
   "outputs": [],
   "source": [
    "res1 = GeoDataFrame(in_schema(\"DEMO_TelcoNetwork\", \"Cell_Towers\"))\n",
    "res1"
   ]
  },
  {
   "cell_type": "markdown",
   "id": "9dc7cab1-3384-410a-9285-8ecd7ab6c2b5",
   "metadata": {},
   "source": [
    "<p style = 'font-size:16px;font-family:Arial;color:#00233C'>Let's check the datatypes of the columns.</p>"
   ]
  },
  {
   "cell_type": "code",
   "execution_count": null,
   "id": "635cbfa9-7654-4b89-a36b-04661c9c23a0",
   "metadata": {},
   "outputs": [],
   "source": [
    "res1.tdtypes"
   ]
  },
  {
   "cell_type": "markdown",
   "id": "138b530b-8170-4706-80e0-f8181a9d0b53",
   "metadata": {},
   "source": [
    "<p style = 'font-size:16px;font-family:Arial;color:#00233C'>From above we can see that cell_geom column is of Geometry datatype.<br>We can also see that the table has details of the cell towers. Let's visualize this data to better understand the location of towers on the map.<br>Clearscape Analytics offers seamless integration with third-party Geo visualization tools such as QGIS or various Python modules like Plotly. The approach involves conducting all calculations and pre-processing within Vantage itself. This way, only essential information will be passed on to the visualization tools. This not only accelerates the computation process but also minimizes the time spent on data movement between different tools. Ultimately, this strategy enhances efficiency in both calculation and visualization phases of the data analysis.</p>"
   ]
  },
  {
   "cell_type": "code",
   "execution_count": null,
   "id": "aa3e35b2-dd62-4ed8-9009-ea01b85e12dd",
   "metadata": {},
   "outputs": [],
   "source": [
    "#cell tower sites\n",
    "res1.drop(['radio_type','radio_freq','degree_facing','cell_id','postal_area_code','postal_area_name','dist_kms_from_map_centroid','cell_geom'], axis=1)\n",
    "cell_tower = res1[(res1.cell_lon < 152)].to_pandas()"
   ]
  },
  {
   "cell_type": "code",
   "execution_count": null,
   "id": "3cb2f3ff-2afb-4f7c-b2e4-1281a39e251a",
   "metadata": {},
   "outputs": [],
   "source": [
    "fig = px.scatter_mapbox(cell_tower, lat=\"cell_lat\", lon=\"cell_lon\", hover_name=\"cell_site_name\", \n",
    "                        hover_data=[\"site_num\"],\n",
    "                        color_discrete_sequence=[\"black\"], zoom=7, height=300)\n",
    "fig.update_layout(mapbox_style=\"open-street-map\")\n",
    "fig.update_layout(margin={\"r\":0,\"t\":0,\"l\":0,\"b\":0})\n",
    "fig.show()"
   ]
  },
  {
   "cell_type": "markdown",
   "id": "d1165880-157c-4cd1-a59b-aab34997de54",
   "metadata": {},
   "source": [
    "<p style = 'font-size:16px;font-family:Arial;color:#00233C'>Here we can see the tower locations on the map.</p> "
   ]
  },
  {
   "cell_type": "markdown",
   "id": "9a7f5a3f-12af-4602-ab57-33c99ba4decb",
   "metadata": {},
   "source": [
    "<hr style=\"height:1px;border:none;background-color:#00233C;\">\n",
    "<p style = 'font-size:18px;font-family:Arial;color:#00233C'><b>2.2 Aggregated Customer Experience</b></p>\n",
    "<p style = 'font-size:16px;font-family:Arial;color:#00233C'>Geographical points (Longitude and Latitude) of customer experience using RSCP/signal dBm values were given in this table. Let's see how the data looks like in this table.</p>"
   ]
  },
  {
   "cell_type": "code",
   "execution_count": null,
   "id": "58b8c367-f389-4e65-b6e6-265d3affa6fe",
   "metadata": {},
   "outputs": [],
   "source": [
    "res2 = GeoDataFrame(in_schema(\"DEMO_TelcoNetwork\", \"Cust_Experience\"))\n",
    "res2"
   ]
  },
  {
   "cell_type": "code",
   "execution_count": null,
   "id": "8ca68228-2a73-45c7-bceb-ae7fcd28b8c8",
   "metadata": {},
   "outputs": [],
   "source": [
    "#dbm point values\n",
    "nw = res2.assign(drop_columns=True,\n",
    "                rscpavg = res2.RSCPAVG,\n",
    "                lat = res2.POINT.y,\n",
    "                lon = res2.POINT.x,\n",
    "                point = res2.POINT,\n",
    "                signal = case([(res2.RSCPAVG <= -101, 'poor'),\n",
    "                               (res2.RSCPAVG <= -86, 'good'),\n",
    "                               (res2.RSCPAVG >= -85, 'excellent') ],\n",
    "                         else_='na') \n",
    "               )                            \n",
    "                              "
   ]
  },
  {
   "cell_type": "markdown",
   "id": "a2df130e-7d48-4982-9abf-9d64b3d27fe8",
   "metadata": {},
   "source": [
    "<p style = 'font-size:16px;font-family:Arial;color:#00233C'>\n",
    "We have found that the coverage area of a BTS antenna represents the distribution of signals across the Earth's surface. Several factors come into play when determining this coverage area, including the antenna type, environmental conditions, propagation model, cell radius, and power budget. It's essential to consider these aspects as they collectively influence the extent and effectiveness of the signal coverage from the antenna.</p>\n",
    "<p style = 'font-size:16px;font-family:Arial;color:#00233C'>\n",
    "We measure the signal strength in RSCP (Received Signal Code Power), representing the power detected on a specific physical communication channel. This measurement serves as an indicator of signal strength and plays a crucial role as a criterion for handover decisions.<br>We have categorized the signal strength in poor, good and excellent based on the dBm values.</p>\n",
    "<p style = 'font-size:16px;font-family:Arial;color:#00233C'>Let's plot the information in the map for better understanding.</p>"
   ]
  },
  {
   "cell_type": "code",
   "execution_count": null,
   "id": "01a3cb80-b89e-4ba8-9784-bc3dde80eda9",
   "metadata": {},
   "outputs": [],
   "source": [
    "nw=nw.to_pandas(all_rows=True)\n",
    "fig = px.scatter_mapbox(nw, lat=\"lat\", lon=\"lon\",  \n",
    "                        hover_data=[\"rscpavg\"],\n",
    "                        color=\"signal\"  ,\n",
    "                        color_discrete_map={\n",
    "                                             \"poor\": \"red\",\n",
    "                                             \"good\": \"yellow\",\n",
    "                                             \"excellent\": \"green\",\n",
    "                                             \"na\": \"black\"\n",
    "                                          } ,\n",
    "                        labels={\"signal\": \"rscpavg\" },\n",
    "                        zoom=11, height=300)\n",
    "fig.update_layout(mapbox_style=\"open-street-map\")\n",
    "fig.update_layout(margin={\"r\":0,\"t\":0,\"l\":0,\"b\":0})\n",
    "fig.show()"
   ]
  },
  {
   "cell_type": "markdown",
   "id": "fd09526c-2957-4c89-b81b-d76242df79bf",
   "metadata": {},
   "source": [
    "<p style = 'font-size:16px;font-family:Arial;color:#00233C'>In this visualization we have divided our signal strengths into categories of excellent (rscpavg greater than -85) /good (rscpavg between -100 and -80) /poor (rscpavg less than -100) based on the rscpavg value we have received from the corresponding location on Vantage and passed only the categories for visualization.</p>"
   ]
  },
  {
   "cell_type": "markdown",
   "id": "84eea34c",
   "metadata": {},
   "source": [
    "<hr style=\"height:1px;border:none;background-color:#00233C;\">\n",
    "<p style = 'font-size:18px;font-family:Arial;color:#00233C'><b>2.3 Coveage Map</b></p>\n",
    "<p style = 'font-size:16px;font-family:Arial;color:#00233C'>We were provided with a GeoJSON file of a geographical area, and this file covers the network area under consideration.</p>\n"
   ]
  },
  {
   "cell_type": "code",
   "execution_count": null,
   "id": "8d8a54a7-248d-4f08-a2c0-63ee28574559",
   "metadata": {},
   "outputs": [],
   "source": [
    "with open (\"./data/main_map.geojson\",'r') as infile:\n",
    "    counties = json.load(infile)"
   ]
  },
  {
   "cell_type": "code",
   "execution_count": null,
   "id": "6ab13f56-2f8c-474a-8799-ba56764e84a3",
   "metadata": {},
   "outputs": [],
   "source": [
    "#for colorcoding different coverage area\n",
    "df1 = json_normalize(counties['features'])\n",
    "c_code = df1[\"properties.SITEID\"].unique()\n",
    "df2 = pd.DataFrame(c_code)\n",
    "df3 = []\n",
    "for i in range(len(c_code)):\n",
    "    df3.append([c_code[i],i+1])\n",
    "df = pd.DataFrame(df3, columns = ['siteid', 'colourcode'])\n"
   ]
  },
  {
   "cell_type": "code",
   "execution_count": null,
   "id": "c4638ed2-e9a6-4340-b2fd-4e5f6677f3ab",
   "metadata": {},
   "outputs": [],
   "source": [
    "fig = px.choropleth_mapbox(df, geojson=counties,\n",
    "                           locations='siteid',\n",
    "                           featureidkey='properties.SITEID',\n",
    "                           color='colourcode',\n",
    "                           hover_name='siteid',\n",
    "                           range_color=(0,30),\n",
    "                           mapbox_style=\"open-street-map\",\n",
    "                           color_continuous_scale=\"Viridis\",\n",
    "                           zoom=10,height=300,center ={\"lat\":-33.06363, \"lon\":151.74148},\n",
    "                           opacity=0.5\n",
    "                          )\n",
    "fig.update_layout(margin={\"r\":0,\"t\":0,\"l\":0,\"b\":0})\n",
    "fig.show()\n"
   ]
  },
  {
   "cell_type": "markdown",
   "id": "f894cf7a-7e75-489c-9ca4-ad4828529d56",
   "metadata": {},
   "source": [
    "<p style = 'font-size:16px;font-family:Arial;color:#00233C'>In the visualization we can see the area marked on the map. We can also load this GeoJson file in Vantage using <b>GeoImport Utility</b></p>"
   ]
  },
  {
   "cell_type": "markdown",
   "id": "d4a8c848",
   "metadata": {},
   "source": [
    "<hr style=\"height:1px;border:none;background-color:#00233C;\">\n",
    "<p style = 'font-size:18px;font-family:Arial;color:#00233C'><b>2.4 Customer Navigation</b></p>\n",
    "<p style = 'font-size:16px;font-family:Arial;color:#00233C'>Customer Navigation table contains the customer navigation steps for 364 journeys. This serves as the superset data, encompassing crucial details such as the incremental journey sequence, timestamp for each step, signal strength values (signal_dBm), geographical coordinates for each journey, mobile app information, throughput, and more. Let's explore the information in this table for a more in-depth analysis. </p>"
   ]
  },
  {
   "cell_type": "code",
   "execution_count": null,
   "id": "03f81011-d53c-4e56-aa51-df9145705acf",
   "metadata": {},
   "outputs": [],
   "source": [
    "res3 = GeoDataFrame(in_schema(\"DEMO_TelcoNetwork\", \"Cust_Journey\"))\n",
    "res3"
   ]
  },
  {
   "cell_type": "code",
   "execution_count": null,
   "id": "ed1cd511-175d-42ed-989c-0d68da054b74",
   "metadata": {},
   "outputs": [],
   "source": [
    "res3.tdtypes"
   ]
  },
  {
   "cell_type": "markdown",
   "id": "fb10b36b",
   "metadata": {},
   "source": [
    "<p style = 'font-size:16px;font-family:Arial;color:#00233C'>From this table we can create 1 row for each customer journey trajectory using <b>ClearScape Analytics UAF(unbounded array framework) </b>. UAF is the Vantage framework for building end-to-end time series forecasting pipelines. For further information on UAF, please <a href = 'https://docs.teradata.com/search/all?query=Unbounded+Array+Framework+(UAF)&content-lang=en-US '>refer here</a> <br><br> <b>TRACKINGOP</b> is a multi-dimensional function for geospatial data in UAF which can calculate trip distance, speed, time for a trip. It helps users to optimize their resources by providing insights into the movements of their assets. For example, by tracking the movement of a fleet of vehicles, a logistics company can identify the most efficient routes, optimize delivery schedules, and reduce fuel consumption. In our usecase it gives information about the routes/locations that customers use often and signal strengths they received etc. Let's calculate this based on our data.</p>    "
   ]
  },
  {
   "cell_type": "markdown",
   "id": "9a944d4f-4dff-46a7-a55d-884af69d5f34",
   "metadata": {},
   "source": [
    "<p style = 'font-size:16px;font-family:Arial;color:#00233C'>Let us create a subset of data of few customers.</p>"
   ]
  },
  {
   "cell_type": "code",
   "execution_count": null,
   "id": "68ca9844-9fa4-4772-aa84-d8da0fdc8adf",
   "metadata": {},
   "outputs": [],
   "source": [
    "res4 = res3[res3.customer_id.isin(['CID-0005005','CID-0005073','CID-0005233','CID-0005243'])]"
   ]
  },
  {
   "cell_type": "code",
   "execution_count": null,
   "id": "1048e338-ce9e-435a-b9a8-52180907cd83",
   "metadata": {},
   "outputs": [],
   "source": [
    "from sqlalchemy import literal_column\n",
    "column = literal_column(\"journey_dttm + interval '1' second\", type_=res4.journey_dttm.type)"
   ]
  },
  {
   "cell_type": "code",
   "execution_count": null,
   "id": "80fb9e59-f260-4d2a-824a-4745bf04cfbb",
   "metadata": {},
   "outputs": [],
   "source": [
    "column2 = literal_column(\"cast(journey_geom as SYSUDTLIB.ST_GEOMETRY(400))\")"
   ]
  },
  {
   "cell_type": "code",
   "execution_count": null,
   "id": "a052311b-dd08-4e20-a2d7-4a4a6a0f659e",
   "metadata": {},
   "outputs": [],
   "source": [
    "uaf_customer = res4.assign(drop_columns=True,\n",
    "               customer_id = res4.customer_id,\n",
    "               journey_id  = res4.journey_id,\n",
    "               journey_seq = res4.journey_seq,            \n",
    "               signal_dBm = res4.signal_dBm,\n",
    "               arv_ts = res4.journey_dttm,\n",
    "               dep_ts = column,\n",
    "               geom= column2,\n",
    "               journey_geom = res4.journey_geom)            "
   ]
  },
  {
   "cell_type": "code",
   "execution_count": null,
   "id": "0a3b08c2-13e3-4db4-b83b-f06474c08298",
   "metadata": {},
   "outputs": [],
   "source": [
    "uaf_customer"
   ]
  },
  {
   "cell_type": "markdown",
   "id": "58f2c451-5a3e-425f-ba64-4fb245e94471",
   "metadata": {},
   "source": [
    "<p style = 'font-size:16px;font-family:Arial;color:#00233C'>Let us check data for a single customer.</p>"
   ]
  },
  {
   "cell_type": "code",
   "execution_count": null,
   "id": "93c73936-8803-4ca5-ac18-a6950f341e7a",
   "metadata": {},
   "outputs": [],
   "source": [
    "uaf_customer[(uaf_customer.customer_id == 'CID-0005243')]"
   ]
  },
  {
   "cell_type": "markdown",
   "id": "877d28b6-0be9-46f3-b780-0c81d805526d",
   "metadata": {},
   "source": [
    "<p style = 'font-size:16px;font-family:Arial;color:#00233C'>Let's create a uaf series from our data which we can input to the TrackingOp function.</p>"
   ]
  },
  {
   "cell_type": "code",
   "execution_count": null,
   "id": "566b1e3e-fd85-47e9-aa24-1f59769d2f9c",
   "metadata": {},
   "outputs": [],
   "source": [
    "# Create teradataml TDSeries object.\n",
    "uaf_series_df = TDSeries(data=uaf_customer,\n",
    "                              id=[\"customer_id\", \"journey_id\"],\n",
    "                              row_index=\"arv_ts\",\n",
    "                              row_index_style=\"TIMECODE\",\n",
    "                              payload_field=[\"arv_ts\", \"dep_ts\", \"geom\"],\n",
    "                              payload_content=\"MULTIVAR_ANYTYPE\")"
   ]
  },
  {
   "cell_type": "markdown",
   "id": "c721e612-4618-4328-b478-4c7e81d2f3f8",
   "metadata": {},
   "source": [
    "<p style = 'font-size:16px;font-family:Arial;color:#00233C'>Now let's use the TrackingOp function to calculate the distance, time, speed metrics for our customer routes.</p>"
   ]
  },
  {
   "cell_type": "code",
   "execution_count": null,
   "id": "a99530b9-6243-435b-a83a-e66e9e3f499c",
   "metadata": {},
   "outputs": [],
   "source": [
    "uaf_out = TrackingOp(data=uaf_series_df,\n",
    "                         distance=True,\n",
    "                         speed=True,\n",
    "                         time_spent=True,\n",
    "                         metric=True)"
   ]
  },
  {
   "cell_type": "markdown",
   "id": "741aa478-de94-4802-9339-586df2caa0d1",
   "metadata": {},
   "source": [
    "<p style = 'font-size:16px;font-family:Arial;color:#00233C'>Let's check the output of function for the customer CID-0005243</p>"
   ]
  },
  {
   "cell_type": "code",
   "execution_count": null,
   "id": "3ba4ce95-4509-49f3-af3c-0be3d5a2f9f2",
   "metadata": {},
   "outputs": [],
   "source": [
    "uaf_res = uaf_out.result\n",
    "uaf_res[(uaf_res.customer_id == 'CID-0005243')]"
   ]
  },
  {
   "cell_type": "markdown",
   "id": "b6bcad34-44e2-451a-967c-aee86fd8cea5",
   "metadata": {},
   "source": [
    "<p style = 'font-size:16px;font-family:Arial;color:#00233C'>From the above output, we can see the customer trajectory along with his speed and total trip time and trip distance. We can also plot the customer trajectory for better visualization. Again for this we will pass only the essential information and data-preparation calculations will be done on Vantage itself.</p>"
   ]
  },
  {
   "cell_type": "code",
   "execution_count": null,
   "id": "7c5470f2-0a18-4400-ae66-4916abf1cdbf",
   "metadata": {},
   "outputs": [],
   "source": [
    "#customer navigation path\n",
    "nw_path2 = res4.assign(drop_columns=True,\n",
    "                customer_id = res4.customer_id,\n",
    "                journey_id = res4.journey_id,\n",
    "                journey_seq = res4.journey_seq,\n",
    "                signal_dBm = res4.signal_dBm,    \n",
    "                lat = res4.journey_geom.y,\n",
    "                lon = res4.journey_geom.x,\n",
    "                color_scale = case([(res4.signal_dBm <= -101, 0), #poor\n",
    "                               (res4.signal_dBm <= -86, 1),  #good\n",
    "                               (res4.signal_dBm >= -85, 2) ], #excellent\n",
    "                         else_= 0) #na\n",
    "               )  \n",
    "nw_path2.sort(['customer_id','journey_id','journey_seq'])\n",
    "nw_path2=nw_path2.to_pandas(all_rows=True).reset_index()"
   ]
  },
  {
   "cell_type": "code",
   "execution_count": null,
   "id": "0bde82a6-dac4-450e-b7e5-528555a230cb",
   "metadata": {},
   "outputs": [],
   "source": [
    "def plot_map(customer):    \n",
    "    \n",
    "    custom_colors = [\n",
    "    [0, '#FF0000'], # red\n",
    "    [0.5, '#FFEA00'], # yellow\n",
    "    [1, '#028A0F'] # green\n",
    "    ]\n",
    "    \n",
    "    plt.figure(figsize=(8, 6))\n",
    "    df = nw_path2[nw_path2['customer_id'] == customer ]\n",
    "    fig = px.line_mapbox(df, lat=\"lat\", lon=\"lon\",\n",
    "                     hover_data=[\"journey_id\", \"customer_id\"],\n",
    "                     color=\"journey_id\"  ,\n",
    "                     zoom=8, height=300)\n",
    "    fig.add_trace(go.Scattermapbox(\n",
    "    name = \"signal\",\n",
    "    mode = \"markers\",\n",
    "    lat = df.lat.tolist(),\n",
    "    lon = df.lon.tolist(),\n",
    "    hoverinfo='text',\n",
    "    hovertemplate= ['<b>Signal_dBm:</b>:' + str(df.iloc[i, 3]) for i in range(df.shape[0])],\n",
    "    marker_color=df['color_scale'] ,\n",
    "    marker=dict(\n",
    "        color=[1, 2, 3],\n",
    "        colorscale=custom_colors,\n",
    "        size = 8\n",
    "    )    \n",
    "\n",
    "))\n",
    "\n",
    "    fig.update_layout(mapbox_style=\"open-street-map\" , #\"stamen-terrain\",\n",
    "                  mapbox_zoom=9,\n",
    "                  mapbox_center_lon=151.5,\n",
    "                  mapbox_center_lat=-33.1,\n",
    "                  margin={\"r\":0,\"t\":0,\"l\":0,\"b\":0}\n",
    "                 )\n",
    "    \n",
    "       \n",
    "    return fig\n",
    "\n",
    "# Create the dropdown widget\n",
    "customer = [\"CID-0005005\",\"CID-0005073\", \"CID-0005233\",\"CID-0005243\"]\n",
    "customer_dropdown = widgets.Dropdown(options=customer, description='Customer:', value='CID-0005005')\n",
    "\n",
    "# Call the plot_clusters function with the selected dropdown options\n",
    "def update_plot(customer):    \n",
    "    plot_map(customer).show()\n",
    "    \n",
    "widgets.interact(update_plot, customer=customer_dropdown)"
   ]
  },
  {
   "cell_type": "markdown",
   "id": "eec1fd80-0455-4652-bef2-8056bf2efed0",
   "metadata": {},
   "source": [
    "<p style = 'font-size:16px;font-family:Arial;color:#00233C'>Please use the dropdown to see the navigation paths for customer. We have also marked the signal strength at points where data was captured based on the bDm values.</p>"
   ]
  },
  {
   "cell_type": "markdown",
   "id": "3d9a92f2-8a5d-44d9-b16c-45849a8584cc",
   "metadata": {},
   "source": [
    "<p style = 'font-size:20px;font-family:Arial;color:#00233C'><b>Conclusion</b></p>\n",
    "<p style = 'font-size:16px;font-family:Arial;color:#00233C'>In this demonstration, we have seen that we can effortlessly perform complex geospatial calculations in Vantage. The results can be seamlessly exported to visualization tools. The analysis of service area maps holds significant potential as it serves as a valuable reference for stakeholders, aiding them in making crucial decisions regarding telecommunications development and business expansion.<br>The distribution map of towers in digital form emerges as a practical tool, enabling efficient monitoring and organization of BTS assets owned by the company in a map view. This digital representation enhances operational field capabilities, contributing to a more streamlined management of the company's assets.</p>"
   ]
  },
  {
   "cell_type": "markdown",
   "id": "35ebb886-8da9-479a-8995-c6dd7ccebffd",
   "metadata": {},
   "source": [
    "<hr style=\"height:2px;border:none;background-color:#00233C;\">\n",
    "<p style = 'font-size:20px;font-family:Arial;color:#00233C'><b>3. Cleanup</b></p>"
   ]
  },
  {
   "cell_type": "markdown",
   "id": "b3c74a61-3588-484d-83f6-69df969ff51f",
   "metadata": {},
   "source": [
    "<p style = 'font-size:16px;font-family:Arial;color:#00233C'>We will use the following code to clean up tables and databases created for this demonstration.</p>"
   ]
  },
  {
   "cell_type": "code",
   "execution_count": null,
   "id": "7aae8012-ca09-4541-9389-1bb82f283ff1",
   "metadata": {},
   "outputs": [],
   "source": [
    "%run -i ../run_procedure.py \"call remove_data('DEMO_TelcoNetwork');\" \n",
    "#Takes 10 seconds"
   ]
  },
  {
   "cell_type": "code",
   "execution_count": null,
   "id": "1be6f3dd-163d-426e-bd20-8c0c90a5e0ad",
   "metadata": {},
   "outputs": [],
   "source": [
    "remove_context()"
   ]
  },
  {
   "cell_type": "markdown",
   "id": "a8f9f644",
   "metadata": {},
   "source": [
    "<hr style=\"height:2px;border:none;background-color:#00233C;\">\n"
   ]
  },
  {
   "cell_type": "markdown",
   "id": "5de0d999-0aeb-4d9d-9ebe-16e0baa47178",
   "metadata": {},
   "source": [
    "<b style = 'font-size:20px;font-family:Arial;color:#00233C'>Required Materials</b>\n",
    "<p style = 'font-size:16px;font-family:Arial;color:#00233C'>Let’s look at the elements we have available for reference for this notebook:</p>"
   ]
  },
  {
   "cell_type": "markdown",
   "id": "11d96075-d772-4b78-b72e-d52980b2d415",
   "metadata": {},
   "source": [
    "<p style = 'font-size:18px;font-family:Arial;color:#00233C'><b>Filters:</b></p>\n",
    "<ul style = 'font-size:16px;font-family:Arial;color:#00233C'>\n",
    "<li><b>Industry:</b> Telco</li>\n",
    "<li><b>Functionality:</b> Geospatial</li>\n",
    "<li><b>Use Case:</b> Mobile Data Geographic Analysis</li>\n",
    "</ul>\n",
    "<p style = 'font-size:18px;font-family:Arial;color:#00233C'><b>Related Resources:</b></p>\n",
    "<ul style = 'font-size:16px;font-family:Arial;color:#00233C'>\n",
    "<li><a href = 'https://www.teradata.com/Blogs/Digital-utilities-driving-value-from-analytics'>Digital utilities driving value from advanced analytics at scale</a></li>\n",
    "<li><a href = 'https://www.teradata.com/Blogs/Hyper-scale-time-series-forecasting-done-right'>Hyper-scale time series forecasting done right</a></li>\n",
    "<li><a href = 'https://www.teradata.com/Industries/Energy-and-Natural-Resources'>Gain Analytic Insights for the Energy Industry</a></li>\n",
    "    </ul>"
   ]
  },
  {
   "cell_type": "markdown",
   "id": "3eba2147-264c-4e0d-8b48-b2112351a290",
   "metadata": {},
   "source": [
    "<p style = 'font-size:18px;font-family:Arial;color:#00233C'><b>Reference Links:</b></p>\n",
    "<ul style = 'font-size:16px;font-family:Arial;color:#00233C'> \n",
    "       <li>Teradata Vantage™ - Unbounded Array Framework Time Series Reference: <a href = 'https://docs.teradata.com/r/Teradata-VantageTM-Unbounded-Array-Framework-Time-Series-Reference/Unbounded-Array-Framework '>https://docs.teradata.com/r/Teradata-VantageTM-Unbounded-Array-Framework-Time-Series-Reference/Unbounded-Array-Framework </a></li>    \n",
    "  <li>Teradata® Geospatial Utilities User Guide: <a href = 'https://docs.teradata.com/r/Teradata-Geospatial-Utilities-User-Guide/June-2022/Teradata-Geospatial-Utilities-Overview/Welcome-to-Teradata-Tools-and-Utilities-Teradata-Geospatial-Utilities-User-Guide'>https://docs.teradata.com/r/Teradata-Geospatial-Utilities-User-Guide/June-2022/Teradata-Geospatial-Utilities-Overview/Welcome-to-Teradata-Tools-and-Utilities-Teradata-Geospatial-Utilities-User-Guide</a></li>\n",
    "  <li>Python Pandas Reference: <a href = 'https://pandas.pydata.org/docs/user_guide/index.html'>https://pandas.pydata.org/docs/user_guide/index.html</a></li>\n",
    "<li>Plotly Reference: <a href = 'https://plotly.com/'>https://plotly.com/</a></li>\n",
    "      \n",
    "</ul>"
   ]
  },
  {
   "cell_type": "markdown",
   "id": "c30802a4-8141-47f6-971d-0bb79be6f5bf",
   "metadata": {},
   "source": [
    "<footer style=\"padding-bottom:35px; background:#f9f9f9; border-bottom:3px solid #00233C\">\n",
    "    <div style=\"float:left;margin-top:14px\">ClearScape Analytics™</div>\n",
    "    <div style=\"float:right;\">\n",
    "        <div style=\"float:left; margin-top:14px\">\n",
    "            Copyright © Teradata Corporation - 2023,2024. All Rights Reserved\n",
    "        </div>\n",
    "    </div>\n",
    "</footer>"
   ]
  }
 ],
 "metadata": {
  "kernelspec": {
   "display_name": "Python 3 (ipykernel)",
   "language": "python",
   "name": "python3"
  },
  "language_info": {
   "codemirror_mode": {
    "name": "ipython",
    "version": 3
   },
   "file_extension": ".py",
   "mimetype": "text/x-python",
   "name": "python",
   "nbconvert_exporter": "python",
   "pygments_lexer": "ipython3",
   "version": "3.9.10"
  },
  "toc-autonumbering": true
 },
 "nbformat": 4,
 "nbformat_minor": 5
}
