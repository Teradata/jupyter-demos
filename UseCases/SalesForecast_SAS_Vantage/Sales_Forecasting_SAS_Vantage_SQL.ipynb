{
 "cells": [
  {
   "cell_type": "markdown",
   "id": "73b2df84-de01-4c3d-9869-972e12c2cd48",
   "metadata": {},
   "source": [
    "<header>\n",
    "   <p  style='font-size:36px;font-family:Arial; color:#F0F0F0; background-color: #00233c; padding-left: 20pt; padding-top: 20pt;padding-bottom: 10pt; padding-right: 20pt;'>\n",
    "       Sales Forecasting :- SAS and Vantage Comparison\n",
    "  <br>\n",
    "       <img id=\"teradata-logo\" src=\"https://storage.googleapis.com/clearscape_analytics_demo_data/DEMO_Logo/teradata.svg\" alt=\"Teradata\" style=\"width: 125px; height: auto; margin-top: 20pt;\">\n",
    "    </p>\n",
    "</header>"
   ]
  },
  {
   "cell_type": "markdown",
   "id": "8de28f8b-f034-4e10-bf06-d200c8fe31bc",
   "metadata": {},
   "source": [
    "<p style = 'font-size:20px;font-family:Arial;color:#00233C'><b>Introduction</b></p>\n",
    "<p style = 'font-size:16px;font-family:Arial;color:#00233C'>\n",
    "This demo walks through how a typical SAS user would use sales data to build a simple sales forecasting model and then will showcase how we can achieve the same using Vantage InDB Analytics</p>\n",
    "\n",
    "<p style = 'font-size:16px;font-family:Arial;color:#00233C'>\n",
    "Customers are finding their analytical environments difficult to manage and are looking for ways to make these environments more streamlined while adapting to more contemporary technologies. Our open source analytical ecosystem can be leveraged to simplify and apply more governance to the data flows in your analytical environment, enabling you to increase efficiency of computation, reduce cost of ownership and take advantage of any analytical tool of choice.</p>\n",
    "\n",
    "<p style = 'font-size:16px;font-family:Arial;color:#00233C'>Benefits our customers have received:\n",
    "<img src = 'images/SASIntro.png' width = '400' align='right' padding='padding:50px'>\n",
    "\n",
    "<li style = 'font-size:16px;font-family:Arial'>For large data extract the time reduced from 16 hours 28 minutes to 28 secs</li>\n",
    "    <br>\n",
    "<li style = 'font-size:16px;font-family:Arial'>Reduced analytic processing from 30 days to a single day.</li>\n",
    "    <br>\n",
    "<li style = 'font-size:16px;font-family:Arial'>Eliminated over 75% of redundant data in SAS environments and Reduced data latency.</li> <br>\n",
    "<li style = 'font-size:16px;font-family:Arial'>Pushed analytic processing into Teradata Database which helped eliminate 6 TB of redundant data and Improved quality of analytics.</li>\n",
    "\n",
    "</p>\n",
    "\n",
    "<br>\n",
    "<p style = 'font-size:16px;font-family:Arial;color:#00233C'> This overview shows how to undertake an analytical model foundation using ClearScape Analytics that uses data from a variety of sources. Teradata Vantage™ enables enterprises to automate and post timely model outputs for use in downstream business processes.</p>\n",
    "\n",
    "<p style = 'font-size:16px;font-family:Arial;color:#00233C'>In this demo we will show \n",
    "    <div class=\"alert alert-block alert-warning\">  \n",
    "<p style = 'font-size:16px;font-family:Arial;color:#000000'><i>the SAS code in tan colored box and will not be executed.</i>    \n",
    "</div>\n",
    "<p style = 'font-size:16px;font-family:Arial;color:#00233C'>And follow that with </p> \n",
    "    <code style = 'font-size:16px;'><i>Vantage code that we will run in executable cells</i></code>\n",
    "</p>"
   ]
  },
  {
   "cell_type": "markdown",
   "id": "cb83394d-a7bd-430e-ba30-cad6f72a24e6",
   "metadata": {},
   "source": [
    "<hr style=\"height:2px;border:none;background-color:#00233C;\">\n",
    "<p style = 'font-size:20px;font-family:Arial;color:#00233C'><b>1. Connect to Vantage</b></p>\n",
    "<p style = 'font-size:16px;font-family:Arial;color:#00233C'>You will be prompted to provide the password. Enter your password, press Enter, then use down arrow to go to next cell.</p>"
   ]
  },
  {
   "cell_type": "code",
   "execution_count": null,
   "id": "cf9ba008-0b5f-4f02-b48a-dd75cdd68fdb",
   "metadata": {},
   "outputs": [],
   "source": [
    "%connect local, hidewarnings=true"
   ]
  },
  {
   "cell_type": "markdown",
   "id": "60286afe-123a-42cb-8f0c-eed42e4ce0c0",
   "metadata": {},
   "source": [
    "<p style = 'font-size:16px;font-family:Arial;color:#00233C'>Setup for execution of notebook. Begin running steps with Shift + Enter keys.</p>"
   ]
  },
  {
   "cell_type": "code",
   "execution_count": null,
   "id": "282fab5f-25b4-4ef6-bae3-810f52340fc6",
   "metadata": {},
   "outputs": [],
   "source": [
    "Set query_band='DEMO=Sales_Forecasting_SAS_Vantage_SQL.ipynb;' update for session;"
   ]
  },
  {
   "cell_type": "markdown",
   "id": "3096a7d6-739f-4e76-a7a5-3fad5df7b500",
   "metadata": {},
   "source": [
    "<hr style=\"height:2px;border:none;background-color:#00233C;\">\n",
    "<p style = 'font-size:20px;font-family:Arial;color:#00233C'><b>2. Getting Data for This Demo</b></p>\n",
    "<p style = 'font-size:16px;font-family:Arial;color:#00233C'>We have provided data for this demo on cloud storage. You can either run the demo using foreign tables to access the data without any storage on your environment or download the data to local storage, which may yield faster execution. Still, there could be considerations of available storage. Two statements are in the following cell, and one of them is commented out. You may switch between the modes by changing the comment string.</p>"
   ]
  },
  {
   "cell_type": "code",
   "execution_count": null,
   "id": "d94ffa94-1d70-41cf-a321-10aa4976e7cd",
   "metadata": {},
   "outputs": [],
   "source": [
    "---call get_data('DEMO_SlsForecast_SAS_cloud');    -- takes about 20 seconds, estimated space: 0 MB\n",
    "call get_data('DEMO_SlsForecast_SAS_local');     -- takes about 35 seconds, estimated space: 11 MB"
   ]
  },
  {
   "cell_type": "markdown",
   "id": "c1bb5c76-5b94-4966-a349-b1f7cbbc9ee4",
   "metadata": {},
   "source": [
    "<p style = 'font-size:16px;font-family:Arial;color:#00233C'>Optional step – if you want to see status of databases/tables created and space used.</p>\n"
   ]
  },
  {
   "cell_type": "code",
   "execution_count": null,
   "id": "e231914f-3e0d-4e4d-b9bd-56069dd49aaa",
   "metadata": {},
   "outputs": [],
   "source": [
    "call space_report();          -- Takes 5 seconds"
   ]
  },
  {
   "cell_type": "markdown",
   "id": "2c04216a-b2f4-4558-8141-411595a59506",
   "metadata": {},
   "source": [
    "<hr style=\"height:2px;border:none;background-color:#00233C;\">\n",
    "<p style = 'font-size:20px;font-family:Arial;color:#00233C'><b>3. Explore the dataset</b></p>\n",
    "<p style = 'font-size:18px;font-family:Arial;color:#00233C'><b>Transfer and explore data in SAS </b></p>\n",
    "<p style = 'font-size:16px;font-family:Arial;color:#00233C'>If we were to execute SAS code the first step would be to import all the data from Vantage to SAS. The first data step will create a new dataset named \"sales_temp_data_1\" in the \"work\" library. It will select all the data from the table \"sales_ts_data_1_54M\" located in the \"Teradata\" (we are calling it through our libname connection) teralib.</p>\n",
    "<p style = 'font-size:16px;font-family:Arial;color:#00233C'> We replicate the same process with the second data step. We fetch all the data from the table \"sales_ts_data_2_54M\" and store it in \"sales_temp_data_2\" in the \"work\" library. After running the second data step we’ll now see store_id, day of sale, transaction_id, product sku id, and transaction quantity and transaction weight within the SAS library.</p>"
   ]
  },
  {
   "cell_type": "markdown",
   "id": "e1b4386e-bba6-4f7b-bd24-8c56d76b4a99",
   "metadata": {},
   "source": [
    "<code>\n",
    "\n",
    "<div class=\"alert alert-block alert-warning\">  \n",
    "<p style = 'font-size:18px;font-family:Arial;color:#000000'><b>Equivalent SAS Code</b>    \n",
    "<p style = 'font-size:16px;color:#000000'> \n",
    "/* Setting up a libname for the connection with Teradata Database */\n",
    "libname teralib teradata server=barbera user=tahaw pw=tahaw database=tahaw;\n",
    "options SASTRACE=',,,ds' SASTRACELOC=SASLOG nostsuffix;\n",
    "<p style = 'font-size:16px;color:#000000'>\n",
    "/* The first Data step is to fetch all the rows from the Teradata table and create an SAS dataset in the work library */\n",
    "%let start_time = %sysfunc(datetime());\n",
    "data work.sales_temp_data_1;\n",
    "set TERALIB.sales_ts_data_1_54M;\n",
    "run;\n",
    "<p style = 'font-size:16px;color:#000000'>\n",
    "/* The second Data step is to fetch all the rows from the Teradata table for the remaining attributes */\n",
    "data work.sales_temp_data_2;\n",
    "set TERALIB.sales_ts_data_2_54M;\n",
    "run;\n",
    "    </p>\n",
    "</div>\n",
    "</code>"
   ]
  },
  {
   "cell_type": "markdown",
   "id": "64cbeaf6-9c27-48c4-a2c8-0eac8b192e57",
   "metadata": {},
   "source": [
    "<p style = 'font-size:18px;font-family:Arial;color:#00233C'><b>Explore data in Vantage </b></p>\n",
    "<p style = 'font-size:16px;font-family:Arial;color:#00233C'>As the data is already in Vantage the data transfer step is <b>NOT</b> required. So, we will explore the data in both the tables</p> "
   ]
  },
  {
   "cell_type": "code",
   "execution_count": null,
   "id": "0022d5f8-b065-4140-8f23-a5140157ad98",
   "metadata": {},
   "outputs": [],
   "source": [
    "Select TOP 5 * from DEMO_SlsForecast_SAS.Store_Sales_Qty;"
   ]
  },
  {
   "cell_type": "markdown",
   "id": "b203887a-e71f-4ce9-9a98-c6f6fababf85",
   "metadata": {},
   "source": [
    "<p style = 'font-size:16px;font-family:Arial;color:#00233C'>This data set contain store_id, day of sale, transaction_id, product sku id, and transaction quantity and transaction weight.</p> \n"
   ]
  },
  {
   "cell_type": "code",
   "execution_count": null,
   "id": "af5bb113-be48-4d1f-878a-17aba7045dee",
   "metadata": {},
   "outputs": [],
   "source": [
    "Select TOP 5 * from DEMO_SlsForecast_SAS.Store_Sales_Amt;"
   ]
  },
  {
   "cell_type": "markdown",
   "id": "9af6d895-fce9-444c-b63e-5f34277827de",
   "metadata": {},
   "source": [
    "<p style = 'font-size:16px;font-family:Arial;color:#00233C'>This data set contain store_id, day of sale, transaction_id, product sku id and transaction amount.</p> \n"
   ]
  },
  {
   "cell_type": "markdown",
   "id": "26c41f2c-984f-4159-b228-90fb5a000560",
   "metadata": {},
   "source": [
    "<hr style=\"height:2px;border:none;background-color:#00233C;\">\n",
    "<p style = 'font-size:20px;font-family:Arial;color:#00233C'><b>4. Aggregating the Data</b></p>\n",
    "<p style = 'font-size:18px;font-family:Arial;color:#00233C'><b>Aggregate data in SAS</b></p>\n",
    "<p style = 'font-size:16px;font-family:Arial;color:#00233C'>As a next step in SAS, we need to prepare the data into a single ADS to forecast sales for this particular store and aggregate the total sales by each store product and transaction id on a particular day.\n",
    "\n",
    "<p style = 'font-size:16px;font-family:Arial;color:#00233C'>Proc SQL is used in SAS, which uses SAS’s native SQL processing capabilities. Apply the sum on the transaction amount and group by on store_id, day_of_sale, product_sku_id, transaction_id. After it executes, running it will create the dataset sales_aggregated_data_1 in the work library. This new dataset has around 52.5 million records.\n",
    "\n",
    "<p style = 'font-size:16px;font-family:Arial;color:#00233C'>Aggregation is applied on the second data set, sales_temp_2 to do a sum on transaction quantity and weight and group by on store_id, day_of_sale, product_sku_id, transaction_id. After execution, it will create a new dataset named sales_aggregated_data_2 in the work library. This new dataset has around 52.5 million records .</p>"
   ]
  },
  {
   "cell_type": "markdown",
   "id": "025cfbc3-e6a7-44f7-9858-f2144399dfe0",
   "metadata": {},
   "source": [
    "<code>\n",
    "\n",
    "<div class=\"alert alert-block alert-warning\">  \n",
    "<p style = 'font-size:18px;font-family:Arial;color:#000000'><b>Equivalent SAS Code</b>    \n",
    "<p style = 'font-size:16px;color:#000000'> \n",
    "/* Aggregating the amount to calculate the total sales by each store and product on a particular day */\n",
    "proc sql;\n",
    "  create table work.sales_aggregated_data_1 as\n",
    "  select \n",
    "    store_id, day_of_sale, product_sku_id, transaction_id,\n",
    "    sum(transaction_amount) as total_sales\n",
    "  from work.sales_temp_data_1\n",
    "  group by store_id, day_of_sale, product_sku_id, transaction_id;\n",
    "quit;\n",
    "<p style = 'font-size:16px;color:#000000'> \n",
    "/* Aggregating the weight and quantity to calculate the total weight \n",
    "and total quantity by each store and product on a particular day */\n",
    "proc sql;\n",
    "  create table work.sales_aggregated_data_2 as\n",
    "  select \n",
    "    store_id, day_of_sale, product_sku_id, transaction_id,\n",
    "    sum(transaction_quantity) as total_quantity,\n",
    "    sum(transaction_weight) as total_weight\n",
    "  from work.sales_temp_data_2\n",
    "  group by store_id, day_of_sale, product_sku_id, transaction_id;\n",
    "quit;\n",
    "    </p>\n",
    "    </div>\n",
    "</code>"
   ]
  },
  {
   "cell_type": "markdown",
   "id": "75758717-3a33-42fa-a468-e376ea70ce67",
   "metadata": {},
   "source": [
    "<p style = 'font-size:18px;font-family:Arial;color:#00233C'><b>Aggregate data in Vantage </b></p>\n",
    "<p style = 'font-size:16px;font-family:Arial;color:#00233C'>First we sum the amount using group by store_id, day_of_sale, product_sku_id, transaction_id.</p> "
   ]
  },
  {
   "cell_type": "code",
   "execution_count": null,
   "id": "72a5f8ff-0e80-46e2-b5df-e9e2ed94e73f",
   "metadata": {},
   "outputs": [],
   "source": [
    "create multiset table sales_aggregated_data_amt as\n",
    "(select \n",
    "    store_id, day_of_sale, product_sku_id, transaction_id,\n",
    "    sum(transaction_amount) as total_sales\n",
    "from DEMO_SlsForecast_SAS.Store_Sales_Amt\n",
    "group by store_id, day_of_sale, product_sku_id, transaction_id)with data Primary index(transaction_id);"
   ]
  },
  {
   "cell_type": "markdown",
   "id": "c48d607d-05a4-41bc-a127-ab786331b854",
   "metadata": {},
   "source": [
    "<p style = 'font-size:16px;font-family:Arial;color:#00233C'>Then, we sum the quantity and weight using group by store_id, day_of_sale, product_sku_id, transaction_id.</p>"
   ]
  },
  {
   "cell_type": "code",
   "execution_count": null,
   "id": "39548a0d-3f56-4d68-baf7-e86bf40545e6",
   "metadata": {},
   "outputs": [],
   "source": [
    "create multiset table sales_aggregated_data_qty as\n",
    "(select \n",
    "    store_id, day_of_sale, product_sku_id, transaction_id,\n",
    "    sum(transaction_quantity) as total_quantity,\n",
    "    sum(transaction_weight) as total_weight\n",
    "from DEMO_SlsForecast_SAS.Store_Sales_Qty\n",
    "group by store_id, day_of_sale, product_sku_id, transaction_id)with data Primary index(transaction_id);"
   ]
  },
  {
   "cell_type": "markdown",
   "id": "888f728c-995c-44a8-babc-ba9876b18647",
   "metadata": {},
   "source": [
    "<hr style=\"height:2px;border:none;background-color:#00233C;\">\n",
    "<p style = 'font-size:20px;font-family:Arial;color:#00233C'><b>5. Merging the Data</b></p>\n",
    "<p style = 'font-size:18px;font-family:Arial;color:#00233C'><b>Merging data in SAS</b></p>\n",
    "<p style = 'font-size:16px;font-family:Arial;color:#00233C'>As a next step, to prepare the data into a single ADS to forecast sales for this particular store, aggregation is done of the total sales by each store product and transaction id on a particular day.\n",
    "\n",
    "<p style = 'font-size:16px;font-family:Arial;color:#00233C'>These 2 aggregated datasets are merged to have a single table that contains store_id, day_of_sale, product_sku_id, transaction_id, transaction_amount, transaction quantity, and transaction weight. Merge in SAS is used for the two datasets and define the join columns such as store_id, day_of_sale, product_sku_id and transaction_id. After merging the dataset will have all the required columns in one dataset. This dataset contains around 52.5 million rows.</p>"
   ]
  },
  {
   "cell_type": "markdown",
   "id": "07ce203a-ee33-4d8e-9d3b-4c192e0d848d",
   "metadata": {},
   "source": [
    "<code>\n",
    "\n",
    "<div class=\"alert alert-block alert-warning\">  \n",
    "<p style = 'font-size:18px;font-family:Arial;color:#000000'><b>Equivalent SAS Code</b>    \n",
    "<p style = 'font-size:16px;color:#000000'>   \n",
    "/* Vertically merging two datasets and creating another dataset in work library with all the required attributes */\n",
    "data work.merged_sales_data_c;\n",
    "merge  work.sales_aggregated_data_1\n",
    "       work.sales_aggregated_data_2;\n",
    "       by store_id day_of_sale product_sku_id transaction_id;\n",
    "       run;\n",
    "<p style = 'font-size:16px;color:#000000'> \n",
    "/* Aggregating the amount to calculate total sales in a particular day */\n",
    "proc sql;\n",
    "  create table work.aggregated_data as\n",
    "  select \n",
    "    day_of_sale,\n",
    "    sum(total_sales) as total_sales\n",
    "  from work.merged_sales_data_c\n",
    "  group by day_of_sale;\n",
    "    quit;</p>\n",
    "    </div>\n",
    "    </code>"
   ]
  },
  {
   "cell_type": "markdown",
   "id": "67651b41-f5a9-4c0b-8f04-0c8378e9605e",
   "metadata": {},
   "source": [
    "<p style = 'font-size:18px;font-family:Arial;color:#00233C'><b>Merging data in Vantage </b></p>\n",
    "<p style = 'font-size:16px;font-family:Arial;color:#00233C'>We merge the 2 datasets in Vantage.</p> "
   ]
  },
  {
   "cell_type": "code",
   "execution_count": null,
   "id": "2b50b88c-2252-46da-a127-8d52d6ec076a",
   "metadata": {},
   "outputs": [],
   "source": [
    "create MULTISET table merged_sales_data (\n",
    "      store_id SMALLINT,\n",
    "      day_of_sale DATE,\n",
    "      transaction_id INTEGER,\n",
    "      product_sku_id DECIMAL(18,0),\n",
    "      transaction_amount DECIMAL(9,2),\n",
    "      transaction_quantity SMALLINT,\n",
    "      transaction_weight DECIMAL(9,2))\n",
    "PRIMARY INDEX(transaction_id);"
   ]
  },
  {
   "cell_type": "code",
   "execution_count": null,
   "id": "4db40491-8cac-4ae3-9f2b-d974dfe1b0ff",
   "metadata": {},
   "outputs": [],
   "source": [
    "INSERT INTO merged_sales_data\n",
    "    SELECT A.store_id,\n",
    "        A.day_of_sale,\n",
    "        A.transaction_id,\n",
    "        A.product_sku_id,\n",
    "        A.total_sales,\n",
    "        B.total_quantity,\n",
    "        B.total_weight\n",
    "        FROM (\n",
    "        SELECT \n",
    "            store_id,\n",
    "            day_of_sale,\n",
    "            product_sku_id,\n",
    "            transaction_id,\n",
    "            total_sales\n",
    "            FROM sales_aggregated_data_amt\n",
    "            ) AS A\n",
    "        INNER JOIN \n",
    "        (\n",
    "        SELECT \n",
    "            store_id,\n",
    "            day_of_sale,\n",
    "            product_sku_id,\n",
    "            transaction_id,\n",
    "            total_quantity,\n",
    "            total_weight\n",
    "            FROM sales_aggregated_data_qty\n",
    "            ) AS B\n",
    "        ON A.day_of_sale=B.day_of_sale AND A.product_sku_id=B.product_sku_id AND A.store_id=B.store_id \n",
    "        AND A.transaction_id=B.transaction_id"
   ]
  },
  {
   "cell_type": "markdown",
   "id": "1c9449f0-ef7d-46dc-b719-c1746fb66d1b",
   "metadata": {},
   "source": [
    "<p style = 'font-size:16px;font-family:Arial;color:#00233C'>We do a final aggregation to get the total sales by day in Vantage.</p> "
   ]
  },
  {
   "cell_type": "code",
   "execution_count": null,
   "id": "345a4a17-78d5-4001-adec-16f9ce321a75",
   "metadata": {},
   "outputs": [],
   "source": [
    "create multiset table aggregated_sales_td as\n",
    "  (select \n",
    "    rank() over(partition by day_of_sale order by day_of_sale) as SeriesId, ---Series Id created for using in ARIMA\n",
    "    cast(day_of_sale as timestamp(0)) as day_of_sale,\n",
    "    sum(transaction_amount) as total_sales\n",
    "  from merged_sales_data \n",
    "  group by day_of_sale) with data;"
   ]
  },
  {
   "cell_type": "code",
   "execution_count": null,
   "id": "ff8d4e7f-e14d-494d-997b-33622ea90b16",
   "metadata": {},
   "outputs": [],
   "source": [
    "sel TOP 5 * from aggregated_sales_td order by day_of_sale;"
   ]
  },
  {
   "cell_type": "markdown",
   "id": "ab4d3405-d159-43c3-a621-1602138ed3fb",
   "metadata": {},
   "source": [
    "<p style = 'font-size:16px;font-family:Arial;color:#00233C'>We plot the total sales by day of sales to check the series data.</p> "
   ]
  },
  {
   "cell_type": "markdown",
   "id": "e0390b42-5e67-4416-b8e5-26b211841d25",
   "metadata": {
    "tags": []
   },
   "source": [
    "<p style = 'font-size:16px;font-family:Arial;color:#00233C'>The <b>TD_PLOT</b> function will return an image in the cell of the results showing the Auto Correlation Plot.</p>\n",
    "<i>* Click the cell in the <b>IMAGE</b> column and then right click the cell.  You will then be able to select <b>View Image</b> to view the graph in the result set.</i>"
   ]
  },
  {
   "cell_type": "code",
   "execution_count": null,
   "id": "8683b132-dc24-4c9b-bdf4-d9e44ecc1344",
   "metadata": {},
   "outputs": [],
   "source": [
    "EXECUTE FUNCTION\n",
    "TD_Plot\n",
    "(\n",
    "    SERIES_SPEC\n",
    "    (\n",
    "        TABLE_NAME(aggregated_sales_td),\n",
    "        ROW_AXIS(TIMECODE(\"day_of_sale\")),\n",
    "        SERIES_ID(SeriesID),\n",
    "        PAYLOAD (FIELDS(\"total_sales\"),CONTENT(REAL))\n",
    "    ),\n",
    "    FUNC_PARAMS\n",
    "    (\n",
    "        PLOTS[(\n",
    "            TYPE('line'),\n",
    "            LEGEND('upper left'),\n",
    "            TITLE('Daily Sales')\n",
    "        )],\n",
    "        IMAGE('png')\n",
    "    )\n",
    ");"
   ]
  },
  {
   "cell_type": "markdown",
   "id": "2d4c13ca-7bdb-4709-a1c9-2857b0127064",
   "metadata": {},
   "source": [
    "<p style = 'font-size:16px;font-family:Arial;color:#00233C'><i>* Click the cell in the <b>IMAGE</b> column and then right click the cell.  You will then be able to select <b>View Image</b> to view the graph in the result set. </i>\n",
    "<p style = 'font-size:16px;font-family:Arial;color:#00233C'>If you followed the instructions above, you should have seen a graph that looks like follows:</p>\n",
    "<img src=\"images/Org_SalesData.png\" alt=\"Sales Data\" width=\"400\" />\n",
    "<p style = 'font-size:16px;font-family:Arial;color:#00233C'>In the plot we can see that the Sales vary from September 2019 till November 2019 than it is flat till November 2020. The sales again vary from November 2020 till January 2021. After that there is a steep drop in sales and it remains below 1000 from January 2021 and March 2021.</p> "
   ]
  },
  {
   "cell_type": "markdown",
   "id": "e80547a0-b667-48ed-b792-5ef5f8fa6ff6",
   "metadata": {},
   "source": [
    "<hr style=\"height:2px;border:none;background-color:#00233C;\">\n",
    "<p style = 'font-size:20px;font-family:Arial;color:#00233C'><b>6. Using ARIMA (AutoRegressive Integrated Moving Average) model to forecast Sales</b></p>\n",
    "\n",
    "<p style = 'font-size:16px;font-family:Arial;color:#00233C'>\n",
    "ARIMA functions on VANTAGE run in the following order:\n",
    "<br>\n",
    "1. Run <b>TD_ARIMAESTIMATE</b> function to get the coefficients for the ARIMA model.\n",
    "<br>\n",
    "2. <i>[Optional]</i> Run <b>TD_ARIMAVALIDATE</b> function to validate the \"goodness of fit\" of the ARIMA model, when\n",
    "FIT_PERCENTAGE is not 100 in TD_ARIMAESTIMATE.\n",
    "<br>\n",
    "3. Run the <b>TD_ARIMAFORECAST</b> function with input from step 1 or step 2 to forecast the future periods\n",
    "beyond the last observed period.\n",
    "</p>"
   ]
  },
  {
   "cell_type": "markdown",
   "id": "63f6cdb2-3ba1-4845-913d-67ad2756678e",
   "metadata": {},
   "source": [
    "<hr style=\"height:1px;border:none;background-color:#00233C;\">\n",
    "<p style = 'font-size:18px;font-family:Arial;color:#00233C'><b>6.1 Estimation step</b></p>\n",
    "<p style = 'font-size:18px;font-family:Arial;color:#00233C'><b>Estimation step in SAS</b></p>\n",
    "<p style = 'font-size:16px;font-family:Arial;color:#00233C'>The final step is to fit the Arima model. In the first PROC ARIMA block, it identifies the best ARIMA model for the total_sales variable with a maximum lag of 30 using the identify statement and estimates the model with one seasonal difference (q=1). The parameter estimates are saved in the arima_params dataset in the work library.</p>"
   ]
  },
  {
   "cell_type": "markdown",
   "id": "e0e37960-deee-4aed-911c-cf869a33dda7",
   "metadata": {},
   "source": [
    "<code>\n",
    "\n",
    "<div class=\"alert alert-block alert-warning\">  \n",
    "<p style = 'font-size:18px;font-family:Arial;color:#000000'><b>Equivalent SAS Code</b>    \n",
    "<p style = 'font-size:16px;color:#000000'> \n",
    "/* Fit ARIMA model and calculating its coefficients */\n",
    "proc arima data=work.aggregated_data;\n",
    "  identify var=total_sales(1) nlag=30;\n",
    "  estimate q=1 outest=arima_params;\n",
    "    run;</p>\n",
    "    </div>\n",
    "</code>"
   ]
  },
  {
   "cell_type": "markdown",
   "id": "457ae9bd-6c91-4911-9065-1f6b13414209",
   "metadata": {},
   "source": [
    "<p style = 'font-size:18px;font-family:Arial;color:#00233C'><b>Estimation step in Vantage</b></p>\n",
    "<p style = 'font-size:16px;font-family:Arial;color:#00233C'>The TD_ARIMAESTIMATE function estimates the coefficients corresponding to an ARIMA model and fits a series with an existing ARIMA model. The function can also provide the \"goodness of fit\" and the residuals of the fitting operation. The function generates a model layer used as input for the TD_ARIMAVALIDATE and TD_ARIMAFORECAST functions. This function is for univariate series.</p>\n",
    "\n",
    "<br>\n",
    "\n",
    "<p style = 'font-size:16px;font-family:Arial;color:#00233C'>Here, the previously estimated parameters, namely P (Auto-Regressive lags), d (differencing order), and Q (Moving Average lags), are required to be passed into the MODEL_ORDER function. For example, the specific values used here are MODEL_ORDER(2, 1, 8).\n",
    "<br>\n",
    "<br>\n",
    "The output of the analysis is stored in an ART (Analytical Result Table), which contains relevant information and results of the ARIMA modeling process.\n",
    "<br>\n",
    "<br>\n",
    "Furthermore, the fit percentage is determined to be 100. This fit percentage indicates that the ARIMA model is trained using 100% of the available data.</p>"
   ]
  },
  {
   "cell_type": "code",
   "execution_count": null,
   "id": "10728547-095a-4425-82d6-2d4f264f4706",
   "metadata": {},
   "outputs": [],
   "source": [
    "EXECUTE FUNCTION INTO ART(ART_ESTSales)\n",
    "TD_ARIMAESTIMATE(\n",
    "    SERIES_SPEC(\n",
    "        TABLE_NAME(aggregated_sales_td),\n",
    "        ROW_AXIS(TIMECODE(\"day_of_sale\")),\n",
    "        SERIES_ID(seriesID),\n",
    "        PAYLOAD(\n",
    "            FIELDS(\"total_sales\"),\n",
    "            CONTENT(REAL))),\n",
    "     FUNC_PARAMS(\n",
    "        NONSEASONAL(MODEL_ORDER(2, 1, 8)),\n",
    "        CONSTANT(1), COEFF_STATS(1), FIT_METRICS(1),\n",
    "        RESIDUALS(1), ALGORITHM(CSS_MLE),  FIT_PERCENTAGE(100)\n",
    "    )\n",
    ");"
   ]
  },
  {
   "cell_type": "markdown",
   "id": "7a6c9fb0-9f32-40ff-8cc4-eaf1e9fe4deb",
   "metadata": {},
   "source": [
    "<p style = 'font-size:18px;font-family:Arial;color:#00233C'><b>Extract residuals</b></p>\n",
    "<p style = 'font-size:16px;font-family:Arial;color:#00233C'>The TD_EXTRACT_RESULTS function serves the purpose of retrieving auxiliary result sets stored within an Analytical Result Table (ART). In this particular case, we focus on extracting the residuals from the ART obtained during the previous estimation step.\n",
    "<br>"
   ]
  },
  {
   "cell_type": "code",
   "execution_count": null,
   "id": "6d4a6801-2079-4987-8b3f-5f84dad30aa6",
   "metadata": {},
   "outputs": [],
   "source": [
    "CREATE TABLE AR_RESIDUALS_Sales AS (\n",
    "    EXECUTE FUNCTION\n",
    "    TD_EXTRACT_RESULTS(\n",
    "        ART_SPEC(\n",
    "            TABLE_NAME(ART_ESTSales),\n",
    "            LAYER(ARTFITRESIDUALS)\n",
    "        )\n",
    "    )\n",
    ") WITH DATA;"
   ]
  },
  {
   "cell_type": "code",
   "execution_count": null,
   "id": "0a6607ef-00d3-4411-9f8b-a158fd8353f8",
   "metadata": {},
   "outputs": [],
   "source": [
    "select TOP 5 * from AR_RESIDUALS_Sales;"
   ]
  },
  {
   "cell_type": "markdown",
   "id": "e6b92c8b-c20f-46ca-b170-454fdd46a9a6",
   "metadata": {},
   "source": [
    "<p style = 'font-size:16px;font-family:Arial;color:#00233C'>The outputs above show a sample of the results of the ARIMA model estimating based on patterns from machine learning:</p>\n",
    "<li style = 'font-size:16px;font-family:Arial'>Actual value: a value from the provided data for a given ROW_I</li>\n",
    "<li style = 'font-size:16px;font-family:Arial'>Calculated value: output of the modeling</li>\n",
    "<li style = 'font-size:16px;font-family:Arial'>Residual: The difference between Actual and Estimate.</li></p>\n",
    "\n",
    "<p style = 'font-size:16px;font-family:Arial;color:#00233C'>\n",
    "In the following cell, we extract additional metrics from the estimate phase i.e., TD_ARIMAESTIMATE.\n",
    "</p>"
   ]
  },
  {
   "cell_type": "code",
   "execution_count": null,
   "id": "c827c8f6-15b0-4f22-9712-12d8a72cd488",
   "metadata": {},
   "outputs": [],
   "source": [
    "SELECT * FROM (\n",
    "    EXECUTE FUNCTION\n",
    "    TD_EXTRACT_RESULTS(\n",
    "        ART_SPEC(\n",
    "            TABLE_NAME(ART_ESTSales),\n",
    "            LAYER(ARTFITMETADATA)\n",
    "        )\n",
    "    )\n",
    ") AS T;"
   ]
  },
  {
   "cell_type": "markdown",
   "id": "5e97b200-75da-4ead-ac27-3f6b8527c32a",
   "metadata": {},
   "source": [
    "<p style = 'font-size:16px;font-family:Arial;color:#00233C'>The displayed output provides performance metrics that offer insights into the effectiveness of the trained ARIMA model. One such metric is the R-Squared value, which measures how well the model fits the data. In this instance, the R-Squared value is noted as 0.92, indicating a strong fit between the model and the data.\n",
    "<br>\n"
   ]
  },
  {
   "cell_type": "markdown",
   "id": "05096966-96aa-4dda-8193-e22a5fe08c87",
   "metadata": {},
   "source": [
    "<p style = 'font-size:18px;font-family:Arial;color:#00233C'><b>Create table PLOT_ESTIMATE for plotting</b></p>\n",
    "</p>\n",
    "<p style = 'font-size:16px;font-family:Arial;color:#00233C'>Here, we'll create a table which will be used to plot the actual and estimated time series.</p>"
   ]
  },
  {
   "cell_type": "code",
   "execution_count": null,
   "id": "4d7994ed-6bcc-481e-9d39-1f8606abb39a",
   "metadata": {},
   "outputs": [],
   "source": [
    "CREATE TABLE PLOT_ESTIMATE (DatasetID VARCHAR(10), ROW_I BIGINT, FIT_MAGNITUDE FLOAT);"
   ]
  },
  {
   "cell_type": "code",
   "execution_count": null,
   "id": "98595d7a-1c83-402a-813d-2e88f1102ff1",
   "metadata": {},
   "outputs": [],
   "source": [
    "INSERT INTO PLOT_ESTIMATE SELECT 'ActualSales', ROW_I, ACTUAL_VALUE FROM AR_RESIDUALS_sales WHERE ROW_I>1; \n",
    "INSERT INTO PLOT_ESTIMATE SELECT 'ESTIMATED', ROW_I, CALC_VALUE FROM AR_RESIDUALS_sales WHERE ROW_I>1; "
   ]
  },
  {
   "cell_type": "code",
   "execution_count": null,
   "id": "7c7d8426-6ec2-48d2-8548-9a227f70e2da",
   "metadata": {},
   "outputs": [],
   "source": [
    "SELECT TOP 5 * FROM PLOT_ESTIMATE ORDER BY ROW_I;"
   ]
  },
  {
   "cell_type": "markdown",
   "id": "705c8e71-a9a7-4c64-8e87-ef4159b843fd",
   "metadata": {},
   "source": [
    "<p style = 'font-size:16px;font-family:Arial;color:#00233C'>The <b>TD_PLOT</b> function will return an image in the cell of the results showing the Actual and Estimated values by the fitted ARIMA model.</p>\n",
    "<i>* Click the cell in the <b>IMAGE</b> column and then right click the cell.  You will then be able to select <b>View Image</b> to view the graph in the result set. </i>"
   ]
  },
  {
   "cell_type": "code",
   "execution_count": null,
   "id": "8c368945-f735-47ef-bc87-df4b0b0406d2",
   "metadata": {},
   "outputs": [],
   "source": [
    "EXECUTE FUNCTION\n",
    "TD_Plot\n",
    "(\n",
    "    SERIES_SPEC(\n",
    "        TABLE_NAME(PLOT_ESTIMATE),\n",
    "        ROW_AXIS(SEQUENCE(ROW_I)),\n",
    "        SERIES_ID(DataSetID),\n",
    "        ID_SEQUENCE('[{\"DatasetID\":\"ActualSale\"},{\"DatasetID\":\"ESTIMATED\"}]'),\n",
    "        PAYLOAD(\n",
    "            FIELDS(FIT_MAGNITUDE),\n",
    "            CONTENT(REAL)\n",
    "        )\n",
    "    ),\n",
    "    FUNC_PARAMS\n",
    "    (\n",
    "        WIDTH(1920),\n",
    "        HEIGHT(1080),\n",
    "        TITLE('ARIMA ESTIMATE'),\n",
    "        PLOTS[\n",
    "            (\n",
    "                TITLE ('ORIGINAL and ESTIMATED SERIES'),\n",
    "                GRID(FORMAT('-')),\n",
    "                TYPE('line'),\n",
    "                SERIES[\n",
    "                       (\n",
    "                        ID(1),\n",
    "                        FORMAT('r--')\n",
    "                       ),\n",
    "                       (\n",
    "                        ID(2),\n",
    "                        FORMAT('b-')\n",
    "                       )\n",
    "                     ],\n",
    "                MARKER('o'),\n",
    "                LEGEND('best'),\n",
    "                XLABEL('X SeqNo'),\n",
    "                YLABEL('Y Magnitude')\n",
    "            )\n",
    "        ]\n",
    "    )\n",
    ");"
   ]
  },
  {
   "cell_type": "markdown",
   "id": "0ee768a2-6bd7-43f8-85cc-f62acad6b617",
   "metadata": {},
   "source": [
    "<p style = 'font-size:16px;font-family:Arial;color:#00233C'><i>* Click the cell in the <b>IMAGE</b> column and then right click the cell.  You will then be able to select <b>View Image</b> to view the graph in the result set. </i>\n",
    "<p style = 'font-size:16px;font-family:Arial;color:#00233C'>If you followed the instructions above, you should have seen a graph looks like follows:</p>\n",
    "<img src=\"images/ARIMA_EST.png\" alt=\"ARIMA Estimate\" width=\"400\" />\n",
    "<p style = 'font-size:16px;font-family:Arial;color:#00233C'>The red line indicates the actual sales, and the blue line indicates the estimated sales. This graph shows how well the ARIMA model has learned on the training dataset.</p>"
   ]
  },
  {
   "cell_type": "markdown",
   "id": "70de218b-550a-4d71-9a92-88c785eba89d",
   "metadata": {},
   "source": [
    "<hr style=\"height:1px;border:none;background-color:#00233C;\">\n",
    "<p style = 'font-size:20px;font-family:Arial;color:#00233C'><b>6.2 Forecast step</b></p>\n",
    "<p style = 'font-size:18px;font-family:Arial;color:#00233C'><b>Forecast step in SAS</b></p>\n",
    "<p style = 'font-size:16px;font-family:Arial;color:#00233C'>In the second PROC ARIMA block, it identifies and estimates the same ARIMA model as in the first block but additionally generates forecasts for the next 30 time periods (lead=30) and stores the forecasted values in the forecasted_sales dataset in the work library. Now if run this we can see the results with the log indicating it took around 2 seconds to fit the Arima model on the aggregated data. Once the small aggregated dataset is available for the SAS procedure it executes relatively fast.<p>"
   ]
  },
  {
   "cell_type": "markdown",
   "id": "eabc2297-df1a-4150-b785-2f3de0c2911c",
   "metadata": {},
   "source": [
    "<code>\n",
    "\n",
    "<div class=\"alert alert-block alert-warning\">  \n",
    "<p style = 'font-size:18px;font-family:Arial;color:#000000'><b>Equivalent SAS Code</b>    \n",
    "<p style = 'font-size:16px;color:#000000'> \n",
    "/* Forecasting future 30 values */\n",
    "proc arima data=work.aggregated_data;\n",
    "  identify var=total_sales(1) nlag=30;\n",
    "  estimate q=1 outest=arima_params;\n",
    "  forecast lead=30 out=forecasted_sales;\n",
    "    run;</p>\n",
    "    </div>    \n",
    "</code>"
   ]
  },
  {
   "cell_type": "markdown",
   "id": "68048cfa-5e50-4820-904e-66f579976df6",
   "metadata": {},
   "source": [
    "<p style = 'font-size:18px;font-family:Arial;color:#00233C'><b>Forecast Step in Vantage</b></p>\n",
    "<p style = 'font-size:16px;font-family:Arial;color:#00233C'>The TD_ARIMAFORECAST function is used to forecast a user-defined number of periods based on models fitted from the TD_ARIMAESTIMATE function.</p>\n",
    "<p style = 'font-size:16px;font-family:Arial;color:#00233C'>Here in the next cell, we use the estimated and validated model to forecast the sales for the subsequent 30 periods, i.e., next 30 days.</p>"
   ]
  },
  {
   "cell_type": "code",
   "execution_count": null,
   "id": "be16f4df-15fa-489d-8ede-9736e17520c1",
   "metadata": {},
   "outputs": [],
   "source": [
    "EXECUTE FUNCTION INTO VOLATILE ART(ARIMA_SlsFORECAST)\n",
    "TD_ARIMAFORECAST(\n",
    "           ART_SPEC(TABLE_NAME(ART_ESTSales)),\n",
    "           FUNC_PARAMS(FORECAST_PERIODS(30)));"
   ]
  },
  {
   "cell_type": "code",
   "execution_count": null,
   "id": "038d38af-ce44-45d6-8507-77f714cc0206",
   "metadata": {},
   "outputs": [],
   "source": [
    "SELECT TOP 5 * FROM ARIMA_SlsFORECAST;"
   ]
  },
  {
   "cell_type": "markdown",
   "id": "515d62a0-7085-4891-8c28-624848ba8fce",
   "metadata": {},
   "source": [
    "<p style = 'font-size:16px;font-family:Arial;color:#00233C'>The above output shows us the forecasted value for the next 30 days. Observe that we also have forecasted values with 80% and 95% confidence.</p>"
   ]
  },
  {
   "cell_type": "markdown",
   "id": "30326f99-bae9-49a2-9503-476a847489d3",
   "metadata": {},
   "source": [
    "\n",
    "<p style = 'font-size:18px;font-family:Arial;color:#00233C'><b>Create table PLOT_FORECAST for plotting</b></p>\n",
    "<p style = 'font-size:16px;font-family:Arial;color:#00233C'>Here, we'll create a table which will be used to plot the forecasted sales in the next 30 days.</p>"
   ]
  },
  {
   "cell_type": "code",
   "execution_count": null,
   "id": "20b0af9b-2d44-4322-937b-b6952c7f56ce",
   "metadata": {},
   "outputs": [],
   "source": [
    "CREATE TABLE PLOT_FORECAST (DatasetID VARCHAR(16), ROW_I BIGINT, FORECAST_MAGNITUDE FLOAT);"
   ]
  },
  {
   "cell_type": "code",
   "execution_count": null,
   "id": "b9ce85f8-a130-48dd-857f-6171cabdb69f",
   "metadata": {},
   "outputs": [],
   "source": [
    "INSERT INTO PLOT_FORECAST   SELECT 'FORECASTED', ROW_I, FORECAST_VALUE FROM ARIMA_SlsFORECAST; \n",
    "INSERT INTO PLOT_FORECAST   SELECT 'UPPER_BOUND', ROW_I, HI_80 FROM ARIMA_SlsFORECAST ; \n",
    "INSERT INTO PLOT_FORECAST   SELECT 'LOWER_BOUND', ROW_I, LO_80 FROM ARIMA_SlsFORECAST ; "
   ]
  },
  {
   "cell_type": "code",
   "execution_count": null,
   "id": "cd33edb4-4b0d-434e-b01c-86750ceaaeae",
   "metadata": {},
   "outputs": [],
   "source": [
    "SELECT * FROM PLOT_FORECAST ORDER BY ROW_I;"
   ]
  },
  {
   "cell_type": "markdown",
   "id": "e80fca54-743a-4754-9070-b5a91384e083",
   "metadata": {},
   "source": [
    "<p style = 'font-size:16px;font-family:Arial;color:#00233C'>The <b>TD_PLOT</b> function will return an image in the cell of the results showing the Forecasted values by ARIMA model.</p>\n",
    "<i>* Click the cell in the <b>IMAGE</b> column and then right click the cell.  You will then be able to select <b>View Image</b> to view the graph in the result set.</i>"
   ]
  },
  {
   "cell_type": "code",
   "execution_count": null,
   "id": "687ee52c-d8cc-4bb3-83a8-796bb7fcf867",
   "metadata": {},
   "outputs": [],
   "source": [
    "EXECUTE FUNCTION\n",
    "TD_Plot\n",
    "(\n",
    "    SERIES_SPEC(\n",
    "        TABLE_NAME(PLOT_FORECAST),\n",
    "        ROW_AXIS(SEQUENCE(ROW_I)),\n",
    "        SERIES_ID(DataSetID),\n",
    "        ID_SEQUENCE('[{\"DatasetID\":\"FORECASTED\"},{\"DatasetID\":\"UPPER_BOUND\"},{\"DatasetID\":\"LOWER_BOUND\"}]'),\n",
    "        PAYLOAD(\n",
    "            FIELDS(FORECAST_MAGNITUDE),\n",
    "            CONTENT(REAL)\n",
    "        )\n",
    "    ),\n",
    "    FUNC_PARAMS\n",
    "    (\n",
    "        WIDTH(1920),\n",
    "        HEIGHT(1080),\n",
    "        TITLE('ARIMA FORECAST'),\n",
    "        PLOTS[\n",
    "            (\n",
    "                TITLE ('Forecast'),\n",
    "                GRID(FORMAT('-')),\n",
    "                TYPE('line'),\n",
    "                SERIES[\n",
    "                       (\n",
    "                        ID(1),\n",
    "                        FORMAT('r--')\n",
    "                       ),\n",
    "                       (\n",
    "                        ID(2),\n",
    "                        FORMAT('b-')\n",
    "                       ),\n",
    "                        (\n",
    "                        ID(3),\n",
    "                        FORMAT('b-')\n",
    "                       )\n",
    "                     ],\n",
    "                MARKER('o'),\n",
    "                LEGEND('best'),\n",
    "                XLABEL('X SeqNo'),\n",
    "                YLABEL('Y Magnitude')\n",
    "            )\n",
    "        ]\n",
    "    )\n",
    ");"
   ]
  },
  {
   "cell_type": "markdown",
   "id": "f786a324-798f-48c1-8421-825f53f2e268",
   "metadata": {},
   "source": [
    "<p style = 'font-size:16px;font-family:Arial;color:#00233C'><i>* Click the cell in the <b>IMAGE</b> column and then right click the cell.  You will then be able to select <b>View Image</b> to view the graph in the result set. </i>\n",
    "<p style = 'font-size:16px;font-family:Arial;color:#00233C'>If you followed the instructions above, you should have seen a graph that looks like follows:</p>\n",
    "<img id=\"fig6\" src=\"images/ARIMA_FORECAST.png\" alt=\"ARIMA Forecast\" width=\"400\" />\n",
    "<p style = 'font-size:16px;font-family:Arial;color:#00233C'>The red line is the Forecasted Sales for the next 30 days, and the blue lines are the upper and lower confidence interval with an 80% confidence level. As seen in the original Sales graph, the sales have dropped below 1000 for the latest period. Similar sales can be observed in the forecast period, which varies around 1000.</p>\n",
    "\n",
    "<hr style=\"height:2px;border:none;background-color:#00233C;\">\n",
    "<p style = 'font-size:20px;font-family:Arial;color:#00233C'><b>7. Conclusion:</b></p>\n",
    "<p style = 'font-size:16px;font-family:Arial;color:#00233C'>\n",
    "Moving large amounts of data between Vantage and SAS is usually the main culprit for slow running jobs and complex analytics pipelines amplifying governance issues from orphaned and exposed data in SAS environments. By executing the complete flow inside Vantage using ClearScape Analytics we are reducing the complexity and achieving greater efficiency. </p>\n",
    "\n",
    "<p style = 'font-size:16px;font-family:Arial;color:#00233C'>One of our customers cited the following benefits:</p>\n",
    "<table style = 'border:1px solid black;width:100%;:#00233C'>\n",
    "         <tr style = 'font-size:16px;font-family:Arial;border:1px solid black;:#00233C'>\n",
    "             <th style = 'border:1px solid black;color:#00233C'><b>Past Approach using SAS Alone</b></th>\n",
    "             <th style = 'border:1px solid black;color:#00233C'><b>In-Database Approach</b></th>             \n",
    "         </tr>\n",
    "         <tr style = 'font-size:14px;font-family:Arial;border:1px solid black;color:#00233C'>\n",
    "            <td style = 'border:1px solid black;color:#00233C'>Daily process begins with flat file creation at 6:30am – SLA delivered at ~9:30am.</td>\n",
    "            <td style = 'border:1px solid black;color:#00233C'>Daily process begins at 4:00am with EDW load.</td>\n",
    "         </tr>\n",
    "         <tr style = 'font-size:14px;font-family:Arial;border:1px solid black;color:#00233C'>\n",
    "            <td style = 'border:1px solid black;color:#00233C'>File transferred to SQL Server,<b> limited to ~350K customer records based on  specific criteria.</b></td> \n",
    "            <td style = 'border:1px solid black;color:#00233C'>All operational data loaded directly to EDW.  No flat file or intermediate processing is needed.</td>\n",
    "         </tr>\n",
    "         <tr style = 'font-size:14px;font-family:Arial;border:1px solid black;color:#00233C'>\n",
    "             <td style = 'border:1px solid black;color:#00233C'><b>300 step process</b> to support data mining life cycle.<b>30 MINUTES TO SCORE ~350k customers</b></td> \n",
    "             <td style = 'border:1px solid black;color:#00233C'><b>10 step process</b> - Scoring and customer selection done in-database against  ALL customer rows <b>4 MINUTES TO SCORE ~40M customers</b></td>\n",
    "         </tr> \n",
    "         <tr style = 'font-size:14px;font-family:Arial;border:1px solid black;color:#00233C'>\n",
    "             <td style = 'border:1px solid black;color:#00233C'><b>Runs in ~ 3 HOURS</b></td> \n",
    "             <td style = 'border:1px solid black;color:#00233C'><b>Runs in 12 MINUTES with 114x # of customers.</b></td>\n",
    "         </tr>\n",
    "         <tr style = 'font-size:14px;font-family:Arial;border:1px solid black;color:#00233C'>\n",
    "            <td style = 'border:1px solid black;color:#00233C'><b>Cost for data mart infrastructure and support, plus lost opportunity to process all customers</b></td> \n",
    "            <td style = 'border:1px solid black;color:#00233C'><b>Uses available capacity outside of work hours with far less complexity and support cost. By processing all 40M customers vs 350K subset, increased collections $1M - $3M/month.</b></td>\n",
    "         </tr> \n",
    "         <tr>\n",
    "           \n",
    "</table>"
   ]
  },
  {
   "cell_type": "markdown",
   "id": "78035639-9ff1-44bc-a91b-5fb4251f3138",
   "metadata": {},
   "source": [
    "<hr style=\"height:2px;border:none;background-color:#00233C;\">\n",
    "<p style = 'font-size:20px;font-family:Arial;color:#00233C'><b>8. Cleanup</b>\n",
    "<p style = 'font-size:18px;font-family:Arial;color:#00233C'><b>Work Tables</b></p>\n",
    "<p style = 'font-size:16px;font-family:Arial;color:#00233C'>Cleanup work tables to prevent errors next time. This section drops all the tables created during the demonstration.</p>"
   ]
  },
  {
   "cell_type": "code",
   "execution_count": null,
   "id": "45be93ff-84b2-4ce8-a773-5d4d5948ce2d",
   "metadata": {},
   "outputs": [],
   "source": [
    "DROP TABLE sales_aggregated_data_amt;"
   ]
  },
  {
   "cell_type": "code",
   "execution_count": null,
   "id": "ce6caf24-6bc0-4414-8309-2c19c044e407",
   "metadata": {},
   "outputs": [],
   "source": [
    "DROP TABLE sales_aggregated_data_qty;"
   ]
  },
  {
   "cell_type": "code",
   "execution_count": null,
   "id": "80cb4a49-6e11-4530-9eff-e4ad55987eff",
   "metadata": {},
   "outputs": [],
   "source": [
    "DROP TABLE merged_sales_data;"
   ]
  },
  {
   "cell_type": "code",
   "execution_count": null,
   "id": "2c9a8617-fa8b-4004-8987-92c3dbac6507",
   "metadata": {},
   "outputs": [],
   "source": [
    "DROP TABLE aggregated_sales_td;"
   ]
  },
  {
   "cell_type": "code",
   "execution_count": null,
   "id": "bf7c335e-6634-4152-a419-379dce789474",
   "metadata": {},
   "outputs": [],
   "source": [
    "DROP TABLE ART_ESTSales;"
   ]
  },
  {
   "cell_type": "code",
   "execution_count": null,
   "id": "f6039a9e-e0da-4cbb-a416-64ab15cd46fa",
   "metadata": {},
   "outputs": [],
   "source": [
    "DROP TABLE AR_RESIDUALS_Sales;"
   ]
  },
  {
   "cell_type": "code",
   "execution_count": null,
   "id": "5f41db81-74cd-4dee-8a2c-d2cc4711e7d1",
   "metadata": {},
   "outputs": [],
   "source": [
    "DROP TABLE PLOT_ESTIMATE;"
   ]
  },
  {
   "cell_type": "code",
   "execution_count": null,
   "id": "e59fdf9d-a0d3-4e8f-a61d-a921fc5a012f",
   "metadata": {},
   "outputs": [],
   "source": [
    "DROP TABLE ARIMA_SlsFORECAST;"
   ]
  },
  {
   "cell_type": "code",
   "execution_count": null,
   "id": "b4cf6552-766c-4d60-a104-8f513e3ac783",
   "metadata": {},
   "outputs": [],
   "source": [
    "DROP TABLE PLOT_FORECAST;"
   ]
  },
  {
   "cell_type": "markdown",
   "id": "908157ef-0fc2-45bc-a805-79ef4e779226",
   "metadata": {},
   "source": [
    "<p style = 'font-size:18px;font-family:Arial;color:#00233C'> <b>Databases and Tables </b></p>\n",
    "<p style = 'font-size:16px;font-family:Arial;color:#00233C'>The following code will clean up tables and databases created above.</p>"
   ]
  },
  {
   "cell_type": "code",
   "execution_count": null,
   "id": "036041a0-904f-446b-9dba-56a1c7efde23",
   "metadata": {},
   "outputs": [],
   "source": [
    "call remove_data('DEMO_SlsForecast_SAS')        -- Takes 5 seconds"
   ]
  },
  {
   "cell_type": "markdown",
   "id": "c067a663-7143-4211-be45-8d71686d598d",
   "metadata": {},
   "source": [
    "<hr style=\"height:1px;border:none;background-color:#00233C;\">\n",
    "<p style = 'font-size:18px;font-family:Arial;color:#00233C'><b>Links:</b></p>\n",
    "<ul style = 'font-size:16px;font-family:Arial'>\n",
    "    <li>UAF(Unbounded Array Framework) Documentation: <a href = 'https://docs.teradata.com/r/Enterprise_IntelliFlex_VMware/Teradata-VantageTM-Unbounded-Array-Framework-Time-Series-Reference-17.20/Unbounded-Array-Framework'>https://docs.teradata.com/r/Enterprise_IntelliFlex_VMware/Teradata-VantageTM-Unbounded-Array-Framework-Time-Series-Reference-17.20/Unbounded-Array-Framework</a></li>\n",
    "</ul>"
   ]
  },
  {
   "cell_type": "markdown",
   "id": "c35aa079-f0f2-45e5-8009-af74fe2fbadf",
   "metadata": {},
   "source": [
    "<footer style=\"padding:10px;background:#f9f9f9;border-bottom:3px solid #394851\">Copyright © Teradata Corporation - 2023. All Rights Reserved.</footer>"
   ]
  }
 ],
 "metadata": {
  "kernelspec": {
   "display_name": "Teradata SQL",
   "language": "Teradata SQL",
   "name": "teradatasql"
  },
  "language_info": {
   "codemirror_mode": "Teradata SQL",
   "file_extension": ".tdrs",
   "mimetype": "application/vnd.teradata.resultset",
   "name": "Teradata SQL",
   "nbconvert_exporter": "",
   "pygments_lexer": "",
   "version": "16.20"
  }
 },
 "nbformat": 4,
 "nbformat_minor": 5
}
