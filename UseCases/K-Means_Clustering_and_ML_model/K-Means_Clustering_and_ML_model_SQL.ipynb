{
 "cells": [
  {
   "cell_type": "markdown",
   "id": "221b5b2a",
   "metadata": {},
   "source": [
    "<header>\n",
    "   <p  style='font-size:36px;font-family:Arial; color:#F0F0F0; background-color: #00233c; padding-left: 20pt; padding-top: 20pt;padding-bottom: 10pt; padding-right: 20pt;'>\n",
    "       Customer Segmentation with K-means Clustering and Data Preparation Piplelines\n",
    "  <br>\n",
    "       <img id=\"teradata-logo\" src=\"https://storage.googleapis.com/clearscape_analytics_demo_data/DEMO_Logo/teradata.svg\" alt=\"Teradata\" style=\"width: 125px; height: auto; margin-top: 20pt;\">\n",
    "    </p>\n",
    "</header>"
   ]
  },
  {
   "cell_type": "markdown",
   "id": "db3c9b69-2ca6-4e86-84ec-31d4af2b7432",
   "metadata": {},
   "source": [
    "<p style = 'font-size:20px;font-family:Arial;color:#00233C'><b>Introduction</b></p>"
   ]
  },
  {
   "cell_type": "markdown",
   "id": "7f6fb360",
   "metadata": {},
   "source": [
    "<b style = 'font-size:20px;font-family:Arial;'>Leverage native Vantage processing for efficient and highly scalable data preparation, model training, and evaluation workflows</b>\n",
    "\n",
    "<p style = 'font-size:16px;font-family:Arial;color:#00233C'>K-means clustering is one of the most popular <b>unsupervised</b> machine learning algorithms.  Essentially, the algorithm seeks to group similar data points together by minimizing the average (\"means\" in K-means) distance for all data points from each cluster's center (centroid).</p>\n",
    "\n",
    "<table style = 'width:100%;table-layout:fixed;'>\n",
    "    <tr>\n",
    "        <td style = 'vertical-align:top' width = '50%'>\n",
    "            <ol style = 'font-size:16px;font-family:Arial;color:#00233C'>\n",
    "                <li>Define the number of clusters (k)</li>\n",
    "                <br>\n",
    "                <li>The algorithm chooses random points as centroids</li>\n",
    "                <br>\n",
    "                <li>Each iteration attempts to optimize the centroid locations</li>\n",
    "                <br>\n",
    "                <li>Iterations end once the distances have stabilized or the max iteration count is reached</li>\n",
    "            </ol>\n",
    "        </td>\n",
    "        <td><img src = 'images/K-means_convergence.gif' width = '250'></td>\n",
    "    </tr>\n",
    "</table>\n",
    "\n",
    "<p style = 'font-size:16px;font-family:Arial;color:#00233C'>One limitation of this algorithm is that it only accepts numeric data as feature input (categorical clustering can be performed using K-modes algorithm).  Typically, data engineers or data scientists will perform multiple <b>serial</b> steps to prepare a numeric-only data set that can be passed to the K-means algorithm.</p>\n",
    "\n",
    "<p style = 'font-size:16px;font-family:Arial;color:#00233C'>Vantage provides native \"Fit and Transform\" functions to assist in data preparation and transformation at scale.  To aid in efficiency and operationalization, Vantage provides a bulk <b>Column Transformer</b> function which can take multiple transformation directives at the same time, and act on the whole data set at once.  This allows for both process and code simplification, allowing more streamlined and robust operational deployment.</p> \n",
    "\n",
    "<img src = 'Flow_Diagram_KMeans.png' width = 100%>\n"
   ]
  },
  {
   "cell_type": "markdown",
   "id": "4e9acd56",
   "metadata": {},
   "source": [
    "<p style = 'font-size:16px;font-family:Arial;color:#00233C'>The data for this demonstration is based on online purchase history data set, which can be found <a href = 'https://www.kaggle.com/code/hellbuoy/online-retail-k-means-hierarchical-clustering/data'>here</a>.  The goal is to segment the customers by purchase volume and value.  Steps are as follow:</p>\n",
    "\n",
    "<table style = 'width:100%;table-layout:fixed;'>\n",
    "    <tr>\n",
    "        <td style = 'vertical-align:top' width = '50%'>\n",
    "            <ol style = 'font-size:16px;font-family:Arial;color:#00233C'>\n",
    "                <li>Analyze the raw data, split a testing set</li>\n",
    "                <br>\n",
    "                <li>Engineer numeric features</li>\n",
    "                <br>\n",
    "                <li>Build the K-means model</li>\n",
    "                <br>\n",
    "                <li>Apply in-line transformation to the testing set</li>\n",
    "                <br>\n",
    "                <li>Make Predictions and evaluate model accuracy</li>\n",
    "            </ol>\n",
    "        </td>\n",
    "        <td><img src = 'images/clustering_img.png' width = '250'></td>\n",
    "    </tr>\n",
    "</table>"
   ]
  },
  {
   "cell_type": "markdown",
   "id": "aba72fbc-1d3d-4bed-a5f6-5a721972bc73",
   "metadata": {},
   "source": [
    "<hr style=\"height:2px;border:none;background-color:#00233C;\">\n",
    "<p style = 'font-size:20px;font-family:Arial;color:#00233C'><b>1. Connect to Vantage</b></p>\n",
    "<p style = 'font-size:16px;font-family:Arial;color:#00233C'>You will be prompted to provide the password. Enter your password, press Enter, then use down arrow to go to next cell.</p>"
   ]
  },
  {
   "cell_type": "code",
   "execution_count": null,
   "id": "e19a97de-4dce-4711-97e9-6a1d7c1d877d",
   "metadata": {},
   "outputs": [],
   "source": [
    "%connect local, hidewarnings=true"
   ]
  },
  {
   "cell_type": "markdown",
   "id": "6920942e-8c65-48e9-ac0e-7963a14bda72",
   "metadata": {},
   "source": [
    "<p style = 'font-size:16px;font-family:Arial;color:#00233C'>Setup for execution of notebook. Begin running steps with Shift + Enter keys.</p>"
   ]
  },
  {
   "cell_type": "code",
   "execution_count": null,
   "id": "424ff7ce-3eed-4736-a8d1-32bbda29a1ac",
   "metadata": {},
   "outputs": [],
   "source": [
    "SET query_band='DEMO=K-Means_Clustering_and_ML_model_SQL.ipynb;' UPDATE FOR SESSION;"
   ]
  },
  {
   "cell_type": "markdown",
   "id": "0cbb88de-754c-4963-b9ad-4dd7a6669b11",
   "metadata": {},
   "source": [
    "<p style = 'font-size:18px;font-family:Arial;color:#00233C'> <b>Getting Data for This Demo</b></p>\n",
    "<p style = 'font-size:16px;font-family:Arial;color:#00233C'>We have provided data for this demo on cloud storage. In this demo since we are using Temporal table we will be creating databases and tables in local storage and use them in the notebook. Please execute the procedure in the next cell.</p>"
   ]
  },
  {
   "cell_type": "code",
   "execution_count": null,
   "id": "4ab0ff68-5c8e-4b2f-b9f7-65d02dc44c5a",
   "metadata": {},
   "outputs": [],
   "source": [
    "-- call get_data('DEMO_Retail_cloud');    -- takes about 4 minutes\n",
    "call get_data('DEMO_Retail_local');     -- takes about 7 minutes"
   ]
  },
  {
   "cell_type": "markdown",
   "id": "753d6dfc-37a2-4bda-9ad9-dfce9571c67c",
   "metadata": {},
   "source": [
    "<p style = 'font-size:16px;font-family:Arial;color:#00233C'>Optional step – if you want to see status of databases/tables created and space used.</p>"
   ]
  },
  {
   "cell_type": "code",
   "execution_count": null,
   "id": "6ac90548-e904-49da-a8a6-769170ddefd5",
   "metadata": {},
   "outputs": [],
   "source": [
    "call space_report();  -- optional, takes about 10 seconds"
   ]
  },
  {
   "cell_type": "markdown",
   "id": "ec3cda83-bf40-42af-a1f8-a6102935c8bc",
   "metadata": {},
   "source": [
    "<p style = 'font-size:18px;font-family:Arial;color:#00233C'> <b> Access data in Vantage  </b> </p>\n",
    "<p style = 'font-size:16px;font-family:Arial;color:#00233C'>For this demo, data is already resident in Object Storage which we are accessing via ReadNOS, create a reference to the table, and sample the contents using the get_data procedure used above.  Data could just as easily reside in permanent tables, another RDBMS, or another Vantage system.</p>"
   ]
  },
  {
   "cell_type": "code",
   "execution_count": null,
   "id": "affb5a16-aaa0-45e7-8069-3619291bd1c5",
   "metadata": {},
   "outputs": [],
   "source": [
    "SELECT TOP 5 * FROM DEMO_Retail.UK_Retail_Data;"
   ]
  },
  {
   "cell_type": "markdown",
   "id": "83435d46",
   "metadata": {},
   "source": [
    "<hr style=\"height:2px;border:none;background-color:#00233C;\">\n",
    "<p style = 'font-size:20px;font-family:Arial;color:#00233C'><b>2. Data Preparation</b></p>\n",
    "<p style = 'font-size:16px;font-family:Arial;color:#00233C'>Here, we will inspect the original data set, and perform various preparation tasks.</p>\n",
    "\n",
    "<ol style = 'font-size:16px;font-family:Arial;color:#00233C'>\n",
    "    <li>Inspect the rows of the table</li>\n",
    "    <li>Inspect the column metadata using <a href = 'https://docs.teradata.com/search/all?query=TD_ColumnSummary&content-lang=en-US'>TD_ColumnSummary</a></li>\n",
    "    <li>Split off a testing data set to be used in evaluation</li>\n",
    "    </ol>"
   ]
  },
  {
   "cell_type": "markdown",
   "id": "4e586da8-8c11-4730-9111-d379e565f665",
   "metadata": {},
   "source": [
    "<hr style=\"height:1px;border:none;background-color:#00233C;\">"
   ]
  },
  {
   "cell_type": "markdown",
   "id": "dd822590",
   "metadata": {},
   "source": [
    "<p style = 'font-size:18px;font-family:Arial;color:#00233C'><b>2.1 View Column information</b></p>\n",
    "\n",
    "<p style = 'font-size:16px;font-family:Arial;color:#00233C'><a href = 'https://docs.teradata.com/search/all?query=TD_ColumnSummary&content-lang=en-US'>TD_ColumnSummary</a> provides more details on column values and ranges</p>"
   ]
  },
  {
   "cell_type": "code",
   "execution_count": null,
   "id": "0f3f56c4",
   "metadata": {},
   "outputs": [],
   "source": [
    "SELECT * FROM TD_ColumnSummary(\n",
    "    ON DEMO_Retail.UK_Retail_Data as inputtable\n",
    "    USING\n",
    "        targetcolumns('[0:7]')\n",
    ") as dt;"
   ]
  },
  {
   "cell_type": "markdown",
   "id": "6923aa5c-289f-488d-9d59-c2d9fac0fb38",
   "metadata": {},
   "source": [
    "<hr style=\"height:1px;border:none;background-color:#00233C;\">"
   ]
  },
  {
   "cell_type": "markdown",
   "id": "805e9e23",
   "metadata": {},
   "source": [
    "<p style = 'font-size:18px;font-family:Arial;color:#00233C'><b>2.2 Create a Testing data set</b></p>\n",
    "\n",
    "<p style = 'font-size:16px;font-family:Arial;color:#00233C'>From our sample data we are selecting some \"Customer ID\" values for testing later.</p>"
   ]
  },
  {
   "cell_type": "code",
   "execution_count": null,
   "id": "e41dc488",
   "metadata": {},
   "outputs": [],
   "source": [
    "REPLACE VIEW UK_Retail_Test_V as (\n",
    "    SELECT * FROM DEMO_Retail.UK_Retail_Data \n",
    "    WHERE CustomerID IN ('17307', '12503', '18268', '12908', '13693')\n",
    ");"
   ]
  },
  {
   "cell_type": "markdown",
   "id": "40f1a089",
   "metadata": {},
   "source": [
    "<hr style=\"height:2px;border:none;background-color:#00233C;\">\n",
    "<p style = 'font-size:20px;font-family:Arial;color:#00233C'><b>3. Feature Engineering</b></p>\n",
    "\n",
    "<p style = 'font-size:16px;font-family:Arial;color:#00233C'>Vantage provides many inDb feature engineering functions, in this section we will see how to prepare the data set for model training.  We will use standard SQL and various \"Fit\" functions to create input for the <a href = 'https://docs.teradata.com/search/all?query=TD_ColumnTransformer&content-lang=en-US'>TD_ColumnTransformer</a> function to take as input in order to execute a bulk transformation.</p>\n",
    "\n",
    "<ol style = 'font-size:16px;font-family:Arial;color:#00233C'>\n",
    "    <li>Create a per-customer grouping of data</li>\n",
    "    <li>Create Fit Tables\n",
    "        <ul><li>Remove Outliers</li>\n",
    "            <li>Impute Missing Values</li>\n",
    "            <li>Create New Numeric Features</li>\n",
    "            <li>Rescale the Data Set</li>\n",
    "        </ul></li>\n",
    "    <li>Call the final Transformation function</li>\n",
    "    </ol>"
   ]
  },
  {
   "cell_type": "markdown",
   "id": "da99ac70-04d1-4587-a888-930eb035e733",
   "metadata": {},
   "source": [
    "<hr style=\"height:1px;border:none;background-color:#00233C;\">"
   ]
  },
  {
   "cell_type": "markdown",
   "id": "555dfd13",
   "metadata": {},
   "source": [
    "<p style = 'font-size:18px;font-family:Arial;color:#00233C'><b>3.1 Create a per-customer table</b></p>\n",
    "\n",
    "<p style = 'font-size:16px;font-family:Arial;color:#00233C'>Simple GROUP BY, exclude the testing IDs.<br> Note there are 4367 unique customers in this training set.</p>"
   ]
  },
  {
   "cell_type": "code",
   "execution_count": null,
   "id": "66cf25c4",
   "metadata": {},
   "outputs": [],
   "source": [
    "REPLACE VIEW Customer_ID_Group_V AS (\n",
    "    SELECT CustomerID,\n",
    "        SUM(quantity) as TotalQuantity , \n",
    "        SUM(UnitPrice) as TotalPrice, \n",
    "        COUNT(DISTINCT(StockCode)) as TotalItems \n",
    "    FROM DEMO_Retail.UK_Retail_Data\n",
    "    WHERE CustomerID NOT IN ('17307', '12503', '18268', '12908', '13693')\n",
    "    GROUP BY CustomerID\n",
    ");"
   ]
  },
  {
   "cell_type": "code",
   "execution_count": null,
   "id": "600ded66",
   "metadata": {},
   "outputs": [],
   "source": [
    "SELECT COUNT(*) FROM Customer_ID_Group_V;"
   ]
  },
  {
   "cell_type": "markdown",
   "id": "f15fa44b-b8d6-4e86-b264-4c3944c04377",
   "metadata": {},
   "source": [
    "<hr style=\"height:1px;border:none;background-color:#00233C;\">"
   ]
  },
  {
   "cell_type": "markdown",
   "id": "dba90c65",
   "metadata": {},
   "source": [
    "<p style = 'font-size:18px;font-family:Arial;color:#00233C'><b>3.2 Create Fit Tables</b></p>\n",
    "\n",
    "<p style = 'font-size:16px;font-family:Arial;color:#00233C'>Vantage <a href = 'https://docs.teradata.com/search/all?query=Feature+Engineering+Transform+Functions&content-lang=en-US'>Feature Engineering Transform Functions</a> Use a \"Fit and Transform\" approach to make processing more modular and efficient.  \"Fit tables\" can be used as input to either individual Transform functions, or passed to a single <a href = 'https://docs.teradata.com/search/all?query=TD_ColumnTransformer&content-lang=en-US'>TD_ColumnTransformer</a> function.</p>\n",
    "\n",
    "<table style = 'width:100%;table-layout:fixed;'>\n",
    "    <tr>\n",
    "        <td style = 'vertical-align:top' width = '50%'>\n",
    "<ul style = 'font-size:16px;font-family:Arial;color:#00233C'>\n",
    "    <li>Fit outlier removal using <a href = 'https://docs.teradata.com/search/all?query=TD_OutlierFilterFit&content-lang=en-US'>TD_OutlierFilterFit</a></li>\n",
    "    <li>Fit a simple imputer to replace missing values using <a href = 'https://docs.teradata.com/search/all?query=TD_SimpleImputeFit&content-lang=en-US'>TD_SimpleImputeFit</a></li>\n",
    "    <li>Fit column calculations to create new features using <a href = 'https://docs.teradata.com/search/all?query=TD_NonLinearCombineFit&content-lang=en-US'>TD_NonLinearCombineFit</a></li>\n",
    "    <li>Call <a href = 'https://docs.teradata.com/search/all?query=TD_ColumnTransformer&content-lang=en-US'>TD_ColumnTransformer</a> to execute the transformations (to allow for Scaling)</li>\n",
    "    <li>Rescale the data using <a href = 'https://docs.teradata.com/search/all?query=TD_ScaleFit&content-lang=en-US'>TD_ScaleFit/Transform</a></li>\n",
    "            </ul></td>\n",
    "        <td><img src = 'images/fit_transform.png' width = '300'></td>\n",
    "    </tr>\n",
    "    </table>"
   ]
  },
  {
   "cell_type": "markdown",
   "id": "882d613e-9565-45cf-81fb-f528bd9d4c38",
   "metadata": {},
   "source": [
    "<p style = 'font-size:16px;font-family:Arial;color:#00233C'><b>TD_OutlierFilterFit</b> function calculates the lower_percentile, upper_percentile, count of rows and median for the specified input table columns. The calculated values for each column help the\n",
    "    <b>TD_OutlierFilterTransform</b> function detect outliers in the input table."
   ]
  },
  {
   "cell_type": "code",
   "execution_count": null,
   "id": "4eb93c8c-f84b-4e10-a5da-32a431f09f97",
   "metadata": {},
   "outputs": [],
   "source": [
    "-- Remove Outliers\n",
    "-- Trim below 3rd, and above 97th percentile\n",
    "\n",
    "CREATE MULTISET VOLATILE TABLE outlierFit_CS as (\n",
    "    SELECT * from TD_OutlierFilterFit(\n",
    "        ON Customer_ID_Group_V as inputTable\n",
    "        USING\n",
    "        TargetColumns('TotalQuantity','TotalPrice')\n",
    "        LowerPercentile(0.03)\n",
    "        UpperPercentile(0.97)\n",
    "        OutlierMethod('Percentile')\n",
    "        PercentileMethod('PercentileCont')\n",
    "        ReplacementValue('Median')\n",
    "    )as dt\n",
    ") WITH DATA\n",
    "ON COMMIT PRESERVE ROWS;"
   ]
  },
  {
   "cell_type": "markdown",
   "id": "ed1d1825-83bd-4b92-9d53-87cfea6bf046",
   "metadata": {},
   "source": [
    "<p style = 'font-size:16px;font-family:Arial;color:#00233C'><b>TD_SimpleImputeFit </b>will output a table with the values that will be used to substitute the missing values<br>\n",
    "    <b>TD_SimpleImputeTransform</b> will return the input data set with the missing values filled in."
   ]
  },
  {
   "cell_type": "code",
   "execution_count": null,
   "id": "83d09e2f-898a-4d2c-b1cf-79daa8cf80df",
   "metadata": {},
   "outputs": [],
   "source": [
    "-- Impute Missing Values\n",
    "-- Replace any missing CustomerID with a specific value\n",
    "\n",
    "CREATE MULTISET VOLATILE TABLE ImputeFit_CS AS (\n",
    "    SELECT * FROM TD_SimpleImputeFit(\n",
    "        ON Customer_ID_Group_V AS InputTable\n",
    "        USING\n",
    "        ColsForLiterals('CustomerID')\n",
    "        Literals('19000')                                        \n",
    "    ) AS dt\n",
    ") WITH DATA\n",
    "ON COMMIT PRESERVE ROWS;"
   ]
  },
  {
   "cell_type": "markdown",
   "id": "548d4822-3e13-4c50-afac-995aaad2fa9d",
   "metadata": {},
   "source": [
    "<p style = 'font-size:16px;font-family:Arial;color:#00233C'><b>TD_NonLinearCombineFit</b> function returns the target columns and a specified formula which uses the non-linear combination of existing features.\n"
   ]
  },
  {
   "cell_type": "code",
   "execution_count": null,
   "id": "b585b0bd-6db2-41b0-a638-ecc1899b0c70",
   "metadata": {},
   "outputs": [],
   "source": [
    "-- Create a new column by multiplying quantity and price\n",
    "\n",
    "SELECT * FROM TD_NonLinearCombineFit (\n",
    "    ON Customer_ID_Group_V as InputTable\n",
    "    OUT VOLATILE TABLE OutputTable (NonLinearCombineFit_CS_TotalSales)\n",
    "    USING\n",
    "        TargetColumns ('TotalQuantity','TotalPrice')\n",
    "        Formula ('Y = X1*X0')\n",
    "        ResultColumn ('TotalSales')\n",
    ") AS dt;"
   ]
  },
  {
   "cell_type": "code",
   "execution_count": null,
   "id": "1b08a0e4",
   "metadata": {},
   "outputs": [],
   "source": [
    "-- Create another new column by diving the total sales by the number of unique items\n",
    "\n",
    "SELECT * FROM TD_NonLinearCombineFit (\n",
    "   ON Customer_ID_Group_V AS InputTable\n",
    "   OUT VOLATILE TABLE OutputTable (NonLinearCombineFit_CS_SalesPerItem)\n",
    "   USING\n",
    "   TargetColumns ('TotalQuantity','TotalPrice','TotalItems')\n",
    "   Formula ('Y = (X0*X1)/X2')\n",
    "   ResultColumn ('SalesPerItem')\n",
    ") AS dt;"
   ]
  },
  {
   "cell_type": "markdown",
   "id": "5dc7b2b7-c4ce-47bd-9569-675e553f9757",
   "metadata": {},
   "source": [
    "<p style = 'font-size:16px;font-family:Arial;color:#00233C'><b>The TD_ColumnTransformer</b> function transforms the entire dataset in a single operation. You only need to provide the FIT tables to the function, and the function runs all transformations that you require in a\n",
    "single operation. Running all the it table transformations together in one-go gives approx. 30% performance improvement over running each transformation sequentially.</p>"
   ]
  },
  {
   "cell_type": "code",
   "execution_count": null,
   "id": "5ddf01fb-b734-4e6f-9ab0-a3a359596e39",
   "metadata": {},
   "outputs": [],
   "source": [
    "-- Execute ColumnTransformer to build the data set\n",
    "\n",
    "CREATE MULTISET VOLATILE TABLE Transformed_Customer_ID_Group_VT AS (\n",
    "    SELECT * from TD_ColumnTransformer(\n",
    "        ON Customer_ID_Group_V AS InputTable\n",
    "        \n",
    "        ON OutlierFit_CS AS OutlierFilterFitTable DIMENSION\n",
    "        ON ImputeFit_CS AS SimpleImputeFitTable DIMENSION\n",
    "        ON NonLinearCombineFit_CS_TotalSales AS NonLinearCombineFitTable DIMENSION\n",
    "        ON NonLinearCombineFit_CS_SalesPerItem as NonLinearCombineFitTable DIMENSION\n",
    "    ) AS dt\n",
    ")WITH DATA \n",
    "ON COMMIT PRESERVE ROWS;"
   ]
  },
  {
   "cell_type": "markdown",
   "id": "2f839c04-8146-4d1b-9c4a-7ecde400d9d5",
   "metadata": {},
   "source": [
    "<p style = 'font-size:16px;font-family:Arial;color:#00233C'><b>TD_ScaleFit and TDScaleTransform </b>scales specified input\n",
    "table columns i.e perform the specific scale methods like standard deviation, mean etc to the input columns </p> "
   ]
  },
  {
   "cell_type": "code",
   "execution_count": null,
   "id": "ef7ca038-1dc6-4433-800d-fbc8864210f3",
   "metadata": {},
   "outputs": [],
   "source": [
    "-- ScaleFit/Transform to rescale the data\n",
    "\n",
    "SELECT * FROM TD_ScaleFit(\n",
    "    ON Transformed_Customer_ID_Group_VT AS InputTable\n",
    "    OUT VOLATILE TABLE OutputTable(ScaleFit_CS)\n",
    "    USING\n",
    "        TargetColumns('TotalQuantity','TotalItems','TotalPrice','TotalSales','SalesPerItem')\n",
    "        ScaleMethod('range')\n",
    ") AS dt;"
   ]
  },
  {
   "cell_type": "code",
   "execution_count": null,
   "id": "9d527164-6711-4403-98a2-308c76f8b474",
   "metadata": {},
   "outputs": [],
   "source": [
    "CREATE MULTISET VOLATILE TABLE Scaled_Transformed_Customer_ID_Group_VT AS (\n",
    "    SELECT * FROM TD_ScaleTransform(\n",
    "        ON Transformed_Customer_ID_Group_VT AS InputTable\n",
    "        ON ScaleFit_CS as FitTable DIMENSION\n",
    "        USING\n",
    "            Accumulate('CustomerID')\n",
    "    ) AS dt\n",
    ") WITH DATA\n",
    "ON COMMIT PRESERVE ROWS;"
   ]
  },
  {
   "cell_type": "markdown",
   "id": "1600baf7-be81-4e2b-9a7a-87a7677f8f19",
   "metadata": {},
   "source": [
    "<p style = 'font-size:16px;font-family:Arial;color:#00233C'>Let us look at the final values which we will now input to the model. </p> "
   ]
  },
  {
   "cell_type": "code",
   "execution_count": null,
   "id": "d9d2acef-faab-47e5-ac09-64df7351004b",
   "metadata": {},
   "outputs": [],
   "source": [
    "SELECT TOP 5 * FROM Scaled_Transformed_Customer_ID_Group_VT;"
   ]
  },
  {
   "cell_type": "markdown",
   "id": "1e4d43dc-d5a4-47c1-adae-78754f6008c2",
   "metadata": {},
   "source": [
    "<hr style=\"height:2px;border:none;background-color:#00233C;\">"
   ]
  },
  {
   "cell_type": "markdown",
   "id": "1b5a61ce",
   "metadata": {
    "tags": []
   },
   "source": [
    "<p style = 'font-size:20px;font-family:Arial;color:#00233C'><b>4. Build the K-means Model</b></p>\n",
    "\n",
    "<p style = 'font-size:16px;font-family:Arial;color:#00233C'>As discussed above, the K-means algorithm takes a number of clusters \"k\", chooses a random starting point for each centroid, and iterates until a hard limit, or an optimum value is reached.</p>\n",
    "\n",
    "<p style = 'font-size:16px;font-family:Arial;color:#00233C'><b>Finding an Ideal value for K</b></p>\n",
    "<table style = 'width:100%;table-layout:fixed;'>\n",
    "    <tr>\n",
    "        <td style = 'vertical-align:top' width = '50%'>\n",
    "<p style = 'font-size:16px;font-family:Arial;color:#00233C'>The example below uses a value of 5 for the number of clusters to build the model against.  Typically, data scientists will build the model using various values for \"k\", and plot the \"WCSS\" (Within Cluster Sum-of-Squares) value on a series of each value chosen for k.  The \"elbow\" point (where the slope changes) is usually a good value for k.  <a href = 'https://docs.teradata.com/search/all?query=TD_KMeans&content-lang=en-US'>TD_KMeans</a> function will return this value as \"TotalWithinSS : ###\" as a row in the \"td_modelinfo_kmeans\" column.</p></td>\n",
    "        <td><img src = 'images/WCSS_elbow.png' width = '300'></td>\n",
    "    </tr>\n",
    "    </table>\n",
    "\n",
    "<p style = 'font-size:16px;font-family:Arial;color:#00233C'><b>Other Function Parameters Include (but are not limited to)</b></p>\n",
    "<ul style = 'font-size:16px;font-family:Arial;color:#00233C'>\n",
    "    <li>Input Table</li>\n",
    "    <li>StopThreshold - The algorithm converges if the distance between the centroids from the previous iteration and the current iteration is less than the specified value.</li>\n",
    "    <li>MaxIterNum</li>Specify the maximum number of iterations for the K-means algorithm. The algorithm stops after performing the specified number of iterations even if the convergence criterion is not met.\n",
    "    </ul>"
   ]
  },
  {
   "cell_type": "code",
   "execution_count": null,
   "id": "2913528c",
   "metadata": {},
   "outputs": [],
   "source": [
    "SELECT TOP 5 * from TD_KMeans (\n",
    "    ON Scaled_Transformed_Customer_ID_Group_VT as InputTable\n",
    "    OUT TABLE ModelTable(KMeans_Model)\n",
    "    USING\n",
    "        IdColumn('CustomerID')\n",
    "        TargetColumns('TotalQuantity','TotalPrice','TotalItems','TotalSales','SalesPerItem')\n",
    "        StopThreshold(0.0395)\n",
    "        NumClusters(5)\n",
    "        -- Seed(0)\n",
    "        MaxIterNum(500)\n",
    "        -- OutputClusterAssignment('true')\n",
    ") AS dt;"
   ]
  },
  {
   "cell_type": "markdown",
   "id": "e21eab9f-69af-427a-a523-c6aca8cd187f",
   "metadata": {},
   "source": [
    "<p style = 'font-size:16px;font-family:Arial;color:#00233C'>From the generated model we can see how many ids are there in each cluster, what is the size of each cluster, number of iterations it took for model to converge etc.\n",
    "    "
   ]
  },
  {
   "cell_type": "code",
   "execution_count": null,
   "id": "f60ce225-1d8b-4c8b-ab0a-1c8c0aa7e147",
   "metadata": {},
   "outputs": [],
   "source": [
    "SELECT TOP 5 td_clusterid_kmeans, td_size_kmeans FROM KMeans_Model;"
   ]
  },
  {
   "cell_type": "code",
   "execution_count": null,
   "id": "da4009af-4bb7-461f-b0a8-ca9a7cdae0b3",
   "metadata": {},
   "outputs": [],
   "source": [
    "%chart x = td_clusterid_kmeans, y = td_size_kmeans, typex = q, typey = q,\n",
    "labelx = \"cluster ids\", labely = \"count of ids\", type = bar,\n",
    "title = \"Number of Ids in each Cluster\", height = 400, width = 400"
   ]
  },
  {
   "cell_type": "markdown",
   "id": "edc5f4a7-b685-4044-8802-a208abe21f81",
   "metadata": {},
   "source": [
    "<p style = 'font-size:16px;font-family:Arial;color:#00233C'>The above barchart shows the number of ids in each cluster where cluster_id is 0-4 generated by the TD_Kmeans function.<br>Let us now visualize how the clusters look like. We have used five columns to create clusters namely 'TotalQuantity','TotalPrice','TotalItems','TotalSales','SalesPerItem'.<br> For the visualization in 2d plane i.e with X and Y coordinates we will use two of these column values for our plots."
   ]
  },
  {
   "cell_type": "code",
   "execution_count": null,
   "id": "e2dc2050-d8ff-42c2-a455-feaf0cd0e06a",
   "metadata": {},
   "outputs": [],
   "source": [
    "SELECT TOP 5 * FROM TD_KMeansPredict (\n",
    "        ON Scaled_Transformed_Customer_ID_Group_VT AS InputTable\n",
    "        ON KMeans_Model AS ModelTable DIMENSION\n",
    "        USING\n",
    "            OutputDistance('true')\n",
    "            Accumulate('[1:5]')\n",
    ") AS dt;"
   ]
  },
  {
   "cell_type": "code",
   "execution_count": null,
   "id": "4ec7dac0-f873-4b04-bd9e-a285700c496c",
   "metadata": {},
   "outputs": [],
   "source": [
    "%chart x = TotalQuantity, y = TotalPrice, groupingcol = td_clusterid_kmeans, typegroupingcol = nominal,\n",
    "mark = point, title = 'TotalQuantity Vs TotalPrice clusters', height = 400, width = 600"
   ]
  },
  {
   "cell_type": "markdown",
   "id": "47575320-8a67-465c-85bd-c12d15e02131",
   "metadata": {},
   "source": [
    "<p style = 'font-size:16px;font-family:Arial;color:#00233C'> In the above chart we have plotted TotalQuantity Vs TotalPrice to see how the clusters look like in the 2d plane where X axis is TotalQuantity and Y axis is TotalPrice. Note that this is only due to the limitation of visualization on being only in 2 dimensions where as the cluster creation is based on all 5 columns."
   ]
  },
  {
   "cell_type": "code",
   "execution_count": null,
   "id": "03f288d2-479a-4318-acfc-3a0536ee22ff",
   "metadata": {},
   "outputs": [],
   "source": [
    "%chart x = TotalQuantity, y = TotalSales, groupingcol = td_clusterid_kmeans, typegroupingcol = nominal,\n",
    "mark = point, title = 'TotalQuantity Vs TotalSales clusters', height = 400, width = 600"
   ]
  },
  {
   "cell_type": "markdown",
   "id": "f21a88b9-6209-4687-955e-07dc97952c13",
   "metadata": {},
   "source": [
    "<p style = 'font-size:16px;font-family:Arial;color:#00233C'> In the above chart we have plotted TotalQuantity Vs TotalSales. See how the chart is different from the TotalQuantity Vs TotalPrice chart. You can change the values for x-axis and y-axis to see how the clusters with rest of the columns looks like."
   ]
  },
  {
   "cell_type": "markdown",
   "id": "8304ae16",
   "metadata": {},
   "source": [
    "<hr style=\"height:2px;border:none;background-color:#00233C;\">\n",
    "<p style = 'font-size:20px;font-family:Arial;color:#00233C'><b>5. Bulk Transformation</b></p>\n",
    "\n",
    "<p style = 'font-size:16px;font-family:Arial;color:#00233C'>Here, the Fit tables created above will be passed to a single <a href = 'https://docs.teradata.com/search/all?query=TD_ColumnTransformer&content-lang=en-US'>TD_ColumnTransformer</a> function.  This is similar to an operational approach, where a single query will prepare new or incoming data for immediate analysis.</p>\n",
    "\n",
    "<img src = 'images/column_transformer.png' width = '300'>"
   ]
  },
  {
   "cell_type": "code",
   "execution_count": null,
   "id": "fe00187b",
   "metadata": {},
   "outputs": [],
   "source": [
    "SELECT TOP 5 * FROM UK_Retail_Test_V;"
   ]
  },
  {
   "cell_type": "code",
   "execution_count": null,
   "id": "11dd053c",
   "metadata": {},
   "outputs": [],
   "source": [
    "-- Steps broken up above can be put together into a single query\n",
    "\n",
    "REPLACE VIEW Scaled_Transformed_Test_V AS (\n",
    "    \n",
    "SELECT * FROM TD_ColumnTransformer(\n",
    "            -- Use our groupby inside the ON clause\n",
    "            ON (SELECT CustomerID,\n",
    "                    SUM(quantity) AS TotalQuantity , \n",
    "                    SUM(UnitPrice) AS TotalPrice, \n",
    "                    COUNT(DISTINCT(StockCode)) AS TotalItems\n",
    "                FROM UK_Retail_Test_V\n",
    "                GROUP BY CustomerID\n",
    "                ) AS InputTable\n",
    "            \n",
    "            -- Pass each fit table from above as dimensions\n",
    "            ON OutlierFit_CS AS OutlierFilterFitTable DIMENSION\n",
    "            ON ImputeFit_CS AS SimpleImputeFitTable DIMENSION\n",
    "            ON NonLinearCombineFit_CS_TotalSales AS NonLinearCombineFitTable DIMENSION\n",
    "            ON NonLinearCombineFit_CS_SalesPerItem AS NonLinearCombineFitTable DIMENSION\n",
    "            ON ScaleFit_CS as ScaleFitTable DIMENSION\n",
    "    ) AS dt\n",
    ")"
   ]
  },
  {
   "cell_type": "code",
   "execution_count": null,
   "id": "1e4d5980",
   "metadata": {},
   "outputs": [],
   "source": [
    "SELECT TOP 5 * FROM Scaled_Transformed_Test_V;"
   ]
  },
  {
   "cell_type": "markdown",
   "id": "ddce515c",
   "metadata": {},
   "source": [
    "<hr style=\"height:2px;border:none;background-color:#00233C;\">\n",
    "<p style = 'font-size:20px;font-family:Arial;color:#00233C'><b>6. Predict and Evaluate</b></p>\n",
    "\n",
    "<p style = 'font-size:16px;font-family:Arial;color:#00233C'>Finally, we run the model against new (in this case testing) data using <a href = 'https://docs.teradata.com/search/all?query=TD_KMeansPredict&content-lang=en-US'>TD_KMeansPredict</a>.  The preparation step has been completed in a single query above.  Additionally, we will use an evaluation function <a href = 'https://docs.teradata.com/search/all?query=TD_Silhouette&content-lang=en-US'>TD_Silhouette</a> to analyze how well the new cluster predictions match the original model.</p>\n",
    "\n",
    "<ol style = 'font-size:16px;font-family:Arial;color:#00233C'>\n",
    "    <li>Call TD_KMeansPredict</li>\n",
    "    <li>Inpect the results</li>\n",
    "    <li>Call TD_Silhouette on the output</li>\n",
    "    </ol>"
   ]
  },
  {
   "cell_type": "markdown",
   "id": "a056326b-e80d-4655-96c3-bfa3e6bba20b",
   "metadata": {},
   "source": [
    "<hr style=\"height:1px;border:none;background-color:#00233C;\">"
   ]
  },
  {
   "cell_type": "markdown",
   "id": "bbd8c482",
   "metadata": {},
   "source": [
    "<p style = 'font-size:20px;font-family:Arial;color:#00233C'><b>6.1 Call the Prediction Function</b></p>\n",
    "\n",
    "<p style = 'font-size:16px;font-family:Arial;color:#00233C'>Pass the Input Data, Model Table, and other parameters including columns to accumulate.  Note here we create a new View to assist with Silhouette analysis of the prediction.</p>"
   ]
  },
  {
   "cell_type": "code",
   "execution_count": null,
   "id": "0508b593",
   "metadata": {},
   "outputs": [],
   "source": [
    "REPLACE VIEW KMeans_Output_V AS (\n",
    "    SELECT * FROM TD_KMeansPredict (\n",
    "        ON Scaled_Transformed_Test_V AS InputTable\n",
    "        ON KMeans_Model as ModelTable DIMENSION\n",
    "        USING\n",
    "            OutputDistance('true')\n",
    "            Accumulate('[1:5]')\n",
    "    ) AS dt\n",
    ")"
   ]
  },
  {
   "cell_type": "markdown",
   "id": "372fcd7c-63aa-4863-81e1-ea409e305190",
   "metadata": {},
   "source": [
    "<hr style=\"height:1px;border:none;background-color:#00233C;\">"
   ]
  },
  {
   "cell_type": "markdown",
   "id": "425d8e7e",
   "metadata": {},
   "source": [
    "<p style = 'font-size:18px;font-family:Arial;color:#00233C'><b>6.2 Inspect the Results</b></p>\n",
    "\n",
    "<p style = 'font-size:16px;font-family:Arial;color:#00233C'>Simple SELECT on the output view will show us the results</p>"
   ]
  },
  {
   "cell_type": "code",
   "execution_count": null,
   "id": "7b242c95",
   "metadata": {},
   "outputs": [],
   "source": [
    "SELECT TOP 5 * FROM KMeans_Output_V;"
   ]
  },
  {
   "cell_type": "markdown",
   "id": "31622174-0e43-47a6-8ac4-574e49c20969",
   "metadata": {},
   "source": [
    "<hr style=\"height:1px;border:none;background-color:#00233C;\">"
   ]
  },
  {
   "cell_type": "markdown",
   "id": "7b3b1ebf",
   "metadata": {},
   "source": [
    "<p style = 'font-size:20px;font-family:Arial;color:#00233C'><b>6.3 Evaluate the Prediction</b></p>\n",
    "\n",
    "<p style = 'font-size:16px;font-family:Arial;color:#00233C'><a href = 'https://docs.teradata.com/search/all?query=TD_Silhouette&content-lang=en-US'>TD_Silhouette</a> is a native Vantage function that evaluates the similarity of an object to its cluster (cohesion) compared to other clusters (separation).  The silhouette scores and its definitions are as follows:</p>\n",
    "\n",
    "<ul style = 'font-size:16px;font-family:Arial;color:#00233C'>\n",
    "    <li>1: Data is appropriately clustered</li>\n",
    "    <li>-1: Data is not appropriately clustered</li>\n",
    "    <li>0: Datum is on the border of two natural clusters</li>\n",
    "    </ul>\n",
    "\n",
    "<p style = 'font-size:16px;font-family:Arial;color:#00233C'>See the documentation for a full listing of parameters and return values.</p>"
   ]
  },
  {
   "cell_type": "code",
   "execution_count": null,
   "id": "abf6fee1",
   "metadata": {},
   "outputs": [],
   "source": [
    "SELECT * FROM TD_Silhouette(\n",
    "    ON KMeans_Output_V AS inputTable\n",
    "    USING\n",
    "        IdColumn('CustomerID')\n",
    "        ClusterIdColumn('td_clusterid_kmeans')\n",
    "        TargetColumns('[3:7]')\n",
    "        OutputType('SCORE')\n",
    ") AS dt;"
   ]
  },
  {
   "cell_type": "markdown",
   "id": "6e3c45e9",
   "metadata": {},
   "source": [
    "<hr style=\"height:2px;border:none;background-color:#00233C;\">\n",
    "<p style = 'font-size:20px;font-family:Arial;color:#00233C'><b>7. Clean up</b></p>\n",
    "<p style = 'font-size:18px;font-family:Arial;color:#00233C'><b>Worktables</b></p>"
   ]
  },
  {
   "cell_type": "code",
   "execution_count": null,
   "id": "6abb9da1",
   "metadata": {},
   "outputs": [],
   "source": [
    "DROP VIEW UK_Retail_Test_V;"
   ]
  },
  {
   "cell_type": "code",
   "execution_count": null,
   "id": "b528cd76",
   "metadata": {},
   "outputs": [],
   "source": [
    "DROP VIEW Customer_ID_Group_V;"
   ]
  },
  {
   "cell_type": "code",
   "execution_count": null,
   "id": "b3de98b6",
   "metadata": {},
   "outputs": [],
   "source": [
    "DROP TABLE KMeans_Model;"
   ]
  },
  {
   "cell_type": "code",
   "execution_count": null,
   "id": "98583a63-1ad3-42b6-88f2-5cf490cae4d3",
   "metadata": {},
   "outputs": [],
   "source": [
    "DROP VIEW Scaled_Transformed_Test_V;"
   ]
  },
  {
   "cell_type": "code",
   "execution_count": null,
   "id": "8e840190-7fdd-4fc4-a232-f61bc94699b5",
   "metadata": {},
   "outputs": [],
   "source": [
    "DROP VIEW KMeans_Output_V;"
   ]
  },
  {
   "cell_type": "markdown",
   "id": "ad5faff7-098d-47e5-aedc-b1c404065d26",
   "metadata": {},
   "source": [
    "<p style = 'font-size:20px;font-family:Arial;color:#00233C'> <b>Database and Tables </b></p>\n",
    "<p style = 'font-size:16px;font-family:Arial;color:#00233C'>The following code will clean up tables and databases created above.</p>"
   ]
  },
  {
   "cell_type": "code",
   "execution_count": null,
   "id": "fbf5f8df-ad8e-483d-951f-4339b567be1e",
   "metadata": {},
   "outputs": [],
   "source": [
    "call remove_data('DEMO_Retail');    -- takes about 5 seconds, optional if you want to use the data later"
   ]
  },
  {
   "cell_type": "markdown",
   "id": "1eeef016-05c7-45e4-af12-3bcf958f13b3",
   "metadata": {},
   "source": [
    "<hr style=\"height:2px;border:none;background-color:#00233C;\">\n",
    "<p style = 'font-size:20px;font-family:Arial;color:#00233C'> <b> 8. Conclusion </b> </p>\n",
    "<p style = 'font-size:16px;font-family:Arial;color:#00233C'>In this notebook we have seen some of the Teradata Vantage Clearscape's new inDb functions and how we can create k clustering model from the transformed data.</p>"
   ]
  },
  {
   "cell_type": "markdown",
   "id": "56d2506b-0db7-4aeb-9b52-40af76e4201a",
   "metadata": {},
   "source": [
    "<p style = 'font-size:20px;font-family:Arial;color:#00233C'><b>Reference Links:</b></p>\n",
    "<ul style = 'font-size:16px;font-family:Arial;color:#00233C'>\n",
    "        <li>Teradata Analytic Function Reference:\n",
    "        <a href = 'https://docs.teradata.com/r/Teradata-VantageCloud-Lake/Analyzing-Your-Data/Analytics-Database-Analytic-Functions/Analytics-Database-Analytic-Functions-Overview'>\n",
    "        https://docs.teradata.com/r/Teradata-VantageCloud-Lake/Analyzing-Your-Data/Analytics-Database-Analytic-Functions/Analytics-Database-Analytic-Functions-Overview</a></li>\n",
    "  \n",
    "</ul>"
   ]
  },
  {
   "cell_type": "markdown",
   "id": "e439c913-9462-4bd4-aaec-51563ab81fa6",
   "metadata": {},
   "source": [
    "<footer style=\"padding-bottom:35px; background:#f9f9f9; border-bottom:3px solid #00233C\">\n",
    "    <div style=\"float:left;margin-top:14px\">ClearScape Analytics™</div>\n",
    "    <div style=\"float:right;\">\n",
    "        <div style=\"float:left; margin-top:14px\">\n",
    "            Copyright © Teradata Corporation - 2023. All Rights Reserved\n",
    "        </div>\n",
    "    </div>\n",
    "</footer>"
   ]
  }
 ],
 "metadata": {
  "kernelspec": {
   "display_name": "Teradata SQL",
   "language": "Teradata SQL",
   "name": "teradatasql"
  },
  "language_info": {
   "codemirror_mode": "Teradata SQL",
   "file_extension": ".tdrs",
   "mimetype": "application/vnd.teradata.resultset",
   "name": "Teradata SQL",
   "nbconvert_exporter": "",
   "pygments_lexer": "",
   "version": "16.20"
  },
  "toc-showmarkdowntxt": true
 },
 "nbformat": 4,
 "nbformat_minor": 5
}
