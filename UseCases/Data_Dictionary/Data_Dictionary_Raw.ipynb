{
 "cells": [
  {
   "cell_type": "markdown",
   "id": "d7a7118b",
   "metadata": {},
   "source": [
    "<b style = \"font-size:28px;font-family:Arial;color:#E37C4D\">Legacy Data Dictionary</b><img  src=\"Data_Dictionary.png\" alt=\"Data_Dictionary\" width=\"150\" align=\"right\" />\n",
    "\n",
    "\n",
    " The original source data for these demonstrations was exported to cloud storage from an internal platform used by Teradata associates for demonstrations called Vantage-Live. These tables have not been curated and some of the databases have several hundred tables ... some are copies and some are just work tables. Some may be useful in creating your demos. \n",
    "\n",
    "These databases will have a prefix of TRNG_ versus the curated demo databases with a prefix of DEMO_.\n",
    "\n",
    "\n",
    "After each database description are two \"run\" commands:\n",
    "<ol><li> a statement to create foreign tables to link to cloud storage, create a view database with 1:1 views pointing at those foreign tables, and any semantic views and other object needed by the demonstration</li>\n",
    "<li> a statement to import data from cloud storage to create local tables and 1:1 views pointing at those local tables. </li></ol>\n",
    "Click in the cell with the \"run\" statement and press SHIFT + ENTER to run either routine. All demonstrations will run either with NOS tables or local tables. The local tables will be faster, however that means you will need to manage local storage.\n",
    "\n",
    "<br>A complete description of the design of these databases is included at the end of this notebook.\n"
   ]
  },
  {
   "cell_type": "markdown",
   "id": "30f4186c",
   "metadata": {},
   "source": [
    " <p style = 'font-size:18px;font-family:Arial;color:#E37C4D'><b>Manage Your Space</b></p> \n",
    "You may use the \"manage space\" routine below to view current space usage and available space.  \n"
   ]
  },
  {
   "cell_type": "code",
   "execution_count": null,
   "id": "2c849ec1",
   "metadata": {},
   "outputs": [],
   "source": [
    "run -i DDL/manage_space.py"
   ]
  },
  {
   "cell_type": "markdown",
   "id": "b3a47273",
   "metadata": {},
   "source": [
    "<hr><b style = 'font-size:28px;font-family:Arial;color:#E37C4D'>Available Demonstration Databases</b>"
   ]
  },
  {
   "cell_type": "markdown",
   "id": "a8ea6cfb",
   "metadata": {},
   "source": [
    "### TRNG_AML\n",
    "TRNG_AML has 41 tables, 3.5 MB. The largest: transaction_detail, transaction_agg, party_acct\n"
   ]
  },
  {
   "cell_type": "code",
   "execution_count": null,
   "id": "42797e44",
   "metadata": {},
   "outputs": [],
   "source": [
    "run -i DDl/create_NOS_tables_and_views.py TRNG_AML.ddl"
   ]
  },
  {
   "cell_type": "code",
   "execution_count": null,
   "id": "53ddc597",
   "metadata": {},
   "outputs": [],
   "source": [
    "run -i DDL/import_tables_and_change_views.py TRNG_AML_db.ddl 1000"
   ]
  },
  {
   "cell_type": "markdown",
   "id": "ec1af6ce",
   "metadata": {},
   "source": [
    "### TRNG_AOpsEquipmentFailure\n",
    "TRNG_AOpsEquipmentFailure has 8 tables, 1.8 MB. The largest: stryker_gen_miles, wblMLE_Data, stryker_gen_part_fails\n"
   ]
  },
  {
   "cell_type": "code",
   "execution_count": null,
   "id": "ee55a7c9",
   "metadata": {},
   "outputs": [],
   "source": [
    "run -i DDL/create_NOS_tables_and_views.py TRNG_AOpsEquipmentFailure.ddl"
   ]
  },
  {
   "cell_type": "code",
   "execution_count": null,
   "id": "d734a163",
   "metadata": {},
   "outputs": [],
   "source": [
    "run -i DDL/import_tables_and_change_views.py TRNG_AOpsEquipmentFailure_db.ddl 1000"
   ]
  },
  {
   "cell_type": "markdown",
   "id": "b92c5ba3",
   "metadata": {},
   "source": [
    "### TRNG_AP\n",
    "TRNG_AP has 7 tables, 1.5 MB. The largest: Accounts, Trans, Customer\n"
   ]
  },
  {
   "cell_type": "code",
   "execution_count": null,
   "id": "22c9cd73",
   "metadata": {},
   "outputs": [],
   "source": [
    "run -i DDL/create_NOS_tables_and_views.py TRNG_AP.ddl"
   ]
  },
  {
   "cell_type": "code",
   "execution_count": null,
   "id": "52d22c88",
   "metadata": {},
   "outputs": [],
   "source": [
    "run -i DDL/import_tables_and_change_views.py TRNG_AP_db.ddl 1000"
   ]
  },
  {
   "cell_type": "markdown",
   "id": "b2e26817",
   "metadata": {},
   "source": [
    "### TRNG_APJ_TechSummit21\n",
    "TRNG_APJ_TechSummit21 has 2 tables, 0.3 MB. The largest: diabetic_data, hospital_codes\n"
   ]
  },
  {
   "cell_type": "code",
   "execution_count": null,
   "id": "2fee0759",
   "metadata": {},
   "outputs": [],
   "source": [
    "run -i DDL/create_NOS_tables_and_views.py TRNG_APJ_TechSummit21.ddl"
   ]
  },
  {
   "cell_type": "code",
   "execution_count": null,
   "id": "1105e45b",
   "metadata": {},
   "outputs": [],
   "source": [
    "run -i DDL/import_tables_and_change_views.py TRNG_APJ_TechSummit21_db.ddl 1000"
   ]
  },
  {
   "cell_type": "markdown",
   "id": "ad315365",
   "metadata": {},
   "source": [
    "### TRNG_APJ_TechSummit22\n",
    "No description available"
   ]
  },
  {
   "cell_type": "code",
   "execution_count": null,
   "id": "f93602c2",
   "metadata": {},
   "outputs": [],
   "source": [
    "run -i DDL/create_NOS_tables_and_views.py TRNG_APJ_TechSummit22.ddl"
   ]
  },
  {
   "cell_type": "code",
   "execution_count": null,
   "id": "e8436c42",
   "metadata": {},
   "outputs": [],
   "source": [
    "run -i DDL/import_tables_and_change_views.py TRNG_APJ_TechSummit22_db.ddl 1000"
   ]
  },
  {
   "cell_type": "markdown",
   "id": "5f8b0bde",
   "metadata": {},
   "source": [
    "### TRNG_AirPassengers\n",
    "TRNG_AirPassengers has 1 table, 0.6 MB.\n"
   ]
  },
  {
   "cell_type": "code",
   "execution_count": null,
   "id": "de307ed0",
   "metadata": {},
   "outputs": [],
   "source": [
    "run -i DDL/create_NOS_tables_and_views.py TRNG_AirPassengers.ddl"
   ]
  },
  {
   "cell_type": "code",
   "execution_count": null,
   "id": "2499406c",
   "metadata": {},
   "outputs": [],
   "source": [
    "run -i DDL/import_tables_and_change_views.py TRNG_AirPassengers_db.ddl 1000"
   ]
  },
  {
   "cell_type": "markdown",
   "id": "fed0ad80",
   "metadata": {},
   "source": [
    "### TRNG_AnalyticOps\n",
    "TRNG_AnalyticOps has 9 tables, 8.6 MB. The largest: ml__td_xgboost0_15808958607830, AOA_MODELS_3a7e54f5, AOA_MODELS_d68791b5\n"
   ]
  },
  {
   "cell_type": "code",
   "execution_count": null,
   "id": "85e9f8dc",
   "metadata": {},
   "outputs": [],
   "source": [
    "run -i DDL/create_NOS_tables_and_views.py TRNG_AnalyticOps.ddl"
   ]
  },
  {
   "cell_type": "code",
   "execution_count": null,
   "id": "e17818ed",
   "metadata": {},
   "outputs": [],
   "source": [
    "run -i DDL/import_tables_and_change_views.py TRNG_AnalyticOps_db.ddl 1000"
   ]
  },
  {
   "cell_type": "markdown",
   "id": "28026008",
   "metadata": {},
   "source": [
    "### TRNG_AustinBikeShare\n",
    "TRNG_AustinBikeShare has 4 tables, 0.3 MB. The largest: Weather, stations, weather_temporal\n"
   ]
  },
  {
   "cell_type": "code",
   "execution_count": null,
   "id": "13a61bc7",
   "metadata": {},
   "outputs": [],
   "source": [
    "run -i DDL/create_NOS_tables_and_views.py TRNG_AustinBikeShare.ddl"
   ]
  },
  {
   "cell_type": "code",
   "execution_count": null,
   "id": "a6619cbe",
   "metadata": {},
   "outputs": [],
   "source": [
    "run -i DDL/import_tables_and_change_views.py TRNG_AustinBikeShare_db.ddl 1000"
   ]
  },
  {
   "cell_type": "markdown",
   "id": "5f9bb931",
   "metadata": {},
   "source": [
    "### TRNG_BYOM\n",
    "TRNG_BYOM has 42 tables, 45.3 MB. The largest: pmml_models, mojo_models, H2O_JAR\n"
   ]
  },
  {
   "cell_type": "code",
   "execution_count": null,
   "id": "4a93b3df",
   "metadata": {},
   "outputs": [],
   "source": [
    "run -i DDL/create_NOS_tables_and_views.py TRNG_BYOM.ddl"
   ]
  },
  {
   "cell_type": "code",
   "execution_count": null,
   "id": "8e60b484",
   "metadata": {},
   "outputs": [],
   "source": [
    "run -i DDL/import_tables_and_change_views.py TRNG_BYOM_db.ddl 1000"
   ]
  },
  {
   "cell_type": "markdown",
   "id": "933319a8",
   "metadata": {},
   "source": [
    "### TRNG_BustOutFraud\n",
    "TRNG_BustOutFraud has 21 tables, 172.8 MB. The largest: trans_feature_day_derived, trans_feature, trans_feature_xgboost_model\n"
   ]
  },
  {
   "cell_type": "code",
   "execution_count": null,
   "id": "8208fbf2",
   "metadata": {},
   "outputs": [],
   "source": [
    "run -i DDL/create_NOS_tables_and_views.py TRNG_BustOutFraud.ddl"
   ]
  },
  {
   "cell_type": "code",
   "execution_count": null,
   "id": "95a0a0a1",
   "metadata": {},
   "outputs": [],
   "source": [
    "run -i DDL/import_tables_and_change_views.py TRNG_BustOutFraud_db.ddl 1000"
   ]
  },
  {
   "cell_type": "markdown",
   "id": "a85361df",
   "metadata": {},
   "source": [
    "### TRNG_CNPFraud\n",
    "TRNG_CNPFraud has 33 tables, 17.8 MB. The largest: cc_transactions, accounts, credit_limit\n"
   ]
  },
  {
   "cell_type": "code",
   "execution_count": null,
   "id": "dfe3ce6f",
   "metadata": {},
   "outputs": [],
   "source": [
    "run -i DDL/create_NOS_tables_and_views.py TRNG_CNPFraud.ddl"
   ]
  },
  {
   "cell_type": "code",
   "execution_count": null,
   "id": "a56be1e4",
   "metadata": {},
   "outputs": [],
   "source": [
    "run -i DDL/import_tables_and_change_views.py TRNG_CNPFraud_db.ddl 1000"
   ]
  },
  {
   "cell_type": "markdown",
   "id": "f95ca671",
   "metadata": {},
   "source": [
    "### TRNG_CONNECTEDFACTORY\n",
    "TRNG_CONNECTEDFACTORY has 315 tables, 415.3 MB. The largest: MVP_SIM_T_SIM_ADS, MVP_TAB_QM_SCORED, MVP_TAB_QM_RAW\n"
   ]
  },
  {
   "cell_type": "code",
   "execution_count": null,
   "id": "e03ba32d",
   "metadata": {},
   "outputs": [],
   "source": [
    "run -i DDL/create_NOS_tables_and_views.py TRNG_CONNECTEDFACTORY.ddl"
   ]
  },
  {
   "cell_type": "code",
   "execution_count": null,
   "id": "ca9c6e35",
   "metadata": {},
   "outputs": [],
   "source": [
    "run -i DDL/import_tables_and_change_views.py TRNG_CONNECTEDFACTORY_db.ddl 1000"
   ]
  },
  {
   "cell_type": "markdown",
   "id": "26ca3b2c",
   "metadata": {},
   "source": [
    "### TRNG_COVID19\n",
    "TRNG_COVID19 has 388 tables, 1182 MB. The largest: FACT_COVID19_DATAHUB, FACT_Covid_Model_Data_BKP_21_0, FACT_INDICATOR_DASHBOARD_T2_P\n"
   ]
  },
  {
   "cell_type": "code",
   "execution_count": null,
   "id": "41f94d83",
   "metadata": {},
   "outputs": [],
   "source": [
    "run -i DDL/create_NOS_tables_and_views.py TRNG_COVID19.ddl"
   ]
  },
  {
   "cell_type": "code",
   "execution_count": null,
   "id": "9e834b6f",
   "metadata": {},
   "outputs": [],
   "source": [
    "run -i DDL/import_tables_and_change_views.py TRNG_COVID19_db.ddl 1000"
   ]
  },
  {
   "cell_type": "markdown",
   "id": "b02aec2a",
   "metadata": {},
   "source": [
    "### TRNG_COVID19_GDC\n",
    "TRNG_COVID19_GDC has 66 tables, 12.9 MB. The largest: Kaggle_text_covid_19, Kaggle_Text_data_covid_19, All_tag_tweet_text_data\n"
   ]
  },
  {
   "cell_type": "code",
   "execution_count": null,
   "id": "d288e199",
   "metadata": {},
   "outputs": [],
   "source": [
    "run -i DDL/create_NOS_tables_and_views.py TRNG_COVID19_GDC.ddl"
   ]
  },
  {
   "cell_type": "code",
   "execution_count": null,
   "id": "f992d6c7",
   "metadata": {},
   "outputs": [],
   "source": [
    "run -i DDL/import_tables_and_change_views.py TRNG_COVID19_GDC_db.ddl 1000"
   ]
  },
  {
   "cell_type": "markdown",
   "id": "22560531",
   "metadata": {},
   "source": [
    "### TRNG_Collaterals\n",
    "TRNG_Collaterals has 5 tables, 0.3 MB. The largest: Photos, TF_Materials, Orders_1600\n"
   ]
  },
  {
   "cell_type": "code",
   "execution_count": null,
   "id": "8200159e",
   "metadata": {},
   "outputs": [],
   "source": [
    "run -i DDL/create_NOS_tables_and_views.py TRNG_Collaterals.ddl"
   ]
  },
  {
   "cell_type": "code",
   "execution_count": null,
   "id": "5c0e8d65",
   "metadata": {},
   "outputs": [],
   "source": [
    "run -i DDL/import_tables_and_change_views.py TRNG_Collaterals_db.ddl 1000"
   ]
  },
  {
   "cell_type": "markdown",
   "id": "1d538b87",
   "metadata": {},
   "source": [
    "### TRNG_ColoradoCrimeDrug\n",
    "TRNG_ColoradoCrimeDrug has 17 tables, 20.7 MB. The largest: DUI_ARREST, CRIME, SEIZED_DRUGS\n"
   ]
  },
  {
   "cell_type": "code",
   "execution_count": null,
   "id": "db7620f4",
   "metadata": {},
   "outputs": [],
   "source": [
    "run -i DDL/create_NOS_tables_and_views.py TRNG_ColoradoCrimeDrug.ddl"
   ]
  },
  {
   "cell_type": "code",
   "execution_count": null,
   "id": "28efb0b9",
   "metadata": {},
   "outputs": [],
   "source": [
    "run -i DDL/import_tables_and_change_views.py TRNG_ColoradoCrimeDrug_db.ddl 1000"
   ]
  },
  {
   "cell_type": "markdown",
   "id": "c921ce35",
   "metadata": {},
   "source": [
    "### TRNG_Covid360\n",
    "TRNG_Covid360 has 37 tables, 193.9 MB. The largest: ADS_simulation_with_risk, ADS_Simulation, ADS_simulation_with_risk_locat\n"
   ]
  },
  {
   "cell_type": "code",
   "execution_count": null,
   "id": "ba330ba5",
   "metadata": {},
   "outputs": [],
   "source": [
    "run -i DDL/create_NOS_tables_and_views.py TRNG_Covid360.ddl"
   ]
  },
  {
   "cell_type": "code",
   "execution_count": null,
   "id": "131c8644",
   "metadata": {},
   "outputs": [],
   "source": [
    "run -i DDL/import_tables_and_change_views.py TRNG_Covid360_db.ddl 1000"
   ]
  },
  {
   "cell_type": "markdown",
   "id": "e93e869f",
   "metadata": {},
   "source": [
    "### TRNG_CreditCard\n",
    "No description available"
   ]
  },
  {
   "cell_type": "code",
   "execution_count": null,
   "id": "310a47bb",
   "metadata": {},
   "outputs": [],
   "source": [
    "run -i DDL/create_NOS_tables_and_views.py TRNG_CreditCard.ddl"
   ]
  },
  {
   "cell_type": "code",
   "execution_count": null,
   "id": "5ed3f752",
   "metadata": {},
   "outputs": [],
   "source": [
    "run -i DDL/import_tables_and_change_views.py TRNG_CreditCard_db.ddl 1000"
   ]
  },
  {
   "cell_type": "markdown",
   "id": "c2a03d58",
   "metadata": {},
   "source": [
    "### TRNG_DOJTextAnalysis\n",
    "TRNG_DOJTextAnalysis has 13 tables, 20.3 MB. The largest: AMZ_FINE_FOOD_REVIEWS, AMZ_FINE_FOOD_REVIEWS_text_out, AMZ_FINE_FOOD_REVIEWS3_text_ou\n"
   ]
  },
  {
   "cell_type": "code",
   "execution_count": null,
   "id": "df2de055",
   "metadata": {},
   "outputs": [],
   "source": [
    "run -i DDL/create_NOS_tables_and_views.py TRNG_DOJTextAnalysis.ddl"
   ]
  },
  {
   "cell_type": "code",
   "execution_count": null,
   "id": "3cb09a62",
   "metadata": {},
   "outputs": [],
   "source": [
    "run -i DDL/import_tables_and_change_views.py TRNG_DOJTextAnalysis_db.ddl 1000"
   ]
  },
  {
   "cell_type": "markdown",
   "id": "8d6e7ad3",
   "metadata": {},
   "source": [
    "### TRNG_DS\n",
    "TRNG_DS has 3 tables, 20 MB. The largest: Orders_1600, Orders, Orders_2021\n"
   ]
  },
  {
   "cell_type": "code",
   "execution_count": null,
   "id": "91dfecea",
   "metadata": {},
   "outputs": [],
   "source": [
    "run -i DDL/create_NOS_tables_and_views.py TRNG_DS.ddl"
   ]
  },
  {
   "cell_type": "code",
   "execution_count": null,
   "id": "f4d1b195",
   "metadata": {},
   "outputs": [],
   "source": [
    "run -i DDL/import_tables_and_change_views.py TRNG_DS_db.ddl 1000"
   ]
  },
  {
   "cell_type": "markdown",
   "id": "ef3fd6fd",
   "metadata": {},
   "source": [
    "### TRNG_DataScienceExploration\n",
    "TRNG_DataScienceExploration has 11 tables, 76.9 MB. The largest: ROSSMANN_SALES, ROSSMANN_SALES_STG, MOVIE_LENS\n"
   ]
  },
  {
   "cell_type": "code",
   "execution_count": null,
   "id": "35c90b58",
   "metadata": {},
   "outputs": [],
   "source": [
    "run -i DDL/create_NOS_tables_and_views.py TRNG_DataScienceExploration.ddl"
   ]
  },
  {
   "cell_type": "code",
   "execution_count": null,
   "id": "62c4fd92",
   "metadata": {},
   "outputs": [],
   "source": [
    "run -i DDL/import_tables_and_change_views.py TRNG_DataScienceExploration_db.ddl 1000"
   ]
  },
  {
   "cell_type": "markdown",
   "id": "d78a917f",
   "metadata": {},
   "source": [
    "### TRNG_DataScienceFlow\n",
    "TRNG_DataScienceFlow has 1 table, 0.1 MB. \n"
   ]
  },
  {
   "cell_type": "code",
   "execution_count": null,
   "id": "95c84f4d",
   "metadata": {},
   "outputs": [],
   "source": [
    "run -i DDL/create_NOS_tables_and_views.py TRNG_DataScienceFlow.ddl"
   ]
  },
  {
   "cell_type": "code",
   "execution_count": null,
   "id": "ae7ad6f8",
   "metadata": {},
   "outputs": [],
   "source": [
    "run -i DDL/import_tables_and_change_views.py TRNG_DataScienceFlow_db.ddl 1000"
   ]
  },
  {
   "cell_type": "markdown",
   "id": "0f33548f",
   "metadata": {},
   "source": [
    "### TRNG_Data_Science\n",
    "No description available"
   ]
  },
  {
   "cell_type": "code",
   "execution_count": null,
   "id": "c4ef44ef",
   "metadata": {},
   "outputs": [],
   "source": [
    "run -i DDL/create_NOS_tables_and_views.py TRNG_Data_Science.ddl"
   ]
  },
  {
   "cell_type": "code",
   "execution_count": null,
   "id": "a70752ed",
   "metadata": {},
   "outputs": [],
   "source": [
    "run -i DDL/import_tables_and_change_views.py TRNG_Data_Science_db.ddl 1000"
   ]
  },
  {
   "cell_type": "markdown",
   "id": "c4ff65d7",
   "metadata": {},
   "source": [
    "### TRNG_DigitalEvents\n",
    "TRNG_DigitalEvents has 2 tables, 15.4 MB. The largest: Mobile_Money_Txns, Digital_Retail_Events\n"
   ]
  },
  {
   "cell_type": "code",
   "execution_count": null,
   "id": "7f74d9fe",
   "metadata": {},
   "outputs": [],
   "source": [
    "run -i DDL/create_NOS_tables_and_views.py TRNG_DigitalEvents.ddl"
   ]
  },
  {
   "cell_type": "code",
   "execution_count": null,
   "id": "dc5ff182",
   "metadata": {},
   "outputs": [],
   "source": [
    "run -i DDL/import_tables_and_change_views.py TRNG_DigitalEvents_db.ddl 1000"
   ]
  },
  {
   "cell_type": "markdown",
   "id": "2fe001a8",
   "metadata": {},
   "source": [
    "### TRNG_EVCarBattery\n",
    "TRNG_EVCarBattery has 10 tables, 2.5 MB. The largest: bom, customers, vehicles\n"
   ]
  },
  {
   "cell_type": "code",
   "execution_count": null,
   "id": "c88d511b",
   "metadata": {},
   "outputs": [],
   "source": [
    "run -i DDL/create_NOS_tables_and_views.py TRNG_EVCarBattery.ddl"
   ]
  },
  {
   "cell_type": "code",
   "execution_count": null,
   "id": "1e811ff6",
   "metadata": {},
   "outputs": [],
   "source": [
    "run -i DDL/import_tables_and_change_views.py TRNG_EVCarBattery_db.ddl 1000"
   ]
  },
  {
   "cell_type": "markdown",
   "id": "8f1b4ea7",
   "metadata": {},
   "source": [
    "### TRNG_EVCarQueryGrid\n",
    "TRNG_EVCarQueryGrid has 9 tables, 2.5 MB. The largest: bom, customers, vehicles\n"
   ]
  },
  {
   "cell_type": "code",
   "execution_count": null,
   "id": "7a30cb46",
   "metadata": {},
   "outputs": [],
   "source": [
    "run -i DDL/create_NOS_tables_and_views.py TRNG_EVCarQueryGrid.ddl"
   ]
  },
  {
   "cell_type": "code",
   "execution_count": null,
   "id": "567b079e",
   "metadata": {},
   "outputs": [],
   "source": [
    "run -i DDL/import_tables_and_change_views.py TRNG_EVCarQueryGrid_db.ddl 1000"
   ]
  },
  {
   "cell_type": "markdown",
   "id": "ed3ad604",
   "metadata": {},
   "source": [
    "### TRNG_Energy_Consumption\n",
    "TRNG_Energy_Consumption has 1 tables, 3.2 MB. The largest: energy_no_consumption_datamart\n"
   ]
  },
  {
   "cell_type": "code",
   "execution_count": null,
   "id": "b4d392c0",
   "metadata": {},
   "outputs": [],
   "source": [
    "run -i DDL/create_NOS_tables_and_views.py TRNG_Energy_Consumption.ddl"
   ]
  },
  {
   "cell_type": "code",
   "execution_count": null,
   "id": "ec9458f5",
   "metadata": {},
   "outputs": [],
   "source": [
    "run -i DDL/import_tables_and_change_views.py TRNG_Energy_Consumption_db.ddl 1000"
   ]
  },
  {
   "cell_type": "markdown",
   "id": "fd77b20e",
   "metadata": {},
   "source": [
    "### TRNG_EquipFailure\n",
    "TRNG_EquipFailure has 13 tables, 6.8 MB. The largest: DEMO_EQUIP_TESTING, DEMO_EQUIP_TRAINING_model_pred, DEMO_EQUIP_TRAINING\n"
   ]
  },
  {
   "cell_type": "code",
   "execution_count": null,
   "id": "8e2af1b0",
   "metadata": {},
   "outputs": [],
   "source": [
    "run -i DDL/create_NOS_tables_and_views.py TRNG_EquipFailure.ddl"
   ]
  },
  {
   "cell_type": "code",
   "execution_count": null,
   "id": "88c1cf02",
   "metadata": {},
   "outputs": [],
   "source": [
    "run -i DDL/import_tables_and_change_views.py TRNG_EquipFailure_db.ddl 1000"
   ]
  },
  {
   "cell_type": "markdown",
   "id": "b889f361",
   "metadata": {},
   "source": [
    "### TRNG_FSCustomerJourney\n",
    "TRNG_FSCustomerJourney has 32 tables, 3.3 MB. The largest: ich_banking, ich_banking_nonchurn_paths_tok, customers\n"
   ]
  },
  {
   "cell_type": "code",
   "execution_count": null,
   "id": "cba2f2f5",
   "metadata": {},
   "outputs": [],
   "source": [
    "run -i DDL/create_NOS_tables_and_views.py TRNG_FSCustomerJourney.ddl"
   ]
  },
  {
   "cell_type": "code",
   "execution_count": null,
   "id": "94eca7d0",
   "metadata": {},
   "outputs": [],
   "source": [
    "run -i DDL/import_tables_and_change_views.py TRNG_FSCustomerJourney_db.ddl 1000"
   ]
  },
  {
   "cell_type": "markdown",
   "id": "32421730",
   "metadata": {},
   "source": [
    "### TRNG_FinancialProtection\n",
    "TRNG_FinancialProtection has 1 tables, 642.3 MB. The largest: consumer_complaints\n"
   ]
  },
  {
   "cell_type": "code",
   "execution_count": null,
   "id": "49cd30b2",
   "metadata": {},
   "outputs": [],
   "source": [
    "run -i DDL/create_NOS_tables_and_views.py TRNG_FinancialProtection.ddl"
   ]
  },
  {
   "cell_type": "code",
   "execution_count": null,
   "id": "edbaa10a",
   "metadata": {},
   "outputs": [],
   "source": [
    "run -i DDL/import_tables_and_change_views.py TRNG_FinancialProtection_db.ddl 1000"
   ]
  },
  {
   "cell_type": "markdown",
   "id": "09b52846",
   "metadata": {},
   "source": [
    "### TRNG_FinancialProtection_db\n",
    "No description available"
   ]
  },
  {
   "cell_type": "code",
   "execution_count": null,
   "id": "3af364d7",
   "metadata": {},
   "outputs": [],
   "source": [
    "run -i DDL/create_NOS_tables_and_views.py TRNG_FinancialProtection_db.ddl"
   ]
  },
  {
   "cell_type": "code",
   "execution_count": null,
   "id": "5f18efd7",
   "metadata": {},
   "outputs": [],
   "source": [
    "run -i DDL/import_tables_and_change_views.py TRNG_FinancialProtection_db_db.ddl 1000"
   ]
  },
  {
   "cell_type": "markdown",
   "id": "5e3d8c74",
   "metadata": {},
   "source": [
    "### TRNG_GLMFraud\n",
    "TRNG_GLMFraud has 1 table, 4 MB."
   ]
  },
  {
   "cell_type": "code",
   "execution_count": null,
   "id": "7239fb22",
   "metadata": {},
   "outputs": [],
   "source": [
    "run -i DDL/create_NOS_tables_and_views.py TRNG_GLMFraud.ddl"
   ]
  },
  {
   "cell_type": "code",
   "execution_count": null,
   "id": "e4553b8c",
   "metadata": {},
   "outputs": [],
   "source": [
    "run -i DDL/import_tables_and_change_views.py TRNG_GLMFraud_db.ddl 1000"
   ]
  },
  {
   "cell_type": "markdown",
   "id": "b613a14b",
   "metadata": {},
   "source": [
    "### TRNG_GTPredictiveMaintenanceDe\n",
    "TRNG_GTPredictiveMaintenanceDe has 56 tables, 43.7 MB. The largest: PCAScaled_train, traintest, mli_Scale_byCluster\n"
   ]
  },
  {
   "cell_type": "code",
   "execution_count": null,
   "id": "702b4d3a",
   "metadata": {},
   "outputs": [],
   "source": [
    "run -i DDL/create_NOS_tables_and_views.py TRNG_GTPredictiveMaintenanceDe.ddl"
   ]
  },
  {
   "cell_type": "code",
   "execution_count": null,
   "id": "7a86ac0b",
   "metadata": {},
   "outputs": [],
   "source": [
    "run -i DDL/import_tables_and_change_views.py TRNG_GTPredictiveMaintenanceDe_db.ddl 1000"
   ]
  },
  {
   "cell_type": "markdown",
   "id": "8fa6b476",
   "metadata": {},
   "source": [
    "### TRNG_GamingSessions\n",
    "TRNG_GamingSessions has 10 tables, 2 MB. The largest: gaming_events_sessions_similar, gaming_events_sessions_simil, gaming_events_sessions_simil_d\n"
   ]
  },
  {
   "cell_type": "code",
   "execution_count": null,
   "id": "44baa510",
   "metadata": {},
   "outputs": [],
   "source": [
    "run -i DDL/create_NOS_tables_and_views.py TRNG_GamingSessions.ddl"
   ]
  },
  {
   "cell_type": "code",
   "execution_count": null,
   "id": "89dddb03",
   "metadata": {},
   "outputs": [],
   "source": [
    "run -i DDL/import_tables_and_change_views.py TRNG_GamingSessions_db.ddl 1000"
   ]
  },
  {
   "cell_type": "markdown",
   "id": "dd35e294",
   "metadata": {},
   "source": [
    "### TRNG_Government\n",
    "TRNG_Government has 14 tables, 55.8 MB. The largest: COVID19_RAWMOD, atbats, npath_plus\n"
   ]
  },
  {
   "cell_type": "code",
   "execution_count": null,
   "id": "d52c8612",
   "metadata": {},
   "outputs": [],
   "source": [
    "run -i DDL/create_NOS_tables_and_views.py TRNG_Government.ddl"
   ]
  },
  {
   "cell_type": "code",
   "execution_count": null,
   "id": "b7212f9e",
   "metadata": {},
   "outputs": [],
   "source": [
    "run -i DDL/import_tables_and_change_views.py TRNG_Government_db.ddl 1000"
   ]
  },
  {
   "cell_type": "markdown",
   "id": "602453d7",
   "metadata": {},
   "source": [
    "### TRNG_HEALTHCARE\n",
    "TRNG_HEALTHCARE has 82 tables, 948.1 MB. The largest: va_observations_full, va_medications, va_encounters\n"
   ]
  },
  {
   "cell_type": "code",
   "execution_count": null,
   "id": "916c6a3e",
   "metadata": {},
   "outputs": [],
   "source": [
    "run -i DDL/create_NOS_tables_and_views.py TRNG_HEALTHCARE.ddl"
   ]
  },
  {
   "cell_type": "code",
   "execution_count": null,
   "id": "6beda001",
   "metadata": {},
   "outputs": [],
   "source": [
    "run -i DDL/import_tables_and_change_views.py TRNG_HEALTHCARE_db.ddl 1000"
   ]
  },
  {
   "cell_type": "markdown",
   "id": "dd4f1d7b",
   "metadata": {},
   "source": [
    "### TRNG_HealthcareSurgery\n",
    "TRNG_HealthcareSurgery has 14 tables, 19.3 MB. The largest: healthcarecfilter, healthcare_surgery_events, healthcare_all_paths_tfidf\n"
   ]
  },
  {
   "cell_type": "code",
   "execution_count": null,
   "id": "b878d0c7",
   "metadata": {},
   "outputs": [],
   "source": [
    "run -i DDL/create_NOS_tables_and_views.py TRNG_HealthcareSurgery.ddl"
   ]
  },
  {
   "cell_type": "code",
   "execution_count": null,
   "id": "ad1712b3",
   "metadata": {},
   "outputs": [],
   "source": [
    "run -i DDL/import_tables_and_change_views.py TRNG_HealthcareSurgery_db.ddl 1000"
   ]
  },
  {
   "cell_type": "markdown",
   "id": "86e5e618",
   "metadata": {},
   "source": [
    "### TRNG_IdentityMatch\n",
    "TRNG_IdentityMatch has 2 tables, 0.3 MB. The largest: REF_GOLDEN_CUST, AC_CUSTOMER_EXTERNAL_DATA\n"
   ]
  },
  {
   "cell_type": "code",
   "execution_count": null,
   "id": "e0fbdd9f",
   "metadata": {},
   "outputs": [],
   "source": [
    "run -i DDL/create_NOS_tables_and_views.py TRNG_IdentityMatch.ddl"
   ]
  },
  {
   "cell_type": "code",
   "execution_count": null,
   "id": "1987922a",
   "metadata": {},
   "outputs": [],
   "source": [
    "run -i DDL/import_tables_and_change_views.py TRNG_IdentityMatch_db.ddl 1000"
   ]
  },
  {
   "cell_type": "markdown",
   "id": "83ccc1bf",
   "metadata": {},
   "source": [
    "### TRNG_IndoorSensor\n",
    "TRNG_IndoorSensor has 2 tables, 0.6 MB. The largest: connectivity, sensor_locations\n"
   ]
  },
  {
   "cell_type": "code",
   "execution_count": null,
   "id": "5051edaa",
   "metadata": {},
   "outputs": [],
   "source": [
    "run -i DDL/create_NOS_tables_and_views.py TRNG_IndoorSensor.ddl"
   ]
  },
  {
   "cell_type": "code",
   "execution_count": null,
   "id": "adfd6c9f",
   "metadata": {},
   "outputs": [],
   "source": [
    "run -i DDL/import_tables_and_change_views.py TRNG_IndoorSensor_db.ddl 1000"
   ]
  },
  {
   "cell_type": "markdown",
   "id": "3004cf0e",
   "metadata": {},
   "source": [
    "### TRNG_InsuranceClaims\n",
    "TRNG_InsuranceClaims has 4 tables, 0.6 MB. The largest: \n"
   ]
  },
  {
   "cell_type": "code",
   "execution_count": null,
   "id": "63b71151",
   "metadata": {},
   "outputs": [],
   "source": [
    "run -i DDL/create_NOS_tables_and_views.py TRNG_InsuranceClaims.ddl"
   ]
  },
  {
   "cell_type": "code",
   "execution_count": null,
   "id": "dbcdd128",
   "metadata": {},
   "outputs": [],
   "source": [
    "run -i DDL/import_tables_and_change_views.py TRNG_InsuranceClaims_db.ddl 1000"
   ]
  },
  {
   "cell_type": "markdown",
   "id": "c771affb",
   "metadata": {},
   "source": [
    "### TRNG_KAGGLE\n",
    "TRNG_KAGGLE has 5 tables, 81.8 MB. The largest: AMZ_FINE_FOOD_REVIEWS, BORDER_CROSSING, BORDER_CROSSING_SCRATCH\n"
   ]
  },
  {
   "cell_type": "code",
   "execution_count": null,
   "id": "ef01420d",
   "metadata": {},
   "outputs": [],
   "source": [
    "run -i DDL/create_NOS_tables_and_views.py TRNG_KAGGLE.ddl"
   ]
  },
  {
   "cell_type": "code",
   "execution_count": null,
   "id": "cebc2228",
   "metadata": {},
   "outputs": [],
   "source": [
    "run -i DDL/import_tables_and_change_views.py TRNG_KAGGLE_db.ddl 1000"
   ]
  },
  {
   "cell_type": "markdown",
   "id": "f58d914f",
   "metadata": {},
   "source": [
    "### TRNG_KneeReplacement\n",
    "TRNG_KneeReplacement has 2 tables, 18.7 MB. The largest: knee_replacement\n"
   ]
  },
  {
   "cell_type": "code",
   "execution_count": null,
   "id": "a801aac2",
   "metadata": {},
   "outputs": [],
   "source": [
    "run -i DDL/create_NOS_tables_and_views.py TRNG_KneeReplacement.ddl"
   ]
  },
  {
   "cell_type": "code",
   "execution_count": null,
   "id": "b015642f",
   "metadata": {},
   "outputs": [],
   "source": [
    "run -i DDL/import_tables_and_change_views.py TRNG_KneeReplacement_db.ddl 1000"
   ]
  },
  {
   "cell_type": "markdown",
   "id": "5264c666",
   "metadata": {},
   "source": [
    "### TRNG_LifeSciences\n",
    "TRNG_LifeSciences has 16 tables, 28.8 MB. The largest: Observations, Encounter, Medications\n"
   ]
  },
  {
   "cell_type": "code",
   "execution_count": null,
   "id": "6fe4af60",
   "metadata": {},
   "outputs": [],
   "source": [
    "run -i DDL/create_NOS_tables_and_views.py TRNG_LifeSciences.ddl"
   ]
  },
  {
   "cell_type": "code",
   "execution_count": null,
   "id": "280c377e",
   "metadata": {},
   "outputs": [],
   "source": [
    "run -i DDL/import_tables_and_change_views.py TRNG_LifeSciences_db.ddl 1000"
   ]
  },
  {
   "cell_type": "markdown",
   "id": "8e4f9de0",
   "metadata": {},
   "source": [
    "### TRNG_LondonTube\n",
    "TRNG_LondonTube has 8 tables, 0.8 MB. The largest: TubeLines, TubeStations, Theatres\n"
   ]
  },
  {
   "cell_type": "code",
   "execution_count": null,
   "id": "b1274917",
   "metadata": {},
   "outputs": [],
   "source": [
    "run -i DDL/create_NOS_tables_and_views.py TRNG_LondonTube.ddl"
   ]
  },
  {
   "cell_type": "code",
   "execution_count": null,
   "id": "1ceb77fd",
   "metadata": {},
   "outputs": [],
   "source": [
    "run -i DDL/import_tables_and_change_views.py TRNG_LondonTube_db.ddl 1000"
   ]
  },
  {
   "cell_type": "markdown",
   "id": "e5360345",
   "metadata": {},
   "source": [
    "### TRNG_MC_Crime\n",
    "This database contains one table 286,851 selected crime incident records from the Maryland between 2016 and 2022. "
   ]
  },
  {
   "cell_type": "code",
   "execution_count": null,
   "id": "4e3a497e",
   "metadata": {},
   "outputs": [],
   "source": [
    "run -i DDL/create_NOS_tables_and_views.py TRNG_MC_Crime.ddl"
   ]
  },
  {
   "cell_type": "code",
   "execution_count": null,
   "id": "9d6ad7ef",
   "metadata": {},
   "outputs": [],
   "source": [
    "run -i DDL/import_tables_and_change_views.py TRNG_MC_Crime_db.ddl 1000"
   ]
  },
  {
   "cell_type": "markdown",
   "id": "80162b15",
   "metadata": {},
   "source": [
    "### TRNG_MOVIES\n",
    "TRNG_MOVIES has 11 tables, 1125.2 MB. The largest: tweets_prep, tweets, tweets_tag_NSFW2\n"
   ]
  },
  {
   "cell_type": "code",
   "execution_count": null,
   "id": "c9413bd8",
   "metadata": {},
   "outputs": [],
   "source": [
    "run -i DDL/create_NOS_tables_and_views.py TRNG_MOVIES.ddl"
   ]
  },
  {
   "cell_type": "code",
   "execution_count": null,
   "id": "0b6c594b",
   "metadata": {},
   "outputs": [],
   "source": [
    "run -i DDL/import_tables_and_change_views.py TRNG_MOVIES_db.ddl 1000"
   ]
  },
  {
   "cell_type": "markdown",
   "id": "43a21cd1",
   "metadata": {},
   "source": [
    "### TRNG_MedicalImaging\n",
    "TRNG_MedicalImaging has 12 tables, 1.7 MB. The largest: s_dicom_t, r_image_device, k_case\n"
   ]
  },
  {
   "cell_type": "code",
   "execution_count": null,
   "id": "1eb9827d",
   "metadata": {},
   "outputs": [],
   "source": [
    "run -i DDL/create_NOS_tables_and_views.py TRNG_MedicalImaging.ddl"
   ]
  },
  {
   "cell_type": "code",
   "execution_count": null,
   "id": "dfdef11c",
   "metadata": {},
   "outputs": [],
   "source": [
    "run -i DDL/import_tables_and_change_views.py TRNG_MedicalImaging_db.ddl 1000"
   ]
  },
  {
   "cell_type": "markdown",
   "id": "50948a69",
   "metadata": {},
   "source": [
    "### TRNG_Movie_Reviews\n",
    "TRNG_Movie_Reviews has 1 tables, 1684 MB. The largest: movie_tweets\n"
   ]
  },
  {
   "cell_type": "code",
   "execution_count": null,
   "id": "35d7aadd",
   "metadata": {},
   "outputs": [],
   "source": [
    "run -i DDL/create_NOS_tables_and_views.py TRNG_Movie_Reviews.ddl"
   ]
  },
  {
   "cell_type": "code",
   "execution_count": null,
   "id": "0febba84",
   "metadata": {},
   "outputs": [],
   "source": [
    "run -i DDL/import_tables_and_change_views.py TRNG_Movie_Reviews_db.ddl 1000"
   ]
  },
  {
   "cell_type": "markdown",
   "id": "3e0e91bd",
   "metadata": {},
   "source": [
    "### TRNG_NOS\n",
    "TRNG_NOS has 1 tables, 0.4 MB. The largest: inputdata\n"
   ]
  },
  {
   "cell_type": "code",
   "execution_count": null,
   "id": "fde76ffe",
   "metadata": {},
   "outputs": [],
   "source": [
    "run -i DDL/create_NOS_tables_and_views.py TRNG_NOS.ddl"
   ]
  },
  {
   "cell_type": "code",
   "execution_count": null,
   "id": "9aeeb6d6",
   "metadata": {},
   "outputs": [],
   "source": [
    "run -i DDL/import_tables_and_change_views.py TRNG_NOS_db.ddl 1000"
   ]
  },
  {
   "cell_type": "markdown",
   "id": "ef24d91f",
   "metadata": {},
   "source": [
    "### TRNG_NYCTaxi\n",
    "TRNG_NYCTaxi has 2 tables, 23.6 MB. The largest: trip, trip_fare\n"
   ]
  },
  {
   "cell_type": "code",
   "execution_count": null,
   "id": "505ae76a",
   "metadata": {},
   "outputs": [],
   "source": [
    "run -i DDL/create_NOS_tables_and_views.py TRNG_NYCTaxi.ddl"
   ]
  },
  {
   "cell_type": "code",
   "execution_count": null,
   "id": "84968d4b",
   "metadata": {},
   "outputs": [],
   "source": [
    "run -i DDL/import_tables_and_change_views.py TRNG_NYCTaxi_db.ddl 1000"
   ]
  },
  {
   "cell_type": "markdown",
   "id": "dbab814c",
   "metadata": {},
   "source": [
    "### TRNG_OilGasDrilling\n",
    "TRNG_OilGasDrilling has 13 tables, 34.2 MB. The largest: Srfc_Sensor_Parms_PPI_Flat_Rig, Srfc_Sensor_Parms_PPI_Flat, DDaaS_Survey_Logs\n"
   ]
  },
  {
   "cell_type": "code",
   "execution_count": null,
   "id": "5e0f788d",
   "metadata": {},
   "outputs": [],
   "source": [
    "run -i DDL/create_NOS_tables_and_views.py TRNG_OilGasDrilling.ddl"
   ]
  },
  {
   "cell_type": "code",
   "execution_count": null,
   "id": "08f11343",
   "metadata": {},
   "outputs": [],
   "source": [
    "run -i DDL/import_tables_and_change_views.py TRNG_OilGasDrilling_db.ddl 1000"
   ]
  },
  {
   "cell_type": "markdown",
   "id": "f84c9303",
   "metadata": {},
   "source": [
    "### TRNG_Oil_Industry\n",
    "TRNG_Oil_Industry has 42 tables, 2039.5 MB. The largest: SRFC_SENSOR_PARMS_PPI_FLAT, SRFC_SENSOR_RIG_STATES, ac_monthly\n"
   ]
  },
  {
   "cell_type": "code",
   "execution_count": null,
   "id": "656ebb98",
   "metadata": {},
   "outputs": [],
   "source": [
    "run -i DDL/create_NOS_tables_and_views.py TRNG_Oil_Industry.ddl"
   ]
  },
  {
   "cell_type": "code",
   "execution_count": null,
   "id": "aa950bdd",
   "metadata": {},
   "outputs": [],
   "source": [
    "run -i DDL/import_tables_and_change_views.py TRNG_Oil_Industry_db.ddl 1000"
   ]
  },
  {
   "cell_type": "markdown",
   "id": "b65ca53d",
   "metadata": {},
   "source": [
    "### TRNG_PD\n",
    "TRNG_PD has 13 tables, 12.5 MB. The largest: EmpPhone, Employee, date_dim\n"
   ]
  },
  {
   "cell_type": "code",
   "execution_count": null,
   "id": "fdd9607f",
   "metadata": {},
   "outputs": [],
   "source": [
    "run -i DDL/create_NOS_tables_and_views.py TRNG_PD.ddl"
   ]
  },
  {
   "cell_type": "code",
   "execution_count": null,
   "id": "4bc9ee4d",
   "metadata": {},
   "outputs": [],
   "source": [
    "run -i DDL/import_tables_and_change_views.py TRNG_PD_db.ddl 1000"
   ]
  },
  {
   "cell_type": "markdown",
   "id": "20841eeb",
   "metadata": {},
   "source": [
    "### TRNG_PM_Demos\n",
    "No description available"
   ]
  },
  {
   "cell_type": "code",
   "execution_count": null,
   "id": "3abfd065",
   "metadata": {},
   "outputs": [],
   "source": [
    "run -i DDL/create_NOS_tables_and_views.py TRNG_PM_Demos.ddl"
   ]
  },
  {
   "cell_type": "code",
   "execution_count": null,
   "id": "6df3e94c",
   "metadata": {},
   "outputs": [],
   "source": [
    "run -i DDL/import_tables_and_change_views.py TRNG_PM_Demos_db.ddl 1000"
   ]
  },
  {
   "cell_type": "markdown",
   "id": "d6933367",
   "metadata": {},
   "source": [
    "### TRNG_PTC\n",
    "TRNG_PTC has 13 tables, 18.7 MB. The largest: ER_Data_for_Locos, LocoDataCleansed, edr_er_log_8437_0806_08072020\n"
   ]
  },
  {
   "cell_type": "code",
   "execution_count": null,
   "id": "1422cdb1",
   "metadata": {},
   "outputs": [],
   "source": [
    "run -i DDL/create_NOS_tables_and_views.py TRNG_PTC.ddl"
   ]
  },
  {
   "cell_type": "code",
   "execution_count": null,
   "id": "d7f1a711",
   "metadata": {},
   "outputs": [],
   "source": [
    "run -i DDL/import_tables_and_change_views.py TRNG_PTC_db.ddl 1000"
   ]
  },
  {
   "cell_type": "markdown",
   "id": "27c7520b",
   "metadata": {},
   "source": [
    "### TRNG_ParkinsonsDisease\n",
    "TRNG_ParkinsonsDisease has 1 table, 0.1 MB. : pd_speech_features\n"
   ]
  },
  {
   "cell_type": "code",
   "execution_count": null,
   "id": "d6a7029c",
   "metadata": {},
   "outputs": [],
   "source": [
    "run -i DDL/create_NOS_tables_and_views.py TRNG_ParkinsonsDisease.ddl"
   ]
  },
  {
   "cell_type": "code",
   "execution_count": null,
   "id": "d4aa10e5",
   "metadata": {},
   "outputs": [],
   "source": [
    "run -i DDL/import_tables_and_change_views.py TRNG_ParkinsonsDisease_db.ddl 1000"
   ]
  },
  {
   "cell_type": "markdown",
   "id": "b6a409a3",
   "metadata": {},
   "source": [
    "### TRNG_QG_DEMO\n",
    "TRNG_QG_DEMO has 23 tables, 31.1 MB. The largest: telco_store, telco_online, telco_callcenter\n"
   ]
  },
  {
   "cell_type": "code",
   "execution_count": null,
   "id": "01c0bd2f",
   "metadata": {},
   "outputs": [],
   "source": [
    "run -i DDL/create_NOS_tables_and_views.py TRNG_QG_DEMO.ddl"
   ]
  },
  {
   "cell_type": "code",
   "execution_count": null,
   "id": "e898910e",
   "metadata": {},
   "outputs": [],
   "source": [
    "run -i DDL/import_tables_and_change_views.py TRNG_QG_DEMO_db.ddl 1000"
   ]
  },
  {
   "cell_type": "markdown",
   "id": "150ba138",
   "metadata": {},
   "source": [
    "### TRNG_RETAILDSE\n",
    "TRNG_RETAILDSE has 19 tables, 7.7 MB. The largest: WEB_COMMENT, PURCHASE, CUSTOMER\n"
   ]
  },
  {
   "cell_type": "code",
   "execution_count": null,
   "id": "76e51886",
   "metadata": {},
   "outputs": [],
   "source": [
    "run -i DDL/create_NOS_tables_and_views.py TRNG_RETAILDSE.ddl"
   ]
  },
  {
   "cell_type": "code",
   "execution_count": null,
   "id": "3880d3f8",
   "metadata": {},
   "outputs": [],
   "source": [
    "run -i DDL/import_tables_and_change_views.py TRNG_RETAILDSE_db.ddl 1000"
   ]
  },
  {
   "cell_type": "markdown",
   "id": "7c07a6e0",
   "metadata": {},
   "source": [
    "### TRNG_RETAILDSE_DEV\n",
    "TRNG_RETAILDSE_DEV has 23 tables, 17 MB. The largest: NEW_RETAIL_CUST_EVENTS, NEW_RETAIL_ALLCH_EVENT_DESC_MA, CUSTOMER_PURCHASES_FLAT\n"
   ]
  },
  {
   "cell_type": "code",
   "execution_count": null,
   "id": "e4f62f61",
   "metadata": {},
   "outputs": [],
   "source": [
    "run -i DDL/create_NOS_tables_and_views.py TRNG_RETAILDSE_DEV.ddl"
   ]
  },
  {
   "cell_type": "code",
   "execution_count": null,
   "id": "3e87c624",
   "metadata": {},
   "outputs": [],
   "source": [
    "run -i DDL/import_tables_and_change_views.py TRNG_RETAILDSE_DEV_db.ddl 1000"
   ]
  },
  {
   "cell_type": "markdown",
   "id": "162c5940",
   "metadata": {},
   "source": [
    "### TRNG_RefineryOptimizer\n",
    "TRNG_RefineryOptimizer has 67 tables, 491.4 MB. The largest: DB250092_RO_SENSOR, DB250092_RO_LAB, DB250092_RO_PRICE\n"
   ]
  },
  {
   "cell_type": "code",
   "execution_count": null,
   "id": "a993a24a",
   "metadata": {},
   "outputs": [],
   "source": [
    "run -i DDL/create_NOS_tables_and_views.py TRNG_RefineryOptimizer.ddl"
   ]
  },
  {
   "cell_type": "code",
   "execution_count": null,
   "id": "0ab98afe",
   "metadata": {},
   "outputs": [],
   "source": [
    "run -i DDL/import_tables_and_change_views.py TRNG_RefineryOptimizer_db.ddl 1000"
   ]
  },
  {
   "cell_type": "markdown",
   "id": "bef1bba4",
   "metadata": {},
   "source": [
    "### TRNG_SQLE_TEST\n",
    "TRNG_SQLE_TEST has 56 tables, 2150.8 MB. The largest: train_features, test_features, rf_model\n"
   ]
  },
  {
   "cell_type": "code",
   "execution_count": null,
   "id": "c0bc14d6",
   "metadata": {},
   "outputs": [],
   "source": [
    "run -i DDL/create_NOS_tables_and_views.py TRNG_SQLE_TEST.ddl"
   ]
  },
  {
   "cell_type": "code",
   "execution_count": null,
   "id": "0b2b6b0c",
   "metadata": {},
   "outputs": [],
   "source": [
    "run -i DDL/import_tables_and_change_views.py TRNG_SQLE_TEST_db.ddl 1000"
   ]
  },
  {
   "cell_type": "markdown",
   "id": "82da2cf0",
   "metadata": {},
   "source": [
    "### TRNG_STOFramework\n",
    "TRNG_STOFramework has 12 tables, 917.7 MB. The largest: test_dataset_redistributed, test_dataset, STO_Output\n"
   ]
  },
  {
   "cell_type": "code",
   "execution_count": null,
   "id": "6d664fed",
   "metadata": {},
   "outputs": [],
   "source": [
    "run -i DDL/create_NOS_tables_and_views.py TRNG_STOFramework.ddl"
   ]
  },
  {
   "cell_type": "code",
   "execution_count": null,
   "id": "0f1aeaa2",
   "metadata": {},
   "outputs": [],
   "source": [
    "run -i DDL/import_tables_and_change_views.py TRNG_STOFramework_db.ddl 1000"
   ]
  },
  {
   "cell_type": "markdown",
   "id": "0129537f",
   "metadata": {},
   "source": [
    "### TRNG_SalesOffload\n",
    "TRNG_SalesOffload has 1 tables, 215.6 MB. The largest: sales_fact\n"
   ]
  },
  {
   "cell_type": "code",
   "execution_count": null,
   "id": "3db04278",
   "metadata": {},
   "outputs": [],
   "source": [
    "run -i DDL/create_NOS_tables_and_views.py TRNG_SalesOffload.ddl"
   ]
  },
  {
   "cell_type": "code",
   "execution_count": null,
   "id": "0286a177",
   "metadata": {},
   "outputs": [],
   "source": [
    "run -i DDL/import_tables_and_change_views.py TRNG_SalesOffload_db.ddl 1000"
   ]
  },
  {
   "cell_type": "markdown",
   "id": "1ddb3e9b",
   "metadata": {},
   "source": [
    "### TRNG_SalesPrediction\n",
    "TRNG_SalesPrediction has 1 tables, 1.7 MB. The largest: pandas_stores_rossmann\n"
   ]
  },
  {
   "cell_type": "code",
   "execution_count": null,
   "id": "dc4611e4",
   "metadata": {},
   "outputs": [],
   "source": [
    "run -i DDL/create_NOS_tables_and_views.py TRNG_SalesPrediction.ddl"
   ]
  },
  {
   "cell_type": "code",
   "execution_count": null,
   "id": "8fbe6fac",
   "metadata": {},
   "outputs": [],
   "source": [
    "run -i DDL/import_tables_and_change_views.py TRNG_SalesPrediction_db.ddl 1000"
   ]
  },
  {
   "cell_type": "markdown",
   "id": "c59c600c",
   "metadata": {},
   "source": [
    "### TRNG_SurvivalAnalysis\n",
    "TRNG_SurvivalAnalysis has 2 tables, 0.8 MB. The largest: heart_failure\n"
   ]
  },
  {
   "cell_type": "code",
   "execution_count": null,
   "id": "a5a8f670",
   "metadata": {},
   "outputs": [],
   "source": [
    "run -i DDL/create_NOS_tables_and_views.py TRNG_SurvivalAnalysis.ddl"
   ]
  },
  {
   "cell_type": "code",
   "execution_count": null,
   "id": "2ce98470",
   "metadata": {},
   "outputs": [],
   "source": [
    "run -i DDL/import_tables_and_change_views.py TRNG_SurvivalAnalysis_db.ddl 1000"
   ]
  },
  {
   "cell_type": "markdown",
   "id": "6f096c99",
   "metadata": {},
   "source": [
    "### TRNG_TAU2018\n",
    "TRNG_TAU2018 has 3 tables, 1.4 MB. The largest: tau_submission, partners2016, partners2014\n"
   ]
  },
  {
   "cell_type": "code",
   "execution_count": null,
   "id": "44daff6a",
   "metadata": {},
   "outputs": [],
   "source": [
    "run -i DDL/create_NOS_tables_and_views.py TRNG_TAU2018.ddl"
   ]
  },
  {
   "cell_type": "code",
   "execution_count": null,
   "id": "811a08b3",
   "metadata": {},
   "outputs": [],
   "source": [
    "run -i DDL/import_tables_and_change_views.py TRNG_TAU2018_db.ddl 1000"
   ]
  },
  {
   "cell_type": "markdown",
   "id": "614f0c56",
   "metadata": {},
   "source": [
    "### TRNG_TDRetail\n",
    "TRNG_TDRetail has 169 tables, 6924.7 MB. The largest: da_vinci_100_serie, SALES_TRANSACTION, SALES_TRANSACTION_STAGING\n"
   ]
  },
  {
   "cell_type": "code",
   "execution_count": null,
   "id": "18b5e1bf",
   "metadata": {},
   "outputs": [],
   "source": [
    "run -i DDL/create_NOS_tables_and_views.py TRNG_TDRetail.ddl"
   ]
  },
  {
   "cell_type": "code",
   "execution_count": null,
   "id": "b56da0e6",
   "metadata": {},
   "outputs": [],
   "source": [
    "run -i DDL/import_tables_and_change_views.py TRNG_TDRetail_db.ddl 1000"
   ]
  },
  {
   "cell_type": "markdown",
   "id": "965fe930",
   "metadata": {},
   "source": [
    "### TRNG_TDSysAnalytics\n",
    "TRNG_TDSysAnalytics has 11 tables, 5.5 MB. The largest: CPU_HIST, USER_HIST, DB_HIST\n"
   ]
  },
  {
   "cell_type": "code",
   "execution_count": null,
   "id": "92c3c1f8",
   "metadata": {},
   "outputs": [],
   "source": [
    "run -i DDL/create_NOS_tables_and_views.py TRNG_TDSysAnalytics.ddl"
   ]
  },
  {
   "cell_type": "code",
   "execution_count": null,
   "id": "7185c6e4",
   "metadata": {},
   "outputs": [],
   "source": [
    "run -i DDL/import_tables_and_change_views.py TRNG_TDSysAnalytics_db.ddl 1000"
   ]
  },
  {
   "cell_type": "markdown",
   "id": "0de8fef1",
   "metadata": {},
   "source": [
    "### TRNG_TDU_CustomerService\n",
    "TRNG_TDU_CustomerService has 21 tables, 0.8 MB. The largest: Accounts, emp_phone_2010, agent_sales\n"
   ]
  },
  {
   "cell_type": "code",
   "execution_count": null,
   "id": "f4340ffa",
   "metadata": {},
   "outputs": [],
   "source": [
    "run -i DDL/create_NOS_tables_and_views.py TRNG_TDU_CustomerService.ddl"
   ]
  },
  {
   "cell_type": "code",
   "execution_count": null,
   "id": "abff86a1",
   "metadata": {},
   "outputs": [],
   "source": [
    "run -i DDL/import_tables_and_change_views.py TRNG_TDU_CustomerService_db.ddl 1000"
   ]
  },
  {
   "cell_type": "markdown",
   "id": "f1af5f9c",
   "metadata": {},
   "source": [
    "### TRNG_TDU_Employee_Sales\n",
    "TRNG_TDU_Employee_Sales has 13 tables, 0.4 MB. The largest: Customer, Location, Location_Phone\n"
   ]
  },
  {
   "cell_type": "code",
   "execution_count": null,
   "id": "29b1396d",
   "metadata": {},
   "outputs": [],
   "source": [
    "run -i DDL/create_NOS_tables_and_views.py TRNG_TDU_Employee_Sales.ddl"
   ]
  },
  {
   "cell_type": "code",
   "execution_count": null,
   "id": "064ebf6f",
   "metadata": {},
   "outputs": [],
   "source": [
    "run -i DDL/import_tables_and_change_views.py TRNG_TDU_Employee_Sales_db.ddl 1000"
   ]
  },
  {
   "cell_type": "markdown",
   "id": "9405e1ab",
   "metadata": {},
   "source": [
    "### TRNG_TDU_FACTORY\n",
    "No description available"
   ]
  },
  {
   "cell_type": "code",
   "execution_count": null,
   "id": "2a75bcc2",
   "metadata": {},
   "outputs": [],
   "source": [
    "run -i DDL/create_NOS_tables_and_views.py TRNG_TDU_FACTORY.ddl"
   ]
  },
  {
   "cell_type": "code",
   "execution_count": null,
   "id": "711d6479",
   "metadata": {},
   "outputs": [],
   "source": [
    "run -i DDL/import_tables_and_change_views.py TRNG_TDU_FACTORY_db.ddl 1000"
   ]
  },
  {
   "cell_type": "markdown",
   "id": "a02103b8",
   "metadata": {},
   "source": [
    "### TRNG_TDU_Orders\n",
    "TRNG_TDU_Orders has 3 tables, 0.6 MB. The largest: orders_2012, orders_2013, orders\n"
   ]
  },
  {
   "cell_type": "code",
   "execution_count": null,
   "id": "72b86f02",
   "metadata": {},
   "outputs": [],
   "source": [
    "run -i DDL/create_NOS_tables_and_views.py TRNG_TDU_Orders.ddl"
   ]
  },
  {
   "cell_type": "code",
   "execution_count": null,
   "id": "150eab9a",
   "metadata": {},
   "outputs": [],
   "source": [
    "run -i DDL/import_tables_and_change_views.py TRNG_TDU_Orders_db.ddl 1000"
   ]
  },
  {
   "cell_type": "markdown",
   "id": "b287124d",
   "metadata": {},
   "source": [
    "### TRNG_TDU_Students\n",
    "TRNG_TDU_Students has 4 tables, 0.4 MB. The largest: Orders, City, State\n"
   ]
  },
  {
   "cell_type": "code",
   "execution_count": null,
   "id": "6ccf16db",
   "metadata": {},
   "outputs": [],
   "source": [
    "run -i DDL/create_NOS_tables_and_views.py TRNG_TDU_Students.ddl"
   ]
  },
  {
   "cell_type": "code",
   "execution_count": null,
   "id": "bf76ba2e",
   "metadata": {},
   "outputs": [],
   "source": [
    "run -i DDL/import_tables_and_change_views.py TRNG_TDU_Students_db.ddl 1000"
   ]
  },
  {
   "cell_type": "markdown",
   "id": "b64699ce",
   "metadata": {},
   "source": [
    "### TRNG_TDU_TD01\n",
    "TRNG_TDU_TD01 has 361 tables, 325.5 MB. The largest: fire_calls, fire_incidents, chips_weblog\n"
   ]
  },
  {
   "cell_type": "code",
   "execution_count": null,
   "id": "58e4bddb",
   "metadata": {},
   "outputs": [],
   "source": [
    "run -i DDL/create_NOS_tables_and_views.py TRNG_TDU_TD01.ddl"
   ]
  },
  {
   "cell_type": "code",
   "execution_count": null,
   "id": "075e7d0a",
   "metadata": {},
   "outputs": [],
   "source": [
    "run -i DDL/import_tables_and_change_views.py TRNG_TDU_TD01_db.ddl 1000"
   ]
  },
  {
   "cell_type": "markdown",
   "id": "d94cd59f",
   "metadata": {},
   "source": [
    "### TRNG_TECHBYTES\n",
    "TRNG_TECHBYTES has 20 tables, 2.5 MB. The largest: Acct_Ind, Accounts, ml__valib_transform_1614360874\n"
   ]
  },
  {
   "cell_type": "code",
   "execution_count": null,
   "id": "0b490d78",
   "metadata": {},
   "outputs": [],
   "source": [
    "run -i DDL/create_NOS_tables_and_views.py TRNG_TECHBYTES.ddl"
   ]
  },
  {
   "cell_type": "code",
   "execution_count": null,
   "id": "9c9d033a",
   "metadata": {},
   "outputs": [],
   "source": [
    "run -i DDL/import_tables_and_change_views.py TRNG_TECHBYTES_db.ddl 1000"
   ]
  },
  {
   "cell_type": "markdown",
   "id": "a1ece2da",
   "metadata": {},
   "source": [
    "### TRNG_TJ\n",
    "TRNG_TJ has 1 tables, 57.1 MB. The largest: dwh_coveo\n"
   ]
  },
  {
   "cell_type": "code",
   "execution_count": null,
   "id": "9254f22d",
   "metadata": {},
   "outputs": [],
   "source": [
    "run -i DDL/create_NOS_tables_and_views.py TRNG_TJ.ddl"
   ]
  },
  {
   "cell_type": "code",
   "execution_count": null,
   "id": "72e98097",
   "metadata": {},
   "outputs": [],
   "source": [
    "run -i DDL/import_tables_and_change_views.py TRNG_TJ_db.ddl 1000"
   ]
  },
  {
   "cell_type": "markdown",
   "id": "d370783d",
   "metadata": {},
   "source": [
    "### TRNG_Telco\n",
    "TRNG_Telco has 3 tables, 2.6 MB. The largest: telco_events, telco_testing, telco_training\n"
   ]
  },
  {
   "cell_type": "code",
   "execution_count": null,
   "id": "2693261c",
   "metadata": {},
   "outputs": [],
   "source": [
    "run -i DDL/create_NOS_tables_and_views.py TRNG_Telco.ddl"
   ]
  },
  {
   "cell_type": "code",
   "execution_count": null,
   "id": "f61adc71",
   "metadata": {},
   "outputs": [],
   "source": [
    "run -i DDL/import_tables_and_change_views.py TRNG_Telco_db.ddl 1000"
   ]
  },
  {
   "cell_type": "markdown",
   "id": "9c7549c0",
   "metadata": {},
   "source": [
    "### TRNG_TelcoChurn\n",
    "TRNG_TelcoChurn has 50 tables, 68.5 MB. The largest: csi_telco_all_nonchurn_paths_t, telco_cdr_data, csi_telco_data\n"
   ]
  },
  {
   "cell_type": "code",
   "execution_count": null,
   "id": "cdc0dcbe",
   "metadata": {},
   "outputs": [],
   "source": [
    "run -i DDL/create_NOS_tables_and_views.py TRNG_TelcoChurn.ddl"
   ]
  },
  {
   "cell_type": "code",
   "execution_count": null,
   "id": "cd18c76d",
   "metadata": {},
   "outputs": [],
   "source": [
    "run -i DDL/import_tables_and_change_views.py TRNG_TelcoChurn_db.ddl 1000"
   ]
  },
  {
   "cell_type": "markdown",
   "id": "41dc7bd4",
   "metadata": {},
   "source": [
    "### TRNG_TelcoNetwork\n",
    "TRNG_TelcoNetwork has 20 tables, 2.1 MB. The largest: NEXTGEN_MOBILE_NW_CUST_JOURNEY, NEXTGEN_MOBILE_NW_GPSLOC_CUM_E, NEXTGEN_MOBILE_NW_POSTAL_ZONES\n"
   ]
  },
  {
   "cell_type": "code",
   "execution_count": null,
   "id": "60f07adb",
   "metadata": {},
   "outputs": [],
   "source": [
    "run -i DDL/create_NOS_tables_and_views.py TRNG_TelcoNetwork.ddl"
   ]
  },
  {
   "cell_type": "code",
   "execution_count": null,
   "id": "db982cc1",
   "metadata": {},
   "outputs": [],
   "source": [
    "run -i DDL/import_tables_and_change_views.py TRNG_TelcoNetwork_db.ddl 1000"
   ]
  },
  {
   "cell_type": "markdown",
   "id": "688598cd",
   "metadata": {},
   "source": [
    "### TRNG_TeradataSocial\n",
    "TRNG_TeradataSocial has 5 tables, 0.6 MB. The largest: Sprinklr, Events, Events_stg\n"
   ]
  },
  {
   "cell_type": "code",
   "execution_count": null,
   "id": "df5ba78f",
   "metadata": {},
   "outputs": [],
   "source": [
    "run -i DDL/create_NOS_tables_and_views.py TRNG_TeradataSocial.ddl"
   ]
  },
  {
   "cell_type": "code",
   "execution_count": null,
   "id": "bd245f1b",
   "metadata": {},
   "outputs": [],
   "source": [
    "run -i DDL/import_tables_and_change_views.py TRNG_TeradataSocial_db.ddl 1000"
   ]
  },
  {
   "cell_type": "markdown",
   "id": "c5183506",
   "metadata": {},
   "source": [
    "### TRNG_UX\n",
    "TRNG_UX has 3 tables, 0.3 MB. The largest: UXUserDatabase, QUALITY, INSIGHTS_DOVETAIL\n"
   ]
  },
  {
   "cell_type": "code",
   "execution_count": null,
   "id": "8574d964",
   "metadata": {},
   "outputs": [],
   "source": [
    "run -i DDL/create_NOS_tables_and_views.py TRNG_UX.ddl"
   ]
  },
  {
   "cell_type": "code",
   "execution_count": null,
   "id": "bd9b07f3",
   "metadata": {},
   "outputs": [],
   "source": [
    "run -i DDL/import_tables_and_change_views.py TRNG_UX_db.ddl 1000"
   ]
  },
  {
   "cell_type": "markdown",
   "id": "749ef96d",
   "metadata": {},
   "source": [
    "### TRNG_VA_SCRATCH\n",
    "TRNG_VA_SCRATCH has 3 tables, 0.3 MB. The largest: VL_ops_check_ins, rf_test_1, test_1_rf185023\n"
   ]
  },
  {
   "cell_type": "code",
   "execution_count": null,
   "id": "56077ded",
   "metadata": {},
   "outputs": [],
   "source": [
    "run -i DDL/create_NOS_tables_and_views.py TRNG_VA_SCRATCH.ddl"
   ]
  },
  {
   "cell_type": "code",
   "execution_count": null,
   "id": "2c63db66",
   "metadata": {},
   "outputs": [],
   "source": [
    "run -i DDL/import_tables_and_change_views.py TRNG_VA_SCRATCH_db.ddl 1000"
   ]
  },
  {
   "cell_type": "markdown",
   "id": "cb684d96",
   "metadata": {},
   "source": [
    "### TRNG_XSP\n",
    "TRNG_XSP has 34 tables, 39.3 MB. The largest: Transactions, TWMS_Smirnov, TWMS_ShapiroWilkCoefficients\n"
   ]
  },
  {
   "cell_type": "code",
   "execution_count": null,
   "id": "6398d135",
   "metadata": {},
   "outputs": [],
   "source": [
    "run -i DDL/create_NOS_tables_and_views.py TRNG_XSP.ddl"
   ]
  },
  {
   "cell_type": "code",
   "execution_count": null,
   "id": "78414199",
   "metadata": {},
   "outputs": [],
   "source": [
    "run -i DDL/import_tables_and_change_views.py TRNG_XSP_db.ddl 1000"
   ]
  },
  {
   "cell_type": "markdown",
   "id": "b006037e",
   "metadata": {},
   "source": [
    "### TRNG_iVSM\n",
    "TRNG_iVSM has 20 tables, 604 MB. The largest: test_dataset_redistributed, test_dataset, propensitytobuy_models\n"
   ]
  },
  {
   "cell_type": "code",
   "execution_count": null,
   "id": "93251446",
   "metadata": {},
   "outputs": [],
   "source": [
    "run -i DDL/create_NOS_tables_and_views.py TRNG_iVSM.ddl"
   ]
  },
  {
   "cell_type": "code",
   "execution_count": null,
   "id": "d6000da6",
   "metadata": {},
   "outputs": [],
   "source": [
    "run -i DDL/import_tables_and_change_views.py TRNG_iVSM_db.ddl 1000"
   ]
  },
  {
   "cell_type": "markdown",
   "id": "c4699c4c",
   "metadata": {},
   "source": [
    "\n",
    "<hr>\n",
    "<b style = 'font-size:28px;font-family:Arial;color:#E37C4D'>Description of Databases, Tables, and Other Objects</b>\n",
    "\n",
    "The data for these databases is provided on Cloud Storage. That data has been exported in Parquet format. For Vantage to access that data, a foreign table is defined with the necessary credentials. This data dictionary will create all of those definitions in the database gs_tables_db (gs = Google Storage) which also contains the Authentication object. \n",
    "\n",
    "These tables were originally created on a database internal to the Teradata Corporation from publicly available data sources. The authors of demos referenced those tables and created other objects such as semantic views, macros, and stored procedures in those databases. To allow those demos to run with minimum changes, we create databases with views that provide 1:1 mapping to the foreign tables in the gs_tables_db. We then create any other database objects in that view database that will reference the 1:1 views as if they were local tables. The demos can then reference the view database with the same object naming as in the original database.\n",
    "\n",
    "We have also provided a routine to import the tables to a local database inside your Vantage virtual machine. It then changes the 1:1 views in the view database to point to the local tables. Performance will be better because there is no latency to cloud storage and the local table storage is optimized for fast access. All of the semantic views, macros, and stored procedures will continue to reference the 1:1 views which now point at local table storage.\n",
    "<img  src=\"DemoNow_Table_Design.png\" alt=\"DemoNow_Table_Design\" width=\"600\" align=\"right\" />\n",
    "\n",
    "You can re-run either the \"create_NOS_tables_and_views.py\" or the \"import_tables_and_change_views.py\" via the run statement after each database to switch back and forth between 1:1 views pointing at foreign NOS tables or local Vantage tables. \n",
    "\n",
    "Local storage is limited. To assist you, a \"manage_space.py\" routine was included at the top of this notebook to display the demo databases, the space used and the space available. You may enter the word \"delete\" followed by the numbers of any databases you want to delete. The table databases end with \"_db\" and the view databases have a similar name without the \"_db\" suffix. The view databases take no space, but if you decide to delete a table database and retain the view database to access foreign tables, you may need to re-run the \"create_NOS_tables_and_views.py\" to recreate the 1:1 views pointing at the foreign tables. \n"
   ]
  },
  {
   "cell_type": "markdown",
   "id": "da2c5880",
   "metadata": {},
   "source": [
    "\n",
    "Copyright © 2022, 2023 Teradata Corporation"
   ]
  }
 ],
 "metadata": {
  "kernelspec": {
   "display_name": "Python 3 (ipykernel)",
   "language": "python",
   "name": "python3"
  },
  "language_info": {
   "codemirror_mode": {
    "name": "ipython",
    "version": 3
   },
   "file_extension": ".py",
   "mimetype": "text/x-python",
   "name": "python",
   "nbconvert_exporter": "python",
   "pygments_lexer": "ipython3",
   "version": "3.9.10"
  }
 },
 "nbformat": 4,
 "nbformat_minor": 5
}
