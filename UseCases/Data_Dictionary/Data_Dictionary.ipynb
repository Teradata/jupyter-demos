{
 "cells": [
  {
   "cell_type": "markdown",
   "id": "38b6dfdf-5276-4338-82a1-6a394dd24bae",
   "metadata": {},
   "source": [
    "<header>\n",
    "   <p  style='font-size:36px;font-family:Arial; color:#F0F0F0; background-color: #00233c; padding-left: 20pt; padding-top: 20pt;padding-bottom: 10pt; padding-right: 20pt;'>\n",
    "       ClearScape Analytics Experience Data Dictionary\n",
    "  <br>\n",
    "       <img id=\"teradata-logo\" src=\"https://storage.googleapis.com/clearscape_analytics_demo_data/DEMO_Logo/teradata.svg\" alt=\"Teradata\" style=\"width: 125px; height: auto; margin-top: 20pt;\">\n",
    "    </p>\n",
    "</header>"
   ]
  },
  {
   "cell_type": "markdown",
   "id": "f48641d9-501c-4440-98ac-e8e65f507202",
   "metadata": {},
   "source": [
    "<p style = 'font-size:20px;font-family:Arial;color:#00233C'><b>Introduction</b></p>\n",
    "<p style = 'font-size:16px;font-family:Arial;color:#00233C'>This data is being provided in cloud storage, having been exported from Teradata Vantage Live which was originally publicly sourced data. However, there has been value add to the content and structure of the data, and as such is protected work product of the Teradata Corporation.  It is provided for use with the demonstrations in the ClearScape Analytics Experience.\n",
    "<br>\n",
    "<br>\n",
    "After each database description there may be one or two \"run\" commands:</p>\n",
    "<ol style = 'font-size:16px;font-family:Arial;color:#00233C'><li> a statement to create foreign tables linked to the <b>cloud</b>, create a view database with 1:1 views pointing at those foreign tables, and any semantic views and other object needed by the demonstration</li>\n",
    "<li> a statement to import data from the cloud to create <b>local</b> tables and 1:1 views pointing at those local tables. </li></ol>\n",
    "<p style = 'font-size:16px;font-family:Arial;color:#00233C'>\n",
    "Click in the cell with the \"run\" statement and press SHIFT + ENTER to run either routine. All demonstrations will run either with <b>cloud</b> tables or <b>local</b> tables. The local tables will be faster, however that means you will need to manage local storage.\n",
    "<br>\n",
    "<br>\n",
    "A complete description of the design of these databases is included at the end of this notebook.</p>"
   ]
  },
  {
   "cell_type": "markdown",
   "id": "33dadd10",
   "metadata": {},
   "source": [
    "<p style = 'font-size:18px;font-family:Arial;color:#00233C'><b>Manage Your Space</b></p> \n",
    "<p style = 'font-size:16px;font-family:Arial;color:#00233C'>You may use the \"manage space\" routine below to view current space usage and available space.</p>"
   ]
  },
  {
   "cell_type": "code",
   "execution_count": null,
   "id": "cdb94063",
   "metadata": {},
   "outputs": [],
   "source": [
    "run -i DDL/manage_space.py"
   ]
  },
  {
   "cell_type": "markdown",
   "id": "13237c09",
   "metadata": {},
   "source": [
    "<hr style=\"height:2px;border:none;background-color:#00233C;\"><b style = 'font-size:20px;font-family:Arial;color:#00233C'>Available Demonstration Databases</b>"
   ]
  },
  {
   "cell_type": "markdown",
   "id": "5c46f149-6059-4f48-acbc-4125646ecbe0",
   "metadata": {},
   "source": [
    "<p style=\"font-size:18px;font-family:Arial;color:#00233C\"><b>DEMO_AirPassengers</b></p>\n",
    "<p style=\"font-size:16px;font-family:Arial;color:#00233C\">The database DEMO_AirPassengers provides simple generated passenger counts by month for use in a forecasting demo.</p>\n",
    "\n",
    "<p style=\"font-size:16px;font-family:Arial;color:#00233C\">It is used by:</p>\n",
    "\n",
    "<ul style=\"font-size:16px;font-family:Arial;color:#00233C\">\n",
    "    <li><a href=\"../Air_Passenger_Forecasting/Air_Passenger_Forecasting_SQL.ipynb\">Air_Passenger_Forecasting_SQL</a></li>\n",
    "</ul>\n",
    "\n",
    "<p style=\"font-size:16px;font-family:Arial;color:#00233C\">Tables:</p>\n",
    "<ul style=\"font-size:16px;font-family:Arial;color:#00233C\">\n",
    "    <li>AirPassengers - Rows: 144</li>\n",
    "</ul>"
   ]
  },
  {
   "cell_type": "code",
   "execution_count": null,
   "id": "6b85a200",
   "metadata": {},
   "outputs": [],
   "source": [
    "%run -i ../run_procedure.py \"call get_data('DEMO_AirPassengers_cloud')\";"
   ]
  },
  {
   "cell_type": "code",
   "execution_count": null,
   "id": "32f0dece",
   "metadata": {},
   "outputs": [],
   "source": [
    "%run -i ../run_procedure.py \"call get_data('DEMO_AirPassengers_local')\";"
   ]
  },
  {
   "cell_type": "code",
   "execution_count": null,
   "id": "03dd3766",
   "metadata": {},
   "outputs": [],
   "source": [
    "%run -i ../run_procedure.py \"call remove_data('DEMO_AirPassengers')\";   # only needed if you want to clean up space"
   ]
  },
  {
   "cell_type": "markdown",
   "id": "6ec9a824-d865-4a4b-88da-b93c5a467810",
   "metadata": {},
   "source": [
    "<hr style=\"height:2px;border:none;background-color:#00233C;\">\n",
    "<p style=\"font-size:18px;font-family:Arial;color:#00233C\"><b>DEMO_AnomalyDetection</b></p>\n",
    "<p style=\"font-size:16px;font-family:Arial;color:#00233C\">Data is collected from sensors attached to the welding equipment or from the equipment's control system. This includes the voltage, current, and resistance, the time it takes for each weld, and any other relevant factors. In this demo, we consider data from only one plant (PLANT=1) and one robot (ROBOT_ID=41). The Partition_ID is the type of welding, ID is the WELDING_ID, X is time required for welding in ms, and Y is the RESISTANCE.</p>\n",
    "\n",
    "<p style=\"font-size:16px;font-family:Arial;color:#00233C\">It is used by:</p>\n",
    "\n",
    "<ul style=\"font-size:16px;font-family:Arial;color:#00233C\">\n",
    "    <li><a href=\"../Anomaly_Detection/Anomaly_Detection_PY_SQL.ipynb\">Anomaly_Detection_PY_SQL</a></li>\n",
    "</ul>\n",
    "\n",
    "<p style=\"font-size:16px;font-family:Arial;color:#00233C\">Tables:</p>\n",
    "<ul style=\"font-size:16px;font-family:Arial;color:#00233C\">\n",
    "    <li>Sensor_Data - Rows: 908,440</li>\n",
    "    <li>DTW_Matrix - Rows: 497,503</li>\n",
    "    <li>Anomaly_Target - Rows: 41</li>\n",
    "</ul>"
   ]
  },
  {
   "cell_type": "code",
   "execution_count": null,
   "id": "52ef1945-89e1-4257-87ee-b1279e9224cf",
   "metadata": {},
   "outputs": [],
   "source": [
    "%run -i ../run_procedure.py \"call get_data('DEMO_AnomolyDetection_cloud');\""
   ]
  },
  {
   "cell_type": "code",
   "execution_count": null,
   "id": "8d06fc94-060a-45db-b26a-ecd9ab1635c4",
   "metadata": {},
   "outputs": [],
   "source": [
    "%run -i ../run_procedure.py \"call get_data('DEMO_AnomolyDetection_local');\""
   ]
  },
  {
   "cell_type": "code",
   "execution_count": null,
   "id": "9169d674-39bd-4e07-a8a3-ba5de13aeb19",
   "metadata": {},
   "outputs": [],
   "source": [
    "%run -i ../run_procedure.py \"call remove_data('DEMO_AnomolyDetection')\";   # only needed if you want to clean up space"
   ]
  },
  {
   "cell_type": "markdown",
   "id": "c63d9b13-11b8-4263-a477-663d79997da9",
   "metadata": {},
   "source": [
    "<hr style=\"height:2px;border:none;background-color:#00233C;\">\n",
    "<p style=\"font-size:18px;font-family:Arial;color:#00233C\"><b>DEMO_AustinBikeShare</b></p>\n",
    "<p style=\"font-size:16px;font-family:Arial;color:#00233C\">Bike shares are becoming a popular alternative means of transportation. The City of Austin makes data available on &gt;649k bike trips over 2013-2017. This data includes information on bike trip start location, stop location, duration, type of bike share user. Bike station location data was inserted into a work table by the Austin Bike share notebook. This data was sourced from <a href=\"https://www.kaggle.com\">www.kaggle.com</a>.</p>\n",
    "\n",
    "<p style=\"font-size:16px;font-family:Arial;color:#00233C\">It is used by:</p>\n",
    "\n",
    "<ul style=\"font-size:16px;font-family:Arial;color:#00233C\">\n",
    "    <li><a href=\"../4D_Analytics_on_bike_sharing/4D_Analytics_on_bike_sharing_PY_SQL.ipynb\">4D_Analytics_on_bike_sharing_PY_SQL</a></li>\n",
    "    <li><a href=\"../4D_Analytics_on_bike_sharing/4D_Analytics_on_bike_sharing_SQL.ipynb\">4D_Analytics_on_bike_sharing_SQL</a></li>\n",
    "</ul>\n",
    "\n",
    "<p style=\"font-size:16px;font-family:Arial;color:#00233C\">Tables:</p>\n",
    "<ul style=\"font-size:16px;font-family:Arial;color:#00233C\">\n",
    "    <li>Trips - Rows: 649,231</li>\n",
    "    <li>Weather - Rows: 24,592</li>\n",
    "    <li>Stations - Rows: 72</li>\n",
    "</ul>"
   ]
  },
  {
   "cell_type": "code",
   "execution_count": null,
   "id": "e7b8d585",
   "metadata": {},
   "outputs": [],
   "source": [
    "%run -i ../run_procedure.py \"call get_data('DEMO_AustinBikeShare_cloud')\";"
   ]
  },
  {
   "cell_type": "code",
   "execution_count": null,
   "id": "aeaabfcb",
   "metadata": {},
   "outputs": [],
   "source": [
    "%run -i ../run_procedure.py \"call get_data('DEMO_AustinBikeShare_local')\";"
   ]
  },
  {
   "cell_type": "code",
   "execution_count": null,
   "id": "89cb6fc8",
   "metadata": {},
   "outputs": [],
   "source": [
    "%run -i ../run_procedure.py \"call remove_data('DEMO_AustinBikeShare')\";   # only needed if you want to clean up space"
   ]
  },
  {
   "cell_type": "markdown",
   "id": "32f40e3f-9f27-4558-935a-5f255c046493",
   "metadata": {},
   "source": [
    "<hr style=\"height:2px;border:none;background-color:#00233C;\">\n",
    "<p style=\"font-size:18px;font-family:Arial;color:#00233C\"><b>DEMO_BankChurn</b></p>\n",
    "<p style=\"font-size:16px;font-family:Arial;color:#00233C\">The database DEMO_BankChurn provides customer data like personal data, estimated salary, balance, etc. This data is used to predict customer churn.</p>\n",
    "\n",
    "<p style=\"font-size:16px;font-family:Arial;color:#00233C\">It is used by:</p>\n",
    "\n",
    "<ul style=\"font-size:16px;font-family:Arial;color:#00233C\">\n",
    "    <li><a href=\"../Banking_Customer_Churn/Banking_Customer_Churn_Python.ipynb\">Banking_Customer_Churn_Python</a></li>\n",
    "</ul>\n",
    "\n",
    "<p style=\"font-size:16px;font-family:Arial;color:#00233C\">Tables:</p>\n",
    "<ul style=\"font-size:16px;font-family:Arial;color:#00233C\">\n",
    "    <li>customer_churn - Rows: 10,000</li>\n",
    "</ul>\n"
   ]
  },
  {
   "cell_type": "code",
   "execution_count": null,
   "id": "9c313c03-4a3f-4c49-848d-f28bba56cfa7",
   "metadata": {},
   "outputs": [],
   "source": [
    "%run -i ../run_procedure.py \"call get_data('DEMO_BankChurn_cloud')\";"
   ]
  },
  {
   "cell_type": "code",
   "execution_count": null,
   "id": "08c6a28e-6838-4177-9a5c-6cdebfbc624d",
   "metadata": {},
   "outputs": [],
   "source": [
    "%run -i ../run_procedure.py \"call get_data('DEMO_BankChurn_local')\";"
   ]
  },
  {
   "cell_type": "code",
   "execution_count": null,
   "id": "f0446e0f-5c49-4142-bd08-d7aa3aa7ba14",
   "metadata": {},
   "outputs": [],
   "source": [
    "%run -i ../run_procedure.py \"call remove_data('DEMO_BankChurn')\";   # only needed if you want to clean up space"
   ]
  },
  {
   "cell_type": "markdown",
   "id": "0e0434b1-195a-4444-a05f-b4ecea6724cc",
   "metadata": {},
   "source": [
    "<hr style=\"height:2px;border:none;background-color:#00233C;\">\n",
    "<p style=\"font-size:18px;font-family:Arial;color:#00233C\"><b>DEMO_Car</b></p>\n",
    "<p style=\"font-size:16px;font-family:Arial;color:#00233C\">The data in DEMO_CAR is sourced from a public database by the National Highway Traffic Safety Administration (NHTSA) of the USA with a few modifications to analyze data on a state-county level. 1000 records of cars by Ford motors were randomly sampled. Each complaint was added a geo-location (latitude, longitude) to a location in Iowa (to simulate data coming from a single state). Records were limited to 2019.</p>\n",
    "\n",
    "<p style=\"font-size:16px;font-family:Arial;color:#00233C\">It is used by:</p>\n",
    "\n",
    "<ul style=\"font-size:16px;font-family:Arial;color:#00233C\">\n",
    "    <li><a href=\"../Car_Complaints/Car_Complaints_PY_SQL.ipynb\">Car_Complaints_PY_SQL</a></li>\n",
    "</ul>\n",
    "\n",
    "<p style=\"font-size:16px;font-family:Arial;color:#00233C\">Tables:</p>\n",
    "<ul style=\"font-size:16px;font-family:Arial;color:#00233C\">\n",
    "    <li>Counties - Rows: 99</li>\n",
    "    <li>Complaint_Locations - Rows: 1,000</li>\n",
    "    <li>Service_Centers - Rows: 138</li>\n",
    "    <li>Complaints - Rows: 1,000</li>\n",
    "</ul>"
   ]
  },
  {
   "cell_type": "code",
   "execution_count": null,
   "id": "049117e9-5386-41aa-9e10-b14b38d1c995",
   "metadata": {},
   "outputs": [],
   "source": [
    "%run -i ../run_procedure.py \"call get_data('DEMO_Car_cloud')\";"
   ]
  },
  {
   "cell_type": "code",
   "execution_count": null,
   "id": "b3a8b5d2-4159-49f9-8ca2-9a41b0dfe37a",
   "metadata": {},
   "outputs": [],
   "source": [
    "%run -i ../run_procedure.py \"call get_data('DEMO_Car_local')\";"
   ]
  },
  {
   "cell_type": "code",
   "execution_count": null,
   "id": "46eedb1b-0a87-4ffc-a884-e3948328bfb7",
   "metadata": {},
   "outputs": [],
   "source": [
    "%run -i ../run_procedure.py \"call remove_data('DEMO_Car')\";   # only needed if you want to clean up space"
   ]
  },
  {
   "cell_type": "markdown",
   "id": "ed805d87-d1b7-4a25-b59e-c3fff43be25e",
   "metadata": {},
   "source": [
    "<hr style=\"height:2px;border:none;background-color:#00233C;\">\n",
    "<p style=\"font-size:18px;font-family:Arial;color:#00233C\"><b>DEMO_CreditCard</b></p>\n",
    "<p style=\"font-size:16px;font-family:Arial;color:#00233C\">The database DEMO_CreditCard provides information about gender, children, income, family status, occupation. It was used in a notebook to demonstrate preparing data for analysis.</p>\n",
    "\n",
    "<p style=\"font-size:16px;font-family:Arial;color:#00233C\">It is used by:</p>\n",
    "\n",
    "<ul style=\"font-size:16px;font-family:Arial;color:#00233C\">\n",
    "    <li><a href=\"../Credit_Card_Data_Preparation/Credit_Card_Data_Preparation_SQL.ipynb\">Credit_Card_Data_Preparation_SQL</a></li>\n",
    "</ul>\n",
    "\n",
    "<p style=\"font-size:16px;font-family:Arial;color:#00233C\">Tables:</p>\n",
    "<ul style=\"font-size:16px;font-family:Arial;color:#00233C\">\n",
    "    <li>Credit_Card - Rows: 50,000</li>\n",
    "</ul>"
   ]
  },
  {
   "cell_type": "code",
   "execution_count": null,
   "id": "91316fd5",
   "metadata": {},
   "outputs": [],
   "source": [
    "%run -i ../run_procedure.py \"call get_data('DEMO_CreditCard_cloud')\";"
   ]
  },
  {
   "cell_type": "code",
   "execution_count": null,
   "id": "22590c66",
   "metadata": {},
   "outputs": [],
   "source": [
    "%run -i ../run_procedure.py \"call get_data('DEMO_CreditCard_local')\";"
   ]
  },
  {
   "cell_type": "code",
   "execution_count": null,
   "id": "78fedec9",
   "metadata": {},
   "outputs": [],
   "source": [
    "%run -i ../run_procedure.py \"call remove_data('DEMO_CreditCard')\";   # only needed if you want to clean up space"
   ]
  },
  {
   "cell_type": "markdown",
   "id": "1fa24e5d-ec8b-4b5e-9a61-2aedd163e07e",
   "metadata": {},
   "source": [
    "<hr style=\"height:2px;border:none;background-color:#00233C;\">\n",
    "<p style=\"font-size:18px;font-family:Arial;color:#00233C\"><b>DEMO_Customer360</b></p>\n",
    "<p style=\"font-size:16px;font-family:Arial;color:#00233C\">In this demo we get data from 4 different sources and combine it to get the golden record for each customer. The 4 different sources are:</p>\n",
    "<ul style=\"font-size:16px;font-family:Arial;color:#00233C\">\n",
    "    <li>The equipment distributor's customer table</li>\n",
    "    <li>The electronic monitor service's e-commerce list relative to the customer table</li>\n",
    "    <li>The call center list relative to the customer table</li>\n",
    "    <li>The tagging list relative to the customer table</li>\n",
    "</ul>\n",
    "\n",
    "<p style=\"font-size:16px;font-family:Arial;color:#00233C\">It is used by:</p>\n",
    "\n",
    "<ul style=\"font-size:16px;font-family:Arial;color:#00233C\">\n",
    "    <li><a href=\"../Customer360/CustomerIdentityMatching_SQL.ipynb\">CustomerIdentityMatching_SQL</a></li>\n",
    "</ul>\n",
    "\n",
    "<p style=\"font-size:16px;font-family:Arial;color:#00233C\">Tables:</p>\n",
    "<ul style=\"font-size:16px;font-family:Arial;color:#00233C\">\n",
    "    <li>Cookie - Rows: 45</li>\n",
    "    <li>Online - Rows: 70</li>\n",
    "    <li>CallCenter - Rows: 30</li>\n",
    "    <li>Equipment - Rows: 100</li>\n",
    "</ul>"
   ]
  },
  {
   "cell_type": "code",
   "execution_count": null,
   "id": "51ba8787-34bc-4fda-9fc3-90f342ca4e36",
   "metadata": {},
   "outputs": [],
   "source": [
    "%run -i ../run_procedure.py \"call get_data('DEMO_Customer360_cloud')\";"
   ]
  },
  {
   "cell_type": "code",
   "execution_count": null,
   "id": "593ef35f-9fe1-48ba-a210-493507e99046",
   "metadata": {},
   "outputs": [],
   "source": [
    "%run -i ../run_procedure.py \"call get_data('DEMO_Customer360_local')\";"
   ]
  },
  {
   "cell_type": "code",
   "execution_count": null,
   "id": "fa8dec15-7da6-4403-a979-6a4646db95d2",
   "metadata": {},
   "outputs": [],
   "source": [
    "%run -i ../run_procedure.py \"call remove_data('DEMO_Customer360')\";   # only needed if you want to clean up space"
   ]
  },
  {
   "cell_type": "markdown",
   "id": "4a9c0b7f-90f9-44ce-8b4b-f51f42f716cd",
   "metadata": {},
   "source": [
    "<hr style=\"height:2px;border:none;background-color:#00233C;\">\n",
    "<p style=\"font-size:18px;font-family:Arial;color:#00233C\"><b>DEMO_DataScienceExploration</b></p>\n",
    "<p style=\"font-size:16px;font-family:Arial;color:#00233C\">The database DEMO_DataScienceExploration provides information houses including bedrooms, floors, square feet, year built, zip code, Lat/Long, price, etc. It was used in a notebook to demonstrate the standard flow of Data Science using the CRISP-DM standard (Cross-Industry Standard Process for Data Mining).</p>\n",
    "\n",
    "<p style=\"font-size:16px;font-family:Arial;color:#00233C\">It is used by:</p>\n",
    "\n",
    "<ul style=\"font-size:16px;font-family:Arial;color:#00233C\">\n",
    "    <li><a href=\"../../Getting_Started/teradataml_Python_Basics/teradataml_Python_Basics_Python.ipynb\">teradataml_Python_Basics_Python</a></li>\n",
    "</ul>\n",
    "\n",
    "<p style=\"font-size:16px;font-family:Arial;color:#00233C\">Tables:</p>\n",
    "<ul style=\"font-size:16px;font-family:Arial;color:#00233C\">\n",
    "    <li>House_Prices - Rows: 80,000</li>\n",
    "</ul>\n"
   ]
  },
  {
   "cell_type": "code",
   "execution_count": null,
   "id": "eef091c1",
   "metadata": {},
   "outputs": [],
   "source": [
    "%run -i ../run_procedure.py \"call get_data('DEMO_DataScienceExploration_cloud')\";"
   ]
  },
  {
   "cell_type": "code",
   "execution_count": null,
   "id": "1953334a",
   "metadata": {},
   "outputs": [],
   "source": [
    "%run -i ../run_procedure.py \"call get_data('DEMO_DataScienceExploration_local')\";"
   ]
  },
  {
   "cell_type": "code",
   "execution_count": null,
   "id": "eb60537d",
   "metadata": {},
   "outputs": [],
   "source": [
    "%run -i ../run_procedure.py \"call remove_data('DEMO_DataScienceExploration')\";   # only needed if you want to clean up space"
   ]
  },
  {
   "cell_type": "markdown",
   "id": "12a81edd-ee8f-4a91-80fb-3d16f8452078",
   "metadata": {},
   "source": [
    "<hr style=\"height:2px;border:none;background-color:#00233C;\">\n",
    "<p style=\"font-size:18px;font-family:Arial;color:#00233C\"><b>DEMO_DataScienceFlow</b></p>\n",
    "<p style=\"font-size:16px;font-family:Arial;color:#00233C\">The data used in this demo is from the European Centre for Disease Prevention and Control at <a href=\"https://www.ecdc.europa.eu/en/publications-data/download-todays-data-geographic-distribution-covid-19-cases-worldwide\">https://www.ecdc.europa.eu/en/publications-data/download-todays-data-geographic-distribution-covid-19-cases-worldwide</a>.</p>\n",
    "<p style=\"font-size:16px;font-family:Arial;color:#00233C\">The current data is located at <a href=\"https://www.ecdc.europa.eu/sites/default/files/documents/COVID-19-geographic-disbtribution-worldwide-2020-03-10.xls\">https://www.ecdc.europa.eu/sites/default/files/documents/COVID-19-geographic-disbtribution-worldwide-2020-03-10.xls</a>.</p>\n",
    "\n",
    "<p style=\"font-size:16px;font-family:Arial;color:#00233C\">It is used by:</p>\n",
    "\n",
    "<ul style=\"font-size:16px;font-family:Arial;color:#00233C\">\n",
    "    <li><a href=\"../Data_Science_101_with_Python/Data_Science_101_with_Python_Python.ipynb\">Data_Science_101_with_Python_Python</a></li>\n",
    "</ul>\n",
    "\n",
    "<p style=\"font-size:16px;font-family:Arial;color:#00233C\">Tables:</p>\n",
    "<ul style=\"font-size:16px;font-family:Arial;color:#00233C\">\n",
    "    <li>Covid_Data - Rows: 4589</li>\n",
    "</ul>"
   ]
  },
  {
   "cell_type": "code",
   "execution_count": null,
   "id": "bbe3820f",
   "metadata": {},
   "outputs": [],
   "source": [
    "%run -i ../run_procedure.py \"call get_data('DEMO_DataScienceFlow_cloud')\";"
   ]
  },
  {
   "cell_type": "code",
   "execution_count": null,
   "id": "b34f8423",
   "metadata": {},
   "outputs": [],
   "source": [
    "%run -i ../run_procedure.py \"call get_data('DEMO_DataScienceFlow_local')\";"
   ]
  },
  {
   "cell_type": "code",
   "execution_count": null,
   "id": "ffa61d56",
   "metadata": {},
   "outputs": [],
   "source": [
    "%run -i ../run_procedure.py \"call remove_data('DEMO_DataScienceFlow')\";   # only needed if you want to clean up space"
   ]
  },
  {
   "cell_type": "markdown",
   "id": "d9edcbe3-67a6-491b-9dc8-9945c0eee6fa",
   "metadata": {},
   "source": [
    "<hr style=\"height:2px;border:none;background-color:#00233C;\">\n",
    "<p style=\"font-size:18px;font-family:Arial;color:#00233C\"><b>DEMO_DemandForecast</b></p>\n",
    "<p style=\"font-size:16px;font-family:Arial;color:#00233C\">The dataset is a retail dataset where we have the timekey (which is the lowest granularity column used for our analysis), the Product (MODELID), the Store (MARKET), and the column DEMAND which will be used for analysis. The timekey is the column generated for creating a series for analyzing our data over the time period.</p>\n",
    "\n",
    "<p style=\"font-size:16px;font-family:Arial;color:#00233C\">It is used by:</p>\n",
    "\n",
    "<ul style=\"font-size:16px;font-family:Arial;color:#00233C\">\n",
    "    <li><a href=\"../Retail_Demand_Forecasting/Retail_Demand_Forecasting_Python.ipynb\">Retail_Demand_Forecasting_Python</a></li>\n",
    "</ul>\n",
    "\n",
    "<p style=\"font-size:16px;font-family:Arial;color:#00233C\">Tables:</p>\n",
    "<ul style=\"font-size:16px;font-family:Arial;color:#00233C\">\n",
    "    <li>Demand_Data - Rows: 418903</li>\n",
    "</ul>"
   ]
  },
  {
   "cell_type": "code",
   "execution_count": null,
   "id": "8857cb19-4898-4699-93af-759fd9a42a5f",
   "metadata": {},
   "outputs": [],
   "source": [
    "%run -i ../run_procedure.py \"call get_data('DEMO_DemandForecast_cloud')\";"
   ]
  },
  {
   "cell_type": "code",
   "execution_count": null,
   "id": "e268ddb4-7090-4afe-918a-b866455a1079",
   "metadata": {},
   "outputs": [],
   "source": [
    "%run -i ../run_procedure.py \"call get_data('DEMO_DemandForecast_local')\";"
   ]
  },
  {
   "cell_type": "code",
   "execution_count": null,
   "id": "9d4509bd-36bd-4cad-8312-6b8c77c060a9",
   "metadata": {},
   "outputs": [],
   "source": [
    "%run -i ../run_procedure.py \"call remove_data('DEMO_DemandForecast')\";   # only needed if you want to clean up space"
   ]
  },
  {
   "cell_type": "markdown",
   "id": "3591eef0-3dc5-4096-b292-274d063d535a",
   "metadata": {},
   "source": [
    "<hr style=\"height:2px;border:none;background-color:#00233C;\">\n",
    "<p style=\"font-size:18px;font-family:Arial;color:#00233C\"><b>DEMO_DigitalEvents</b></p>\n",
    "<p style=\"font-size:16px;font-family:Arial;color:#00233C\">This demo uses nPath to analyze customer digital behavior, experience, and diagnosis of problems with customer experience and flow. It uses a simulated digital retail data set. Using this data, we are conducting path analysis. Specifically, it has examples of looking at the most frequent customer journeys and identifying any common events that could potentially be stopping the customer from making a purchase.</p>\n",
    "\n",
    "<p style=\"font-size:16px;font-family:Arial;color:#00233C\">It is used by:</p>\n",
    "\n",
    "<ul style=\"font-size:16px;font-family:Arial;color:#00233C\">\n",
    "    <li><a href=\"../Broken_Digital_Journey/Broken_Digital_Journey_Python.ipynb\">Broken_Digital_Journey_Python</a></li>\n",
    "</ul>\n",
    "\n",
    "<p style=\"font-size:16px;font-family:Arial;color:#00233C\">Tables:</p>\n",
    "<ul style=\"font-size:16px;font-family:Arial;color:#00233C\">\n",
    "    <li>Digital_Retail_Events - Rows: 499,988</li>\n",
    "</ul>"
   ]
  },
  {
   "cell_type": "code",
   "execution_count": null,
   "id": "1dd9e030-c364-402a-a45f-f786cf746fa8",
   "metadata": {},
   "outputs": [],
   "source": [
    "%run -i ../run_procedure.py \"call get_data('DEMO_DigitalEvents_cloud')\";"
   ]
  },
  {
   "cell_type": "code",
   "execution_count": null,
   "id": "f91bce1e-911a-448c-a84b-70aa3b7bb3e8",
   "metadata": {},
   "outputs": [],
   "source": [
    "%run -i ../run_procedure.py \"call get_data('DEMO_DigitalEvents_local')\";"
   ]
  },
  {
   "cell_type": "code",
   "execution_count": null,
   "id": "b325d940-2115-49cf-9cc3-cc481c20e7a4",
   "metadata": {},
   "outputs": [],
   "source": [
    "%run -i ../run_procedure.py \"call remove_data('DEMO_DigitalEvents')\";   # only needed if you want to clean up space"
   ]
  },
  {
   "cell_type": "markdown",
   "id": "6299ff3a-41c5-4a4b-99dc-c42172828951",
   "metadata": {},
   "source": [
    "<hr style=\"height:2px;border:none;background-color:#00233C;\">\n",
    "<p style=\"font-size:18px;font-family:Arial;color:#00233C\"><b>DEMO_Energy</b></p>\n",
    "<p style=\"font-size:16px;font-family:Arial;color:#00233C\">The database DEMO_Energy provides information by timestamp of day of week, temperature, cloud area, light/dark indicators, holiday, etc., and is used in a notebook for forecasting energy consumption.</p>\n",
    "\n",
    "<p style=\"font-size:16px;font-family:Arial;color:#00233C\">It is used by:</p>\n",
    "\n",
    "<ul style=\"font-size:16px;font-family:Arial;color:#00233C\">\n",
    "    <li><a href=\"../Energy_Consumption_Forecasting_AzureML/Energy_Consumption_Forecasting_AzureML.ipynb\">Energy_Consumption_Forecasting_AzureML</a></li>\n",
    "    <li><a href=\"../Energy_Consumption_Forecasting_Dataiku/Energy_Consumption_Forecasting_Dataiku.ipynb\">Energy_Consumption_Forecasting_Dataiku</a></li>\n",
    "    <li><a href=\"../Energy_Consumption_Forecasting/Energy_Consumption_Forecasting_Python.ipynb\">Energy_Consumption_Forecasting_Python</a></li>\n",
    "</ul>\n",
    "\n",
    "<p style=\"font-size:16px;font-family:Arial;color:#00233C\">Tables:</p>\n",
    "<ul style=\"font-size:16px;font-family:Arial;color:#00233C\">\n",
    "    <li>consumption - Rows: 32,136</li>\n",
    "</ul>"
   ]
  },
  {
   "cell_type": "code",
   "execution_count": null,
   "id": "3b5ae46a",
   "metadata": {},
   "outputs": [],
   "source": [
    "%run -i ../run_procedure.py \"call get_data('DEMO_Energy_cloud')\";"
   ]
  },
  {
   "cell_type": "code",
   "execution_count": null,
   "id": "4b064c0f",
   "metadata": {},
   "outputs": [],
   "source": [
    "%run -i ../run_procedure.py \"call get_data('DEMO_Energy_local')\";"
   ]
  },
  {
   "cell_type": "code",
   "execution_count": null,
   "id": "75bcf991",
   "metadata": {},
   "outputs": [],
   "source": [
    "%run -i ../run_procedure.py \"call remove_data('DEMO_Energy')\";   # only needed if you want to clean up space"
   ]
  },
  {
   "cell_type": "markdown",
   "id": "d2e0f194-cfa9-4016-bd3d-9da50d459f91",
   "metadata": {},
   "source": [
    "<hr style=\"height:2px;border:none;background-color:#00233C;\">\n",
    "<p style=\"font-size:18px;font-family:Arial;color:#00233C\"><b>DEMO_ESG</b></p>\n",
    "<p style=\"font-size:16px;font-family:Arial;color:#00233C\">The database DEMO_ESG has data needed for reporting the company's Carbon Footprint. It includes standard reference data like greenhouse gases, their equivalent CO2, emissions, and geo-spatial reference data. It also contains data on the company's activities like electricity consumption, travels, etc. The data was collected from January 2018.</p>\n",
    "\n",
    "<p style=\"font-size:16px;font-family:Arial;color:#00233C\">It is used by:</p>\n",
    "\n",
    "<ul style=\"font-size:16px;font-family:Arial;color:#00233C\">\n",
    "    <li><a href=\"../Carbon_Footprint_Analytics/Carbon_Footprint_Analytics_PY_SQL.ipynb\">Carbon_Footprint_Analytics_PY_SQL</a></li>\n",
    "</ul>\n",
    "\n",
    "<p style=\"font-size:16px;font-family:Arial;color:#00233C\">Tables:</p>\n",
    "<ul style=\"font-size:16px;font-family:Arial;color:#00233C\">\n",
    "    <li>GHG_Ref - Rows: 23</li>\n",
    "    <li>Scope_Ref - Rows: 3</li>\n",
    "    <li>Activity_Ref - Rows: 1,275</li>\n",
    "    <li>Airport_Ref - Rows: 49,234</li>\n",
    "    <li>GWP_Ref - Rows: 61</li>\n",
    "    <li>Protocol_Ref - Rows: 25</li>\n",
    "    <li>Organization_Ref - Rows: 10</li>\n",
    "    <li>Unit_Converter - Rows: 39</li>\n",
    "    <li>Effect - Rows: 13,756</li>\n",
    "    <li>Consumer_Price_Index - Rows: 155</li>\n",
    "    <li>Emission_Ref - Rows: 321</li>\n",
    "    <li>Scope_Category_Ref - Rows: 18</li>\n",
    "    <li>Geo_T_Ref - Rows: 12,340,153</li>\n",
    "    <li>Timezone_Ref - Rows: 424</li>\n",
    "    <li>Activity_Type_Ref - Rows: 25</li>\n",
    "    <li>Feature_Code_Ref - Rows: 691</li>\n",
    "    <li>Activity_Tag_Ref - Rows: 1,292</li>\n",
    "    <li>Feature_Class_Ref - Rows: 11</li>\n",
    "</ul>"
   ]
  },
  {
   "cell_type": "code",
   "execution_count": null,
   "id": "0e7f54a3-e451-4020-856e-3be5803f8c6d",
   "metadata": {},
   "outputs": [],
   "source": [
    "%run -i ../run_procedure.py \"call get_data('DEMO_ESG_cloud')\";"
   ]
  },
  {
   "cell_type": "code",
   "execution_count": null,
   "id": "aa3fbd86-e90f-4e7b-929e-4ac47422261e",
   "metadata": {},
   "outputs": [],
   "source": [
    "%run -i ../run_procedure.py \"call get_data('DEMO_ESG_local')\";"
   ]
  },
  {
   "cell_type": "code",
   "execution_count": null,
   "id": "1ab16dc2-88ae-45af-8785-6b1219c95e84",
   "metadata": {},
   "outputs": [],
   "source": [
    "%run -i ../run_procedure.py \"call remove_data('DEMO_ESG')\";   # only needed if you want to clean up space"
   ]
  },
  {
   "cell_type": "markdown",
   "id": "c5afcac6-028c-4f99-82a1-f9f0c881807d",
   "metadata": {},
   "source": [
    "<hr style=\"height:2px;border:none;background-color:#00233C;\">\n",
    "<p style=\"font-size:18px;font-family:Arial;color:#00233C\"><b>DEMO_EVCarBattery</b></p>\n",
    "<p style=\"font-size:16px;font-family:Arial;color:#00233C\">The database DEMO_EVCarBattery provides the production of vehicles including the parts and bill of materials. It includes a table with the VIN identifiers of cars that reported bad batteries. Additionally, there is a public cloud dataset at <a href=\"s3.amazonaws.com/trial-datasets/EVCarBattery\">s3.amazonaws.com/trial-datasets/EVCarBattery</a> that has test results of the individual batteries used in the vehicles.</p>\n",
    "\n",
    "<p style=\"font-size:16px;font-family:Arial;color:#00233C\">It is used by:</p>\n",
    "\n",
    "<ul style=\"font-size:16px;font-family:Arial;color:#00233C\">\n",
    "    <li><a href=\"../Battery_Defect_Analysis/Battery_Defect_Analysis_PY_SQL.ipynb\">Battery_Defect_Analysis_PY_SQL</a></li>\n",
    "</ul>\n",
    "\n",
    "<p style=\"font-size:16px;font-family:Arial;color:#00233C\">Tables:</p>\n",
    "<ul style=\"font-size:16px;font-family:Arial;color:#00233C\">\n",
    "    <li>BOM - Rows: 267,408</li>\n",
    "    <li>Bad_Batteries - Rows: 698</li>\n",
    "    <li>Dealers - Rows: 10</li>\n",
    "    <li>Mfg_Plants - Rows: 8</li>\n",
    "    <li>Parts - Rows: 1,759</li>\n",
    "    <li>Vehicles - Rows: 22,273</li>\n",
    "</ul>"
   ]
  },
  {
   "cell_type": "code",
   "execution_count": null,
   "id": "09319910",
   "metadata": {},
   "outputs": [],
   "source": [
    "%run -i ../run_procedure.py \"call get_data('DEMO_EVCarBattery_cloud')\";"
   ]
  },
  {
   "cell_type": "code",
   "execution_count": null,
   "id": "3e18b85d",
   "metadata": {},
   "outputs": [],
   "source": [
    "%run -i ../run_procedure.py \"call get_data('DEMO_EVCarBattery_local')\";"
   ]
  },
  {
   "cell_type": "code",
   "execution_count": null,
   "id": "882e995c",
   "metadata": {},
   "outputs": [],
   "source": [
    "%run -i ../run_procedure.py \"call remove_data('DEMO_EVCarBattery')\";   # only needed if you want to clean up space"
   ]
  },
  {
   "cell_type": "markdown",
   "id": "f63d0a30-83f4-4b6f-84fb-4252e27aa566",
   "metadata": {},
   "source": [
    "<hr style=\"height:2px;border:none;background-color:#00233C;\">\n",
    "<p style=\"font-size:18px;font-family:Arial;color:#00233C\"><b>DEMO_Financial</b></p>\n",
    "<p style=\"font-size:16px;font-family:Arial;color:#00233C\">The database DEMO_Financial is used in multiple notebooks. The Customer, Accounts, and Transactions are used in the Vantage Analytics Library for descriptive statistics, analytics, and ML. The Consumer Complaints came from the Consumer Financial Protection Bureau (CFPB) via data.gov on financial products and services, which include but are not limited to bank accounts, credit cards, credit reporting.</p>\n",
    "\n",
    "<p style=\"font-size:16px;font-family:Arial;color:#00233C\">It is used by:</p>\n",
    "\n",
    "<ul style=\"font-size:16px;font-family:Arial;color:#00233C\">\n",
    "    <li><a href=\"../Financial_Customer_Journey/Financial_Customer_Journey_PY_SQL.ipynb\">Financial_Customer_Journey_PY_SQL</a></li>\n",
    "    <li><a href=\"../Financial_Customer_Journey/Financial_Customer_Journey_SQL.ipynb\">Financial_Customer_Journey_SQL</a></li>\n",
    "    <li><a href=\"../Vantage_Analytics_Library/VAL_Analytics_and_ML_SQL.ipynb\">VAL_Analytics_and_ML_SQL</a></li>\n",
    "    <li><a href=\"../Vantage_Analytics_Library/VAL_Descriptive_Statistics_SQL.ipynb\">VAL_Descriptive_Statistics_SQL</a></li>\n",
    "    <li><a href=\"../Vantage_Analytics_Library/VAL_teradataml_Demo_Python.ipynb\">VAL_teradataml_Demo_Python</a></li>\n",
    "</ul>\n",
    "\n",
    "<p style=\"font-size:16px;font-family:Arial;color:#00233C\">Tables:</p>\n",
    "<ul style=\"font-size:16px;font-family:Arial;color:#00233C\">\n",
    "    <li>Accounts - Rows: 19,726</li>\n",
    "    <li>Consumer_Complaints - Rows: 1,273,782</li>\n",
    "    <li>Credit_Tran - Rows: 20,167</li>\n",
    "    <li>Customer - Rows: 10,458</li>\n",
    "    <li>Customer_Analysis - Rows: 747</li>\n",
    "    <li>Customer_Journey - Rows: 628,723</li>\n",
    "    <li>Transactions - Rows: 1,086,120</li>\n",
    "</ul>"
   ]
  },
  {
   "cell_type": "code",
   "execution_count": null,
   "id": "13e2a89b",
   "metadata": {},
   "outputs": [],
   "source": [
    "%run -i ../run_procedure.py \"call get_data('DEMO_Financial_cloud')\";"
   ]
  },
  {
   "cell_type": "code",
   "execution_count": null,
   "id": "5aee5902",
   "metadata": {},
   "outputs": [],
   "source": [
    "%run -i ../run_procedure.py \"call get_data('DEMO_Financial_local')\";"
   ]
  },
  {
   "cell_type": "code",
   "execution_count": null,
   "id": "137729c6",
   "metadata": {},
   "outputs": [],
   "source": [
    "%run -i ../run_procedure.py \"call remove_data('DEMO_Financial')\";   # only needed if you want to clean up space"
   ]
  },
  {
   "cell_type": "markdown",
   "id": "86578d6f-a3f7-41aa-be66-5c588c13e29a",
   "metadata": {},
   "source": [
    "<hr style=\"height:2px;border:none;background-color:#00233C;\">\n",
    "<p style=\"font-size:18px;font-family:Arial;color:#00233C\"><b>DEMO_GLM_Fraud</b></p>\n",
    "<p style=\"font-size:16px;font-family:Arial;color:#00233C\">The database DEMO_GLM_Fraud contains transactions with old and new balances and flags to indicate if it had previously been detected as fraudulent. This is used by GLM_Fraud_Detection notebooks to check the accuracy of a model to predict fraud on a sample based on training a model using the rest of the data.</p>\n",
    "\n",
    "<p style=\"font-size:16px;font-family:Arial;color:#00233C\">It is used by:</p>\n",
    "\n",
    "<ul style=\"font-size:16px;font-family:Arial;color:#00233C\">\n",
    "    <li><a href=\"../Financial_Fraud_Detection_BYOM/Financial_Fraud_Detection_BYOM_PY_SQL.ipynb\">Financial_Fraud_Detection_BYOM_PY_SQL</a></li>\n",
    "    <li><a href=\"../Financial_Fraud_Detection_BYOM/Financial_Fraud_Detection_BYOM_Python.ipynb\">Financial_Fraud_Detection_BYOM_Python</a></li>\n",
    "    <li><a href=\"../Financial_Fraud_Detection_InDB/Financial_Fraud_Detection_InDB_PY_SQL.ipynb\">Financial_Fraud_Detection_InDB_PY_SQL</a></li>\n",
    "    <li><a href=\"../Financial_Fraud_Detection_InDB/Financial_Fraud_Detection_InDB_Python.ipynb\">Financial_Fraud_Detection_InDB_Python</a></li>\n",
    "</ul>\n",
    "\n",
    "<p style=\"font-size:16px;font-family:Arial;color:#00233C\">Tables:</p>\n",
    "<ul style=\"font-size:16px;font-family:Arial;color:#00233C\">\n",
    "    <li>Transaction_Data - Rows: 63,626</li>\n",
    "</ul>"
   ]
  },
  {
   "cell_type": "code",
   "execution_count": null,
   "id": "1db09f1c",
   "metadata": {},
   "outputs": [],
   "source": [
    "%run -i ../run_procedure.py \"call get_data('DEMO_GLM_Fraud_cloud')\";"
   ]
  },
  {
   "cell_type": "code",
   "execution_count": null,
   "id": "2af68edf",
   "metadata": {},
   "outputs": [],
   "source": [
    "%run -i ../run_procedure.py \"call get_data('DEMO_GLM_Fraud_local')\";"
   ]
  },
  {
   "cell_type": "code",
   "execution_count": null,
   "id": "cf88131c",
   "metadata": {},
   "outputs": [],
   "source": [
    "%run -i ../run_procedure.py \"call remove_data('DEMO_GLM_Fraud')\";   # only needed if you want to clean up space"
   ]
  },
  {
   "cell_type": "markdown",
   "id": "6dbdb279-4e7c-4b49-97a0-19a10fa34e59",
   "metadata": {},
   "source": [
    "<hr style=\"height:2px;border:none;background-color:#00233C;\">\n",
    "<p style=\"font-size:18px;font-family:Arial;color:#00233C\"><b>DEMO_Grocery_Data</b></p>\n",
    "<p style=\"font-size:16px;font-family:Arial;color:#00233C\">The database DEMO_GLM_Fraud provides the data from <a href=\"https://www.kaggle.com/competitions/instacart-market-basket-analysis/data\">Instacart</a>. This data contains orders from a Grocery store, including information such as product_id, product_name, aisle_id, department_id, etc.</p>\n",
    "\n",
    "<p style=\"font-size:16px;font-family:Arial;color:#00233C\">It is used by:</p>\n",
    "\n",
    "<ul style=\"font-size:16px;font-family:Arial;color:#00233C\">\n",
    "    <li><a href=\"../Recommendations_product_search/Recommendations_product_search_OpenAI_Python.ipynb\">Recommendations_product_search_OpenAI_Python</a></li>\n",
    "    <li><a href=\"../Recommendations_product_search/Recommendations_product_search_OpenSource_Python.ipynb\">Recommendations_product_search_OpenSource_Python</a></li>\n",
    "</ul>\n",
    "\n",
    "<p style=\"font-size:16px;font-family:Arial;color:#00233C\">Tables:</p>\n",
    "<ul style=\"font-size:16px;font-family:Arial;color:#00233C\">\n",
    "    <li>Products - Rows: 49,688</li>\n",
    "    <li>Order_Products_Train - Rows: 1,384,617</li>\n",
    "    <li>Product_Id_To_Seq_Product_Id - Rows: 39,123</li>\n",
    "</ul>"
   ]
  },
  {
   "cell_type": "code",
   "execution_count": null,
   "id": "27dbba31-f046-4d10-90f2-66dd772a238b",
   "metadata": {},
   "outputs": [],
   "source": [
    "%run -i ../run_procedure.py \"call get_data('DEMO_Grocery_Data_cloud')\";"
   ]
  },
  {
   "cell_type": "code",
   "execution_count": null,
   "id": "aa3d17a1-57c9-4cbb-92fc-cf8fb8f213b2",
   "metadata": {},
   "outputs": [],
   "source": [
    "%run -i ../run_procedure.py \"call get_data('DEMO_Grocery_Data_local')\";"
   ]
  },
  {
   "cell_type": "code",
   "execution_count": null,
   "id": "5630605d-f9f5-4df3-866f-b84cecb8b2d4",
   "metadata": {},
   "outputs": [],
   "source": [
    "%run -i ../run_procedure.py \"call remove_data('DEMO_Grocery_Data')\";   # only needed if you want to clean up space"
   ]
  },
  {
   "cell_type": "markdown",
   "id": "c32f7625-a69a-46cb-8589-1bfa1639a5de",
   "metadata": {},
   "source": [
    "<hr style=\"height:2px;border:none;background-color:#00233C;\">\n",
    "<p style=\"font-size:18px;font-family:Arial;color:#00233C\"><b>DEMO_IndoorSensor</b></p>\n",
    "<p style=\"font-size:16px;font-family:Arial;color:#00233C\">The database DEMO_IndoorSensor provides data from 54 building sensor locations at the Intel Berkeley Research lab. They produce an average of 68,000 readings per day over the month used in this demo. In addition to analyzing temperature, humidity, and light, the connectivity of the sensors to each other and voltage readings are also analyzed. The related readings from the sensors can be found at <a href=\"s3.amazonaws.com/trial-datasets/IndoorSensor/data.csv\">s3.amazonaws.com/trial-datasets/IndoorSensor/data.csv</a> and contain 2,313,682 rows.</p>\n",
    "\n",
    "<p style=\"font-size:16px;font-family:Arial;color:#00233C\">It is used by:</p>\n",
    "\n",
    "<ul style=\"font-size:16px;font-family:Arial;color:#00233C\">\n",
    "    <li><a href=\"../Sensor_Data_Analytics/Sensor_Data_Analytics_PY_SQL.ipynb\">Sensor_Data_Analytics_PY_SQL</a></li>\n",
    "</ul>\n",
    "\n",
    "<p style=\"font-size:16px;font-family:Arial;color:#00233C\">Tables:</p>\n",
    "<ul style=\"font-size:16px;font-family:Arial;color:#00233C\">\n",
    "    <li>Connectivity - Rows: 2,970</li>\n",
    "    <li>Sensor_Location - Rows: 54</li>\n",
    "</ul>"
   ]
  },
  {
   "cell_type": "code",
   "execution_count": null,
   "id": "46c374fe",
   "metadata": {},
   "outputs": [],
   "source": [
    "%run -i ../run_procedure.py \"call get_data('DEMO_IndoorSensor_cloud')\";"
   ]
  },
  {
   "cell_type": "code",
   "execution_count": null,
   "id": "af887cdc",
   "metadata": {},
   "outputs": [],
   "source": [
    "%run -i ../run_procedure.py \"call get_data('DEMO_IndoorSensor_local')\";"
   ]
  },
  {
   "cell_type": "code",
   "execution_count": null,
   "id": "3a6b219f",
   "metadata": {},
   "outputs": [],
   "source": [
    "%run -i ../run_procedure.py \"call remove_data('DEMO_IndoorSensor')\";   # only needed if you want to clean up space"
   ]
  },
  {
   "cell_type": "markdown",
   "id": "9b87a0f7-ce06-4aef-b4b1-877ded8257e2",
   "metadata": {},
   "source": [
    "<hr style=\"height:2px;border:none;background-color:#00233C;\">\n",
    "<p style=\"font-size:18px;font-family:Arial;color:#00233C\"><b>DEMO_Insurance</b></p>\n",
    "<p style=\"font-size:16px;font-family:Arial;color:#00233C\">The database DEMO_Insurance begins with the contents of Policy_Details_org which contains basic data about policy_ID, Customer_ID, car, start date, premium, and state. It then synthesizes claims and temporal policy tables.</p>\n",
    "\n",
    "<p style=\"font-size:16px;font-family:Arial;color:#00233C\">It is used by:</p>\n",
    "\n",
    "<ul style=\"font-size:16px;font-family:Arial;color:#00233C\">\n",
    "    <li><a href=\"../Insurance_Policy_Temporal/Insurance_Policy_Temporal_SQL.ipynb\">Insurance_Policy_Temporal_SQL</a></li>\n",
    "</ul>\n",
    "\n",
    "<p style=\"font-size:16px;font-family:Arial;color:#00233C\">Tables:</p>\n",
    "<ul style=\"font-size:16px;font-family:Arial;color:#00233C\">\n",
    "    <li>Insurance_Claims_Details - Rows: 69</li>\n",
    "    <li>Policy_Bitemp - Rows: 706</li>\n",
    "    <li>Policy_Details - Rows: 2,958</li>\n",
    "    <li>Policy_Details_org - Rows: 2,958</li>\n",
    "</ul>"
   ]
  },
  {
   "cell_type": "code",
   "execution_count": null,
   "id": "21a6ae08",
   "metadata": {},
   "outputs": [],
   "source": [
    "%run -i ../run_procedure.py \"call get_data('DEMO_Insurance_local')\";"
   ]
  },
  {
   "cell_type": "code",
   "execution_count": null,
   "id": "fa2db9e9",
   "metadata": {},
   "outputs": [],
   "source": [
    "%run -i ../run_procedure.py \"call remove_data('DEMO_Insurance')\";   # only needed if you want to clean up space"
   ]
  },
  {
   "cell_type": "markdown",
   "id": "3dcd011d-0b46-4c73-b33a-a09169c5620c",
   "metadata": {},
   "source": [
    "<hr style=\"height:2px;border:none;background-color:#00233C;\">\n",
    "<p style=\"font-size:18px;font-family:Arial;color:#00233C\"><b>DEMO_KneeReplacement</b></p>\n",
    "<p style=\"font-size:16px;font-family:Arial;color:#00233C\">The data used in this demonstration represents procedures for injuries to the knee. There are 289,839 events for various members across 51 states/territories. The data covers 13 procedures over a span of 4 months.</p>\n",
    "\n",
    "<p style=\"font-size:16px;font-family:Arial;color:#00233C\">It is used by:</p>\n",
    "\n",
    "<ul style=\"font-size:16px;font-family:Arial;color:#00233C\">\n",
    "    <li><a href=\"../Knee_Replacement/Knee_Replacement_Attribution_SQL.ipynb\">Knee_Replacement_Attribution_SQL</a></li>\n",
    "    <li><a href=\"../Knee_Replacement/Knee_Replacement_nPath_Python.ipynb\">Knee_Replacement_nPath_Python</a></li>\n",
    "</ul>\n",
    "\n",
    "<p style=\"font-size:16px;font-family:Arial;color:#00233C\">Tables:</p>\n",
    "<ul style=\"font-size:16px;font-family:Arial;color:#00233C\">\n",
    "    <li>Knee_Replacement - Rows: 289,839</li>\n",
    "</ul>"
   ]
  },
  {
   "cell_type": "code",
   "execution_count": null,
   "id": "05a4b022-ef22-40d3-9570-beca5f6fd2d4",
   "metadata": {},
   "outputs": [],
   "source": [
    "%run -i ../run_procedure.py \"call get_data('DEMO_KneeReplacement_cloud')\";"
   ]
  },
  {
   "cell_type": "code",
   "execution_count": null,
   "id": "a157c860-ed66-4aa3-9dc6-8f38b75e4858",
   "metadata": {},
   "outputs": [],
   "source": [
    "%run -i ../run_procedure.py \"call get_data('DEMO_KneeReplacement_local')\";"
   ]
  },
  {
   "cell_type": "code",
   "execution_count": null,
   "id": "3de95bee-4bac-40e4-b8b9-3a0c7a34ddc7",
   "metadata": {},
   "outputs": [],
   "source": [
    "%run -i ../run_procedure.py \"call remove_data('DEMO_KneeReplacement')\";   # only needed if you want to clean up space"
   ]
  },
  {
   "cell_type": "markdown",
   "id": "fef46d38-b878-4f9e-a02a-9870b5e49411",
   "metadata": {},
   "source": [
    "<hr style=\"height:2px;border:none;background-color:#00233C;\">\n",
    "<p style=\"font-size:18px;font-family:Arial;color:#00233C\"><b>DEMO_Market</b></p>\n",
    "<p style=\"font-size:16px;font-family:Arial;color:#00233C\">The database DEMO_Market provides data of store locations, competitor store locations, customer locations, etc. This data is used to assess the presence of nearby competitors and customer spending patterns.</p>\n",
    "\n",
    "<p style=\"font-size:16px;font-family:Arial;color:#00233C\">It is used by:</p>\n",
    "\n",
    "<ul style=\"font-size:16px;font-family:Arial;color:#00233C\">\n",
    "    <li><a href=\"../Competitor_Proximity_Geospatial_Analysis/Competitor_Proximity_Geospatial_Analysis_Python.ipynb\">Competitor_Proximity_Geospatial_Analysis_Python</a></li>\n",
    "</ul>\n",
    "\n",
    "<p style=\"font-size:16px;font-family:Arial;color:#00233C\">Tables:</p>\n",
    "<ul style=\"font-size:16px;font-family:Arial;color:#00233C\">\n",
    "    <li>Customer - Rows: 313</li>\n",
    "    <li>Competitor - Rows: 7</li>\n",
    "    <li>Store - Rows: 10</li>\n",
    "    <li>Competitor_Dtpoly - Rows: 14</li>\n",
    "</ul>"
   ]
  },
  {
   "cell_type": "code",
   "execution_count": null,
   "id": "14a77645-0284-428d-ac57-fdab7d0aa575",
   "metadata": {},
   "outputs": [],
   "source": [
    "%run -i ../run_procedure.py \"call get_data('DEMO_Market_cloud')\";"
   ]
  },
  {
   "cell_type": "code",
   "execution_count": null,
   "id": "514f935e-4dc7-4fbc-9622-d9329fd2b12b",
   "metadata": {},
   "outputs": [],
   "source": [
    "%run -i ../run_procedure.py \"call get_data('DEMO_Market_local')\";"
   ]
  },
  {
   "cell_type": "code",
   "execution_count": null,
   "id": "85bd56bc-6a45-472d-8886-bc7a3e32c39c",
   "metadata": {},
   "outputs": [],
   "source": [
    "%run -i ../run_procedure.py \"call remove_data('DEMO_Market')\";   # only needed if you want to clean up space"
   ]
  },
  {
   "cell_type": "markdown",
   "id": "c268e98f-23b6-4b3c-975b-d27afc1ce814",
   "metadata": {},
   "source": [
    "<hr style=\"height:2px;border:none;background-color:#00233C;\">\n",
    "<p style=\"font-size:18px;font-family:Arial;color:#00233C\"><b>DEMO_MarketingCamp</b></p>\n",
    "<p style=\"font-size:16px;font-family:Arial;color:#00233C\">The data is from the last marketing campaign and includes thousands of rows of customer data like age, job, marital status, education, etc. Each row represents a snapshot of data taken during the last marketing campaign, and each column corresponds to a different variable. The input dataset can be divided into three categories:</p>\n",
    "\n",
    "<ol style=\"font-size:16px;font-family:Arial;color:#00233C\">\n",
    "    <li>Customer data: age, profession, education, monthly income, etc.</li>\n",
    "    <li>Attributes related to the last contact of the current campaign: contact, month, day, etc.</li>\n",
    "    <li>Other attributes: campaign, previous outcome, payment methods, etc.</li>\n",
    "</ol>\n",
    "\n",
    "<p style=\"font-size:16px;font-family:Arial;color:#00233C\">Additionally, there is a target attribute - purchased. The source data from Kaggle is loaded into Vantage and supplemented with information about city, monthly income, family members, etc. The data is loaded into a Vantage table named Retail_Marketing.</p>\n",
    "\n",
    "<p style=\"font-size:16px;font-family:Arial;color:#00233C\">It is used by:</p>\n",
    "\n",
    "<ul style=\"font-size:16px;font-family:Arial;color:#00233C\">\n",
    "    <li><a href=\"../Generative_Question_Answering_GenAI/Generative_Question_Answering_Python.ipynb\">Generative_Question_Answering_Python</a></li>\n",
    "    <li><a href=\"../Marketing_Campaign_Effectiveness/Marketing_Campaign_Effectiveness_Prediction_PY_SQL.ipynb\">Marketing_Campaign_Effectiveness_Prediction_PY_SQL</a></li>\n",
    "</ul>\n",
    "\n",
    "<p style=\"font-size:16px;font-family:Arial;color:#00233C\">Tables:</p>\n",
    "<ul style=\"font-size:16px;font-family:Arial;color:#00233C\">\n",
    "    <li>Retail_Marketing - Rows: 11,162</li>\n",
    "</ul>"
   ]
  },
  {
   "cell_type": "code",
   "execution_count": null,
   "id": "2e146325-201b-4c6c-92b6-53e79236600d",
   "metadata": {},
   "outputs": [],
   "source": [
    "%run -i ../run_procedure.py \"call get_data('DEMO_MarketingCamp_cloud')\";"
   ]
  },
  {
   "cell_type": "code",
   "execution_count": null,
   "id": "29031e1f-0a96-4917-b44f-045808ef1897",
   "metadata": {},
   "outputs": [],
   "source": [
    "%run -i ../run_procedure.py \"call get_data('DEMO_MarketingCamp_local')\";"
   ]
  },
  {
   "cell_type": "code",
   "execution_count": null,
   "id": "3560c09b-711a-4460-a3dc-24211469f52a",
   "metadata": {},
   "outputs": [],
   "source": [
    "%run -i ../run_procedure.py \"call remove_data('DEMO_MarketingCamp')\";   # only needed if you want to clean up space"
   ]
  },
  {
   "cell_type": "markdown",
   "id": "c53ba4eb-8664-49ae-abe3-1b1d77f136e0",
   "metadata": {},
   "source": [
    "<hr style=\"height:2px;border:none;background-color:#00233C;\">\n",
    "<p style=\"font-size:18px;font-family:Arial;color:#00233C\"><b>DEMO_ModelOps</b></p>\n",
    "<p style=\"font-size:16px;font-family:Arial;color:#00233C\">The database DEMO_ModelOps provides data from <a href=\"https://nrvis.com/data/mldata/pima-indians-diabetes.csv\">https://nrvis.com/data/mldata/pima-indians-diabetes.csv</a>. The Pima are a group of Native Americans living in Arizona. A genetic predisposition allowed this group to survive normally on a diet poor in carbohydrates for years. In recent years, due to a shift from traditional agricultural crops to processed foods and a decline in physical activity, they have developed the highest prevalence of type 2 diabetes and have been the subject of many studies.</p>\n",
    "\n",
    "<p style=\"font-size:16px;font-family:Arial;color:#00233C\">It is used by:</p>\n",
    "\n",
    "<ul style=\"font-size:16px;font-family:Arial;color:#00233C\">\n",
    "    <li><a href=\"../../ModelOps/02_ModelOps_PIMA_Experimentation.ipynb\">02_ModelOps_PIMA_Experimentation</a></li>\n",
    "    <li><a href=\"../../ModelOps/03_ModelOps_BYOM_PIMA_PMML.ipynb\">03_ModelOps_BYOM_PIMA_PMML</a></li>\n",
    "    <li><a href=\"../../ModelOps/04_ModelOps_BYOM_PIMA_ONNX.ipynb\">04_ModelOps_BYOM_PIMA_ONNX</a></li>\n",
    "    <li><a href=\"../../ModelOps/05_ModelOps_BYOM_PIMA_H2O.ipynb\">05_ModelOps_BYOM_PIMA_H2O</a></li>\n",
    "    <li><a href=\"../../ModelOps/06_ModelOps_GIT_Project_Setup.ipynb\">06_ModelOps_GIT_Project_Setup</a></li>\n",
    "    <li><a href=\"../../ModelOps/07_ModelOps_GIT_PIMA_Python_Indb_GLM.ipynb\">07_ModelOps_GIT_PIMA_Python_Indb_GLM</a></li>\n",
    "    <li><a href=\"../../ModelOps/08_ModelOps_GIT_PIMA_Python_H2OAutoML.ipynb\">08_ModelOps_GIT_PIMA_Python_H2OAutoML</a></li>\n",
    "    <li><a href=\"../../ModelOps/09_ModelOps_GIT_PIMA_Python_XGboost.ipynb\">09_ModelOps_GIT_PIMA_Python_XGboost</a></li>\n",
    "</ul>\n",
    "\n",
    "<p style=\"font-size:16px;font-family:Arial;color:#00233C\">Tables:</p>\n",
    "<ul style=\"font-size:16px;font-family:Arial;color:#00233C\">\n",
    "    <li>Aoa_Statistics_Metadata - Rows: 9</li>\n",
    "    <li>Pima_Patient_Diagnoses - Rows: 768</li>\n",
    "    <li>Pima_Patient_Features - Rows: 768</li>\n",
    "</ul>"
   ]
  },
  {
   "cell_type": "code",
   "execution_count": null,
   "id": "2a2b3971-95bd-4f1b-b06f-f3a75794024f",
   "metadata": {},
   "outputs": [],
   "source": [
    "%run -i ../run_procedure.py \"call get_data('DEMO_ModelOps_cloud')\";"
   ]
  },
  {
   "cell_type": "code",
   "execution_count": null,
   "id": "52bee5d0-a53f-4089-abfb-46f68249d6fc",
   "metadata": {},
   "outputs": [],
   "source": [
    "%run -i ../run_procedure.py \"call get_data('DEMO_ModelOps_local')\";"
   ]
  },
  {
   "cell_type": "code",
   "execution_count": null,
   "id": "93dcf6a0-ce28-4104-b563-d375b131cd4f",
   "metadata": {},
   "outputs": [],
   "source": [
    "%run -i ../run_procedure.py \"call remove_data('DEMO_ModelOps')\";   # only needed if you want to clean up space"
   ]
  },
  {
   "cell_type": "markdown",
   "id": "28d26acd-715c-45e6-a03a-e7df21b34fbd",
   "metadata": {},
   "source": [
    "<hr style=\"height:2px;border:none;background-color:#00233C;\">\n",
    "<p style=\"font-size:18px;font-family:Arial;color:#00233C\"><b>DEMO_MultiTouchAttribution</b></p>\n",
    "<p style=\"font-size:16px;font-family:Arial;color:#00233C\">The dataset is digital marketing data containing 586,000 marketing touch-points from July (2018), comprising 240,000 unique customers who generated approximately 18,000 conversions. A more detailed description of the features is shown below:</p>\n",
    "\n",
    "<ul style=\"font-size:16px;font-family:Arial;color:#00233C\">\n",
    "    <li><b>Cookie:</b> Anonymous customer id enabling us to track the progression of a given customer</li>\n",
    "    <li><b>Timestamp:</b> Date and time when the visit took place</li>\n",
    "    <li><b>Interaction:</b> Categorical variable indicating the type of interaction that took place</li>\n",
    "    <li><b>Conversion:</b> Boolean variable indicating whether a conversion took place</li>\n",
    "    <li><b>Conversion Value:</b> Value of the potential conversion event (revenue)</li>\n",
    "    <li><b>Channel:</b> The marketing channel that brought the customer to our site</li>\n",
    "</ul>\n",
    "\n",
    "<p style=\"font-size:16px;font-family:Arial;color:#00233C\">It is used by:</p>\n",
    "\n",
    "<ul style=\"font-size:16px;font-family:Arial;color:#00233C\">\n",
    "    <li><a href=\"../MultiTouch_Attribution/MultiTouch_Attribution_PY_SQL.ipynb\">MultiTouch_Attribution_PY_SQL</a></li>\n",
    "    <li><a href=\"../MultiTouch_Attribution/Analyst_MultiTouch_Attribution_PY_SQL.ipynb\">Analyst_MultiTouch_Attribution_PY_SQL</a></li>\n",
    "</ul>\n",
    "\n",
    "<p style=\"font-size:16px;font-family:Arial;color:#00233C\">Tables:</p>\n",
    "<ul style=\"font-size:16px;font-family:Arial;color:#00233C\">\n",
    "    <li>Attribution_Data - Rows: 575,113</li>\n",
    "    <li>Channel_Cost - Rows: 5</li>\n",
    "</ul>"
   ]
  },
  {
   "cell_type": "code",
   "execution_count": null,
   "id": "4f356254-7a0b-41e4-8f35-aa01fe0d4260",
   "metadata": {},
   "outputs": [],
   "source": [
    "%run -i ../run_procedure.py \"call get_data('DEMO_MultiTouchAttribution_cloud')\";"
   ]
  },
  {
   "cell_type": "code",
   "execution_count": null,
   "id": "7df94503-143a-476c-92f9-c295d43dfe12",
   "metadata": {},
   "outputs": [],
   "source": [
    "%run -i ../run_procedure.py \"call get_data('DEMO_MultiTouchAttribution_local')\";"
   ]
  },
  {
   "cell_type": "code",
   "execution_count": null,
   "id": "3b33b142-7df2-48f3-bd2a-e7ef0e783765",
   "metadata": {},
   "outputs": [],
   "source": [
    "%run -i ../run_procedure.py \"call remove_data('DEMO_MultiTouchAttribution')\";   # only needed if you want to clean up space"
   ]
  },
  {
   "cell_type": "markdown",
   "id": "293a163b-b9d5-45ee-801d-6b524389371e",
   "metadata": {},
   "source": [
    "<hr style=\"height:2px;border:none;background-color:#00233C;\">\n",
    "<p style=\"font-size:18px;font-family:Arial;color:#00233C\"><b>DEMO_NYCTaxi</b></p>\n",
    "<p style=\"font-size:16px;font-family:Arial;color:#00233C\">The database DEMO_NYCTaxi data includes pick-up and drop-off dates/times, pick-up and drop-off lat/long, trip distances, itemized fares, rate types, payment types, and driver-reported passenger counts. The data was collected and provided to the NYC Taxi and Limousine Commission (TLC) by technology providers authorized under the Taxicab & Livery Passenger Enhancement Programs (TPEP/LPEP).</p>\n",
    "\n",
    "<p style=\"font-size:16px;font-family:Arial;color:#00233C\">It is used by:</p>\n",
    "\n",
    "<ul style=\"font-size:16px;font-family:Arial;color:#00233C\">\n",
    "    <li><a href=\"../NYC_Taxi/NYC_Taxi_Geospatial_PY_SQL.ipynb\">NYC_Taxi_Geospatial_PY_SQL</a></li>\n",
    "    <li><a href=\"../NYC_Taxi/NYC_Taxi_Temporal_SQL.ipynb\">NYC_Taxi_Temporal_SQL</a></li>\n",
    "    <li><a href=\"../Outlier_Analysis/Outlier_Analysis_SQL.ipynb\">Outlier_Analysis_SQL</a></li>\n",
    "</ul>\n",
    "\n",
    "<p style=\"font-size:16px;font-family:Arial;color:#00233C\">Tables:</p>\n",
    "<ul style=\"font-size:16px;font-family:Arial;color:#00233C\">\n",
    "    <li>Trip - Rows: 480,535</li>\n",
    "    <li>Trip_Fare - Rows: 473,151</li>\n",
    "</ul>"
   ]
  },
  {
   "cell_type": "code",
   "execution_count": null,
   "id": "137d8e92",
   "metadata": {},
   "outputs": [],
   "source": [
    "%run -i ../run_procedure.py \"call get_data('DEMO_NYCTaxi_cloud')\";"
   ]
  },
  {
   "cell_type": "code",
   "execution_count": null,
   "id": "b7ae7f7c",
   "metadata": {},
   "outputs": [],
   "source": [
    "%run -i ../run_procedure.py \"call get_data('DEMO_NYCTaxi_local')\";"
   ]
  },
  {
   "cell_type": "code",
   "execution_count": null,
   "id": "b463e118",
   "metadata": {},
   "outputs": [],
   "source": [
    "%run -i ../run_procedure.py \"call remove_data('DEMO_NYCTaxi')\";   # only needed if you want to clean up space"
   ]
  },
  {
   "cell_type": "markdown",
   "id": "04e45f9f-81a4-438b-aaca-5a3f150ccc6a",
   "metadata": {},
   "source": [
    "<hr style=\"height:2px;border:none;background-color:#00233C;\">\n",
    "<p style=\"font-size:18px;font-family:Arial;color:#00233C\"><b>DEMO_NZFloods</b></p>\n",
    "<p style=\"font-size:16px;font-family:Arial;color:#00233C\">The database DEMO_NZFloods contains the street addresses from North Island and the seven flood area zones affected by the 2022 floods.</p>\n",
    "\n",
    "<p style=\"font-size:16px;font-family:Arial;color:#00233C\">It is used by:</p>\n",
    "\n",
    "<ul style=\"font-size:16px;font-family:Arial;color:#00233C\">\n",
    "    <li><a href=\"../Flood_Proximity_Analysis/Flood_Proximity_Analysis_Python.ipynb\">Flood_Proximity_Analysis_Python</a></li>\n",
    "</ul>\n",
    "\n",
    "<p style=\"font-size:16px;font-family:Arial;color:#00233C\">Tables:</p>\n",
    "<ul style=\"font-size:16px;font-family:Arial;color:#00233C\">\n",
    "    <li>nz_floods - Rows: 7</li>\n",
    "    <li>nz_addrs_geoV - Rows: 69,357</li>\n",
    "    <li>nz_addrs - Rows: 69,357</li>\n",
    "    <li>nz_floods_geoV - Rows: 7</li>\n",
    "</ul>"
   ]
  },
  {
   "cell_type": "code",
   "execution_count": null,
   "id": "c4260db4-1863-4ca9-99ad-e21be45789f5",
   "metadata": {},
   "outputs": [],
   "source": [
    "%run -i ../run_procedure.py \"call get_data('DEMO_NZFloods_cloud')\";"
   ]
  },
  {
   "cell_type": "code",
   "execution_count": null,
   "id": "99164d84-b703-4c5f-9c22-d96387e3410c",
   "metadata": {},
   "outputs": [],
   "source": [
    "%run -i ../run_procedure.py \"call get_data('DEMO_NZFloods_local')\";"
   ]
  },
  {
   "cell_type": "code",
   "execution_count": null,
   "id": "d21ac068-061c-48c3-a15f-e5954dcde13f",
   "metadata": {},
   "outputs": [],
   "source": [
    "%run -i ../run_procedure.py \"call remove_data('DEMO_NZFloods')\";   # only needed if you want to clean up space"
   ]
  },
  {
   "cell_type": "markdown",
   "id": "f6419142-8daa-4163-9095-64fc5bd01a60",
   "metadata": {},
   "source": [
    "<hr style=\"height:2px;border:none;background-color:#00233C;\">\n",
    "<p style=\"font-size:18px;font-family:Arial;color:#00233C\"><b>DEMO_ParkinsonsDisease</b></p>\n",
    "<p style=\"font-size:16px;font-family:Arial;color:#00233C\">The database DEMO_ParkinsonsDisease is composed of a range of biomedical voice measurements from 31 people, 23 with Parkinson's disease (PD). Each column in the table is a particular voice measure, and each row corresponds to one of 195 voice recordings from these individuals (\"name\" column). The main aim of the data is to discriminate healthy people from those with PD, according to the \"status\" column which is set to 0 for healthy and 1 for PD.</p>\n",
    "\n",
    "<p style=\"font-size:16px;font-family:Arial;color:#00233C\">It is used by:</p>\n",
    "\n",
    "<ul style=\"font-size:16px;font-family:Arial;color:#00233C\">\n",
    "    <li><a href=\"../.Parkinsons_Disease_Prediction/Parkinsons_Disease_Prediction_PY_SQL.ipynb\">Parkinsons_Disease_Prediction_PY_SQL</a></li>\n",
    "</ul>\n",
    "\n",
    "<p style=\"font-size:16px;font-family:Arial;color:#00233C\">Tables:</p>\n",
    "<ul style=\"font-size:16px;font-family:Arial;color:#00233C\">\n",
    "    <li>Speech_Features - Rows: 756, Columns: 755</li>\n",
    "</ul>"
   ]
  },
  {
   "cell_type": "code",
   "execution_count": null,
   "id": "81286bd1",
   "metadata": {},
   "outputs": [],
   "source": [
    "%run -i ../run_procedure.py \"call get_data('DEMO_ParkinsonsDisease_local')\";"
   ]
  },
  {
   "cell_type": "code",
   "execution_count": null,
   "id": "73dbe84a",
   "metadata": {},
   "outputs": [],
   "source": [
    "%run -i ../run_procedure.py \"call remove_data('DEMO_ParkinsonsDisease')\";   # only needed if you want to clean up space"
   ]
  },
  {
   "cell_type": "markdown",
   "id": "fbf8e9eb-b7f9-4f9b-b366-3e9f8408abbe",
   "metadata": {},
   "source": [
    "<hr style=\"height:2px;border:none;background-color:#00233C;\">\n",
    "<p style=\"font-size:18px;font-family:Arial;color:#00233C\"><b>DEMO_PredictiveMaintenance</b></p>\n",
    "<p style=\"font-size:16px;font-family:Arial;color:#00233C\">The PAM system will predict the number of remaining operational cycles before failure in the test set. i.e., the number of operational cycles after the last cycle that the engine will continue to operate. Also provided is a vector of true Remaining Useful Life (RUL) values for the test data. The data is from 100 engines, with hundreds of rows of measurements collected from each time the engine was cycled. There are three operational settings that have a substantial effect on engine performance. Data is collected from 27 sensors. There is a row for every time the engine is cycled (starting at 1) and a column counting down the cycles until maintenance is required, labeled RUL, or Remaining Useful Life.</p>\n",
    "\n",
    "<p style=\"font-size:16px;font-family:Arial;color:#00233C\">It is used by:</p>\n",
    "\n",
    "<ul style=\"font-size:16px;font-family:Arial;color:#00233C\">\n",
    "    <li><a href=\"../Predictive_Maintenance/Predictive_Maintenance_PY_SQL.ipynb\">Predictive_Maintenance_PY_SQL</a></li>\n",
    "</ul>\n",
    "\n",
    "<p style=\"font-size:16px;font-family:Arial;color:#00233C\">Tables:</p>\n",
    "<ul style=\"font-size:16px;font-family:Arial;color:#00233C\">\n",
    "    <li>Machine_Data - Rows: 10,000</li>\n",
    "</ul>"
   ]
  },
  {
   "cell_type": "code",
   "execution_count": null,
   "id": "fbe48d5f-8b9c-436d-a47e-2c1615ec8ab0",
   "metadata": {},
   "outputs": [],
   "source": [
    "%run -i ../run_procedure.py \"call get_data('DEMO_PredictiveMaintenance_cloud')\";"
   ]
  },
  {
   "cell_type": "code",
   "execution_count": null,
   "id": "d0c41657-1833-405f-9c6a-8b6dfea8a32e",
   "metadata": {},
   "outputs": [],
   "source": [
    "%run -i ../run_procedure.py \"call get_data('DEMO_PredictiveMaintenance_local')\";"
   ]
  },
  {
   "cell_type": "code",
   "execution_count": null,
   "id": "fb0da6b1-38db-4065-8538-2a1e07ac68e2",
   "metadata": {},
   "outputs": [],
   "source": [
    "%run -i ../run_procedure.py \"call remove_data('DEMO_PredictiveMaintenance')\";   # only needed if you want to clean up space"
   ]
  },
  {
   "cell_type": "markdown",
   "id": "b965fc89-46a3-4998-91da-e8fb73fe63d9",
   "metadata": {},
   "source": [
    "<hr style=\"height:2px;border:none;background-color:#00233C;\">\n",
    "<p style=\"font-size:18px;font-family:Arial;color:#00233C\"><b>DEMO_ProphetSTO</b></p>\n",
    "<p style=\"font-size:16px;font-family:Arial;color:#00233C\">The data is for Rossmann operating over 3,000 drug stores in 7 European countries. Currently, Rossmann store managers are tasked with predicting their daily sales for up to six weeks in advance. Store sales are influenced by many factors, including promotions, competition, school and state holidays, seasonality, and locality. With thousands of individual managers predicting sales based on their unique circumstances, the accuracy of results can be quite varied.</p>\n",
    "\n",
    "<p style=\"font-size:16px;font-family:Arial;color:#00233C\">It is used by:</p>\n",
    "\n",
    "<ul style=\"font-size:16px;font-family:Arial;color:#00233C\">\n",
    "    <li><a href=\"../Store_Sales_Forecasting_Prophet_STO/Store_Sales_Forecasting_Prophet_STO_PY_SQL.ipynb\">Store_Sales_Forecasting_Prophet_STO_PY_SQL</a></li>\n",
    "</ul>\n",
    "\n",
    "<p style=\"font-size:16px;font-family:Arial;color:#00233C\">Tables:</p>\n",
    "<ul style=\"font-size:16px;font-family:Arial;color:#00233C\">\n",
    "    <li>Store - Rows: 1,115</li>\n",
    "    <li>Sales_Data - Rows: 91,256</li>\n",
    "</ul>"
   ]
  },
  {
   "cell_type": "code",
   "execution_count": null,
   "id": "811c6db1-1dc1-40c2-90ae-d7cdfaa32bd3",
   "metadata": {},
   "outputs": [],
   "source": [
    "%run -i ../run_procedure.py \"call get_data('DEMO_ProphetSTO_cloud')\";"
   ]
  },
  {
   "cell_type": "code",
   "execution_count": null,
   "id": "e9a6fb22-5533-4a72-b379-db4bc4c32a11",
   "metadata": {},
   "outputs": [],
   "source": [
    "%run -i ../run_procedure.py \"call get_data('DEMO_ProphetSTO_local')\";"
   ]
  },
  {
   "cell_type": "code",
   "execution_count": null,
   "id": "e0ec1fa7-fdac-483a-ab78-07f47fc3fbf3",
   "metadata": {},
   "outputs": [],
   "source": [
    "%run -i ../run_procedure.py \"call remove_data('DEMO_ProphetSTO')\";   # only needed if you want to clean up space"
   ]
  },
  {
   "cell_type": "markdown",
   "id": "f0c22e91-8a32-41c0-b739-d2d39300e9e4",
   "metadata": {},
   "source": [
    "<hr style=\"height:2px;border:none;background-color:#00233C;\">\n",
    "<p style=\"font-size:18px;font-family:Arial;color:#00233C\"><b>DEMO_Retail</b></p>\n",
    "<p style=\"font-size:16px;font-family:Arial;color:#00233C\">The database DEMO_Retail has the Retail_Events table useful for path analysis with a series of events by entity and date. The other is Web_Comment which is useful for text analysis.</p>\n",
    "\n",
    "<p style=\"font-size:16px;font-family:Arial;color:#00233C\">It is used by:</p>\n",
    "\n",
    "<ul style=\"font-size:16px;font-family:Arial;color:#00233C\">\n",
    "    <li><a href=\"../Customer_Behavior_Analysis/Customer_Behavior_Analysis_PY_SQL.ipynb\">Customer_Behavior_Analysis_PY_SQL</a></li>\n",
    "    <li><a href=\"../Customer_Behavior_Analysis/Customer_Behavior_Analysis_Python.ipynb\">Customer_Behavior_Analysis_Python</a></li>\n",
    "    <li><a href=\"../K-Means_Clustering_and_ML_model/K-Means_Clustering_and_ML_model_SQL.ipynb\">K-Means_Clustering_and_ML_model_SQL</a></li>\n",
    "    <li><a href=\"../Remaining_Useful_Life_Forecasting/Remaining_Useful_Life_Forecasting_PY_SQL.ipynb\">Remaining_Useful_Life_Forecasting_PY_SQL</a></li>\n",
    "    <li><a href=\"../Text_Term_Frequency/Text_Term_Frequency_PY_SQL.ipynb\">Text_Term_Frequency_PY_SQL</a></li>\n",
    "    <li><a href=\"../Text_Term_Frequency/Text_Term_Frequency_Python.ipynb\">Text_Term_Frequency_Python</a></li>\n",
    "    <li><a href=\"../Text_Term_Frequency/Text_Term_Frequency_SQL.ipynb\">Text_Term_Frequency_SQL</a></li>\n",
    "</ul>\n",
    "\n",
    "<p style=\"font-size:16px;font-family:Arial;color:#00233C\">Tables:</p>\n",
    "<ul style=\"font-size:16px;font-family:Arial;color:#00233C\">\n",
    "    <li>Retail_Events - Rows: 35,866</li>\n",
    "    <li>UK_Retail_Data - Rows: 536,641</li>\n",
    "    <li>Web_Comment - Rows: 23,486</li>\n",
    "</ul>"
   ]
  },
  {
   "cell_type": "code",
   "execution_count": null,
   "id": "181802ea",
   "metadata": {},
   "outputs": [],
   "source": [
    "%run -i ../run_procedure.py \"call get_data('DEMO_Retail_cloud')\";"
   ]
  },
  {
   "cell_type": "code",
   "execution_count": null,
   "id": "25dc3ac9",
   "metadata": {},
   "outputs": [],
   "source": [
    "%run -i ../run_procedure.py \"call get_data('DEMO_Retail_local')\";"
   ]
  },
  {
   "cell_type": "code",
   "execution_count": null,
   "id": "0510f655",
   "metadata": {},
   "outputs": [],
   "source": [
    "%run -i ../run_procedure.py \"call remove_data('DEMO_Retail')\";   # only needed if you want to clean up space"
   ]
  },
  {
   "cell_type": "markdown",
   "id": "bbfbd93e-025a-4643-98aa-8cc2027d0c7d",
   "metadata": {},
   "source": [
    "<hr style=\"height:2px;border:none;background-color:#00233C;\">\n",
    "<p style=\"font-size:18px;font-family:Arial;color:#00233C\"><b>DEMO_SalesForecasting</b></p>\n",
    "<p style=\"font-size:16px;font-family:Arial;color:#00233C\">The dataset contains historical sales data for 45 Good Eats Grocery stores located in different regions. Each store contains a number of departments, and you are tasked with predicting the department-wide sales for each store.</p>\n",
    "\n",
    "<p style=\"font-size:16px;font-family:Arial;color:#00233C\">In addition, Good Eats Grocery runs several promotional markdown events throughout the year. These markdowns precede prominent holidays, the four largest of which are the Super Bowl, Labour Day, Thanksgiving, and Christmas. The weeks including these holidays are weighted five times higher in the evaluation than non-holiday weeks. Part of the challenge presented by this competition is modelling the effects of markdowns on these holiday weeks in the absence of complete/ideal historical data.</p>\n",
    "\n",
    "<p style=\"font-size:16px;font-family:Arial;color:#00233C\">It is used by:</p>\n",
    "\n",
    "<ul style=\"font-size:16px;font-family:Arial;color:#00233C\">\n",
    "    <li><a href=\"../Store_Sales_Forecasting_ARIMA/Store_Sales_Forecasting_ARIMA_Python.ipynb\">Store_Sales_Forecasting_ARIMA_Python</a></li>\n",
    "</ul>\n",
    "\n",
    "<p style=\"font-size:16px;font-family:Arial;color:#00233C\">Tables:</p>\n",
    "<ul style=\"font-size:16px;font-family:Arial;color:#00233C\">\n",
    "    <li>Stores - Rows: 45</li>\n",
    "    <li>Features - Rows: 8,190</li>\n",
    "    <li>Weekly_Sales - Rows: 421,570</li>\n",
    "</ul>"
   ]
  },
  {
   "cell_type": "code",
   "execution_count": null,
   "id": "98a6e230-5dc3-4274-8968-eaeefc398824",
   "metadata": {},
   "outputs": [],
   "source": [
    "%run -i ../run_procedure.py \"call get_data('DEMO_SalesForecasting_cloud')\";"
   ]
  },
  {
   "cell_type": "code",
   "execution_count": null,
   "id": "536ffb67-2964-4a38-932e-e9af21fb14de",
   "metadata": {},
   "outputs": [],
   "source": [
    "%run -i ../run_procedure.py \"call get_data('DEMO_SalesForecasting_local')\";"
   ]
  },
  {
   "cell_type": "code",
   "execution_count": null,
   "id": "9fc4dc83-9865-4bcd-a543-c6eaaec54c27",
   "metadata": {},
   "outputs": [],
   "source": [
    "%run -i ../run_procedure.py \"call remove_data('DEMO_SalesForecasting')\";   # only needed if you want to clean up space"
   ]
  },
  {
   "cell_type": "markdown",
   "id": "d7b11c29-8703-436b-ac3e-cf1935156f60",
   "metadata": {},
   "source": [
    "<hr style=\"height:2px;border:none;background-color:#00233C;\">\n",
    "<p style=\"font-size:18px;font-family:Arial;color:#00233C\"><b>DEMO_SalesOffload</b></p>\n",
    "<p style=\"font-size:16px;font-family:Arial;color:#00233C\">The database DEMO_SalesOffload provides basic information about sales by customer and store and basket IDs, with 5.2 million rows. A related set of older historical data is in a public dataset at: <a href=\"s3.amazonaws.com/trial-datasets/SalesOffload\">s3.amazonaws.com/trial-datasets/SalesOffload</a> with 37,595,550 rows</p>\n",
    "\n",
    "<p style=\"font-size:16px;font-family:Arial;color:#00233C\">It is used by:</p>\n",
    "\n",
    "<ul style=\"font-size:16px;font-family:Arial;color:#00233C\">\n",
    "    <li><a href=\"../Deep_History_via_Object_Store/Deep_History_via_Object_Store_SQL.ipynb\">Deep_History_via_Object_Store_SQL</a></li>\n",
    "</ul>\n",
    "\n",
    "<p style=\"font-size:16px;font-family:Arial;color:#00233C\">Tables:</p>\n",
    "<ul style=\"font-size:16px;font-family:Arial;color:#00233C\">\n",
    "    <li>Sales_Fact - Rows: 5,238,060</li>\n",
    "</ul>"
   ]
  },
  {
   "cell_type": "code",
   "execution_count": null,
   "id": "f5a56df4",
   "metadata": {},
   "outputs": [],
   "source": [
    "%run -i ../run_procedure.py \"call get_data('DEMO_SalesOffload_cloud')\";"
   ]
  },
  {
   "cell_type": "code",
   "execution_count": null,
   "id": "15ce2829",
   "metadata": {},
   "outputs": [],
   "source": [
    "%run -i ../run_procedure.py \"call get_data('DEMO_SalesOffload_local')\";"
   ]
  },
  {
   "cell_type": "code",
   "execution_count": null,
   "id": "4176aa3c",
   "metadata": {},
   "outputs": [],
   "source": [
    "%run -i ../run_procedure.py \"call remove_data('DEMO_SalesOffload')\";   # only needed if you want to clean up space"
   ]
  },
  {
   "cell_type": "markdown",
   "id": "e13c6fa0-849a-4a88-a19a-0b349b947bd3",
   "metadata": {},
   "source": [
    "<hr style=\"height:2px;border:none;background-color:#00233C;\">\n",
    "<p style=\"font-size:18px;font-family:Arial;color:#00233C\"><b>DEMO_Telco</b></p>\n",
    "<p style=\"font-size:16px;font-family:Arial;color:#00233C\">The database DEMO_Telco contains customer information for churn analysis. It includes attributes such as customer demographics, tenure, usage of services like internet, streaming, and tech support, billing preferences, payment methods, and monthly charges. The 'Churn' column likely indicates whether a customer has churned (left) or not, making this dataset suitable for analyzing factors influencing customer attrition.</p>\n",
    "\n",
    "<p style=\"font-size:16px;font-family:Arial;color:#00233C\">It is used by:</p>\n",
    "\n",
    "<ul style=\"font-size:16px;font-family:Arial;color:#00233C\">\n",
    "    <li><a href=\"../Query_Service/Query_Service.ipynb\">Query_Service</a></li>\n",
    "    <li><a href=\"../Telco_Customer_Churn/Telco_Customer_Churn_PY_SQL.ipynb\">Telco_Customer_Churn_PY_SQL</a></li>\n",
    "    <li><a href=\"../Hyper_Personalization/Hyper_Personalization_PY_SQL.ipynb\">Hyper_Personalization_PY_SQL</a></li>\n",
    "</ul>\n",
    "\n",
    "<p style=\"font-size:16px;font-family:Arial;color:#00233C\">Tables:</p>\n",
    "<ul style=\"font-size:16px;font-family:Arial;color:#00233C\">\n",
    "    <li>Customer_Churn - Rows: 7,043</li>\n",
    "</ul>"
   ]
  },
  {
   "cell_type": "code",
   "execution_count": null,
   "id": "06bc0b15-63d8-426e-878e-ce644209cb16",
   "metadata": {},
   "outputs": [],
   "source": [
    "%run -i ../run_procedure.py \"call get_data('DEMO_Telco_cloud')\";"
   ]
  },
  {
   "cell_type": "code",
   "execution_count": null,
   "id": "f3bbe811-c40f-48aa-ad33-63b6d9b5f279",
   "metadata": {},
   "outputs": [],
   "source": [
    "%run -i ../run_procedure.py \"call get_data('DEMO_Telco_local')\";"
   ]
  },
  {
   "cell_type": "code",
   "execution_count": null,
   "id": "96a33a82-a890-4f09-8e1e-f7971ba75e5c",
   "metadata": {},
   "outputs": [],
   "source": [
    "%run -i ../run_procedure.py \"call remove_data('DEMO_Telco')\";   # only needed if you want to clean up space"
   ]
  },
  {
   "cell_type": "markdown",
   "id": "fefb410c-f174-4924-b599-0d72f6ceb150",
   "metadata": {},
   "source": [
    "<hr style=\"height:2px;border:none;background-color:#00233C;\">\n",
    "<p style=\"font-size:18px;font-family:Arial;color:#00233C\"><b>DEMO_TelcoNetwork</b></p>\n",
    "<p style=\"font-size:16px;font-family:Arial;color:#00233C\">The database DEMO_TelcoNetwork contains data about the cell towers and their signal strength etc, customer information, network coverage area information, and the customer experience information in the network area.</p>\n",
    "\n",
    "<p style=\"font-size:16px;font-family:Arial;color:#00233C\">It is used by:</p>\n",
    "\n",
    "<ul style=\"font-size:16px;font-family:Arial;color:#00233C\">\n",
    "    <li><a href=\"../Telco_Network_Coverage/Telco_Network_Coverage_PY_SQL.ipynb\">Telco_Network_Coverage_PY_SQL</a></li>\n",
    "</ul>\n",
    "\n",
    "<p style=\"font-size:16px;font-family:Arial;color:#00233C\">Tables:</p>\n",
    "<ul style=\"font-size:16px;font-family:Arial;color:#00233C\">\n",
    "    <li>Cust_Experience - Rows: 22070</li>\n",
    "    <li>Cust_Journey - Rows: 8438</li>\n",
    "    <li>Cell_Towers - Rows: 303</li>\n",
    "</ul>"
   ]
  },
  {
   "cell_type": "code",
   "execution_count": null,
   "id": "76f6be0e",
   "metadata": {},
   "outputs": [],
   "source": [
    "%run -i ../run_procedure.py \"call get_data('DEMO_TelcoNetwork_cloud')\";"
   ]
  },
  {
   "cell_type": "code",
   "execution_count": null,
   "id": "14b1d05b",
   "metadata": {},
   "outputs": [],
   "source": [
    "%run -i ../run_procedure.py \"call get_data('DEMO_TelcoNetwork_local')\";"
   ]
  },
  {
   "cell_type": "code",
   "execution_count": null,
   "id": "98e8f99e",
   "metadata": {},
   "outputs": [],
   "source": [
    "%run -i ../run_procedure.py \"call remove_data('DEMO_TelcoNetwork')\";   # only needed if you want to clean up space"
   ]
  },
  {
   "cell_type": "markdown",
   "id": "7c8ff096-4f8b-401c-951c-9c6addd08e1a",
   "metadata": {},
   "source": [
    "<hr style=\"height:2px;border:none;background-color:#00233C;\">\n",
    "<p style=\"font-size:18px;font-family:Arial;color:#00233C\"><b>DEMO_TrainDelay</b></p>\n",
    "<p style=\"font-size:16px;font-family:Arial;color:#00233C\">The database DEMO_TrainDelay contains data about the events and time taken in the train journey. The dataset is then used to create a prediction model which will predict how much delay will happen in the train journey due to the occurring events.</p>\n",
    "\n",
    "<p style=\"font-size:16px;font-family:Arial;color:#00233C\">It is used by:</p>\n",
    "\n",
    "<ul style=\"font-size:16px;font-family:Arial;color:#00233C\">\n",
    "    <li><a href=\"../Train_Delay/Train_Delay_Python.ipynb\">Train_Delay_Python</a></li>\n",
    "</ul>\n",
    "\n",
    "<p style=\"font-size:16px;font-family:Arial;color:#00233C\">Tables:</p>\n",
    "<ul style=\"font-size:16px;font-family:Arial;color:#00233C\">\n",
    "    <li>Train_Dataset - Rows: 54,616</li>\n",
    "</ul>"
   ]
  },
  {
   "cell_type": "code",
   "execution_count": null,
   "id": "9fe3dc8d-0d58-4c20-9821-367c16f76ef9",
   "metadata": {},
   "outputs": [],
   "source": [
    "%run -i ../run_procedure.py \"call get_data('DEMO_TrainDelay_cloud')\";"
   ]
  },
  {
   "cell_type": "code",
   "execution_count": null,
   "id": "ae34823b-0a7e-483a-91f0-f7ebf0c26e6f",
   "metadata": {},
   "outputs": [],
   "source": [
    "%run -i ../run_procedure.py \"call get_data('DEMO_TrainDelay_local')\";"
   ]
  },
  {
   "cell_type": "code",
   "execution_count": null,
   "id": "36afc7e8-96d8-48c9-8604-701a41100f37",
   "metadata": {},
   "outputs": [],
   "source": [
    "%run -i ../run_procedure.py \"call remove_data('DEMO_TrainDelay')\";   # only needed if you want to clean up space"
   ]
  },
  {
   "cell_type": "markdown",
   "id": "3160401c-7ec0-4b48-839e-9c2372d90520",
   "metadata": {},
   "source": [
    "<hr style=\"height:2px;border:none;background-color:#00233C;\">\n",
    "<p style=\"font-size:18px;font-family:Arial;color:#00233C\"><b>DEMO_UAF</b></p>\n",
    "<p style=\"font-size:16px;font-family:Arial;color:#00233C\">The database DEMO_UAF contains anonymized dataset for ATM cash demands from a bank in the UK along with dates.</p>\n",
    "\n",
    "<p style=\"font-size:16px;font-family:Arial;color:#00233C\">It is used by:</p>\n",
    "\n",
    "<ul style=\"font-size:16px;font-family:Arial;color:#00233C\">\n",
    "    <li><a href=\"../Cash_Demand_Forecasting/Cash_Demand_Forecasting_SQL.ipynb\">Cash_Demand_Forecasting_SQL</a></li>\n",
    "</ul>\n",
    "\n",
    "<p style=\"font-size:16px;font-family:Arial;color:#00233C\">Tables:</p>\n",
    "<ul style=\"font-size:16px;font-family:Arial;color:#00233C\">\n",
    "    <li>ATM_Data - Rows: 735</li>\n",
    "</ul>"
   ]
  },
  {
   "cell_type": "code",
   "execution_count": null,
   "id": "2773d74c-5d3b-4118-9da2-7dc817b5b694",
   "metadata": {},
   "outputs": [],
   "source": [
    "%run -i ../run_procedure.py \"call get_data('DEMO_UAF_cloud')\";"
   ]
  },
  {
   "cell_type": "code",
   "execution_count": null,
   "id": "b7df89f0-5fa2-43f2-bc4a-18e265eba18e",
   "metadata": {},
   "outputs": [],
   "source": [
    "%run -i ../run_procedure.py \"call get_data('DEMO_UAF_local')\";"
   ]
  },
  {
   "cell_type": "code",
   "execution_count": null,
   "id": "436887a7-aeb2-497e-bc4d-05b86747fb70",
   "metadata": {},
   "outputs": [],
   "source": [
    "%run -i ../run_procedure.py \"call remove_data('DEMO_UAF')\";   # only needed if you want to clean up space"
   ]
  },
  {
   "cell_type": "markdown",
   "id": "5820ce1c-532a-4cd8-a29f-e34801ac5a23",
   "metadata": {},
   "source": [
    "<hr style=\"height:2px;border:none;background-color:#00233C;\">\n",
    "<p style=\"font-size:18px;font-family:Arial;color:#00233C\"><b>DEMO_TPCH_1Gb</b></p>\n",
    "<p style=\"font-size:16px;font-family:Arial;color:#00233C\">This dataset consists of the 8 tables that make up the TPCH Benchmark. Since this tiny platform is for functional testing, the scale of this data is 1 GB. This dataset is provided as a coordinated set of tables to use with your BI tools. Please note that the TPC-H queries may not be representative of the typical mixed workload observed on production platforms, as 82% of the queries scan over 24 months of data. The data lacks realistic skew (for example, there are exactly 4 line items for every order).</p>\n",
    "\n",
    "<p style=\"font-size:16px;font-family:Arial;color:#00233C\">The tables included are:</p>\n",
    "\n",
    "<ul style=\"font-size:16px;font-family:Arial;color:#00233C\">\n",
    "    <li>CUSTOMER - Rows: 150,000</li>\n",
    "    <li>LINEITEM - Rows: 6,001,215</li>\n",
    "    <li>NATION - Rows: 25</li>\n",
    "    <li>ORDERS - Rows: 1,500,000</li>\n",
    "    <li>PART - Rows: 200,000</li>\n",
    "    <li>PARTSUPP - Rows: 800,000</li>\n",
    "    <li>REGION - Rows: 5</li>\n",
    "    <li>SUPPLIER - Rows: 10,000</li>\n",
    "</ul>"
   ]
  },
  {
   "cell_type": "code",
   "execution_count": null,
   "id": "2402cd03",
   "metadata": {},
   "outputs": [],
   "source": [
    "%run -i ../run_procedure.py \"call get_data('DEMO_TPCH_1Gb_cloud')\";"
   ]
  },
  {
   "cell_type": "code",
   "execution_count": null,
   "id": "0c816c2a",
   "metadata": {},
   "outputs": [],
   "source": [
    "%run -i ../run_procedure.py \"call remove_data('DEMO_TPCH_1Gb')\";   # only needed if you want to clean up space"
   ]
  },
  {
   "cell_type": "markdown",
   "id": "51003a3c",
   "metadata": {},
   "source": [
    "\n",
    "<hr style=\"height:2px;border:none;background-color:#00233C;\">\n",
    "<b style = 'font-size:20px;font-family:Arial;color:#00233C'>Description of Databases, Tables, and Other Objects</b>\n",
    "<img  src=\"DemoNow_Table_Design.png\" alt=\"DemoNow_Table_Design\" width=\"600\" align=\"right\" />\n",
    "\n",
    "<p style = 'font-size:16px;font-family:Arial;color:#00233C'>All data used in for these demos is provided on Cloud Storage. That data has been exported in Parquet format. For Vantage to access that data, a foreign table is defined with the necessary credentials. For ClearScape Analytics, we create the foreign table definitions in the database gs_tables_db (gs = Google Storage) which also contains the Authentication object. We use a stored procedure to run scripts to create the foreign tables, optionally local tables, and a view database with 1:1 views, macros, and stored procedures needed for those databases. The script suffix indicates which version of tables you will get:</p>\n",
    "<ol style = 'font-size:16px;font-family:Arial;color:#00233C'>\n",
    "<li> xxx_<b>cloud</b> - uses 1:1 views pointing directly at the foreign tables.  Faster to setup, but slower demo execution</li>\n",
    "<li> xxx_<b>local</b> - imports the data to local tables and creates 1:1 views pointing at the local tables. Slower to set up, faster demo execution, but may cause database storage space considerations.</li>\n",
    "</ol>\n",
    "\n",
    "<p style = 'font-size:16px;font-family:Arial;color:#00233C'>You can run either the xxx_<b>cloud</b> or xxx_<b>local</b> script, but if you want to switch, you should run the corresponding remove_data procedure. There is also a \"manage_space.py\" routine included at the top of this notebook to display the demo databases, the space used and the space available. You may enter the word \"delete\" followed by the numbers of any databases you want to delete. The table databases end with \"_db\" and the view databases have a similar name without the \"_db\" suffix.</p>\n",
    "\n",
    "\n",
    "<p style = 'font-size:16px;font-family:Arial;color:#00233C'>The original source data for these demonstrations was exported from an internal platform used by Teradata associates for demonstrations called Vantage-Live. These tables have not been curated and some of the databases have several hundred tables ... some are copies and some are just work tables. Some may be useful in creating your demos. You can access those from:</p>\n",
    "\n",
    "[Legacy Data Dictionary](Data_Dictionary_Legacy.ipynb)"
   ]
  },
  {
   "cell_type": "markdown",
   "id": "a8580f75",
   "metadata": {},
   "source": [
    "<footer style=\"padding-bottom:35px; background:#f9f9f9; border-bottom:3px solid #00233C\">\n",
    "    <div style=\"float:left;margin-top:14px\">ClearScape Analytics™</div>\n",
    "    <div style=\"float:right;\">\n",
    "        <div style=\"float:left; margin-top:14px\">\n",
    "            Copyright © Teradata Corporation - 2023. All Rights Reserved\n",
    "        </div>\n",
    "    </div>\n",
    "</footer>"
   ]
  }
 ],
 "metadata": {
  "kernelspec": {
   "display_name": "Python 3 (ipykernel)",
   "language": "python",
   "name": "python3"
  },
  "language_info": {
   "codemirror_mode": {
    "name": "ipython",
    "version": 3
   },
   "file_extension": ".py",
   "mimetype": "text/x-python",
   "name": "python",
   "nbconvert_exporter": "python",
   "pygments_lexer": "ipython3",
   "version": "3.9.10"
  }
 },
 "nbformat": 4,
 "nbformat_minor": 5
}
