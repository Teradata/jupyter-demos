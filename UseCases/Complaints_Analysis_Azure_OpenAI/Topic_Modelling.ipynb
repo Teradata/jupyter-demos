{
 "cells": [
  {
   "cell_type": "markdown",
   "id": "877a4d39-8348-4330-9121-ec41f89e0b66",
   "metadata": {},
   "source": [
    "<header>\n",
    "   <p  style='font-size:36px;font-family:Arial; color:#F0F0F0; background-color: #00233c; padding-left: 20pt; padding-top: 20pt;padding-bottom: 10pt; padding-right: 20pt;'>\n",
    "       Topic Modelling using Vantage and Azure OpenAI\n",
    "  <br>\n",
    "       <img id=\"teradata-logo\" src=\"https://storage.googleapis.com/clearscape_analytics_demo_data/DEMO_Logo/teradata.svg\" alt=\"Teradata\" style=\"width: 125px; height: auto; margin-top: 20pt;\">\n",
    "    </p>\n",
    "</header>"
   ]
  },
  {
   "cell_type": "markdown",
   "id": "a1cca519-4be2-49f4-85f6-c81f26a6c4fe",
   "metadata": {},
   "source": [
    "<p style = 'font-size:20px;font-family:Arial;color:#00233c'><b>Introduction:</b></p>\n",
    "\n",
    "<p style='font-size:16px;font-family:Arial;color:#00233C'>In this comprehensive user demo, we will delve into the world of topic modeling using <b>Teradata Vantage</b> and <b>Azure OpenAI LLM model</b>. This cutting-edge technology empowers businesses to uncover hidden insights from vast amounts of consumer complaints data, enabling them to identify trends, improve customer satisfaction, and enhance their overall brand reputation.</p> \n",
    "\n",
    "<p style='font-size:16px;font-family:Arial;color:#00233C'><b>Key Features:</b></p> \n",
    "\n",
    "<ol style='font-size:16px;font-family:Arial;color:#00233C'> \n",
    "    <li><b>Scalable Data Ingestion</b>: Seamlessly integrate and process large volumes of consumer complaints data from various sources, including OpenAI, into Teradata Vantage.</li> \n",
    "    <li><b>Advanced Topic Modelling</b>: Utilize state-of-the-art topic modeling algorithms to identify and categorize underlying themes and sentiments within the complaints data, providing actionable insights.</li> \n",
    "    <li><b>Real-time Analytics</b>: Leverage Teradata Vantage's real-time analytics capabilities to monitor and respond to emerging trends and issues in consumer complaints.</li> \n",
    "    <li><b>Customizable Dashboards</b>: Create tailored dashboards to visualize and track key performance indicators (KPIs) and metrics specific to your business needs.</li> \n",
    "    <li><b>Integration with Azure OpenAI</b>: Seamlessly integrate with Azure OpenAI to collect and analyze consumer complaints data from these platforms.</li> </ol> \n",
    "\n",
    "<p style='font-size:16px;font-family:Arial;color:#00233C'><b>Benefits:</b></p> \n",
    "\n",
    "<ol style='font-size:16px;font-family:Arial;color:#00233C'>\n",
    "<li><b>Enhanced Customer Insights</b>: Gain a deeper understanding of customer concerns and preferences, enabling data-driven decision-making.</li> \n",
    "<li><b>Improved Customer Satisfaction</b>: Identify and address recurring issues, leading to increased customer satisfaction and loyalty.</li> \n",
    "<li><b>Competitive Advantage</b>: Stay ahead of the competition by proactively addressing consumer complaints and improving brand reputation.</li> \n",
    "<li><b>Cost Savings</b>: Reduce the financial burden of handling and resolving consumer complaints by identifying and addressing root causes.</li> \n",
    "<li><b>Data-Driven Decision-Making</b>: Make informed business decisions based on actionable insights derived from topic modeling and real-time analytics.</li> </ol>\n",
    "\n",
    "<p style = 'font-size:16px;font-family:Arial;color:#00233c'><b>Steps in the analysis:</b></p>\n",
    "<ol style = 'font-size:16px;font-family:Arial;color:#00233C'>\n",
    "    <li>Configuring the environment</li>\n",
    "    <li>Connect to Vantage</li>\n",
    "    <li>Configuring Azure OpenAI</li>\n",
    "    <li>Exploring the data</li>\n",
    "    <li>Topic Modelling</li>\n",
    "    <li>Cleanup</li>\n",
    "</ol>"
   ]
  },
  {
   "cell_type": "markdown",
   "id": "09ec9238-d615-49de-adbe-04165d332bf7",
   "metadata": {},
   "source": [
    "<hr style='height:2px;border:none;background-color:#00233C;'>\n",
    "<b style = 'font-size:20px;font-family:Arial;color:#00233c'>1. Configuring the environment</b>\n",
    "<hr style=\"height:1px;border:none;background-color:#00233C;\">\n",
    "<p style = 'font-size:18px;font-family:Arial;color:#00233C'><b>1.1 Downloading and installing additional software needed</b>"
   ]
  },
  {
   "cell_type": "code",
   "execution_count": null,
   "id": "ef4ea764-3ec3-43bf-ae6a-528ab9fd5883",
   "metadata": {},
   "outputs": [],
   "source": [
    "%%capture\n",
    "!pip install -r requirements.txt --upgrade --quiet"
   ]
  },
  {
   "cell_type": "markdown",
   "id": "d700c07d-c611-455f-9335-35312dbc12a2",
   "metadata": {},
   "source": [
    "<div class=\"alert alert-block alert-info\">\n",
    "    <p style = 'font-size:16px;font-family:Arial;color:#00233C'><b>Note: </b><i>Please restart the kernel after executing these two lines. The simplest way to restart the Kernel is by typing zero zero: <b> 0 0</b></i></p>\n",
    "</div>"
   ]
  },
  {
   "cell_type": "markdown",
   "id": "7b7e2b4e-39a6-4e0b-a4c7-8dbfa7d02e7b",
   "metadata": {},
   "source": [
    "<hr style=\"height:1px;border:none;background-color:#00233C;\">\n",
    "<p style = 'font-size:18px;font-family:Arial;color:#00233c'><b>1.2 Import the required libraries</b></p>\n",
    "<p style = 'font-size:16px;font-family:Arial;color:#00233C'>Here, we import the required libraries, set environment variables and environment paths (if required).</p>"
   ]
  },
  {
   "cell_type": "code",
   "execution_count": null,
   "id": "0d327004-e3cd-4c48-90d2-e3b1c4602e24",
   "metadata": {
    "tags": []
   },
   "outputs": [],
   "source": [
    "# Data manipulation and analysis\n",
    "import numpy as np\n",
    "import pandas as pd\n",
    "\n",
    "# Visualization\n",
    "import plotly.express as px\n",
    "\n",
    "# Progress bar\n",
    "from tqdm import tqdm\n",
    "\n",
    "# Machine learning and other utilities from Teradata\n",
    "from teradataml import *\n",
    "\n",
    "# Requests\n",
    "import requests\n",
    "\n",
    "# Display settings\n",
    "display.max_rows = 5\n",
    "pd.set_option('display.max_colwidth', None)"
   ]
  },
  {
   "cell_type": "markdown",
   "id": "3cc65823-8d76-4ce4-90c0-7005679e8dcc",
   "metadata": {},
   "source": [
    "<hr style=\"height:2px;border:none;background-color:#00233C;\">\n",
    "<b style = 'font-size:20px;font-family:Arial;color:#00233C'>2. Connect to Vantage</b>\n",
    "<p style = 'font-size:16px;font-family:Arial;color:#00233C'>We will be prompted to provide the password. We will enter the password, press the Enter key, and then use the down arrow to go to the next cell.</p>"
   ]
  },
  {
   "cell_type": "code",
   "execution_count": null,
   "id": "bec3d84c-b60d-4bd8-9d85-9a905d1c01fa",
   "metadata": {
    "tags": []
   },
   "outputs": [],
   "source": [
    "%run -i ../startup.ipynb\n",
    "eng = create_context(host = 'host.docker.internal', username='demo_user', password = password)\n",
    "print(eng)\n",
    "execute_sql('''SET query_band='DEMO=Topic_Modelling.ipynb;' UPDATE FOR SESSION;''')"
   ]
  },
  {
   "cell_type": "markdown",
   "id": "cdd806c9-dcd4-4b6a-ae42-854b9cc74187",
   "metadata": {},
   "source": [
    "<p style = 'font-size:16px;font-family:Arial;color:#00233C'>Begin running steps with Shift + Enter keys. </p>"
   ]
  },
  {
   "cell_type": "markdown",
   "id": "afb8acf9-78d7-4bdd-888d-9585ccce9907",
   "metadata": {},
   "source": [
    "<hr style=\"height:1px;border:none;background-color:#00233C;\">\n",
    "<p style = 'font-size:18px;font-family:Arial;color:#00233C'><b>2.1 Getting Data for This Demo</b></p>\n",
    "<p style = 'font-size:16px;font-family:Arial;color:#00233C'>We have provided data for this demo on cloud storage. We have the option of either running the demo using foreign tables to access the data without using any storage on our environment or downloading the data to local storage, which may yield somewhat faster execution. However, we need to consider available storage. There are two statements in the following cell, and one is commented out. We may switch which mode we choose by changing the comment string.</p>"
   ]
  },
  {
   "cell_type": "code",
   "execution_count": null,
   "id": "99cdf312-e27c-44df-8810-3bf49c39d375",
   "metadata": {
    "tags": []
   },
   "outputs": [],
   "source": [
    "# %run -i ../run_procedure.py \"call get_data('DEMO_ComplaintAnalysis_cloud');\"        # Takes 1 minute\n",
    "%run -i ../run_procedure.py \"call get_data('DEMO_ComplaintAnalysis_local');\"        # Takes 2 minutes"
   ]
  },
  {
   "cell_type": "markdown",
   "id": "7e0fc107-abf5-4d22-8ed5-6113299808da",
   "metadata": {},
   "source": [
    "<hr style=\"height:2px;border:none;background-color:#00233C;\">\n",
    "<b style='font-size:20px;font-family:Arial;color:#00233C'>3. Configuring Azure OpenAI</b>\n",
    "<p style='font-size:16px;font-family:Arial;color:#00233C'>Before proceeding, you need to provide the following information:</p>\n",
    "<ul style='font-size:16px;font-family:Arial;color:#00233C'>\n",
    "<li><b>Endpoint</b>: Enter your Azure OpenAI deployment endpoint.</li>\n",
    "<li><b>Azure OpenAI API Key</b>: Enter your Azure OpenAI API Key.</li>\n",
    "</ul>\n",
    "<p style='font-size:16px;font-family:Arial;color:#00233C'>If you haven't retrieved your API Key and Endpoint yet, follow the instructions <a href=\"https://learn.microsoft.com/en-us/azure/ai-services/openai/quickstart?tabs=command-line%2Cpython-new&pivots=programming-language-python\" target=\"_blank\" style=\"color:#0066CC;text-decoration:none;\"><b>here</b></a>.</p>\n",
    "<p style='font-size:16px;font-family:Arial;color:#00233C'>Don't have an Azure OpenAI resource yet? Follow this guide:</p>\n",
    "<a href=\"./Azure-OpenAI.ipynb\" style=\"text-decoration:none;\" target=\"_blank\">\n",
    "    <button style=\"font-size:16px;font-family:Arial;color:#fff;background-color:#00233C;border:none;border-radius:5px;cursor:pointer;height:50px;line-height:50px;display:flex;align-items:center;\">\n",
    "        Azure OpenAI Guide <span style=\"margin-left:10px;\">&#8658;</span>\n",
    "    </button>\n",
    "</a>"
   ]
  },
  {
   "cell_type": "code",
   "execution_count": null,
   "id": "da08bf82-3b16-4b00-981a-99877f12ca41",
   "metadata": {
    "tags": []
   },
   "outputs": [],
   "source": [
    "# Prompt user for Azure OpenAI endpoint securely\n",
    "os.environ[\"ENDPOINT\"] = getpass.getpass(prompt=\"\\nPlease enter your Azure OpenAI endpoint(gpt-4o-mini): \")\n",
    "# Prompt user for Azure OpenAI API key securely\n",
    "os.environ[\"API_KEY\"] = getpass.getpass(prompt=\"\\nPlease enter your Azure OpenAI API key(gpt-4o-mini): \")"
   ]
  },
  {
   "cell_type": "markdown",
   "id": "66ebf0a6-9b58-418e-bf4d-9dbf3ec365a8",
   "metadata": {},
   "source": [
    "<hr style=\"height:1px;border:none;background-color:#00233C;\">\n",
    "<b style = 'font-size:18px;font-family:Arial;color:#00233C'>3.1 Initialize the Azure OpenAI API request</b>"
   ]
  },
  {
   "cell_type": "code",
   "execution_count": null,
   "id": "67b80af4-55d3-48e5-95d5-b30224ad484d",
   "metadata": {
    "tags": []
   },
   "outputs": [],
   "source": [
    "headers = {\n",
    "    \"Content-Type\": \"application/json\",\n",
    "    \"api-key\": os.environ[\"API_KEY\"],\n",
    "}\n",
    "\n",
    "def get_payload(complaint):\n",
    "    \n",
    "    prompt = f'''\n",
    "        User prompt:\n",
    "        The following is text from a complaint:\n",
    "\n",
    "        “{pd_df['consumer_complaint_narrative'][i]}”\n",
    "\n",
    "        Give me reasoning as well as topic for this complaint\n",
    "        Instructions for Reasoning:\n",
    "        - Give me Reasoning in detail\n",
    "        - Only one sentence reasoning\n",
    "        Instructions for Topic:\n",
    "        - The complaint falls into only one of the following Topics: Mortgage Application, Payment Trouble, Mortgage Closing, Report Inaccuracy, Payment Struggle\n",
    "        - Only select one Topic\n",
    "\n",
    "        My output comes in the format:\n",
    "        Topic:\n",
    "        Reasoning:\n",
    "    '''\n",
    "    \n",
    "    # Payload for the request\n",
    "    payload = {\n",
    "      \"messages\": [\n",
    "        {\n",
    "          \"role\": \"system\",\n",
    "          \"content\": [\n",
    "            {\n",
    "              \"type\": \"text\",\n",
    "              \"text\": \"You are an assistant that detects topic a text and gives reasoning for the categorization as well.\\n\"\n",
    "            }\n",
    "          ]\n",
    "        },\n",
    "        {\n",
    "          \"role\": \"user\",\n",
    "          \"content\": [\n",
    "            {\n",
    "              \"type\": \"text\",\n",
    "              \"text\": prompt\n",
    "            }\n",
    "          ]\n",
    "        }\n",
    "      ],\n",
    "      \"temperature\": 0.7,\n",
    "      \"top_p\": 1,\n",
    "      \"max_tokens\": 512\n",
    "    }\n",
    "\n",
    "    return(payload)"
   ]
  },
  {
   "cell_type": "markdown",
   "id": "a9cabc44-d40d-4f27-ab0a-cfc09315e179",
   "metadata": {},
   "source": [
    "<hr style=\"height:2px;border:none;background-color:#00233C;\">\n",
    "<b style = 'font-size:20px;font-family:Arial;color:#00233C'>4. Exploring the data</b>"
   ]
  },
  {
   "cell_type": "code",
   "execution_count": null,
   "id": "e4076638-4401-4239-a379-2d7df1b209bd",
   "metadata": {},
   "outputs": [],
   "source": [
    "df = DataFrame(in_schema('DEMO_ComplaintAnalysis', 'Consumer_Complaints'))"
   ]
  },
  {
   "cell_type": "markdown",
   "id": "aa2e019c-086c-4574-bda8-27494c64c090",
   "metadata": {},
   "source": [
    "<p style = 'font-size:16px;font-family:Arial;color:#00233C'>Here we subset the data to get only the complaints related to Mortgage. We further analyze the issues of those complaints and pick the top 5 topics.</p>"
   ]
  },
  {
   "cell_type": "code",
   "execution_count": null,
   "id": "c11e365c-0c34-447b-9889-8c7681790cce",
   "metadata": {},
   "outputs": [],
   "source": [
    "df = df[df.product == 'Mortgage']"
   ]
  },
  {
   "cell_type": "code",
   "execution_count": null,
   "id": "7fd59f8a-349e-4f4f-b689-534b6cb9a97f",
   "metadata": {},
   "outputs": [],
   "source": [
    "df.select(['issue', 'sub_issue', 'complaint_id']).groupby(['issue', 'sub_issue']).agg(['count']).sort('count_complaint_id', ascending = False)"
   ]
  },
  {
   "cell_type": "markdown",
   "id": "deeba736-584f-4fff-8439-fe934764722e",
   "metadata": {},
   "source": [
    "<p style = 'font-size:16px;font-family:Arial;color:#00233C'>According to the result above, we can classify the issues into the following topics:</p>\n",
    "\n",
    "<ul style = 'font-size:16px;font-family:Arial;color:#00233C'>\n",
    "    <li><b>Mortgage Application</b>: Applying or refinancing</li>\n",
    "    <li><b>Payment Trouble</b>: Issues during payment</li>\n",
    "    <li><b>Mortgage Closing</b>: Finalizing the mortgage</li>\n",
    "    <li><b>Report Inaccuracy</b>: Incorrect information</li>\n",
    "    <li><b>Payment Struggle</b>: Difficulty paying</li>\n",
    "<ul>"
   ]
  },
  {
   "cell_type": "markdown",
   "id": "bdd3a9fe-e8db-463f-b647-28864a6cbc23",
   "metadata": {},
   "source": [
    "<hr style=\"height:2px;border:none;background-color:#00233C;\">\n",
    "<b style = 'font-size:20px;font-family:Arial;color:#00233C'>5. Topic Modelling</b>\n",
    "\n",
    "<p style = 'font-size:16px;font-family:Arial;color:#00233C'>Topic modeling using Large Language Models (LLMs) revolutionizes the way we understand and categorize vast collections of text data. LLMs excel in understanding the semantics and context of words, enabling sophisticated topic modeling techniques.</p>\n",
    "\n",
    "<p style = 'font-size:16px;font-family:Arial;color:#00233C'>Traditionally, topic modeling algorithms like Latent Dirichlet Allocation (LDA) rely on statistical patterns within documents to identify topics. However, LLMs offer a more nuanced approach. By leveraging their deep understanding of language, LLMs can extract complex themes and topics from unstructured text data with higher accuracy and flexibility.</p>\n",
    "\n",
    "<p style = 'font-size:16px;font-family:Arial;color:#00233C'>LLMs can generate coherent topics without needing predefined categories, making them ideal for exploratory analysis of diverse datasets. Moreover, their ability to capture subtle nuances in language allows for more precise topic identification, even in noisy or ambiguous texts.</p>\n",
    "\n",
    "<p style = 'font-size:16px;font-family:Arial;color:#00233C'><b>Reasoning with a Chain of Thought</b>: Imagine you're trying to solve a problem. With a large language model, you start with an initial idea or question. Then, you use the model's capabilities to explore related concepts, gradually connecting them together. Each step builds upon the previous one, leading you closer to understanding or solving the problem. It's like putting together puzzle pieces, one by one, until you see the whole picture.</p>"
   ]
  },
  {
   "cell_type": "code",
   "execution_count": null,
   "id": "f3a61c36-941f-477a-bc7a-074c3a03765a",
   "metadata": {
    "tags": []
   },
   "outputs": [],
   "source": [
    "pd_df = df.to_pandas(num_rows = 10)"
   ]
  },
  {
   "cell_type": "code",
   "execution_count": null,
   "id": "84b72e77-943f-42fa-93cd-bc5745351acb",
   "metadata": {
    "tags": []
   },
   "outputs": [],
   "source": [
    "pd_df['Predicted_Topic'] = ''\n",
    "pd_df['Reasoning with Chain of Thought'] = ''"
   ]
  },
  {
   "cell_type": "code",
   "execution_count": null,
   "id": "cf854c5a-5b50-4950-b146-bcd137abfa75",
   "metadata": {
    "tags": []
   },
   "outputs": [],
   "source": [
    "for i in tqdm(range(len(pd_df))):\n",
    "    # Send request\n",
    "    try:\n",
    "        response = requests.post(os.environ[\"ENDPOINT\"], headers = headers, json = get_payload(df['consumer_complaint_narrative'][i]))\n",
    "        response.raise_for_status()\n",
    "    except requests.RequestException as e:\n",
    "        raise SystemExit(f\"Failed to make the request. Error: {e}\")\n",
    "\n",
    "    output = response.json()['choices'][0]['message']['content']\n",
    "    \n",
    "    try:\n",
    "        topic = re.search('Topic:(.*)', output).group(1)\n",
    "        reasoning = re.search('Reasoning:(.*)', output).group(1)\n",
    "        pd_df['Predicted_Topic'][i] = topic.strip()\n",
    "        pd_df['Reasoning with Chain of Thought'][i] = reasoning.strip()\n",
    "    except:\n",
    "        pass"
   ]
  },
  {
   "cell_type": "code",
   "execution_count": null,
   "id": "98df1ff4-e776-47c5-a1b3-370550888746",
   "metadata": {
    "tags": []
   },
   "outputs": [],
   "source": [
    "pd_df[['complaint_id', 'consumer_complaint_narrative', 'Predicted_Topic', 'Reasoning with Chain of Thought']].head(5)"
   ]
  },
  {
   "cell_type": "markdown",
   "id": "00cb0cb4-572d-49c4-9068-c4dcfc326c7e",
   "metadata": {},
   "source": [
    "<p style = 'font-size:16px;font-family:Arial;color:#00233C'>Now the results can be saved back to Vantage.</p>"
   ]
  },
  {
   "cell_type": "code",
   "execution_count": null,
   "id": "a394e4d4-c28a-411c-8b03-cc1cc28b6814",
   "metadata": {
    "tags": []
   },
   "outputs": [],
   "source": [
    "copy_to_sql(df = pd_df, table_name = 'topic_prediction', if_exists = 'replace')"
   ]
  },
  {
   "cell_type": "markdown",
   "id": "ea01a05e-2116-4c7c-94db-ac369a14231f",
   "metadata": {},
   "source": [
    "<hr style='height:1px;border:none;background-color:#00233C;'>\n",
    "<p style = 'font-size:18px;font-family:Arial;color:#00233c'><b>5.1 Number of Complaints by Predicted Topic</b></p>\n",
    "\n",
    "<p style = 'font-size:16px;font-family:Arial;color:#00233c'>A graph illustrating the Number of Complaints by Predicted Topic reveals that the majority of complaints are centered around Mortgage Application, while the fewest are related to Mortgage Closing.</p>"
   ]
  },
  {
   "cell_type": "code",
   "execution_count": null,
   "id": "67c13569-4302-400d-965f-288c1e42dcf4",
   "metadata": {
    "tags": []
   },
   "outputs": [],
   "source": [
    "grp_gen = DataFrame('topic_prediction').select(['Predicted_Topic','complaint_id']).groupby(['Predicted_Topic']).agg(['count']).to_pandas()\n",
    "\n",
    "grp_gen = grp_gen.sort_values('count_complaint_id', ascending = False)[:10]\n",
    "\n",
    "fig = px.bar(grp_gen, x='Predicted_Topic', y='count_complaint_id',\n",
    "             labels={'count_complaint_id': 'Number of Complaints', 'Predicted_Topic': 'Predicted_Topic'},\n",
    "             title='Number of Complaints by Predicted Topic')\n",
    "\n",
    "# Add hover information\n",
    "fig.update_traces(hovertemplate='Issue: %{x}<br>Number of Complaints: %{y:,}')\n",
    "\n",
    "fig.show()"
   ]
  },
  {
   "cell_type": "markdown",
   "id": "a48cb9e9-e322-4868-81f6-719a48ebb706",
   "metadata": {},
   "source": [
    "<hr style=\"height:2px;border:none;background-color:#00233C;\">\n",
    "<b style = 'font-size:20px;font-family:Arial;color:#00233C'>6. Cleanup</b>"
   ]
  },
  {
   "cell_type": "markdown",
   "id": "ea475160-bd2f-4b42-bc2b-424aa75eb269",
   "metadata": {},
   "source": [
    "<p style = 'font-size:18px;font-family:Arial;color:#00233C'><b>Work Tables</b></p>\n",
    "<p style = 'font-size:16px;font-family:Arial;color:#00233C'>Cleanup work tables to prevent errors next time.</p>"
   ]
  },
  {
   "cell_type": "code",
   "execution_count": null,
   "id": "f132db5b-4889-4089-9bd3-ef737aa51d9a",
   "metadata": {},
   "outputs": [],
   "source": [
    "tables = ['topic_prediction']\n",
    "\n",
    "# Loop through the list of tables and execute the drop table command for each table\n",
    "for table in tables:\n",
    "    try:\n",
    "        db_drop_table(table_name=table)\n",
    "    except:\n",
    "        pass"
   ]
  },
  {
   "cell_type": "markdown",
   "id": "07a477ec-ea8e-4394-afcb-3fce4f3c0d19",
   "metadata": {},
   "source": [
    "<p style = 'font-size:18px;font-family:Arial;color:#00233C'> <b>Databases and Tables </b></p>\n",
    "<p style = 'font-size:16px;font-family:Arial;color:#00233C'>The following code will clean up tables and databases created above.</p>"
   ]
  },
  {
   "cell_type": "code",
   "execution_count": null,
   "id": "7d1c6c16-5627-4ff2-a0fa-dace8ef48e79",
   "metadata": {},
   "outputs": [],
   "source": [
    "%run -i ../run_procedure.py \"call remove_data('DEMO_ComplaintAnalysis');\"        # Takes 10 seconds"
   ]
  },
  {
   "cell_type": "code",
   "execution_count": null,
   "id": "ef7255f3-2d27-4b26-b391-149e79ee0d50",
   "metadata": {},
   "outputs": [],
   "source": [
    "remove_context()"
   ]
  },
  {
   "cell_type": "markdown",
   "id": "b6cbe888-1ced-464e-b5e4-05d6af91dd5e",
   "metadata": {},
   "source": [
    "<hr style=\"height:1px;border:none;background-color:#00233C;\">\n",
    "<b style = 'font-size:18px;font-family:Arial;color:#00233C'>Dataset:</b>\n",
    "<br>\n",
    "<br>\n",
    "<p style='font-size: 16px; font-family: Arial; color: #00233C;'>The dataset is sourced from <a href='https://www.consumerfinance.gov/data-research/consumer-complaints/'>Consumer Financial Protection Bureau</a></p>"
   ]
  },
  {
   "cell_type": "markdown",
   "id": "6c5372e5-c7c9-4e9e-908a-6fba19b4e022",
   "metadata": {},
   "source": [
    "<footer style=\"padding-bottom:35px; background:#f9f9f9; border-bottom:3px solid #00233C\">\n",
    "    <div style=\"float:left;margin-top:14px\">ClearScape Analytics™</div>\n",
    "    <div style=\"float:right;\">\n",
    "        <div style=\"float:left; margin-top:14px\">\n",
    "            Copyright © Teradata Corporation - 2024. All Rights Reserved\n",
    "        </div>\n",
    "    </div>\n",
    "</footer>"
   ]
  }
 ],
 "metadata": {
  "kernelspec": {
   "display_name": "Python 3 (ipykernel)",
   "language": "python",
   "name": "python3"
  },
  "language_info": {
   "codemirror_mode": {
    "name": "ipython",
    "version": 3
   },
   "file_extension": ".py",
   "mimetype": "text/x-python",
   "name": "python",
   "nbconvert_exporter": "python",
   "pygments_lexer": "ipython3",
   "version": "3.9.10"
  }
 },
 "nbformat": 4,
 "nbformat_minor": 5
}
