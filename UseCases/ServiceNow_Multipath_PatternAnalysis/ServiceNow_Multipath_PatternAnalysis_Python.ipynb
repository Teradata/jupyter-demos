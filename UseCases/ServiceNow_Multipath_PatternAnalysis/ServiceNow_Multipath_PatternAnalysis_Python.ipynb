{
 "cells": [
  {
   "cell_type": "markdown",
   "id": "90fc4bf5-b263-41a3-bb8c-4ef8ba700eed",
   "metadata": {},
   "source": [
    "<header>\n",
    "   <p  style='font-size:36px;font-family:Arial; color:#F0F0F0; background-color: #00233c; padding-left: 20pt; padding-top: 20pt;padding-bottom: 10pt; padding-right: 20pt;'>\n",
    "       ServiceNow Multipath Pattern Analysis\n",
    "  <br>\n",
    "       <img id=\"teradata-logo\" src=\"https://storage.googleapis.com/clearscape_analytics_demo_data/DEMO_Logo/teradata.svg\" alt=\"Teradata\" style=\"width: 125px; height: auto; margin-top: 20pt;\">\n",
    "    </p>\n",
    "</header>"
   ]
  },
  {
   "cell_type": "markdown",
   "id": "00dfbbc8-3f81-42e0-ac8c-757c92527fbb",
   "metadata": {},
   "source": [
    "<p style = 'font-size:18px;font-family:Arial'><b>Introduction</b></p>\n",
    "<p style = 'font-size:16px;font-family:Arial'>ServiceNow is a widely-used platform for managing IT service requests and incidents. While it effectively captures case-level data and status transitions, it lacks native capabilities to perform deep-dive pattern analysis across the lifecycle of a case — especially in terms of how cases move through different support groups, how long they stay in each state, and what behaviors lead to resolutions or escalations. Due to limitations in ServiceNow's native analytics capabilities, answering questions like below are extremely difficult :<ul style = 'font-size:16px;font-family:Arial'>\n",
    "    <li>How many cases moved from L1 to L2 multiple times?</li>\n",
    "    <li>Which cases were resolved in a single touch by L2 teams?</li>\n",
    "    <li>Which assignment groups handled the highest severity incidents before resolution?</li>\n",
    "    </ul>\n",
    "<p style = 'font-size:18px;font-family:Arial'><b>Business Value</b></p>\n",
    "<p style = 'font-size:16px;font-family:Arial'>By integrating ServiceNow case audit data with Vantage's nPath® functionality we can unlock critical insights from the case history:<ul style = 'font-size:16px;font-family:Arial'>\n",
    "    <li style = 'font-size:16px;font-family:Arial'><b>Operational Insights </b>like Understand common and rare resolution paths, identify escalation trends from L1 to L2 or other teams, discover patterns in delayed resolutions or reassignment loops</li>\n",
    "    <li style = 'font-size:16px;font-family:Arial'><b>Improved Efficiency and SLA Management</b> like Highlight cases that violate SLAs due to excessive handoffs, spot 'one-touch' resolution patterns for knowledge reuse, enable proactive case routing strategies.</li>\n",
    "    <li style = 'font-size:16px;font-family:Arial'><b>Enhanced Reporting and Decision-Making </b>like Weekly trend analysis for leadership using dashboards, support data-driven staffing decisions by understanding group-wise workloads.</li>\n",
    "    </ul>\n",
    "</p>\n",
    "<p style = 'font-size:18px;font-family:Arial'><b>Why Vantage?</b></p>\n",
    "<p style = 'font-size:16px;font-family:Arial'>Vantage has unique analytic capabilities for  looking for pattern. nPath® enables sequence mining and event pattern detection across logs or audit trails using syntax similar to regex, making it ideal for modeling complex case journeys. Teradata can handle large volumes of ServiceNow audit logs efficiently, enabling transformation of raw audit data into enriched analytic tables without compromising performance.</p> \n"
   ]
  },
  {
   "cell_type": "markdown",
   "id": "007209d7-6171-41c4-937f-0c076c3ab4a3",
   "metadata": {},
   "source": [
    "<hr style=\"height:2px;border:none;\">\n",
    "\n",
    "<p style = 'font-size:20px;font-family:Arial'><b>1. Connect to Vantage,  import python packages and explore the dataset</b></p>"
   ]
  },
  {
   "cell_type": "markdown",
   "id": "a256f832-3f00-42a6-ba1e-38d60d0043e5",
   "metadata": {},
   "source": [
    "<p style = 'font-size:16px;font-family:Arial'>Let us start with importing the required libraries, set environment variables and connect to Vantage.</p>"
   ]
  },
  {
   "cell_type": "code",
   "execution_count": null,
   "id": "b54ed496-8c52-4702-be0a-2f4f7bb1b37f",
   "metadata": {},
   "outputs": [],
   "source": [
    "#import libraries\n",
    "import getpass\n",
    "import warnings\n",
    "\n",
    "from teradataml import *\n",
    "import matplotlib.pyplot as plt\n",
    "\n",
    "\n",
    "display.max_rows = 5\n",
    "\n",
    "warnings.filterwarnings('ignore')"
   ]
  },
  {
   "cell_type": "markdown",
   "id": "64deb4bb-78b5-49d7-aa99-6d09b6e1d5f6",
   "metadata": {},
   "source": [
    "<p style = 'font-size:16px;font-family:Arial'>We will be prompted to provide the password. We will enter the password, press the Enter key, and then use the down arrow to go to the next cell. Begin running steps with Shift + Enter keys. </p>"
   ]
  },
  {
   "cell_type": "code",
   "execution_count": null,
   "id": "d3f38726-fdeb-4619-b467-4d4f19c47cb2",
   "metadata": {},
   "outputs": [],
   "source": [
    "%run -i ../startup.ipynb\n",
    "eng = create_context(host = 'host.docker.internal', username='demo_user', password = password)\n",
    "print(eng)"
   ]
  },
  {
   "cell_type": "code",
   "execution_count": null,
   "id": "30898957-c27d-450d-95f4-03e5c169396f",
   "metadata": {},
   "outputs": [],
   "source": [
    "%%capture\n",
    "execute_sql('''SET query_band='DEMO=FF_ServiceNow_Multipath_PatternAnalysis_Python.ipynb;' UPDATE FOR SESSION;''')"
   ]
  },
  {
   "cell_type": "markdown",
   "id": "70120eeb-6fe6-4b91-a3f7-ce35b9c9c2bf",
   "metadata": {},
   "source": [
    "<p style = 'font-size:16px;font-family:Arial'>Begin running steps with Shift + Enter keys.</p>"
   ]
  },
  {
   "cell_type": "markdown",
   "id": "677f1a49-7fb5-4df0-88e0-9a7b954efbe0",
   "metadata": {},
   "source": [
    "<hr style=\"height:2px;border:none;\">\n",
    "\n",
    "<p style = 'font-size:20px;font-family:Arial'><b>2. Getting Data for This Demo</b></p>\n",
    "<p style = 'font-size:16px;font-family:Arial'>We have provided data for this demo on cloud storage. We have the option of either running the demo using foreign tables to access the data without using any storage on our environment or downloading the data to local storage, which may yield somewhat faster execution. However, we need to consider available storage. There are two statements in the following cell, and one is commented out. We may switch which mode we choose by changing the comment string.\n",
    "</p>"
   ]
  },
  {
   "cell_type": "code",
   "execution_count": null,
   "id": "3ab82270-16d0-4748-b762-3043821ccc1b",
   "metadata": {},
   "outputs": [],
   "source": [
    "%run -i ../run_procedure.py \"call get_data('DEMO_ServiceNow_cloud');\"\n",
    "# takes about 20sec minute, estimated space: 0 MB\n",
    "# %run -i ../run_procedure.py \"call get_data('DEMO_ServiceNow_local');\"\n",
    "# takes about 1 minute, estimated space: 20 MB"
   ]
  },
  {
   "cell_type": "markdown",
   "id": "f7ecaf78-ab7b-4ef4-9f72-115d6ef66c0c",
   "metadata": {},
   "source": [
    "<p style = 'font-size:16px;font-family:Arial'>Optional step – We should execute the below step only if we want to see the status of databases/tables created and space used.</p>"
   ]
  },
  {
   "cell_type": "code",
   "execution_count": null,
   "id": "1f0d6459-b032-4f87-b216-f92b78885abe",
   "metadata": {},
   "outputs": [],
   "source": [
    "%run -i ../run_procedure.py \"call space_report();\""
   ]
  },
  {
   "cell_type": "markdown",
   "id": "5ac07923-6e89-4322-9c98-51a622081698",
   "metadata": {},
   "source": [
    "<hr style=\"height:2px;border:none;\">\n",
    "<p style = 'font-size:20px;font-family:Arial'><b>3. Analyze the raw data set</b></p>\n",
    "<p style = 'font-size:16px;font-family:Arial'> Sys audit table in ServiceNow stores the assignment groups and states but it stores the changes in assignment group only but it doesnt store the first assignment group, hence we built a raw data table. It's a mix of different tables (sys_audit, sys_user etc) in ServiceNow that allows us to identify what we think are the most important parts for that we need for the analysis of a journey.<br>One of the column of interest is the audit time stamp. This is the time stamp of when an event occurred. There are two very different dates in the table, the date of when a case was created and then the date of when something happened. We also have column for here how long it has happened since the since the case or incident was created (hrs_elapsed). Table also captures the highest severity of the tickets. Let us take a look at the data in the table.</p> "
   ]
  },
  {
   "cell_type": "code",
   "execution_count": null,
   "id": "197b2de3-057a-49b7-893c-1559bd6d34a6",
   "metadata": {},
   "outputs": [],
   "source": [
    "tdf= DataFrame(in_schema('DEMO_ServiceNow', 'Audit_Raw_Data'))\n",
    "tdf"
   ]
  },
  {
   "cell_type": "markdown",
   "id": "061fb1b7-a215-4b65-a44a-7a6acb146957",
   "metadata": {},
   "source": [
    "<p style = 'font-size:16px;font-family:Arial'>We can check data for one of the tickets.</p>"
   ]
  },
  {
   "cell_type": "code",
   "execution_count": null,
   "id": "b305b4a5-e5ff-4037-beed-7c0dfa6cde44",
   "metadata": {},
   "outputs": [],
   "source": [
    "filtered_tdf = tdf[tdf['sn_ticket'] == 'INC0342089']\n",
    "filtered_tdf.sort('sn_audit_TS')"
   ]
  },
  {
   "cell_type": "markdown",
   "id": "c72968b4-0d75-40e0-8ed2-be4a012d86cc",
   "metadata": {},
   "source": [
    "<p style = 'font-size:16px;font-family:Arial'>If we look at the ticket data above we can see that the assignment group when the ticket was created was 'Cloud BaaS Operator' and later it was reassigned to 'GSO L1 Cloud Support'. There can be other tickets where this type of reassignment is done or there may be tickets where there is multiple reassignments. If we want to see the pattern or number of tickets where this happens we can easily do that using Vantage's nPath function.</p>\n",
    "<p style = 'font-size:16px;font-family:Arial'>The nPath function scans a set of rows, looking for patterns that you specify. For each set of input rows that matches the pattern, nPath produces a single output row. The function provides a flexible pattern-matching capability that lets you specify complex patterns in the input data and define the values that are output for each matched input set.</p>"
   ]
  },
  {
   "cell_type": "markdown",
   "id": "21df957c-2554-4032-8165-78e969798355",
   "metadata": {},
   "source": [
    "<p style = 'font-size:16px;font-family:Arial'>Now consider that we want to find out the tickets that were resolved by a particular assignment group for example GSO L1 team and we also want to check all the reassignments that were done before the resolution.<br> First let us check the values in the sn_ag column which holds the values for the assigment groups. </p>"
   ]
  },
  {
   "cell_type": "code",
   "execution_count": null,
   "id": "997c55d3-79d1-48ac-a3b7-51b98b66dba9",
   "metadata": {},
   "outputs": [],
   "source": [
    "catsum = CategoricalSummary(data=tdf,\n",
    "                             target_columns=['sn_ag']\n",
    "                            )\n",
    " \n",
    "catsum.result.sort('DistinctValue').head(20)"
   ]
  },
  {
   "cell_type": "markdown",
   "id": "8925174b-306b-4888-a178-eb729dcf9c06",
   "metadata": {},
   "source": [
    "<p style = 'font-size:16px;font-family:Arial'>We will use nPath function and define the pattern according to our requirements. We also want to get the values if there is any ressignment done.</p>"
   ]
  },
  {
   "cell_type": "code",
   "execution_count": null,
   "id": "d0701fb0-73a4-4443-a31b-131a629ba64d",
   "metadata": {},
   "outputs": [],
   "source": [
    "npath_gso_l1 = NPath(data1 = tdf, \n",
    "                      data1_partition_column = ['sn_ticket'], \n",
    "                      data1_order_column = 'sn_audit_TS', \n",
    "                      mode = 'NONOVERLAPPING', \n",
    "                      symbols = ['fieldname = \\'resolved_by\\' and sn_ag IN (\\'GSO L1 Cloud Support\\',\\'GSO L1 EU Restricted\\') AND sn_state IN (\\'Resolved\\') AS resolved_gso_l1',\n",
    "                                 'TRUE as OTHER'], \n",
    "                      pattern = 'OTHER?*.resolved_gso_l1', \n",
    "                      result = ['FIRST (sn_ticket of resolved_gso_l1) as sn_ticket', \n",
    "                                'FIRST (sn_audit_TS of resolved_gso_l1) as resolved_gso_l1_ts',\n",
    "                                'COUNT (DISTINCT  sn_ag of ANY(other,resolved_gso_l1) ) as sn_ags', \n",
    "                                'ACCUMULATE (DISTINCT  cast(sn_ag as VARCHAR(20)) of ANY(other,resolved_gso_l1)) as path' \n",
    "                               ])\n",
    "\n",
    "npath_gso_l1.result"
   ]
  },
  {
   "cell_type": "markdown",
   "id": "03807d71-7149-49a2-99ab-00a4178808d7",
   "metadata": {},
   "source": [
    "<hr style=\"height:2px;border:none;\">\n",
    "\n",
    "<p style = 'font-size:20px;font-family:Arial'><b>4. Analysis and Visualization</b>\n",
    "<p style = 'font-size:16px;font-family:Arial'> We can perform analysis on the data in-database and visualize the results by plotting the graphs and paths.</p>"
   ]
  },
  {
   "cell_type": "code",
   "execution_count": null,
   "id": "a6b38478-c817-4c41-944f-de3b0e90c5c7",
   "metadata": {},
   "outputs": [],
   "source": [
    "d1 = npath_gso_l1.result.groupby(['path']).count()\n",
    "d1= d1.assign(drop_columns = True,\n",
    "              path = d1.path,\n",
    "              ticket_count = d1.count_sn_ticket)\n",
    "d1"
   ]
  },
  {
   "cell_type": "code",
   "execution_count": null,
   "id": "0f08f3da-49c3-4019-aa80-be667d1c257f",
   "metadata": {},
   "outputs": [],
   "source": [
    "sn_ags_plot = npath_gso_l1.result.groupby(['sn_ags']).count().sort(['count_sn_ticket'], ascending = False)\n",
    "sn_ags_plot"
   ]
  },
  {
   "cell_type": "code",
   "execution_count": null,
   "id": "57dc7be7-8e49-4bba-b651-fa9001f19c7b",
   "metadata": {},
   "outputs": [],
   "source": [
    "plot =  sn_ags_plot.plot(x=sn_ags_plot.sn_ags, y=sn_ags_plot.count_path,\n",
    "                                 kind='bar',xlabel = 'Number of Reassignments', yabel = 'Count of tickets', \n",
    "                                 heading=\"Reassignments done before ticket resolved by GSO L1\", figsize=(600, 400))\n",
    " \n",
    "# Display the plot.\n",
    "plot.show()"
   ]
  },
  {
   "cell_type": "markdown",
   "id": "13f36bde-3f2b-4451-a126-3325a2ccfcad",
   "metadata": {},
   "source": [
    "<hr style=\"height:1px;border:none;\">\n",
    "<p style = 'font-size:18px;font-family:Arial'><b>4.1  Sankey Charts</b></p>\n",
    "<p style = 'font-size:16px;font-family:Arial'> In order to visualize the distribution of the different path of events, we typically use Sankey diagram of the aggregated over the paths reported by the NPATH command.\n"
   ]
  },
  {
   "cell_type": "code",
   "execution_count": null,
   "id": "548135a9-5ce9-488b-888e-5b170ed78ca8",
   "metadata": {},
   "outputs": [],
   "source": [
    "from tdnpathviz.visualizations import plot_first_main_paths"
   ]
  },
  {
   "cell_type": "code",
   "execution_count": null,
   "id": "2625e2ac-468f-4c22-a587-160c16c4a5f1",
   "metadata": {},
   "outputs": [],
   "source": [
    "plot_first_main_paths(npath_gso_l1.result,path_column='path',id_column='sn_ticket')"
   ]
  },
  {
   "cell_type": "markdown",
   "id": "d1ed0e4d-64eb-46ba-8c0f-4012a9e57349",
   "metadata": {},
   "source": [
    "<p style = 'font-size:18px;font-family:Arial'><b>Conclusion</b></p>\n",
    "<p style = 'font-size:16px;font-family:Arial'>Here in this notebook we have seen that with Teradata Vantage and ClearScape Analytics we can find patterns inside ServiceNow data. We can find common paths in our data and improve efficiency and quality of service we provide to ServiceNow customers.</p>"
   ]
  },
  {
   "cell_type": "markdown",
   "id": "c193843f-1aeb-44f7-93ff-ea3ce00e6aab",
   "metadata": {},
   "source": [
    "<hr style=\"height:2px;border:none;\">\n",
    "<p style = 'font-size:20px;font-family:Arial'><b>5. Cleanup </b></p>\n",
    "<p style = 'font-size:18px;font-family:Arial'> <b>Databases and Tables </b></p>\n",
    "<p style = 'font-size:16px;font-family:Arial'>We will use the following code to clean up tables and databases created for this demonstration.</p>"
   ]
  },
  {
   "cell_type": "code",
   "execution_count": null,
   "id": "4d231454-9d45-47c3-99dd-4efba55fc6db",
   "metadata": {},
   "outputs": [],
   "source": [
    "%run -i ../run_procedure.py \"call remove_data('DEMO_ServiceNow');\"   # Takes about 10 seconds, optional if you want to use the data later"
   ]
  },
  {
   "cell_type": "code",
   "execution_count": null,
   "id": "9983437c-d035-4322-a3fd-3ccecbde408c",
   "metadata": {},
   "outputs": [],
   "source": [
    "remove_context()"
   ]
  },
  {
   "cell_type": "markdown",
   "id": "5d4f5df2-2edf-47e2-942e-0b9cf9f769b4",
   "metadata": {},
   "source": [
    "<hr style=\"height:2px;border:none;\">\n",
    "<b style = 'font-size:18px;font-family:Arial'>Dataset Information</b>\n",
    "<p style = 'font-size:16px;font-family:Arial'>Dataset used here is simulated data based on the actual ServiceNow audit data.</p>"
   ]
  },
  {
   "cell_type": "markdown",
   "id": "9e4fc08a-deba-4943-8827-ff547ea8fcd1",
   "metadata": {},
   "source": [
    "<footer style=\"padding-bottom:35px; border-bottom:3px solid #91A0Ab\">\n",
    "    <div style=\"float:left;margin-top:14px\">ClearScape Analytics™</div>\n",
    "    <div style=\"float:right;\">\n",
    "        <div style=\"float:left; margin-top:14px\">\n",
    "            © 2025 Teradata. All rights reserved.\n",
    "        </div>\n",
    "    </div>\n",
    "</footer>"
   ]
  }
 ],
 "metadata": {
  "kernelspec": {
   "display_name": "Python 3 (ipykernel)",
   "language": "python",
   "name": "python3"
  },
  "language_info": {
   "codemirror_mode": {
    "name": "ipython",
    "version": 3
   },
   "file_extension": ".py",
   "mimetype": "text/x-python",
   "name": "python",
   "nbconvert_exporter": "python",
   "pygments_lexer": "ipython3",
   "version": "3.9.10"
  }
 },
 "nbformat": 4,
 "nbformat_minor": 5
}
