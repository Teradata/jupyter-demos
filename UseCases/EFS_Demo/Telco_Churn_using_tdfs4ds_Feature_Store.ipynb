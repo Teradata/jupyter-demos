{
 "cells": [
  {
   "cell_type": "markdown",
   "id": "7f2f3523-c5f5-42c1-8e78-eb8a818fd487",
   "metadata": {},
   "source": [
    "<header>\n",
    "   <p  style='font-size:36px;font-family:Arial;color:#F0F0F0; background-color: #00233c; padding-left: 20pt; padding-top: 20pt;padding-bottom: 10pt; padding-right: 20pt;'>\n",
    "       Telco Churn using Feature Store in Vantage\n",
    "  <br>\n",
    "       <img id=\"teradata-logo\" src=\"https://storage.googleapis.com/clearscape_analytics_demo_data/DEMO_Logo/teradata.svg\" alt=\"Teradata\" style=\"width: 125px; height: auto; margin-top: 20pt;\">\n",
    "    </p>\n",
    "</header>"
   ]
  },
  {
   "cell_type": "markdown",
   "id": "eff89c2c-c21b-40c0-b60f-24dedde6270b",
   "metadata": {},
   "source": [
    "<p style = 'font-size:20px;font-family:Arial;color:#00233C'><b>Introduction</b></p>\n",
    "\n",
    "<p style = 'font-size:16px;font-family:Arial;color:#00233C'>\n",
    "Customer churn is a concern for all companies, but the complexity makes it difficult to track. Customers may leave due to various reasons such dissatisfaction with service quality, pricing, customer service, or finding better alternatives from competitors. Although some churn may be expected, companies aim to retain their customers to avoid using additional resources to find new customers. Thus, with the help of Teradata Vantage, companies can attain their goal of identifying the factors contributing to the churn, so they can take appropriate measures to retain customers. Vantage’s capabilities allow companies to analyze large amounts of customer data, such as usage patterns, billing information, demographics, and interactions, to find patterns that may indicate customers who are at risk of churning. Plus, Teradata’s machine learning and predictive analytics can be used to build models to predict customers which are likely to churn in the future. This information will give companies the chance to intervene, including sending targeted marketing campaigns, personalized offers, improved customer service, or addressing customer concern.</p>\n",
    "\n",
    "<p style = 'font-size:16px;font-family:Arial;color:#00233C'>Successful AI/ML implementations face three main challenges:</p>\n",
    "<li style = 'font-size:16px;font-family:Arial;color:#00233C'><b>The Data Problem:</b> Quality data and feature engineering consume 80% of the implementation time. Even when different use cases share the same source data and features, organizations often handle data preparation separately.</li>\n",
    "<li style = 'font-size:16px;font-family:Arial;color:#00233C'><b>The Scale Problem:</b> Real-world use cases often require multiple models. In production, these models require fresh features engineered in the same way as during training. Ensuring the auditability of these features behind model decisions is crucial.</li>\n",
    "<li style = 'font-size:16px;font-family:Arial;color:#00233C'><b>The Deployment Problem:</b> Transitioning prototypes to production, especially operationalizing data prep pipelines, is often problematic.</li></p>\n",
    "\n",
    "<p style = 'font-size:16px;font-family:Arial;color:#00233C'>Addressing these challenges requires strategic planning, skilled talent, and integration with existing systems. Oraganizations with a history in Data Management recognize the benefits of reusable Data Products, making Enterprise Feature Stores a valuable investment.</p>\n",
    "\n",
    "<p style = 'font-size:16px;font-family:Arial;color:#00233C'>A Feature Store is a curated repository of pre-calculated features, simplifying the journey from data to actionable insights. An Enterprise Feature Store extends across domains/teams, incorporating a Governance Framework for predictable feature delivery. </p>\n",
    "    \n",
    "<p style = 'font-size:16px;font-family:Arial;color:#00233C'><b>While most features are reusable, some need model-specific calculations before integration into a unified dataset.</b></p>\n",
    "    \n",
    "<p style = 'font-size:16px;font-family:Arial;color:#00233C'>The key difference between Feature Store (FS) and Enterprise Feature Store (EFS) is the scope across multiple domains/teams along with the Governance Framework (that gives an assurance that features are delivered under predictable SLAs and it also defines the operating model how the EFS is used across different teams/domains and how features lifecycle is managed). Although most Features are considered as re-usable, there is still some minor part of Features that must be calculated as model-specific (e.g., scaled variables, principal components, etc.) and then combined with the rest of the pre-calculated Features into a single data set (ADS). The figure below describes this co-existence of model-specific ADS(es) and model-independent EFS.</p>\n",
    "\n",
    "<img src='images/EFS.png'>\n",
    "\n",
    "\n",
    "<p style = 'font-size:18px;font-family:Arial;color:#00233C'><b>Business Values</b></p>\n",
    "\n",
    "<li style = 'font-size:16px;font-family:Arial;color:#00233C'>Rapid model creation and deployment through enterprise feature reuse.</li>\n",
    "<li style = 'font-size:16px;font-family:Arial;color:#00233C'>Flexible creation and usage of new features without extensive engineering support.</li>\n",
    "<li style = 'font-size:16px;font-family:Arial;color:#00233C'>Consistent definitions ensure accuracy and quick deployment.</li>\n",
    "<li style = 'font-size:16px;font-family:Arial;color:#00233C'>Collaboration and sharing of features among teams.</li>\n",
    "<li style = 'font-size:16px;font-family:Arial;color:#00233C'>Maintained feature lifecycle for compliance and auditability.</li>\n",
    "</p>\n",
    "\n",
    "<p style = 'font-size:18px;font-family:Arial;color:#00233C'><b>Why Vantage?</b></p>\n",
    "<p style = 'font-size:16px;font-family:Arial;color:#00233C'>There are several reasons why EFS naturally fits to Teradata Vantage:</p>\n",
    "<li style = 'font-size:16px;font-family:Arial;color:#00233C'>Utilizes Teradata Vantage with its powerful Analytical Library and SQL Engine.</li>\n",
    "<li style = 'font-size:16px;font-family:Arial;color:#00233C'>Primary Index enables efficient single-row access for online feature use.</li>\n",
    "<li style = 'font-size:16px;font-family:Arial;color:#00233C'>Single platform for both online and offline feature stores.</li>\n",
    "<li style = 'font-size:16px;font-family:Arial;color:#00233C'>Macros reduce parsing overhead from API access.</li>\n",
    "<li style = 'font-size:16px;font-family:Arial;color:#00233C'>R and Python code execution within SQL Engine.</li>\n",
    "<li style = 'font-size:16px;font-family:Arial;color:#00233C'>Bi-temporal querying capability.</li>\n",
    "<li style = 'font-size:16px;font-family:Arial;color:#00233C'>Scalable MPP power for feature computation.</li>\n",
    "<li style = 'font-size:16px;font-family:Arial;color:#00233C'>Industry-specific Logical Data Model as a feature source.</li>\n",
    "<li style = 'font-size:16px;font-family:Arial;color:#00233C'>Connectivity to Object Storage via NOS for feature data sourcing.</li>\n",
    "<li style = 'font-size:16px;font-family:Arial;color:#00233C'>Query Grid facilitates access to multiple data sources.</li>\n",
    "<li style = 'font-size:16px;font-family:Arial;color:#00233C'>Close-to-real-time feature delivery using Query Services and Teradata Intelligent Memory.</li>\n",
    "<li style = 'font-size:16px;font-family:Arial;color:#00233C'>Workload management prioritizes tasks effectively.</li></p>\n",
    "<p style = 'font-size:16px;font-family:Arial;color:#00233C'>The unique massively-parallel architecture of Teradata Vantage allows users to prepare data, train, evaluate, and deploy models at unprecedented scale.</p>\n",
    "\n",
    "\n",
    "<p style = 'font-size:18px;font-family:Arial;color:#00233C'><b>Methodology</b></p>\n",
    "<p style = 'font-size:16px;font-family:Arial;color:#00233C'>In this demo we have used a methodology which involves analyzing a time series of data, where each data point represents the outstanding amount at the end of each month. To detect anomalies, we use the following steps:</p>\n",
    "\n",
    "<li style = 'font-size:16px;font-family:Arial;color:#00233C'><b>Model the Distribution:</b> We assume that the historical data of monthly balances follow a normal distribution. This distribution is characterized by two parameters: the mean (μ) and the standard deviation (σ). These are the features of the Entity </li>\n",
    "\n",
    "<li style = 'font-size:16px;font-family:Arial;color:#00233C'><b>Compute the Z-Score:</b> For the most recent monthly balance (the latest data point in the time series), we compute its Z-score. The Z-score is a statistical measure that describes a value's relationship to the mean of a group of values. It is calculated using the formula: </li>\n",
    "\n",
    "<p style = 'font-size:16px;font-family:Arial;color:#00233C'><div><code>Z = (X - μ) / σ</code></div></p>\n",
    "\n",
    "<p style = 'font-size:16px;font-family:Arial;color:#00233C'>where X is the value in question, μ is the mean, and σ is the standard deviation.</p>\n",
    "\n",
    "<li style = 'font-size:16px;font-family:Arial;color:#00233C'><b>Threshold for Anomaly Detection:</b> We set a threshold for the Z-score. If the absolute value of the Z-score for the latest monthly balance exceeds this threshold, it is flagged as an anomaly.</li></p>\n",
    "\n",
    "<p style = 'font-size:16px;font-family:Arial;color:#00233C'>It's important to note that the computation of the Z-score and the anomaly flag is dependent on the values of the mean and standard deviation. These dependent features are not computed at the same time as the static features but are derived later, once the latest outstanding amount (the new data point) becomes available.</p>\n",
    "\n",
    "<p style = 'font-size:18px;font-family:Arial;color:#00233C'><b>Feature Engineering</b></p>\n",
    "<p style = 'font-size:16px;font-family:Arial;color:#00233C'>Feature engineering is a crucial step in the entity-feature paradigm, as it involves creating and transforming features to better represent the underlying problem for predictive modeling. In our case, the feature engineering process is twofold, each with its specific inputs and outputs. Below are the processes that are a part of this feature engineering</p>\n",
    "\n",
    "<li style = 'font-size:16px;font-family:Arial;color:#00233C'><b>Process 1:</b> Computing Mean and Standard Deviation</li>\n",
    "<li style = 'font-size:16px;font-family:Arial;color:#00233C'><b>Process 2:</b> Computing Z-Score and Anomaly Flag</li>\n",
    "<li style = 'font-size:16px;font-family:Arial;color:#00233C'><b>Roll Out:</b> Feature Engineering rollout\n",
    "    <ul style = 'font-size:16px;font-family:Arial;color:#00233C'>\n",
    "    <li>Addressing Circular Dependency</li>\n",
    "    <li>Roll out after adjusting circular dependency</li></ul>\n",
    "<li style = 'font-size:16px;font-family:Arial;color:#00233C'><b>Validation:</b> Feature Store Validation</li>\n",
    "</p>"
   ]
  },
  {
   "cell_type": "markdown",
   "id": "1ab6f86e-5e58-435a-a8f2-a4eb3176aa3d",
   "metadata": {},
   "source": [
    "<hr style=\"height:2px;border:none;background-color:#00233C;\">\n",
    "<p style = 'font-size:20px;font-family:Arial;color:#00233C'><b>1. Connect to Vantage, Import python packages and explore the dataset</b></p>\n"
   ]
  },
  {
   "cell_type": "markdown",
   "id": "fe80ce62-d761-4ffe-b171-93b036739e92",
   "metadata": {},
   "source": [
    "<p style = 'font-size:16px;font-family:Arial;color:#00233C'>In the section, we import the required libraries and set environment variables and environment paths (if required).</p>"
   ]
  },
  {
   "cell_type": "code",
   "execution_count": null,
   "id": "5d409c76-27ef-4940-98c0-c541aa9cb1a0",
   "metadata": {},
   "outputs": [],
   "source": [
    "%%capture\n",
    "# # '%%capture' suppresses the display of installation steps of the following packages\n",
    "!pip install tdfs4ds --upgrade"
   ]
  },
  {
   "cell_type": "markdown",
   "id": "0f0df2d7-7b1c-413c-bd59-5f87035f9a90",
   "metadata": {},
   "source": [
    "<div class=\"alert alert-block alert-info\">\n",
    "<p style = 'font-size:16px;font-family:Arial;color:#00233C'><b>Note: </b><i>Please execute the above pip install to get the latest version of the required library. Be sure to restart the kernel after executing those lines to bring the installed libraries into memory. The simplest way to restart the Kernel is by typing zero zero: <b> 0 0</b></i></p>\n",
    "</div>"
   ]
  },
  {
   "cell_type": "code",
   "execution_count": null,
   "id": "48fb9b4e-8690-4de6-ab49-211f6413cfd1",
   "metadata": {},
   "outputs": [],
   "source": [
    "#import libraries\n",
    "import matplotlib.pyplot as plt \n",
    "import getpass\n",
    "import warnings\n",
    "warnings.filterwarnings('ignore')\n",
    "warnings.simplefilter(action='ignore', category=DeprecationWarning)\n",
    "warnings.simplefilter(action='ignore', category=RuntimeWarning)\n",
    "warnings.simplefilter(action='ignore', category=FutureWarning)\n",
    "\n",
    "from teradataml import *\n",
    "import pandas as pd\n",
    "import json\n",
    "from sqlalchemy import func\n",
    "\n",
    "import tdfs4ds\n",
    "from tdfs4ds.utils.lineage import crystallize_view\n",
    "from tdfs4ds.feature_store.feature_query_retrieval import get_feature_versions\n",
    "\n",
    "display.max_rows=5"
   ]
  },
  {
   "cell_type": "markdown",
   "id": "1bcca830-84d7-452b-9a4a-21853933afd4",
   "metadata": {},
   "source": [
    "<p style = 'font-size:16px;font-family:Arial;color:#00233C'>We will be prompted to provide the password. We will enter the password, press the Enter key, and then use the down arrow to go to the next cell.</p>"
   ]
  },
  {
   "cell_type": "code",
   "execution_count": null,
   "id": "557f0bcc-56ad-4513-bdab-abae45f09a0c",
   "metadata": {},
   "outputs": [],
   "source": [
    "%run -i ../startup.ipynb\n",
    "eng = create_context(host = 'host.docker.internal', username='demo_user', password = password)\n",
    "print(eng)"
   ]
  },
  {
   "cell_type": "code",
   "execution_count": null,
   "id": "efdaaddd-c5f8-4699-9c54-72a3dcc711f0",
   "metadata": {},
   "outputs": [],
   "source": [
    "%%capture\n",
    "execute_sql('''SET query_band='DEMO=Telco_Churn_using_tdfs4ds_Feature_Store.ipynb;' UPDATE FOR SESSION; ''')"
   ]
  },
  {
   "cell_type": "markdown",
   "id": "a4794150-a65b-4c3f-8d24-d42f34b6167b",
   "metadata": {},
   "source": [
    "<p style = 'font-size:16px;font-family:Arial;color:#00233C'><b>Setup a Feature Store</b></p>"
   ]
  },
  {
   "cell_type": "markdown",
   "id": "0776e2ee-bdb8-4927-9d14-5cff5583b6ee",
   "metadata": {},
   "source": [
    "<p style = 'font-size:16px;font-family:Arial;color:#00233C'>We can now set-up the feature store using the tdfs4dslibrary.</p>"
   ]
  },
  {
   "cell_type": "code",
   "execution_count": null,
   "id": "3e72cc2f-2e36-47cd-a2da-19da50f892d2",
   "metadata": {},
   "outputs": [],
   "source": [
    "tdfs4ds.setup(database='demo_user')\n",
    "# tdfs4ds.connect(database='demo_user')"
   ]
  },
  {
   "cell_type": "code",
   "execution_count": null,
   "id": "4d7f40c3-8efe-4042-9ede-a767681f0fcf",
   "metadata": {},
   "outputs": [],
   "source": [
    "tdfs4ds.connect(database='demo_user')"
   ]
  },
  {
   "cell_type": "markdown",
   "id": "e80e18e4-d009-4d88-8340-72636ca8f0dd",
   "metadata": {},
   "source": [
    "<hr style=\"height:2px;border:none;background-color:#00233C;\">\n",
    "<p style = 'font-size:20px;font-family:Arial;color:#00233C'><b>2. Getting Data for This Demo</b></p>\n",
    "<p style = 'font-size:16px;font-family:Arial;color:#00233C'>We have provided data for this demo on cloud storage. We have the option of either running the demo using foreign tables to access the data without using any storage on our environment or downloading the data to local storage, which may yield somewhat faster execution. However, we need to consider available storage. There are two statements in the following cell, and one is commented out. We may switch which mode we choose by changing the comment string.</p>"
   ]
  },
  {
   "cell_type": "code",
   "execution_count": null,
   "id": "1ef9ef52-74ad-4c33-b978-0d5d8a68f00f",
   "metadata": {},
   "outputs": [],
   "source": [
    "# %run -i ../run_procedure.py \"call get_data('DEMO_Telco_cloud');\"\n",
    " # takes about 30 seconds, estimated space: 0 MB\n",
    "%run -i ../run_procedure.py \"call get_data('DEMO_Telco_local');\" \n",
    "# takes about 1 minute 30 seconds, estimated space: 4 MB"
   ]
  },
  {
   "cell_type": "markdown",
   "id": "fe942be5-f0b5-4ed4-b8a5-58d4821f3f3a",
   "metadata": {},
   "source": [
    "<p style = 'font-size:16px;font-family:Arial;color:#00233C'>Optional step – We should execute the below step only if we want to see the status of databases/tables created and space used.</p>"
   ]
  },
  {
   "cell_type": "code",
   "execution_count": null,
   "id": "daf32774-d606-48a8-9d04-0f3e87f2d09b",
   "metadata": {},
   "outputs": [],
   "source": [
    "%run -i ../run_procedure.py \"call space_report();\""
   ]
  },
  {
   "cell_type": "markdown",
   "id": "d8540286-8309-47c6-9aff-fe153700ee9d",
   "metadata": {},
   "source": [
    "<hr style=\"height:2px;border:none;background-color:#00233C;\">\n",
    "<p style = 'font-size:20px;font-family:Arial;color:#00233C'><b>3. Feature Engineering</b></p>"
   ]
  },
  {
   "cell_type": "markdown",
   "id": "c4992424-3837-4a9f-b532-2e8d188d8c02",
   "metadata": {},
   "source": [
    "<p style = 'font-size:16px;font-family:Arial;color:#00233C'>Let us now start with feature engineering. We will replace multiple values which indicate absence of a service  by No</p>\n"
   ]
  },
  {
   "cell_type": "code",
   "execution_count": null,
   "id": "271b6d33-7792-442d-8c46-7e4d659e5920",
   "metadata": {},
   "outputs": [],
   "source": [
    "df = DataFrame(in_schema(\"DEMO_Telco\", \"Customer_Churn\"))\n",
    "df"
   ]
  },
  {
   "cell_type": "code",
   "execution_count": null,
   "id": "a4cb4956-2260-4c65-a6fa-b91ec4048cc2",
   "metadata": {},
   "outputs": [],
   "source": [
    "df = df.assign(\n",
    "    oreplace_MultipleLines    = func.oreplace(\n",
    "        df.MultipleLines.expression,\"No phone service\",\"No\"\n",
    "    ),\n",
    "    oreplace_OnlineSecurity   = func.oreplace(\n",
    "        df.OnlineSecurity.expression, \"No internet service\",\"No\"\n",
    "    ),\n",
    "    oreplace_OnlineBackup     = func.oreplace(\n",
    "        df.OnlineBackup.expression, \"No internet service\",\"No\"\n",
    "    ),\n",
    "    oreplace_DeviceProtection = func.oreplace(\n",
    "        df.DeviceProtection.expression, \"No internet service\",\"No\"\n",
    "    ),                     \n",
    "    oreplace_TechSupport      = func.oreplace(\n",
    "        df.TechSupport.expression, \"No internet service\",\"No\"\n",
    "    ),\n",
    "    oreplace_StreamingTV      = func.oreplace(\n",
    "        df.StreamingTV.expression, \"No internet service\",\"No\"\n",
    "    ),\n",
    "    oreplace_StreamingMovies  = func.oreplace(\n",
    "        df.StreamingMovies.expression, \"No internet service\",\"No\"\n",
    "    )\n",
    ")\n",
    "df"
   ]
  },
  {
   "cell_type": "markdown",
   "id": "b702973d-8a23-4070-94cc-b031013a11e1",
   "metadata": {},
   "source": [
    "<p style = 'font-size:16px;font-family:Arial;color:#00233C'>We will also convert Churn column value from Yes / No to  1 or 0 </p>\n"
   ]
  },
  {
   "cell_type": "code",
   "execution_count": null,
   "id": "e491f404-c614-4c13-a2f0-31daa7305750",
   "metadata": {},
   "outputs": [],
   "source": [
    "df = df.assign(\n",
    "    drop_columns     = True,\n",
    "    CustomerID       = df.CustomerID,\n",
    "    Gender           = df.Gender,\n",
    "    SeniorCitizen    = df.SeniorCitizen,\n",
    "    Partner          = df.Partner,\n",
    "    Dependents       = df.Dependents,\n",
    "    Tenure           = df.Tenure,\n",
    "    PhoneService     = df.PhoneService,\n",
    "    MultipleLines    = df.oreplace_MultipleLines,\n",
    "    InternetService  = df.InternetService,\n",
    "    OnlineSecurity   = df.oreplace_OnlineSecurity,\n",
    "    OnlineBackup     = df.oreplace_OnlineBackup,\n",
    "    DeviceProtection = df.oreplace_DeviceProtection,\n",
    "    TechSupport      = df.oreplace_TechSupport,\n",
    "    StreamingTV      = df.oreplace_StreamingTV,\n",
    "    StreamingMovies  = df.oreplace_StreamingMovies,\n",
    "    Contract         = df.Contract,\n",
    "    PaperlessBilling = df.PaperlessBilling,\n",
    "    PaymentMethod    = df.PaymentMethod,\n",
    "    MonthlyCharges   = df.MonthlyCharges,\n",
    "    TotalCharges     = df.TotalCharges,\n",
    "    Churn            = case({ \"Yes\" : 1, \"No\" : 0},value=df.Churn,else_=0)\n",
    ") \n",
    "\n",
    "df"
   ]
  },
  {
   "cell_type": "markdown",
   "id": "3cf33828-2e9e-42e5-883b-469cb47dd515",
   "metadata": {},
   "source": [
    "<hr style=\"height:2px;border:none;background-color:#00233C;\">\n",
    "<p style = 'font-size:20px;font-family:Arial;color:#00233C'><b>4. Save feature and feature processing to Feature Store</b></p>"
   ]
  },
  {
   "cell_type": "markdown",
   "id": "2ec83605-4d29-47d5-93c3-7c05791d1782",
   "metadata": {},
   "source": [
    "<img src='images/EFS_process.png'>"
   ]
  },
  {
   "cell_type": "markdown",
   "id": "98794d87-4d1e-4e58-ac39-1337beeace57",
   "metadata": {},
   "source": [
    "<p style = 'font-size:16px;font-family:Arial;color:#00233C'>Now we will proceed to save the features as well as the feature processing logic in feature store.</p>\n",
    "<p style = 'font-size:16px;font-family:Arial;color:#00233C'>This will allow us to re-use the features and processing later-on, avoiding to re-write the processing logic.</p>"
   ]
  },
  {
   "cell_type": "code",
   "execution_count": null,
   "id": "edbe4e7e-0b44-4624-9657-da2f5b7aff02",
   "metadata": {},
   "outputs": [],
   "source": [
    "tdfs4ds.DATA_DOMAIN='efs_telco'\n",
    "tdfs4ds.VARCHAR_SIZE=50"
   ]
  },
  {
   "cell_type": "code",
   "execution_count": null,
   "id": "7ed9af79-d838-4ac3-8d67-3bb80f380bb9",
   "metadata": {},
   "outputs": [],
   "source": [
    "df = crystallize_view(df, view_name = 'PROC_FEATURE_ENGINEERING', schema_name = 'demo_user',output_view=True)"
   ]
  },
  {
   "cell_type": "code",
   "execution_count": null,
   "id": "68668b95-3b30-4f34-99e0-a19e37a52aec",
   "metadata": {},
   "outputs": [],
   "source": [
    "df"
   ]
  },
  {
   "cell_type": "code",
   "execution_count": null,
   "id": "f61ac745-3c56-43c0-8e24-b32ed6c24246",
   "metadata": {},
   "outputs": [],
   "source": [
    "# define the set of columns defining the entity id\n",
    "entity_id = ['CustomerID']\n",
    "# list the columns dealing with the features\n",
    "features  = df.columns[1::]\n",
    "features"
   ]
  },
  {
   "cell_type": "markdown",
   "id": "cc8da6b1-fa36-44f8-ab70-bc0aa0329897",
   "metadata": {},
   "source": [
    "<p style = 'font-size:16px;font-family:Arial;color:#00233C'>We will create a Data Domain for the feature store</p>"
   ]
  },
  {
   "cell_type": "code",
   "execution_count": null,
   "id": "9665f2d9-4968-4ac6-b880-fc3f6fa46b12",
   "metadata": {},
   "outputs": [],
   "source": [
    "tdfs4ds.DATA_DOMAIN"
   ]
  },
  {
   "cell_type": "markdown",
   "id": "191c113e-08af-4eca-bf7c-fcab24be71ec",
   "metadata": {},
   "source": [
    "<p style = 'font-size:16px;font-family:Arial;color:#00233C'>Here we will saving the features and processing with additional metadata such as project names as churn</p>"
   ]
  },
  {
   "cell_type": "code",
   "execution_count": null,
   "id": "8c5c15a2-ddca-4af5-919b-bc7cfd5fd11e",
   "metadata": {},
   "outputs": [],
   "source": [
    "# upload the features in the physical feature store\n",
    "tdfs4ds.upload_features(\n",
    "    df,\n",
    "    entity_id     = entity_id,\n",
    "    feature_names = features,\n",
    "    metadata      = {'project': 'churn'}\n",
    ")"
   ]
  },
  {
   "cell_type": "markdown",
   "id": "81390658-0330-423d-87b4-001311a51289",
   "metadata": {},
   "source": [
    "<p style = 'font-size:16px;font-family:Arial;color:#00233C'>We can now use the feature catalog command to visualize all features which have been saved in the feature store</p>\n",
    "<p style = 'font-size:16px;font-family:Arial;color:#00233C'>All features are time dependent, as seen by the column validity start and end</p>\n",
    "<p style = 'font-size:16px;font-family:Arial;color:#00233C'>This means you can change the processing logic, but still keep the history of the features</p>"
   ]
  },
  {
   "cell_type": "code",
   "execution_count": null,
   "id": "37931c07-6843-4835-9b33-edd8b8fbc131",
   "metadata": {},
   "outputs": [],
   "source": [
    "tdfs4ds.feature_catalog()"
   ]
  },
  {
   "cell_type": "markdown",
   "id": "beda7104-0cc0-48f9-b98f-ad573be558ea",
   "metadata": {},
   "source": [
    "<hr style=\"height:2px;border:none;background-color:#00233C;\">\n",
    "<p style = 'font-size:20px;font-family:Arial;color:#00233C'><b>5. Re-using features for machine learning</b></p>"
   ]
  },
  {
   "cell_type": "markdown",
   "id": "57de3efb-2956-4a2a-9fc9-9c9ddd7bc155",
   "metadata": {},
   "source": [
    "<p style = 'font-size:16px;font-family:Arial;color:#00233C'> Now that our features have been stores in feature store, let us re-use them to train a machine learning model</p>\n",
    "<p style = 'font-size:16px;font-family:Arial;color:#00233C'> We now need to just specify the feature name, we do not need to specify the processing logic</p>"
   ]
  },
  {
   "cell_type": "code",
   "execution_count": null,
   "id": "dce440d3-7c72-4400-82b0-2ff09e8fc914",
   "metadata": {},
   "outputs": [],
   "source": [
    "tdfs4ds.connect(database='demo_user')"
   ]
  },
  {
   "cell_type": "code",
   "execution_count": null,
   "id": "537bc561-8519-41d3-88f9-37ebfa215836",
   "metadata": {},
   "outputs": [],
   "source": [
    "entity_id = ['CustomerID']\n",
    "features  = ['Gender',\n",
    " 'SeniorCitizen',\n",
    " 'Partner',\n",
    " 'Dependents',\n",
    " 'Tenure',\n",
    " 'PhoneService',\n",
    " 'MultipleLines',\n",
    " 'InternetService',\n",
    " 'OnlineSecurity',\n",
    " 'OnlineBackup',\n",
    " 'DeviceProtection',\n",
    " 'TechSupport',\n",
    " 'StreamingTV',\n",
    " 'StreamingMovies',\n",
    " 'Contract',\n",
    " 'PaperlessBilling',\n",
    " 'PaymentMethod',\n",
    " 'MonthlyCharges',\n",
    " 'TotalCharges',\n",
    " 'Churn']"
   ]
  },
  {
   "cell_type": "code",
   "execution_count": null,
   "id": "c8a64b16-9913-4b10-a3f7-1f1be67fef8d",
   "metadata": {},
   "outputs": [],
   "source": [
    "selected_features = get_feature_versions(entity_name=entity_id,features=features)\n",
    "selected_features"
   ]
  },
  {
   "cell_type": "markdown",
   "id": "f5dd9918-f5d1-4cf3-9f4e-cbf1241ff47f",
   "metadata": {},
   "source": [
    "<p style = 'font-size:16px;font-family:Arial;color:#00233C'> We can now build our training dataset by specifying the build_dataset command</p>"
   ]
  },
  {
   "cell_type": "code",
   "execution_count": null,
   "id": "b8d3d05c-2d1d-4307-bce3-b879a8624f38",
   "metadata": {},
   "outputs": [],
   "source": [
    "df = tdfs4ds.build_dataset(\n",
    "    entity_id         = entity_id,\n",
    "    selected_features = selected_features,\n",
    "    view_name         = 'mydataset',\n",
    "    schema_name       = 'demo_user',\n",
    "    comment           = 'dataset for churn prediction'\n",
    ")"
   ]
  },
  {
   "cell_type": "markdown",
   "id": "fcaca5d6-2e5a-400f-a653-cbf70c1564c8",
   "metadata": {},
   "source": [
    "<p style = 'font-size:16px;font-family:Arial;color:#00233C'> We have our training dataset which is created, with all the feature engineering</p>\n",
    "<p style = 'font-size:16px;font-family:Arial;color:#00233C'> We can see from that the column Multiple lines has only two values yes and no. The same features can also be re-used accross multiple use-cases and models without any data preperation</p>"
   ]
  },
  {
   "cell_type": "code",
   "execution_count": null,
   "id": "cb1ff7df-5216-4c26-95ff-641e16d9ba9c",
   "metadata": {
    "scrolled": true,
    "tags": []
   },
   "outputs": [],
   "source": [
    "df = DataFrame(in_schema('demo_user' , 'mydataset'))\n",
    "copy_to_sql(df, table_name='fs_dataset', if_exists ='replace')"
   ]
  },
  {
   "cell_type": "code",
   "execution_count": null,
   "id": "73057d11-c8b9-4ce5-9cc3-1f7375d0f3f7",
   "metadata": {},
   "outputs": [],
   "source": [
    "df = DataFrame('fs_dataset')\n",
    "df"
   ]
  },
  {
   "cell_type": "markdown",
   "id": "46f6bf8f-b9e1-441a-b089-c1ceebdbc059",
   "metadata": {},
   "source": [
    "<p style = 'font-size:16px;font-family:Arial;color:#00233C'>We split the dataset in to training and testing dataset with 80:20 split ratio.</p>"
   ]
  },
  {
   "cell_type": "code",
   "execution_count": null,
   "id": "8a5f3a51-60a2-4b80-8f82-a77d8adcc322",
   "metadata": {},
   "outputs": [],
   "source": [
    "# Performing sampling to get 80% for trainning and 20% for testing\n",
    "tdf_sample = df.sample(frac = [0.8, 0.2])\n",
    "\n",
    "# Fetching train and test data\n",
    "tdf_train= tdf_sample[tdf_sample['sampleid'] == 1].drop('sampleid', axis=1)\n",
    "tdf_test = tdf_sample[tdf_sample['sampleid'] == 2].drop('sampleid', axis=1)"
   ]
  },
  {
   "cell_type": "markdown",
   "id": "c86ae3c5-c44c-4c1d-bf08-c8e8d3d83d58",
   "metadata": {},
   "source": [
    "<hr style=\"height:2px;border:none;background-color:#00233C;\">\n",
    "<b style = 'font-size:20px;font-family:Arial;color:#00233C'>3. AutoML Training</b>"
   ]
  },
  {
   "cell_type": "markdown",
   "id": "337e3e67-6a98-4f1f-8479-45a637ca0bb5",
   "metadata": {},
   "source": [
    "<p style = 'font-size:16px;font-family:Arial;color:#00233C'>AutoML (Automated Machine Learning) is an approach that automates the process of building, training, and validating machine learning models. It involves various algorithms to automate various aspects of the machine learning workflow, such as data preparation, feature engineering, model selection, hyperparameter tuning, and model deployment. It aims to simplify the process of building machine learning models, by automating some of the more time-consuming and labor-intensive tasks involved in the process.</p>\n",
    "\n",
    "<p style = 'font-size:16px;font-family:Arial;color:#00233C'>We create a <code>AutoClassifier</code> instance which is a special purpose AutoML feature to run classification specific tasks. We use the <code>exclude</code> parameter to specify model algorithms to be excluded from model training phase. Here we exclude the 'knn' model. The <code>max_runtime_secs</code> specifies the time limit in seconds for model training.\n",
    "<br><br>\n",
    "<code>verbose</code>: specifies the detailed execution steps based on verbose level as follows:\n",
    "</p>\n",
    "\n",
    "<ul style = 'font-size:16px;font-family:Arial;color:#00233C'>\n",
    "    <li><b>0</b>: prints the progress bar and leaderboard</li>\n",
    "    <li><b>1</b>: prints the execution steps of AutoML.</li>\n",
    "    <li><b>2</b>: prints the intermediate data between the execution of each step of AutoML.</li>\n",
    "</ul>"
   ]
  },
  {
   "cell_type": "code",
   "execution_count": null,
   "id": "fb8137fc-7250-427f-92c7-6070a8ffddea",
   "metadata": {},
   "outputs": [],
   "source": [
    "# Creating AutoClassifier Instance\n",
    "# Selecting 'Auto' mode for AutoML training\n",
    "# Excluding knn,glm and svm model from default model list for training\n",
    "# Used early stopping timer criteria with value 600 sec\n",
    "\n",
    "aml = AutoClassifier(\n",
    "    exclude          = ['knn','svm','glm'],\n",
    "    verbose          = 2,\n",
    "    max_runtime_secs = 600\n",
    ")"
   ]
  },
  {
   "cell_type": "markdown",
   "id": "46e64a2e-648d-4321-8bd6-5bdd8051cbb6",
   "metadata": {},
   "source": [
    "<p style = 'font-size:16px;font-family:Arial;color:#00233C'><b><i>Note: Since the AutoML functionality does a lot of steps like Feature exploration and Data Preparation along with Model Training and Evaluating to select the Best model the below step may take anywhere between 12-15 minutes</i></b></p>"
   ]
  },
  {
   "cell_type": "code",
   "execution_count": null,
   "id": "378743d2-daae-4a91-af06-fbd566072902",
   "metadata": {},
   "outputs": [],
   "source": [
    "# Fitting train data \n",
    "aml.fit(data = tdf_train,target_column = 'Churn')"
   ]
  },
  {
   "cell_type": "markdown",
   "id": "3ea7b521-d7c1-4994-b380-b0308c85743d",
   "metadata": {},
   "source": [
    "<hr style=\"height:2px;border:none;background-color:#00233C;\">\n",
    "<b style = 'font-size:20px;font-family:Arial;color:#00233C'>4. Model Leaderboard Generation</b>"
   ]
  },
  {
   "cell_type": "markdown",
   "id": "4223d717-dd65-449f-8c2b-c415e1471ac3",
   "metadata": {},
   "source": [
    "<p style = 'font-size:16px;font-family:Arial;color:#00233C'>Here, we generate model leaderboard and leader for a given dataset. Leaderboard is a ranked table with a list of models with all their evaluation metrics.</p>"
   ]
  },
  {
   "cell_type": "code",
   "execution_count": null,
   "id": "22d69751-fe5e-46dd-9c24-3322a5bd1487",
   "metadata": {
    "tags": []
   },
   "outputs": [],
   "source": [
    "# Fetching leaderboard\n",
    "\n",
    "aml.leaderboard()"
   ]
  },
  {
   "cell_type": "markdown",
   "id": "7a330d76-3671-42f0-a2e3-e0b7f2138048",
   "metadata": {},
   "source": [
    "<hr style=\"height:2px;border:none;background-color:#00233C;\">\n",
    "<b style = 'font-size:20px;font-family:Arial;color:#00233C'>5. Best Performing Model</b>"
   ]
  },
  {
   "cell_type": "markdown",
   "id": "59cbeea7-d5d8-4333-b25a-8a02aa4b4cff",
   "metadata": {},
   "source": [
    "<p style = 'font-size:16px;font-family:Arial;color:#00233C'>The following function displays the best performing model.</p>"
   ]
  },
  {
   "cell_type": "code",
   "execution_count": null,
   "id": "2054141f-3c2e-47be-b9db-aef8b4c3424d",
   "metadata": {
    "tags": []
   },
   "outputs": [],
   "source": [
    "# Fetching best performing model\n",
    "aml.leader()"
   ]
  },
  {
   "cell_type": "markdown",
   "id": "55a1096f-7c8b-4e2f-b028-aa7f89c22f15",
   "metadata": {},
   "source": [
    "<hr style=\"height:2px;border:none;background-color:#00233C;\">\n",
    "<b style = 'font-size:20px;font-family:Arial;color:#00233C'>6. Prediction</b>"
   ]
  },
  {
   "cell_type": "markdown",
   "id": "41a2ffe3-91f5-4da0-ac6c-6276323e4eb3",
   "metadata": {},
   "source": [
    "<p style = 'font-size:16px;font-family:Arial;color:#00233C'>The predict function generates predictions using either the default test data or any specified dataset, based on the model's rank in the leaderboard, and displays the performance metrics of the chosen model. If the test data contains a target column, both predictions and performance metrics are displayed; otherwise, only the predictions are shown.\n",
    "<br><br>\n",
    "You can also use the <code>rank</code> parameter in the predict function. The <code>rank</code> parameter specifies the model's rank in the leaderboard to be used for prediction. By default, the rank is set to 1, meaning the best-performing model is used.</p>"
   ]
  },
  {
   "cell_type": "markdown",
   "id": "0c2ea7e4-e02b-47d9-a4eb-18493f90d104",
   "metadata": {},
   "source": [
    "<hr style=\"height:1px;border:none;background-color:#00233C;\">\n",
    "<b style = 'font-size:18px;font-family:Arial;color:#00233C'>6.1 Generating prediction on external test data</b>"
   ]
  },
  {
   "cell_type": "markdown",
   "id": "bff63293-7104-4308-ab81-a6527e9e1a4f",
   "metadata": {},
   "source": [
    "<p style = 'font-size:16px;font-family:Arial;color:#00233C'>Here, we specify the <code>tdf_test</code> dataset for prediction. When using external data instead of the default test data, the predict function applies all the data transformation steps performed during the training phase on the external data before passing the data to the model for prediction.</p>"
   ]
  },
  {
   "cell_type": "code",
   "execution_count": null,
   "id": "68dd9ecd-0b1c-4428-8911-61e4f5719d81",
   "metadata": {
    "tags": []
   },
   "outputs": [],
   "source": [
    "# Fetching prediction and metrics on test data\n",
    "prediction = aml.predict(tdf_test)"
   ]
  },
  {
   "cell_type": "code",
   "execution_count": null,
   "id": "f563395c-b381-4fe4-ab20-7b1a7a4882bf",
   "metadata": {
    "tags": []
   },
   "outputs": [],
   "source": [
    "# Printing prediction\n",
    "prediction"
   ]
  },
  {
   "cell_type": "markdown",
   "id": "d841fcd4-df97-4d31-bd25-28cce37c1a47",
   "metadata": {},
   "source": [
    "<hr style=\"height:2px;border:none;background-color:#00233C;\">\n",
    "<b style = 'font-size:20px;font-family:Arial;color:#00233C'>7. Conclusion</b>"
   ]
  },
  {
   "cell_type": "markdown",
   "id": "d74e6e4a-ae3a-4249-a6ca-8d644f592db9",
   "metadata": {},
   "source": [
    "<p style = 'font-size:16px;font-family:Arial;color:#00233C'>We used feature store to store features as well as its processing. We re-used it in model training. The features and processing can be re-used accross multiple machine leanring models and use-case , helping to improve data science productivity</p>\n",
    "\n",
    "<p style = 'font-size:16px;font-family:Arial;color:#00233C'>Teradata's AutoML functionality plays a crucial role in this context by automating the complex process of building and deploying machine learning models. AutoML ensures the most optimal preparation and training of models, delivering high-quality machine learning models in minutes. Through hyperparameter tuning (HPT), Teradata's AutoML can automatically select the best parameters for machine learning algorithms using grid search and random search techniques, significantly enhancing model performance.\n",
    "<br><br>\n",
    "By leveraging Teradata's AutoML, companies can save time and reduce costs associated with manual model building and tuning. The technology not only improves the accuracy of predictive models but also democratizes the power of machine learning, allowing customers to utilize advanced analytics without requiring extensive coding or data science expertise. This capability enables companies to swiftly and effectively analyze customer churn data, develop predictive models, and implement proactive strategies to retain customers and enhance their satisfaction.\n",
    "<br><br>\n",
    "In conclusion, Teradata's AutoML functionality is a vital tool for banks aiming to reduce customer churn. By automating and optimizing the machine learning process, Teradata empowers various industries to make data-driven decisions that improve customer retention and drive long-term profitability.</p>"
   ]
  },
  {
   "cell_type": "markdown",
   "id": "3fafdffb-2cde-4d99-8682-9ae64c74497d",
   "metadata": {},
   "source": [
    "<hr style=\"height:2px;border:none;background-color:#00233C;\">\n",
    "<b style = 'font-size:20px;font-family:Arial;color:#00233C'>9. Cleanup</b></p>\n",
    "<p style = 'font-size:18px;font-family:Arial;color:#00233C'> <b>Work Tables </b></p>"
   ]
  },
  {
   "cell_type": "code",
   "execution_count": null,
   "id": "a07f45cf-ff45-4b95-810c-061fb4d1e528",
   "metadata": {
    "tags": []
   },
   "outputs": [],
   "source": [
    "list_of_tables = db_list_tables()\n",
    "[execute_sql(f\"DROP VIEW demo_user.{t}\") for t in list_of_tables.TableName if t.startswith('FS_V')]"
   ]
  },
  {
   "cell_type": "code",
   "execution_count": null,
   "id": "7e0c61f8-ce5a-4d77-a8dc-ed1628b499d0",
   "metadata": {},
   "outputs": [],
   "source": [
    "list_of_tables = db_list_tables()\n",
    "[execute_sql(f\"DROP TABLE demo_user.{t}\") for t in list_of_tables.TableName if t.startswith('FS_T')]"
   ]
  },
  {
   "cell_type": "code",
   "execution_count": null,
   "id": "4c9de55f-8b22-40f6-8044-8b63cf5617e6",
   "metadata": {},
   "outputs": [],
   "source": [
    "list_of_tables = db_list_tables()\n",
    "[execute_sql(f\"DROP TABLE demo_user.{t}\") for t in list_of_tables.TableName if t.startswith('FS_')]"
   ]
  },
  {
   "cell_type": "code",
   "execution_count": null,
   "id": "bc241d13-6921-4582-8a9c-d1f5da3ec360",
   "metadata": {},
   "outputs": [],
   "source": [
    "[execute_sql(f\"DROP TABLE demo_user.{t}\") for t in list_of_tables.TableName if t in ['temp','tdfs__fgjnojnsmdoignmosnig']]"
   ]
  },
  {
   "cell_type": "markdown",
   "id": "5cc238d9-0d01-4ca0-b34a-f802621cb165",
   "metadata": {},
   "source": [
    "<p style = 'font-size:18px;font-family:Arial;color:#00233C'> <b>Databases and Tables </b></p>\n",
    "<p style = 'font-size:16px;font-family:Arial;color:#00233C'>The following code will clean up tables and databases created above.</p>"
   ]
  },
  {
   "cell_type": "code",
   "execution_count": null,
   "id": "457f9970-b97d-46bc-8be6-cb969da3ada5",
   "metadata": {},
   "outputs": [],
   "source": [
    "%run -i ../run_procedure.py \"call remove_data('DEMO_Telco');\" \n",
    "#Takes 10 seconds"
   ]
  },
  {
   "cell_type": "code",
   "execution_count": null,
   "id": "21fac6bb-3e3a-488c-848b-41473d6156e7",
   "metadata": {},
   "outputs": [],
   "source": [
    "remove_context()"
   ]
  },
  {
   "cell_type": "markdown",
   "id": "72bfa61c-3daa-4d47-b0d7-0a69ef13dc1a",
   "metadata": {},
   "source": [
    "<hr style=\"height:1px;border:none;background-color:#00233C;\">"
   ]
  },
  {
   "cell_type": "markdown",
   "id": "0ff7e25c-dc4e-45d7-a67f-8c70e2c517f4",
   "metadata": {},
   "source": [
    "<b style = 'font-size:20px;font-family:Arial;color:#00233C'>Required Materials</b>\n",
    "<p style = 'font-size:16px;font-family:Arial;color:#00233C'>Let’s look at the elements we have available for reference for this notebook:</p>"
   ]
  },
  {
   "cell_type": "markdown",
   "id": "fc4938d2-5ce6-412e-a665-5d62a3b1a1b5",
   "metadata": {},
   "source": [
    "<p style = 'font-size:18px;font-family:Arial;color:#00233C'><b>Filters:</b></p>\n",
    "    <ul style = 'font-size:16px;font-family:Arial;color:#00233C'>\n",
    "    <li><b>Industry:</b> Telco</li>\n",
    "    <li><b>Functionality:</b> Feature Store and AutoML</li>\n",
    "    <li><b>Use Case:</b> Customer Retention</li>\n",
    "    </ul>\n",
    "    <p style = 'font-size:18px;font-family:Arial;color:#00233C'><b>Related Resources:</b></p>\n",
    "    <ul style = 'font-size:16px;font-family:Arial;color:#00233C'>\n",
    "    <li><a href = 'https://www.teradata.com/Blogs/NPS-is-a-metric-not-the-goal'>·In the fight to improve customer experience, NPS is a metric, not the goal</a></li>\n",
    "    <li><a href = 'https://www.teradata.com/Blogs/Hyper-scale-time-series-forecasting-done-right'>·Hyper-scale time series forecasting done right</a></li>\n",
    "    <li><a href = 'https://www.teradata.com/Resources/Datasheets/Digital-Identity-Management-and-Great-CX?utm_campaign=i_coremedia-AMS&utm_source=google&utm_medium=paidsearch&utm_content=GS_CoreMedia_NA-US_BKW&utm_creative=Brand-Vantage&utm_term=teradata%20analytic%20platform&gclid=Cj0KCQjwnMWkBhDLARIsAHBOftrWZxDktHkKMsaWjMmNRnQ6Ys-bZBAUhXjWTo1Xa02fsci-IHWBV_waAppkEALw_wcB'>·Close the Gap Between Digital Identity Management and Great Customer Experiences</a></li>\n",
    "        </ul>"
   ]
  },
  {
   "cell_type": "markdown",
   "id": "b4fd5272-ceb7-4d47-bd5c-c3aea31e471a",
   "metadata": {},
   "source": [
    "<p style = 'font-size:18px;font-family:Arial;color:#00233C'><b>Reference Links:</b></p>\n",
    "<ul style = 'font-size:16px;font-family:Arial;color:#00233C'> \n",
    "       <li>Teradata Vantage™ - Analytics Database Analytic Functions - 17.20: <a href = 'https://docs.teradata.com/r/Enterprise_IntelliFlex_VMware/Teradata-VantageTM-Analytics-Database-Analytic-Functions-17.20/Introduction-to-Analytics-Database-Analytic-Functions '>https://docs.teradata.com/r/Enterprise_IntelliFlex_VMware/Teradata-VantageTM-Analytics-Database-Analytic-Functions-17.20/Introduction-to-Analytics-Database-Analytic-Functions </a></li>    \n",
    "  <li>Teradata® Package for Python User Guide - 17.20: <a href = 'https://docs.teradata.com/r/Enterprise_IntelliFlex_VMware/Teradata-Package-for-Python-User-Guide-17.20/Introduction-to-Teradata-Package-for-Python'>https://docs.teradata.com/r/Enterprise_IntelliFlex_VMware/Teradata-Package-for-Python-User-Guide-17.20/Introduction-to-Teradata-Package-for-Python</a></li>\n",
    "  <li>Teradata® Package for Python Function Reference - 17.20: <a href = 'https://docs.teradata.com/r/Enterprise/Teradata-Package-for-Python-Function-Reference-17.20/Teradata-Package-for-Python-Function-Reference'>https://docs.teradata.com/r/Enterprise/Teradata-Package-for-Python-Function-Reference-17.20/Teradata-Package-for-Python-Function-Reference</a></li>      \n",
    "</ul>"
   ]
  },
  {
   "cell_type": "markdown",
   "id": "0d6b60cb-d919-4daf-bc2a-35d7bf17eec7",
   "metadata": {},
   "source": [
    "<b style = 'font-size:18px;font-family:Arial;color:#00233C'>Dataset:</b>\n",
    "\n",
    "- `CustomerID`: unique id of customer\n",
    "- `Gender`: Whether the customer is a male or a female\n",
    "- `SeniorCitizen`:Whether the customer is a senior citizen or not (1, 0)\n",
    "- `Partner`:Whether the customer has a partner or not (Yes, No)\n",
    "- `Dependents`:Whether the customer has dependents or not (Yes, No)\n",
    "- `Tenure`:Number of months the customer has stayed with the company\n",
    "- `PhoneService`:Whether the customer has a phone service or not (Yes, No)\n",
    "- `MultipleLines`:Whether the customer has multiple lines or not (Yes, No, No phone service)\n",
    "- `InternetService`:Customer’s internet service provider (DSL, Fiber optic, No)\n",
    "- `OnlineSecurity`:Whether the customer has online security or not (Yes, No, No internet service)\n",
    "- `OnlineBackup`:Whether the customer has online backup or not (Yes, No, No internet service)\n",
    "- `DeviceProtection`:Whether the customer has device protection or not (Yes, No, No internet service)\n",
    "- `TechSupport`:Whether the customer has tech support or not (Yes, No, No internet service)\n",
    "- `StreamingTV`:Whether the customer has streaming TV or not (Yes, No, No internet service)\n",
    "- `StreamingMovies`:Whether the customer has streaming movies or not (Yes, No, No internet service)\n",
    "- `Contract`:The contract term of the customer (Month-to-month, One year, Two year)\n",
    "- `PaperlessBilling`:Whether the customer has paperless billing or not (Yes, No)\n",
    "- `PaymentMethod`:The customer’s payment method (Electronic check, Mailed check, Bank transfer (automatic), Credit card (automatic))\n",
    "- `MonthlyCharges`:The amount charged to the customer monthly\n",
    "- `TotalCharges`:The total amount charged to the customer\n",
    "- `Churn`:Whether the customer churned or not (Yes or No)"
   ]
  },
  {
   "cell_type": "markdown",
   "id": "d7e28609-20ff-47e0-a640-48db6a7fa523",
   "metadata": {},
   "source": [
    "<footer style=\"padding-bottom:35px; background:#f9f9f9; border-bottom:3px solid #00233C\">\n",
    "    <div style=\"float:left;margin-top:14px\">ClearScape Analytics™</div>\n",
    "    <div style=\"float:right;\">\n",
    "        <div style=\"float:left; margin-top:14px\">\n",
    "            Copyright © Teradata Corporation - 2024. All Rights Reserved\n",
    "        </div>\n",
    "    </div>\n",
    "</footer>"
   ]
  },
  {
   "cell_type": "code",
   "execution_count": null,
   "id": "668f20f1-781b-47bd-a3be-f2569e469e36",
   "metadata": {},
   "outputs": [],
   "source": []
  }
 ],
 "metadata": {
  "kernelspec": {
   "display_name": "Python 3 (ipykernel)",
   "language": "python",
   "name": "python3"
  },
  "language_info": {
   "codemirror_mode": {
    "name": "ipython",
    "version": 3
   },
   "file_extension": ".py",
   "mimetype": "text/x-python",
   "name": "python",
   "nbconvert_exporter": "python",
   "pygments_lexer": "ipython3",
   "version": "3.9.10"
  }
 },
 "nbformat": 4,
 "nbformat_minor": 5
}
