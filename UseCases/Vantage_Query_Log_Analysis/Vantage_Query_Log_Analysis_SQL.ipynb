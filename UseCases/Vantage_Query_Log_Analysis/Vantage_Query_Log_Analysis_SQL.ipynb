{
 "cells": [
  {
   "cell_type": "markdown",
   "id": "fa4768da-8e10-4914-bb2e-35e5e3ca4296",
   "metadata": {},
   "source": [
    "<header>\n",
    "   <p  style='font-size:36px;font-family:Arial; color:#F0F0F0; background-color: #00233c; padding-left: 20pt; padding-top: 20pt;padding-bottom: 10pt; padding-right: 20pt;'>\n",
    "       DBQL Usage\n",
    "  <br>\n",
    "       <img id=\"teradata-logo\" src=\"https://storage.googleapis.com/clearscape_analytics_demo_data/DEMO_Logo/teradata.svg\" alt=\"Teradata\" style=\"width: 125px; height: auto; margin-top: 20pt;\">\n",
    "    </p>\n",
    "</header>\n",
    "<p style = 'font-size:20px;font-family:Arial;color:#00233C'><b>Introduction</b></p>\n",
    "\n",
    "<p style = 'font-size:16px;font-family:Arial;color:#00233C'>Database Query Logging (DBQL) is used to track query behavior in Teradata Vantage. Like other system tables, the predefined DBQL logs are created as relational tables in DBC during normal Teradata Database installation. However, while most system tables are populated automatically, you control whether or not to populate the DBQL tables. If you choose not to use the feature, the tables remain empty.\n",
    "<br>\n",
    "<p style = 'font-size:16px;font-family:Arial;color:#00233C'><b>When to Use DBQL</b>\n",
    "<p style = 'font-size:16px;font-family:Arial;color:#00233C'>Use DBQL to:\n",
    "\n",
    "<li style = 'font-size:16px;font-family:Arial;color:#00233C'>Capture query/statement counts and response times. You can look in the DBQL logs to see if this is the first time this query has been broken and what the historical pattern of its execution has been.</li>\n",
    "<li style = 'font-size:16px;font-family:Arial;color:#00233C'>Validate that nonunique secondary indexes (NUSIs) are actually used. You can free up space and improve table update performance by deleting NUSIs.</li>\n",
    "<li style = 'font-size:16px;font-family:Arial;color:#00233C'>Determine which aggregate join indexes (AJIs) are used the most. This allows you to make a cost-benefit analysis on their AJIs, comparing usage against size and time to build.</li>\n",
    "<li style = 'font-size:16px;font-family:Arial;color:#00233C'>Analyze SQL text and process steps. View the SQL text that inadvertently wiped out the system using DBQL historical data and then attempt to rebuild the lost data.</li>\n",
    "<li style = 'font-size:16px;font-family:Arial;color:#00233C'>Log optimizer queries as XML documents.</li>\n",
    "<li style = 'font-size:16px;font-family:Arial;color:#00233C'>Make further refinements to workload groups and scheduling.</li>\n",
    "<li style = 'font-size:16px;font-family:Arial;color:#00233C'>Discover potential application improvements.</li>\n",
    "<li style = 'font-size:16px;font-family:Arial;color:#00233C'>Understand basic workload trends, such as growth patterns and workload mix, and identify outliers.</li>\n",
    "<li style = 'font-size:16px;font-family:Arial;color:#00233C'>Determine whether the query has redrive protection and if the request was redriven after a database failure.</li>\n",
    "</p>    \n",
    "<br>\n",
    "<p style = 'font-size:16px;font-family:Arial;color:#00233C'>DBQL provides a series of predefined tables and views that can store historical records of queries and their duration, performance, and target activity based on rules you specify. DBQL is flexible enough to log information on the variety of SQL requests, from short transactions to longer-running analysis and mining queries that run on Teradata Database. You can log information for an application name, a user or group of users, or a list of accounts.</p>\n",
    "\n",
    "\n",
    "<p style = 'font-size:16px;font-family:Arial;color:#00233C'><a href = 'https://docs.teradata.com/r/Teradata-VantageTM-Database-Administration/March-2019/Tracking-Query-Behavior-with-Database-Query-Logging-Operational-DBAs'>Link to the DBQL documentation</a></p>"
   ]
  },
  {
   "cell_type": "markdown",
   "id": "fef15f9b-cf2c-467f-bdf5-8b31c7b36b6b",
   "metadata": {},
   "source": [
    "<p style = 'font-size:16px;font-family:Arial;color:#00233C'>Apart from the DBQLogTbl there are other DBQL tables which can be used for complete analysis of the system. The DBQL tables are created in database DBC by the DIP utility during installation.</p> \n",
    "<p style = 'font-size:16px;font-family:Arial;color:#00233C'>For details, see “Database Initialization Program (DIP)” in Teradata Vantage™ - Database Utilities. The tables are empty until you run a BEGIN QUERY LOGGING or REPLACE QUERY LOGGING request with the required option.</p>\n",
    "\n",
    "<p style = 'font-size:16px;font-family:Arial;color:#00233C'>Below are the major DBQL tables.\n",
    "</p> \n",
    "<table style ='font-size:14px;font-family:Arial;color:#00233C'>\n",
    "    <tr>\n",
    "    <th>Dictionary Table</th>\n",
    "    <th>Purpose</th>\n",
    "    <th>Field Name</th>\n",
    "  </tr>  \n",
    "  <tr>\n",
    "    <td>DBQLExplainTbl</td>\n",
    "    <td>Contains the explain information in an unformatted string without line breaks.</td>  \n",
    "    <td>The EXPLAIN option.</td>\n",
    "  </tr>\n",
    "  <tr>\n",
    "    <td>DBQLogTbl</td>\n",
    "    <td>Is the main table containing information about queries being logged.</td>  \n",
    "    <td>A BEGIN QUERY LOGGING or REPLACE QUERY LOGGING request. No option is required.</td>\n",
    "  </tr>\n",
    "  <tr>\n",
    "    <td>DBQLObjTbl</td>\n",
    "    <td>Stores information on the target objects of the query being logged. One row is logged for each object referenced by the query.</td>  \n",
    "    <td>The OBJECT option.</td>\n",
    "  </tr>\n",
    "  <tr>\n",
    "    <td>DBQLSQLTbl</td>\n",
    "    <td>Stores the full SQL text of the query. One query string may require more than one row.</td>\n",
    "    <td>The WITH SQL option.</td>\n",
    "  </tr>\n",
    "  <tr>\n",
    "    <td>DBQLStepTbl</td>\n",
    "    <td>Stores information about each processing step used to satisfy the query. One row is logged for each step, including parallel steps.</td>  \n",
    "    <td>The WITH STEPINFO option.</td>\n",
    "  </tr> \n",
    "  <tr>\n",
    "    <td>DBQLUtilityTbl</td>\n",
    "    <td>Each row stores information about one completed load/export or Data Stream Architecture job.</td>  \n",
    "    <td>The WITH UTILITYINFO option.</td>\n",
    "  </tr>\n",
    "</table>\n",
    "\n",
    "<p style = 'font-size:16px;font-family:Arial;color:#00233C'>Apart from the tables mentioned above, there are other tables like the DBQLParamTbl, DBQLRuleTbl, DBQLRuleCountTbl, DBQLSummaryTbl, DBQLXMLTbl and DBQLXMLLockTbl. Please find the details of the DBQL tables <a href = 'https://docs.teradata.com/r/Teradata-VantageTM-Database-Administration/March-2019/Tracking-Query-Behavior-with-Database-Query-Logging-Operational-DBAs/DBQL-Tables'>here.</a></p>"
   ]
  },
  {
   "cell_type": "markdown",
   "id": "b38db9ad-5372-418d-a44d-d3e5833349f7",
   "metadata": {},
   "source": [
    "<hr style=\"height:2px;border:none;background-color:#00233C;\">\n",
    "<p style = 'font-size:20px;font-family:Arial;color:#00233C'><b>1. Connect to Vantage</b></p>"
   ]
  },
  {
   "cell_type": "markdown",
   "id": "1363ba9f-7d22-4f7c-903f-2990f3b5ebad",
   "metadata": {},
   "source": [
    "<p style = 'font-size:16px;font-family:Arial;color:#00233C'>You will be prompted to provide the password. Enter your password, press Enter, then use down arrow to go to next cell.</p>"
   ]
  },
  {
   "cell_type": "code",
   "execution_count": null,
   "id": "a8162484-25b9-4cfd-8165-3c8ec9ab7dd6",
   "metadata": {},
   "outputs": [],
   "source": [
    "%connect local, hidewarnings=true"
   ]
  },
  {
   "cell_type": "markdown",
   "id": "301a06b2-61de-462e-ab62-383d554e83bb",
   "metadata": {},
   "source": [
    "<p style = 'font-size:16px;font-family:Arial;color:#00233C'>Setup for execution of notebook. Begin running steps with Shift + Enter keys.</p>"
   ]
  },
  {
   "cell_type": "code",
   "execution_count": null,
   "id": "0b5ab954-394f-485a-b445-0675e3ebee0c",
   "metadata": {},
   "outputs": [],
   "source": [
    "Set query_band='DEMO=Vantage_Query_Log_Analysis_SQL.ipynb;' update for session;"
   ]
  },
  {
   "cell_type": "markdown",
   "id": "ef3bb131-df5d-457c-81e0-ab7b204aa4cf",
   "metadata": {},
   "source": [
    "<hr style=\"height:2px;border:none;background-color:#00233C;\">\n",
    "<p style = 'font-size:20px;font-family:Arial;color:#00233C'><b>2. DBQL Logging Options</b></p>\n",
    "<p style = 'font-size:18px;font-family:Arial;color:#00233C'>When you initially set up logging, before you can use the BEGIN LOGGING statement, you must run the DIPACC script to create the DBC.ACCLogRule macro, which allows you to create logging rules in the DBC.AccLogRuleTbl using BEGIN LOGGING statements.</p>\n",
    "\n",
    "<p style = 'font-size:18px;font-family:Arial;color:#00233C'>By default the below statement is executed on this machine by default.</p>\n",
    "# replace query logging with explain, objects, sql on all;\n",
    "<br>\n",
    "<br>\n",
    "<p style = 'font-size:18px;font-family:Arial;color:#00233C'>In case you want to change the logging options please execute the replace logging command commented in the below cell. In this cell we have added the step table logging options also.</p>"
   ]
  },
  {
   "cell_type": "code",
   "execution_count": null,
   "id": "25560f67-59aa-42ae-8453-c2f9f687b149",
   "metadata": {},
   "outputs": [],
   "source": [
    "replace query logging with explain, objects, stepinfo, sql on demo_user;"
   ]
  },
  {
   "cell_type": "markdown",
   "id": "f1881ba3-5593-4a9a-a05c-ac94a5bf71d6",
   "metadata": {},
   "source": [
    "<p style = 'font-size:18px;font-family:Arial;color:#00233C'>After executing the above command , please use the below query to check the logging options for your user in the DBQLRules table</p>\n"
   ]
  },
  {
   "cell_type": "code",
   "execution_count": null,
   "id": "1445d917-40f4-47e6-98df-71e2b7510899",
   "metadata": {},
   "outputs": [],
   "source": [
    "select * from dbc.dbqlRulesV;"
   ]
  },
  {
   "cell_type": "markdown",
   "id": "e42c2102-a5ad-4139-9fe7-5845429fa5d9",
   "metadata": {},
   "source": [
    "<p style = 'font-size:16px;font-family:Arial;color:#00233C'>Depending on the flag in the above output, 'F' - False or 'T' - True we can check if the DBQL logging is enabled for the user or not. </p>\n",
    "<br>\n",
    "<p style = 'font-size:16px;font-family:Arial;color:#00233C'>Before Teradata Database writes DBQL data to Data Dictionary tables, it holds the data in cache until either:</p>\n",
    "<li style = 'font-size:16px;font-family:Arial;color:#00233C'>The cache is full.</li>\n",
    "<li style = 'font-size:16px;font-family:Arial;color:#00233C'>You end query logging.</li>\n",
    "<li style = 'font-size:16px;font-family:Arial;color:#00233C'>The number of seconds has elapsed that you define in the DBS Control utility field DBQLFlushRate.</li>\n",
    "<p style = 'font-size:16px;font-family:Arial;color:#00233C'>You can select a rate from 1 to 3,600 seconds. However, Teradata recommends a flush rate of at least 10 minutes (600 seconds), which is the default. Less than 10 minutes can impact performance.\n",
    "You flush the DBQL cache manually.</p>\n",
    "<br>\n",
    "<p style = 'font-size:16px;font-family:Arial;color:#00233C'>If you need to flush DBQL caches more quickly than the time defined by DBQLFlushRate, take one of the following actions:</p>\n",
    "\n",
    "<li style = 'font-size:16px;font-family:Arial;color:#00233C'>Reduce the cache size. See Changing DBQL Cache Size.</li>\n",
    "<li style = 'font-size:16px;font-family:Arial;color:#00233C'>Issue the FLUSH QUERY LOGGING request:</li>\n",
    "</p>\n",
    "<p style = 'font-size:16px;font-family:Arial;color:#00233C'>The example flushes the caches for all DBQL and TDWM logs.</p>\n",
    "\n",
    "\n"
   ]
  },
  {
   "cell_type": "code",
   "execution_count": null,
   "id": "a9a49eaf-7435-49a3-8384-19f7ff51a4ff",
   "metadata": {},
   "outputs": [],
   "source": [
    "FLUSH QUERY LOGGING WITH ALL;"
   ]
  },
  {
   "cell_type": "markdown",
   "id": "95ac171d-35a7-47f1-9dd6-6569e8c57276",
   "metadata": {},
   "source": [
    "<p style = 'font-size:16px;font-family:Arial;color:#00233C'>the option \"WITH ALL\" is used to flush all logs.</p>\n",
    "\n",
    "<p style = 'font-size:16px;font-family:Arial;color:#00233C'>There are other flush options like ALL, ALLDBQL, ALLTDWM, DEFAULT, EXPLAIN, LOCK etc.\n",
    "There are various options that can be used in the FLUSH QUERY LOGGING option. Click <a href = 'https://docs.teradata.com/r/Teradata-VantageTM-SQL-Data-Definition-Language-Syntax-and-Examples/January-2021/Logging-Statements/FLUSH-QUERY-LOGGING/FLUSH-QUERY-LOGGING-Syntax-Elements'> here </a>to find these details.</p>\n",
    "\n",
    "\n",
    "\n"
   ]
  },
  {
   "cell_type": "markdown",
   "id": "1b501b1f-3327-4acc-b59e-a2ce39233856",
   "metadata": {},
   "source": [
    "<hr style=\"height:2px;border:none;background-color:#00233C;\">\n",
    "<p style = 'font-size:20px;font-family:Arial;color:#00233C'><b>3. Session Details</b></p>\n",
    "<p style = 'font-size:18px;font-family:Arial;color:#00233C'>First let us get the different sessions and Demos executed</p>\n"
   ]
  },
  {
   "cell_type": "code",
   "execution_count": null,
   "id": "47d879c3-ebd2-47c5-bac5-4ad659eb6bf6",
   "metadata": {},
   "outputs": [],
   "source": [
    "SELECT sessionid,logondateTime, queryband,\n",
    "getquerybandvalue(queryband, 0, 'DEMO') as DemoName, count(*) FROM \n",
    "dbc.qrylog l where  queryband like '%DEMO=%' group by 1,2, 3  order by 1;\n"
   ]
  },
  {
   "cell_type": "markdown",
   "id": "c94f5bd4-db68-443e-affe-f4905a626c8f",
   "metadata": {},
   "source": [
    "<p style = 'font-size:18px;font-family:Arial;color:#00233C'>From the above output please select a session for which we want to go ahead with the further analysis.</p>\n",
    "<br>\n",
    "<hr style=\"height:2px;border:none;background-color:#00233C;\">\n",
    "<p style = 'font-size:20px;font-family:Arial;color:#00233C'><b>4. DBQL Log Table</b></p>\n",
    "<p style = 'font-size:16px;font-family:Arial;color:#00233C'><b>***From the above output please enter the SessionId for which you want to proceed with the Analysis.</b></p>"
   ]
  },
  {
   "cell_type": "code",
   "execution_count": null,
   "id": "8d452452-96c9-4ff3-a59d-1f776c6b84f2",
   "metadata": {},
   "outputs": [],
   "source": [
    "%var SessionIdParam = 2241  ----Enter session id "
   ]
  },
  {
   "cell_type": "code",
   "execution_count": null,
   "id": "3aee1338-ef47-460d-9e69-8cbce10aa8ea",
   "metadata": {},
   "outputs": [],
   "source": [
    "select sessionid, queryband,starttime, querytext, NumSteps,AmpCPUTime, TotalIOCount,\n",
    "cast((firstresptime - starttime second(4)) as decimal(8,2)) as RunSecs from dbc.qrylog \n",
    "\t\twhere sessionid=${SessionIdParam} ---SessionIdParam \n",
    "    order by RunSecs DESC;"
   ]
  },
  {
   "cell_type": "markdown",
   "id": "77a20a0e-a021-4dcf-916c-bbef1e74de9d",
   "metadata": {},
   "source": [
    "<p style = 'font-size:18px;font-family:Arial;color:#00233C'>The above output shows all queries executed in the Session you have selected. The first query is the query taking highest execution time and the last query is the query taking least time to execute.</p>\n",
    "<br>\n",
    "<hr style=\"height:2px;border:none;background-color:#00233C;\">\n",
    "<p style = 'font-size:20px;font-family:Arial;color:#00233C'><b>5. NOS(Native Object Store) fields in DBQL log table</b></p>\n",
    "<p style = 'font-size:16px;font-family:Arial;color:#00233C'>Native Object Store is used to access semi-structured or unstructured data that resides in Amazon AWS-S3 or Microsoft Azure object stores and process it inside Teradata Vantage using a rich set of built-in analytics and functions. All the parallelism of the Vantage Advanced SQL Engine can be brought to bear on processing external data, providing a benefit when analyzing huge volumes. Workload management, security and reliability all provide a solid foundation for bringing such analytic algorithms into production. Using Native Object Store, data scientist will be able to benefit from the advanced analytic capabilities provided on Teradata Vantage.</p>\n",
    "\n",
    "<p style = 'font-size:16px;font-family:Arial;color:#00233C'>The dbc.qrylog view has many other columns which can be used for other Analysis. Like the NOS columns as shown in the query below.</p>\n",
    "<p style = 'font-size:16px;font-family:Arial;color:#00233C'>Replace the <b>SessionIdParam</b> in the below query with the same sessionId we used in the above query. </p>"
   ]
  },
  {
   "cell_type": "code",
   "execution_count": null,
   "id": "c7d3a79b-3702-495b-bdd3-a6e390f675a8",
   "metadata": {},
   "outputs": [],
   "source": [
    "Select SessionId,starttime,NosRecordsSkipped,NosMaxIOWaitTime,NosRecordsReturnedKB,NosPhysReadIO,NosFilesSkipped,\n",
    "NosTables,NosTotalIOWaitTime,NosCPUTime,NosRecordsReturned,NosPhysReadIOKB,NosFiles from dbc.dbqlogtbl \n",
    "where sessionid=${SessionIdParam}---SessionIdParam\n",
    "order by 2,1;"
   ]
  },
  {
   "cell_type": "markdown",
   "id": "8e9d074c-1695-440d-afa5-b898070a1449",
   "metadata": {},
   "source": [
    "<p style = 'font-size:16px;font-family:Arial;color:#00233C'>The above output shows all queries executed in the Session using the NOS functionality. Below are the details of the various fields related to NOS in the DBQLogtbl.</p>\n",
    "<table style ='font-size:14px;font-family:Arial;color:#00233C'>\n",
    "    <tr>\n",
    "    <th>Field Name</th>\n",
    "    <th>Explanation</th>\n",
    "  </tr>\n",
    "  <tr>\n",
    "    <td>NosRecordsSkipped</td>  \n",
    "    <td>Number of Native Object Store records skipped</td>\n",
    "  </tr>\n",
    "  <tr>\n",
    "    <td>NosTables</td>\n",
    "    <td>Total number of Native Object Store tables accessed.</td>  \n",
    "  </tr>\n",
    "  <tr>\n",
    "    <td>NosFilesSkipped</td>\n",
    "    <td>Number of Native Object Store files that were partially or fully skipped due to errors.</td>\n",
    "  </tr>\n",
    "  <tr>\n",
    "    <td>NosFiles</td>\n",
    "    <td>Number of Native Object Store files reads attempted.</td>\n",
    "  </tr>  \n",
    "  <tr>\n",
    "    <td>NosTotalIOWaitTime</td>\n",
    "    <td>Total of the Native Object Store IO wait time across all steps</td>\n",
    "  </tr>\n",
    "  <tr>\n",
    "    <td>NosPhysReadIO</td>\n",
    "    <td>Total physical read IOs for Native Object Store files</td>\n",
    "  </tr>\n",
    "  <tr>\n",
    "    <td>NosPhysReadIOKB</td>\n",
    "    <td>Total physical read IO KBs for Native Object Store files</td>\n",
    "  </tr> \n",
    "  <tr>\n",
    "    <td>NosRecordsRe-turnedKB</td>\n",
    "    <td>Number of KBs in Native Object Store records returned</td>\n",
    "  </tr>\n",
    "  <tr>\n",
    "    <td>NosMaxIOWaitTime</td>\n",
    "    <td>Max Native Object Store IO wait time for any individual IO. Float-ing point field. In seconds.</td>\n",
    "  </tr>\n",
    "  <tr>\n",
    "    <td>NosCPUTime</td>\n",
    "    <td>CPU time for reading Native Object Store files. Floating point. Units of seconds.</td>\n",
    "  </tr>  \n",
    "</table>\n",
    "</p>\n",
    "<hr style=\"height:2px;border:none;background-color:#00233C;\">\n",
    "<p style = 'font-size:20px;font-family:Arial;color:#00233C'><b>6. DBQL log table Details</b></p>\n",
    "<p style = 'font-size:16px;font-family:Arial;color:#00233C'>The dbc.qrylog view is a view on the dbqlogtbl which has many different columns. Default rows are stored in the DBC.DBQLogTbl table, the foundation of the DBQL feature. The default is one default row per query.</p>\n",
    "\n",
    "<p style = 'font-size:16px;font-family:Arial;color:#00233C'>The major fields of the DBQLogTbl provide general query information that is usually adequate for investigating a query that is interfering with performance. When no options are specified, the default fileds that are populated are:</p>\n",
    "\n",
    "<li style = 'font-size:16px;font-family:Arial;color:#00233C'>User ID and user name under which the session being logged was initiated</li>\n",
    "<li style = 'font-size:16px;font-family:Arial;color:#00233C'>Unique ID for the process, session, and host (client) connection</li>\n",
    "<li style = 'font-size:16px;font-family:Arial;color:#00233C'>Account string, expanded as appropriate, that was current when the query completed</li>\n",
    "<li style = 'font-size:16px;font-family:Arial;color:#00233C'>First 200 characters of the query SQL statement</li>\n",
    "<li style = 'font-size:16px;font-family:Arial;color:#00233C'>CPU and I/O statistics</li>\n",
    "<li style = 'font-size:16px;font-family:Arial;color:#00233C'>Default database name that was current when the query completed</li>\n",
    "</p>\n",
    "<p style = 'font-size:16px;font-family:Arial;color:#00233C'>Please find the details of the columns in the DBQL table <a href = 'https://docs.teradata.com/r/Teradata-Database-Administration/April-2018/Tracking-Query-Behavior-with-Database-Query-Logging-Operational-DBAs/Main-Log-Table-DBQLogTbl'>here</a>. Execute the below query to check the column details from the DBQLogTbl</a></p>"
   ]
  },
  {
   "cell_type": "code",
   "execution_count": null,
   "id": "f26258b4-433e-4ace-b588-a8ab50fe4a21",
   "metadata": {},
   "outputs": [],
   "source": [
    "select ColumnName, ColumnFormat, ColumnType, ColumnLength from dbc.ColumnsV where tablename = 'DBQLogtbl' order by ColumnName"
   ]
  },
  {
   "cell_type": "markdown",
   "id": "e6bdb6f7-93ea-46e2-b565-1d74baa4e7ad",
   "metadata": {},
   "source": [
    "<hr style=\"height:2px;border:none;background-color:#00233C;\">\n",
    "<p style = 'font-size:20px;font-family:Arial;color:#00233C'><b>7. Check Query performance using DBQL log table</b></p>\n",
    "<p style = 'font-size:16px;font-family:Arial;color:#00233C'>The DBQL table is used to check the performance of the queries. Let's check the queries from the session we are analyzing above.</p>"
   ]
  },
  {
   "cell_type": "code",
   "execution_count": null,
   "id": "b9e10571-9990-4699-945e-2c2d226ede61",
   "metadata": {},
   "outputs": [],
   "source": [
    "select TOP 5 queryid, cast((firstresptime - starttime second(4)) as decimal(8,2)) as RunSecs, starttime, querytext, NumSteps,AmpCPUTime, TotalIOCount\n",
    " from dbc.qrylog \n",
    "where sessionid=${SessionIdParam}---SessionIdParam\n",
    "order by Runsecs desc; "
   ]
  },
  {
   "cell_type": "markdown",
   "id": "55db30de-8e3d-4d48-a806-690d08ab26d0",
   "metadata": {
    "tags": []
   },
   "source": [
    "<p style = 'font-size:18px;font-family:Arial;color:#00233C'>The above output shows all queries executed in the Session you have selected. The first query is the query taking highest execution time and the last query is the query taking least time to execute.</p>\n",
    "<p style = 'font-size:18px;font-family:Arial;color:#00233C'>There are different views created on the DBQLogTbl which can be used for different purpose.</p>\n",
    "<table style ='font-size:14px;font-family:Arial;color:#00233C'>\n",
    "    <tr>\n",
    "    <th>View Name</th>\n",
    "    <th>Description</th>\n",
    "  </tr>\n",
    "  <tr>\n",
    "    <td>QryLog[V]</td>  \n",
    "    <td>Contains default DBQL information for a query</td>\n",
    "  </tr>\n",
    "  <tr>\n",
    "    <td>QryLogTDWM[V]</td>\n",
    "    <td>Teradata Dynamic Workload Management view of the main log table, DBQLLogTbl.</td>  \n",
    "  </tr>\n",
    "  <tr>\n",
    "    <td>QryLogFeatureUseJSON[V]</td>\n",
    "    <td>Provides a view into the FeatureUsage column of DBQLogTbl. This view uses the system function TD_SYSFNLIB.TD_DBQLFUL to convert the FeatureUsage bitmap column into a JSON document with a list of features used by particular requests</td>\n",
    "  </tr>\n",
    "  <tr>\n",
    "    <td>QryLogFeatureUseCountV</td>\n",
    "    <td>view is populated if the WITH FEATUREINFO option for BEGIN/REPLACE QUERY LOGGING and this view (QryLogFeatureUseCountV) is included in a request. QryLogFeatureUseCountV provides a view into the FeatureUsage column of DBQLogTbl and the QryLogFeatureListV view.</td>\n",
    "  </tr>  \n",
    "</table>\n",
    "<br>\n",
    "<hr style=\"height:2px;border:none;background-color:#00233C;\">\n",
    "<p style = 'font-size:20px;font-family:Arial;color:#00233C'><b>8. DBQL Step table usage</b></p>\n",
    "<p style = 'font-size:16px;font-family:Arial;color:#00233C'>We will further continue the analysis by checking the step details of the longest running query by replacing the parameter <b>SampleQueryId</b> with the actual QueryId from the output above.</p>\n",
    "<p style = 'font-size:16px;font-family:Arial;color:#00233C'><b>***From the above output please enter the SampleQueryId(QueryId) for which you want to proceed with the Analysis.</b></p>"
   ]
  },
  {
   "cell_type": "code",
   "execution_count": null,
   "id": "a8edd7a1-36e7-414a-89b7-3fd053efc6a0",
   "metadata": {},
   "outputs": [],
   "source": [
    "%var SampleQueryId = 307191321521058977"
   ]
  },
  {
   "cell_type": "code",
   "execution_count": null,
   "id": "3934e21d-8144-4b44-9fd1-0c16e709fa73",
   "metadata": {},
   "outputs": [],
   "source": [
    "select\n",
    "ql.queryid, qls.StepStartTime,\n",
    "CAST( EXTRACT (SECOND FROM FirstRespTime) + (EXTRACT (MINUTE FROM FirstRespTime) * 60 ) + (EXTRACT (HOUR FROM FirstRespTime) *60*60 ) + (86400 * (CAST ( FirstRespTime AS DATE) - CAST ( starttime AS DATE) ) )\n",
    "- (EXTRACT (SECOND FROM starttime) + (EXTRACT (MINUTE FROM starttime) * 60 ) + (EXTRACT (HOUR FROM starttime) *60*60 ) ) AS INTEGER) QryRunSecs , \n",
    "CAST(ql.AmpCpuTime AS DECIMAL(18,3)) QryCpu , \n",
    "ql.totaliocount  QryIO,\n",
    "ql.spoolusage Qryspool,\n",
    "qls.StepLev1Num + .1 * qls.StepLev2Num (Decimal(4,1)) as sNum,\n",
    "qls.StepName as Stp,\n",
    "\n",
    "\n",
    "/* run time metrics */\n",
    "qls.EstProcTime,\n",
    "CAST( EXTRACT (SECOND FROM StepStopTime) + (EXTRACT (MINUTE FROM StepStopTime) * 60 ) + (EXTRACT (HOUR FROM StepStopTime) *60*60 ) + (86400 * (CAST ( StepStopTime AS DATE) - CAST ( StepStartTime AS DATE) ) )\n",
    "- (EXTRACT (SECOND FROM StepStartTime) + (EXTRACT (MINUTE FROM StepStartTime) * 60 ) + (EXTRACT (HOUR FROM StepStartTime) *60*60 ) ) AS INTEGER)  StepSecs,\n",
    "\n",
    "/* cpu metrics */\n",
    " ZEROIFNULL(CAST(qls.EstCPUCost AS DECIMAL(38,1)) ) EstCpu , \n",
    " CAST(qls.CPUTIME AS DECIMAL(38,1)) ActCpu,\n",
    "CAST( (qls.maxampcputime * qls.numofactiveamps) AS DECIMAL(38,1))  StepImpCpu , \n",
    "\n",
    "/* IO metrics */\n",
    "ZEROIFNULL(qls.EstIOCost) EstIO,\n",
    "qls.IOcount\n",
    ", qls.MaxAmpIO* qls.NumOfActiveAmps StepImpIO ,  \n",
    "\n",
    "/* PJI metrics */\n",
    "ZEROIFNULL(CAST ( qls.CPUTIME * 1000.0 / NULLIFZERO(qls.IOCOUNT ) AS DECIMAL(38,1) ) )StepPJI,\n",
    "\n",
    "/* Spool metrics */\n",
    "qls.SpoolUsage/1000000 StepSpool_M , \n",
    "qls.MaxAmpSpool * qls.NumOfActiveAmps / 1000000 StepImpSpoolMB , \n",
    "\n",
    "/* PE  metrics */\n",
    "ZEROIFNULL(ActCpu/NULLIFZERO(StepImpCpu)) StepPE,\n",
    "\n",
    "/* row estimates  */  \n",
    "qls.EstRowCount,\n",
    "qls.RowCount,\n",
    "qls.RowCount/nullifzero(qls.EstRowCount) as RowVsEst,\n",
    "qls.RowsWComprColumns/nullifzero(qls.RowCount) as CompPct,\n",
    "\n",
    "/* Skew metrics */\n",
    "(1- qls.CpuTime/ nullifzero(qls.NumOfActiveAmps*qls.maxampcputime)) * 100  as CpuSkewPct, \n",
    "(1- qls.IOCount/ nullifzero(qls.NumOfActiveAmps*qls.maxampio)) * 100  as IOSkewPct, \n",
    "(1-qls.spoolusage/nullifzero(qls.NumOfActiveAmps*qls.MaxAmpSpool)) * 100 as SpoolSkewPct,\n",
    "qls.numcombinedpartitions\n",
    "\n",
    "FROM dbc.dbqlogtbl ql\n",
    "INNER JOIN dbc.dbqlsteptbl qls\n",
    "ON  ql.queryid = qls.queryid\n",
    "AND ql.procid = qls.procid\n",
    "WHERE ql.queryid = ${SampleQueryId} ---SampleQueryId\n",
    "order by qls.queryid,sNum                ;"
   ]
  },
  {
   "cell_type": "markdown",
   "id": "b9e0136c-6be9-430f-98a8-c91815c9fdd7",
   "metadata": {
    "tags": []
   },
   "source": [
    "<p style = 'font-size:16px;font-family:Arial;color:#00233C'>The above output shows all the steps for the query we are analyzing. The step details contain the Runsec, AmpCPUTime, IOCount, Spool along with other details, used for each step.</p>\n",
    "<br>\n",
    "<hr style=\"height:2px;border:none;background-color:#00233C;\">\n",
    "<p style = 'font-size:20px;font-family:Arial;color:#00233C'><b>9. DBQL SQL table usage</b></p>\n",
    "<p style = 'font-size:16px;font-family:Arial;color:#00233C'>The DBQLogTbl logs only partial text of the Query which is executed. In order to get the complete text of the query we will have to check the SQL text in the DBQLSQLTbl. The below SQL will show the complete test of the query. </p>"
   ]
  },
  {
   "cell_type": "code",
   "execution_count": null,
   "id": "f7334a52-a17b-4f8d-a7b4-9c23bb03f6ad",
   "metadata": {},
   "outputs": [],
   "source": [
    "Select QueryId, sqltextinfo from dbc.dbqlsqltbl where queryid = ${SampleQueryId} ---SampleQueryId"
   ]
  },
  {
   "cell_type": "markdown",
   "id": "27ed1fa7-2af5-4eca-8d00-140a2558c14b",
   "metadata": {
    "tags": []
   },
   "source": [
    "<p style = 'font-size:18px;font-family:Arial;color:#00233C'>Double Click on the cell showing the SQL Text to check the complete SQL text of the Query.</p>\n",
    "<p style = 'font-size:18px;font-family:Arial;color:#00233C'>The above output shows the complete text of the Query executed. Further to check the details of each step we can check the explain plan of the query using the DBQLExplainTbl as shown in the query below .</p>\n",
    "<br>\n",
    "<hr style=\"height:2px;border:none;background-color:#00233C;\">\n",
    "<p style = 'font-size:20px;font-family:Arial;color:#00233C'><b>10. DBQL Explain table usage</b></p>\n",
    "<p style = 'font-size:16px;font-family:Arial;color:#00233C'>Run the below query by replacing the parameter <b>SampleQueryId</b> with the actual QueryId from the output above.</p>"
   ]
  },
  {
   "cell_type": "code",
   "execution_count": null,
   "id": "d3a524cc-c2cd-41be-8d5e-a3b744862a84",
   "metadata": {},
   "outputs": [],
   "source": [
    "Select QueryId, ExplainText from dbc.dbqlexplaintbl where queryid = ${SampleQueryId} ---SampleQueryId\n",
    ";"
   ]
  },
  {
   "cell_type": "markdown",
   "id": "53cf267d-ac3c-4be6-b91f-2d60897a4505",
   "metadata": {
    "tags": []
   },
   "source": [
    "<p style = 'font-size:18px;font-family:Arial;color:#00233C'>Double Click on the cell showing the Explain Text to check the complete Explain Plan of the Query.</p>\n",
    "<br>\n",
    "<hr style=\"height:2px;border:none;background-color:#00233C;\">\n",
    "<p style = 'font-size:20px;font-family:Arial;color:#00233C'><b>11. Information on other DBQL Tables and other Documentation Links</b></p>\n",
    "<p style = 'font-size:16px;font-family:Arial;color:#00233C'>Apart from these main tables like the DBQL log, Step and Explain tables, other DBQL tables can also be used similarly to check the overall performance of the system. Click <a href = 'https://docs.teradata.com/r/Teradata-VantageTM-Database-Administration/March-2019/Tracking-Query-Behavior-with-Database-Query-Logging-Operational-DBAs/DBQL-Tables'>here</a> for additional Information on different DBQL Tables,</p>\n",
    "    \n",
    "<p style = 'font-size:16px;font-family:Arial;color:#00233C'>Below are some links for the documents</p>\n",
    "\n",
    "<table style ='font-size:14px;font-family:Arial;color:#00233C'> \n",
    "  <tr>\n",
    "    <th>Link</th>\n",
    "    <th>Description</th>\n",
    "    \n",
    "  </tr>\n",
    "  <tr>\n",
    "    <td><a href = 'https://docs.teradata.com/'>TD Docs (HTML)</a></td>\n",
    "    <td>Teradata documentation (HTML).</td>  \n",
    "    \n",
    "  </tr>\n",
    "  <tr>\n",
    "    <td><a href = 'http://www.info.teradata.com'>TD Docs (PDF)</a></td>\n",
    "    <td>Teradata documentation (HTML).</td>  \n",
    "    \n",
    "  </tr>\n",
    "  <tr>\n",
    "    <td><a href = 'https://access.teradata.com'>TD Docs One Stop Source</a></td>\n",
    "    <td>One stop source for Teradata community, product information, and software downloads.\n",
    "Log in for customer access to:\n",
    "        Support\n",
    "        Software updates\n",
    "        Knowledge articles\n",
    "        Orange Books</td>  \n",
    "    \n",
    "  </tr>\n",
    "  <tr>\n",
    "    <td><a href = 'http://www.teradata.com/products-and-services/TEN'>TEN</a></td>\n",
    "    <td>Teradata education network.</td>  \n",
    "    \n",
    "  </tr>\n",
    "  <tr>\n",
    "    <td><a href = 'https://community.teradata.com'>Teradata Community</a></td>\n",
    "    <td>Link to Teradata community (also available from the customer portal).</td>  \n",
    "    \n",
    "  </tr>  \n",
    "</table>\n"
   ]
  },
  {
   "cell_type": "markdown",
   "id": "2f9af722-8902-4ff4-8a0c-47de1b0d9b53",
   "metadata": {},
   "source": [
    "<footer style=\"padding-bottom:35px; background:#f9f9f9; border-bottom:3px solid #00233C\">\n",
    "    <div style=\"float:left;margin-top:14px\">ClearScape Analytics™</div>\n",
    "    <div style=\"float:right;\">\n",
    "        <div style=\"float:left; margin-top:14px\">\n",
    "            Copyright © Teradata Corporation - 2023. All Rights Reserved\n",
    "        </div>\n",
    "    </div>\n",
    "</footer>"
   ]
  }
 ],
 "metadata": {
  "kernelspec": {
   "display_name": "Teradata SQL",
   "language": "Teradata SQL",
   "name": "teradatasql"
  },
  "language_info": {
   "codemirror_mode": "Teradata SQL",
   "file_extension": ".tdrs",
   "mimetype": "application/vnd.teradata.resultset",
   "name": "Teradata SQL",
   "nbconvert_exporter": "",
   "pygments_lexer": "",
   "version": "16.20"
  }
 },
 "nbformat": 4,
 "nbformat_minor": 5
}
