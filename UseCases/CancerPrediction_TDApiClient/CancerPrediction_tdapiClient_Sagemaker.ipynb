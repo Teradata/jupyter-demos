{
 "cells": [
  {
   "cell_type": "markdown",
   "id": "7da92d0f-800f-447f-8729-7c9876194cce",
   "metadata": {},
   "source": [
    "<header>\n",
    "   <p  style='font-size:36px;font-family:Arial;color:#F0F0F0; background-color: #00233c; padding-left: 20pt; padding-top: 20pt;padding-bottom: 10pt; padding-right: 20pt;'>\n",
    "       Cancer Prediction using Sagemaker XGBoost estimator with tdapiclient\n",
    "  <br>\n",
    "       <img id=\"teradata-logo\" src=\"https://storage.googleapis.com/clearscape_analytics_demo_data/DEMO_Logo/teradata.svg\" alt=\"Teradata\" style=\"width: 125px; height: auto; margin-top: 20pt;\">\n",
    "    </p>\n",
    "</header>"
   ]
  },
  {
   "cell_type": "markdown",
   "id": "c3209daa-97fa-4d98-9c4d-e20aafcbb6bb",
   "metadata": {},
   "source": [
    "<p style = 'font-size:18px;font-family:Arial;color:#00233C'><b>Introduction</b></p>\n",
    "<p style = 'font-size:16px;font-family:Arial;color:#00233C'>Worldwide, breast cancer is the most common type of cancer in women and the second highest in terms of mortality rates. Diagnosis of breast cancer is performed when an abnormal lump is found (from self-examination or x-ray) or a tiny speck of calcium is seen (on an x-ray). After a suspicious lump is found, the doctor will conduct a diagnosis to determine whether it is cancerous and, if so, whether it has spread to other parts of the body. Vantage Clearscape Analytics provides us various machine learning techniques to develop predictive models for cancer diagnosis. Features are computed from a digitized image of a fine needle aspirate (FNA) of a breast mass, using descriptions that define the characteristics of the cell nuclei.</p> \n",
    "<p style = 'font-size:16px;font-family:Arial;color:#00233C'>Amazon SageMaker is a platform for data scientists to train and deploy machine learning models as a service on the Amazon cloud accessible by address 'endpoints'. With the Teradata Vantage API_Request feature directly from Vantage, we can connect to these AWS endpoints through a function to do real-time scoring on data. Here, an Amazon SageMaker endpoint is used to orchestrate Extreme Gradient (XG) Boost model training and deploy the solution’s ML model. XGBoost is an open-source library providing access to a highly efficient implementation of the gradient boosting algorithm, an ensemble learning method using regression, and a loss function for model tuning to prevent overfitting.</p>\n",
    "\n",
    "<p style = 'font-size:18px;font-family:Arial;color:#00233C'><b>Business Values</b></p>\n",
    "<li style = 'font-size:16px;font-family:Arial;color:#00233C'>Comprehensive health predictions and a reduced number of false positive and false negative results.</li>\n",
    "<li style = 'font-size:16px;font-family:Arial;color:#00233C'>Reduced cost to patients and hospitals caused by cancer.</li>\n",
    "<li style = 'font-size:16px;font-family:Arial;color:#00233C'>Identify patterns and symptoms leading to breast cancer to ensure early intervention.</li>\n",
    "<li style = 'font-size:16px;font-family:Arial;color:#00233C'>Advanced research and development stemming from the results of the data and models produced.</li></p>\n",
    "<p style = 'font-size:18px;font-family:Arial;color:#00233C'><b>Why Vantage?</b></p>\n",
    "<p style = 'font-size:16px;font-family:Arial;color:#00233C'>Machine Learning and AI have a proven track record of improving patient outcomes and well-being across the entire healthcare industry. Traditional approaches to data preparation, model development, and deployment rely on manual, error-prone processes that prevent enterprises from realizing the true value of these tools and techniques.</p>\n",
    " \n",
    "<p style = 'font-size:16px;font-family:Arial;color:#00233C'>However, Vantage provides these same proven data preparation and machine learning capabilities, integrated as native ClearScape Analytic functions.  This allows organizations to drastically reduce data preparation, model development, and testing time, while allowing for much more frequent and iterative testing and tuning to ensure maximum life-critical accuracy.</p>\n",
    " \n",
    "<p style = 'font-size:16px;font-family:Arial;color:#00233C'>Furthermore, the exact same development pipeline can be deployed seamlessly to production, eliminating the traditional development-to-deployment gap in the ML and AI industry.</p>"
   ]
  },
  {
   "cell_type": "markdown",
   "id": "9cf777ed-e776-46e0-982a-b2e2025a019a",
   "metadata": {
    "tags": []
   },
   "source": [
    "<hr style=\"height:2px;border:none;background-color:#00233C;\">\n",
    "\n",
    "<p style = 'font-size:20px;font-family:Arial;color:#00233C'><b>1. Initial setup</b></p>\n",
    "<p style = 'font-size:18px;font-family:Arial;color:#00233C'><b>Install packages</b></p>\n",
    "<p style = 'font-size:16px;font-family:Arial;color:#00233C'>In the section, we will install the sagemaker and tdapiclient packages along with the necessary packages needed for the tdapiclient package.</p>"
   ]
  },
  {
   "cell_type": "code",
   "execution_count": null,
   "id": "ecc1b928-6991-4ca1-94c3-f5fe27f49882",
   "metadata": {},
   "outputs": [],
   "source": [
    "%%capture\n",
    "# # '%%capture' suppresses the display of installation steps of the following packages\n",
    "!pip install sagemaker\n",
    "!pip install --upgrade numpy pyopenssl\n",
    "!pip install tdapiclient \n",
    "!pip install google-cloud-aiplatform"
   ]
  },
  {
   "cell_type": "markdown",
   "id": "93d7f01f-572b-4aa2-9cf0-6a1f9270bd04",
   "metadata": {},
   "source": [
    "<div class=\"alert alert-block alert-info\">\n",
    "<p style = 'font-size:16px;font-family:Arial;color:#00233C'><b>Note: </b><i>The above statements may need to be uncommented if you run the notebooks on a platform other than ClearScape Analytics Experience that does not have the libraries installed. If you uncomment those installs, be sure to restart the kernel after executing those lines to bring the installed libraries into memory. The simplest way to restart the Kernel is by typing zero zero: <b> 0 0</b></i></p>\n",
    "</div>"
   ]
  },
  {
   "cell_type": "markdown",
   "id": "641ac7aa-e4f1-4105-96ba-f101969d6016",
   "metadata": {},
   "source": [
    "<p style = 'font-size:18px;font-family:Arial;color:#00233C'><b>Setting up AWS Sagemaker credentials</b></p>"
   ]
  },
  {
   "cell_type": "markdown",
   "id": "15909b2d-40c0-450a-9ded-a4beaf4f21a1",
   "metadata": {},
   "source": [
    "<div class=\"alert alert-block alert-warning\">\n",
    "<p style = 'font-size:16px;font-family:Arial;color:#00233C'><b>Note: </b><i>This notebook cannot be executed if you do not have an AWS account with the necessary permission for AWS Sagemaker. Information regarding the AWS account and the necessary permissions is given below</i></p>\n",
    "</div>"
   ]
  },
  {
   "cell_type": "markdown",
   "id": "1259f196-6d31-4df8-bb8f-00c28ef883ce",
   "metadata": {},
   "source": [
    "<p style = 'font-size:16px;font-family:Arial;color:#00233C'><b>Required AWS Credentials:</b>\n",
    "<li style = 'font-size:16px;font-family:Arial;color:#00233C'><b>AWS_ACCESS_KEY_ID:</b> Specifies AWS Access Key ID.</li>\n",
    "<li style = 'font-size:16px;font-family:Arial;color:#00233C'><b>AWS_SECRET_ACCESS_KEY:</b> Specifies AWS Secret Access Key.</li>\n",
    "<li style = 'font-size:16px;font-family:Arial;color:#00233C'><b>AWS_REGION:</b> Specifies the AWS region.\n",
    "If this is defined, it overrides the values in the environment variable AWS_DEFAULT_REGION.</li></p>\n",
    "\n",
    "<p style = 'font-size:16px;font-family:Arial;color:#00233C'><b>How to Get These Inputs:</b>\n",
    "\n",
    "<p style = 'font-size:16px;font-family:Arial;color:#00233C'>AWS_ACCESS_KEY_ID, AWS_SECRET_ACCESS_KEY, and AWS_REGION: These credentials are related to your AWS account and subscription. If you already have an AWS account and an active subscription, you can find these credentials in the AWS portal. Here's how:\n",
    "    \n",
    "<ul style=\"font-size: 16px; font-family: Arial;;color:#00233C\">\n",
    "            <li><a href=\"https://docs.aws.amazon.com/IAM/latest/UserGuide/id_credentials_access-keys.html\">Find your AWS Access Key ID</a></li>\n",
    "            <li><a href=\"https://docs.aws.amazon.com/IAM/latest/UserGuide/id_credentials_access-keys.html\">Find your AWS Secret Access Key</a></li>\n",
    "            <li><a href=\"https://docs.aws.amazon.com/awsconsolehelpdocs/latest/gsg/select-region.html\">Select a AWS Region</a></li>\n",
    "        </ul>\n",
    "</p>\n",
    "\n",
    "<p style = 'font-size:16px;font-family:Arial;color:#00233C'>We will also have to create a S3 bucket where we will be uploading our code and artifacts when using the XGBoost functions. If you already have a bucket created you can use the same else to create a new bucket check this <a href=\"https://docs.aws.amazon.com/AmazonS3/latest/userguide/creating-bucket.html\">link</a>.</p> \n",
    "\n",
    "<p style = 'font-size:16px;font-family:Arial;color:#00233C'>Since we are going to use the AWS account for Sagemaker access, we will need specific permission for the user to use Sagemaker. For granting access for Sagemaker please check the the link <a href= \"https://docs.aws.amazon.com/sagemaker/latest/dg/api-permissions-reference.html\">Amazon SageMaker API Permissions</a></p>\n",
    "<p style = 'font-size:16px;font-family:Arial;color:#00233C'>We can also create a new role using the<a href= \" https://docs.aws.amazon.com/sagemaker/latest/dg/role-manager.html\">  AWS Sagemaker Role Manager </a></p>    \n",
    "   \n",
    "</p>\n",
    "\n",
    "\n",
    "<p style = 'font-size:16px;font-family:Arial;color:#00233C'>In case you do not have an AWS account you can create one by following the steps mentioned <a href=\"https://aws.amazon.com/free/?trk=2738afd4-9401-4d18-8e3e-1b1c194dea07&sc_channel=ps&ef_id=EAIaIQobChMIkbKO_a7NhAMV1aJmAh28rQdyEAAYASAAEgL26PD_BwE:G:s&s_kwcid=AL!4422!3!509606977827!p!!g!!aws%20amazon%20com!12618685604!120373367976&gclid=EAIaIQobChMIkbKO_a7NhAMV1aJmAh28rQdyEAAYASAAEgL26PD_BwE&all-free-tier.sort-by=item.additionalFields.SortRank&all-free-tier.sort-order=asc&awsf.Free%20Tier%20Types=*all&awsf.Free%20Tier%20Categories=*all\">here</a>.</p> "
   ]
  },
  {
   "cell_type": "markdown",
   "id": "cc427200-7874-4676-a658-b1aa404b58f4",
   "metadata": {
    "tags": []
   },
   "source": [
    "<hr style=\"height:2px;border:none;background-color:#00233C;\">\n",
    "\n",
    "<p style = 'font-size:20px;font-family:Arial;color:#00233C'><b>2. Connect to Vantage</b></p>"
   ]
  },
  {
   "cell_type": "markdown",
   "id": "deb23ea4-1170-4321-b53b-5a445907c7de",
   "metadata": {},
   "source": [
    "<p style = 'font-size:16px;font-family:Arial;color:#00233C'>In the section, we import the required libraries and set environment variables and environment paths (if required).</p>"
   ]
  },
  {
   "cell_type": "code",
   "execution_count": null,
   "id": "3a12484f-f339-4ff9-8335-8c2e5b4ba56f",
   "metadata": {},
   "outputs": [],
   "source": [
    "# Import necessary libraries.\n",
    "import warnings\n",
    "warnings.filterwarnings('ignore')\n",
    "warnings.simplefilter(action='ignore', category=DeprecationWarning)\n",
    "warnings.simplefilter(action='ignore', category=RuntimeWarning)\n",
    "warnings.simplefilter(action='ignore', category=FutureWarning)\n",
    "\n",
    "import getpass\n",
    "import sagemaker\n",
    "import tdapiclient \n",
    "\n",
    "from tdapiclient import create_tdapi_context, remove_tdapi_context,TDApiClient\n",
    "from teradataml import *\n",
    "import pandas as pd\n",
    "import numpy as np\n",
    "from teradatasqlalchemy.types import *\n",
    "import os\n",
    "from sklearn.metrics import confusion_matrix, ConfusionMatrixDisplay\n",
    "import matplotlib.pyplot as plt\n",
    "display.max_rows = 5\n",
    "configure.val_install_location = \"val\""
   ]
  },
  {
   "cell_type": "markdown",
   "id": "b59de0d0-ffb5-4368-8dec-264c79793901",
   "metadata": {},
   "source": [
    "<p style = 'font-size:16px;font-family:Arial;color:#00233C'>We will be prompted to provide the password. We will enter the password, press the Enter key, and then use the down arrow to go to the next cell. Begin running steps with Shift + Enter keys.</p>"
   ]
  },
  {
   "cell_type": "code",
   "execution_count": null,
   "id": "5bfb09f1-0d91-457d-859a-f30cc61da55e",
   "metadata": {},
   "outputs": [],
   "source": [
    "%run -i ../startup.ipynb\n",
    "eng = create_context(host = 'host.docker.internal', username='demo_user', password = password)\n",
    "print(eng)"
   ]
  },
  {
   "cell_type": "code",
   "execution_count": null,
   "id": "3cc5596f-cfce-45ed-a3ce-58c1aa3c5114",
   "metadata": {},
   "outputs": [],
   "source": [
    "%%capture\n",
    "execute_sql('''SET query_band='DEMO=CancerPrediction_tdapiClient_Sagemaker.ipynb;' UPDATE FOR SESSION; ''')"
   ]
  },
  {
   "cell_type": "markdown",
   "id": "be3038f7-b693-4a46-a69f-45183e78c270",
   "metadata": {},
   "source": [
    "<hr style=\"height:2px;border:none;background-color:#00233C;\">\n",
    "\n",
    "<p style = 'font-size:20px;font-family:Arial;color:#00233C'><b>3. Getting Data for This Demo</b></p>\n",
    "<p style = 'font-size:16px;font-family:Arial;color:#00233C'>We have provided data for this demo on cloud storage. We have the option of either running the demo using foreign tables to access the data without using any storage on our environment or downloading the data to local storage, which may yield somewhat faster execution. However, we need to consider available storage. There are two statements in the following cell, and one is commented out. We may switch which mode we choose by changing the comment string.</p>   \n"
   ]
  },
  {
   "cell_type": "code",
   "execution_count": null,
   "id": "b1ffda4c-0aaf-47ed-8f12-29bdf084e8ac",
   "metadata": {},
   "outputs": [],
   "source": [
    "# %run -i ../run_procedure.py \"call get_data('DEMO_CancerPrediction_cloud');\"\n",
    " # Takes about 50 seconds\n",
    "%run -i ../run_procedure.py \"call get_data('DEMO_CancerPrediction_local');\"\n",
    " # Takes about 2 minute 30 secs"
   ]
  },
  {
   "cell_type": "markdown",
   "id": "774c0cd7-24cf-497d-8e18-0b1f2a95d781",
   "metadata": {},
   "source": [
    "<p style = 'font-size:16px;font-family:Arial;color:#00233C'>Optional step – We should execute the below step only if we want to see the status of databases/tables created and space used.</p>"
   ]
  },
  {
   "cell_type": "code",
   "execution_count": null,
   "id": "fc7c4f28-983f-442e-9b6e-ae6b3172356b",
   "metadata": {},
   "outputs": [],
   "source": [
    "%run -i ../run_procedure.py \"call space_report();\""
   ]
  },
  {
   "cell_type": "markdown",
   "id": "4088b5cf-b8da-41e7-8903-ae80af3f3f2d",
   "metadata": {},
   "source": [
    "<hr style=\"height:2px;border:none;background-color:#00233C;\">\n",
    "\n",
    "<p style = 'font-size:20px;font-family:Arial;color:#00233C'><b>4. Analyze the raw data set</b></p>\n",
    "\n",
    "<p style = 'font-size:16px;font-family:Arial;color:#00233C'>Let us start by creating a teradataml dataframe. A \"Virtual DataFrame\" that points directly to the dataset in Vantage.</p>\n",
    "\n"
   ]
  },
  {
   "cell_type": "code",
   "execution_count": null,
   "id": "f00f69bf-6b1a-4a62-b2ee-6f0109fb9a86",
   "metadata": {},
   "outputs": [],
   "source": [
    "# Creating a teradataml dataframe using the table.\n",
    "df = DataFrame(in_schema(\"DEMO_CancerPrediction\",\"Patient_Data\"))\n",
    "df"
   ]
  },
  {
   "cell_type": "markdown",
   "id": "490a5c35-e07d-4937-8276-d869123b296e",
   "metadata": {},
   "source": [
    "<hr style=\"height:2px;border:none;background-color:#00233C;\">\n",
    "\n",
    "<p style = 'font-size:20px;font-family:Arial;color:#00233C'><b>5. Data Preparation</b></p>\n",
    "<p style = 'font-size:16px;font-family:Arial;color:#00233C'>Label encoding a categorical data column is done to re-express existing values of a column (variable) into a new coding scheme or to correct data quality problems and focus an analysis of a particular value. It allows\n",
    "    for mapping individual values, NULL values, or any number of remaining values (ELSE option) to a new value, a NULL value or the same value. Label encoding supports charter, numeric, and date type columns.</p>\n",
    "<p style = 'font-size:16px;font-family:Arial;color:#00233C'>Output of this function is passed to \"label_encode\" argument of \"Transform\" function from Vantage Analytic Library.</p>"
   ]
  },
  {
   "cell_type": "code",
   "execution_count": null,
   "id": "3c8681c5-6eab-4f64-9682-40e4170d38eb",
   "metadata": {},
   "outputs": [],
   "source": [
    "# Encoding the target column using label encoder.\n",
    "from teradataml import LabelEncoder \n",
    "rc = LabelEncoder(values=(\"M\", 1), columns=[\"diagnosis\"], default=0)"
   ]
  },
  {
   "cell_type": "code",
   "execution_count": null,
   "id": "1d9829b2-df57-48db-a982-50ecb6c58377",
   "metadata": {},
   "outputs": [],
   "source": [
    "feature_columns_names= Retain(columns=[\"radius_mean\",\"texture_mean\",\"perimeter_mean\",\"area_mean\",\"smoothness_mean\",         \n",
    "                                       \"compactness_mean\",\"concavity_mean\",\"concave_points_mean\",\"symmetry_mean\",    \n",
    "                                       \"fractal_dimension_mean\",\"radius_se\",\"texture_se\",\"perimeter_se\",\"area_se\",\n",
    "                                       \"smoothness_se\",\"compactness_se\",\"concavity_se\",\"concave_points_se\",\n",
    "                                       \"symmetry_se\",\"fractal_dimension_se\",\"radius_worst\",\"texture_worst\",\n",
    "                                       \"perimeter_worst\",\"area_worst\",\"smoothness_worst\",\"compactness_worst\",\n",
    "                                       \"concavity_worst\",\"concave_points_worst\",\"symmetry_worst\",\n",
    "                                       \"fractal_dimension_worst\" ])"
   ]
  },
  {
   "cell_type": "markdown",
   "id": "9f50d3dc-94dc-43c2-880d-ad274ba037de",
   "metadata": {},
   "source": [
    "<p style = 'font-size:16px;font-family:Arial;color:#00233C'> The Variable Transformation analysis reads a teradataml DataFrame and produces an output containing transformed columns. This is useful when preparing data for input to an analytic algorithm. For example, a K-Means Clustering algorithm typically produces better results when the input columns are first converted to their Z-Score values to put all input variables on an equal footing, regardless of their magnitude.</p>\n",
    "<p style = 'font-size:16px;font-family:Arial;color:#00233C'>Function supports following transformations:</p>\n",
    "<li style = 'font-size:16px;font-family:Arial;color:#00233C'><code>Binning</code> - Binning replaces a continuous numeric column with a categorical one to produce ordinal values (for example, numeric categorical values where order is meaningful).</li>\n",
    "<li style = 'font-size:16px;font-family:Arial;color:#00233C'><code>Derive</code> - The Derive transformation requires the free-form transformation be specified as a formula.</li>\n",
    "<li style = 'font-size:16px;font-family:Arial;color:#00233C'><code>One Hot Encoding</code> - One Hot Encoding is useful when a categorical data element must be re-expressed as one or more numeric data elements, creating a binary numeric field for each categorical data value.</li>\n",
    "<li style = 'font-size:16px;font-family:Arial;color:#00233C'><code>Missing Value</code> Treatment or Null Replacement.</li>\n",
    "<li style = 'font-size:16px;font-family:Arial;color:#00233C'><code>Label Encoding</code> - Allows to re-express existing values of a categorical data column (variable) into a new coding scheme or to correct data quality problems and focus an analysis on a value.</li>\n",
    "<li style = 'font-size:16px;font-family:Arial;color:#00233C'><code>Min-Max Scaling</code> - Limits the upper and lower boundaries of the data in a continuous numeric column using a linear rescaling function based on maximum and minimum data values.</li>\n",
    "<li style = 'font-size:16px;font-family:Arial;color:#00233C'><code>Retain</code> - Allows copying of one or more columns into the final analytic data set.</li>\n",
    "<li style = 'font-size:16px;font-family:Arial;color:#00233C'><code>Sigmoid</code> - Provides rescaling of continuous numeric data using a type of sigmoid or s-shaped function.</li>\n",
    "<li style = 'font-size:16px;font-family:Arial;color:#00233C'><code>ZScore</code> - Provides rescaling of continuous numeric data using Z-Scores.</li></p>\n",
    "\n",
    "<p style = 'font-size:16px;font-family:Arial;color:#00233C'>Here, we will be using the Lable Encode option for the diagnosis column</p>"
   ]
  },
  {
   "cell_type": "code",
   "execution_count": null,
   "id": "d84a84fa-6de9-4ff0-9330-14caa8e33156",
   "metadata": {},
   "outputs": [],
   "source": [
    "data = valib.Transform(data=df, label_encode=rc,index_columns=\"id\",unique_index=True,retain=feature_columns_names)\n",
    "df=data.result\n",
    "df"
   ]
  },
  {
   "cell_type": "code",
   "execution_count": null,
   "id": "80445532-ed00-4339-a8bf-d02b5843feef",
   "metadata": {},
   "outputs": [],
   "source": [
    "# Re-arranging columns such that the target column is first and there's no header in the dataset.\n",
    "df=df.drop(\"id\",axis=1)"
   ]
  },
  {
   "cell_type": "code",
   "execution_count": null,
   "id": "533b4407-a16f-4151-bd1f-64c01cf9f408",
   "metadata": {},
   "outputs": [],
   "source": [
    "df= df.select([\"diagnosis\",\"radius_mean\",\"texture_mean\",\"perimeter_mean\",\"area_mean\",\"smoothness_mean\",         \n",
    "               \"compactness_mean\",\"concavity_mean\",\"concave_points_mean\",\"symmetry_mean\",\"fractal_dimension_mean\",   \n",
    "               \"radius_se\",\"texture_se\",\"perimeter_se\",\"area_se\",\"smoothness_se\",\"compactness_se\",\"concavity_se\",\n",
    "               \"concave_points_se\",\"symmetry_se\",\"fractal_dimension_se\",\"radius_worst\",\"texture_worst\",\n",
    "               \"perimeter_worst\",\"area_worst\",\"smoothness_worst\",\"compactness_worst\",\"concavity_worst\",\n",
    "               \"concave_points_worst\",\"symmetry_worst\",\"fractal_dimension_worst\" ])"
   ]
  },
  {
   "cell_type": "markdown",
   "id": "0580b882-650a-4765-b226-339b28e3dff6",
   "metadata": {},
   "source": [
    "<p style = 'font-size:16px;font-family:Arial;color:#00233C'>We use the sample function on teradataml dataframe. This function allows to sample few rows from dataframe directly or based on conditions. It creates a new column 'sampleid' which has a unique id for each sample, it helps to uniquely identify each sample.</p>"
   ]
  },
  {
   "cell_type": "code",
   "execution_count": null,
   "id": "492ddd8b",
   "metadata": {},
   "outputs": [],
   "source": [
    "# Create 3 samples of input data - sample 1 will have 60% of total rows and sample 2 and 3 will have 20% of total rows.\n",
    "cancer_sample = df.sample(frac=[0.6, 0.2,0.2])\n",
    "cancer_sample"
   ]
  },
  {
   "cell_type": "code",
   "execution_count": null,
   "id": "8cafa88e",
   "metadata": {},
   "outputs": [],
   "source": [
    "# Create train dataset from sample 1 by filtering on \"sampleid\" and drop \"sampleid\" column as it is not required for training model.\n",
    "train = cancer_sample[cancer_sample.sampleid == \"1\"].drop(\"sampleid\", axis = 1)\n",
    "train"
   ]
  },
  {
   "cell_type": "code",
   "execution_count": null,
   "id": "55ac51a2",
   "metadata": {},
   "outputs": [],
   "source": [
    "# Create validate dataset from sample 2 by filtering on \"sampleid\" and drop \"sampleid\" column as it is not required for training model.\n",
    "validate = cancer_sample[cancer_sample.sampleid == \"2\"].drop(\"sampleid\", axis = 1)\n",
    "validate"
   ]
  },
  {
   "cell_type": "code",
   "execution_count": null,
   "id": "2614ee62",
   "metadata": {
    "scrolled": true
   },
   "outputs": [],
   "source": [
    "# Create test dataset from sample 3 by filtering on \"sampleid\" and drop \"sampleid\" column as it is not required for training model.\n",
    "test = cancer_sample[cancer_sample.sampleid == \"3\"].drop(\"sampleid\", axis = 1)\n",
    "test"
   ]
  },
  {
   "cell_type": "markdown",
   "id": "4764e85d-bd60-4d71-aa6d-0df4528d1dff",
   "metadata": {},
   "source": [
    "<hr style=\"height:2px;border:none;background-color:#00233C;\">\n",
    "\n",
    "<p style = 'font-size:20px;font-family:Arial;color:#00233C'><b>6. Amazon Sagemaker details and Vantage API settings</b></p>\n",
    "\n",
    "<p style = 'font-size:16px;font-family:Arial;color:#00233C'>The teradataml SageMaker extension library (tdapiclient) is for client development tools, such as Jupyter Notebook, both local desktop or SageMaker notebooks. To use the teradataml SageMaker extension library, you need to have valid credentials (temporary or permanent) from AWS as well as from the database.</p>\n",
    "<p style = 'font-size:16px;font-family:Arial;color:#00233C'>We will have to create the following environment variables before using the module.</p>\n",
    "<p style = 'font-size:16px;font-family:Arial;color:#00233C'><b>Required environment variables:</b></p>\n",
    "<li style = 'font-size:16px;font-family:Arial;color:#00233C'><b>AWS_ACCESS_KEY_ID:</b> Specifies AWS Access Key ID.</li>\n",
    "<li style = 'font-size:16px;font-family:Arial;color:#00233C'><b>AWS_SECRET_ACCESS_KEY:</b> Specifies AWS Secret Access Key.</li>\n",
    "<li style = 'font-size:16px;font-family:Arial;color:#00233C'><b>AWS_REGION:</b> Specifies the AWS region.\n",
    "If this is defined, it overrides the values in the environment variable AWS_DEFAULT_REGION.</li></p>\n",
    "\n",
    "<p style = 'font-size:16px;font-family:Arial;color:#00233C'>The API_Request in-database function is used for model scoring and inference calculations.Before using the API_Request in-database function, the AWS endpoint of Amazon SageMaker or analytic model should have been trained and deployed on AWS.</p>\n",
    "\n",
    "<p style = 'font-size:16px;font-family:Arial;color:#00233C'>We also need the endpoint address, region and AWS credentials (which have permissions to use this in-database function) to execute a function to score Vantage data with this AWS analytic service.</p>\n",
    "    \n",
    "    \n",
    "<p style = 'font-size:16px;font-family:Arial;color:#00233C'><b>**Please enter your valid AWS credentials.</b></p>\n",
    "\n"
   ]
  },
  {
   "cell_type": "code",
   "execution_count": null,
   "id": "efa41007-d6a2-49b5-9e06-d4704453a942",
   "metadata": {},
   "outputs": [],
   "source": [
    "s3_bucket = input(\"S3 Bucket Path(Please give bucket name followed by sub-folder(if any exists) for example: bucket-name/sub-folder) :\")\n",
    "access_id = input(\"Access ID:\")\n",
    "access_key = getpass.getpass(\"Access Key: \")\n",
    "region = input(\"AWS Region: \")\n",
    "exec_role = input(\"AWS Sagemanker execution role: \")\n",
    "\n",
    "# Example of the required values\n",
    "# s3_bucket = \"sage-demo\"\n",
    "# access_id = \"AKIAQ5EGP9D********\"\n",
    "# access_key = \"j4WIGWfbe6VWMpVFAzzz***************\"\n",
    "# region = \"us-east-3\"\n",
    "# exec_role_arn = \"arn:aws:iam::************:role/sagemker-demo-role\""
   ]
  },
  {
   "cell_type": "markdown",
   "id": "23ae10b0-b519-4448-bfb5-4c765098fbe4",
   "metadata": {},
   "source": [
    "<div class=\"alert alert-block alert-warning\">\n",
    "<p style = 'font-size:16px;font-family:Arial;color:#00233C'><b>Note: </b><i>If the credentials entered are not valid or do not have the necessary permissions, we may get an error in the estimator step.</i></p>\n",
    "</div>"
   ]
  },
  {
   "cell_type": "code",
   "execution_count": null,
   "id": "8c3c49a5",
   "metadata": {},
   "outputs": [],
   "source": [
    "# Assign entered credentials\n",
    "\n",
    "\n",
    "# Bucket location where your custom code will be saved in the tar.gz format.\n",
    "custom_code_upload_location = \"s3://{}/xgboost/code\".format(s3_bucket)\n",
    "\n",
    "# Bucket location where results of model training are saved.\n",
    "model_artifacts_location = \"s3://{}/xgboost/artifacts\".format(s3_bucket)\n",
    "\n",
    "os.environ[\"AWS_ACCESS_KEY_ID\"] = access_id\n",
    "os.environ[\"AWS_SECRET_ACCESS_KEY\"] = access_key\n",
    "os.environ[\"AWS_REGION\"] = region\n",
    "\n",
    "tdapi_context = create_tdapi_context(\"aws\", bucket_path=s3_bucket) \n",
    "td_apiclient = TDApiClient(tdapi_context)"
   ]
  },
  {
   "cell_type": "markdown",
   "id": "7d69ed56",
   "metadata": {},
   "source": [
    "<hr style=\"height:2px;border:none;background-color:#00233C;\">\n",
    "\n",
    "<p style = 'font-size:20px;font-family:Arial;color:#00233C'><b>7. SageMaker XGBoost with tdapiclient</b></p>\n",
    "\n",
    "<p style = 'font-size:18px;font-family:Arial;color:#00233C'><b>Using XGBoost estimator with tdapiclient</b></p>\n",
    "<p style = 'font-size:16px;font-family:Arial;color:#00233C'>We create XGBoost Sagemaker estimator instance through TDApiClient. To run our training script on SageMaker, we construct a sagemaker.xgboost.estimator.XGBoost estimator, which accepts several constructor arguments:</p>\n",
    "\n",
    "<li style = 'font-size:16px;font-family:Arial;color:#00233C'><code>entry_point</code>: The path to the Python script that SageMaker runs for training and prediction.</li>\n",
    "<li style = 'font-size:16px;font-family:Arial;color:#00233C'><code>role (str or PipelineVariable)</code> – An AWS IAM role name or ARN. Amazon SageMaker Processing uses this role to access AWS resources, such as data stored in Amazon S3.</li>\n",
    "<li style = 'font-size:16px;font-family:Arial;color:#00233C'><code>framework_version (str)</code> – The version of the framework. Value is ignored when image_uri is provided.</li>\n",
    "<li style = 'font-size:16px;font-family:Arial;color:#00233C'><code>instance_count (int or PipelineVariable)</code> – The number of instances to run a processing job with.</li>\n",
    "<li style = 'font-size:16px;font-family:Arial;color:#00233C'><code>instance_type (str or PipelineVariable)</code> – The type of EC2 instance to use for processing, for example, ‘ml.c4.xlarge’.</li>\n",
    "<li style = 'font-size:16px;font-family:Arial;color:#00233C'><code>code_location (str)</code> – The S3 prefix URI where custom code will be uploaded (default: None). The code file uploaded to S3 is ‘code_location/job-name/source/sourcedir.tar.gz’. If not specified, the default code location is ‘s3://{sagemaker-default-bucket}’.</li>\n",
    "<li style = 'font-size:16px;font-family:Arial;color:#00233C'><code>hyperparameters (optional)</code>: A dictionary passed to the train function as hyperparameters.</li></p>\n",
    "\n"
   ]
  },
  {
   "cell_type": "code",
   "execution_count": null,
   "id": "259de4a1",
   "metadata": {},
   "outputs": [],
   "source": [
    "exec_role_arn = exec_role\n",
    "xgboost_estimator = td_apiclient.XGBoost(\n",
    "    entry_point=\"script.py\",\n",
    "    role=exec_role_arn,\n",
    "    output_path=model_artifacts_location,\n",
    "    code_location=custom_code_upload_location,\n",
    "    instance_count=1,\n",
    "    instance_type=\"ml.m5.xlarge\", \n",
    "    framework_version=\"1.3-1\",\n",
    "    trainingSparkDataFormat=\"csv\",\n",
    "    trainingContentType=\"csv\")"
   ]
  },
  {
   "cell_type": "markdown",
   "id": "b6a2d79c-cf2d-4d54-a05a-7a6fc21a903e",
   "metadata": {},
   "source": [
    "<p style = 'font-size:16px;font-family:Arial;color:#00233C'>The hyperparamters that can be used in the XGBoost model are </p>\n",
    "<li style = 'font-size:16px;font-family:Arial;color:#00233C'><code>num_class:</code> The number of classes. Required if objective is set to multi:softmax or multi:softprob.</li>\n",
    "<li style = 'font-size:16px;font-family:Arial;color:#00233C'><code>num_round:</code> The number of rounds to run the training.</li>\n",
    "<li style = 'font-size:16px;font-family:Arial;color:#00233C'><code>eta:</code> Step size shrinkage used in updates to prevent overfitting. After each boosting step, you can directly get the weights of new features. The eta parameter actually shrinks the feature weights to make the boosting process more conservative.</li>\n",
    "<li style = 'font-size:16px;font-family:Arial;color:#00233C'><code>eval_metric:</code> Evaluation metrics for validation data. </li>\n",
    "<li style = 'font-size:16px;font-family:Arial;color:#00233C'><code>max_depth:</code> Maximum depth of a tree. Increasing this value makes the model more complex and likely to be overfit. 0 indicates no limit. A limit is required when grow_policy  = depth-wise.</li>\n",
    "<li style = 'font-size:16px;font-family:Arial;color:#00233C'><code>max_leaves:</code> Maximum number of nodes to be added. Relevant only if grow_policy is set to lossguide.</li>\n",
    "<li style = 'font-size:16px;font-family:Arial;color:#00233C'><code>min_child_weight:</code> Minimum sum of instance weight (hessian) needed in a child. If the tree partition step results in a leaf node with the sum of instance weight less than min_child_weight, the building process gives up further partitioning. In linear regression models, this simply corresponds to a minimum number of instances needed in each node. </li>\n",
    "<li style = 'font-size:16px;font-family:Arial;color:#00233C'><code>subsample:</code> Subsample ratio of the training instance. Setting it to 0.5 means that XGBoost randomly collects half of the data instances to grow trees. This prevents overfitting.</li>\n",
    "<li style = 'font-size:16px;font-family:Arial;color:#00233C'><code>csv_weights:</code> When this flag is enabled, XGBoost differentiates the importance of instances for csv input by taking the second column (the column after labels) in training data as the instance weights.</li>\n",
    "\n",
    "</p>"
   ]
  },
  {
   "cell_type": "code",
   "execution_count": null,
   "id": "4c04b55a",
   "metadata": {},
   "outputs": [],
   "source": [
    "xgboost_estimator.set_hyperparameters(max_depth=5, \n",
    "                        eta=0.2, \n",
    "                        gamma=4,\n",
    "                        min_child_weight=6, \n",
    "                        subsample=0.8, \n",
    "                        csv_weights=1,\n",
    "                        num_round=30)\n",
    "                        \n",
    "\n"
   ]
  },
  {
   "cell_type": "markdown",
   "id": "6b828162",
   "metadata": {},
   "source": [
    "<p style = 'font-size:18px;font-family:Arial;color:#00233C'><b>Training xgboost estimator using teradataml dataframe objects</b></p>\n",
    "<p style = 'font-size:16px;font-family:Arial;color:#00233C'>This wrapper function execute the SageMaker.fit method of Amazon SageMaker using the teradataml DataFrame as source for training. The fit method copies the data to S3 and then invokes any of the AWS Python API's callable through tdapiclient, as listed in teradataml Extension.</p>\n",
    "<p style = 'font-size:16px;font-family:Arial;color:#00233C'>Required Argument:</p>\n",
    "<li style = 'font-size:16px;font-family:Arial;color:#00233C'>inputs: Specifies a teradataml DataFrame or S3 path as a string. It can be one of the following: Single object of teradataml DataFrame, String or Dictionary of string to object of teradataml DataFrame</li>\n",
    "<li style = 'font-size:16px;font-family:Arial;color:#00233C'>content_type: Specifies the content type for inputs.\n",
    "Default value is CSV. </li>\n",
    "</p>"
   ]
  },
  {
   "cell_type": "code",
   "execution_count": null,
   "id": "a2970cd0",
   "metadata": {},
   "outputs": [],
   "source": [
    "# Start training using DataFrame objects.\n",
    "xgboost_estimator.fit({'train': train, 'validation': validate }, content_type=\"csv\",wait=True)  \n"
   ]
  },
  {
   "cell_type": "markdown",
   "id": "02e5f7df",
   "metadata": {},
   "source": [
    "<p style = 'font-size:18px;font-family:Arial;color:#00233C'><b>Deploy XGBoost Estimator using Serializer/Deserializer </b></p>\n",
    "\n",
    "<p style = 'font-size:16px;font-family:Arial;color:#00233C'>The TDApiClient.deploy method deploys Amazon SageMaker model to Vantage or AWS. SageMaker.deploy method of Amazon SageMaker estimator class is executed, allowing integration with Teradata at the time of scoring. This function returns an instance of TDSagemakerPredictor.</p>\n",
    "\n",
    "<p style = 'font-size:18px;font-family:Arial;color:#00233C'>Required Arguments:</p>\n",
    "<li style = 'font-size:16px;font-family:Arial;color:#00233C'><code>platform:</code> Specifies the platform to which the given model will be deployed.</li>\n",
    "<li style = 'font-size:16px;font-family:Arial;color:#00233C'><code>Accepted values:</code> \"vantage\", \"aws-endpoint\".</li>\n",
    "\n",
    "<li style = 'font-size:16px;font-family:Arial;color:#00233C'><code>sagemaker_p_args:</code> Specifies all positional parameters required for the original SageMaker.deploy method.</li>\n",
    "<li style = 'font-size:16px;font-family:Arial;color:#00233C'><code>sagemaker_kw_args:</code> Specifies all kwarg parameters required for the original SageMaker.deploy method. We have used the below kwarg parameters:</li>\n",
    "<ol style = 'font-size:16px;font-family:Arial;color:#00233C'>\n",
    "<li style = 'font-size:14px;font-family:Arial;color:#00233C'><code>initial_instance_count (int)</code> – The initial number of instances to run in the Endpoint created from this Model. If not using serverless inference, then it need to be a number larger or equals to 1 (default: None) </li>\n",
    "\n",
    "<li style = 'font-size:14px;font-family:Arial;color:#00233C'><code>instance_type (str)</code> – The EC2 instance type to deploy this Model to. For example, ‘ml.p2.xlarge’, or ‘local’ for local mode. If not using serverless inference, then it is required to deploy a model. (default: None) </li>\n",
    "\n",
    "<li style = 'font-size:14px;font-family:Arial;color:#00233C'><code>serializer (BaseSerializer)</code> – A serializer object, used to encode data for an inference endpoint (default: None). If serializer is not None, then serializer will override the default serializer. The default serializer is set by the predictor_cls. </li>\n",
    "\n",
    "<li style = 'font-size:14px;font-family:Arial;color:#00233C'><code>deserializer (BaseDeserializer)</code> – A deserializer object, used to decode data from an inference endpoint (default: None). If deserializer is not None, then deserializer will override the default deserializer. The default deserializer is set by the predictor_cls.</li></ol></p>   \n",
    "    \n",
    "\n",
    "<p style = 'font-size:16px;font-family:Arial;color:#00233C'>The ´xgboost_estimator´ we are using is a TDApiClient object holding a model which has been trained on AWS, we will deploy it to an AWS endpoint.</p>"
   ]
  },
  {
   "cell_type": "code",
   "execution_count": null,
   "id": "4d28857f",
   "metadata": {},
   "outputs": [],
   "source": [
    "from sagemaker.serializers import CSVSerializer\n",
    "from sagemaker.deserializers import CSVDeserializer\n",
    "csv_ser = CSVSerializer()\n",
    "csv_dser = CSVDeserializer()"
   ]
  },
  {
   "cell_type": "code",
   "execution_count": null,
   "id": "c1c4951e",
   "metadata": {},
   "outputs": [],
   "source": [
    "sg_kw = {\n",
    "    \"instance_type\": \"ml.m5.large\",\n",
    "    \"initial_instance_count\": 1,\n",
    "    \"serializer\": csv_ser,\n",
    "    \"deserializer\": csv_dser\n",
    "}\n",
    "predictor = xgboost_estimator.deploy(\"aws-endpoint\", sagemaker_kw_args=sg_kw)"
   ]
  },
  {
   "cell_type": "markdown",
   "id": "8ac0d956",
   "metadata": {},
   "source": [
    "<p style = 'font-size:18px;font-family:Arial;color:#00233C'><b>Predict using the tdapiclient predictor object </b></p>\n",
    "\n",
    "<p style = 'font-size:16px;font-family:Arial;color:#00233C'>We will use the TDPredictor.predict method to perform prediction using teradataml DataFrame and SageMaker endpoint represented by this predictor object.</p>\n",
    "\n",
    "<p style = 'font-size:16px;font-family:Arial;color:#00233C'>Required Arguments:</p>\n",
    "<li style = 'font-size:16px;font-family:Arial;color:#00233C'><code>input:</code> Specifies the teradataml DataFrame used as input for scoring.</li>\n",
    "<li style = 'font-size:16px;font-family:Arial;color:#00233C'><code>mode:</code> Specifies the mode for scoring.\n",
    "<ol style = 'font-size:16px;font-family:Arial;color:#00233C'>Permitted values include:\n",
    "<li style = 'font-size:14px;font-family:Arial;color:#00233C'><code>'UDF':</code> Score in database using a Teradata UDF. This is the default value. For this mode, the return is a teradataml DataFrame. This mode provides faster scoring with the data from Teradata.</li>\n",
    "\n",
    "<li style = 'font-size:14px;font-family:Arial;color:#00233C'><code>'CLIENT':</code> Score at client side using a library. For this mode, the return is an array or JSON. When using mode, data is pulled from Teradata and serialized for scoring at client.</li></ol></p>\n",
    "\n",
    "\n",
    "\n",
    "<p style = 'font-size:16px;font-family:Arial;color:#00233C'>Optional Argument:\n",
    "<ol style = 'font-size:16px;font-family:Arial;color:#00233C'>options: Specifies the predict method with the following key-value arguments:\n",
    "<li style = 'font-size:14px;font-family:Arial;color:#00233C'><code>udf_name:</code> Specifies the name of the UDF used to invoke predict with UDF mode. Default value is 'tapidb.API_Request'.</li>\n",
    "<li style = 'font-size:14px;font-family:Arial;color:#00233C'><code>content_type:</code> Specifies content type required for SageMaker endpoint present in the predictor. Default value is 'csv'.</li>\n",
    "<li style = 'font-size:14px;font-family:Arial;color:#00233C'><code>key_start_index:</code> Specifies the index in DataFrame columns to be the key for scoring starts. Default value is 0.</li></ol>\n",
    "\n"
   ]
  },
  {
   "cell_type": "code",
   "execution_count": null,
   "id": "c79eabea",
   "metadata": {},
   "outputs": [],
   "source": [
    "# Now let's try prediction with UDF and Client options.\n",
    "item=test\n",
    "output = predictor.predict(item, mode=\"UDF\",content_type='csv')\n",
    "output"
   ]
  },
  {
   "cell_type": "code",
   "execution_count": null,
   "id": "688b44d2-bbb0-40e1-bc5b-b16b45f13c87",
   "metadata": {},
   "outputs": [],
   "source": [
    "pred_df = output.assign(pred=output.Output.cast(type_=FLOAT))\n",
    "# pred = output.assign(diag_pred=func.round(pred.prediction))\n",
    "pred_df = pred_df.assign(diagnosis_prediction=pred_df.pred.round(0).cast(type_=INTEGER))\n",
    "pred_df = pred_df.assign(diagnosis_prediction=pred_df.diagnosis_prediction.cast(type_=VARCHAR(2)))\n",
    "pred_df"
   ]
  },
  {
   "cell_type": "code",
   "execution_count": null,
   "id": "c21829d7-87b1-4ffc-8b52-121f61bb7e37",
   "metadata": {},
   "outputs": [],
   "source": [
    "from teradataml import ConvertTo\n",
    "converted_data = ConvertTo(data = pred_df,\n",
    "                           target_columns = ['diagnosis'],\n",
    "                           target_datatype = [\"VARCHAR(charlen=2,charset=LATIN,casespecific=NO)\"])\n",
    "pred_df=converted_data.result\n",
    "pred_df"
   ]
  },
  {
   "cell_type": "markdown",
   "id": "957ff0cd-c5a1-4514-99ff-c677b112b51d",
   "metadata": {},
   "source": [
    "<p style = 'font-size:16px;font-family:Arial;color:#00233C'>The output column diagnosis_prediction will show the predicted values for occurence of cancer in the patients.</p>"
   ]
  },
  {
   "cell_type": "markdown",
   "id": "3867d8a0-a248-4b68-8c93-3d2c3c438c35",
   "metadata": {},
   "source": [
    "<hr style=\"height:2px;border:none;background-color:#00233C;\">\n",
    "\n",
    "<p style = 'font-size:20px;font-family:Arial;color:#00233C'><b>8. Evaluate the model</b></p>\n",
    "\n",
    "<p style = 'font-size:18px;font-family:Arial;color:#00233C'><b>8.1 Classification Evaluator</b></p>\n",
    "\n",
    "<p style = 'font-size:16px;font-family:Arial;color:#00233C'>The ClassificationEvaluator() function evaluate and emits various metrics of classification model based on its predictions on the data. Apart from accuracy, the secondary output data returns micro, macro, and weighted-averaged metrics of precision, recall, and F1-score values.</p>\n",
    "    \n"
   ]
  },
  {
   "cell_type": "code",
   "execution_count": null,
   "id": "4a42f82b-5fe8-46f9-b8b9-9ecc7354b081",
   "metadata": {},
   "outputs": [],
   "source": [
    "ClassificationEvaluator_obj = ClassificationEvaluator(data=pred_df,\n",
    "                                                          observation_column='diagnosis',\n",
    "                                                          prediction_column='diagnosis_prediction',\n",
    "                                                          labels=['0','1'])\n"
   ]
  },
  {
   "cell_type": "code",
   "execution_count": null,
   "id": "0b52ec5a-6a8c-498a-b2f7-aaa51f098cc5",
   "metadata": {},
   "outputs": [],
   "source": [
    "df_metrics = ClassificationEvaluator_obj.output_data\n",
    "df_metrics"
   ]
  },
  {
   "cell_type": "markdown",
   "id": "e834715d-dc94-4d54-8116-6e6bace371a2",
   "metadata": {},
   "source": [
    "<p style = 'font-size:18px;font-family:Arial;color:#00233C'><b>8.2 Show AUC-ROC Curve</b></p>\n",
    "\n",
    "<p style = 'font-size:16px;font-family:Arial;color:#00233C'>The <a href = 'https://docs.teradata.com/search/all?query=TD_ROC&content-lang=en-US'>ROC</a> curve shows the performance of a binary classification model as its discrimination threshold varies. For a range of thresholds, the curve plots the true positive rate against false-positive rate.</p>\n",
    "\n",
    "<p style = 'font-size:16px;font-family:Arial;color:#00233C'>This function accepts a set of prediction-actual pairs as input and calculates the following values for a range of discrimination thresholds.</p>\n",
    "    <ul style = 'font-size:16px;font-family:Arial;color:#00233C'>\n",
    "        <li style = 'font-size:16px;font-family:Arial;color:#00233C'>True-positive rate (TPR)</li>\n",
    "        <li style = 'font-size:16px;font-family:Arial;color:#00233C'>False-positive rate (FPR)</li>\n",
    "        <li style = 'font-size:16px;font-family:Arial;color:#00233C'>The area under the ROC curve (AUC)</li>\n",
    "        <li style = 'font-size:16px;font-family:Arial;color:#00233C'>Gini coefficient</li>\n",
    "        <li style = 'font-size:16px;font-family:Arial;color:#00233C'>Other details are mentioned in the documentation</li>\n",
    "    </ul>\n",
    "\n"
   ]
  },
  {
   "cell_type": "code",
   "execution_count": null,
   "id": "907fa13a-2219-4c24-b9d0-2597531b2d38",
   "metadata": {},
   "outputs": [],
   "source": [
    "from teradataml import ROC \n",
    "roc_df = ROC(data = pred_df, \n",
    "                    probability_column = \"pred\",\n",
    "                    observation_column = \"diagnosis\",\n",
    "                    positive_class=\"1\"\n",
    "                    )\n",
    "roc_df.output_data"
   ]
  },
  {
   "cell_type": "code",
   "execution_count": null,
   "id": "2b571e3e-cfb7-4f71-9799-dcf4e2639dbf",
   "metadata": {
    "tags": []
   },
   "outputs": [],
   "source": [
    "auc = roc_df.result.get_values()[0][0]\n",
    "auc"
   ]
  },
  {
   "cell_type": "markdown",
   "id": "1fe1f4f7-2442-4f52-a981-4c859e39e9a8",
   "metadata": {},
   "source": [
    "<p style = 'font-size:18px;font-family:Arial;color:#00233C'><b>Plot ROC Curves</b></p>"
   ]
  },
  {
   "cell_type": "code",
   "execution_count": null,
   "id": "6d8c8028-5cf9-4e81-bdeb-c6458359ef92",
   "metadata": {},
   "outputs": [],
   "source": [
    "plot_roc_df = roc_df.output_data\n",
    "plot =  plot_roc_df.plot(x=plot_roc_df.fpr, y=plot_roc_df.tpr,\n",
    "                         title=\"Receiver Operating Characteristic (ROC) Curve\",\n",
    "                         xlabel='False Positive Rate', \n",
    "                         ylabel='True Positive Rate', \n",
    "                         color=\"blue\",\n",
    "                         legend=f'AUC = {round(auc, 4)}',\n",
    "                         legend_style='lower right',\n",
    "                         grid_linestyle='--',\n",
    "                         grid_linewidth=0.5)\n",
    " \n",
    "# Display the plot.\n",
    "plot.show()"
   ]
  },
  {
   "cell_type": "markdown",
   "id": "b6cc025c-c685-4829-8126-001d46fbe316",
   "metadata": {},
   "source": [
    "<p style = 'font-size:16px;font-family:Arial;color:#00233C'>The closer the ROC curve is to the upper left corner of the graph, the higher the accuracy of the test because in the upper left corner, the sensitivity = 1 and the false positive rate = 0 (specificity = 1). The ideal ROC curve thus has an AUC = 1.0. As seen in the above graph the AUC for both the models is close to 1 so the accuracy of both models is very good. </p>\n",
    "\n",
    "<hr style=\"height:1px;border:none;background-color:#00233C;\">\n",
    "<p style = 'font-size:18px;font-family:Arial;color:#00233C'><b>8.3 Show Confusion Matrix</b></p>\n",
    "\n",
    "<p style = 'font-size:16px;font-family:Arial;color:#00233C'>Confusion Matrix is a performance measurement for machine learning classification problem where output can be two or more classes. It is a table with 4 different combinations of predicted and actual values.</p>\n",
    "\n",
    "<p style = 'font-size:16px;font-family:Arial;color:#00233C'>Confusion matrices represent counts from predicted and actual values. The output “TN” stands for True Negative which shows the number of negative examples classified accurately. Similarly, “TP” stands for True Positive which indicates the number of positive examples classified accurately. The term “FP” shows False Positive value, i.e., the number of actual negative examples classified as positive; and “FN” means a False Negative value which is the number of actual positive examples classified as negative.</p>\n"
   ]
  },
  {
   "cell_type": "code",
   "execution_count": null,
   "id": "fedc46b8-2b6f-4857-8d65-8ab07f531226",
   "metadata": {},
   "outputs": [],
   "source": [
    "confusion_matrix_df = pred_df.to_pandas(all_rows=True)\n",
    "cm = confusion_matrix(confusion_matrix_df['diagnosis'], confusion_matrix_df['diagnosis_prediction'])\n",
    "cmd = ConfusionMatrixDisplay(confusion_matrix=cm, display_labels=['DoesNotHaveCancer', 'HasCancer'],)\n",
    "cmd.plot(cmap='Blues', colorbar=False)\n",
    "plt.show()"
   ]
  },
  {
   "cell_type": "markdown",
   "id": "91a7e828-ea30-46df-bfe2-0abb6f6b5367",
   "metadata": {},
   "source": [
    "<p style = 'font-size:18px;font-family:Arial;color:#00233C'><b>Conclusion</b></p>\n",
    "\n",
    "<p style = 'font-size:16px;font-family:Arial;color:#00233C'>Thus we have seen that with the Teradata Vantage API_Request feature, we can connect to AWS endpoints through a function to do real-time scoring on data. An Amazon SageMaker endpoint was used to orchestrate Extreme Gradient (XG) Boost model training and deploy the solution’s ML model. Vantage and ClearScape Anlaytics has helped drastically reduce data preparation, model development, and testing time, while allowing for much more frequent and iterative testing and tuning to ensure maximum life-critical accuracy.</p>\n"
   ]
  },
  {
   "cell_type": "markdown",
   "id": "5143d86c-00ce-4aee-800d-3bf206a58cf5",
   "metadata": {},
   "source": [
    "<hr style=\"height:2px;border:none;background-color:#00233C;\">\n",
    "<p style = 'font-size:20px;font-family:Arial;color:#00233C'><b>9. Cleanup</b></p>\n"
   ]
  },
  {
   "cell_type": "markdown",
   "id": "e747ad68-51c4-4054-81f0-1090be0560fe",
   "metadata": {},
   "source": [
    "<p style = 'font-size:18px;font-family:Arial;color:#00233C'><b>Databases and Tables</b></p>\n",
    "<p style = 'font-size:16px;font-family:Arial;color:#00233C'>We will use the following code to clean up tables and databases created for this demonstration.</p>"
   ]
  },
  {
   "cell_type": "code",
   "execution_count": null,
   "id": "db7699ba-481e-4016-b31e-72513c0772bf",
   "metadata": {},
   "outputs": [],
   "source": [
    "%run -i ../run_procedure.py \"call remove_data('DEMO_CancerPrediction');\" \n",
    "#Takes 40 seconds"
   ]
  },
  {
   "cell_type": "markdown",
   "id": "78723af9-2fc6-48e5-96ce-6f585c3e8406",
   "metadata": {},
   "source": [
    "<div class=\"alert alert-block alert-danger\">\n",
    "<p style = 'font-size:16px;font-family:Arial;color:#00233C'><b>**Note: </b><i>Please make sure to delete the AWS Sagemaker model and endpoints after use using the code in below cell. If these are not deleted the cost will keep increasing till the time it is not deleted.</i></p>\n",
    "</div>"
   ]
  },
  {
   "cell_type": "code",
   "execution_count": null,
   "id": "99d5f687",
   "metadata": {},
   "outputs": [],
   "source": [
    "predictor.cloudObj.delete_model()\n",
    "predictor.cloudObj.delete_endpoint()\n",
    "remove_tdapi_context(tdapi_context)"
   ]
  },
  {
   "cell_type": "code",
   "execution_count": null,
   "id": "25995557-8964-41dd-afe8-961bb9c077cd",
   "metadata": {},
   "outputs": [],
   "source": [
    "remove_context()"
   ]
  },
  {
   "cell_type": "markdown",
   "id": "0248bfff-5935-4c4a-9c79-d548534da27a",
   "metadata": {},
   "source": [
    "<hr style=\"height:2px;border:none;background-color:#00233C;\">\n",
    "<b style = 'font-size:20px;font-family:Arial;color:#00233C'>Required Materials</b>\n",
    "<p style = 'font-size:16px;font-family:Arial;color:#00233C'>Let’s look at the elements we have available for reference for this notebook:</p>\n",
    "<b style = 'font-size:18px;font-family:Arial;color:#00233C'>Dataset:</b>\n",
    "<p style = 'font-size:16px;font-family:Arial;color:#00233C'>The dataset for this analysis has been taken from \n",
    "<a href = 'https://archive.ics.uci.edu/dataset/17/breast+cancer+wisconsin+diagnostic'>Breast Cancer Wisconsin (Diagnostic) - UCI Machine Learning Repository.</a>\n",
    "\n",
    "<b style = 'font-size:18px;font-family:Arial;color:#00233C'>Filters:</b> \n",
    "<li style = 'font-size:16px;font-family:Arial;color:#00233C'><b>Industry:</b> Healthcare</li>\n",
    "<li style = 'font-size:16px;font-family:Arial;color:#00233C'><b>Functionality:</b> Machine Learning</li> \n",
    "<li style = 'font-size:16px;font-family:Arial;color:#00233C'><b>Use Case:</b> Prediction Analysis</li></p>\n",
    "<b style = 'font-size:18px;font-family:Arial;color:#00233C'>Related Resources:</b>\n",
    "<li style = 'font-size:16px;font-family:Arial;color:#00233C'><a href = 'https://usc-word-edit.officeapps.live.com/we/%E2%80%A2%09https:/www.teradata.com/Blogs/Predicting-Heart-Failure-with-Teradata'>Saving Lives, Saving Costs: Predicting Heart Failure with Teradata</a> </li>\n",
    "<li style = 'font-size:16px;font-family:Arial;color:#00233C'><a href = 'https://www.teradata.com/Blogs/Hyper-scale-time-series-forecasting-done-right'>Hyper-scale time series forecasting done right</a></li>\n",
    "<li style = 'font-size:16px;font-family:Arial;color:#00233C'><a href = 'https://www.teradata.com/Blogs/Forecasting-COVID-19-Using-Teradata-Vantage'>Forecasting COVID-19 Using Teradata Vantage</a></li>\n",
    "\n"
   ]
  },
  {
   "cell_type": "markdown",
   "id": "f68cfaa7-49f8-40ca-9976-933b9beb343f",
   "metadata": {
    "tags": []
   },
   "source": [
    "<footer style=\"padding-bottom:35px; background:#f9f9f9; border-bottom:3px solid #00233C\">\n",
    "    <div style=\"float:left;margin-top:14px\">ClearScape Analytics™</div>\n",
    "    <div style=\"float:right;\">\n",
    "        <div style=\"float:left; margin-top:14px\">\n",
    "            © 2023, 2024 Teradata. All rights reserved.\n",
    "        </div>\n",
    "    </div>\n",
    "</footer>"
   ]
  }
 ],
 "metadata": {
  "kernelspec": {
   "display_name": "Python 3 (ipykernel)",
   "language": "python",
   "name": "python3"
  },
  "language_info": {
   "codemirror_mode": {
    "name": "ipython",
    "version": 3
   },
   "file_extension": ".py",
   "mimetype": "text/x-python",
   "name": "python",
   "nbconvert_exporter": "python",
   "pygments_lexer": "ipython3",
   "version": "3.9.10"
  }
 },
 "nbformat": 4,
 "nbformat_minor": 5
}
