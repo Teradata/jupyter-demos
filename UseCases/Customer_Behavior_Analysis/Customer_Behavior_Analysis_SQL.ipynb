{
 "cells": [
  {
   "cell_type": "markdown",
   "id": "581f2cf0-36f5-4017-a71c-9f17ac6f906a",
   "metadata": {},
   "source": [
    "<header>\n",
    "   <p  style='font-size:36px;font-family:Arial; color:#F0F0F0; background-color: #00233c; padding-left: 20pt; padding-top: 20pt;padding-bottom: 10pt; padding-right: 20pt;'>\n",
    "       Behavioral Analysis and Visualization using Vantage\n",
    "  <br>\n",
    "       <img id=\"teradata-logo\" src=\"https://storage.googleapis.com/clearscape_analytics_demo_data/DEMO_Logo/teradata.svg\" alt=\"Teradata\" style=\"width: 125px; height: auto; margin-top: 20pt;\">\n",
    "    </p>\n",
    "</header>"
   ]
  },
  {
   "cell_type": "markdown",
   "id": "87bdb983-c015-47d6-a6e5-2b89a8cba447",
   "metadata": {},
   "source": [
    "<p style = 'font-size:18px;font-family:Arial;color:#00233C'><b>Introduction</b></p>\n",
    "<p style = 'font-size:16px;font-family:Arial;color:#00233C'>Customer behavior varies from industry to industry and company to company, meaning there isn’t one easy solution. Although it seems complex, Teradata Vantage and ClearScape Analytics can bring some clarity to the customers’ behavior. Keep in mind that customer activity can include website click data, healthcare records, or financial data. Users will need to combine all this data to get a full picture of the customers’ experience. Using pathing analytics, businesses can understand the common paths that customers take that lead to a variety of outcomes, such as sales conversion, cart abandonment, or product searches. When businesses use Vantage to analyze all their data at scale, they have the chance to increase customer satisfaction and conversion rates.</p>\n",
    "<p style = 'font-size:18px;font-family:Arial;color:#00233C'><b>Business Value</b></p>\n",
    "<li style = 'font-size:16px;font-family:Arial;color:#00233C'>Using website click data, users can identify customers’ actions that lead to sales over a specified amount.</li>\n",
    "<li style = 'font-size:16px;font-family:Arial;color:#00233C'>With sensor data from industrial processes, users can identify poor product quality.</li>\n",
    "<li style = 'font-size:16px;font-family:Arial;color:#00233C'>Healthcare records of individual patients will help hospitals identify paths that indicate that patients are at risk of developing conditions such as heart disease or diabetes.</li>\n",
    "<li style = 'font-size:16px;font-family:Arial;color:#00233C'>Using financial data from individual accounts can help identify patterns of fraud or credit risks.</li>\n",
    "    </p>\n",
    "<p style = 'font-size:18px;font-family:Arial;color:#00233C'><b>Why Vantage?</b></p>\n",
    "<p style = 'font-size:16px;font-family:Arial;color:#00233C'>Vantage has unique analytic capabilities for understanding customer and user behavior over time. In fact, these analytic techniques can be applied at massive scale to derive more accurate results. Then, these results can be combined with other analytics to create more advanced and accurate prediction models. Vantage also allows organizations to scale these models horizontally, by training segmented models per region, user type, etc., or vertically, by combining data from millions or billions of interactions. All of this can be deployed operationally to understand and predict actions in real-time.</p> \n",
    "    \n",
    "<p style = 'font-size:16px;font-family:Arial;color:#00233C'>\n",
    "nPath® is useful when your goal is to identify the paths that lead to an outcome. The nPath function scans a set of rows, looking for patterns that you specify. For each set of input rows that matches the pattern, nPath produces a single output row. The function provides a flexible pattern-matching capability that lets you specify complex patterns in the input data and define the values that are output for each matched input set. </p>    \n"
   ]
  },
  {
   "cell_type": "markdown",
   "id": "0ba04830-2bcb-457f-bc3a-3b00fdc46c16",
   "metadata": {},
   "source": [
    "<hr style=\"height:2px;border:none;background-color:#00233C;\">\n",
    "<p style = 'font-size:20px;font-family:Arial;color:#00233C'><b>1. Connect to Vantage</b></p>\n",
    "<p style = 'font-size:16px;font-family:Arial;color:#00233C'>You will be prompted to provide the password. Enter your password, press the Enter key, then use down arrow to go to next cell. Begin running steps with Shift + Enter keys.</p>"
   ]
  },
  {
   "cell_type": "code",
   "execution_count": null,
   "id": "7f6e2574-9fa0-4d4a-ad70-16d471b0b67f",
   "metadata": {
    "tags": []
   },
   "outputs": [],
   "source": [
    "%connect local, hidewarnings=true"
   ]
  },
  {
   "cell_type": "markdown",
   "id": "2e2c70bc-988b-4cac-bfa2-4cce549230a7",
   "metadata": {},
   "source": [
    "<p style = 'font-size:16px;font-family:Arial;color:#00233C'>Setup for execution of notebook. Begin running steps with Shift + Enter keys.</p>\n"
   ]
  },
  {
   "cell_type": "code",
   "execution_count": null,
   "id": "44e777cf-6e62-42eb-99ba-49211a878ac6",
   "metadata": {},
   "outputs": [],
   "source": [
    "SET query_band='DEMO=Customer_Behavior_Analysis_SQL.ipynb;' UPDATE FOR SESSION;"
   ]
  },
  {
   "cell_type": "markdown",
   "id": "46d78020-3d6b-457a-ba28-7f577d08aaab",
   "metadata": {},
   "source": [
    "<hr style=\"height:2px;border:none;background-color:#00233C;\">\n",
    "<p style = 'font-size:20px;font-family:Arial;color:#00233C'><b>2. Getting Data for This Demo</b>\n",
    "<p style = 'font-size:16px;font-family:Arial;color:#00233C'>We have provided data for this demo on cloud storage.  You have the option of either running the demo using foreign tables to access the data without using any storage on your environment or downloading the data to local storage which may yield somewhat faster execution, but there could be considerations of available storage.  There are two statements in the following cell, and one is commented out.  You may switch which mode you choose by changing the comment string. \n"
   ]
  },
  {
   "cell_type": "code",
   "execution_count": null,
   "id": "e1d791e0-6e46-4a50-8206-d10f9f819169",
   "metadata": {},
   "outputs": [],
   "source": [
    "call get_data('DEMO_Retail_cloud');    -- takes about 30 seconds\n",
    "-- call get_data('DEMO_Retail_local');    -- takes about 50 seconds"
   ]
  },
  {
   "cell_type": "markdown",
   "id": "ac1af89b-81e4-4df0-8df1-94179d48a183",
   "metadata": {},
   "source": [
    "<p style = 'font-size:16px;font-family:Arial;color:#00233C'>Optional step – if you want to see status of databases/tables created and space used.</p>\n"
   ]
  },
  {
   "cell_type": "code",
   "execution_count": null,
   "id": "f6486b67-2613-436c-9d01-f992a36552da",
   "metadata": {},
   "outputs": [],
   "source": [
    "call space_report();  -- optional, takes about 10 seconds"
   ]
  },
  {
   "cell_type": "markdown",
   "id": "392580ba-a022-4ba4-96a8-4d7f98cb79cb",
   "metadata": {},
   "source": [
    "<hr style=\"height:2px;border:none;background-color:#00233C;\">\n",
    "<p style = 'font-size:20px;font-family:Arial;color:#00233C'><b>3. Analyze the raw data set</b></p>\n",
    "<p style = 'font-size:16px;font-family:Arial;color:#00233C'>\n",
    "Source events data may come from other source systems, log files, Object Storage, etc.  Let us start by analyzing the customer event data."
   ]
  },
  {
   "cell_type": "code",
   "execution_count": null,
   "id": "58b0b9d7-c406-45ba-809a-f65fab1f203e",
   "metadata": {},
   "outputs": [],
   "source": [
    "Select TOP 5 * from DEMO_Retail.Retail_Events;"
   ]
  },
  {
   "cell_type": "markdown",
   "id": "39620fb1-46fb-4bc2-9b9c-fa4f2e8f8067",
   "metadata": {},
   "source": [
    "<p style = 'font-size:16px;font-family:Arial;color:#00233C'>In the sample data we can see the events in the table."
   ]
  },
  {
   "cell_type": "markdown",
   "id": "9def2ef5-0c08-4b57-890a-96d442762815",
   "metadata": {
    "tags": []
   },
   "source": [
    "<p style = 'font-size:16px;font-family:Arial;color:#00233C'>\n",
    "In this notebook we will use two powerful behavioral analysis functions available in Vantage:\n",
    "<ol style = 'font-size:16px;font-family:Arial;color:#00233C'>    \n",
    " <li style = 'font-size:16px;font-family:Arial;color:#00233C'><b>Sessionize</b> Which will group a series of events into a keyed (by number) session.</li>\n",
    "<li style = 'font-size:16px;font-family:Arial;color:#00233C'><b>nPath</b> Sophisticated pattern matching function to analyze and collect data across rows.</li>\n",
    "</ol>    "
   ]
  },
  {
   "cell_type": "markdown",
   "id": "25314088-51f2-4be9-b72f-2ae63348e9d7",
   "metadata": {},
   "source": [
    "<hr style=\"height:2px;border:none;background-color:#00233C;\">\n",
    "\n",
    "<p style = 'font-size:20px;font-family:Arial;color:#00233C'><b>4. Sessionize Function</b></p>\n",
    "<p style = 'font-size:16px;font-family:Arial;color:#00233C'>The Sessionize function maps each click in a session to a unique session identifier. A session is a sequence of clicks by one user that are separated by at most n seconds. The function is useful for both sessionization and detecting web crawler (bot) activity. A typical use is to understand user browsing behavior on a website.</p>\n",
    "\n",
    "<p style = 'font-size:16px;font-family:Arial;color:#00233C'>Sessionization is the process of identifying and grouping together all the interactions a user has with a website or application during a single visit, typically based on the user's activity within a certain timeframe, such as prior to 30 minutes of inactivity.\n",
    "</p>\n",
    "<p style = 'font-size:16px;font-family:Arial;color:#00233C'>Clickstream data refers to the sequence of clicks and other user interactions with a website or application. Sessionization of clickstream data involves analyzing this data to identify each user's session, so you can better understand how users are interacting with the site and make improvements to user experience and engagement.</p>\n",
    "    \n",
    "<p style = 'font-size:16px;font-family:Arial;color:#00233C'>In our case we are taking a duration of 24 hours for our session and observing the user behavior in this time.</p>"
   ]
  },
  {
   "cell_type": "code",
   "execution_count": null,
   "id": "0dc6b1bf-6516-47f0-8df4-0f23cdebcb88",
   "metadata": {},
   "outputs": [],
   "source": [
    "Create multiset table demo_sessionized_events as (\n",
    "SELECT * FROM Sessionize (\n",
    " ON DEMO_Retail.Retail_Events\n",
    " PARTITION BY entity_id\n",
    " ORDER BY datestamp\n",
    " USING\n",
    " TimeColumn ('datestamp')\n",
    " TimeOut (86400)\n",
    ") )with data;"
   ]
  },
  {
   "cell_type": "code",
   "execution_count": null,
   "id": "f1fd2f65-65f3-40df-ab9a-e0e350f978a8",
   "metadata": {},
   "outputs": [],
   "source": [
    "select TOP 5 * from demo_sessionized_events;"
   ]
  },
  {
   "cell_type": "markdown",
   "id": "524c0ab1-3ce4-4cb7-b8c1-9dcd3996988e",
   "metadata": {},
   "source": [
    "<p style = 'font-size:16px;font-family:Arial;color:#00233C'>In the data returned above we can see that the function has assigned a sessionid on the events based on the parameter(time_out value) we have given"
   ]
  },
  {
   "cell_type": "markdown",
   "id": "8f1ec9cc-02ef-4610-8eea-3ef0672aaecb",
   "metadata": {},
   "source": [
    "<hr style=\"height:2px;border:none;background-color:#00233C;\">\n",
    "\n",
    "<p style = 'font-size:20px;font-family:Arial;color:#00233C'><b>5. nPath Function</b>\n"
   ]
  },
  {
   "cell_type": "markdown",
   "id": "7b3fc992-39bc-4d13-ae5b-0e79f45cdc2a",
   "metadata": {},
   "source": [
    "<p style = 'font-size:16px;font-family:Arial;color:#00233C'>The nPath function scans a set of rows, looking for patterns that you specify. For each set of input rows that matches the pattern, nPath produces a single output row. The function provides a flexible pattern-matching capability that lets you specify complex patterns in the input data and define the values that are output for each matched input set.</p>\n",
    "<p style = 'font-size:16px;font-family:Arial;color:#00233C'>\n",
    "    <b> Paths leading to Cancellation.</b><p>\n",
    "<ol style = 'font-size:16px;font-family:Arial'>\n",
    "    <li>Pass the sessionized data by reference.</li>\n",
    "    <li>Provide partitioning (session key) and ordering columns.</li>\n",
    "    <li>Mode <b>OVERLAPPING</b> vs. <b>NONOVERLAPPING</b>\n",
    "        <ul style = 'font-size:16px;font-family:Arial'>\n",
    "            <li><b>OVERLAPPING</b> finds every occurrence of the match, regardless of the current row being part of a previous match.</li>\n",
    "            <li><b>NONOVERLAPPING</b> starts matching again at the row that follows the previous match.\n",
    "        </ul>\n",
    "    </li>\n",
    "    <li>Symbols.  Create a set of column expression aliases that can be assembled into a pattern to match.\n",
    "        <ul style = 'font-size:16px;font-family:Arial'>\n",
    "            <li>Example: \"EVENT = 'Mem Purchase' as P\" will alias a match on the EVENT column when the content equals 'Mem Purchase'.</li>\n",
    "        </ul>\n",
    "    </li>\n",
    "      <li>Pattern.  Compose a pattern to search for across the rows of events.  This pattern is composed of Symbols and directives.\n",
    "        <ul style = 'font-size:16px;font-family:Arial'>\n",
    "            <li>Example: '^P' uses a directive ^ to indicate the P Symbol must occur at the beginning of the group of rows</li>\n",
    "        </ul>\n",
    "    </li>\n",
    "    <li>Result.  Since nPath emits a single row per group-of-row matches, Result indicates what columns make up this row and how to aggregate the data.</li>\n",
    "    </ol>\n",
    "    "
   ]
  },
  {
   "cell_type": "code",
   "execution_count": null,
   "id": "204823d1-f9dc-4f87-b6fe-ac023baa125f",
   "metadata": {},
   "outputs": [],
   "source": [
    "Create multiset table nPath_mem_cancel as (\n",
    "SELECT * FROM NPATH\n",
    "    (ON demo_sessionized_events\n",
    "        PARTITION BY sessionid\n",
    "        ORDER BY datestamp\n",
    "    USING\n",
    "        MODE (NONOVERLAPPING)\n",
    "        SYMBOLS (True as A ,event IN ('Mem Cancel') AS B)\n",
    "        PATTERN ('A{2,5}.B')\n",
    "        RESULT (FIRST (entity_id OF A) AS entity_id, \n",
    "                FIRST (sessionid OF A) AS sessionid, \n",
    "                ACCUMULATE (cast(event as VARCHAR(50) CHARACTER SET UNICODE NOT CASESPECIFIC) OF ANY(A,B)) AS path, \n",
    "                COUNT (* OF ANY (A,B)) AS event_cnt)\n",
    "    )) with data;"
   ]
  },
  {
   "cell_type": "code",
   "execution_count": null,
   "id": "75ce9de8-b96f-49fa-bc45-69a330485a3c",
   "metadata": {},
   "outputs": [],
   "source": [
    "select TOP 5 * from nPath_mem_cancel;"
   ]
  },
  {
   "cell_type": "markdown",
   "id": "c63e11f9-515b-4114-b43c-396b836f768f",
   "metadata": {},
   "source": [
    "<p style = 'font-size:16px;font-family:Arial;color:#00233C'>\n",
    "Here we can clearly see that the nPath function has created a Path the customer took to the final event that is cancellation of the membership(Mem Cancel) as we have mentioned in the function.</p>"
   ]
  },
  {
   "cell_type": "markdown",
   "id": "583a6dea-8db4-43f4-b104-555c67102331",
   "metadata": {
    "tags": []
   },
   "source": [
    "<p style = 'font-size:16px;font-family:Arial;color:#00233C'>\n",
    "    <b> Paths leading to Purchase.</b><p>\n",
    "<p style = 'font-size:16px;font-family:Arial;color:#00233C'>Since nPath emits a single row per match, it greatly reduces the number of rows returned from the function call.  Below we construct the statement to match sessions where either 'Membership Purchase' or 'Product Purchase' occurred after a series of prior actions of at least one action and no more than five actions:\n",
    "<ol style = 'font-size:16px;font-family:Arial;color:#00233C'>    \n",
    "   <li style = 'font-size:16px;font-family:Arial;color:#00233C'>Create Three Symbols:\n",
    "       <ul style = 'font-size:16px;font-family:Arial;color:#00233C'>\n",
    "           <li style = 'font-size:16px;font-family:Arial;color:#00233C'>MP: Membership Purchase</li>\n",
    "           <li style = 'font-size:16px;font-family:Arial;color:#00233C'>PP: Product Purchase</li>\n",
    "           <li style = 'font-size:16px;font-family:Arial;color:#00233C'>A: Match any row not Membership Purchase or Product Purchase</li>\n",
    "       </ul>\n",
    "    </li>\n",
    "    <li style = 'font-size:16px;font-family:Arial;color:#00233C'>Assemble the Symbols into a Pattern using directives to match any A event between one and five times preceding MP OR PP:\n",
    "        <ul style = 'font-size:16px;font-family:Arial;color:#00233C'>\n",
    "            <li style = 'font-size:16px;font-family:Arial;color:#00233C'> A{1,5}.(PP|MP)</li>\n",
    "        </ul>\n",
    "    </li>\n",
    "    <li style = 'font-size:16px;font-family:Arial;color:#00233C'>Return the sessionid, path, and number of steps</li>\n",
    "    </ol>"
   ]
  },
  {
   "cell_type": "code",
   "execution_count": null,
   "id": "6470978f-99ee-424b-882d-4997bdbb2a96",
   "metadata": {},
   "outputs": [],
   "source": [
    "SELECT TOP 5 * FROM NPATH\n",
    "    (ON demo_sessionized_events\n",
    "        PARTITION BY sessionid\n",
    "        ORDER BY datestamp\n",
    "    USING\n",
    "        MODE (NONOVERLAPPING)\n",
    "        SYMBOLS (event = 'Purchase' AS PP, event = 'Mem Purchase' AS MP, event NOT IN ('Purchase', 'Mem Purchase') AS A)\n",
    "        PATTERN ('A{1,5}.(PP|MP)')\n",
    "        RESULT (FIRST (datestamp of A) as start_time, \n",
    "                FIRST (entity_id of A) as entity_id, \n",
    "                FIRST (sessionid of ANY(MP, A, PP)) as sessionid, \n",
    "                COUNT (* of ANY(MP, A, PP)) as event_cnt, \n",
    "                ACCUMULATE (cast(event as VARCHAR(50) CHARACTER SET UNICODE NOT CASESPECIFIC) of ANY(MP, A, PP)) as path)\n",
    "    );"
   ]
  },
  {
   "cell_type": "markdown",
   "id": "cd41434e-0991-4b83-a78e-ae2b7926b772",
   "metadata": {},
   "source": [
    "<p style = 'font-size:16px;font-family:Arial;color:#00233C'> Here, we can see that the nPath function calculates and displays the path customer took to our final event (Purchase or Mem Purchase) as mentioned in the Pattern parameter of the function."
   ]
  },
  {
   "cell_type": "markdown",
   "id": "e7762831-1343-4473-b31b-04c5f97405a4",
   "metadata": {},
   "source": [
    "<hr style=\"height:2px;border:none;background-color:#00233C;\">\n",
    "\n",
    "<p style = 'font-size:20px;font-family:Arial;color:#00233C'><b>6. Analysis and Visualization</b>\n",
    "<p style = 'font-size:16px;font-family:Arial;color:#00233C'> We can perform analysis on the data in-database and visualize the results by plotting the graphs and paths</p>"
   ]
  },
  {
   "cell_type": "code",
   "execution_count": null,
   "id": "20b1cc51-c6be-4349-8ea4-29b05303b588",
   "metadata": {},
   "outputs": [],
   "source": [
    "select event_cnt, count(*) as count_sessionid from nPath_mem_cancel group by 1 order by 2 desc;"
   ]
  },
  {
   "cell_type": "code",
   "execution_count": null,
   "id": "b023f67e-8ffe-4b3a-b922-1f5de9cabf7a",
   "metadata": {},
   "outputs": [],
   "source": [
    "%chart x=event_cnt, y=count_sessionid, gridx=false, gridy=false, mark=bar, title=\"Number of events in a Path\", width=600, height=400, labelx=\"Event count in path\", labely=\"Number of Path\" , typex=o"
   ]
  },
  {
   "cell_type": "markdown",
   "id": "b9c25dab-b27f-4687-b1a1-ae6e3bb61784",
   "metadata": {},
   "source": [
    "<p style = 'font-size:16px;font-family:Arial;color:#00233C'> In our nPath function we have used the pattern where final event is 'Mem Cancel', The above histogram shows the number of events where the final event is Mem Cancel."
   ]
  },
  {
   "cell_type": "markdown",
   "id": "55245cef-7ec9-499b-a3f4-fb58268693ac",
   "metadata": {},
   "source": [
    "<hr style=\"height:1px;border:none;background-color:#00233C;\">\n",
    "<p style = 'font-size:18px;font-family:Arial;color:#00233C'><b>5.1  Sankey Charts</b></p>\n",
    "<p style = 'font-size:16px;font-family:Arial;color:#00233C'> In order to visualize the distribution of the different path of events, we typically use Sankey diagram of the aggregated over the paths reported by the NPATH command.</p>\n"
   ]
  },
  {
   "cell_type": "markdown",
   "id": "023bde82-ecfe-49f3-a510-0fa198903401",
   "metadata": {},
   "source": [
    "<p style = 'font-size:16px;font-family:Arial;'>A visualization of this gives us lots of insight into the most common paths that lead to purchase of membership. This is an SQL notebook and we have another Notebook for same usecase which has python code for visualizations. A Sankey Diagram was created using the output of the nPath® function used in the query above and below is the image for the nPath® function.</p>\n",
    "\n",
    "<img  src=\"images/nPath_output.png\"/>"
   ]
  },
  {
   "cell_type": "markdown",
   "id": "b4c58dcb-1011-493b-b2bc-84163a0ae9dd",
   "metadata": {},
   "source": [
    "<p style = 'font-size:16px;font-family:Arial;color:#00233C'> The dark green path at the TOP Product Return ---> Purchase.<br>\n",
    "\n",
    "<p style = 'font-size:16px;font-family:Arial;color:#00233C'> This visualization takes the input from Teradata nPath output. Here also we can see the events customer took to his final event of 'Purchase' or 'Mem Purchase'(membership purchase). </p>\n"
   ]
  },
  {
   "cell_type": "markdown",
   "id": "addaa334-6674-4930-8101-d73266575094",
   "metadata": {},
   "source": [
    "<p style = 'font-size:18px;font-family:Arial;color:#00233C'><b>Conclusion</b></p>\n",
    "<p style = 'font-size:16px;font-family:Arial;color:#00233C'>Thus, with Teradata Vantage and ClearScape Analytics we can bring some clarity to the complex analysis of customers’ behavior. Using pathing analytics, we can understand the common paths that customers take that lead to a variety of outcomes, such as sales conversion, cart abandonment, or product searches. Using Vantage to analyze all our data at scale, we have the chance to increase customer satisfaction and conversion rates.</p>"
   ]
  },
  {
   "cell_type": "markdown",
   "id": "f8afb46b-1022-47a5-9a80-e539d6e94843",
   "metadata": {},
   "source": [
    "<hr style=\"height:2px;border:none;background-color:#00233C;\">\n",
    "\n",
    "<p style = 'font-size:20px;font-family:Arial;color:#00233C'><b>7. Cleanup</b></p>\n",
    "<p style = 'font-size:18px;font-family:Arial;color:#00233C'> <b>Work tables </b></p>\n",
    "<p style = 'font-size:16px;font-family:Arial;color:#00233C'>We need to clean up our work tables to prevent errors next time.</p>"
   ]
  },
  {
   "cell_type": "code",
   "execution_count": null,
   "id": "cf51ae24-8b31-46a9-a6b4-1438e19dc7d6",
   "metadata": {},
   "outputs": [],
   "source": [
    "drop table nPath_mem_cancel;"
   ]
  },
  {
   "cell_type": "code",
   "execution_count": null,
   "id": "e79f40fc-a866-4bcf-99a2-910b77443d9b",
   "metadata": {},
   "outputs": [],
   "source": [
    "drop table demo_sessionized_events;"
   ]
  },
  {
   "cell_type": "markdown",
   "id": "fbc90690-dca4-411d-aec8-7dcc5596250c",
   "metadata": {},
   "source": [
    "<p style = 'font-size:18px;font-family:Arial;color:#00233C'><b>Database and Tables </b></p>\n",
    "<p style = 'font-size:16px;font-family:Arial;color:#00233C'>We will use the following code to clean up tables and databases created for this demonstration.</p>"
   ]
  },
  {
   "cell_type": "code",
   "execution_count": null,
   "id": "a9486fba-b500-4d4f-8596-2ab2fd105243",
   "metadata": {},
   "outputs": [],
   "source": [
    "call remove_data('DEMO_Retail');-- takes about 10 seconds, optional if you want to use the data later"
   ]
  },
  {
   "cell_type": "markdown",
   "id": "a0ab4e62-1974-48ec-b7c2-39b9f73bded0",
   "metadata": {},
   "source": [
    "<hr style=\"height:2px;border:none;background-color:#00233C;\">\n",
    "<b style = 'font-size:20px;font-family:Arial;color:#00233C'>Required Materials</b>\n",
    "<p style = 'font-size:16px;font-family:Arial;color:#00233C'>Let’s look at the elements we have available for reference for this notebook:</p>\n",
    "\n",
    "<p style = 'font-size:18px;font-family:Arial;color:#00233C'><b>Links:</b></p>\n",
    "<ul style = 'font-size:16px;font-family:Arial;color:#00233C'>\n",
    "   <li style = 'font-size:16px;font-family:Arial;color:#00233C'><a href = 'https://docs.teradata.com/reader/CWVY0AJy8wyyf7Sm0EsK~w/wjkE42ypEfeMkRFOIqVXfQ'>Teradata nPath Function Reference</a></li>\n",
    "    <li style = 'font-size:16px;font-family:Arial;color:#00233C'><a href = 'https://docs.teradata.com/rear/CWVY0AJy8wyyf7Sm0EsK~w/RNbOiUg9~r~cxSZHrR~sFQ'>Teradata Sessionize Function Reference</a></li>\n",
    "        \n",
    "</ul>\n",
    "\n",
    "\n",
    "<p style = 'font-size:18px;font-family:Arial;color:#00233C'><b>Filters: </b></p>\n",
    "    <li style = 'font-size:16px;font-family:Arial;color:#00233C'><b>Industry:</b> Retail</li>\n",
    "    <li style = 'font-size:16px;font-family:Arial;color:#00233C'><b>Functionality:</b> Path Analytics</li>\n",
    "    <li style = 'font-size:16px;font-family:Arial;color:#00233C'><b>Use Case:</b> Digital Customer Conversion</li></p>\n",
    "    <p style = 'font-size:18px;font-family:Arial;color:#00233C'><b>Related Resources:</b></p>\n",
    "<li style = 'font-size:16px;font-family:Arial;color:#00233C'><a href = 'https://teradata.seismic.com/Link/Content/DCGBP9J9gjD288TPcG3HFgXDHDW8'>Broken Digital Journeys CX Solution Accelerator Demo via Python Video - External - SP004183</a></li>\n",
    "<li style = 'font-size:16px;font-family:Arial;color:#00233C'><a href = 'https://www.teradata.com/Blogs/Customer-360-Analytics-What-Lies-Ahead'>Customer 360 Analytics, What Lies Ahead?</a></li>\n",
    "<li style = 'font-size:16px;font-family:Arial;color:#00233C'><a href = 'https://www.teradata.com/Trends/Data-Analytics#:~:text=Data%20Analytics-,Royal%20Bank%20of%20Canada%20Deepens%20the%20Customer%20Experience,-Data%20Analytics'>Royal Bank of Canada Deepens the Customer Experience</a></li>\n"
   ]
  },
  {
   "cell_type": "markdown",
   "id": "153ae3da-24a5-481a-a2d8-8736570935b7",
   "metadata": {},
   "source": [
    "<footer style=\"padding-bottom:35px; background:#f9f9f9; border-bottom:3px solid #00233C\">\n",
    "    <div style=\"float:left;margin-top:14px\">ClearScape Analytics™</div>\n",
    "    <div style=\"float:right;\">\n",
    "        <div style=\"float:left; margin-top:14px\">\n",
    "            © 2023, 2024 Teradata. All rights reserved.\n",
    "        </div>\n",
    "    </div>\n",
    "</footer>"
   ]
  }
 ],
 "metadata": {
  "kernelspec": {
   "display_name": "Teradata SQL",
   "language": "Teradata SQL",
   "name": "teradatasql"
  },
  "language_info": {
   "codemirror_mode": "Teradata SQL",
   "file_extension": ".tdrs",
   "mimetype": "application/vnd.teradata.resultset",
   "name": "Teradata SQL",
   "nbconvert_exporter": "",
   "pygments_lexer": "",
   "version": "16.20"
  }
 },
 "nbformat": 4,
 "nbformat_minor": 5
}
