{
 "cells": [
  {
   "cell_type": "markdown",
   "metadata": {},
   "source": [
    "<header>\n",
    "   <p  style='font-size:36px;font-family:Arial; color:#F0F0F0; background-color: #00233c; padding-left: 20pt; padding-top: 20pt;padding-bottom: 10pt; padding-right: 20pt;'>\n",
    "       Behavioral Analysis and Visualization using Vantage\n",
    "  <br>\n",
    "       <img id=\"teradata-logo\" src=\"https://storage.googleapis.com/clearscape_analytics_demo_data/DEMO_Logo/teradata.svg\" alt=\"Teradata\" style=\"width: 125px; height: auto; margin-top: 20pt;\">\n",
    "    </p>\n",
    "</header>"
   ]
  },
  {
   "cell_type": "markdown",
   "metadata": {},
   "source": [
    "<p style = 'font-size:18px;font-family:Arial;color:#00233C'><b>Introduction</b></p>\n",
    "<p style = 'font-size:16px;font-family:Arial;color:#00233C'>Customer behavior varies from industry to industry and company to company, meaning there isn’t one easy solution. Although it seems complex, Teradata Vantage and ClearScape Analytics can bring some clarity to the customers’ behavior. Keep in mind that customer activity can include website click data, healthcare records, or financial data. Users will need to combine all this data to get a full picture of the customers’ experience. Using pathing analytics, businesses can understand the common paths that customers take that lead to a variety of outcomes, such as sales conversion, cart abandonment, or product searches. When businesses use Vantage to analyze all their data at scale, they have the chance to increase customer satisfaction and conversion rates.</p>\n",
    "<p style = 'font-size:18px;font-family:Arial;color:#00233C'><b>Business Value</b></p>\n",
    "<li style = 'font-size:16px;font-family:Arial;color:#00233C'>Using website click data, users can identify customers’ actions that lead to sales over a specified amount.</li>\n",
    "<li style = 'font-size:16px;font-family:Arial;color:#00233C'>With sensor data from industrial processes, users can identify poor product quality.</li>\n",
    "<li style = 'font-size:16px;font-family:Arial;color:#00233C'>Healthcare records of individual patients will help hospitals identify paths that indicate that patients are at risk of developing conditions such as heart disease or diabetes.</li>\n",
    "<li style = 'font-size:16px;font-family:Arial;color:#00233C'>Using financial data from individual accounts can help identify patterns of fraud or credit risks.</li>\n",
    "    </p>\n",
    "<p style = 'font-size:18px;font-family:Arial;color:#00233C'><b>Why Vantage?</b></p>\n",
    "<p style = 'font-size:16px;font-family:Arial;color:#00233C'>Vantage has unique analytic capabilities for understanding customer and user behavior over time. In fact, these analytic techniques can be applied at massive scale to derive more accurate results. Then, these results can be combined with other analytics to create more advanced and accurate prediction models. Vantage also allows organizations to scale these models horizontally, by training segmented models per region, user type, etc., or vertically, by combining data from millions or billions of interactions. All of this can be deployed operationally to understand and predict actions in real-time.</p> \n",
    "    \n",
    "<p style = 'font-size:16px;font-family:Arial;color:#00233C'>\n",
    "nPath® is useful when your goal is to identify the paths that lead to an outcome. The nPath function scans a set of rows, looking for patterns that you specify. For each set of input rows that matches the pattern, nPath produces a single output row. The function provides a flexible pattern-matching capability that lets you specify complex patterns in the input data and define the values that are output for each matched input set. </p>    \n"
   ]
  },
  {
   "cell_type": "markdown",
   "metadata": {},
   "source": [
    "<hr style=\"height:2px;border:none;background-color:#00233C;\">\n",
    "\n",
    "<p style = 'font-size:20px;font-family:Arial;color:#00233C'><b>1. Connect to Vantage,  import python packages and explore the dataset</b></p>\n"
   ]
  },
  {
   "cell_type": "markdown",
   "metadata": {},
   "source": [
    "<p style = 'font-size:16px;font-family:Arial;color:#00233C'>Let us start with importing the required libraries, set environment variables and connect to Vantage.</p>"
   ]
  },
  {
   "cell_type": "code",
   "execution_count": null,
   "metadata": {},
   "outputs": [],
   "source": [
    "#import libraries\n",
    "import getpass\n",
    "import warnings\n",
    "\n",
    "\n",
    "import pandas as pd\n",
    "import numpy as np\n",
    "import matplotlib.pyplot as plt\n",
    "\n",
    "\n",
    "from teradataml import *\n",
    "\n",
    "\n",
    "display.max_rows = 5\n",
    "\n",
    "warnings.filterwarnings('ignore')"
   ]
  },
  {
   "cell_type": "markdown",
   "metadata": {},
   "source": [
    "<p style = 'font-size:16px;font-family:Arial;color:#00233C'>We will be prompted to provide the password. We will enter the password, press the Enter key, and then use the down arrow to go to the next cell. Begin running steps with Shift + Enter keys. </p>"
   ]
  },
  {
   "cell_type": "code",
   "execution_count": null,
   "metadata": {},
   "outputs": [],
   "source": [
    "%run -i ../startup.ipynb\n",
    "eng = create_context(host = 'host.docker.internal', username='demo_user', password = password)\n",
    "print(eng)"
   ]
  },
  {
   "cell_type": "code",
   "execution_count": null,
   "metadata": {},
   "outputs": [],
   "source": [
    "%%capture\n",
    "execute_sql('''SET query_band='DEMO=BehavioralAnalysis_Python.ipynb;' UPDATE FOR SESSION; ''')"
   ]
  },
  {
   "cell_type": "markdown",
   "metadata": {},
   "source": [
    "<p style = 'font-size:16px;font-family:Arial;color:#00233C'>Begin running steps with Shift + Enter keys.</p>"
   ]
  },
  {
   "cell_type": "markdown",
   "metadata": {},
   "source": [
    "<hr style=\"height:2px;border:none;background-color:#00233C;\">\n",
    "\n",
    "<p style = 'font-size:20px;font-family:Arial;color:#00233C'><b>2. Getting Data for This Demo</b></p>\n",
    "<p style = 'font-size:16px;font-family:Arial;color:#00233C'>We have provided data for this demo on cloud storage. We have the option of either running the demo using foreign tables to access the data without using any storage on our environment or downloading the data to local storage, which may yield somewhat faster execution. However, we need to consider available storage. There are two statements in the following cell, and one is commented out. We may switch which mode we choose by changing the comment string.\n",
    "</p>"
   ]
  },
  {
   "cell_type": "code",
   "execution_count": null,
   "metadata": {},
   "outputs": [],
   "source": [
    "%run -i ../run_procedure.py \"call get_data('DEMO_Retail_cloud');\"\n",
    "# takes about 1 minute, estimated space: 0 MB\n",
    "# %run -i ../run_procedure.py \"call get_data('DEMO_Retail_local');\"\n",
    "# takes about 2 minutes, estimated space: 23 MB"
   ]
  },
  {
   "cell_type": "markdown",
   "metadata": {},
   "source": [
    "<p style = 'font-size:16px;font-family:Arial;color:#00233C'>Optional step – We should execute the below step only if we want to see the status of databases/tables created and space used.</p>"
   ]
  },
  {
   "cell_type": "code",
   "execution_count": null,
   "metadata": {},
   "outputs": [],
   "source": [
    "%run -i ../run_procedure.py \"call space_report();\""
   ]
  },
  {
   "cell_type": "markdown",
   "metadata": {},
   "source": [
    "<hr style=\"height:2px;border:none;background-color:#00233C;\">\n",
    "<p style = 'font-size:20px;font-family:Arial;color:#00233C'><b>3. Analyze the raw data set</b></p>\n",
    "<p style = 'font-size:16px;font-family:Arial;color:#00233C'>\n",
    "Source events data may come from other source systems, log files, Object Storage, etc.  Let us start by analyzing the customer event data."
   ]
  },
  {
   "cell_type": "code",
   "execution_count": null,
   "metadata": {},
   "outputs": [],
   "source": [
    "tdf_retail_events = DataFrame(in_schema('DEMO_Retail', 'Retail_Events'))\n",
    "tdf_retail_events"
   ]
  },
  {
   "cell_type": "markdown",
   "metadata": {},
   "source": [
    "<p style = 'font-size:16px;font-family:Arial;color:#00233C'>In the sample data we can see shows the events in the table we have linked in the dataframe."
   ]
  },
  {
   "cell_type": "markdown",
   "metadata": {},
   "source": [
    "<p style = 'font-size:16px;font-family:Arial;color:#00233C'>\n",
    "In this notebook we will use two powerful behavioral analysis functions available in Vantage:\n",
    "<ol style = 'font-size:16px;font-family:Arial;color:#00233C'>    \n",
    " <li style = 'font-size:16px;font-family:Arial;color:#00233C'><b>Sessionize</b> Which will group a series of events into a keyed (by number) session.</li>\n",
    "<li style = 'font-size:16px;font-family:Arial;color:#00233C'><b>nPath</b> Sophisticated pattern matching function to analyze and collect data across rows.</li>\n",
    "</ol>    "
   ]
  },
  {
   "cell_type": "markdown",
   "metadata": {},
   "source": [
    "<hr style=\"height:2px;border:none;background-color:#00233C;\">\n",
    "\n",
    "<p style = 'font-size:20px;font-family:Arial;color:#00233C'><b>4. Sessionize Function</b></p>\n",
    "<p style = 'font-size:16px;font-family:Arial;color:#00233C'>The Sessionize function maps each click in a session to a unique session identifier. A session is a sequence of clicks by one user that are separated by at most n seconds. The function is useful for both sessionization and detecting web crawler (bot) activity. A typical use is to understand user browsing behavior on a website.</p>\n",
    "\n",
    "<p style = 'font-size:16px;font-family:Arial;color:#00233C'>Sessionization is the process of identifying and grouping together all the interactions a user has with a website or application during a single visit, typically based on the user's activity within a certain timeframe, such as prior to 30 minutes of inactivity.\n",
    "</p>\n",
    "<p style = 'font-size:16px;font-family:Arial;color:#00233C'>Clickstream data refers to the sequence of clicks and other user interactions with a website or application. Sessionization of clickstream data involves analyzing this data to identify each user's session, so you can better understand how users are interacting with the site and make improvements to user experience and engagement.</p>\n",
    "    \n",
    "<p style = 'font-size:16px;font-family:Arial;color:#00233C'>In our case we are taking a duration of 24 hours for our session and observing the user behavior in this time.</p>"
   ]
  },
  {
   "cell_type": "code",
   "execution_count": null,
   "metadata": {},
   "outputs": [],
   "source": [
    "# Call the Sessionize function.  This function has several required parameters:\n",
    "# data_partition_column - unique identifier of the user or entity we consolidate events for.\n",
    "# data_order_column - the column or list of columns to use to order the sessions.\n",
    "# time_column - column to apply the time boundary around to create a \"session\"\n",
    "# time_out - duration in seconds to mark rows as a single session, 24 hours as example below, float.\n",
    "# function returns an instance of the \"Sessionize\" object.  The \"result\" property is the teradata dataframe (virtual dataframe)\n",
    "\n",
    "sessionized_events = Sessionize(data = tdf_retail_events, \n",
    "                               data_partition_column = ['entity_id'], \n",
    "                               data_order_column = ['datestamp'], \n",
    "                               time_column = 'datestamp', \n",
    "                               time_out = 86400.00)\n",
    "\n",
    "sessionized_events.result"
   ]
  },
  {
   "cell_type": "markdown",
   "metadata": {},
   "source": [
    "<p style = 'font-size:16px;font-family:Arial;color:#00233C'>In the data returned above we can see that the function has assigned a sessionid on the events based on the parameter(time_out value) we have given"
   ]
  },
  {
   "cell_type": "code",
   "execution_count": null,
   "metadata": {},
   "outputs": [],
   "source": [
    "#commit our sessionized results to a permanent table:\n",
    "tdf_sessionized_events = sessionized_events.result\n",
    "tdf_sessionized_events.to_sql(table_name = 'demo_sessionized_events', if_exists = 'replace')"
   ]
  },
  {
   "cell_type": "markdown",
   "metadata": {},
   "source": [
    "<hr style=\"height:2px;border:none;background-color:#00233C;\">\n",
    "\n",
    "<p style = 'font-size:20px;font-family:Arial;color:#00233C'><b>5. nPath Function</b>\n"
   ]
  },
  {
   "cell_type": "markdown",
   "metadata": {},
   "source": [
    "<p style = 'font-size:16px;font-family:Arial;color:#00233C'>The nPath function scans a set of rows, looking for patterns that you specify. For each set of input rows that matches the pattern, nPath produces a single output row. The function provides a flexible pattern-matching capability that lets you specify complex patterns in the input data and define the values that are output for each matched input set.</p>\n",
    "<p style = 'font-size:16px;font-family:Arial;color:#00233C'>\n",
    "    <b> Paths leading to Cancellation.</b><p>\n",
    "<ol style = 'font-size:16px;font-family:Arial'>\n",
    "    <li>Pass the sessionized data by reference.</li>\n",
    "    <li>Provide partitioning (session key) and ordering columns.</li>\n",
    "    <li>Mode <b>OVERLAPPING</b> vs. <b>NONOVERLAPPING</b>\n",
    "        <ul style = 'font-size:16px;font-family:Arial'>\n",
    "            <li><b>OVERLAPPING</b> finds every occurrence of the match, regardless of the current row being part of a previous match.</li>\n",
    "            <li><b>NONOVERLAPPING</b> starts matching again at the row that follows the previous match.\n",
    "        </ul>\n",
    "    </li>\n",
    "    <li>Symbols.  Create a set of column expression aliases that can be assembled into a pattern to match.\n",
    "        <ul style = 'font-size:16px;font-family:Arial'>\n",
    "            <li>Example: \"EVENT = 'Mem Purchase' as P\" will alias a match on the EVENT column when the content equals 'Mem Purchase'.</li>\n",
    "        </ul>\n",
    "    </li>\n",
    "      <li>Pattern.  Compose a pattern to search for across the rows of events.  This pattern is composed of Symbols and directives.\n",
    "        <ul style = 'font-size:16px;font-family:Arial'>\n",
    "            <li>Example: '^P' uses a directive ^ to indicate the P Symbol must occur at the beginning of the group of rows</li>\n",
    "        </ul>\n",
    "    </li>\n",
    "    <li>Result.  Since nPath emits a single row per group-of-row matches, Result indicates what columns make up this row and how to aggregate the data.</li>\n",
    "    </ol>\n",
    "    "
   ]
  },
  {
   "cell_type": "code",
   "execution_count": null,
   "metadata": {},
   "outputs": [],
   "source": [
    "#Create two symbols and assemble them with directives:\n",
    "# 1. True as A - matches any row\n",
    "# 2. EVENT Column match the string 'Mem Cancel' as B\n",
    "# Pattern directs a range of any row (A) between 2 and 5 times preceding 'Mem Cancel' (B) - A{2,5}.B\n",
    "\n",
    "npath_mem_cancel = NPath(data1 = tdf_sessionized_events, \n",
    "                      data1_partition_column = ['SESSIONID'], \n",
    "                      data1_order_column = 'datestamp', \n",
    "                      mode = 'NONOVERLAPPING', \n",
    "                      symbols = ['True as A', 'EVENT in (\\'Mem Cancel\\') as B'], \n",
    "                      pattern = 'A{2,5}.B', \n",
    "                      result = ['FIRST (entity_id OF A) AS entity_id', \n",
    "                               'FIRST (sessionid OF A) AS sessionid', \n",
    "                               'ACCUMULATE (cast(event as VARCHAR(50) CHARACTER SET UNICODE NOT CASESPECIFIC) OF ANY(A,B)) AS path', \n",
    "                               'COUNT (* OF ANY (A,B)) AS event_cnt'])\n",
    "\n",
    "npath_mem_cancel.result"
   ]
  },
  {
   "cell_type": "markdown",
   "metadata": {},
   "source": [
    "<p style = 'font-size:16px;font-family:Arial;color:#00233C'>\n",
    "Here we can clearly see that the nPath function has created a Path the customer took to the final event that is cancellation of the membership(Mem Cancel) as we have mentioned in the function.</p>"
   ]
  },
  {
   "cell_type": "markdown",
   "metadata": {
    "tags": []
   },
   "source": [
    "<p style = 'font-size:16px;font-family:Arial;color:#00233C'>\n",
    "    <b> Paths leading to Purchase.</b><p>\n",
    "<p style = 'font-size:16px;font-family:Arial;color:#00233C'>Since nPath emits a single row per match, it greatly reduces the number of rows returned from the function call.  Below we construct the statement to match sessions where either 'Membership Purchase' or 'Product Purchase' occurred after a series of prior actions of at least one action and no more than five actions:\n",
    "<ol style = 'font-size:16px;font-family:Arial;color:#00233C'>    \n",
    "   <li style = 'font-size:16px;font-family:Arial;color:#00233C'>Create Three Symbols:\n",
    "       <ul style = 'font-size:16px;font-family:Arial;color:#00233C'>\n",
    "           <li style = 'font-size:16px;font-family:Arial;color:#00233C'>MP: Membership Purchase</li>\n",
    "           <li style = 'font-size:16px;font-family:Arial;color:#00233C'>PP: Product Purchase</li>\n",
    "           <li style = 'font-size:16px;font-family:Arial;color:#00233C'>A: Match any row not Membership Purchase or Product Purchase</li>\n",
    "       </ul>\n",
    "    </li>\n",
    "    <li style = 'font-size:16px;font-family:Arial;color:#00233C'>Assemble the Symbols into a Pattern using directives to match any A event between one and five times preceding MP OR PP:\n",
    "        <ul style = 'font-size:16px;font-family:Arial;color:#00233C'>\n",
    "            <li style = 'font-size:16px;font-family:Arial;color:#00233C'> A{1,5}.(PP|MP)</li>\n",
    "        </ul>\n",
    "    </li>\n",
    "    <li style = 'font-size:16px;font-family:Arial;color:#00233C'>Return the sessionid, path, and number of steps</li>\n",
    "    </ol>"
   ]
  },
  {
   "cell_type": "code",
   "execution_count": null,
   "metadata": {},
   "outputs": [],
   "source": [
    "demo_sessionized_events = DataFrame('demo_sessionized_events')\n",
    "\n",
    "npath_purchase = NPath(data1 = demo_sessionized_events, \n",
    "                      data1_partition_column = ['SESSIONID'], \n",
    "                      data1_order_column = 'datestamp', \n",
    "                      mode = 'NONOVERLAPPING', \n",
    "                      symbols = ['EVENT = \\'Purchase\\' AS PP', 'EVENT in (\\'Mem Purchase\\') as MP', 'EVENT not in (\\'Purchase\\', \\'Mem Purchase\\') AS A'], \n",
    "                      pattern = 'A{1,5}.(PP|MP)', \n",
    "                      result = ['FIRST (datestamp of A) AS start_time', \n",
    "                                'FIRST (entity_id of A) as entity_id',\n",
    "                                'FIRST (sessionid of ANY(MP, A, PP)) as sessionid', \n",
    "                                'COUNT (* of ANY(MP, A, PP)) as event_cnt', \n",
    "                                'ACCUMULATE (cast(event as VARCHAR(50) CHARACTER SET UNICODE NOT CASESPECIFIC) OF ANY(MP, A, PP)) AS path', \n",
    "                               ])\n",
    "\n",
    "npath_purchase.result"
   ]
  },
  {
   "cell_type": "markdown",
   "metadata": {},
   "source": [
    "<p style = 'font-size:16px;font-family:Arial;color:#00233C'> Here, we can see that the nPath function calculates and displays the path customer took to our final event (Purchase or Mem Purchase) as mentioned in the Pattern parameter of the function."
   ]
  },
  {
   "cell_type": "markdown",
   "metadata": {},
   "source": [
    "<hr style=\"height:2px;border:none;background-color:#00233C;\">\n",
    "\n",
    "<p style = 'font-size:20px;font-family:Arial;color:#00233C'><b>6. Analysis and Visualization</b>\n",
    "<p style = 'font-size:16px;font-family:Arial;color:#00233C'> We can perform analysis on the data in-database and visualize the results by plotting the graphs and paths</p>"
   ]
  },
  {
   "cell_type": "code",
   "execution_count": null,
   "metadata": {},
   "outputs": [],
   "source": [
    "#Operate on the data as it lies in the database, and only retrieve the result of the aggregation\n",
    "\n",
    "npath_mem_cancel.result.groupby(['path']).count().sort(['count_sessionid'], ascending = False)"
   ]
  },
  {
   "cell_type": "code",
   "execution_count": null,
   "metadata": {},
   "outputs": [],
   "source": [
    "npath_mem_cancel_plot = npath_mem_cancel.result.groupby(['event_cnt']).count().sort(['count_sessionid'], ascending = False)\n",
    "# npath_mem_cancel_plot = npath_mem_cancel_plot.select(['count_event_cnt','path']).groupby('count_event_cnt').count()\n",
    "npath_mem_cancel_plot"
   ]
  },
  {
   "cell_type": "code",
   "execution_count": null,
   "metadata": {},
   "outputs": [],
   "source": [
    "plot =  npath_mem_cancel_plot.plot(x=npath_mem_cancel_plot.event_cnt, y=npath_mem_cancel_plot.count_path,\n",
    "                                 kind='bar',xlabel = 'Event count in path', yabel = 'Number of Path', \n",
    "                                 heading=\"Number of events in a Path\", figsize=(600, 400))\n",
    " \n",
    "# Display the plot.\n",
    "plot.show()"
   ]
  },
  {
   "cell_type": "markdown",
   "metadata": {},
   "source": [
    "<p style = 'font-size:16px;font-family:Arial;color:#00233C'> In our nPath function we have used the pattern where final event is 'Mem Cancel', The above histogram shows the number of events in the path where the final event is Mem Cancel."
   ]
  },
  {
   "cell_type": "markdown",
   "metadata": {},
   "source": [
    "<hr style=\"height:1px;border:none;background-color:#00233C;\">\n",
    "<p style = 'font-size:18px;font-family:Arial;color:#00233C'><b>6.1  Sankey Charts</b></p>\n",
    "<p style = 'font-size:16px;font-family:Arial;color:#00233C'> In order to visualize the distribution of the different path of events, we typically use Sankey diagram of the aggregated over the paths reported by the NPATH command.\n"
   ]
  },
  {
   "cell_type": "code",
   "execution_count": null,
   "metadata": {},
   "outputs": [],
   "source": [
    "from tdnpathviz.visualizations import plot_first_main_paths"
   ]
  },
  {
   "cell_type": "code",
   "execution_count": null,
   "metadata": {},
   "outputs": [],
   "source": [
    "plot_first_main_paths(npath_purchase.result,path_column='path',id_column='entity_id',width=1100)"
   ]
  },
  {
   "cell_type": "markdown",
   "metadata": {},
   "source": [
    "<p style = 'font-size:16px;font-family:Arial;color:#00233C'> To check the details of any path or node we can move the mouse pointer over it and check details. For example if you move the pointer over the dark Green path having the largest width and going towards the right most node(Purchase).The number/count shows there number of entities who followed that path starting from Product Return ---> Purchase.<br>\n",
    "When the pointer is moved over a Node, for example when the pointer is on the long purple Node at the right top Product Return it shows incoming flow count and outgoing flow count. Incoming flow count means the number of different event which led to the event in consideration and outgoing flow count the number of different event after this event. Similarly other nodes and paths can be analyzed.\n",
    "<p style = 'font-size:16px;font-family:Arial;color:#00233C'> This visualization takes the input from Teradata nPath output. Here also we can see the events customer took to his final event of 'Purchase' or 'Mem Purchase'(membership purchase). </p>\n"
   ]
  },
  {
   "cell_type": "markdown",
   "metadata": {},
   "source": [
    "<p style = 'font-size:18px;font-family:Arial;color:#00233C'><b>Conclusion</b></p>\n",
    "<p style = 'font-size:16px;font-family:Arial;color:#00233C'>Thus, with Teradata Vantage and ClearScape Analytics we can bring some clarity to the complex analysis of customers’ behavior. Using pathing analytics, we can understand the common paths that customers take that lead to a variety of outcomes, such as sales conversion, cart abandonment, or product searches. Using Vantage to analyze all our data at scale, we have the chance to increase customer satisfaction and conversion rates.</p>"
   ]
  },
  {
   "cell_type": "markdown",
   "metadata": {},
   "source": [
    "<hr style=\"height:2px;border:none;background-color:#00233C;\">\n",
    "\n",
    "<p style = 'font-size:20px;font-family:Arial;color:#00233C'><b>7. Cleanup</b></p>\n",
    "<p style = 'font-size:18px;font-family:Arial;color:#00233C'> <b>Work tables </b></p>\n",
    "<p style = 'font-size:16px;font-family:Arial;color:#00233C'>We need to clean up our work tables to prevent errors next time.</p>"
   ]
  },
  {
   "cell_type": "code",
   "execution_count": null,
   "metadata": {},
   "outputs": [],
   "source": [
    "db_drop_table(table_name='demo_sessionized_events') "
   ]
  },
  {
   "cell_type": "markdown",
   "metadata": {},
   "source": [
    "<p style = 'font-size:18px;font-family:Arial;color:#00233C'><b>Database and Tables </b></p>\n",
    "<p style = 'font-size:16px;font-family:Arial;color:#00233C'>We will use the following code to clean up tables and databases created for this demonstration.</p>"
   ]
  },
  {
   "cell_type": "code",
   "execution_count": null,
   "metadata": {},
   "outputs": [],
   "source": [
    "%run -i ../run_procedure.py \"call remove_data('DEMO_Retail');\" \n",
    "#Takes 10 seconds\n",
    "#Please note that the same data is used in UseCases/TextProcessing_TF_IDF notebooks"
   ]
  },
  {
   "cell_type": "code",
   "execution_count": null,
   "metadata": {},
   "outputs": [],
   "source": [
    "remove_context()"
   ]
  },
  {
   "cell_type": "markdown",
   "metadata": {},
   "source": [
    "<hr style=\"height:2px;border:none;background-color:#00233C;\">\n",
    "<b style = 'font-size:20px;font-family:Arial;color:#00233C'>Required Materials</b>\n",
    "<p style = 'font-size:16px;font-family:Arial;color:#00233C'>Let’s look at the elements we have available for reference for this notebook:</p>\n",
    "\n",
    "<p style = 'font-size:18px;font-family:Arial;color:#00233C'><b>Links:</b></p>\n",
    "<ul style = 'font-size:16px;font-family:Arial;color:#00233C'>\n",
    "    <li style = 'font-size:16px;font-family:Arial;color:#00233C'><a href = 'https://docs.teradata.com/reader/eteIDCTX4O4IMvazRMypxQ/uDjppX7PJInABCckgu~KFg'>Teradata Python Package User Guide</a></li>\n",
    "    <li style = 'font-size:16px;font-family:Arial;color:#00233C'><a href = 'https://docs.teradata.com/reader/GsM0pYRZl5Plqjdf9ixmdA/MzdO1q_t80M47qY5lyImOA'>Teradataml Python Reference</a></li>\n",
    "    <li style = 'font-size:16px;font-family:Arial;color:#00233C'><a href = 'https://docs.teradata.com/reader/CWVY0AJy8wyyf7Sm0EsK~w/wjkE42ypEfeMkRFOIqVXfQ'>Teradata nPath Function Reference</a></li>\n",
    "    <li style = 'font-size:16px;font-family:Arial;color:#00233C'><a href = 'https://docs.teradata.com/rear/CWVY0AJy8wyyf7Sm0EsK~w/RNbOiUg9~r~cxSZHrR~sFQ'>Teradata Sessionize Function Reference</a></li>\n",
    "        <li style = 'font-size:16px;font-family:Arial;color:#00233C'><a href = 'https://pandas.pydata.org/docs/user_guide/index.html'>Python Pandas Reference</a></li>\n",
    "        <li style = 'font-size:16px;font-family:Arial;color:#00233C'><a href = 'https://plotly.com/'>Plotly Reference</a></li>\n",
    "</ul>\n",
    "\n",
    "\n",
    "<p style = 'font-size:18px;font-family:Arial;color:#00233C'><b>Filters: </b></p>\n",
    "    <li style = 'font-size:16px;font-family:Arial;color:#00233C'><b>Industry:</b> Retail</li>\n",
    "    <li style = 'font-size:16px;font-family:Arial;color:#00233C'><b>Functionality:</b> Path Analytics</li>\n",
    "    <li style = 'font-size:16px;font-family:Arial;color:#00233C'><b>Use Case:</b> Digital Customer Conversion</li></p>\n",
    "    <p style = 'font-size:18px;font-family:Arial;color:#00233C'><b>Related Resources:</b></p>\n",
    "<li style = 'font-size:16px;font-family:Arial;color:#00233C'><a href = 'https://teradata.seismic.com/Link/Content/DCGBP9J9gjD288TPcG3HFgXDHDW8'>Broken Digital Journeys CX Solution Accelerator Demo via Python Video - External - SP004183</a></li>\n",
    "<li style = 'font-size:16px;font-family:Arial;color:#00233C'><a href = 'https://www.teradata.com/Blogs/Customer-360-Analytics-What-Lies-Ahead'>Customer 360 Analytics, What Lies Ahead?</a></li>\n",
    "<li style = 'font-size:16px;font-family:Arial;color:#00233C'><a href = 'https://www.teradata.com/Trends/Data-Analytics#:~:text=Data%20Analytics-,Royal%20Bank%20of%20Canada%20Deepens%20the%20Customer%20Experience,-Data%20Analytics'>Royal Bank of Canada Deepens the Customer Experience</a></li>\n"
   ]
  },
  {
   "cell_type": "markdown",
   "metadata": {},
   "source": [
    "<footer style=\"padding-bottom:35px; background:#f9f9f9; border-bottom:3px solid #00233C\">\n",
    "    <div style=\"float:left;margin-top:14px\">ClearScape Analytics™</div>\n",
    "    <div style=\"float:right;\">\n",
    "        <div style=\"float:left; margin-top:14px\">\n",
    "            © 2023, 2024 Teradata. All rights reserved.\n",
    "        </div>\n",
    "    </div>\n",
    "</footer>"
   ]
  }
 ],
 "metadata": {
  "kernelspec": {
   "display_name": "Python 3 (ipykernel)",
   "language": "python",
   "name": "python3"
  },
  "language_info": {
   "codemirror_mode": {
    "name": "ipython",
    "version": 3
   },
   "file_extension": ".py",
   "mimetype": "text/x-python",
   "name": "python",
   "nbconvert_exporter": "python",
   "pygments_lexer": "ipython3",
   "version": "3.9.10"
  }
 },
 "nbformat": 4,
 "nbformat_minor": 4
}
