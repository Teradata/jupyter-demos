{
 "cells": [
  {
   "cell_type": "markdown",
   "id": "c3ac6379-96d4-4aa8-b45f-da0d92996f44",
   "metadata": {},
   "source": [
    "<header>\n",
    "   <p  style='font-size:36px;font-family:Arial; color:#F0F0F0; background-color: #00233c; padding-left: 20pt; padding-top: 20pt;padding-bottom: 10pt; padding-right: 20pt;'>\n",
    "      Stress Detection Using Smartwatch Data <br>\n",
    "       <img id=\"teradata-logo\" src=\"https://storage.googleapis.com/clearscape_analytics_demo_data/DEMO_Logo/teradata.svg\" alt=\"Teradata\" style=\"width: 125px; height: auto; margin-top: 20pt;\">\n",
    "    </p>\n",
    "</header>"
   ]
  },
  {
   "cell_type": "markdown",
   "id": "d556bd95-c3d1-405c-8289-81c3d626e362",
   "metadata": {},
   "source": [
    "<p style = 'font-size:20px;font-family:Arial;color:#00233c'><b>Introduction:</b></p>\n",
    "<p style='font-size:16px;font-family:Arial;color:#00233C'>\n",
    "With rising stress levels globally, there's a growing need for scalable, continuous, and non-invasive stress monitoring solutions. Traditional methods like self-reported surveys and periodic clinical assessments are subjective, episodic, and not feasible for real-time monitoring. Smartwatches and other wearable devices are increasingly equipped with sensors capable of capturing physiological data, offering a powerful alternative. However, key challenges still remain:\n",
    "<ul style='font-size:16px;font-family:Arial;color:#00233C'>\n",
    "    <li>Limited access to advanced biosensors like EDA or EMG in most consumer-grade smartwatches.</li>\n",
    "    <li>High-frequency raw signal data requires extensive preprocessing and transformation for analysis.</li>\n",
    "    <li>Lack of labeled data for stress events, especially in naturalistic (non-lab) settings.</li>\n",
    "    <li>Difficulties in correlating physiological signals with contextual behaviors like sleep or activity levels.</li>\n",
    "</ul>\n",
    "\n",
    "<p style='font-size:16px;font-family:Arial;color:#00233C'>\n",
    "<b>Proposed Solution:</b><br>\n",
    "Smartwatch-Based Stress Detection Using AI/ML and Vantage Analytics<br>\n",
    "Leverage data from widely available smartwatch sensors (e.g., ECG, BVP, Accelerometer) to detect stress using machine learning models. Extract block-wise statistical features using Vantage’s in-database processing capabilities to ensure scalable and parallelized analysis. Augment stress detection by integrating sleep stage classification, enabling holistic health insights. The end-to-end solution allows for identifying high-stress intervals, correlating them with sleep and activity behavior, and ultimately enabling personalized wellness interventions.\n",
    "</p>\n",
    "\n",
    "<p style='font-size:16px;font-family:Arial;color:#00233C'>\n",
    "<b>Benefits:</b>\n",
    "<ul style='font-size:16px;font-family:Arial;color:#00233C'>\n",
    "    <li>Early and continuous detection of stress using physiological signals from smartwatches.</li>\n",
    "    <li>Improved individual well-being through timely recommendations and interventions.</li>\n",
    "    <li>Integration of stress detection with sleep analytics to provide contextual insights.</li>\n",
    "    <li>Scalable and parallel in-database feature extraction using Teradata Vantage.</li>\n",
    "    <li>Support for future expansion to lifestyle-based recommendations or health apps.</li>\n",
    "</ul>\n",
    "</p>\n"
   ]
  },
  {
   "cell_type": "markdown",
   "id": "ef27510d-45f1-46a9-ae97-ba0f89d64cb0",
   "metadata": {
    "tags": []
   },
   "source": [
    "<h1 style=\"font-size: 24px; font-family: Arial; color: #F0F0F0; background-color: #00233c; padding: 10pt;\">Dashboard & Insights:</h1>\n",
    "<p style='font-size:16px;font-family:Arial;color:#00233C'>\n",
    "This section showcases a visual summary of our Smartwatch Stress Detection analysis. The interactive dashboard provides insights into how stress (detected via physiological signals like heart rate and BVP) correlates with sleep behaviors such as deep sleep (SWS), insomnia, and restlessness.\n",
    "</p>\n",
    "\n",
    "<p style='font-size:16px;font-family:Arial;color:#00233C'>\n",
    "Key features of the dashboard:\n",
    "<ul style='font-size:16px;font-family:Arial;color:#00233C'>\n",
    "    <li>Scatter plot showing relationship between hours spent in stress and percentage of deep sleep (Stage 3 and 4).</li>\n",
    "    <li>Pie charts representing distribution of work shifts, and conditions such as sleep apnea, insomnia, and restlessness.</li>\n",
    "    <li>Breakdown of subject sleep characteristics and working patterns to identify potential lifestyle factors contributing to stress.</li>\n",
    "</ul>\n",
    "</p>\n",
    "\n",
    "<p style='font-size:16px;font-family:Arial;color:#00233C'><b>Live Dashboard Link:</b>\n",
    "<a href=\"https://superset.env.ci.clearscape.teradata.com/superset/dashboard/e7046cdf-79da-4fc3-92ce-53794185fa8d/?permalink_key=P62LM9lLmRw&standalone=true#TAB-BRrqQIMwv5yxxeF-VL19c\" target=\"_blank\">Smart Watch Dashboard</a>\n",
    "</p>\n",
    "\n",
    "<p style='font-size:16px;font-family:Arial;color:#00233C'><b>Dashboard Snapshot:</b></p>\n",
    "<img src=\"images/smartwatch.jpg\" width=\"800\"/>\n",
    "\n",
    "<p style='font-size:16px;font-family:Arial;color:#00233C'><b>Insights:</b></p>\n",
    "<ul style='font-size:16px;font-family:Arial;color:#00233C'>\n",
    "    <li>There is a general trend indicating that individuals with higher stress levels often experience reduced deep sleep.</li>\n",
    "    <li>Majority of the subjects do not report conditions like insomnia or sleep apnea, indicating the dataset is relatively healthy but still stress-affected.</li>\n",
    "    <li>Work shift variability (e.g., irregular shifts) might be contributing to disrupted sleep and elevated stress.</li>\n",
    "</ul>\n",
    "<p style='font-size:16px;font-family:Arial;color:#00233C'>\n",
    "Together, these visuals provide compelling evidence that smartwatch data can reliably reflect real-world stress and sleep interactions, opening pathways for personalized health monitoring.\n",
    "</p>\n"
   ]
  },
  {
   "cell_type": "markdown",
   "id": "c5c30f77-0da7-48c0-a8a9-e69b0c4b3b51",
   "metadata": {},
   "source": [
    "<footer style=\"padding-bottom: 35px; background: #f9f9f9; border-bottom: 3px solid #00233C\">\n",
    "    <div style=\"float: left; margin-top: 14px;\">ClearScape Analytics™</div>\n",
    "    <div style=\"float: right;\">\n",
    "        <div style=\"float: left; margin-top: 14px;\">Copyright © Teradata Corporation - 2025. All Rights Reserved.</div>\n",
    "    </div>\n",
    "</footer>"
   ]
  }
 ],
 "metadata": {
  "kernelspec": {
   "display_name": "Python 3 (ipykernel)",
   "language": "python",
   "name": "python3"
  },
  "language_info": {
   "codemirror_mode": {
    "name": "ipython",
    "version": 3
   },
   "file_extension": ".py",
   "mimetype": "text/x-python",
   "name": "python",
   "nbconvert_exporter": "python",
   "pygments_lexer": "ipython3",
   "version": "3.9.10"
  }
 },
 "nbformat": 4,
 "nbformat_minor": 5
}
