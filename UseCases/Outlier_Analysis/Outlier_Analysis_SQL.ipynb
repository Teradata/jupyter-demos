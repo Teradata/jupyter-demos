{
 "cells": [
  {
   "cell_type": "markdown",
   "metadata": {},
   "source": [
    "<header>\n",
    "   <p  style='font-size:36px;font-family:Arial; color:#F0F0F0; background-color: #00233c; padding-left: 20pt; padding-top: 20pt;padding-bottom: 10pt; padding-right: 20pt;'>\n",
    "       Outlier Analysis\n",
    "  <br>\n",
    "       <img id=\"teradata-logo\" src=\"https://storage.googleapis.com/clearscape_analytics_demo_data/DEMO_Logo/teradata.svg\" alt=\"Teradata\" style=\"width: 125px; height: auto; margin-top: 20pt;\">\n",
    "    </p>\n",
    "</header>"
   ]
  },
  {
   "cell_type": "markdown",
   "metadata": {},
   "source": [
    "<p style = 'font-size:20px;font-family:Arial;color:#00233C'><b>Introduction</b></p>\n",
    "<p style = 'font-size:16px;font-family:Arial;color:#00233C'>An outlier is a data point that is significantly different from other data points in a dataset. Outlier removal is important because outliers can skew the overall analysis and conclusions drawn from a dataset, leading to inaccurate results. By removing outliers, the data can better represent the majority of the dataset and improve the accuracy of the analysis.</p>\n",
    "\n",
    "<!-- <p style = 'font-size:16px;font-family:Arial;color:#00233C'>In the typical process for creating Machine Learning models, a significant amount of time is spent on data preparation and feature selection.  Data scientists and engineers will typically copy data to a tool of choice or data virtualization to perform these tasks.  Moving this data to these tools is impossible at a sufficient scale reflecting typical production volumes.  Even if we can transfer data to another system, the resource requirements to process and analyze this data becomes prohibitively large or expensive.</p>\n",
    " -->\n",
    "<p style = 'font-size:16px;font-family:Arial;color:#00233C'>The following demonstration will illustrate using native Vantage SQL functions that can provide greater efficiency, ease of use, and the ability to process data at an extreme scale.  Additionally, a new SQL function <b>TD_ColumnTransformer</b> can create a single, efficient data transformation pipeline.</p>\n",
    "\n",
    "<p style = 'font-size:16px;font-family:Arial;color:#00233C'>The data for this demonstration consists of New York City taxi trip data and includes 500,000 rows with fare amount, passenger count, and pickup and dropoff latitude/longitude.  The demonstration illustrates various functions for data exploration and outlier removal.  The steps in this demo are as follows:</p>\n",
    "\n",
    "<ol style = 'font-size:16px;font-family:Arial;color:#00233C'>\n",
    "    <li>Perform statistical analysis on the whole data set</li>\n",
    "    <li>Identify outliers and abnormal data distribution</li>\n",
    "    <li>Remove outliers and review data</li>\n",
    "    <li>Perform Bin Coding and Column Transformation to combine Feature Engineering steps</li>\n",
    "    </ol>\n",
    "\n",
    "<img src = 'images/Flow_Diagram_Outlier.png' width=100%>"
   ]
  },
  {
   "cell_type": "markdown",
   "metadata": {},
   "source": [
    "<hr style=\"height:2px;border:none;background-color:#00233C;\">\n",
    "<p style = 'font-size:20px;font-family:Arial;color:#00233C'><b>1. Connect to Vantage</b></p>\n",
    "<p style = 'font-size:16px;font-family:Arial;color:#00233C'>You will be prompted to provide the password. Enter your password, press Enter, then use down arrow to go to next cell.</p>"
   ]
  },
  {
   "cell_type": "code",
   "execution_count": null,
   "metadata": {},
   "outputs": [],
   "source": [
    "%connect local, hidewarnings=true"
   ]
  },
  {
   "cell_type": "markdown",
   "metadata": {},
   "source": [
    "<p style = 'font-size:16px;font-family:Arial;color:#00233C'>Setup for execution of notebook. Begin running steps with Shift + Enter keys.</p>\n"
   ]
  },
  {
   "cell_type": "code",
   "execution_count": null,
   "metadata": {},
   "outputs": [],
   "source": [
    "SET query_band='DEMO=Outlier_Analysis_SQL.ipynb.ipynb;' UPDATE FOR SESSION;"
   ]
  },
  {
   "cell_type": "markdown",
   "metadata": {},
   "source": [
    "<p style = 'font-size:18px;font-family:Arial;color:#00233C'><b>Getting Data for This Demo</b></p>\n",
    "<p style = 'font-size:16px;font-family:Arial;color:#00233C'>We have provided data for this demo on cloud storage.  You have the option of either running the demo using foreign tables to access the data without using any storage on your environment or downloading the data to local storage which may yield somewhat faster execution, but there could be considerations of available storage.  There are two statements in the following cell, and one is commented out.  You may switch which mode you choose by changing the comment string. </p>\n"
   ]
  },
  {
   "cell_type": "code",
   "execution_count": null,
   "metadata": {},
   "outputs": [],
   "source": [
    "-- call get_data('DEMO_NYCTaxi_cloud');    -- Takes about 2 minutes\n",
    "call get_data('DEMO_NYCTaxi_local');     -- Takes about 3 minutes"
   ]
  },
  {
   "cell_type": "markdown",
   "metadata": {},
   "source": [
    "<p style = 'font-size:16px;font-family:Arial;color:#00233C'>Optional step – if you want to see status of databases/tables created and space used.</p>\n"
   ]
  },
  {
   "cell_type": "code",
   "execution_count": null,
   "metadata": {},
   "outputs": [],
   "source": [
    "call space_report();  -- optional, takes about 10 seconds"
   ]
  },
  {
   "cell_type": "markdown",
   "metadata": {},
   "source": [
    "<hr style=\"height:2px;border:none;background-color:#00233C;\">\n",
    "<p style = 'font-size:20px;font-family:Arial;color:#00233C'><b>2. Statistical Analysis</b></p>\n",
    "<ol style = 'font-size:16px;font-family:Arial;color:#00233C'>\n",
    "    <li>Inspect the data</li>\n",
    "    <li>Call TD_UnivariateStatistics function to gather statistics</li>\n",
    "    <li>Pivot and select outlier stats</li>\n",
    "    </ol>"
   ]
  },
  {
   "cell_type": "markdown",
   "metadata": {},
   "source": [
    "<hr style=\"height:1px;border:none;background-color:#00233C;\">\n",
    "<p style = 'font-size:18px;font-family:Arial;color:#00233C'><b>2.1 Inspect the Data</b></p>\n",
    "<p style = 'font-size:16px;font-family:Arial;color:#00233C'>As a warm-up, let us look at the tables in our database DEMO_NYCTaxi.</p>       "
   ]
  },
  {
   "cell_type": "code",
   "execution_count": null,
   "metadata": {},
   "outputs": [],
   "source": [
    "SELECT \n",
    "    DatabaseName,\n",
    "    TableName\n",
    "FROM\n",
    "    DBC.Tables\n",
    "WHERE\n",
    "    DatabaseName = 'DEMO_NYCTaxi'"
   ]
  },
  {
   "cell_type": "markdown",
   "metadata": {},
   "source": [
    "<p style = 'font-size:16px;font-family:Arial;color:#00233C'>The query below shows the number of rows in each of the tables in the database.</p>"
   ]
  },
  {
   "cell_type": "code",
   "execution_count": null,
   "metadata": {},
   "outputs": [],
   "source": [
    "SELECT\n",
    "(\n",
    "    SELECT COUNT(*)\n",
    "    FROM DEMO_NYCTaxi.trip\n",
    ") AS trip,\n",
    "(\n",
    "    SELECT COUNT(*)\n",
    "    FROM DEMO_NYCTaxi.trip_fare\n",
    ") AS trip_fare;"
   ]
  },
  {
   "cell_type": "markdown",
   "metadata": {},
   "source": [
    "<p style = 'font-size:16px;font-family:Arial;color:#00233C'>Let's look at the sample data from trip and trip_fare tables.</p>"
   ]
  },
  {
   "cell_type": "code",
   "execution_count": null,
   "metadata": {},
   "outputs": [],
   "source": [
    "SELECT TOP 5 * FROM DEMO_NYCTaxi.trip;"
   ]
  },
  {
   "cell_type": "code",
   "execution_count": null,
   "metadata": {},
   "outputs": [],
   "source": [
    "SELECT TOP 5 * FROM DEMO_NYCTaxi.trip_fare;"
   ]
  },
  {
   "cell_type": "markdown",
   "metadata": {},
   "source": [
    "<p style = 'font-size:16px;font-family:Arial;color:#00233C'>We are interested in the following columns from the above tables:</p>\n",
    "<ul style = 'font-size:16px;font-family:Arial;color:#00233C'>\n",
    "    <li>pickup_datetime</li>\n",
    "    <li>passenger_count</li>\n",
    "    <li>pickup_latitude</li>\n",
    "    <li>pickup_longitude</li>\n",
    "    <li>dropoff_latitude</li>\n",
    "    <li>dropoff_longitude</li>\n",
    "    <li>total_amount</li>\n",
    "</ul>\n",
    "\n",
    "<p style = 'font-size:16px;font-family:Arial;color:#00233C'>Hence, we create a table with the interested columns as follows:</p>"
   ]
  },
  {
   "cell_type": "code",
   "execution_count": null,
   "metadata": {},
   "outputs": [],
   "source": [
    "CREATE MULTISET TABLE NYC_FULL_T AS (\n",
    "    SELECT t.pickup_datetime as pickup_datetime,\n",
    "    t.passenger_count as passenger_count,\n",
    "    t.pickup_latitude as pickup_latitude,\n",
    "    t.pickup_longitude as pickup_longitude,\n",
    "    t.dropoff_latitude as dropoff_latitude,\n",
    "    t.dropoff_longitude as dropoff_longitude,\n",
    "    f.total_amount as fare_amount\n",
    "FROM \"DEMO_NYCTaxi\".\"trip\" t\n",
    "LEFT JOIN \"DEMO_NYCTaxi\".\"trip_fare\" f\n",
    "    ON f.medallion = t.medallion\n",
    "    AND f.pickup_datetime = t.pickup_datetime) WITH DATA;"
   ]
  },
  {
   "cell_type": "code",
   "execution_count": null,
   "metadata": {
    "tags": []
   },
   "outputs": [],
   "source": [
    "SELECT COUNT(*) FROM NYC_FULL_T;\n",
    "SELECT TOP 5 * FROM NYC_FULL_T;"
   ]
  },
  {
   "cell_type": "markdown",
   "metadata": {},
   "source": [
    "<p style = 'font-size:16px;font-family:Arial;color:#00233C'>The above output shows five rows from the view created in the previous step. The view has 480k+ rows.</p>"
   ]
  },
  {
   "cell_type": "markdown",
   "metadata": {},
   "source": [
    "<hr style=\"height:1px;border:none;background-color:#00233C;\">\n",
    "<p style = 'font-size:18px;font-family:Arial;color:#00233C'><b>2.2 Gather statistics using TD_UnivariateStatistics</b></p>\n",
    "\n",
    "<p style = 'font-size:16px;font-family:Arial;color:#00233C'>Univariate analysis is the simplest form of analyzing data. Its significant purpose is to describe; It takes data, summarizes it, and finds patterns in the data.\n",
    "    <br>\n",
    "    <a href = 'https://docs.teradata.com/search/all?query=TD_UnivariateStatistics&content-lang=en-US'>TD_UnivariateStatistics</a> displays descriptive statistics for each specified numeric input table column.\n",
    "</p>\n",
    "\n",
    "<p style = 'font-size:16px;font-family:Arial;color:#00233C'><b><i>*Note that the next cell might take upto 1 minute to run.</i></b></p>"
   ]
  },
  {
   "cell_type": "code",
   "execution_count": null,
   "metadata": {},
   "outputs": [],
   "source": [
    "CREATE MULTISET TABLE AllStats_unpivoted AS (\n",
    "    SELECT *\n",
    "        FROM TD_UnivariateStatistics (\n",
    "        ON NYC_FULL_T AS InputTable\n",
    "        USING\n",
    "        TargetColumns('fare_amount', 'pickup_longitude', 'pickup_latitude', 'dropoff_longitude', 'dropoff_latitude')\n",
    "        STATS( \n",
    "              'BOTTOM5',\n",
    "              'COEFFICIENT OF VARIATION',\n",
    "              'CORRECTED SUM OF SQUARES',\n",
    "              'MEAN',\n",
    "              'MEDIAN',\n",
    "              'MODE',           \n",
    "              'GEOMETRIC MEAN', \n",
    "              'HARMONIC MEAN', \n",
    "              'TRIMMED MEAN',\n",
    "              'KURTOSIS',\n",
    "              'SKEWNESS',\n",
    "              'STANDARD ERROR',\n",
    "              'STANDARD DEVIATION',\n",
    "              'SUM',\n",
    "              'POSITIVE VALUES COUNT', \n",
    "              'TOP5', \n",
    "              'INTERQUARTILE RANGE',\n",
    "              'NEGATIVE VALUES COUNT',\n",
    "              'NULL COUNT',\n",
    "              'RANGE',\n",
    "              'UNCORRECTED SUM OF SQUARES',\n",
    "              'UNIQUE ENTITY COUNT',\n",
    "              'VARIANCE',\n",
    "              'ZERO VALUES COUNT',\n",
    "              'PERCENTILES',\n",
    "              'MINIMUM',\n",
    "              'MAXIMUM'\n",
    "        )\n",
    "        ) AS dt\n",
    ") WITH DATA;"
   ]
  },
  {
   "cell_type": "code",
   "execution_count": null,
   "metadata": {},
   "outputs": [],
   "source": [
    "SELECT TOP 5 * FROM AllStats_unpivoted;"
   ]
  },
  {
   "cell_type": "markdown",
   "metadata": {},
   "source": [
    "<hr style=\"height:1px;border:none;background-color:#00233C;\">\n",
    "<p style = 'font-size:18px;font-family:Arial;color:#00233C'><b>2.3 Pivot for easier analysis</b></p>\n",
    "<p style = 'font-size:16px;font-family:Arial;color:#00233C'><a href='https://docs.teradata.com/search/all?query=PIVOT&content-lang=en-US'>PIVOT</a> is a relational operator for transforming rows into columns. The function is helpful for reporting purposes, allowing you to aggregate and rotate data to create easy-to-read tables.</p>"
   ]
  },
  {
   "cell_type": "code",
   "execution_count": null,
   "metadata": {},
   "outputs": [],
   "source": [
    "REPLACE VIEW AllStats_pivoted AS\n",
    "    SELECT *\n",
    "        FROM AllStats_unpivoted\n",
    "        PIVOT (\n",
    "            MAX(StatValue) FOR  ATTRIBUTE IN ('fare_amount', \n",
    "                                                 'pickup_longitude',  \n",
    "                                                 'pickup_latitude',\n",
    "                                                 'dropoff_longitude',\n",
    "                                                 'dropoff_latitude')\n",
    "        ) tmp;"
   ]
  },
  {
   "cell_type": "code",
   "execution_count": null,
   "metadata": {},
   "outputs": [],
   "source": [
    "SELECT TOP 5 * FROM Allstats_pivoted ORDER BY 1;"
   ]
  },
  {
   "cell_type": "markdown",
   "metadata": {},
   "source": [
    "<p style = 'font-size:16px;font-family:Arial;color:#00233C'>The output above shows a cleaner way to look at the various statistics for all the specified columns.</p>"
   ]
  },
  {
   "cell_type": "markdown",
   "metadata": {},
   "source": [
    "<hr style=\"height:2px;border:none;background-color:#00233C;\">\n",
    "<p style = 'font-size:20px;font-family:Arial;color:#00233C'><b>3. Outlier Identification</b></p>\n",
    "\n",
    "<p style = 'font-size:16px;font-family:Arial;color:#00233C'>We can see some extraordinary value outliers in our numeric data based on the statistics gathered above. We can use the <a href='https://docs.teradata.com/search/all?query=TD_HISTOGRAM&content-lang=en-US'>TD_Histogram</a> function to look at the distribution of each data column, which can guide how to remove outliers.</p>\n",
    "    \n",
    "<ol style = 'font-size:16px;font-family:Arial;color:#00233C'>\n",
    "    <li>Inspect the distribution stastics</li>\n",
    "    <li>Use TD_Histogram to view column distributions using calculated binning</li>\n",
    "    <li>Use TD_Histogram using MinMax table as input</li>\n",
    "    </ol>"
   ]
  },
  {
   "cell_type": "markdown",
   "metadata": {},
   "source": [
    "<hr style=\"height:1px;border:none;background-color:#00233C;\">\n",
    "<p style = 'font-size:18px;font-family:Arial;color:#00233C'><b>3.1 Simple SELECT</b></p>\n",
    "\n",
    "<p style = 'font-size:16px;font-family:Arial;color:#00233C'>Filter results out of the Pivoted table of Stats. We are interested in maximum, minimum and percentiles for all the columns.</p>"
   ]
  },
  {
   "cell_type": "code",
   "execution_count": null,
   "metadata": {},
   "outputs": [],
   "source": [
    "SELECT TOP 5 *\n",
    "FROM AllStats_pivoted\n",
    "WHERE \"StatName\" LIKE 'PERCENTILES(%)'\n",
    "    OR  \"StatName\" IN ('MINIMUM', 'MAXIMUM')\n",
    "ORDER BY 1;"
   ]
  },
  {
   "cell_type": "markdown",
   "metadata": {},
   "source": [
    "<hr style=\"height:1px;border:none;background-color:#00233C;\">\n",
    "<p style = 'font-size:18px;font-family:Arial;color:#00233C'><b>3.2 Histograms for distribution analysis</b></p>\n",
    "\n",
    "<p style = 'font-size:16px;font-family:Arial;color:#00233C'><a href = 'https://docs.teradata.com/r/Teradata-VantageTM-Advanced-SQL-Engine-Analytic-Functions/April-2022/Data-Exploration-Functions/TD_Histogram'>TD_Histogram</a> calculates the frequency distribution of a data set using your choice from these methods:</p>\n",
    "<ul style = 'font-size:16px;font-family:Arial;color:#00233C'>\n",
    "    <li>Sturges, which uses w = r/(1 + log2n) for bin width</li>\n",
    "    <li>Scott, which uses w = 3.49s/(n1/3) for bin width</li>\n",
    "    <li>Variable-width, which requires a MinMax table</li>   \n",
    "    <li>Equal-width, which requires a MinMax table</li>\n",
    "    </ul>\n",
    "\n",
    "<p style = 'font-size:16px;font-family:Arial;color:#00233C'>An example using Sturges is below; note that the algorithmic methods work best on normally distributed data, so in this case, the bin widths illustrate how a few extreme outliers can skew the overall data distribution.</p>"
   ]
  },
  {
   "cell_type": "code",
   "execution_count": null,
   "metadata": {},
   "outputs": [],
   "source": [
    "SELECT *\n",
    "FROM TD_Histogram (\n",
    "    ON NYC_FULL_T AS InputTable\n",
    "    USING\n",
    "    TargetColumn('fare_amount')\n",
    "    MethodType('Sturges')\n",
    ") AS dt ORDER BY 1;"
   ]
  },
  {
   "cell_type": "code",
   "execution_count": null,
   "metadata": {},
   "outputs": [],
   "source": [
    "%chart x = MinValue, y = bin_percent, title = \"Histogram of fare_amount\""
   ]
  },
  {
   "cell_type": "markdown",
   "metadata": {},
   "source": [
    "<p style = 'font-size:16px;font-family:Arial;color:#00233C'>The results above indicate that <b>96.6%</b> of fares are in the range 0-50. Almost all the data is residing in the 0-100 fare price range.</p>"
   ]
  },
  {
   "cell_type": "markdown",
   "metadata": {},
   "source": [
    "<hr style=\"height:1px;border:none;background-color:#00233C;\">\n",
    "<p style = 'font-size:18px;font-family:Arial;color:#00233C'><b>3.3 Histograms with MinMax table</b></p>\n",
    "\n",
    "<p style = 'font-size:16px;font-family:Arial;color:#00233C'>An alternative method for defining bin width is to use a MinMax table. For fixed-width bins, the MinMax table only needs two columns, \"MinValue\" and \"MaxValue\", representing the column's overall min and max values. For variable-width bins, the MinMax table needs an extra \"label\" column, and each row MinValue and MaxValue will represent the value range of the bin.</p>\n",
    "\n",
    "<p style = 'font-size:16px;font-family:Arial;color:#00233C'>Specifically for the fare amount column, this MinMax table will only bin values from 0 to 100 in the specified range. Visualization of the results yields a much more manageable distribution.</p>"
   ]
  },
  {
   "cell_type": "code",
   "execution_count": null,
   "metadata": {},
   "outputs": [],
   "source": [
    "CREATE MULTISET TABLE fare_amount_minmax ( \n",
    "    MinValue INTEGER, \n",
    "    MaxValue INTEGER,\n",
    "    Label VARCHAR(10)\n",
    ");"
   ]
  },
  {
   "cell_type": "code",
   "execution_count": null,
   "metadata": {},
   "outputs": [],
   "source": [
    "%dataload table = fare_amount_minmax, filepath = UseCases/Outlier_Analysis/data/EDA_MinMax.csv"
   ]
  },
  {
   "cell_type": "code",
   "execution_count": null,
   "metadata": {},
   "outputs": [],
   "source": [
    "SELECT TOP 5 * FROM fare_amount_minmax ORDER BY MinValue;"
   ]
  },
  {
   "cell_type": "markdown",
   "metadata": {},
   "source": [
    "<p style = 'font-size:16px;font-family:Arial;color:#00233C'>The table fare_amount_minmax has 51 bins of width 2 in the range 0 to 100. We will use this table to create a variable-width histogram. Note that you can change the fare_amount_minmax table to declare bins of any width.</p>"
   ]
  },
  {
   "cell_type": "code",
   "execution_count": null,
   "metadata": {},
   "outputs": [],
   "source": [
    "SELECT *\n",
    "FROM TD_Histogram (\n",
    "    ON NYC_FULL_T AS InputTable\n",
    "    ON fare_amount_minmax AS minmax DIMENSION\n",
    "    USING\n",
    "    MethodType ('variable-width')\n",
    "    TargetColumn ('fare_amount')\n",
    "    nbins(51)\n",
    ") AS dt ORDER BY 2;"
   ]
  },
  {
   "cell_type": "code",
   "execution_count": null,
   "metadata": {},
   "outputs": [],
   "source": [
    "%chart x = MinValue, y = bin_percent, title = \"Histogram of fare_amount (0 to 100)\", width = 500"
   ]
  },
  {
   "cell_type": "markdown",
   "metadata": {},
   "source": [
    "<p style = 'font-size:16px;font-family:Arial;color:#00233C'>Now we have a better visualization of the distribution of majority of trips with fare in the range 1 to 100.</p>"
   ]
  },
  {
   "cell_type": "markdown",
   "metadata": {},
   "source": [
    "<hr style=\"height:2px;border:none;background-color:#00233C;\">\n",
    "<p style = 'font-size:20px;font-family:Arial;color:#00233C'><b>4. Outlier Removal</b></p>\n",
    "\n",
    "<p style = 'font-size:16px;font-family:Arial;color:#00233C'>At this point, we've identified that our data has some extreme outliers. The Histogram illustration quantifies this for fare amount, but if we inspect the other columns, we will see similar features in the data.</p>\n",
    "\n",
    "<p style = 'font-size:16px;font-family:Arial;color:#00233C'>TD_OutlierFilterFit and TD_OutlierFilterTransform can selectively modify values or remove rows representing the outlier columns.</p>\n",
    "\n",
    "<ol style = 'font-size:16px;font-family:Arial;color:#00233C'>\n",
    "    <li>Create a Fit Table using TD_OutlierFilterFit</li>\n",
    "    <li>Transform the data set using TD_OutlierFilterTransform</li>\n",
    "    <li>Compare distributions before and after</li>\n",
    "</ol>"
   ]
  },
  {
   "cell_type": "markdown",
   "metadata": {},
   "source": [
    "<hr style=\"height:1px;border:none;background-color:#00233C;\">\n",
    "<p style = 'font-size:18px;font-family:Arial;color:#00233C'><b>4.1 TD_OutlierFilterFit</b></p>\n",
    "\n",
    "<p style = 'font-size:16px;font-family:Arial;color:#00233C'><a href = 'https://docs.teradata.com/search/all?query=TD_OutlierFilterFit&content-lang=en-US'>TD_OutlierFilterFit</a> function calculates the lower_percentile, upper_percentile, count of rows and median for the specified input table columns. The calculated values for each column help the TD_OutlierFilterTransform function detect outliers in the input table.</p>\n",
    "<p style = 'font-size:16px;font-family:Arial;color:#00233C'>Some select parameters include</p>\n",
    "<ul style = 'font-size:16px;font-family:Arial;color:#00233C'>\n",
    "    <li>TargetColumns; which takes a list or a range of values/ordinals</li>\n",
    "    <li>ReplacementValue; delete, null. median, or a value</li>\n",
    "    <li>OutlierMethod; Percentile, tukey, or carling</li>\n",
    "    <li>Variable-width, which requires a MinMax table</li>   \n",
    "    <li>Other outlier identification parameters depending on OutlierMethod</li>\n",
    "    </ul>\n",
    "\n",
    "<p style = 'font-size:16px;font-family:Arial;color:#00233C'>In this case, we will use the Percentile method on our latitude/longitude on columns to delete rows containing outlier values. Additional parameter values define upper and lower percentile values and the percentile calculation method (Discrete).</p>\n",
    "<p style = 'font-size:16px;font-family:Arial;color:#00233C'><b><i>*Note that the next cell might take upto 1 minute to run.</i></b></p>"
   ]
  },
  {
   "cell_type": "code",
   "execution_count": null,
   "metadata": {},
   "outputs": [],
   "source": [
    "CREATE MULTISET TABLE OutlierFitTbl AS(\n",
    "    SELECT *\n",
    "        FROM TD_OutlierFilterFit(\n",
    "            ON NYC_FULL_T AS InputTable\n",
    "            USING\n",
    "            TargetColumns('pickup_longitude', 'pickup_latitude', 'dropoff_longitude', 'dropoff_latitude')  \n",
    "            LowerPercentile(0.02)\n",
    "            UpperPercentile(0.98)  \n",
    "            OutlierMethod('Percentile')            \n",
    "            ReplacementValue('delete')\n",
    "        ) AS dt\n",
    ") WITH DATA;"
   ]
  },
  {
   "cell_type": "code",
   "execution_count": null,
   "metadata": {},
   "outputs": [],
   "source": [
    "SELECT TOP 5 * FROM OutlierFitTbl;"
   ]
  },
  {
   "cell_type": "markdown",
   "metadata": {},
   "source": [
    "<p style = 'font-size:16px;font-family:Arial;color:#00233C'>The above calculated values for each column in the OutlierFitTbl will help in removing outliers from the original data set.</p>"
   ]
  },
  {
   "cell_type": "markdown",
   "metadata": {},
   "source": [
    "<hr style=\"height:1px;border:none;background-color:#00233C;\">\n",
    "<p style = 'font-size:18px;font-family:Arial;color:#00233C'><b>4.2 TD_OutlierFilterTransform</b></p>\n",
    "\n",
    "<p style = 'font-size:16px;font-family:Arial;color:#00233C'><a href = 'https://docs.teradata.com/search/all?query=TD_OutlierFilterTransform&content-lang=en-USm'>TD_OutlierFilterTransform</a> filters outliers from the input table. The metrics for determining outliers come from TD_OutlierFilterFit output, i.e. OutlierFitTbl in our case.</p>\n",
    "\n",
    "<p style = 'font-size:16px;font-family:Arial;color:#00233C'>Here, we create a View to save on space and allow for before and after comparison. This view has no outliers w.r.t. 'pickup_longitude', 'pickup_latitude', 'dropoff_longitude', 'dropoff_latitude'.</p>"
   ]
  },
  {
   "cell_type": "code",
   "execution_count": null,
   "metadata": {},
   "outputs": [],
   "source": [
    "REPLACE VIEW latlong_no_outliers AS (\n",
    "    SELECT *\n",
    "        FROM TD_OutlierFilterTransform(\n",
    "        ON NYC_FULL_T AS InputTable PARTITION BY ANY\n",
    "        ON OutlierFitTbl AS FitTable DIMENSION \n",
    "        ) AS dt\n",
    ");"
   ]
  },
  {
   "cell_type": "markdown",
   "metadata": {},
   "source": [
    "<hr style=\"height:1px;border:none;background-color:#00233C;\">\n",
    "<p style = 'font-size:18px;font-family:Arial;color:#00233C'><b>4.3 Before and After Comparison</b></p>\n",
    "\n",
    "<p style = 'font-size:16px;font-family:Arial;color:#00233C'>Use TD_Histogram to visualize the distributions of data before and after transformation. Use the <b>Pickup Latitude</b> column as a good example.</p>"
   ]
  },
  {
   "cell_type": "code",
   "execution_count": null,
   "metadata": {},
   "outputs": [],
   "source": [
    "SELECT *\n",
    "    FROM TD_Histogram (\n",
    "    ON NYC_FULL_T  AS InputTable\n",
    "    USING\n",
    "    MethodType ('Sturges')\n",
    "    TargetColumn ('pickup_latitude')\n",
    ") AS dt ORDER BY 1;"
   ]
  },
  {
   "cell_type": "code",
   "execution_count": null,
   "metadata": {},
   "outputs": [],
   "source": [
    "%chart x = MinValue, y = bin_percent, title = \"Histogram of pickup_latitude Raw\""
   ]
  },
  {
   "cell_type": "markdown",
   "metadata": {},
   "source": [
    "<p style = 'font-size:16px;font-family:Arial;color:#00233C'>This graph shows that a staggering 98.6% of rides were having pickup_lattitude between 40-45. Nearly 1.4% of rides have pickup_latitude outside the 40-45 range. This implies that these are outliers and might give incorrect results if used further in the analysis. These outliers may point to a geographic location that the company doesn't cater to. Hence we should remove these outliers.</p>"
   ]
  },
  {
   "cell_type": "markdown",
   "metadata": {},
   "source": [
    "<hr style=\"height:1px;border:none;background-color:#00233C;\">\n",
    "<p style = 'font-size:18px;font-family:Arial;color:#00233C'><b>After Outlier Removal Comparison</b></p>\n",
    "\n",
    "<p style = 'font-size:16px;font-family:Arial;color:#00233C'>Use the <b>View</b> created above instead of the raw data. We will see a striking difference in the distribution of data.</p>"
   ]
  },
  {
   "cell_type": "code",
   "execution_count": null,
   "metadata": {},
   "outputs": [],
   "source": [
    "SELECT *\n",
    "    FROM TD_Histogram (\n",
    "    ON latlong_no_outliers AS InputTable\n",
    "    USING\n",
    "    MethodType ('Sturges')\n",
    "    TargetColumn ('pickup_latitude')\n",
    ") AS dt ORDER BY 1;"
   ]
  },
  {
   "cell_type": "code",
   "execution_count": null,
   "metadata": {},
   "outputs": [],
   "source": [
    "%chart x = MinValue, y = bin_percent, title = \"Histogram of pickup_latitude Filtered\""
   ]
  },
  {
   "cell_type": "markdown",
   "metadata": {},
   "source": [
    "<p style = 'font-size:16px;font-family:Arial;color:#00233C'>By removing the outliers in the pickup_latitude, we are better able to represent the dataset.</p>"
   ]
  },
  {
   "cell_type": "markdown",
   "metadata": {},
   "source": [
    "<hr style=\"height:2px;border:none;background-color:#00233C;\">\n",
    "<p style = 'font-size:20px;font-family:Arial;color:#00233C'><b>5. Bin Coding</b></p>\n",
    "\n",
    "<p style = 'font-size:16px;font-family:Arial;color:#00233C'>Note that we've only filtered out latitude and longitude outliers and still need to transform the fare amount column, which does have extreme values that need to be addressed.  For this demonstration, we will use TD_BinCodeFit to create a fit table and then use TD_ColumnTransformer to combine the Outlier Filtering and Bin Coding steps into a single statement.</p>\n",
    "\n",
    "<ol style = 'font-size:16px;font-family:Arial;color:#00233C'>\n",
    "    <li>Inspect the rows with max and min values</li>\n",
    "    <li>Create a fit table with the value ranges and category labels</li>\n",
    "    <li>Use TD_ColumnTransformer to create a transformation \"Pipeline\"</li>\n",
    "    <li>Compare distributions before and after using TD_CategoricalSummary</li>\n",
    "    </ol>"
   ]
  },
  {
   "cell_type": "markdown",
   "metadata": {},
   "source": [
    "<hr style=\"height:1px;border:none;background-color:#00233C;\">\n",
    "<p style = 'font-size:18px;font-family:Arial;color:#00233C'><b>5.1 Min and Max Values</b></p>\n",
    "\n",
    "<p style = 'font-size:16px;font-family:Arial;color:#00233C'>Use <a href = 'https://docs.teradata.com/search/all?query=TD_WhichMin&content-lang=en-US'>TD_WhichMin</a> and <a href='https://docs.teradata.com/search/all?query=TD_WhichMax&content-lang=en-US'>TD_WhichMax</a> to inspect the rows of the raw data table that contain the min and max values.</p>"
   ]
  },
  {
   "cell_type": "code",
   "execution_count": null,
   "metadata": {},
   "outputs": [],
   "source": [
    "SELECT * FROM TD_WhichMin (\n",
    "   ON NYC_FULL_T AS InputTable\n",
    "   USING\n",
    "   TargetColumn('fare_amount')\n",
    ") AS dt;"
   ]
  },
  {
   "cell_type": "code",
   "execution_count": null,
   "metadata": {},
   "outputs": [],
   "source": [
    "SELECT * FROM TD_WhichMax (\n",
    "   ON NYC_FULL_T AS InputTable\n",
    "   USING\n",
    "   TargetColumn('fare_amount')\n",
    ") AS dt;"
   ]
  },
  {
   "cell_type": "markdown",
   "metadata": {},
   "source": [
    "<p style = 'font-size:16px;font-family:Arial;color:#00233C'>Above are the rows with min fare($2.6) and max fare(\\$450).</p>"
   ]
  },
  {
   "cell_type": "markdown",
   "metadata": {},
   "source": [
    "<hr style=\"height:1px;border:none;background-color:#00233C;\">\n",
    "<p style = 'font-size:18px;font-family:Arial;color:#00233C'><b>5.2 TD_BinCodeFit</b></p>\n",
    "\n",
    "<p style = 'font-size:16px;font-family:Arial;color:#00233C'>Bin coding is typically used to convert numeric data to categorical data by binning the numeric data into multiple numeric bins (intervals). The bins can have a fixed width with auto-generated labels or specified variable widths and labels.</p>\n",
    "\n",
    "<p style = 'font-size:16px;font-family:Arial;color:#00233C'><a href = 'https://docs.teradata.com/search/all?query=TD_BinCodeFit&content-lang=en-US'>TD_BinCodeFit</a> outputs a table of information to input to TD_BinCodeTransform, which bin-codes the specified input table columns.</p>\n",
    "\n",
    "<p style = 'font-size:16px;font-family:Arial;color:#00233C'>Above, when we investigated the <b>Fare Amount</b> column using TD_Histogram, we could use a custom MinMax table to create custom bins. The process is similar to Bin Coding. Here we will:</p>\n",
    "\n",
    "<ul style = 'font-size:16px;font-family:Arial;color:#00233C'>\n",
    "    <li>Create a custom Dimension table with the column name, MinValue, MaxValue, and label</li>\n",
    "    <li>Use that as input to the TD_BinCodeFit function</li>\n",
    "    <li>Pass additional parameter values such as MethodType and TargetColumns</li> \n",
    "    </ul>"
   ]
  },
  {
   "cell_type": "code",
   "execution_count": null,
   "metadata": {},
   "outputs": [],
   "source": [
    "CREATE MULTISET TABLE fare_amount_range (\n",
    "    ColumnName CHAR(15),\n",
    "    MinValue SMALLINT,\n",
    "    MaxValue SMALLINT,\n",
    "    label CHAR(35)\n",
    ");"
   ]
  },
  {
   "cell_type": "code",
   "execution_count": null,
   "metadata": {},
   "outputs": [],
   "source": [
    "INSERT INTO fare_amount_range VALUES ('fare_amount', 0, 5, '00-05');\n",
    "INSERT INTO fare_amount_range VALUES ('fare_amount', 5, 10, '05-10');\n",
    "INSERT INTO fare_amount_range VALUES ('fare_amount', 10, 15, '10-15');\n",
    "INSERT INTO fare_amount_range VALUES ('fare_amount', 15, 20, '15-20');\n",
    "INSERT INTO fare_amount_range VALUES ('fare_amount', 20, 25, '20-25');\n",
    "INSERT INTO fare_amount_range VALUES ('fare_amount', 25, 30, '25-30');\n",
    "INSERT INTO fare_amount_range VALUES ('fare_amount', 30, 35, '30-35');\n",
    "INSERT INTO fare_amount_range VALUES ('fare_amount', 35, 40, '35-40');\n",
    "INSERT INTO fare_amount_range VALUES ('fare_amount', 40, 45, '40-45');"
   ]
  },
  {
   "cell_type": "code",
   "execution_count": null,
   "metadata": {},
   "outputs": [],
   "source": [
    "CREATE MULTISET TABLE BinCodeFitTbl AS (\n",
    "    SELECT *\n",
    "        FROM TD_BincodeFit(\n",
    "        ON NYC_FULL_T AS InputTable\n",
    "        ON fare_amount_range as FitInput Dimension\n",
    "        USING\n",
    "            TargetColumns('fare_amount')\n",
    "            MethodType('Variable-Width')\n",
    "        ) AS dt\n",
    ") WITH DATA;"
   ]
  },
  {
   "cell_type": "code",
   "execution_count": null,
   "metadata": {},
   "outputs": [],
   "source": [
    "SELECT TOP 5 * from BinCodeFitTbl ORDER BY 2;"
   ]
  },
  {
   "cell_type": "markdown",
   "metadata": {},
   "source": [
    "<p style = 'font-size:16px;font-family:Arial;color:#00233C'>Here we can see that we created BinCodeFitTble using the fare_amount_range table. We will use this in the next step of the transformation.</p>"
   ]
  },
  {
   "cell_type": "markdown",
   "metadata": {},
   "source": [
    "<hr style=\"height:1px;border:none;background-color:#00233C;\">\n",
    "<p style = 'font-size:18px;font-family:Arial;color:#00233C'><b>5.3 TD_ColumnTransformer</b></p>\n",
    "\n",
    "<p style = 'font-size:16px;font-family:Arial;color:#00233C'>The <a href = 'https://docs.teradata.com/search/all?query=TD_ColumnTransformer&content-lang=en-US'>TD_ColumnTransformer</a> function transforms the entire dataset in a single operation. You only need to provide the FIT tables to the function, and the function runs all the transformations required in a single operation.</p>\n",
    "\n",
    "<p style = 'font-size:16px;font-family:Arial;color:#00233C'>For this demonstration, we will create another view using TD_ColumnTransformer, passing both <b>Outlier Filter Fit</b> and <b>Bin Coding Fit</b> tables.</p>\n"
   ]
  },
  {
   "cell_type": "code",
   "execution_count": null,
   "metadata": {},
   "outputs": [],
   "source": [
    "REPLACE VIEW nyc_outlier_transformed AS (\n",
    "    SELECT *\n",
    "        FROM TD_ColumnTransformer(\n",
    "        ON NYC_FULL_T AS InputTable\n",
    "            \n",
    "        ON OutlierFitTbl AS OutlierFilterFitTable DIMENSION\n",
    "        ON BinCodeFitTbl AS BincodeFitTable DIMENSION\n",
    "            \n",
    "    ) AS dt\n",
    ");"
   ]
  },
  {
   "cell_type": "code",
   "execution_count": null,
   "metadata": {},
   "outputs": [],
   "source": [
    "SELECT TOP 5 * FROM nyc_outlier_transformed;"
   ]
  },
  {
   "cell_type": "markdown",
   "metadata": {},
   "source": [
    "<p style = 'font-size:16px;font-family:Arial;color:#00233C'>As shown above, the data has been divided into the bins specified in the fare_amount_range table.</p>"
   ]
  },
  {
   "cell_type": "markdown",
   "metadata": {},
   "source": [
    "<hr style=\"height:1px;border:none;background-color:#00233C;\">\n",
    "<p style = 'font-size:18px;font-family:Arial;color:#00233C'><b>5.4 TD_CategoricalSummary</b></p>\n",
    "\n",
    "<p style = 'font-size:16px;font-family:Arial;color:#00233C'>The <a href = 'https://docs.teradata.com/search/all?query=TD_CategoricalSummary&content-lang=en-US'>TD_CategoricalSummary</a> function displays the distinct values and their counts for each specified input table column.</p>\n",
    "\n",
    "<p style = 'font-size:16px;font-family:Arial;color:#00233C'>Since the fare_amount column has been converted from a numeric column to a categorical one, we will use TD_CategoricalSummary instead of TD_Histogram to count the distinct category values, and value counts across the data set.</p>"
   ]
  },
  {
   "cell_type": "code",
   "execution_count": null,
   "metadata": {},
   "outputs": [],
   "source": [
    "SELECT  *\n",
    "FROM TD_CategoricalSummary (\n",
    "    ON nyc_outlier_transformed AS InputTable\n",
    "USING\n",
    "    TargetColumns('fare_amount')\n",
    ") AS dt ORDER BY 2;"
   ]
  },
  {
   "cell_type": "code",
   "execution_count": null,
   "metadata": {
    "slideshow": {
     "slide_type": "fragment"
    }
   },
   "outputs": [],
   "source": [
    "%chart x = DistinctValue, y = DistinctValueCount, title = \"Histogram of fare_amount range and DistinctValue_count\", width = 300"
   ]
  },
  {
   "cell_type": "markdown",
   "metadata": {},
   "source": [
    "<p style = 'font-size:16px;font-family:Arial;color:#00233C'>The above graph shows a better distribution of fare amount.\n",
    "<br>\n",
    "<br>\n",
    "    So in this demonstration, we handled the outliers in the latitude longitude as well as fare_amount. Now this filtered dataset most closely represents the actual data i.e., the rides taken. This dataset can safely be used for further analysis.\n",
    "</p>"
   ]
  },
  {
   "cell_type": "markdown",
   "metadata": {},
   "source": [
    "<hr style=\"height:2px;border:none;background-color:#00233C;\">\n",
    "<b style = 'font-size:20px;font-family:Arial;color:#00233C'>8. Cleanup</b>\n",
    "<p style = 'font-size:18px;font-family:Arial;color:#00233C'><b>Work Tables</b></p>\n",
    "<p style = 'font-size:16px;font-family:Arial;color:#00233C'>Cleanup work tables to prevent errors next time. This section drops all the tables created during the demonstration.</p>"
   ]
  },
  {
   "cell_type": "code",
   "execution_count": null,
   "metadata": {},
   "outputs": [],
   "source": [
    "DROP TABLE NYC_FULL_T"
   ]
  },
  {
   "cell_type": "code",
   "execution_count": null,
   "metadata": {},
   "outputs": [],
   "source": [
    "DROP TABLE AllStats_unpivoted;"
   ]
  },
  {
   "cell_type": "code",
   "execution_count": null,
   "metadata": {},
   "outputs": [],
   "source": [
    "DROP VIEW AllStats_pivoted"
   ]
  },
  {
   "cell_type": "code",
   "execution_count": null,
   "metadata": {},
   "outputs": [],
   "source": [
    "DROP TABLE fare_amount_minmax;"
   ]
  },
  {
   "cell_type": "code",
   "execution_count": null,
   "metadata": {},
   "outputs": [],
   "source": [
    "DROP TABLE outlierFitTbl"
   ]
  },
  {
   "cell_type": "code",
   "execution_count": null,
   "metadata": {},
   "outputs": [],
   "source": [
    "DROP VIEW latlong_no_outliers"
   ]
  },
  {
   "cell_type": "code",
   "execution_count": null,
   "metadata": {},
   "outputs": [],
   "source": [
    "DROP TABLE fare_amount_range"
   ]
  },
  {
   "cell_type": "code",
   "execution_count": null,
   "metadata": {},
   "outputs": [],
   "source": [
    "DROP TABLE BinCodeFitTbl"
   ]
  },
  {
   "cell_type": "markdown",
   "metadata": {},
   "source": [
    "<p style = 'font-size:18px;font-family:Arial;color:#00233C'> <b>Databases and Tables </b></p>\n",
    "<p style = 'font-size:16px;font-family:Arial;color:#00233C'>The following code will clean up tables and databases created above.</p>"
   ]
  },
  {
   "cell_type": "code",
   "execution_count": null,
   "metadata": {},
   "outputs": [],
   "source": [
    "call remove_data('DEMO_NYCTaxi');          -- Takes 10 seconds"
   ]
  },
  {
   "cell_type": "markdown",
   "metadata": {},
   "source": [
    "<footer style=\"padding-bottom:35px; background:#f9f9f9; border-bottom:3px solid #00233C\">\n",
    "    <div style=\"float:left;margin-top:14px\">ClearScape Analytics™</div>\n",
    "    <div style=\"float:right;\">\n",
    "        <div style=\"float:left; margin-top:14px\">\n",
    "            Copyright © Teradata Corporation - 2023. All Rights Reserved\n",
    "        </div>\n",
    "    </div>\n",
    "</footer>"
   ]
  }
 ],
 "metadata": {
  "kernelspec": {
   "display_name": "Teradata SQL",
   "language": "Teradata SQL",
   "name": "teradatasql"
  },
  "language_info": {
   "codemirror_mode": "Teradata SQL",
   "file_extension": ".tdrs",
   "mimetype": "application/vnd.teradata.resultset",
   "name": "Teradata SQL",
   "nbconvert_exporter": "",
   "pygments_lexer": "",
   "version": "16.20"
  },
  "toc-showmarkdowntxt": true
 },
 "nbformat": 4,
 "nbformat_minor": 4
}
