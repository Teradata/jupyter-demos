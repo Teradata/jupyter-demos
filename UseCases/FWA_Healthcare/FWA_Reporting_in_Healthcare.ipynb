{
 "cells": [
  {
   "cell_type": "markdown",
   "id": "8020ca33-aad1-4e50-876e-0c4c660e3195",
   "metadata": {},
   "source": [
    "<header>\n",
    "   <p  style='font-size:36px;font-family:Arial; color:#F0F0F0; background-color: #00233c; padding-left: 20pt; padding-top: 20pt;padding-bottom: 10pt; padding-right: 20pt;'>\n",
    "      AI/ML-Powered Evidence-Based Pathway Analytics for Fraud, Waste, and Abuse (FWA) Detection in Healthcare <br>\n",
    "       <img id=\"teradata-logo\" src=\"https://storage.googleapis.com/clearscape_analytics_demo_data/DEMO_Logo/teradata.svg\" alt=\"Teradata\" style=\"width: 125px; height: auto; margin-top: 20pt;\">\n",
    "    </p>\n",
    "</header>"
   ]
  },
  {
   "cell_type": "markdown",
   "id": "f28724a7-cdde-4bb8-839d-93e0f9e4cebb",
   "metadata": {},
   "source": [
    "<p style = 'font-size:20px;font-family:Arial'><b>Introduction</b><br>\n",
    "<p style = 'font-size:16px;font-family:Arial'>Current FWA(Fraud, waste and abuse) detection processes in healthcare industry rely heavily on traditional queries and manual auditing, which are slow and not scalable. Similarly, identifying cost inefficiencies and poor adherence to Value-Based Care models example in complex musculoskeletal (MSK) cases is difficult due to scattered data and limited advanced analytics. Key challenges include:\n",
    "<ul style = 'font-size:16px;font-family:Arial'><li>Overutilization of costly procedures not aligned with best-practice medical guidelines. For example: A significant portion of spinal surgeries are conducted without preceding or follow-up physical therapy.</li>\n",
    "    <li>Underuse of conservative or necessary diagnostic/treatment steps.</li>\n",
    "    <li>Limited visibility into provider-level behavior and care deviations.  For example: Providers with a history of license suspensions or violations may exhibit patterns of deviation prior to enforcement.</li>\n",
    "    <li>Ineffective early identification of high-risk patterns that drive up costs and reduce quality.</li>\n",
    "    </ul>\n",
    "<p style = 'font-size:16px;font-family:Arial'>\n",
    "    <b>Proposed Solution</b><br> Evidence-Based Pathway Monitoring Using AI/ML\n",
    "Implement a robust analytics platform leveraging machine learning, npath analysis, and visual dashboards to detect deviations from evidence based medication(EBM) and reduce fraud,waste and abuse(FWA). With the help of the information in the dashboards we can find out the deviations in the recommended practices like Surgical interventions without appropriate diagnostics or conservative treatments. Cases where diagnostics are skipped or treatment is prematurely escalated. Patient journey flows across diagnostic and treatment steps. Predict patterns of behavior that frequently lead to FWA incidents.\n",
    "<p style = 'font-size:16px;font-family:Arial'>\n",
    "    <b>Benefits</b>\n",
    "<ul style = 'font-size:16px;font-family:Arial'><li>Cost Reduction: Avoid unnecessary procedures and identify FWA through proactive monitoring.</li>\n",
    "    <li>Better Outcomes: Promote adherence to proven clinical pathways for optimal care quality.</li>\n",
    "    <li>Operational Efficiency: Reduce manual auditing and investigation efforts.</li>\n",
    "    <li>Scalability: Apply methodology across departments, specialties, and provider networks.\n",
    "    <li>Procedure-level cost breakdowns including diagnostics, therapies, and surgeries.</li>\n",
    "</ul>"
   ]
  },
  {
   "cell_type": "markdown",
   "id": "44397f16-5321-448a-83c1-f895ea2a7cd5",
   "metadata": {},
   "source": [
    "<p style = 'font-size:20px;font-family:Arial'><b>Solution Steps</b><br>\n",
    "<p style = 'font-size:16px;font-family:Arial'>Due to the size and complexity of the solution, we have divided the solution approach into two steps.<ol style = 'font-size:16px;font-family:Arial'>\n",
    " <div style=\"text-align: left; \">\n",
    "        <a href=\"./FWA_Dataprocessing_sql.ipynb\" style=\"padding: 10px; background-color: #00233c; color: #FFFFFF; text-decoration: none; border-radius: 5px;\">\n",
    "         Data processing\n",
    "     </a> </div> <br>This notebook loads the source data and does the data-processing required for the dashboard reporting. The target tables created in the notebook are then be used for the reporting.</p>\n",
    "\n",
    "<div style=\"text-align: left; \">\n",
    "        <a href=\"https://superset.env.ci.clearscape.teradata.com/superset/dashboard/p/6boOEgZQ8rk/\" style=\"padding: 10px; background-color: #00233c; color: #FFFFFF; text-decoration: none; border-radius: 5px;\">\n",
    "         Superset Dashboards\n",
    "    </a> </div> <p style = 'font-size:16px;font-family:Arial'><br> The reporting dashboard based on the tables created in using dataprocessing sqls.</p>\n",
    "    </ol> \n",
    "</p>"
   ]
  },
  {
   "cell_type": "markdown",
   "id": "34fd4845-8cd4-44ad-b2e9-07e6be0675f5",
   "metadata": {},
   "source": [
    "<hr style=\"height:2px;border:none;\">\n",
    "<p style = 'font-size:20px;font-family:Arial'><b>1. Connect to Vantage, Import python packages and explore the dataset</b></p>\n"
   ]
  },
  {
   "cell_type": "code",
   "execution_count": null,
   "id": "931b0dfe-4e25-44b2-8896-27e3b3107042",
   "metadata": {},
   "outputs": [],
   "source": [
    "#import libraries\n",
    "import getpass\n",
    "from teradataml import *\n",
    "\n",
    "import warnings\n",
    "warnings.filterwarnings('ignore')\n",
    "warnings.simplefilter(action='ignore', category=DeprecationWarning)\n",
    "warnings.simplefilter(action='ignore', category=RuntimeWarning)\n",
    "warnings.simplefilter(action='ignore', category=FutureWarning)\n",
    "\n",
    "display.max_rows=5"
   ]
  },
  {
   "cell_type": "markdown",
   "id": "9f103944-fd7b-487e-aa7c-6ae303c82db2",
   "metadata": {},
   "source": [
    "<p style = 'font-size:16px;font-family:Arial'>We will be prompted to provide the password. We will enter the password, press the Enter key, and then use the down arrow to go to the next cell.</p>"
   ]
  },
  {
   "cell_type": "code",
   "execution_count": null,
   "id": "8357989a-319e-4cf0-b053-b7ec9b934b75",
   "metadata": {},
   "outputs": [],
   "source": [
    "%run -i ../startup.ipynb\n",
    "eng = create_context(host = 'host.docker.internal', username='demo_user', password = password)\n",
    "print(eng)"
   ]
  },
  {
   "cell_type": "code",
   "execution_count": null,
   "id": "1ef190b7-b335-46cc-9ab0-82a187457a90",
   "metadata": {},
   "outputs": [],
   "source": [
    "%%capture\n",
    "execute_sql('''SET query_band='DEMO=FF_FWA_Reporting_in_Healthcare_Python.ipynb;' UPDATE FOR SESSION; ''')"
   ]
  },
  {
   "cell_type": "markdown",
   "id": "3bfe3a6e-23e8-4540-a9b2-ae17ad3acad5",
   "metadata": {},
   "source": [
    "<p style = 'font-size:18px;font-family:Arial'> <b>Getting Data for This Demo</b></p>\n",
    "<p style = 'font-size:16px;font-family:Arial'>We have provided data for this demo on cloud storage. We have the option of either running the demo using foreign tables to access the data without using any storage on our environment or downloading the data to local storage, which may yield somewhat faster execution. However, we need to consider available storage. There are two statements in the following cell, and one is commented out. We may switch which mode we choose by changing the comment string.</p>"
   ]
  },
  {
   "cell_type": "code",
   "execution_count": null,
   "id": "8adc50c1-007e-45d1-8eb4-46534565c192",
   "metadata": {},
   "outputs": [],
   "source": [
    "%run -i ../run_procedure.py \"call get_data('DEMO_HealthcareFWA_cloud');\"\n",
    " # takes about 30 seconds, estimated space: 0Mb\n",
    "#%run -i ../run_procedure.py \"call get_data('DEMO_HealthcareFWA_local');\" \n",
    "# takes about 7minutes, estimated space: 800Mb"
   ]
  },
  {
   "cell_type": "markdown",
   "id": "5eacf4c7-3a3b-4a26-95aa-a245448ff61d",
   "metadata": {},
   "source": [
    "<p style = 'font-size:16px;font-family:Arial'>Optional step – We should execute the below step only if we want to see the status of databases/tables created and space used.</p>"
   ]
  },
  {
   "cell_type": "code",
   "execution_count": null,
   "id": "e210987b-966a-4afe-a1cc-5e5197e0c108",
   "metadata": {},
   "outputs": [],
   "source": [
    "%run -i ../run_procedure.py \"call space_report();\""
   ]
  },
  {
   "cell_type": "markdown",
   "id": "76dd0790-8b89-4848-8c39-8142af1fab97",
   "metadata": {},
   "source": [
    "<hr style=\"height:2px;border:none;\">\n",
    "<p style = 'font-size:20px;font-family:Arial'><b>2. Data Exploration </b></p>"
   ]
  },
  {
   "cell_type": "markdown",
   "id": "843a8104-42c3-46d5-b97b-03fa6c5a15a3",
   "metadata": {},
   "source": [
    "<p style = 'font-size:16px;font-family:Arial'>Let us start by listing all tables/datasets available for us. </p>"
   ]
  },
  {
   "cell_type": "code",
   "execution_count": null,
   "id": "3650ea30-d063-4cff-ac39-03424db2c626",
   "metadata": {},
   "outputs": [],
   "source": [
    "db_list_tables('DEMO_HealthcareFWA')"
   ]
  },
  {
   "cell_type": "markdown",
   "id": "43f0b3b9-ff0f-409d-8b81-45ef88791ace",
   "metadata": {},
   "source": [
    "<p style = 'font-size:16px;font-family:Arial'>As we can see from above, we have data in tables about the Procedure, conditions, medications etc. We also have patients billing history e.g in Wc_Sv1header, Wc_Sv1detail. We have information about musculoskeletal, diabetics and maternity cases. </p>"
   ]
  },
  {
   "cell_type": "code",
   "execution_count": null,
   "id": "4492ccb9-fdf0-4549-811c-33cf713b37bc",
   "metadata": {},
   "outputs": [],
   "source": [
    "df_proc = DataFrame(in_schema(\"DEMO_HealthcareFWA\", \"Va_Procedures\"))\n",
    "df_proc"
   ]
  },
  {
   "cell_type": "code",
   "execution_count": null,
   "id": "faeaaffb-4e15-45b8-bb79-8d7a45c3785d",
   "metadata": {},
   "outputs": [],
   "source": [
    "df_sv1_header = DataFrame(in_schema(\"DEMO_HealthcareFWA\", \"Wc_Sv1header\"))\n",
    "df_sv1_header"
   ]
  },
  {
   "cell_type": "code",
   "execution_count": null,
   "id": "75e00d48-cb6c-4d49-9237-f66f43ae2f5d",
   "metadata": {},
   "outputs": [],
   "source": [
    "df_sv1_detail = DataFrame(in_schema(\"DEMO_HealthcareFWA\", \"Wc_Sv1detail\"))\n",
    "df_sv1_detail"
   ]
  },
  {
   "cell_type": "markdown",
   "id": "fc52eac9-6be3-40e9-91b3-5701416ceb36",
   "metadata": {},
   "source": [
    "<p style = 'font-size:16px;font-family:Arial'>You can check the information available in the other tables also. In the <a href = './FWA_Dataprocessing_sql.ipynb'>Dataprocessing Notebook</a>  we can see how we derive meaningful information from these tables and used them in reporting. </p>\n"
   ]
  },
  {
   "cell_type": "markdown",
   "id": "73f29794-0df2-4cf2-b08f-490e53092991",
   "metadata": {},
   "source": [
    "<p style = 'font-size:16px;font-family:Arial'>The dasboard looks like below and it uses the tables created in the dataprocessing step.\n",
    "\n",
    "<center><img src=\"images/fwa-dashboard.jpg\" alt=\"fwa_dashboard\" width=800 height=600/></center>\n"
   ]
  },
  {
   "cell_type": "markdown",
   "id": "c348f7c4-19a6-4e56-a1e1-232ce5b397d0",
   "metadata": {},
   "source": [
    "<p style = 'font-size:16px;font-family:Arial'>\n",
    "<div style=\"text-align: left; \">\n",
    "        <a href=\"./FWA_Dataprocessing_sql.ipynb\" style=\"padding: 10px; background-color: #00233c; color: #FFFFFF; text-decoration: none; border-radius: 5px;\">\n",
    "         Superset Dashboards\n",
    "        </a> </div></p> <p style = 'font-size:16px;font-family:Arial'> Please review the insights derived from the source data and assess how they might assist in identifying Fraud, Waste, and Abuse (FWA).</p>"
   ]
  },
  {
   "cell_type": "markdown",
   "id": "4e7d48f1-dd97-4b0a-b3eb-edf5744f1293",
   "metadata": {},
   "source": [
    "<hr style=\"height:2px;border:none;\">\n",
    "<b style = 'font-size:20px;font-family:Arial;'>3. Cleanup</b>"
   ]
  },
  {
   "cell_type": "markdown",
   "id": "45884c10-da59-41ef-a274-28ccc0e111e5",
   "metadata": {},
   "source": [
    "<p style = 'font-size:18px;font-family:Arial;'> <b>Databases and Tables </b></p>\n",
    "<p style = 'font-size:16px;font-family:Arial;'>The following code will clean up tables and databases created above.</p>"
   ]
  },
  {
   "cell_type": "code",
   "execution_count": null,
   "id": "b83294e0-2135-4559-8a11-d2324aee7df9",
   "metadata": {},
   "outputs": [],
   "source": [
    "%run -i ../run_procedure.py \"call remove_data('DEMO_HealthcareFWA');\"        # Takes 10 seconds"
   ]
  },
  {
   "cell_type": "code",
   "execution_count": null,
   "id": "96de2215-a095-44cb-8354-c70eebbade74",
   "metadata": {},
   "outputs": [],
   "source": [
    "remove_context()"
   ]
  },
  {
   "cell_type": "markdown",
   "id": "9e2f6327-b156-43be-b7be-a1f3859bbf50",
   "metadata": {},
   "source": [
    "<footer style=\"padding-bottom:35px; background:#f9f9f9; border-bottom:3px solid #00233C\">\n",
    "    <div style=\"float:left;margin-top:14px\">ClearScape Analytics™</div>\n",
    "    <div style=\"float:right;\">\n",
    "        <div style=\"float:left; margin-top:14px\">\n",
    "            Copyright © Teradata Corporation - 2025. All Rights Reserved\n",
    "        </div>\n",
    "    </div>\n",
    "</footer>"
   ]
  }
 ],
 "metadata": {
  "kernelspec": {
   "display_name": "Python 3 (ipykernel)",
   "language": "python",
   "name": "python3"
  },
  "language_info": {
   "codemirror_mode": {
    "name": "ipython",
    "version": 3
   },
   "file_extension": ".py",
   "mimetype": "text/x-python",
   "name": "python",
   "nbconvert_exporter": "python",
   "pygments_lexer": "ipython3",
   "version": "3.9.10"
  }
 },
 "nbformat": 4,
 "nbformat_minor": 5
}
