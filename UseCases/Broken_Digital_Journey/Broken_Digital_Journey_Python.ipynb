{
 "cells": [
  {
   "cell_type": "markdown",
   "id": "f0d9dc65",
   "metadata": {},
   "source": [
    "<header>\n",
    "   <p  style='font-size:36px;font-family:Arial; color:#F0F0F0; background-color: #00233c; padding-left: 20pt; padding-top: 20pt;padding-bottom: 10pt; padding-right: 20pt;'>\n",
    "       RETAIL: Broken Digital Journeys Demo\n",
    "  <br>\n",
    "       <img id=\"teradata-logo\" src=\"https://storage.googleapis.com/clearscape_analytics_demo_data/DEMO_Logo/teradata.svg\" alt=\"Teradata\" style=\"width: 125px; height: auto; margin-top: 20pt;\">\n",
    "    </p>\n",
    "</header>    \n",
    "<br>\n",
    "\n",
    "<p style = 'font-size:20px;font-family:Arial;color:#00233C'><b>Introduction</b></p>    "
   ]
  },
  {
   "cell_type": "markdown",
   "id": "3c0a4921",
   "metadata": {},
   "source": [
    "\n",
    "\n",
    "<p style = 'font-size:16px;font-family:Arial;color:#00233C'>In today's business landscape, customers engage with numerous digital platforms, including various company websites and online interfaces. As a result, the digital experiences offered by firms have become increasingly critical. However, companies often encounter challenges when attempting to understand and analyze customers' digital interactions. Fortunately, Teradata offers innovative solutions such as Vantage and ClearScape Analytics to address these challenges. We want to provide impactful strategies that companies can utilize to overcome common obstacles and enhance the digital experience.</p>\n",
    "<p style = 'font-size:16px;font-family:Arial;color:#00233C'>Our goal at Teradata is to help you identify the high-impact moments in your customers’ digital journeys so that you can better meet their needs and expectations. In fact, a survey from American Express found that as many as 78% of consumers gave up on a transaction due to broken processes, which can lead to companies losing 10s of millions of dollars in revenue and increasing customer churn.</p>\n",
    "<p style = 'font-size:20px;font-family:Arial;color:#00233C'><b>Business Value</b></p>\n",
    "<li style = 'font-size:16px;font-family:Arial;color:#00233C'>Increase revenue through improving conversions.</li>\n",
    "<li style = 'font-size:16px;font-family:Arial;color:#00233C'>Drive incremental sales through new leads.</li>\n",
    "<li style = 'font-size:16px;font-family:Arial;color:#00233C'>Reduce costs by improving operational efficiencies. </li>\n",
    "<li style = 'font-size:16px;font-family:Arial;color:#00233C'>Investigate further into the customer journey and possible friction via techniques such as cluster analysis.</li>\n",
    "<li style = 'font-size:16px;font-family:Arial;color:#00233C'>Implement process changes or alerts to remove friction points.</li>\n",
    "<li style = 'font-size:16px;font-family:Arial;color:#00233C'>Create proactive customer outreach via Call Centers or marketing outreach.</li></p> \n",
    "<p style = 'font-size:20px;font-family:Arial;color:#00233C'><b>Why Vantage? </b></p>\n",
    "<p style = 'font-size:16px;font-family:Arial;color:#00233C'>With the advantages of Vantage and ClearScape Analytics, we bring key differentiating capabilities that set us apart from the current fragmented state many of our customers and prospects face. Analyzing customer behavior across multiple channels poses many challenges.  Data is disconnected, or when it is available, typically exists in vast quantities that make timely, accurate analysis impossible.  If this analysis is available, it is typically only available inside of a closed, proprietary ecosystem. </p>\n",
    "<p style = 'font-size:16px;font-family:Arial;color:#00233C'>Fortunately, Vantage allows users to unlock the value in their customer behavioral information by</p>\n",
    "<li style = 'font-size:16px;font-family:Arial;color:#00233C'>Accessing data across multiple, disconnected silos, and </li>\n",
    "<li style = 'font-size:16px;font-family:Arial;color:#00233C'>Applying unique, massively-scalable analytics capabilities which allows organizations to understand a complete and accurate picture of the user journey.</li></p>\n",
    "<p style = 'font-size:16px;font-family:Arial;color:#00233C'>With Vantage, these analytics can be run in real-time for any data volume or number of users – providing an accurate, timely view of overall user experience. And of course, Vantage and ClearScape Analytics allow for at-scale processing across all the digital interactions that make up customer journeys.\n",
    "Furthermore, this analysis can be passed to additional ML and AI capabilities available in ClearScape Analytics, helping to develop more accurate and actionable predictive models.\n",
    "</p>\n",
    "\n",
    "\n",
    "<p style = 'font-size:16px;font-family:Arial;color:#00233C'>The nPath® function scans a set of rows, looking for patterns that you specify. For each set of input rows that matches the pattern, nPath® produces a single output row. The function provides a flexible pattern-matching capability that lets you specify complex patterns in the input data and define the values that are output for each matched input set.</p>\n",
    "<p style = 'font-size:16px;font-family:Arial;color:#00233C'>nPath® is useful when your goal is to identify the paths that lead to an outcome. For example, you can use nPath to analyze:</p>\n",
    "\n",
    "<li style = 'font-size:16px;font-family:Arial;color:#00233C'>Web site click data, to identify paths that lead to sales over a specified amount</li>\n",
    "<li style = 'font-size:16px;font-family:Arial;color:#00233C'>Sensor data from industrial processes, to identify paths to poor product quality</li>\n",
    "<li style = 'font-size:16px;font-family:Arial;color:#00233C'>Healthcare records of individual patients, to identify paths that indicate that patients are at risk of developing conditions such as heart disease or diabetes</li>\n",
    "<li style = 'font-size:16px;font-family:Arial;color:#00233C'>Financial data for individuals, to identify paths that provide information about credit or fraud risks</li>\n",
    "<li style = 'font-size:16px;font-family:Arial;color:#00233C'>The output from the nPath function can be input to a visualization tool.</p>\n",
    "<p style = 'font-size:16px;font-family:Arial;color:#00233C'>This demo shows how to use ClearScape nPath to analyze customer digital behavior, experience, and diagnosis of problems with customer experience and flow. It uses a simulated digital retail data set. Using this data we are conducting path analysis. Specifically, it has examples of looking at the most frequent customer journeys and identifying any common events that could potentially be stopping the customer from making a purchase.</p>"
   ]
  },
  {
   "cell_type": "markdown",
   "id": "e331a3b1-a538-47d2-99e8-7907048c4be5",
   "metadata": {
    "tags": []
   },
   "source": [
    "<hr style=\"height:2px;border:none;background-color:#00233C;\">\n",
    "\n",
    "<p style = 'font-size:20px;font-family:Arial;color:#00233C'><b>1. Connect to Vantage</b></p>\n"
   ]
  },
  {
   "cell_type": "markdown",
   "id": "8c466b0e-4170-4cfd-b5b4-09c5d2fe0336",
   "metadata": {},
   "source": [
    "<p style = 'font-size:16px;font-family:Arial;color:#00233C'>In the section, we import the required libraries and set environment variables and environment paths (if required).</p>"
   ]
  },
  {
   "cell_type": "code",
   "execution_count": null,
   "id": "5f8c3b27",
   "metadata": {},
   "outputs": [],
   "source": [
    "#%%capture\n",
    "# RESTART KERNEL AFTER THIS. NO NEED TO EXECUTE THIS AFTER RESTART.\n",
    "#!pip install teradataml --upgrade\n",
    "#!pip install colorlover"
   ]
  },
  {
   "cell_type": "markdown",
   "id": "a48867ff-e909-4b90-93c0-be99507f3f26",
   "metadata": {},
   "source": [
    "<div class=\"alert alert-block alert-info\">\n",
    "<p style = 'font-size:16px;font-family:Arial;color:#00233C'><b>Note: </b><i>The above statements may need to be uncommented if you run the notebooks on a platform other than ClearScape Analytics Experience that does not have the libraries installed. If you uncomment those installs, be sure to restart the kernel after executing those lines to bring the installed libraries into memory. The simplest way to restart the Kernel is by typing zero zero: <b> 0 0</b></i></p>\n",
    "</div>\n",
    "<p style = 'font-size:16px;font-family:Arial;color:#00233C'>Import the libraries mentioned in the below cell.</p>"
   ]
  },
  {
   "cell_type": "code",
   "execution_count": null,
   "id": "c62896af",
   "metadata": {},
   "outputs": [],
   "source": [
    "import json\n",
    "import getpass\n",
    "import os\n",
    "import warnings\n",
    "import datetime\n",
    "from collections import defaultdict\n",
    "\n",
    "import pandas as pd\n",
    "import numpy as np\n",
    "\n",
    "\n",
    "from teradatasqlalchemy.types import *\n",
    "from teradataml import *\n",
    "\n",
    "from plotly.offline import download_plotlyjs, init_notebook_mode, plot, iplot\n",
    "from collections import defaultdict\n",
    "import plotly.offline as offline\n",
    "import colorlover as cl\n",
    "\n",
    "offline.init_notebook_mode()\n",
    "display.max_rows=5\n",
    "warnings.filterwarnings('ignore')\n",
    "warnings.simplefilter(action='ignore', category=FutureWarning)\n",
    "warnings.simplefilter(action='ignore', category=DeprecationWarning)\n",
    "warnings.simplefilter(action='ignore', category=UserWarning)"
   ]
  },
  {
   "cell_type": "markdown",
   "id": "6e5f5de5",
   "metadata": {},
   "source": [
    "<p style = 'font-size:16px;font-family:Arial;color:#00233C'>We will be prompted to provide the password. We will enter the password, press the Enter key, and then use the down arrow to go to the next cell. Begin running steps with Shift + Enter keys.</p> "
   ]
  },
  {
   "cell_type": "code",
   "execution_count": null,
   "id": "943df292-dd3e-4866-97dc-8307b17165bc",
   "metadata": {},
   "outputs": [],
   "source": [
    "%run -i ../startup.ipynb\n",
    "eng = create_context(host = 'host.docker.internal', username='demo_user', password = password)\n",
    "print(eng)"
   ]
  },
  {
   "cell_type": "code",
   "execution_count": null,
   "id": "cf1d0e5a-fa75-4193-bd45-e050d856b317",
   "metadata": {},
   "outputs": [],
   "source": [
    "%%capture\n",
    "execute_sql('''SET query_band='DEMO=RetailBrokenDigitalJourneysPython.ipynb;' UPDATE FOR SESSION; ''')"
   ]
  },
  {
   "cell_type": "markdown",
   "id": "e87a5959-6275-44f5-9375-c9d500f6efbe",
   "metadata": {},
   "source": [
    "<hr style=\"height:2px;border:none;background-color:#00233C;\">\n",
    "\n",
    "<p style = 'font-size:20px;font-family:Arial;color:#00233C'><b>2. Getting Data for This Demo</b></p>\n",
    "<p style = 'font-size:16px;font-family:Arial;color:#00233C'>We have provided data for this demo on cloud storage. We have the option of either running the demo using foreign tables to access the data without using any storage on our environment or downloading the data to local storage, which may yield somewhat faster execution. However, we need to consider available storage. There are two statements in the following cell, and one is commented out. We may switch which mode we choose by changing the comment string.</p>    \n"
   ]
  },
  {
   "cell_type": "code",
   "execution_count": null,
   "id": "36a378d0-1638-4a89-a9f1-271d0c859e54",
   "metadata": {},
   "outputs": [],
   "source": [
    "# %run -i ../run_procedure.py \"call get_data('DEMO_DigitalEvents_cloud');\"\n",
    "# Takes about 12 seconds\n",
    "%run -i ../run_procedure.py \"call get_data('DEMO_DigitalEvents_local');\"\n",
    "# Takes about 20 seconds"
   ]
  },
  {
   "cell_type": "markdown",
   "id": "0cb2f007-e377-413a-8b8d-0efc7076a6b1",
   "metadata": {},
   "source": [
    "<p style = 'font-size:16px;font-family:Arial;color:#00233C'>Optional step – We should execute the below step only if we want to see the status of databases/tables created and space used.</p>"
   ]
  },
  {
   "cell_type": "code",
   "execution_count": null,
   "id": "2d8b46d8-c768-48ae-a6df-7462e7bdd0d9",
   "metadata": {},
   "outputs": [],
   "source": [
    "%run -i ../run_procedure.py \"call space_report();\""
   ]
  },
  {
   "cell_type": "markdown",
   "id": "40d82a1f-73a4-4542-9f58-c8b43d0284eb",
   "metadata": {},
   "source": [
    "<hr style=\"height:2px;border:none;background-color:#00233C;\">\n",
    "\n",
    "<p style = 'font-size:20px;font-family:Arial;color:#00233C'><b>3. Data Exploration</b></p>\n",
    "\n",
    "\n",
    "<p style = 'font-size:18px;font-family:Arial;color:#00233C'><b>3.1 We create a DataFrame to get the data from the table created.</p>\n",
    "\n",
    "\n"
   ]
  },
  {
   "cell_type": "code",
   "execution_count": null,
   "id": "899ac9f5",
   "metadata": {},
   "outputs": [],
   "source": [
    "df = DataFrame(in_schema('DEMO_DigitalEvents', 'Digital_Retail_Events'))\n",
    "df"
   ]
  },
  {
   "cell_type": "markdown",
   "id": "4310e0e0-16f7-4760-993e-6d3491016037",
   "metadata": {},
   "source": [
    "<p style = 'font-size:16px;font-family:Arial;color:#00233C'>We use the ConvertTo function to get the correct datatypes and character sets for the columns.</p>\n",
    "<p style = 'font-size:16px;font-family:Arial;color:#00233C'>ConvertTo converts the specified input table columns to specified data types to ensure that the data in the specified columns is in the correct format for efficient data processing. This function performs a conversion operation on the specified columns of an input table. This operation enables the user to convert the input table columns to the desired data types, allowing for consistency and compatibility with downstream operations.</p>"
   ]
  },
  {
   "cell_type": "code",
   "execution_count": null,
   "id": "60421365-653a-4a37-944d-877fb9bad290",
   "metadata": {},
   "outputs": [],
   "source": [
    "from teradataml import ConvertTo\n",
    "converted_data = ConvertTo(data = df,\n",
    "                           target_columns = ['Customer_Id','datestamp', 'event','session_id'],\n",
    "                           target_datatype = [\"integer\",\"timestamp\",\"VARCHAR(charlen=20,charset=LATIN,casespecific=NO)\",\"integer\"])\n",
    "df=converted_data.result\n",
    "df"
   ]
  },
  {
   "cell_type": "markdown",
   "id": "cc6cc51a-a044-41b1-baac-7200e2cb2bcf",
   "metadata": {},
   "source": [
    "<hr style=\"height:1px;border:none;background-color:#00233C;\">\n",
    "<p style = 'font-size:18px;font-family:Arial;color:#00233C'><b>3.2 Analysis of raw data.</p>"
   ]
  },
  {
   "cell_type": "markdown",
   "id": "fd127520-44e7-4542-97fc-015277ce6f74",
   "metadata": {},
   "source": [
    "<p style = 'font-size:16px;font-family:Arial;color:#00233C'> Let's check which events are there and the number of occurrences of each event.</p>"
   ]
  },
  {
   "cell_type": "code",
   "execution_count": null,
   "id": "ffd96a98-79bb-40ba-bd00-fb341723f7fa",
   "metadata": {},
   "outputs": [],
   "source": [
    "Eventsdf=df.groupby('event').count()\n",
    "Eventsdf_plot=Eventsdf.to_pandas()"
   ]
  },
  {
   "cell_type": "markdown",
   "id": "7283531e-8cdd-4747-8210-006f72c1ca59",
   "metadata": {},
   "source": [
    "<p style = 'font-size:16px;font-family:Arial;color:#00233C'>We can see that the aggregated data is available to us in teradataml dataframe. Let's visualize this data to better understand the number of customers by the types of Events. Clearscape Analytics can easily integrate with 3rd party visualization tools like Tableau, PowerBI or many python modules available like plotly, seaborn etc. We can do all the calculations and pre-processing on Vantge and pass only the necessary information to visulazation tools.  This will not only make the calculation faster but also reduce the overall time due to less data movement between tools. We do the data transfer for this and the subsequent visualizations wherever necessary.</p>"
   ]
  },
  {
   "cell_type": "code",
   "execution_count": null,
   "id": "83bf4d1f-e3b6-48d0-846c-dc37fe28f80f",
   "metadata": {
    "tags": []
   },
   "outputs": [],
   "source": [
    "# Create a bar chart with Plotly\n",
    "import plotly.express as px\n",
    "Eventsdf_plot = Eventsdf_plot.sort_values('count_Customer_Id', ascending=False)\n",
    "fig = px.bar(Eventsdf_plot,\n",
    "             x='event',\n",
    "             y='count_Customer_Id',\n",
    "             color='event',\n",
    "             color_discrete_sequence=px.colors.qualitative.Pastel,\n",
    "             text='count_Customer_Id')\n",
    "\n",
    "# Update layout\n",
    "fig.update_traces(textposition='outside')\n",
    "fig.update_layout(title_text='Count of Event Occurrence',title_x=0.5,\n",
    "                  xaxis_title='Events',\n",
    "                  yaxis_title='Count',\n",
    "                  height=500,\n",
    "                  width=900)\n",
    "\n",
    "# Show plot\n",
    "fig.show()"
   ]
  },
  {
   "cell_type": "markdown",
   "id": "e7ebeb9d-f911-4287-95cf-f67b278400a2",
   "metadata": {},
   "source": [
    "<p style = 'font-size:16px;font-family:Arial;color:#00233C'>After the <b>Home Page</b>, the greatest number of occurrences are for <b> Product Search</b> followed by <b>Category Search</b>.</p>\n",
    "<p style = 'font-size:16px;font-family:Arial;color:#00233C'>We check the number of customers over time. We first use the ConverTo function to get the correct data types.</p>\n"
   ]
  },
  {
   "cell_type": "code",
   "execution_count": null,
   "id": "d19dbd23-ff19-4f69-85b7-02234c82b742",
   "metadata": {},
   "outputs": [],
   "source": [
    "data_cust = ConvertTo(data = df,\n",
    "                           target_columns = ['Customer_Id','datestamp', 'event','session_id'],\n",
    "                           target_datatype = [\"integer\",\"date\",\"VARCHAR(charlen=20,charset=LATIN,casespecific=NO)\",\"integer\"])\n",
    "df=data_cust.result\n",
    "Custdf=df.groupby('datestamp').count()\n",
    "Custdf_plot=Custdf.to_pandas()"
   ]
  },
  {
   "cell_type": "code",
   "execution_count": null,
   "id": "1e72ad6b-6266-4e76-934e-93c93dbb53e1",
   "metadata": {
    "tags": []
   },
   "outputs": [],
   "source": [
    "# Create a bar chart with Plotly\n",
    "import plotly.express as px\n",
    "Custdf_plot = Custdf_plot.sort_values('datestamp', ascending=True)\n",
    "fig = px.line(Custdf_plot,\n",
    "             x='datestamp',\n",
    "             y='count_Customer_Id')\n",
    "\n",
    "# Update layout\n",
    "# fig.update_traces(textposition='outside')\n",
    "fig.update_layout(title_text='Count of Customers over time',title_x=0.5,\n",
    "                  xaxis_title='Date',\n",
    "                  yaxis_title='Count',\n",
    "                  height=500,\n",
    "                  width=900)\n",
    "\n",
    "# Show plot\n",
    "fig.show()"
   ]
  },
  {
   "cell_type": "markdown",
   "id": "0ae3b775-fbef-41b5-8c16-eca43fe158ac",
   "metadata": {},
   "source": [
    "<p style = 'font-size:16px;font-family:Arial;color:#00233C'>Depending on the sample data we are having, we can observe that the number of customers reduce after May 14th.</p>\n",
    "<p style = 'font-size:16px;font-family:Arial;color:#00233C'>Now we will check the Number of Sessions over time.</p>"
   ]
  },
  {
   "cell_type": "code",
   "execution_count": null,
   "id": "428d2196-e226-4eac-b42d-937d46873a1e",
   "metadata": {
    "tags": []
   },
   "outputs": [],
   "source": [
    "# Create a bar chart with Plotly\n",
    "import plotly.express as px\n",
    "Custdf_plot = Custdf_plot.sort_values('datestamp', ascending=True)\n",
    "fig = px.bar(Custdf_plot,\n",
    "             x='datestamp',\n",
    "             y='count_session_id',\n",
    "             color='datestamp',\n",
    "             color_discrete_sequence=px.colors.qualitative.Pastel,\n",
    "             text='count_session_id')\n",
    "\n",
    "# Update layout\n",
    "# fig.update_traces(textposition='outside')\n",
    "fig.update_layout(title_text='Count of Sessions over time',title_x=0.5,\n",
    "                  xaxis_title='Date',\n",
    "                  yaxis_title='Count',\n",
    "                  height=500,\n",
    "                  width=900)\n",
    "\n",
    "# Show plot\n",
    "fig.show()"
   ]
  },
  {
   "cell_type": "markdown",
   "id": "b296476d-2691-4d3a-9fd5-96b9972ce76a",
   "metadata": {},
   "source": [
    "<p style = 'font-size:16px;font-family:Arial;color:#00233C'>As observed above based on our data we can see that the number of customers start reducing after May 14th, similarly the number of sessions also reduce after May 14th.</p>"
   ]
  },
  {
   "cell_type": "markdown",
   "id": "475953be",
   "metadata": {},
   "source": [
    "<hr style=\"height:2px;border:none;background-color:#00233C;\">\n",
    "\n",
    "<p style = 'font-size:20px;font-family:Arial;color:#00233C'><b>4. Identifying Broken Digital Journeys </b></p>\n",
    "\n",
    "<p style = 'font-size:16px;font-family:Arial'>In this section, we will conduct path analysis using retail data. We will explore examples of examining the most frequent customer journeys and identifying any common events that might be hindering customers from completing a purchase.</p>"
   ]
  },
  {
   "cell_type": "markdown",
   "id": "1b29b5df",
   "metadata": {},
   "source": [
    "<hr style=\"height:1px;border:none;background-color:#00233C;\">\n",
    "<p style = 'font-size:18px;font-family:Arial;color:#00233C'><b>4.1. Sankey Charts</b></p>\n",
    "<p style = 'font-size:16px;font-family:Arial;color:#00233C'>Sankey charts can help visualize pathways and volume of events on the  most common paths.  Teradata Vantage does have built-in visualizations, but if users don't have access to these capabilities, or perhaps there is a preference to work in Python, the Plotly package provides Sankey charting capabilities.  Below the Python function reads output from nPath as pandas dataframe and plots Sankey chart. Here we are just defining the function which will be used below in the notebook to show different paths.</p>"
   ]
  },
  {
   "cell_type": "code",
   "execution_count": null,
   "id": "e773feb0-5307-4658-95f0-c15cda7d82e8",
   "metadata": {},
   "outputs": [],
   "source": [
    "#Convert Teradata nPath output to plotly Sankey\n",
    "#can handle paths up to 999 links in length\n",
    "import pandas as pd\n",
    "import plotly.graph_objects as go\n",
    "from collections import defaultdict\n",
    "import random\n",
    "\n",
    "def sankeyPlot(res, direction, title_text=\"Sankey nPath\", topN=15):\n",
    "    npath_pandas = res.copy()\n",
    "\n",
    "    if topN:\n",
    "        npath_pandas = npath_pandas.sort_values(by='count_customer_id', ascending=False).head(topN)\n",
    "\n",
    "    if direction == \"from\":\n",
    "        dataDict = defaultdict(int)\n",
    "\n",
    "        for index, row in npath_pandas.iterrows():\n",
    "            pathCnt = row['count_customer_id']\n",
    "            rowList = [item.strip() for item in row['path'].replace('[','').replace(']','').split(',')]\n",
    "            for i in range(len(rowList)-1):\n",
    "                leftValue = rowList[i] + str(i)\n",
    "                rightValue = rowList[i+1] + str(i+1)\n",
    "                valuePair = leftValue + '+' + rightValue\n",
    "                dataDict[valuePair] += pathCnt\n",
    "\n",
    "        eventList = []\n",
    "        for key in dataDict.keys():\n",
    "            leftValue, rightValue = key.split('+')\n",
    "            if leftValue not in eventList:\n",
    "                eventList.append(leftValue)\n",
    "            if rightValue not in eventList:\n",
    "                eventList.append(rightValue)\n",
    "\n",
    "        sankeyLabel = [s[:-1] for s in eventList]\n",
    "        \n",
    "        sankeySource = []\n",
    "        sankeyTarget = []\n",
    "        sankeyValue = []\n",
    "\n",
    "        for key,val in dataDict.items():\n",
    "            sankeySource.append(eventList.index(key.split('+')[0]))\n",
    "            sankeyTarget.append(eventList.index(key.split('+')[1]))\n",
    "            sankeyValue.append(val)\n",
    "\n",
    "        sankeyColor = []\n",
    "        for i in sankeyLabel:\n",
    "            sankeyColor.append('#'+''.join([random.choice('0123456789ABCDEF') for _ in range(6)]))\n",
    "\n",
    "        link = dict(source = sankeySource, target = sankeyTarget, value = sankeyValue, color='light grey')\n",
    "        node=dict(label=sankeyLabel, color=sankeyColor)\n",
    "        data=go.Sankey(link=link, node=node)\n",
    "\n",
    "        fig=go.Figure(data)\n",
    "\n",
    "        fig.update_layout(\n",
    "            hovermode ='closest',\n",
    "            title = title_text,\n",
    "            title_font_size=20,\n",
    "            plot_bgcolor='white',\n",
    "            paper_bgcolor='white'\n",
    "        )\n",
    "\n",
    "        fig.show()\n",
    "\n",
    "    elif direction == \"to\":\n",
    "        \n",
    "        dataDict = defaultdict(int)\n",
    "        eventDict = defaultdict(int)\n",
    "        maxPath = npath_pandas['count_customer_id'].max()\n",
    "    \n",
    "        for index, row in npath_pandas.iterrows():\n",
    "            rowList = row['path'].replace('[','').replace(']','').split(',')\n",
    "            pathCnt = row['count_customer_id']\n",
    "            pathLen = len(rowList)\n",
    "            for i in range(len(rowList)-1):\n",
    "                leftValue = str(1000 + i + maxPath - pathLen) + rowList[i].strip()\n",
    "                rightValue = str(1000 + i + 1 + maxPath - pathLen) + rowList[i+1].strip()\n",
    "                valuePair = leftValue + '+' + rightValue\n",
    "                dataDict[valuePair] += pathCnt\n",
    "                eventDict[leftValue] += 1\n",
    "                eventDict[rightValue] += 1\n",
    "    \n",
    "        eventList = []\n",
    "        for key,val in eventDict.items():\n",
    "            eventList.append(key)\n",
    "    \n",
    "        sortedEventList = sorted(eventList)\n",
    "        sankeyLabel = []\n",
    "        for event in sortedEventList:\n",
    "            sankeyLabel.append(event[4:])\n",
    "    \n",
    "        sankeySource = []\n",
    "        sankeyTarget = []\n",
    "        sankeyValue = []\n",
    "\n",
    "        for key,val in dataDict.items():\n",
    "            sankeySource.append(sortedEventList.index(key.split('+')[0]))\n",
    "            sankeyTarget.append(sortedEventList.index(key.split('+')[1]))\n",
    "            sankeyValue.append(val)\n",
    "    \n",
    "        sankeyColor = []\n",
    "        for i in sankeyLabel:\n",
    "            sankeyColor.append('#'+''.join([random.choice('0123456789ABCDEF') for _ in range(10)]))\n",
    "    \n",
    "        link = dict(source = sankeySource, target = sankeyTarget, value = sankeyValue, color='light grey')\n",
    "        data=go.Sankey(link=link, node=dict(label=sankeyLabel))\n",
    "    \n",
    "        fig=go.Figure(data)\n",
    "        fig.update_layout(\n",
    "                hovermode ='closest',\n",
    "                title = title_text,\n",
    "                title_font_size=20,\n",
    "                plot_bgcolor='white',\n",
    "                paper_bgcolor='white'\n",
    "                )\n",
    "    \n",
    "        fig.show()\n",
    "\n",
    "    else:\n",
    "        print(\"Invalid direction.\")\n"
   ]
  },
  {
   "cell_type": "markdown",
   "id": "e30dbb89",
   "metadata": {},
   "source": [
    "<hr style=\"height:1px;border:none;background-color:#00233C;\">\n",
    "<p style = 'font-size:18px;font-family:Arial;color:#00233C'><b>4.2 Calling a basic nPath function.</b></p>\n",
    "<li style = 'font-size:16px;font-family:Arial;color:#00233C'>The ClearScape nPath analytic function scans a set of rows, looking for patterns.</li>\n",
    "<li style = 'font-size:16px;font-family:Arial;color:#00233C'>For each set of input rows that matches the pattern, nPath produces a single output row.</li>\n",
    "<p></p>\n",
    "<p style = 'font-size:16px;font-family:Arial;color:#00233C'>This function allows for matching of complex patterns in the input data, as well as defining the output values for each matched set of rows.</p>\n",
    "\n",
    "<p style = 'font-size:16px;font-family:Arial;color:#00233C'>For the below example:\n",
    "<p style = 'font-size:16px;font-family:Arial;color:#00233C'>1. Pass the input data by reference.</p>\n",
    "<p style = 'font-size:16px;font-family:Arial;color:#00233C'>2. Provide partitioning (customer_id, session_id) and ordering columns.\n",
    "<p style = 'font-size:16px;font-family:Arial;color:#00233C'>3. Mode.<b>**OVERLAPPING**</b> vs.<b> **NONOVERLAPPING**</b>\n",
    "    <li style = 'font-size:16px;font-family:Arial;color:#00233C'><b> **OVERLAPPING**</b> finds every occurrence of the match, regardless of the current row being part of a previous match.</li>\n",
    "    <li style = 'font-size:16px;font-family:Arial;color:#00233C'><b> **NONOVERLAPPING** </b>starts matching again at the row that follows the previous match.</li>\n",
    "<p style = 'font-size:16px;font-family:Arial;color:#00233C'>4. Symbols.  Create a set of column expression aliases that can be assembled into a pattern to match.\n",
    " <li style = 'font-size:16px;font-family:Arial;color:#00233C'>Example: \"EVENT = 'Home Page' as P\" will alias a match on the EVENT column when the content equals 'Home Page'.</li></p>\n",
    "<p style = 'font-size:16px;font-family:Arial;color:#00233C'>5. Pattern.  Compose a pattern to search for across the rows of events.  This pattern is composed of Symbols and directives.\n",
    " <li style = 'font-size:16px;font-family:Arial;color:#00233C'>Example: '^P' uses a directive ^ to indicate the P Symbol must occur at the beginning of the group of rows.</li></p>\n",
    "<p style = 'font-size:16px;font-family:Arial;color:#00233C'>6. Result.  Since nPath emits a single row per group-of-row matches, Result indicates what columns make up this row and how to aggregate the data.</p>"
   ]
  },
  {
   "cell_type": "markdown",
   "id": "c8db8bb9",
   "metadata": {},
   "source": [
    "<hr style=\"height:1px;border:none;background-color:#00233C;\">\n",
    "<p style = 'font-size:18px;font-family:Arial;color:#00233C'><b>4.3 Path to Sales Conversion</b></p>\n",
    "<p style = 'font-size:16px;font-family:Arial;color:#00233C'>Let's start the analysis by taking a look at what a successful path looks like.  This is accomplished by running the ClearScape nPath analytic function and specifying the pattern as from Any Event to Sales Conversion.</p>"
   ]
  },
  {
   "cell_type": "code",
   "execution_count": null,
   "id": "bd1921d8-4b34-4806-8d44-1c9819524548",
   "metadata": {},
   "outputs": [],
   "source": [
    "copy_to_sql(converted_data.result, table_name = 'npath_data', if_exists = 'replace')"
   ]
  },
  {
   "cell_type": "code",
   "execution_count": null,
   "id": "f027e5f0",
   "metadata": {},
   "outputs": [],
   "source": [
    "#Create two symbols and assemble them with directives:\n",
    "# 1. EVENT Column match the string 'Sales Conversion' as B and all other EVENT as O\n",
    "# Pattern directs a range of any row (O) between 1 and 4 times preceding 'Sales Conversion' (B) - O{1,4}.B\n",
    "\n",
    "npath_sessions = NPath(data1 = DataFrame('npath_data'), \n",
    "                      data1_partition_column = ['Customer_Id','session_id'], \n",
    "                      data1_order_column = 'datestamp', \n",
    "                      mode = 'NONOVERLAPPING', \n",
    "                      symbols = ['event in (\\'Sales Conversion\\') as B', 'event not in (\\'Sales Conversion\\') as O'], \n",
    "                      pattern = 'O{1,4}.B', \n",
    "                      result = ['FIRST (customer_id OF O) AS customer_id',\n",
    "                                'ACCUMULATE (event of any(O,B) ) AS path'])\n",
    "\n",
    "res = npath_sessions.result\\\n",
    "                    .groupby(['path'])\\\n",
    "                    .count()\\\n",
    "                    .sort('count_customer_id',ascending=False)\\\n",
    "                    .to_pandas()\n",
    "res.head(10)"
   ]
  },
  {
   "cell_type": "markdown",
   "id": "238a10cb",
   "metadata": {},
   "source": [
    "<hr style=\"height:1px;border:none;background-color:#00233C;\">\n",
    "<p style = 'font-size:18px;font-family:Arial;color:#00233C'><b>4.4 Path to Sales Conversion Visualization</b></p>\n",
    "<p style = 'font-size:16px;font-family:Arial;color:#00233C'>In the table view you can see that the most common last step before Sales Conversion is Add to Cart.  Visualizing the paths on a Sankey diagram is an effective way to see common digital customer journey patterns.</p>\n"
   ]
  },
  {
   "cell_type": "code",
   "execution_count": null,
   "id": "32873c72-bb61-4915-8a3c-7ae623ff3262",
   "metadata": {},
   "outputs": [],
   "source": [
    "res=res.head(50)\n",
    "sankeyPlot(res,\"to\",\"Path to Sales Conversion\",50)"
   ]
  },
  {
   "cell_type": "markdown",
   "id": "2fafa76e",
   "metadata": {},
   "source": [
    "<p style = 'font-size:16px;font-family:Arial;color:#00233C'>The TOP 3 events that led to Sales Conversion are <b>Add To Cart</b>, <b>Product Search</b> and <b>Availability Status </b>of the product.</p>\n",
    "\n",
    "<p style = 'font-size:16px;font-family:Arial;color:#00233C'>To check the details of any<b> path</b> or <b> node </b>we can move the mouse pointer over it and check details. For example, if you mouse the pointer over the path  having the largest width going towards the right most node(Sales Conversion) it shows <b> 55.0, source: Add To Cart, target: Sales Conversion</b>. It means there were 55 events where after adding the product Cart the next step was that the product was bought, which led to Sales.</p>\n",
    "<p style = 'font-size:16px;font-family:Arial;color:#00233C'>When the pointer is moved over a Node, for example, when the pointer is on the last Node at the right <b>Availability Status</b> it shows <b>incoming flow count: 4</b> and <b>outgoing flow count: 1</b> which means that there are 4 different events which lead to <b>Availability Status</b> after which the next event is <b>Sales Conversion</b>.\n",
    "\n",
    "<hr style=\"height:1px;border:none;background-color:#00233C;\">\n",
    "<p style = 'font-size:18px;font-family:Arial;color:#00233C'><b>4.5 Path to Cart Abandoned</b></p>\n",
    "<p style = 'font-size:16px;font-family:Arial;color:#00233C'>The data available tracks customers who abandon their carts, if we change the Ending Pattern and check if we can learn anything from the common paths to the Cart Abandoned event.</p>"
   ]
  },
  {
   "cell_type": "code",
   "execution_count": null,
   "id": "472383e2",
   "metadata": {},
   "outputs": [],
   "source": [
    "#Create two symbols and assemble them with directives:\n",
    "# 1. EVENT Column match the string 'Cart Abandoned' as B and all other EVENT as O\n",
    "# Pattern directs a range of any row (O) between 1 and 4 times preceding 'Cart Abandoned' (B) - O{1,4}.B\n",
    "\n",
    "npath_sessions = NPath(data1 = DataFrame('npath_data'), \n",
    "                      data1_partition_column = ['Customer_Id','session_id'], \n",
    "                      data1_order_column = 'datestamp', \n",
    "                      mode = 'NONOVERLAPPING', \n",
    "                      symbols = ['event in (\\'Cart Abandoned\\') as B', 'event not in (\\'Cart Abandoned\\') as O'], \n",
    "                      pattern = 'O{1,4}.B', \n",
    "                      result = ['FIRST (customer_id OF O) AS customer_id',\n",
    "                                'ACCUMULATE (event of any(O,B) ) AS path'])\n",
    "\n",
    "res=npath_sessions.result\\\n",
    "                    .groupby(['path'])\\\n",
    "                    .count()\\\n",
    "                    .sort('count_customer_id',ascending=False)\\\n",
    "                    .to_pandas()\n",
    "res.head(10)"
   ]
  },
  {
   "cell_type": "code",
   "execution_count": null,
   "id": "4aff1d76-7423-4d8d-8109-9c2779153fca",
   "metadata": {},
   "outputs": [],
   "source": [
    "res=res.head(50)\n",
    "sankeyPlot(res,\"to\",\"Path to Cart Abandoned\",50)"
   ]
  },
  {
   "cell_type": "markdown",
   "id": "4166e196",
   "metadata": {},
   "source": [
    "<p style = 'font-size:16px;font-family:Arial;color:#00233C'>The Cart was abandoned by most of the customers of the <b>Search Not Found</b> event occurred.</p>\n",
    "<hr style=\"height:1px;border:none;background-color:#00233C;\">\n",
    "<p style = 'font-size:18px;font-family:Arial;color:#00233C'><b>4.6 Path to Search Not Found</b></p>\n",
    "<p style = 'font-size:16px;font-family:Arial;color:#00233C'>As we can see from the common paths to Cart Abandoned - Search Not Found is experienced by many customers. We will explore this further by changing the ending pattern to Search Not Found.</p>"
   ]
  },
  {
   "cell_type": "code",
   "execution_count": null,
   "id": "1708f6d4",
   "metadata": {},
   "outputs": [],
   "source": [
    "#Create two symbols and assemble them with directives:\n",
    "# 1. EVENT Column match the string 'Search Not Found' as B and all other EVENT as O\n",
    "# Pattern directs a range of any row (O) between 1 and 4 times preceding 'Search Not Found' (B) - O{1,4}.B\n",
    "\n",
    "npath_sessions = NPath(data1 = DataFrame('npath_data'), \n",
    "                      data1_partition_column = ['Customer_Id','session_id'], \n",
    "                      data1_order_column = 'datestamp', \n",
    "                      mode = 'NONOVERLAPPING', \n",
    "                      symbols = ['event in (\\'Search Not Found\\') as B', 'event not in (\\'Search Not Found\\') as O'], \n",
    "                      pattern = 'O{1,4}.B', \n",
    "                      result = ['FIRST (customer_id OF O) AS customer_id',\n",
    "                                'ACCUMULATE (event of any(O,B) ) AS path'])\n",
    "\n",
    "res=npath_sessions.result\\\n",
    "                    .groupby(['path'])\\\n",
    "                    .count()\\\n",
    "                    .sort('count_customer_id',ascending=False)\\\n",
    "                    .to_pandas()\n",
    "\n",
    "res.head(10)"
   ]
  },
  {
   "cell_type": "code",
   "execution_count": null,
   "id": "c9502be4",
   "metadata": {},
   "outputs": [],
   "source": [
    "\n",
    "res=res.head(50)\n",
    "sankeyPlot(res,\"to\",\"Path to Search Not Found\",50)"
   ]
  },
  {
   "cell_type": "markdown",
   "id": "ea5b68f9",
   "metadata": {},
   "source": [
    "<p style = 'font-size:16px;font-family:Arial;color:#00233C'>The <b>Search Not Found</b> event occurred mainly after <b>Product Search</b> from the Home Page.</p>\n",
    "<hr style=\"height:1px;border:none;background-color:#00233C;\">\n",
    "<p style = 'font-size:18px;font-family:Arial;color:#00233C'><b>4.7 Path From Search Not Found</b></p>\n",
    "<p style = 'font-size:16px;font-family:Arial;color:#00233C'>With a significant number of paths leading to Search Not found, as well as the number of customers on these paths, we need to explore more on this.</p>\n",
    "<p style = 'font-size:16px;font-family:Arial;color:#00233C'>\n",
    "Now, we will swap and have 'Search Not Found' as the starting event and see where customers go to after this key event.</p>"
   ]
  },
  {
   "cell_type": "code",
   "execution_count": null,
   "id": "a2c20d85",
   "metadata": {},
   "outputs": [],
   "source": [
    "#Create two symbols and assemble them with directives:\n",
    "# 1. EVENT Column match the string 'Search Not Found' as A and all other EVENT as O\n",
    "# Pattern directs a range of any row (O) between 1 and 4 times succeeding 'Search Not Found' (A) - A.O{1,4}\n",
    "\n",
    "npath_sessions = NPath(data1 = DataFrame('npath_data'), \n",
    "                      data1_partition_column = ['Customer_Id','session_id'], \n",
    "                      data1_order_column = 'datestamp', \n",
    "                      mode = 'NONOVERLAPPING', \n",
    "                      symbols = ['event in (\\'Search Not Found\\') as A', 'true as O'], \n",
    "                      pattern = 'A.O{1,4}', \n",
    "                      result = ['FIRST (customer_id OF O) AS customer_id',\n",
    "                                'ACCUMULATE (event of any(A,O) ) AS path'])\n",
    "\n",
    "res=npath_sessions.result\\\n",
    "                    .groupby(['path'])\\\n",
    "                    .count()\\\n",
    "                    .sort('count_customer_id',ascending=False)\\\n",
    "                    .to_pandas()\n",
    "res.head(10)"
   ]
  },
  {
   "cell_type": "code",
   "execution_count": null,
   "id": "b974ea9d",
   "metadata": {},
   "outputs": [],
   "source": [
    "\n",
    "res=res.head(50)\n",
    "sankeyPlot(res,\"from\",\"Path From Search Not Found\",50)"
   ]
  },
  {
   "cell_type": "markdown",
   "id": "5f1d0fdf",
   "metadata": {},
   "source": [
    "<p style = 'font-size:16px;font-family:Arial;color:#00233C'>The events that were followed by <b>Search Not Found</b> were mainly <b>Cart Abandoned</b> and <b>Home Page</b>.</p>\n",
    "<hr style=\"height:1px;border:none;background-color:#00233C;\">\n",
    "<p style = 'font-size:18px;font-family:Arial;color:#00233C'><b>4.8 Storing Customers on a Path</b></p>\n",
    "<p style = 'font-size:16px;font-family:Arial;color:#00233C'>With the above analysis, we can confirm that there is definitely an issue with unsuccessful searches. From here we can take various business actions, such as:</p>\n",
    "\n",
    "<li style = 'font-size:16px;font-family:Arial'>Raising a defect for our Website Development team to focus on and with the data supporting this, it should be a high priority!</li>\n",
    "<li style = 'font-size:16px;font-family:Arial'>Save a list of the customers on the dominant path so that additional analysis could be performed and/or so that the Customer Care team can proactively reach out to the customers.</li>\n",
    "\n",
    "<p style = 'font-size:16px;font-family:Arial;color:#00233C'>In the next section we will demonstrate how to save a list of customers on any path of interest.</p>"
   ]
  },
  {
   "cell_type": "code",
   "execution_count": null,
   "id": "0856812c",
   "metadata": {},
   "outputs": [],
   "source": [
    "#Create symbols for each event in our desired path and assemble them with directives:\n",
    "# 1. EVENT Column match the string 'Cart Abandoned' as A\n",
    "# 2. EVENT Column match the string 'Search Not Found' as B\n",
    "# 3. EVENT Column match the string 'Product Search' as C\n",
    "# 4. EVENT Column match the string 'Home Page' as D\n",
    "# 5. EVENT Column match the string 'Search Not Found' as E\n",
    "# Pattern directs events in a particular order which in this case is E.D.C.B.A\n",
    "\n",
    "npath_sessions = NPath(data1 = DataFrame('npath_data'), \n",
    "                      data1_partition_column = ['Customer_Id','session_id'], \n",
    "                      data1_order_column = 'datestamp', \n",
    "                      mode = 'NONOVERLAPPING', \n",
    "                      symbols = ['event = \\'Search Not Found\\' as E', \n",
    "                                 'event = \\'Home Page\\' as D', \n",
    "                                 'event = \\'Product Search\\' as C', \n",
    "                                 'event = \\'Search Not Found\\' as B', \n",
    "                                 'event = \\'Cart Abandoned\\' as A'], \n",
    "                      pattern = 'E.D.C.B.A', \n",
    "                      result = ['FIRST (customer_id of ANY (E,D,C,B,A)) AS customer_id',\n",
    "                                'ACCUMULATE (event of ANY (E,D,C,B,A)) AS path'])\n",
    "\n",
    "npath_sessions.result.head()"
   ]
  },
  {
   "cell_type": "code",
   "execution_count": null,
   "id": "43309fff",
   "metadata": {},
   "outputs": [],
   "source": [
    "# Now we will take the list of distinct customers who have taken this path and \n",
    "# store it in Vantage table for detailed analysis\n",
    "\n",
    "res = npath_sessions.result\\\n",
    "              .groupby(['customer_id','path'])\\\n",
    "              .count()\\\n",
    "              .sort('count_path',ascending=False)\\\n",
    "              .to_pandas()\\\n",
    "              .reset_index()\n",
    "\n",
    "# Writing clean_input dataframe into MEDIQAN_TEMP_INPUT_TABLE table in Vantage\n",
    "copy_to_sql(df = res[['customer_id','path']], \n",
    "            table_name = 'CustomersOnPath', \n",
    "            #schema_name = 'target_db', # Uncomment & specify if not using the Vantage Live Default Database, which usually is your QLID.\n",
    "            if_exists=\"replace\")\n"
   ]
  },
  {
   "cell_type": "code",
   "execution_count": null,
   "id": "8c012656",
   "metadata": {},
   "outputs": [],
   "source": [
    "result_df = DataFrame('CustomersOnPath')\n",
    "print(\"Number of records in CustomersOnPath : \"+str(result_df.shape[0]))\n",
    "print(\"\\n\")\n",
    "print(\"Sample records: \\n\")\n",
    "result_df.head(5)"
   ]
  },
  {
   "cell_type": "markdown",
   "id": "5f1ef772",
   "metadata": {},
   "source": [
    "\n",
    "<p style = 'font-size:16px;font-family:Arial;color:#00233C'>\n",
    "The table contains both the customer (Customer_id) and Path (the dominant path selected)</p>\n",
    "    \n",
    "<p style = 'font-size:16px;font-family:Arial;color:#00233C'>We can use this saved segment as input for our further analysis, such as clustering to see if there are any commonalities across the customers, products searched or potentially as input into a customer care process to reach out to the customers to acknowledge their bad experience with our online store.</p>"
   ]
  },
  {
   "cell_type": "markdown",
   "id": "7e394039-b681-4f2d-949a-f3a05bddedb0",
   "metadata": {},
   "source": [
    "<p style = 'font-size:18px;font-family:Arial;color:#00233C'><b>Conclusion</b>\n",
    "\n",
    "<p style = 'font-size:16px;font-family:Arial;color:#00233C'>As we can see from this brief demonstration, the ClearScape nPath Analytic function is an effective way to conduct path analysis, such as the one we just viewed.   Path analysis can span multiple topics and across industries.</p> \n",
    "\n",
    "<ul style = 'font-size:16px;font-family:Arial;color:#00233C'><b>Examples include:</b>\n",
    "    <li style = 'font-size:16px;font-family:Arial;color:#00233C'>Customer paths to complaints</li>\n",
    "<li style = 'font-size:16px;font-family:Arial;color:#00233C'>Paths to part failure</li>\n",
    "<li style = 'font-size:16px;font-family:Arial;color:#00233C'>Paths to Disease</li>\n",
    "<li style = 'font-size:16px;font-family:Arial;color:#00233C'>Path to Churn</li>\n",
    "</ul>\n",
    "\n",
    "<p style = 'font-size:16px;font-family:Arial;color:#00233C'>Thus, the analytic capabilities of ClearScape Analytics helps us identify the high-impact moments in our customers’ digital journeys so that we can better meet their needs and expectations.</p> "
   ]
  },
  {
   "cell_type": "markdown",
   "id": "4e141ce5-8dfb-4717-905d-421c1db0adc5",
   "metadata": {},
   "source": [
    "<hr style=\"height:2px;border:none;background-color:#00233C;\">\n",
    "\n",
    "<p style = 'font-size:20px;font-family:Arial;color:#00233C'><b>5. Cleanup</b></p>\n",
    "<p style = 'font-size:18px;font-family:Arial;color:#00233C'><b>Work Tables</b></p>\n",
    "<p style = 'font-size:16px;font-family:Arial;color:#00233C'>We need to clean up our work tables to prevent errors next time.</p>"
   ]
  },
  {
   "cell_type": "code",
   "execution_count": null,
   "id": "0b94958f-2db5-452a-9b8d-833b0c1bda18",
   "metadata": {},
   "outputs": [],
   "source": [
    "tables = ['CustomersOnPath','npath_data']\n",
    "\n",
    "# Loop through the list of tables and execute the drop table command for each table\n",
    "for table in tables:\n",
    "    try:\n",
    "        db_drop_table(table_name=table)\n",
    "    except:\n",
    "        pass"
   ]
  },
  {
   "cell_type": "markdown",
   "id": "f9df0ec3-7dd3-4dc6-8f8b-24c49c18237b",
   "metadata": {},
   "source": [
    "<p style = 'font-size:18px;font-family:Arial;color:#00233C'><b>Databases and Tables</b></p>\n",
    "<p style = 'font-size:16px;font-family:Arial;color:#00233C'>We will use the following code to clean up tables and databases created for this demonstration.</p>"
   ]
  },
  {
   "cell_type": "code",
   "execution_count": null,
   "id": "8cb501be-8002-4001-b284-dec6695677df",
   "metadata": {},
   "outputs": [],
   "source": [
    "%run -i ../run_procedure.py \"call remove_data('DEMO_DigitalEvents');\" \n",
    "#Takes 3 seconds"
   ]
  },
  {
   "cell_type": "code",
   "execution_count": null,
   "id": "d7d8bb2b",
   "metadata": {},
   "outputs": [],
   "source": [
    "# Removing the connection and clearing session\n",
    "remove_context()"
   ]
  },
  {
   "cell_type": "markdown",
   "id": "d8337cf0-53c6-435f-803f-5e47096f53b6",
   "metadata": {},
   "source": [
    "<hr style=\"height:2px;border:none;background-color:#00233C;\">\n",
    "\n",
    "<b style = 'font-size:20px;font-family:Arial;color:#00233C'>Resources</b>\n",
    "<p style = 'font-size:16px;font-family:Arial;color:#00233C'>Let’s look at the elements we have available for reference for this notebook:</p>\n",
    "\n",
    "\n",
    "<p style = 'font-size:18px;font-family:Arial;color:#00233C'><b>Links</b>\n",
    "<li><a href = 'https://docs.teradata.com/reader/eteIDCTX4O4IMvazRMypxQ/uDjppX7PJInABCckgu~KFg'>Teradata Python Package User Guide </a> </li>\n",
    "<li><a href = 'https://docs.teradata.com/reader/GsM0pYRZl5Plqjdf9ixmdA/MzdO1q_t80M47qY5lyImOA'>Teradataml Python Reference </a></li>\n",
    "<li><a href = 'https://docs.teradata.com/reader/CWVY0AJy8wyyf7Sm0EsK~w/wjkE42ypEfeMkRFOIqVXfQ'>Teradata nPath Function Reference:</a></li>\n",
    "<li><a href = 'https://docs.teradata.com/reader/CWVY0AJy8wyyf7Sm0EsK~w/RNbOiUg9~r~cxSZHrR~sFQ'>Teradata Sessionize Function Reference</a></li>\n",
    "<li><a href = 'https://pandas.pydata.org/docs/user_guide/index.html'>Python Pandas Reference</a></li>\n",
    "<li><a href = 'https://plotly.com/'>Plotly Reference</a></li>\n",
    "</p>    \n",
    "\n",
    "\n",
    "<p style = 'font-size:18px;font-family:Arial;color:#00233C'><b>Filters:</b></p>\n",
    "<li style = 'font-size:16px;font-family:Arial;color:#00233C'><b>Industry:</b> Retail</li>\n",
    "<li style = 'font-size:16px;font-family:Arial;color:#00233C'><b>Functionality:</b> Pathing Analytics</li>\n",
    "<li style = 'font-size:16px;font-family:Arial;color:#00233C'><b>Use Case:</b> Customer Journey</li>\n",
    "</p>\n",
    "<p style = 'font-size:18px;font-family:Arial;color:#00233C'><b>Related Resources:</b></p>\n",
    "<li style = 'font-size:16px;font-family:Arial;color:#00233C'><a href = 'https://teradata.seismic.com/app#/doccenter/dc7eb2cf-bd2e-462a-a056-fcc02c9fd2f2/doc/%252Fddb2fe9eb1-f754-d3df-07fa-0724e0ddd3e9%252FdfODEyNmNlZmEtZmM4Mi00ODUyLTgzZTAtOTEzMTBlODQ5YjUw%252CPT0%253D%252CVmlkZW8%253D%252FdfYmI3ODY3ZDQtM2Q4Zi00ZTk5LTg2ZDYtNjBlZTk4ODY2YTY4%252CPT0%253D%252CRXh0ZXJuYWwgQXVkaWVuY2Vz%252Flfda62602b-d188-4769-aa36-a58d162732fd//?mode=view&parentPath=sessionStorage'>Broken Digital Journeys CX Solution Accelerator Demo via Vantage Console Demo</a></li>\n",
    "<li style = 'font-size:16px;font-family:Arial;color:#00233C'><a href = 'https://teradata.seismic.com/app#/doccenter/dc7eb2cf-bd2e-462a-a056-fcc02c9fd2f2/doc/%252Fddc59ac087-0ac6-cce5-2000-79263b79ee73%252FdfYmI3ODY3ZDQtM2Q4Zi00ZTk5LTg2ZDYtNjBlZTk4ODY2YTY4%252CPT0%253D%252CRXh0ZXJuYWwgQXVkaWVuY2Vz%252FdfODEyNmNlZmEtZmM4Mi00ODUyLTgzZTAtOTEzMTBlODQ5YjUw%252CPT0%253D%252CVmlkZW8%253D%252Flfc15c8890-0e64-4da4-bb75-820d58e7be96//?mode=view&parentPath=sessionStorage'>Broken Digital Journeys CX Solution Accelerator Demo via Python Demo </a></li>\n",
    "<li style = 'font-size:16px;font-family:Arial;color:#00233C'><a href = 'https://www.teradata.com/Blogs/NPS-is-a-metric-not-the-goal'>In the fight to improve customer experience, NPS is a metric, not the goal</a></li>"
   ]
  },
  {
   "cell_type": "markdown",
   "id": "aec97ac5-0396-41a6-a9e7-9ec9b235ebf8",
   "metadata": {},
   "source": [
    "<footer style=\"padding-bottom:35px; background:#f9f9f9; border-bottom:3px solid #00233C\">\n",
    "    <div style=\"float:left;margin-top:14px\">ClearScape Analytics™</div>\n",
    "    <div style=\"float:right;\">\n",
    "        <div style=\"float:left; margin-top:14px\">\n",
    "            Copyright © Teradata Corporation - 2023,2024. All Rights Reserved\n",
    "        </div>\n",
    "    </div>\n",
    "</footer>"
   ]
  },
  {
   "cell_type": "code",
   "execution_count": null,
   "id": "2e7addeb-023e-420e-8343-e342bb5471b2",
   "metadata": {},
   "outputs": [],
   "source": []
  }
 ],
 "metadata": {
  "kernelspec": {
   "display_name": "Python 3 (ipykernel)",
   "language": "python",
   "name": "python3"
  },
  "language_info": {
   "codemirror_mode": {
    "name": "ipython",
    "version": 3
   },
   "file_extension": ".py",
   "mimetype": "text/x-python",
   "name": "python",
   "nbconvert_exporter": "python",
   "pygments_lexer": "ipython3",
   "version": "3.9.10"
  }
 },
 "nbformat": 4,
 "nbformat_minor": 5
}
