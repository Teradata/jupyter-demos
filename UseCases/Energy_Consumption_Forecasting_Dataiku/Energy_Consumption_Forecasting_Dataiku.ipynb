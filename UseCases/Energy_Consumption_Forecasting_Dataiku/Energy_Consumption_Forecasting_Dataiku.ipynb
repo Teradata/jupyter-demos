{
 "cells": [
  {
   "cell_type": "markdown",
   "id": "acquired-consideration",
   "metadata": {},
   "source": [
    "<header>\n",
    "   <p  style='font-size:36px;font-family:Arial; color:#F0F0F0; background-color: #00233c; padding-left: 20pt; padding-top: 20pt;padding-bottom: 10pt; padding-right: 20pt;'>\n",
    "       Energy Consumption Forecasting using Dataiku\n",
    "  <br>\n",
    "       <img id=\"teradata-logo\" src=\"https://storage.googleapis.com/clearscape_analytics_demo_data/DEMO_Logo/teradata.svg\" alt=\"Teradata\" style=\"width: 125px; height: auto; margin-top: 20pt;\">\n",
    "    </p>\n",
    "</header>"
   ]
  },
  {
   "cell_type": "markdown",
   "id": "0701a2ac-9d7c-4498-a23c-7ae3955f6a32",
   "metadata": {},
   "source": [
    "<p style = 'font-size:20px;font-family:Arial;color:#00233C'><b>Introduction</b></p>\n",
    "\n",
    "<p style = 'font-size:16px;font-family:Arial;color:#00233C'>In this business use case, we leverage the power of Dataiku and Teradata Vantage to enhance our machine learning capabilities and enable scalable model scoring. Our goal is to efficiently utilize the strengths of both platforms to streamline our data analysis and decision-making processes.\n",
    "<br>\n",
    "<img src=\"images/logo.jpg\" alt=\"Dataiku X Teradata\">\n",
    "<br>\n",
    "Dataiku serves as a comprehensive data science platform that empowers us to read data from Teradata Vantage, a powerful analytical database. By leveraging Dataiku's seamless integration with Vantage, we can easily extract and analyze large volumes of data stored within the database.\n",
    "<br>\n",
    "<br>\n",
    "Within Dataiku, we harness its rich set of features and functionalities to build and fine-tune multiple machine learning models. With its user-friendly interface and wide array of machine learning algorithms, we can develop models that are tailored to our specific business requirements. Dataiku enables us to handle data preprocessing, feature engineering, model training, and evaluation, providing a complete end-to-end data science workflow.\n",
    "<br>\n",
    "<br>\n",
    "Once the models are trained and validated within Dataiku, we can seamlessly bring them back to Teradata Vantage. Here, we leverage Vantage's advanced functionality known as BYOM (Bring Your Own Model), which allows us to score our machine learning models directly within the Vantage environment. This capability empowers us to perform model scoring at scale, leveraging the high-performance and parallel processing capabilities of Vantage.</p>\n",
    "\n",
    "<p style = 'font-size:16px;font-family:Arial;color:#00233C'>The dataset used in this demo represents electricity consumption in Norway from the 1st of January 2016 to the 31st of August 2019. Each line in this dataset reflects consumption for one hour. Apart from electricity consumption, this datamart also reflects additional data: weather from multiple sources, daylight information and labour calendar. We collected all data from open data sources.</p>\n",
    "\n",
    "<p style = 'font-size:16px;font-family:Arial;color:#00233C'><b>But what if I don't have Dataiku?</b>  Don't worry, we will execute the steps before Dataiku would be used, show you screen shots of what the Dataiku user would be doing, and then we've included the completed model that you will import into Vantage for scoring.</p>"
   ]
  },
  {
   "cell_type": "markdown",
   "id": "6419e9f9-0356-4e40-b59f-34281de410b2",
   "metadata": {},
   "source": [
    "<hr style=\"height:2px;border:none;background-color:#00233C;\">\n",
    "<p style = 'font-size:16px;font-family:Arial;color:#00233C'>Here, we import the required libraries, set environment variables and environment paths (if required).</p>"
   ]
  },
  {
   "cell_type": "code",
   "execution_count": null,
   "id": "7c9d4207-bc98-428b-93d3-7955c99a34fa",
   "metadata": {},
   "outputs": [],
   "source": [
    "import os\n",
    "import getpass\n",
    "import sys\n",
    "# Suppress warnings\n",
    "import warnings\n",
    "warnings.filterwarnings('ignore')\n",
    "\n",
    "import numpy as np\n",
    "import pandas as pd\n",
    "\n",
    "from jdk4py import JAVA, JAVA_HOME, JAVA_VERSION\n",
    "\n",
    "from teradataml import *\n",
    "from teradatasqlalchemy.types import *\n",
    "\n",
    "display.max_rows = 5\n",
    "\n",
    "# Modify the following to match the specific client environment settings\n",
    "configure.val_install_location = 'val'\n",
    "configure.byom_install_location = 'mldb'\n",
    "os.environ['PATH'] = os.pathsep.join([os.environ['PATH'], str(JAVA_HOME), str(JAVA)[:-5]])"
   ]
  },
  {
   "cell_type": "markdown",
   "id": "29d75d8d-d58b-4bb8-87e5-cdf1a8add76a",
   "metadata": {},
   "source": [
    "<hr style=\"height:2px;border:none;background-color:#00233C;\">\n",
    "<b style = 'font-size:20px;font-family:Arial;color:#00233C'>1. Connect to Vantage</b>\n",
    "<p style = 'font-size:16px;font-family:Arial;color:#00233C'>You will be prompted to provide the password. Enter your password, press the Enter key, and then use the down arrow to go to the next cell.</p>"
   ]
  },
  {
   "cell_type": "code",
   "execution_count": null,
   "id": "bc7afc8a-37ec-42e4-bae9-7d0c6c519944",
   "metadata": {},
   "outputs": [],
   "source": [
    "%run -i ../startup.ipynb\n",
    "eng = create_context(host = 'host.docker.internal', username='demo_user', password = password)\n",
    "print(eng)"
   ]
  },
  {
   "cell_type": "code",
   "execution_count": null,
   "id": "3077309b-cd60-480b-8607-d7b7975deadc",
   "metadata": {},
   "outputs": [],
   "source": [
    "%%capture\n",
    "execute_sql('''SET query_band='DEMO=Energy_Consumption_Forecasting_Dataiku.ipynb;' UPDATE FOR SESSION;''')"
   ]
  },
  {
   "cell_type": "markdown",
   "id": "e6b0b413-cec4-443f-957d-185172c56e48",
   "metadata": {},
   "source": [
    "<img src=\"images/td-dataiku.png\" alt=\"Teradata and Dataiku Integration\">\n",
    "\n",
    "<p style = 'font-size:16px;font-family:Arial;color:#00233C'>The flow of this notebook is as shown above.</p>\n",
    "<ol style = 'font-size:16px;font-family:Arial;color:#00233C'>\n",
    "  <li>We get the data from cloud into Vantage.</li>\n",
    "  <li>We process the data and build the model in Dataiku.</li>\n",
    "  <li>We export the model back to Vantage in a PMML format file.</li>\n",
    "  <li>We score the model inside Vantage without having to move the data.</li>\n",
    "</ol>"
   ]
  },
  {
   "cell_type": "markdown",
   "id": "0b0be93a-2c49-4708-a17e-3e9e1401c8fc",
   "metadata": {},
   "source": [
    "<p style = 'font-size:16px;font-family:Arial;color:#00233C'>Begin running steps with Shift + Enter keys. </p>"
   ]
  },
  {
   "cell_type": "markdown",
   "id": "6d20217e-9600-4ef7-adc5-6ba10c76a5cc",
   "metadata": {},
   "source": [
    "<p style = 'font-size:20px;font-family:Arial;color:#00233C'><b>Getting Data for This Demo</b></p>\n",
    "<p style = 'font-size:16px;font-family:Arial;color:#00233C'>We have provided data for this demo on cloud storage. You can either run the demo using foreign tables to access the data without any storage on your environment or download the data to local storage, which may yield faster execution. Still, there could be considerations of available storage. Two statements are in the following cell, and one is commented out. You may switch which mode you choose by changing the comment string.</p>"
   ]
  },
  {
   "cell_type": "code",
   "execution_count": null,
   "id": "57a490a6-75b8-4d4d-8986-46b03fc57081",
   "metadata": {},
   "outputs": [],
   "source": [
    "# %run -i ../run_procedure.py \"call get_data('DEMO_Energy_cloud');\"        # Takes 1 minute\n",
    "%run -i ../run_procedure.py \"call get_data('DEMO_Energy_local');\"        # Takes 2 minutes"
   ]
  },
  {
   "cell_type": "markdown",
   "id": "1a5c1780-0cca-4b25-8fc5-cefbf8bde51b",
   "metadata": {},
   "source": [
    "<p style = 'font-size:16px;font-family:Arial;color:#00233C'>Next is an optional step – if you want to see the status of databases/tables created and space used.</p>"
   ]
  },
  {
   "cell_type": "code",
   "execution_count": null,
   "id": "34c657c8-2122-4426-9d38-c5a619f7817a",
   "metadata": {
    "tags": []
   },
   "outputs": [],
   "source": [
    "%run -i ../run_procedure.py \"call space_report();\"        # Takes 10 seconds"
   ]
  },
  {
   "cell_type": "markdown",
   "id": "6393eb65-b65d-4ca2-a1e2-1f546512449e",
   "metadata": {
    "tags": []
   },
   "source": [
    "<hr style=\"height:2px;border:none;background-color:#00233C;\">\n",
    "<b style = 'font-size:20px;font-family:Arial;color:#00233C'>2. Dataiku</b>\n",
    "<p style = 'font-size:16px;font-family:Arial;color:#00233C'>Now that you have got the data in Vantage, let's see how to create a dataiku flow which looks like below.</p>\n",
    "<p style = 'font-size:18px;font-family:Arial;color:#00233C'><b>Dataiku Flow:</b></p>\n",
    "<img src=\"images/flow.jpeg\" alt=\"Dataiku Flow\">"
   ]
  },
  {
   "cell_type": "markdown",
   "id": "26a03124-b708-4ff9-8873-a31681ecc126",
   "metadata": {
    "tags": []
   },
   "source": [
    "<hr style=\"height:1px;border:none;background-color:#00233C;\">\n",
    "<p style = 'font-size:18px;font-family:Arial;color:#00233C'><b>2.1 Create Connection</b></p>\n",
    "<p style = 'font-size:16px;font-family:Arial;color:#00233C'>Create a new Connection: Go to the 3x3 icon on the top right corner of the screen, then click Administration > Connections > + New Connection and choose Teradata from the dropdown.\n",
    "<br>\n",
    "<br>\n",
    "Configure the following essential parameters to establish a connection to Teradata:</p>\n",
    "<ol style = 'font-size:16px;font-family:Arial;color:#00233C'>\n",
    "    <li>Host: You can get hostname from ClearScape dashboard</li>\n",
    "    <li>Default Database: demo_user</li>\n",
    "    <li>User: Your username is demo_user</li>\n",
    "    <li>Password: Your password</li>\n",
    "    <li>Advanced JDBC properties: CHARSET -> UTF8, TMODE -> TERA</li>\n",
    "    <li>Tick the checkbox for Autocommit mode in Advanced</li>\n",
    "    <li>Click on CREATE</li>\n",
    "</ol>\n",
    "<img src = './images/connection.png'>"
   ]
  },
  {
   "cell_type": "markdown",
   "id": "000091c5-6b3c-49e8-ae65-42a2db0c02d9",
   "metadata": {
    "tags": []
   },
   "source": [
    "<hr style=\"height:1px;border:none;background-color:#00233C;\">\n",
    "<p style = 'font-size:18px;font-family:Arial;color:#00233C'><b>2.2 Import dataset</b></p>\n",
    "<p style = 'font-size:16px;font-family:Arial;color:#00233C'>Create a new project and click on <b>+ IMPORT YOUR FIRST DATASET</b></p>\n",
    "<ol style = 'font-size:16px;font-family:Arial;color:#00233C'>\n",
    "    <li>Select your connection from the dropdown</li>\n",
    "    <li>Enter Table as <b>consumption</b></li>\n",
    "    <li>Enter Schema as <b>DEMO_Energy_db</b></li>\n",
    "    <li>Click on CREATE</li>\n",
    "</ol>\n",
    "<img src = './images/data.png'>"
   ]
  },
  {
   "cell_type": "markdown",
   "id": "041578a0-9bcf-4f72-b56e-aba815394962",
   "metadata": {
    "tags": []
   },
   "source": [
    "<hr style=\"height:1px;border:none;background-color:#00233C;\">\n",
    "<p style = 'font-size:18px;font-family:Arial;color:#00233C'><b>2.3 Data Preparation</b></p>\n",
    "<p style = 'font-size:16px;font-family:Arial;color:#00233C'>Create a new python recipe by clicking on <b>Python</b> icon in the right sidebar as shown below.</p>\n",
    "<img src = 'images/fig1.png'>\n",
    "<ol style = 'font-size:16px;font-family:Arial;color:#00233C'>\n",
    "    <li>Enter output dataset name</li>\n",
    "    <li>Select your connection from the dropdown</li>\n",
    "    <li>Click on CREATE DATASET</li>\n",
    "    <li>Click on CREATE RECIPE</li>\n",
    "</ol>\n",
    "<img src = './images/fig2.png'>"
   ]
  },
  {
   "cell_type": "markdown",
   "id": "0af344d9-e109-4f61-8854-cfb02e073032",
   "metadata": {
    "tags": []
   },
   "source": [
    "<p style = 'font-size:16px;font-family:Arial;color:#00233C'>You can write your data processing and preparation code here in the recipe created above. Sample code is given below. Use your credentials for creating context.\n",
    "<br>\n",
    "<br>\n",
    "Hit Run button after creating the recipe.</p>\n",
    "\n",
    "Code: [transformation.py](./transformation.py)"
   ]
  },
  {
   "cell_type": "markdown",
   "id": "5034be18-97b6-4c3c-b9eb-9e6ff0a55edc",
   "metadata": {
    "tags": []
   },
   "source": [
    "<p style = 'font-size:16px;font-family:Arial;color:#00233C'>We'll now use the dataiku function to split the data into train and test dataset. Create a new recipe by clicking on <b>Split</b> icon in the right sidebar as shown below.</p>\n",
    "<img src = './images/fig3.png'>\n",
    "<ol style = 'font-size:16px;font-family:Arial;color:#00233C'>\n",
    "    <li>Create two output dataset (train_df and test_df)</li>\n",
    "    <li>Select your connection from the dropdown</li>\n",
    "    <li>Click on CREATE DATASET</li>\n",
    "    <li>Click on CREATE RECIPE</li>\n",
    "    <img src = 'images/fig4.png'>\n",
    "    <li>Click on <b>Dispatch percentiles of sorted data</b>. This is because the data is time series data and we do not want to split it randomly.</li>\n",
    "    <img src = './images/fig5.png'>\n",
    "    <li>Select <b>TD_TIMECODE</b> column from the dropdown. Enter desired ratio to split the data.</li>\n",
    "    <img src = './images/fig6.png'>\n",
    "</ol>\n",
    "<p style = 'font-size:16px;font-family:Arial;color:#00233C'><b>Note:</b>The tables here will be saved as {Project_Name}_train_df and {Project_Name}_test_df. Here in this demo they are stored as DATAIKUBYOM_train_df and DATAIKUBYOM_test_df.</p>\n",
    "<p style = 'font-size:16px;font-family:Arial;color:#00233C'>Hit Run button after creating the recipe.</p>"
   ]
  },
  {
   "cell_type": "markdown",
   "id": "34dba319-903b-4dcd-993b-d271d6d8410a",
   "metadata": {
    "tags": []
   },
   "source": [
    "<hr style=\"height:1px;border:none;background-color:#00233C;\">\n",
    "<p style = 'font-size:18px;font-family:Arial;color:#00233C'><b>2.4 Model Training</b></p>\n",
    "<p style = 'font-size:16px;font-family:Arial;color:#00233C'>Create a new python recipe by clicking on <b>Python</b> icon in the right sidebar as shown below. We'll use the train_df for model training purpose.</p>\n",
    "<img src = './images/fig7.png'>"
   ]
  },
  {
   "cell_type": "markdown",
   "id": "59fede4a-12d4-49f0-beb2-9b0c752d5770",
   "metadata": {
    "tags": []
   },
   "source": [
    "<p style = 'font-size:16px;font-family:Arial;color:#00233C'>You can write your model training and exporting code here in the recipe created above. Sample code is given below. Use your credentials for creating context.\n",
    "<br>\n",
    "<br>\n",
    "Hit Run button after creating the recipe.</p>\n",
    "\n",
    "Code: [model_training.py](./model_training.py) "
   ]
  },
  {
   "cell_type": "markdown",
   "id": "954082f9-8a77-44ef-acb6-032642396c92",
   "metadata": {},
   "source": [
    "<p style = 'font-size:16px;font-family:Arial;color:#00233C'><p style = 'font-size:16px;font-family:Arial;color:#00233C'>The previous step stores the models created in ClearScape on the local machine in a table called <b>dataiku_models</b>. In the next section, we will utilize these trained models to perform scoring within Vantage, eliminating the need to transfer data from Vantage.</p>\n",
    "\n",
    "<p style = 'font-size:16px;font-family:Arial;color:#00233C'>Alternatively, you have the option to import the Dataiku project directly into Dataiku platform. You can find a zip file named <b>DATAIKUBYOM.zip</b> in this folder. You can utilize this file to set up the Dataiku project in Dataiku's platform, enabling seamless integration with your existing Dataiku environment.</p>"
   ]
  },
  {
   "cell_type": "markdown",
   "id": "92df57de-c492-460b-a22b-3ce8010d5a91",
   "metadata": {},
   "source": [
    "<div class=\"alert alert-block alert-info\">\n",
    "<p style = 'font-size:16px;font-family:Arial;color:#00233C'><i><b>Note</b>: If you do not have Dataiku or did not perform the above steps, the following cell will do the required setup to run the remaining notebook.</i></p>\n",
    "</div>"
   ]
  },
  {
   "cell_type": "code",
   "execution_count": null,
   "id": "19bc0ba2-a488-4538-892e-89a57853d7ad",
   "metadata": {},
   "outputs": [],
   "source": [
    "copy_to_sql(df = pd.read_csv('./train_df.csv'), table_name = 'DATAIKUBYOM_train_df', if_exists = 'replace')\n",
    "copy_to_sql(df = pd.read_csv('./test_df.csv'), table_name = 'DATAIKUBYOM_test_df', if_exists = 'replace')\n",
    "\n",
    "# Load the PMML file into Vantage\n",
    "\n",
    "model_ids = ['lr', 'rf']\n",
    "model_files = ['energy_consumption_LR.pmml', 'energy_consumption_RF.pmml']\n",
    "table_name = 'dataiku_models'\n",
    "\n",
    "for model_id, model_file in zip(model_ids, model_files):\n",
    "    try:\n",
    "        save_byom(model_id = model_id, model_file = model_file, table_name = table_name)\n",
    "    except Exception as e:\n",
    "        # if our model exists, delete and rewrite\n",
    "        if str(e.args).find('TDML_2200') >= 1:\n",
    "            delete_byom(model_id = model_id, table_name = table_name)\n",
    "            save_byom(model_id = model_id, model_file = model_file, table_name = table_name)\n",
    "        else:\n",
    "            raise ValueError(f\"Unable to save the model '{model_id}' in '{table_name}' due to the following error: {e}\")\n",
    "\n",
    "# Show the bank_models table\n",
    "list_byom(table_name)"
   ]
  },
  {
   "cell_type": "markdown",
   "id": "regional-poetry",
   "metadata": {},
   "source": [
    "<hr style=\"height:2px;border:none;background-color:#00233C;\">\n",
    "<b style = 'font-size:20px;font-family:Arial;color:#00233C'>3. Model Scoring and Evaluation</b>\n",
    "\n",
    "<p style = 'font-size:16px;font-family:Arial;color:#00233C'>The final step in this process is to test the trained model.  The PMMLPredict function will take the stored pipeline object (including any data preparation and mapping tasks) and execute it against the data on the Vantage Nodes.  Note that we can keep many models in the model table, with versioning, last scored timestamp, or any other management data to allow for the operational management of the process.</p>\n",
    "        <ol style = 'font-size:16px;font-family:Arial;color:#00233C'>\n",
    "            <li>Create a pointer to the model in Vantage</li>\n",
    "            <li>Execute the Scoring function using the model against the testing data</li>\n",
    "            <li>Visualize the results</li>\n",
    "        </ol>"
   ]
  },
  {
   "cell_type": "code",
   "execution_count": null,
   "id": "4372ca3e-5af8-457d-a340-11ca9b64f753",
   "metadata": {},
   "outputs": [],
   "source": [
    "normalize_value = int(DataFrame('DATAIKUBYOM_train_df').sort('TD_TIMECODE').tail(24)[['consumption']].mean().get_values()[0][0])"
   ]
  },
  {
   "cell_type": "code",
   "execution_count": null,
   "id": "7dd3f5de-48ac-40e8-8815-12066e927438",
   "metadata": {},
   "outputs": [],
   "source": [
    "# Obtain a pointer to the model\n",
    "table_name = 'dataiku_models'\n",
    "model_id = 'lr'\n",
    "model_lr = retrieve_byom(model_id, table_name = table_name)\n",
    "df_test = DataFrame('DATAIKUBYOM_test_df')\n",
    "df_test = df_test.assign(TD_TIMECODE = df_test.TD_TIMECODE.cast(type_=TIMESTAMP))\n",
    "\n",
    "result_lr = PMMLPredict(\n",
    "            modeldata = model_lr,\n",
    "            newdata = df_test,\n",
    "            accumulate = ['TD_TIMECODE','consumption'],\n",
    "            ).result\n",
    "\n",
    "result_lr = result_lr.assign(prediction=result_lr.prediction.cast(type_=FLOAT()))\n",
    "result_lr = result_lr.assign(prediction=result_lr.prediction + normalize_value)"
   ]
  },
  {
   "cell_type": "code",
   "execution_count": null,
   "id": "0c31e0ce-b465-44eb-87ac-42af306d4076",
   "metadata": {},
   "outputs": [],
   "source": [
    "result_lr"
   ]
  },
  {
   "cell_type": "markdown",
   "id": "aee4881e-3107-4567-aad6-4daac51b6231",
   "metadata": {},
   "source": [
    "<p style = 'font-size:16px;font-family:Arial;color:#00233C'>In the above step, we use the PMMLPredict method from teradataml library to score the model in the database. The PMMLPredict function in Teradata allows users to score the PMML model directly on the data in the Vantage system, without having to move the data or the model outside the system. This can help to improve the efficiency and security of the scoring process.</p>"
   ]
  },
  {
   "cell_type": "code",
   "execution_count": null,
   "id": "906c73a7-4832-408b-a3fb-844612a06aef",
   "metadata": {},
   "outputs": [],
   "source": [
    "# Obtain a pointer to the model\n",
    "table_name = 'dataiku_models'\n",
    "model_id = 'rf'\n",
    "model_rf = retrieve_byom(model_id, table_name = table_name)\n",
    "df_test = DataFrame('DATAIKUBYOM_test_df')\n",
    "df_test = df_test.assign(TD_TIMECODE = df_test.TD_TIMECODE.cast(type_=TIMESTAMP))\n",
    "\n",
    "result_rf = PMMLPredict(\n",
    "            modeldata = model_rf,\n",
    "            newdata = df_test,\n",
    "            accumulate = ['TD_TIMECODE','consumption'],\n",
    "            ).result\n",
    "\n",
    "result_rf = result_rf.assign(prediction=result_rf.prediction.cast(type_=FLOAT()))\n",
    "result_rf = result_rf.assign(prediction=result_rf.prediction + normalize_value)"
   ]
  },
  {
   "cell_type": "code",
   "execution_count": null,
   "id": "warming-blocking",
   "metadata": {},
   "outputs": [],
   "source": [
    "result_rf"
   ]
  },
  {
   "cell_type": "markdown",
   "id": "6989b9d6-cd74-4e66-a2c6-c08051f4bcc1",
   "metadata": {},
   "source": [
    "<hr style=\"height:2px;border:none;background-color:#00233C;\">\n",
    "<b style = 'font-size:20px;font-family:Arial;color:#00233C'>4. Visualize the results</b>"
   ]
  },
  {
   "cell_type": "code",
   "execution_count": null,
   "id": "5f953f71-7762-446d-abc5-06ca3b06a042",
   "metadata": {},
   "outputs": [],
   "source": [
    "# Calculate RMS errors\n",
    "rms_lr = RegressionEvaluator(data=result_lr, \n",
    "                             observation_column=\"consumption\",\n",
    "                             prediction_column=\"prediction\",\n",
    "                             metrics=['RMSE']).result.get_values()[0][0]\n",
    "\n",
    "rms_rf = RegressionEvaluator(data=result_rf, \n",
    "                             observation_column=\"consumption\",\n",
    "                             prediction_column=\"prediction\",\n",
    "                             metrics=['RMSE']).result.get_values()[0][0]"
   ]
  },
  {
   "cell_type": "code",
   "execution_count": null,
   "id": "9704398f-8f0d-4c9c-b857-2cda140d438c",
   "metadata": {},
   "outputs": [],
   "source": [
    "figure = Figure(width=1400, height=600,  heading=\"Energy Consumption Prediction\")\n",
    "\n",
    "df_test.plot(\n",
    "                x=df_test.TD_TIMECODE,\n",
    "                y=[df_test.consumption, result_lr.prediction, result_rf.prediction],\n",
    "                figure=figure,\n",
    "                xtick_format='YYYY-MM-DD',\n",
    "                xlabel='TD_TIMECODE',\n",
    "                ylabel='Energy Consumption',\n",
    "                legend=['Actual Consumption', f'Linear Regression (RMS = {rms_lr:.2f})', f'Random Forest (RMS = {rms_rf:.2f})'],\n",
    "                legend_style='upper right',\n",
    "                grid_linestyle='--',\n",
    "                grid_linewidth=0.5,\n",
    "                linestyle=['-', '--', '--']\n",
    ")"
   ]
  },
  {
   "cell_type": "markdown",
   "id": "0db5e1b8-f01e-490b-a8f9-15f2d0a201b6",
   "metadata": {},
   "source": [
    "<p style = 'font-size:16px;font-family:Arial;color:#00233C'>The above graph displays the Root Mean Squared (RMS) error values for both Linear Regression and Random Forest models. The lower the RMS error value, the better the model's performance. As we can see, Random Forest outperforms Linear Regression in predicting energy demand, as it has a lower RMS error value. Therefore, Random Forest is more suitable for proactively predicting energy demand in our use case.</p>\n",
    "\n",
    "<p style = 'font-size:16px;font-family:Arial;color:#00233C'>This demonstration has illustrated a simplified - but complete - overview of how a typical machine learning workflow can be improved using Vantage in conjunction with 3rd-party tools and techniques.  This combination allows users to leverage 3rd-party innovation with Vantage's operational scale, power, and stability.</p>"
   ]
  },
  {
   "cell_type": "markdown",
   "id": "c13ab267-bb80-4c36-bf4e-71e6a6e7f7d8",
   "metadata": {},
   "source": [
    "<hr style=\"height:2px;border:none;background-color:#00233C;\">\n",
    "<b style = 'font-size:20px;font-family:Arial;color:#00233C'>5. Cleanup</b>"
   ]
  },
  {
   "cell_type": "markdown",
   "id": "b0414eb6-8c62-484a-81cc-fbfb0ac677c7",
   "metadata": {},
   "source": [
    "<p style = 'font-size:18px;font-family:Arial;color:#00233C'><b>Work Tables</b></p>\n",
    "<p style = 'font-size:16px;font-family:Arial;color:#00233C'>Cleanup work tables to prevent errors next time.</p>"
   ]
  },
  {
   "cell_type": "code",
   "execution_count": null,
   "id": "57a3c2f4-1e9a-4b91-9efb-71478af2c15d",
   "metadata": {},
   "outputs": [],
   "source": [
    "tables = ['DATAIKUBYOM_train_df', 'DATAIKUBYOM_test_df', 'dataiku_models']\n",
    "\n",
    "# Loop through the list of tables and execute the drop table command for each table\n",
    "for table in tables:\n",
    "    try:\n",
    "        db_drop_table(table_name = table)\n",
    "    except:\n",
    "        pass"
   ]
  },
  {
   "cell_type": "markdown",
   "id": "d377fef9-b377-4b59-a313-5eb9784dba93",
   "metadata": {},
   "source": [
    "<p style = 'font-size:18px;font-family:Arial;color:#00233C'> <b>Databases and Tables </b></p>\n",
    "<p style = 'font-size:16px;font-family:Arial;color:#00233C'>The following code will clean up tables and databases created above.</p>"
   ]
  },
  {
   "cell_type": "code",
   "execution_count": null,
   "id": "9472c2ca-65d0-4116-9c45-6411fcea52ef",
   "metadata": {},
   "outputs": [],
   "source": [
    "%run -i ../run_procedure.py \"call remove_data('DEMO_Energy');\"        # Takes 5 seconds"
   ]
  },
  {
   "cell_type": "code",
   "execution_count": null,
   "id": "adjacent-romantic",
   "metadata": {},
   "outputs": [],
   "source": [
    "remove_context()"
   ]
  },
  {
   "cell_type": "markdown",
   "id": "58b0b73e-0c50-4110-be9c-05aaf1181960",
   "metadata": {},
   "source": [
    "<footer style=\"padding-bottom:35px; background:#f9f9f9; border-bottom:3px solid #00233C\">\n",
    "    <div style=\"float:left;margin-top:14px\">ClearScape Analytics™</div>\n",
    "    <div style=\"float:right;\">\n",
    "        <div style=\"float:left; margin-top:14px\">\n",
    "            Copyright © Teradata Corporation - 2023, 2024. All Rights Reserved\n",
    "        </div>\n",
    "    </div>\n",
    "</footer>"
   ]
  }
 ],
 "metadata": {
  "kernelspec": {
   "display_name": "Python 3 (ipykernel)",
   "language": "python",
   "name": "python3"
  },
  "language_info": {
   "codemirror_mode": {
    "name": "ipython",
    "version": 3
   },
   "file_extension": ".py",
   "mimetype": "text/x-python",
   "name": "python",
   "nbconvert_exporter": "python",
   "pygments_lexer": "ipython3",
   "version": "3.9.10"
  }
 },
 "nbformat": 4,
 "nbformat_minor": 5
}
