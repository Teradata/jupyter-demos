{
 "cells": [
  {
   "cell_type": "markdown",
   "id": "1f44f3bc-51cc-47e3-a033-f2883ed97408",
   "metadata": {},
   "source": [
    "<header>\n",
    "   <p  style='font-size:36px;font-family:Arial; color:#F0F0F0; background-color: #00233c; padding-left: 20pt; padding-top: 20pt;padding-bottom: 10pt; padding-right: 20pt;'>\n",
    "       Complaints Analysis Integration with Customer360\n",
    "  <br>\n",
    "       <img id=\"teradata-logo\" src=\"https://storage.googleapis.com/clearscape_analytics_demo_data/DEMO_Logo/teradata.svg\" alt=\"Teradata\" style=\"width: 125px; height: auto; margin-top: 20pt;\">\n",
    "    </p>\n",
    "</header>"
   ]
  },
  {
   "cell_type": "markdown",
   "id": "19c23c87-b5a5-4905-913e-d4f7980497fa",
   "metadata": {},
   "source": [
    "<p style = 'font-size:20px;font-family:Arial'><b>Introduction:</b></p>\n",
    "<p style='font-size:16px;font-family:Arial'>Complaints Analysis Integration with Customer360 is a comprehensive approach to managing customer complaints and feedback within the framework of a Customer 360-degree view using <b>Teradata Vantage</b> and <b>Google Gemini</b>. This integration aims to provide a seamless and personalized customer experience by leveraging data from various sources, including CRM systems, marketing platforms, and social media.</p> <p style='font-size:16px;font-family:Arial'>The key components of this integration include:</p> \n",
    "\n",
    "<ol style='font-size:16px;font-family:Arial'> <li><b>Customer 360 Data Manager</b>: Responsible for managing and maintaining a comprehensive view of customer data, including collection, integration, and analysis from multiple sources.</li> <li><b>Complaints Management Dashboard</b>: Analyzes customer complaints, providing insights into complaint volume, trends, and resolution progress.</li> <li><b>Customer Insights</b>: Tools for gaining insights into customer behavior and preferences, enabling targeted marketing campaigns and informed business decisions.</li> </ol> <p style='font-size:16px;font-family:Arial'>The benefits of this integration include:</p> <ol style='font-size:16px;font-family:Arial'> <li><b>Improved Customer Experience</b>: By integrating complaints analysis with Customer 360, businesses can address customer complaints more effectively, leading to increased customer satisfaction and loyalty.</li> <li><b>Data-Driven Decision Making</b>: The integration provides a centralized platform for analyzing customer data, enabling businesses to make informed decisions about product development, marketing strategies, and customer engagement.</li> <li><b>Enhanced Customer Insights</b>: The comprehensive view of customer data allows businesses to better understand customer needs and preferences, leading to more targeted and effective marketing efforts.</li> </ol> \n",
    "\n",
    "\n",
    "<p style='font-size:16px;font-family:Arial'>By integrating complaints analysis with Customer 360, businesses can create a more comprehensive and personalized customer experience, driving business growth and customer satisfaction.</p> \n",
    "\n",
    "<p style = 'font-size:16px;font-family:Arial'><b>Steps in the analysis:</b></p>\n",
    "<ol style = 'font-size:16px;font-family:Arial'>\n",
    "     <li>Configuring the environment</li>\n",
    "    <li>Connect to Vantage</li>\n",
    "    <li>Setup API key for Google Gemini</li>\n",
    "    <li>Using LLM for Sentiment Analysis, Topic Modelling and Complaint Summerization</li>\n",
    "    <li>Integrated data with customer 360</li>\n",
    "    <li>Cleanup</li>\n",
    "</ol>"
   ]
  },
  {
   "cell_type": "markdown",
   "id": "439c593b-d12a-4edf-8b5f-6070f1122914",
   "metadata": {},
   "source": [
    "<hr style='height:2px;border:none;'>\n",
    "<b style = 'font-size:20px;font-family:Arial'>1. Configuring the environment</b>\n",
    "\n",
    "<p style = 'font-size:18px;font-family:Arial'><b>1.1 Install the required libraries</b></p>"
   ]
  },
  {
   "cell_type": "code",
   "execution_count": null,
   "id": "ebc0a97b-78f8-4274-9844-d3b1d31848e6",
   "metadata": {},
   "outputs": [],
   "source": [
    "%%capture\n",
    "!pip install -r requirements.txt --quiet"
   ]
  },
  {
   "cell_type": "markdown",
   "id": "7a8a5583-362f-4d11-8b3a-17b20637f517",
   "metadata": {},
   "source": [
    "<div class=\"alert alert-block alert-info\">\n",
    "<p style = 'font-size:16px;font-family:Arial'><b>Note: </b><i>Please restart the kernel after executing these two lines. The simplest way to restart the Kernel is by typing zero zero: <b> 0 0</b></i></p>"
   ]
  },
  {
   "cell_type": "markdown",
   "id": "7e7e5046-3c5f-4f6d-aeaf-60028655ff13",
   "metadata": {},
   "source": [
    "<hr style='height:1px;border:none;'>\n",
    "\n",
    "<p style = 'font-size:18px;font-family:Arial'><b>1.2 Import the required libraries</b></p>\n",
    "\n",
    "<p style = 'font-size:16px;font-family:Arial'>Here, we import the required libraries, set environment variables and environment paths (if required).</p>"
   ]
  },
  {
   "cell_type": "code",
   "execution_count": null,
   "id": "83dc0922-f932-4378-a505-3bb2d1f1243b",
   "metadata": {},
   "outputs": [],
   "source": [
    "import pandas as pd\n",
    "from tqdm import tqdm\n",
    "from teradataml import *\n",
    "\n",
    "# GenAI libs\n",
    "import google.generativeai as genai\n",
    "\n",
    "display.max_rows = 5\n",
    "pd.set_option('display.max_colwidth', 50)\n",
    "pd.set_option('display.max_rows', 5)"
   ]
  },
  {
   "cell_type": "markdown",
   "id": "768bf2ed-ae11-4969-b20a-88496e4a2b67",
   "metadata": {},
   "source": [
    "<hr style=\"height:2px;border:none;\">\n",
    "<b style = 'font-size:20px;font-family:Arial'>2. Connect to Vantage</b>\n",
    "\n",
    "<p style = 'font-size:18px;font-family:Arial'><b>2.1 Connect to Vantage</b></p>\n",
    "<p style = 'font-size:16px;font-family:Arial'>We will be prompted to provide the password. We will enter the password, press the Enter key, and then use the down arrow to go to the next cell.</p>"
   ]
  },
  {
   "cell_type": "code",
   "execution_count": null,
   "id": "454a2e81-c377-4058-9e68-78abd801ad9c",
   "metadata": {},
   "outputs": [],
   "source": [
    "%run -i ../startup.ipynb\n",
    "eng = create_context(host = 'host.docker.internal', username='demo_user', password = password)\n",
    "print(eng)\n",
    "execute_sql('''SET query_band='DEMO=Complaint_Analysis_Customer360.ipynb;' UPDATE FOR SESSION;''')"
   ]
  },
  {
   "cell_type": "markdown",
   "id": "aed444a1-f0de-4bff-b0b9-d2c4e92573f5",
   "metadata": {},
   "source": [
    "<p style = 'font-size:16px;font-family:Arial'>Begin running steps with Shift + Enter keys. </p>"
   ]
  },
  {
   "cell_type": "markdown",
   "id": "782ff009-1182-45c0-aa75-2957518ae7c2",
   "metadata": {},
   "source": [
    "<hr style='height:1px;border:none;'>\n",
    "\n",
    "<p style = 'font-size:18px;font-family:Arial'><b>2.2 Getting Data for This Demo</b></p>\n",
    "<p style = 'font-size:16px;font-family:Arial'>We have provided data for this demo on cloud storage. We have the option of either running the demo using foreign tables to access the data without using any storage on our environment or downloading the data to local storage, which may yield somewhat faster execution. However, we need to consider available storage. There are two statements in the following cell, and one is commented out. We may switch which mode we choose by changing the comment string.</p>"
   ]
  },
  {
   "cell_type": "code",
   "execution_count": null,
   "id": "65bf814d-4783-4213-936f-886667adf4a7",
   "metadata": {},
   "outputs": [],
   "source": [
    "%run -i ../run_procedure.py \"call get_data('DEMO_ComplaintAnalysis_cloud');\"        # Takes 1 minute\n",
    "# %run -i ../run_procedure.py \"call get_data('DEMO_ComplaintAnalysis_local');\"        # Takes 2 minutes"
   ]
  },
  {
   "cell_type": "markdown",
   "id": "53e3b7cf-b45e-483f-8db5-b78527ed873c",
   "metadata": {},
   "source": [
    "<hr style=\"height:2px;border:none;\">\n",
    "<b style = 'font-size:20px;font-family:Arial'>3. Setup API key for Google Gemini</b>\n",
    "<p style = 'font-size:16px;font-family:Arial'>Please enter the Google API Key, if you don't have one, please get it from <a href = 'https://ai.google.dev/gemini-api/docs/api-key'>here</a></p>"
   ]
  },
  {
   "cell_type": "code",
   "execution_count": null,
   "id": "49e92709-9a74-4372-a57a-7b078fe2ae2c",
   "metadata": {},
   "outputs": [],
   "source": [
    "GOOGLE_API_KEY = getpass.getpass(prompt = 'Please enter GOOGLE_API_KEY: ')\n",
    "genai.configure(api_key = GOOGLE_API_KEY)"
   ]
  },
  {
   "cell_type": "markdown",
   "id": "75d9ca05-b97e-4336-a439-65f52180e8e8",
   "metadata": {},
   "source": [
    "<hr style=\"height:1px;border:none;\">\n",
    "<b style = 'font-size:18px;font-family:Arial'>3.1. Define the Gemini model and Prompt</b>\n",
    "<p style = 'font-size:16px;font-family:Arial'>The following section defines the type of Gemini model used. Here we use <b>gemini-1.5-flash</b></p>"
   ]
  },
  {
   "cell_type": "code",
   "execution_count": null,
   "id": "ecada13c-1aac-45c1-8bf0-6db4be2eec82",
   "metadata": {},
   "outputs": [],
   "source": [
    "from google.generativeai.types import HarmCategory, HarmBlockThreshold\n",
    "\n",
    "model = genai.GenerativeModel(\n",
    "    model_name = \"models/gemini-1.5-flash\"\n",
    ")"
   ]
  },
  {
   "cell_type": "markdown",
   "id": "596cfbe5-e6d7-4b14-9d46-08929397e1a3",
   "metadata": {},
   "source": [
    "<hr style=\"height:2px;border:none;\">\n",
    "<b style = 'font-size:20px;font-family:Arial'>4. Using LLM for Sentiment Analysis, Topic Modelling and Complaint Summarization</b>\n",
    "\n",
    "<p style = 'font-size:16px;font-family:Arial'>Sentiment Analysis, Topic Modelling and Complaint Summarization using Large Language Models (LLMs) revolutionizes the way we understand and categorize vast collections of text data. LLMs excel in understanding the semantics and context of words, enabling sophisticated topic modeling techniques.</p>\n",
    "\n",
    "<p style='font-size:16px;font-family:Arial'>Sentiment Analysis Using Large Language Models (LLMs) is a cutting-edge approach to understanding customer opinions and emotions expressed through text-based data. This advanced technique leverages the capabilities of LLMs to accurately identify and categorize sentiment as positive, negative, or neutral, providing businesses with valuable insights into customer perceptions and preferences.</p>\n",
    "\n",
    "<p style = 'font-size:16px;font-family:Arial'>LLMs can generate coherent topics without needing predefined categories, making them ideal for exploratory analysis of diverse datasets. Moreover, their ability to capture subtle nuances in language allows for more precise topic identification, even in noisy or ambiguous texts.</p>\n",
    "\n",
    "<p style = 'font-size:16px;font-family:Arial'><b>Reasoning with a Chain of Thought</b>: Imagine you're trying to solve a problem. With a large language model, you start with an initial idea or question. Then, you use the model's capabilities to explore related concepts, gradually connecting them together. Each step builds upon the previous one, leading you closer to understanding or solving the problem. It's like putting together puzzle pieces, one by one, until you see the whole picture.</p>"
   ]
  },
  {
   "cell_type": "code",
   "execution_count": null,
   "id": "3506e344-bf92-44f4-9cee-7d85eac3290b",
   "metadata": {},
   "outputs": [],
   "source": [
    "customer_data = DataFrame(in_schema('DEMO_ComplaintAnalysis', 'Customer_360_Details'))\n",
    "customer_data"
   ]
  },
  {
   "cell_type": "code",
   "execution_count": null,
   "id": "fb0b5121-6071-42cd-a928-af0116094289",
   "metadata": {},
   "outputs": [],
   "source": [
    "complaints_data = DataFrame(in_schema('DEMO_ComplaintAnalysis', 'Customer_360_Complaints'))\n",
    "complaints_data"
   ]
  },
  {
   "cell_type": "code",
   "execution_count": null,
   "id": "a0508336-8aa2-48e9-99a6-e9c4919abd15",
   "metadata": {},
   "outputs": [],
   "source": [
    "pd_df = complaints_data.to_pandas()\n",
    "pd_df['Sentiment'] = \"\"\n",
    "pd_df['Topic'] = \"\"\n",
    "pd_df['Summary'] = \"\"\n",
    "pd_df['Strategy'] = \"\"\n",
    "\n",
    "\n",
    "pd_df"
   ]
  },
  {
   "cell_type": "code",
   "execution_count": null,
   "id": "507848d6-6871-4874-a8db-e0c0de0ba106",
   "metadata": {},
   "outputs": [],
   "source": [
    "# Sentiment\n",
    "for i in tqdm(range(len(pd_df))):\n",
    "    try:\n",
    "        prompt = f'''\n",
    "        User prompt: \n",
    "        The following is text from a review:\n",
    "\n",
    "        “{pd_df['consumer_complaint_narrative'][i]}”\n",
    "\n",
    "        Categorize the review as one of the following:\n",
    "\n",
    "        Positive\n",
    "        Negative\n",
    "        Neutral\n",
    "\n",
    "        - Important: Do not add any formatting into the output.\n",
    "        - Return just one of the above options, Do not return explanation\n",
    "        '''\n",
    "        output = model.generate_content([prompt])\n",
    "        sentiment = output.candidates[0].content.parts[0].text\n",
    "\n",
    "        pd_df['Sentiment'][i] = sentiment\n",
    "    except:\n",
    "        pass"
   ]
  },
  {
   "cell_type": "code",
   "execution_count": null,
   "id": "ff4efda4-0fa1-4fde-8b24-56ab91912849",
   "metadata": {},
   "outputs": [],
   "source": [
    "# Topic\n",
    "for i in tqdm(range(len(pd_df))):\n",
    "    try:\n",
    "        prompt = f'''\n",
    "        User prompt:\n",
    "        The following is text from a complaint:\n",
    "\n",
    "        “{pd_df['consumer_complaint_narrative'][i]}”\n",
    "\n",
    "        Identify the topic of the complaint and categorize into one of the following topics. Only output one of the following options:\n",
    "\n",
    "        - Mortgage Application\n",
    "        - Payment Trouble\n",
    "        - Mortgage Closing\n",
    "        - Report Inaccuracy\n",
    "        - Payment Struggle\n",
    "\n",
    "        - Important: Do not add any formatting into the output. For example **Mortgage Application** or **Report Inaccuracy** refrain from such formating in the response.\n",
    "        - Return just one of the above options\n",
    "    '''\n",
    "\n",
    "        output = model.generate_content([prompt])\n",
    "        topic = output.candidates[0].content.parts[0].text\n",
    "\n",
    "        pd_df['Topic'][i] = topic\n",
    "    except:\n",
    "        pass"
   ]
  },
  {
   "cell_type": "code",
   "execution_count": null,
   "id": "0174db51-edcc-42d2-b251-c3171648a0e2",
   "metadata": {},
   "outputs": [],
   "source": [
    "# Summary\n",
    "for i in tqdm(range(len(pd_df))):\n",
    "    try:\n",
    "        prompt = f'''\n",
    "            The following is text from a Bank Review:\n",
    "            “{pd_df['consumer_complaint_narrative'][i]}”\n",
    "            Summarize the Bank Review in one sentence\n",
    "        '''\n",
    "\n",
    "        output = model.generate_content([prompt])\n",
    "        summary = output.candidates[0].content.parts[0].text\n",
    "\n",
    "        pd_df['Summary'][i] = summary\n",
    "    except:\n",
    "        pass"
   ]
  },
  {
   "cell_type": "code",
   "execution_count": null,
   "id": "de8b6a9f",
   "metadata": {},
   "outputs": [],
   "source": [
    "# Strategy\n",
    "for i in tqdm(range(len(pd_df))):\n",
    "    try:\n",
    "        prompt = f'''\n",
    "        User prompt:\n",
    "        The following is text from a complaint:\n",
    "\n",
    "        “{pd_df['consumer_complaint_narrative'][i]}”\n",
    "\n",
    "        Suggest the best course of action for the bank from the following:\n",
    "\n",
    "        - Wealth Manager to contact customer immediately\n",
    "        - Send Policy Letter from Mortgage Servicing\n",
    "        - Send Policy Letter from Executive Office\n",
    "        - Mortgage Banker to follow-up with Title Company for documentation and contact customer\n",
    "        - Branch Manager to contact customer immediately\n",
    "\n",
    "        - Important: Do not add any formatting into the output.\n",
    "        - Return just one of the above options\n",
    "    '''\n",
    "\n",
    "        output = model.generate_content([prompt])\n",
    "        strategy = output.candidates[0].content.parts[0].text\n",
    "\n",
    "        pd_df['Strategy'][i] = strategy\n",
    "    except:\n",
    "        pass"
   ]
  },
  {
   "cell_type": "code",
   "execution_count": null,
   "id": "e5977498-de10-4392-888d-5541dae6801f",
   "metadata": {},
   "outputs": [],
   "source": [
    "pd_df['Sentiment'] = pd_df['Sentiment'].apply(lambda x: x.strip())\n",
    "pd_df['Topic'] =  pd_df['Topic'].apply(lambda x: x.strip())\n",
    "pd_df['Summary'] = pd_df['Summary'].apply(lambda x: x.strip())\n",
    "pd_df['Strategy'] = pd_df['Strategy'].apply(lambda x: x.strip())\n",
    "\n",
    "\n",
    "combined_df = customer_data.to_pandas().join(pd_df)"
   ]
  },
  {
   "cell_type": "markdown",
   "id": "576a3dd9-b74c-4a11-851c-6565d1a347e0",
   "metadata": {},
   "source": [
    "<hr style=\"height:2px;border:none;\">\n",
    "<b style = 'font-size:20px;font-family:Arial'>5. Integrated data with customer 360</b>\n",
    "<p style = 'font-size:16px;font-family:Arial'>The following is an example of the output from LLM integrated with existing customer360 data. Please scroll to the right to see all the columns.</p>"
   ]
  },
  {
   "cell_type": "code",
   "execution_count": null,
   "id": "c27e62ea-4998-46fe-8708-c9881a691075",
   "metadata": {},
   "outputs": [],
   "source": [
    "pd.set_option('display.max_colwidth', None)\n",
    "combined_df[[\"complaint_id\",\"Customer_ID\",\"Sentiment\",\"Topic\",\"Summary\", \"Strategy\"]]"
   ]
  },
  {
   "cell_type": "markdown",
   "id": "06cbb0f4-d026-4a0b-8ab8-6982b7f7777a",
   "metadata": {},
   "source": [
    "<p style = 'font-size:16px;font-family:Arial'>Now the results can be saved back to Vantage.</p>"
   ]
  },
  {
   "cell_type": "code",
   "execution_count": null,
   "id": "48861c1a-5e27-4eb7-938f-824eafdd5569",
   "metadata": {},
   "outputs": [],
   "source": [
    "combined_df.drop(columns=['state'], inplace=True)"
   ]
  },
  {
   "cell_type": "code",
   "execution_count": null,
   "id": "4a940a4d-b556-45e1-b36a-4efc11bce30c",
   "metadata": {},
   "outputs": [],
   "source": [
    "copy_to_sql(df = combined_df, table_name = 'Customer_360_Complaints_analysis', if_exists = 'replace', primary_index=\"complaint_id\")"
   ]
  },
  {
   "cell_type": "markdown",
   "id": "561ff317-6468-4941-bf9b-840849bfb09d",
   "metadata": {},
   "source": [
    "<hr style=\"height:2px;border:none;\">\n",
    "<b style = 'font-size:20px;font-family:Arial'>6. Cleanup</b>"
   ]
  },
  {
   "cell_type": "markdown",
   "id": "476fb82b-d7a0-4e29-a6d4-8372a247cea8",
   "metadata": {},
   "source": [
    "<p style = 'font-size:18px;font-family:Arial'> <b>Databases and Tables </b></p>\n",
    "<p style = 'font-size:16px;font-family:Arial'>The following code will clean up tables and databases created above.</p>"
   ]
  },
  {
   "cell_type": "code",
   "execution_count": null,
   "id": "9472c2ca-65d0-4116-9c45-6411fcea52ef",
   "metadata": {},
   "outputs": [],
   "source": [
    "%run -i ../run_procedure.py \"call remove_data('DEMO_ComplaintAnalysis');\"        # Takes 10 seconds"
   ]
  },
  {
   "cell_type": "code",
   "execution_count": null,
   "id": "358f56a0-ad97-4317-ab4c-88be00b8d179",
   "metadata": {},
   "outputs": [],
   "source": [
    "remove_context()"
   ]
  },
  {
   "cell_type": "markdown",
   "id": "6cf670cd-4594-458d-af98-8efff5a72f73",
   "metadata": {},
   "source": [
    "<hr style=\"height:1px;border:none;\">\n",
    "<b style = 'font-size:18px;font-family:Arial'>Dataset:</b>\n",
    "<br>\n",
    "<br>\n",
    "<p style='font-size: 16px; font-family: Arial;'>The dataset is sourced from <a href='https://www.consumerfinance.gov/data-research/consumer-complaints/'>Consumer Financial Protection Bureau</a></p>"
   ]
  },
  {
   "cell_type": "markdown",
   "id": "eeebf3ab-357c-488e-ba9d-78bf82f4d0dd",
   "metadata": {},
   "source": [
    "<footer style=\"padding-bottom:35px; border-bottom:3px solid #91A0Ab\">\n",
    "    <div style=\"float:left;margin-top:14px\">ClearScape Analytics™</div>\n",
    "    <div style=\"float:right;\">\n",
    "        <div style=\"float:left; margin-top:14px\">\n",
    "            Copyright © Teradata Corporation - 2024. All Rights Reserved\n",
    "        </div>\n",
    "    </div>\n",
    "</footer>"
   ]
  }
 ],
 "metadata": {
  "kernelspec": {
   "display_name": "Python 3 (ipykernel)",
   "language": "python",
   "name": "python3"
  },
  "language_info": {
   "codemirror_mode": {
    "name": "ipython",
    "version": 3
   },
   "file_extension": ".py",
   "mimetype": "text/x-python",
   "name": "python",
   "nbconvert_exporter": "python",
   "pygments_lexer": "ipython3",
   "version": "3.9.10"
  }
 },
 "nbformat": 4,
 "nbformat_minor": 5
}
