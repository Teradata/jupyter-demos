{
 "cells": [
  {
   "cell_type": "markdown",
   "id": "09c89842-4ea3-425d-ac2a-0ef9c00983b7",
   "metadata": {},
   "source": [
    "<header>\n",
    "   <p  style='font-size:36px;font-family:Arial; color:#F0F0F0; background-color: #00233c; padding-left: 20pt; padding-top: 20pt;padding-bottom: 10pt; padding-right: 20pt;'>\n",
    "       Complaints Classification using Vantage and Google Gemini\n",
    "  <br>\n",
    "       <img id=\"teradata-logo\" src=\"https://storage.googleapis.com/clearscape_analytics_demo_data/DEMO_Logo/teradata.svg\" alt=\"Teradata\" style=\"width: 125px; height: auto; margin-top: 20pt;\">\n",
    "    </p>\n",
    "</header>"
   ]
  },
  {
   "cell_type": "markdown",
   "id": "bbae5cd8-f5bd-4b0c-9ae6-ff8ef4bdd737",
   "metadata": {},
   "source": [
    "<p style = 'font-size:20px;font-family:Arial'><b>Introduction:</b></p>\n",
    "\n",
    "<p style = 'font-size:16px;font-family:Arial'>Revolutionize customer complaint resolution with our pioneering solution, which seamlessly integrates the capabilities of <b>Teradata Vantage</b> and <b>Google Gemini</b> model as LLM. This powerful synergy enables businesses to classify customer complaints with unmatched precision and speed, allowing them to swiftly identify and address concerns, thereby elevating overall customer satisfaction and loyalty.</p>\n",
    "\n",
    "<p style = 'font-size:16px;font-family:Arial'><b>Key Features:</b></p>\n",
    "<ul style = 'font-size:16px;font-family:Arial'>\n",
    "    <li><b>Automated Classification:</b> Our AI-driven model categorizes complaints into predefined categories, ensuring consistency and reducing manual effort.</li>\n",
    "    <li><b>Contextual Understanding:</b> The system comprehends the nuances of customer feedback, capturing subtle differences in tone and language.</li>\n",
    "    <li><b>Real-time Insights:</b> Generate instant reports and analytics to identify trends, patterns, and areas for improvement.</li>\n",
    "</ul>\n",
    "\n",
    "\n",
    "<p style = 'font-size:16px;font-family:Arial'><b>Benefits:</b></p>\n",
    "<ul style = 'font-size:16px;font-family:Arial'>\n",
    "    <li><b>Enhanced Customer Experience:</b> Swiftly address customer concerns, fostering trust and loyalty.</li>\n",
    "    <li><b>Improved Operational Efficiency:</b> Reduce manual processing time, allowing teams to focus on high-value tasks.</li>\n",
    "    <li><b>Data-Driven Decision Making: </b> Make informed decisions with actionable insights from complaint data.</li>\n",
    "</ul>\n",
    "\n",
    "<p style = 'font-size:16px;font-family:Arial'>Experience the transformative power of Generative AI in complaints classification.</p>\n",
    "\n",
    "<p style = 'font-size:16px;font-family:Arial'><b>Steps in the analysis:</b></p>\n",
    "<ol style = 'font-size:16px;font-family:Arial'>\n",
    "    <li>Configuring the environment</li>\n",
    "    <li>Connect to Vantage</li>\n",
    "    <li>Setup API key for Google Gemini</li>\n",
    "    <li>Classify Compalints</li>\n",
    "    <li>Cleanup</li>\n",
    "</ol>"
   ]
  },
  {
   "cell_type": "markdown",
   "id": "fb9f91d3-a441-4265-9444-6fca6dff0ba5",
   "metadata": {},
   "source": [
    "<hr style='height:2px;border:none;'>\n",
    "<b style = 'font-size:20px;font-family:Arial'>1. Configuring the environment</b>\n",
    "\n",
    "<p style = 'font-size:18px;font-family:Arial'><b>1.1 Install the required libraries</b></p>"
   ]
  },
  {
   "cell_type": "code",
   "execution_count": null,
   "id": "74720dfc-1195-403e-a596-c9a55773fedc",
   "metadata": {},
   "outputs": [],
   "source": [
    "%%capture\n",
    "\n",
    "!pip install -r requirements.txt --quiet"
   ]
  },
  {
   "cell_type": "markdown",
   "id": "3e8d47d7-1a44-4da1-afa5-46ce90312021",
   "metadata": {},
   "source": [
    "<div class=\"alert alert-block alert-info\">\n",
    "<p style = 'font-size:16px;font-family:Arial'><b>Note: </b><i>Please restart the kernel after executing these two lines. The simplest way to restart the Kernel is by typing zero zero: <b> 0 0</b></i></p>"
   ]
  },
  {
   "cell_type": "markdown",
   "id": "b8408409-7318-4481-9944-690f124cf969",
   "metadata": {},
   "source": [
    "<hr style='height:1px;border:none;'>\n",
    "\n",
    "<p style = 'font-size:18px;font-family:Arial'><b>1.2 Import the required libraries</b></p>\n",
    "\n",
    "<p style = 'font-size:16px;font-family:Arial'>Here, we import the required libraries, set environment variables and environment paths (if required).</p>"
   ]
  },
  {
   "cell_type": "code",
   "execution_count": null,
   "id": "83dc0922-f932-4378-a505-3bb2d1f1243b",
   "metadata": {},
   "outputs": [],
   "source": [
    "import numpy as np\n",
    "import pandas as pd\n",
    "import timeit\n",
    "from tqdm import tqdm\n",
    "from teradataml import *\n",
    "import plotly.express as px\n",
    "from wordcloud import WordCloud\n",
    "import matplotlib.pyplot as plt\n",
    "import plotly.subplots as subplots\n",
    "\n",
    "# GenAI libs\n",
    "import google.generativeai as genai\n",
    "from google.generativeai import protos\n",
    "\n",
    "\n",
    "display.max_rows = 5\n",
    "pd.set_option('display.max_colwidth', 50)\n",
    "pd.set_option('display.max_rows', 5)\n",
    "from IPython.display import display, Markdown"
   ]
  },
  {
   "cell_type": "markdown",
   "id": "e365debb-d67d-45b9-aaad-e54bcc474818",
   "metadata": {},
   "source": [
    "<hr style=\"height:2px;border:none;\">\n",
    "<b style = 'font-size:20px;font-family:Arial'>2. Connect to Vantage</b>\n",
    "<p style = 'font-size:18px;font-family:Arial'><b>2.1 Connect to Vantage</b></p>\n",
    "<p style = 'font-size:16px;font-family:Arial'>We will be prompted to provide the password. We will enter the password, press the Enter key, and then use the down arrow to go to the next cell.</p>"
   ]
  },
  {
   "cell_type": "code",
   "execution_count": null,
   "id": "454a2e81-c377-4058-9e68-78abd801ad9c",
   "metadata": {},
   "outputs": [],
   "source": [
    "%run -i ../startup.ipynb\n",
    "eng = create_context(host = 'host.docker.internal', username='demo_user', password = password)\n",
    "print(eng)\n",
    "execute_sql('''SET query_band='DEMO=Text_Classification.ipynb;' UPDATE FOR SESSION;''')"
   ]
  },
  {
   "cell_type": "markdown",
   "id": "dee44870-6034-4353-96df-f5bd00970fa9",
   "metadata": {},
   "source": [
    "<p style = 'font-size:16px;font-family:Arial'>Begin running steps with Shift + Enter keys. </p>"
   ]
  },
  {
   "cell_type": "markdown",
   "id": "e9b5b39e-b3e1-45b8-a31a-4586872f93d1",
   "metadata": {},
   "source": [
    "<hr style='height:1px;border:none;'>\n",
    "\n",
    "<p style = 'font-size:18px;font-family:Arial'><b>2.2 Getting Data for This Demo</b></p>\n",
    "<p style = 'font-size:16px;font-family:Arial'>We have provided data for this demo on cloud storage. We have the option of either running the demo using foreign tables to access the data without using any storage on our environment or downloading the data to local storage, which may yield somewhat faster execution. However, we need to consider available storage. There are two statements in the following cell, and one is commented out. We may switch which mode we choose by changing the comment string.</p>"
   ]
  },
  {
   "cell_type": "code",
   "execution_count": null,
   "id": "65bf814d-4783-4213-936f-886667adf4a7",
   "metadata": {},
   "outputs": [],
   "source": [
    "%run -i ../run_procedure.py \"call get_data('DEMO_ComplaintAnalysis_cloud');\"        # Takes 1 minute\n",
    "# %run -i ../run_procedure.py \"call get_data('DEMO_ComplaintAnalysis_local');\"        # Takes 2 minutes"
   ]
  },
  {
   "cell_type": "markdown",
   "id": "4fe07fb7-5aa1-45c2-b66d-13e5ca8f7ce3",
   "metadata": {},
   "source": [
    "<hr style=\"height:2px;border:none;\">\n",
    "<b style = 'font-size:20px;font-family:Arial'>3. Setup API key for Google Gemini</b>\n",
    "<p style = 'font-size:16px;font-family:Arial'>Please enter the Google API Key, if you don't have one, please get it from <a href = 'https://ai.google.dev/gemini-api/docs/api-key'>here</a></p>"
   ]
  },
  {
   "cell_type": "code",
   "execution_count": null,
   "id": "49e92709-9a74-4372-a57a-7b078fe2ae2c",
   "metadata": {},
   "outputs": [],
   "source": [
    "GOOGLE_API_KEY = getpass.getpass(prompt = 'Please enter GOOGLE_API_KEY: ')\n",
    "genai.configure(api_key = GOOGLE_API_KEY)"
   ]
  },
  {
   "cell_type": "markdown",
   "id": "4e0d9505-20b1-4c9a-9efb-b2195d5d0362",
   "metadata": {},
   "source": [
    "<hr style=\"height:1px;border:none;\">\n",
    "<b style = 'font-size:18px;font-family:Arial'>3.1. Define the Gemini model and Prompt</b>\n",
    "<p style = 'font-size:16px;font-family:Arial'>The following section defines the type of Gemini model used. Here we use <b>gemini-1.5-pro-latest</b></p>"
   ]
  },
  {
   "cell_type": "code",
   "execution_count": null,
   "id": "35f19b6e-294a-4667-b894-93ad62c07139",
   "metadata": {},
   "outputs": [],
   "source": [
    "from google.generativeai.types import HarmCategory, HarmBlockThreshold\n",
    "\n",
    "model = genai.GenerativeModel(\n",
    "    model_name = \"models/gemini-1.5-pro-latest\"\n",
    ")"
   ]
  },
  {
   "cell_type": "markdown",
   "id": "3d1a07c7-a9d7-49a7-a2ac-1e68c0a1282c",
   "metadata": {},
   "source": [
    "<hr style=\"height:2px;border:none;\">\n",
    "<b style = 'font-size:20px;font-family:Arial'>4. Classify Complaints</b>\n",
    "<p style = 'font-size:16px;font-family:Arial'>We'll use a sample of the data to classify complaints</p>"
   ]
  },
  {
   "cell_type": "code",
   "execution_count": null,
   "id": "cac31f37-2eab-410a-b1ec-9fda12f141c5",
   "metadata": {},
   "outputs": [],
   "source": [
    "tdf = DataFrame(in_schema('DEMO_ComplaintAnalysis', 'Consumer_Complaints'))\n",
    "tdf = tdf.assign(id = tdf.complaint_id).drop('complaint_id', axis = 1)\n",
    "tdf"
   ]
  },
  {
   "cell_type": "code",
   "execution_count": null,
   "id": "0174db51-edcc-42d2-b251-c3171648a0e2",
   "metadata": {
    "tags": []
   },
   "outputs": [],
   "source": [
    "# take sample of records to go quickly\n",
    "df = tdf.sample(50).to_pandas()\n",
    "df['Prediction'] = \"\"\n",
    "df['Reasoning with Chain of Thought'] = \"\"\n",
    "\n",
    "for i in tqdm(range(len(df))):\n",
    "    try:\n",
    "        prompt = f'''\n",
    "        User prompt:\n",
    "        The following is text from a review:\n",
    "\n",
    "        “{df['consumer_complaint_narrative'][i]}”\n",
    "\n",
    "        Give me reasoning as well as Category for this review\n",
    "\n",
    "        Instructions for Reasoning:\n",
    "        - Give me Reasoning in detail\n",
    "        - Only one sentence reasoning\n",
    "        Instructions for Category:\n",
    "        - The review falls into one of the following categories: Complaint, Non-Complaint\n",
    "        - Select one category from the given ones\n",
    "        - Important: Do not add any formating into the output. For example ** Complaint or **Complaint** refrain from such format\n",
    "\n",
    "        Final output comes in the format:\n",
    "        Category: \n",
    "        Reasoning: \n",
    "        '''\n",
    "        output = model.generate_content([prompt])\n",
    "        finish_reason = output.candidates[0].finish_reason\n",
    "\n",
    "        if finish_reason ==  protos.Candidate.FinishReason.STOP:\n",
    "            output = output.candidates[0].content.parts[0].text\n",
    "            # apply regex\n",
    "            category = re.search('Category:(.*)', output).group(1)\n",
    "            reasoning = re.search('Reasoning:(.*)', output).group(1)\n",
    "        else:\n",
    "            category = \"Non-Complaint\"\n",
    "            reasoning = \"\"\n",
    "\n",
    "        df['Prediction'][i] = category\n",
    "        df['Reasoning with Chain of Thought'][i] = reasoning\n",
    "    except:\n",
    "        pass"
   ]
  },
  {
   "cell_type": "code",
   "execution_count": null,
   "id": "e5977498-de10-4392-888d-5541dae6801f",
   "metadata": {},
   "outputs": [],
   "source": [
    "df['Prediction'] = df['Prediction'].apply(lambda x: x.strip())\n",
    "df['Reasoning with Chain of Thought'] = df['Reasoning with Chain of Thought'].apply(lambda x: x.strip())"
   ]
  },
  {
   "cell_type": "code",
   "execution_count": null,
   "id": "23626789-0317-4edb-856c-cb5ab05cb1fb",
   "metadata": {},
   "outputs": [],
   "source": [
    "df[['id', 'consumer_complaint_narrative', 'Prediction', 'Reasoning with Chain of Thought']].head(5)"
   ]
  },
  {
   "cell_type": "markdown",
   "id": "e8daa142-e48f-4caf-bd3a-4e85e93d2e6e",
   "metadata": {},
   "source": [
    "<hr style='height:1px;border:none;'>\n",
    "<p style = 'font-size:18px;font-family:Arial'><b>4.1 Consumer Complaints Prediction vs Occurrences</b></p>\n",
    "\n",
    "<p style = 'font-size:16px;font-family:Arial'>A graph illustrating the relationship between consumer complaints prediction and the number of occurrences. This visual representation helps identify trends, patterns, and areas for improvement, enabling data-driven decision making.</p>"
   ]
  },
  {
   "cell_type": "code",
   "execution_count": null,
   "id": "141400a2-a4a6-42ea-9f44-651534e474d6",
   "metadata": {},
   "outputs": [],
   "source": [
    "from collections import Counter\n",
    "data = Counter(df['Prediction'])\n",
    "\n",
    "# Convert Counter data to DataFrame\n",
    "viz_df = pd.DataFrame.from_dict(data, orient='index', columns=['Count']).reset_index()\n",
    "\n",
    "# Rename columns\n",
    "viz_df.columns = ['Prediction', 'Count']\n",
    "\n",
    "# Create bar graph using Plotly Express\n",
    "fig = px.bar(viz_df, x='Prediction', y='Count', color='Prediction',\n",
    "             labels={'Count': 'Number of Occurrences', 'Prediction': 'Prediction'})\n",
    "\n",
    "# Show the plot\n",
    "fig.show()"
   ]
  },
  {
   "cell_type": "markdown",
   "id": "5cc01cc7-269f-4136-a945-fcc149b04e37",
   "metadata": {},
   "source": [
    "<hr style='height:1px;border:none;'>\n",
    "<p style = 'font-size:18px;font-family:Arial'><b>4.2 Word Cloud for Consumer Complaints Prediction</b></p>\n",
    "\n",
    "<p style = 'font-size:16px;font-family:Arial'>A visual representation of <b>consumer complaints prediction</b>, highlighting the most frequent words and pain points in customer feedback. This word cloud helps identify trends, sentiment, and areas for improvement, enabling data-driven decision making.</p>"
   ]
  },
  {
   "cell_type": "code",
   "execution_count": null,
   "id": "aab01891-49c5-4530-a9ed-b516e7c5bad4",
   "metadata": {},
   "outputs": [],
   "source": [
    "def display_helper(msg):\n",
    "    return display(Markdown(\n",
    "        f\"\"\"<div class=\"alert alert-block alert-info\">\n",
    "        <p style = 'font-size:16px;font-family:Arial'><b>Note: </b>\n",
    "        <i>{msg}</i></p>\"\"\"))"
   ]
  },
  {
   "cell_type": "code",
   "execution_count": null,
   "id": "df58cb69-27f5-4878-a0d3-132c501a95e8",
   "metadata": {},
   "outputs": [],
   "source": [
    "complaint = df[df['Prediction'] == 'Complaint']\n",
    "complaint_text = ' '.join(complaint['consumer_complaint_narrative'])\n",
    "\n",
    "# Replace 'X' with blank space\n",
    "modified_string = complaint_text.replace('X', '')\n",
    "\n",
    "if len(modified_string):\n",
    "    wordcloud = WordCloud(width=800, height=400, background_color='white').generate(modified_string)\n",
    "\n",
    "    # Display the word cloud\n",
    "    plt.imshow(wordcloud, interpolation='bilinear')\n",
    "    plt.title(\"Complaints\")\n",
    "    plt.tight_layout()\n",
    "    plt.axis(\"off\")\n",
    "    plt.show()\n",
    "else:\n",
    "    display_helper(\"\"\"We included complaint and non-complaint options for completeness. \n",
    "    It's possible that our sample dataset doesn't contain any actual complaints.\"\"\")"
   ]
  },
  {
   "cell_type": "markdown",
   "id": "afe85dc8-e179-4f31-93db-1ba497724aa4",
   "metadata": {},
   "source": [
    "<hr style='height:1px;border:none;'>\n",
    "<p style = 'font-size:18px;font-family:Arial'><b>4.3 Word Cloud for Non-Complaints Prediction</b></p>\n",
    "\n",
    "<p style = 'font-size:16px;font-family:Arial'>A visual representation of <b>non-complaints prediction</b>, highlighting the most frequent words and positive sentiments in customer feedback. This word cloud helps identify trends, sentiment, and areas of satisfaction, enabling data-driven decision making.</p>"
   ]
  },
  {
   "cell_type": "code",
   "execution_count": null,
   "id": "fef35daa-b6a9-44a8-8562-a464d49d92f5",
   "metadata": {},
   "outputs": [],
   "source": [
    "non_complaint = df[df['Prediction'] == 'Non-Complaint']\n",
    "non_complaint_text = ' '.join(non_complaint['consumer_complaint_narrative'])\n",
    "\n",
    "# Replace 'X' with blank space\n",
    "modified_string = non_complaint_text.replace('X', '')\n",
    "\n",
    "if len(modified_string):\n",
    "    wordcloud = WordCloud(width=800, height=400, background_color='white').generate(modified_string)\n",
    "\n",
    "    # Display the word cloud\n",
    "    plt.imshow(wordcloud, interpolation='bilinear')\n",
    "    plt.title(\"Non-Complaints\")\n",
    "    plt.tight_layout()\n",
    "    plt.axis(\"off\")\n",
    "    plt.show()\n",
    "else:\n",
    "    display_helper(\"\"\"We included both complaint and non-complaint options for completeness. \n",
    "          But since this is a complaints dataset, we don't expect to see any <b>non-complaints</b>.\"\"\")"
   ]
  },
  {
   "cell_type": "markdown",
   "id": "8522801e-48fb-4c6d-af93-3538e13ea294",
   "metadata": {},
   "source": [
    "<p style = 'font-size:16px;font-family:Arial'>Now the results can be saved back to Vantage.</p>"
   ]
  },
  {
   "cell_type": "code",
   "execution_count": null,
   "id": "2b2d6203-9526-43ed-8b25-f5548376a10c",
   "metadata": {},
   "outputs": [],
   "source": [
    "copy_to_sql(df = df, table_name = 'reviews', if_exists = 'replace')"
   ]
  },
  {
   "cell_type": "markdown",
   "id": "d37c5d71-e309-496a-a0d9-5ac9b3567fe0",
   "metadata": {},
   "source": [
    "<hr style=\"height:2px;border:none;\">\n",
    "<b style = 'font-size:20px;font-family:Arial'>5. Cleanup</b>"
   ]
  },
  {
   "cell_type": "markdown",
   "id": "3265d0a0-2b15-4383-b657-c6329d547ece",
   "metadata": {},
   "source": [
    "<p style = 'font-size:18px;font-family:Arial'> <b>Databases and Tables </b></p>\n",
    "<p style = 'font-size:16px;font-family:Arial'>The following code will clean up tables and databases created above.</p>"
   ]
  },
  {
   "cell_type": "code",
   "execution_count": null,
   "id": "86457ca1-64f1-4e0d-8c82-139333c6089e",
   "metadata": {},
   "outputs": [],
   "source": [
    "%run -i ../run_procedure.py \"call remove_data('DEMO_ComplaintAnalysis');\"        # Takes 10 seconds"
   ]
  },
  {
   "cell_type": "code",
   "execution_count": null,
   "id": "358f56a0-ad97-4317-ab4c-88be00b8d179",
   "metadata": {
    "tags": []
   },
   "outputs": [],
   "source": [
    "remove_context()"
   ]
  },
  {
   "cell_type": "markdown",
   "id": "b82f52a3-2aad-44d8-b4dd-606249c85962",
   "metadata": {},
   "source": [
    "<hr style=\"height:1px;border:none;\">\n",
    "<b style = 'font-size:18px;font-family:Arial'>Dataset:</b>\n",
    "<br>\n",
    "<br>\n",
    "<p style='font-size: 16px; font-family: Arial;'>The dataset is sourced from <a href='https://www.consumerfinance.gov/data-research/consumer-complaints/'>Consumer Financial Protection Bureau</a></p>"
   ]
  },
  {
   "cell_type": "markdown",
   "id": "ffa325e2-7b1b-49c1-a932-e75f71bf002d",
   "metadata": {},
   "source": [
    "<footer style=\"padding-bottom:35px; border-bottom:3px solid #91A0Ab\">\n",
    "    <div style=\"float:left;margin-top:14px\">ClearScape Analytics™</div>\n",
    "    <div style=\"float:right;\">\n",
    "        <div style=\"float:left; margin-top:14px\">\n",
    "            Copyright © Teradata Corporation - 2024. All Rights Reserved\n",
    "        </div>\n",
    "    </div>\n",
    "</footer>"
   ]
  }
 ],
 "metadata": {
  "kernelspec": {
   "display_name": "Python 3 (ipykernel)",
   "language": "python",
   "name": "python3"
  },
  "language_info": {
   "codemirror_mode": {
    "name": "ipython",
    "version": 3
   },
   "file_extension": ".py",
   "mimetype": "text/x-python",
   "name": "python",
   "nbconvert_exporter": "python",
   "pygments_lexer": "ipython3",
   "version": "3.9.10"
  }
 },
 "nbformat": 4,
 "nbformat_minor": 5
}
