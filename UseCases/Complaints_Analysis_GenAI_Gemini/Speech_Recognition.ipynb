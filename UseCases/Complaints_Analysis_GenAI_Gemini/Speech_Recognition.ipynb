{
 "cells": [
  {
   "cell_type": "markdown",
   "id": "5c49e3cf-e89a-40b0-8e6a-414d8ec337a6",
   "metadata": {},
   "source": [
    "<header>\n",
    "   <p  style='font-size:36px;font-family:Arial; color:#F0F0F0; background-color: #00233c; padding-left: 20pt; padding-top: 20pt;padding-bottom: 10pt; padding-right: 20pt;'>\n",
    "       Complaints Analysis using Vantage and Google Gemini\n",
    "  <br>\n",
    "       <img id=\"teradata-logo\" src=\"https://storage.googleapis.com/clearscape_analytics_demo_data/DEMO_Logo/teradata.svg\" alt=\"Teradata\" style=\"width: 125px; height: auto; margin-top: 20pt;\">\n",
    "    </p>\n",
    "</header>"
   ]
  },
  {
   "cell_type": "markdown",
   "id": "f009bba8-cfaa-4910-a5fe-c559c7d92ae8",
   "metadata": {},
   "source": [
    "<p style = 'font-size:20px;font-family:Arial;color:#00233c'><b>Introduction:</b></p>\n",
    "\n",
    "<p style='font-size:16px;font-family:Arial;color:#00233C'>Speech Recognition using <b>Teradata Vantage</b> on Google and <b>Google Gemini LLM model</b> is a cutting-edge technology that leverages the power of cloud computing and advanced algorithms to accurately recognize and transcribe spoken words. This innovative solution integrates the capabilities of Teradata Vantage, Google Cloud, and Gemini to provide a robust and efficient speech recognition system.</p>\n",
    "\n",
    "<p style='font-size:16px;font-family:Arial;color:#00233C'><b>Key Features:</b></p>\n",
    "\n",
    "<ol style='font-size:16px;font-family:Arial;color:#00233C'>\n",
    "    <li><b>Cloud-Based Architecture</b>: Teradata Vantage provides a scalable and secure cloud infrastructure, allowing for seamless integration with Google Cloud and Gemini. This architecture ensures high availability, reliability, and flexibility for speech recognition applications.</li>\n",
    "    <li><b>Advanced Algorithms</b>: The system employs sophisticated machine learning algorithms, leveraging Google's expertise in AI and machine learning. These algorithms are trained on vast amounts of data, enabling the system to recognize speech patterns, nuances, and variations with high accuracy.</li>\n",
    "    <li><b>Real-Time Transcription</b>: The speech recognition system can transcribe spoken words in real-time, making it ideal for applications such as virtual assistants, customer service chatbots, and live captioning.</li>\n",
    "    <li><b>Multi-Language Support</b>: The system supports recognition of multiple languages, catering to diverse user bases and global applications.</li>\n",
    "    <li><b>High Accuracy</b>: The integration of Teradata Vantage, Google Cloud, and Gemini ensures high accuracy in speech recognition, even in noisy environments or with varying speech patterns.</li>\n",
    "    <li><b>Scalability</b>: The cloud-based architecture allows for easy scalability, making it suitable for large-scale deployments and high-volume applications.</li>\n",
    "    <li><b>Security and Compliance</b>: The system adheres to stringent security and compliance standards, ensuring the protection of sensitive data and maintaining regulatory compliance.</li>\n",
    "    <li><b>Integration with Gemini</b>: The integration with Gemini provides additional features such as sentiment analysis, entity recognition, and topic modeling, enhancing the overall capabilities of the speech recognition system.</li>\n",
    "    <li><b>Customization</b>: The system allows for customization to meet specific business needs, enabling users to fine-tune the speech recognition engine for their unique applications.</li>\n",
    "    <li><b>Cost-Effective</b>: The cloud-based model provides a cost-effective solution, eliminating the need for on-premise infrastructure and reducing operational costs.</li>\n",
    "</ol>\n",
    "\n",
    "<p style='font-size:16px;font-family:Arial;color:#00233C'>By combining the strengths of <b>Teradata Vantage</b>, on Google and <b>Gemini</b>, this speech recognition system offers a powerful and versatile solution for a wide range of applications, from customer service to healthcare and beyond.</p>\n",
    "\n",
    "<p style = 'font-size:16px;font-family:Arial;color:#00233c'><b>Steps in the analysis:</b></p>\n",
    "<ol style = 'font-size:16px;font-family:Arial;color:#00233C'>\n",
    "    <li>Configuring the environment</li>\n",
    "    <li>Connect to Vantage</li>\n",
    "    <li>Setup API key for Google Gemini</li>\n",
    "    <li>Define the Gemini model and Prompt</li>\n",
    "    <li>Speech Recognition</li>\n",
    "    <li>Cleanup</li>\n",
    "</ol>"
   ]
  },
  {
   "cell_type": "markdown",
   "id": "4292dcda-26f7-4a06-a471-19cd09b32d00",
   "metadata": {},
   "source": [
    "<hr style='height:2px;border:none;background-color:#00233C;'>\n",
    "<b style = 'font-size:20px;font-family:Arial;color:#00233c'>1. Configuring the environment</b>\n",
    "\n",
    "<p style = 'font-size:18px;font-family:Arial;color:#00233c'><b>1.1 Install the required libraries</b></p>"
   ]
  },
  {
   "cell_type": "code",
   "execution_count": null,
   "id": "3c2f8dba-413c-4735-8666-12f80c22c032",
   "metadata": {
    "tags": []
   },
   "outputs": [],
   "source": [
    "%%capture\n",
    "!pip install -r requirements.txt --quiet"
   ]
  },
  {
   "cell_type": "markdown",
   "id": "3c0fa709-4950-440a-8710-98374f7c0ced",
   "metadata": {},
   "source": [
    "<div class=\"alert alert-block alert-info\">\n",
    "<p style = 'font-size:16px;font-family:Arial;color:#00233C'><b>Note: </b><i>Please restart the kernel after executing these two lines. The simplest way to restart the Kernel is by typing zero zero: <b> 0 0</b></i></p>"
   ]
  },
  {
   "cell_type": "markdown",
   "id": "c233ee65-c69c-4ea4-8964-d4b53acdb5cd",
   "metadata": {},
   "source": [
    "<hr style='height:1px;border:none;background-color:#00233C;'>\n",
    "\n",
    "<p style = 'font-size:18px;font-family:Arial;color:#00233c'><b>1.2 Import the required libraries</b></p>\n",
    "\n",
    "<p style = 'font-size:16px;font-family:Arial;color:#00233C'>Here, we import the required libraries, set environment variables and environment paths (if required).</p>"
   ]
  },
  {
   "cell_type": "code",
   "execution_count": null,
   "id": "39e495ff-d24d-4f26-84d3-9192ae149dc1",
   "metadata": {},
   "outputs": [],
   "source": [
    "import google.generativeai as genai\n",
    "from IPython.display import Markdown, Audio\n",
    "from teradataml import *\n",
    "import getpass\n",
    "\n",
    "display.max_rows = 5"
   ]
  },
  {
   "cell_type": "markdown",
   "id": "3fdd09db-eca3-4970-9bf5-f8d22da9d115",
   "metadata": {},
   "source": [
    "<hr style=\"height:2px;border:none;background-color:#00233C;\">\n",
    "<b style = 'font-size:20px;font-family:Arial;color:#00233C'>2. Connect to Vantage</b>\n",
    "<p style = 'font-size:18px;font-family:Arial;color:#00233c'><b>2.1 Connect to Vantage</b></p>\n",
    "<p style = 'font-size:16px;font-family:Arial;color:#00233C'>We will be prompted to provide the password. We will enter the password, press the Enter key, and then use the down arrow to go to the next cell.</p>"
   ]
  },
  {
   "cell_type": "code",
   "execution_count": null,
   "id": "5f75ad0d-6e49-49b6-b580-85bb00d5c608",
   "metadata": {},
   "outputs": [],
   "source": [
    "%run -i ../startup.ipynb\n",
    "eng = create_context(host = 'host.docker.internal', username='demo_user', password = password)\n",
    "print(eng)"
   ]
  },
  {
   "cell_type": "markdown",
   "id": "b5e8fae0-5b96-41df-88a7-0f8b6a36362c",
   "metadata": {},
   "source": [
    "<p style = 'font-size:16px;font-family:Arial;color:#00233C'>Begin running steps with Shift + Enter keys. </p>"
   ]
  },
  {
   "cell_type": "markdown",
   "id": "b562b3e9-d58c-4220-b23f-3d22998cf5e0",
   "metadata": {},
   "source": [
    "<hr style='height:1px;border:none;background-color:#00233C;'>\n",
    "\n",
    "<p style = 'font-size:18px;font-family:Arial;color:#00233c'><b>2.2 Getting Data for This Demo</b></p>\n",
    "<p style = 'font-size:16px;font-family:Arial;color:#00233C'>We have provided data for this demo on cloud storage. We have the option of either running the demo using foreign tables to access the data without using any storage on our environment or downloading the data to local storage, which may yield somewhat faster execution. However, we need to consider available storage. There are two statements in the following cell, and one is commented out. We may switch which mode we choose by changing the comment string.</p>"
   ]
  },
  {
   "cell_type": "code",
   "execution_count": null,
   "id": "925a8555-e6fa-4eeb-bbd4-175f5083e9c5",
   "metadata": {},
   "outputs": [],
   "source": [
    "# %run -i ../run_procedure.py \"call get_data('DEMO_ComplaintAnalysis_cloud');\"        # Takes 1 minute\n",
    "%run -i ../run_procedure.py \"call get_data('DEMO_ComplaintAnalysis_local');\"        # Takes 2 minutes"
   ]
  },
  {
   "cell_type": "markdown",
   "id": "5a57f400-6d82-4f0c-b9d5-d8048bf48a31",
   "metadata": {},
   "source": [
    "<hr style=\"height:2px;border:none;background-color:#00233C;\">\n",
    "<b style = 'font-size:20px;font-family:Arial;color:#00233C'>3. Setup API key for Google Gemini</b>\n",
    "<p style = 'font-size:16px;font-family:Arial;color:#00233C'>Please enter the Google API Key, if you don't have one, please get it from <a href = 'https://ai.google.dev/gemini-api/docs/api-key'>here</a></p>"
   ]
  },
  {
   "cell_type": "code",
   "execution_count": null,
   "id": "d0f2a8a6-5a5b-483d-81e7-46682c764bec",
   "metadata": {},
   "outputs": [],
   "source": [
    "GOOGLE_API_KEY = getpass.getpass(prompt = 'Please enter GOOGLE_API_KEY: ')\n",
    "genai.configure(api_key = GOOGLE_API_KEY)"
   ]
  },
  {
   "cell_type": "markdown",
   "id": "3d1b1d2e-3d79-4e79-851d-a1d3a342777c",
   "metadata": {},
   "source": [
    "<hr style=\"height:2px;border:none;background-color:#00233C;\">\n",
    "<b style = 'font-size:20px;font-family:Arial;color:#00233C'>4. Define the Gemini model and Prompt</b>\n",
    "<p style = 'font-size:16px;font-family:Arial;color:#00233C'>The following section defines the type of Gemini model used. Here we use <b>gemini-1.5-pro-latest</b></p>"
   ]
  },
  {
   "cell_type": "code",
   "execution_count": null,
   "id": "ef70dda8-0eb7-4e5a-b610-d39d5d4997cb",
   "metadata": {},
   "outputs": [],
   "source": [
    "from google.generativeai.types import HarmCategory, HarmBlockThreshold\n",
    "\n",
    "model = genai.GenerativeModel(\n",
    "    model_name = \"models/gemini-1.5-pro-latest\", \n",
    "    safety_settings = {\n",
    "        HarmCategory.HARM_CATEGORY_HATE_SPEECH: HarmBlockThreshold.BLOCK_LOW_AND_ABOVE,\n",
    "        HarmCategory.HARM_CATEGORY_HARASSMENT: HarmBlockThreshold.BLOCK_LOW_AND_ABOVE,\n",
    "        HarmCategory.HARM_CATEGORY_SEXUALLY_EXPLICIT: HarmBlockThreshold.BLOCK_LOW_AND_ABOVE\n",
    "    }\n",
    ")"
   ]
  },
  {
   "cell_type": "code",
   "execution_count": null,
   "id": "35ab2ca9-ca57-4ed7-b1bf-d4b168a43327",
   "metadata": {},
   "outputs": [],
   "source": [
    "prompt = '''\n",
    "    Analyze the given review to extract relevant information and categorize it accordingly. Follow these steps, providing reasoning for each task:\n",
    "\n",
    "    Complaint Categorization: Determine whether the review is a complaint or a non-complaint. A complaint is typically a statement expressing dissatisfaction or grievance, while a non-complaint does not contain such elements. Explain why you categorized it this way.\n",
    "\n",
    "    Topic Classification: If the review is a complaint, identify the most appropriate topic from the following list:\n",
    "        Mortgage Application\n",
    "        Payment Trouble\n",
    "        Mortgage Closing\n",
    "        Report Inaccuracy\n",
    "        Payment Struggle\n",
    "        Select only one topic based on the central issue or subject of the complaint. Explain the reasoning behind your choice of topic.\n",
    "\n",
    "    Sentiment Analysis: Determine the sentiment of the review, which can be:\n",
    "        Positive\n",
    "        Negative\n",
    "        Neutral\n",
    "        Sentiment refers to the emotional tone or attitude conveyed in the review. Describe the reasoning behind the sentiment you identified.\n",
    "\n",
    "    Summarization: Summarize the review in one sentence. A good summary should capture the essence of the review, highlighting the main point or issue. Explain the key elements that formed the basis of your summary.\n",
    "\n",
    "    Return your results in the following format. Only keep the headings in bold:\n",
    "\n",
    "    #### Complaint:\n",
    "    - [Provide the actual complaint from the audio file here.]\n",
    "\n",
    "    #### Classification:\n",
    "    - [Specify whether it's a Complaint or Non-Complaint]\n",
    "      - **Reasoning with Chain-of-Thought**: [Explain the reasoning behind the classification.]\n",
    "\n",
    "    #### Topic:\n",
    "    - [Specify the relevant topic]\n",
    "      - **Reasoning with Chain-of-Thought**: [Provide additional context or reasoning related to the topic.]\n",
    "\n",
    "    #### Sentiment:\n",
    "    - [Specify the sentiment (e.g., Positive, Negative, Neutral)]\n",
    "      - **Reasoning with Chain-of-Thought**: [Explain the rationale for the sentiment.]\n",
    "\n",
    "    #### Summary:\n",
    "    - [Summarize the complaint in a concise sentence]\n",
    "      - **Reasoning with Chain-of-Thought**: [Include any relevant reasoning or context for the summary.]\n",
    "'''"
   ]
  },
  {
   "cell_type": "markdown",
   "id": "afed5b12-238b-4342-b2e5-09f339e61708",
   "metadata": {},
   "source": [
    "<p style = 'font-size:16px;font-family:Arial;color:#00233C'>The following cell uploads the audio file to Google Gemini.</p>"
   ]
  },
  {
   "cell_type": "code",
   "execution_count": null,
   "id": "96534c61-3f4c-479c-8ddc-eb9d6617eee9",
   "metadata": {
    "tags": []
   },
   "outputs": [],
   "source": [
    "sample_file = genai.upload_file(path = './audio_files/audio1.mp3', display_name = 'audio1.mp3')\n",
    "print(f\"Uploaded file '{sample_file.name}' as: {sample_file.uri}\")\n",
    "\n",
    "file = genai.get_file(name = sample_file.name)\n",
    "print(f\"Retrieved file '{file.display_name}' as: {sample_file.uri}\")"
   ]
  },
  {
   "cell_type": "markdown",
   "id": "a0722f06-3825-49f2-8219-e3e4f3a3da4d",
   "metadata": {},
   "source": [
    "<hr style=\"height:2px;border:none;background-color:#00233C;\">\n",
    "<b style = 'font-size:20px;font-family:Arial;color:#00233C'>5. Speech Recognition</b>\n",
    "<p style = 'font-size:16px;font-family:Arial;color:#00233C'>The following section calls Google Gemini with the above prompt and analyzes the audio file that we uploaded.</p>\n",
    "\n",
    "<p style='font-size:16px;font-family:Arial;color:#00233C'>Speech Recognition using Large Language Models (LLMs) is a revolutionary technology that leverages the power of artificial intelligence to accurately recognize and transcribe spoken words. By harnessing the capabilities of LLMs, this system can learn from vast amounts of data, adapt to various speech patterns, and improve its accuracy over time. With its ability to recognize speech in real-time, this technology has numerous applications, including virtual assistants, customer service chatbots, and live captioning, making it an essential tool for enhancing user experiences and improving communication.</p>"
   ]
  },
  {
   "cell_type": "code",
   "execution_count": null,
   "id": "94b08788-d41b-4297-b8d3-5f8429021416",
   "metadata": {
    "tags": []
   },
   "outputs": [],
   "source": [
    "Audio(\"./audio_files/audio1.mp3\")"
   ]
  },
  {
   "cell_type": "code",
   "execution_count": null,
   "id": "10073c1a-2434-4eac-b9ca-6e18ae8a8e64",
   "metadata": {
    "tags": []
   },
   "outputs": [],
   "source": [
    "response = model.generate_content([prompt, sample_file])\n",
    "Markdown(response.text)"
   ]
  },
  {
   "cell_type": "markdown",
   "id": "128480fd-a514-422f-9cd4-c3230f2f5856",
   "metadata": {},
   "source": [
    "<hr style=\"height:2px;border:none;background-color:#00233C;\">\n",
    "<b style = 'font-size:20px;font-family:Arial;color:#00233C'>6. Cleanup</b>\n",
    "\n",
    "<p style = 'font-size:16px;font-family:Arial;color:#00233C'>The following code will clean up the audio files uploaded to Google Gemini.</p>"
   ]
  },
  {
   "cell_type": "code",
   "execution_count": null,
   "id": "9175c4ea-8923-487a-a760-819f6d9a1a2b",
   "metadata": {},
   "outputs": [],
   "source": [
    "genai.delete_file(sample_file.name)\n",
    "print(f'Deleted {file.display_name}.')"
   ]
  },
  {
   "cell_type": "markdown",
   "id": "7cc8a5e4-f87d-4b34-bd26-00cf808b1e21",
   "metadata": {},
   "source": [
    "<p style = 'font-size:18px;font-family:Arial;color:#00233C'> <b>Databases and Tables </b></p>\n",
    "<p style = 'font-size:16px;font-family:Arial;color:#00233C'>The following code will clean up tables and databases created above.</p>"
   ]
  },
  {
   "cell_type": "code",
   "execution_count": null,
   "id": "7d1c6c16-5627-4ff2-a0fa-dace8ef48e79",
   "metadata": {},
   "outputs": [],
   "source": [
    "%run -i ../run_procedure.py \"call remove_data('DEMO_ComplaintAnalysis');\"        # Takes 10 seconds"
   ]
  },
  {
   "cell_type": "code",
   "execution_count": null,
   "id": "ef7255f3-2d27-4b26-b391-149e79ee0d50",
   "metadata": {},
   "outputs": [],
   "source": [
    "remove_context()"
   ]
  },
  {
   "cell_type": "markdown",
   "id": "50c05788-5048-42fd-8327-ae8e1c52e114",
   "metadata": {},
   "source": [
    "<footer style=\"padding-bottom:35px; background:#f9f9f9; border-bottom:3px solid #00233C\">\n",
    "    <div style=\"float:left;margin-top:14px\">ClearScape Analytics™</div>\n",
    "    <div style=\"float:right;\">\n",
    "        <div style=\"float:left; margin-top:14px\">\n",
    "            Copyright © Teradata Corporation - 2024. All Rights Reserved\n",
    "        </div>\n",
    "    </div>\n",
    "</footer>"
   ]
  }
 ],
 "metadata": {
  "kernelspec": {
   "display_name": "Python 3 (ipykernel)",
   "language": "python",
   "name": "python3"
  },
  "language_info": {
   "codemirror_mode": {
    "name": "ipython",
    "version": 3
   },
   "file_extension": ".py",
   "mimetype": "text/x-python",
   "name": "python",
   "nbconvert_exporter": "python",
   "pygments_lexer": "ipython3",
   "version": "3.9.10"
  }
 },
 "nbformat": 4,
 "nbformat_minor": 5
}
