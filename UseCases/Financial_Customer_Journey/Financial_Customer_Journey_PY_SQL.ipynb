{
 "cells": [
  {
   "cell_type": "markdown",
   "metadata": {},
   "source": [
    "<header>\n",
    "   <p  style='font-size:36px;font-family:Arial; color:#F0F0F0; background-color: #00233c; padding-left: 20pt; padding-top: 20pt;padding-bottom: 10pt; padding-right: 20pt;'>\n",
    "       Financial Services Customer Journey\n",
    "  <br>\n",
    "       <img id=\"teradata-logo\" src=\"https://storage.googleapis.com/clearscape_analytics_demo_data/DEMO_Logo/teradata.svg\" alt=\"Teradata\" style=\"width: 125px; height: auto; margin-top: 20pt;\">\n",
    "    </p>\n",
    "</header>"
   ]
  },
  {
   "cell_type": "markdown",
   "metadata": {},
   "source": [
    "<p style = 'font-size:20px;font-family:Arial;color:#00233C'><b>Introduction </b></p>\n",
    "\n",
    "<p style = 'font-size:16px;font-family:Arial;color:#00233C'>In today's business landscape, customers engage with numerous in person and digital platforms, including various company websites and online interfaces. As a result, the experiences offered by firms have become increasingly critical. However, many enterprises struggle to consider all aspects of customers’ journeys at once. Fortunately, Teradata offers innovative solutions in Vantage and ClearScape Analytics to address these challenges. Teradata’s capabilities provide impactful strategies that companies can utilize to overcome common obstacles and enhance the digital experience.</p>\n",
    "<p style = 'font-size:16px;font-family:Arial;color:#00233C'>Customer journeys are imperative to consider in many industries, especially financial based scenarios. In this demo, we will consider the important interactions customers have with a retail bank. In Vantage, users can discover new insights across various steps in a customer journey. With these functionalities, users can enhance the financial services customer journey to increase customer acquisition and adoption. \n",
    "<p>\n",
    "\n",
    "<p style = 'font-size:18px;font-family:Arial;color:#00233C'><b>Business Value</b>\n",
    "<p style = 'font-size:16px;font-family:Arial;color:#00233C'>Customer Acquisition\n",
    "<li style = 'font-size:16px;font-family:Arial;color:#00233C'>Find new customers</li>\n",
    "<li style = 'font-size:16px;font-family:Arial;color:#00233C'>Measure Marketing Attribution</li>\n",
    "<li style = 'font-size:16px;font-family:Arial;color:#00233C'>Determine how to increase ROI and maximize marketing effectiveness, all while minimizing the time to conversion.</li></p>\n",
    "<p style = 'font-size:16px;font-family:Arial;color:#00233C'>Customer Adoption\n",
    "<li style = 'font-size:16px;font-family:Arial;color:#00233C'>Identify what leads customers to additional high-end products such as wealth management accounts</li>\n",
    "<li style = 'font-size:16px;font-family:Arial;color:#00233C'>Analyze all online and offline touchpoints in one place (e.g. in-branch interactions with tellers, online banking, email, call center logs)</li>\n",
    "<li style = 'font-size:16px;font-family:Arial;color:#00233C'>Analyze promotions and advertising networks by identifying which produce the most traction across channels</li>\n",
    "    <li style = 'font-size:16px;font-family:Arial;color:#00233C'>Aggregate data sources</li></p>\n",
    "    \n",
    "<p style = 'font-size:18px;font-family:Arial;color:#00233C'><b>Why Vantage?</b></p>\n",
    "<p style = 'font-size:16px;font-family:Arial;color:#00233C'>Vantage has unique analytic capabilities for understanding customer and user behavior over time. In fact, these analytic techniques can be applied at massive scale to derive more accurate results. Then, these results can be combined with other analytics to create more advanced and accurate prediction models. Vantage also allows organizations to scale these models horizontally, by training segmented models per region, user type, etc., or vertically, by combining data from millions or billions of interactions. All of this can be deployed operationally to understand and predict actions in real-time.</p>\n",
    "\n",
    "\n",
    "<p style = 'font-size:16px;font-family:Arial;color:#00233C'>We will see later that the insights we find are coming from these various channels both online AND offline.</p>"
   ]
  },
  {
   "cell_type": "markdown",
   "metadata": {},
   "source": [
    "<hr style=\"height:2px;border:none;background-color:#00233C;\">\n",
    "<p style = 'font-size:20px;font-family:Arial;color:#00233C'><b>1. Connect to Vantage</b></p>\n",
    "<p style = 'font-size:16px;font-family:Arial;color:#00233C'>We start by importing the required libraries and set environment variables and environment paths (if required).</p>"
   ]
  },
  {
   "cell_type": "code",
   "execution_count": null,
   "metadata": {},
   "outputs": [],
   "source": [
    "%%capture\n",
    "# !pip install --upgrade tdnpathviz"
   ]
  },
  {
   "cell_type": "markdown",
   "metadata": {},
   "source": [
    "<div class=\"alert alert-block alert-info\">\n",
    "    <p style = 'font-size:16px;font-family:Arial;color:#00233C'><i><b>NOTE:</b> The above statement may need to be uncommented if you run the notebooks on a platform other than ClearScape Analytics Experience that does not have the libraries installed. If you uncomment those installs, be sure to restart the kernel after executing those lines to bring the installed libraries into memory. The simplest way to restart the Kernel is by typing zero zero: <b> 0 0</b></i></p>\n",
    "</div>\n",
    "<p style = 'font-size:16px;font-family:Arial;color:#00233C'>We import the libraries mentioned in the below cell.</p>"
   ]
  },
  {
   "cell_type": "code",
   "execution_count": null,
   "metadata": {},
   "outputs": [],
   "source": [
    "# Standard libraries\n",
    "import time\n",
    "import getpass\n",
    "import warnings\n",
    "\n",
    "# Third-party libraries\n",
    "import matplotlib.pyplot as plt\n",
    "import seaborn as sns\n",
    "import plotly.express as px\n",
    "\n",
    "# Teradata libraries\n",
    "from teradataml import *\n",
    "display.max_rows = 5\n",
    "\n",
    "# Suppress warnings\n",
    "warnings.filterwarnings('ignore')"
   ]
  },
  {
   "cell_type": "markdown",
   "metadata": {},
   "source": [
    "\n",
    "<p style = 'font-size:16px;font-family:Arial;color:#00233C'>We will be prompted to provide the password. We will enter the password, press the Enter key, and then use the down arrow to go to the next cell. Begin running steps with Shift + Enter keys.</p>"
   ]
  },
  {
   "cell_type": "code",
   "execution_count": null,
   "metadata": {},
   "outputs": [],
   "source": [
    "%run -i ../startup.ipynb\n",
    "eng = create_context(host = 'host.docker.internal', username='demo_user', password = password)\n",
    "print(eng)"
   ]
  },
  {
   "cell_type": "code",
   "execution_count": null,
   "metadata": {},
   "outputs": [],
   "source": [
    "%%capture\n",
    "execute_sql('''SET query_band='DEMO=FSCustomerJourney_SQLPY.ipynb;' UPDATE FOR SESSION;''')"
   ]
  },
  {
   "cell_type": "markdown",
   "metadata": {},
   "source": [
    "<hr style=\"height:2px;border:none;background-color:#00233C;\">\n",
    "<p style = 'font-size:20px;font-family:Arial;color:#00233C'><b>2. Getting Data for This Demo</b></p>\n",
    "<p style = 'font-size:16px;font-family:Arial;color:#00233C'>We have provided data for this demo on cloud storage. We have the option of either running the demo using foreign tables to access the data without using any storage on our environment or downloading the data to local storage, which may yield somewhat faster execution. However, we need to consider available storage. There are two statements in the following cell, and one is commented out. We may switch which mode we choose by changing the comment string.</p>\n"
   ]
  },
  {
   "cell_type": "code",
   "execution_count": null,
   "metadata": {},
   "outputs": [],
   "source": [
    "%run -i ../run_procedure.py \"call get_data('DEMO_Financial_cloud');\"    # Takes about 3 minutes\n",
    "# %run -i ../run_procedure.py \"call get_data('DEMO_Financial_local');\"    # Takes about 7 minutes"
   ]
  },
  {
   "cell_type": "markdown",
   "metadata": {},
   "source": [
    "<p style = 'font-size:16px;font-family:Arial;color:#00233C'>Optional step – We should execute the below step only if we want to see the status of databases/tables created and space used.</p>\n"
   ]
  },
  {
   "cell_type": "code",
   "execution_count": null,
   "metadata": {},
   "outputs": [],
   "source": [
    "%run -i ../run_procedure.py \"call space_report();\""
   ]
  },
  {
   "cell_type": "markdown",
   "metadata": {},
   "source": [
    "<hr style=\"height:2px;border:none;background-color:#00233C;\">\n",
    "<p style = 'font-size:20px;font-family:Arial;color:#00233C'><b>3. Data Exploration.</b></p>\n",
    "<p style = 'font-size:16px;font-family:Arial;color:#00233C'>We start by looking at the raw data and other details of the dataset.</p>\n",
    "<p style = 'font-size:16px;font-family:Arial;color:#00233C'><b><i>*Please scroll down to the end of the notebook for detailed column descriptions of the dataset.</i></b></p>"
   ]
  },
  {
   "cell_type": "code",
   "execution_count": null,
   "metadata": {},
   "outputs": [],
   "source": [
    "Custdf = DataFrame(in_schema('DEMO_Financial', 'Customer_journey'))\n",
    "Custdf"
   ]
  },
  {
   "cell_type": "code",
   "execution_count": null,
   "metadata": {},
   "outputs": [],
   "source": [
    "Custdf.shape"
   ]
  },
  {
   "cell_type": "markdown",
   "metadata": {},
   "source": [
    "<p style = 'font-size:16px;font-family:Arial;color:#00233C'>The customer journey dataset contains 25 columns and 628723 rows. </p>"
   ]
  },
  {
   "cell_type": "code",
   "execution_count": null,
   "metadata": {},
   "outputs": [],
   "source": [
    "Custdf.info()"
   ]
  },
  {
   "cell_type": "markdown",
   "metadata": {},
   "source": [
    "<p style = 'font-size:16px;font-family:Arial;color:#00233C'>The info method of the dataframe gives the names and datatypes of all columns in the dataset. </p>"
   ]
  },
  {
   "cell_type": "markdown",
   "metadata": {},
   "source": [
    "<hr style=\"height:2px;border:none;background-color:#00233C;\">\n",
    "<p style = 'font-size:20px;font-family:Arial;color:#00233C'><b>4. Customer Acquisition</b></p>\n",
    "\n",
    "<p style = 'font-size:16px;font-family:Arial;color:#00233C'>This is the first part of our journey. We will focus on the opening of a credit card account. Our goal is to figure out where our customers are coming from and how we can maximize our marketing return on investment (ROI). Attribution modeling describes various methods we use as marketers to properly break up and assign conversion credits to various different channels in case users take multiple website visits, via multiple channels, to arrive at the ultimate conversion behavior. We will use the powerful marketing Attribution function in Vantage to look at the multi-channel data.</p>\n",
    "\n",
    "<p style = 'font-size:16px;font-family:Arial;color:#00233C'>This will allow us to quantify the marketing effectiveness of both our promotions and channels (online and offline). We can analyze which promotions are most effective. Using this information, we can then collectively optimize marketing spend and placement.</p>"
   ]
  },
  {
   "cell_type": "markdown",
   "metadata": {},
   "source": [
    "<p style = 'font-size:16px;font-family:Arial;color:#00233C'>We will leverage Vantage native Attribution function and consider the following methods available in Attribution:\n",
    "<ul style = 'font-size:16px;font-family:Arial;color:#00233C'>\n",
    "    <li>Uniform: Conversion event is attributed uniformly to preceding attributable events.</li>\n",
    "    <li>First Click: Conversion event is attributed entirely to first attributable event.</li>\n",
    "    <li>Last Click: Conversion event is attributed entirely to most recent attributable event</li> \n",
    "    <li>Exponential:  Conversion event is attributed exponentially to preceding attributable events (the more recent the event, the higher the attribution).</li>\n",
    " </ul>\n",
    "</p>\n",
    "\n",
    "<p style = 'font-size:16px;font-family:Arial;color:#00233C'>The function takes data and parameters from multiple tables and outputs attributions. Please refer to Teradata Vantage™ - Analytics Database Analytic Functions documentation for more on Attribution function.</p>\n",
    "\n",
    "<p style = 'font-size:16px;font-family:Arial;color:#00233C'>Attribution Input :\n",
    "<ol style = 'font-size:14px;font-family:Arial;color:#00233C'>\n",
    "<li style = 'font-size:14px;font-family:Arial;color:#00233C'>Input tables (maximum of five) (Contain data for computing attributions).</li>\n",
    "<li style = 'font-size:14px;font-family:Arial;color:#00233C'>ConversionEventTable (Contains conversion events).</li>\n",
    "<li style = 'font-size:14px;font-family:Arial;color:#00233C'>FirstModelTable (Defines type and distributions of model - we'll create one table per model)</li></ol>\n",
    "</p>\n",
    "\n",
    "<p style = 'font-size:16px;font-family:Arial;color:#00233C'>Attribution Syntax Elements:\n",
    "<ol style = 'font-size:14px;font-family:Arial;color:#00233C'>\n",
    "<li style = 'font-size:14px;font-family:Arial;color:#00233C'>EventColumn specifies the name of the input column that contains the events.</li>\n",
    "<li style = 'font-size:14px;font-family:Arial;color:#00233C'>TimeColumn specifies the name of the input column that contains the timestamps of the  events.</li>\n",
    "<li style = 'font-size:14px;font-family:Arial;color:#00233C'>WindowSize specifies how to determine the maximum window size for the attribution calculation</li></ol>\n",
    "    </p>\n",
    "\n",
    "<p style = 'font-size:16px;font-family:Arial;color:#00233C'>We will create the model and conversion tables that allow us to send large numbers of parameters programmatically to the Attribution analytic function.</p>\n",
    "\n",
    "<p style = 'font-size:14px;font-family:Arial;color:#00233C'><b><i>Note: We are using SQLs to create the needed tables and insert the required values in these tables</i></b></p>"
   ]
  },
  {
   "cell_type": "code",
   "execution_count": null,
   "metadata": {},
   "outputs": [],
   "source": [
    "qry = '''\n",
    "CREATE MULTISET TABLE FSCJ_conversion_events (\n",
    "    conversion_event VARCHAR(55)\n",
    ")\n",
    "NO PRIMARY INDEX;\n",
    "'''\n",
    "\n",
    "try:\n",
    "    execute_sql(qry)\n",
    "except:\n",
    "    db_drop_table('FSCJ_conversion_events')\n",
    "    execute_sql(qry)"
   ]
  },
  {
   "cell_type": "markdown",
   "metadata": {},
   "source": [
    "<p style = 'font-size:16px;font-family:Arial;color:#00233C'>We want to find when people have booked accounts both online and offline and use that as our success criteria: </p>"
   ]
  },
  {
   "cell_type": "code",
   "execution_count": null,
   "metadata": {},
   "outputs": [],
   "source": [
    "qry = '''\n",
    "INSERT INTO FSCJ_conversion_events VALUES('ACCOUNT_BOOKED_ONLINE');\n",
    "INSERT INTO FSCJ_conversion_events VALUES('ACCOUNT_BOOKED_OFFLINE');\n",
    "'''\n",
    "\n",
    "out = execute_sql(qry)"
   ]
  },
  {
   "cell_type": "markdown",
   "metadata": {},
   "source": [
    "<p style = 'font-size:16px;font-family:Arial;color:#00233C'>Vantage allows us to specify what type of attribution models we would like to apply. In this case we will keep it simple and choose a basic 'UNIFORM' strategy.</p>\n",
    "\n",
    "<p style = 'font-size:16px;font-family:Arial;color:#00233C'>UNIFORM or Linear attribution provides a look at our marketing strategy as a whole. This model is especially useful if we need to maintain awareness throughout the entire journey of the customer. The credit for a conversion is equally distributed among all the channels a customer engages with, meaning each step in the conversion process receives an equal portion of the credit.</p>"
   ]
  },
  {
   "cell_type": "code",
   "execution_count": null,
   "metadata": {},
   "outputs": [],
   "source": [
    "qry = '''\n",
    "CREATE MULTISET TABLE FSCJ_attribution_model (\n",
    "    id    INTEGER,\n",
    "    model VARCHAR(100)\n",
    ")\n",
    "NO PRIMARY INDEX;\n",
    "'''\n",
    "\n",
    "try:\n",
    "    execute_sql(qry)\n",
    "except:\n",
    "    db_drop_table('FSCJ_attribution_model')\n",
    "    execute_sql(qry)"
   ]
  },
  {
   "cell_type": "code",
   "execution_count": null,
   "metadata": {},
   "outputs": [],
   "source": [
    "qry = '''\n",
    "INSERT INTO FSCJ_attribution_model VALUES(0, 'SIMPLE');\n",
    "INSERT INTO FSCJ_attribution_model VALUES(1, 'UNIFORM:NA');\n",
    "'''\n",
    "\n",
    "out = execute_sql(qry)"
   ]
  },
  {
   "cell_type": "markdown",
   "metadata": {},
   "source": [
    "<p style = 'font-size:16px;font-family:Arial;color:#00233C'>Now we are ready to invoke the Attribution function on our dataset. The dataset has all kinds of cross channel customer interactions we can analyze.</p>"
   ]
  },
  {
   "cell_type": "code",
   "execution_count": null,
   "metadata": {},
   "outputs": [],
   "source": [
    "ConvEvent_df = DataFrame(\"FSCJ_conversion_events\")\n",
    "FirstModel_df = DataFrame(\"FSCJ_attribution_model\") "
   ]
  },
  {
   "cell_type": "markdown",
   "metadata": {},
   "source": [
    "<p style = 'font-size:16px;font-family:Arial;color:#00233C'>Now, we will proceed to convert the raw data, making adjustments to obtain the necessary columns in the required format for use in our Attribution function.</p>\n",
    "<p style = 'font-size:16px;font-family:Arial;color:#00233C'>ConvertTo converts the specified input table columns to specified data types to ensure that the data in the specified columns is in the correct format for efficient data processing. This function performs a conversion operation on the specified columns of an input table. This operation enables the user to convert the input table columns to the desired data types, allowing for consistency and compatibility with downstream operations.</p>"
   ]
  },
  {
   "cell_type": "code",
   "execution_count": null,
   "metadata": {},
   "outputs": [],
   "source": [
    "from teradataml import ConvertTo\n",
    "\n",
    "converted_data = ConvertTo(data=Custdf,\n",
    "                           target_columns=['customer_identifier', 'interaction_timestamp',\n",
    "                                           'interaction_type', 'customer_days_active',\n",
    "                                           'customer_type', 'marketing_placement',\n",
    "                                           'marketing_description', 'marketing_category',\n",
    "                                           'product_category'],\n",
    "                           target_datatype=[\"VARCHAR(charlen=26,charset=LATIN,casespecific=NO)\",\n",
    "                                            \"timestamp\",\n",
    "                                            \"VARCHAR(charlen=100,charset=LATIN,casespecific=NO)\",\n",
    "                                            \"integer\",\n",
    "                                            \"VARCHAR(charlen=90,charset=LATIN,casespecific=NO)\",\n",
    "                                            \"VARCHAR(charlen=50,charset=LATIN,casespecific=NO)\",\n",
    "                                            \"VARCHAR(charlen=50,charset=LATIN,casespecific=NO)\",\n",
    "                                            \"VARCHAR(charlen=50,charset=LATIN,casespecific=NO)\",\n",
    "                                            \"VARCHAR(charlen=90,charset=LATIN,casespecific=NO)\"])\n",
    "\n",
    "CustAttr_df = converted_data.result\n",
    "CustAttr_df"
   ]
  },
  {
   "cell_type": "markdown",
   "metadata": {},
   "source": [
    "<p style = 'font-size:16px;font-family:Arial;color:#00233C'>We will filter the data for valid interaction types and product categories, and then concatenate these columns to calculate attribution based on the combination of these selected columns.</p>"
   ]
  },
  {
   "cell_type": "code",
   "execution_count": null,
   "metadata": {
    "tags": []
   },
   "outputs": [],
   "source": [
    "from sqlalchemy import func\n",
    "CustAttr_df = CustAttr_df[CustAttr_df.interaction_type.isin(['ACCOUNT_BOOKED_OFFLINE', 'ACCOUNT_BOOKED_ONLINE', 'CLICK', 'REFERRAL', 'BROWSE'])]\n",
    "CustAttr_df = CustAttr_df[CustAttr_df.product_category != '-1']\n",
    "CustAttr_df = CustAttr_df.assign(interaction_product = func.concat(CustAttr_df.interaction_type.expression ,CustAttr_df.product_category.expression))\n",
    "CustAttr_df"
   ]
  },
  {
   "cell_type": "code",
   "execution_count": null,
   "metadata": {},
   "outputs": [],
   "source": [
    "copy_to_sql(CustAttr_df, table_name = 'attr_data', if_exists = 'replace')"
   ]
  },
  {
   "cell_type": "code",
   "execution_count": null,
   "metadata": {
    "tags": []
   },
   "outputs": [],
   "source": [
    "attribution_out = Attribution(data=DataFrame('attr_data'),\n",
    "                                             data_partition_column=\"customer_identifier\",\n",
    "                                             data_order_column=\"interaction_timestamp\",\n",
    "                                             event_column=\"interaction_type\",\n",
    "                                             conversion_data=ConvEvent_df,\n",
    "                                             timestamp_column = \"interaction_timestamp\",\n",
    "                                             window_size = \"rows:10\",\n",
    "                                             model1_type=FirstModel_df)\n",
    "\n",
    "Attrdf = attribution_out.result\n",
    "Attrdf"
   ]
  },
  {
   "cell_type": "markdown",
   "metadata": {},
   "source": [
    "<p style = 'font-size:16px;font-family:Arial;color:#00233C'>Marketing attribution seeks to determine the key events and channels that contribute to the opening of a credit card account and assigns value to those factors. The data identifies specific conversion events as 'ACCOUNT_BOOKED_ONLINE' and 'ACCOUNT_BOOKED_OFFLINE', allowing for the analysis of the most impactful events and channels in driving customer acquisition. Vantage's attribution function supports various standard attribution models, enabling us to easily observe how adjustments to the model or its parameters influence our analysis.</p>\n",
    "\n",
    "<p style = 'font-size:16px;font-family:Arial;color:#00233C'>Now let's get some summary statistics from the results:</p>"
   ]
  },
  {
   "cell_type": "code",
   "execution_count": null,
   "metadata": {
    "tags": []
   },
   "outputs": [],
   "source": [
    "AvgAttrdf = Attrdf[Attrdf.marketing_description != '-1']\n",
    "AvgAttrdf= AvgAttrdf[AvgAttrdf.marketing_description.str.contains('PROMOTION') == True]\n",
    "AvgAttrdf = AvgAttrdf.assign(time_to_conversion = -1 * (AvgAttrdf.time_to_conversion/3600))\n",
    "AvgAttrdf_plot =  AvgAttrdf.groupby('marketing_description').agg({'attribution' : ['mean', 'sum'], 'time_to_conversion' : ['mean']})\n",
    "AvgAttrdf_plot.sort('sum_attribution', ascending = False)"
   ]
  },
  {
   "cell_type": "markdown",
   "metadata": {},
   "source": [
    "<p style = 'font-size:16px;font-family:Arial;color:#00233C'>We can see that the aggregated data is available to us in teradataml dataframe. Let's visualize this data to better understand the Attribution values by the types of Promotions. Vantage's Clearscape Analytics can easily integrate with 3rd party visualization tools like Tableau, PowerBI or many python modules available like plotly, seaborn etc. We can do all the calculations and pre-processing on Vantge and pass only the necessary information to visulazation tools, this will not only make the calculation faster but also reduce the time due to less data movement between tools."
   ]
  },
  {
   "cell_type": "code",
   "execution_count": null,
   "metadata": {},
   "outputs": [],
   "source": [
    "AvgAttrdf_plot = AvgAttrdf_plot.to_pandas()"
   ]
  },
  {
   "cell_type": "code",
   "execution_count": null,
   "metadata": {},
   "outputs": [],
   "source": [
    "fig, ax = plt.subplots (1, 1, figsize = (17, 7))\n",
    "ax = sns.barplot(data = AvgAttrdf_plot, x = \"mean_attribution\", y = \"marketing_description\")\n",
    "ax.set_title('Average Attribution by Type of Promotion')\n",
    "ax.set_xlabel('Average Attribution')\n",
    "ax.set_ylabel('Marketing Description')\n",
    "plt.show()"
   ]
  },
  {
   "cell_type": "markdown",
   "metadata": {},
   "source": [
    "<p style = 'font-size:16px;font-family:Arial;color:#00233C'>The above displayed visualization focuses on the different promotions we have executed. The larger the bar, the greater its impact on customers opening an account.</p>\n",
    "<p style = 'font-size:16px;font-family:Arial;color:#00233C'> The average attribution represents the percentage attributed to each promotion type, and the total sum of all events will always equal 100%.</p> \n"
   ]
  },
  {
   "cell_type": "code",
   "execution_count": null,
   "metadata": {},
   "outputs": [],
   "source": [
    "fig, ax = plt.subplots(1, 1, figsize = (17, 7))\n",
    "ax = sns.barplot(data = AvgAttrdf_plot, x = \"sum_attribution\", y = \"marketing_description\")\n",
    "ax.set_title('Total Attribution by Type of Promotion')\n",
    "ax.set_xlabel('Total Attribution')\n",
    "ax.set_ylabel('Marketting Description')\n",
    "plt.show()"
   ]
  },
  {
   "cell_type": "markdown",
   "metadata": {},
   "source": [
    "<p style = 'font-size:16px;font-family:Arial;color:#00233C'>The chart above shows the total attribution score the promotion had. So, the biggest drivers of signups will be the longest. Here the OTHER PROMOTIONS followed by REWARDS CARD PROMOTION and then AIRLINE CARD PROMOTION. The total attribution is the score that was given to each type of promotion.</p>\n",
    "\n"
   ]
  },
  {
   "cell_type": "code",
   "execution_count": null,
   "metadata": {},
   "outputs": [],
   "source": [
    "fig, ax = plt.subplots(1, 1, figsize = (17, 7))\n",
    "ax = sns.barplot(data = AvgAttrdf_plot, x = \"mean_time_to_conversion\", y = \"marketing_description\")\n",
    "ax.set_title('Time to Conversion')\n",
    "ax.set_xlabel('Time')\n",
    "ax.set_ylabel('Marketting Description')\n",
    "plt.show()"
   ]
  },
  {
   "cell_type": "markdown",
   "metadata": {},
   "source": [
    "<p style = 'font-size:16px;font-family:Arial;color:#00233C'>The chart above illustrates the average time it took for a user to sign up after a promotion was initiated, measured in hours. A shorter time indicates that people took action more quickly. We can observe that Gold Card Promotion II performed the best overall, followed by the Hotel Card and MoneySupermarket.com promotions.</p>"
   ]
  },
  {
   "cell_type": "markdown",
   "metadata": {},
   "source": [
    "<hr style=\"height:2px;border:none;background-color:#00233C;\">\n",
    "<p style = 'font-size:20px;font-family:Arial;color:#00233C'><b>5. Channel analysis</b></p>\n",
    "\n",
    "<p style = 'font-size:16px;font-family:Arial;color:#00233C'>We have different promotions and advertising networks, now let's take a look at the traction we are getting with the various promotions across different channels:</p>"
   ]
  },
  {
   "cell_type": "code",
   "execution_count": null,
   "metadata": {},
   "outputs": [],
   "source": [
    "MarketAttrdf = Attrdf[AvgAttrdf.marketing_description != '-1']\n",
    "MarketAttrdf= MarketAttrdf[AvgAttrdf.marketing_description.str.contains('PROMOTION') == True]\n",
    "MarketAttrdf =  MarketAttrdf.groupby(['marketing_category','marketing_placement']).agg({'attribution' : ['sum']})\n",
    "MarketAttrdf.sort('sum_attribution', ascending = False)"
   ]
  },
  {
   "cell_type": "code",
   "execution_count": null,
   "metadata": {},
   "outputs": [],
   "source": [
    "MarketAttrdf_plot=MarketAttrdf.to_pandas()\n",
    "fig, ax = plt.subplots(1, 1, figsize = (17, 7))\n",
    "ax = sns.barplot(data = MarketAttrdf_plot, x = \"sum_attribution\", y = \"marketing_placement\", ci = None)\n",
    "ax.set_title('Channel Performance')\n",
    "ax.set_ylabel('Marketing Channel')\n",
    "ax.set_xlabel('Total Attribution')\n",
    "# plt.figure(figsize=(8,6))\n",
    "plt.show()"
   ]
  },
  {
   "cell_type": "markdown",
   "metadata": {},
   "source": [
    "<p style = 'font-size:16px;font-family:Arial;color:#00233C'>In the above chart we can see that the HOMEPAGE BANNER has resulted into maximum attribution and is the most effective.</p>\n",
    "\n",
    "<p style = 'font-size:16px;font-family:Arial;color:#00233C'>The next visual revolves around the various channels where we ran our marketing. As a team, we observe that the length of the bar shows the overall total attribution to that channel. The colors correspond to the promotions that we looked at in the top view, allowing us to discern which promotions were on which channels and the performance of each. In our data result set, we can identify email, in-branch (offline), as well as web. </p>\n",
    "\n",
    "<p style = 'font-size:16px;font-family:Arial;color:#00233C'>For the digital channels - collectively, we can see that the homepage ads did the best, followed by email and Google searches.</p>\n",
    "\n",
    "<p style = 'font-size:16px;font-family:Arial;color:#00233C'>The top chart presents the Average Attributions for various kinds of promotions. As a team, we note that the size of the circle increases with the value of Average Attribution. We collectively identify the biggest drivers as the promotions that have the largest circle size.</p>\n",
    "\n",
    "\n",
    "<p style = 'font-size:14px;font-family:Arial:#00233C'><i>**When we hover the mouse over the circle we can see the type of promotion along with the values of attribution.</i></p>"
   ]
  },
  {
   "cell_type": "code",
   "execution_count": null,
   "metadata": {
    "tags": []
   },
   "outputs": [],
   "source": [
    "ax = px.scatter(\n",
    "                data_frame = AvgAttrdf_plot, x = \"mean_attribution\", y = \"mean_time_to_conversion\",\n",
    "                size = \"mean_attribution\", size_max = 70, color = \"marketing_description\", \n",
    "                hover_data = ['marketing_description'],\n",
    "                width = 900, height = 400, \n",
    "                labels = {\n",
    "                    \"mean_attribution\": \"Average  Attribution\",\n",
    "                    \"mean_time_to_conversion\": \"Time to Conversion\"\n",
    "                }\n",
    ")\n",
    "ax.update_layout(showlegend=False)\n",
    "ax.update_layout(title_text = 'Channel Performance', title_x = 0.5)\n",
    "ax.show()"
   ]
  },
  {
   "cell_type": "markdown",
   "metadata": {},
   "source": [
    "\n",
    "<p style = 'font-size:16px;font-family:Arial;color:#00233C'>The chart below with vertical lines shows the various channels and the colors of the bars indicate the type of promotion. The larger the size of the colored bar , more the contribution of that promotion using the specified channel. </p>\n"
   ]
  },
  {
   "cell_type": "code",
   "execution_count": null,
   "metadata": {},
   "outputs": [],
   "source": [
    "fig = px.bar(\n",
    "               data_frame =  MarketAttrdf_plot, y = \"sum_attribution\", x = \"marketing_category\", \n",
    "               color = 'marketing_placement', orientation = 'v',\n",
    "               height = 600, width = 900,\n",
    "               title = 'Attribution Summary')\n",
    "\n",
    "fig.update_layout(title_text = 'Attribution Summary', title_x = 0.5)\n",
    "fig.update_xaxes(title = 'Marketing Category', tickangle = -45)\n",
    "fig.update_yaxes(title = 'Total Attribution')\n",
    "fig.update_traces(width = 0.5)\n",
    "fig.show()"
   ]
  },
  {
   "cell_type": "markdown",
   "metadata": {},
   "source": [
    "<p style = 'font-size:16px;font-family:Arial;color:#00233C'>Now we can see the promotions and their success across the various channels. We collectively observe an interesting insight that the Money Supermarket promotion and the Gold Card Promotion II were our most effective promotions. It is intriguing for us to compare Gold Card II to the first Gold Card Promotion. Looking down at our channels, we can collectively see that the first Gold Card promotion was only run over email, and the Gold Card Promotion II was run on multiple channels, proving to be a lot more effective for the same exact product. </p>\n",
    "\n",
    "<p style = 'font-size:16px;font-family:Arial;color:#00233C'>Using this dashboard and the power of Vantage, we can easily compare the different promotions. We also notice that we did a special promotion on MoneySupermarket.com that was particularly effective. This was only run on that particular channel and had both a quick time to conversion as well as strong average attribution. </p>\n",
    "\n",
    "<p style = 'font-size:16px;font-family:Arial;color:#00233C'>Additionally, we can look at some other promotions. We collectively see that we did a Rewards Card promotion that performed well across channels but was particularly effective through in-branch referrals. The airline card promotion did the best on the homepage and Google compared to the other channels. </p>"
   ]
  },
  {
   "cell_type": "markdown",
   "metadata": {},
   "source": [
    "<hr style=\"height:2px;border:none;background-color:#00233C;\">\n",
    "<p style = 'font-size:20px;font-family:Arial;color:#00233C'><b>6. Path To Adoption</b>\n",
    "\n",
    "<p style = 'font-size:16px;font-family:Arial;color:#00233C'>We want to see how our customers are opening higher end accounts such as wealth management. Many retail banks have found wealth management to be a key profit center, so they are looking to build their business in this area.</p>\n",
    "<p style = 'font-size:16px;font-family:Arial;color:#00233C'>Pathing is the process of discovering a sequence of antecedent actions that occur prior to a specific event of interest on sessionized data. Pathing discovers the most salient patterns across a group of individuals or entities based on which further actions are considered. Pathing allows you to provide an explanation of the relation and the relative importance of each factor.</p>\n",
    "\n",
    "<p style = 'font-size:16px;font-family:Arial;color:#00233C'>The nPath® function provides a flexible pattern-matching capability that lets you specify complex patterns in the input data and define the values that are output for each matched input set. So, we can use powerful nPath® analytic function in Vantage to do pattern/time series analysis that is very hard to do in simple SQL. We want to see the common paths that customers take when they go to open a wealth management account. We will also look at the affiliation between the other accounts that wealth management customers hold. </p>\n",
    "\n",
    "<p style = 'font-size:16px;font-family:Arial;color:#00233C'>In the code here you can see a few key points:</p>\n",
    "<li style = 'font-size:16px;font-family:Arial;color:#00233C'>We are concatenating the interaction and the product category to make unique events </li>\n",
    "<li style = 'font-size:16px;font-family:Arial;color:#00233C'>We are ignoring the starting / completing of the wealth management application because everyone does that by definition and in this case we want to reduce the noise. Further analysis could be done later on incomplete applications or other scenarios.</li>\n",
    "<li style = 'font-size:16px;font-family:Arial;color:#00233C'>The __'PATTERN'__ we are searching for is 4 events followed by opening (ACCOUNT_BOOKED) a Wealth Management account.</li>\n",
    "<li style = 'font-size:16px;font-family:Arial;color:#00233C'>The __'SYMBOLS'__ we are using is anything but opening a wealth management account is 'EVENT' and opening said account is 'ADOPTION' </li>\n",
    "</p>\n",
    "<br>\n",
    "<p style = 'font-size:16px;font-family:Arial;color:#00233C'>We first do some conversions on raw data to be able to use it in the nPath function like the ConvertTo is used to get the correct datatypes and character set for the columns. Later we filter the required product categories and events.</p>"
   ]
  },
  {
   "cell_type": "code",
   "execution_count": null,
   "metadata": {
    "tags": []
   },
   "outputs": [],
   "source": [
    "converted_data = ConvertTo(data=Custdf,\n",
    "                           target_columns=['customer_identifier', 'interaction_timestamp',\n",
    "                                           'interaction_type', 'customer_days_active',\n",
    "                                           'customer_type', 'marketing_placement',\n",
    "                                           'marketing_description', 'marketing_category',\n",
    "                                           'product_category', 'sales_channel'],\n",
    "                           target_datatype=[\"VARCHAR(charlen=26,charset=LATIN,casespecific=NO)\",\n",
    "                                            \"timestamp\",\n",
    "                                            \"VARCHAR(charlen=100,charset=LATIN,casespecific=NO)\",\n",
    "                                            \"integer\",\n",
    "                                            \"VARCHAR(charlen=90,charset=LATIN,casespecific=NO)\",\n",
    "                                            \"VARCHAR(charlen=50,charset=LATIN,casespecific=NO)\",\n",
    "                                            \"VARCHAR(charlen=50,charset=LATIN,casespecific=NO)\",\n",
    "                                            \"VARCHAR(charlen=50,charset=LATIN,casespecific=NO)\",\n",
    "                                            \"VARCHAR(charlen=90,charset=LATIN,casespecific=NO)\",\n",
    "                                            \"VARCHAR(charlen=100,charset=LATIN,casespecific=NO)\"],\n",
    "                           accumulate=['conversion_sales', 'conversion_cost', 'conversion_margin'])\n",
    "\n",
    "CustPath_df = converted_data.result"
   ]
  },
  {
   "cell_type": "code",
   "execution_count": null,
   "metadata": {},
   "outputs": [],
   "source": [
    "CustPath_df = CustPath_df.assign(event = func.concat(CustPath_df.interaction_type.expression,\"_\" ,CustPath_df.product_category.expression))\n",
    "CustPath_df = CustPath_df[~CustPath_df.event.isin(['STARTS_APPLICATION_WEALTH MANAGEMENT', 'COMPLETE_APPLICATION_WEALTH MANAGEMENT'])]\n",
    "CustPath_df = CustPath_df[CustPath_df.product_category != '-1']\n",
    "CustPath_df"
   ]
  },
  {
   "cell_type": "code",
   "execution_count": null,
   "metadata": {
    "tags": []
   },
   "outputs": [],
   "source": [
    "copy_to_sql(CustPath_df, table_name = 'npath_data', if_exists = 'replace')"
   ]
  },
  {
   "cell_type": "markdown",
   "metadata": {},
   "source": [
    "<p style = 'font-size:16px;font-family:Arial;color:#00233C'><b>**The below nPath® query may take around 25-30 seconds as it creates paths for all customers. Each visualization of the nPath® output which is a Sankey chart takes around 40-50 seconds to create the chart.</b></p>"
   ]
  },
  {
   "cell_type": "code",
   "execution_count": null,
   "metadata": {},
   "outputs": [],
   "source": [
    "npath_sessions = NPath(data1 = DataFrame('npath_data'), \n",
    "                       data1_partition_column = ['customer_identifier'], \n",
    "                       data1_order_column = 'interaction_timestamp', \n",
    "                       mode = 'NONOVERLAPPING', \n",
    "                       symbols = [ 'event NOT LIKE (\\'ACCOUNT_BOOKED%_WEALTH MANAGEMENT\\') AS EVENT',\n",
    "                                   'event LIKE (\\'ACCOUNT_BOOKED%\\') AND product_category = (\\'WEALTH MANAGEMENT\\') AS ADOPTION'],\n",
    "                       pattern = '(EVENT){4}.ADOPTION', \n",
    "                       result = ['ACCUMULATE(event OF ANY(EVENT, ADOPTION)) AS interaction_type_list',\n",
    "                                 'COUNT(event OF ANY(EVENT, ADOPTION)) AS click_depth',\n",
    "                                 'FIRST(customer_identifier OF ADOPTION) AS customer_identifier',\n",
    "                                 'FIRST(product_category OF ADOPTION) AS product_category'])\n",
    "\n",
    "npath_df=npath_sessions.result\n",
    "npath_df"
   ]
  },
  {
   "cell_type": "markdown",
   "metadata": {},
   "source": [
    "<p style = 'font-size:16px;font-family:Arial;color:#00233C'>A visualization of this gives us lots of insight into the most common paths that users are taking when opening Wealth Management accounts. A Sankey Diagram was created using the output(interacion_type_list) of the nPath® function used in the query above.</p>\n"
   ]
  },
  {
   "cell_type": "code",
   "execution_count": null,
   "metadata": {
    "tags": []
   },
   "outputs": [],
   "source": [
    "from tdnpathviz.visualizations import plot_first_main_paths"
   ]
  },
  {
   "cell_type": "code",
   "execution_count": null,
   "metadata": {},
   "outputs": [],
   "source": [
    "plot_first_main_paths(npath_df, path_column = 'interaction_type_list', id_column = 'customer_identifier',width=1000)"
   ]
  },
  {
   "cell_type": "markdown",
   "metadata": {},
   "source": [
    "<p style = 'font-size:16px;font-family:Arial;color:#00233C'>To check the details of any path or node we can move the mouse pointer over it and check details. For example, if you move the pointer over the dark Green path having the largest width at the TOP going towards the right most node(Compare Wealth Management) it shows count of <b>40. </b> Which means there are 40 customers who followed that path starting from Complete Application CD ---> Account booked Online CD ---> Browse Wealth Management CD ---> Compare Wealth Management CD.</p>\n",
    "\n",
    "<p style = 'font-size:16px;font-family:Arial;color:#00233C'>When the pointer is moved over a Node, for example when the pointer is on the long purple Node at the right top <b>Browse Wealth Management </b>  it shows <b>incoming flow count: 6 and outgoing flow count: 6</b> which means that there are 6 different events which lead to Browse Wealth Management and there are 6 different event which different customers do after browse wealth management event. Similarly other nodes and paths can be analyzed.</p>\n",
    "\n",
    "<p style = 'font-size:16px;font-family:Arial;'>We can filter it down to the most popular paths: We will group the paths and get the number of customers for each path.</p>\n"
   ]
  },
  {
   "cell_type": "code",
   "execution_count": null,
   "metadata": {},
   "outputs": [],
   "source": [
    "nPathdf_group = npath_df.groupby(\"interaction_type_list\")\\\n",
    "                .count()\\\n",
    "                .sort('count_customer_identifier', ascending = False)\n",
    "nPathdf_group"
   ]
  },
  {
   "cell_type": "markdown",
   "metadata": {},
   "source": [
    "<p style = 'font-size:16px;font-family:Arial;'>We can filter and get the most popular paths: We will filter and show only paths having number of customers >= 16.</p>\n"
   ]
  },
  {
   "cell_type": "code",
   "execution_count": null,
   "metadata": {},
   "outputs": [],
   "source": [
    "count_cust = nPathdf_group.count_customer_identifier\n",
    "nPathdf_group_plot = nPathdf_group[count_cust >= 16]"
   ]
  },
  {
   "cell_type": "code",
   "execution_count": null,
   "metadata": {},
   "outputs": [],
   "source": [
    "plot_first_main_paths(nPathdf_group_plot, path_column = 'interaction_type_list', id_column = 'count_customer_identifier',width=1000)"
   ]
  },
  {
   "cell_type": "markdown",
   "metadata": {},
   "source": [
    "<p style = 'font-size:16px;font-family:Arial;'>In the above diagram, we can filter by looking for at least 16 customers on a path. In our analysis, we are just working with small data to demonstrate the functionality. In a real-world data volume, we'd be filtering for paths repeated hundreds or thousands of times.</p>\n",
    "  \n",
    "<p style = 'font-size:16px;font-family:Arial;'>So, let's start by looking at the drivers of wealth management accounts online. We collectively see that the ‘Compare’ tool that the bank has on its website is a main step in opening an account. This allows us to compare its wealth management offerings to its competitors, and this is proving to be very compelling. So, customers are browsing the offerings, then using the compare tool, and ultimately booking. </p>\n",
    "\n",
    "<p style = 'font-size:16px;font-family:Arial;'>The other main drivers of online account signups are people signing up for an auto-savings plan. So, people that are savings minded tend to open wealth management accounts. Additionally, general browsing the offerings and opening a CD appear to be secondary paths as well. </p>\n",
    "<p style = 'font-size:16px;font-family:Arial;'>Moving to offline - which we can see has different drivers. It appears to be predominately people that are opening other types of accounts as well such as CDs and Brokerage - both online and offline. We observe that the main path to booking a wealth management account offline is from in-branch referrals. So, people go into a branch and are opening another type of account and they are referred to opening a wealth management account as well!</p>"
   ]
  },
  {
   "cell_type": "markdown",
   "metadata": {},
   "source": [
    "<b style = 'font-size:18px;font-family:Arial;color:#00233C'>Conclusion</b>\n",
    "\n",
    "<p style = 'font-size:16px;font-family:Arial;color:#00233C'>Thus, we can use the unique analytic capabilities of Vantage for understanding customer and user behavior over time. These analytic techniques can be applied at massive scale to derive more accurate results. Vantage allows us to scale models horizontally, by training segmented models per region, user type, etc., or vertically, by combining data from millions or billions of interactions. All of this can be deployed operationally to understand and predict actions in real-time.</p>"
   ]
  },
  {
   "cell_type": "markdown",
   "metadata": {},
   "source": [
    "<hr style=\"height:2px;border:none;background-color:#00233C;\">\n",
    "<p style = 'font-size:20px;font-family:Arial;color:#00233C'><b>7. Cleanup </b></p>\n",
    "<p style = 'font-size:18px;font-family:Arial;color:#00233C'><b>Work Tables</b></p>\n",
    "<p style = 'font-size:16px;font-family:Arial;color:#00233C'>We need to clean up our work tables to prevent errors next time.</p>"
   ]
  },
  {
   "cell_type": "code",
   "execution_count": null,
   "metadata": {},
   "outputs": [],
   "source": [
    "tables = ['FSCJ_conversion_events', 'FSCJ_attribution_model', 'FSCJ_marketing_attribution','npath_data','attr_data']\n",
    "\n",
    "# Loop through the list of tables and execute the drop table command for each table\n",
    "for table in tables:\n",
    "    try:\n",
    "        db_drop_table(table_name = table)\n",
    "    except:\n",
    "        pass"
   ]
  },
  {
   "cell_type": "markdown",
   "metadata": {},
   "source": [
    "<p style = 'font-size:18px;font-family:Arial;color:#00233C'> <b>Databases and Tables </b></p>\n",
    "<p style = 'font-size:16px;font-family:Arial;color:#00233C'>We will use the following code to clean up tables and databases created for this demonstration.</p>"
   ]
  },
  {
   "cell_type": "code",
   "execution_count": null,
   "metadata": {
    "tags": []
   },
   "outputs": [],
   "source": [
    "%run -i ../run_procedure.py \"call remove_data('DEMO_Financial');\"   # Takes about 10 seconds, optional if you want to use the data later"
   ]
  },
  {
   "cell_type": "code",
   "execution_count": null,
   "metadata": {},
   "outputs": [],
   "source": [
    "remove_context()"
   ]
  },
  {
   "cell_type": "markdown",
   "metadata": {},
   "source": [
    "<hr style=\"height:2px;border:none;background-color:#00233C;\">\n",
    "<b style = 'font-size:20px;font-family:Arial;color:#00233C'>Required Materials</b>\n",
    "<p style = 'font-size:16px;font-family:Arial;color:#00233C'>Let’s look at the elements we have available for reference for this notebook:</p>\n",
    "\n",
    "<p style = 'font-size:18px;font-family:Arial;color:#00233C'><b>Dataset</b></p>\n",
    "\n",
    "<p style = 'font-size:16px;font-family:Arial;'>The data for this use case is stored in the `FSCustomerJourney` database. </p>\n",
    "\n",
    "<b style = 'font-size:18px;font-family:Arial;color:#00233C'>Integrated Contact History </b>\n",
    "\n",
    "<p style = 'font-size:16px;font-family:Arial;color:#00233C'>The data for this use case is taken from Customer_Journey table(Details below) from the DEMO_FSCustomerJourney Database. It is data from various source systems and channels already combined and put into one big table. This is all of the customer interactions, in a customer system this might be a view on top of various source tables.</p>\n",
    "\n",
    "`Customer_Journey`\n",
    "\n",
    "- `customer_skey`: customer key\n",
    "- `customer_identifier`: unique customer identifier\n",
    "- `customer_cookie`: cookie placed on customers device\n",
    "- `customer_online_id`: boolean - does the customer have an online account\n",
    "- `customer_offline_id`: customer account number\n",
    "- `customer_type`: is this a high value customer or just a visitor browsing the website?\n",
    "- `customer_days_active`: how long has the customer been active\n",
    "- `interaction_session_number`: session identifier\n",
    "- `interaction_timestamp`: timestamp for this event\n",
    "- `interaction_source`: channel this event is from (online / offline, in branch etc.)\n",
    "- `interaction_type`: type of event\n",
    "- `sales_channel`: channel a sales event was in\n",
    "- `conversion_id`: sales conversion identifier\n",
    "- `product_category`: what type of product the event concerned (checking, savings, cd etc..)\n",
    "- `product_type`: unused\n",
    "- `conversion_sales`: unused\n",
    "- `conversion_cost`: unused\n",
    "- `conversion_margin`: unused\n",
    "- `conversion_units`: unused\n",
    "- `marketing_code`: marketing identifier\n",
    "- `marketing_category`: marketing channel (inbranch, website, email etc..)\n",
    "- `marketing_description`: marketing campaign name\n",
    "- `marketing_placement`: specific marketing outlet (Google, Bloomberg.com etc..)\n",
    "- `mobile_flag`: boolean was on a mobile device\n",
    "- `updt`: unused"
   ]
  },
  {
   "cell_type": "markdown",
   "metadata": {},
   "source": [
    "<p style = 'font-size:18px;font-family:Arial;color:#00233C'><b>Filters:</b></p>\n",
    "<li style = 'font-size:16px;font-family:Arial;color:#00233C'><b>Industry:</b> Finance</li>\n",
    "<li style = 'font-size:16px;font-family:Arial;color:#00233C'><b>Functionality:</b> Pathing Analysis</li>\n",
    "<li style = 'font-size:16px;font-family:Arial;color:#00233C'><b>Use Case:</b> Customer Journeys</li>\n",
    "</p>\n",
    "<p style = 'font-size:18px;font-family:Arial;color:#00233C'><b>Related Resources:</b></p>\n",
    "<li style = 'font-size:16px;font-family:Arial;color:#00233C'><a href = 'https://www.teradata.com/blogs/nps-is-a-metric-not-the-goal'>In the fight to improve customer experience, NPS is a metric, not the goal</a></li>\n",
    "<li style = 'font-size:16px;font-family:Arial;color:#00233C'><a href = 'https://www.teradata.com/Blogs/Customer-360-Analytics-What-Lies-Ahead'>Customer 360 Analytics, What Lies Ahead?</a></li>\n",
    "<li style = 'font-size:16px;font-family:Arial;color:#00233C'><a href = 'https://teradata.seismic.com/app#/doccenter/dc7eb2cf-bd2e-462a-a056-fcc02c9fd2f2/doc/%252Fddb2fe9eb1-f754-d3df-07fa-0724e0ddd3e9%252FdfODEyNmNlZmEtZmM4Mi00ODUyLTgzZTAtOTEzMTBlODQ5YjUw%252CPT0%253D%252CVmlkZW8%253D%252FdfYmI3ODY3ZDQtM2Q4Zi00ZTk5LTg2ZDYtNjBlZTk4ODY2YTY4%252CPT0%253D%252CRXh0ZXJuYWwgQXVkaWVuY2Vz%252Flfda62602b-d188-4769-aa36-a58d162732fd//?mode=view&parentPath=sessionStorage'>Broken Digital Journeys CX Solution Accelerator Demo via Vantage Console Demo</a></li>\n"
   ]
  },
  {
   "cell_type": "markdown",
   "metadata": {},
   "source": [
    "<footer style=\"padding-bottom:35px; background:#f9f9f9; border-bottom:3px solid #00233C\">\n",
    "    <div style=\"float:left;margin-top:14px\">ClearScape Analytics™</div>\n",
    "    <div style=\"float:right;\">\n",
    "        <div style=\"float:left; margin-top:14px\">\n",
    "            Copyright © Teradata Corporation - 2023. All Rights Reserved\n",
    "        </div>\n",
    "    </div>\n",
    "</footer>"
   ]
  }
 ],
 "metadata": {
  "kernelspec": {
   "display_name": "Python 3 (ipykernel)",
   "language": "python",
   "name": "python3"
  },
  "language_info": {
   "codemirror_mode": {
    "name": "ipython",
    "version": 3
   },
   "file_extension": ".py",
   "mimetype": "text/x-python",
   "name": "python",
   "nbconvert_exporter": "python",
   "pygments_lexer": "ipython3",
   "version": "3.9.10"
  }
 },
 "nbformat": 4,
 "nbformat_minor": 4
}
