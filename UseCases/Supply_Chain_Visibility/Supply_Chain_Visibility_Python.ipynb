{
 "cells": [
  {
   "cell_type": "markdown",
   "id": "bddc3afe-68eb-4ece-b8c5-25ec445d4723",
   "metadata": {},
   "source": [
    "<header>\n",
    "   <p  style='font-size:36px;font-family:Arial; color:#F0F0F0; background-color: #00233c; padding-left: 20pt; padding-top: 20pt;padding-bottom: 10pt; padding-right: 20pt;'>\n",
    "       Supply Chain Visibility\n",
    "  <br>\n",
    "       <img id=\"teradata-logo\" src=\"https://storage.googleapis.com/clearscape_analytics_demo_data/DEMO_Logo/teradata.svg\" alt=\"Teradata\" style=\"width: 125px; height: auto; margin-top: 20pt;\">\n",
    "    </p>\n",
    "</header>"
   ]
  },
  {
   "cell_type": "markdown",
   "id": "487f457f",
   "metadata": {},
   "source": [
    "<p style = 'font-size:20px;font-family:Arial;color:#00233C'><b>Introduction</b></p>\n",
    "<p style = 'font-size:16px;font-family:Arial;color:#00233C'>\n",
    "Businesses have a long recognized the pivotal role of supply chain in their success. Supply chain visibility is the ability to view or track goods and materials as it moves through the supply chain. Businesses know that this creates and sustains a competitive advantage. Below are some of the critical capabilities of Supply Chain Visibility that creates a competitive advantage:\n",
    "<ul style = 'font-size:16px;font-family:Arial;color:#00233C'>\n",
    "<li>Quickly adapt to rapidly changing market conditions</li>\n",
    "    <li>Use accurate insights to provide better service, enhancing customer satisfaction</li>\n",
    "    <li>Understand the levels of risk of my material or goods not arriving when customers need them leading to Customer Service level failure, or arriving to early leading to storage and cost challenges</li>\n",
    "    <li>Use data to drive innovation and continuous improvement</li>\n",
    "    <li>Leverage data effectively and maximize investments in existing solutions</li>\n",
    "    <li>Streamline operations, reduce redundancies, and optimize workflows</li>\n",
    "    <li>Drive down the cost of goods sold and improve profitability</li>\n",
    "    <li>Reduce inventory carrying costs while maintaining required service levels</li>\n",
    "    </ul>\n",
    "<p style = 'font-size:16px;font-family:Arial;color:#00233C'>Despite knowing the importance and advantages of visibility, business fail to implement and answer the basic questions like <ul style = 'font-size:16px;font-family:Arial;color:#00233C'><li>Where is my inventory, what is in-transit and when will it arrive?</li><li>\n",
    "    What are my current lead times by vendor, item and receipt location?</li></ul>\n",
    "    <p style = 'font-size:16px;font-family:Arial;color:#00233C'>Modern supply chains are comprised of highly specialized functional silos. This is a demonstration of managing complexity across multiple source systems that at any point in time have a different view of the millions of transactions they process. </p> \n",
    "<img src=\"images/silo.png\">    \n",
    "<p style = 'font-size:16px;font-family:Arial;color:#00233C'>\n",
    " Supply chain visibility requires a data foundation to be semantically consistent. Teradata's supply chain visibility solution accelerator comes into play because the Visibility Data Foundation is an open platform that is extensible and brings together all of the relevant pieces of your supply chain. It connects the source data via a consistent semantic model, enriches it and then it drives collaboration across the chain by \n",
    "automating analytics and insights by leveraging the in-Db capabilities of Clearscape Analytics.<br><br>The following diagram shows a manufacturing flavor of supply chain, but remember these challenges are equally true for all supply chains such as retail, its just that the specific terminology changes</p>   \n",
    "<img src=\"images/scv.png\">  "
   ]
  },
  {
   "cell_type": "markdown",
   "id": "a07818aa",
   "metadata": {},
   "source": [
    "<hr style=\"height:2px;border:none;background-color:#00233C;\">\n",
    "<p style = 'font-size:20px;font-family:Arial;color:#00233C'><b>1. Import python packages, connect to Vantage and explore the dataset</b></p>"
   ]
  },
  {
   "cell_type": "code",
   "execution_count": null,
   "id": "2acffa0f",
   "metadata": {},
   "outputs": [],
   "source": [
    "#import libraries\n",
    "import geopandas as gpd\n",
    "import matplotlib.pyplot as plt \n",
    "import pandas as pd\n",
    "\n",
    "import getpass\n",
    "from teradataml import *\n",
    "import plotly.express as px\n",
    "import plotly.graph_objects as go\n",
    "\n",
    "import numpy as np\n",
    "\n",
    "display.max_rows = 5 "
   ]
  },
  {
   "cell_type": "markdown",
   "id": "de5ce290",
   "metadata": {},
   "source": [
    "<p style = 'font-size:16px;font-family:Arial;color:#00233C'>You will be prompted to provide the password. Enter your password, press the Enter key, then <b>use down arrow</b> to go to next cell.</p>"
   ]
  },
  {
   "cell_type": "code",
   "execution_count": null,
   "id": "40ed50f8-7aba-4cb1-b777-479dd09a2f29",
   "metadata": {},
   "outputs": [],
   "source": [
    "%run -i ../startup.ipynb\n",
    "eng = create_context(host = 'host.docker.internal', username='demo_user', password = password)\n",
    "print(eng)"
   ]
  },
  {
   "cell_type": "code",
   "execution_count": null,
   "id": "f80f949b-60d6-4fd6-8a7e-28f68cf7b597",
   "metadata": {},
   "outputs": [],
   "source": [
    "%%capture\n",
    "execute_sql('''SET query_band='DEMO=Supply_Chain_Visibility.ipynb;' UPDATE FOR SESSION; ''')\n"
   ]
  },
  {
   "cell_type": "markdown",
   "id": "6dba7007",
   "metadata": {},
   "source": [
    "<p style = 'font-size:18px;font-family:Arial;color:#00233C'> <b>Getting Data for This Demo</b></p>\n",
    "<p style = 'font-size:16px;font-family:Arial;color:#00233C'>We have provided data for this demo on cloud storage. To leverage the temporal capabilities of CLearScape Analytics, will will import the data into temporal tables on local storage. </p>"
   ]
  },
  {
   "cell_type": "code",
   "execution_count": null,
   "id": "3defe04b",
   "metadata": {},
   "outputs": [],
   "source": [
    "%run -i ../run_procedure.py \"call get_data('DEMO_SupplyChain_local');\" \n",
    "# takes about 1 min 40 seconds, estimated space: 1.5 MB"
   ]
  },
  {
   "cell_type": "markdown",
   "id": "a6567e7a",
   "metadata": {},
   "source": [
    "<p style = 'font-size:16px;font-family:Arial;color:#00233C'>Next is an optional step – if you want to see status of databases/tables created and space used.</p>"
   ]
  },
  {
   "cell_type": "code",
   "execution_count": null,
   "id": "00212f8a-8ad0-401a-a69d-3335461f58fb",
   "metadata": {},
   "outputs": [],
   "source": [
    "%run -i ../run_procedure.py \"call space_report();\""
   ]
  },
  {
   "cell_type": "markdown",
   "id": "cb367c18",
   "metadata": {},
   "source": [
    "<hr style=\"height:2px;border:none;background-color:#00233C;\">\n",
    "<p style = 'font-size:20px;font-family:Arial;color:#00233C'><b>2. Architecture Diagram</b></p> \n",
    "<img src=\"images/sc_visibility.png\">  "
   ]
  },
  {
   "cell_type": "markdown",
   "id": "37512857",
   "metadata": {},
   "source": [
    "<p style = 'font-size:16px;font-family:Arial;color:#00233C'> As we can see there are various sources of data in a supply chain which will send data at different time intervals. To make informed decisions from the existing and incoming data; it is imperative that the should be in correct form.<br>using Vantage's inDb capabilities <b>Data Quality</b> and <b>Rule based checks</b> can be applied to incoming data pipeline before the reports or analysis can be done on them.  "
   ]
  },
  {
   "cell_type": "markdown",
   "id": "b83f66d2",
   "metadata": {},
   "source": [
    "<hr style=\"height:2px;border:none;background-color:#00233C;\">\n",
    "<p style = 'font-size:20px;font-family:Arial;color:#00233C'><b>3. Source tables</b></p> "
   ]
  },
  {
   "cell_type": "markdown",
   "id": "d44c31ba",
   "metadata": {},
   "source": [
    "<p style = 'font-size:16px;font-family:Arial;color:#00233C'>Let us take a look at the data in the source tables we have.<br>For our demo we have source information coming from customer, materials warehouse and transportation <u>O</u>rder <u>M</u>anagement <u>S</u>ystems (OMS). Each of these sources will update the information independent of each other and will be loaded in the EDW at separate times.<br><b>Customer</b><br>The data from the customer system have information about the order placed like when it was placed, requested arrival time, city where the order should deliver etc. The Customer system runs a batch load to EDW every 8 hours (@ 2:00, 10:00, 18:00) hence the updates in the source system happening at 7.00am will be reflected at 10.00am then the load to data warehouse is complete. This is usually reflected in the EDW start and end times (dwh_startts and dwh_endts) in the Customer_OMS table.<br><b>Transportation</b><br>Similarly the transportation system loads data every 4hours 1:00, 5:00, 9:00, 13:00, 17:00, 23:00. and has information regarding the movement of the trucks etc. <br><b>Material Warehouse</b><br>The materials warehouse system has information regarding the order fulfilment and planing and has point in time updates i.e the updates from the source system are reflected at the same time in EDW.<br>In the actual projects business there are hundreds of files come for processing in EDW and it is controlled by date control tables which keeps track of the timestamps of each source system batch\n",
    "</p>\n"
   ]
  },
  {
   "cell_type": "code",
   "execution_count": null,
   "id": "d3cc1bcd-579a-431b-a410-c02e42141ffb",
   "metadata": {},
   "outputs": [],
   "source": [
    "tdf_customer_oms = DataFrame(in_schema(\"DEMO_SupplyChain\",\"Customer_OMS\"))\n",
    "tdf_customer_oms"
   ]
  },
  {
   "cell_type": "code",
   "execution_count": null,
   "id": "de550b76-eeb9-4b04-8ab9-2ea7f19654a4",
   "metadata": {},
   "outputs": [],
   "source": [
    "tdf_customer_oms.tdtypes"
   ]
  },
  {
   "cell_type": "markdown",
   "id": "9927551e-b4cd-4888-8a7f-045d1388d965",
   "metadata": {},
   "source": [
    "<p style = 'font-size:16px;font-family:Arial;color:#00233C'>In the data above we can see that dwh_startts and dwh_endts are the start and end time of when the data was loaded in the warehouse. We can create temporal table based on the start and end times. The <b>Temporal database</b> is time aware. The difference between a temporal database and a conventional database is that a temporal database maintains data with respect to time and allows time-based reasoning, whereas a conventional database captures only a current snapshot of reality. <br><br> There are three types of temporal tables:\n",
    "<ol><li style = 'font-size:16px;font-family:Arial;color:#00233C'> TRANSACTIONTIME represents the time period where a fact was known to the database and is automatically maintained. </li>\n",
    "    <li style = 'font-size:16px;font-family:Arial;color:#00233C'> VALIDTIME represents the time period when something in the real world was in effect. For example: the period where a shipment was in transit.</li>\n",
    "    <li style = 'font-size:16px;font-family:Arial;color:#00233C'> Bitemporal tables have both TRANSACTIONTIME period and VALIDTIME period. </li></ol>\n",
    "<p style = 'font-size:16px;font-family:Arial;color:#00233C'>The table below is a TRANSACTIONTIME table. "
   ]
  },
  {
   "cell_type": "code",
   "execution_count": null,
   "id": "f27637ad-80c3-4221-a1af-f5b500c30a1c",
   "metadata": {},
   "outputs": [],
   "source": [
    "%%capture\n",
    "query1 = '''\n",
    "CREATE MULTISET TABLE DEMO_User.Customer_OMS_Temporal \n",
    "     (\n",
    "      Order_Id INTEGER,\n",
    "      Order_Ts TIMESTAMP(0),\n",
    "      Order_Status VARCHAR(30) CHARACTER SET LATIN NOT CASESPECIFIC,\n",
    "      Requested_Arrival_Ts TIMESTAMP(0),\n",
    "      Actual_Arrival_Ts TIMESTAMP(0),\n",
    "      Customer_Id VARCHAR(20) CHARACTER SET LATIN NOT CASESPECIFIC,\n",
    "      Customer_City VARCHAR(20) CHARACTER SET LATIN NOT CASESPECIFIC,\n",
    "      Quantity INTEGER,\n",
    "      Event_Ts TIMESTAMP(0),\n",
    "      Dwh_Duration PERIOD(TIMESTAMP(6) WITH TIME ZONE) NOT NULL AS TRANSACTIONTIME\n",
    "  )\n",
    "PRIMARY INDEX ( Order_Id );\n",
    "'''\n",
    "query2='''GRANT NONTEMPORAL on DEMO_User.Customer_OMS_Temporal to demo_user; '''\n",
    "\n",
    "execute_sql(query1)\n",
    "execute_sql(query2)"
   ]
  },
  {
   "cell_type": "markdown",
   "id": "5a4877f4-8bcc-4e56-8391-400b9022cc8a",
   "metadata": {},
   "source": [
    "<p style = 'font-size:16px;font-family:Arial;color:#00233C'>In a production application inserting data into a TRANSACTIONTIME table, the insert statement would take the form of:\n",
    " <br>&emsp;insert into DEMO_User.Customer_OMS_TEMPORAL (field list excluding the TRANSACTIONTIME column)\n",
    " <br>&emsp;select ( field list excluding the TRANSACTIONTIME column);\n",
    " <br>Vantage will automatically update and existing row's period ending with the current timestamp and create a new row with period beginning as the current timestamp and the ending timestamp far into the future.\n",
    "    <br><br>\n",
    " if we want to load the history data in these tables, we have to apply NONTEMPORAL clause to allow initial setting of the TRANSACTIONTIME column."
   ]
  },
  {
   "cell_type": "code",
   "execution_count": null,
   "id": "64fda7cb-b045-4d9b-a6f1-3d09238e81bb",
   "metadata": {},
   "outputs": [],
   "source": [
    "%%capture\n",
    "query = '''\n",
    "NONTEMPORAL\n",
    "insert into  DEMO_User.Customer_OMS_Temporal \n",
    "select \n",
    "      Order_Id,\n",
    "      Order_Ts,\n",
    "      Order_Status,\n",
    "      Requested_Arrival_Ts,\n",
    "      Actual_Arrival_Ts,\n",
    "      Customer_Id ,\n",
    "      Customer_City,\n",
    "      Quantity ,\n",
    "      Event_Ts,\n",
    "      CASE WHEN cast(Dwh_Endts as timestamp(6) with time zone) = '9999-12-31 00:00:00.000000-05:00' then \n",
    "      PERIOD(cast(Dwh_Startts as timestamp(6) with time zone), UNTIL_CHANGED)\n",
    "      else PERIOD(cast(Dwh_Startts as timestamp(6) with time zone),cast(dwh_endts as timestamp(6) with time zone))\n",
    "      end\n",
    "from  DEMO_SupplyChain.Customer_OMS\n",
    ";\n",
    "'''\n",
    "\n",
    "execute_sql(query)"
   ]
  },
  {
   "cell_type": "code",
   "execution_count": null,
   "id": "9d8ea341-8e95-404d-8de9-0c8eb31c3453",
   "metadata": {},
   "outputs": [],
   "source": [
    "tdf_customer_oms_t = DataFrame(in_schema(\"DEMO_User\",\"Customer_OMS_Temporal\"))\n",
    "tdf_customer_oms_t"
   ]
  },
  {
   "cell_type": "markdown",
   "id": "d534f41e-b059-488f-949f-f95ab443066a",
   "metadata": {},
   "source": [
    "<p style = 'font-size:16px;font-family:Arial;color:#00233C'>From the above output we can see that all of the rows are \"Shipment Received\" which is typically the last event for a transaction.<br>\n",
    "  <ul style = 'font-size:16px;font-family:Arial;color:#00233C'>\n",
    "      <li>The beginning of the transaction-time period is the time when the database became aware of a row,\n",
    "        when the row was first recorded in the database. This is when the row was added to a table.</li>\n",
    "      <li>The end of a transaction time period reflects when the fact was superseded by an update to the row,\n",
    "or when the row was deleted from the database. Rows containing information that is currently in effect\n",
    "        have transaction-time periods with indefinite ending bounds, represented as UNTIL_CLOSED.</li>\n",
    "        </ul>\n",
    " <p style = 'font-size:16px;font-family:Arial;color:#00233C'>Let us focus on one order (13540) to understand what temporal is doing. The dataframe output above truncated the Dwh_Duration column, so we will use SQL to get it to display the whole value.</p>"
   ]
  },
  {
   "cell_type": "code",
   "execution_count": null,
   "id": "02581fd6-57d9-4ab3-86d1-b05020ed4c33",
   "metadata": {},
   "outputs": [],
   "source": [
    "tdf_c1= DataFrame.from_query('''select top 5 order_id, order_ts, order_status, requested_arrival_ts, actual_arrival_ts, \n",
    "Customer_id, customer_city, quantity, event_ts, cast(dwh_duration as varchar(60)) dwh_duration \n",
    "from demo_user.customer_oms_temporal where order_id = 13540;''')\n",
    "tdf_c1"
   ]
  },
  {
   "cell_type": "markdown",
   "id": "68ff852e-b50d-47c5-922b-232e979c712c",
   "metadata": {},
   "source": [
    "<p style = 'font-size:16px;font-family:Arial;color:#00233C'>From the above results we can see that due to temporal table, simple select will always display the active records only. The event timestamp for shipment received was at 18:14:00 but the Event Timestamp (when the data was posted to the EDW) was at 2:00 the next day. The end of the period (dwh_duration ... data warehouse duration) was the timestamp associated with \"UNTIL_CLOSED\".\n",
    "    <br><br>For displaying all the records active and closed we need to provide 'NONSEQUENCED TRANSACTIONTIME' prefix in the query.</p>"
   ]
  },
  {
   "cell_type": "code",
   "execution_count": null,
   "id": "d4c08eda-157b-4129-996a-7d1be746c5d5",
   "metadata": {},
   "outputs": [],
   "source": [
    "tdf_c2= DataFrame.from_query('''NONSEQUENCED TRANSACTIONTIME select top 5 order_id, order_ts, order_status, requested_arrival_ts, actual_arrival_ts, \n",
    "Customer_id, customer_city, quantity, event_ts, cast(dwh_duration as varchar(60)) dwh_duration \n",
    "from demo_user.customer_oms_temporal where order_id = 13540 order by event_ts desc;''')\n",
    "tdf_c2.sort('Event_Ts')"
   ]
  },
  {
   "cell_type": "markdown",
   "id": "54bdc6d7-b4c8-4fe0-87c0-3f7f828ace78",
   "metadata": {},
   "source": [
    "<p style = 'font-size:16px;font-family:Arial;color:#00233C'>Now we can see all the records active or closed for the order_id 13540. We can see that the order information arrived in warehouse on 2023-04-06 and it's status is changed three times. \n",
    "<br><br>\n",
    "Lets add an update to show Temporal working: </p>"
   ]
  },
  {
   "cell_type": "code",
   "execution_count": null,
   "id": "4953ffb5-fca0-414f-98df-ac6b1d9edc05",
   "metadata": {},
   "outputs": [],
   "source": [
    "%%capture\n",
    "query = '''\n",
    "Update DEMO_User.Customer_OMS_Temporal set\n",
    "      Order_Status = 'Shipment Return',\n",
    "      Event_Ts = '2023-04-12 11:30:00'\n",
    "      where Order_Id = 13540\n",
    " ;\n",
    "'''\n",
    "\n",
    "execute_sql(query)   "
   ]
  },
  {
   "cell_type": "code",
   "execution_count": null,
   "id": "aa73022c-7ddb-4d31-9886-3896d4dd65b2",
   "metadata": {},
   "outputs": [],
   "source": [
    "# first showing the default view of the current transaction status\n",
    "\n",
    "tdf_c1= DataFrame.from_query('''select top 5 order_id, order_ts, order_status, requested_arrival_ts, actual_arrival_ts, \n",
    "Customer_id, customer_city, quantity, event_ts, cast(dwh_duration as varchar(60)) dwh_duration \n",
    "from demo_user.customer_oms_temporal where order_id = 13540;''')\n",
    "tdf_c1"
   ]
  },
  {
   "cell_type": "code",
   "execution_count": null,
   "id": "ce62320b-b51e-4f91-9710-9f51f5fd66a9",
   "metadata": {},
   "outputs": [],
   "source": [
    "# and showing the complete history of the transaction\n",
    "\n",
    "tdf_c2= DataFrame.from_query('''NONSEQUENCED TRANSACTIONTIME select top 5 order_id, order_ts, order_status, requested_arrival_ts, actual_arrival_ts, \n",
    "Customer_id, customer_city, quantity, event_ts, cast(dwh_duration as varchar(60)) dwh_duration \n",
    "from demo_user.customer_oms_temporal where order_id = 13540 order by event_ts desc;''')\n",
    "tdf_c2.sort('Event_Ts')"
   ]
  },
  {
   "cell_type": "markdown",
   "id": "941e61d3-cedf-4be2-8b40-aca411168a2b",
   "metadata": {},
   "source": [
    " <p style = 'font-size:16px;font-family:Arial;color:#00233C'>You could change the update statement above to create another event (like 'Return Accepted') and then rerun the subsequent queries to see the impact.\n",
    "    <br><br>Before proceeding further, let's create temporal tables for Warehouse_OMS and Transportation_OMS.</p>"
   ]
  },
  {
   "cell_type": "code",
   "execution_count": null,
   "id": "6be16762-d2ee-4b82-be5f-17901ed5b911",
   "metadata": {},
   "outputs": [],
   "source": [
    "%%capture\n",
    "# Query to create the warehouse order management system table\n",
    "query1 = '''\n",
    "CREATE MULTISET TABLE DEMO_User.Warehouse_OMS_Temporal \n",
    "     (\n",
    "      Ship_Id INTEGER,\n",
    "      Shipping_Ts TIMESTAMP(0),\n",
    "      Shipment_Status VARCHAR(20) CHARACTER SET LATIN NOT CASESPECIFIC,\n",
    "      Ship_From VARCHAR(20) CHARACTER SET LATIN NOT CASESPECIFIC,\n",
    "      Ship_To VARCHAR(20) CHARACTER SET LATIN NOT CASESPECIFIC,\n",
    "      Order_Id INTEGER,\n",
    "      Customer_Id VARCHAR(20) CHARACTER SET LATIN NOT CASESPECIFIC,\n",
    "      Order_Ts TIMESTAMP(0),\n",
    "      Quantity INTEGER,\n",
    "      Expected_Delivery_Ts TIMESTAMP(0),\n",
    "      Actual_Delivery_Ts TIMESTAMP(0),\n",
    "      Event_Ts TIMESTAMP(0),\n",
    "      Dwh_Duration PERIOD(TIMESTAMP(6) WITH TIME ZONE) NOT NULL AS TRANSACTIONTIME\n",
    "     )\n",
    "PRIMARY INDEX ( Ship_Id );\n",
    "'''\n",
    "\n",
    "query2='''GRANT NONTEMPORAL on DEMO_User.Warehouse_OMS_Temporal to demo_user; '''\n",
    "\n",
    "# Query to create the transportation order management system table\n",
    "query3 = '''\n",
    "CREATE MULTISET TABLE DEMO_User.Transportation_OMS_Temporal \n",
    "     (\n",
    "      Ship_Id INTEGER,\n",
    "      Order_Id INTEGER,\n",
    "      Status VARCHAR(20) CHARACTER SET LATIN NOT CASESPECIFIC,\n",
    "      Origin VARCHAR(20) CHARACTER SET LATIN NOT CASESPECIFIC,\n",
    "      Destination VARCHAR(20) CHARACTER SET LATIN NOT CASESPECIFIC,\n",
    "      Event_Ts TIMESTAMP(0),\n",
    "      Dwh_Duration PERIOD(TIMESTAMP(6) WITH TIME ZONE) NOT NULL AS TRANSACTIONTIME\n",
    "   )\n",
    "PRIMARY INDEX ( Ship_Id );\n",
    "'''\n",
    "\n",
    "query4='''GRANT NONTEMPORAL on DEMO_User.Transportation_OMS_Temporal to demo_user; '''\n",
    "\n",
    "\n",
    "# Query to populate the warehouse order management system temporal table\n",
    "query5 = '''\n",
    "NONTEMPORAL\n",
    "insert into  DEMO_User.Warehouse_OMS_Temporal \n",
    "select \n",
    "      Ship_Id,\n",
    "Shipping_Ts,\n",
    "Shipment_Status,\n",
    "Ship_From,\n",
    "Ship_To,\n",
    "Order_Id,\n",
    "Customer_Id,\n",
    "Order_Ts,\n",
    "Quantity,\n",
    "Expected_Delivery_Ts,\n",
    "Actual_Delivery_Ts,\n",
    "Event_Ts,\n",
    "CASE WHEN cast(Dwh_Endts as timestamp(6) with time zone) = '9999-12-31 00:00:00.000000-05:00' then \n",
    "     PERIOD(cast(Dwh_Startts as timestamp(6) with time zone), UNTIL_CHANGED)\n",
    "     else PERIOD(cast(Dwh_Startts as timestamp(6) with time zone),cast(dwh_endts as timestamp(6) with time zone))\n",
    "end\n",
    "from  DEMO_SupplyChain.Warehouse_OMS\n",
    "; \n",
    "'''\n",
    "\n",
    "# Query to populate the transportation order management system temporal table\n",
    "query6 = '''\n",
    "NONTEMPORAL\n",
    "insert into  DEMO_User.Transportation_OMS_Temporal \n",
    "select \n",
    "Ship_Id,\n",
    "Order_Id,\n",
    "Status,\n",
    "Origin,\n",
    "Destination,\n",
    "Event_Ts,\n",
    "CASE WHEN cast(Dwh_Endts as timestamp(6) with time zone) = '9999-12-31 00:00:00.000000-05:00' then \n",
    "     PERIOD(cast(Dwh_Startts as timestamp(6) with time zone), UNTIL_CHANGED)\n",
    "     else PERIOD(cast(Dwh_Startts as timestamp(6) with time zone),cast(dwh_endts as timestamp(6) with time zone))\n",
    "end\n",
    "from  DEMO_SupplyChain.Transportation_OMS\n",
    ";  \n",
    "'''\n",
    "execute_sql(query1);\n",
    "execute_sql(query2);\n",
    "execute_sql(query3);\n",
    "execute_sql(query4);\n",
    "execute_sql(query5);\n",
    "execute_sql(query6);"
   ]
  },
  {
   "cell_type": "markdown",
   "id": "f2935e5e-69da-4dfb-90c1-9ec5714678bd",
   "metadata": {},
   "source": [
    " <p style = 'font-size:16px;font-family:Arial;color:#00233C'> Now let us check the Transportation_Oms and Warehouse_Oms records for the order id 13540."
   ]
  },
  {
   "cell_type": "code",
   "execution_count": null,
   "id": "66534375-3aae-4b65-b3b2-6c7a2a5ff17e",
   "metadata": {},
   "outputs": [],
   "source": [
    "tdf_transport_oms = DataFrame(in_schema(\"DEMO_User\",\"Transportation_OMS_Temporal\"))\n",
    "tdf_transport_oms.loc[(tdf_transport_oms.Order_Id == 13540)]"
   ]
  },
  {
   "cell_type": "code",
   "execution_count": null,
   "id": "d9444ed9-15cf-4925-8669-de4c64d65774",
   "metadata": {
    "tags": []
   },
   "outputs": [],
   "source": [
    "tdf_t= DataFrame.from_query('''NONSEQUENCED TRANSACTIONTIME \n",
    "select  Ship_Id, Order_Id, Status, Origin, Destination, Event_Ts, cast(Dwh_Duration as varchar(60)) Dwh_Duration \n",
    "from DEMO_User.Transportation_OMS_Temporal where Order_Id = 13540;''')\n",
    "tdf_t.sort('Event_Ts')"
   ]
  },
  {
   "cell_type": "code",
   "execution_count": null,
   "id": "e2b5d0a6-166d-4a8d-a2bb-fcaadae07d45",
   "metadata": {},
   "outputs": [],
   "source": [
    "tdf_warehouse_oms = DataFrame(in_schema(\"DEMO_User\",\"Warehouse_OMS_Temporal\"))\n",
    "tdf_warehouse_oms.loc[(tdf_warehouse_oms.Order_Id == 13540)]"
   ]
  },
  {
   "cell_type": "code",
   "execution_count": null,
   "id": "d1c49793-206f-43eb-8bbe-997aee46dcac",
   "metadata": {},
   "outputs": [],
   "source": [
    "tdf_w= DataFrame.from_query('''NONSEQUENCED TRANSACTIONTIME \n",
    "select Ship_Id, Shipping_Ts, Shipment_Status, Ship_From, Ship_To, Order_Id, Customer_Id, Order_Ts, \n",
    "Quantity, Expected_Delivery_Ts, Actual_Delivery_Ts, Event_Ts, cast(Dwh_Duration as varchar(60)) Dwh_Duration \n",
    "from DEMO_User.Warehouse_OMS_Temporal where Order_Id = 13540;''')\n",
    "tdf_w.sort('Event_Ts')"
   ]
  },
  {
   "cell_type": "markdown",
   "id": "44d672cc-c2a1-4141-9f4e-92fbf7fda7af",
   "metadata": {},
   "source": [
    "<hr style=\"height:2px;border:none;background-color:#00233C;\">\n",
    "<p style = 'font-size:20px;font-family:Arial;color:#00233C'><b>4. What is the status of my shipment?</b></p> "
   ]
  },
  {
   "cell_type": "markdown",
   "id": "6cf10605-2eb0-496a-9a70-dd888f33d68a",
   "metadata": {},
   "source": [
    "<p style = 'font-size:16px;font-family:Arial;color:#00233C'>As we have seen before due to complexity and silos of each of the source system in large supply chains, business struggle to get the basic answers of question."
   ]
  },
  {
   "cell_type": "markdown",
   "id": "27a63887-18a3-4e19-b931-070055941dc0",
   "metadata": {},
   "source": [
    "<img src=\"images/sc_problem.png\">  "
   ]
  },
  {
   "cell_type": "markdown",
   "id": "a309aa27-a41f-4837-a7f8-584d743b0ba7",
   "metadata": {},
   "source": [
    "<p style = 'font-size:16px;font-family:Arial;color:#00233C'>Different systems can give different views due to latency of refresh of the data from the source system so which one is correct? In our example we know the Customer system only updates every 8 hours, last update was 6 hours ago so its likely out of date, warehouse system is real time and shows the order has arrived – logic is the warehouse system is probably right. \n",
    "<img src=\"images/timeline.png\">     \n",
    "<br>The above image shows the overall timeline of status of order 13540 between all the 3 systems we have. Please note that the datawarehouse update customer and transportation system in batch so if multiple updates happen in batch window only the latest will be inserted in the EDW.    \n",
    "    <br><br>Consider a scenario where customer calls asking ‘where is my order?’ – EDW insight response could be, it was delivered 4 hours ago, customer systems last updated 6 hours ago so you can’t see it yet, your system update cycle is 8 hours so please recheck your system in 2hrs time. If after 3 hrs from now Customer system has updated and order still isn’t showing, then action is to investigate because something has gone wrong (maybe delivered to wrong loading dock / good damaged on delivery so not receipted in etc).<br>Prefix TRANSACTIONTIME AS OF 'timestamp' in the temporal table will give the valid record as of the transaction time specified.<br><br> For our example let us consider we want to check what is the status of my order at 2023-04-11 at 5.10Pm.  </p>"
   ]
  },
  {
   "cell_type": "code",
   "execution_count": null,
   "id": "d72ed6db-7a8b-4297-8a0e-88ab746d4638",
   "metadata": {},
   "outputs": [],
   "source": [
    "tdf_status= DataFrame.from_query('''TRANSACTIONTIME AS OF TIMESTAMP'2023-04-11 17:10:00.000000+00:00' \n",
    "select  w.order_id as order_id, w.shipment_status  as \"status_warehouse_oms\", begin(w.dwh_duration)  w_oms_last_update_ts ,\n",
    " c.order_status as \"status_customer_oms\", begin(c.dwh_duration) as customer_oms_last_update_ts,\n",
    " t.status as \"status_transport_oms\", begin(t.dwh_duration) as transportation_oms_last_update_ts\n",
    "from demo_user.warehouse_oms_temporal w\n",
    "join demo_user.customer_oms_temporal c\n",
    "on w.order_id = c.order_id\n",
    "join demo_user.transportation_oms_temporal t\n",
    "on w.order_id = t.order_id\n",
    "where w.order_id = 13540;''')\n",
    "tdf_status"
   ]
  },
  {
   "cell_type": "markdown",
   "id": "aecbeda9-23b1-4875-9356-199a11da0f4b",
   "metadata": {},
   "source": [
    "<p style = 'font-size:16px;font-family:Arial;color:#00233C'>Here we can see the shipment status in all the three systems at time 11th April 2023, 5:10PM. With the help of temporal datatype we don't have to add any date conditions in query to get the active record from each system at the specified time, the database does this automatically. "
   ]
  },
  {
   "cell_type": "markdown",
   "id": "af174868-511c-4968-85ba-b4efb65ecd98",
   "metadata": {},
   "source": [
    "<hr style=\"height:2px;border:none;background-color:#00233C;\">\n",
    "<p style = 'font-size:20px;font-family:Arial;color:#00233C'><b>5. Customer and Warehouse locations</b></p> "
   ]
  },
  {
   "cell_type": "markdown",
   "id": "7242e74f-8e74-4f10-8936-64f1008dbf45",
   "metadata": {},
   "source": [
    "<p style = 'font-size:16px;font-family:Arial;color:#00233C'>Once we have all the data loaded in the warehouse, we can also find the other information easily like the customer and warehouse locations."
   ]
  },
  {
   "cell_type": "code",
   "execution_count": null,
   "id": "432764fd-4079-40de-932b-5341b7e82764",
   "metadata": {},
   "outputs": [],
   "source": [
    "tdf_cust = DataFrame(in_schema(\"DEMO_SupplyChain\",\"Customer\"))\n",
    "tdf_cust"
   ]
  },
  {
   "cell_type": "code",
   "execution_count": null,
   "id": "8b345e69-afd3-467b-8904-0e7585c9e644",
   "metadata": {},
   "outputs": [],
   "source": [
    "tdf_cust.shape"
   ]
  },
  {
   "cell_type": "markdown",
   "id": "4d5da4e2-b066-42f3-bd13-2dd892aae87b",
   "metadata": {},
   "source": [
    "<p style = 'font-size:16px;font-family:Arial;color:#00233C'>We have 25 customers in our demo."
   ]
  },
  {
   "cell_type": "code",
   "execution_count": null,
   "id": "9198b547-6bc5-4243-a5be-c0f84126d91d",
   "metadata": {},
   "outputs": [],
   "source": [
    "tdf_ware = DataFrame(in_schema(\"DEMO_SupplyChain\",\"Warehouse\"))\n",
    "tdf_ware"
   ]
  },
  {
   "cell_type": "code",
   "execution_count": null,
   "id": "c572f88d-ec03-4b4c-83ae-75769ac6080b",
   "metadata": {},
   "outputs": [],
   "source": [
    "tdf_ware.shape"
   ]
  },
  {
   "cell_type": "markdown",
   "id": "8ab55f6c-f56f-44ad-a701-76c4aa33d9cf",
   "metadata": {},
   "source": [
    "<p style = 'font-size:16px;font-family:Arial;color:#00233C'>We have 5 warehouse in our demo. Let us plot them on the map."
   ]
  },
  {
   "cell_type": "code",
   "execution_count": null,
   "id": "16edd965-044f-4008-a3cc-6b46c91175ad",
   "metadata": {},
   "outputs": [],
   "source": [
    "df_cust=tdf_cust.to_pandas().reset_index()\n",
    "df_ware= tdf_ware.to_pandas().reset_index()\n",
    "\n",
    "fig1 = px.scatter_mapbox(df_cust, title='Customer Locations',lat=\"Lat\", lon=\"Lng\", hover_name=\"City\", \n",
    "                        hover_data=[\"Id\"],\n",
    "                        color_discrete_sequence=[\"blue\"], zoom=3, height=500) \n",
    "fig1.add_trace(go.Scattermapbox(\n",
    "    name = \"Warehouse Location\",\n",
    "    mode = \"markers\",\n",
    "    lat = df_ware.Lat.tolist(),\n",
    "    lon = df_ware.Lng.tolist(),\n",
    "    text=df_ware.Id ,\n",
    "    hoverinfo='text',\n",
    "    marker=go.scattermapbox.Marker(\n",
    "            size=10,\n",
    "            color='rgb(0,255, 0)',\n",
    "            opacity=0.7\n",
    "    )  \n",
    "))\n",
    "fig1.update_layout(mapbox_style=\"open-street-map\" , #\"stamen-terrain\",\n",
    "                  mapbox_zoom=3,\n",
    "                  title = 'Customer and Warehouse Locations',\n",
    "                  title_y=1,\n",
    "                  margin={\"r\":0,\"t\":0,\"l\":0,\"b\":0}\n",
    "                 )    \n",
    "    \n",
    "fig1.show()  "
   ]
  },
  {
   "cell_type": "markdown",
   "id": "f742e810-cf1b-4cb4-ba99-cab72ee04ebf",
   "metadata": {},
   "source": [
    "<p style = 'font-size:16px;font-family:Arial;color:#00233C'>From the map above we can see the locations of customers and warehouse. Now let us plot a map to show the standard warehouse that is assigned to each customer based on its location."
   ]
  },
  {
   "cell_type": "code",
   "execution_count": null,
   "id": "43eaf7e5-d9bd-453f-ac72-11cab684ce81",
   "metadata": {},
   "outputs": [],
   "source": [
    "query = '''\n",
    "select c.city||'_'||c.\"name\"||'_'||c.id as id,\n",
    "upper(Std_Source) as warehouse_id,\n",
    "c.Lng,\n",
    "c.Lat, \n",
    "w.Lng as ware_lng, \n",
    "w.Lat as ware_lat\n",
    "from DEMO_SupplyChain.Customer c\n",
    "join DEMO_SupplyChain.warehouse w\n",
    "on c.Std_Source = w.id\n",
    ";\n",
    "'''\n",
    "\n",
    "df_std_ware = DataFrame.from_query(query)\n",
    "df_std_ware.sort('warehouse_id')\n"
   ]
  },
  {
   "cell_type": "code",
   "execution_count": null,
   "id": "2c5e5eab-45c7-484e-ba9b-f20d66040695",
   "metadata": {},
   "outputs": [],
   "source": [
    "# define figure\n",
    "df_std_ware=df_std_ware.to_pandas()\n",
    "fig = go.Figure()\n",
    "\n",
    "for i in range(1, df_std_ware.shape[0]):\n",
    "    df_path = df_std_ware[i:i+1]\n",
    "    lats = df_path.Lat.tolist()+df_path.ware_lat.tolist()\n",
    "    lons = df_path.Lng.tolist()+df_path.ware_lng.tolist()\n",
    "    \n",
    "    fig.add_trace(go.Scattermapbox(\n",
    "        name = str(df_path.id.values[0]),\n",
    "        mode = \"markers+lines\",\n",
    "        lat = lats,\n",
    "        lon = lons,\n",
    "        hoverinfo='text',\n",
    "        hovertemplate= ['<b>City_Name_Id:</b>:' + str(df_path.iloc[i, 0]) + '<br><i>Warehouse Id</i>:' + str(df_path.iloc[i, 1]) for i in range(df_path.shape[0])], \n",
    "        marker_color='blue' ,\n",
    "        marker=dict(size = 6) ,\n",
    "        line_color = 'cadetblue' ,\n",
    "        showlegend=False\n",
    "    ))\n",
    "fig.add_trace(go.Scattermapbox(\n",
    "    name = \"Warehouse Location\",\n",
    "    mode = \"markers\",\n",
    "    lat = df_ware.Lat.tolist(),\n",
    "    lon = df_ware.Lng.tolist(),\n",
    "    text=df_ware.Id ,\n",
    "    hoverinfo='text',\n",
    "    marker=go.scattermapbox.Marker(\n",
    "            size=10,\n",
    "            color='rgb(0,255, 0)',\n",
    "            opacity=0.7\n",
    "    )  \n",
    "))\n",
    "\n",
    "fig.update_layout(mapbox_style=\"open-street-map\" , #\"stamen-terrain\",\n",
    "                  mapbox_zoom=3,\n",
    "                  mapbox_center_lon=-95.7129,\n",
    "                  mapbox_center_lat=37.0902,\n",
    "                  title = 'Customer Locations serviced by Warehouse',\n",
    "                  title_y=1,\n",
    "                  margin={\"r\":0,\"t\":0,\"l\":0,\"b\":0}\n",
    "                 )        \n",
    "       \n",
    "fig.show()"
   ]
  },
  {
   "cell_type": "markdown",
   "id": "593e0ef1-95b6-4296-bffe-9455dae39ff4",
   "metadata": {},
   "source": [
    "<p style = 'font-size:16px;font-family:Arial;color:#00233C'>Now let us assume that WHSE202 is not servicable due to some reason. In this situation we need to assign another warehouse to the customers which were serviced by warehouse WHSE202. <br>If we consider distance between the customer location and warehouse location as the criteria for reassigning new warehouse we can do that very efficiently using the geometry functions available in Vantage. In this case we will use <b>ST_SphericalDistance</b> which calculates spherical distance between two spherical coordinates on the planet using the Haversine Formula(takes in account of Earth's curvature while calculating distance). "
   ]
  },
  {
   "cell_type": "code",
   "execution_count": null,
   "id": "14579869-602e-4e8f-b135-7ba77e8d9a13",
   "metadata": {},
   "outputs": [],
   "source": [
    "\n",
    "query = '''\n",
    "select id,warehouse_id,Lng,Lat,new_warehouse_id,Distance_Meters,\n",
    "ware_lng, \n",
    "ware_lat\n",
    "from\n",
    "(\n",
    "select c.city||'_'||c.\"name\"||'_'||c.id as id,\n",
    "upper(Std_Source) as warehouse_id,\n",
    "c.Lng,\n",
    "c.Lat,\n",
    "upper(w.Id) as new_warehouse_id,\n",
    "w.Lng as ware_lng, \n",
    "w.Lat as ware_lat,\n",
    "ROUND(new ST_Geometry('ST_Point', c.lng, c.lat).ST_SphericalDistance(new ST_Geometry('ST_Point', w.lng, w.lat)), 0) Distance_Meters\n",
    "from DEMO_SupplyChain.Customer c \n",
    "join DEMO_SupplyChain.warehouse w \n",
    " on 1=1\n",
    "where c.Std_Source = 'WHSE202'\n",
    "and w.Id <> 'WHSE202'\n",
    ")x\n",
    "QUALIFY ROW_NUMBER() OVER (partition by id,warehouse_id,Lng,Lat ORDER BY Distance_Meters) = 1;\n",
    "'''\n",
    "\n",
    "df_nw_ware = DataFrame.from_query(query)\n",
    "df_nw_ware.sort('new_warehouse_id')\n",
    "df_nw_ware=df_nw_ware.to_pandas()\n",
    "df_nw_ware.head()"
   ]
  },
  {
   "cell_type": "markdown",
   "id": "e4dba82b-b8f1-4cab-a1d3-c71b74e9774e",
   "metadata": {},
   "source": [
    "<p style = 'font-size:16px;font-family:Arial;color:#00233C'>Let us plot all this information in the map for easier understanding."
   ]
  },
  {
   "cell_type": "code",
   "execution_count": null,
   "id": "51f4bc8e-a92e-46ad-8f96-1c05ce24dd11",
   "metadata": {},
   "outputs": [],
   "source": [
    "# define figure\n",
    "df_ok_ware=df_std_ware[df_std_ware['warehouse_id'] != 'WHSE202'] \n",
    "df_no_ware=df_std_ware[df_std_ware['warehouse_id'] == 'WHSE202'] \n",
    "fig = go.Figure()\n",
    "\n",
    "for i in range(0, df_ok_ware.shape[0]):\n",
    "    df_path = df_ok_ware[i:i+1]\n",
    "    lats = df_path.Lat.tolist()+df_path.ware_lat.tolist()\n",
    "    lons = df_path.Lng.tolist()+df_path.ware_lng.tolist()\n",
    "    \n",
    "    fig.add_trace(go.Scattermapbox(\n",
    "        name = str(df_path.id.values[0]),\n",
    "        mode = \"markers+lines\",\n",
    "        lat = lats,\n",
    "        lon = lons,\n",
    "        hoverinfo='text',\n",
    "        hovertemplate= ['<b>City_Name_Id:</b>:' + str(df_path.iloc[i, 0]) + '<br><i>Warehouse Id</i>:' + str(df_path.iloc[i, 1]) for i in range(df_path.shape[0])], \n",
    "        marker_color='blue' ,\n",
    "        marker=dict(size = 6) ,\n",
    "        line_color = 'cadetblue' ,\n",
    "        showlegend=False\n",
    "    ))\n",
    "for i in range(0, df_no_ware.shape[0]):\n",
    "    df_path2 = df_no_ware[i:i+1]\n",
    "    lats = df_path2.Lat.tolist()+df_path2.ware_lat.tolist()\n",
    "    lons = df_path2.Lng.tolist()+df_path2.ware_lng.tolist()\n",
    "    \n",
    "    fig.add_trace(go.Scattermapbox(\n",
    "        name = 'not in service',\n",
    "        mode = \"markers+lines\",\n",
    "        lat = lats,\n",
    "        lon = lons,\n",
    "        hoverinfo='text',\n",
    "        hovertemplate= ['<b>City_Name_Id:</b>:' + str(df_path2.iloc[i, 0]) + '<br><i>Warehouse Id</i>:' + str(df_path2.iloc[i, 1]) for i in range(df_path2.shape[0])], \n",
    "        marker_color='blue' ,\n",
    "        marker=dict(size = 6) ,\n",
    "        line_color = 'grey' ,\n",
    "    ))\n",
    "for i in range(0, df_nw_ware.shape[0]):\n",
    "    df_path3 = df_nw_ware[i:i+1]\n",
    "    lats = df_path3.Lat.tolist()+df_path3.ware_lat.tolist()\n",
    "    lons = df_path3.Lng.tolist()+df_path3.ware_lng.tolist()\n",
    "    \n",
    "    fig.add_trace(go.Scattermapbox(\n",
    "        name = 'new warehouse'+ str(df_path3.id.values[0])[-9:],\n",
    "        mode = \"lines\",\n",
    "        lat = lats,\n",
    "        lon = lons,\n",
    "        hoverinfo='text',\n",
    "        hovertemplate= ['<b>City_Name_Id:</b>:' + str(df_path3.iloc[i, 0]) + '<br><i>New Warehouse Id</i>:' + str(df_path3.iloc[i, 4]) + '<br><i>Distance</i>:' + str(df_path3.iloc[i, 5]) for i in range(df_path3.shape[0])], \n",
    "        line_color = 'purple' ,\n",
    "    ))    \n",
    "fig.add_trace(go.Scattermapbox(\n",
    "    name = \"Warehouse Location\",\n",
    "    mode = \"markers\",\n",
    "    lat = df_ware.Lat.tolist(),\n",
    "    lon = df_ware.Lng.tolist(),\n",
    "    text=df_ware.Id ,\n",
    "    hoverinfo='text',\n",
    "    marker=go.scattermapbox.Marker(\n",
    "            size=10,\n",
    "            color='rgb(0,255, 0)',\n",
    "            opacity=0.7\n",
    "    )  \n",
    "))    \n",
    "fig.update_layout(mapbox_style=\"open-street-map\" , #\"stamen-terrain\",\n",
    "                  mapbox_zoom=3,\n",
    "                  mapbox_center_lon=-95.7129,\n",
    "                  mapbox_center_lat=37.0902,\n",
    "                  title = 'Customer Locations serviced by New Warehouse',\n",
    "                  title_y=1,\n",
    "                  margin={\"r\":0,\"t\":0,\"l\":0,\"b\":0}\n",
    "                 )        \n",
    "       \n",
    "fig.show()"
   ]
  },
  {
   "cell_type": "markdown",
   "id": "55e3fdaa-14e8-48b6-8647-34ee41735a81",
   "metadata": {},
   "source": [
    "<p style = 'font-size:16px;font-family:Arial;color:#00233C'>In the map above the grey lines are depicting the path which are not serviced and purple line are depicting the paths from new assigned warehouse."
   ]
  },
  {
   "cell_type": "markdown",
   "id": "23a2b3b5-e95a-4a14-871e-5e0855e54ee1",
   "metadata": {},
   "source": [
    "<hr style=\"height:2px;border:none;background-color:#00233C;\">\n",
    "<p style = 'font-size:20px;font-family:Arial;color:#00233C'><b>6. Conclusion</b></p>\n",
    "<p style = 'font-size:16px;font-family:Arial;color:#00233C'>In this demo we have touched upon a very basic problem that happens in supply chains and visibility at a whole EDW level can help in giving the exact version of events avoiding siloed views from each department. Having a single version of truth also helps us mitigating the unforeseen events happening in the supply chain. This can be further enhanced to give the other analytics like inventory levels at the material warehouse to future demand forecasting or by integrating the real-time locations of the trucks/transport to predict delays etc. "
   ]
  },
  {
   "cell_type": "markdown",
   "id": "7076457f-e6a6-4fec-94b8-2aabd4f69423",
   "metadata": {},
   "source": [
    "<hr style=\"height:2px;border:none;background-color:#00233C;\">\n",
    "<p style = 'font-size:20px;font-family:Arial;color:#00233C'> <b>7. Cleanup </b></p>\n",
    "<p style = 'font-size:16px;font-family:Arial;color:#00233C'>The following code will clean up tables and databases created above.</p>"
   ]
  },
  {
   "cell_type": "markdown",
   "id": "642ae1bc-023c-43e1-8b37-b2beb559db22",
   "metadata": {},
   "source": [
    "<p style = 'font-size:18px;font-family:Arial;color:#00233C'><b>Work Tables</b></p>\n",
    "<p style = 'font-size:16px;font-family:Arial;color:#00233C'>Cleanup work tables to prevent errors next time.</p>"
   ]
  },
  {
   "cell_type": "code",
   "execution_count": null,
   "id": "f48ce1c5-86a2-482b-b191-b4ae9c5b1933",
   "metadata": {},
   "outputs": [],
   "source": [
    "tables = [\"Customer_OMS_Temporal\",\"Warehouse_OMS_Temporal\",\"Transportation_OMS_Temporal\"]\n",
    "\n",
    "for t in tables:\n",
    "        try:\n",
    "            db_drop_table(table_name=t)\n",
    "        except:\n",
    "            pass"
   ]
  },
  {
   "cell_type": "markdown",
   "id": "132b3964-2ad7-4fc5-a868-d496e797af48",
   "metadata": {},
   "source": [
    "<p style = 'font-size:18px;font-family:Arial;color:#00233C'> <b>Databases and Tables </b></p>\n",
    "<p style = 'font-size:16px;font-family:Arial;color:#00233C'>The following code will clean up tables and databases created above.</p>"
   ]
  },
  {
   "cell_type": "code",
   "execution_count": null,
   "id": "0d6139cd-b1d3-4e24-b9c5-43691a1cd9b7",
   "metadata": {},
   "outputs": [],
   "source": [
    "%run -i ../run_procedure.py \"call remove_data('DEMO_SupplyChain');\"        # Takes 5 seconds"
   ]
  },
  {
   "cell_type": "code",
   "execution_count": null,
   "id": "c57c17f3-d980-4ce0-849f-4d27cc1bd55d",
   "metadata": {},
   "outputs": [],
   "source": [
    "remove_context()"
   ]
  },
  {
   "cell_type": "markdown",
   "id": "0af2781a-78b0-4a73-b964-97705313a093",
   "metadata": {},
   "source": [
    "</h4>\n",
    "<p style = 'font-size:20px;font-family:Arial;color:#00233C'><b>Reference Links:</b></p>\n",
    "<ul style = 'font-size:16px;font-family:Arial;color:#00233C'>\n",
    "    <li>Information about Temporal datatype can be found at: <a href = 'https://docs.teradata.com/search/all?query=temporal&content-lang=en-US'>Temporal Datatype</a></li>\n",
    "</ul>"
   ]
  },
  {
   "cell_type": "markdown",
   "id": "233c0844-2e2d-4926-8bac-c11a309e04ee",
   "metadata": {},
   "source": [
    "\n",
    "\n",
    "<footer style=\"paddinga:10px;background:#f9f9f9;border-bottom:3px solid #394851\">Copyright © Teradata Corporation - 2023. All Rights Reserved.</footer>"
   ]
  }
 ],
 "metadata": {
  "kernelspec": {
   "display_name": "Python 3 (ipykernel)",
   "language": "python",
   "name": "python3"
  },
  "language_info": {
   "codemirror_mode": {
    "name": "ipython",
    "version": 3
   },
   "file_extension": ".py",
   "mimetype": "text/x-python",
   "name": "python",
   "nbconvert_exporter": "python",
   "pygments_lexer": "ipython3",
   "version": "3.9.10"
  }
 },
 "nbformat": 4,
 "nbformat_minor": 5
}
