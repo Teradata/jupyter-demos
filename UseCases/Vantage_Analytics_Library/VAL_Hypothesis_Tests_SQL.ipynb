{
 "cells": [
  {
   "cell_type": "markdown",
   "metadata": {},
   "source": [
    "<header>\n",
    "   <p  style='font-size:36px;font-family:Arial; color:#F0F0F0; background-color: #00233c; padding-left: 20pt; padding-top: 20pt;padding-bottom: 10pt; padding-right: 20pt;'>\n",
    "       Vantage Analytic Library Demo\n",
    "  <br>\n",
    "       <img id=\"teradata-logo\" src=\"https://storage.googleapis.com/clearscape_analytics_demo_data/DEMO_Logo/teradata.svg\" alt=\"Teradata\" style=\"width: 125px; height: auto; margin-top: 20pt;\">\n",
    "    </p>\n",
    "</header>\n",
    "<p style = 'font-size:20px;font-family:Arial;color:#00233C'><b>Hypothesis Tests</b></p>\n",
    "\n",
    "<p style = 'font-size:16px;font-family:Arial;color:#00233C'>Statistical tests provide a means of testing whether the outcome of an experiment could have been accidental.  Numerous tests are provided in-database, all of the hypothesis testing variety.  These include the following 18 tests, categorized below, that are currently available in the Vantage Analytic Library.</p>\n",
    "\n",
    "<p style = 'font-size:16px;font-family:Arial;color:#00233C'><b>Parametric Tests</b></p>\n",
    "\n",
    "<p style = 'font-size:16px;font-family:Arial;color:#00233C'>Two Sample T-Test for Equal Means</p>\n",
    "    <li>T Paired</li>\n",
    "    <li>T Unpaired</li>\n",
    "    <li>T Unpaired with Indicator</li>\n",
    "<p style = 'font-size:16px;font-family:Arial;color:#00233C'>F-Test – N-Way</p>\n",
    "<p style = 'font-size:16px;font-family:Arial;color:#00233C'>F-Test/Analysis of Variance (Two Way Unequal Sample Size)</p>\n",
    "\n",
    "<p style = 'font-size:16px;font-family:Arial;color:#00233C'><b>Binomial Tests</b>\n",
    "\n",
    "<li>Binomial/Ztest</li>\n",
    "<li>Binomial Sign Test</li>\n",
    "</p>\n",
    "    \n",
    "<p style = 'font-size:16px;font-family:Arial;color:#00233C'><b>Tests based on Contingency</b>\n",
    "\n",
    "<li>Chi Square Test</li>\n",
    "<li>Median Test</li>\n",
    "</p>\n",
    "    \n",
    "<p style = 'font-size:16px;font-family:Arial;color:#00233C'><b>Kolmogorov/Smirnoff Tests</b>\n",
    "    \n",
    "<li>Kolmogorov/Smirnoff Test (One Sample)</li>\n",
    "<li>Lilliefors Test</li>\n",
    "<li>Shapiro-Wilk Test</li>\n",
    "<li>D’Agostino and Pearson Test</li>\n",
    "<li>Smirnov Test</li>\n",
    "</p>\n",
    "    \n",
    "<p style = 'font-size:16px;font-family:Arial;color:#00233C'><b>Rank Tests</b>\n",
    "\n",
    "<li>Mann-Whitney/Kruskal-Wallis Test</li>\n",
    "<li>Mann-Whitney/Kruskal-Wallis Independent Tests</li>\n",
    "<li>Wilcoxon Signed Ranks Test</li>\n",
    "<li>Frieman Test with Kendall’s Coefficient of Concordance & Spearman’s Rho</li>\n",
    "</p>\n",
    "    \n",
    "<p style = 'font-size:16px;font-family:Arial;color:#00233C'>In order to execute the Statistical Tests described in this book, the Statistical Test Metadata tables must be loaded into a database on the system to be analyzed.  These tables have been loaded into the Demo_Financial database along with the other VAL XSP and Table Operators.  The Statistical Test functions all provide a parameter called statsdatabase that can be used to specify the database in which these tables are installed.</p>\n",
    "\n",
    "<p style = 'font-size:16px;font-family:Arial;color:#00233C'><b>Vantage Analytic Library - Call Structure</b></p>\n",
    "\n",
    "call val.td_analyze('\\<function name\\>','\\<database=database name\\>;\\<tablename=table name\\>;\\<columns=column1, column2\\>,'\\<param1\\>=\\<value1\\>;\\<param2\\>=\\<value2\\>...');"
   ]
  },
  {
   "cell_type": "markdown",
   "metadata": {},
   "source": [
    "<hr style=\"height:2px;border:none;background-color:#00233C;\">"
   ]
  },
  {
   "cell_type": "markdown",
   "metadata": {},
   "source": [
    "<p style = 'font-size:20px;font-family:Arial;color:#00233C'> <b>1.Connect to Vantage </b></p>\n",
    "<p style = 'font-size:16px;font-family:Arial;color:#00233C'>You will be prompted to provide the password. Enter your password, press Enter, then use down arrow to go to next cell.</p>"
   ]
  },
  {
   "cell_type": "code",
   "execution_count": null,
   "metadata": {
    "tags": []
   },
   "outputs": [],
   "source": [
    "%connect local, hidewarnings=true"
   ]
  },
  {
   "cell_type": "markdown",
   "metadata": {},
   "source": [
    "<p style = 'font-size:16px;font-family:Arial;color:#00233C'>Setup for execution of notebook. Begin running steps with Shift + Enter keys.</p>\n"
   ]
  },
  {
   "cell_type": "code",
   "execution_count": null,
   "metadata": {},
   "outputs": [],
   "source": [
    "Set query_band='DEMO=VAL_Hypothesis_Tests_SQL.ipynb;' update for session;"
   ]
  },
  {
   "cell_type": "markdown",
   "metadata": {},
   "source": [
    "<hr style=\"height:2px;border:none;background-color:#00233C;\">\n",
    "<p style = 'font-size:20px;font-family:Arial;color:#00233C'> <b>2. Getting Data for This Demo</b></p>\n",
    "<p style = 'font-size:16px;font-family:Arial;color:#00233C'>We have provided data for this demo on cloud storage. You can either run the demo using foreign tables to access the data without any storage on your environment or download the data to local storage, which may yield faster execution. Still, there could be considerations of available storage. Two statements are in the following cell, and one of them is commented out. You may switch between the modes by changing the comment string.</p>\n"
   ]
  },
  {
   "cell_type": "code",
   "execution_count": null,
   "metadata": {},
   "outputs": [],
   "source": [
    "---call get_data('DEMO_Financial_cloud'); ---takes about 35 seconds\n",
    "call get_data('DEMO_Financial_local'); ---takes about 100 seconds"
   ]
  },
  {
   "cell_type": "markdown",
   "metadata": {},
   "source": [
    "<p style = 'font-size:16px;font-family:Arial;color:#00233C'>Optional step – if you want to see status of databases/tables created and space used.</p>\n"
   ]
  },
  {
   "cell_type": "code",
   "execution_count": null,
   "metadata": {},
   "outputs": [],
   "source": [
    "call space_report();  -- optional, takes about 10 seconds"
   ]
  },
  {
   "cell_type": "markdown",
   "metadata": {},
   "source": [
    "<hr style=\"height:2px;border:none;background-color:#00233C;\">\n",
    "<p style = 'font-size:20px;font-family:Arial;color:#00233C'><b>3. Demo data - Financial Customers/Accounts/Transactions</b></p>\n",
    "\n",
    "<p style = 'font-size:16px;font-family:Arial;color:#00233C'>The following data has been put into the DEMO_Financial database for the examples in the three different Jupyter Notebooks.  It's a simplistic fictitious dataset of banking customers (approx. 10K rows), Accounts (approx. 20K rows) and Transactions (approx. 1Million rows).  They are related to each other in the following ways:</p>\n",
    "\n",
    "<img src=\"images/DemoData.png\">"
   ]
  },
  {
   "cell_type": "code",
   "execution_count": null,
   "metadata": {
    "scrolled": true,
    "tags": []
   },
   "outputs": [],
   "source": [
    "SELECT TOP 5 * FROM DEMO_Financial.Customer;"
   ]
  },
  {
   "cell_type": "markdown",
   "metadata": {},
   "source": [
    "<p style = 'font-size:16px;font-family:Arial;color:#00233C'>Below command gives the metadata for the table.</p>"
   ]
  },
  {
   "cell_type": "code",
   "execution_count": null,
   "metadata": {},
   "outputs": [],
   "source": [
    "%meta"
   ]
  },
  {
   "cell_type": "code",
   "execution_count": null,
   "metadata": {},
   "outputs": [],
   "source": [
    "SELECT TOP 5 * FROM DEMO_Financial.Accounts;"
   ]
  },
  {
   "cell_type": "code",
   "execution_count": null,
   "metadata": {},
   "outputs": [],
   "source": [
    "SELECT TOP 5 * FROM DEMO_Financial.Transactions;"
   ]
  },
  {
   "cell_type": "markdown",
   "metadata": {},
   "source": [
    "<hr style=\"height:1px;border:none;background-color:#00233C;\">"
   ]
  },
  {
   "cell_type": "markdown",
   "metadata": {},
   "source": [
    "<p style = 'font-size:16px;font-family:Arial;color:#00233C'>The following Analytic Data Set (ADS) was created by joining all three tables above:</p>"
   ]
  },
  {
   "cell_type": "code",
   "execution_count": null,
   "metadata": {},
   "outputs": [],
   "source": [
    "CREATE MULTISET TABLE demo_user.VAL_ADS AS (\n",
    "    SELECT \n",
    "        T1.cust_id  AS cust_id\n",
    "       ,MIN(T1.income) AS tot_income\n",
    "       ,MIN(T1.age) AS tot_age\n",
    "       ,MIN(T1.years_with_bank) AS tot_cust_years\n",
    "       ,MIN(T1.nbr_children) AS tot_children\n",
    "       ,CASE WHEN MIN(T1.marital_status) = 1 THEN 1 ELSE 0 END AS single_ind\n",
    "       ,CASE WHEN MIN(T1.gender) = 'F' THEN 1 ELSE 0 END AS female_ind\n",
    "       ,CASE WHEN MIN(T1.marital_status) = 2 THEN 1 ELSE 0 END AS married_ind\n",
    "       ,CASE WHEN MIN(T1.marital_status) = 3 THEN 1 ELSE 0 END AS separated_ind\n",
    "       ,MAX(CASE WHEN T1.state_code = 'CA' THEN 1 ELSE 0 END) AS ca_resident_ind\n",
    "       ,MAX(CASE WHEN T1.state_code = 'NY' THEN 1 ELSE 0 END) AS ny_resident_ind\n",
    "       ,MAX(CASE WHEN T1.state_code = 'TX' THEN 1 ELSE 0 END) AS tx_resident_ind\n",
    "       ,MAX(CASE WHEN T1.state_code = 'IL' THEN 1 ELSE 0 END) AS il_resident_ind\n",
    "       ,MAX(CASE WHEN T1.state_code = 'AZ' THEN 1 ELSE 0 END) AS az_resident_ind\n",
    "       ,MAX(CASE WHEN T1.state_code = 'OH' THEN 1 ELSE 0 END) AS oh_resident_ind\n",
    "       ,MAX(CASE WHEN T2.acct_type = 'CK' THEN 1 ELSE 0 END) AS ck_acct_ind\n",
    "       ,MAX(CASE WHEN T2.acct_type = 'SV' THEN 1 ELSE 0 END) AS sv_acct_ind\n",
    "       ,MAX(CASE WHEN T2.acct_type = 'CC' THEN 1 ELSE 0 END) AS cc_acct_ind\n",
    "       ,AVG(CASE WHEN T2.acct_type = 'CK' THEN T2.starting_balance+T2.ending_balance ELSE 0 END) AS ck_avg_bal\n",
    "       ,AVG(CASE WHEN T2.acct_type = 'SV' THEN T2.starting_balance+T2.ending_balance ELSE 0 END) AS sv_avg_bal\n",
    "       ,AVG(CASE WHEN T2.acct_type = 'CC' THEN T2.starting_balance+T2.ending_balance ELSE 0 END) AS cc_avg_bal\n",
    "       ,AVG(CASE WHEN T2.acct_type = 'CK' THEN T3.principal_amt+T3.interest_amt ELSE 0 END) AS ck_avg_tran_amt\n",
    "       ,AVG(CASE WHEN T2.acct_type = 'SV' THEN T3.principal_amt+T3.interest_amt ELSE 0 END) AS sv_avg_tran_amt\n",
    "       ,AVG(CASE WHEN T2.acct_type = 'CC' THEN T3.principal_amt+T3.interest_amt ELSE 0 END) AS cc_avg_tran_amt\n",
    "       ,COUNT(CASE WHEN ((EXTRACT(MONTH FROM T3.tran_date) + 2) / 3) = 1 THEN T3.tran_id ELSE NULL END) AS q1_trans_cnt\n",
    "       ,COUNT(CASE WHEN ((EXTRACT(MONTH FROM T3.tran_date) + 2) / 3) = 2 THEN T3.tran_id ELSE NULL END) AS q2_trans_cnt\n",
    "       ,COUNT(CASE WHEN ((EXTRACT(MONTH FROM T3.tran_date) + 2) / 3) = 3 THEN T3.tran_id ELSE NULL END) AS q3_trans_cnt\n",
    "       ,COUNT(CASE WHEN ((EXTRACT(MONTH FROM T3.tran_date) + 2) / 3) = 4 THEN T3.tran_id ELSE NULL END) AS q4_trans_cnt\n",
    "    FROM DEMO_Financial.Customer AS T1\n",
    "        LEFT OUTER JOIN DEMO_Financial.Accounts AS T2\n",
    "            ON T1.cust_id = T2.cust_id\n",
    "        LEFT OUTER JOIN DEMO_Financial.Transactions AS T3\n",
    "            ON T2.acct_nbr = T3.acct_nbr\n",
    "GROUP BY T1.cust_id) WITH DATA UNIQUE PRIMARY INDEX (cust_id);"
   ]
  },
  {
   "cell_type": "code",
   "execution_count": null,
   "metadata": {},
   "outputs": [],
   "source": [
    "SELECT TOP 5 * FROM VAL_ADS;"
   ]
  },
  {
   "cell_type": "markdown",
   "metadata": {},
   "source": [
    "<hr style=\"height:2px;border:none;background-color:#00233C;\">\n",
    "<p style = 'font-size:20px;font-family:Arial;color:#00233C'><b>4. Statistical Tests</b></p>\n",
    "\n",
    "<p style = 'font-size:18px;font-family:Arial;color:#00233C'><b>Binomial Tests</b></p>\n",
    "\n",
    "<p style = 'font-size:16px;font-family:Arial;color:#00233C'><b>Purpose</b></p>\n",
    "<p style = 'font-size:16px;font-family:Arial;color:#00233C'>In a binomial test there are assumed to be an independent trials, each with two possible outcomes, each of equal probability.  You may choose to perform a binomial test, in which the sign of the difference between a first and second column is analyzed, or a sign test, in which the sign of a single column is analyzed.  In a binomial test, you may choose to use a probability different from the 0.5 default value, whereas in a sign test, the binomial probability is fixed at 0.5.</p>\n",
    "\n",
    "<p style = 'font-size:16px;font-family:Arial;color:#00233C'><b>Required Parameters</b></p>\n",
    "\n",
    "<p style = 'font-size:16px;font-family:Arial;color:#00233C'><b>- **binomialtest**</b></p>\n",
    "\n",
    "\n",
    "<p style = 'font-size:16px;font-family:Arial;color:#00233C'>The binomialtest parameter:</p>\n",
    "<p style = 'font-size:16px;font-family:Arial;color:#00233C'>\n",
    "    <li>Is required</li>\n",
    "    <li>Must be the first parameter</li>\n",
    "    <li>Is always enclosed in single quotes</li>\n",
    "</p>\n",
    "\n",
    "<p style = 'font-size:16px;font-family:Arial;color:#00233C'><b>- **database**</b></p>\n",
    "\n",
    "<p style = 'font-size:16px;font-family:Arial;color:#00233C'>The database containing the table to analyze.</p>\n",
    "\n",
    "<p style = 'font-size:16px;font-family:Arial;color:#00233C'><b>- **firstcolumn**</b></p>\n",
    "\n",
    "<p style = 'font-size:16px;font-family:Arial;color:#00233C'>The column to analyze. It must reside in the table indicated by the tablename parameter</p>\n",
    "\n",
    "<p style = 'font-size:16px;font-family:Arial;color:#00233C'><b>- **tablename**</b></p>\n",
    "\n",
    "<p style = 'font-size:16px;font-family:Arial;color:#00233C'>The table containing the columns to analyze.  It must reside in the database indicated by the database parameter.</p>\n",
    "\n",
    "<p style = 'font-size:16px;font-family:Arial;color:#00233C'><b>Optional Parameters</b></p>\n",
    "\n",
    "<p style = 'font-size:16px;font-family:Arial;color:#00233C'><b>- **binomialprobability**</b></p>\n",
    "\n",
    "<p style = 'font-size:16px;font-family:Arial;color:#00233C'>You may optionally change the binomial probability or allow it to default to 0.5.  This parameter may not be used for a sign test.</p>\n",
    "\n",
    "<p style = 'font-size:16px;font-family:Arial;color:#00233C'><b>- **exactmatches**</b></p>\n",
    "\n",
    "<p style = 'font-size:16px;font-family:Arial;color:#00233C'>This parameter determines what category to place exact matches in.  If zero, exact match is discarded.  If positive, match is placed with values greater than or equal to zero.  If negative or parameter not specified (default), match is placed with values less than or equal to zero.  Note that the exactmatches parameter is not allowed if this is a sign test.</p>\n",
    "\n",
    "<p style = 'font-size:16px;font-family:Arial;color:#00233C'><b>- **fallback**</b></p>\n",
    "\n",
    "<p style = 'font-size:16px;font-family:Arial;color:#00233C'>When true, FALLBACK is requested as an attribute of the created output results table.  When false or parameter not specified, the FALLBACK attribute is not included in the create table SQL.</p>\n",
    "\n",
    "<p style = 'font-size:16px;font-family:Arial;color:#00233C'><b>- **gensqlonly**</b></p>\n",
    "\n",
    "<p style = 'font-size:16px;font-family:Arial;color:#00233C'>When true, the SQL for the requested function is returned as a result set but not run. When not specified or set to false, the SQL is run but not returned.</p>\n",
    "\n",
    "<p style = 'font-size:16px;font-family:Arial;color:#00233C'><b>- **groupby**</b></p>\n",
    "\n",
    "<p style = 'font-size:16px;font-family:Arial;color:#00233C'>One or more group-by columns may optionally be specified so that a separate result is produced for each value or combination of values in the specified column or columns.</p>\n",
    "\n",
    "<p style = 'font-size:16px;font-family:Arial;color:#00233C'><b>- **multiset**</b></p>\n",
    "\n",
    "<p style = 'font-size:16px;font-family:Arial;color:#00233C'>When true, MULTISET is requested as an attribute of the created output results table.  When false or parameter not specified, the MULTISET attribute is not included in the create table SQL.</p>\n",
    "\n",
    "<p style = 'font-size:16px;font-family:Arial;color:#00233C'><b>- **outputdatabase**</b></p>\n",
    "\n",
    "<p style = 'font-size:16px;font-family:Arial;color:#00233C'>Specifies the name of the database to contain the analysis results table.</p>\n",
    "\n",
    "<p style = 'font-size:16px;font-family:Arial;color:#00233C'><b>- **outputtablename**</b></p>\n",
    "\n",
    "<p style = 'font-size:16px;font-family:Arial;color:#00233C'>Specifies the name of the table to store the analysis results. If not supplied, the results are returned as a result set.</p>\n",
    "\n",
    "<p style = 'font-size:16px;font-family:Arial;color:#00233C'><b>- **overwrite**</b></p>\n",
    "\n",
    "<p style = 'font-size:16px;font-family:Arial;color:#00233C'>When overwrite is set to true or not set, the output table is dropped before creating a new one.</p>\n",
    "\n",
    "<p style = 'font-size:16px;font-family:Arial;color:#00233C'><b>- **secondcolumn**</b></p>\n",
    "\n",
    "<p style = 'font-size:16px;font-family:Arial;color:#00233C'>A second column is required when performing a binomial test, and not allowed when performing a sign test.</p>\n",
    "\n",
    "<p style = 'font-size:16px;font-family:Arial;color:#00233C'><b>- **singletail**</b></p>\n",
    "\n",
    "<p style = 'font-size:16px;font-family:Arial;color:#00233C'>A single-tailed test may be requested by setting this parameter to true.  A two-tailed test may be requested by setting this parameter to false or by not specifying it at all (the default value).  If the binomial probability is not 0.5, singletail must be set to true.</p>\n",
    "\n",
    "<p style = 'font-size:16px;font-family:Arial;color:#00233C'><b>- **statsdatabase**</b></p>\n",
    "\n",
    "<p style = 'font-size:16px;font-family:Arial;color:#00233C'>This is the database where the statistical test metadata tables are installed.  If not specified, the source database is searched for these metadata tables.</p>\n",
    "\n",
    "<p style = 'font-size:16px;font-family:Arial;color:#00233C'><b>- **teststyle**</b></p>\n",
    "\n",
    "<p style = 'font-size:16px;font-family:Arial;color:#00233C'>The valid values are binomial and sign, representing a binomial or sign test.  If not specified, the default test style is binomial.</p>\n",
    "\n",
    "<p style = 'font-size:16px;font-family:Arial;color:#00233C'><b>- **thresholdprobability**</b></p>\n",
    "\n",
    "<p style = 'font-size:16px;font-family:Arial;color:#00233C'>You may optionally change the threshold probability or allow it to default to 0.05.  Below this  \"alpha\" probability the null hypothesis is rejected</p>"
   ]
  },
  {
   "cell_type": "markdown",
   "metadata": {},
   "source": [
    "<hr style=\"height:1px;border:none;background-color:#00233C;\">"
   ]
  },
  {
   "cell_type": "markdown",
   "metadata": {},
   "source": [
    "<p style = 'font-size:16px;font-family:Arial;color:#00233C'>1.  Binomial test producing an unpersisted result set with default values for thresholdprobabilty (.05), binomialprobability (0.5), singletail (false) and exactmatches (negative).</p>"
   ]
  },
  {
   "cell_type": "code",
   "execution_count": null,
   "metadata": {},
   "outputs": [],
   "source": [
    "call val.td_analyze('BinomialTest',\n",
    "                         'database=demo_user;\n",
    "                          tablename=VAL_ADS;\n",
    "                          firstcolumn=sv_avg_bal;\n",
    "                          secondcolumn=ck_avg_bal;\n",
    "                          statsdatabase=val;');"
   ]
  },
  {
   "cell_type": "markdown",
   "metadata": {},
   "source": [
    "<p style = 'font-size:16px;font-family:Arial;color:#00233C'>The above output has the output columns as below(If there are groupby columns, they comprise the UPI(Unique Primary Index). Otherwise, N is the UPI.\n",
    "\n",
    "teststyle = binomial (Default))</p>\n",
    "\n",
    " <table style = 'font-size:14px;font-family:Arial;color:#00233C'>\n",
    "  <tr>\n",
    "    <th>Column</th>\n",
    "    <th>DataType</th>\n",
    "    <th>Description</th>\n",
    "  </tr>\n",
    "  <tr>\n",
    "    <td>N</td>\n",
    "    <td>Float</td>  \n",
    "    <td>Count of value pairs.</td>\n",
    "  </tr>\n",
    "  <tr>\n",
    "    <td>NPos</td>\n",
    "    <td>Float</td>  \n",
    "    <td>Count of positive value differences.</td>\n",
    "  </tr>\n",
    "  <tr>\n",
    "    <td>NNeg</td>\n",
    "    <td>Float</td>  \n",
    "    <td>Count of negative value differences.</td>\n",
    "  </tr>\n",
    "  <tr>\n",
    "    <td>BO</td>\n",
    "    <td>Float</td>  \n",
    "    <td>Binomial probability.</td>\n",
    "  </tr>\n",
    "  <tr>\n",
    "    <td>BinomialCallP</td>\n",
    "    <td>Char</td>  \n",
    "    <td>Binomial result:\n",
    "        <li>a=accept null hypothesis</li>\n",
    "        <li>p=reject null hypothesis (positive)</li>\n",
    "        <li>n=reject null hypothesis (negative)</li>\n",
    "    </td>\n",
    "  </tr>    \n",
    "</table>\n",
    "   \n",
    "<p>"
   ]
  },
  {
   "cell_type": "markdown",
   "metadata": {},
   "source": [
    "<p style = 'font-size:16px;font-family:Arial;color:#00233C'>2.  Binomial test producing a result table and introducing a groupby variable gender with default values for other parameters.</p>"
   ]
  },
  {
   "cell_type": "code",
   "execution_count": null,
   "metadata": {},
   "outputs": [],
   "source": [
    "call val.td_analyze('BinomialTest', \n",
    "                         'database=demo_user;\n",
    "                          tablename=VAL_ADS;\n",
    "                          firstcolumn=sv_avg_bal;\n",
    "                          secondcolumn=ck_avg_bal;\n",
    "                          groupby=female_ind;\n",
    "                          outputdatabase=demo_user;\n",
    "                          outputtablename=_val_binomial_example2;\n",
    "                          statsdatabase=val;');"
   ]
  },
  {
   "cell_type": "code",
   "execution_count": null,
   "metadata": {
    "tags": []
   },
   "outputs": [],
   "source": [
    "SELECT TOP 5 * FROM demo_user._val_binomial_example2;"
   ]
  },
  {
   "cell_type": "markdown",
   "metadata": {},
   "source": [
    "<p style = 'font-size:16px;font-family:Arial;color:#00233C'>The above output has columns similar to those mentioned in the previous call. We have 2 rows as they are classified based on gender.</p>"
   ]
  },
  {
   "cell_type": "markdown",
   "metadata": {},
   "source": [
    "<p style = 'font-size:16px;font-family:Arial;color:#00233C'>3.  Sign test producing an unpersisted result set with default values for thresholdprobabilty (.05) and singletail (false).</p>"
   ]
  },
  {
   "cell_type": "code",
   "execution_count": null,
   "metadata": {},
   "outputs": [],
   "source": [
    "call val.td_analyze('BinomialTest',\n",
    "                         'database=demo_user;\n",
    "                          tablename=VAL_ADS;\n",
    "                          firstcolumn=sv_avg_bal;\n",
    "                          teststyle=sign;\n",
    "                          statsdatabase=val;');"
   ]
  },
  {
   "cell_type": "markdown",
   "metadata": {},
   "source": [
    "<p style = 'font-size:16px;font-family:Arial;color:#00233C'>The above output has columns similar to those mentioned in the previous call. We have only 1 row as output as we do not have the group by gender.</p>"
   ]
  },
  {
   "cell_type": "markdown",
   "metadata": {},
   "source": [
    "<p style = 'font-size:16px;font-family:Arial;color:#00233C'>4.  Sign test producing a result table and introducing a groupby variable gender with default values for other parameters.</p>"
   ]
  },
  {
   "cell_type": "code",
   "execution_count": null,
   "metadata": {},
   "outputs": [],
   "source": [
    "call val.td_analyze('BinomialTest', \n",
    "                         'database=demo_user;\n",
    "                          tablename=VAL_ADS;\n",
    "                          firstcolumn=sv_avg_bal;\n",
    "                          groupby=female_ind;\n",
    "                          outputdatabase=demo_user;\n",
    "                          outputtablename=_val_binomial_example4;\n",
    "                          teststyle=sign;\n",
    "                          statsdatabase=val;');"
   ]
  },
  {
   "cell_type": "code",
   "execution_count": null,
   "metadata": {},
   "outputs": [],
   "source": [
    "SELECT TOP 5 * FROM demo_user._val_binomial_example4;"
   ]
  },
  {
   "cell_type": "markdown",
   "metadata": {},
   "source": [
    "<p style = 'font-size:16px;font-family:Arial;color:#00233C'>The above output has columns similar to those mentioned in the previous call. We have 2 rows as they are classified based on gender.</p>"
   ]
  },
  {
   "cell_type": "markdown",
   "metadata": {},
   "source": [
    "<hr style=\"height:2px;border:none;background-color:#00233C;\">"
   ]
  },
  {
   "cell_type": "markdown",
   "metadata": {},
   "source": [
    "<p style = 'font-size:20px;font-family:Arial;color:#00233C'><b>5. Kolmogorov-Smirnoff Tests</b></p>\n",
    "\n",
    "<p style = 'font-size:16px;font-family:Arial;color:#00233C'><b>Purpose</b></p>\n",
    "\n",
    "<p style = 'font-size:16px;font-family:Arial;color:#00233C'>Kolmogorov-Smirnov Goodness-of-Fit Test is used to decide if a sample comes from a population with a specific distribution.  An attractive feature of this test is that the distribution of the K-S test statistic itself does not depend on the underlying cumulative distribution function being tested. Another advantage is that it is an exact test.</p>\n",
    "\n",
    "<p style = 'font-size:16px;font-family:Arial;color:#00233C'><b>Required Parameters</b></p>\n",
    "\n",
    "<p style = 'font-size:16px;font-family:Arial;color:#00233C'><b>- **columnofinterest**</b></p>\n",
    "\n",
    "<p style = 'font-size:16px;font-family:Arial;color:#00233C'>The numeric column that is tested to have a normal distribution. It must reside in the table indicated by the tablename parameter</p>\n",
    "\n",
    "<p style = 'font-size:16px;font-family:Arial;color:#00233C'><b>- **database**</b></p>\n",
    "\n",
    "<p style = 'font-size:16px;font-family:Arial;color:#00233C'>The database containing the table to analyze.</p>\n",
    "\n",
    "<p style = 'font-size:16px;font-family:Arial;color:#00233C'><b>- **kstest**</b></p>\n",
    "\n",
    "<p style = 'font-size:16px;font-family:Arial;color:#00233C'>The kstest parameter:\n",
    "    <li>Is required</li>\n",
    "    <li>Must be the first parameter</li>\n",
    "    <li>Is always enclosed in single quotes</li>\n",
    "</p>\n",
    "\n",
    "<p style = 'font-size:16px;font-family:Arial;color:#00233C'><b>- **tablename**</b></p>\n",
    "\n",
    "<p style = 'font-size:16px;font-family:Arial;color:#00233C'>The table containing the columns to analyze.  It must reside in the database indicated by the database parameter.</p>\n",
    "\n",
    "<p style = 'font-size:16px;font-family:Arial;color:#00233C'><b>Optional Parameters</b></p>\n",
    "\n",
    "<p style = 'font-size:16px;font-family:Arial;color:#00233C'><b>- **columns**</b></p>\n",
    "\n",
    "<p style = 'font-size:16px;font-family:Arial;color:#00233C'>Used only by the Smirnov test, this parameter represents a categorical variable with two values that indicate the distribution to which the columnofinterest belongs. It must reside in the table indicated by the tablename parameter.</p>\n",
    "\n",
    "<p style = 'font-size:16px;font-family:Arial;color:#00233C'><b>- **fallback**</b></p>\n",
    "\n",
    "<p style = 'font-size:16px;font-family:Arial;color:#00233C'>When true, FALLBACK is requested as an attribute of the created output results table.  When false or parameter not specified, the FALLBACK attribute is not included in the create table SQL.</p>\n",
    "\n",
    "<p style = 'font-size:16px;font-family:Arial;color:#00233C'><b>- **gensqlonly**</b></p>\n",
    "\n",
    "<p style = 'font-size:16px;font-family:Arial;color:#00233C'>When true, the SQL for the requested function is returned as a result set but not run. When not specified or set to false, the SQL is run but not returned.  This parameter is not allowed when using the Smirnov test.</p>\n",
    "\n",
    "<p style = 'font-size:16px;font-family:Arial;color:#00233C'><b>- **groupby**</b></p>\n",
    "    \n",
    "<p style = 'font-size:16px;font-family:Arial;color:#00233C'>One or more group-by columns may optionally be specified so that a separate result is produced for each value or combination of values in the specified column or columns.</p>\n",
    "\n",
    "<p style = 'font-size:16px;font-family:Arial;color:#00233C'><b>- **multiset**</b></p>\n",
    "\n",
    "<p style = 'font-size:16px;font-family:Arial;color:#00233C'>When true, MULTISET is requested as an attribute of the created output results table.  When false or parameter not specified, the MULTISET attribute is not included in the create table SQL.</p>\n",
    "\n",
    "<p style = 'font-size:16px;font-family:Arial;color:#00233C'><b>- **outputdatabase**</b></p>\n",
    "\n",
    "<p style = 'font-size:16px;font-family:Arial;color:#00233C'>Specifies the name of the database to contain the analysis results table.</p>\n",
    "\n",
    "<p style = 'font-size:16px;font-family:Arial;color:#00233C'><b>- **outputtablename**</b></p>\n",
    "\n",
    "<p style = 'font-size:16px;font-family:Arial;color:#00233C'>Specifies the name of the table to store the analysis results. If not supplied, the results are returned as a result set.</p><p style = 'font-size:16px;font-family:Arial;color:#00233C'>\n",
    "\n",
    "<p style = 'font-size:16px;font-family:Arial;color:#00233C'><b>- **overwrite**</b></p>\n",
    "\n",
    "<p style = 'font-size:16px;font-family:Arial;color:#00233C'>When overwrite is set to true or not set, the output table is dropped before creating a new one.</p>\n",
    "\n",
    "<p style = 'font-size:16px;font-family:Arial;color:#00233C'><b>- **statsdatabase**</b></p>\n",
    "\n",
    "<p style = 'font-size:16px;font-family:Arial;color:#00233C'>This is the database where the statistical test metadata tables are installed.  If not specified, the source database is searched for these metadata tables.</p>\n",
    "\n",
    "<p style = 'font-size:16px;font-family:Arial;color:#00233C'><b>- **teststyle**</b></p>\n",
    "\n",
    "<p style = 'font-size:16px;font-family:Arial;color:#00233C'>The valid values are ks, l, sw, p and s, representing a Kolmogorov-Smirnov, Lilliefors, Shapiro-Wilk, D’Agostino and Pearson or Smirnov test.  If not specified, the default test style is Kolmogorov-Smirnov (ks).</p>\n",
    "\n",
    "<p style = 'font-size:16px;font-family:Arial;color:#00233C'><b>- **thresholdprobability**</b></p>\n",
    "\n",
    "<p style = 'font-size:16px;font-family:Arial;color:#00233C'>You may optionally change the threshold probability or allow it to default to 0.05.  Below this  \"alpha\" probability the null hypothesis is rejected.</p>"
   ]
  },
  {
   "cell_type": "markdown",
   "metadata": {},
   "source": [
    "<hr style=\"height:1px;border:none;background-color:#00233C;\">"
   ]
  },
  {
   "cell_type": "markdown",
   "metadata": {},
   "source": [
    "<p style = 'font-size:16px;font-family:Arial;color:#00233C'>1.  Kolmogorov-Smirnov test with group-by option.</p>"
   ]
  },
  {
   "cell_type": "code",
   "execution_count": null,
   "metadata": {},
   "outputs": [],
   "source": [
    "call val.td_analyze('KSTest', \n",
    "                         'database=demo_user;\n",
    "                          tablename=VAL_ADS;\n",
    "                          columnofinterest=tot_income;\n",
    "                          teststyle=KS;\n",
    "                          groupby=tot_cust_years;\n",
    "                          statsdatabase=val;');"
   ]
  },
  {
   "cell_type": "markdown",
   "metadata": {},
   "source": [
    "<p style = 'font-size:16px;font-family:Arial;color:#00233C'>The above output has the output columns as below(If there are groupby columns, they comprise the UPI. Otherwise, N is the UPI.\n",
    "\n",
    "teststyle = ks (Default)</p>\n",
    "\n",
    " <table style = 'font-size:14px;font-family:Arial;color:#00233C'>\n",
    "  <tr>\n",
    "    <th>Column</th>\n",
    "    <th>DataType</th>\n",
    "    <th>Description</th>\n",
    "  </tr>\n",
    "  <tr>\n",
    "    <td>Klm</td>\n",
    "    <td>Float</td>  \n",
    "    <td>Kolmogorov-Smirnov statistic.</td>\n",
    "  </tr>\n",
    "  <tr>\n",
    "    <td>M</td>\n",
    "    <td>Float</td>  \n",
    "    <td>Count.</td>\n",
    "  </tr>\n",
    "  <tr>\n",
    "    <td>KlmPValue</td>\n",
    "    <td>Float</td>  \n",
    "    <td>Probability associated with Kolmogorov-Smirnov statistic.</td>\n",
    "  </tr>\n",
    "  <tr>\n",
    "    <td>KlmPText</td>\n",
    "    <td>Char</td>  \n",
    "    <td>Text description if probability is outside table range.</td>\n",
    "  </tr>\n",
    "  <tr>\n",
    "    <td>KlmCallP_0.05</td>\n",
    "    <td>Char</td>  \n",
    "    <td>Kolmogorov-Smirnov result:\n",
    "        <li>a=accept null hypothesis</li>\n",
    "        <li>p=reject null hypothesis</li>\n",
    "    </td>\n",
    "  </tr>    \n",
    "</table>\n",
    "   \n",
    "<p>"
   ]
  },
  {
   "cell_type": "markdown",
   "metadata": {},
   "source": [
    "<p style = 'font-size:16px;font-family:Arial;color:#00233C'>2.  Lilliefors test with group-by option.</p>"
   ]
  },
  {
   "cell_type": "code",
   "execution_count": null,
   "metadata": {},
   "outputs": [],
   "source": [
    "call val.td_analyze('KSTest', \n",
    "                         'database=demo_user;\n",
    "                          tablename=VAL_ADS;\n",
    "                          columnofinterest=tot_income;\n",
    "                          teststyle=L;\n",
    "                          groupby=tot_cust_years;\n",
    "                          statsdatabase=val;');"
   ]
  },
  {
   "cell_type": "markdown",
   "metadata": {},
   "source": [
    "<p style = 'font-size:16px;font-family:Arial;color:#00233C'>The above output has the output columns as below(If there are groupby columns, they comprise the UPI. Otherwise, Lilliefors is the UPI.)\n",
    "\n",
    "teststyle = l</p>\n",
    "\n",
    " <table style = 'font-size:14px;font-family:Arial;color:#00233C'>\n",
    "  <tr>\n",
    "    <th>Name</th>\n",
    "    <th>Type</th>\n",
    "    <th>Definition</th>\n",
    "  </tr>\n",
    "  <tr>\n",
    "    <td>Lilliefors</td>\n",
    "    <td>Float</td>  \n",
    "    <td>Lilliefors statistic.</td>\n",
    "  </tr>\n",
    "  <tr>\n",
    "    <td>M</td>\n",
    "    <td>Float</td>  \n",
    "    <td>Count.</td>\n",
    "  </tr>\n",
    "  <tr>\n",
    "    <td>LillieforsPValue</td>\n",
    "    <td>Float</td>  \n",
    "    <td>Probability associated with Lilliefors statistic.</td>\n",
    "  </tr>\n",
    "  <tr>\n",
    "    <td>LillieforsPText</td>\n",
    "    <td>Char</td>  \n",
    "    <td>Text description if probability is outside table range.</td>\n",
    "  </tr>\n",
    "  <tr>\n",
    "    <td>LillieforsCallP_0.05</td>\n",
    "    <td>Char</td>  \n",
    "    <td>Lilliefors result:\n",
    "        <li>a=accept null hypothesis</li>\n",
    "        <li>p=reject null hypothesis</li>\n",
    "    </td>\n",
    "  </tr>    \n",
    "</table>\n",
    "   \n",
    "<p>"
   ]
  },
  {
   "cell_type": "markdown",
   "metadata": {},
   "source": [
    "<p style = 'font-size:16px;font-family:Arial;color:#00233C'>3.  Shapiro-Wilk test with group-by option</p>"
   ]
  },
  {
   "cell_type": "code",
   "execution_count": null,
   "metadata": {},
   "outputs": [],
   "source": [
    "call val.td_analyze('KSTest', \n",
    "                         'database=demo_user;\n",
    "                          tablename=VAL_ADS;\n",
    "                          columnofinterest=tot_income;\n",
    "                          teststyle=SW;\n",
    "                          groupby=tot_cust_years;\n",
    "                          statsdatabase=val;');"
   ]
  },
  {
   "cell_type": "markdown",
   "metadata": {},
   "source": [
    "<p style = 'font-size:16px;font-family:Arial;color:#00233C'>The above output has the output columns as below(If there are groupby columns, they comprise the UPI. Otherwise, Shw is the UPI.)\n",
    "\n",
    "teststyle = sw</p>\n",
    "\n",
    " <table style = 'font-size:14px;font-family:Arial;color:#00233C'>\n",
    "  <tr>\n",
    "    <th>Name</th>\n",
    "    <th>Type</th>\n",
    "    <th>Definition</th>\n",
    "  </tr>\n",
    "  <tr>\n",
    "    <td>Shw</td>\n",
    "    <td>Float</td>  \n",
    "    <td>Shapiro-Wilk statistic.</td>\n",
    "  </tr>\n",
    "  <tr>\n",
    "    <td>N</td>\n",
    "    <td>Float</td>  \n",
    "    <td>Count.</td>\n",
    "  </tr>\n",
    "  <tr>\n",
    "    <td>ShapiroWilkPValue</td>\n",
    "    <td>Float</td>  \n",
    "    <td>Probability associated with Shapiro-Wilk statistic.</td>\n",
    "  </tr>\n",
    "  <tr>\n",
    "    <td>ShapiroWilkPText</td>\n",
    "    <td>Char</td>  \n",
    "    <td>Text description if probability is outside table range.</td>\n",
    "  </tr>\n",
    "  <tr>\n",
    "    <td>ShapiroWilkCallP_0.05.05</td>\n",
    "    <td>Char</td>  \n",
    "    <td>Shapiro-Wilk result:\n",
    "        <li>a=accept null hypothesis</li>\n",
    "        <li>p=reject null hypothesis</li>\n",
    "    </td>\n",
    "  </tr>    \n",
    "</table>\n",
    "   \n",
    "<p>"
   ]
  },
  {
   "cell_type": "markdown",
   "metadata": {},
   "source": [
    "<p style = 'font-size:16px;font-family:Arial;color:#00233C'>4.  D'Agostino and Pearson Test with group-by option.</p>"
   ]
  },
  {
   "cell_type": "code",
   "execution_count": null,
   "metadata": {},
   "outputs": [],
   "source": [
    "call val.td_analyze('KSTest', \n",
    "                         'database=demo_user;\n",
    "                          tablename=VAL_ADS;\n",
    "                          columnofinterest=tot_income;\n",
    "                          teststyle=P;\n",
    "                          groupby=tot_cust_years;\n",
    "                          statsdatabase=val;');"
   ]
  },
  {
   "cell_type": "markdown",
   "metadata": {},
   "source": [
    "<p style = 'font-size:16px;font-family:Arial;color:#00233C'>5.  Smirnov test with group-by option.</p>"
   ]
  },
  {
   "cell_type": "code",
   "execution_count": null,
   "metadata": {},
   "outputs": [],
   "source": [
    "call val.td_analyze('KSTest', \n",
    "                         'database=demo_user;\n",
    "                          tablename=VAL_ADS;\n",
    "                          columnofinterest=tot_income;\n",
    "                          columns=female_ind;\n",
    "                          teststyle=S;\n",
    "                          groupby=tot_cust_years;\n",
    "                          statsdatabase=val;');"
   ]
  },
  {
   "cell_type": "markdown",
   "metadata": {},
   "source": [
    "<p style = 'font-size:16px;font-family:Arial;color:#00233C'>The above output has the output columns as below(If there is a groupby column, it comprises the UPI. Otherwise, M is the UPI.)\n",
    "\n",
    "teststyle = s</p>\n",
    "\n",
    " <table style = 'font-size:14px;font-family:Arial;color:#00233C'>\n",
    "  <tr>\n",
    "    <th>Name</th>\n",
    "    <th>Type</th>\n",
    "    <th>Definition</th>\n",
    "  </tr>\n",
    "  <tr>\n",
    "    <td>M</td>\n",
    "    <td>Float</td>  \n",
    "    <td>Number of first distribution observations.</td>\n",
    "  </tr>\n",
    "  <tr>\n",
    "    <td>N</td>\n",
    "    <td>Float</td>  \n",
    "    <td>Number of second distribution observations.</td>\n",
    "  </tr>\n",
    "  <tr>\n",
    "    <td>D</td>\n",
    "    <td>Float</td>  \n",
    "    <td>D statistic.</td>\n",
    "  </tr>\n",
    "  <tr>\n",
    "    <td>SmirnovPValue</td>\n",
    "    <td>Float</td>  \n",
    "    <td>Probability associated with D statistic.</td>\n",
    "  </tr>\n",
    "  <tr>\n",
    "    <td>SmirnovPText</td>\n",
    "    <td>Char</td>  \n",
    "    <td>Text description if probability is outside table range.</td>\n",
    "  </tr>  \n",
    "  <tr>\n",
    "    <td>ShapiroWilkCallP_0.05.05</td>\n",
    "    <td>Char</td>  \n",
    "    <td>Shapiro-Wilk result:\n",
    "        <li>a=accept null hypothesis</li>\n",
    "        <li>p=reject null hypothesis</li>\n",
    "    </td>\n",
    "  </tr>    \n",
    "</table>\n",
    "   \n",
    "<p>"
   ]
  },
  {
   "cell_type": "markdown",
   "metadata": {},
   "source": [
    "<p style = 'font-size:16px;font-family:Arial;color:#00233C'>6.  Kolmogorov-Smirnov test that stores its results in an output table val_ks_out1 and does not contain a group-by option."
   ]
  },
  {
   "cell_type": "code",
   "execution_count": null,
   "metadata": {},
   "outputs": [],
   "source": [
    "call val.td_analyze('KSTest', \n",
    "                         'database=demo_user;\n",
    "                          tablename=VAL_ADS;\n",
    "                          columnofinterest=tot_income;\n",
    "                          teststyle=KS; \n",
    "                          statsdatabase=val;\n",
    "                          outputdatabase=demo_user;\n",
    "                          outputtablename=_val_ks_out1');"
   ]
  },
  {
   "cell_type": "code",
   "execution_count": null,
   "metadata": {},
   "outputs": [],
   "source": [
    "SELECT * FROM demo_user._val_ks_out1;"
   ]
  },
  {
   "cell_type": "markdown",
   "metadata": {},
   "source": [
    "<hr style=\"height:2px;border:none;background-color:#00233C;\">"
   ]
  },
  {
   "cell_type": "markdown",
   "metadata": {},
   "source": [
    "<p style = 'font-size:20px;font-family:Arial;color:#00233C'><b>6. Parametric Tests</b></p>\n",
    "\n",
    "<p style = 'font-size:16px;font-family:Arial;color:#00233C'><b>Purpose</b></p>\n",
    "\n",
    "<p style = 'font-size:16px;font-family:Arial;color:#00233C'>Parametric tests make assumptions about the data, such as the observations being normally distributed.  This can be verified with a test of normality prior to executing a parametric test.  Both T-Tests and F-Tests are provided.  T-Tests may be either paired or unpaired, while the unpaired T-Tests may be with or without an indicator variable.</p>  \n",
    "\n",
    "<p style = 'font-size:16px;font-family:Arial;color:#00233C'>F-Tests may be 1-way, 2-way or 3-way.  2-way tests may have equal or unequal cell counts (distinct column values), while the 3-way test must have equal cell counts.  A 1-way test has 1 independent input column, a 2-way test has 2 independent columns and a 3-way test has 3 independent columns in addition to a dependent “column of interest”.</p>\n",
    "\n",
    "<p style = 'font-size:16px;font-family:Arial;color:#00233C'><b>Required Parameters</b></p>\n",
    "\n",
    "<p style = 'font-size:16px;font-family:Arial;color:#00233C'><b>- **database**</b></p>\n",
    "\n",
    "<p style = 'font-size:16px;font-family:Arial;color:#00233C'>The database containing the table to analyze.</p>\n",
    "\n",
    "<p style = 'font-size:16px;font-family:Arial;color:#00233C'><b>- **parametrictest**</b></p>\n",
    "\n",
    "<p style = 'font-size:16px;font-family:Arial;color:#00233C'>The parametrictest parameter:\n",
    "    <li>Is required</li>\n",
    "    <li>Must be the first parameter</li>\n",
    "    <li>Is always enclosed in single quotes</li>\n",
    "</p>\n",
    "\n",
    "<p style = 'font-size:16px;font-family:Arial;color:#00233C'><b>- **tablename**</b></p>\n",
    "\n",
    "<p style = 'font-size:16px;font-family:Arial;color:#00233C'>The table containing the columns to analyze.  It must reside in the database indicated by the database parameter.</p>\n",
    "\n",
    "<p style = 'font-size:16px;font-family:Arial;color:#00233C'><b>Optional Parameters</b></p>\n",
    "\n",
    "<p style = 'font-size:16px;font-family:Arial;color:#00233C'><b>- **columnofinterest**</b></p>\n",
    "\n",
    "<p style = 'font-size:16px;font-family:Arial;color:#00233C'>The column representing the dependent variable in an F-Test.</p>\n",
    "\n",
    "<p style = 'font-size:16px;font-family:Arial;color:#00233C'><b>- **columns**</b></p>\n",
    "\n",
    "<p style = 'font-size:16px;font-family:Arial;color:#00233C'>The columns representing independent variables to be analyzed in a F-Test N-Way with Equal Cell Counts analysis.  There may be 1, 2 or 3 columns listed in this parameter.  If 2 or 3 columns, the number of distinct values for each combination of column values should be the same.</p>\n",
    "\n",
    "<p style = 'font-size:16px;font-family:Arial;color:#00233C'><b>- **equalvariance**</b></p>\n",
    "\n",
    "<p style = 'font-size:16px;font-family:Arial;color:#00233C'>An option available with the T-Test where, if true, the variance of the two samples (columns) is assumed to be equal.  The default assumption is that the variances are not equal.</p>\n",
    "\n",
    "<p style = 'font-size:16px;font-family:Arial;color:#00233C'><b>- **fallback**</b></p>\n",
    "\n",
    "<p style = 'font-size:16px;font-family:Arial;color:#00233C'>When true, FALLBACK is requested as an attribute of the created output results table.  When false or parameter not specified, the FALLBACK attribute is not included in the create table SQL.</p>\n",
    "\n",
    "<p style = 'font-size:16px;font-family:Arial;color:#00233C'><b>- **firstcolumn**</b></p>\n",
    "\n",
    "<p style = 'font-size:16px;font-family:Arial;color:#00233C'>For a T-Test, the column representing the first variable to analyze. It must reside in the table indicated by the tablename parameter.  For an F-Test, the column representing the first independent variable in the analysis.</p>\n",
    "\n",
    "<p style = 'font-size:16px;font-family:Arial;color:#00233C'><b>- **firstcolumnvalues**</b></p>\n",
    "\n",
    "<p style = 'font-size:16px;font-family:Arial;color:#00233C'>This is a required option for a 2-way F-Test with Unequal Cell Counts.  It is a list of the firstcolumn values to be included in the analysis.</p>\n",
    "\n",
    "<p style = 'font-size:16px;font-family:Arial;color:#00233C'><b>- **gensqlonly**</b></p>\n",
    "\n",
    "<p style = 'font-size:16px;font-family:Arial;color:#00233C'>For a T-Test analysis, when gensqlonly is true, the SQL for the requested function is returned as a result set but not run. When not specified or set to false, the SQL is run but not returned.  This option is not available for an F-Test analysis.</p>\n",
    "\n",
    "<p style = 'font-size:16px;font-family:Arial;color:#00233C'><b>- **groupby**</b></p>\n",
    "\n",
    "<p style = 'font-size:16px;font-family:Arial;color:#00233C'>One or more group-by columns may optionally be specified so that a separate result is produced for each value or combination of values in the specified column or columns.</p>\n",
    "\n",
    "<p style = 'font-size:16px;font-family:Arial;color:#00233C'><b>- **multiset**</b></p>\n",
    "\n",
    "<p style = 'font-size:16px;font-family:Arial;color:#00233C'>When true, MULTISET is requested as an attribute of the created output results table.  When false or parameter not specified, the MULTISET attribute is not included in the create table SQL.</p>\n",
    "\n",
    "<p style = 'font-size:16px;font-family:Arial;color:#00233C'><b>- **outputdatabase**</b></p>\n",
    "\n",
    "<p style = 'font-size:16px;font-family:Arial;color:#00233C'>Specifies the name of the database to contain the analysis results table.</p>\n",
    "\n",
    "<p style = 'font-size:16px;font-family:Arial;color:#00233C'><b>- **outputtablename**</b></p>\n",
    "\n",
    "<p style = 'font-size:16px;font-family:Arial;color:#00233C'>Specifies the name of the table to store the analysis results. If not supplied, the results are returned as a result set.</p>\n",
    "\n",
    "<p style = 'font-size:16px;font-family:Arial;color:#00233C'><b>- **overwrite**</b></p>\n",
    "\n",
    "<p style = 'font-size:16px;font-family:Arial;color:#00233C'>When overwrite is set to true or not set, the output table is dropped before creating a new one.</p>\n",
    "\n",
    "<p style = 'font-size:16px;font-family:Arial;color:#00233C'><b>- **paired**</b></p>\n",
    "\n",
    "<p style = 'font-size:16px;font-family:Arial;color:#00233C'>An option of the T-Test, which when set to true, indicates that the first and second column values are matched with each other and the mean difference is analyzed.  The paired option defaults to false.</p>\n",
    "\n",
    "<p style = 'font-size:16px;font-family:Arial;color:#00233C'><b>- **secondcolumn**</b></p>\n",
    "\n",
    "<p style = 'font-size:16px;font-family:Arial;color:#00233C'>For a T-Test, the column representing the second variable to analyze. It must reside in the table indicated by the tablename parameter.  If the withindicator option is set to true, the second column is used to define two analysis categories, one where the second column is negative or zero, and another where the second column is positive.  For an F-Test, the column representing the second independent variable in the analysis.</p>\n",
    "\n",
    "<p style = 'font-size:16px;font-family:Arial;color:#00233C'><b>- **secondcolumnvalues**</b></p>\n",
    "\n",
    "<p style = 'font-size:16px;font-family:Arial;color:#00233C'>This is a required option for a 2-way F-Test with Unequal Cell Counts.  It is a list of the secondcolumn values to be included in the analysis.</p>\n",
    "\n",
    "<p style = 'font-size:16px;font-family:Arial;color:#00233C'><b>- **statsdatabase**</b></p>\n",
    "\n",
    "<p style = 'font-size:16px;font-family:Arial;color:#00233C'>This is the database where the statistical test metadata tables are installed.  If not specified, the source database is searched for these metadata tables.</p>\n",
    "\n",
    "<p style = 'font-size:16px;font-family:Arial;color:#00233C'><b>- **teststyle**</b></p>\n",
    "\n",
    "<p style = 'font-size:16px;font-family:Arial;color:#00233C'>The valid values are t, fnway and f2way, as outlined below. The default is t for T-Test.\n",
    "    \n",
    "<li>T-Test paired, unpaired or unpaired with indicator variable (second column)</li>\n",
    "<li>F-Test N-Way with Equal Cell Counts (1, 2 or 3 columns with same number of distinct values)</li>\n",
    "<li>F-Test 2-Way with Unequal Cell Counts (2 columns with possibly different numbers of distinct values)</li>\n",
    "</p>\n",
    "\n",
    "<p style = 'font-size:16px;font-family:Arial;color:#00233C'><b>- **thresholdprobability**</b></p>\n",
    "\n",
    "<p style = 'font-size:16px;font-family:Arial;color:#00233C'>You may optionally change the threshold probability or allow it to default to 0.05.  Below this  \"alpha\" probability the null hypothesis is rejected.</p>\n",
    "\n",
    "<p style = 'font-size:16px;font-family:Arial;color:#00233C'><b>- **withindicator**</b></p>\n",
    "\n",
    "<p style = 'font-size:16px;font-family:Arial;color:#00233C'>This option may be used with an un-paired T-Test, that is when teststyle=t and paired=false.  If the withindicator option is set to true, the second column is used to indicate there are two analysis categories, one for the case where the second column is negative or zero, and another when the second column is positive.</p>"
   ]
  },
  {
   "cell_type": "markdown",
   "metadata": {},
   "source": [
    "<hr style=\"height:1px;border:none;background-color:#00233C;\">"
   ]
  },
  {
   "cell_type": "markdown",
   "metadata": {},
   "source": [
    "<p style = 'font-size:16px;font-family:Arial;color:#00233C'>1.  T-Test producing an unpersisted result set with default values for teststyle (t) and  thresholdprobabilty (.05). </p> "
   ]
  },
  {
   "cell_type": "code",
   "execution_count": null,
   "metadata": {},
   "outputs": [],
   "source": [
    "call val.td_analyze('ParametricTest', \n",
    "                         'database=demo_user;\n",
    "                          tablename=VAL_ADS;\n",
    "                          firstcolumn=cc_avg_bal;\n",
    "                          secondcolumn=sv_avg_bal;\n",
    "                          paired=true;\n",
    "                          equalvariance=true;\n",
    "                          groupby=tot_age,female_ind;\n",
    "                          statsdatabase=val;');"
   ]
  },
  {
   "cell_type": "markdown",
   "metadata": {},
   "source": [
    "<p style = 'font-size:16px;font-family:Arial;color:#00233C'>The above output has the output columns as below(Any groupby columns comprise the Unique Primary Index (UPI).)\n",
    "\n",
    "teststyle = t(Default)</p>\n",
    "\n",
    " <table style = 'font-size:14px;font-family:Arial;color:#00233C'>\n",
    "  <tr>\n",
    "    <th>Column</th>\n",
    "    <th>DataType</th>\n",
    "    <th>Definition</th>\n",
    "  </tr>\n",
    "  <tr>\n",
    "    <td>D_F</td>\n",
    "    <td>Float</td>  \n",
    "    <td>Degrees of freedom for groupby columns.</td>\n",
    "  </tr>\n",
    "  <tr>\n",
    "    <td>T</td>\n",
    "    <td>Float</td>  \n",
    "    <td>T statistic.</td>\n",
    "  </tr>\n",
    "  <tr>\n",
    "    <td>TTestPValue</td>\n",
    "    <td>Float</td>  \n",
    "    <td>Probability associated with T statistic.</td>\n",
    "  </tr>\n",
    "  <tr>\n",
    "    <td>TTestCallP.05.05</td>\n",
    "    <td>Char</td>  \n",
    "    <td>T-test result:\n",
    "        <li>a=accept null hypothesis</li>\n",
    "        <li>p=reject null hypothesis(positive)</li>\n",
    "        <li>n=reject null hypothesis (negative)</li>\n",
    "    </td>\n",
    "  </tr>    \n",
    "</table>\n",
    "   \n",
    "<p>"
   ]
  },
  {
   "cell_type": "markdown",
   "metadata": {},
   "source": [
    "<p style = 'font-size:16px;font-family:Arial;color:#00233C'>2.  One-Way F-Test producing an unpersisted result set.</p>"
   ]
  },
  {
   "cell_type": "code",
   "execution_count": null,
   "metadata": {
    "tags": []
   },
   "outputs": [],
   "source": [
    "call val.td_analyze('ParametricTest',\n",
    "                         'teststyle=fnway;\n",
    "                          database=DEMO_Financial;\n",
    "                          tablename=Customer;\n",
    "                          columnofinterest=income;\n",
    "                          columns=years_with_bank;\n",
    "                          groupby=gender;\n",
    "                          thresholdprobability=0.01;\n",
    "                          statsdatabase=val;');"
   ]
  },
  {
   "cell_type": "markdown",
   "metadata": {},
   "source": [
    "<p style = 'font-size:16px;font-family:Arial;color:#00233C'>The above output has the output columns as below(If there are groupby columns, they comprise the UPI. Otherwise, DF is the UPI.)\n",
    "\n",
    "teststyle = fnway</p>\n",
    "\n",
    " <table style = 'font-size:14px;font-family:Arial;color:#00233C'>\n",
    "  <tr>\n",
    "    <th>Name</th>\n",
    "    <th>Type</th>\n",
    "    <th>Definition</th>\n",
    "  </tr>\n",
    "  <tr>\n",
    "    <td>DF</td>\n",
    "    <td>Integer</td>  \n",
    "    <td>Degrees of freedom for variable.</td>\n",
    "  </tr>\n",
    "  <tr>\n",
    "    <td>DFErr</td>\n",
    "    <td>Integer</td>  \n",
    "    <td>Degrees of freedom for error.</td>\n",
    "  </tr>\n",
    "  <tr>\n",
    "    <td>F</td>\n",
    "    <td>Float</td>  \n",
    "    <td>F statistic.</td>\n",
    "  </tr>\n",
    "  <tr>\n",
    "    <td>FPValue</td>\n",
    "    <td>Float</td>  \n",
    "    <td>Probability associated with F statistic.</td>\n",
    "  </tr> \n",
    "  <tr>\n",
    "    <td>FPText</td>\n",
    "    <td>Char</td>  \n",
    "    <td>If not NULL, the output appears in text format in the column.</td>\n",
    "  </tr>   \n",
    "  <tr>\n",
    "    <td>FCallP</td>\n",
    "    <td>Char</td>  \n",
    "    <td>F-test result:\n",
    "        <li>a=accept null hypothesis</li>\n",
    "        <li>p=reject null hypothesis(positive)</li>\n",
    "        <li>n=reject null hypothesis (negative)</li>\n",
    "    </td>\n",
    "  </tr>    \n",
    "</table>\n",
    "   \n",
    "<p>"
   ]
  },
  {
   "cell_type": "markdown",
   "metadata": {},
   "source": [
    "<p style = 'font-size:16px;font-family:Arial;color:#00233C'>3.  2-way F-Test with Unequal Cell Counts producing an unpersisted result set.</p>"
   ]
  },
  {
   "cell_type": "code",
   "execution_count": null,
   "metadata": {},
   "outputs": [],
   "source": [
    "call val.td_analyze('ParametricTest',\n",
    "                         'teststyle=f2way;\n",
    "                          database=DEMO_Financial;\n",
    "                          tablename=Customer;\n",
    "                          columnofinterest=income;\n",
    "                          firstcolumn=years_with_bank;\n",
    "                          secondcolumn=gender;\n",
    "                          thresholdprobability=0.05;\n",
    "                          firstcolumnvalues=0,1,2,3,4,5,6,7;\n",
    "                          secondcolumnvalues=M,F;\n",
    "                          statsdatabase=val;');"
   ]
  },
  {
   "cell_type": "markdown",
   "metadata": {},
   "source": [
    "<p style = 'font-size:16px;font-family:Arial;color:#00233C'>The above output has the output columns as below(If there are groupby columns, they comprise the UPI. Otherwise, DF is the UPI.)\n",
    "\n",
    "teststyle = 2way</p>\n",
    "\n",
    " <table style = 'font-size:14px;font-family:Arial;color:#00233C'>\n",
    "  <tr>\n",
    "    <th>Name</th>\n",
    "    <th>Type</th>\n",
    "    <th>Definition</th>\n",
    "  </tr>\n",
    "  <tr>\n",
    "    <td>DF</td>\n",
    "    <td>Integer</td>  \n",
    "    <td>Degrees of freedom for model.</td>\n",
    "  </tr>\n",
    "  <tr>\n",
    "    <td>Fmodel</td>\n",
    "    <td>Float</td>  \n",
    "    <td>F statistic for model.</td>\n",
    "  </tr>  \n",
    "  <tr>\n",
    "    <td>DFErr</td>\n",
    "    <td>Integer</td>  \n",
    "    <td>Degrees of freedom for error.</td>\n",
    "  </tr>\n",
    "  <tr>\n",
    "    <td>DF_1</td>\n",
    "    <td>Integer</td>  \n",
    "    <td>Degrees of freedom for first variable.</td>\n",
    "  </tr>\n",
    "  <tr>\n",
    "    <td>F1</td>\n",
    "    <td>Float</td>  \n",
    "    <td>F statistic for first variable.</td>\n",
    "  </tr> \n",
    "  <tr>\n",
    "    <td>DF_2</td>\n",
    "    <td>Integer</td>  \n",
    "    <td>Degrees of freedom for second variable.</td>\n",
    "  </tr>   \n",
    "  <tr>\n",
    "    <td>F2</td>\n",
    "    <td>Float</td>  \n",
    "    <td>F statistic for second variable.</td>\n",
    "  </tr>    \n",
    "</table>\n",
    "</p>   \n",
    "<p style = 'font-size:16px;font-family:Arial;color:#00233C'>The description for other output columns can be found at the link <a href ='https://docs.teradata.com/r/Enterprise_IntelliFlex_Lake_VMware/Vantage-Analytics-Library-User-Guide/Statistical-Tests/Parametric-Tests/Results-Data'>here.</a></p>\n"
   ]
  },
  {
   "cell_type": "markdown",
   "metadata": {},
   "source": [
    "<hr style=\"height:2px;border:none;background-color:#00233C;\">"
   ]
  },
  {
   "cell_type": "markdown",
   "metadata": {},
   "source": [
    "<p style = 'font-size:20px;font-family:Arial;color:#00233C'><b>7. Rank Tests</b></p>\n",
    "\n",
    "<p style = 'font-size:16px;font-family:Arial;color:#00233C'><b>Purpose</b></p>\n",
    "\n",
    "<p style = 'font-size:16px;font-family:Arial;color:#00233C'>Statistical tests of this type calculate statistics based on the rank of variables rather than variable values.  In general, data that are ranked and ordinal may be analyzed by these tests.  Within some restraints, either numeric or non-numeric data may be analyzed.  Supported rank tests include the following:\n",
    "\n",
    "<li>Mann-Whitney/Kruskal-Wallis Test</li>\n",
    "<li>Wilcoxon Signed Ranks Test</li>\n",
    "<li>Friedman Test with Kendall’s Coefficient of Concordance & Spearmans’ Rho</li>\n",
    "</p>\n",
    "    \n",
    "<p style = 'font-size:16px;font-family:Arial;color:#00233C'>The choice between the Mann-Whitney and Kruskal-Wallis tests is made automatically, looking at the number of distinct values of the independent variable.  A variation of the Mann-Whitney test considers each requested variable individually, rather than combined, performing a series of independent tests.</p>\n",
    "\n",
    "<p style = 'font-size:16px;font-family:Arial;color:#00233C'><b>Required Parameters</b></p>\n",
    "\n",
    "<p style = 'font-size:16px;font-family:Arial;color:#00233C'><b>- **database**</b></p>\n",
    "\n",
    "<p style = 'font-size:16px;font-family:Arial;color:#00233C'>The database containing the table to analyze.</p>\n",
    "\n",
    "<p style = 'font-size:16px;font-family:Arial;color:#00233C'><b>- **ranktest**</b></p>\n",
    "\n",
    "<p style = 'font-size:16px;font-family:Arial;color:#00233C'>The ranktest parameter:\n",
    "<li>Is required</li>\n",
    "<li>Must be the first parameter</li>\n",
    "<li>Is always enclosed in single quotes</li>\n",
    "</p>    \n",
    "\n",
    "<p style = 'font-size:16px;font-family:Arial;color:#00233C'><b>- **tablename**</b></p>\n",
    "\n",
    "<p style = 'font-size:16px;font-family:Arial;color:#00233C'>The table containing the columns to analyze.  It must reside in the database indicated by the database parameter.</p>\n",
    "\n",
    "<p style = 'font-size:16px;font-family:Arial;color:#00233C'><b>Optional Parameters</b></p>\n",
    "\n",
    "<p style = 'font-size:16px;font-family:Arial;color:#00233C'><b>- **blockcolumn**</b></p>\n",
    "\n",
    "<p style = 'font-size:16px;font-family:Arial;color:#00233C'>Used only by the Friedman test, the column that represents blocks. They must reside in the table indicated by the tablename parameter.  Note that when pairing treatment and block column values, a division by zero error may occur if unequal cell counts are found.</p>\n",
    "\n",
    "<p style = 'font-size:16px;font-family:Arial;color:#00233C'><b>- **columnofinterest**</b></p>\n",
    "\n",
    "<p style = 'font-size:16px;font-family:Arial;color:#00233C'>Used only by the Mann-Whitney and Friedman tests, the column specified with this parameter indicates the dependent variable. If non-numeric, it will be ranked alphanumerically.  It must reside in the table indicated by the tablename parameter.</p>\n",
    "\n",
    "<p style = 'font-size:16px;font-family:Arial;color:#00233C'><b>- **columns**</b></p>\n",
    "\n",
    "<p style = 'font-size:16px;font-family:Arial;color:#00233C'>Used only by the Mann-Whitney test, the columns specified with this parameter represent the independent variables. They must reside in the table indicated by the tablename parameter.</p>\n",
    "\n",
    "<p style = 'font-size:16px;font-family:Arial;color:#00233C'><b>- **fallback**</b></p>\n",
    "\n",
    "<p style = 'font-size:16px;font-family:Arial;color:#00233C'>When true, FALLBACK is requested as an attribute of the created output results table.  When false or parameter not specified, the FALLBACK attribute is not included in the create table SQL.</p>\n",
    "\n",
    "<p style = 'font-size:16px;font-family:Arial;color:#00233C'><b>- **firstcolumn**</b></p>\n",
    "\n",
    "<p style = 'font-size:16px;font-family:Arial;color:#00233C'>Used only by the Wilcoxon test, the column that represents the first sample variable. It must reside in the table indicated by the tablename parameter.</p>\n",
    "\n",
    "<p style = 'font-size:16px;font-family:Arial;color:#00233C'><b>- **gensqlonly**</b></p>\n",
    "\n",
    "<p style = 'font-size:16px;font-family:Arial;color:#00233C'>When true, the SQL for the requested function is returned as a result set but not run. When not specified or set to false, the SQL is run but not returned.  This parameter is not allowed when using the Mann-Whitney test.</p>\n",
    "\n",
    "<p style = 'font-size:16px;font-family:Arial;color:#00233C'><b>- **groupby**</b></p>\n",
    "\n",
    "<p style = 'font-size:16px;font-family:Arial;color:#00233C'>One or more group-by columns may optionally be specified so that a separate result is produced for each value or combination of values in the specified column or columns.</p>\n",
    "\n",
    "<p style = 'font-size:16px;font-family:Arial;color:#00233C'><b>- **includezero**</b></p>\n",
    "\n",
    "<p style = 'font-size:16px;font-family:Arial;color:#00233C'>Used only by the Wilcoxon test.  Ordinarily, the Wilcoxon test discards cases with zero differences.  This option, when set to true, includes these cases with the positive count.</p>\n",
    "\n",
    "<p style = 'font-size:16px;font-family:Arial;color:#00233C'><b>- **independent**</b></p>\n",
    "\n",
    "<p style = 'font-size:16px;font-family:Arial;color:#00233C'>Used only by the Mann-Whitney test, its selection by setting independent=true, indicates that a variation of the Mann-Whitney test should be performed, considering each requested variable individually, rather than in combination, performing a series of independent tests.</p>\n",
    "\n",
    "<p style = 'font-size:16px;font-family:Arial;color:#00233C'><b>- **multiset**</b></p>\n",
    "\n",
    "<p style = 'font-size:16px;font-family:Arial;color:#00233C'>When true, MULTISET is requested as an attribute of the created output results table.  When false or parameter not specified, the MULTISET attribute is not included in the create table SQL.</p>\n",
    "\n",
    "<p style = 'font-size:16px;font-family:Arial;color:#00233C'><b>- **outputdatabase**</b></p>\n",
    "\n",
    "<p style = 'font-size:16px;font-family:Arial;color:#00233C'>Specifies the name of the database to contain the analysis results table.</p>\n",
    "\n",
    "<p style = 'font-size:16px;font-family:Arial;color:#00233C'><b>- **outputtablename**</b></p>\n",
    "\n",
    "<p style = 'font-size:16px;font-family:Arial;color:#00233C'>Specifies the name of the table to store the analysis results. If not supplied, the results are returned as a result set.</p>\n",
    "\n",
    "<p style = 'font-size:16px;font-family:Arial;color:#00233C'><b>- **overwrite**</b></p>\n",
    "\n",
    "<p style = 'font-size:16px;font-family:Arial;color:#00233C'>When overwrite is set to true or not set, the output table is dropped before creating a new one.</p>\n",
    "\n",
    "<p style = 'font-size:16px;font-family:Arial;color:#00233C'><b>- **secondcolumn**</b></p>\n",
    "\n",
    "<p style = 'font-size:16px;font-family:Arial;color:#00233C'>Used only by the Wilcoxon test, the column that represents the second sample variable. It must reside in the table indicated by the tablename parameter.  Note that when pairing treatment and block column values, a division by zero error may occur if unequal cell counts are found.</p>\n",
    "\n",
    "<p style = 'font-size:16px;font-family:Arial;color:#00233C'><b>- **singletail**</b></p>\n",
    "\n",
    "<p style = 'font-size:16px;font-family:Arial;color:#00233C'>Used only by the Mann-Whitney and Wilcoxon tests.  If the Mann-Whitney test becomes a Kruskall-Wallis test, the singletail option is invalid.  By default, a two-tailed test is performed.</p>\n",
    "\n",
    "<p style = 'font-size:16px;font-family:Arial;color:#00233C'><b>- **statsdatabase**</b></p>\n",
    "\n",
    "<p style = 'font-size:16px;font-family:Arial;color:#00233C'>This is the database where the statistical test metadata tables are installed.  If not specified, the source database is searched for these metadata tables.</p>\n",
    "\n",
    "<p style = 'font-size:16px;font-family:Arial;color:#00233C'><b>- **teststyle**</b></p>\n",
    "\n",
    "<p style = 'font-size:16px;font-family:Arial;color:#00233C'>The valid values are mw, friedman and wilcoxon, representing a Mann-Whitney, Friedman or Wilcoxon test.  If not specified, the default test style is Mann-Whitney (mw).</p>\n",
    "\n",
    "<p style = 'font-size:16px;font-family:Arial;color:#00233C'><b>- **thresholdprobability**</b></p>\n",
    "\n",
    "<p style = 'font-size:16px;font-family:Arial;color:#00233C'>You may optionally change the threshold probability or allow it to default to 0.05.  Below this \"alpha\" probability the null hypothesis is rejected.</p>\n",
    "\n",
    "<p style = 'font-size:16px;font-family:Arial;color:#00233C'><b>- **treatmentcolumn**</b></p>\n",
    "\n",
    "<p style = 'font-size:16px;font-family:Arial;color:#00233C'>Used only by the Friedman test, the column that represents the independent categorical variable. They must reside in the table indicated by the tablename parameter.</p>"
   ]
  },
  {
   "cell_type": "markdown",
   "metadata": {},
   "source": [
    "<hr style=\"height:1px;border:none;background-color:#00233C;\">"
   ]
  },
  {
   "cell_type": "markdown",
   "metadata": {},
   "source": [
    "<p style = 'font-size:16px;font-family:Arial;color:#00233C'>1.  Mann-Whitney test with a threshold probability of 0.01.</p>"
   ]
  },
  {
   "cell_type": "code",
   "execution_count": null,
   "metadata": {},
   "outputs": [],
   "source": [
    "call val.td_analyze('ranktest',\n",
    "                         'teststyle=mw;\n",
    "                          statsdatabase=val;\n",
    "                          database=DEMO_Financial;\n",
    "                          tablename=Customer;\n",
    "                          columnofinterest=income;\n",
    "                          columns=gender;\n",
    "                          groupby=years_with_bank;\n",
    "                          thresholdprobability=0.01;');"
   ]
  },
  {
   "cell_type": "markdown",
   "metadata": {},
   "source": [
    "<p style = 'font-size:16px;font-family:Arial;color:#00233C'>The above output has the output columns as below(If there are groupby columns, they comprise the UPI. Otherwise, Z is the UPI.)\n",
    "\n",
    "teststyle = mw (Default)</p>\n",
    "\n",
    " <table style = 'font-size:14px;font-family:Arial;color:#00233C'>\n",
    "  <tr>\n",
    "    <th>Column</th>\n",
    "    <th>DataType</th>\n",
    "    <th>Description</th>\n",
    "  </tr>\n",
    "  <tr>\n",
    "    <td>Z</td>\n",
    "    <td>Float</td>  \n",
    "    <td>Mann-Whitney Z statistic.</td>\n",
    "  </tr>\n",
    "  <tr>\n",
    "    <td>MannWhitneyPValue</td>\n",
    "    <td>Float</td>  \n",
    "    <td>Probability associated with Mann-Whitney statistic.</td>\n",
    "  </tr>\n",
    "  <tr>\n",
    "    <td>MannWhitneyCallP_0.01</td>\n",
    "    <td>Char</td>  \n",
    "    <td>Mann-Whitney result:\n",
    "        <li>a=accept null hypothesis</li>\n",
    "        <li>p=reject null hypothesis</li>\n",
    "    </td>\n",
    "  </tr>    \n",
    "</table>\n",
    "   \n",
    "<p>"
   ]
  },
  {
   "cell_type": "markdown",
   "metadata": {},
   "source": [
    "<p style = 'font-size:16px;font-family:Arial;color:#00233C'>2.  A set of Mann-Whitney independent tests.  The threshold probability assumes the default value of 0.05.</p>"
   ]
  },
  {
   "cell_type": "code",
   "execution_count": null,
   "metadata": {},
   "outputs": [],
   "source": [
    "call val.td_analyze('ranktest',\n",
    "                         'teststyle=mw;\n",
    "                          statsdatabase=val;\n",
    "                          independent=true;\n",
    "                          database=demo_user;\n",
    "                          tablename=VAL_ADS;\n",
    "                          columnofinterest=tot_income;\n",
    "                          columns=female_ind,cc_acct_ind,ck_acct_ind,sv_acct_ind; ');"
   ]
  },
  {
   "cell_type": "markdown",
   "metadata": {},
   "source": [
    "<p style = 'font-size:16px;font-family:Arial;color:#00233C'>The above output has the output columns as below(If there are groupby columns, they comprise the UPI. Otherwise, Z is the UPI.)\n",
    "The output is similar in the step above but the threshold probability is changed from 0.01 to 0.05</p>\n"
   ]
  },
  {
   "cell_type": "markdown",
   "metadata": {},
   "source": [
    "<p style = 'font-size:16px;font-family:Arial;color:#00233C'>3.  Wilcoxon Test - the threshold probability assumes the default value of 0.05.</p>"
   ]
  },
  {
   "cell_type": "code",
   "execution_count": null,
   "metadata": {},
   "outputs": [],
   "source": [
    "call val.td_analyze('ranktest',\n",
    "                         'teststyle=wilcoxon;\n",
    "                          statsdatabase=val;\n",
    "                          database=demo_user;\n",
    "                          tablename=VAL_ADS;\n",
    "                          firstcolumn=ck_avg_bal;\n",
    "                          secondcolumn=sv_avg_bal;\n",
    "                          groupby=tot_cust_years; ');"
   ]
  },
  {
   "cell_type": "markdown",
   "metadata": {},
   "source": [
    "<p style = 'font-size:16px;font-family:Arial;color:#00233C'>The above output has the output columns as below(If there are groupby columns, they comprise the UPI. Otherwise, Z_ is the UPI.)\n",
    "\n",
    "teststyle = wilcoxon</p>\n",
    "\n",
    " <table style = 'font-size:14px;font-family:Arial;color:#00233C'>\n",
    "  <tr>\n",
    "    <th>Column</th>\n",
    "    <th>DataType</th>\n",
    "    <th>Description</th>\n",
    "  </tr>\n",
    "  <tr>\n",
    "    <td>N</td>\n",
    "    <td>Integer</td>  \n",
    "    <td>Variable count.</td>\n",
    "  </tr>\n",
    "  <tr>\n",
    "    <td>Z_</td>\n",
    "    <td>Float</td>  \n",
    "    <td>Mann-Whitney Z statistic.</td>\n",
    "  </tr>\n",
    "  <tr>\n",
    "    <td>WilcoxonPValue</td>\n",
    "    <td>Float</td>  \n",
    "    <td>Probability associated with Wilcoxon statistic.</td>\n",
    "  </tr>  \n",
    "  <tr>\n",
    "    <td>WilcoxonCallP_0.05</td>\n",
    "    <td>Char</td>  \n",
    "    <td>Wilcoxon result:\n",
    "        <li>a=accept null hypothesis</li>\n",
    "        <li>p=reject null hypothesis(positive)</li>\n",
    "        <li>n=reject null hypothesis(negative)</li>\n",
    "    </td>\n",
    "  </tr>    \n",
    "</table>\n",
    "   \n",
    "<p>"
   ]
  },
  {
   "cell_type": "markdown",
   "metadata": {},
   "source": [
    "<p style = 'font-size:16px;font-family:Arial;color:#00233C'>4.  A Friedman Test using a specially prepared input table called VAL_Friedman_WorkTable.  To build the VALFriedmanWorkTable, the following SQL may be used.  Note that the value ‘18’ is the smallest count of value combinations in the gender and marital_status columns in the Customer table.  The value '18'  is determined using the following query:</p>"
   ]
  },
  {
   "cell_type": "code",
   "execution_count": null,
   "metadata": {},
   "outputs": [],
   "source": [
    "SELECT \n",
    "     MIN(\"T0\".\"_val_N\") AS \"smallest_count\"\n",
    "FROM \n",
    "( SELECT \n",
    "     \"S0\".\"marital_status\" AS \"marital_status\"\n",
    "    ,\"S0\".\"gender\" AS \"gender\"\n",
    "    ,COUNT(*) AS \"_val_N\"\n",
    "FROM \"DEMO_Financial\".\"Customer\" AS \"S0\"\n",
    "GROUP BY \"S0\".\"marital_status\", \"S0\".\"gender\"\n",
    ") AS \"T0\"\n",
    ";"
   ]
  },
  {
   "cell_type": "code",
   "execution_count": null,
   "metadata": {},
   "outputs": [],
   "source": [
    "CREATE SET TABLE \"demo_user\".\"VAL_Friedman_Worktable\" AS (\n",
    "SELECT\n",
    "    \"cust_id\"\n",
    "    ,\"gender\"\n",
    "    ,\"marital_status\"\n",
    "    ,\"income\"\n",
    "    ,\"ckacct\"\n",
    "    ,\"svacct\"\n",
    "    ,SAMPLEID AS \"xSampleId\"\n",
    "FROM \"DEMO_Financial\".\"Customer_Analysis\"\n",
    "SAMPLE \n",
    "    WHEN gender='f' and marital_status='1' THEN 18\n",
    "    WHEN gender='f' and marital_status='2' THEN 18\n",
    "    WHEN gender='f' and marital_status='3' THEN 18\n",
    "    WHEN gender='f' and marital_status='4' THEN 18\n",
    "    WHEN gender='m' and marital_status='1' THEN 18\n",
    "    WHEN gender='m' and marital_status='2' THEN 18\n",
    "    WHEN gender='m' and marital_status='3' THEN 18\n",
    "    WHEN gender='m' and marital_status='4' THEN 18\n",
    "END\n",
    ") WITH DATA PRIMARY INDEX(\"cust_id\");"
   ]
  },
  {
   "cell_type": "code",
   "execution_count": null,
   "metadata": {},
   "outputs": [],
   "source": [
    "call val.td_analyze('ranktest',\n",
    "                         'teststyle=friedman;\n",
    "                          statsdatabase=val;\n",
    "                          database=demo_user;\n",
    "                          tablename=VAL_Friedman_Worktable;\n",
    "                          columnofinterest=income;\n",
    "                          treatmentcolumn=gender;\n",
    "                          blockcolumn=marital_status;');"
   ]
  },
  {
   "cell_type": "markdown",
   "metadata": {},
   "source": [
    "<p style = 'font-size:16px;font-family:Arial;color:#00233C'>The above output has the output columns as below(If there are groupby columns, they comprise the UPI. Otherwise, Kendalls_W is the UPI.)\n",
    "\n",
    "teststyle = friedman</p>\n",
    "\n",
    " <table style = 'font-size:14px;font-family:Arial;color:#00233C'>\n",
    "  <tr>\n",
    "    <th>Column</th>\n",
    "    <th>DataType</th>\n",
    "    <th>Description</th>\n",
    "  </tr>\n",
    "  <tr>\n",
    "    <td>Kendalls_W</td>\n",
    "    <td>Float</td>  \n",
    "    <td>Kendall's W statistic.</td>\n",
    "  </tr>\n",
    "  <tr>\n",
    "    <td>Average_Spearmans_Rho</td>\n",
    "    <td>Float</td>  \n",
    "    <td>Average Spearman's Rho.</td>\n",
    "  </tr>\n",
    "  <tr>\n",
    "    <td>DF_1</td>\n",
    "    <td>Integer</td>  \n",
    "    <td>Degrees of freedom for treatments.</td>\n",
    "  </tr> \n",
    "  <tr>\n",
    "    <td>DF_2</td>\n",
    "    <td>Integer</td>  \n",
    "    <td>Degrees of freedom for blocks.</td>\n",
    "  </tr> \n",
    "  <tr>\n",
    "    <td>F</td>\n",
    "    <td>Float</td>  \n",
    "    <td>2-way ANOVA F statistic on ranks.</td>\n",
    "  </tr>\n",
    "  <tr>\n",
    "    <td>FriedmanPValue</td>\n",
    "    <td>Float</td>  \n",
    "    <td>Probability associated with Friedman statistic.</td>\n",
    "  </tr>\n",
    "  <tr>\n",
    "    <td>FriedmanPText</td>\n",
    "    <td>Char</td>  \n",
    "    <td>Text description of probability if out of table range.</td>\n",
    "  </tr>\n",
    "  <tr>\n",
    "    <td>FriedmanCallP_0.05</td>\n",
    "    <td>Char</td>  \n",
    "    <td>Friedman result:\n",
    "        <li>a=accept null hypothesis</li>\n",
    "        <li>p=reject null hypothesis(positive)</li>\n",
    "        <li>n=reject null hypothesis(negative)</li>\n",
    "    </td>\n",
    "  </tr>    \n",
    "</table>\n",
    "   \n",
    "<p>"
   ]
  },
  {
   "cell_type": "markdown",
   "metadata": {},
   "source": [
    "<hr style=\"height:2px;border:none;background-color:#00233C;\">"
   ]
  },
  {
   "cell_type": "markdown",
   "metadata": {},
   "source": [
    "<p style = 'font-size:20px;font-family:Arial;color:#00233C'><b>8. Chi Square Tests</b></p>\n",
    "\n",
    "<p style = 'font-size:16px;font-family:Arial;color:#00233C'><b>Purpose</b></p>\n",
    "\n",
    "<p style = 'font-size:16px;font-family:Arial;color:#00233C'>Statistical tests of this type are based on a matrix of frequencies or counts.  A frequency pattern that is non-random is sought in the matrix.  Supported tests of this type include the following:\n",
    "\n",
    "<li>Chi Square Test</li>\n",
    "</p>\n",
    "\n",
    "<p style = 'font-size:16px;font-family:Arial;color:#00233C'>Besides a Chi Square value, other measures are computed in a Chi Square Test, including a Phi Coefficient,  Cramer’s V, Likelihood Ratio Chi Square, Continuity-Adjusted Chi Square and Contingency Coefficient.\n",
    "\n",
    "<li>Median Test</li>\n",
    "</p>\n",
    "    \n",
    "<p style = 'font-size:16px;font-family:Arial;color:#00233C'>A Median Test is a variation of Chi Square Test wherein samples are tested to see if their populations have the same median value.</p>\n",
    "\n",
    "<p style = 'font-size:16px;font-family:Arial;color:#00233C'><b>Required Parameters</b></p>\n",
    "\n",
    "<p style = 'font-size:16px;font-family:Arial;color:#00233C'><b>- **chisquaretest**</b></p>\n",
    "\n",
    "<p style = 'font-size:16px;font-family:Arial;color:#00233C'>The chisquaretest parameter:\n",
    "    \n",
    "<li>Is required</li>\n",
    "<li>Must be the first parameter</li>\n",
    "<li>Is always enclosed in single quotes</li>\n",
    "</p>\n",
    "\n",
    "<p style = 'font-size:16px;font-family:Arial;color:#00233C'><b>- **database**</b></p>\n",
    "\n",
    "<p style = 'font-size:16px;font-family:Arial;color:#00233C'>The database containing the table to analyze.</p>\n",
    "\n",
    "<p style = 'font-size:16px;font-family:Arial;color:#00233C'><b>- **tablename**</b></p>\n",
    "\n",
    "<p style = 'font-size:16px;font-family:Arial;color:#00233C'>The table containing the columns to analyze.  It must reside in the database indicated by the database parameter.</p>\n",
    "\n",
    "<p style = 'font-size:16px;font-family:Arial;color:#00233C'><b>Optional Parameters</b></p>\n",
    "\n",
    "<p style = 'font-size:16px;font-family:Arial;color:#00233C'><b>- **columnofinterest**</b></p>\n",
    "\n",
    "<p style = 'font-size:16px;font-family:Arial;color:#00233C'>Used only by the Median Test, the column specified with this parameter indicates the dependent variable (numeric).  It must reside in the table indicated by the tablename parameter.</p>\n",
    "\n",
    "<p style = 'font-size:16px;font-family:Arial;color:#00233C'><b>- **columns**</b></p>\n",
    "\n",
    "<p style = 'font-size:16px;font-family:Arial;color:#00233C'>Used only by the Median Test, the columns specified with this parameter represent the independent variables (categorical). They must reside in the table indicated by the tablename parameter.</p>\n",
    "\n",
    "<p style = 'font-size:16px;font-family:Arial;color:#00233C'><b>- **fallback**</b></p>\n",
    "\n",
    "<p style = 'font-size:16px;font-family:Arial;color:#00233C'>When true, FALLBACK is requested as an attribute of the created output results table.  When false or parameter not specified, the FALLBACK attribute is not included in the create table SQL.</p>\n",
    "\n",
    "<p style = 'font-size:16px;font-family:Arial;color:#00233C'><b>- **firstcolumns**</b></p>\n",
    "\n",
    "<p style = 'font-size:16px;font-family:Arial;color:#00233C'>Used only by the Chi Square Test, one or more columns representing the first of variable pairs for analysis. They must reside in the table indicated by the tablename parameter.  Note that the number of combinations of firstcolumns and secondcolumns may not exceed 100.  Note also that if the product of the number distinct values in these column pairs exceeds 2000, the analysis of that combination is skipped (but not if gensqlonly is true).</p>\n",
    "\n",
    "<p style = 'font-size:16px;font-family:Arial;color:#00233C'><b>- **gensqlonly**</b></p>\n",
    "\n",
    "<p style = 'font-size:16px;font-family:Arial;color:#00233C'>When true, the SQL for the requested function is returned as a result set but not run. When not specified or set to false, the SQL is run but not returned.</p>\n",
    "\n",
    "<p style = 'font-size:16px;font-family:Arial;color:#00233C'><b>- **groupby**</b></p>\n",
    "\n",
    "<p style = 'font-size:16px;font-family:Arial;color:#00233C'>Available only in the Median Test, one or more group-by columns may optionally be specified so that a separate result is produced for each value or combination of values in the specified column or columns.</p>\n",
    "\n",
    "<p style = 'font-size:16px;font-family:Arial;color:#00233C'><b>- **multiset**</b></p>\n",
    "\n",
    "<p style = 'font-size:16px;font-family:Arial;color:#00233C'>When true, MULTISET is requested as an attribute of the created output results table.  When false or parameter not specified, the MULTISET attribute is not included in the create table SQL.</p>\n",
    "\n",
    "<p style = 'font-size:16px;font-family:Arial;color:#00233C'><b>- **outputdatabase**</b></p>\n",
    "\n",
    "<p style = 'font-size:16px;font-family:Arial;color:#00233C'>Specifies the name of the database to contain the analysis results table.</p>\n",
    "\n",
    "<p style = 'font-size:16px;font-family:Arial;color:#00233C'><b>- **outputtablename**</b></p>\n",
    "\n",
    "<p style = 'font-size:16px;font-family:Arial;color:#00233C'>Specifies the name of the table to store the analysis results. If not supplied, the results are returned as a result set.</p>\n",
    "\n",
    "<p style = 'font-size:16px;font-family:Arial;color:#00233C'><b>- **overwrite**</b></p>\n",
    "\n",
    "<p style = 'font-size:16px;font-family:Arial;color:#00233C'>When overwrite is set to true or not set, the output table is dropped before creating a new one.</p>\n",
    "\n",
    "<p style = 'font-size:16px;font-family:Arial;color:#00233C'><b>- **secondcolumns**</b></p>\n",
    "\n",
    "<p style = 'font-size:16px;font-family:Arial;color:#00233C'>Used only by the Chi Square Test, one or more columns representing the second of variable pairs for analysis. They must reside in the table indicated by the tablename parameter.  Note that the number of combinations of firstcolumns and secondcolumns may not exceed 100.  Note also that if the product of the number distinct values in these column pairs exceeds 2000, the analysis of that combination is skipped (but not if gensqlonly is true).</p>\n",
    "\n",
    "<p style = 'font-size:16px;font-family:Arial;color:#00233C'><b>- **statsdatabase**</b></p>\n",
    "\n",
    "<p style = 'font-size:16px;font-family:Arial;color:#00233C'>This is the database where the statistical test metadata tables are installed.  If not specified, the source database is searched for these metadata tables.</p>\n",
    "\n",
    "<p style = 'font-size:16px;font-family:Arial;color:#00233C'><b>- **teststyle**</b></p>\n",
    "\n",
    "<p style = 'font-size:16px;font-family:Arial;color:#00233C'>The valid values are chisq and median, representing a Chi Square or Median test.  If not specified, the default test style is Chi Square (chisq).</p>\n",
    "\n",
    "<p style = 'font-size:16px;font-family:Arial;color:#00233C'><b>- **thresholdprobability**</b></p>\n",
    "\n",
    "<p style = 'font-size:16px;font-family:Arial;color:#00233C'>You may optionally change the threshold probability or allow it to default to 0.05.  Below this \"alpha\" probability the null hypothesis is rejected.</p>"
   ]
  },
  {
   "cell_type": "markdown",
   "metadata": {},
   "source": [
    "<hr style=\"height:1px;border:none;background-color:#00233C;\">"
   ]
  },
  {
   "cell_type": "markdown",
   "metadata": {},
   "source": [
    "<p style = 'font-size:16px;font-family:Arial;color:#00233C'>1.  Chi Square Test with non-persisted results.</p>"
   ]
  },
  {
   "cell_type": "code",
   "execution_count": null,
   "metadata": {},
   "outputs": [],
   "source": [
    "call val.td_analyze('chisquaretest',\n",
    "                         'statsdatabase=val;\n",
    "                          teststyle=chisq;\n",
    "                          database=demo_user;\n",
    "                          tablename=VAL_ADS;\n",
    "                          firstcolumns=female_ind,single_ind;\n",
    "                          secondcolumns=sv_acct_ind,cc_acct_ind,ck_acct_ind;');"
   ]
  },
  {
   "cell_type": "markdown",
   "metadata": {},
   "source": [
    "<p style = 'font-size:16px;font-family:Arial;color:#00233C'>The above output has the output columns as below(Column1 is the UPI.)\n",
    "\n",
    "teststyle = chisq (Default)</p>\n",
    "\n",
    " <table style = 'font-size:14px;font-family:Arial;color:#00233C'>\n",
    "  <tr>\n",
    "    <th>Column</th>\n",
    "    <th>DataType</th>\n",
    "    <th>Description</th>\n",
    "  </tr>\n",
    "  <tr>\n",
    "    <td>column1</td>\n",
    "    <td>Char</td>  \n",
    "    <td>First of pair of variables.</td>\n",
    "  </tr>\n",
    "  <tr>\n",
    "    <td>column2</td>\n",
    "    <td>Char</td>  \n",
    "    <td>Second of pair of variables.</td>\n",
    "  </tr>\n",
    "  <tr>\n",
    "    <td>Chisq</td>\n",
    "    <td>Float</td>  \n",
    "    <td>Chi-Squared statistic.</td>\n",
    "  </tr>  \n",
    "  <tr>\n",
    "    <td>DF</td>\n",
    "    <td>Integer</td>  \n",
    "    <td>Degrees of freedom.</td>\n",
    "  </tr>  \n",
    "  <tr>\n",
    "    <td>Z</td>\n",
    "    <td>Float</td>  \n",
    "    <td>Z-score</td>\n",
    "  </tr>  \n",
    "  <tr>\n",
    "    <td>CramersV</td>\n",
    "    <td>Float</td>  \n",
    "    <td>Cramer'sV.</td>\n",
    "  </tr>  \n",
    "  <tr>\n",
    "    <td>PhiCoeff</td>\n",
    "    <td>Float</td>  \n",
    "    <td>Phi coefficient.</td>\n",
    "  </tr>  \n",
    "  <tr>\n",
    "    <td>LlhChiSq</td>\n",
    "    <td>Float</td>  \n",
    "    <td>Likelihood ratio Chi-Squared statistic.</td>\n",
    "  </tr>  \n",
    "  <tr>\n",
    "    <td>ContAdjChiSq</td>\n",
    "    <td>Float</td>  \n",
    "    <td>Continuity-adjusted Chi-Squared statistic.</td>\n",
    "  </tr>  \n",
    "  <tr>\n",
    "    <td>ContinCoeff</td>\n",
    "    <td>Float</td>  \n",
    "    <td>Contingency coefficient.</td>\n",
    "  </tr>  \n",
    "  <tr>\n",
    "    <td>ChiPValue</td>\n",
    "    <td>Float</td>  \n",
    "    <td>Probability associated with Chi-Squared statistic.</td>\n",
    "  </tr>  \n",
    "  <tr>\n",
    "    <td>ChiPText</td>\n",
    "    <td>Float</td>  \n",
    "    <td>Text description if probability is outside table range.</td>\n",
    "  </tr>  \n",
    "  <tr>\n",
    "    <td>ChiCallP_0.05</td>\n",
    "    <td>Char</td>  \n",
    "    <td>Chi-Squared result:\n",
    "        <li>a=accept null hypothesis (not significantly different)</li>\n",
    "        <li>p=reject null hypothesis(positive) (significantly different)</li>\n",
    "        <li>n=reject null hypothesis(negative)</li>\n",
    "    </td>\n",
    "  </tr>    \n",
    "</table>\n",
    "   \n",
    "<p>"
   ]
  },
  {
   "cell_type": "markdown",
   "metadata": {},
   "source": [
    "<p style = 'font-size:16px;font-family:Arial;color:#00233C'>2.  Chi Square Test with results persisted in an output table.</p>"
   ]
  },
  {
   "cell_type": "code",
   "execution_count": null,
   "metadata": {},
   "outputs": [],
   "source": [
    "call val.td_analyze('chisquaretest',\n",
    "                         'statsdatabase=val;\n",
    "                          teststyle=chisq;\n",
    "                          database=demo_user;\n",
    "                          tablename=VAL_ADS;\n",
    "                          firstcolumns=female_ind,single_ind;\n",
    "                          secondcolumns=sv_acct_ind,cc_acct_ind,ck_acct_ind;\n",
    "                          outputdatabase=demo_user;\n",
    "                          outputtablename=_val_chisquare_out;');"
   ]
  },
  {
   "cell_type": "code",
   "execution_count": null,
   "metadata": {},
   "outputs": [],
   "source": [
    "SELECT * FROM demo_user._val_chisquare_out ORDER BY 1;"
   ]
  },
  {
   "cell_type": "markdown",
   "metadata": {},
   "source": [
    "<p style = 'font-size:16px;font-family:Arial;color:#00233C'>3.  Median Test with groupby column years_with_bank, thresholdprobability set to 0.01 and results returned in a result set.</p> "
   ]
  },
  {
   "cell_type": "code",
   "execution_count": null,
   "metadata": {},
   "outputs": [],
   "source": [
    "call val.td_analyze('chisquaretest', \n",
    "                         'statsdatabase=val;\n",
    "                          teststyle=median;\n",
    "                          database=DEMO_Financial;\n",
    "                          tablename=Customer;\n",
    "                          columnofinterest=income;\n",
    "                          columns=marital_status;\n",
    "                          groupby=years_with_bank;\n",
    "                          thresholdprobability=0.01;');"
   ]
  },
  {
   "cell_type": "markdown",
   "metadata": {},
   "source": [
    "<p style = 'font-size:16px;font-family:Arial;color:#00233C'>The above output has the output columns as below(If there are groupby columns, they comprise the UPI. Otherwise, ChiSq is the UPI.)\n",
    "\n",
    "teststyle = median</p>\n",
    "\n",
    " <table style = 'font-size:14px;font-family:Arial;color:#00233C'>\n",
    "  <tr>\n",
    "    <th>Column</th>\n",
    "    <th>DataType</th>\n",
    "    <th>Description</th>\n",
    "  </tr>\n",
    "  <tr>\n",
    "    <td>Chisq</td>\n",
    "    <td>Float</td>  \n",
    "    <td>Chi-Squared statistic.</td>\n",
    "  </tr>  \n",
    "  <tr>\n",
    "    <td>DF</td>\n",
    "    <td>Integer</td>  \n",
    "    <td>Degrees of freedom.</td>\n",
    "  </tr>  \n",
    "  <tr>\n",
    "    <td>MedianPValue</td>\n",
    "    <td>Float</td>  \n",
    "    <td>Probability associated with Chi-Squared statistic.</td>\n",
    "  </tr>  \n",
    "  <tr>\n",
    "    <td>MedianPText</td>\n",
    "    <td>Char</td>  \n",
    "    <td>Text description if probability is outside table range.</td>\n",
    "  </tr>  \n",
    "  <tr>\n",
    "    <td>MedianCallP_0.01</td>\n",
    "    <td>Char</td>  \n",
    "    <td>Chi-Squared result:\n",
    "        <li>a=accept null hypothesis</li>\n",
    "        <li>p=reject null hypothesis(positive)</li>\n",
    "        <li>n=reject null hypothesis(negative)</li>\n",
    "    </td>\n",
    "  </tr>    \n",
    "</table>\n",
    "   \n",
    "<p>"
   ]
  },
  {
   "cell_type": "markdown",
   "metadata": {},
   "source": [
    "<hr style=\"height:2px;border:none;background-color:#00233C;\">"
   ]
  },
  {
   "cell_type": "markdown",
   "metadata": {},
   "source": [
    "<p style = 'font-size:20px;font-family:Arial;color:#00233C'><b>9. Cleanup</b></p>\n",
    "<p style = 'font-size:18px;font-family:Arial;color:#00233C'><b>Work Tables</b></p>\n",
    "<p style = 'font-size:16px;font-family:Arial;color:#00233C'>Clean up work tables to prevent error next time.</p>"
   ]
  },
  {
   "cell_type": "code",
   "execution_count": null,
   "metadata": {},
   "outputs": [],
   "source": [
    "DROP TABLE \"demo_user\".\"VAL_Friedman_Worktable\";"
   ]
  },
  {
   "cell_type": "code",
   "execution_count": null,
   "metadata": {},
   "outputs": [],
   "source": [
    "DROP TABLE \"demo_user\".\"VAL_ADS\";"
   ]
  },
  {
   "cell_type": "markdown",
   "metadata": {},
   "source": [
    "<p style = 'font-size:18px;font-family:Arial;color:#00233C'><b>Databases and Tables</b></p>\n",
    "<p style = 'font-size:18px;font-family:Arial;color:#00233C'>The following code will clean up tables and databases created above.</p>\n",
    "<p style = 'font-size:16px;font-family:Arial;color:#00233C'><b>Note:</b> In case you plan to execute the other notebooks in the VantageAnalyticLibrary , do not run the <b>remove_data</b> procedure below. Also in case you are not removing the databases and tables here , please make sure that you do not execute the <b>get_data</b> procedure in the next VantageAnalyticLibrary notebook.</p>"
   ]
  },
  {
   "cell_type": "code",
   "execution_count": null,
   "metadata": {},
   "outputs": [],
   "source": [
    "call remove_data('DEMO_Financial');"
   ]
  },
  {
   "cell_type": "markdown",
   "metadata": {},
   "source": [
    "<footer style=\"padding-bottom:35px; background:#f9f9f9; border-bottom:3px solid #00233C\">\n",
    "    <div style=\"float:left;margin-top:14px\">ClearScape Analytics™</div>\n",
    "    <div style=\"float:right;\">\n",
    "        <div style=\"float:left; margin-top:14px\">\n",
    "            Copyright © Teradata Corporation - 2023. All Rights Reserved\n",
    "        </div>\n",
    "    </div>\n",
    "</footer>"
   ]
  }
 ],
 "metadata": {
  "kernelspec": {
   "display_name": "Teradata SQL",
   "language": "Teradata SQL",
   "name": "teradatasql"
  },
  "language_info": {
   "codemirror_mode": "Teradata SQL",
   "file_extension": ".tdrs",
   "mimetype": "application/vnd.teradata.resultset",
   "name": "Teradata SQL",
   "nbconvert_exporter": "",
   "pygments_lexer": "",
   "version": "16.20"
  }
 },
 "nbformat": 4,
 "nbformat_minor": 4
}
