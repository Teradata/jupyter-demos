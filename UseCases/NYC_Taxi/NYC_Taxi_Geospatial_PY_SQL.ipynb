{
 "cells": [
  {
   "cell_type": "markdown",
   "metadata": {},
   "source": [
    "<header>\n",
    "   <p  style='font-size:36px;font-family:Arial; color:#F0F0F0; background-color: #00233c; padding-left: 20pt; padding-top: 20pt;padding-bottom: 10pt; padding-right: 20pt;'>\n",
    "       4D Analytics using the New York City Taxi dataset --Geospatial & Visualizations\n",
    "  <br>\n",
    "       <img id=\"teradata-logo\" src=\"https://storage.googleapis.com/clearscape_analytics_demo_data/DEMO_Logo/teradata.svg\" alt=\"Teradata\" style=\"width: 125px; height: auto; margin-top: 20pt;\">\n",
    "    </p>\n",
    "</header>\n",
    "\n",
    "<p style = 'font-size:20px;font-family:Arial;color:#00233c'><b>Introduction</b></p>"
   ]
  },
  {
   "cell_type": "markdown",
   "metadata": {},
   "source": [
    "<p style = 'font-size:16px;font-family:Arial;color:#00233C'>\n",
    "Businesses that involve different locations and moving things from place to place where they are needed can benefit from geospatial analysis.  Questions include capacity at given locations and capacity to move things from where they are to where they are needed.  A common optimization question is keeping the assets used in movement in constant use.  A major railroad saved millions of dollars using Vantage to reduce the idle time of engines waiting in the rail yard.  A commonly used set of data for this type of analysis is the NYC Taxi data which has trips with cabs (medallions), pickup/drop-off time and geospatial coordinates. , passenger count and fares. Using geospatial analysis, decisions can be made about deploying cabs and vehicles with different capacities.<br>Vantage provides support for geospatial shapes (points, lines, curves, polygon, etc) and methods for analyzing the relationships of those shapes ( Distance, length, overlaps, contains, touches, etc).  In this demo, we’ll be using:</p>\n",
    "    <ul style = 'font-size:16px;font-family:Arial;color:#00233C'>\n",
    "<li>Geospatial using the ST_GEOMETRY data type and ST_SphericalDistance method</li>\n",
    "        <li>The visualizations are done using Python plotly module</li>\n",
    "    </ul>\n",
    "</p>\n",
    "\n",
    "\n",
    "<p style = 'font-size:16px;font-family:Arial;color:#00233C'>Here, we import the required libraries, set environment variables and environment paths (if required).</p>"
   ]
  },
  {
   "cell_type": "code",
   "execution_count": null,
   "metadata": {},
   "outputs": [],
   "source": [
    "# Standard Libraries\n",
    "import getpass\n",
    "import warnings\n",
    "\n",
    "# Data Manipulation and Visualization Libraries\n",
    "import pandas as pd\n",
    "import numpy as np\n",
    "import matplotlib.pyplot as plt\n",
    "import plotly.express as px\n",
    "import plotly.graph_objects as go\n",
    "\n",
    "# Teradata Libraries\n",
    "from teradataml import *\n",
    "from teradatasqlalchemy.types import *\n",
    "\n",
    "# Configuration and Display Settings\n",
    "display.max_rows = 5\n",
    "\n",
    "# Miscellaneous\n",
    "%matplotlib inline\n",
    "\n",
    "# Suppress Warnings\n",
    "warnings.filterwarnings('ignore')"
   ]
  },
  {
   "cell_type": "markdown",
   "metadata": {},
   "source": [
    "<hr style='height:2px;border:none;background-color:#00233C;'>\n",
    "<p style = 'font-size:28px;font-family:Arial;color:#00233c'><b>1. Connect to Vantage</b></p>\n",
    "\n",
    "<p style = 'font-size:16px;font-family:Arial;color:#00233C'>You will be prompted to provide the password. Enter your password, press the Enter key, then use down arrow to go to next cell.</p>"
   ]
  },
  {
   "cell_type": "code",
   "execution_count": null,
   "metadata": {},
   "outputs": [],
   "source": [
    "%run -i ../startup.ipynb\n",
    "eng = create_context(host = 'host.docker.internal', username = 'demo_user', password = password)\n",
    "print(eng)"
   ]
  },
  {
   "cell_type": "code",
   "execution_count": null,
   "metadata": {},
   "outputs": [],
   "source": [
    "%%capture\n",
    "execute_sql('''SET query_band='DEMO=NYC_Taxi_Geospatial_PY_SQL.ipynb;' UPDATE FOR SESSION;''')"
   ]
  },
  {
   "cell_type": "markdown",
   "metadata": {},
   "source": [
    "<p style = 'font-size:16px;font-family:Arial;color:#00233C'>Begin running steps with Shift + Enter keys.</p>"
   ]
  },
  {
   "cell_type": "markdown",
   "metadata": {},
   "source": [
    "<hr style='height:1px;border:none;background-color:#00233C;'>\n",
    "\n",
    "<p style = 'font-size:18px;font-family:Arial;color:#00233c'> <b>1.1 Getting Data for This Demo</b></p>\n",
    "<p style = 'font-size:16px;font-family:Arial;color:#00233C'>We have provided data for this demo on cloud storage. In this demo since we are using Temporal table we will be creating databases and tables in local storage and use them in the notebook. Please execute the procedure in the next cell.</p>"
   ]
  },
  {
   "cell_type": "code",
   "execution_count": null,
   "metadata": {},
   "outputs": [],
   "source": [
    "# %run -i ../run_procedure.py \"call get_data('DEMO_NYCTaxi_cloud');\"    # Takes about 2 minutes\n",
    "%run -i ../run_procedure.py \"call get_data('DEMO_NYCTaxi_local');\"    # Takes about 3 minutes"
   ]
  },
  {
   "cell_type": "markdown",
   "metadata": {},
   "source": [
    "<p style = 'font-size:16px;font-family:Arial;color:#00233C'>Next is an optional step – if you want to see status of databases/tables created and space used.</p>"
   ]
  },
  {
   "cell_type": "code",
   "execution_count": null,
   "metadata": {},
   "outputs": [],
   "source": [
    "%run -i ../run_procedure.py \"call space_report();\""
   ]
  },
  {
   "cell_type": "markdown",
   "metadata": {},
   "source": [
    "<hr style='height:1px;border:none;background-color:#00233C;'>\n",
    "\n",
    "<p style = 'font-size:18px;font-family:Arial;color:#00233c'> <b>1.2 Access data in Vantage  </b> </p>\n",
    "<p style = 'font-size:16px;font-family:Arial;color:#00233C'>Let us check the data sample. This demonstration will use two tables: the taxi trip details and the fares for each trip. The queries below will sample each table and then show the range of the time period covered by the data. </p>"
   ]
  },
  {
   "cell_type": "code",
   "execution_count": null,
   "metadata": {},
   "outputs": [],
   "source": [
    "DataFrame(in_schema(\"DEMO_NYCTaxi\", \"Trip\"))"
   ]
  },
  {
   "cell_type": "code",
   "execution_count": null,
   "metadata": {},
   "outputs": [],
   "source": [
    "DataFrame(in_schema(\"DEMO_NYCTaxi\", \"Trip_Fare\"))"
   ]
  },
  {
   "cell_type": "code",
   "execution_count": null,
   "metadata": {},
   "outputs": [],
   "source": [
    "qry = \"\"\" \n",
    "SELECT MIN(pickup_datetime) as min_pickup, MAX(dropoff_datetime) as max_pickup FROM DEMO_NYCTaxi.Trip;\n",
    "\"\"\"\n",
    "\n",
    "DataFrame.from_query(qry)"
   ]
  },
  {
   "cell_type": "markdown",
   "metadata": {},
   "source": [
    "<hr style='height:2px;border:none;background-color:#00233C;'>\n",
    "<p style = 'font-size:28px;font-family:Arial;color:#00233c'><b>2. Geospatial Analysis </b></p>\n",
    "<p style = 'font-size:16px;font-family:Arial;color:#00233C'> Now we have seen the trip and fare details, Let's define a few landmarks. </p>"
   ]
  },
  {
   "cell_type": "code",
   "execution_count": null,
   "metadata": {},
   "outputs": [],
   "source": [
    "qry = \"\"\" \n",
    "CREATE MULTISET TABLE dim_geo_locations (\n",
    "    location VARCHAR(100),\n",
    "    Lat FLOAT,\n",
    "    Lon FLOAT,\n",
    "    geo_point SYSUDTLIB.ST_GEOMETRY(16776192) INLINE LENGTH 9920\n",
    ") PRIMARY INDEX (location);\n",
    "\"\"\"\n",
    "try:\n",
    "    execute_sql(qry)\n",
    "except:\n",
    "    db_drop_table(\"dim_geo_locations\")\n",
    "    execute_sql(qry)"
   ]
  },
  {
   "cell_type": "code",
   "execution_count": null,
   "metadata": {},
   "outputs": [],
   "source": [
    "qry = \"\"\" \n",
    "INSERT INTO dim_geo_locations VALUES ('Columbia University', 40.81, -73.96, 'POINT(40.81 -73.96)');\n",
    "INSERT INTO dim_geo_locations VALUES ('Empire State Building', 40.75, -73.99, 'POINT(40.75 -73.99)');\n",
    "INSERT INTO dim_geo_locations VALUES ('Grand Central Station', 40.75, -73.98, 'POINT(40.75 -73.98)');\n",
    "INSERT INTO dim_geo_locations VALUES ('JFK Airport', 40.64, -73.79, 'POINT(40.64 -73.79)');\n",
    "INSERT INTO dim_geo_locations VALUES ('Madison Square Garden', 40.75, -73.99, 'POINT(40.75 -73.99)');\n",
    "INSERT INTO dim_geo_locations VALUES ('New York Stock Exchange', 40.71, -74.01, 'POINT(40.71 -74.01)');\n",
    "INSERT INTO dim_geo_locations VALUES ('Times Square', 40.76, -73.99, 'POINT(40.76 -73.99)');\n",
    "INSERT INTO dim_geo_locations VALUES ('United Nations HQ', 40.75, -73.97, 'POINT(40.75 -73.97)');\n",
    "INSERT INTO dim_geo_locations VALUES ('Yankee Stadium', 40.83, -73.93, 'POINT(40.83 -73.93)');\n",
    "\"\"\"\n",
    "\n",
    "out = execute_sql(qry)"
   ]
  },
  {
   "cell_type": "code",
   "execution_count": null,
   "metadata": {},
   "outputs": [],
   "source": [
    "DataFrame(\"dim_geo_locations\")"
   ]
  },
  {
   "cell_type": "markdown",
   "metadata": {},
   "source": [
    "<p style = 'font-size:16px;font-family:Arial;color:#00233C'> As you can see the dim_geo_locations contain a separate Latitude and Longitude column and a \"Well Known Text\" (WKT) geospatial column with a POINT defined. The supported shape types also have user defined type. Those available are:\n",
    "<ul style = 'font-size:16px;font-family:Arial;color:#00233C'>\n",
    "    <li>ST_CircularString</li>\n",
    "    <li>ST_GeomCollection</li>\n",
    "    <li>ST_MultiLineString</li>\n",
    "    <li>ST_Point</li>\n",
    "    <li>ST_CompoundCurve</li>\n",
    "    <li>ST_Geometry</li>\n",
    "    <li>ST_MultiPoint</li>\n",
    "    <li>ST_Polygon</li>\n",
    "    <li>ST_Curve</li>\n",
    "    <li>ST_LineString</li>\n",
    "    <li>ST_MultiPolygon</li>\n",
    "    <li>ST_Surface</li>\n",
    "    <li>ST_CurvePolygon</li>\n",
    "    <li>ST_MultiCurve</li>\n",
    "    <li>ST_MultiSurface</li></ul>\n"
   ]
  },
  {
   "cell_type": "markdown",
   "metadata": {},
   "source": [
    "<p style = 'font-size:16px;font-family:Arial;color:#00233C'> Now let's plot these locations on the map."
   ]
  },
  {
   "cell_type": "code",
   "execution_count": null,
   "metadata": {
    "tags": []
   },
   "outputs": [],
   "source": [
    "# Dim geo locations\n",
    "geo = (\n",
    "    DataFrame.from_query(\"SELECT location, Lat, Lon FROM dim_geo_locations;\")\n",
    "    .to_pandas()\n",
    "    .reset_index()\n",
    ")\n",
    "fig1 = px.scatter_mapbox(\n",
    "    geo,\n",
    "    lat=\"Lat\",\n",
    "    lon=\"Lon\",\n",
    "    hover_name=\"location\",\n",
    "    color_discrete_sequence=[\"red\"],\n",
    "    zoom=11,\n",
    "    height=400,\n",
    ")\n",
    "fig1.update_layout(mapbox_style=\"open-street-map\")\n",
    "fig1.update_layout(margin={\"r\": 0, \"t\": 0, \"l\": 0, \"b\": 0})\n",
    "fig1.show()"
   ]
  },
  {
   "cell_type": "markdown",
   "metadata": {},
   "source": [
    "<p style = 'font-size:16px;font-family:Arial;color:#00233C'>\n",
    "Sometimes the source data you get from other sources may not have been developed with geospatial data types but separate latitude and longitude as seen in Trips table above. Ideally data would be stored with geospatial data types but we can cast them as geometry datatype. To simplify the code, we will create a function that will create a WKT representation of the point"
   ]
  },
  {
   "cell_type": "code",
   "execution_count": null,
   "metadata": {},
   "outputs": [],
   "source": [
    "qry = \"\"\"\n",
    "REPLACE FUNCTION Make_Geometry(\n",
    "    latitude FLOAT,\n",
    "    longitude FLOAT\n",
    ") \n",
    "RETURNS ST_GEOMETRY\n",
    "LANGUAGE SQL CONTAINS SQL COLLATION INVOKER INLINE TYPE 1\n",
    "RETURN CAST('POINT(' || TRIM(latitude (DECIMAL(15,6))) || ' ' || TRIM(longitude (DECIMAL(15,6))) || ')' AS ST_GEOMETRY);\n",
    "\"\"\"\n",
    "\n",
    "out = execute_sql(qry)"
   ]
  },
  {
   "cell_type": "markdown",
   "metadata": {},
   "source": [
    "\n",
    " <p style = 'font-size:16px;font-family:Arial;color:#00233C'>\n",
    "    Here are the coordinates for the JFK airport, and this is a point:"
   ]
  },
  {
   "cell_type": "code",
   "execution_count": null,
   "metadata": {},
   "outputs": [],
   "source": [
    "qry = \"\"\"\n",
    "SELECT Make_Geometry(40.64, -73.79) AS geometry;\n",
    "\"\"\"\n",
    "\n",
    "DataFrame.from_query(qry)"
   ]
  },
  {
   "cell_type": "markdown",
   "metadata": {},
   "source": [
    "<p style = 'font-size:16px;font-family:Arial;color:#00233C'> Let's find out the drop locations for taxis staring from JFK Airport."
   ]
  },
  {
   "cell_type": "code",
   "execution_count": null,
   "metadata": {},
   "outputs": [],
   "source": [
    "qry = \"\"\"\n",
    "SELECT\n",
    "    r.dropoff_latitude AS dropoff_latitude,\n",
    "    r.dropoff_longitude AS dropoff_longitude,\n",
    "    COUNT(*) AS \"Count\"\n",
    "FROM\n",
    "    DEMO_NYCTaxi.Trip r\n",
    "WHERE\n",
    "    CAST(pickup_latitude AS DECIMAL(10,2)) = 40.64\n",
    "    AND CAST(pickup_longitude AS DECIMAL(10,2)) = -73.79\n",
    "GROUP BY\n",
    "    1, 2;\n",
    "\"\"\"\n",
    "\n",
    "df = DataFrame.from_query(qry)\n",
    "df"
   ]
  },
  {
   "cell_type": "markdown",
   "metadata": {},
   "source": [
    "<p style = 'font-size:16px;font-family:Arial;color:#00233C'> Let's see these drop points on the map."
   ]
  },
  {
   "cell_type": "code",
   "execution_count": null,
   "metadata": {},
   "outputs": [],
   "source": [
    "drop_loc = df.to_pandas()\n",
    "\n",
    "fig2 = px.scatter_mapbox(\n",
    "    drop_loc,\n",
    "    lat=\"dropoff_latitude\",\n",
    "    lon=\"dropoff_longitude\",\n",
    "    color_discrete_sequence=[\"blue\"],\n",
    "    zoom=11,\n",
    "    height=400,\n",
    ")\n",
    "fig2.update_layout(mapbox_style=\"open-street-map\")\n",
    "fig2.update_layout(margin={\"r\": 0, \"t\": 0, \"l\": 0, \"b\": 0})\n",
    "fig2.show()"
   ]
  },
  {
   "cell_type": "markdown",
   "metadata": {},
   "source": [
    "<p style = 'font-size:16px;font-family:Arial;color:#00233C'> Let's visualize these drop locations with the landmark locations we have created before."
   ]
  },
  {
   "cell_type": "code",
   "execution_count": null,
   "metadata": {},
   "outputs": [],
   "source": [
    "fig3 = go.Figure(data=fig1.data + fig2.data, layout=fig1.layout)\n",
    "fig3.show()"
   ]
  },
  {
   "cell_type": "markdown",
   "metadata": {},
   "source": [
    "<p style = 'font-size:16px;font-family:Arial;color:#00233C'> Vantage has many inbuilt geospatial functions e.g ST_Spherical_Distance which calculates the distance between two points. For complete list of geospatial functions you can check the reference link."
   ]
  },
  {
   "cell_type": "markdown",
   "metadata": {},
   "source": [
    "<p style = 'font-size:16px;font-family:Arial;color:#00233C'> Now let's filter the rides staring from JFK Airport where drop off point is within 0.5km of any landmark"
   ]
  },
  {
   "cell_type": "code",
   "execution_count": null,
   "metadata": {},
   "outputs": [],
   "source": [
    "qry = \"\"\"\n",
    "SELECT\n",
    "    geoloc.location AS location,\n",
    "    trip.dropoff_latitude AS dropoff_latitude,\n",
    "    trip.dropoff_longitude AS dropoff_longitude\n",
    "FROM\n",
    "    DEMO_NYCTaxi.trip trip\n",
    "JOIN\n",
    "    dim_geo_locations geoloc\n",
    "ON\n",
    "    geoloc.geo_point.ST_SphericalDistance(make_geometry(trip.dropoff_latitude, trip.dropoff_longitude)) < 500\n",
    "WHERE\n",
    "    CAST(pickup_latitude AS DECIMAL(10,2)) = 40.64\n",
    "    AND CAST(pickup_longitude AS DECIMAL(10,2)) = -73.79\n",
    "GROUP BY\n",
    "    1, 2, 3;\n",
    "\"\"\"\n",
    "\n",
    "df = DataFrame.from_query(qry)\n",
    "df"
   ]
  },
  {
   "cell_type": "code",
   "execution_count": null,
   "metadata": {},
   "outputs": [],
   "source": [
    "drop_loc2 = df.to_pandas()\n",
    "\n",
    "fig4 = px.scatter_mapbox(\n",
    "    drop_loc2,\n",
    "    lat=\"dropoff_latitude\",\n",
    "    lon=\"dropoff_longitude\",\n",
    "    hover_name=\"location\",\n",
    "    color_discrete_sequence=[\"blue\"],\n",
    "    zoom=11,\n",
    "    height=400,\n",
    ")\n",
    "fig4.update_layout(mapbox_style=\"open-street-map\")\n",
    "fig4.update_layout(margin={\"r\": 0, \"t\": 0, \"l\": 0, \"b\": 0})\n",
    "\n",
    "fig5 = go.Figure(data=fig1.data + fig4.data, layout=fig1.layout)\n",
    "fig5.show()"
   ]
  },
  {
   "cell_type": "markdown",
   "metadata": {},
   "source": [
    "<p style = 'font-size:16px;font-family:Arial;color:#00233C'> Which landmark has the highest number of pickup points within 0.5KM"
   ]
  },
  {
   "cell_type": "code",
   "execution_count": null,
   "metadata": {},
   "outputs": [],
   "source": [
    "qry = \"\"\"\n",
    "SELECT\n",
    "    geoloc.location AS Location,\n",
    "    geoloc.lat AS Lat,\n",
    "    geoloc.lon AS Lon,\n",
    "    COUNT(1) AS pickup_cnt\n",
    "FROM\n",
    "    DEMO_NYCTaxi.trip trip\n",
    "JOIN\n",
    "    dim_geo_locations geoloc\n",
    "ON\n",
    "    geoloc.geo_point.ST_SphericalDistance(make_geometry(trip.pickup_latitude, trip.pickup_longitude)) < 500\n",
    "GROUP BY\n",
    "    1, 2, 3;\n",
    "\"\"\"\n",
    "\n",
    "df = DataFrame.from_query(qry)\n",
    "df"
   ]
  },
  {
   "cell_type": "code",
   "execution_count": null,
   "metadata": {},
   "outputs": [],
   "source": [
    "pickup = df.to_pandas()\n",
    "\n",
    "fig6 = px.scatter_mapbox(\n",
    "    pickup,\n",
    "    lat=\"Lat\",\n",
    "    lon=\"Lon\",\n",
    "    hover_name=\"Location\",\n",
    "    color=\"pickup_cnt\",\n",
    "    size=\"pickup_cnt\",\n",
    "    zoom=11,\n",
    "    height=400,\n",
    ")\n",
    "fig6.update_layout(mapbox_style=\"open-street-map\")\n",
    "fig6.update_layout(margin={\"r\": 0, \"t\": 0, \"l\": 0, \"b\": 0})\n",
    "fig6.show()"
   ]
  },
  {
   "cell_type": "markdown",
   "metadata": {},
   "source": [
    "<p style = 'font-size:16px;font-family:Arial;color:#00233C'> What is the number of pickup at 'JFK Airport' throughout the day? As we have earlier from min & max pickup datetime we have only one day's data hence we don't need any date filter."
   ]
  },
  {
   "cell_type": "code",
   "execution_count": null,
   "metadata": {},
   "outputs": [],
   "source": [
    "qry = \"\"\"\n",
    "SELECT\n",
    "    $TD_TIMECODE_RANGE AS time_bucket_per_hr,\n",
    "    l.location AS Location,\n",
    "    COUNT(1) AS pickup_cnt\n",
    "FROM\n",
    "    DEMO_NYCTaxi.Trip r\n",
    "JOIN\n",
    "    dim_geo_locations l\n",
    "ON\n",
    "    l.geo_point.ST_SphericalDistance(make_geometry(r.pickup_latitude, r.pickup_longitude)) < 1000\n",
    "GROUP BY\n",
    "    time(minutes(60) AND l.location)\n",
    "USING TIMECODE(pickup_datetime)\n",
    "WHERE\n",
    "    l.location = 'JFK Airport';\n",
    "\"\"\"\n",
    "\n",
    "df = DataFrame.from_query(qry).sort([\"Location\", \"time_bucket_per_hr\"])\n",
    "df"
   ]
  },
  {
   "cell_type": "code",
   "execution_count": null,
   "metadata": {},
   "outputs": [],
   "source": [
    "hr_throughput = df.to_pandas()\n",
    "hr_throughput.plot(kind=\"bar\", legend=True, figsize=(12, 9))"
   ]
  },
  {
   "cell_type": "markdown",
   "metadata": {},
   "source": [
    "<p style = 'font-size:16px;font-family:Arial;color:#00233C'> From the chart above we can see that the pickup demand at airport is higher from 3-10PM and very low from 2-5am."
   ]
  },
  {
   "cell_type": "markdown",
   "metadata": {},
   "source": [
    "<hr style='height:2px;border:none;background-color:#00233C;'>\n",
    "<p style = 'font-size:28px;font-family:Arial;color:#00233c'><b>3. Clean up </b></p>\n",
    "<p style = 'font-size:18px;font-family:Arial;color:#00233c'> <b>3.1 Worktables </b></p>"
   ]
  },
  {
   "cell_type": "code",
   "execution_count": null,
   "metadata": {},
   "outputs": [],
   "source": [
    "tables = [\"dim_geo_locations\", \"make_geometry\"]\n",
    "\n",
    "# Loop through the list of tables and execute the drop table command for each table\n",
    "for table in tables:\n",
    "    try:\n",
    "        db_drop_table(table_name=table)\n",
    "    except:\n",
    "        pass"
   ]
  },
  {
   "cell_type": "markdown",
   "metadata": {},
   "source": [
    "<hr style='height:1px;border:none;background-color:#00233C;'>\n",
    "\n",
    "<p style = 'font-size:18px;font-family:Arial;color:#00233c'> <b>3.2 Database and Tables </b></p>\n",
    "<p style = 'font-size:16px;font-family:Arial;color:#00233C'>The following code will clean up tables and databases created above.</p>"
   ]
  },
  {
   "cell_type": "code",
   "execution_count": null,
   "metadata": {},
   "outputs": [],
   "source": [
    "%run -i ../run_procedure.py \"call remove_data('DEMO_NYCTaxi');\" \n",
    "# Takes 10 seconds takes about 10 seconds, optional if you want to use the data later\n",
    "# Note that the same database & tables are used in Usecases/NYC-taxi-4d/NYC-taxi-4d.ipynb "
   ]
  },
  {
   "cell_type": "markdown",
   "metadata": {},
   "source": [
    "<hr style='height:2px;border:none;background-color:#00233C;'>\n",
    "<p style = 'font-size:28px;font-family:Arial;color:#00233c'><b>4. Conclusion</b></p>\n",
    "<p style = 'font-size:16px;font-family:Arial;color:#00233C'>\n",
    "In this demonstration we have seen Vantage can store common geometry datatype like point, linestring etc in ST_GEOMETRY datatype and has inbuild functions which are fairly simple and easy to use. For more information on the geometry datatype and functions please refer to link below. "
   ]
  },
  {
   "cell_type": "markdown",
   "metadata": {},
   "source": [
    "<hr style='height:1px;border:none;background-color:#00233C;'>\n",
    "<p style = 'font-size:18px;font-family:Arial;color:#00233c'><b>4.2 Reference Links:</b></p>\n",
    "<ul style = 'font-size:16px;font-family:Arial;color:#00233C'>\n",
    "        <li>Teradata® Geospatial Utilities User Guide: <a href = 'https://docs.teradata.com/r/Teradata-Geospatial-Utilities-User-Guide/June-2022/Teradata-Geospatial-Utilities-Overview/Welcome-to-Teradata-Tools-and-Utilities-Teradata-Geospatial-Utilities-User-Guide'>https://docs.teradata.com/r/Teradata-Geospatial-Utilities-User-Guide/June-2022/Teradata-Geospatial-Utilities-Overview/Welcome-to-Teradata-Tools-and-Utilities-Teradata-Geospatial-Utilities-User-Guide</a></ul>"
   ]
  },
  {
   "cell_type": "markdown",
   "metadata": {},
   "source": [
    "<footer style=\"padding-bottom:35px; background:#f9f9f9; border-bottom:3px solid #00233C\">\n",
    "    <div style=\"float:left;margin-top:14px\">ClearScape Analytics™</div>\n",
    "    <div style=\"float:right;\">\n",
    "        <div style=\"float:left; margin-top:14px\">\n",
    "            Copyright © Teradata Corporation - 2023. All Rights Reserved\n",
    "        </div>\n",
    "    </div>\n",
    "</footer>"
   ]
  }
 ],
 "metadata": {
  "kernelspec": {
   "display_name": "Python 3 (ipykernel)",
   "language": "python",
   "name": "python3"
  },
  "language_info": {
   "codemirror_mode": {
    "name": "ipython",
    "version": 3
   },
   "file_extension": ".py",
   "mimetype": "text/x-python",
   "name": "python",
   "nbconvert_exporter": "python",
   "pygments_lexer": "ipython3",
   "version": "3.9.10"
  },
  "toc-showtags": true
 },
 "nbformat": 4,
 "nbformat_minor": 4
}
