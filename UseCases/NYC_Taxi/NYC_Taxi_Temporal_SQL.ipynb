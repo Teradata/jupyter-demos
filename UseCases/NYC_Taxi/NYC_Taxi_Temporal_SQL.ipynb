{
 "cells": [
  {
   "cell_type": "markdown",
   "metadata": {},
   "source": [
    "<header>\n",
    "   <p  style='font-size:36px;font-family:Arial; color:#F0F0F0; background-color: #00233c; padding-left: 20pt; padding-top: 20pt;padding-bottom: 10pt; padding-right: 20pt;'>\n",
    "      4D Analytics using the New York City Taxi dataset --Temporal and Timeseries\n",
    "  <br>\n",
    "       <img id=\"teradata-logo\" src=\"https://storage.googleapis.com/clearscape_analytics_demo_data/DEMO_Logo/teradata.svg\" alt=\"Teradata\" style=\"width: 125px; height: auto; margin-top: 20pt;\">\n",
    "    </p>\n",
    "</header>\n",
    "\n",
    "<p style = 'font-size:20px;font-family:Arial;color:#00233c'><b>Introduction</b></p>"
   ]
  },
  {
   "cell_type": "markdown",
   "metadata": {},
   "source": [
    "<p style = 'font-size:16px;font-family:Arial;color:#00233C'>\n",
    "This is a demonstration of Vantage capabilities for\n",
    "    <ul style = 'font-size:16px;font-family:Arial;color:#00233C'>\n",
    "<li>Temporal using the PERIOD data type, CONTAINS, OVERLAPS and EXPAND</li>\n",
    "        <li>Timeseries and Primary Time Index</li>\n",
    "        </ul>\n",
    "    </p>\n",
    "    "
   ]
  },
  {
   "cell_type": "markdown",
   "metadata": {},
   "source": [
    "<hr style='height:2px;border:none;background-color:#00233C;'>\n",
    "<p style = 'font-size:28px;font-family:Arial;color:#00233c'><b>1. Connect to Vantage</b></p>\n",
    "\n",
    "<p style = 'font-size:16px;font-family:Arial;color:#00233C'>You will be prompted to provide the password. Enter your password, press the Enter key, then use down arrow to go to next cell.</p>"
   ]
  },
  {
   "cell_type": "code",
   "execution_count": null,
   "metadata": {
    "vscode": {
     "languageId": "teradata sql"
    }
   },
   "outputs": [],
   "source": [
    "%connect local, hidewarnings=true"
   ]
  },
  {
   "cell_type": "markdown",
   "metadata": {},
   "source": [
    "<p style = 'font-size:16px;font-family:Arial;color:#00233C'>Setup for execution of notebook. Begin running steps with Shift + Enter keys.</p>"
   ]
  },
  {
   "cell_type": "code",
   "execution_count": null,
   "metadata": {
    "vscode": {
     "languageId": "teradata sql"
    }
   },
   "outputs": [],
   "source": [
    "SET query_band='DEMO=NYC_Taxi_Temporal_SQL.ipynb;' UPDATE FOR SESSION;"
   ]
  },
  {
   "cell_type": "markdown",
   "metadata": {},
   "source": [
    "<hr style='height:1px;border:none;background-color:#00233C;'>\n",
    "\n",
    "<p style = 'font-size:18px;font-family:Arial;color:#00233c'> <b>1.1 Getting Data for This Demo</b></p>\n",
    "<p style = 'font-size:16px;font-family:Arial;color:#00233C'>We have provided data for this demo on cloud storage. In this demo since we are using Temporal table we will be creating databases and tables in local storage and use them in the notebook. Please execute the procedure in the next cell.</p>"
   ]
  },
  {
   "cell_type": "code",
   "execution_count": null,
   "metadata": {
    "vscode": {
     "languageId": "teradata sql"
    }
   },
   "outputs": [],
   "source": [
    "-- call get_data('DEMO_NYCTaxi_cloud');    -- Takes about 2 minutes\n",
    "call get_data('DEMO_NYCTaxi_local');    -- takes about 3 minutes"
   ]
  },
  {
   "cell_type": "markdown",
   "metadata": {},
   "source": [
    "<p style = 'font-size:16px;font-family:Arial;color:#00233C'>Optional step – if you want to see status of databases/tables created and space used.</p>"
   ]
  },
  {
   "cell_type": "code",
   "execution_count": null,
   "metadata": {
    "vscode": {
     "languageId": "teradata sql"
    }
   },
   "outputs": [],
   "source": [
    "call space_report();  -- optional, takes about 10 seconds"
   ]
  },
  {
   "cell_type": "markdown",
   "metadata": {},
   "source": [
    "<hr style='height:1px;border:none;background-color:#00233C;'>\n",
    "\n",
    "<p style = 'font-size:18px;font-family:Arial;color:#00233c'> <b>1.2 Access data in Vantage  </b> </p>\n",
    "<p style = 'font-size:16px;font-family:Arial;color:#00233C'>Let us check the data sample. This demonstration will use two tables: the taxi trip details and the fares for each trip. The queries below will sample each table and then show the range of the time period covered by the data. </p>"
   ]
  },
  {
   "cell_type": "code",
   "execution_count": null,
   "metadata": {
    "vscode": {
     "languageId": "teradata sql"
    }
   },
   "outputs": [],
   "source": [
    "SELECT TOP 5 * from DEMO_NYCTaxi.Trip;"
   ]
  },
  {
   "cell_type": "code",
   "execution_count": null,
   "metadata": {
    "vscode": {
     "languageId": "teradata sql"
    }
   },
   "outputs": [],
   "source": [
    "SELECT TOP 5 * from DEMO_NYCTaxi.Trip_Fare;"
   ]
  },
  {
   "cell_type": "code",
   "execution_count": null,
   "metadata": {
    "vscode": {
     "languageId": "teradata sql"
    }
   },
   "outputs": [],
   "source": [
    "SELECT MIN(pickup_datetime), MAX(dropoff_datetime) from DEMO_NYCTaxi.Trip;"
   ]
  },
  {
   "cell_type": "markdown",
   "metadata": {},
   "source": [
    "<hr style='height:2px;border:none;background-color:#00233C;'>\n",
    "<p style = 'font-size:28px;font-family:Arial;color:#00233c'><b>2. Warmup: temporal algebra </b></p>\n",
    "<img  src=\"contains.png\" alt=\"Contains Example\" width=\"600\" align=\"right\" />\n",
    "<p style = 'font-size:16px;font-family:Arial;color:#00233C'> Let's warmup with a bit of temporal algebra and get familiar with period types and operators. \n",
    "<br><br>\n",
    "For a taxi service, the number of dispatchers needed is impacted by the number of pickups. While some pickups are based on a taxi stand or someone waving their hand along the side of the street, the driver calls in the trip. \n",
    "<br><br>The period data type may be based on dates or timestamps and has a beginning bound and extends up to, but does not include the ending bound value. The ending bound may be expressed as \"UNTIL_CHANGED\" or \"UNTIL CLOSED\" which effectively means \"forever\". Most commonly, the period data type would appear in a table but in the example below, we will use a literal to count the number of taxi pickups between 10:30 and 10:45 on Nov 10th.</p>"
   ]
  },
  {
   "cell_type": "code",
   "execution_count": null,
   "metadata": {
    "vscode": {
     "languageId": "teradata sql"
    }
   },
   "outputs": [],
   "source": [
    "SELECT COUNT(1)\n",
    "FROM\n",
    "    DEMO_NYCTaxi.Trip\n",
    "-- WHERE pickup_datetime BETWEEN '2013-11-10 10:30:00' AND '2013-11-10 10:45:00'\n",
    "-- Here is an alternative to the above using the period data type\n",
    "WHERE\n",
    "    PERIOD('2013-11-10 10:30:00' (TIMESTAMP), '2013-11-10 10:45:00' (TIMESTAMP)) CONTAINS pickup_datetime;"
   ]
  },
  {
   "cell_type": "markdown",
   "metadata": {},
   "source": [
    "<img  src=\"contains-period.png\" alt=\"Contains Period Example\" width=\"600\" align=\"right\" />\n",
    "<p style = 'font-size:16px;font-family:Arial;color:#00233C'> \n",
    "The above example used CONTAINS for a simple comparison to a date which is easily replaced by BETWEEN.  A more interesting case is when two periods are in a constraint which would be more complicated logic.  The following query analyzes how many rides started and ended between 10:30 and 10:45 on Nov 10th."
   ]
  },
  {
   "cell_type": "code",
   "execution_count": null,
   "metadata": {
    "vscode": {
     "languageId": "teradata sql"
    }
   },
   "outputs": [],
   "source": [
    "SELECT COUNT(1)\n",
    "FROM\n",
    "    DEMO_NYCTaxi.Trip\n",
    "WHERE\n",
    "    pickup_datetime < dropoff_datetime\n",
    "AND\n",
    "    PERIOD('2013-11-10 10:30:00' (TIMESTAMP), '2013-11-10 10:45:00' (TIMESTAMP)) CONTAINS PERIOD(pickup_datetime, dropoff_datetime);"
   ]
  },
  {
   "cell_type": "markdown",
   "metadata": {},
   "source": [
    "<img  src=\"overlap.png\" alt=\"Overlap Example\" width=\"600\" align=\"right\" />\n",
    "<p style = 'font-size:16px;font-family:Arial;color:#00233C'> \n",
    "The taxi cabs now contain video screens that include advertising content. To analyze the number of people that may be viewing the video to justify compensation for advertising, we need to know how many people are in the cabs in a given period. \n",
    "<br><br>\n",
    "Where the CONTAINS operator above says that the timestamp or period must be within the bounds of the period, the OVERLAPS operator selects any rows where the row's period begins, ends, or overlaps the constraint period.  In the following example, we count how many passengers were in a taxi between 10:30 and 10:45 on Nov 10th."
   ]
  },
  {
   "cell_type": "code",
   "execution_count": null,
   "metadata": {
    "vscode": {
     "languageId": "teradata sql"
    }
   },
   "outputs": [],
   "source": [
    "SELECT SUM(passenger_count)\n",
    "FROM\n",
    "    DEMO_NYCTaxi.Trip\n",
    "WHERE\n",
    "    pickup_datetime < dropoff_datetime\n",
    "    AND\n",
    "    PERIOD('2013-11-10 10:30:00' (TIMESTAMP), '2013-11-10 10:45:00' (TIMESTAMP))\n",
    "        OVERLAPS PERIOD(pickup_datetime, dropoff_datetime);"
   ]
  },
  {
   "cell_type": "markdown",
   "metadata": {},
   "source": [
    "<img  src=\"normalize.png\" alt=\"Overlap Example\" width=\"600\" align=\"right\" />\n",
    "<p style = 'font-size:16px;font-family:Arial;color:#00233C'> \n",
    "As input to the hours of operations, management would like to know how many hours in the day there is at least 1 taxi operating.\n",
    "<br><br>\n",
    "Let's assume we run the fleet of the 3 taxis identifiable by medallion starting with ‘007’. The fleet is considered active if at least 1 taxi is driving. For how long the fleet has been “active” on November 10th?\n",
    "<br><br>\n",
    "We will need to consolidate (or normalize) the periods where taxis are active and then find the duration of the resulting periods of activity. The final query will have nested derived tables, so we will start by showing a sample of the innermost query which will create a set of period on the date for the group of medallions:"
   ]
  },
  {
   "cell_type": "code",
   "execution_count": null,
   "metadata": {
    "vscode": {
     "languageId": "teradata sql"
    }
   },
   "outputs": [],
   "source": [
    "SELECT TOP 5\n",
    "    PERIOD(pickup_datetime, dropoff_datetime) AS norm_per\n",
    "FROM \n",
    "    DEMO_NYCTaxi.Trip\n",
    "WHERE \n",
    "    CAST(pickup_datetime AS DATE) = DATE '2013-11-10'\n",
    "    AND medallion LIKE '007%'\n",
    "ORDER BY 1;"
   ]
  },
  {
   "cell_type": "markdown",
   "metadata": {},
   "source": [
    "<p style = 'font-size:16px;font-family:Arial;color:#00233C'> We will then use the NORMALIZE modifier to consolidate the periods. With NORMALIZE, the result of the select is normalized on the first period column in the select list. Period values that meet or overlap are coalesced, that is, combined to form a period that\n",
    "encompasses the individual period values.  For comparison, we will follow with a query that doesn't normalize which is the total hours of active service of all of the taxis. "
   ]
  },
  {
   "cell_type": "code",
   "execution_count": null,
   "metadata": {
    "vscode": {
     "languageId": "teradata sql"
    }
   },
   "outputs": [],
   "source": [
    "SELECT SUM(INTERVAL(normalized_periods) HOUR(2) TO MINUTE) AS normalized_activity\n",
    "FROM (\n",
    "    SELECT NORMALIZE PERIOD(pickup_datetime, dropoff_datetime) AS normalized_periods\n",
    "    FROM\n",
    "        DEMO_NYCTaxi.Trip\n",
    "    WHERE\n",
    "        CAST(pickup_datetime AS DATE) = DATE '2013-11-10'\n",
    "        AND medallion LIKE '007%'\n",
    ") d1\n",
    "ORDER BY 1;"
   ]
  },
  {
   "cell_type": "code",
   "execution_count": null,
   "metadata": {
    "vscode": {
     "languageId": "teradata sql"
    }
   },
   "outputs": [],
   "source": [
    "SELECT SUM(INTERVAL(PERIOD(pickup_datetime, dropoff_datetime)) HOUR TO MINUTE) AS total_activity\n",
    "FROM\n",
    "    DEMO_NYCTaxi.Trip\n",
    "WHERE\n",
    "    CAST(pickup_datetime AS DATE) = DATE '2013-11-10'\n",
    "    AND medallion LIKE '007%';"
   ]
  },
  {
   "cell_type": "markdown",
   "metadata": {},
   "source": [
    "<p style = 'font-size:16px;font-family:Arial;color:#00233C'> The normalized activity consolidating all of the periods before summarizing is less than the total activity. \n",
    "<br><br>\n",
    "There are situations where you need to see the state of the business at fixed intervals. For example: total inventory at the end of each week.  The EXPAND ON operator will create those routine periods for reporting. To demonstrate EXPAND ON, we will get a count of active cabs at the top of each hour."
   ]
  },
  {
   "cell_type": "code",
   "execution_count": null,
   "metadata": {
    "vscode": {
     "languageId": "teradata sql"
    }
   },
   "outputs": [],
   "source": [
    "SELECT begin_hour, COUNT(*)\n",
    "FROM (\n",
    "    SELECT begin(hour_check) AS begin_hour\n",
    "    FROM DEMO_NYCTaxi.Trip  \n",
    "    WHERE (pickup_datetime (DATE)) = '2013-11-10'\n",
    "        AND medallion LIKE '007%'\n",
    "    EXPAND ON PERIOD(pickup_datetime, dropoff_datetime) AS hour_check BY ANCHOR ANCHOR_HOUR\n",
    ") a\n",
    "GROUP BY 1\n",
    "ORDER BY 1;"
   ]
  },
  {
   "cell_type": "code",
   "execution_count": null,
   "metadata": {
    "vscode": {
     "languageId": "teradata sql"
    }
   },
   "outputs": [],
   "source": [
    "%chart x = begin_hour, y = count(*), title = \"Count of active cars of Medallian 007 by hour\", height = 300, width = 400"
   ]
  },
  {
   "cell_type": "markdown",
   "metadata": {},
   "source": [
    "<hr style='height:2px;border:none;background-color:#00233C;'>\n",
    "<p style = 'font-size:28px;font-family:Arial;color:#00233c'><b>3. Timeseries Analysis </b></p>\n",
    "<p style = 'font-size:16px;font-family:Arial;color:#00233C'> Now we have seen the trip and fare details, Let's do some analysis based on time.\n",
    "The query below issues a GROUP BY clause referencing a unit of time and includes a USING TIMECODE clause to specify a column that the unit grouping is to be applied to. <br><br>\n",
    "<p style = 'font-size:16px;font-family:Arial;color:#00233C'>    \n",
    "How many passengers are being picked up by hour?</p>"
   ]
  },
  {
   "cell_type": "code",
   "execution_count": null,
   "metadata": {
    "vscode": {
     "languageId": "teradata sql"
    }
   },
   "outputs": [],
   "source": [
    "SELECT TOP 5\n",
    "    EXTRACT(DAY FROM pickup_datetime),\n",
    "    EXTRACT(HOUR FROM pickup_datetime),\n",
    "    SUM(passenger_count)\n",
    "FROM\n",
    "    DEMO_NYCTaxi.Trip\n",
    "GROUP BY 1, 2\n",
    "ORDER BY 1, 2;"
   ]
  },
  {
   "cell_type": "code",
   "execution_count": null,
   "metadata": {
    "tags": [],
    "vscode": {
     "languageId": "teradata sql"
    }
   },
   "outputs": [],
   "source": [
    "SELECT TOP 72\n",
    "       $TD_TIMECODE_RANGE,\n",
    "       BEGIN($TD_TIMECODE_RANGE) AS time_bucket_start,    -- (timestamp, format 'YYYY-MM-DDBHH:MI:SS') time_bucket_start\n",
    "       SUM(passenger_count) AS passenger_count\n",
    "FROM\n",
    "    DEMO_NYCTaxi.Trip\n",
    "GROUP BY\n",
    "    TIME(HOURS(1))\n",
    "USING\n",
    "    TIMECODE(pickup_datetime)\n",
    "ORDER BY 1;"
   ]
  },
  {
   "cell_type": "markdown",
   "metadata": {},
   "source": [
    "<p style = 'font-size:16px;font-family:Arial;color:#00233C'>It's about time to add some visual element..."
   ]
  },
  {
   "cell_type": "code",
   "execution_count": null,
   "metadata": {
    "vscode": {
     "languageId": "teradata sql"
    }
   },
   "outputs": [],
   "source": [
    "%chart x = time_bucket_start, y = passenger_count, title = \"Passenger pickup by hour\""
   ]
  },
  {
   "cell_type": "markdown",
   "metadata": {},
   "source": [
    "<p style = 'font-size:16px;font-family:Arial;color:#00233C'>How many passengers are being picked up and what is the average trip duration by vendor every 15min?"
   ]
  },
  {
   "cell_type": "code",
   "execution_count": null,
   "metadata": {
    "tags": [],
    "vscode": {
     "languageId": "teradata sql"
    }
   },
   "outputs": [],
   "source": [
    "SELECT TOP 96\n",
    "       $TD_TIMECODE_RANGE,\n",
    "       vendor_id,\n",
    "       SUM(passenger_count),\n",
    "       AVG(trip_time_in_secs)\n",
    "FROM\n",
    "    DEMO_NYCTaxi.Trip\n",
    "GROUP BY\n",
    "    TIME(MINUTES(15) AND vendor_id)\n",
    "USING\n",
    "    TIMECODE(pickup_datetime)\n",
    "ORDER BY 1,2;"
   ]
  },
  {
   "cell_type": "markdown",
   "metadata": {},
   "source": [
    "<p style = 'font-size:16px;font-family:Arial;color:#00233C'> Let's call this a view"
   ]
  },
  {
   "cell_type": "code",
   "execution_count": null,
   "metadata": {
    "vscode": {
     "languageId": "teradata sql"
    }
   },
   "outputs": [],
   "source": [
    "REPLACE VIEW NYC_taxi_trip_ts AS\n",
    "SELECT\n",
    "  $TD_TIMECODE_RANGE time_bucket_per_15min,\n",
    "  vendor_id,\n",
    "  SUM(passenger_count) passenger_cnt,\n",
    "  SUM(trip_time_in_secs) avg_trip_time_in_secs\n",
    "FROM\n",
    "    DEMO_NYCTaxi.Trip \n",
    "GROUP BY\n",
    "    TIME(MINUTES(15) AND vendor_id)\n",
    "USING\n",
    "    TIMECODE(pickup_datetime);"
   ]
  },
  {
   "cell_type": "markdown",
   "metadata": {},
   "source": [
    "<p style = 'font-size:16px;font-family:Arial;color:#00233C'><b>Moving Averages</b>\n",
    "    <br>\n",
    " Let's calculate a 2 hours minutes moving average on our 15-minutes time series. 2 hour is 8 * 15 minutes periods."
   ]
  },
  {
   "cell_type": "code",
   "execution_count": null,
   "metadata": {
    "vscode": {
     "languageId": "teradata sql"
    }
   },
   "outputs": [],
   "source": [
    "SELECT TOP 5 * FROM MovingAverage (\n",
    "    ON NYC_taxi_trip_ts\n",
    "    PARTITION BY vendor_id ORDER BY time_bucket_per_15min\n",
    "    USING\n",
    "        MAvgType ('S')\n",
    "        WindowSize (8)\n",
    "        TargetColumns ('passenger_cnt')\n",
    ") AS dt \n",
    "WHERE\n",
    "    BEGIN(time_bucket_per_15min)(DATE) = '2013-11-10'\n",
    "ORDER BY\n",
    "    vendor_id,\n",
    "    time_bucket_per_15min;"
   ]
  },
  {
   "cell_type": "markdown",
   "metadata": {},
   "source": [
    "<p style = 'font-size:16px;font-family:Arial;color:#00233C'> We can use this to identify demand trends for each time period. A basic way to do this would be to check if the current pickup count is above (rising) or below (reducing) our moving average."
   ]
  },
  {
   "cell_type": "code",
   "execution_count": null,
   "metadata": {
    "tags": [],
    "vscode": {
     "languageId": "teradata sql"
    }
   },
   "outputs": [],
   "source": [
    "SELECT\n",
    "    time_bucket_per_15min,\n",
    "    vendor_id,\n",
    "    passenger_cnt,\n",
    "    CASE WHEN passenger_cnt - passenger_cnt_smavg > 0 THEN '+' ELSE '-' END trend\n",
    "FROM MovingAverage (\n",
    "    ON NYC_taxi_trip_ts\n",
    "    PARTITION BY vendor_id\n",
    "    ORDER BY time_bucket_per_15min\n",
    "    USING\n",
    "        MAvgType ('S')\n",
    "        WindowSize (8)\n",
    "        TargetColumns ('passenger_cnt')\n",
    ") AS dt \n",
    "WHERE\n",
    "    BEGIN(time_bucket_per_15min)(DATE) = '2013-11-10'\n",
    "ORDER BY\n",
    "    vendor_id,\n",
    "    time_bucket_per_15min;"
   ]
  },
  {
   "cell_type": "code",
   "execution_count": null,
   "metadata": {
    "vscode": {
     "languageId": "teradata sql"
    }
   },
   "outputs": [],
   "source": [
    "%chart x = time_bucket_per_15min, y = passenger_cnt, groupingcol = vendor_id,\n",
    "mark = line, title = \"passenger count\", height = 300, width = 1000"
   ]
  },
  {
   "cell_type": "markdown",
   "metadata": {},
   "source": [
    "<p style = 'font-size:16px;font-family:Arial;color:#00233C'> We can use this to compare how vendors are doing."
   ]
  },
  {
   "cell_type": "code",
   "execution_count": null,
   "metadata": {
    "vscode": {
     "languageId": "teradata sql"
    }
   },
   "outputs": [],
   "source": [
    "SELECT TOP 5 dt.*\n",
    "FROM (\n",
    "    SELECT\n",
    "        time_bucket_per_15min,\n",
    "        vendor_id,\n",
    "        passenger_cnt,\n",
    "        CASE WHEN passenger_cnt - passenger_cnt_smavg > 0 THEN '+' ELSE '-' END trend\n",
    "    FROM MovingAverage (\n",
    "    ON NYC_taxi_trip_ts\n",
    "    PARTITION BY vendor_id\n",
    "    ORDER BY time_bucket_per_15min\n",
    "    USING\n",
    "        MAvgType ('S')\n",
    "        WindowSize (8)\n",
    "        TargetColumns ('passenger_cnt')\n",
    "    ) AS dt \n",
    "    WHERE\n",
    "        BEGIN(time_bucket_per_15min)(DATE) = '2013-11-10'\n",
    ") dt\n",
    "PIVOT (\n",
    "  MAX(passenger_cnt) AS passenger_cnt,\n",
    "  MAX(trend) AS trend FOR vendor_id IN ('CMT', 'VTS')\n",
    ") dt\n",
    "ORDER BY 1;"
   ]
  },
  {
   "cell_type": "markdown",
   "metadata": {},
   "source": [
    "<hr style='height:2px;border:none;background-color:#00233C;'>\n",
    "<p style = 'font-size:28px;font-family:Arial;color:#00233c'><b>4.  Clean up </b></p>\n",
    "<p style = 'font-size:18px;font-family:Arial;color:#00233c'> <b>4.1 Database and Tables </b></p>\n",
    "<p style = 'font-size:16px;font-family:Arial;color:#00233C'>The following code will clean up tables and databases created above.</p>"
   ]
  },
  {
   "cell_type": "code",
   "execution_count": null,
   "metadata": {
    "vscode": {
     "languageId": "teradata sql"
    }
   },
   "outputs": [],
   "source": [
    "call remove_data('DEMO_NYCTaxi');    -- Takes about 10 seconds, optional if you want to use the data later\n",
    "-- Note that the same database & tables are used in Usecases/NYC-taxi-4d/NYC-taxi-geospatial.ipynb "
   ]
  },
  {
   "cell_type": "markdown",
   "metadata": {},
   "source": [
    "<hr style='height:2px;border:none;background-color:#00233C;'>\n",
    "<p style = 'font-size:28px;font-family:Arial;color:#00233c'><b>5. Conclusion</b></p>\n",
    "<p style = 'font-size:16px;font-family:Arial;color:#00233C'>\n",
    "In this demonstration we have seen that Temporal and period datatype is time aware and the queries using the same are fairly simple and easy to use. We have also seen how we can create a time index and use it in queries. "
   ]
  },
  {
   "cell_type": "markdown",
   "metadata": {},
   "source": [
    "<hr style='height:1px;border:none;background-color:#00233C;'>\n",
    "\n",
    "<p style = 'font-size:18px;font-family:Arial;color:#00233c'><b>5.2 Reference Links:</b></p>\n",
    "<ul style = 'font-size:16px;font-family:Arial;color:#00233C'>\n",
    "        <li>Introduction to Teradata Time Series Tables and Operations: <a href = 'https://docs.teradata.com/r/Teradata-VantageTM-Time-Series-Tables-and-Operations-17.20'>https://docs.teradata.com/r/Teradata-VantageTM-Time-Series-Tables-and-Operations-17.20</a></li>\n",
    "</ul>"
   ]
  },
  {
   "cell_type": "markdown",
   "metadata": {},
   "source": [
    "<footer style=\"padding-bottom:35px; background:#f9f9f9; border-bottom:3px solid #00233C\">\n",
    "    <div style=\"float:left;margin-top:14px\">ClearScape Analytics™</div>\n",
    "    <div style=\"float:right;\">\n",
    "        <div style=\"float:left; margin-top:14px\">\n",
    "            Copyright © Teradata Corporation - 2023. All Rights Reserved\n",
    "        </div>\n",
    "    </div>\n",
    "</footer>"
   ]
  }
 ],
 "metadata": {
  "kernelspec": {
   "display_name": "Teradata SQL",
   "language": "Teradata SQL",
   "name": "teradatasql"
  },
  "language_info": {
   "codemirror_mode": "Teradata SQL",
   "file_extension": ".tdrs",
   "mimetype": "application/vnd.teradata.resultset",
   "name": "Teradata SQL",
   "nbconvert_exporter": "",
   "pygments_lexer": "",
   "version": "16.20"
  }
 },
 "nbformat": 4,
 "nbformat_minor": 4
}
