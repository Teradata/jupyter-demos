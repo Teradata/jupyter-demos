{
 "cells": [
  {
   "cell_type": "markdown",
   "id": "f5ffb3a9-9959-4204-b812-bfad4e45e6ce",
   "metadata": {},
   "source": [
    "<header>\n",
    "   <p  style='font-size:36px;font-family:Arial; color:#F0F0F0; background-color: #00233c; padding-left: 20pt; padding-top: 20pt;padding-bottom: 10pt; padding-right: 20pt;'>\n",
    "      Cost Of Care Analytics Demo <br>\n",
    "       <img id=\"teradata-logo\" src=\"https://storage.googleapis.com/clearscape_analytics_demo_data/DEMO_Logo/teradata.svg\" alt=\"Teradata\" style=\"width: 125px; height: auto; margin-top: 20pt;\">\n",
    "    </p>\n",
    "</header>"
   ]
  },
  {
   "cell_type": "markdown",
   "id": "1f55c8f4-bad1-4e8e-b7a5-8f71d9f45d85",
   "metadata": {},
   "source": [
    "<p style = 'font-size:20px;font-family:Arial;color:#00233c'><b>Introduction:</b></p>\n",
    "<p style='font-size:16px;font-family:Arial;color:#00233C'> With rising healthcare expenditures, there's a growing urgency to track, analyze, and optimize cost drivers across emergency room (ER), imaging, surgical, and mental health services. Traditional cost auditing methods are retrospective, siloed, and lack the granularity to enable proactive cost containment. By leveraging advanced analytics and integrated hospital datasets, a scalable, dynamic, and contextual cost intelligence solution can be achieved. However, key challenges remain: </p> <ul style='font-size:16px;font-family:Arial;color:#00233C'> <li>Fragmented cost data across procedures, diagnoses, and provider systems.</li> <li>Lack of context linking ER visits, imaging, surgeries, and mental health costs to patient pathways.</li> <li>Limited visual insights into cost trends across time, region, and condition severity.</li> <li>Need for scalable, in-database analytics to handle massive healthcare datasets.</li> </ul> <p style='font-size:16px;font-family:Arial;color:#00233C'> <b>Proposed Solution:</b><br> AI-Driven Healthcare Cost Intelligence using Teradata Vantage<br> Ingest structured data from ER visits, imaging studies, surgical procedures, and mental health conditions. Aggregate and normalize cost trends by diagnosis, time, and geography using in-database processing in Teradata Vantage. Empower analysts with interactive dashboards (X-ray/Echo trackers, Top Cost Drivers, Health Rankings) built on ipywidgets and Matplotlib for granular exploration. Integrate hospital performance scores and county-level health rankings to support value-based decision making. </p> <p style='font-size:16px;font-family:Arial;color:#00233C'> <b>Benefits:</b> <ul style='font-size:16px;font-family:Arial;color:#00233C'> <li>End-to-end cost visibility across all major healthcare services—ER, imaging, surgery, and mental health.</li> <li>Identification of high-cost hospitals and procedures with spatial and temporal granularity.</li> <li>Scalable feature engineering and analytics via Teradata’s in-database capabilities.</li> <li>Supports hospital value-based purchasing (HBVP) and patient-centric care strategies.</li> <li>Interactive and user-friendly dashboards enable deep dives into cost outliers and overutilization patterns.</li> </ul> </p>"
   ]
  },
  {
   "cell_type": "markdown",
   "id": "0b76f833-541f-49bb-b199-e195c06554c7",
   "metadata": {},
   "source": [
    "<h1 style=\"font-size: 24px; font-family: Arial; color: #F0F0F0; background-color: #00233c; padding: 10pt;\">Dashboard & Insights:</h1>\n",
    "<p style='font-size:16px;font-family:Arial;color:#00233C'> This section highlights an interactive overview of our Cost of Care Analytics. The dashboard visualizes key metrics related to emergency room utilization, imaging and surgical procedures, and cost drivers across conditions and hospitals. It provides a holistic understanding of how healthcare costs are distributed and where intervention opportunities lie. </p> <p style='font-size:16px;font-family:Arial;color:#00233C'> Key features of the dashboard: <ul style='font-size:16px;font-family:Arial;color:#00233C'> <li>Bar charts showing annual trends in ER visits and costs across multiple categories like Avoidable, Treatable, and Not Preventable conditions.</li> <li>Stacked visualizations depicting proportionate cost contribution by diagnosis and procedure type.</li> <li>Interactive selectors to filter top diagnoses and providers by year, enabling targeted drill-downs.</li> <li>Imaging and surgical trackers to monitor frequency and cost over time for X-rays, MRIs, CT scans, and high-cost surgeries.</li> <li>Geo-mapped insights on hospital performance scores and average procedure costs across counties.</li> </ul> </p>\n",
    "\n",
    "<p style='font-size:16px;font-family:Arial;color:#00233C'><b>Live Dashboard Link:</b>\n",
    "<a href=\"https://superset.env.ci.clearscape.teradata.com/superset/dashboard/p/Yv7OP59LyNp/\" target=\"_blank\">Cost Of Care Dashboard</a>\n",
    "</p>\n",
    "\n",
    "<p style='font-size:16px;font-family:Arial;color:#00233C'><b>Dashboard Snapshot:</b></p>\n",
    "<img src=\"images/cost_of_care.jpg\" width=\"800\"/>\n",
    "\n",
    "<p style='font-size:16px;font-family:Arial;color:#00233C'>\n",
    "The dashboard is structured across multiple tabs to allow detailed investigation:\n",
    "</p>\n",
    "\n",
    "<ul style='font-size:16px;font-family:Arial;color:#00233C'>\n",
    "    <li><b>Annual-Accross:</b> Tracks ER visits and preventability over time.</li>\n",
    "    <li><b>Top Diagnoses:</b> Ranks primary and secondary conditions based on cost and frequency.</li>\n",
    "    <li><b>Xray / Echo Tracker:</b> Flags patients and providers with excessive imaging.</li>\n",
    "    <li><b>Imaging Studies:</b> Evaluates yearly and monthly volumes and costs of major scans.</li>\n",
    "    <li><b>Surgical Procedures:</b> Tracks trends and maps surgery cost by region.</li>\n",
    "    <li><b>Mental Health:</b> Monitors prevalence of selected mental disorders over time.</li>\n",
    "    <li><b>County Health Rankings:</b> Geospatial overlay of public health indicators across counties.</li>\n",
    "</ul>\n",
    "\n",
    "<p style='font-size:16px;font-family:Arial;color:#00233C'>\n",
    "Each tab enables interactive filtering by year, condition, category, and provider to customize the view and drive targeted insights.\n",
    "</p>"
   ]
  },
  {
   "cell_type": "markdown",
   "id": "ef410c1e-c64c-4073-9156-1c65aee40e7b",
   "metadata": {},
   "source": [
    "<footer style=\"padding-bottom: 35px; background: #f9f9f9; border-bottom: 3px solid #00233C\">\n",
    "    <div style=\"float: left; margin-top: 14px;\">ClearScape Analytics™</div>\n",
    "    <div style=\"float: right;\">\n",
    "        <div style=\"float: left; margin-top: 14px;\">Copyright © Teradata Corporation - 2025. All Rights Reserved.</div>\n",
    "    </div>\n",
    "</footer>"
   ]
  }
 ],
 "metadata": {
  "kernelspec": {
   "display_name": "Python 3 (ipykernel)",
   "language": "python",
   "name": "python3"
  },
  "language_info": {
   "codemirror_mode": {
    "name": "ipython",
    "version": 3
   },
   "file_extension": ".py",
   "mimetype": "text/x-python",
   "name": "python",
   "nbconvert_exporter": "python",
   "pygments_lexer": "ipython3",
   "version": "3.9.10"
  }
 },
 "nbformat": 4,
 "nbformat_minor": 5
}
