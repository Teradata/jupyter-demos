{
 "cells": [
  {
   "cell_type": "markdown",
   "id": "5ce3dd8a-f3e5-40d5-ab4c-d40cc358cf7f",
   "metadata": {},
   "source": [
    "<header>\n",
    "   <p  style='font-size:36px;font-family:Arial; color:#F0F0F0; background-color: #00233c; padding-left: 20pt; padding-top: 20pt;padding-bottom: 10pt; padding-right: 20pt;'>\n",
    "       Complaints Clustering Using Teradata VantageCloud and open-source language models\n",
    "  <br>\n",
    "       <img id=\"teradata-logo\" src=\"https://storage.googleapis.com/clearscape_analytics_demo_data/DEMO_Logo/teradata.svg\" alt=\"Teradata\" style=\"width: 125px; height: auto; margin-top: 20pt;\">\n",
    "    </p>\n",
    "</header>"
   ]
  },
  {
   "cell_type": "markdown",
   "id": "57054f7e-befe-4029-b4ac-b82019240b1f",
   "metadata": {},
   "source": [
    "<p style = 'font-size:20px;font-family:Arial;color:#00233c'><b>Introduction:</b></p>\n",
    "\n",
    "<p style=\"font-size:16px;font-family:Arial;color:#00233c\">This feature uses advanced clustering techniques powered by <b>Teradata Vantage</b> and <b>Open source Embeddings</b> model to group similar customer complaints together. By identifying common themes and patterns, this functionality provides valuable insights into the key issues and pain points experienced by customers.</p>\n",
    "\n",
    "\n",
    "<p style=\"font-size:16px;font-family:Arial;color:#00233c\"><b>Key Features of Complaints Clustering:</b></p>\n",
    "<ul style=\"font-size:16px;font-family:Arial;color:#00233c\">\n",
    "  <li>Leverages advanced clustering algorithms powered by <b>Teradata Vantage</b> and <b>Open source Embeddings.</b></li>\n",
    "  <li>Groups similar customer complaints together, revealing common themes and pain points.</li>\n",
    "  <li>Provides clients with a deeper understanding of the key issues affecting their customers.</li>\n",
    "  <li>Enables clients to prioritize and address the most pressing concerns more effectively.</li>\n",
    "  <li>Helps clients identify opportunities for product improvements and enhanced customer experience.</li>\n",
    "</ul>\n",
    "\n",
    "\n",
    "<p style = 'font-size:16px;font-family:Arial;color:#00233c'>Unlock the revolutionary potential of Generative AI to categorize and analyze complaints with unparalleled efficiency.</p>\n",
    "\n",
    "<p style = 'font-size:16px;font-family:Arial;color:#00233c'><b>Steps in the analysis:</b></p>\n",
    "<ol style = 'font-size:16px;font-family:Arial;color:#00233C'>\n",
    "  <li>Configuring the environment</li>\n",
    "  <li>Connect to Vantage</li>\n",
    "  <li>Create a Custom Container in Vantage</li>\n",
    "  <li>Install Dependencies</li>\n",
    "  <li>Operationalizing AI-powered analytics</li>\n",
    "  <li>Complaints Analysis</li>\n",
    "  <li>Cluster the Complaints</li>\n",
    "  <li>Cleanup</li>\n",
    "</ol>"
   ]
  },
  {
   "cell_type": "markdown",
   "id": "4e457db5-d4df-4e7f-a11a-fcb1416e462d",
   "metadata": {},
   "source": [
    "<hr style='height:2px;border:none;background-color:#00233C;'>\n",
    "<b style = 'font-size:20px;font-family:Arial;color:#00233c'>1. Configuring the environment</b>\n",
    "\n",
    "<hr style='height:1px;border:none;background-color:#00233C;'>\n",
    "<p style = 'font-size:18px;font-family:Arial;color:#00233c'><b>1.1 Install the required libraries</b></p>"
   ]
  },
  {
   "cell_type": "code",
   "execution_count": null,
   "id": "03eb4587-6632-4b08-a121-c98ea5a8fc48",
   "metadata": {},
   "outputs": [],
   "source": [
    "%%capture\n",
    "\n",
    "!pip install -r requirements.txt --quiet"
   ]
  },
  {
   "cell_type": "markdown",
   "id": "c1fd81e4-0df9-4360-b3ac-72214f135296",
   "metadata": {},
   "source": [
    "<div class=\"alert alert-block alert-info\">\n",
    "<p style = 'font-size:16px;font-family:Arial;color:#00233C'><b>Note: </b><i>Please restart the kernel after executing these two lines. The simplest way to restart the Kernel is by typing zero zero: <b> 0 0</b></i></p>"
   ]
  },
  {
   "cell_type": "markdown",
   "id": "dc278740-1511-4423-bf2b-92a5109a47bf",
   "metadata": {},
   "source": [
    "<hr style='height:1px;border:none;background-color:#00233C;'>\n",
    "<p style = 'font-size:18px;font-family:Arial;color:#00233c'><b>1.2 Import the required libraries</b></p>\n",
    "<p style = 'font-size:16px;font-family:Arial;color:#00233C'>Here, we import the required libraries, set environment variables and environment paths (if required).</p>"
   ]
  },
  {
   "cell_type": "code",
   "execution_count": null,
   "id": "7f183178-9807-4538-b794-922820346ebc",
   "metadata": {},
   "outputs": [],
   "source": [
    "from teradataml import *\n",
    "from utils.oaf_utils import *\n",
    "from teradatasqlalchemy.types import *\n",
    "from time import sleep\n",
    "import pandas as pd\n",
    "import csv, sys, os, warnings\n",
    "from os.path import expanduser\n",
    "from collections import OrderedDict\n",
    "from wordcloud import WordCloud\n",
    "\n",
    "from IPython.display import clear_output , display as ipydisplay\n",
    "import matplotlib.pyplot as plt\n",
    "import plotly.express as px\n",
    "\n",
    "%matplotlib inline\n",
    "warnings.filterwarnings('ignore')\n",
    "display.suppress_vantage_runtime_warnings = True\n",
    "from IPython.display import display, Markdown\n",
    "pd.set_option('display.max_colwidth', 100)\n",
    "pd.set_option('display.max_rows', 100)\n",
    "\n",
    "# load vars json\n",
    "with open('./config/vars.json', 'r') as f:\n",
    "    session_vars = json.load(f)\n",
    "\n",
    "# Database login information\n",
    "host = session_vars['environment']['host']\n",
    "username = session_vars['hierarchy']['users']['business_users'][1]['username']\n",
    "password = session_vars['hierarchy']['users']['business_users'][1]['password']\n",
    "\n",
    "# UES Authentication information\n",
    "ues_url = session_vars['environment']['UES_URI']\n",
    "configure.ues_url = ues_url\n",
    "pat_token = session_vars['hierarchy']['users']['business_users'][1]['pat_token']\n",
    "pem_file = session_vars['hierarchy']['users']['business_users'][1]['key_file']\n",
    "\n",
    "\n",
    "compute_group = session_vars['hierarchy']['users']['business_users'][1]['compute_group']\n",
    "\n",
    "\n",
    "# get the current python version to match deploy a custom container\n",
    "# python_version = str(sys.version_info[0]) + '.' + str(sys.version_info[1])\n",
    "python_version = \"3.10\"\n",
    "print(f'Using Python version {python_version} for user environment')\n",
    "\n",
    "\n",
    "# Hugging Face model for the demo\n",
    "model_name = 'sentence-transformers/all-MiniLM-L6-v2'\n",
    "\n",
    "# a list of required packages to install in the custom OAF container\n",
    "# modify this if using different models or design patterns\n",
    "pkgs = ['transformers',\n",
    "        'torch',\n",
    "        'sentencepiece',\n",
    "        'pandas',\n",
    "        'sentence-transformers',\n",
    "        'dill']\n",
    "\n",
    "# container name - set here for easier notebook navigation\n",
    "### User will also be asked to change it ###\n",
    "oaf_name = 'oaf_cluster'\n",
    "###########################"
   ]
  },
  {
   "cell_type": "markdown",
   "id": "1763fd95-5000-4a2d-8b86-7be261e20847",
   "metadata": {},
   "source": [
    "<hr style=\"height:2px;border:none;background-color:#00233C;\">\n",
    "<b style = 'font-size:20px;font-family:Arial;color:#00233C'>2. Connect to Vantage</b>\n",
    "\n",
    "<hr style=\"height:1px;border:none;background-color:#00233C;\">\n",
    "<p style = 'font-size:18px;font-family:Arial;color:#00233c'><b>2.1 Connect to Vantage</b></p>\n",
    "<p style = 'font-size:16px;font-family:Arial;color:#00233C'>After connecting, check cluster status. Start it if necessary - note the cluster only needs to be running to execute the APPLY sections of the demo.</p>"
   ]
  },
  {
   "cell_type": "code",
   "execution_count": null,
   "id": "de5eba56-d38f-4204-b30d-232c7d894eb0",
   "metadata": {},
   "outputs": [],
   "source": [
    "# check for existing connection\n",
    "eng = check_and_connect(\n",
    "    host=host, username=username, password=password, compute_group=compute_group\n",
    ")\n",
    "print(eng)\n",
    "\n",
    "# check cluster status\n",
    "res = check_cluster_start(compute_group=compute_group)"
   ]
  },
  {
   "cell_type": "markdown",
   "id": "0ce81699-6345-4dbf-a3a8-b9402c7b6a98",
   "metadata": {},
   "source": [
    "<p style = 'font-size:16px;font-family:Arial;color:#00233C'>Begin running steps with Shift + Enter keys. </p>"
   ]
  },
  {
   "cell_type": "markdown",
   "id": "8dca7332-48f5-4702-8b56-d8a03fbb87a2",
   "metadata": {},
   "source": [
    "<hr style='height:1px;border:none;background-color:#00233C;'>\n",
    "\n",
    "<p style = 'font-size:18px;font-family:Arial;color:#00233c'><b>2.2  Connect to the Environment Service</b></p>\n",
    "\n",
    "<p style = 'font-size:16px;font-family:Arial;color:#00233C'>To better support integration with Cloud Services and common automation tools; the <b > User Environment Service</b> is accessed via RESTful APIs.  These APIs can be called directly or in the examples shown below that leverage the Python Package for Teradata (teradataml) methods.</p> "
   ]
  },
  {
   "cell_type": "code",
   "execution_count": null,
   "id": "c87c4008-c993-4109-be9d-191a15ded026",
   "metadata": {},
   "outputs": [],
   "source": [
    "# check to see if there is a valid UES auth\n",
    "# if not, authenticate\n",
    "try:\n",
    "    demo_env = get_env(oaf_name)\n",
    "    print(\"Existing valid UES token\")\n",
    "\n",
    "except Exception as e:\n",
    "    if \"\"\"NoneType' object has no attribute 'value\"\"\" in str(e):\n",
    "        if set_auth_token(\n",
    "            ues_url=ues_url, username=username, pat_token=pat_token, pem_file=pem_file\n",
    "        ):\n",
    "            print(\"UES Authentication successful\")\n",
    "        else:\n",
    "            print(\"UES Authentication failed, check URL and account info\")\n",
    "        pass\n",
    "    else:\n",
    "        raise"
   ]
  },
  {
   "cell_type": "markdown",
   "id": "64d8a61e",
   "metadata": {},
   "source": [
    "<hr style=\"height:2px;border:none;background-color:#00233C;\">\n",
    "\n",
    "<b style = 'font-size:20px;font-family:Arial;color:#00233C'>3. Create a Custom Container in Vantage</b>\n",
    "\n",
    "<p style = 'font-size:16px;font-family:Arial;color:#00233C'>If desired, the user can create a <b>new</b> custom environment by starting with a \"base\" image and customizing it.  The steps are:</p> \n",
    "<ul style = 'font-size:16px;font-family:Arial;color:#00233C'>\n",
    "    <li>List the available \"base\" images the system supports</li>\n",
    "    <li>List any existing \"custom\" environments the user has created</li>\n",
    "    <li>If there are no custom environments, then create a new one from a base image</li>\n",
    "    </ul>"
   ]
  },
  {
   "cell_type": "code",
   "execution_count": null,
   "id": "7d10b952",
   "metadata": {},
   "outputs": [],
   "source": [
    "# Create a new environment, or connect to an existing one\n",
    "try:\n",
    "    ipydisplay(list_user_envs())\n",
    "except Exception as e:\n",
    "    if str(e).find(\"No user environments found\") > 0:\n",
    "        print(\"No user environments found\")\n",
    "        pass\n",
    "    else:\n",
    "        raise\n",
    "\n",
    "print(\"Use an existing environment, or create a new one:\")\n",
    "print(f\"OAF Environment is set to {oaf_name}.\")\n",
    "print(\"Enter to accept, or input a new value.\")\n",
    "print(\"If the environment is not in the list, an new one will be created\")\n",
    "i = oaf_name\n",
    "if len(i) != 0:\n",
    "    oaf_name = i\n",
    "    print(f\"OAF Environment is now {oaf_name}\")\n",
    "\n",
    "try:\n",
    "    demo_env = create_env(\n",
    "        env_name=oaf_name,\n",
    "        base_env=f\"python_{python_version}\",\n",
    "        desc=\"OAF Demo env for LLM\",\n",
    "    )\n",
    "except Exception as e:\n",
    "    if str(e).find(\"same name already exists\") > 0:\n",
    "        print(\"Environment already exists, obtaining a reference to it\")\n",
    "        demo_env = get_env(oaf_name)\n",
    "        pass\n",
    "    elif \"Invalid value for base environment name\" in str(e):\n",
    "        print(\"Unsupported base environment version, using defaults\")\n",
    "        demo_env = create_env(env_name=oaf_name, desc=\"OAF Demo env for LLM\")\n",
    "    else:\n",
    "        raise\n",
    "\n",
    "# Note create_env seems to be asynchronous - sleep a bit for it to register\n",
    "sleep(5)\n",
    "\n",
    "try:\n",
    "    ipydisplay(list_user_envs())\n",
    "except Exception as e:\n",
    "    if str(e).find(\"No user environments found\") > 0:\n",
    "        print(\"No user environments found\")\n",
    "        pass\n",
    "    else:\n",
    "        raise"
   ]
  },
  {
   "cell_type": "markdown",
   "id": "d556a860-e27f-432d-a4d1-f4bd903e34fd",
   "metadata": {},
   "source": [
    "<hr style='height:2px;border:none;background-color:#00233C;'>\n",
    "\n",
    "<b style = 'font-size:20px;font-family:Arial;color:#00233C'><b>4. Install Dependencies</b></b>\n",
    "\n",
    "<p style = 'font-size:16px;font-family:Arial;color:#00233C'>The second step in the customization process is to install Python package dependencies. This demonstration uses the Hugging Face <a href = 'https://huggingface.co/sentence-transformers/all-MiniLM-L6-v2'>all-MiniLM-L6-v2</a> Sentence Transformer.  Since VantageCloud Lake Analytic Clusters are secured by default against unauthorized access to the outside network, the user can load the required libraries and model using teradataml methods:\n",
    "</p> \n",
    "\n",
    "<ul style = 'font-size:16px;font-family:Arial;color:#00233C'>\n",
    "    <li>List the currently installed models and python libraries</li>\n",
    "    <li><b>If necessary</b>, install any required packages</li>\n",
    "    <li><b>If necessary</b>, install the pre-trained model.  This process takes several steps;\n",
    "        <ol style = 'font-size:16px;font-family:Arial;color:#00233C'>\n",
    "            <li>Import and download the model</li>\n",
    "            <li>Create a zip archive of the model artifacts</li>\n",
    "            <li>Call the install_model() method to load the model to the container</li>\n",
    "        </ol></li>\n",
    "    </ul>"
   ]
  },
  {
   "cell_type": "code",
   "execution_count": null,
   "id": "d0f2a8a6-5a5b-483d-81e7-46682c764bec",
   "metadata": {},
   "outputs": [],
   "source": [
    "ipydisplay(demo_env.models)\n",
    "\n",
    "# just showing a sample here - remove .head(5) to see them all\n",
    "ipydisplay(demo_env.libs.head(5))"
   ]
  },
  {
   "cell_type": "markdown",
   "id": "6e3b179f-4649-483a-a470-db064266c3b6",
   "metadata": {},
   "source": [
    "<hr style='height:1px;border:none;background-color:#00233C;'>\n",
    "<p style = 'font-size:18px;font-family:Arial;color:#00233C'><b>4.1 A note on package versions</b></p>\n",
    "\n",
    "<p style = 'font-size:16px;font-family:Arial;color:#00233C'>The next demonstration makes use of the DataFrame apply() method, which automatically passes the python code to the Analytic Cluster.  As such, one needs to ensue the python package versions match.  dill and pandas are required, as is any additional libraries for the use case.\n",
    "</p> \n",
    "\n",
    "<p style = 'font-size:16px;font-family:Arial;color:#00233C'><b>Note</b> while not required for many OAF use cases, for this demo the required packages for the model execution must be installed in the local environment first.</p>"
   ]
  },
  {
   "cell_type": "code",
   "execution_count": null,
   "id": "8810b6a7",
   "metadata": {},
   "outputs": [],
   "source": [
    "# remove_env(oaf_name)"
   ]
  },
  {
   "cell_type": "code",
   "execution_count": null,
   "id": "b6feda0d-d9da-4e57-9fdb-00635c6bdf2a",
   "metadata": {},
   "outputs": [],
   "source": [
    "# Install any Python add-ons needed by the script in the user environment\n",
    "# Using option asynchronous=True for an asychronous execution of the statement.\n",
    "# Note: Avoid asynchronous installation when batch-executing all notebook statements,\n",
    "#       as execution will continue even without installation being complete.\n",
    "#\n",
    "# Can install by passing a list of packages/versions\n",
    "#   Or\n",
    "# install using a requirements.txt file.\n",
    "\n",
    "# For this demo,\n",
    "# this code block will collect the current user's package versions\n",
    "# for installation into the container\n",
    "# when using dataframe.apply(), it pandas and dill are required\n",
    "# to reduce issues, match the version between client and container\n",
    "\n",
    "\n",
    "# import these functions inside of a function namespace\n",
    "def get_versions(pkgs):\n",
    "    local_v_pkgs = []\n",
    "    for p in pkgs:\n",
    "\n",
    "        # fix up any hyphened package names\n",
    "        p_fixed = p.replace(\"-\", \"_\")\n",
    "\n",
    "        # import the packages and append the strings to the list\n",
    "        exec(\n",
    "            f\"\"\"import {p_fixed}; local_v_pkgs.append('{p}==' + str({p_fixed}.__version__))\"\"\"\n",
    "        )\n",
    "    return local_v_pkgs\n",
    "\n",
    "\n",
    "v_pkgs = get_versions(pkgs)\n",
    "\n",
    "# check to see if these packages need to be installed\n",
    "# by comparing the len of the intersection of the list of required packages with the installed ones\n",
    "if not len(\n",
    "    set([x.split(\"==\")[0] for x in pkgs]).intersection(demo_env.libs[\"name\"].to_list())\n",
    ") == len(pkgs):\n",
    "\n",
    "    # pass the list of packages - split off any extra info from the version property e.g., plus sign\n",
    "    claim_id = demo_env.install_lib(\n",
    "        [x.split(\"+\")[0] for x in v_pkgs], asynchronous=True\n",
    "    )\n",
    "else:\n",
    "    print(f\"All required packages are installed in the {oaf_name} environment\")"
   ]
  },
  {
   "cell_type": "code",
   "execution_count": null,
   "id": "044fff06",
   "metadata": {},
   "outputs": [],
   "source": [
    "# claim_id = demo_env.uninstall_lib(libs=[\"numpy\"], asynchronous=True)\n",
    "\n",
    "# claim_id = demo_env.install_lib(libs=[\"setuptools\"], asynchronous=True)\n",
    "\n",
    "\n",
    "# claim_id = demo_env.install_lib(libs=[\"numpy==1.23.5\"], asynchronous=True)\n",
    "\n",
    "\n",
    "# claim_id = demo_env.install_lib(libs=\"dill==0.3.8\", asynchronous=True)"
   ]
  },
  {
   "cell_type": "markdown",
   "id": "6d186ca1",
   "metadata": {},
   "source": [
    "<hr style='height:1px;border:none;background-color:#00233C;'>\n",
    "<p style = 'font-size:18px;font-family:Arial;color:#00233C'><b>4.2 Monitor library installation status</b></p>\n",
    "\n",
    "<p style = 'font-size:16px;font-family:Arial;color:#00233C'>Optionally - users can monitor the library installation status using the cell below:\n",
    "</p> "
   ]
  },
  {
   "cell_type": "code",
   "execution_count": null,
   "id": "d533b2a3",
   "metadata": {},
   "outputs": [],
   "source": [
    "# Check the status of installation using status() API.\n",
    "# Create a loop here for demo purposes\n",
    "try:\n",
    "    claim_id\n",
    "    ipydisplay(demo_env.status(claim_id))\n",
    "    stage = demo_env.status(claim_id)[\"Stage\"].iloc[-1]\n",
    "    while stage == \"Started\":\n",
    "        stage = demo_env.status(claim_id)[\"Stage\"].iloc[-1]\n",
    "        clear_output()\n",
    "        ipydisplay(demo_env.status(claim_id))\n",
    "        sleep(5)\n",
    "except NameError:\n",
    "    print(\"No installations to monitor\")\n",
    "\n",
    "\n",
    "# Verify the Python libraries have been installed correctly.\n",
    "ipydisplay(demo_env.libs)"
   ]
  },
  {
   "cell_type": "code",
   "execution_count": null,
   "id": "3603da5c",
   "metadata": {},
   "outputs": [],
   "source": [
    "# demo_env.status(claim_id)[\"Additional Details\"].iloc[-1]"
   ]
  },
  {
   "cell_type": "markdown",
   "id": "b162969f",
   "metadata": {},
   "source": [
    "<hr style='height:1px;border:none;background-color:#00233C;'>\n",
    "<p style = 'font-size:18px;font-family:Arial;color:#00233C'><b>4.3 Download and install model</b></p>\n",
    "\n",
    "<p style = 'font-size:16px;font-family:Arial;color:#00233C'>Open Analytics Framework containers do not have open access to the external network, which contributes to a very secure runtime environment.  As such, users will load pre-trained models using the below APIs.  For illustration purposes, the following code will check to see if the model archive exists locally and if it doesn't, will import and download it by creating a model object.  The archive will then be created and installed into the remote environment.\n",
    "</p> "
   ]
  },
  {
   "cell_type": "code",
   "execution_count": null,
   "id": "3c13f53e",
   "metadata": {},
   "outputs": [],
   "source": [
    "# check to see if the model needs to be downloaded/archived\n",
    "\n",
    "# construct the file name for the model:\n",
    "model_fname = \"models--\" + model_name.replace(\"/\", \"--\")\n",
    "print(f\"model_fname: {model_fname}\")\n",
    "\n",
    "if not os.path.isfile(f\"{model_fname}.zip\"):\n",
    "\n",
    "    from sentence_transformers import SentenceTransformer\n",
    "    import shutil\n",
    "\n",
    "    print(\"Creating Model Archive...\")\n",
    "\n",
    "    model = SentenceTransformer(model_name)\n",
    "    shutil.make_archive(\n",
    "        model_fname,\n",
    "        format=\"zip\",\n",
    "        root_dir=f'{expanduser(\"~\")}/.cache/huggingface/hub/{model_fname}/',\n",
    "    )\n",
    "else:\n",
    "    print(\"Local model archive exists.\")\n",
    "\n",
    "# check to see if the model is already installed\n",
    "try:\n",
    "    if demo_env.models.empty:  # no models installed at all\n",
    "        print(\"Installing Model...\")\n",
    "        claim_id = demo_env.install_model(\n",
    "            model_path=f\"{model_fname}.zip\", asynchronous=True\n",
    "        )\n",
    "    elif not any(\n",
    "        model_fname in x for x in demo_env.models[\"Model\"]\n",
    "    ):  # see if model is there\n",
    "        print(\"Installing Model...\")\n",
    "        claim_id = demo_env.install_model(\n",
    "            model_path=f\"{model_fname}.zip\", asynchronous=True\n",
    "        )\n",
    "    else:\n",
    "        print(\"Model already installed\")\n",
    "except Exception as e:\n",
    "    if \"\"\"NoneType' object has no attribute 'empty\"\"\" in str(e):\n",
    "        print(\"Installing Model...\")\n",
    "        claim_id = demo_env.install_model(\n",
    "            model_path=f\"{model_fname}.zip\", asynchronous=True\n",
    "        )\n",
    "        pass\n",
    "    else:\n",
    "        raise"
   ]
  },
  {
   "cell_type": "markdown",
   "id": "d5e7c396",
   "metadata": {},
   "source": [
    "<hr style='height:1px;border:none;background-color:#00233C;'>\n",
    "<p style = 'font-size:18px;font-family:Arial;color:#00233C'><b>4.4 Monitor model installation status</b></p>\n",
    "\n",
    "<p style = 'font-size:16px;font-family:Arial;color:#00233C'>Optionally - users can monitor the model installation status using the cell below:\n",
    "</p> "
   ]
  },
  {
   "cell_type": "code",
   "execution_count": null,
   "id": "e96a0c25",
   "metadata": {},
   "outputs": [],
   "source": [
    "# Check the status of installation using status() API.\n",
    "# Create a loop here for demo purposes\n",
    "try:\n",
    "    claim_id\n",
    "    ipydisplay(demo_env.status(claim_id))\n",
    "    stage = demo_env.status(claim_id)[\"Stage\"].iloc[-1]\n",
    "    while stage != \"File Installed\":\n",
    "        stage = demo_env.status(claim_id)[\"Stage\"].iloc[-1]\n",
    "        clear_output()\n",
    "        ipydisplay(demo_env.status(claim_id))\n",
    "        sleep(5)\n",
    "except NameError:\n",
    "    print(\"No installations to monitor\")\n",
    "\n",
    "\n",
    "# Verify the model has been installed correctly.\n",
    "demo_env.refresh()\n",
    "ipydisplay(demo_env.models)"
   ]
  },
  {
   "cell_type": "markdown",
   "id": "9ef6eb89",
   "metadata": {},
   "source": [
    "<p style = 'font-size:16px;font-family:Arial;color:#00233C'>The preceding demo showed how users can perform a <b>one-time</b> configuration task to prepare a custom environment for analytic processing at scale.  Once this configuration is complete, these containers can be re-used in ad-hoc development tasks, or used for operationalizing analytics in production.</p>"
   ]
  },
  {
   "cell_type": "markdown",
   "id": "d5cf0993",
   "metadata": {},
   "source": [
    "<hr style='height:2px;border:none;background-color:#00233C;'>\n",
    "<p style = 'font-size:20px;font-family:Arial;color:#00233C'><b>5. Operationalizing AI-powered analytics</b></p>\n",
    "<p style = 'font-size:16px;font-family:Arial;color:#00233C'>The following demonstration will illustrate how developers can take the next step in the process to <b>operationalize</b> this processing, enabling the entire organization to leverage AI across the data lifecycle, including</p>\n",
    "\n",
    "<table style = 'width:100%;table-layout:fixed;'>\n",
    "    <tr>\n",
    "        <td style = 'vertical-align:top' width = '30%'>\n",
    "           <ol style = 'font-size:16px;font-family:Arial;color:#00233C'>\n",
    "               <li><b>Prepare the environment</b>.  Package the scoring function into a more robust program, and stage it on the remote environment</li>\n",
    "            <br>\n",
    "            <br>\n",
    "               <li><b>Python Pipeline</b>.  Execute the function using Python methods</li>\n",
    "            <br>\n",
    "            <br>\n",
    "               <li><b>SQL Pipeline</b>.  Execute the function using SQL - allowing for broad adoption and use in ETL and operational needs</li>\n",
    "        </ol>\n",
    "        </td>\n",
    "        <td width = '20%'></td>\n",
    "        <td style = 'vertical-align:top'><img src = 'images/OAF_Ops.png' width=350></td>\n",
    "    </tr>\n",
    "</table>\n",
    "\n",
    "\n",
    "<hr style='height:1px;border:none;background-color:#00233C;'>\n",
    "<p style = 'font-size:18px;font-family:Arial;color:#00233C'><b>5.1 Check connection</b></p>\n",
    "<p style = 'font-size:16px;font-family:Arial;color:#00233C'>Reconnect to the database, UES, and start cluster if necessary<get_context()/p> "
   ]
  },
  {
   "cell_type": "code",
   "execution_count": null,
   "id": "88020f2f",
   "metadata": {},
   "outputs": [],
   "source": [
    "# check for existing connection\n",
    "eng = check_and_connect(\n",
    "    host=host, username=username, password=password, compute_group=compute_group\n",
    ")\n",
    "print(eng)\n",
    "\n",
    "\n",
    "# check to see if there is a valid UES auth\n",
    "# if not, authenticate\n",
    "try:\n",
    "    demo_env = get_env(oaf_name)\n",
    "\n",
    "except Exception as e:\n",
    "    if \"\"\"NoneType' object has no attribute 'value\"\"\" in str(\n",
    "        e\n",
    "    ):  # UES auth expired/required\n",
    "        if set_auth_token(\n",
    "            ues_url=ues_url, username=username, pat_token=pat_token, pem_file=pem_file\n",
    "        ):\n",
    "            print(\"UES Authentication successful\")\n",
    "            try:\n",
    "                demo_env = get_env(oaf_name)\n",
    "                pass\n",
    "            except Exception as l:\n",
    "                if f\"\"\"User environment '{oaf_name}' not found\"\"\" in str(l):\n",
    "                    print(\"User environment not found\")\n",
    "                    pass\n",
    "                else:\n",
    "                    raise\n",
    "        else:\n",
    "            print(\"UES Authentication failed, check URL and account info\")\n",
    "        pass\n",
    "    elif f\"\"\"User environment '{oaf_name}' not found\"\"\" in str(e):\n",
    "        print(\"User environment not found\")\n",
    "        pass\n",
    "    else:\n",
    "        raise\n",
    "\n",
    "\n",
    "# check cluster status\n",
    "check_cluster_start(compute_group=compute_group)"
   ]
  },
  {
   "cell_type": "markdown",
   "id": "869c15f1",
   "metadata": {},
   "source": [
    "<hr style='height:1px;border:none;background-color:#00233C;'>\n",
    "\n",
    "<p style = 'font-size:18px;font-family:Arial;color:#00233C'><b>5.2 Create a server-side sentiment function</b></p>\n",
    "\n",
    "<p style = 'font-size:16px;font-family:Arial;color:#00233C'>The goal of this exercise is to create a <b>server-side</b> function which can be staged on the analytic cluster.  This offers many improvements over the method used above;</p> \n",
    "<ul style = 'font-size:16px;font-family:Arial;color:#00233C'>\n",
    "    <li><b>Performance</b>.  Staging the code and dependencies in the container environment reduces the amount of I/O, since the function doesn't need to get serialized to the cluster when called</li>\n",
    "    <li><b>Operationalization</b>.  The execution pipeline can be encapsulated into a SQL statement, which allows for seamless use in ETL pipelines, dashboards, or applications that need access</li>\n",
    "    <li><b>Flexibility</b>. Developers can express much greater flexibility in how the code works to optimize for performance, stability, data cleanliness or flow logic</li>\n",
    "</ul>\n",
    "\n",
    "<p style = 'font-size:16px;font-family:Arial;color:#00233C'>These benefits do come with some amount of additional work.  Developers need to account how data is passed in and out of the code runtime, and how to pass it back to the SQL engine to assemble and return the final resultset.  Code is executed when the user expresses an <a href = 'https://docs.teradata.com/r/Teradata-VantageCloud-Lake/SQL-Reference/SQL-Operators-and-User-Defined-Functions/Table-Operators/APPLY'>APPLY SQL function</a>;</p> \n",
    "<ol style = 'font-size:16px;font-family:Arial;color:#00233C'>\n",
    "    <li><b>Input Query</b>.  The APPLY function takes a SQL query as input.  This query can be as complex as needed and include data preparation, cleansing, and/or any other set-based logic necessary to create the desired input data set.  This complexity can also be abstracted into a database view.  When using the teradata client connectors for Python or R, thise query is represented as a DataFrame or tibble.</li>\n",
    "    <li><b>Pre-processing</b>.  Based on the query plan, data is retrieved from storage (cache, block storage, or object storage) and the input query is executed.</li>\n",
    "    <li><b>Distribution</b>.  Input data can be partitioned and/or ordered to be processed on a specific container or collection of them.  For example, the user may want to process all data for a single post code in one partition, and run thousands of these in parallel.  Data can also be distributed evenly across all units of parallelism in the system</li>\n",
    "    <li><b>Input</b>.  The data for each container is passed to the runtime using tandard input (stdin)</li>\n",
    "    <li><b>Processing</b>.  The user's code executes, parsing stdin for the input data</li>\n",
    "    <li><b>Output</b>.  Data is sent out of the code block using standard output (stdout)</li>\n",
    "    <li><b>Resultset</b>.  Resultset is assembled by the analytic database, and the SQL query returns</li>\n",
    "    </ol>\n"
   ]
  },
  {
   "cell_type": "markdown",
   "id": "5e1b2628",
   "metadata": {},
   "source": [
    "<hr style='height:1px;border:none;background-color:#00233C;'>\n",
    "<p style = 'font-size:18px;font-family:Arial;color:#00233C'><b>5.3 Example server-side code block</b></p>\n",
    "\n",
    "<p style = 'font-size:16px;font-family:Arial;color:#00233C'>This is the python script used in the demonstration.  It is saved to the filesystem as <code>Complaints_Clustering_OAF.py</code>.  Note here the original client-side processing function has been reused, and the additional logic is for input, output, and error handling.</p> \n"
   ]
  },
  {
   "cell_type": "markdown",
   "id": "bdae6f4e",
   "metadata": {},
   "source": [
    "<hr style='height:1px;border:none;background-color:#00233C;'>\n",
    "<p style = 'font-size:18px;font-family:Arial;color:#00233C'><b>5.4.  Install the file and any additional artifacts</b></p>\n",
    "\n",
    "<p style = 'font-size:16px;font-family:Arial;color:#00233C'>Use the install_file() method to install this python file to the container.  As a reminder, this container is persistent, so these steps need only be done infrequently.</p> "
   ]
  },
  {
   "cell_type": "code",
   "execution_count": null,
   "id": "f035d061",
   "metadata": {},
   "outputs": [],
   "source": [
    "demo_env.install_file(\"Complaints_Clustering_OAF.py\", replace=True)"
   ]
  },
  {
   "cell_type": "markdown",
   "id": "fe03c822",
   "metadata": {},
   "source": [
    "<hr style='height:1px;border:none;background-color:#00233C;'>\n",
    "<p style = 'font-size:18px;font-family:Arial;color:#00233C'><b>5.5  Call the APPLY function </b></p>\n",
    "<p style = 'font-size:16px;font-family:Arial;color:#00233C'>This function can be executed in two ways;</p> \n",
    "<ul style = 'font-size:16px;font-family:Arial;color:#00233C'>\n",
    "    <li><b><a href = 'https://docs.teradata.com/r/Teradata-VantageCloud-Lake/Analyzing-Your-Data/Teradata-Package-for-Python-on-VantageCloud-Lake/Working-with-Open-Analytics/teradataml-Apply-Class-for-APPLY-Table-Operator'>Python</a></b> by calling the Apply() module function</li>\n",
    "    <li><b><a href = 'https://docs.teradata.com/r/Teradata-VantageCloud-Lake/SQL-Reference/SQL-Operators-and-User-Defined-Functions/Table-Operators/APPLY'>SQL</a></b> which allows for broad adoption across the enterprise</li>\n",
    "    </ul>\n",
    "    "
   ]
  },
  {
   "cell_type": "markdown",
   "id": "0bebf611",
   "metadata": {},
   "source": [
    "<hr style='height:1px;border:none;background-color:#00233C;'>\n",
    "<p style = 'font-size:18px;font-family:Arial;color:#00233C'><b>5.6 APPLY using Python</b></p>\n",
    "\n",
    "<p style = 'font-size:16px;font-family:Arial;color:#00233C'>The process is as follows</p> \n",
    "<ol style = 'font-size:16px;font-family:Arial;color:#00233C'>\n",
    "    <li>Construct a dictionary that will define the return columns and data types</li>\n",
    "    <li>Construct a teradataml DataFrame representing the data to be processed - note this is a \"virtual\" object representing data and logic <b>in-database</b></li>\n",
    "    <li>Execute the module function.  This constructs the function call in the database, but does not execute anything.  Note the Apply function takes several arguments - the input data, environment name, and the command to run</li>\n",
    "    <li>In order to execute the function, an \"execute_script()\" method must be called.  This method returns the server-side DataFrame representing the complete operation.  This DataFrame can be used in further processing, stored as a table, etc.</li>\n",
    "    </ol>\n",
    "    "
   ]
  },
  {
   "cell_type": "code",
   "execution_count": null,
   "id": "8df44c7a",
   "metadata": {},
   "outputs": [],
   "source": [
    "# return types\n",
    "types_dict = OrderedDict({})\n",
    "types_dict[\"complaint_id\"] = BIGINT()\n",
    "types_dict[\"consumer_complaint_narrative\"] = VARCHAR(1000)\n",
    "\n",
    "for i in range(384):\n",
    "    key = f\"embeddings_{str(i)}\"\n",
    "    types_dict[key] = FLOAT()\n",
    "\n",
    "\n",
    "# remove extra characters from text\n",
    "tdf = DataFrame.from_query(\n",
    "    \"\"\"SELECT TOP 100 complaint_id, date_received, product,issue, sub_issue, submitted_via,\n",
    "    CASE \n",
    "        WHEN consumer_complaint_narrative IS NULL THEN ' '\n",
    "        ELSE OREPLACE(OREPLACE(OREPLACE(OREPLACE(OREPLACE(consumer_complaint_narrative , X'0d' , ' ') , X'0a' , ' ') , X'09', ' '), ',', ' '), '\"', ' ')\n",
    "    END consumer_complaint_narrative \n",
    "    FROM user.Consumer_Complaints WHERE consumer_complaint_narrative <> '';\"\"\"\n",
    ")"
   ]
  },
  {
   "cell_type": "code",
   "execution_count": null,
   "id": "c7a77a7d",
   "metadata": {},
   "outputs": [],
   "source": [
    "demo_env.install_file(\"Complaints_Clustering_OAF.py\", replace=True)\n",
    "\n",
    "apply_obj = Apply(\n",
    "    data=tdf[[\"complaint_id\", \"consumer_complaint_narrative\"]],\n",
    "    apply_command=\"python Complaints_Clustering_OAF.py\",\n",
    "    returns=types_dict,\n",
    "    env_name=oaf_name,\n",
    "    delimiter=\",\",\n",
    ")"
   ]
  },
  {
   "cell_type": "markdown",
   "id": "2d38094d",
   "metadata": {},
   "source": [
    "<hr style='height:1px;border:none;background-color:#00233C;'>\n",
    "<p style = 'font-size:18px;font-family:Arial;color:#00233C'><b>5.7 Execute the function</b></p>\n",
    "<p style = 'font-size:16px;font-family:Arial;color:#00233C'>call execute_script(), and return a single record to the client to check the data.</p> "
   ]
  },
  {
   "cell_type": "code",
   "execution_count": null,
   "id": "bb4bbf5b",
   "metadata": {},
   "outputs": [],
   "source": [
    "embeddings_df = apply_obj.execute_script()\n",
    "ipydisplay(embeddings_df)"
   ]
  },
  {
   "cell_type": "markdown",
   "id": "33beed91",
   "metadata": {},
   "source": [
    "<p style = 'font-size:16px;font-family:Arial;color:#00233C'>Now, lets merge embeddings and row columns for further processing.</p>"
   ]
  },
  {
   "cell_type": "code",
   "execution_count": null,
   "id": "84904fd3",
   "metadata": {},
   "outputs": [],
   "source": [
    "embeddings_df_new = tdf.merge(\n",
    "    right=embeddings_df,\n",
    "    left_on=\"complaint_id\",\n",
    "    right_on=\"complaint_id\",\n",
    "    how=\"inner\",\n",
    "    lsuffix=\"tdf\",\n",
    "    rsuffix=\"emb\",\n",
    ")\n",
    "\n",
    "# remove duplicate columns embeddings_df\n",
    "embeddings_df_new = embeddings_df_new.drop(\n",
    "    columns=[\"complaint_id_emb\", \"consumer_complaint_narrative_emb\"]\n",
    ")"
   ]
  },
  {
   "cell_type": "markdown",
   "id": "54a6edd7",
   "metadata": {},
   "source": [
    "<p style = 'font-size:16px;font-family:Arial;color:#00233C'>Now the results can be saved back to Vantage.</p> "
   ]
  },
  {
   "cell_type": "code",
   "execution_count": null,
   "id": "98e7b333",
   "metadata": {},
   "outputs": [],
   "source": [
    "copy_to_sql(\n",
    "    df=embeddings_df_new,\n",
    "    table_name=\"complaints_embeddings\",\n",
    "    if_exists=\"replace\",\n",
    ")"
   ]
  },
  {
   "cell_type": "markdown",
   "id": "2058c210",
   "metadata": {},
   "source": [
    "<p style = 'font-size:16px;font-family:Arial;color:#00233C'>Now, let's load full embeddings table from Vantage</p>"
   ]
  },
  {
   "cell_type": "code",
   "execution_count": null,
   "id": "16d73c5d",
   "metadata": {},
   "outputs": [],
   "source": [
    "complaints_embeddings_tdf = DataFrame(\"complaints_embeddings\")\n",
    "# sentiment_pdf = complaints_embeddings_tdf.to_pandas()"
   ]
  },
  {
   "cell_type": "markdown",
   "id": "233cdaa1",
   "metadata": {},
   "source": [
    "<hr style='height:2px;border:none;background-color:#00233C;'>\n",
    "<p style = 'font-size:20px;font-family:Arial;color:#00233C'><b>6. Complaints Analysis</b></p>\n",
    "<p style = 'font-size:16px;font-family:Arial;color:#00233C'>We'll analyze the sample of customer complaints data.</p> \n"
   ]
  },
  {
   "cell_type": "markdown",
   "id": "cd23c933",
   "metadata": {},
   "source": [
    "<hr style='height:1px;border:none;background-color:#00233C;'>\n",
    "<p style = 'font-size:18px;font-family:Arial;color:#00233c'><b>6.1 Graph for Count of Product Complaints Over Years</b></p>\n",
    "\n",
    "<p style='font-size:16px;font-family:Arial;color:#00233c'>The provided graph visualizes the count of complaints over the past few years, categorized by product names.</p>"
   ]
  },
  {
   "cell_type": "code",
   "execution_count": null,
   "id": "73135c62",
   "metadata": {},
   "outputs": [],
   "source": [
    "viz_df = complaints_embeddings_tdf.assign(\n",
    "    year=complaints_embeddings_tdf.date_received.year_of_calendar()\n",
    ")\n",
    "\n",
    "pd_df = (\n",
    "    viz_df.select([\"product\", \"year\", \"complaint_id_tdf\"])\n",
    "    .groupby([\"product\", \"year\"])\n",
    "    .agg([\"count\"])\n",
    "    .to_pandas()\n",
    ")"
   ]
  },
  {
   "cell_type": "code",
   "execution_count": null,
   "id": "0f0475d5",
   "metadata": {},
   "outputs": [],
   "source": [
    "# Sorting the DataFrame by year for each product\n",
    "pd_df_sorted = pd_df.sort_values(by=[\"product\", \"year\"])\n",
    "import plotly.express as px\n",
    "\n",
    "# Plotting using Plotly\n",
    "fig = px.line(\n",
    "    pd_df_sorted,\n",
    "    x=\"year\",\n",
    "    y=\"count_complaint_id_tdf\",\n",
    "    color=\"product\",\n",
    "    markers=True,\n",
    "    title=\"Count of Product Complaints Over Years\",\n",
    ")\n",
    "fig.update_layout(\n",
    "    xaxis_title=\"Year\",\n",
    "    yaxis_title=\"Count\",\n",
    "    legend_title=\"Product\",\n",
    "    width=1200,\n",
    "    height=600,\n",
    ")\n",
    "\n",
    "fig.show()"
   ]
  },
  {
   "cell_type": "markdown",
   "id": "9c4cfb3d",
   "metadata": {},
   "source": [
    "<hr style='height:1px;border:none;background-color:#00233C;'> \n",
    "<p style='font-size:18px;font-family:Arial;color:#00233c'><b>6.2 Graph for Count of Complaints by Months</b></p> \n",
    "<p style='font-size:16px;font-family:Arial;color:#00233c'>The provided graph visualizes the count of complaints by months. We can see that the mean count is above 500, and the July and August months have the maximum complaints count.</p>"
   ]
  },
  {
   "cell_type": "code",
   "execution_count": null,
   "id": "7540734e",
   "metadata": {},
   "outputs": [],
   "source": [
    "df = complaints_embeddings_tdf.assign(\n",
    "    complaint_month=complaints_embeddings_tdf.date_received.month_of_year()\n",
    ")"
   ]
  },
  {
   "cell_type": "code",
   "execution_count": null,
   "id": "3c93bf9e",
   "metadata": {},
   "outputs": [],
   "source": [
    "# df = df.assign(complaint_month=func.td_month_of_year(df.date_received.expression))\n",
    "grp_gen = (\n",
    "    df.select([\"complaint_month\", \"complaint_id_tdf\"])\n",
    "    .groupby([\"complaint_month\"])\n",
    "    .agg([\"count\"])\n",
    "    .to_pandas()\n",
    ")\n",
    "\n",
    "# Define a reverse mapping dictionary\n",
    "reverse_month_mapping = {\n",
    "    1: \"January\",\n",
    "    2: \"February\",\n",
    "    3: \"March\",\n",
    "    4: \"April\",\n",
    "    5: \"May\",\n",
    "    6: \"June\",\n",
    "    7: \"July\",\n",
    "    8: \"August\",\n",
    "    9: \"September\",\n",
    "    10: \"October\",\n",
    "    11: \"November\",\n",
    "    12: \"December\",\n",
    "}\n",
    "\n",
    "# Create a new column with month names based on reverse mapping\n",
    "grp_gen[\"month\"] = grp_gen[\"complaint_month\"].map(reverse_month_mapping)\n",
    "\n",
    "\n",
    "fig = px.bar(\n",
    "    grp_gen.sort_values(by=\"complaint_month\"),\n",
    "    x=\"month\",\n",
    "    y=\"count_complaint_id_tdf\",\n",
    "    labels={\"count_complaint_id\": \"Number of Complaints\", \"month\": \"Complaint Month\"},\n",
    "    title=\"Number of Complaints by Month\",\n",
    ")\n",
    "\n",
    "# Add hover information\n",
    "fig.update_traces(hovertemplate=\"Month: %{x}<br>Number of Complaints: %{y:,}\")\n",
    "\n",
    "fig.show()"
   ]
  },
  {
   "cell_type": "markdown",
   "id": "ff2d9707",
   "metadata": {},
   "source": [
    "<hr style='height:1px;border:none;background-color:#00233C;'> \n",
    "\n",
    "<p style='font-size:18px;font-family:Arial;color:#00233c'><b>6.3 Graph for Number of Complaints by Product</b></p> <p style='font-size:16px;font-family:Arial;color:#00233c'>The graph displays the number of complaints received for different products. The data shows that the highest number of complaints are related to credit cards or prepaid cards, as well as credit reporting and credit repair services.</p>"
   ]
  },
  {
   "cell_type": "code",
   "execution_count": null,
   "id": "d2d0cd2c",
   "metadata": {},
   "outputs": [],
   "source": [
    "# Assuming df is your DataFrame and sns is seaborn\n",
    "grp_gen = (\n",
    "    df[[\"product\", \"complaint_id_tdf\"]].groupby([\"product\"]).agg([\"count\"]).to_pandas()\n",
    ")\n",
    "\n",
    "fig = px.bar(\n",
    "    grp_gen,\n",
    "    x=\"product\",\n",
    "    y=\"count_complaint_id_tdf\",\n",
    "    labels={\"count_complaint_id\": \"Number of Complaints\", \"product\": \"Product\"},\n",
    "    title=\"Number of Complaints by Product\",\n",
    ")\n",
    "\n",
    "# Add hover information\n",
    "fig.update_traces(hovertemplate=\"Product: %{x}<br>Number of Complaints: %{y:,}\")\n",
    "\n",
    "fig.show()"
   ]
  },
  {
   "cell_type": "markdown",
   "id": "aa98d8a5",
   "metadata": {},
   "source": [
    "<hr style='height:1px;border:none;background-color:#00233C;'> \n",
    "\n",
    "<p style='font-size:18px;font-family:Arial;color:#00233c'><b>6.4 Graph for Number of Complaints by Issue</b></p> <p style='font-size:16px;font-family:Arial;color:#00233c'>The graph displays the number of complaints received for different issues. The data shows that the highest number of complaints are related to issue of incorrect information on your report.</p>"
   ]
  },
  {
   "cell_type": "code",
   "execution_count": null,
   "id": "d08d7ee9",
   "metadata": {},
   "outputs": [],
   "source": [
    "# Assuming df is your DataFrame and sns is seaborn\n",
    "grp_gen = (\n",
    "    df.select([\"issue\", \"complaint_id_tdf\"])\n",
    "    .groupby([\"issue\"])\n",
    "    .agg([\"count\"])\n",
    "    .to_pandas()\n",
    ")\n",
    "\n",
    "grp_gen = grp_gen.sort_values(\"count_complaint_id_tdf\", ascending=False)[:10]\n",
    "\n",
    "fig = px.bar(\n",
    "    grp_gen,\n",
    "    x=\"issue\",\n",
    "    y=\"count_complaint_id_tdf\",\n",
    "    labels={\"count_complaint_id_tdf\": \"Number of Complaints\", \"issue\": \"Issue\"},\n",
    "    title=\"Number of Complaints by Issue(Top 10)\",\n",
    ")\n",
    "\n",
    "# Add hover information\n",
    "fig.update_traces(hovertemplate=\"Issue: %{x}<br>Number of Complaints: %{y:,}\")\n",
    "\n",
    "fig.show()"
   ]
  },
  {
   "cell_type": "markdown",
   "id": "b9e5209e",
   "metadata": {},
   "source": [
    "<hr style='height:1px;border:none;background-color:#00233C;'> \n",
    "\n",
    "<p style='font-size:18px;font-family:Arial;color:#00233c'><b>6.5 Graph for Number of Complaints by Sub-Issue</b></p> \n",
    "\n",
    "<p style='font-size:16px;font-family:Arial;color:#00233c'>The graph displays the number of complaints received for different sub-issues. The data shows that the highest number of complaints are related to issue of information belongs to someone else.</p>"
   ]
  },
  {
   "cell_type": "code",
   "execution_count": null,
   "id": "42e39814",
   "metadata": {},
   "outputs": [],
   "source": [
    "# Assuming df is your DataFrame and sns is seaborn\n",
    "grp_gen = (\n",
    "    df.select([\"sub_issue\", \"complaint_id_tdf\"])\n",
    "    .groupby([\"sub_issue\"])\n",
    "    .agg([\"count\"])\n",
    "    .to_pandas()\n",
    ")\n",
    "\n",
    "grp_gen = grp_gen.sort_values(\"count_complaint_id_tdf\", ascending=False)[:10]\n",
    "\n",
    "fig = px.bar(\n",
    "    grp_gen,\n",
    "    x=\"sub_issue\",\n",
    "    y=\"count_complaint_id_tdf\",\n",
    "    labels={\"count_complaint_id\": \"Number of Complaints\", \"sub_issue\": \"Sub-Issue\"},\n",
    "    title=\"Number of Complaints by Sub-Issue(Top 10)\",\n",
    ")\n",
    "\n",
    "# Add hover information\n",
    "fig.update_traces(hovertemplate=\"Sub-Issue: %{x}<br>Number of Complaints: %{y:,}\")\n",
    "\n",
    "fig.show()"
   ]
  },
  {
   "cell_type": "markdown",
   "id": "830bf7b9",
   "metadata": {},
   "source": [
    "<hr style='height:1px;border:none;background-color:#00233C;'> \n",
    "\n",
    "<p style='font-size:18px;font-family:Arial;color:#00233c'><b>6.6 Graph for Number of Complaints by Channel</b></p>\n",
    "\n",
    "<p style='font-size:16px;font-family:Arial;color:#00233c'>The graph displays the number of complaints received for different issues. The data shows that the all the complaints are submitted by web channel.</p>"
   ]
  },
  {
   "cell_type": "code",
   "execution_count": null,
   "id": "7b99697f",
   "metadata": {},
   "outputs": [],
   "source": [
    "grp_gen = (\n",
    "    df.select([\"submitted_via\", \"complaint_id_tdf\"])\n",
    "    .groupby([\"submitted_via\"])\n",
    "    .agg([\"count\"])\n",
    "    .to_pandas()\n",
    ")\n",
    "\n",
    "# Create a mapping of numbers to product names\n",
    "product_mapping = {i: product for i, product in enumerate(grp_gen[\"submitted_via\"])}\n",
    "\n",
    "# Replace product names with numbers in the DataFrame\n",
    "grp_gen[\"product_num\"] = grp_gen[\"submitted_via\"].map(\n",
    "    {product: i for i, product in enumerate(grp_gen[\"submitted_via\"])}\n",
    ")\n",
    "\n",
    "fig = px.bar(\n",
    "    grp_gen,\n",
    "    x=\"submitted_via\",\n",
    "    y=\"count_complaint_id_tdf\",\n",
    "    labels={\n",
    "        \"count_complaint_id\": \"Number of Complaints\",\n",
    "        \"submitted_via\": \"Submitted Via\",\n",
    "    },\n",
    "    title=\"Number of Complaints by Channel\",\n",
    ")\n",
    "\n",
    "# Add hover information\n",
    "fig.update_traces(hovertemplate=\"Submitted Via: %{x}<br>Number of Complaints: %{y:,}\")\n",
    "\n",
    "fig.show()"
   ]
  },
  {
   "cell_type": "markdown",
   "id": "c2fad8de",
   "metadata": {},
   "source": [
    "<hr style=\"height:2px;border:none;background-color:#00233C;\">\n",
    "<b style = 'font-size:20px;font-family:Arial;color:#00233C'>7. Cluster the Complaints</b>\n",
    "\n",
    "<p style = 'font-size:16px;font-family:Arial;color:#00233C'>For our complaint clustering task, we'll be using a sample of the data to cluster the complaints. This approach will allow us to effectively analyze and categorize the complaints without using the entire dataset.</p>"
   ]
  },
  {
   "cell_type": "code",
   "execution_count": null,
   "id": "8a8232cf",
   "metadata": {},
   "outputs": [],
   "source": [
    "data_cols = (\n",
    "    DataFrame(\"complaints_embeddings\").columns[:1]\n",
    "    + DataFrame(\"complaints_embeddings\").columns[7:]\n",
    ")\n",
    "\n",
    "KMeans_Model = KMeans(\n",
    "    data=DataFrame(\"complaints_embeddings\")[data_cols],\n",
    "    id_column=\"complaint_id_tdf\",\n",
    "    target_columns=DataFrame(\"complaints_embeddings\").columns[7:],\n",
    "    output_cluster_assignment=True,\n",
    "    num_clusters=5,\n",
    ")"
   ]
  },
  {
   "cell_type": "code",
   "execution_count": null,
   "id": "5504ba4f",
   "metadata": {},
   "outputs": [],
   "source": [
    "embeddings_cluster = DataFrame(\"complaints_embeddings\").join(\n",
    "    other=KMeans_Model.result,\n",
    "    how=\"inner\",\n",
    "    on=\"complaint_id_tdf=complaint_id_tdf\",\n",
    "    lprefix=\"L_\",\n",
    ")"
   ]
  },
  {
   "cell_type": "code",
   "execution_count": null,
   "id": "f6228daf",
   "metadata": {},
   "outputs": [],
   "source": [
    "# View complaints in cluster 1\n",
    "embeddings_cluster[\n",
    "    [\"td_clusterid_kmeans\", \"complaint_id_tdf\", \"consumer_complaint_narrative_tdf\"]\n",
    "].loc[embeddings_cluster.td_clusterid_kmeans == 1]"
   ]
  },
  {
   "cell_type": "markdown",
   "id": "bbb6f1f0",
   "metadata": {},
   "source": [
    "<hr style='height:1px;border:none;background-color:#00233C;'> \n",
    "\n",
    "<p style='font-size:18px;font-family:Arial;color:#00233c'><b>7.1 Visualization of Clusters with Complaints</b></p> \n",
    "\n",
    "<p style='font-size:16px;font-family:Arial;color:#00233c'>The graph displays the clustering of complaints into distinct groups. Based on the analysis, the data has been divided into 5 optimal clusters, each representing a unique pattern or category of complaints. This clustering approach helps to identify the key areas or types of complaints that are most prevalent, allowing for more targeted investigation and resolution efforts.</p>"
   ]
  },
  {
   "cell_type": "code",
   "execution_count": null,
   "id": "fb75bf92",
   "metadata": {},
   "outputs": [],
   "source": [
    "# emb = DataFrame('kmeans_features').to_pandas()\n",
    "clus = embeddings_cluster.to_pandas()"
   ]
  },
  {
   "cell_type": "code",
   "execution_count": null,
   "id": "e3edef37",
   "metadata": {},
   "outputs": [],
   "source": [
    "from sklearn.manifold import TSNE\n",
    "\n",
    "tsne = TSNE(n_components=2, random_state=42)\n",
    "tsne_result = tsne.fit_transform(clus.iloc[:, 20:-1])"
   ]
  },
  {
   "cell_type": "code",
   "execution_count": null,
   "id": "c782d1cb",
   "metadata": {},
   "outputs": [],
   "source": [
    "tsne_df = pd.DataFrame(tsne_result, columns=[\"tsne_1\", \"tsne_2\"])\n",
    "tsne_df[\"cluster_id\"] = clus[\"td_clusterid_kmeans\"]\n",
    "tsne_df[\"complaint_id\"] = clus[\"consumer_complaint_narrative_tdf\"]"
   ]
  },
  {
   "cell_type": "code",
   "execution_count": null,
   "id": "1e00009c",
   "metadata": {},
   "outputs": [],
   "source": [
    "import pandas as pd\n",
    "import plotly.express as px\n",
    "\n",
    "# Assuming you have already computed tsne_df as per the previous example\n",
    "\n",
    "# Create a new DataFrame combining t-SNE results with complaint information\n",
    "tsne_complaint_df = pd.DataFrame(tsne_result, columns=[\"tsne_1\", \"tsne_2\"])\n",
    "tsne_complaint_df[\"cluster_id\"] = clus[\"td_clusterid_kmeans\"]\n",
    "tsne_complaint_df[\"complaint_id\"] = clus[\"complaint_id_tdf\"]\n",
    "tsne_complaint_df[\"complaint\"] = clus[\"consumer_complaint_narrative_tdf\"]\n",
    "\n",
    "# Truncate text for hover data\n",
    "max_chars = 50  # Maximum characters to display\n",
    "tsne_complaint_df[\"truncted_complaint\"] = clus[\n",
    "    \"consumer_complaint_narrative_tdf\"\n",
    "].apply(lambda x: x[:max_chars] + \"...\" if len(x) > max_chars else x)\n",
    "\n",
    "# Plot using Plotly Express\n",
    "fig = px.scatter(\n",
    "    tsne_complaint_df,\n",
    "    x=\"tsne_1\",\n",
    "    y=\"tsne_2\",\n",
    "    color=\"cluster_id\",\n",
    "    hover_data=[\"complaint_id\", \"truncted_complaint\", \"cluster_id\"],\n",
    ")\n",
    "\n",
    "fig.update_traces(marker=dict(size=15))\n",
    "fig.update_layout(\n",
    "    title=\"t-SNE Visualization of Clusters with Complaints\",\n",
    "    xaxis_title=\"dimension-1\",\n",
    "    yaxis_title=\"dimension-2\",\n",
    "    xaxis=dict(tickangle=45),\n",
    "    width=1000,\n",
    "    height=800,\n",
    "    hoverlabel=dict(bgcolor=\"white\", font_size=16, font_family=\"Rockwell\"),\n",
    "    autosize=False,\n",
    ")\n",
    "\n",
    "# Customize the hovertemplate\n",
    "fig.update_traces(\n",
    "    hovertemplate=\"<b>Complaint ID:</b> %{customdata[0]}<br>\"\n",
    "    \"<b>Complaint:</b> %{customdata[1]}<br>\"\n",
    "    \"<b>Cluster ID:</b> %{customdata[2]}<br><extra></extra>\"\n",
    ")\n",
    "\n",
    "fig.show()"
   ]
  },
  {
   "cell_type": "markdown",
   "id": "a44bc090-a387-41b6-90a5-638a16dc3d4f",
   "metadata": {},
   "source": [
    "<hr style=\"height:2px;border:none;background-color:#00233C;\">\n",
    "<b style = 'font-size:20px;font-family:Arial;color:#00233C'>8. Cleanup</b>"
   ]
  },
  {
   "cell_type": "markdown",
   "id": "3b6ba28d-07d2-4322-9f59-e81855e1389c",
   "metadata": {},
   "source": [
    "<hr style='height:1px;border:none;background-color:#00233C;'>\n",
    "<p style = 'font-size:18px;font-family:Arial;color:#00233c'><b>8.1 Stop the Cluster</b></p>\n",
    "<p style = 'font-size:16px;font-family:Arial;color:#00233C'>Hibernate the environment if desired</p>"
   ]
  },
  {
   "cell_type": "code",
   "execution_count": 69,
   "id": "b7e82715-0855-4d59-990c-481d3a9d3f1b",
   "metadata": {},
   "outputs": [
    {
     "data": {
      "text/html": [
       "<div>\n",
       "<style scoped>\n",
       "    .dataframe tbody tr th:only-of-type {\n",
       "        vertical-align: middle;\n",
       "    }\n",
       "\n",
       "    .dataframe tbody tr th {\n",
       "        vertical-align: top;\n",
       "    }\n",
       "\n",
       "    .dataframe thead th {\n",
       "        text-align: right;\n",
       "    }\n",
       "</style>\n",
       "<table border=\"1\" class=\"dataframe\">\n",
       "  <thead>\n",
       "    <tr style=\"text-align: right;\">\n",
       "      <th></th>\n",
       "      <th>ComputeProfileName</th>\n",
       "      <th>InstanceName</th>\n",
       "      <th>ComputeGroupName</th>\n",
       "      <th>ComputeMapName</th>\n",
       "      <th>ComputeInstanceType</th>\n",
       "      <th>CurrentState</th>\n",
       "      <th>LastReqState</th>\n",
       "      <th>LastStartTime</th>\n",
       "      <th>LastEndTime</th>\n",
       "    </tr>\n",
       "  </thead>\n",
       "  <tbody>\n",
       "    <tr>\n",
       "      <th>0</th>\n",
       "      <td>XSMALLANALYTICPROFILE</td>\n",
       "      <td>f4vgdm</td>\n",
       "      <td>ANALYTICGROUP</td>\n",
       "      <td>TD_COMPUTE_XSMALL</td>\n",
       "      <td>ANALYTIC</td>\n",
       "      <td>ACTIVE</td>\n",
       "      <td>SUSPEND</td>\n",
       "      <td>2024-08-23 04:50:25 +0000 UTC</td>\n",
       "      <td>2024-08-22 13:53:00 +0000 UTC</td>\n",
       "    </tr>\n",
       "  </tbody>\n",
       "</table>\n",
       "</div>"
      ],
      "text/plain": [
       "      ComputeProfileName InstanceName ComputeGroupName     ComputeMapName  \\\n",
       "0  XSMALLANALYTICPROFILE       f4vgdm    ANALYTICGROUP  TD_COMPUTE_XSMALL   \n",
       "\n",
       "  ComputeInstanceType CurrentState LastReqState  \\\n",
       "0            ANALYTIC       ACTIVE      SUSPEND   \n",
       "\n",
       "                   LastStartTime                    LastEndTime  \n",
       "0  2024-08-23 04:50:25 +0000 UTC  2024-08-22 13:53:00 +0000 UTC  "
      ]
     },
     "metadata": {},
     "output_type": "display_data"
    },
    {
     "name": "stdout",
     "output_type": "stream",
     "text": [
      "Cluster Suspended or Suspend request already submitted.\n"
     ]
    },
    {
     "data": {
      "text/plain": [
       "True"
      ]
     },
     "execution_count": 69,
     "metadata": {},
     "output_type": "execute_result"
    }
   ],
   "source": [
    "check_cluster_stop(compute_group)"
   ]
  },
  {
   "cell_type": "markdown",
   "id": "19bdc0df-dc13-4a13-bf73-c7039a54c3ba",
   "metadata": {},
   "source": [
    "<footer style=\"padding-bottom:35px; background:#f9f9f9; border-bottom:3px solid #00233C\">\n",
    "    <div style=\"float:left;margin-top:14px\">ClearScape Analytics™</div>\n",
    "    <div style=\"float:right;\">\n",
    "        <div style=\"float:left; margin-top:14px\">\n",
    "            Copyright © Teradata Corporation - 2024. All Rights Reserved\n",
    "        </div>\n",
    "    </div>\n",
    "</footer>"
   ]
  }
 ],
 "metadata": {
  "kernelspec": {
   "display_name": "byollm_clustering",
   "language": "python",
   "name": "python3"
  },
  "language_info": {
   "codemirror_mode": {
    "name": "ipython",
    "version": 3
   },
   "file_extension": ".py",
   "mimetype": "text/x-python",
   "name": "python",
   "nbconvert_exporter": "python",
   "pygments_lexer": "ipython3",
   "version": "3.10.0"
  }
 },
 "nbformat": 4,
 "nbformat_minor": 5
}
