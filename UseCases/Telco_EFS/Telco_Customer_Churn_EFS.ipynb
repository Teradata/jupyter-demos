{
 "cells": [
  {
   "cell_type": "markdown",
   "id": "7a8b879e-5606-4963-9dcd-bf22c8ab9ee0",
   "metadata": {},
   "source": [
    "<header>\n",
    "   <p  style='font-size:36px;font-family:Arial; color:#F0F0F0; background-color: #00233c; padding-left: 20pt; padding-top: 20pt;padding-bottom: 10pt; padding-right: 20pt;'>\n",
    "       Telco Customer Churn Using EFS.\n",
    "  <br>\n",
    "       <img id=\"teradata-logo\" src=\"https://storage.googleapis.com/clearscape_analytics_demo_data/DEMO_Logo/teradata.svg\" alt=\"Teradata\" style=\"width: 125px; height: auto; margin-top: 20pt;\">\n",
    "    </p>\n",
    "</header>"
   ]
  },
  {
   "cell_type": "markdown",
   "id": "f951b58a-79ea-4d01-a5e1-3959f7037cc7",
   "metadata": {},
   "source": [
    "<p style = 'font-size:20px;font-family:Arial;'><b>Introduction</b></p>\n",
    "\n",
    "<p style = 'font-size:16px;font-family:Arial;'>\n",
    "Customer churn is a concern for all companies, but the complexity makes it difficult to track. Customers may leave due to various reasons such dissatisfaction with service quality, pricing, customer service, or finding better alternatives from competitors. Although some churn may be expected, companies aim to retain their customers to avoid using additional resources to find new customers. Thus, with the help of Teradata Vantage, companies can attain their goal of identifying the factors contributing to the churn, so they can take appropriate measures to retain customers. Vantage’s capabilities allow companies to analyze large amounts of customer data, such as usage patterns, billing information, demographics, and interactions, to find patterns that may indicate customers who are at risk of churning. Plus, Teradata’s machine learning and predictive analytics can be used to build models to predict customers which are likely to churn in the future. This information will give companies the chance to intervene, including sending targeted marketing campaigns, personalized offers, improved customer service, or addressing customer concern.</p>\n",
    "\n",
    "<p style = 'font-size:16px;font-family:Arial;'>Successful AI/ML implementations face three main challenges:</p>\n",
    "<li style = 'font-size:16px;font-family:Arial;'><b>The Data Problem:</b> Quality data and feature engineering consume 80% of the implementation time. Even when different use cases share the same source data and features, organizations often handle data preparation separately.</li>\n",
    "<li style = 'font-size:16px;font-family:Arial;'><b>The Scale Problem:</b> Real-world use cases often require multiple models. In production, these models require fresh features engineered in the same way as during training. Ensuring the auditability of these features behind model decisions is crucial.</li>\n",
    "<li style = 'font-size:16px;font-family:Arial;'><b>The Deployment Problem:</b> Transitioning prototypes to production, especially operationalizing data prep pipelines, is often problematic.</li></p>\n",
    "\n",
    "<p style = 'font-size:16px;font-family:Arial;'>Addressing these challenges requires strategic planning, skilled talent, and integration with existing systems. Oraganizations with a history in Data Management recognize the benefits of reusable Data Products, making Enterprise Feature Stores a valuable investment.</p>\n",
    "\n",
    "<p style = 'font-size:16px;font-family:Arial;'>A Feature Store is a curated repository of pre-calculated features, simplifying the journey from data to actionable insights. An Enterprise Feature Store extends across domains/teams, incorporating a Governance Framework for predictable feature delivery. </p>\n",
    "    \n",
    "<p style = 'font-size:16px;font-family:Arial;'><b>While most features are reusable, some need model-specific calculations before integration into a unified dataset.</b></p>\n",
    "    \n",
    "<p style = 'font-size:16px;font-family:Arial;'>The key difference between Feature Store (FS) and Enterprise Feature Store (EFS) is the scope across multiple domains/teams along with the Governance Framework (that gives an assurance that features are delivered under predictable SLAs and it also defines the operating model how the EFS is used across different teams/domains and how features lifecycle is managed). Although most Features are considered as re-usable, there is still some minor part of Features that must be calculated as model-specific (e.g., scaled variables, principal components, etc.) and then combined with the rest of the pre-calculated Features into a single data set (ADS). The figure below describes this co-existence of model-specific ADS(es) and model-independent EFS.</p>\n",
    "\n",
    "<img src=images/EFS.png style=\"border: 4px solid #404040; border-radius: 10px;\"/>\n",
    "\n",
    "\n",
    "<p style = 'font-size:18px;font-family:Arial;'><b>Business Values</b></p>\n",
    "\n",
    "<li style = 'font-size:16px;font-family:Arial;'>Rapid model creation and deployment through enterprise feature reuse.</li>\n",
    "<li style = 'font-size:16px;font-family:Arial;'>Flexible creation and usage of new features without extensive engineering support.</li>\n",
    "<li style = 'font-size:16px;font-family:Arial;'>Consistent definitions ensure accuracy and quick deployment.</li>\n",
    "<li style = 'font-size:16px;font-family:Arial;'>Collaboration and sharing of features among teams.</li>\n",
    "<li style = 'font-size:16px;font-family:Arial;'>Maintained feature lifecycle for compliance and auditability.</li>\n",
    "</p>\n",
    "\n",
    "<p style = 'font-size:18px;font-family:Arial;'><b>Why Vantage?</b></p>\n",
    "<p style = 'font-size:16px;font-family:Arial;'>There are several reasons why EFS naturally fits to Teradata Vantage:</p>\n",
    "<li style = 'font-size:16px;font-family:Arial;'>Utilizes Teradata Vantage with its powerful Analytical Library and SQL Engine.</li>\n",
    "<li style = 'font-size:16px;font-family:Arial;'>Primary Index enables efficient single-row access for online feature use.</li>\n",
    "<li style = 'font-size:16px;font-family:Arial;'>Single platform for both online and offline feature stores.</li>\n",
    "<li style = 'font-size:16px;font-family:Arial;'>Macros reduce parsing overhead from API access.</li>\n",
    "<li style = 'font-size:16px;font-family:Arial;'>R and Python code execution within SQL Engine.</li>\n",
    "<li style = 'font-size:16px;font-family:Arial;'>Bi-temporal querying capability.</li>\n",
    "<li style = 'font-size:16px;font-family:Arial;'>Scalable MPP power for feature computation.</li>\n",
    "<li style = 'font-size:16px;font-family:Arial;'>Industry-specific Logical Data Model as a feature source.</li>\n",
    "<li style = 'font-size:16px;font-family:Arial;'>Connectivity to Object Storage via NOS for feature data sourcing.</li>\n",
    "<li style = 'font-size:16px;font-family:Arial;'>Query Grid facilitates access to multiple data sources.</li>\n",
    "<li style = 'font-size:16px;font-family:Arial;'>Close-to-real-time feature delivery using Query Services and Teradata Intelligent Memory.</li>\n",
    "<li style = 'font-size:16px;font-family:Arial;'>Workload management prioritizes tasks effectively.</li></p>\n",
    "<p style = 'font-size:16px;font-family:Arial;'>The unique massively-parallel architecture of Teradata Vantage allows users to prepare data, train, evaluate, and deploy models at unprecedented scale.</p>\n"
   ]
  },
  {
   "cell_type": "markdown",
   "id": "866c080a-ee8b-4827-98c1-ab6e09f505d6",
   "metadata": {},
   "source": [
    "<hr style=\"height:2px;border:none;\">\n",
    "<p style = 'font-size:20px;font-family:Arial;'><b>1. Connect to Vantage, Import python packages and explore the dataset</b></p>\n"
   ]
  },
  {
   "cell_type": "code",
   "execution_count": null,
   "id": "6fdc09fd-62c0-40e5-ab9f-21e20b5e2ae3",
   "metadata": {
    "tags": []
   },
   "outputs": [],
   "source": [
    "%%capture\n",
    "!pip install teradataml==20.0.0.7"
   ]
  },
  {
   "cell_type": "markdown",
   "id": "f3985a2a-8dec-45a1-b50c-961340712ee8",
   "metadata": {},
   "source": [
    "<div class=\"alert alert-block alert-info\">\n",
    "<p style = 'font-size:16px;font-family:Arial;'><b>Note: </b><i>Please execute the above pip install to get the latest version of the required library. Be sure to restart the kernel after executing those lines to bring the installed libraries into memory. The simplest way to restart the Kernel is by typing zero zero: <b> 0 0</b></i></p>\n",
    "</div>"
   ]
  },
  {
   "cell_type": "code",
   "execution_count": null,
   "id": "8c9d961c-b412-4c30-8818-ad9b19939a27",
   "metadata": {},
   "outputs": [],
   "source": [
    "#import libraries\n",
    "import matplotlib.pyplot as plt \n",
    "import getpass\n",
    "import warnings\n",
    "warnings.filterwarnings('ignore')\n",
    "warnings.simplefilter(action='ignore', category=DeprecationWarning)\n",
    "warnings.simplefilter(action='ignore', category=RuntimeWarning)\n",
    "warnings.simplefilter(action='ignore', category=FutureWarning)\n",
    "\n",
    "from teradataml import *\n",
    "\n",
    "import plotly.express as px\n",
    "from plotly.subplots import make_subplots\n",
    "import plotly.graph_objects as go\n",
    "\n",
    "import seaborn as sns\n",
    "import matplotlib.pyplot as plt\n",
    "from sklearn.metrics import mean_absolute_error\n",
    "from sklearn.metrics import roc_auc_score\n",
    "from sklearn.metrics import roc_curve\n",
    "display.max_rows=5\n",
    "\n",
    "import os\n",
    "from teradataml import (create_context, DataFrame, DataSource, Entity, Feature, \n",
    "                       FeatureGroup, FeatureStore, FeatureType, FeatureStatus, \n",
    "                       load_example_data, remove_context, FeatureProcess, \n",
    "                       FeatureCatalog, in_schema, DatasetCatalog, db_drop_table, \n",
    "                       db_drop_view, KMeans, GLM, TDGLMPredict, XGBoost, \n",
    "                       XGBoostPredict, ClassificationEvaluator)\n",
    "from getpass import getpass\n",
    "import pandas as pd\n",
    "import warnings\n",
    "warnings.filterwarnings('ignore')"
   ]
  },
  {
   "cell_type": "markdown",
   "id": "af4de7a7-a021-41db-b5be-eccfcb5ecab3",
   "metadata": {},
   "source": [
    "<hr style=\"height:2px;border:none;\">\n",
    "<b style = 'font-size:18px;font-family:Arial;'> 1.1 Connect to Vantage</b>\n",
    "<p style = 'font-size:16px;font-family:Arial;'>We will be prompted to provide the password. We will enter the password, press the Enter key, and then use the down arrow to go to the next cell.</p>"
   ]
  },
  {
   "cell_type": "code",
   "execution_count": null,
   "id": "0a5bde1e-07d2-4ef9-8066-ad83a830fc3e",
   "metadata": {},
   "outputs": [],
   "source": [
    "%run -i ../startup.ipynb\n",
    "eng = create_context(host = 'host.docker.internal', username='demo_user', password = password)\n",
    "print(eng)"
   ]
  },
  {
   "cell_type": "code",
   "execution_count": null,
   "id": "9543c4a1-0b22-4c17-8379-a5fa368125a2",
   "metadata": {},
   "outputs": [],
   "source": [
    "%%capture\n",
    "execute_sql('''SET query_band='DEMO=Telco_Customer_Churn_EFS.ipynb;' UPDATE FOR SESSION; ''')"
   ]
  },
  {
   "cell_type": "markdown",
   "id": "e58fc9b8-be17-40bc-b356-15cd1249290a",
   "metadata": {},
   "source": [
    "<p style = 'font-size:18px;font-family:Arial;'> <b>1.2 Getting Data for This Demo</b></p>\n",
    "<p style = 'font-size:16px;font-family:Arial;'>We have provided data for this demo on cloud storage. We have the option of either running the demo using foreign tables to access the data without using any storage on our environment or downloading the data to local storage, which may yield somewhat faster execution. However, we need to consider available storage. There are two statements in the following cell, and one is commented out. We may switch which mode we choose by changing the comment string.</p>"
   ]
  },
  {
   "cell_type": "code",
   "execution_count": null,
   "id": "d5a6aedb-e5ce-44e0-9950-de3ec253be5a",
   "metadata": {},
   "outputs": [],
   "source": [
    "%run -i ../run_procedure.py \"call space_report();\""
   ]
  },
  {
   "cell_type": "code",
   "execution_count": null,
   "id": "1dc3f082-f63c-4735-adcf-53711df94f94",
   "metadata": {},
   "outputs": [],
   "source": [
    "%run -i ../run_procedure.py \"call get_data('DEMO_Telco_local');\""
   ]
  },
  {
   "cell_type": "markdown",
   "id": "d7947ce7-7f53-4d22-9252-bdc71600d9af",
   "metadata": {},
   "source": [
    "<hr style=\"height:2px;border:none;\">\n",
    "<p style = 'font-size:20px;font-family:Arial;'><b>2. Data Exploration</b></p>\n"
   ]
  },
  {
   "cell_type": "markdown",
   "id": "a3bd0377-0c7c-4e63-b561-c07421c8d02f",
   "metadata": {},
   "source": [
    "<p style = 'font-size:18px;font-family:Arial;'><b>2.1 Create Virtual DataFrames</b></p>"
   ]
  },
  {
   "cell_type": "markdown",
   "id": "9c1b47d6-1eb7-42d4-8c9b-dd40a6ec1789",
   "metadata": {},
   "source": [
    "<p style = 'font-size:18px;font-family:Arial;'><b>Customer Churn</b></p>\n",
    "<p style = 'font-size:16px;font-family:Arial;'>Let us start by creating a \"Virtual DataFrame\" that points directly to the dataset in Vantage. We then begin our analysis by checking the shape of the DataFrame and examining the data types of all its columns.</p>"
   ]
  },
  {
   "cell_type": "code",
   "execution_count": null,
   "id": "c64ff625-1cb7-4eb7-bada-685e39738945",
   "metadata": {},
   "outputs": [],
   "source": [
    "telco_df = DataFrame(in_schema(\"DEMO_Telco\", \"Customer_Churn\"))"
   ]
  },
  {
   "cell_type": "code",
   "execution_count": null,
   "id": "19646e78-d91a-4a89-bbc2-6b42d0a430f7",
   "metadata": {},
   "outputs": [],
   "source": [
    "cdr_df = DataFrame(in_schema(\"DEMO_Telco\", \"Cdr_Data\"))"
   ]
  },
  {
   "cell_type": "code",
   "execution_count": null,
   "id": "96c3d543-84fc-4752-bc69-bdb02fa1e420",
   "metadata": {},
   "outputs": [],
   "source": [
    "cdr_df = cdr_df.drop(['Churn', 'Account Length'], axis=1)"
   ]
  },
  {
   "cell_type": "markdown",
   "id": "4b7f1c64-bd0d-47de-bd41-00f9cf74e6f8",
   "metadata": {},
   "source": [
    "<br>\n",
    "<p style = 'font-size:18px;font-family:Arial'><b>2.2 Exploratory Data Analysis</b></p>"
   ]
  },
  {
   "cell_type": "code",
   "execution_count": null,
   "id": "3f55304f-4fd9-41e9-8a0f-a1cb05cce5f7",
   "metadata": {
    "tags": []
   },
   "outputs": [],
   "source": [
    "pdf_churn = telco_df.to_pandas()\n",
    "pdf_cdr = cdr_df.to_pandas()\n",
    "combined_df = pd.concat([pdf_churn, pdf_cdr], axis=1)\n",
    "d1 = sns.histplot(data=combined_df, x='Day Mins', hue='Churn', kde=False, bins=30)\n",
    "plt.title('Distribution of Daily Minutes by Churn Status')\n",
    "plt.xlabel('Daily Minutes')\n",
    "plt.ylabel('Frequency')\n",
    "plt.show()"
   ]
  },
  {
   "cell_type": "code",
   "execution_count": null,
   "id": "9f0ea61c-3def-48b4-8957-31ddf5adf26b",
   "metadata": {},
   "outputs": [],
   "source": [
    "d2=telco_df.select(['Churn','Contract','CustomerID']).groupby(['Churn','Contract']).count()\n",
    "d2 = d2.assign(drop_columns=True,\n",
    "          Churn=d2.Churn,\n",
    "          Contract=d2.Contract,     \n",
    "          Count=d2.count_CustomerID)\n",
    "d2"
   ]
  },
  {
   "cell_type": "code",
   "execution_count": null,
   "id": "26cbd4a3-b55e-4eee-874b-117449659bc9",
   "metadata": {},
   "outputs": [],
   "source": [
    "d2=d2.to_pandas().reset_index()\n",
    "fig4 = px.bar(d2,x=\"Churn\",y=\"Count\", color=\"Contract\", barmode=\"group\", title=\"<b>Customer contract distribution<b>\")\n",
    "fig4.update_layout(width=700, height=500, bargap=0.1)\n",
    "fig4.show()"
   ]
  },
  {
   "cell_type": "markdown",
   "id": "079b45ab-a14b-4ed7-8bb2-eff4547a54ce",
   "metadata": {},
   "source": [
    "<p style = 'font-size:16px;font-family:Arial;'> We can see that about 75% of customer with Month-to-Month Contract opted to move out as compared to 13% of customers with One Year Contract and 3% with Two Year Contract.</p>"
   ]
  },
  {
   "cell_type": "markdown",
   "id": "3f0a5732-3e7e-4ba2-8c82-e9d1b3b9a903",
   "metadata": {},
   "source": [
    "<hr style=\"height:2px;border:none;\">\n",
    "<p style = 'font-size:20px;font-family:Arial;'><b>3. Create and Setup a Feature Store Repository</b>\n",
    "<p style = 'font-size:18px;font-family:Arial;'><b>3.1 Create the FeatureStore</b></p>\n",
    "<p style = 'font-size:16px;font-family:Arial;'>If the FeatureStore doesn't exist, you will be notified and you can continue executing the next cells.</p>"
   ]
  },
  {
   "cell_type": "code",
   "execution_count": null,
   "id": "58761505-f5cf-4ec9-a2ec-2cff19b8a51f",
   "metadata": {
    "tags": []
   },
   "outputs": [],
   "source": [
    "fs = FeatureStore(repo=\"telco_customer\")"
   ]
  },
  {
   "cell_type": "markdown",
   "id": "af184124-e965-4682-a03b-340e5554538d",
   "metadata": {},
   "source": [
    "<br>\n",
    "<p style = 'font-size:18px;font-family:Arial;'><b>3.2 Setup the FeatureStore</b></p>"
   ]
  },
  {
   "cell_type": "code",
   "execution_count": null,
   "id": "36b8091e-e21e-4c57-abd7-1a886b6b79ad",
   "metadata": {},
   "outputs": [],
   "source": [
    "fs.setup()"
   ]
  },
  {
   "cell_type": "code",
   "execution_count": null,
   "id": "51af4ed1-cc7e-44b8-ac8a-fd14b615dd3e",
   "metadata": {},
   "outputs": [],
   "source": [
    "fs = FeatureStore(repo=\"telco_customer\")"
   ]
  },
  {
   "cell_type": "markdown",
   "id": "7354d5bc-8669-4c6f-8b8d-c7dee31b90e0",
   "metadata": {},
   "source": [
    "<hr style=\"height:2px;border:none;\">\n",
    "<p style = 'font-size:20px;font-family:Arial;'><b>4. Feature Store Process</b>"
   ]
  },
  {
   "cell_type": "markdown",
   "id": "c5b45adb-b5d0-4071-a31c-c82e6f5550e0",
   "metadata": {},
   "source": [
    "<img src=images/EFS_process.png style=\"border: 4px solid #404040; border-radius: 10px;\">\n",
    "<p style = 'font-size:18px;font-family:Arial;'><b>4.1 Perform Customer Profiling Feature Engineering</b></p>\n",
    "<p style = 'font-size:16px;font-family:Arial;'>Transformation Details:    \n",
    "We create new features to better understand customer behavior and risk:\n",
    "<ul>\n",
    "  <li>Service Count: Total number of subscribed services per customer.</li>\n",
    "  <li>Revenue Growth Potential: Annualized revenue estimate from monthly charges.</li>\n",
    "  <li>Contract Risk Score: Risk level based on contract type (e.g., month-to-month = high risk).</li>\n",
    "  <li>Payment Risk Score: Risk level based on payment method (e.g., electronic check = high risk).</li>\n",
    "</ul>\n",
    "<p style = 'font-size:16px;font-family:Arial;'>These features support customer segmentation and churn risk analysis.</p>"
   ]
  },
  {
   "cell_type": "code",
   "execution_count": null,
   "id": "81e9cafa-8c05-4c4e-952a-2e8cfeaa6af3",
   "metadata": {},
   "outputs": [],
   "source": [
    "profile_features_df = telco_df.assign(\n",
    "    # Service portfolio size\n",
    "    service_count=(\n",
    "        case({'Yes': 1}, value=telco_df.PhoneService, else_=0) +\n",
    "        case({'DSL': 1, 'Fiber optic': 1}, value=telco_df.InternetService, else_=0) +\n",
    "        case({'Yes': 1}, value=telco_df.OnlineSecurity, else_=0) +\n",
    "        case({'Yes': 1}, value=telco_df.OnlineBackup, else_=0) +\n",
    "        case({'Yes': 1}, value=telco_df.DeviceProtection, else_=0) +\n",
    "        case({'Yes': 1}, value=telco_df.TechSupport, else_=0) +\n",
    "        case({'Yes': 1}, value=telco_df.StreamingTV, else_=0) +\n",
    "        case({'Yes': 1}, value=telco_df.StreamingMovies, else_=0)\n",
    "    ),\n",
    "\n",
    "    # Customer lifetime value indicators\n",
    "    revenue_growth_potential=telco_df.MonthlyCharges * 12,  # Annualized\n",
    "\n",
    "    # Contract risk factors\n",
    "    contract_risk_score=case({\n",
    "        'Month-to-month': 3,\n",
    "        'One year': 2,\n",
    "        'Two year': 1\n",
    "    }, value=telco_df.Contract, else_=3),\n",
    "\n",
    "    # Payment risk factors\n",
    "    payment_risk_score=case({\n",
    "        'Electronic check': 3,\n",
    "        'Mailed check': 2,\n",
    "        'Bank transfer (automatic)': 1,\n",
    "        'Credit card (automatic)': 1\n",
    "    }, value=telco_df.PaymentMethod, else_=3)\n",
    ")\n"
   ]
  },
  {
   "cell_type": "markdown",
   "id": "23dca7c5-21fd-4bc8-b07e-cfae4bbb1c6b",
   "metadata": {},
   "source": [
    "</br>\n",
    "<p style = 'font-size:18px;font-family:Arial;'><b>4.2 Perform Usage Feature Engineering</b></p>\n",
    "<p style = 'font-size:16px;font-family:Arial;'>Transformation Details:\n",
    "    We derive usage-based features from call detail records to better capture customer behavior:\n",
    "<ul>\n",
    "  <li><code>Total Calls, Minutes, and Charges</code>: Summed across day, evening, and night periods.</li>\n",
    "  <li>Usage Ratios: Proportion of usage during day and evening to understand time-based preferences.</li>\n",
    "  <li>International User Flag: Flags customers who have made international calls (1 if any, else 0).</li>\n",
    "</ul>\n",
    "<p style = 'font-size:16px;font-family:Arial;'>These features help in profiling usage intensity and service patterns."
   ]
  },
  {
   "cell_type": "code",
   "execution_count": null,
   "id": "484c6a67-eb02-4c8d-836a-43e4234fce05",
   "metadata": {},
   "outputs": [],
   "source": [
    " usage_features_df = cdr_df.assign(\n",
    "        # Call volume features by time period\n",
    "        total_calls = cdr_df['Day Calls'] + cdr_df['Eve Calls'] + cdr_df['Night Calls'],\n",
    "        total_minutes = cdr_df['Day Mins'] + cdr_df['Eve Mins'] + cdr_df['Night Mins'],\n",
    "        total_charges = cdr_df['Day Charge'] + cdr_df['Eve Charge'] + cdr_df['Night Charge'],\n",
    "        \n",
    "        # Usage intensity ratios\n",
    "        day_usage_ratio = cdr_df['Day Mins'] / (cdr_df['Day Mins'] + cdr_df['Eve Mins'] + cdr_df['Night Mins']),\n",
    "        evening_usage_ratio = cdr_df['Eve Mins'] / (cdr_df['Day Mins'] + cdr_df['Eve Mins'] + cdr_df['Night Mins']),\n",
    "        \n",
    "        # International usage indicator\n",
    "        intl_user_flag = case({0: 0}, value=cdr_df['Intl Calls'], else_=1)\n",
    "    )"
   ]
  },
  {
   "cell_type": "markdown",
   "id": "a7f3bafe-8d2a-4696-8dd9-09c93ac72369",
   "metadata": {},
   "source": [
    "</br>\n",
    "<p style = 'font-size:18px;font-family:Arial;'><b>4.3 Combine Profile and Usage Features</b></p>\n",
    "<p style = 'font-size:16px;font-family:Arial;'>Transformation Details: We merge customer profile and usage features into a single dataset for analysis:\n",
    "<ul>\n",
    "   <li>Join Operation: <code>Combines profile_features_df</code> and <code>usage_features_df</code> on <b>CustomerID</b>.</li>\n",
    "   <li>Feature Selection: Retains key features from both sources, including usage metrics, service counts, risk scores, and revenue potential.</li>\n",
    "   <li>Database Integration': Saves the combined data to a SQL table named combined_data for future use and reloads it as a DataFrame.</li>\n",
    "</ul>\n",
    "<p style = 'font-size:16px;font-family:Arial;'>This final dataset consolidates all engineered features for modeling and insights."
   ]
  },
  {
   "cell_type": "code",
   "execution_count": null,
   "id": "bbd212b7-d1c3-4379-b976-d2156dcfdd5c",
   "metadata": {},
   "outputs": [],
   "source": [
    "combined_feature_df = profile_features_df.join(\n",
    "        usage_features_df, on='CustomerID', lprefix=\"p\", rprefix=\"t\"\n",
    "    )"
   ]
  },
  {
   "cell_type": "code",
   "execution_count": null,
   "id": "017d135c-f7d4-409c-a901-113d4caedce1",
   "metadata": {},
   "outputs": [],
   "source": [
    "combined_feature_df = combined_feature_df.assign(drop_columns=True\n",
    "                      ,CustomerID = combined_feature_df.p_CustomerID\n",
    "                      ,total_calls= combined_feature_df.total_calls\n",
    "                      ,total_minutes = combined_feature_df.total_minutes\n",
    "                      ,total_charges = combined_feature_df.total_charges\n",
    "                      ,day_usage_ratio = combined_feature_df.day_usage_ratio\n",
    "                      ,evening_usage_ratio = combined_feature_df.evening_usage_ratio\n",
    "                      ,intl_user_flag = combined_feature_df.intl_user_flag\n",
    "                      ,service_count = combined_feature_df.service_count\n",
    "                      ,revenue_growth_potential = combined_feature_df.revenue_growth_potential\n",
    "                      ,contract_risk_score = combined_feature_df.contract_risk_score\n",
    "                      ,payment_risk_score = combined_feature_df.payment_risk_score)                      "
   ]
  },
  {
   "cell_type": "code",
   "execution_count": null,
   "id": "11fd5732-440b-4b70-ba40-e0f3aed5a69e",
   "metadata": {},
   "outputs": [],
   "source": [
    "copy_to_sql(combined_feature_df, \"combined_data\", if_exists='replace')"
   ]
  },
  {
   "cell_type": "code",
   "execution_count": null,
   "id": "e1ba84c3-265f-45a3-bf57-9e4b834ef8fd",
   "metadata": {
    "tags": []
   },
   "outputs": [],
   "source": [
    "combined_feature_df = DataFrame(\"combined_data\")"
   ]
  },
  {
   "cell_type": "markdown",
   "id": "05ec059b-4a8c-48aa-bb78-f4572769dfe1",
   "metadata": {},
   "source": [
    "</br>\n",
    "<p style = 'font-size:18px;font-family:Arial;'><b>4.4 Create SQL Views for Feature </b></p>\n",
    "<p style = 'font-size:16px;font-family:Arial;'>Transformation Details:\n",
    "We create SQL-accessible views for easier querying and modular data access:\n",
    "<ul>\n",
    "  <li>telco_profile_features_view: View of customer profile features.</li>\n",
    "  <li>telco_crd_feature_view: View of call detail record (CDR) usage features.</li>\n",
    "  <li>telco_combined_feature_view: View of the final combined dataset with all engineered features.</li>\n",
    "</ul>\n",
    "These views simplify downstream data exploration and model development."
   ]
  },
  {
   "cell_type": "code",
   "execution_count": null,
   "id": "57d9e190-8ddc-41dc-91f9-5d69955ffc12",
   "metadata": {},
   "outputs": [],
   "source": [
    "profile_view = profile_features_df.create_view(view_name=\"telco_profile_features_view\")\n",
    "cdr_view = usage_features_df.create_view(view_name=\"telco_crd_feature_view\")\n",
    "customer_cdr_view = combined_feature_df.create_view(view_name=\"telco_combined_feature_view\")"
   ]
  },
  {
   "cell_type": "markdown",
   "id": "da1dad47-8bd1-40ab-a072-7710a3c994ea",
   "metadata": {},
   "source": [
    "<hr style=\"height:2px;border:none;\">\n",
    "<p style = 'font-size:20px;font-family:Arial;'><b>5. Initialize Feature Stores by Domain</b></p>\n",
    "<p style = 'font-size:16px;font-family:Arial;'>We define feature stores to organize and manage features by domain:\n",
    "<ul>\n",
    "  <li><code>fs_customer</code>: Stores customer profile features under the customer_profile domain.</li>\n",
    "  <li><code>fs_cdr</code>: Stores usage behavior features under the call_usage_patterns domain.</li>\n",
    "  <li><code>fs_customer_cdr</code>: Stores the combined customer and CDR features under the customer_cdr domain.</li>\n",
    "</ul>\n",
    "<p style = 'font-size:16px;font-family:Arial;'>This setup enables modular feature management and reuse across models and pipelines.</p>"
   ]
  },
  {
   "cell_type": "code",
   "execution_count": null,
   "id": "902c2a42-6c23-46d8-bd25-9c7346242e55",
   "metadata": {},
   "outputs": [],
   "source": [
    "fs_customer = FeatureStore(repo=\"telco_customer\", data_domain=\"customer_profile\")\n",
    "fs_cdr = FeatureStore(repo=\"telco_customer\", data_domain=\"call_usage_patterns\")\n",
    "fs_customer_cdr = FeatureStore(repo=\"telco_customer\", data_domain=\"customer_cdr\")"
   ]
  },
  {
   "cell_type": "markdown",
   "id": "aede5fce-8133-4b36-9570-5ac826c49880",
   "metadata": {
    "tags": []
   },
   "source": [
    "<hr style=\"height:2px;border:none;\">\n",
    "<p style = 'font-size:20px;font-family:Arial;'><b>6. Ingest Features in Feature Store and Build Curated Datasets</b></p>\n",
    "<p style = 'font-size:18px;font-family:Arial;'><b>6.1 Ingest Profile Features into Feature Store </b></p>\n",
    "<p style = 'font-size:16px;font-family:Arial;'>We create and run a FeatureProcess to ingest selected profile features into the customer_profile domain:\n",
    "After ingestion, a mind map is generated to visualize the feature store structure.\n",
    "<ul>\n",
    "  <li>Source: profile_view (SQL view of profile features).</li>\n",
    "  <li>Entity: <code>CustomerID</code>.</li>\n",
    "  <li>Selected Features: <code>service_count</code>, <code>revenue_growth_potential</code>, <code>contract_risk_score</code>, <code>payment_risk_score</code>.</li>\n",
    "</ul>\n",
    "<p style = 'font-size:16px;font-family:Arial;'>Description: Captures key customer profiling metrics.</p>\n",
    "\n"
   ]
  },
  {
   "cell_type": "code",
   "execution_count": null,
   "id": "02d7b4ff-84d7-4f1b-9bbd-9ad9f9d91a81",
   "metadata": {},
   "outputs": [],
   "source": [
    "profile_fp = FeatureProcess(repo=\"telco_customer\",\n",
    "                            data_domain=\"customer_profile\",\n",
    "                            object=profile_view, \n",
    "                            entity='CustomerID',\n",
    "                            features=['service_count', 'revenue_growth_potential',\n",
    "                                      'contract_risk_score', 'payment_risk_score'],\n",
    "                            description='Ingesting features in profile DD')\n",
    "\n",
    "profile_fp.run()"
   ]
  },
  {
   "cell_type": "code",
   "execution_count": null,
   "id": "8e356784-cf9a-4f03-9431-9d800bb10aec",
   "metadata": {},
   "outputs": [],
   "source": [
    "# List the feature process.\n",
    "fs_customer.list_feature_processes()"
   ]
  },
  {
   "cell_type": "markdown",
   "id": "61dd30c6-87a0-449d-ac88-fd9c4cbf04c9",
   "metadata": {},
   "source": [
    "<p style = 'font-size:18px;font-family:Arial;'><b>6.2 Build Curated Profile Dataset </b></p>\n",
    "<p style = 'font-size:16px;font-family:Arial;'>We build a curated dataset within the customer_profile domain using ingested features:\n",
    "\n",
    "Dataset Catalog Access: Retrieved from the <code>fs_customer</code> feature store.\n",
    "<ul>\n",
    "  <li>Selected Features: Includes <code>service_count</code>, <code>revenue_growth_potential</code>, <code>contract_risk_score</code>, and <code>payment_risk_score</code> linked via <code>process_id.</code>\n",
    "  <li>Entity: <code>CustomerID</code>.\n",
    "  <li>Output View: <code>telco_churn_profile_dataset</code>, labeled for churn-related analysis.\n",
    "</ul>    \n",
    "Description: The dataset is now curated for churn modeling using customer profile features.\n",
    "\n",
    "<p style = 'font-size:16px;font-family:Arial;'>This prepares a clean, reusable dataset for model training or analysis."
   ]
  },
  {
   "cell_type": "code",
   "execution_count": null,
   "id": "7ef8ac44-a851-4c07-86b6-dbb0e45a298d",
   "metadata": {},
   "outputs": [],
   "source": [
    "dc_customer = fs_customer.get_dataset_catalog()\n",
    "\n",
    "selected_profile_features = {\n",
    "        'service_count': profile_fp.process_id,\n",
    "        'revenue_growth_potential': profile_fp.process_id,\n",
    "        'contract_risk_score': profile_fp.process_id,\n",
    "        'payment_risk_score': profile_fp.process_id\n",
    "    }\n",
    "\n",
    "dc_customer.build_dataset(entity='CustomerID',\n",
    "                          selected_features=selected_profile_features,\n",
    "                          view_name=\"telco_churn_profile_dataset\",\n",
    "                          description=\"Curated dataset for telco customer profile\")"
   ]
  },
  {
   "cell_type": "code",
   "execution_count": null,
   "id": "c0a46177-1582-4693-821c-91b1a5492edc",
   "metadata": {},
   "outputs": [],
   "source": [
    "fs_customer.list_dataset_catalogs()"
   ]
  },
  {
   "cell_type": "code",
   "execution_count": null,
   "id": "473c3b4f-654b-496b-9919-220975123f21",
   "metadata": {},
   "outputs": [],
   "source": [
    "fs_customer.mind_map()"
   ]
  },
  {
   "cell_type": "markdown",
   "id": "12215d21-31b5-4a3c-b909-94d36d3920ac",
   "metadata": {
    "tags": []
   },
   "source": [
    "<p style = 'font-size:18px;font-family:Arial;'><b>Feature Store Mnd Map</b></p>\n",
    "<p style = 'font-size:16px;font-family:Arial;'>\n",
    "The diagram below shows the <b>end-to-end flow</b> of features in the <code>telco_customer</code> repository within the <b>customer_profile</b> domain:\n",
    "</p>\n",
    "<ul>\n",
    "<li><b>Data Sources</b> → (<code>DEMO_USER...</code>)</li>\n",
    "<li><b>Feature Processes</b> → (<code>b820bbce-9e...</code>)</li>\n",
    "<li><b>Feature Catalog</b> → (<code>payment_risk</code>, <code>revenue_growth</code>, <code>contract_risk</code>, <code>service_count</code>)</li>\n",
    "<li><b>Dataset Catalog</b> → (<code>telco_churn</code> dataset)</li>\n",
    "</ul>\n",
    "<p style = 'font-size:16px;font-family:Arial;'>This mind map helps visualize how raw data flows through feature engineering processes, gets cataloged as reusable features, and is finally consumed in datasets for churn prediction.</p>\n"
   ]
  },
  {
   "cell_type": "markdown",
   "id": "cc34aa97-03f3-4429-acb9-8da790be4e13",
   "metadata": {},
   "source": [
    "<br/>\n",
    "<p style = 'font-size:18px;font-family:Arial;'><b>6.3 Ingest Usage Features into Feature Store for cdr</b></p>\n",
    "<p style = 'font-size:16px;font-family:Arial;'>We create and execute a FeatureProcess to ingest call usage features into the call_usage_patterns domain:\n",
    "<ul>\n",
    "  <li>Source: <code>cdr_view</code> (view of usage features).</li>\n",
    "  <li>Entity: <code>CustomerID</code>.</li>\n",
    "  <li>Selected Features: <code>total_calls</code>, <code>total_minutes</code>, <code>total_charges</code>,<code>day_usage_ratio</code>, <code>evening_usage_ratio</code>, <code>intl_user_flag</code>.</li>\n",
    "</ul>\n",
    "<p style = 'font-size:16px;font-family:Arial;'>Description: Captures call behavior and international usage indicators.\n",
    "    <br>This process adds usage metrics to the feature store for reuse in downstream tasks.</p>\n"
   ]
  },
  {
   "cell_type": "code",
   "execution_count": null,
   "id": "475f44ca-eb61-4f07-85bc-e1eeb7a2b6de",
   "metadata": {},
   "outputs": [],
   "source": [
    "usage_fp = FeatureProcess(repo=\"telco_customer\",\n",
    "                          data_domain=\"call_usage_patterns\", \n",
    "                          object=cdr_view,\n",
    "                          entity='CustomerID',\n",
    "                          features=['total_calls', 'total_minutes', 'total_charges',\n",
    "                                    'day_usage_ratio', 'evening_usage_ratio', 'intl_user_flag'],\n",
    "                          description='Ingesting features in usage DD' )\n",
    "\n",
    "usage_fp.run()"
   ]
  },
  {
   "cell_type": "code",
   "execution_count": null,
   "id": "ae97bd1f-a89b-4e90-bab3-bb10a985508c",
   "metadata": {},
   "outputs": [],
   "source": [
    "# List the feature process.\n",
    "fs_cdr.list_feature_processes()"
   ]
  },
  {
   "cell_type": "markdown",
   "id": "d89bc2d5-536e-4c93-9df7-c1a7d04f71bb",
   "metadata": {},
   "source": [
    "<p style = 'font-size:18px;font-family:Arial;><b>6.4 Build Curated Profile Dataset </b></p>\n",
    "<p style = 'font-size:16px;font-family:Arial;'>We build a curated dataset within the call_usage_patterns domain using ingested usage features:\n",
    "\n",
    "Dataset Catalog Access: Retrieved from the <code>fs_cdr</code> feature store.\n",
    "<ul>\n",
    "<li>Selected Features: Includes <code>call volume</code>, <code>duration</code>, <code>charges</code>, <code>usage ratios</code>, and <code>international call flag</code>, all linked by <code>process_id</code>.</li>\n",
    "<li>Entity: <code>CustomerID</code>.</li>\n",
    "<li>Output View: <code>telco_churn_usage_dataset</code> for usage-focused churn analysis.</li>\n",
    "</ul>\n",
    "Description: Curated dataset capturing detailed customer call behavior.\n",
    "\n",
    "<p style = 'font-size:16px;font-family:Arial;'>This dataset supports usage-based modeling and customer behavior analysis."
   ]
  },
  {
   "cell_type": "code",
   "execution_count": null,
   "id": "004f0c25-1230-438c-a782-a3cdd662fe8c",
   "metadata": {},
   "outputs": [],
   "source": [
    "dc_cdr = fs_cdr.get_dataset_catalog()\n",
    "\n",
    "selected_usage_features = {\n",
    "        'total_calls': usage_fp.process_id,\n",
    "        'total_minutes': usage_fp.process_id, \n",
    "        'total_charges': usage_fp.process_id,\n",
    "        'day_usage_ratio': usage_fp.process_id,\n",
    "        'evening_usage_ratio': usage_fp.process_id,\n",
    "        'intl_user_flag': usage_fp.process_id\n",
    "}\n",
    "\n",
    "dc_cdr.build_dataset(entity='CustomerID',\n",
    "                     selected_features=selected_usage_features,\n",
    "                     view_name='telco_churn_usage_dataset',\n",
    "                     description='Curated dataset for telco customer usage')"
   ]
  },
  {
   "cell_type": "code",
   "execution_count": null,
   "id": "2086226a-0977-4cfa-ae24-d236d27cdbf5",
   "metadata": {},
   "outputs": [],
   "source": [
    "fs_cdr.list_dataset_catalogs()"
   ]
  },
  {
   "cell_type": "markdown",
   "id": "d746a729-06b1-4cc9-83d5-5c7777b1a10e",
   "metadata": {},
   "source": [
    "</br>\n",
    "<p style = 'font-size:18px;font-family:Arial;color:#00233C'><b>6.5 Ingest Combined Features into Feature Store</b></p>\n",
    "<p style = 'font-size:16px;font-family:Arial;color:#00233C'>We create and run a FeatureProcess to ingest both profile and usage features into the customer_cdr domain:\n",
    "<ul>\n",
    "  <li>Source: <code>customer_cdr_view</code> (combined feature view).</li>\n",
    "  <li>Entity: <code>CustomerID</code>.</li>\n",
    "  <li>Selected Features: Usage:<code>total_calls</code>, <code>total_minutes</code>, <code>total_charges</code>, <code>day_usage_ratio</code>, <code>evening_usage_ratio</code>, <code>intl_user_flag</code>.</li>\n",
    "  <li>Profile: <code>service_count</code>, <code>revenue_growth_potential</code>, <code>contract_risk_score</code>, <code>payment_risk_score</code>.</li>\n",
    "</ul>\n",
    "<p style = 'font-size:16px;font-family:Arial;'>Description: Combines customer profile and call usage metrics for comprehensive analysis.\n",
    "<br>\n",
    "This enables a unified feature set for modeling and insights.</p>"
   ]
  },
  {
   "cell_type": "code",
   "execution_count": null,
   "id": "8cdefc06-fa14-49b8-959b-c445d06459ca",
   "metadata": {
    "tags": []
   },
   "outputs": [],
   "source": [
    "combined_fp = FeatureProcess(repo=\"telco_customer\",\n",
    "                          data_domain=\"customer_cdr\", \n",
    "                          object=customer_cdr_view,\n",
    "                          entity='CustomerID',\n",
    "                          features=['total_calls', 'total_minutes', 'total_charges',\n",
    "                                    'day_usage_ratio', 'evening_usage_ratio', 'intl_user_flag',\n",
    "                                    'service_count', 'revenue_growth_potential',\n",
    "                                    'contract_risk_score', 'payment_risk_score'],\n",
    "                          description='Ingesting features in combined DD' )\n",
    "\n",
    "combined_fp.run()"
   ]
  },
  {
   "cell_type": "code",
   "execution_count": null,
   "id": "7b911ab6-6712-4c7b-ab82-ab91a060303d",
   "metadata": {},
   "outputs": [],
   "source": [
    "# List the feature process.\n",
    "fs_customer_cdr.list_feature_processes()"
   ]
  },
  {
   "cell_type": "markdown",
   "id": "b2de5bb8-83f4-4cad-a2d0-27b3c021857b",
   "metadata": {},
   "source": [
    "<p style = 'font-size:18px;font-family:Arial;'><b>6.6 Build Curated Combined Dataset</b></p>\n",
    "<p style = 'font-size:16px;font-family:Arial;'>We create a comprehensive dataset within the customer_cdr domain by combining profile and usage features:\n",
    "<br>Dataset Catalog Access: From <br>fs_customer_cdr</br> feature store.</p>\n",
    "<ul>\n",
    "  <li>Selected Features: Includes all key profile and call usage metrics, linked by `process_id`.</li>  \n",
    "  <li>Entity: <code>CustomerID</code>.</li>\n",
    "  <li>Output View: <code>telco_combined_dataset</code>, designed for holistic customer analysis.</li>\n",
    "</ul>\n",
    "<p style = 'font-size:16px;font-family:Arial;'>Description: Curated dataset integrating customer profile and call detail features.\n",
    "<br>\n",
    "This unified dataset supports richer modeling and customer insights.</p>"
   ]
  },
  {
   "cell_type": "code",
   "execution_count": null,
   "id": "d86b41fb-b3c6-4875-a685-4af57d0dcfaa",
   "metadata": {
    "tags": []
   },
   "outputs": [],
   "source": [
    "dc_customer_cdr = fs_customer_cdr.get_dataset_catalog()\n",
    "\n",
    "selected_combined_features = {\n",
    "        'total_calls': combined_fp.process_id,\n",
    "        'total_minutes': combined_fp.process_id, \n",
    "        'total_charges': combined_fp.process_id,\n",
    "        'day_usage_ratio': combined_fp.process_id,\n",
    "        'evening_usage_ratio': combined_fp.process_id,\n",
    "        'intl_user_flag': combined_fp.process_id,\n",
    "         'service_count': combined_fp.process_id,\n",
    "        'revenue_growth_potential': combined_fp.process_id,\n",
    "        'contract_risk_score': combined_fp.process_id,\n",
    "        'payment_risk_score': combined_fp.process_id\n",
    "    }\n",
    "\n",
    "churn_dataset=dc_customer_cdr.build_dataset(entity='CustomerID',\n",
    "                     selected_features=selected_combined_features,\n",
    "                     view_name='telco_combined_dataset',\n",
    "                     description='Curated dataset for telco customer and cdr')"
   ]
  },
  {
   "cell_type": "code",
   "execution_count": null,
   "id": "6bb89ef9-59ea-42e8-bfe1-dfa901aa6523",
   "metadata": {},
   "outputs": [],
   "source": [
    "fs_customer_cdr.list_dataset_catalogs()"
   ]
  },
  {
   "cell_type": "code",
   "execution_count": null,
   "id": "95fbe1b8-4352-4a85-9127-757a66fcdad5",
   "metadata": {},
   "outputs": [],
   "source": [
    "fs_customer_cdr.list_features()"
   ]
  },
  {
   "cell_type": "code",
   "execution_count": null,
   "id": "e2a8d0cb-5341-452f-8d3b-1f37d0e749cb",
   "metadata": {},
   "outputs": [],
   "source": [
    "churn_dataset"
   ]
  },
  {
   "cell_type": "markdown",
   "id": "97470023-549e-4918-8e3a-2d7d8013a550",
   "metadata": {},
   "source": [
    "## 7. InDb Model Training and Scoring"
   ]
  },
  {
   "cell_type": "markdown",
   "id": "5929c16c-d5fc-4387-b038-0bb09de7e853",
   "metadata": {},
   "source": [
    "<hr style=\"height:2px;border:none;\">\n",
    "<p style = 'font-size:20px;font-family:Arial;'><b> InDb Model Training and Scoring</b></p>\n",
    "<p style = 'font-size:16px;font-family:Arial;'><b>7.1 XGB</b>\n",
    "<b>XGBoost (eXtreme Gradient Boosting)</b> is based on the gradient boosting framework, which is an ensemble learning method that combines multiple weak or base models (typically decision trees) to create a more accurate and robust predictive model. XGBoost improves upon traditional gradient boosting by using a number of optimization techniques, including parallelization, regularization, and efficient handling of missing values, to achieve faster training times and better model performance.<br>\n",
    "    Teradata's <b>XGBoost</b> function is an implementation of the gradient boosted decision tree designed for speed and performance. In gradient boosting, each iteration fits a model to the residuals (errors) of the previous iteration to correct the errors made by existing models. The predicted residual is multiplied by this learning rate and then added to the previous prediction. Models are added sequentially until no further improvements can be made. It is called gradient boosting because it uses a gradient descent algorithm to minimize the loss when adding new models.\n",
    "<br>Please refer <a href ='https://docs.teradata.com/search/all?query=XGBoost&filters=prodname~%2522Teradata+Package+for+Python%2522&content-lang=en-US'>XGBoost</a> for function elements and output."
   ]
  },
  {
   "cell_type": "code",
   "execution_count": null,
   "id": "7586dbb4-7bb0-4bce-94b2-1041608bae3b",
   "metadata": {},
   "outputs": [],
   "source": [
    "final_df = churn_dataset.join(\n",
    "        telco_df.select(['CustomerID', 'Churn']), \n",
    "        on='CustomerID', lprefix=\"p\", rprefix=\"t\"\n",
    "    )"
   ]
  },
  {
   "cell_type": "code",
   "execution_count": null,
   "id": "fe57043f-1374-4356-b5b8-58f125ffd1d6",
   "metadata": {},
   "outputs": [],
   "source": [
    "modeling_df = final_df.assign(drop_columns=True\n",
    "                      ,CustomerID = final_df.p_CustomerID\n",
    "                      ,total_calls= final_df.total_calls\n",
    "                      ,total_minutes = final_df.total_minutes\n",
    "                      ,total_charges = final_df.total_charges\n",
    "                      ,day_usage_ratio = final_df.day_usage_ratio\n",
    "                      ,evening_usage_ratio = final_df.evening_usage_ratio\n",
    "                      #,revenue_per_minute = final_df.revenue_per_minute\n",
    "                      ,intl_user_flag = final_df.intl_user_flag\n",
    "                      ,service_count = final_df.service_count\n",
    "                      ,revenue_growth_potential = final_df.revenue_growth_potential\n",
    "                      ,contract_risk_score = final_df.contract_risk_score\n",
    "                      ,payment_risk_score = final_df.payment_risk_score\n",
    "                      ,Churn = case({ \"Yes\" : 1, \"No\" : 0},value=final_df.Churn,else_=0)\n",
    "                      )"
   ]
  },
  {
   "cell_type": "code",
   "execution_count": null,
   "id": "0590caac-70fa-40e1-9df4-18a53f6bfb0c",
   "metadata": {},
   "outputs": [],
   "source": [
    "split_result = TrainTestSplit(\n",
    "        data=modeling_df,\n",
    "        id_column=\"CustomerID\", \n",
    "        train_size=0.75,\n",
    "        test_size=0.25,\n",
    "        seed=42\n",
    "    )"
   ]
  },
  {
   "cell_type": "code",
   "execution_count": null,
   "id": "889d771a-8c98-4c4c-b0f4-8e98598b6d36",
   "metadata": {},
   "outputs": [],
   "source": [
    "train_df = split_result.result[split_result.result['TD_IsTrainRow'] == 1].drop(['TD_IsTrainRow'], axis=1)\n",
    "test_df = split_result.result[split_result.result['TD_IsTrainRow'] == 0].drop(['TD_IsTrainRow'], axis=1)"
   ]
  },
  {
   "cell_type": "code",
   "execution_count": null,
   "id": "0f709c33-5abd-4bde-be03-497ca437e90c",
   "metadata": {},
   "outputs": [],
   "source": [
    "feature_cols = [col for col in modeling_df.columns \n",
    "                   if col not in ['CustomerID', 'Churn']]"
   ]
  },
  {
   "cell_type": "code",
   "execution_count": null,
   "id": "d76d28e0-6c6e-4453-b51b-83db053ea326",
   "metadata": {},
   "outputs": [],
   "source": [
    " xgb_model = XGBoost(\n",
    "        data=train_df,\n",
    "        input_columns=feature_cols,\n",
    "        response_column='Churn',\n",
    "        model_type='CLASSIFICATION'\n",
    "    )"
   ]
  },
  {
   "cell_type": "code",
   "execution_count": null,
   "id": "ece54605-00ec-44b9-bdae-1c3662241d50",
   "metadata": {},
   "outputs": [],
   "source": [
    "xgb_predictions = XGBoostPredict(\n",
    "        newdata=test_df,\n",
    "        object=xgb_model.result, \n",
    "        id_column='CustomerID',\n",
    "        accumulate='Churn',\n",
    "        model_type='CLASSIFICATION',\n",
    "        object_order_column=['task_index', 'tree_num', 'iter', 'class_num', 'tree_order'],\n",
    "        output_responses=['0', '1'],\n",
    "        output_prob=True\n",
    "    )"
   ]
  },
  {
   "cell_type": "code",
   "execution_count": null,
   "id": "127bbd92-39d8-4347-b613-3cdda26c34f7",
   "metadata": {},
   "outputs": [],
   "source": [
    "out_xgb = xgb_predictions.result.assign(Prediction = xgb_predictions.result.Prediction.cast(type_ = BYTEINT))\n",
    "out_xgb = out_xgb.assign(Prediction = out_xgb.Prediction.cast(type_ = VARCHAR(2)))\n",
    "out_xgb = out_xgb.assign(Churn = out_xgb.Churn.cast(type_ = VARCHAR(2)))\n",
    "out_xgb"
   ]
  },
  {
   "cell_type": "markdown",
   "id": "d5fc7c17-4294-44c2-879b-e799d80394ac",
   "metadata": {},
   "source": [
    "<p style = 'font-size:16px;font-family:Arial;'>We have created our model, let's do the predictions on the test dataset."
   ]
  },
  {
   "cell_type": "markdown",
   "id": "4c3406c8-1137-424a-8e25-c1946da142ab",
   "metadata": {},
   "source": [
    "<p style = 'font-size:18px;font-family:Arial;'><b>7.2 Evaluation of XGB Model</b></p>"
   ]
  },
  {
   "cell_type": "code",
   "execution_count": null,
   "id": "c40389b8-961a-4975-b3f8-d03a6c150762",
   "metadata": {},
   "outputs": [],
   "source": [
    "ClassificationEvaluator_xgb = ClassificationEvaluator(\n",
    "                                                        data = out_xgb,\n",
    "                                                        observation_column = 'Churn',\n",
    "                                                        prediction_column = 'Prediction',\n",
    "                                                        labels = ['0', '1']\n",
    ")"
   ]
  },
  {
   "cell_type": "code",
   "execution_count": null,
   "id": "c5850b6b-e78c-4533-ad76-2cafab048522",
   "metadata": {},
   "outputs": [],
   "source": [
    "ClassificationEvaluator_xgb.output_data.head(10)"
   ]
  },
  {
   "cell_type": "code",
   "execution_count": null,
   "id": "066b5e54-fec4-4a19-b718-9dab6866b574",
   "metadata": {},
   "outputs": [],
   "source": [
    "xgb_pred = xgb_predictions.result.to_pandas().reset_index().sort_values(\"CustomerID\")"
   ]
  },
  {
   "cell_type": "code",
   "execution_count": null,
   "id": "5fef90c9-d562-4f90-bc04-1c3ef27f7747",
   "metadata": {},
   "outputs": [],
   "source": [
    "print(mean_absolute_error(xgb_pred['Churn'], xgb_pred['Prob_1']))"
   ]
  },
  {
   "cell_type": "code",
   "execution_count": null,
   "id": "6c0c444b-0459-49c4-bf62-051ef42d060b",
   "metadata": {},
   "outputs": [],
   "source": [
    "AUC = roc_auc_score(xgb_pred['Churn'], xgb_pred['Prob_1'])\n",
    "AUC"
   ]
  },
  {
   "cell_type": "code",
   "execution_count": null,
   "id": "c6ab6d23-d3f7-4e7b-8956-538eb6c2000b",
   "metadata": {},
   "outputs": [],
   "source": [
    "fpr, tpr, thresholds = roc_curve(xgb_pred['Churn'], xgb_pred['Prob_1'])\n",
    "plt.plot(fpr, tpr, color='orange', label='ROC. AUC = {}'.format(str(AUC)))\n",
    "plt.plot([0, 1], [0, 1], color='darkblue', linestyle='--')\n",
    "plt.xlabel('False Positive Rate')\n",
    "plt.ylabel('True Positive Rate')\n",
    "plt.title('Receiver Operating Characteristic (ROC) Curve')\n",
    "plt.legend()\n",
    "plt.show()"
   ]
  },
  {
   "cell_type": "code",
   "execution_count": null,
   "id": "a473d7a8-c8ba-4a30-83ae-21871469229c",
   "metadata": {},
   "outputs": [],
   "source": [
    "xgb_pred_churn = xgb_pred[xgb_pred['Churn']==1]"
   ]
  },
  {
   "cell_type": "code",
   "execution_count": null,
   "id": "d646d060-08f5-4f30-8c03-bcc3eb3fab77",
   "metadata": {},
   "outputs": [],
   "source": [
    "xgb_pred_churn.shape"
   ]
  },
  {
   "cell_type": "code",
   "execution_count": null,
   "id": "28843ccc-769d-4bf5-9602-43b60fcd8de3",
   "metadata": {},
   "outputs": [],
   "source": [
    "xgb_pred_churn.head(10)"
   ]
  },
  {
   "cell_type": "code",
   "execution_count": null,
   "id": "f22063f5-2bb2-482a-a92a-cecbc67c0bc3",
   "metadata": {},
   "outputs": [],
   "source": [
    "telco_pandas = telco_df.to_pandas()"
   ]
  },
  {
   "cell_type": "code",
   "execution_count": null,
   "id": "5a5610d3-6cd2-418f-ba95-bff2c26b9f37",
   "metadata": {},
   "outputs": [],
   "source": [
    "pred_final = pd.merge(telco_pandas,xgb_pred_churn, on=\"CustomerID\", how=\"inner\", sort=True)"
   ]
  },
  {
   "cell_type": "code",
   "execution_count": null,
   "id": "6d2aeb07-71e6-4c34-9715-df509cde949a",
   "metadata": {},
   "outputs": [],
   "source": [
    "pred_final.shape"
   ]
  },
  {
   "cell_type": "code",
   "execution_count": null,
   "id": "4992b33e-c3c5-47c7-b7db-70b58db9f1ab",
   "metadata": {},
   "outputs": [],
   "source": [
    "pred_final.to_csv('churn_analysis_pred_final_v1.csv', index=False)"
   ]
  },
  {
   "cell_type": "code",
   "execution_count": null,
   "id": "cdb3c09b-9109-4c3c-be74-b2ca2009d40d",
   "metadata": {},
   "outputs": [],
   "source": [
    "pred_final.sort_values(['Prob_1'], ascending=False).head(10)"
   ]
  },
  {
   "cell_type": "code",
   "execution_count": null,
   "id": "6cdf897e-28ac-4b87-9f5a-5a9a83bb5375",
   "metadata": {},
   "outputs": [],
   "source": [
    "pred_final.sort_values(['Prob_1'], ascending=False).to_csv('churn_analysis_pred_final_v1.csv', index=False)"
   ]
  },
  {
   "cell_type": "markdown",
   "id": "12159339-41f1-4c0c-a6ad-540eea44136b",
   "metadata": {},
   "source": [
    "<hr style=\"height:2px;border:none;\">\n",
    "<p style = 'font-size:20px;font-family:Arial;'><b>8. Conclusion</b></p>\n",
    "<p style = 'font-size:16px;font-family:Arial;'>In this demo we have seen how we can do analysis and pre-processing of the data in Vantage using InDb functions. We have also used created two commonly used predictive models for classification and predicted the customers that are likely to churn.</p>\n"
   ]
  },
  {
   "cell_type": "markdown",
   "id": "1e899d0e-6b59-43a9-9a5a-d0dd7d19f0d7",
   "metadata": {},
   "source": [
    "<hr style=\"height:2px;border:none;\">\n",
    "<b style = 'font-size:20px;font-family:Arial;'>9. Cleanup</b></p>\n",
    "<p style = 'font-size:18px;font-family:Arial;'> <b>Work Tables and Views </b></p>"
   ]
  },
  {
   "cell_type": "code",
   "execution_count": null,
   "id": "c78a61ee-9e32-4c50-9bcd-6cc85ce4d30c",
   "metadata": {},
   "outputs": [],
   "source": [
    "views = ['telco_profile_features_view', 'telco_crd_feature_view', 'telco_combined_feature_view']\n",
    "\n",
    "# Loop through the list of views and execute the drop view command for each view\n",
    "for view in views:\n",
    "    try:\n",
    "        db_drop_view(view_name=view)\n",
    "    except:\n",
    "        pass"
   ]
  },
  {
   "cell_type": "code",
   "execution_count": null,
   "id": "6d5fb774-400c-482e-9e6a-ee375f03e473",
   "metadata": {
    "tags": []
   },
   "outputs": [],
   "source": [
    "tables = ['combined_data']\n",
    "\n",
    "# Loop through the list of tables and execute the drop table command for each table\n",
    "for table in tables:\n",
    "    try:\n",
    "        db_drop_table(table_name = table)\n",
    "    except:\n",
    "        pass"
   ]
  },
  {
   "cell_type": "code",
   "execution_count": null,
   "id": "dbc6d877-fcb7-47e8-81be-0cd7ba32cd00",
   "metadata": {},
   "outputs": [],
   "source": [
    "fs = FeatureStore(repo=\"telco_customer\")\n",
    "fs.delete()"
   ]
  },
  {
   "cell_type": "code",
   "execution_count": null,
   "id": "7d6b0419-ef74-416f-8a77-9dde753fceaf",
   "metadata": {},
   "outputs": [],
   "source": [
    "%run -i ../run_procedure.py \"call remove_data('DEMO_Telco');\" "
   ]
  },
  {
   "cell_type": "code",
   "execution_count": null,
   "id": "d693f2f7-6074-48b6-8987-1df95e2792bf",
   "metadata": {},
   "outputs": [],
   "source": [
    "remove_context()"
   ]
  },
  {
   "cell_type": "markdown",
   "id": "2a6596aa-560d-4587-a39c-8a4fed43e66a",
   "metadata": {},
   "source": [
    "<footer style=\"padding-bottom:35px; background:#f9f9f9; border-bottom:3px solid #00233C\">\n",
    "    <div style=\"float:left;margin-top:14px\">ClearScape Analytics™</div>\n",
    "    <div style=\"float:right;\">\n",
    "        <div style=\"float:left; margin-top:14px\">\n",
    "            Copyright © Teradata Corporation - 2025. All Rights Reserved\n",
    "        </div>\n",
    "    </div>\n",
    "</footer>"
   ]
  }
 ],
 "metadata": {
  "kernelspec": {
   "display_name": "Python 3 (ipykernel)",
   "language": "python",
   "name": "python3"
  },
  "language_info": {
   "codemirror_mode": {
    "name": "ipython",
    "version": 3
   },
   "file_extension": ".py",
   "mimetype": "text/x-python",
   "name": "python",
   "nbconvert_exporter": "python",
   "pygments_lexer": "ipython3",
   "version": "3.9.10"
  }
 },
 "nbformat": 4,
 "nbformat_minor": 5
}
