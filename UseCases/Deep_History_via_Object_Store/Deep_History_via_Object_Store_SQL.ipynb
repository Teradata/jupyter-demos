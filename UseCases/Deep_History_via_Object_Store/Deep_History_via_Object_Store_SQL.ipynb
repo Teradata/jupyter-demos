{
 "cells": [
  {
   "cell_type": "markdown",
   "metadata": {},
   "source": [
    "<header>\n",
    "   <p  style='font-size:36px;font-family:Arial; color:#F0F0F0; background-color: #00233c; padding-left: 20pt; padding-top: 20pt;padding-bottom: 10pt; padding-right: 20pt;'>\n",
    "       Deep History\n",
    "  <br>\n",
    "       <img id=\"teradata-logo\" src=\"https://storage.googleapis.com/clearscape_analytics_demo_data/DEMO_Logo/teradata.svg\" alt=\"Teradata\" style=\"width: 125px; height: auto; margin-top: 20pt;\">\n",
    "    </p>\n",
    "</header>\n",
    "\n",
    "<p style = 'font-size:20px;font-family:Arial;color:#00233C'><b>Introduction</b></p>\n",
    "\n",
    "\n",
    "<p style = 'font-size:16px;font-family:Arial;color:#00233C'>Increasingly stringent regulations require companies to keep data online and accessible for regulatory compliance over many years. Although the most frequently accessed data is the latest or most current data, that doesn’t mean that the older information is not useful or relevant. Historical data that’s been compiled over the years gives a rich perspective of the business, such as long-term trends and cyclical patterns.</p>\n",
    "\n",
    "<p style = 'font-size:16px;font-family:Arial;color:#00233C'>Teradata Vantage provides unmatched concurrency and performance for the world's largest and most demanding enterprises to analyze their data. Analysis and concurrency needs for older information is generally substantially less as data ages, and over time there is much more history data that accumulates than current 'hot' data, it makes sense to store it somewhere that has different performance and price characteristics: for example, an object store such as Amazon S3 or Azure Blob storage.</p>\n",
    "\n",
    "<p style = 'font-size:16px;font-family:Arial;color:#00233C'>Keeping historical and current data in separate systems can make it a challenge to gain unique insights that are possible only by analyzing the information together. But not any longer. Now, Teradata Vantage can be used to seamlessly join together all the historical and current information across the data warehouse AND object storage, without having to change the basic data structures and queries. This makes it possible to cost-effectively answer questions that could not be previously addressed so decision makers can better plan for the future.  When running this demo in the ClearScape Analytics Experience, the Vantage Database running on Google Cloud is accessing historical data that is stored on AWS S3. </p>\n",
    "\n",
    "<img src= \"images/aws_gcp_DeepHistory.png\">"
   ]
  },
  {
   "cell_type": "markdown",
   "metadata": {},
   "source": [
    "<hr style=\"height:2px;border:none;background-color:#00233C;\">\n",
    "<p style = 'font-size:20px;font-family:Arial;color:#00233C'><b>1. Connect to Vantage</b></p>\n",
    "<p style = 'font-size:16px;font-family:Arial;color:#00233C'>You will be prompted to provide the password. Enter your password, press Enter, then use down arrow to go to next cell.</p>"
   ]
  },
  {
   "cell_type": "code",
   "execution_count": null,
   "metadata": {
    "tags": []
   },
   "outputs": [],
   "source": [
    "%connect local, hidewarnings=true"
   ]
  },
  {
   "cell_type": "markdown",
   "metadata": {},
   "source": [
    "<p style = 'font-size:16px;font-family:Arial;color:#00233C'>Setup for execution of notebook. Begin running steps with Shift + Enter keys.</p>\n"
   ]
  },
  {
   "cell_type": "code",
   "execution_count": null,
   "metadata": {},
   "outputs": [],
   "source": [
    "Set query_band='DEMO=DeepHistory.ipynb;' update for session;"
   ]
  },
  {
   "cell_type": "markdown",
   "metadata": {},
   "source": [
    "<hr style=\"height:2px;border:none;background-color:#00233C;\">\n",
    "<p style = 'font-size:20px;font-family:Arial;color:#00233C'><b>2. Getting Data for This Demo\n",
    "<p style = 'font-size:16px;font-family:Arial;color:#00233C'>We have provided data for this demo on cloud storage.  You have the option of either running the demo using foreign tables to access the data without using any storage on your environment or downloading the data to local storage which may yield somewhat faster execution, but there could be considerations of available storage.  There are two statements in the following cell, and one is commented out.  You may switch which mode you choose by changing the comment string. \n"
   ]
  },
  {
   "cell_type": "code",
   "execution_count": null,
   "metadata": {},
   "outputs": [],
   "source": [
    "call get_data('DEMO_SalesOffload_cloud'); ---takes about 35 seconds\n",
    "---call get_data('DEMO_SalesOffload_local'); ---takes about 60 seconds"
   ]
  },
  {
   "cell_type": "markdown",
   "metadata": {},
   "source": [
    "<p style = 'font-size:16px;font-family:Arial;color:#00233C'>Optional step – if you want to see status of databases/tables created and space used.</p>\n"
   ]
  },
  {
   "cell_type": "code",
   "execution_count": null,
   "metadata": {},
   "outputs": [],
   "source": [
    "call space_report();  -- optional, takes about 10 seconds"
   ]
  },
  {
   "cell_type": "markdown",
   "metadata": {},
   "source": [
    "<hr style=\"height:2px;border:none;background-color:#00233C;\">\n",
    "<p style = 'font-size:20px;font-family:Arial;color:#00233C'><b>3. Querying the Data</b></p>"
   ]
  },
  {
   "cell_type": "markdown",
   "metadata": {},
   "source": [
    "<p style = 'font-size:16px;font-family:Arial;color:#00233C'>Here is our current sales data. Let's grab some sample rows, we can see in this example we have customer, store, basket and discount information.</p>"
   ]
  },
  {
   "cell_type": "code",
   "execution_count": null,
   "metadata": {},
   "outputs": [],
   "source": [
    "SELECT TOP 5 * \n",
    "FROM DEMO_SalesOffload.sales_fact;"
   ]
  },
  {
   "cell_type": "markdown",
   "metadata": {},
   "source": [
    "<p style = 'font-size:16px;font-family:Arial;color:#00233C'>Aggregating our current sales data for each date.</p>"
   ]
  },
  {
   "cell_type": "code",
   "execution_count": null,
   "metadata": {},
   "outputs": [],
   "source": [
    "SELECT sales_date, sum(sales_quantity) as total \n",
    "FROM DEMO_SalesOffload.sales_fact\n",
    "GROUP BY sales_date\n",
    "ORDER BY sales_date ASC"
   ]
  },
  {
   "cell_type": "markdown",
   "metadata": {},
   "source": [
    "<p style = 'font-size:16px;font-family:Arial;color:#00233C'>Let's view our current sales data for each date by plotting it in a chart.</p>"
   ]
  },
  {
   "cell_type": "code",
   "execution_count": null,
   "metadata": {
    "tags": []
   },
   "outputs": [],
   "source": [
    "%chart sales_date, total, title='Recent Sales Trends', width=900, height=400"
   ]
  },
  {
   "cell_type": "markdown",
   "metadata": {},
   "source": [
    "<p style = 'font-size:16px;font-family:Arial;color:#00233C'>From the above chart it can be seen that the sales in the month of July, August and September are high. This is a sample data used to showcase this usecase and is not actual sales data.</p>"
   ]
  },
  {
   "cell_type": "markdown",
   "metadata": {},
   "source": [
    "<hr style=\"height:2px;border:none;background-color:#00233C;\">\n",
    "<p style = 'font-size:20px;font-family:Arial;color:#00233C'><b>4. Explore the offloaded historical data </b></p>\n",
    "\n",
    "<p style = 'font-size:16px;font-family:Arial;color:#00233C'>As you have seen we only have 1 year of sales data in our data warehouse as this is by far the most queried, but for compliance many companies need to keep up to 10 years of historical data. The older data has been exported from Vantage on a monthly basis and loaded into Amazon S3 for long term storage. With Teradata Vantage we can seamlessly access this offloaded data and join with the rest of the data to get insights over long term trends and handle audit requests with ease. This includes using existing queries and reports that would otherwise need to be re-written!</p>"
   ]
  },
  {
   "cell_type": "markdown",
   "metadata": {},
   "source": [
    "<p style = 'font-size:16px;font-family:Arial;color:#00233C'>We know the bucket where the offloaded sales data is located, so let's take a look at some of the data that is there - using the READ_NOS function we can get the list of files and their sizes.</p>"
   ]
  },
  {
   "cell_type": "code",
   "execution_count": null,
   "metadata": {},
   "outputs": [],
   "source": [
    "SELECT location(char(255)), ObjectLength \n",
    "FROM read_nos (\n",
    "USING \n",
    " LOCATION  ('/s3/s3.amazonaws.com/clearscape-analytics-datasets/sales_fact_offload/') ---('/s3/s3.amazonaws.com/trial-datasets/SalesOffload')\n",
    " RETURNTYPE ('NOSREAD_KEYS')\n",
    ") as d \n",
    "ORDER BY 1"
   ]
  },
  {
   "cell_type": "markdown",
   "metadata": {},
   "source": [
    "<p style = 'font-size:16px;font-family:Arial;color:#00233C'>There are total 28 files having sales data stored in the Object Store.<br>While designing cloud storage there is a compromise between selectivity and the overhead of requesting each file when processing the entire table. Breaking data up into multiple files allows multiple files to be processed in parallel which improves performance reduces the impact of latency for cloud storage. It also allows reading a subset of the data. On the other hand, if each unit of parallelism needs to open lots of files for a full table scan, then that will reduce the performance due to the overhead of opening multiple files for each unit of parallelism. Hence file/folder structure will depend on the how we will access the data, if the queries are using all the years' worth of data, then there is no need to divide the data on monthly basis.</p>"
   ]
  },
  {
   "cell_type": "markdown",
   "metadata": {},
   "source": [
    "<p style = 'font-size:16px;font-family:Arial;color:#00233C'>Let's take a look at one of the files to get a better understanding of the file format:</p>"
   ]
  },
  {
   "cell_type": "code",
   "execution_count": null,
   "metadata": {},
   "outputs": [],
   "source": [
    "SELECT * FROM READ_NOS (\n",
    "      USING\n",
    "      LOCATION  ('/s3/s3.amazonaws.com/clearscape-analytics-datasets/sales_fact_offload/2010/2010/object_33_0_1.parquet')\n",
    "      RETURNTYPE ('NOSREAD_PARQUET_SCHEMA')\n",
    "      FULLSCAN ('TRUE')\n",
    "      )\n",
    "AS d"
   ]
  },
  {
   "cell_type": "markdown",
   "metadata": {},
   "source": [
    "<hr style=\"height:2px;border:none;background-color:#00233C;\">\n",
    "<p style = 'font-size:20px;font-family:Arial;color:#00233C'><b>5. Create a simple abstraction layer for easy access</b></p>\n",
    "\n",
    "<p style = 'font-size:16px;font-family:Arial;color:#00233C'>Create a foreign table and a view in Vantage to allow business analysts and other users to easily access the offloaded historical data:</p>"
   ]
  },
  {
   "cell_type": "markdown",
   "metadata": {},
   "source": [
    "<p style = 'font-size:16px;font-family:Arial;color:#00233C'>Note, you will need to list all the columns in the foreign table definition </p>"
   ]
  },
  {
   "cell_type": "code",
   "execution_count": null,
   "metadata": {},
   "outputs": [],
   "source": [
    "CREATE FOREIGN TABLE sales_fact_offload\n",
    "       (\n",
    "Location VARCHAR(2048) CHARACTER SET UNICODE CASESPECIFIC,\n",
    "TheYear INTEGER,\n",
    "TheMonth INTEGER,\n",
    "sales_date DATE FORMAT 'YY/MM/DD',\n",
    "customer_id INTEGER,\n",
    "store_id INTEGER,\n",
    "basket_id INTEGER,\n",
    "product_id INTEGER,\n",
    "sales_quantity INTEGER,\n",
    "discount_amount FLOAT FORMAT '-ZZZ9.99'\n",
    ")\n",
    "USING\n",
    "       (\n",
    "LOCATION  ('/s3/s3.amazonaws.com/clearscape-analytics-datasets/sales_fact_offload/')\n",
    "STOREDAS  ('PARQUET')\n",
    "       )\n",
    "NO PRIMARY INDEX\n",
    "PARTITION BY COLUMN"
   ]
  },
  {
   "cell_type": "markdown",
   "metadata": {},
   "source": [
    "<p style = 'font-size:16px;font-family:Arial;color:#00233C'>Let's take a look at some of the rows that are in the offloaded files. The table is with the location of the file and then the columns as defined in the table created above.</p>"
   ]
  },
  {
   "cell_type": "code",
   "execution_count": null,
   "metadata": {},
   "outputs": [],
   "source": [
    "SELECT TOP 5 *\n",
    "FROM sales_fact_offload"
   ]
  },
  {
   "cell_type": "markdown",
   "metadata": {},
   "source": [
    "<p style = 'font-size:16px;font-family:Arial;color:#00233C'>How much data do we have out there? </p>"
   ]
  },
  {
   "cell_type": "code",
   "execution_count": null,
   "metadata": {},
   "outputs": [],
   "source": [
    "SELECT COUNT(*)\n",
    "FROM sales_fact_offload"
   ]
  },
  {
   "cell_type": "markdown",
   "metadata": {},
   "source": [
    "<p style = 'font-size:16px;font-family:Arial;color:#00233C'>Ok, we are close! We want the data to look like a native table. So, let's put a view on top to split it out into columns.</p>"
   ]
  },
  {
   "cell_type": "code",
   "execution_count": null,
   "metadata": {},
   "outputs": [],
   "source": [
    "REPLACE VIEW sales_fact_offload_v as (  \n",
    "SELECT \n",
    "    sales_date,\n",
    "    customer_id,\n",
    "    store_id,\n",
    "    basket_id,\n",
    "    product_id,\n",
    "    sales_quantity,\n",
    "    discount_amount\n",
    "FROM sales_fact_offload)"
   ]
  },
  {
   "cell_type": "markdown",
   "metadata": {},
   "source": [
    "<p style = 'font-size:16px;font-family:Arial;color:#00233C'>Now we can see that after creating the view with only the required columns we are able to get the required data , but the data is pulled at query runtime directly from the object store. We now have a seamless analytic experience by supporting the correlation of object store-based data sets with structured data sets in Teradata relational tables using existing SQL skills and workflows. </p>"
   ]
  },
  {
   "cell_type": "code",
   "execution_count": null,
   "metadata": {},
   "outputs": [],
   "source": [
    "SELECT TOP 5 *\n",
    "FROM sales_fact_offload_v"
   ]
  },
  {
   "cell_type": "markdown",
   "metadata": {},
   "source": [
    "<p style = 'font-size:16px;font-family:Arial;color:#00233C'>That looks nice! Now our users can access all the historical data we have in the object store.</p>\n",
    "\n",
    "<p style = 'font-size:16px;font-family:Arial;color:#00233C'>You can do everything in a view over a foreign table that you would do with a standard database view. This includes returning only a subset of the underlying table columns, as well as adding a WHERE clause in the view to limit what rows are made available using the view.</p>\n",
    "\n",
    "<p style = 'font-size:16px;font-family:Arial;color:#00233C'>Often, we want to be able to look at just a portion of this vast amount of data at a time, which is why we have stored it by year and month. Let's re-define the foreign table to allow us to pre-filter the data when reading it.</p>"
   ]
  },
  {
   "cell_type": "markdown",
   "metadata": {},
   "source": [
    "<hr style=\"height:2px;border:none;background-color:#00233C;\">\n",
    "<p style = 'font-size:20px;font-family:Arial;color:#00233C'><b>6. Optimize the foreign table and view for efficient access</b></p>\n",
    "\n",
    "<p style = 'font-size:16px;font-family:Arial;color:#00233C'>We have a lot of data in S3! Let's optimize the foreign table so that we minimize the data we have to read when querying the object store. Designing an object store bucket and path structure is an important first step when creating an object store. It requires knowledge of the business needs, the expected patterns in accessing the data, an understanding of the data, and a sensitivity to the trade-offs. In our case we will often know the approximate date we are looking at, so will use this to our advantage.</p>"
   ]
  },
  {
   "cell_type": "code",
   "execution_count": null,
   "metadata": {},
   "outputs": [],
   "source": [
    "DROP TABLE sales_fact_offload"
   ]
  },
  {
   "cell_type": "code",
   "execution_count": null,
   "metadata": {},
   "outputs": [],
   "source": [
    "CREATE FOREIGN TABLE sales_fact_offload\n",
    "       (\n",
    "Location VARCHAR(2048) CHARACTER SET UNICODE CASESPECIFIC,\n",
    "TheYear INTEGER,\n",
    "TheMonth INTEGER,\n",
    "sales_date DATE FORMAT 'YY/MM/DD',\n",
    "customer_id INTEGER,\n",
    "store_id INTEGER,\n",
    "basket_id INTEGER,\n",
    "product_id INTEGER,\n",
    "sales_quantity INTEGER,\n",
    "discount_amount FLOAT FORMAT '-ZZZ9.99'\n",
    ")\n",
    "USING\n",
    "       (\n",
    "LOCATION  ('/s3/s3.amazonaws.com/clearscape-analytics-datasets/sales_fact_offload/')\n",
    "PATHPATTERN ('$dir1/$year/$y1')\n",
    "STOREDAS  ('PARQUET')\n",
    "       )\n",
    "NO PRIMARY INDEX\n",
    "PARTITION BY COLUMN"
   ]
  },
  {
   "cell_type": "markdown",
   "metadata": {},
   "source": [
    "<p style = 'font-size:16px;font-family:Arial;color:#00233C'>We have re-defined our foreign table to include a <b>PATHPATTERN</b> clause. When looking at historical data by date, this allows us to read only the files we need!</p>\n",
    "\n",
    "<p style = 'font-size:16px;font-family:Arial;color:#00233C'>Now let's re-create our user-friendly view that allows for this path filtering...</p>"
   ]
  },
  {
   "cell_type": "code",
   "execution_count": null,
   "metadata": {},
   "outputs": [],
   "source": [
    "REPLACE VIEW sales_fact_offload_v as (  \n",
    "SELECT \n",
    "    CAST($path.$year AS CHAR(4)) sales_year,\n",
    "    Cast(Extract(month from Sales_date) as CHAR(2)) sales_month,\n",
    "    sales_date,\n",
    "    customer_id,\n",
    "    store_id,\n",
    "    basket_id,\n",
    "    product_id,\n",
    "    sales_quantity,\n",
    "    discount_amount\n",
    "FROM sales_fact_offload)"
   ]
  },
  {
   "cell_type": "code",
   "execution_count": null,
   "metadata": {},
   "outputs": [],
   "source": [
    "SELECT TOP 5 *\n",
    "FROM sales_fact_offload_v\n",
    "WHERE sales_year = '2010'\n"
   ]
  },
  {
   "cell_type": "markdown",
   "metadata": {},
   "source": [
    "<p style = 'font-size:16px;font-family:Arial;color:#00233C'>This is great for use cases where we know the date. Suppose we need to see what a customer bought many years ago. Or maybe we want to report on historical store sales. The business analyst can easily query this with no IT intervention, no going to backups or other hard to reach data silos!</p>"
   ]
  },
  {
   "cell_type": "markdown",
   "metadata": {},
   "source": [
    "<p style = 'font-size:16px;font-family:Arial;color:#00233C'>Let's take a look at what store 6 did for sales back in 2012:</p>"
   ]
  },
  {
   "cell_type": "code",
   "execution_count": null,
   "metadata": {},
   "outputs": [],
   "source": [
    "SELECT store_id, SUM(sales_quantity)\n",
    "FROM sales_fact_offload_v\n",
    "WHERE store_id = 6\n",
    "AND sales_year = '2012'\n",
    "GROUP BY 1"
   ]
  },
  {
   "cell_type": "markdown",
   "metadata": {},
   "source": [
    "<p style = 'font-size:16px;font-family:Arial;color:#00233C'>Let's join the historical data with the current data so we can see the full picture:</p>"
   ]
  },
  {
   "cell_type": "code",
   "execution_count": null,
   "metadata": {},
   "outputs": [],
   "source": [
    "REPLACE VIEW sales_fact_all as (\n",
    "SELECT \n",
    "    cast(Extract(year from Sales_Date) as CHAR(4)) sales_year,\n",
    "    cast(Extract(month from Sales_date) as CHAR(2)) sales_month,\n",
    "    sales_date,\n",
    "    customer_id,\n",
    "    store_id,\n",
    "    basket_id,\n",
    "    product_id,\n",
    "    sales_quantity,\n",
    "    discount_amount\n",
    "    FROM DEMO_SalesOffload.sales_fact\n",
    "    UNION ALL\n",
    "SELECT\n",
    "    sales_year,\n",
    "    sales_month,\n",
    "    sales_date,\n",
    "    customer_id,\n",
    "    store_id,\n",
    "    basket_id,\n",
    "    product_id,\n",
    "    sales_quantity,\n",
    "    discount_amount\n",
    "FROM sales_fact_offload_v)"
   ]
  },
  {
   "cell_type": "markdown",
   "metadata": {},
   "source": [
    "<p style = 'font-size:16px;font-family:Arial;color:#00233C'>Final thing we will do is re-run our sales over time report, code is unchanged from the one above, we are now able to analyze all the sales data and not just the most recent year. Below we are trying to check sales for Store \"8\" over time.</p>"
   ]
  },
  {
   "cell_type": "code",
   "execution_count": null,
   "metadata": {},
   "outputs": [],
   "source": [
    "SELECT sales_date, sum(sales_quantity) as total \n",
    "FROM sales_fact_all\n",
    "where store_id = 8\n",
    "GROUP BY sales_date\n",
    "ORDER BY sales_date ASC"
   ]
  },
  {
   "cell_type": "code",
   "execution_count": null,
   "metadata": {},
   "outputs": [],
   "source": [
    "%chart sales_date, total, title='All Sales Trends', width=900, height=400, color=green"
   ]
  },
  {
   "cell_type": "markdown",
   "metadata": {},
   "source": [
    "<p style = 'font-size:16px;font-family:Arial;color:#00233C'>Now we see that sales in 2019 were less as compared to 2017 and 2018. We will need to do further digging to see what happened. But thanks to Teradata Vantage we can cost-effectively analyze all our data by offloading the colder less required data to object storage for safe keeping.</p>"
   ]
  },
  {
   "cell_type": "markdown",
   "metadata": {},
   "source": [
    "<hr style=\"height:2px;border:none;background-color:#00233C;\">\n",
    "<p style = 'font-size:20px;font-family:Arial;color:#00233C'><b>7. Cleanup </b></p>\n",
    "<p style = 'font-size:18px;font-family:Arial;color:#00233C'><b>Work Tables</b></p>\n",
    "<p style = 'font-size:16px;font-family:Arial;color:#00233C'>Cleanup work tables to prevent errors next time.</p>"
   ]
  },
  {
   "cell_type": "code",
   "execution_count": null,
   "metadata": {},
   "outputs": [],
   "source": [
    "DROP VIEW sales_fact_all"
   ]
  },
  {
   "cell_type": "code",
   "execution_count": null,
   "metadata": {},
   "outputs": [],
   "source": [
    "DROP VIEW sales_fact_offload_v"
   ]
  },
  {
   "cell_type": "code",
   "execution_count": null,
   "metadata": {},
   "outputs": [],
   "source": [
    "DROP TABLE sales_fact_offload"
   ]
  },
  {
   "cell_type": "markdown",
   "metadata": {},
   "source": [
    "<p style = 'font-size:18px;font-family:Arial;color:#00233C'> <b>Databases and Tables </b></p>\n",
    "<p style = 'font-size:16px;font-family:Arial;color:#00233C'>The following code will clean up tables and databases created above.</p>"
   ]
  },
  {
   "cell_type": "code",
   "execution_count": null,
   "metadata": {
    "tags": []
   },
   "outputs": [],
   "source": [
    "call remove_data('DEMO_SalesOffload');-- takes about 10 seconds, optional if you want to use the data later"
   ]
  },
  {
   "cell_type": "markdown",
   "metadata": {},
   "source": [
    "<hr style=\"height:2px;border:none;background-color:#00233C;\">\n",
    "<p style = 'font-size:20px;font-family:Arial;color:#00233C'><b>8. Dataset</b></p>\n",
    "\n",
    "<p style = 'font-size:16px;font-family:Arial;color:#00233C'>\n",
    "The <b>sales_fact</b> dataset has approximately 43 million rows of sample sales data:\n",
    "\n",
    "- `sales_date`: date the order was processed\n",
    "- `customer_id`: customer identifier\n",
    "- `store_id`: store identifier where the order was taken\n",
    "- `basket_id`: grouping or order number\n",
    "- `product_id`: identifier of the product\n",
    "- `sales_quantity`: quantity of the product sold\n",
    "- `discount_amount`: how much of a discount was given on this line item </p>"
   ]
  },
  {
   "cell_type": "markdown",
   "metadata": {},
   "source": [
    "<footer style=\"padding-bottom:35px; background:#f9f9f9; border-bottom:3px solid #00233C\">\n",
    "    <div style=\"float:left;margin-top:14px\">ClearScape Analytics™</div>\n",
    "    <div style=\"float:right;\">\n",
    "        <div style=\"float:left; margin-top:14px\">\n",
    "            Copyright © Teradata Corporation - 2023. All Rights Reserved\n",
    "        </div>\n",
    "    </div>\n",
    "</footer>"
   ]
  }
 ],
 "metadata": {
  "kernelspec": {
   "display_name": "Teradata SQL",
   "language": "Teradata SQL",
   "name": "teradatasql"
  },
  "language_info": {
   "codemirror_mode": "Teradata SQL",
   "file_extension": ".tdrs",
   "mimetype": "application/vnd.teradata.resultset",
   "name": "Teradata SQL",
   "nbconvert_exporter": "",
   "pygments_lexer": "",
   "version": "16.20"
  }
 },
 "nbformat": 4,
 "nbformat_minor": 4
}
