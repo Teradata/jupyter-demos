{
 "cells": [
  {
   "cell_type": "markdown",
   "id": "f5f349b4-3b8b-487e-947a-58a91c0cc8d4",
   "metadata": {},
   "source": [
    "<header>\n",
    "   <p  style='font-size:36px;font-family:Arial; color:#F0F0F0; background-color: #00233c; padding-left: 20pt; padding-top: 20pt;padding-bottom: 10pt; padding-right: 20pt;'>\n",
    "       Competitor Proximity Geospatial Analysis\n",
    "  <br>\n",
    "       <img id=\"teradata-logo\" src=\"https://storage.googleapis.com/clearscape_analytics_demo_data/DEMO_Logo/teradata.svg\" alt=\"Teradata\" style=\"width: 125px; height: auto; margin-top: 20pt;\">\n",
    "    </p>\n",
    "</header>"
   ]
  },
  {
   "cell_type": "markdown",
   "id": "7dd53bc7-c53c-44d3-a2ba-434b6e189de3",
   "metadata": {},
   "source": [
    "<p style = 'font-size:20px;font-family:Arial;color:#00233C'><b>Introduction</b></p>\n",
    "<p style = 'font-size:16px;font-family:Arial;color:#00233C'><b>Quantifying the\n",
    "Influence of Nearby Competitors on the Spending Behavior of a Retailer’s Customers</b></p>\n",
    "\n",
    "<p style = 'font-size:16px;font-family:Arial;color:#00233C'>A good deal of focus has been placed on the competitive\n",
    "challenges that brick-and-mortar retailers face from online e-tailers. Having said\n",
    "that, competition among brick-and-mortar stores is still an important part of\n",
    "the retail competitive landscape. Unlike e-tailer competition, competition between physical stores depends in a fundamental way on the proximity among the competing retailer locations and the customers they\n",
    "serve.</p>\n",
    "\n",
    "<p style = 'font-size:16px;font-family:Arial;color:#00233C'>Here, we perform an analysis that quantifies the effect of\n",
    "proximity-to-competitors on the spending pattern of a retailer’s customers. The results can be used to guide proximity-based marketing tactics in which consumers are targeted with advertising and promotional\n",
    "content based on their location.</p>\n",
    "\n",
    "<p style = 'font-size:16px;font-family:Arial;color:#00233C'>We take the perspective of a brick-and-mortar retailer with\n",
    "the following information available:</p>\n",
    "\n",
    "<ul style = 'font-size:16px;font-family:Arial;color:#00233C'>\n",
    "<li>Their store locations.</li>\n",
    "\n",
    "<li>A record of customers who have shopped at their stores, the amounts they have spent and where they came from (as defined by a home or place-of-business address.)</li>\n",
    "\n",
    "<li>The locations of their competitor stores.</li>\n",
    "    \n",
    "</ul>\n",
    "\n",
    "<p style = 'font-size:16px;font-family:Arial;color:#00233C'>While we cannot know how much, if anything, customers\n",
    "of the retailer are spending at competitors, it is reasonable to assume that those who are nearby to a competitor have, at least, the potential to shop there. When that happens, there is a loss of revenue that otherwise might have gone to a store of mine.</p>\n",
    "\n",
    "<p style = 'font-size:16px;font-family:Arial;color:#00233C'>The question is, </p>\n",
    "\n",
    "<p style = 'font-size:16px;font-family:Arial;color:#00233C'><i><b>Even in the absence of direct information about whether my\n",
    "customers are shopping at competitors and how much they spend there, is there a way to detect and quantify the\n",
    "    presence of that split-spend phenomenon within my customer population?</b></i></p>\n",
    "\n",
    "<p style = 'font-size:16px;font-family:Arial;color:#00233C'>We’ll say a customer of the retailer has a nearby competitor\n",
    "if they are within a certain distance/drivetime of a competitor location. In essence, this involves defining a\n",
    "trade-area for each competitor location. We designate a customer as having a nearby competitor if they are within one (or more) of those competitor trade areas.</p>\n",
    "\n",
    "<p style = 'font-size:16px;font-family:Arial;color:#00233C'>That is a spatially-oriented segmentation exercise that\n",
    "divides the customers into two\n",
    "sub-populations, those with a nearby competitor and those without. Once those segments are computed, a straightforward statistical comparison of the mean spend of those two populations can be performed. In particular, we’re looking to see if the mean spend of my customers with a nearby competitor is less than\n",
    "the mean spend of those without a nearby competitor. If so, it seems reasonable to conclude those\n",
    "customers with a nearby competitor (on whole) are splitting their spend. In that case, the results of the analysis provide the basis for targeting those customers with marketing and promotional\n",
    "material with the goal of winning more of that split-spend.</p>\n",
    "\n",
    "<p style = 'font-size:16px;font-family:Arial;color:#00233C'>This demo employs the geospatial extensions of Vantage to assess the effect that the presence of nearby competitors may have on the spending pattern of a brick-and-mortar retailer's existing customers. We can store spatial data in Vantage and can compute it with other enterprise business data. In a sense, the mantra for the value of geospatial advantage is the same as our other analytics apply the analytic where the data lives to fully exploit the performance and scalability of our platform.</p>\n",
    "<b style = 'font-size:18px;font-family:Arial'>Using the teradataml Python library</b>\n",
    "<p style = 'font-size:16px;font-family:Arial;color:#00233C'>This notebook makes use of Teradata's teradataml library which provides a convenient Python language interface for working with data that resides on a Vantage system.  The interface is based on a pandas-like virtual dataframe and a set of wrapper functions that delegate data manipulation and analytic work to Vantage. In this way, data movement and the limitations of client-side memory/compute resources are avoided and the performance and scalability of the Vantage platform is leveraged fully.</p>\n"
   ]
  },
  {
   "cell_type": "markdown",
   "id": "472df9e9-687f-4dab-990d-f4c0b2a69047",
   "metadata": {},
   "source": [
    "<hr style=\"height:2px;border:none;background-color:#00233C;\">\n",
    "<p style = 'font-size:20px;font-family:Arial;color:#00233C'><b>1. Import python packages, connect to Vantage and explore the dataset</b></p>"
   ]
  },
  {
   "cell_type": "markdown",
   "id": "fe0dfd99-0ff7-40c5-aa28-545b73fb5274",
   "metadata": {},
   "source": [
    "<p style = 'font-size:16px;font-family:Arial;color:#00233C'>Let's start by importing the libraries needed.</p>"
   ]
  },
  {
   "cell_type": "code",
   "execution_count": null,
   "id": "43f40d02-7174-4f27-b8c4-4369f795a496",
   "metadata": {},
   "outputs": [],
   "source": [
    "#import libraries\n",
    "import geopandas as gpd\n",
    "import matplotlib.pyplot as plt \n",
    "import pandas as pd\n",
    "import getpass\n",
    "from teradataml.dataframe.dataframe import DataFrame\n",
    "from teradataml.dataframe.dataframe import in_schema\n",
    "from teradataml.context.context import create_context, remove_context, get_context, execute_sql\n",
    "from teradataml.geospatial.geodataframe import GeoDataFrame\n",
    "# from teradataml import *\n",
    "\n",
    "import plotly.express as px\n",
    "import plotly.graph_objects as go\n",
    "import json\n",
    "from pandas import json_normalize\n",
    "from  ipywidgets import widgets, interact\n",
    "from shapely import wkt\n",
    "\n",
    "display.max_rows = 5 \n",
    "\n",
    "import pandas as pd\n",
    "import io\n",
    "import geopandas as gpd\n",
    "import shapely.geometry\n",
    "import plotly.express as px\n",
    "from shapely import wkt"
   ]
  },
  {
   "cell_type": "markdown",
   "id": "44946f98-7d2e-4509-97e2-669909e9e20a",
   "metadata": {},
   "source": [
    "<p style = 'font-size:16px;font-family:Arial;color:#00233C'>You will be prompted to provide the password. Enter your password, press the Enter key, then <b>use down arrow</b> to go to next cell.</p>"
   ]
  },
  {
   "cell_type": "code",
   "execution_count": null,
   "id": "61e10d1a-49d9-43c2-a120-c5d68be5a514",
   "metadata": {},
   "outputs": [],
   "source": [
    "%run -i ../startup.ipynb\n",
    "eng = create_context(host = 'host.docker.internal', username='demo_user', password = password)\n",
    "print(eng)"
   ]
  },
  {
   "cell_type": "code",
   "execution_count": null,
   "id": "8d25fe93-aee6-4c28-8f6e-494c7cf24bab",
   "metadata": {},
   "outputs": [],
   "source": [
    "%%capture\n",
    "execute_sql(\"SET query_band='DEMO=competitor_proximity_geospatial_analysis.ipynb;' UPDATE FOR SESSION;\")"
   ]
  },
  {
   "cell_type": "markdown",
   "id": "2a3d83a1-0c52-4d10-ac43-c31ac629ac7b",
   "metadata": {},
   "source": [
    "<p style = 'font-size:18px;font-family:Arial;color:#00233C'> <b>Getting Data for This Demo</b></p>\n",
    "<p style = 'font-size:16px;font-family:Arial;color:#00233C'>We have provided data for this demo on cloud storage. You have the option of either running the demo using foreign tables to access the data without using any storage on your environment or downloading the data to local storage which may yield somewhat faster execution, but there could be considerations of available storage. There are two statements in the following cell, and one is commented out. You may switch which mode you choose by changing the comment string.</p>"
   ]
  },
  {
   "cell_type": "code",
   "execution_count": null,
   "id": "3d85fcae-1d7c-4386-b4d8-b862f57c19a7",
   "metadata": {},
   "outputs": [],
   "source": [
    "# %run -i ../run_procedure.py \"call get_data('DEMO_Market_cloud');\"\n",
    " # takes about 30 seconds, estimated space: 0 MB\n",
    "%run -i ../run_procedure.py \"call get_data('DEMO_Market_local');\" \n",
    "# takes about 30 seconds, estimated space: 3 MB"
   ]
  },
  {
   "cell_type": "markdown",
   "id": "5b3c6c77-0193-44f5-a601-5acd35cb08ef",
   "metadata": {},
   "source": [
    "<p style = 'font-size:16px;font-family:Arial;color:#00233C'>Next is an optional step – if you want to see status of databases/tables created and space used.</p>"
   ]
  },
  {
   "cell_type": "code",
   "execution_count": null,
   "id": "ea3acb15-69d8-4c61-b20a-1b4f8cc2bc1f",
   "metadata": {},
   "outputs": [],
   "source": [
    "%run -i ../run_procedure.py \"call space_report();\""
   ]
  },
  {
   "cell_type": "markdown",
   "id": "39afc176-9b4c-41bc-8aab-0238dac8b8ec",
   "metadata": {},
   "source": [
    "<hr style=\"height:2px;border:none;background-color:#00233C;\">"
   ]
  },
  {
   "cell_type": "markdown",
   "id": "07f2239d-ff65-4e3f-b680-c4c502570b6b",
   "metadata": {},
   "source": [
    "<p style = 'font-size:20px;font-family:Arial;color:#00233C'><b>2. Initial Data Sets</b></p>\n",
    "<p style = 'font-size:16px;font-family:Arial;color:#00233C'>Let's start by exploring the datasets we have. We have four tables with geogaphical information Store which has the my store location, Competitor which has by competitor's store location, Customer which has my customer location and Competitor_dtpoly which is the drivetime polygon for customer. A drive time Polygon is the area that is accessible from a starting point within a specified time threshold. The drive time Polygon takes into account the fact that the travel is happening over the existing network of roads, with trade areas defined, we perform the segmentation by computing the customers which are within any of the trade areas."
   ]
  },
  {
   "cell_type": "code",
   "execution_count": null,
   "id": "88655280-bfb5-407c-98ed-1dc9f52b6dbd",
   "metadata": {},
   "outputs": [],
   "source": [
    "# Get a Teradata (Geo)DataFrame - this creates a local reference to the corresponding table on Vantage.\n",
    "# A GeoDataFrame is required since the store, customer, competitor and competitor_dtpoly tables each \n",
    "# contain an ST_Geometry-typed column.\n",
    "\n",
    "tgdf_store      = GeoDataFrame(in_schema(\"DEMO_Market\", \"Store\"))"
   ]
  },
  {
   "cell_type": "code",
   "execution_count": null,
   "id": "4d4d4eec-8d6f-4282-8bfb-4ecad417d42d",
   "metadata": {},
   "outputs": [],
   "source": [
    "tgdf_customer   = GeoDataFrame(in_schema(\"DEMO_Market\", \"Customer\"))\n",
    "tgdf_competitor = GeoDataFrame(in_schema(\"DEMO_Market\", \"Competitor\"))\n",
    "tgdf_dtpoly     = GeoDataFrame(in_schema(\"DEMO_Market\", \"Competitor_dtpoly\"))"
   ]
  },
  {
   "cell_type": "code",
   "execution_count": null,
   "id": "6187c29c-025e-4346-baad-c90d76389381",
   "metadata": {},
   "outputs": [],
   "source": [
    "# Show underlying query associated with (Geo)Dataframe\n",
    "\n",
    "tgdf_store.show_query()"
   ]
  },
  {
   "cell_type": "code",
   "execution_count": null,
   "id": "254a2c7c-b372-4e7d-b5eb-1be1febb6f16",
   "metadata": {},
   "outputs": [],
   "source": [
    "# Shape will give us the record and column count of the (Geo)Dataframe\n",
    "tgdf_store.shape"
   ]
  },
  {
   "cell_type": "code",
   "execution_count": null,
   "id": "41081afe-cfc9-49e7-8d0c-0e2665c21580",
   "metadata": {},
   "outputs": [],
   "source": [
    "tgdf_store"
   ]
  },
  {
   "cell_type": "markdown",
   "id": "8e7758d1-3907-4189-bf6e-b0e3efe0783d",
   "metadata": {},
   "source": [
    "<hr style=\"height:2px;border:none;background-color:#00233C;\">"
   ]
  },
  {
   "cell_type": "markdown",
   "id": "0de5056e-faaf-4a88-9ec1-d675a9e109f7",
   "metadata": {},
   "source": [
    "<p style = 'font-size:20px;font-family:Arial;color:#00233C'><b>2. Store Locations</b></p>"
   ]
  },
  {
   "cell_type": "markdown",
   "id": "609f276e-bab7-4376-9c1f-6244f49dd655",
   "metadata": {},
   "source": [
    "<p style = 'font-size:16px;font-family:Arial;color:#00233C'> Let us visualize the store location data for better understanding. All the calculations needed are done in Vantage and we are using python libraries for visualization only."
   ]
  },
  {
   "cell_type": "code",
   "execution_count": null,
   "id": "29f4fb4a-8c37-4c3a-8994-9ac6bc1e6cff",
   "metadata": {},
   "outputs": [],
   "source": [
    "#pandas df for plotting store locations\n",
    "df_store=tgdf_store.x.y.to_pandas(all_rows= True).reset_index()\n",
    "df_store = df_store.rename(columns={'x_ptLoc_geom': 'lon','y_ptLoc_geom': 'lat'})\n",
    "df_store"
   ]
  },
  {
   "cell_type": "code",
   "execution_count": null,
   "id": "b0426a70-35c3-42f7-9a52-87b15bd50384",
   "metadata": {},
   "outputs": [],
   "source": [
    "fig1 = px.scatter_mapbox(df_store, title='My Store Locations',lat=\"lat\", lon=\"lon\", hover_name=\"id\", \n",
    "                        hover_data=[\"id\"],\n",
    "                        color_discrete_sequence=[\"blue\"], zoom=8, height=300)\n",
    "fig1.update_layout(mapbox_style=\"open-street-map\", title_x=0.5,\n",
    "    title_y=0.98,)\n",
    "fig1.update_layout(margin={\"r\":0,\"t\":0,\"l\":0,\"b\":0})\n",
    "fig1.show()"
   ]
  },
  {
   "cell_type": "markdown",
   "id": "a0f9630b-a4d0-425e-87e5-dede209117c7",
   "metadata": {},
   "source": [
    "<p style = 'font-size:16px;font-family:Arial;color:#00233C'>The map above displays my store locations. We have 10 stores for our demo."
   ]
  },
  {
   "cell_type": "markdown",
   "id": "9265afa4-46b5-41a9-897b-93a92ea534d2",
   "metadata": {},
   "source": [
    "<hr style=\"height:2px;border:none;background-color:#00233C;\">"
   ]
  },
  {
   "cell_type": "markdown",
   "id": "8f954de8-4f13-46cb-a0cf-bc7ac6e2a2da",
   "metadata": {},
   "source": [
    "<p style = 'font-size:20px;font-family:Arial;color:#00233C'><b>3. Competitor Store Location</b></p>"
   ]
  },
  {
   "cell_type": "markdown",
   "id": "38b07e58-c235-4759-ba7c-ed18d920eff6",
   "metadata": {},
   "source": [
    "<p style = 'font-size:16px;font-family:Arial;color:#00233C'> Similarly we can plot the competitor store locations."
   ]
  },
  {
   "cell_type": "code",
   "execution_count": null,
   "id": "f39f58f4-1b19-4ec6-a0ac-06e9ed5fef02",
   "metadata": {},
   "outputs": [],
   "source": [
    "#pandas df for plotting store locations\n",
    "df_competitor=tgdf_competitor.x.y.to_pandas(all_rows= True).reset_index()\n",
    "df_competitor = df_competitor.rename(columns={'x_ptLoc_geom': 'lon','y_ptLoc_geom': 'lat'})\n",
    "df_competitor"
   ]
  },
  {
   "cell_type": "code",
   "execution_count": null,
   "id": "1ec33345-4d44-490f-9e97-fe4f501ae2fb",
   "metadata": {},
   "outputs": [],
   "source": [
    "fig2 = px.scatter_mapbox(df_competitor, title='Competitor Store Locations',lat=\"lat\", lon=\"lon\", hover_name=\"id\", \n",
    "                        hover_data=[\"id\"],\n",
    "                        color_discrete_sequence=[\"red\"], zoom=8, height=300)\n",
    "fig2.update_layout(mapbox_style=\"open-street-map\", title_x=0.5,\n",
    "    title_y=0.98,)\n",
    "fig2.update_layout(margin={\"r\":0,\"t\":0,\"l\":0,\"b\":0})\n",
    "fig2.show()"
   ]
  },
  {
   "cell_type": "markdown",
   "id": "4b515d04-cd94-4cf2-96e0-c5659fd81e70",
   "metadata": {},
   "source": [
    "<p style = 'font-size:16px;font-family:Arial;color:#00233C'>The map above shows competitor store locations. We have 7 competitor stores in our demo."
   ]
  },
  {
   "cell_type": "markdown",
   "id": "7242528e-7030-434f-bbf6-ce0ecd785881",
   "metadata": {},
   "source": [
    "<hr style=\"height:2px;border:none;background-color:#00233C;\">"
   ]
  },
  {
   "cell_type": "markdown",
   "id": "4fe2e9b8-e419-422a-835b-08d71bdda429",
   "metadata": {},
   "source": [
    "<p style = 'font-size:20px;font-family:Arial;color:#00233C'><b>4. Customer Location</b></p>"
   ]
  },
  {
   "cell_type": "code",
   "execution_count": null,
   "id": "cdce2f16-7a1a-4d6b-86c4-e6362dc7ba0c",
   "metadata": {},
   "outputs": [],
   "source": [
    "#pandas df for plotting store locations\n",
    "df_customer=tgdf_customer.x.y.to_pandas(all_rows= True).reset_index()\n",
    "df_customer = df_customer.rename(columns={'x_ptLoc_geom': 'lon','y_ptLoc_geom': 'lat'})\n",
    "df_customer"
   ]
  },
  {
   "cell_type": "code",
   "execution_count": null,
   "id": "cd54a5e5-d746-4f0e-aeb7-2653c40fd975",
   "metadata": {},
   "outputs": [],
   "source": [
    "fig3 = px.scatter_mapbox(df_customer, title='Customers',lat=\"lat\", lon=\"lon\", hover_name=\"id\", \n",
    "                        hover_data=[\"id\"],\n",
    "                        color_discrete_sequence=[\"black\"],zoom=8, height=300)\n",
    "fig3.update_layout(mapbox_style=\"open-street-map\", title_x=0.5,\n",
    "    title_y=0.98,)\n",
    "fig3.update_layout(margin={\"r\":0,\"t\":0,\"l\":0,\"b\":0})\n",
    "\n",
    "fig3.show()"
   ]
  },
  {
   "cell_type": "markdown",
   "id": "f8c8b347-1a51-41e2-98da-ef9d003ca295",
   "metadata": {},
   "source": [
    "<p style = 'font-size:16px;font-family:Arial;color:#00233C'>The map above shows the location of customers. We have around 300 customers in our demo."
   ]
  },
  {
   "cell_type": "markdown",
   "id": "206d7781-8c93-4d96-a954-667e9bd282c0",
   "metadata": {},
   "source": [
    "<hr style=\"height:2px;border:none;background-color:#00233C;\">"
   ]
  },
  {
   "cell_type": "markdown",
   "id": "72e64a45-c0d5-47c4-a0fb-c0764756746a",
   "metadata": {},
   "source": [
    "<p style = 'font-size:20px;font-family:Arial;color:#00233C'><b>5. Drivetime Polygons</b></p>\n"
   ]
  },
  {
   "cell_type": "markdown",
   "id": "268a7109-9d95-4473-94f3-bee699319153",
   "metadata": {},
   "source": [
    "<p style = 'font-size:16px;font-family:Arial;color:#00233C'> As stated before a drive time polygon is the area that is accessible from a starting point within a specified time threshold. We have used threshold of 5min and 10min in out demo."
   ]
  },
  {
   "cell_type": "code",
   "execution_count": null,
   "id": "fd780f1c-c303-4d07-8b46-b0b4f9a6defd",
   "metadata": {},
   "outputs": [],
   "source": [
    "tgdf_dtpoly.tdtypes"
   ]
  },
  {
   "cell_type": "code",
   "execution_count": null,
   "id": "5244f884-01bf-428c-aa76-3c87b6a18b51",
   "metadata": {},
   "outputs": [],
   "source": [
    "tgdf_dtpoly.dtypes"
   ]
  },
  {
   "cell_type": "code",
   "execution_count": null,
   "id": "28bce21d-3677-4424-9c69-da6d63488b50",
   "metadata": {},
   "outputs": [],
   "source": [
    "#tdml df to pandas df for drivetime of 5min\n",
    "df_dtpoly_5=tgdf_dtpoly[(tgdf_dtpoly.drivetime == 5)].to_pandas(all_rows= True).reset_index()"
   ]
  },
  {
   "cell_type": "code",
   "execution_count": null,
   "id": "e4be64dc-278c-4b6f-9ee6-154527c383d5",
   "metadata": {},
   "outputs": [],
   "source": [
    "df_dtpoly_5"
   ]
  },
  {
   "cell_type": "code",
   "execution_count": null,
   "id": "78d67682-d5a7-4ce3-8292-7c61c3dbda53",
   "metadata": {},
   "outputs": [],
   "source": [
    "df_dtpoly_5.dtypes"
   ]
  },
  {
   "cell_type": "code",
   "execution_count": null,
   "id": "8049bbda-d760-482d-8d60-9fc44c3d6e16",
   "metadata": {},
   "outputs": [],
   "source": [
    "df_dtpoly_5['drivetime'] = df_dtpoly_5['drivetime'].apply(str)\n",
    "fig4 = px.choropleth_mapbox(\n",
    "       geojson=gpd.GeoSeries(df_dtpoly_5[\"dtPoly\"].apply(wkt.loads)).__geo_interface__,\n",
    "       locations=df_dtpoly_5.index, opacity =0.4,\n",
    "       color=df_dtpoly_5[\"drivetime\"],\n",
    "       color_discrete_sequence=[\"red\", \"blue\"],\n",
    "       title = \"Customer drivetime polygons of 5min\",zoom=8, height=300)\n",
    "fig4.update_layout(mapbox_style=\"open-street-map\", title_x=0.5,\n",
    "    title_y=0.98,mapbox_center = {\"lon\": -84, \"lat\": 34},)\n",
    "fig4.update_layout(margin={\"r\":0,\"t\":0,\"l\":0,\"b\":0})\n",
    "fig4.show()"
   ]
  },
  {
   "cell_type": "markdown",
   "id": "14a37889-0f6a-4575-ad76-b30e63fb1a47",
   "metadata": {},
   "source": [
    "<p style = 'font-size:16px;font-family:Arial;color:#00233C'>The above map shows the drivetime polygons of 5min from the competitor store. The customers within these polygons most likely to share their spend with the competitor stores."
   ]
  },
  {
   "cell_type": "code",
   "execution_count": null,
   "id": "1fa2f000-4c1b-4bf8-a38c-9b41a2ecfc26",
   "metadata": {},
   "outputs": [],
   "source": [
    "df_dtpoly_10=tgdf_dtpoly[(tgdf_dtpoly.drivetime == 10)].to_pandas(all_rows= True).reset_index()\n",
    "df_dtpoly_10['drivetime'] = df_dtpoly_10['drivetime'].apply(str)\n",
    "fig5 = px.choropleth_mapbox(\n",
    "       geojson=gpd.GeoSeries(df_dtpoly_10[\"dtPoly\"].apply(wkt.loads)).__geo_interface__,\n",
    "       locations=df_dtpoly_10.index, opacity =0.4,\n",
    "       color=df_dtpoly_10[\"drivetime\"],\n",
    "       color_discrete_sequence=[\"blue\" , \"red\"],\n",
    "       title = \"Customer drivetime polygons of 10min\",zoom=8, height=300)\n",
    "fig5.update_layout(mapbox_style=\"open-street-map\", title_x=0.5,\n",
    "    title_y=0.98,mapbox_center = {\"lon\": -84, \"lat\": 34},)\n",
    "fig5.update_layout(margin={\"r\":0,\"t\":0,\"l\":0,\"b\":0})\n",
    "fig5.show()"
   ]
  },
  {
   "cell_type": "markdown",
   "id": "2d29fc4c-3abc-4004-9970-36b16a9a0474",
   "metadata": {},
   "source": [
    "<p style = 'font-size:16px;font-family:Arial;color:#00233C'>The above map shows the drivetime polygons of 10min from the competitor store. "
   ]
  },
  {
   "cell_type": "markdown",
   "id": "5bd2017b-0be6-4ebe-be4b-bfaa58fe6b17",
   "metadata": {},
   "source": [
    "<p style = 'font-size:20px;font-family:Arial;color:#00233C'>Combining all of the maps together</p>\n"
   ]
  },
  {
   "cell_type": "markdown",
   "id": "9392226f-99ea-4dd7-83cf-2307eb34f737",
   "metadata": {},
   "source": [
    "<p style = 'font-size:16px;font-family:Arial;color:#00233C'>We have seen all the maps individually now lets take a look at them in a single map for better understanding."
   ]
  },
  {
   "cell_type": "code",
   "execution_count": null,
   "id": "2eab8019-4248-4243-98ad-9bfb6961ec66",
   "metadata": {},
   "outputs": [],
   "source": [
    "# Create checkbox widgets for each figure\n",
    "checkbox_fig1 = widgets.Checkbox(value=True, description=\"My Stores(Blue Marker)\")\n",
    "checkbox_fig2 = widgets.Checkbox(value=True, description=\"Competitor Stores(Red Marker)\")\n",
    "checkbox_fig3 = widgets.Checkbox(value=True, description=\"Customers(Black Marker)\")\n",
    "checkbox_fig4 = widgets.Checkbox(value=True, description=\"Drivetime Polygon of 5min\")\n",
    "checkbox_fig5 = widgets.Checkbox(value=True, description=\"Drivetime Polygon of 10min\")\n",
    "\n",
    "# Function to update the displayed figures based on checkbox options\n",
    "def update_displayed_figures(change=None):\n",
    "   \n",
    "    # Create a new combined figure based on the selected checkboxes\n",
    "    combined_fig = go.Figure()\n",
    "    \n",
    "    if checkbox_fig1.value:\n",
    "        for trace in fig1.data:\n",
    "            combined_fig.add_trace(trace)\n",
    "    if checkbox_fig2.value:\n",
    "        for trace in fig2.data:\n",
    "            combined_fig.add_trace(trace)\n",
    "    if checkbox_fig3.value:\n",
    "        for trace in fig3.data:\n",
    "            combined_fig.add_trace(trace)\n",
    "    if checkbox_fig4.value:\n",
    "        for trace in fig4.data:\n",
    "            combined_fig.add_trace(trace)\n",
    "    if checkbox_fig5.value:\n",
    "        for trace in fig5.data:\n",
    "            combined_fig.add_trace(trace)        \n",
    "\n",
    "    combined_fig.update_layout(height= 800,mapbox_style=\"open-street-map\",title = \"Competitor Proximity Analysis\",\n",
    "                               title_x=0.1,title_y=0.98,\n",
    "                               title_font=dict(color='black', size=24),\n",
    "                               mapbox_center = {\"lon\": -84.35, \"lat\": 34}, mapbox_zoom = 9, \n",
    "                               )\n",
    "    combined_fig.update_layout(margin={\"r\":0,\"t\":0,\"l\":0,\"b\":0})\n",
    "    # Display the combined figure\n",
    "    with output:\n",
    "        output.clear_output(wait=True)\n",
    "        display(combined_fig)\n",
    "\n",
    "# Attach the function to the checkboxes' change events\n",
    "checkbox_fig1.observe(update_displayed_figures)\n",
    "checkbox_fig2.observe(update_displayed_figures)\n",
    "checkbox_fig3.observe(update_displayed_figures)\n",
    "checkbox_fig4.observe(update_displayed_figures)\n",
    "checkbox_fig5.observe(update_displayed_figures)\n",
    "\n",
    "# Display the checkboxes and the initial combined figure\n",
    "output = widgets.Output()\n",
    "\n",
    "# Arrange the layout to display checkboxes above the combined figure\n",
    "checkboxes_container = widgets.VBox([checkbox_fig1, checkbox_fig2, checkbox_fig3, checkbox_fig4,checkbox_fig5])\n",
    "display(checkboxes_container, output)\n",
    "\n",
    "# Display the initial combined figure\n",
    "update_displayed_figures()\n"
   ]
  },
  {
   "cell_type": "markdown",
   "id": "ca737ec3-2297-451f-90bf-c041fab0e2dc",
   "metadata": {},
   "source": [
    "<p style = 'font-size:16px;font-family:Arial;color:#00233C'>We can check/uncheck the underlaying data for the map above depending upon the our analysis."
   ]
  },
  {
   "cell_type": "markdown",
   "id": "4df033f3-acbb-4827-abab-916d033cb008",
   "metadata": {},
   "source": [
    "<p style = 'font-size:20px;font-family:Arial;color:#00233C'><b>6. Profiling Analysis</b></p>\n",
    "<p style = 'font-size:18px;font-family:Arial'><b>6.1 Customer Spend</b></p>\n",
    "<p style = 'font-size:16px;font-family:Arial;color:#00233C'>We will perform some simple profiling of the spend data for the poplulation of customers as a whole using Teradata's Vantage Analytic Library (VAL). This will give us some insight on how the customer spend is affected with the presence of competitor store in the vicinity. We will use Vantage's Analytic Library which has over 50 advanced analytic functions.</p>\n",
    "</hr>"
   ]
  },
  {
   "cell_type": "code",
   "execution_count": null,
   "id": "115b8624-6f85-491a-b144-b170fae8e99c",
   "metadata": {},
   "outputs": [],
   "source": [
    "from teradataml import *\n",
    "from teradataml.analytics.valib import *\n",
    "\n",
    "# Point teradataml to the install database of the VAL library\n",
    "from teradataml import configure\n",
    "configure.val_install_location = \"val\"\n",
    "\n",
    "from teradataml import valib"
   ]
  },
  {
   "cell_type": "code",
   "execution_count": null,
   "id": "14c6c004-a610-4a88-9a5c-bd1b7f097d45",
   "metadata": {},
   "outputs": [],
   "source": [
    "# Profile the spend data of customers\n",
    "\n",
    "obj = valib.Explore(data=tgdf_customer, columns='spend')\n",
    " \n",
    "# Print the frequency results.\n",
    "print(obj.frequency_output)\n",
    " \n",
    "# Print the histogram results.\n",
    "print(obj.histogram_output)\n",
    " \n",
    "# Print the statistics results.\n",
    "print(obj.statistics_output)\n",
    " \n",
    "# Print the values results.\n",
    "print(obj.values_output)"
   ]
  },
  {
   "cell_type": "code",
   "execution_count": null,
   "id": "53a2560f-ea9d-42eb-8a3a-f185c843244f",
   "metadata": {},
   "outputs": [],
   "source": [
    "# Show query associated with calling into VAL\n",
    "\n",
    "obj.show_query()"
   ]
  },
  {
   "cell_type": "markdown",
   "id": "f9cdfcd0-a0f4-4fd2-9865-0b1149eeb398",
   "metadata": {},
   "source": [
    "<p style = 'font-size:16px;font-family:Arial;color:#00233C'>Data Explorer is a VAL function that performs basic statistical analysis on a set of tables/columns."
   ]
  },
  {
   "cell_type": "code",
   "execution_count": null,
   "id": "4a7edaf7-2c1d-413f-933a-8f786c0e5c46",
   "metadata": {},
   "outputs": [],
   "source": [
    "from sqlalchemy import create_engine\n",
    "from sqlalchemy import func\n",
    "\n",
    "import seaborn as sns\n",
    "import matplotlib.pyplot as plt\n",
    "%matplotlib inline"
   ]
  },
  {
   "cell_type": "code",
   "execution_count": null,
   "id": "b85985b5-7614-4e7e-b977-98c87e614fe5",
   "metadata": {},
   "outputs": [],
   "source": [
    "#define histogram function\n",
    "\n",
    "def plot_distribution(inp):\n",
    "    plt.figure()\n",
    "    ax = sns.distplot(inp,bins=10)\n",
    "    plt.axvline(np.mean(inp), color=\"k\", linestyle=\"dashed\", linewidth=5)\n",
    "    _, max_ = plt.ylim()\n",
    "    plt.text(\n",
    "        inp.mean() + inp.mean() / 10,\n",
    "        max_ - max_ / 10,\n",
    "        \"Mean: {:.2f}\".format(inp.mean()),\n",
    "    )\n",
    "    return plt.figure"
   ]
  },
  {
   "cell_type": "code",
   "execution_count": null,
   "id": "7ff4758c-9a1a-421d-b9fb-ee341149790f",
   "metadata": {},
   "outputs": [],
   "source": [
    "# Plot empirical distribution of spend for entire customer population\n",
    "\n",
    "plot_distribution(tgdf_customer.to_pandas().spend)"
   ]
  },
  {
   "cell_type": "markdown",
   "id": "6f175c52-8be9-4941-a0e2-4d2027fabebe",
   "metadata": {},
   "source": [
    "<p style = 'font-size:16px;font-family:Arial;color:#00233C'>The plot above shows the distribution of customer spend in 10bins/histograms along with the mean of each bin represented with the line."
   ]
  },
  {
   "cell_type": "markdown",
   "id": "24e94165-dc3d-46f9-92c1-477d0eb8d395",
   "metadata": {},
   "source": [
    "<hr style=\"height:1px;border:none;background-color:#00233C;\">\n",
    "<p style = 'font-size:18px;font-family:Arial'><b>6.2 Spatial division of customers</b></p>\n",
    "<p style = 'font-size:16px;font-family:Arial;color:#00233C'>Let us now do some analysis on the customer spend based on its division on proximity to the competitor. As a first step we will perform spatial computation that divides the customer population into 2 sub-populations; those with a nearby competitor and those without.<br>\n",
    "Determine which customers have a nearby competitor (5 min.) "
   ]
  },
  {
   "cell_type": "code",
   "execution_count": null,
   "id": "53ba9261-ee40-41ab-a855-da86986ad5b1",
   "metadata": {},
   "outputs": [],
   "source": [
    "#Determine which customers have a nearby competitor (5 min.) \n",
    "\n",
    "tgdf_dtpoly5 = tgdf_dtpoly[(tgdf_dtpoly.drivetime==5)]"
   ]
  },
  {
   "cell_type": "code",
   "execution_count": null,
   "id": "1f843879-59f9-4044-a383-a0974cffe9ee",
   "metadata": {},
   "outputs": [],
   "source": [
    "# Join customer dataframe with dtpoly5 dataframe\n",
    "\n",
    "cust_dtpoly5_join = tgdf_customer.join(tgdf_dtpoly5, how=\"cross\", lsuffix=\"l\", rsuffix=\"r\")"
   ]
  },
  {
   "cell_type": "code",
   "execution_count": null,
   "id": "aa510823-5801-4242-910b-8fb7f9bcadc5",
   "metadata": {},
   "outputs": [],
   "source": [
    "# show the corresponding query for the joined customer df  and 5min drivetime polygon df\n",
    "\n",
    "cust_dtpoly5_join.show_query()"
   ]
  },
  {
   "cell_type": "code",
   "execution_count": null,
   "id": "f605c88b-4620-477d-9c20-9d6522a82536",
   "metadata": {},
   "outputs": [],
   "source": [
    "cust_dtpoly5_join.dtypes"
   ]
  },
  {
   "cell_type": "code",
   "execution_count": null,
   "id": "9b0a4f7f-86cc-4252-8430-0b163d4cb501",
   "metadata": {},
   "outputs": [],
   "source": [
    "# Build 2 segments: those with a competitor nearby (5min) and those without\n",
    "\n",
    "nearby5_cust    = cust_dtpoly5_join[(cust_dtpoly5_join.ptLoc.intersects(cust_dtpoly5_join.dtPoly) == 1)]\n",
    "\n",
    "no_nearby5_cust = cust_dtpoly5_join[(cust_dtpoly5_join.ptLoc.intersects(cust_dtpoly5_join.dtPoly) == 0)]"
   ]
  },
  {
   "cell_type": "code",
   "execution_count": null,
   "id": "d09a098e-9c93-492f-ba9d-0637ab77cea6",
   "metadata": {},
   "outputs": [],
   "source": [
    "nearby5_cust.show_query()"
   ]
  },
  {
   "cell_type": "code",
   "execution_count": null,
   "id": "75d5d41f-1ef1-4e1b-a818-1b03163ffa62",
   "metadata": {},
   "outputs": [],
   "source": [
    "nearby5_cust.shape"
   ]
  },
  {
   "cell_type": "code",
   "execution_count": null,
   "id": "aac5c1ea-e0f0-4f32-bf04-3369bd32d763",
   "metadata": {},
   "outputs": [],
   "source": [
    "df_nearby5 = nearby5_cust.to_pandas()\n",
    "df_nearby5.head(5)"
   ]
  },
  {
   "cell_type": "code",
   "execution_count": null,
   "id": "4fe92e17-d148-4361-8e44-45e88a4b61cb",
   "metadata": {},
   "outputs": [],
   "source": [
    "# Histogram of spend for customer sub-population with nearby competitor.\n",
    "\n",
    "plot_distribution(df_nearby5.spend)"
   ]
  },
  {
   "cell_type": "markdown",
   "id": "7efb1d3a-a970-4fa6-9f5a-f38d5b421ad9",
   "metadata": {},
   "source": [
    "<p style = 'font-size:16px;font-family:Arial;color:#00233C'>The plot above shows the distribution of customer (with competitor near by 5min) spend in 10bins/histograms along with the mean of each bin represented with the line. Compare it with the overall spend we plotted earlier."
   ]
  },
  {
   "cell_type": "code",
   "execution_count": null,
   "id": "814ca3d2-6dd5-4a35-984e-cb730819e95d",
   "metadata": {},
   "outputs": [],
   "source": [
    "df_no_nearby5 = no_nearby5_cust.to_pandas()\n",
    "# Histogram of spend for customer sub-population without nearby competitor.\n",
    "\n",
    "plot_distribution(df_no_nearby5.spend)"
   ]
  },
  {
   "cell_type": "markdown",
   "id": "bf4b5f31-fe6f-4e8c-a421-3c845ad8b15a",
   "metadata": {},
   "source": [
    "<p style = 'font-size:16px;font-family:Arial;color:#00233C'>The plot above shows the distribution of customer (with no competitor near by 5min) spend in 10bins/histograms along with the mean of each bin represented with the line. Compare it with the overall spend we plots done earlier."
   ]
  },
  {
   "cell_type": "code",
   "execution_count": null,
   "id": "7192875f-83d3-44d9-aa67-63a8cdb90834",
   "metadata": {},
   "outputs": [],
   "source": [
    "# Overlayed histograms of spend for customer sub-populations with/without nearby competitor\n",
    "\n",
    "plt.figure()\n",
    "ax1 = sns.distplot(df_nearby5.spend)\n",
    "ax2 = sns.distplot(df_no_nearby5.spend)\n",
    "plt.axvline(np.mean(df_nearby5.spend), color='b', linestyle='dashed', linewidth=5)\n",
    "plt.axvline(np.mean(df_no_nearby5.spend), color='orange', linestyle='dashed', linewidth=5)"
   ]
  },
  {
   "cell_type": "markdown",
   "id": "cf5c429a-956e-4412-8f2e-50eb4780d8bf",
   "metadata": {},
   "source": [
    "<p style = 'font-size:16px;font-family:Arial;color:#00233C'>For better understanding let us plot both customer subdivisions distribution plots together. The plot above shows distribution for customers with competitor store in blue and with no competitor in orange."
   ]
  },
  {
   "cell_type": "markdown",
   "id": "ea01363d-47ee-4769-8b29-e6e78d04f5e0",
   "metadata": {},
   "source": [
    "<hr style=\"height:1px;border:none;background-color:#00233C;\">\n",
    "<p style = 'font-size:18px;font-family:Arial'><b>6.3 Statistical comparison of the mean spend </b></p>\n",
    "<p style = 'font-size:16px;font-family:Arial;color:#00233C'>Perform a statistical comparison of the mean spend for the 2 customers sub-populations; those with a nearby competitor and those without.</p>\n",
    "\n",
    "\n",
    "<p style = 'font-size:16px;font-family:Arial;color:#00233C'>We use VAL's parametric test functionality to perform a <i>Two-Sample T-Test for equality of the population means</i> (using <i>unpaired</i> observations from the two populations.) The comparison is couched in the form of a Hypothesis test designed to determine whether the data supports the null hypothesis (H<sub>0</sub>) that the two population means (&#956;<sub>no_nearby</sub> and &#956;<sub>nearby</sub>) are equal.  That is,</p> \n",
    "    \n",
    "<p style=\"text-align:center\">H<sub>0</sub>:  &#956;<sub>no_nearby</sub> - &#956;<sub>nearby</sub> = 0</p>\n",
    "    \n",
    "<p style = 'font-size:16px;font-family:Arial;color:#00233C'>The null hypothesis is setup as the claim we would like to reject. The alternative hypothesis (H<sub>A</sub>) is the claim supported by rejecting the null hypothesis. In this case, that could be that the two population means are simply unequal (two-tailed test) or, more particularly, that the mean spend of customers without a nearby competitor is strictly greater than the mean spend of those with a nearby competitor (one-tailed test.)  Here, the one-tailed test is more appropriate since we're looking for a particular direction in the relationship between the means of the two populations. That is,</p>\n",
    "    \n",
    "<p style=\"text-align:center\">H<sub>A</sub>:  &#956;<sub>no_nearby</sub> - &#956;<sub>nearby</sub> > 0</p>\n",
    "\n",
    "<p style = 'font-size:16px;font-family:Arial;color:#00233C'>The significance level of a hypothesis test, α, is the pre-chosen probability that we reject the null hypothesis (in favor of the alternative) when the null hypothesis is actually true. It is also called the Type I error rate.</p> \n",
    "    \n",
    "<p style=\"text-align:center\">α = Level of significance = P(Type I error) = P(Reject H<sub>0</sub> | H<sub>0</sub> is true)</p> \n",
    "\n",
    "<p style = 'font-size:16px;font-family:Arial;color:#00233C'>1-α is called the Power of the test and is the probability of accepting the null hypothesis when it is true. That is,</p>\n",
    "    \n",
    "<p style=\"text-align:center\">1-α = Power = P(Accept H<sub>0</sub> | H<sub>0</sub> is true)</p>\n",
    "    \n",
    "<p style = 'font-size:16px;font-family:Arial;color:#00233C'>The choice of the significance level α at which you reject H<sub>0</sub> is arbitrary.  Typically, .05 (less than 1 in 20 chance of being wrong), .01 and .001 levels are used. In other words, when we reject H<sub>0</sub>, we want to be confident it is because the alternative holds (even at the expense, to some degree, of failing to reject H<sub>0</sub> when the alternative holds.)</p>\n",
    "    \n",
    "<p style = 'font-size:16px;font-family:Arial;color:#00233C'>If there is no difference in the population means, then we expect outcomes of our test statistic to range between the percentile points t<sub>1</sub> and t<sub>2</sub> on a T distribution (with the appropriate degrees of freedom) corresponding to<p>\n",
    "    \n",
    "<p style=\"text-align:center\">P(T<= t<sub>1</sub>) = α/2</p>\n",
    "\n",
    "<p style = 'font-size:16px;font-family:Arial;color:#00233C'>and</p>\n",
    "    \n",
    "<p style=\"text-align:center\">P(T<=t<sub>2</sub>) = 1-α/2</p> \n",
    "    \n",
    "<p style = 'font-size:16px;font-family:Arial;color:#00233C'>respectively. Since we are using a one-tailed test, we can allocate the entire α level to the right tail of the distribution of our test statistic T to account for the fact that we are really only interested in rejecting a null hypothesis corresponding to</p>\n",
    "\n",
    "<p style=\"text-align:center\">H<sub>0</sub>:  &#956;<sub>no_nearby</sub> - &#956;<sub>nearby</sub> &ge; 0</p>\n",
    "    \n",
    "<p style = 'font-size:16px;font-family:Arial;color:#00233C'>The P-value in a test of hypothesis is a computed/looked-up probability (from a T-distribution in this case) that represents the likelihood of seeing outcomes of our test statistic that are more extreme than the value that was actually observed (when H<sub>0</sub> holds) . More precisely, the P-value is defined as the probability of our test-statistic, in general, taking on a value greater than the particular observed value of the test statistic.  That is,</p>\n",
    "    \n",
    "<p style=\"text-align:center\">P-value = P(T > t)</p>\n",
    "    \n",
    "<p style = 'font-size:16px;font-family:Arial;color:#00233C'>where t is the computed value of our test-statistic and T is a student-T random variable (with the appropriate degrees of freedom.)</p>\n",
    "    \n",
    "<p style = 'font-size:16px;font-family:Arial;color:#00233C'>When</p>\n",
    "    \n",
    "<p style=\"text-align:center\">P-Value < α</p>\n",
    "               \n",
    "<p style = 'font-size:16px;font-family:Arial;color:#00233C'>then our observed outcome does not look like an extreme outcome under H<sub>0</sub> relative to our choice for α so we fail to reject H<sub>0</sub>.   A P-value that exceeds α is an indication that the value of our test statistic appears too extreme under H<sub>0</sub> so we reject the null Hypothesis (with confidence that the likelihood of doing so incorrectly is controlled by our choice of α.)</p>"
   ]
  },
  {
   "cell_type": "code",
   "execution_count": null,
   "id": "b071c643-0f08-4c0d-9bde-67ffa3047723",
   "metadata": {},
   "outputs": [],
   "source": [
    "# Perform Parametric test of comparison of population means\n",
    "\n",
    "obj = valib.ParametricTest(data=tgdf_customer,\n",
    "                           first_column=\"spend\",\n",
    "                           paired=False,\n",
    "                           second_column=\"nearby5\",\n",
    "                           equal_variance=False,\n",
    "                           stats_database=\"val\")\n",
    " \n",
    "# Print the results.\n",
    "print(obj.result)"
   ]
  },
  {
   "cell_type": "markdown",
   "id": "037bbf04-3ad7-450b-8324-b216ba400704",
   "metadata": {},
   "source": [
    "<hr style=\"height:2px;border:none;background-color:#00233C;\">"
   ]
  },
  {
   "cell_type": "markdown",
   "id": "4227efb3-4fe0-4eb5-bae4-b4124767ce78",
   "metadata": {},
   "source": [
    "<p style = 'font-size:20px;font-family:Arial;color:#00233C'><b>7. Interpretation and Inference</b></p>\n",
    "\n",
    "<p style = 'font-size:16px;font-family:Arial;color:#00233C'>The default significance level for the test is α = 0.05.  The observed value of our test statistic is 10.4809 which has a corresponding P-Value of 0.  In other words, there is (effectively) zero probability of observing a test statistic value greater than 10.4809 when the null hypothesis of equal population means holds.  Since our P-Value (0) is less than α (.05), we reject the null hypothesis that the two population means are equal and infer the data supports the alternative that customers with no nearby competitor have a mean spend greater than the mean spend of customers with a nearby competitor.</p>\n",
    "\n",
    "<p style = 'font-size:16px;font-family:Arial;color:#00233C'>Having detected a difference in the two populations is strong justification for employing a location-based marketing campaign that targets customers with a nearby competitor with advertising material and/or promotional offers devised to influence the split spend behavior in that population of customers.</p>"
   ]
  },
  {
   "attachments": {
    "69a627ba-f92d-4d58-b30b-329ae4cd05d1.JPG": {
     "image/jpeg": "[encoded data removed]"
    }
   },
   "cell_type": "markdown",
   "id": "22bfb08b-e721-4851-ba3a-26c231e810b8",
   "metadata": {},
   "source": [
    "![T_Dist.JPG](attachment:69a627ba-f92d-4d58-b30b-329ae4cd05d1.JPG)"
   ]
  },
  {
   "cell_type": "markdown",
   "id": "15c67919-051f-40c7-ba76-c7c69ffe2a40",
   "metadata": {},
   "source": [
    "<p style = 'font-size:20px;font-family:Arial;color:#00233C'><b>8. Cleanup</b></p>"
   ]
  },
  {
   "cell_type": "markdown",
   "id": "9a257314-1bff-447a-b9b2-0cfc39283b17",
   "metadata": {},
   "source": [
    "<p style = 'font-size:16px;font-family:Arial;color:#00233C'>The following code will clean up tables and databases created above.</p>"
   ]
  },
  {
   "cell_type": "code",
   "execution_count": null,
   "id": "239d208d-337f-4a44-baab-92a62f1f8409",
   "metadata": {},
   "outputs": [],
   "source": [
    "%run -i ../run_procedure.py \"call remove_data('DEMO_Market');\" \n",
    "#Takes 10 seconds"
   ]
  },
  {
   "cell_type": "code",
   "execution_count": null,
   "id": "f58d6f72-cc67-465a-a95f-e7a006391f2d",
   "metadata": {},
   "outputs": [],
   "source": [
    "# Disconnect from Vantage\n",
    "remove_context()"
   ]
  },
  {
   "cell_type": "markdown",
   "id": "d3d74fcb-fcbe-41fa-9d3c-f46d0200f2d4",
   "metadata": {},
   "source": [
    "<p style = 'font-size:20px;font-family:Arial;color:#00233C'><b>Reference Links:</b></p>\n",
    "<ul style = 'font-size:16px;font-family:Arial;color:#00233C'> \n",
    "<li>Teradata® Geospatial Utilities User Guide: <a href = 'https://docs.teradata.com/r/Teradata-Geospatial-Utilities-User-Guide/June-2022/Teradata-Geospatial-Utilities-Overview/Welcome-to-Teradata-Tools-and-Utilities-Teradata-Geospatial-Utilities-User-Guide'>https://docs.teradata.com/r/Teradata-Geospatial-Utilities-User-Guide/June-2022/Teradata-Geospatial-Utilities-Overview/Welcome-to-Teradata-Tools-and-Utilities-Teradata-Geospatial-Utilities-User-Guide</a></li>\n",
    " <li>Vantage Analytics Library: <a href = 'https://docs.teradata.com/search/all?query=Vantage+Analytic+Library+Functions&filters=prodname~%2522Vantage+Analytics+Library%2522&content-lang=en-US'>https://docs.teradata.com/search/all?query=Vantage+Analytic+Library+Functions&filters=prodname~%2522Vantage+Analytics+Library%2522&content-lang=en-US</a></li>\n",
    "    <li>More information on Statistical Test: <a href = 'https://docs.teradata.com/r/Teradata-Warehouse-Miner-User-Guide-Volume-3Analytic-Functions/February-2018/Statistical-Tests-Teradata-Only/Parametric-Tests/Two-Sample-T-Test-for-Equal-Means'>https://docs.teradata.com/r/Teradata-Warehouse-Miner-User-Guide-Volume-3Analytic-Functions/February-2018/Statistical-Tests-Teradata-Only/Parametric-Tests/Two-Sample-T-Test-for-Equal-Means</a></li>\n",
    "</ul>"
   ]
  },
  {
   "cell_type": "markdown",
   "id": "b641ce96-fe6e-47ff-a4da-55674ee6e1be",
   "metadata": {},
   "source": [
    "<footer style=\"padding-bottom:35px; background:#f9f9f9; border-bottom:3px solid #00233C\">\n",
    "    <div style=\"float:left;margin-top:14px\">ClearScape Analytics™</div>\n",
    "    <div style=\"float:right;\">\n",
    "        <div style=\"float:left; margin-top:14px\">\n",
    "            Copyright © Teradata Corporation - 2023,2024. All Rights Reserved\n",
    "        </div>\n",
    "    </div>\n",
    "</footer>"
   ]
  }
 ],
 "metadata": {
  "kernelspec": {
   "display_name": "Python 3 (ipykernel)",
   "language": "python",
   "name": "python3"
  },
  "language_info": {
   "codemirror_mode": {
    "name": "ipython",
    "version": 3
   },
   "file_extension": ".py",
   "mimetype": "text/x-python",
   "name": "python",
   "nbconvert_exporter": "python",
   "pygments_lexer": "ipython3",
   "version": "3.9.10"
  }
 },
 "nbformat": 4,
 "nbformat_minor": 5
}
