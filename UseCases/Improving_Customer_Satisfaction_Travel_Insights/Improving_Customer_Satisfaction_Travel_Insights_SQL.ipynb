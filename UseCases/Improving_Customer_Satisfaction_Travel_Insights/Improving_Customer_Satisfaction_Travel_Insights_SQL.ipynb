{
 "cells": [
  {
   "cell_type": "markdown",
   "id": "dccde945-103d-40cd-a678-fc305efe8d42",
   "metadata": {},
   "source": [
    "<header>\n",
    "   <p  style='font-size:36px;font-family:Arial; color:#F0F0F0; background-color: #00233c; padding-left: 20pt; padding-top: 20pt;padding-bottom: 10pt; padding-right: 20pt;'>\n",
    "       Improving Customer Satisfaction Through Travel Insights.\n",
    "  <br>\n",
    "       <img id=\"teradata-logo\" src=\"https://storage.googleapis.com/clearscape_analytics_demo_data/DEMO_Logo/teradata.svg\" alt=\"Teradata\" style=\"width: 125px; height: auto; margin-top: 20pt;\">\n",
    "    </p>\n",
    "</header>"
   ]
  },
  {
   "cell_type": "markdown",
   "id": "11ee323e-389e-473d-bfd3-5d00f0467065",
   "metadata": {},
   "source": [
    "<p style = 'font-size:20px;font-family:Arial'><b>Introduction</b></p>\n",
    "\n",
    "<p style = 'font-size:16px;font-family:Arial'>Banks with a wide network of branches and service centers often aim to enhance customer satisfaction by understanding factors that influence service experience. One key area of interest is the <b>relationship between customer travel distance and complaint behavior</b>. For example, customers who travel longer distances to reach their designated branch or service center may experience greater inconvenience, potentially leading to higher complaint rates. The objective is to analyze:<b> How far customers travel to access banking services, whether longer travel correlates with higher dissatisfaction, and if it is possible to predict which customers are likely to raise complaints</b>.</p>\n",
    "<p style = 'font-size:20px;font-family:Arial'><b>Teradata Solution Approach:</b></p>\n",
    "<p style = 'font-size:16px;font-family:Arial'>Using <b>Teradata ClearScape Analytics</b>, banks can address this challenge through a powerful, data-driven approach:\n",
    "</p>\n",
    "<ul style=\"font-size:16px;font-family:Arial\"> \n",
    "    <li><b>Geo-spatial analytics</b> in Teradata can calculate the exact travel distance and time between customer locations and their preferred branches.</li>\n",
    "    <li><b>Statistical and feature engineering capabilities</b> can uncover correlations between travel effort, demographics, and complaint frequency.</li>\n",
    "    <li><b>In-database predictive modeling</b> enables the bank to predict which customers are at higher risk of dissatisfaction or complaints, allowing proactive engagement and service improvements.</li>\n",
    "    <li><b>Natural Language Processing (NLP)</b> techniques—such as TF-IDF, embeddings, and semantic similarity—can analyze complaint text to identify common pain points and emerging issues.This integrated, in-database approach empowers banks to improve customer experience, optimize branch accessibility, and enhance operational decision-making without moving sensitive data outside the secure Teradata environment.</li>\n",
    "</ul>\n",
    "\n",
    "\n",
    "\n",
    "<p style = 'font-size:18px;font-family:Arial'><b>Steps in the analysis:</b></p>\n",
    "<ol style = 'font-size:16px;font-family:Arial'>\n",
    "    <li>Connect to Vantage and Data Loading</li>    \n",
    "    <li>Travel Data Preparation</li>\n",
    "    <li>Exploratory Data Analysis and Outlier Removal</li>\n",
    "    <li>Feature Engineering</li>\n",
    "    <li>Hypothesis Testing: Do Longer Trips Cause More Complaints?</li>\n",
    "    <li>ADS (Analytical Data Set) Creation</li>\n",
    "    <li>Balance and Sample the ADS</li>    \n",
    "    <li>Model Training and Scoring</li>\n",
    "    <li>Applying NLP: Complaint Analysis</li>\n",
    "        <ul>\n",
    "            <li>9.1 Embedding Complaint Texts</li>\n",
    "            <li>9.2 Unsupervised Topic Modeling</li>\n",
    "            <li>9.3 TF-IDF Analysis for Clustered Complaints</li>\n",
    "            <li>9.4 Supervised Topic Embedding Comparison</li>\n",
    "        </ul>\n",
    "    <li>Cleanup</li>\n",
    "</ol>"
   ]
  },
  {
   "cell_type": "markdown",
   "id": "fab91607-b6a5-476b-8128-83faf28aba91",
   "metadata": {},
   "source": [
    "<hr style=\"height:2px;border:none;\">\n",
    "<p style = 'font-size:16px;font-family:Arial;'><b>Note:</b> Before running this notebook, please ensure that the <code>Initialization_and_Model_Load.ipynb</code> notebook has been executed.</p>"
   ]
  },
  {
   "cell_type": "markdown",
   "id": "af488e36-1525-4f87-943a-5f6881283ac1",
   "metadata": {},
   "source": [
    "<hr style=\"height:2px;border:none;\">\n",
    "<p style = 'font-size:20px;font-family:Arial;'><b>1. Connect to Vantage</b></p>\n",
    "<p style = 'font-size:16px;font-family:Arial;'>Select <code>Teradata SQL</code> kernel: The Teradata SQL kernel to directly run SQL in the notebook.</p>\n",
    "<p style = 'font-size:16px;font-family:Arial;'>Begin running steps with Shift + Enter keys.You will be prompted to provide the password. Enter your password, press the Enter key, and then use the down arrow to go to the next cell.</p>"
   ]
  },
  {
   "cell_type": "code",
   "execution_count": null,
   "id": "524afbb1-89f0-4d54-8541-bfb3e42bd702",
   "metadata": {},
   "outputs": [],
   "source": [
    "%connect local, hidewarnings=True"
   ]
  },
  {
   "cell_type": "markdown",
   "id": "95f540b8-312e-40f9-885f-50c296936259",
   "metadata": {},
   "source": [
    "<p style = 'font-size:16px;font-family:Arial'>Setup session for execution of notebook. </p>"
   ]
  },
  {
   "cell_type": "code",
   "execution_count": null,
   "id": "5b6b31e6-4c38-44e7-b7e8-5159b2f6c97a",
   "metadata": {},
   "outputs": [],
   "source": [
    "Set query_band='DEMO=Improving_Customer_Satisfaction_Travel_Insights_SQL.ipynb;' update for session;"
   ]
  },
  {
   "cell_type": "markdown",
   "id": "c990c637-b638-49f5-8d8a-d49cd8b0ed65",
   "metadata": {},
   "source": [
    "<p style = 'font-size:18px;font-family:Arial;'><b>Data Setup and Loading</b></p>\n",
    "<p style = 'font-size:16px;font-family:Arial'>We have provided data for this demo on cloud storage. You can either run the demo using foreign tables to access the data without any storage on your environment or download the data to local storage, which may yield faster execution. Still, there could be considerations of available storage. Two statements are in the following cell, and one of them is commented out. You may switch between the modes by changing the comment string.</p>\n",
    "<p style = 'font-size:16px;font-family:Arial;'>Load relevant tables (complaints, trips_geo) from <code>DEMO_Cust_Travel</code>.</p>"
   ]
  },
  {
   "cell_type": "code",
   "execution_count": null,
   "id": "2ef09552-bdbd-405b-af53-cb3eec78a2e5",
   "metadata": {},
   "outputs": [],
   "source": [
    "--call get_data('DEMO_Cust_Travel_cloud');           -- Takes 30 seconds\n",
    "call get_data('DEMO_Cust_Travel_local');                   -- Takes 1 minutes"
   ]
  },
  {
   "cell_type": "markdown",
   "id": "3c3cfb81-cda4-47dc-a22c-65c0b0d0680e",
   "metadata": {},
   "source": [
    "<p style = 'font-size:16px;font-family:Arial'>Optional step – if you want to see status of databases/tables created and space used.</p>"
   ]
  },
  {
   "cell_type": "code",
   "execution_count": null,
   "id": "3dec0aa0-8efb-4ae9-be6c-f576341050a5",
   "metadata": {},
   "outputs": [],
   "source": [
    "call space_report();          -- Takes 5 seconds"
   ]
  },
  {
   "cell_type": "markdown",
   "id": "396738a9-9b04-4d18-8cf4-d9145195311e",
   "metadata": {},
   "source": [
    "<p style = 'font-size:16px;font-family:Arial;'><b>Preview data samples.</b></p>\n",
    "<p style = 'font-size:16px;font-family:Arial'>We've preloaded the tables required for analysis under Database Demo_Cust_Travel.</p>"
   ]
  },
  {
   "cell_type": "code",
   "execution_count": null,
   "id": "40eea95b-a099-4f68-aded-c4fe4e3b269b",
   "metadata": {},
   "outputs": [],
   "source": [
    "help Database DEMO_Cust_Travel; "
   ]
  },
  {
   "cell_type": "code",
   "execution_count": null,
   "id": "c799e885-33e5-4aab-8e3a-58370a865696",
   "metadata": {},
   "outputs": [],
   "source": [
    "Select * from DEMO_Cust_Travel.Trips_Geo sample 5;"
   ]
  },
  {
   "cell_type": "code",
   "execution_count": null,
   "id": "4083a24e-fa35-4de4-bfe1-b02754306e08",
   "metadata": {},
   "outputs": [],
   "source": [
    "Select * from DEMO_Cust_Travel.Complaints sample 5;"
   ]
  },
  {
   "cell_type": "markdown",
   "id": "bf769b70-a60b-4f29-b399-c9ee96e1697e",
   "metadata": {},
   "source": [
    "<hr style=\"height:2px;border:none;\">\n",
    "<p style = 'font-size:20px;font-family:Arial;'><b>2. Travel Data Preparation</b></p>\n",
    "<p style = 'font-size:16px;font-family:Arial;'>Create a new TRAVEL table by filtering and formatting trip data to include only valid trips associated with complaints. Ensure that all entries have non-null origin and destination locations and valid trip durations.</p>"
   ]
  },
  {
   "cell_type": "code",
   "execution_count": null,
   "id": "c6e0f5ca-85c9-47d5-af1e-585889b1a3df",
   "metadata": {},
   "outputs": [],
   "source": [
    "--comment the next line if the table doesn't exist.\n",
    "--drop table TRAVEL;"
   ]
  },
  {
   "cell_type": "code",
   "execution_count": null,
   "id": "ec769539-3772-490c-831d-758f46e36917",
   "metadata": {},
   "outputs": [],
   "source": [
    "-- Join Trips_Geo with Complaints on the person_id\n",
    "-- Create the TRAVEL table\n",
    "\n",
    "CREATE MULTISET TABLE TRAVEL AS(\n",
    "    Select person_id as person_id\n",
    "    ,trip_id\n",
    "    , CAST(CAST(start_time AS TIMESTAMP(6) FORMAT 'YYYY-MM-DDBHH:MI:SS.S(6)') as DATE format 'DD-MM-YYYY') as start_time\n",
    "    , CAST(CAST(end_time AS TIMESTAMP(6) FORMAT 'YYYY-MM-DDBHH:MI:SS.S(6)') as DATE format 'DD-MM-YYYY') as end_time\n",
    "    ,duration_minutes\n",
    "    ,start_location\n",
    "    ,end_location   \n",
    "FROM DEMO_Cust_Travel.Trips_Geo\n",
    "    WHERE 1=1 \n",
    "    AND person_id is in (Select person_id from DEMO_Cust_Travel.complaints)\n",
    "    AND start_location is not null\n",
    "    AND end_location is not null\n",
    "    AND duration_minutes is not null\n",
    ")WITH DATA PRIMARY INDEX (person_id,end_time)\n"
   ]
  },
  {
   "cell_type": "code",
   "execution_count": null,
   "id": "35e687f7-4501-4c57-943c-6333bc75a308",
   "metadata": {},
   "outputs": [],
   "source": [
    "Select TOP 5 * FROM TRAVEL;"
   ]
  },
  {
   "cell_type": "markdown",
   "id": "1da09bfe-7107-4313-b471-3ce8bd2feae4",
   "metadata": {},
   "source": [
    "<hr style=\"height:2px;border:none;\">\n",
    "<p style = 'font-size:20px;font-family:Arial;'><b>3. Exploratory Data Analysis and Outlier Removal</b></p>\n",
    "<p style = 'font-size:16px;font-family:Arial;'>Analyze distribution of trip durations with TD_Histogram.</p>"
   ]
  },
  {
   "cell_type": "code",
   "execution_count": null,
   "id": "779a5fae",
   "metadata": {
    "tags": []
   },
   "outputs": [],
   "source": [
    "SELECT top 20 * FROM TD_Histogram(\n",
    "    ON TRAVEL as InputTable\n",
    "    USING\n",
    "        TargetColumn('duration_minutes')\n",
    "        MethodType('SCOTT')\n",
    ") as dt;"
   ]
  },
  {
   "cell_type": "markdown",
   "id": "8641b64f-3c3a-40bc-b495-7654175d9d1a",
   "metadata": {},
   "source": [
    "<p style = 'font-size:16px;font-family:Arial;'>Detect and replace outliers using TD_OutlierFilterFit and TD_OutlierFilterTransform functions. After outlier treatment, compare the mean trip durations before and after the outlier removal to assess the impact of filtering.</p>"
   ]
  },
  {
   "cell_type": "code",
   "execution_count": null,
   "id": "fc18c09b",
   "metadata": {},
   "outputs": [],
   "source": [
    "--comment the next line if the table doesn't exist.\n",
    "--drop table outlier_fit;"
   ]
  },
  {
   "cell_type": "code",
   "execution_count": null,
   "id": "abc9a783",
   "metadata": {
    "tags": []
   },
   "outputs": [],
   "source": [
    "SELECT * FROM TD_OutlierFilterFit (\n",
    "      ON TRAVEL AS InputTable\n",
    "      OUT TABLE OutputTable (outlier_fit)\n",
    "      USING\n",
    "          TargetColumns ('duration_minutes')\n",
    "          LowerPercentile (0.25)\n",
    "          UpperPercentile (0.75)\n",
    "          OutlierMethod ('Percentile')\n",
    "          ReplacementValue ('median')\n",
    "          PercentileMethod ('PercentileCont')\n",
    " ) AS dt;"
   ]
  },
  {
   "cell_type": "code",
   "execution_count": null,
   "id": "112e327f",
   "metadata": {
    "tags": []
   },
   "outputs": [],
   "source": [
    "select top 5 * from outlier_fit"
   ]
  },
  {
   "cell_type": "markdown",
   "id": "3dc64b34",
   "metadata": {},
   "source": [
    "<p style = 'font-size:16px;font-family:Arial;'><b>Filter the data using the fit table.</b><p>"
   ]
  },
  {
   "cell_type": "code",
   "execution_count": null,
   "id": "3d87b732",
   "metadata": {},
   "outputs": [],
   "source": [
    "--comment the line if the table doesn't exist\n",
    "--drop table TRAVEL_Filtered;"
   ]
  },
  {
   "cell_type": "code",
   "execution_count": null,
   "id": "ded3aa73",
   "metadata": {
    "tags": []
   },
   "outputs": [],
   "source": [
    "create table TRAVEL_Filtered as (\n",
    "SELECT * FROM TD_OutlierFilterTransform (\n",
    "  ON TRAVEL AS InputTable PARTITION BY ANY\n",
    "  ON outlier_fit AS FitTable DIMENSION\n",
    ") AS dt) with data;"
   ]
  },
  {
   "cell_type": "markdown",
   "id": "bf81a6b6",
   "metadata": {},
   "source": [
    "<p style = 'font-size:16px;font-family:Arial;'>Experience the change in mean value of the duration_minutes before and after the outlier removal.<p>"
   ]
  },
  {
   "cell_type": "code",
   "execution_count": null,
   "id": "aa8b2b34",
   "metadata": {
    "tags": []
   },
   "outputs": [],
   "source": [
    "Select average(duration_minutes) from TRAVEL;"
   ]
  },
  {
   "cell_type": "code",
   "execution_count": null,
   "id": "3d37e26c",
   "metadata": {
    "tags": []
   },
   "outputs": [],
   "source": [
    "Select average(duration_minutes) from TRAVEL_Filtered"
   ]
  },
  {
   "cell_type": "markdown",
   "id": "27ac7a71-6ca3-473d-b7af-22ca450b0d6f",
   "metadata": {},
   "source": [
    "<hr style=\"height:2px;border:none;\">\n",
    "<p style = 'font-size:20px;font-family:Arial;'><b>4. Feature Engineering</b></p>\n",
    "<p style = 'font-size:16px;font-family:Arial;'>Data Exploration and Feature Creation with TD_UnivariateStatistics.</p>\n"
   ]
  },
  {
   "cell_type": "code",
   "execution_count": null,
   "id": "42e0c960",
   "metadata": {
    "tags": []
   },
   "outputs": [],
   "source": [
    "SELECT * FROM TD_UnivariateStatistics (\n",
    "  ON TRAVEL AS InputTable\n",
    "  USING\n",
    "  TargetColumns ('duration_minutes')\n",
    "  Stats ('MEAN', 'STD', 'MODE','PERCENTILES')\n",
    ") AS dt;"
   ]
  },
  {
   "cell_type": "markdown",
   "id": "0e2e1520-fce3-45de-a774-9c815ac75fac",
   "metadata": {},
   "source": [
    "\n",
    "<p style = 'font-size:16px;font-family:Arial;'>Compute Distance Travelled.</p>\n",
    "<p style = 'font-size:16px;font-family:Arial;'>Compute geodesic distance between start and end locations for each trip.</p>"
   ]
  },
  {
   "cell_type": "code",
   "execution_count": null,
   "id": "b33f4cbe",
   "metadata": {},
   "outputs": [],
   "source": [
    "-- comment the next line if the table doesn't exist\n",
    "--drop table DISTANCE_TRAVELED;"
   ]
  },
  {
   "cell_type": "code",
   "execution_count": null,
   "id": "255889c3",
   "metadata": {
    "tags": []
   },
   "outputs": [],
   "source": [
    "CREATE TABLE DISTANCE_TRAVELED AS(\n",
    "Select dt.* \n",
    "    --How far they travel?\n",
    "    ,start_location.ST_SPHERICALDISTANCE(end_location)/1000.00 As Distance_In_km  \n",
    "    \n",
    "-- We dont need trip_id column    \n",
    "FROM Antiselect (\n",
    "  ON TRAVEL\n",
    "  USING\n",
    "      Exclude ('trip_id')\n",
    ") AS dt \n",
    ")WITH DATA PRIMARY INDEX(person_id);"
   ]
  },
  {
   "cell_type": "code",
   "execution_count": null,
   "id": "3a08c601",
   "metadata": {
    "tags": []
   },
   "outputs": [],
   "source": [
    "Select * from DISTANCE_TRAVELED sample 10;"
   ]
  },
  {
   "cell_type": "code",
   "execution_count": null,
   "id": "abd61704",
   "metadata": {
    "tags": []
   },
   "outputs": [],
   "source": [
    "Select avg(Distance_In_km) from DISTANCE_TRAVELED;"
   ]
  },
  {
   "cell_type": "markdown",
   "id": "aee1cc9f-c6d3-472d-b410-f1bbaf9f43a9",
   "metadata": {},
   "source": [
    "\n",
    "<p style = 'font-size:16px;font-family:Arial;'>Standard Scaling of Travel Distances.</p>\n",
    "\n",
    "<p style = 'font-size:16px;font-family:Arial;'>Apply z-score scaling to standardize the distance values using the val.td_analyze function. Store the resulting transformed data in the travel_distance_transformed table.</p>"
   ]
  },
  {
   "cell_type": "code",
   "execution_count": null,
   "id": "bcb9987d",
   "metadata": {
    "tags": []
   },
   "outputs": [],
   "source": [
    "call val.td_analyze (\n",
    "    'vartran',\n",
    "    'database = demo_user;\n",
    "    tablename = DISTANCE_TRAVELED;\n",
    "    retain = columns (end_time,start_time);\n",
    "    outputstyle =  table;\n",
    "    outputdatabase = demo_user;\n",
    "    outputtablename = travel_distance_transformed;\n",
    "    \n",
    "    zscore = columns (Distance_In_km);'\n",
    ");"
   ]
  },
  {
   "cell_type": "code",
   "execution_count": null,
   "id": "0c2a4db1",
   "metadata": {
    "tags": []
   },
   "outputs": [],
   "source": [
    "Select top 5 * FROM travel_distance_transformed;"
   ]
  },
  {
   "cell_type": "markdown",
   "id": "4644f406-7d7a-48da-99c6-e3bdb6aa0b06",
   "metadata": {},
   "source": [
    "<hr style=\"height:2px;border:none;\">\n",
    "<p style = 'font-size:20px;font-family:Arial;'><b>5. Hypothesis Testing.</b></p>\n",
    "<p style = 'font-size:16px;font-family:Arial;'>Create a frequency distribution of person's complaints after they have traveled longer distances vs shorter distances to reach business facilities.</p>\n",
    "<p style = 'font-size:16px;font-family:Arial;'>Then link trips to the nearest post-trip complaint, classify complaints by whether they followed short or long trips, and aggregate counts of these complaints by person.</p>\n",
    "<p style = 'font-size:16px;font-family:Arial;'>Do Longer/Shorter Trips result in more complaints?</p>\n"
   ]
  },
  {
   "cell_type": "code",
   "execution_count": null,
   "id": "67683af4",
   "metadata": {},
   "outputs": [],
   "source": [
    "--comment the next line if the table doesn't exist.\n",
    "--drop table complains_after_trip;"
   ]
  },
  {
   "cell_type": "code",
   "execution_count": null,
   "id": "e8da997e",
   "metadata": {},
   "outputs": [],
   "source": [
    "CREATE TABLE complains_after_trip AS( \n",
    "Select person_id\n",
    "    ,sum(comp_aft_short)AS num_cmpl_short_trip\n",
    "    ,sum(comp_aft_long)AS num_cmpl_long_trip\n",
    "FROM\n",
    "\n",
    "(Select person_id\n",
    "    --Number of complaints after short trips\n",
    "    ,CASE WHEN Distance_In_km <0.5 THEN 1 ELSE 0 END AS comp_aft_short\n",
    "    \n",
    "    --Number of complaints after long trips\n",
    "    ,CASE WHEN Distance_In_km >= 0.5 THEN 1 ELSE 0 END  AS comp_aft_long\n",
    "\n",
    "FROM (\n",
    "    Select a.person_id\n",
    "    ,end_trip\n",
    "    ,date_received\n",
    "    \n",
    "    --get a trip closest to a complain\n",
    "    ,date_received - end_trip as time_lapce\n",
    "    ,Distance_In_km\n",
    "    ,row_number() OVER(partition by a.person_id, date_received order by time_lapce asc) as rn\n",
    "\n",
    "    FROM\n",
    "    (Select person_id \n",
    "        ,CAST(end_time as DATE) as end_trip \n",
    "        ,Distance_In_km\n",
    "    FROM travel_distance_transformed \n",
    "    ) as a\n",
    "    \n",
    "LEFT OUTER JOIN \n",
    "    (Select person_id, date_received FROM DEMO_Cust_Travel.complaints\n",
    "    ) as b\n",
    "    \n",
    "    ON a.person_id = b.person_id\n",
    "    AND date_received >= end_trip -- trip is before happen before complaint received\n",
    "    \n",
    ") as tb\n",
    "    \n",
    "WHERE time_lapce is not null\n",
    "AND rn = 1\n",
    "    \n",
    ") as tbl2\n",
    "GROUP BY 1\n",
    ")WITH DATA PRIMARY INDEX(person_id);\n"
   ]
  },
  {
   "cell_type": "markdown",
   "id": "5d9ea730",
   "metadata": {},
   "source": [
    "<p style = 'font-size:16px;font-family:Arial;'>A glimpse of the frequency distribution: Number of complaints persons make after traveling short distances vs long distances.</p>"
   ]
  },
  {
   "cell_type": "code",
   "execution_count": null,
   "id": "7f8d4879",
   "metadata": {
    "tags": []
   },
   "outputs": [],
   "source": [
    "Select TOP 5 * from complains_after_trip;"
   ]
  },
  {
   "cell_type": "markdown",
   "id": "33dab514",
   "metadata": {},
   "source": [
    "<p style = 'font-size:16px;font-family:Arial;'>How many complains with long and short distance traveled?</p>"
   ]
  },
  {
   "cell_type": "code",
   "execution_count": null,
   "id": "b51ee204",
   "metadata": {},
   "outputs": [],
   "source": [
    "Select sum(num_cmpl_long_trip) as total_num_cmpl_long_trip , sum(num_cmpl_short_trip) as total_num_cmpl_short_trip FROM complains_after_trip;"
   ]
  },
  {
   "cell_type": "markdown",
   "id": "73ecaea1",
   "metadata": {},
   "source": [
    "\n",
    "<p style = 'font-size:16px;font-family:Arial;'>We can use the wilcoxon rank test to <b>test the NULL Hypothesis that the distribution of number of complaints for short distance travel are the same as compared to long distance</b>.</p>"
   ]
  },
  {
   "cell_type": "code",
   "execution_count": null,
   "id": "728837bc",
   "metadata": {},
   "outputs": [],
   "source": [
    "call val.td_analyze (\n",
    "  'parametrictest',\n",
    "  'database = demo_user;\n",
    "   tablename = complains_after_trip;\n",
    "   firstcolumn = num_cmpl_short_trip;\n",
    "   secondcolumn = num_cmpl_long_trip;\n",
    "   paired = false;\n",
    "   equalvariance = false;\n",
    "   statsdatabase = val;\n",
    "   outputdatabase = demo_user;\n",
    "   outputtablename = p_test;'\n",
    ");"
   ]
  },
  {
   "cell_type": "markdown",
   "id": "efe02bc6",
   "metadata": {},
   "source": [
    "<p style = 'font-size:16px;font-family:Arial;'>Rank test result:<br>\n",
    "a=accept null hypothesis,<br>\n",
    "p=reject null hypothesis (positive),<br>\n",
    "n=reject null hypothesis (negative)</p>"
   ]
  },
  {
   "cell_type": "markdown",
   "id": "c6695c08",
   "metadata": {},
   "source": [
    "<p style = 'font-size:16px;font-family:Arial;'><b>Interpretation</b></p>\n",
    "<p style = 'font-size:16px;font-family:Arial;'>- Mean rank of num_cmpl_short_trip is lower than the mean rank of num_cmpl_long_trip.</p>\n",
    "<p style = 'font-size:16px;font-family:Arial;'>- So people do complain more after long trips compared to after short trips.</p>"
   ]
  },
  {
   "cell_type": "code",
   "execution_count": null,
   "id": "5083bd0a",
   "metadata": {},
   "outputs": [],
   "source": [
    "Select * from p_test;"
   ]
  },
  {
   "cell_type": "markdown",
   "id": "3fe49596",
   "metadata": {},
   "source": [
    "<p style = 'font-size:16px;font-family:Arial;'><b>Predictive Modeling</b></p>\n",
    "<p style = 'font-size:16px;font-family:Arial;'>A concocted use-case: Predict whether a customer is likely to complain.</p>"
   ]
  },
  {
   "cell_type": "markdown",
   "id": "436566b1",
   "metadata": {},
   "source": [
    "<p style = 'font-size:16px;font-family:Arial;'><b>Build a Predictive modelling using Vantage and ClearScape analytics (Two Ways):</b></p>\n",
    "<p style = 'font-size:16px;font-family:Arial'><b>Method 1: In Vantage:</b></p>\n",
    "<ul style = 'font-size:16px;font-family:Arial'> By analyzing the customer trip data we will predict who will complain in the future. Train the model in Vantage. </ul>\n",
    "<p style = 'font-size:16px;font-family:Arial'><b>Method 2: BYOM – Run External Predictive Models in Vantage:</b></p>\n",
    "<ul style = 'font-size:16px;font-family:Arial'> We will do the same but prepare a model externally and train the model externally and then export it to Vantage for scoring. </ul>"
   ]
  },
  {
   "cell_type": "markdown",
   "id": "5cf11522",
   "metadata": {},
   "source": [
    "<hr style=\"height:2px;border:none;\">\n",
    "<p style = 'font-size:16px;font-family:Arial'><b>Method 1: In Vantage:</b></p>\n",
    "<p style = 'font-size:16px;font-family:Arial;'> Create additional features.</p>\n",
    "<ul style = 'font-size:16px;font-family:Arial'>- Number of previous complaints</ul>\n",
    "<ul style = 'font-size:16px;font-family:Arial'>- Average distance traveled</ul>\n",
    "<ul style = 'font-size:16px;font-family:Arial'>- STD of ditance traveled</ul>\n",
    "<ul style = 'font-size:16px;font-family:Arial'>- Number of trips</ul>\n",
    "<ul style = 'font-size:16px;font-family:Arial'>- Change in trips over time. Represented by the slope of regression</ul>\n",
    "    \n",
    "<p style = 'font-size:16px;font-family:Arial'> Responce variable have complained</p>\n",
    "<ul style = 'font-size:16px;font-family:Arial'>- Train a model</ul>\n",
    "<ul style = 'font-size:16px;font-family:Arial'>- Validate a model</ul>"
   ]
  },
  {
   "cell_type": "code",
   "execution_count": null,
   "id": "5ef5d88f",
   "metadata": {
    "tags": []
   },
   "outputs": [],
   "source": [
    "Select * from travel_distance_transformed sample 10;"
   ]
  },
  {
   "cell_type": "code",
   "execution_count": null,
   "id": "23c0ba51",
   "metadata": {
    "tags": []
   },
   "outputs": [],
   "source": [
    "Select * from DEMO_Cust_Travel.complaints sample 5;"
   ]
  },
  {
   "cell_type": "markdown",
   "id": "3bcef282-4f80-4a75-b307-bb042f8c1aeb",
   "metadata": {},
   "source": [
    "<hr style=\"height:2px;border:none;\">\n",
    "<p style = 'font-size:20px;font-family:Arial;'><b>6. ADS (Analytical Data Set) Creation.</b></p>\n",
    "<p style = 'font-size:18px;font-family:Arial;'>Create a frequency distribution of person's DEMO_Cust_Travel.complaints after they have traveled longer distances vs shorter distances to reach business facilities.</p>\n",
    "<p style = 'font-size:18px;font-family:Arial;'> Engineer features like:</p>\n",
    "<li style = 'font-size:16px;font-family:Arial;'> Number of previous complaints</li>\n",
    "<li style = 'font-size:16px;font-family:Arial;'> Distance metrics (avg, stddev, trend)</li>\n",
    "<li style = 'font-size:16px;font-family:Arial;'> Number of trips, slope of distance trend</li>\n",
    "<li style = 'font-size:16px;font-family:Arial;'> Binary target (<code>has_complained</code>)</li></p>\n",
    "    \n",
    "<p style = 'font-size:18px;font-family:Arial;'>Create two versions:\n",
    "<li style = 'font-size:16px;font-family:Arial;'> Raw (<code>ADS_trip_complained</code>)</li>\n",
    "<li style = 'font-size:16px;font-family:Arial;'> Scaled (<code>ads_trips_scaled</code> using <code>TD_ScaleFit</code>)</li></p>"
   ]
  },
  {
   "cell_type": "code",
   "execution_count": null,
   "id": "126f781a",
   "metadata": {},
   "outputs": [],
   "source": [
    "--comment the next line if the table doesn't exist.\n",
    "--drop table simple_trips;"
   ]
  },
  {
   "cell_type": "code",
   "execution_count": null,
   "id": "61eba291",
   "metadata": {},
   "outputs": [],
   "source": [
    "CREATE MULTISET TABLE simple_trips as(\n",
    "    Select\n",
    "    person_id\n",
    "    ,end_time\n",
    "    ,start_time\n",
    "    ,previous_complaints \n",
    "    ,distance_norm\n",
    "    FROM\n",
    "    (Select person_id\n",
    "        ,time_lapce\n",
    "        ,num_received\n",
    "        ,row_number() OVER(partition by person_id ORDER BY end_time asc) as rn\n",
    "        ,lag(num_received) over(partition by person_id order by end_trip asc) as prev_com\n",
    "        ,CASE WHEN num_received is NULL and prev_com is NULL THEN 0\n",
    "            WHEN time_lapce = 9999 THEN prev_com\n",
    "            ELSE num_received\n",
    "            END as previous_complaints\n",
    "     \n",
    "        ,end_time\n",
    "        ,start_time\n",
    "        ,date_received\n",
    "        ,Distance_In_km as distance_norm\n",
    "\n",
    "        FROM \n",
    "        (Select a.person_id\n",
    "            ,start_time\n",
    "            ,end_time\n",
    "            ,end_trip\n",
    "            ,date_received\n",
    "            ,num_received\n",
    "            --get a trip closest to a complain\n",
    "            ,CASE WHEN date_received is NULL THEN 9999 \n",
    "                ELSE CAST(date_received AS DATE)- end_trip \n",
    "            END as time_lapce\n",
    "     \n",
    "            ,Distance_In_km\n",
    "            ,row_number() OVER(partition by a.person_id, date_received order by time_lapce asc) as rn\n",
    "            FROM\n",
    "            (Select person_id \n",
    "                ,CAST(end_time as DATE) as end_trip \n",
    "                ,start_time \n",
    "                ,end_time\n",
    "                ,Distance_In_km\n",
    "            FROM travel_distance_transformed \n",
    "            ) as a\n",
    "    \n",
    "            LEFT OUTER JOIN \n",
    "            (Select person_id\n",
    "               , date_received \n",
    "                ,count(*) over (partition by person_id\n",
    "                ORDER BY date_received asc \n",
    "                ROWS BETWEEN UNBOUNDED PRECEDING AND CURRENT ROW) as num_received\n",
    "            from DEMO_Cust_Travel.complaints\n",
    "            ) as b\n",
    "    \n",
    "            ON a.person_id = b.person_id\n",
    "            AND date_received >= end_trip -- trip is before happen before complaint received\n",
    "        ) as Tbl    \n",
    "        WHERE rn = 1\n",
    "    ) as tbl2\n",
    ")WITH DATA PRIMARY INDEX(person_id)"
   ]
  },
  {
   "cell_type": "code",
   "execution_count": null,
   "id": "fd35bd77",
   "metadata": {
    "tags": []
   },
   "outputs": [],
   "source": [
    "Select * FROM simple_trips sample 5;"
   ]
  },
  {
   "cell_type": "code",
   "execution_count": null,
   "id": "53900da2",
   "metadata": {},
   "outputs": [],
   "source": [
    "--comment the next line if the table doesn't exist\n",
    "--drop table ADS_trip_complained;"
   ]
  },
  {
   "cell_type": "code",
   "execution_count": null,
   "id": "df120506",
   "metadata": {},
   "outputs": [],
   "source": [
    "CREATE TABLE ADS_trip_complained as(\n",
    "Select distinct  a.person_id\n",
    "    ,COALESCE(previous_complaints, 0) as previous_complaints\n",
    "    ,Distance_In_km\n",
    "    ,COALESCE (AVG(a.Distance_In_km) over(partition by a.person_id) \n",
    "                ,0.0) as  avg_dist\n",
    "    ,COALESCE(STDDEV_SAMP(a.Distance_In_km) over(partition by a.person_id)\n",
    "                ,0.0) as  std_dist\n",
    "    ,COUNT(Distance_In_km) over(partition by a.person_id) as  num_trips\n",
    "    \n",
    "    ,COALESCE( CAST(\n",
    "        REGR_SLOPE(rn, Distance_In_km) OVER(partition by a.person_id ) \n",
    "     AS FLOAT)   ,0.0) as  slope\n",
    "     \n",
    "    ,CASE WHEN previous_complaints > 0 THEN 1 \n",
    "           WHEN previous_complaints  is NULL THEN 0\n",
    "        ELSE 0 \n",
    "    END AS has_complained\n",
    "    \n",
    "FROM (Select aa.*\n",
    "        ,row_number() over(PARTITION BY person_id ORDER BY end_time asc) as rn\n",
    "     FROM travel_distance_transformed as aa\n",
    "    ) as a\n",
    "    \n",
    "LEFT OUTER JOIN \n",
    "simple_trips as b\n",
    "\n",
    "ON a.person_id = b.person_id\n",
    "AND a.start_time = b.start_time\n",
    "AND a.end_time = b.end_time\n",
    "\n",
    ")WITH DATA PRIMARY INDEX(person_id);"
   ]
  },
  {
   "cell_type": "code",
   "execution_count": null,
   "id": "f84e0686",
   "metadata": {
    "tags": []
   },
   "outputs": [],
   "source": [
    "Select * FROM \n",
    "ADS_trip_complained\n",
    "sample 35;"
   ]
  },
  {
   "cell_type": "markdown",
   "id": "f7e27017",
   "metadata": {},
   "source": [
    "<li style = 'font-size:16px;font-family:Arial;'> Apply range-based scaling.</li>\n",
    "<li style = 'font-size:16px;font-family:Arial;'> Apply z-scores-based standard scaling.</li>"
   ]
  },
  {
   "cell_type": "code",
   "execution_count": null,
   "id": "e8b2be2b",
   "metadata": {},
   "outputs": [],
   "source": [
    "--comment the next line if the table doesn't exist\n",
    "--drop table scaleFitOut;"
   ]
  },
  {
   "cell_type": "code",
   "execution_count": null,
   "id": "b39c7663",
   "metadata": {
    "tags": []
   },
   "outputs": [],
   "source": [
    "SELECT * FROM TD_ScaleFit (\n",
    "  ON ADS_trip_complained AS InputTable\n",
    "  OUT PERMANENT TABLE OutputTable (scaleFitOut)\n",
    "  USING\n",
    "  TargetColumns ('previous_complaints'\n",
    "                  ,'avg_dist'\n",
    "                  ,'std_dist'\n",
    "                  ,'num_trips'\n",
    "                  ,'Distance_In_km'\n",
    ")\n",
    "  MissValue ('keep')\n",
    "  ScaleMethod ('range')\n",
    "  GlobalScale ('f')\n",
    ") AS dt2; "
   ]
  },
  {
   "cell_type": "code",
   "execution_count": null,
   "id": "7c7f7dd6",
   "metadata": {
    "tags": []
   },
   "outputs": [],
   "source": [
    "Select * from scaleFitOut;"
   ]
  },
  {
   "cell_type": "code",
   "execution_count": null,
   "id": "a540f08b",
   "metadata": {},
   "outputs": [],
   "source": [
    "--comment the next line if the table doesn't exist.\n",
    "--drop table ads_trips_scaled;"
   ]
  },
  {
   "cell_type": "code",
   "execution_count": null,
   "id": "0319cd82",
   "metadata": {},
   "outputs": [],
   "source": [
    "CREATE MULTISET TABLE  ads_trips_scaled as(\n",
    "SELECT dt2.* \n",
    "       ,row_number() over(order by person_id) as rn\n",
    "FROM TD_scaleTransform (\n",
    "  ON ADS_trip_complained AS InputTable\n",
    "  ON scaleFitOut AS FitTable DIMENSION\n",
    "  USING\n",
    "  Accumulate ('person_id','slope','has_complained')\n",
    ") AS dt2\n",
    ")WITH DATA PRIMARY INDEX(person_id);"
   ]
  },
  {
   "cell_type": "code",
   "execution_count": null,
   "id": "0f91324c",
   "metadata": {
    "tags": []
   },
   "outputs": [],
   "source": [
    "Select * from ads_trips_scaled sample 10;"
   ]
  },
  {
   "cell_type": "code",
   "execution_count": null,
   "id": "0f704b21",
   "metadata": {},
   "outputs": [],
   "source": [
    "call val.td_analyze (\n",
    "    'vartran',\n",
    "    'database = demo_user;\n",
    "    tablename = ADS_trip_complained;\n",
    "    retain = columns (person_id,slope,has_complained, Distance_In_km);\n",
    "    outputstyle =  table;\n",
    "    outputdatabase = demo_user;\n",
    "    outputtablename = simple_trips_normalised;\n",
    "    \n",
    "    zscore = columns (previous_complaints\n",
    "                    ,avg_dist\n",
    "                    ,std_dist\n",
    "                    ,num_trips);'\n",
    ");"
   ]
  },
  {
   "cell_type": "code",
   "execution_count": null,
   "id": "16ff02c4",
   "metadata": {
    "tags": []
   },
   "outputs": [],
   "source": [
    "Select * from simple_trips_normalised sample 10;"
   ]
  },
  {
   "cell_type": "markdown",
   "id": "bc3fe45d",
   "metadata": {},
   "source": [
    "<hr style=\"height:2px;border:none;\">\n",
    "<p style = 'font-size:20px;font-family:Arial;'><b>7. Balance and Sample the ADS.</b></p>\n",
    "<p style = 'font-size:16px;font-family:Arial;'>Data is imbalanced.</p>\n",
    "<p style = 'font-size:16px;font-family:Arial;'>Check for class imbalance in the <code>has_complained</code> variable, then apply stratified sampling to create a balanced dataset named <code>ads_trip_sample</code>.</p>"
   ]
  },
  {
   "cell_type": "code",
   "execution_count": null,
   "id": "14b1d502",
   "metadata": {},
   "outputs": [],
   "source": [
    "Select has_complained, count(*) FROM ads_trips_scaled group by 1;"
   ]
  },
  {
   "cell_type": "markdown",
   "id": "49030a39",
   "metadata": {},
   "source": [
    "<p style = 'font-size:18px;font-family:Arial;'>Take sample of the ADS and maintain a balance in the sample.</p>"
   ]
  },
  {
   "cell_type": "code",
   "execution_count": null,
   "id": "b26366ed",
   "metadata": {
    "tags": []
   },
   "outputs": [],
   "source": [
    "--comment the next line if the table doesn't exist.\n",
    "--drop table ads_trip_sample;"
   ]
  },
  {
   "cell_type": "code",
   "execution_count": null,
   "id": "5ff7a631",
   "metadata": {},
   "outputs": [],
   "source": [
    "CREATE TABLE ads_trip_sample as(\n",
    "     SELECT a.*\n",
    "    , SAMPLEID as SAMPLE_ID\n",
    "     FROM ads_trips_scaled as a\n",
    "     SAMPLE WHEN has_complained = 1 THEN 0.8\n",
    "            WHEN has_complained = 0  THEN 0.015\n",
    "            END\n",
    ")WITH DATA PRIMARY INDEX(person_id)"
   ]
  },
  {
   "cell_type": "code",
   "execution_count": null,
   "id": "15d9d290",
   "metadata": {},
   "outputs": [],
   "source": [
    "Select has_complained, count(*) FROM ads_trip_sample group by 1;"
   ]
  },
  {
   "cell_type": "markdown",
   "id": "c7957755-4fb5-4dd4-a581-b945aaf45a71",
   "metadata": {},
   "source": [
    "<hr style=\"height:2px;border:none;\">\n",
    "<p style = 'font-size:20px;font-family:Arial;'><b>8. Model Training and Scoring</b></p>\n",
    "<p style = 'font-size:16px;font-family:Arial;'>Train a Decision Forest classifier using key features to predict complaints, score the model on unseen data with <code>TD_DecisionForestPredict</code>, and evaluate its performance using <code>TD_ClassificationEvaluator</code>.</p>"
   ]
  },
  {
   "cell_type": "code",
   "execution_count": null,
   "id": "80e7e341",
   "metadata": {
    "tags": []
   },
   "outputs": [],
   "source": [
    "--comment the next line if the table doesn't exist.\n",
    "--drop table DecisionForestOutput;"
   ]
  },
  {
   "cell_type": "code",
   "execution_count": null,
   "id": "17dbc63d",
   "metadata": {},
   "outputs": [],
   "source": [
    "CREATE TABLE DecisionForestOutput AS (\n",
    "SELECT * FROM TD_DecisionForest(\n",
    "  ON ads_trip_sample AS InputTable PARTITION BY ANY\n",
    "USING\n",
    "  ResponseColumn('has_complained')\n",
    "  InputColumns('slope'\n",
    "              ,'previous_complaints'\n",
    "              ,'avg_dist'\n",
    "              ,'std_dist'\n",
    "              ,'num_trips'\n",
    "              ,'Distance_In_km'\n",
    ")\n",
    "  TreeType('CLASSIFICATION')\n",
    "  ) AS dt\n",
    " ) WITH DATA\n",
    ";"
   ]
  },
  {
   "cell_type": "markdown",
   "id": "64f40471",
   "metadata": {},
   "source": [
    "<p style = 'font-size:16px;font-family:Arial;'>Inspect the Model Table.</p>"
   ]
  },
  {
   "cell_type": "code",
   "execution_count": null,
   "id": "275a60dc",
   "metadata": {},
   "outputs": [],
   "source": [
    "Select * FROM DecisionForestOutput;"
   ]
  },
  {
   "cell_type": "markdown",
   "id": "6888187b-3f80-4ce3-8390-3cd330f6d1c9",
   "metadata": {},
   "source": [
    "<p style = 'font-size:16px;font-family:Arial;'>Score the Model in Vantage</p>"
   ]
  },
  {
   "cell_type": "code",
   "execution_count": null,
   "id": "6dec8ca9",
   "metadata": {},
   "outputs": [],
   "source": [
    "--comment the next line if the table doesn't exist.\n",
    "--drop table trip_scored;"
   ]
  },
  {
   "cell_type": "code",
   "execution_count": null,
   "id": "ed17c8d3",
   "metadata": {},
   "outputs": [],
   "source": [
    "CREATE TABLE trip_scored AS(\n",
    "SELECT * FROM TD_DecisionForestPredict (\n",
    "    ON (Select * FROM ads_trips_scaled\n",
    "        WHERE rn is not in (Select rn FROM ads_trip_sample)\n",
    "        ) AS InputTable PARTITION BY ANY\n",
    "    ON DecisionForestOutput AS ModelTable DIMENSION\n",
    "USING\n",
    "  IdColumn ('person_id')\n",
    "  Accumulate('has_complained','rn')\n",
    "  Detailed('false')\n",
    ") AS dt\n",
    ")WITH DATA PRIMARY INDEX(person_id)"
   ]
  },
  {
   "cell_type": "markdown",
   "id": "9808b6c1",
   "metadata": {},
   "source": [
    "<p style = 'font-size:16px;font-family:Arial;'>Inspect the predictions</p>"
   ]
  },
  {
   "cell_type": "code",
   "execution_count": null,
   "id": "a2e39730",
   "metadata": {
    "tags": []
   },
   "outputs": [],
   "source": [
    "Select * from trip_scored sample 10;"
   ]
  },
  {
   "cell_type": "markdown",
   "id": "96df0e56-0df6-4ec7-bb87-c628927c1dd2",
   "metadata": {},
   "source": [
    "<p style = 'font-size:16px;font-family:Arial;'><b>Validate the Model in Vantage</b> </p>"
   ]
  },
  {
   "cell_type": "code",
   "execution_count": null,
   "id": "e6484b27",
   "metadata": {},
   "outputs": [],
   "source": [
    "--comment the next line if the table doesn't exist.\n",
    "--drop table additional_metrics;"
   ]
  },
  {
   "cell_type": "code",
   "execution_count": null,
   "id": "ac5bf740",
   "metadata": {},
   "outputs": [],
   "source": [
    "SELECT * FROM TD_ClassificationEvaluator (\n",
    "   ON trip_scored AS InputTable\n",
    "   OUT TABLE trip_evaluation (additional_metrics)\n",
    "   USING\n",
    "   ObservationColumn ('has_complained')\n",
    "   PredictionColumn ('prediction')\n",
    "   Labels ('1','0')\n",
    ") AS dt ORDER BY SeqNum;"
   ]
  },
  {
   "cell_type": "markdown",
   "id": "e71559f5",
   "metadata": {},
   "source": [
    "<p style = 'font-size:16px;font-family:Arial;'>Inspect the evaluation metrics.</p>"
   ]
  },
  {
   "cell_type": "code",
   "execution_count": null,
   "id": "bd6fed62",
   "metadata": {
    "tags": []
   },
   "outputs": [],
   "source": [
    "Select * from additional_metrics;"
   ]
  },
  {
   "cell_type": "markdown",
   "id": "719627df-372d-4c09-bf15-168568f16739",
   "metadata": {},
   "source": [
    "<hr style=\"height:2px;border:none;\">\n",
    "<p style = 'font-size:20px;font-family:Arial;'><b>9. Applying NLP: Complaint Analysis.</b></p>\n",
    "<p style = 'font-size:16px;font-family:Arial;'>Make sure necessary functions and model(s) are already installed in Vantage. Refer to the IVSM_Init_Model_Load.ipynb (Run that notebook first).</p>\n"
   ]
  },
  {
   "cell_type": "markdown",
   "id": "6f4927a6-7417-4fb0-8be0-eb3447eb88c0",
   "metadata": {},
   "source": [
    "<p style = 'font-size:16px;font-family:Arial;'><b>Natural Language Processing</b></p>\n",
    "<ul style = 'font-size:16px;font-family:Arial;'> Make sure necessary functions and model(s) are already installed in Vantage. Refer to the IVSM_Init_Model_Load.ipynb (Run that notebook first).</ul>"
   ]
  },
  {
   "cell_type": "markdown",
   "id": "3afd6001-ee96-4949-a805-8343325d595a",
   "metadata": {},
   "source": [
    "<p style = 'font-size:16px;font-family:Arial;'><b>In-DB Complaint Analysis</b></p>\n",
    "<ul style = 'font-size:16px;font-family:Arial;'> - Create embeddings from the complaints.\n",
    "- Unsupervised Topic Modeling (topics not defined): Cluster the complaints using K-Means on the latent features (embeddings) and classical TF_IDF.</ul>\n",
    "<ul style = 'font-size:16px;font-family:Arial;'>- Supervised Topic Modeling: Use cosine similarity to cluster the complaints into pre-defined topics.</ul>"
   ]
  },
  {
   "cell_type": "markdown",
   "id": "0eec305a-3c17-49bc-9560-6efcd0d75437",
   "metadata": {},
   "source": [
    "<br>\n",
    "<p style = 'font-size:18px;font-family:Arial;'><b>9.1. Embedding Complaint Texts</b></p>\n",
    "<p style = 'font-size:16px;font-family:Arial;'><b>Convert complaints into Embeddings (Latent Features) for Analysis.</b></p>\n",
    "<p style = 'font-size:16px;font-family:Arial;'> Use the in-DB tokenizer to tokenize the complaints..</p>"
   ]
  },
  {
   "cell_type": "code",
   "execution_count": null,
   "id": "8c86e562-2079-4724-a857-921a0fd3c203",
   "metadata": {
    "tags": []
   },
   "outputs": [],
   "source": [
    "--DROP TABLE first_embeddings"
   ]
  },
  {
   "cell_type": "markdown",
   "id": "6d8efd5f-cc63-4621-acb1-9741ebfa4308",
   "metadata": {},
   "source": [
    "<p style = 'font-size:16px;font-family:Arial;'><b>The required embeddings for the <code>Complaints</code> table have already been generated and stored in a table named <code>Complaints_Embeddings</code>, which will be used throughout this demo.</code>.</b></p>\n",
    "<p style = 'font-size:16px;font-family:Arial;'> Below, we generate 10 sample rows of embeddings for demonstration purposes and store them in a table named First_Embeddings. .</p>"
   ]
  },
  {
   "cell_type": "code",
   "execution_count": null,
   "id": "a2d056f5-e02e-428b-8dcd-c94cd5bcfd10",
   "metadata": {
    "tags": []
   },
   "outputs": [],
   "source": [
    " Select top 5 * from DEMO_Cust_Travel.complaints"
   ]
  },
  {
   "cell_type": "code",
   "execution_count": null,
   "id": "42cb9d89-2c3f-4b78-a201-bb9e98aeb4ff",
   "metadata": {
    "tags": []
   },
   "outputs": [],
   "source": [
    "CREATE TABLE first_embeddings AS(\n",
    "select\n",
    "    *\n",
    "from mldb.ONNXEmbeddings(\n",
    "    on (Select complaint_id, person_id, consumer_complaint_narrative as txt from DEMO_Cust_Travel.complaints sample 10) \n",
    "    on (select model_id, model from  embeddings_models where model_id = 'bge-small-en-v1.5') DIMENSION\n",
    "    on (select model as tokenizer from embeddings_tokenizers where model_id = 'bge-small-en-v1.5') DIMENSION\n",
    "USING\n",
    "    Accumulate('complaint_id', 'person_id', 'txt')\n",
    "    ModelOutputTensor('sentence_embedding')\n",
    "    OutputFormat('FLOAT32(384)')\n",
    ") as td\n",
    ")WITH DATA;"
   ]
  },
  {
   "cell_type": "code",
   "execution_count": null,
   "id": "05ecfdb7-2a53-46d2-a086-12330c8d707e",
   "metadata": {
    "tags": []
   },
   "outputs": [],
   "source": [
    "Select top 5 * from first_embeddings;"
   ]
  },
  {
   "cell_type": "markdown",
   "id": "4f0cdd4b-1ce9-4e60-93dd-1b58b8ea55b9",
   "metadata": {},
   "source": [
    "<br>\n",
    "<p style = 'font-size:18px;font-family:Arial;'><b>9.2. Unsupervised Topic Modeling using Complaints Clustering</b></p>\n"
   ]
  },
  {
   "cell_type": "markdown",
   "id": "5585a6d2",
   "metadata": {},
   "source": [
    "<p style = 'font-size:16px;font-family:Arial;'>Cluster the complaints into 4 clusters.Run K-Means clustering on embeddings to discover latent topics.\n",
    "Predict cluster assignments for each complaint.</p>"
   ]
  },
  {
   "cell_type": "code",
   "execution_count": null,
   "id": "ba70d765",
   "metadata": {},
   "outputs": [],
   "source": [
    "--comment the next line if the table doesn't exist.\n",
    "--drop table Kmeans_complaints;"
   ]
  },
  {
   "cell_type": "code",
   "execution_count": null,
   "id": "6ed3c158",
   "metadata": {
    "tags": []
   },
   "outputs": [],
   "source": [
    "CREATE TABLE Kmeans_complaints as(\n",
    "    SELECT * FROM TD_KMeans (\n",
    "        ON DEMO_Cust_Travel.Complaints_Embeddings as InputTable\n",
    "        USING\n",
    "            IdColumn('complaint_id')\n",
    "            TargetColumns('[3:385]')\n",
    "            NumClusters(4)\n",
    "            Seed(0)\n",
    "            StopThreshold(0.0395)\n",
    "            MaxIterNum(50)\n",
    "    )as dt\n",
    ")WITH DATA;"
   ]
  },
  {
   "cell_type": "markdown",
   "id": "5364e1b6",
   "metadata": {},
   "source": [
    "<p style = 'font-size:16px;font-family:Arial;'>Inspect the centroids of the clusters (averaged out embeddings)</p>"
   ]
  },
  {
   "cell_type": "code",
   "execution_count": null,
   "id": "ef1ce778",
   "metadata": {
    "tags": []
   },
   "outputs": [],
   "source": [
    "Select * from Kmeans_complaints;"
   ]
  },
  {
   "cell_type": "markdown",
   "id": "bc5bdb98",
   "metadata": {},
   "source": [
    "<p style = 'font-size:16px;font-family:Arial;'>Use these centroids to classify (possibly new) complaints.</p>"
   ]
  },
  {
   "cell_type": "code",
   "execution_count": null,
   "id": "80a6e303",
   "metadata": {},
   "outputs": [],
   "source": [
    "--comment the next line if the table doesn't exist\n",
    "--drop table complains_clusters;"
   ]
  },
  {
   "cell_type": "code",
   "execution_count": null,
   "id": "754c12e1",
   "metadata": {
    "tags": []
   },
   "outputs": [],
   "source": [
    "CREATE TABLE complains_clusters as(\n",
    "    SELECT * FROM TD_KMeansPredict (\n",
    "        ON DEMO_Cust_Travel.Complaints_Embeddings AS InputTable\n",
    "        ON Kmeans_complaints AS ModelTable DIMENSION\n",
    "        USING\n",
    "        OutputDistance('true')\n",
    "        Accumulate('person_id', 'txt')\n",
    "    )AS dt\n",
    ")WITH DATA PRIMARY INDEX(person_id);"
   ]
  },
  {
   "cell_type": "markdown",
   "id": "ace15fae",
   "metadata": {},
   "source": [
    "<p style = 'font-size:16px;font-family:Arial;'>Inspect the result of classifications.</p>"
   ]
  },
  {
   "cell_type": "code",
   "execution_count": null,
   "id": "a242f6bf",
   "metadata": {
    "tags": []
   },
   "outputs": [],
   "source": [
    "select * from complains_clusters sample 5;"
   ]
  },
  {
   "cell_type": "markdown",
   "id": "dd693c4b-6a19-4582-8958-03c338e68beb",
   "metadata": {},
   "source": [
    "<br>\n",
    "<p style = 'font-size:18px;font-family:Arial;'><b>9.3. TF-IDF Analysis for Clustered Complaints</b></p>\n",
    "\n"
   ]
  },
  {
   "cell_type": "markdown",
   "id": "31da0051",
   "metadata": {},
   "source": [
    "<p style = 'font-size:16px;font-family:Arial;'>You can view the sample data provided in the <code>Stopwords</code> table.</p>"
   ]
  },
  {
   "cell_type": "code",
   "execution_count": null,
   "id": "4ce411de",
   "metadata": {
    "tags": []
   },
   "outputs": [],
   "source": [
    "select * from DEMO_Cust_Travel.Stopwords sample 10;"
   ]
  },
  {
   "cell_type": "markdown",
   "id": "469dbc3b",
   "metadata": {},
   "source": [
    "<p style = 'font-size:16px;font-family:Arial;'>Parse the complaints in each cluster (treating each cluster as a separate document/topic of complaints)Tokenize complaint texts using <code>TD_TextParser</code>, removing stop words.\n",
    "Apply <code>TD_TFIDF</code> to extract keywords per cluster.</p>"
   ]
  },
  {
   "cell_type": "code",
   "execution_count": null,
   "id": "a352223e",
   "metadata": {},
   "outputs": [],
   "source": [
    "--comment the next line if the table doesn't exist.\n",
    "--drop table cluster_tokens;"
   ]
  },
  {
   "cell_type": "code",
   "execution_count": null,
   "id": "dd2416ae",
   "metadata": {
    "tags": []
   },
   "outputs": [],
   "source": [
    "CREATE TABLE cluster_tokens as(\n",
    "    SELECT * FROM TD_TextParser (\n",
    "        ON complains_clusters AS InputTable\n",
    "        ON DEMO_Cust_Travel.Stopwords As StopWordsTable DIMENSION\n",
    "        USING\n",
    "            TextColumn ('txt')\n",
    "            StemTokens ('false')\n",
    "            RemoveStopWords ('true')\n",
    "            Accumulate ('td_clusterid_kmeans')\n",
    "    ) as dt\n",
    ")WITH DATA PRIMARY INDEX(td_clusterid_kmeans);"
   ]
  },
  {
   "cell_type": "code",
   "execution_count": null,
   "id": "63abb901",
   "metadata": {
    "tags": []
   },
   "outputs": [],
   "source": [
    "Select\n",
    "    td_clusterid_kmeans as cluster_id\n",
    "    ,token as words_from_complaints_narrative\n",
    "FROM cluster_tokens \n",
    "sample 5;"
   ]
  },
  {
   "cell_type": "markdown",
   "id": "5900d361",
   "metadata": {},
   "source": [
    "<p style = 'font-size:16px;font-family:Arial;'>Apply <code>TF_IDF</code> on the clustered complaints.</p>"
   ]
  },
  {
   "cell_type": "code",
   "execution_count": null,
   "id": "9fd89e7c",
   "metadata": {},
   "outputs": [],
   "source": [
    "--comment the next line if the table doesn't exist.\n",
    "--drop table cluster_tf_idf;"
   ]
  },
  {
   "cell_type": "code",
   "execution_count": null,
   "id": "5e593d96",
   "metadata": {
    "tags": []
   },
   "outputs": [],
   "source": [
    "CREATE TABLE cluster_tf_idf as (\n",
    "    SELECT distinct token\n",
    "    ,TD_TF\n",
    "    ,TD_IDF\n",
    "    ,TD_TF_IDF\n",
    "    ,td_clusterid_kmeans\n",
    "    FROM TD_TFIDF (\n",
    "        ON cluster_tokens AS InputTable\n",
    "        USING\n",
    "            DocIdColumn ('td_clusterid_kmeans')\n",
    "            TokenColumn ('token')\n",
    "            TFNormalization ('LOG')\n",
    "            IDFNormalization ('SMOOTH')\n",
    "            Regularization ('L2')\n",
    ")as dt\n",
    ") with data primary index(td_clusterid_kmeans);"
   ]
  },
  {
   "cell_type": "code",
   "execution_count": null,
   "id": "a6c588ba",
   "metadata": {
    "tags": []
   },
   "outputs": [],
   "source": [
    "Select * from cluster_tf_idf sample 5;"
   ]
  },
  {
   "cell_type": "markdown",
   "id": "e246913e-1fe3-4db6-8fe6-d0b8e3e4084c",
   "metadata": {},
   "source": [
    "<br><p style = 'font-size:18px;font-family:Arial;'><b>9.4. Supervised Topic Embedding Comparison</b></p>\n"
   ]
  },
  {
   "cell_type": "markdown",
   "id": "a57ee903",
   "metadata": {},
   "source": [
    "<p style = 'font-size:16px;font-family:Arial;'>Create the <code>topics</code> table and insert the relevant data.</p>"
   ]
  },
  {
   "cell_type": "code",
   "execution_count": null,
   "id": "956dab0a-1a46-41da-8f8b-1c4d5d3b2d8b",
   "metadata": {},
   "outputs": [],
   "source": [
    "--drop table topics;"
   ]
  },
  {
   "cell_type": "code",
   "execution_count": null,
   "id": "9ae06537",
   "metadata": {
    "tags": []
   },
   "outputs": [],
   "source": [
    "CREATE TABLE Topics (\n",
    "    topic_id INTEGER,\n",
    "    topic VARCHAR(1000) CHARACTER SET UNICODE\n",
    ")\n",
    "PRIMARY INDEX (topic_id);\n"
   ]
  },
  {
   "cell_type": "code",
   "execution_count": null,
   "id": "255192aa-a222-4889-ac3e-e7f46209daa6",
   "metadata": {},
   "outputs": [],
   "source": [
    "INSERT INTO topics (topic_id, topic) VALUES\n",
    "(0, 'Widespread Failures in Accurate Credit Reporting and Alleged Violations of Consumer Protection Laws (FCRA/ECOA)');\n",
    "\n",
    "INSERT INTO topics (topic_id, topic) VALUES\n",
    "(1, 'Pervasive Issues with Identity Theft, Fraudulent Accounts, and Ineffective Resolution of Unauthorized Activity');\n",
    "\n",
    "INSERT INTO topics (topic_id, topic) VALUES\n",
    "(2, 'Persistent Poor Customer Service, Harassing Debt Collection, and Obstruction of Account Resolution');\n"
   ]
  },
  {
   "cell_type": "code",
   "execution_count": null,
   "id": "e49ea1d2",
   "metadata": {
    "tags": []
   },
   "outputs": [],
   "source": [
    "Select * from topics;"
   ]
  },
  {
   "cell_type": "markdown",
   "id": "82a98f3d-b16f-40cc-9ce4-fee1131911a6",
   "metadata": {},
   "source": [
    "<p style = 'font-size:16px;font-family:Arial;'>Embed predefined topics using the same ONNX model.Use cosine similarity to classify complaints into predefined topics.</p>"
   ]
  },
  {
   "cell_type": "code",
   "execution_count": null,
   "id": "a51b39e3-f08e-40b3-92bc-6f3856733705",
   "metadata": {},
   "outputs": [],
   "source": [
    "--comment the next line if the table doesn't exist.\n",
    "--drop table topics_embeddings_VS;"
   ]
  },
  {
   "cell_type": "code",
   "execution_count": null,
   "id": "c15660ba-9dea-42c7-bd30-ffbf224fd4c0",
   "metadata": {
    "tags": []
   },
   "outputs": [],
   "source": [
    "CREATE TABLE topics_embeddings_VS AS(\n",
    "select\n",
    "    *\n",
    "from mldb.ONNXEmbeddings(\n",
    "    on (select topic_id, topic as txt FROM topics) \n",
    "    on (select model_id, model from  embeddings_models where model_id = 'bge-small-en-v1.5') DIMENSION\n",
    "    on (select model as tokenizer from embeddings_tokenizers where model_id = 'bge-small-en-v1.5') DIMENSION\n",
    "USING\n",
    "    Accumulate('topic_id', 'txt')\n",
    "    ModelOutputTensor('sentence_embedding')\n",
    "    OutputFormat('FLOAT32(384)')\n",
    ") as td\n",
    ")WITH DATA;\n",
    "\n"
   ]
  },
  {
   "cell_type": "code",
   "execution_count": null,
   "id": "0331d93d",
   "metadata": {
    "tags": []
   },
   "outputs": [],
   "source": [
    "Select * from topics_embeddings_VS;"
   ]
  },
  {
   "cell_type": "markdown",
   "id": "a1cb799a",
   "metadata": {},
   "source": [
    "<p style = 'font-size:16px;font-family:Arial;'>Compute the cosine similarity metric classifying complaints into topics.</p>"
   ]
  },
  {
   "cell_type": "code",
   "execution_count": null,
   "id": "d8f8b85e",
   "metadata": {},
   "outputs": [],
   "source": [
    "--comment the next line if the table doesn't exist.\n",
    "--drop table topic_complaint_similarities;"
   ]
  },
  {
   "cell_type": "code",
   "execution_count": null,
   "id": "7e8d1c7c",
   "metadata": {
    "tags": []
   },
   "outputs": [],
   "source": [
    "Create table topic_complaint_similarities as (\n",
    "SELECT \n",
    "    dt.target_id as complaint_id,\n",
    "    dt.reference_id as topic_id,\n",
    "    e_tgt.txt as consumer_complaint_narrative,\n",
    "    e_ref.txt as topic,\n",
    "    (1.0 - dt.distance) as similarity\n",
    "FROM\n",
    "    TD_VECTORDISTANCE (\n",
    "        ON (select * from DEMO_Cust_Travel.Complaints_Embeddings a) AS TargetTable\n",
    "        ON topics_embeddings_VS AS ReferenceTable DIMENSION\n",
    "        USING\n",
    "            TargetIDColumn('complaint_id')\n",
    "            TargetFeatureColumns('[emb_0:emb_383]')\n",
    "            RefIDColumn('topic_id')\n",
    "            RefFeatureColumns('[emb_0:emb_383]')\n",
    "            DistanceMeasure('cosine')\n",
    "            topk(1) \n",
    "    ) AS dt\n",
    "JOIN  DEMO_Cust_Travel.Complaints_Embeddings e_tgt on e_tgt.complaint_id = dt.target_id\n",
    "JOIN topics_embeddings_VS e_ref on e_ref.topic_id = dt.reference_id\n",
    ") with data;"
   ]
  },
  {
   "cell_type": "code",
   "execution_count": null,
   "id": "a159d6c4",
   "metadata": {
    "tags": []
   },
   "outputs": [],
   "source": [
    "Select * from topic_complaint_similarities sample 10;"
   ]
  },
  {
   "cell_type": "markdown",
   "id": "ef1e919e-2b80-4ed0-aeca-27e1744e5d98",
   "metadata": {},
   "source": [
    "<hr style=\"height:2px;border:none;\">\n",
    "<p style = 'font-size:20px;font-family:Arial;'><b>10. Cleanup.</b></p>"
   ]
  },
  {
   "cell_type": "markdown",
   "id": "75a0ae37-aa38-4cc2-9826-0bc6793df479",
   "metadata": {},
   "source": [
    "<p style = 'font-size:18px;font-family:Arial'><b>Work Tables</b></p>\n",
    "<p style = 'font-size:16px;font-family:Arial'>Cleanup work tables to prevent errors next time. This section drops all the tables created during the demonstration.</p>"
   ]
  },
  {
   "cell_type": "code",
   "execution_count": null,
   "id": "1e6e269f-f8f0-4f05-92d5-636886bd5962",
   "metadata": {},
   "outputs": [],
   "source": [
    "drop table topic_complaint_similarities;"
   ]
  },
  {
   "cell_type": "code",
   "execution_count": null,
   "id": "67ab8139-afd2-4882-996a-8b57e380537c",
   "metadata": {},
   "outputs": [],
   "source": [
    "drop table TRAVEL;"
   ]
  },
  {
   "cell_type": "code",
   "execution_count": null,
   "id": "8a1ab195-d6a4-43c2-a41f-432dd73bab3d",
   "metadata": {},
   "outputs": [],
   "source": [
    "drop table topics_embeddings_VS;"
   ]
  },
  {
   "cell_type": "code",
   "execution_count": null,
   "id": "cbb646a9-d422-4f66-a9a5-49c467a6fcb7",
   "metadata": {},
   "outputs": [],
   "source": [
    "drop table cluster_tf_idf;"
   ]
  },
  {
   "cell_type": "code",
   "execution_count": null,
   "id": "a42c2dfa-1470-4c5d-a527-cb6a007fb0bf",
   "metadata": {},
   "outputs": [],
   "source": [
    "drop table cluster_tokens;"
   ]
  },
  {
   "cell_type": "code",
   "execution_count": null,
   "id": "6d79543d-74f1-4ce1-85b1-becabce01ca5",
   "metadata": {},
   "outputs": [],
   "source": [
    "drop table complains_clusters;"
   ]
  },
  {
   "cell_type": "code",
   "execution_count": null,
   "id": "dd829841-796c-4f20-bb22-80c6d053684c",
   "metadata": {},
   "outputs": [],
   "source": [
    "drop table Kmeans_complaints;"
   ]
  },
  {
   "cell_type": "code",
   "execution_count": null,
   "id": "38370231-c80a-465e-83c1-82fd78ba5498",
   "metadata": {},
   "outputs": [],
   "source": [
    "drop table first_embeddings"
   ]
  },
  {
   "cell_type": "code",
   "execution_count": null,
   "id": "deaec055-6edc-4a81-b1c3-4c6e490e4632",
   "metadata": {},
   "outputs": [],
   "source": [
    "drop table additional_metrics;"
   ]
  },
  {
   "cell_type": "code",
   "execution_count": null,
   "id": "3ddca4e8-45c3-450d-899b-93a31fe85579",
   "metadata": {},
   "outputs": [],
   "source": [
    "drop table trip_scored;"
   ]
  },
  {
   "cell_type": "code",
   "execution_count": null,
   "id": "c9391bd8-f7aa-455f-a984-8a72de765c94",
   "metadata": {},
   "outputs": [],
   "source": [
    "drop table DecisionForestOutput;"
   ]
  },
  {
   "cell_type": "code",
   "execution_count": null,
   "id": "fc8ca1d5-094c-4c7f-ba73-c87fb1a579b9",
   "metadata": {},
   "outputs": [],
   "source": [
    "drop table ads_trip_sample;"
   ]
  },
  {
   "cell_type": "code",
   "execution_count": null,
   "id": "ea2db6e3-6dbd-4a25-b9d4-a82ddc391b89",
   "metadata": {},
   "outputs": [],
   "source": [
    "drop table ads_trips_scaled;"
   ]
  },
  {
   "cell_type": "code",
   "execution_count": null,
   "id": "1cf4e66c-5e08-4607-8050-fc7dd78d44c4",
   "metadata": {},
   "outputs": [],
   "source": [
    "drop table scaleFitOut;"
   ]
  },
  {
   "cell_type": "code",
   "execution_count": null,
   "id": "85a655f4-bf19-4611-ae16-e3726bdde2b8",
   "metadata": {},
   "outputs": [],
   "source": [
    "drop table ADS_trip_complained;"
   ]
  },
  {
   "cell_type": "code",
   "execution_count": null,
   "id": "5511166a-58a7-4cac-8ba4-cee9e02652e3",
   "metadata": {},
   "outputs": [],
   "source": [
    "drop table simple_trips;"
   ]
  },
  {
   "cell_type": "code",
   "execution_count": null,
   "id": "0a08379e-5a1c-45f2-84ca-28a4710421f4",
   "metadata": {},
   "outputs": [],
   "source": [
    "drop table complains_after_trip;"
   ]
  },
  {
   "cell_type": "code",
   "execution_count": null,
   "id": "5305986c-61b0-4786-b4f1-4fd034eddcf1",
   "metadata": {},
   "outputs": [],
   "source": [
    "drop table DISTANCE_TRAVELED;"
   ]
  },
  {
   "cell_type": "code",
   "execution_count": null,
   "id": "d62ad09e-1e27-47b8-abef-bf742271e8e2",
   "metadata": {},
   "outputs": [],
   "source": [
    "drop table TRAVEL_Filtered;"
   ]
  },
  {
   "cell_type": "code",
   "execution_count": null,
   "id": "d15b2d80-7dca-4d71-8238-8852542e462c",
   "metadata": {},
   "outputs": [],
   "source": [
    "drop table Topics;"
   ]
  },
  {
   "cell_type": "code",
   "execution_count": null,
   "id": "8b3c04a3-8f93-452d-a382-cc0418e256e7",
   "metadata": {},
   "outputs": [],
   "source": [
    "drop table outlier_fit;"
   ]
  },
  {
   "cell_type": "markdown",
   "id": "25b7e694-5619-4e3d-b673-c17d3ef4768e",
   "metadata": {},
   "source": [
    "<hr style=\"height:1px;border:none;\">\n",
    "<p style = 'font-size:18px;font-family:Arial'> <b>Databases and Tables </b></p>\n",
    "<p style = 'font-size:16px;font-family:Arial'>The following code will clean up tables and databases created above.</p>"
   ]
  },
  {
   "cell_type": "code",
   "execution_count": null,
   "id": "471cc64e-3a46-4bf5-ab6b-40fd52fea1b1",
   "metadata": {},
   "outputs": [],
   "source": [
    "call remove_data('DEMO_Cust_Travel');          -- Takes 5 seconds"
   ]
  },
  {
   "cell_type": "markdown",
   "id": "25e14e9e-3f57-4578-8cd7-bb480619b478",
   "metadata": {
    "tags": []
   },
   "source": [
    "<footer style=\"padding-bottom:35px; background:#f9f9f9; border-bottom:3px solid\">\n",
    "    <div style=\"float:left;margin-top:14px\">ClearScape Analytics™</div>\n",
    "    <div style=\"float:right;\">\n",
    "        <div style=\"float:left; margin-top:14px\">\n",
    "            Copyright © Teradata Corporation - 2025. All Rights Reserved\n",
    "        </div>\n",
    "    </div>\n",
    "</footer>"
   ]
  }
 ],
 "metadata": {
  "kernelspec": {
   "display_name": "Teradata SQL",
   "language": "Teradata SQL",
   "name": "teradatasql"
  },
  "language_info": {
   "codemirror_mode": "Teradata SQL",
   "file_extension": ".tdrs",
   "mimetype": "application/vnd.teradata.resultset",
   "name": "Teradata SQL",
   "nbconvert_exporter": "",
   "pygments_lexer": "",
   "version": "16.20"
  }
 },
 "nbformat": 4,
 "nbformat_minor": 5
}
