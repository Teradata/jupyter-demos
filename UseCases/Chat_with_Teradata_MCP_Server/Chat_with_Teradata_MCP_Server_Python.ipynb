{
 "cells": [
  {
   "cell_type": "markdown",
   "metadata": {},
   "source": [
    "<header>\n",
    "   <p  style='font-size:36px;font-family:Arial; color:#F0F0F0; background-color: #00233c; padding-left: 20pt; padding-top: 20pt;padding-bottom: 10pt; padding-right: 20pt;'>\n",
    "       Chat with Vantage Using the Teradata MCP Server\n",
    "  <br>\n",
    "       <img id=\"teradata-logo\" src=\"https://storage.googleapis.com/clearscape_analytics_demo_data/DEMO_Logo/teradata.svg\" alt=\"Teradata\" style=\"width: 125px; height: auto; margin-top: 20pt;\">\n",
    "    </p>\n",
    "</header>"
   ]
  },
  {
   "cell_type": "markdown",
   "metadata": {},
   "source": [
    "<p style = 'font-size:20px;font-family:Arial'><b>Introduction</b></p>\n",
    "<p style = 'font-size:16px;font-family:Arial'>\n",
    "   The Teradata MCP server provides a set of tools and prompts for interacting with Teradata databases, enabling AI agents and users to query, analyze, and manage their data efficiently.</p>\n",
    "\n",
    "<p style = 'font-size:16px;font-family:Arial'>\n",
    "Model Context Protocol (MCP) is an open standard and open-source framework designed to enable seamless interaction between AI models (like large language models) and external tools, data sources, and software systems. It was introduced by Anthropic in November 2024 and is often described as the \"USB-C of AI apps\" due to its universal and standardized approach to AI integration.\n",
    "<p>\n",
    "<img src=\"./images/mcp_as_usb.png\" alt=\"Teradata\" width=\"800px\" style=\"border: 4px solid #404040; border-radius: 10px;\"/>\n",
    "</p>        \n",
    "<p style = 'font-size:16px;font-family:Arial'>image source: <a href=\"https://medium.com/@lawrenceteixeira/why-mcp-servers-are-the-universal-usb-for-ai-models-96fa62cb6c8c\">medium.com</a></p>\n",
    "<br>\n",
    "<p style=\"font-size:18px; font-family:Arial;\">\n",
    "  <b>Why MCP is Important?</b>\n",
    "  <ol style=\"font-size:16px; font-family:Arial; padding-left: 20px; margin: 0;\">\n",
    "    <li style=\"line-height:1.3; margin-bottom:4px;\">\n",
    "      <b>Standardized Integration:</b> MCP provides a universal interface for AI models to interact with APIs, databases, files, and other tools—eliminating the need for custom connectors for each integration.\n",
    "    </li>\n",
    "    <li style=\"line-height:1.3; margin-bottom:4px;\"><b>Real-Time Context Access:</b> It allows AI models to fetch live data and context from external systems, improving the relevance and accuracy of responses.</li>\n",
    "    <li style=\"line-height:1.3; margin-bottom:4px;\"><b>Cross-Platform Interoperability:</b> MCP supports multiple programming languages and platforms, making it easier to build AI-powered applications that work across diverse environments.</li>\n",
    "    <li style=\"line-height:1.3; margin-bottom:4px;\"><b>Secure and Scalable:</b> Designed with enterprise use in mind, MCP supports secure, scalable connections between AI and business systems.</li>\n",
    "    <li style=\"line-height:1.3; margin-bottom:4px;\"><b>Enhanced AI Capabilities:</b> By enabling access to external tools and data, MCP significantly expands what AI models can do—such as executing functions, reading files, or automating workflows.</li>\n",
    "  </ol>\n",
    "<br>\n",
    "    \n",
    "<p style = 'font-size:18px;font-family:Arial'><b>Business Values</b></p>\n",
    "<ul style = 'font-size:16px;font-family:Arial'>\n",
    "    <li>Get insights from Vantage functions in various categories like, Data Quality, DBA, DB Performance etc.</li>\n",
    "    <li>Ask any question in natural language and get response from Vantage across all the available databases.</li>\n",
    "</ul>\n",
    "<br>\n",
    "<p style = 'font-size:18px;font-family:Arial'><b>Why Vantage?</b></p>\n",
    "<p style = 'font-size:16px;font-family:Arial'>To maximize the business value of advanced analytic techniques including Machine Learning and Artificial Intelligence, it is estimated that organizations must scale their model development and deployment pipelines to 100s or 1000s of times greater amounts of data, models, or both.\n",
    "    <br>\n",
    "    <br>\n",
    "    ClearScape Analytics provides powerful, flexible end-to-end data connectivity, feature engineering, model training, evaluation, and operational functions that can be deployed at scale as enterprise data assets; treating the products of ML and AI as first-class analytic processes in the enterprise.</p>"
   ]
  },
  {
   "cell_type": "markdown",
   "metadata": {},
   "source": [
    "<p style = 'font-size:20px;font-family:Arial;'><b>Getting Data for This Demo</b></p>\n",
    "<p style = 'font-size:16px;font-family:Arial;'>We have provided data for this demo from lake instance. We have the option of ask questions about databases, tables, usuage of database etc.</p>"
   ]
  },
  {
   "cell_type": "markdown",
   "metadata": {},
   "source": [
    "<hr style=\"height:2px;border:none;\">\n",
    "<p style = 'font-size:20px;font-family:Arial'><b>1. Launch the Chatbot</b></p>\n",
    "\n",
    "\n",
    "<hr style=\"height:1px;border:none;\">\n",
    "<p style = 'font-size:18px;font-family:Arial'><b>1.1 Experience Bot deployed on Docker</b></p>\n",
    "\n",
    "\n",
    "<p style = 'font-size:16px;font-family:Arial'>If you would like to use The Experience Chatbot it is available by clicking the button below:</p>\n",
    "<a href=https://agent.ci.clearscape.teradata.com/dev-ui/ style=\"display: inline-flex; align-items: center; justify-content: center; background-color: #017373; color: #FFFFFF; font-family: Arial, sans-serif; font-size: 16px; font-weight: bold; text-decoration: none; padding: 12px 24px; border: none; border-radius: 8px; box-shadow: 0 4px 6px rgba(0, 0, 0, 0.1); cursor: pointer; transition: all 0.3s ease;\">\n",
    "  LAUNCH CHATBOT\n",
    "  <img src=https://img.icons8.com/ios-filled/50/ffffff/external-link.png alt=\"External Link Icon\" style=\"margin-left: 8px; width: 20px; height: 20px;\">\n",
    "</a>"
   ]
  },
  {
   "cell_type": "markdown",
   "metadata": {},
   "source": [
    "<hr style=\"height:2px;border:none;\">\n",
    "<p style = 'font-size:20px;font-family:Arial'><b>2. You can try your own question</b></p>\n",
    "\n",
    "\n",
    "<p style = 'font-size:16px;font-family:Arial'>Here are some sample questions that you can try out:</p>\n",
    "<ol style = 'font-size:16px;font-family:Arial'>\n",
    "    <li>Show me all the tables</li>\n",
    "    <li>Show me top 5 records from table: transaction_data</li>\n",
    "    <li>Give me aggregated resource usage summary</li>\n",
    "    <li>Give me usage of a table and views by users</li>\n",
    "    <li>Give me Column Summary for table: transaction_data</li>\n",
    "</ol>"
   ]
  },
  {
   "cell_type": "markdown",
   "metadata": {},
   "source": [
    "<hr style=\"height:2px;border:none;\">\n",
    "\n",
    "<b style = 'font-size:20px;font-family:Arial;'>Required Materials</b>\n",
    "<p style = 'font-size:16px;font-family:Arial;'>Let’s look at the elements we have available for reference for this notebook:</p>\n",
    "\n",
    "\n",
    "<p style = 'font-size:18px;font-family:Arial;'><b>Links:</b></p>\n",
    "<ul style = 'font-size:16px;font-family:Arial;'>\n",
    "    <li>Teradata MCP: <a href=https://github.com/Teradata/teradata-mcp-server>Teradata MCP server</a></li>\n",
    "    <li>Teradataml Python reference: <a href = 'https://docs.teradata.com/search/all?query=Python+Package+User+Guide&content-lang=en-US'>here</a></li>\n",
    "</ul>"
   ]
  },
  {
   "cell_type": "markdown",
   "metadata": {},
   "source": [
    "<footer style=\"padding-bottom:35px; border-bottom:3px solid #91A0Ab\">\n",
    "    <div style=\"float:left;margin-top:14px\">ClearScape Analytics™</div>\n",
    "    <div style=\"float:right;\">\n",
    "        <div style=\"float:left; margin-top:14px\">\n",
    "            Copyright © Teradata Corporation - 2024. All Rights Reserved\n",
    "        </div>\n",
    "    </div>\n",
    "</footer>"
   ]
  }
 ],
 "metadata": {
  "kernelspec": {
   "display_name": "Python 3 (ipykernel)",
   "language": "python",
   "name": "python3"
  },
  "language_info": {
   "codemirror_mode": {
    "name": "ipython",
    "version": 3
   },
   "file_extension": ".py",
   "mimetype": "text/x-python",
   "name": "python",
   "nbconvert_exporter": "python",
   "pygments_lexer": "ipython3",
   "version": "3.9.10"
  }
 },
 "nbformat": 4,
 "nbformat_minor": 4
}
