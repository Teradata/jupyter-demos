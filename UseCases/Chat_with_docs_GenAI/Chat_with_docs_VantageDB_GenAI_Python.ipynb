{
 "cells": [
  {
   "cell_type": "markdown",
   "id": "38bc532d-c78c-4c89-b191-242da0733f39",
   "metadata": {},
   "source": [
    "<header>\n",
    "   <p  style='font-size:36px;font-family:Arial; color:#F0F0F0; background-color: #00233c; padding-left: 20pt; padding-top: 20pt;padding-bottom: 10pt; padding-right: 20pt;'>\n",
    "       Chat with documents using Vantage as VectorDB and Generative AI\n",
    "  <br>\n",
    "       <img id=\"teradata-logo\" src=\"https://storage.googleapis.com/clearscape_analytics_demo_data/DEMO_Logo/teradata.svg\" alt=\"Teradata\" style=\"width: 125px; height: auto; margin-top: 20pt;\">\n",
    "    </p>\n",
    "</header>"
   ]
  },
  {
   "cell_type": "markdown",
   "id": "fff71661-19b4-423a-867a-7c815b064c81",
   "metadata": {},
   "source": [
    "<p style = 'font-size:20px;font-family:Arial;color:#00233C'><b>Introduction:</b></p>\n",
    "\n",
    "<p style = 'font-size:16px;font-family:Arial;color:#00233C'>In the Chat with documentation system using Generative AI demo, the combination of <b>RAG, Langchain, and LLM models</b> allows users to ask queries in layman's terms, retrieve relevant information from the Vector store, and generate accurate and concise answers based on the retrieved data. This integration of retrieval-based and generative-based approaches provides a powerful tool for extracting knowledge from structured sources and delivering user-friendly responses.</p>\n",
    "\n",
    "<p style = 'font-size:16px;font-family:Arial;color:#00233C'>In this demo we will build Chatbot using Panel (for chat UI), LangChain, a powerful library for working with LLMs like GPT-3.5, GPT-4, Bloom, etc. and JumpStart in ClearScape notebooks, a system is built where users can ask business questions in natural English and receive answers with data drawn from the relevant databases.</p>\n",
    "\n",
    "<p style = 'font-size:16px;font-family:Arial;color:#00233C'>The following diagram illustrates the architecture.</p>\n",
    "\n",
    "<center><img src=\"images/header_chat_td.png\" alt=\"architecture\"  width=800 height=800/></center>\n",
    "\n",
    "\n",
    "<br>\n",
    "<p style = 'font-size:16px;font-family:Arial;color:#00233C'>Before going any farther, let's get a better understanding of RAG, LangChain, and LLM.</p>\n",
    "\n",
    "<ol style = 'font-size:16px;font-family:Arial;color:#00233C'><b><li> Retrieval-Augmented Generation (RAG):</li></b></ol>\n",
    "<p style = 'font-size:16px;font-family:Arial;color:#00233C'> &emsp;  &emsp;RAG is a framework that combines the strengths of retrieval-based and generative-based approaches in question-answering systems.It utilizes both a retrieval model and a generative model to generate high-quality answers to user queries. The retrieval model is responsible for retrieving relevant information from a knowledge source, such as a database or documents. The generative model then takes the retrieved information as input and generates concise and accurate answers in natural language.</p>\n",
    "\n",
    "\n",
    "<p style = 'font-size:16px;font-family:Arial;color:#00233C'>A typical RAG (Retrieval-and-Generation) application has two main components:</p>\n",
    "\n",
    "<p style = 'font-size:16px;font-family:Arial;color:#00233C'><b>Indexing:</b> a pipeline for ingesting data from a source and indexing it. This usually happens offline. The indexing process involves several steps, including loading the data, splitting it into smaller chunks, and storing and indexing the splits. This is often done using a VectorStore and Embeddings model.</p>\n",
    "    \n",
    "<p style = 'font-size:16px;font-family:Arial;color:#00233C'><b>Retrieval and generation:</b> the actual RAG chain, which takes the user query at run time and retrieves the relevant data from the index, then passes that to the model. The retrieval process involves searching the index for the most relevant data based on the user query, and then passing that data to the model for generation.</p>\n",
    "\n",
    "<p style = 'font-size:16px;font-family:Arial;color:#00233C'>The most common full sequence from raw data to answer looks like:</p>\n",
    "<p style = 'font-size:16px;font-family:Arial;color:#00233C'><b>Indexing</b></p>\n",
    "<ul style = 'font-size:16px;font-family:Arial;color:#00233C'>\n",
    "    <li><b>Load:</b> Load: First we need to load our data. We'll use <code>PyPDFLoader</code> for this.</li>\n",
    "    <li><b>Split:</b> Text splitters break large Documents into smaller chunks. This is useful both for indexing data and for passing it in to a model, since large chunks are harder to search over and won't in a model's finite context window. Here, our pdf document will be splits into pages.</li>\n",
    "    <li><b>Store:</b> We need somewhere to store and index our splits, so that they can later be searched over. This is often done using a VectorStore and Embeddings model</li>\n",
    "    </ul>\n",
    "\n",
    "<p style = 'font-size:16px;font-family:Arial;color:#00233C'>The following diagram illustrates the architecture of load, split and store.</p>\n",
    "\n",
    "<center><img src=\"images/rag_load_store.png\" alt=\"rag indexing architecture\"  width=800 height=600/></center>\n",
    "<center>image source: <a href=\"https://python.langchain.com/docs/use_cases/question_answering/\">langchain.com</a></center>\n",
    "\n",
    "<p style = 'font-size:16px;font-family:Arial;color:#00233C'><b>Retrieval and generation</b></p>\n",
    "<ul style = 'font-size:16px;font-family:Arial;color:#00233C'>\n",
    "    <li><b>Retrieval:</b> During runtime, the user inputs a query. We first generate embeddings for it, which are then passed to the Vantage in the db_function <b>TD_VectorDistance</b> to retrieve similar documents as context. This context is then fed into the LLM model.</li>\n",
    "    <li><b>Generation:</b> Finally, the model generates an answer based on the retrieved data. The answer is then presented to the user.</li>\n",
    "    </ul>\n",
    "    \n",
    "<p style = 'font-size:16px;font-family:Arial;color:#00233C'>The following diagram illustrates the architecture of retrieval and generation.</p>\n",
    "<center><img src=\"images/rag_retrieval_generation_td.png\" alt=\"retrieval generation architecture\" width=800 height=600/></center>\n",
    "<center>image source: <a href=\"https://python.langchain.com/docs/use_cases/question_answering/\">langchain.com</a></center>\n",
    "\n",
    "<ol style = 'font-size:16px;font-family:Arial;color:#00233C' start=\"2\"><b><li> Langchain:</li></b></ol>\n",
    "<p style = 'font-size:16px;font-family:Arial;color:#00233C'> &emsp;  &emsp; LangChain is a framework that facilitates the integration and chaining of large language models with other tools and sources to build more sophisticated AI applications. LangChain does not serve its own LLMs; instead, it provides a standard way of communicating with a variety of LLMs, including those from OpenAI and HuggingFace. LangChain accelerates the development of AI applications with building blocks. We learn the leverage the following building blocks in this notebook:</p>\n",
    " \n",
    "<ol style = 'font-size:16px;font-family:Arial;color:#00233C'>\n",
    "    <li> <b> LLMs</b> – LangChain's <code>llm</code> class is designed to provide a standard interface for all LLM it supports.   </li>\n",
    "    <li> <b> PromptTemplate</b>  - LangChain’s <code>PromptTemplate</code> class are predefined structures for generating prompts for LLM’s. They can be reused across different LLM's.</li>\n",
    "    <li> <b> Chains</b> – When we build complex AI applications, we may need to combine multiple calls to LLM’s and to other components  LangChain’s <code>chain</code> class allows us to link calls to LLM’s and components. The most common type of chaining in any LLM application is combining a prompt template with an LLM and optionally an output parser. </li>\n",
    "</ol>\n",
    "\n",
    "<ol style = 'font-size:16px;font-family:Arial;color:#00233C' start=\"3\"><b><li> LLM Models (Large Language Models):</li></b></ol>\n",
    "\n",
    "<p style = 'font-size:16px;font-family:Arial;color:#00233C'> &emsp;  &emsp; LLM models refer to the large-scale language models that are trained on vast amounts of text data.\n",
    "These models, such as GPT-3 (Generative Pre-trained Transformer 3),  GPT-3.5, GPT-4, HuggingFace BLOOM, LLaMA, Google's FLAN-T5, etc. are capable of generating human-like text responses. LLM models have been pre-trained on diverse sources of text data, enabling them to learn patterns, grammar, and context from a wide range of topics. They can be fine-tuned for specific tasks, such as question-answering, natural language understanding, and text generation.\n",
    "LLM models have achieved impressive results in various natural language processing tasks and are widely used in AI applications for generating human-like text responses.</p>"
   ]
  },
  {
   "cell_type": "markdown",
   "id": "2ca49b9d-df0b-400a-acf8-0252ab8a2618",
   "metadata": {},
   "source": [
    "<p style = 'font-size:16px;font-family:Arial;color:#00233c'><b>Steps in the analysis:</b></p>\n",
    "<ol style = 'font-size:16px;font-family:Arial;color:#00233C'>\n",
    "    <li>Configuring the environment</li>\n",
    "    <li>Connect to Vantage</li>\n",
    "    <li>Data Exploration</li>\n",
    "    <li>Generate the embeddings</li>\n",
    "    <li>Load the existing embeddings to DB</li>\n",
    "    <li>Calculate the VectorDistance using Teradata Vantage in-DB function</li>\n",
    "    <li>LLM</li>\n",
    "    <li>Chat with documents</li>\n",
    "    <li>Cleanup</li>\n",
    "</ol>"
   ]
  },
  {
   "cell_type": "markdown",
   "id": "a833b5bf-74af-42be-8543-3782e1da95dc",
   "metadata": {},
   "source": [
    "<hr style='height:2px;border:none;background-color:#00233C;'>\n",
    "<b style = 'font-size:20px;font-family:Arial;color:#00233c'>1. Configuring the environment</b>"
   ]
  },
  {
   "cell_type": "markdown",
   "id": "4d94f1e8-489b-4084-80c6-c9cff1ef6ee8",
   "metadata": {},
   "source": [
    "<p style = 'font-size:18px;font-family:Arial;color:#00233c'><b>1.1 Install the required libraries</b></p>\n",
    "\n",
    "<div class=\"alert alert-block alert-info\">\n",
    "    <p style = 'font-size:16px;font-family:Arial;color:#00233C'><i><b>Note:</b>The installation of the required libraries will take approximately <b>4 to 5 minutes</b> for the first-time installation. However, if the libraries are already installed, the execution will complete within 5 seconds.</i></p>\n",
    "</div>"
   ]
  },
  {
   "cell_type": "code",
   "execution_count": null,
   "id": "2f6027a7-888d-441f-abc7-a6ea1c45f0a6",
   "metadata": {},
   "outputs": [],
   "source": [
    "!pip install --upgrade -r requirements.txt --quiet"
   ]
  },
  {
   "cell_type": "markdown",
   "id": "86b160ce-5ace-4116-86b6-394d6502553b",
   "metadata": {},
   "source": [
    "<div class=\"alert alert-block alert-info\">\n",
    "    <p style = 'font-size:16px;font-family:Arial;color:#00233C'><b>Note: </b><i>The above statements will install the required libraries to run this demo. Be sure to restart the kernel after executing the above lines to bring the installed libraries into memory. The simplest way to restart the Kernel is by typing zero zero: <b> 0 0</b></i></p>\n",
    "    </div>\n",
    "    \n",
    "<div class=\"alert alert-block alert-info\">\n",
    "    <p style = 'font-size:16px;font-family:Arial;color:#00233C'><b>Note: </b><i>To ensure that the Chatbot interface reflects the latest changes, please reload the page by clicking the 'Reload' button or pressing F5 on your keyboard for <b>first-time only</b> This will update the notebook with the latest modifications, and you'll be able to interact with the Chatbot using the new libraries.</i></p>\n",
    "    </div>"
   ]
  },
  {
   "cell_type": "markdown",
   "id": "61067c88-2e9a-4c92-985b-34dc4ab74a13",
   "metadata": {},
   "source": [
    "<hr style='height:1px;border:none;background-color:#00233C;'>\n",
    "\n",
    "<p style = 'font-size:18px;font-family:Arial;color:#00233c'><b>1.2 Import the required libraries</b></p>\n",
    "\n",
    "<p style = 'font-size:16px;font-family:Arial;color:#00233C'>Here, we import the required libraries, set environment variables and environment paths (if required).</p>"
   ]
  },
  {
   "cell_type": "code",
   "execution_count": null,
   "id": "ea50a4aa-1211-44fc-8166-317c35253207",
   "metadata": {},
   "outputs": [],
   "source": [
    "import os\n",
    "import timeit\n",
    "import tqdm\n",
    "from tqdm.notebook import *\n",
    "\n",
    "tqdm_notebook.pandas()\n",
    "\n",
    "# teradata lib\n",
    "from teradataml import *\n",
    "\n",
    "# helper functions\n",
    "from utils.sql_helper_func import *\n",
    "from utils.tdapiclient_helper_func import *\n",
    "\n",
    "# LLM\n",
    "from langchain.chat_models import ChatOpenAI\n",
    "from langchain.schema import StrOutputParser\n",
    "from langchain.prompts import PromptTemplate\n",
    "from langchain.schema import StrOutputParser\n",
    "from langchain.text_splitter import RecursiveCharacterTextSplitter\n",
    "from langchain.document_loaders import PyPDFLoader\n",
    "\n",
    "\n",
    "# Suppress warnings\n",
    "import warnings\n",
    "warnings.filterwarnings(\"ignore\")\n",
    "display.max_rows = 5"
   ]
  },
  {
   "cell_type": "markdown",
   "id": "9e11368d-2efb-4906-8e28-d50f0bca6429",
   "metadata": {},
   "source": [
    "<div class=\"alert alert-block alert-info\">\n",
    "    <p style = 'font-size:16px;font-family:Arial;color:#00233C'><i>The code above will download the necessary models to generate the embeddings required to run this demo. The initial download may take approximately 50-60 seconds minutes if you are running this demo for the first time in this environment. However, subsequent runs will be much faster since the models will already be available locally.</i></p>\n",
    "</div>"
   ]
  },
  {
   "cell_type": "markdown",
   "id": "a59718f8-7af4-4d1a-abc7-a860eb7cbae3",
   "metadata": {},
   "source": [
    "<hr style='height:2px;border:none;background-color:#00233C;'>\n",
    "<b style = 'font-size:20px;font-family:Arial;color:#00233c'>2. Connect to Vantage and OpenAI</b>"
   ]
  },
  {
   "cell_type": "markdown",
   "id": "83770df6-b923-4cc4-a839-de55c62b32ae",
   "metadata": {},
   "source": [
    "<p style = 'font-size:18px;font-family:Arial;color:#00233c'><b>2.1 Connect to Vantage</b></p>\n",
    "<p style = 'font-size:16px;font-family:Arial;color:#00233C'>We will be prompted to provide the password. We will enter the password, press the Enter key, and then use the down arrow to go to the next cell.</p>"
   ]
  },
  {
   "cell_type": "code",
   "execution_count": null,
   "id": "164cfc91-93ed-45b9-98ba-73b91a50c28b",
   "metadata": {},
   "outputs": [],
   "source": [
    "%run -i ../startup.ipynb\n",
    "eng = create_context(host = 'host.docker.internal', username='demo_user', password = password)\n",
    "print(eng)\n",
    "execute_sql('''SET query_band='DEMO= Chat_with_docs_VantageDB_GenAI_Python.ipynb;' UPDATE FOR SESSION;''')"
   ]
  },
  {
   "cell_type": "markdown",
   "id": "4153b889-0924-4e0f-acc8-6b0d440c77b3",
   "metadata": {},
   "source": [
    "<hr style='height:1px;border:none;background-color:#00233C;'>\n",
    "\n",
    "<p style = 'font-size:18px;font-family:Arial;color:#00233c'><b>2.2 Get the OpenAI API key</b></p>"
   ]
  },
  {
   "cell_type": "markdown",
   "id": "73e10add-4b3c-4fc5-9359-0b44737bba0f",
   "metadata": {},
   "source": [
    "<p style = 'font-size:16px;font-family:Arial;color:#00233C'>In order to utilize this demo, you will need an OpenAI API key. If you do not have one, please refer to the instructions provided in this guide to obtain your OpenAI API key: </p>\n",
    "\n",
    "\n",
    "<a href=\"..//Openai_setup_api_key/Openai_setup_api_key.md\" style=\"text-decoration:none;\" target=\"_blank\"><button style=\"font-size:16px;font-family:Arial;color:#fff;background-color:#00233C;border:none;border-radius:5px;cursor:pointer;height:50px;line-height:50px;display:flex;align-items:center;\">OpenAI API Key Guide <span style=\"margin-left:10px;\">&#8658;</span></button>\n",
    "</a>"
   ]
  },
  {
   "cell_type": "code",
   "execution_count": null,
   "id": "1b87f56a-894d-4c45-9c79-0fd468336eb3",
   "metadata": {},
   "outputs": [],
   "source": [
    "import getpass\n",
    "\n",
    "# enter your openai api key\n",
    "api_key = getpass.getpass(\"\\n Please Enter OpenAI API key: \")"
   ]
  },
  {
   "cell_type": "markdown",
   "id": "b22db506-84a7-406b-be9f-9fe69d268ba4",
   "metadata": {},
   "source": [
    "<p style = 'font-size:16px;font-family:Arial;color:#00233C'>Begin running steps with Shift + Enter keys. </p>"
   ]
  },
  {
   "cell_type": "markdown",
   "id": "490f3fe2-ed63-4838-bb19-4c0d0157453d",
   "metadata": {},
   "source": [
    "<hr style='height:2px;border:none;background-color:#00233C;'>\n",
    "<b style = 'font-size:20px;font-family:Arial;color:#00233c'>3. Data Exploration</b>\n",
    "\n",
    "<p style = 'font-size:16px;font-family:Arial;color:#00233C'>The Chat with documentation demo aims to demonstrate how users can interact with documents such as insurance policy wordings, invoices, and other similar documents through a conversational interface.</p>\n",
    "\n",
    "<p style = 'font-size:16px;font-family:Arial;color:#00233C'>The Traveller Easy Single Trip - International insurance policy is a comprehensive travel insurance plan that provides cover for a wide range of risks, including medical expenses, trip cancellation, loss of luggage, and personal accident. The policy is designed to be affordable and flexible, and it can be purchased online or over the phone.<p/>"
   ]
  },
  {
   "cell_type": "markdown",
   "id": "5c1f35d2-fc39-4a0a-9008-3850cd58e50e",
   "metadata": {},
   "source": [
    "<p style = 'font-size:16px;font-family:Arial;color:#00233C'>The source data from <a href=\"https://axa-com-my.cdn.axa-contento-118412.eu/axa-com-my/3d2f84a5-42b9-459b-911a-710546df0633_Policy+wording+-+SmartTraveller+Easy+Single+Trip+-+International+%280820%29.pdf\">AXA</a> is loaded in FAISS as Vector Database.</p>\n",
    "\n",
    "<p style = 'font-size:16px;font-family:Arial;color:#00233C'>Now, let's use <code>PyMuPDFLoader</code> library to read the pdf document and split it into pages.</p>"
   ]
  },
  {
   "cell_type": "code",
   "execution_count": null,
   "id": "b7718aa2-2787-471d-85f4-fd592b151d08",
   "metadata": {},
   "outputs": [],
   "source": [
    "from langchain_community.document_loaders import PyMuPDFLoader\n",
    "\n",
    "pages = PyMuPDFLoader(\"data/SmartTraveller_International.pdf\").load_and_split()"
   ]
  },
  {
   "cell_type": "code",
   "execution_count": null,
   "id": "52c18903-0489-4db5-9224-876577442320",
   "metadata": {},
   "outputs": [],
   "source": [
    "# print(pages[2].page_content)"
   ]
  },
  {
   "cell_type": "markdown",
   "id": "b0d6d954-b72f-41c3-9f8c-bc15cf74d672",
   "metadata": {},
   "source": [
    "<p style = 'font-size:16px;font-family:Arial;color:#00233C'>There are 24 pages that describe the policy in detail.</p>"
   ]
  },
  {
   "cell_type": "markdown",
   "id": "58a78f9c-2c05-4221-86d5-3a92ee2dc525",
   "metadata": {},
   "source": [
    "<hr style='height:1px;border:none;background-color:#00233C;'>\n",
    "\n",
    "<p style = 'font-size:18px;font-family:Arial;color:#00233c'><b>3.1 Do you want to generate the embeddings?</b></p>    \n",
    "<p style = 'font-size:16px;font-family:Arial;color:#00233C'>We have already generated embeddings for this insurance document and stored them in files.</p>\n",
    "\n",
    "<center><img src=\"images/decision_emb_gen.png\" alt=\"embeddings_decision\"  width=300 height=300/></center>\n",
    "\n",
    "<div class=\"alert alert-block alert-info\">\n",
    "    <p style = 'font-size:16px;font-family:Arial;color:#00233C'><i><b>Note: If you would like to skip the embedding generation step and move on to the next section, please click  <a href=\"#section50\">here</a> to skip.</b></i></p>\n",
    "</div>\n",
    "\n",
    "<p style = 'font-size:16px;font-family:Arial;color:#00233C'>To save time, you can move to the already generated embeddings section. However, if you would like to see how we generate the embeddings, or if you need to generate the embeddings for a different dataset, then continue to the following section.</p>"
   ]
  },
  {
   "cell_type": "markdown",
   "id": "5f1626b5-1693-4683-a275-5aa80c862f8d",
   "metadata": {},
   "source": [
    "<hr style='height:2px;border:none;background-color:#00233C;'>\n",
    "<a id='section4'></a>\n",
    "<b style = 'font-size:20px;font-family:Arial;color:#00233c'>4. Generate the embeddings </b>\n",
    "<p style = 'font-size:18px;font-family:Arial;color:#00233c'><b>4.1 Generate the embeddings for document content via API_Request In-database Function</b></p>    \n",
    "\n",
    "<p style='font-size:16px;font-family:Arial;color:#00233C'>OpenAI and Azure OpenAI, provide multiple APIs for our hosted models. We introduce integration with the embedding API, which can be used in various types of applications: Classification, Search, Recommendations, and Anomaly detection. For more information on our Teradata API Integration, click <a href='https://docs.teradata.com/r/Enterprise_IntelliFlex_VMware/Teradata-VantageTM-API-Integration-Guide-for-Cloud-Machine-Learning/Teradata-Partner-API/Welcome-to-Teradata-API-Integration'>here.</a></p>\n",
    "\n",
    "<p style='font-size:16px;font-family:Arial;color:#00233C'>Under the hood, we will utilize the OpenAI embeddings method to generate the embeddings. OpenAI embeddings are a type of word embedding that we can use to represent products in a way that captures their semantic meaning. To generate embeddings for a product table, we will use the product name field. We will employ the OpenAI Embeddings API to generate embeddings for each product. Please refer to the <a href=\"https://platform.openai.com/docs/guides/embeddings\"> Embeddings documentation</a> for more information about embeddings and types of models available.</p>\n",
    "\n",
    "<p style='font-size:16px;font-family:Arial;color:#00233C'>The OpenAI Embeddings API takes a text string as input and returns a vector of numbers that represent the embedding. The length of the vector depends on the model that we are using. For example, the text-embedding-3-small model returns a vector of 1536 numbers.</p>\n",
    "\n",
    "<p style='font-size:16px;font-family:Arial;color:#00233C'>In this demo, we will use <b>text-embedding-3-small</b> as the model and pass num_embeddings to <b>1536</b>.</p>"
   ]
  },
  {
   "cell_type": "code",
   "execution_count": null,
   "id": "c2386198-83cb-4c17-9eb2-597807b58720",
   "metadata": {},
   "outputs": [],
   "source": [
    "def read_document_content(pages):\n",
    "    docs = [p.page_content for p in pages]\n",
    "\n",
    "    # split the page content\n",
    "    text_splitter = RecursiveCharacterTextSplitter(\n",
    "        chunk_size=200,\n",
    "        chunk_overlap=30,\n",
    "        length_function=len,\n",
    "        is_separator_regex=False,\n",
    "    )\n",
    "\n",
    "    docs = text_splitter.create_documents(docs)\n",
    "\n",
    "    texts_data = []\n",
    "    for t in docs:\n",
    "        texts_data.append(t.page_content)\n",
    "\n",
    "    # generate the dataframe\n",
    "    df = pd.DataFrame(data=texts_data, columns=[\"text\"])\n",
    "    df[\"id\"] = range(1090, len(df.index) + 1090)\n",
    "    cols = df.columns.tolist()\n",
    "    cols = cols[-1:] + cols[:-1]\n",
    "    df = df[cols]\n",
    "\n",
    "    return df"
   ]
  },
  {
   "cell_type": "markdown",
   "id": "0d0aa71d-457d-448a-ad11-da18ed77dd94",
   "metadata": {},
   "source": [
    "<p style='font-size:16px;font-family:Arial;color:#00233C'>In the above cell, we will read all the pages of the PDF file and split them into pages. To process further, we will split them into semantic character splits to maintain the context of sentences.</p>"
   ]
  },
  {
   "cell_type": "code",
   "execution_count": null,
   "id": "ceaf7b0e-4907-40cd-be0e-f828dfe53f52",
   "metadata": {
    "tags": []
   },
   "outputs": [],
   "source": [
    "# read pdf file content\n",
    "df = read_document_content(pages)\n",
    "\n",
    "# copy docs to vantage\n",
    "copy_to_sql(df, table_name=\"docs_data\", primary_index=\"id\", if_exists=\"replace\")\n",
    "\n",
    "tdf_docs = DataFrame(\"docs_data\")\n",
    "print(\"Data information: \\n\", tdf_docs.shape)\n",
    "tdf_docs.sort(\"id\")"
   ]
  },
  {
   "cell_type": "markdown",
   "id": "5c83ad71-58cb-4338-88bc-0d529f25cec0",
   "metadata": {},
   "source": [
    "<p style = 'font-size:16px;font-family:Arial;color:#00233C'>To generate the embeddings, we will call the <b>generate_embeddings_tdapiclient()</b> function. This function will takes the Teradata DataFrame as input generate the embeddings and returns embeddings dataframe. Once the embeddings are generated, we will pass them to the <b>VectorDistance()</b> function later on to get the recommendations.</p>\n",
    "\n",
    "<div class=\"alert alert-block alert-warning\">\n",
    "    <p style = 'font-size:16px;font-family:Arial;color:#00233C'><i><b>Note: The embedding generation step is estimated to take approximately 2 to 4 minutes to complete. If you prefer to skip this step and proceed to the next section, please click  <a href=\"#section50\">here</a> to skip.</b></i></p>\n",
    "</div>"
   ]
  },
  {
   "cell_type": "markdown",
   "id": "8a442943-d13f-4c0f-a2a5-4d22294d4a55",
   "metadata": {},
   "source": [
    "<div class=\"alert alert-info\">\n",
    "    <p style = 'font-size:16px;font-family:Arial;color:#00233C'><i><b>Please be patient:</b> Generating embeddings for 1500+ document contents may take up to 2 to 4 minutes. It is depends on number of APMS in the database. Since the volume of data is large and the machine is small, going through the below code could take up to 4 minutes. </i></p>\n",
    "</div>"
   ]
  },
  {
   "cell_type": "code",
   "execution_count": null,
   "id": "eea6c2a7-a006-4b57-a9d3-7cda9b93c6fa",
   "metadata": {},
   "outputs": [],
   "source": [
    "start = timeit.default_timer()\n",
    "tdf_text_embeddings = generate_embeddings_tdapiclient(\n",
    "    tdf=tdf_docs, api_key=api_key, text_column=\"text\"\n",
    ")\n",
    "end = timeit.default_timer()\n",
    "load_time = end - start\n",
    "print(\n",
    "    f\"generate the embeddings for {tdf_text_embeddings.shape[0]} text:\\t\",\n",
    "    load_time,\n",
    ")\n",
    "print(\"----- complete -----\")"
   ]
  },
  {
   "cell_type": "markdown",
   "id": "1c7fd6f8-e868-4674-9412-4bc2359ad61b",
   "metadata": {},
   "source": [
    "<hr style='height:1px;border:none;background-color:#00233C;'>\n",
    "\n",
    "<a id='section42'></a>\n",
    "<p style = 'font-size:18px;font-family:Arial;color:#00233c'><b>4.2 Display the text embeddings</b></p>"
   ]
  },
  {
   "cell_type": "code",
   "execution_count": null,
   "id": "33438fb9-e0fb-46ea-81fa-9b794db69aa5",
   "metadata": {},
   "outputs": [],
   "source": [
    "print(\"Data information: \\n\", tdf_text_embeddings.shape)\n",
    "\n",
    "display.suppress_vantage_runtime_warnings = True\n",
    "tdf_text_embeddings"
   ]
  },
  {
   "cell_type": "markdown",
   "id": "f668715a-b5f7-4727-a786-62e0f963e4a9",
   "metadata": {},
   "source": [
    "<p style = 'font-size:16px;font-family:Arial;color:#00233C'>We can see that generated embeddings for all of the products are in vector of 1536 columns. </p>\n",
    "    <p style = 'font-size:16px;font-family:Arial;color:#00233C'>For example: The generated embeddings for product name: <b>What is the email address of Customer Service Department?</b> consists of 1536 numbers and looks like:<br>\n",
    "    <code>-0.038744\t-0.016937\t-0.017475\t0.003624\t0.00744\t-0.00275\t0.02374</code></p>"
   ]
  },
  {
   "cell_type": "markdown",
   "id": "77488385-91b1-43a6-a1ab-0b3ecfd6d5c7",
   "metadata": {},
   "source": [
    "<p style = 'font-size:16px;font-family:Arial;color:#00233C'>Now, we have generated the embeddings from the document pages and saved the embeddings dataframe into a vantage table named <b>text_embeddings</b> to use it further.</p>"
   ]
  },
  {
   "cell_type": "code",
   "execution_count": null,
   "id": "629d5a45-e17e-40a1-ad5b-1954f3f61a79",
   "metadata": {},
   "outputs": [],
   "source": [
    "delete_and_copy_embeddings(\n",
    "    table_name=\"text_embeddings\", tdf=tdf_text_embeddings, eng=eng\n",
    ")"
   ]
  },
  {
   "cell_type": "markdown",
   "id": "915ac502-2983-4b13-958f-18584b870641",
   "metadata": {},
   "source": [
    "<div class=\"alert alert-block alert-info\" id=\"no-azure\">\n",
    "    <p style = 'font-size:16px;font-family:Arial;color:#00233C'><i><b>Note</b>: If you're generating embeddings for a new document and plan to store it as a file, consider uncommenting the code below. Doing so will significantly speed up the process in future runs by skipping section 4 altogether.</i></p>\n",
    "</div>"
   ]
  },
  {
   "cell_type": "code",
   "execution_count": null,
   "id": "b04e859f-8f65-4a17-a536-4365692cf8c7",
   "metadata": {},
   "outputs": [],
   "source": [
    "# store the embeddings if you're generating for new document for speed up in next run\n",
    "df = tdf_text_embeddings.to_pandas().reset_index()\n",
    "df.to_parquet('./embeddings/df_SmartTraveller_International_txt_emb_200_30.parquet.gzip',compression='gzip')"
   ]
  },
  {
   "cell_type": "markdown",
   "id": "edfe9764-4e59-4c49-ac76-85823a910fd0",
   "metadata": {},
   "source": [
    "<a id='section50'></a>\n",
    "\n",
    "<hr style='height:2px;border:none;background-color:#00233C;'>\n",
    "<b style = 'font-size:20px;font-family:Arial;color:#00233c'>5. Load the existing embeddings to DB</b>\n",
    "\n",
    "<p style = 'font-size:18px;font-family:Arial;color:#00233c'><b>5.1 Load the products and searched products embeddings</b></p>\n",
    "\n",
    "<p style = 'font-size:16px;font-family:Arial;color:#00233C'>In this demo, we will load existing embeddings from files to a database. This will allow us to perform further processing on the embeddings.</p>\n",
    "\n",
    "<div class=\"alert alert-block alert-info\" id=\"no-azure\">\n",
    "    <p style = 'font-size:16px;font-family:Arial;color:#00233C'><i><b>Note</b>: If you have already executed the Generate the embeddings section, then below code will be skipped automatically.</i></p>\n",
    "</div>"
   ]
  },
  {
   "cell_type": "code",
   "execution_count": null,
   "id": "4e46a30a-0dc4-41bd-82e8-0ce9d4884c57",
   "metadata": {},
   "outputs": [],
   "source": [
    "is_section4_executed = False\n",
    "try:\n",
    "    is_section4_executed = DataFrame.from_table(\"text_embeddings\").size > 0\n",
    "except:\n",
    "    is_section4_executed = False"
   ]
  },
  {
   "cell_type": "code",
   "execution_count": null,
   "id": "a1fc8e33-08d5-48e7-9293-c6dc78d44b5b",
   "metadata": {},
   "outputs": [],
   "source": [
    "from IPython.display import display, Markdown\n",
    "\n",
    "def get_section5_desc_start():\n",
    "    return \"\"\"<p style = 'font-size:16px;font-family:Arial;color:#00233C'>The code above first reads the data from the files. The files contain information about the product embeddings and the customer's searched product embeddings. The code then loads the data into a permanent table in SQL. Once the data is loaded, we will use the Vantage in-database function <code>VectorDistance</code> to calculate the distance between the product embeddings and the customer's searched product embeddings. The data contains product embeddings, which are lists of numerical values, or vectors.</p>\n",
    "    <p style = 'font-size:16px;font-family:Arial;color:#00233C'>The embeddings file contains over 1500 records, each with 1,536 numerical features. This means that the file is quite large and it may take some time to load it into SQL.</p>\n",
    "    <div class=\"alert alert-block alert-info\" id=\"no-azure\">\n",
    "    <p style = 'font-size:16px;font-family:Arial;color:#00233C'><i><b>Note</b>: Please be patient. The code above is loading data from files and copying it to SQL. This process may take 30-50 seconds.</i></p>\n",
    "    </div>\"\"\"\n",
    "\n",
    "def get_section5_desc_end():\n",
    "    return \"\"\"<a id='section52'></a><p style = 'font-size:18px;font-family:Arial;color:#00233c'><b>5.2 Display the product embeddings</b></p>\n",
    "    <p style = 'font-size:16px;font-family:Arial;color:#00233C'>To give you a better idea of what the embeddings look like, here are the first five rows of the product embeddings:</p>\"\"\"\n",
    "\n",
    "def get_section5_desc_sample():\n",
    "    return \"\"\"<p style = 'font-size:16px;font-family:Arial;color:#00233C'>We can see that generated embeddings for all of the products are in vector of 1536 columns. </p>\n",
    "    <p style = 'font-size:16px;font-family:Arial;color:#00233C'>For example: The generated embeddings for product name: <b>What is the email address of Customer Service Department?</b> consists of 1536 numbers and looks like:<br>\n",
    "    <code>-0.038744\t-0.016937\t-0.017475\t0.003624\t0.00744\t-0.00275\t0.02374</code></p>\"\"\"\n",
    "\n",
    "def load_the_emb():\n",
    "    is_section5_executed = False\n",
    "    if not is_section4_executed:\n",
    "        is_section5_executed = True\n",
    "\n",
    "        start = timeit.default_timer()\n",
    "        display(Markdown(get_section5_desc_start()))\n",
    "        # load product_embeddings to sql\n",
    "        text_embeddings_os_prq = pd.read_parquet(\n",
    "            \"./embeddings/df_SmartTraveller_International_txt_emb_200_30.parquet.gzip\"\n",
    "        )\n",
    "\n",
    "        print(\"embeddings shape\", text_embeddings_os_prq.shape)\n",
    "        delete_and_copy_embeddings(\n",
    "            table_name=\"text_embeddings\", tdf=text_embeddings_os_prq, eng=eng\n",
    "        )\n",
    "        end = timeit.default_timer()\n",
    "\n",
    "\n",
    "        load_time = end - start\n",
    "        print(f\"embeddings load time:\\t\", load_time)\n",
    "        display(Markdown(get_section5_desc_end()))\n",
    "        product_embeddings_os = DataFrame(\"text_embeddings\")\n",
    "\n",
    "        # display(Markdown(get_section5_desc_sample()))\n",
    "        return product_embeddings_os, is_section5_executed\n",
    "    else:\n",
    "        # print(\"Section 4: Generate the embeddings is already executed!\")\n",
    "        display(\n",
    "            Markdown(\n",
    "                \"\"\"<br><div class=\"alert alert-block alert-success\">\n",
    "        <p style = 'font-size:16px;font-family:Arial;color:#00233C'><i>Section 4: Generate the embeddings is already executed! So, skipping the execution of above code.</i></p></div>\"\"\"\n",
    "            )\n",
    "        )\n",
    "\n",
    "        return None, is_section5_executed\n",
    "\n",
    "sample_embeddings, flag = load_the_emb()\n",
    "sample_embeddings.sort(\"id\") if sample_embeddings is not None else None"
   ]
  },
  {
   "cell_type": "markdown",
   "id": "59abf52c-15b3-43fb-95bc-7675f3c4e0cb",
   "metadata": {},
   "source": [
    "<p style = 'font-size:16px;font-family:Arial;color:#00233C'>The code below will not run if Section 5 has already been skipped.</p>"
   ]
  },
  {
   "cell_type": "code",
   "execution_count": null,
   "id": "7ede1d0a-db0e-4ed4-a021-c8ffc544a8ad",
   "metadata": {},
   "outputs": [],
   "source": [
    "display(Markdown(get_section5_desc_sample())) if flag else None"
   ]
  },
  {
   "cell_type": "markdown",
   "id": "0fac5492-524e-442e-9696-38d023e02699",
   "metadata": {},
   "source": [
    "<hr style='height:2px;border:none;background-color:#00233C;'>\n",
    "<b style = 'font-size:20px;font-family:Arial;color:#00233c'>6. Calculate the VectorDistance using Teradata Vantage in-DB function</b>"
   ]
  },
  {
   "cell_type": "markdown",
   "id": "ec98b12c-276c-41d5-aa7c-abb04cccf5b8",
   "metadata": {},
   "source": [
    "<p style = 'font-size:16px;font-family:Arial;color:#00233C'>The TD_VectorDistance function accepts a table of target vectors and a table of reference vectors and returns a table that contains the distance between target-reference pairs.</p>\n",
    "\n",
    "<p style = 'font-size:16px;font-family:Arial;color:#00233C'>The function computes the distance between the target pair and the reference pair from the same table if you provide only one table as the input.</p>"
   ]
  },
  {
   "cell_type": "markdown",
   "id": "49be3e85-ff43-4b6b-b73c-0ceb0acdbcb6",
   "metadata": {},
   "source": [
    "<p style = 'font-size:16px;font-family:Arial;color:#00233C'>The VectorDistance function calculates the distance between a target vector and a reference vector. We use the cosine distance metric, which measures the similarity between two vectors. The function can return the maximum of 1 to 100 closest reference vectors to include in the output table for each target vector. In this demo, we want the top 2 closest reference vectors to the target vector.</p>\n",
    "\n",
    "<p style = 'font-size:16px;font-family:Arial;color:#00233C'>The VectorDistance function have a parameter <b>distance_measure</b>. You can pass anyone from the below list. Default value is cosine.</p>\n",
    "\n",
    "<ol style = 'font-size:16px;font-family:Arial;color:#00233C'>\n",
    "    <li><b>Cosine distance measures</b> the similarity between two vectors by calculating the cosine of the angle between them. It is a good measure of similarity for high-dimensional data, as it is not affected by the magnitude of the vectors.</li>\n",
    "    <li><b>Euclidean distance measures</b> the distance between two points in a Euclidean space. It is the most common distance measure, and it is a good measure of similarity for low-dimensional data.</li>\n",
    "    <li><b>Manhattan distance measures</b> the distance between two points in a Manhattan space. It is similar to Euclidean distance, but it uses the absolute value of the difference between the coordinates instead of the square of the difference.</li>\n",
    "</ol>\n",
    "\n",
    "<center><img src=\"images/distance_measure.png\" alt=\"distance_measure\"  width=600 height=600/></center>"
   ]
  },
  {
   "cell_type": "markdown",
   "id": "a4aa7006-a178-4f6d-805a-27378ce05aa6",
   "metadata": {},
   "source": [
    "<p style = 'font-size:16px;font-family:Arial;color:#00233C'>The below function, <code>TD_VECTORDISTANCE</code>, will take the target table, reference table, embedding column names, and number of recommendations.</p>"
   ]
  },
  {
   "cell_type": "code",
   "execution_count": null,
   "id": "29600ff1-b564-4890-a3ea-c96fd76a63e5",
   "metadata": {},
   "outputs": [],
   "source": [
    "def calculate_vector_distance(target_table, reference_table, emb_column_names, topk):\n",
    "    start = timeit.default_timer()\n",
    "    print(\"calculate_vector_distance called\")\n",
    "    VectorDistance_out = VectorDistance(\n",
    "        target_id_column=\"id\",\n",
    "        target_feature_columns=emb_column_names,\n",
    "        ref_id_column=\"id\",\n",
    "        ref_feature_columns=emb_column_names,\n",
    "        distance_measure=[\"Cosine\"],\n",
    "        topk=topk,\n",
    "        target_data=target_table,\n",
    "        reference_data=reference_table,\n",
    "    )\n",
    "\n",
    "    print(f\"vector-distance calculation time:\\t\", timeit.default_timer() - start)\n",
    "    return VectorDistance_out.result"
   ]
  },
  {
   "cell_type": "markdown",
   "id": "31a6285e-fbe5-4808-accc-ad2a0a460c62",
   "metadata": {},
   "source": [
    "<p style = 'font-size:16px;font-family:Arial;color:#00233C'>To view the recommendations, we need to join two tables together. First, we will join the vector distance result table with the document text table. This will give us a table that contains the vector distance scores for each texts, as well as the text embeddings. Then, we will join this table with the query text table. This will give us a final table that contains the distance measures for query texts.</p>"
   ]
  },
  {
   "cell_type": "code",
   "execution_count": null,
   "id": "bdd5a90c-d8d3-4194-9c83-02ca443b584a",
   "metadata": {},
   "outputs": [],
   "source": [
    "def get_final_recommendations(\n",
    "    vector_distance_df, text_embeddings_df, query_embeddings_df\n",
    "):\n",
    "    print(\"get_final_recommendations called\")\n",
    "    text_embeddings_df_selected_columns = text_embeddings_df.select([\"id\", \"text\"])\n",
    "\n",
    "    st1 = timeit.default_timer()\n",
    "    # join vector-distance results and products\n",
    "    vectordist_text_join_result = vector_distance_df.merge(\n",
    "        right=text_embeddings_df_selected_columns,\n",
    "        left_on=\"reference_id\",\n",
    "        right_on=\"id\",\n",
    "        lsuffix=\"t1\",\n",
    "        rsuffix=\"t2\",\n",
    "    )\n",
    "    print(f\"Time for vector_distance_df.merge:\\t\", timeit.default_timer() - st1)\n",
    "\n",
    "    # join the above joined table with search products\n",
    "    vectordist_text_join_result_selected = vectordist_text_join_result[\n",
    "        [\"id\", \"text\", \"target_id\", \"distancetype\", \"distance\"]\n",
    "    ]\n",
    "\n",
    "    # join_result_sorted_selected\n",
    "    df_query_emb_selected = query_embeddings_df.select([\"id\", \"text\"])\n",
    "\n",
    "    st2 = timeit.default_timer()\n",
    "    # recommendation results\n",
    "    df_recommendation = df_query_emb_selected.merge(\n",
    "        right=vectordist_text_join_result_selected,\n",
    "        left_on=\"id\",\n",
    "        right_on=\"target_id\",\n",
    "        how=\"inner\",\n",
    "        lsuffix=\"_search\",\n",
    "        rsuffix=\"_recommended\",\n",
    "    )\n",
    "    print(f\"Time for df_query_emb_selected.merge:\\t\", timeit.default_timer() - st2)\n",
    "\n",
    "    st3 = timeit.default_timer()\n",
    "    # filter with exact match\n",
    "    # df_recommendation = df_recommendation[df_recommendation.distance > 0.001]\n",
    "    print(f\"Time for filter distance:\\t\", timeit.default_timer() - st3)\n",
    "\n",
    "    st3 = timeit.default_timer()\n",
    "    # sort by distance\n",
    "    df_recommendation = df_recommendation.sort(\n",
    "        [\"id__search\", \"distance\"], ascending=True\n",
    "    )\n",
    "    print(f\"Time for df_recommendation.sort:\\t\", timeit.default_timer() - st3)\n",
    "\n",
    "    return df_recommendation[[\"text__recommended\"]]"
   ]
  },
  {
   "cell_type": "markdown",
   "id": "87c95523",
   "metadata": {},
   "source": [
    "<hr style='height:2px;border:none;background-color:#00233C;'>\n",
    "<b style = 'font-size:20px;font-family:Arial;color:#00233c'>7. LLM </b>"
   ]
  },
  {
   "cell_type": "markdown",
   "id": "680228a2-3bfa-44f4-8a02-b73fa8bf8e95",
   "metadata": {},
   "source": [
    "<p style = 'font-size:18px;font-family:Arial;color:#00233c'><b>7.1 Define LLM model</b></p>  \n",
    "\n",
    "<p style = 'font-size:16px;font-family:Arial;color:#00233C'>In OpenAI's language models, the <b>temperature</b> parameter controls the randomness of the generated text. It affects the diversity and creativity of the model's responses. It is always a number between 0 and 1. A temperature of 0 means the responses will be very straightforward, almost deterministic (meaning you almost always get the same response to a given prompt). A temperature of 1 means the responses can vary wildly.</p>\n",
    "\n",
    "\n",
    "<p style = 'font-size:16px;font-family:Arial;color:#00233C'>A higher temperature value, such as 1.0, increases the randomness and diversity of the generated output. This can lead to more varied and surprising responses, but it may also result in less coherence and occasional nonsensical outputs. A higher temperature means that the model might select a word with slightly lower probability, leading to more variation, randomness and creativity. A very high temperature therefore increases the risk of <b>hallucination</b>, meaning that the model starts selecting words that will make no sense or be off topic.</p>\n",
    "\n",
    "<p style = 'font-size:16px;font-family:Arial;color:#00233C'>On the other hand, a lower temperature value, such as 0.2 or below, reduces randomness and makes the model's output more focused and deterministic. The generated text is likely to be more conservative, sticking closely to patterns observed in the training data. A temperature of 0 means roughly that the model will always select the highest probability word.</p>\n",
    "\n",
    "<p style = 'font-size:16px;font-family:Arial;color:#00233C'>Choosing an appropriate temperature value depends on the desired output. Higher temperatures can be useful for creative tasks or brainstorming, while lower temperatures are preferred when you need more control over the output, such as when generating specific responses or following a particular style.</p>"
   ]
  },
  {
   "cell_type": "code",
   "execution_count": null,
   "id": "fbceafb4-793b-4d62-ab22-c9d49ac9a759",
   "metadata": {},
   "outputs": [],
   "source": [
    "from langchain.llms import OpenAI\n",
    "\n",
    "# OpenAI API\n",
    "os.environ[\"OPENAI_API_KEY\"] = api_key\n",
    "\n",
    "# call open AI model - api\n",
    "llm = OpenAI(temperature=0, model=\"gpt-3.5-turbo\")"
   ]
  },
  {
   "cell_type": "markdown",
   "id": "3a32ecf7-575b-460b-ab16-773a7d7b9e8c",
   "metadata": {},
   "source": [
    "<hr style='height:1px;border:none;background-color:#00233C;'>\n",
    "\n",
    "<p style = 'font-size:18px;font-family:Arial;color:#00233c'><b>7.2 Create a Prompt templates and Chain</b></p>\n",
    "\n",
    "<p style = 'font-size:16px;font-family:Arial;color:#00233C'><code>PromptTemplate</code> in Language Large Models (LLMs) are pre-defined templates that guide the user in generating prompts for the model. These templates provide a structure for the user to input specific information, such as <b>topic, tone,</b> and <b>style</b>, to help the model generate more accurate and relevant responses. By using prompt templates, users can create more effective prompts and improve the quality of the model's responses. A template may include instructions, few-shot examples, and specific context and questions appropriate for a given task.</p>"
   ]
  },
  {
   "cell_type": "code",
   "execution_count": null,
   "id": "ee40e7af-b23b-456e-be13-e9a3a382d249",
   "metadata": {},
   "outputs": [],
   "source": [
    "from langchain import PromptTemplate\n",
    "\n",
    "prompt_template_query = \"\"\"Answer the question based on the context below. Keep the answer short and concise. \n",
    "    \n",
    "    \n",
    "    If user will start by greeting, just say, \"Hey there! 😊 Welcome to our chatbot!\"\n",
    "    \n",
    "    Context: Family means the Insured Person including his/her legal spouse and/or a maximum of nine (9) of the Insured Person’s legal Children insured under the same Policy.\n",
    "\n",
    "    Question: What the meaning of Family?\n",
    "    Answer:\n",
    "    \n",
    "    Only use the following context to generate the answer: \\n\n",
    "    Context: {context}\n",
    "    \n",
    "    Write an answer in simple and professional tone for Question: {input}\n",
    "    Answer: \n",
    "    \"\"\"\n",
    "\n",
    "prompt = PromptTemplate(\n",
    "    input_variables=[\"input\", \"context\"], template=prompt_template_query\n",
    ")\n",
    "\n",
    "# defining chain\n",
    "runnable = prompt | ChatOpenAI() | StrOutputParser()"
   ]
  },
  {
   "cell_type": "markdown",
   "id": "c41ea900-7703-4646-a3dd-fdbf93f85a0f",
   "metadata": {},
   "source": [
    "<p style = 'font-size:16px;font-family:Arial;color:#00233C'>We have created this demo with the goal of enhancing the communication flow between users and Chatbot. </p>\n",
    "    \n",
    "<p style = 'font-size:16px;font-family:Arial;color:#00233C'>You can ask any relevant questions about this insurance document.  \n",
    "    <br>For example:</p>\n",
    "    <ol style = 'font-size:16px;font-family:Arial;color:#00233C'>\n",
    "        <li><b>Does this policy cover  Loss of or Damage to the Insured’s Articles?</b> </li>\n",
    "        <li><b>What is the reimbursement limit per Baggage?</b></li>  \n",
    "        <li><b>What is the sum insured amount in the case Accidental Death in domestic and international for adult as well as child?</b></li>\n",
    "        <li><b>What documents are required for Rental Car Excess?</b></li>\n",
    "        <li><b>Where can I submit my complaints or feedback?</b></li>\n",
    "    </ol>"
   ]
  },
  {
   "cell_type": "markdown",
   "id": "a0fe1c6a-191a-4dc7-9b3f-7c282ec94541",
   "metadata": {},
   "source": [
    "<hr style='height:2px;border:none;background-color:#00233C;'>\n",
    "<b style = 'font-size:20px;font-family:Arial;color:#00233c'>8. Chat with documents</b>\n",
    "\n",
    "<p style = 'font-size:16px;font-family:Arial;color:#00233C'>Our chatbot is now ready. You can add questions to ask from the insurance document in the chatbot user interface (UI) that opens in the cell below.</p>"
   ]
  },
  {
   "cell_type": "code",
   "execution_count": null,
   "id": "2150c0cb-e9b5-4ec5-a521-19d47819996e",
   "metadata": {},
   "outputs": [],
   "source": [
    "import panel as pn\n",
    "\n",
    "pn.extension(design=\"material\")\n",
    "os.environ[\"TOKENIZERS_PARALLELISM\"] = \"false\"\n",
    "\n",
    "\n",
    "def get_query_embeddings(query):\n",
    "    start = timeit.default_timer()\n",
    "    print(\"generating the embeddings for user's question\")\n",
    "\n",
    "    df_new_query = pd.DataFrame(data={\"id\": 50001, \"text\": [query]})\n",
    "\n",
    "    # copy to SQL\n",
    "    delete_and_copy_embeddings(\n",
    "        table_name=\"query_user_input_raw\",\n",
    "        tdf=df_new_query,\n",
    "        eng=eng,\n",
    "    )\n",
    "\n",
    "    tdf_input_raw = DataFrame(\"query_user_input_raw\")\n",
    "\n",
    "    # call tdapi for embeddings\n",
    "    df_query_emb = generate_embeddings_tdapiclient(\n",
    "        tdf=tdf_input_raw, api_key=api_key, text_column=\"text\"\n",
    "    )\n",
    "\n",
    "    print(\n",
    "        f\"Time to generate the embeddings for {df_query_emb.shape[0]} user's query:\\t\",\n",
    "        timeit.default_timer() - start,\n",
    "    )\n",
    "    print(\"----- embeddings are generated -----\")\n",
    "\n",
    "    # Print the DataFrame.\n",
    "    return df_query_emb\n",
    "\n",
    "def flatten_array(arr):\n",
    "    return [item[0] for sublist in arr for item in (flatten_array(sublist) if isinstance(sublist, list) else [sublist])]\n",
    "\n",
    "\n",
    "def get_context_from_query(user_query):\n",
    "    wall_start = timeit.default_timer()\n",
    "    df_query_emb = get_query_embeddings(user_query)\n",
    "\n",
    "    st = timeit.default_timer()\n",
    "    # copy embeddings to SQL\n",
    "    delete_and_copy_embeddings(table_name=\"query_embeddings\", tdf=df_query_emb, eng=eng)\n",
    "    print(\n",
    "        f\"Time to delete_and_copy_embeddings:\\t\",\n",
    "        timeit.default_timer() - st,\n",
    "    )\n",
    "\n",
    "    # calculate vector-distance\n",
    "    text_embeddings_df = DataFrame(\"text_embeddings\")\n",
    "    query_embeddings_df = DataFrame(\"query_embeddings\")\n",
    "    emb_column_names = query_embeddings_df.columns[2:]\n",
    "\n",
    "    # select top matching\n",
    "    number_of_recommendations = 10\n",
    "\n",
    "    vector_distance_df = calculate_vector_distance(\n",
    "        target_table=query_embeddings_df,\n",
    "        reference_table=text_embeddings_df,\n",
    "        emb_column_names=emb_column_names,\n",
    "        topk=number_of_recommendations,\n",
    "    )\n",
    "    \n",
    "    copy_to_sql(vector_distance_df, table_name=\"vector_distance\",primary_index='reference_id', if_exists='replace')\n",
    "    vector_distance_df2 = DataFrame(\"vector_distance\")\n",
    "\n",
    "    start = timeit.default_timer()\n",
    "    \n",
    "    # get topk final recommendations for each searched products\n",
    "    df_recommendations = get_final_recommendations(\n",
    "        vector_distance_df2, text_embeddings_df, query_embeddings_df\n",
    "    )\n",
    "    print(f\"get_final_recommendations time:\\t\", timeit.default_timer() - start)\n",
    "    \n",
    "    print(f\"get context full time:\\t\", timeit.default_timer() - wall_start)\n",
    "    return flatten_array(df_recommendations[['text__recommended']].get_values()[:])"
   ]
  },
  {
   "cell_type": "code",
   "execution_count": null,
   "id": "311c322b-d487-4452-94c7-88dadbfe567d",
   "metadata": {},
   "outputs": [],
   "source": [
    "# panel callback function\n",
    "def callback(user_query, user, instance):\n",
    "    return runnable.invoke(\n",
    "        {\"input\": user_query, \"context\": get_context_from_query(user_query)}\n",
    "    )\n",
    "\n",
    "\n",
    "pn.chat.ChatInterface(\n",
    "    callback=callback,\n",
    "    show_rerun=False,\n",
    "    show_undo=False,\n",
    "    show_clear=False,\n",
    "    width=800,\n",
    "    height=400,\n",
    ")"
   ]
  },
  {
   "cell_type": "markdown",
   "id": "c8490cae-814e-4e83-a615-7e511ac33a33",
   "metadata": {},
   "source": [
    "<div class=\"alert alert-block alert-info\">\n",
    "    <p style = 'font-size:16px;font-family:Arial;color:#00233C'>If the chatbot didn't work when you pressed ENTER, on your first time using this demo on your environment, did you use F5 to reload the site? See instructions at the top of the notebook.\n",
    "If you asked a question and got no response after a few minutes, it is possible that you will need to type 0 0 to restart the kernel and re-run the demo. Questions outside the model seem to confuse the chatbot.</p></div>\n",
    "\n",
    "<div class=\"alert alert-block alert-info\">\n",
    "    <p style = 'font-size:16px;font-family:Arial;color:#00233C'><i><b>Please be patient:</b> Please note that it may take a few moments to get the response. This is because our platform is still small and we are performing embeddings searching against a database of over 600+ embeddings with 1536 dimensional vector. We are also using complex mathematics to calculate the cosine distance between the products, which can take up to 3 minutes on every question.</i></p>\n",
    "</div>"
   ]
  },
  {
   "cell_type": "markdown",
   "id": "9867a432-c219-41af-b0da-ebb965cca991",
   "metadata": {},
   "source": [
    "<p style = 'font-size:16px;font-family:Arial;color:#00233C'>When you enter a question in the chat bot above, we will take that question and pass it to a function to generate embeddings. Embeddings are vectors that represent the meaning of a word or phrase. Once we have the embeddings, we will store them in a SQL database.</p>\n",
    "\n",
    "<p style = 'font-size:16px;font-family:Arial;color:#00233C'>Next, we will compare the embeddings of the question you entered with the embeddings of all the 600+ embeddings from entire document in our database. We will use a technique called <code>VectorDistance</code> to measure the similarity between the embeddings. In a nutshell, we are comparing the question embeddings against 600+ document embeddings. The closer the embeddings are, the more similar the answer are. We will then select the texts that are the most similar to the question you entered and pass it to the LLM model to generate the answer based on user question.</p>\n",
    "\n",
    "<p style = 'font-size:16px;font-family:Arial;color:#00233C'>Finally, it will be display as response into Chatbot.</p>"
   ]
  },
  {
   "cell_type": "markdown",
   "id": "50b8b817-c0ff-42b3-a651-c8268ac40942",
   "metadata": {},
   "source": [
    "<hr style='height:2px;border:none;background-color:#00233C;'>\n",
    "<b style = 'font-size:20px;font-family:Arial;color:#00233c'>9. Cleanup</b>\n",
    "<p style = 'font-size:18px;font-family:Arial;color:#00233c'><b>Work Tables</b></p>\n",
    "<p style = 'font-size:16px;font-family:Arial;color:#00233C'>Cleanup work tables to prevent errors next time.</p>"
   ]
  },
  {
   "cell_type": "code",
   "execution_count": null,
   "id": "7ed8c3d7-3772-419f-b462-3e8ab8cc5268",
   "metadata": {},
   "outputs": [],
   "source": [
    "# Loop through the list of tables and execute the drop table command for each table\n",
    "for table in db_list_tables()['TableName'].tolist():\n",
    "    try:\n",
    "        db_drop_table(table_name=table, schema_name=\"demo_user\")\n",
    "    except:\n",
    "        pass"
   ]
  },
  {
   "cell_type": "code",
   "execution_count": null,
   "id": "73ef4cbe-1beb-4c65-ac60-ffd6250668a4",
   "metadata": {},
   "outputs": [],
   "source": [
    "remove_context()"
   ]
  },
  {
   "cell_type": "markdown",
   "id": "e5463848-592f-4321-b852-287e133872dd",
   "metadata": {},
   "source": [
    "<footer style=\"padding-bottom:35px; background:#f9f9f9; border-bottom:3px solid #00233C\">\n",
    "    <div style=\"float:left;margin-top:14px\">ClearScape Analytics™</div>\n",
    "    <div style=\"float:right;\">\n",
    "        <div style=\"float:left; margin-top:14px\">\n",
    "            Copyright © Teradata Corporation - 2023. All Rights Reserved\n",
    "        </div>\n",
    "    </div>\n",
    "</footer>"
   ]
  }
 ],
 "metadata": {
  "kernelspec": {
   "display_name": "Python 3 (ipykernel)",
   "language": "python",
   "name": "python3"
  },
  "language_info": {
   "codemirror_mode": {
    "name": "ipython",
    "version": 3
   },
   "file_extension": ".py",
   "mimetype": "text/x-python",
   "name": "python",
   "nbconvert_exporter": "python",
   "pygments_lexer": "ipython3",
   "version": "3.9.10"
  }
 },
 "nbformat": 4,
 "nbformat_minor": 5
}
