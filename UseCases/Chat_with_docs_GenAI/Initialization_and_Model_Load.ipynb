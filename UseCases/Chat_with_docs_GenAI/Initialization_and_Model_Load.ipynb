{
 "cells": [
  {
   "cell_type": "markdown",
   "id": "601d9a90-f9e1-4d0e-8136-5b89bd7e5dcc",
   "metadata": {},
   "source": [
    "<header>\n",
    "   <p  style='font-size:36px;font-family:Arial; color:#F0F0F0; background-color: #00233c; padding-left: 20pt; padding-top: 20pt;padding-bottom: 10pt; padding-right: 20pt;'>\n",
    "       Language Models<br>\n",
    "   <span style=\"font-size: 24px;\">An Introduction to Parallel CPU Inferencing of HuggingFace Models in Vantage</span>\n",
    "       \n",
    "  <br>\n",
    "       <img id=\"teradata-logo\" src=\"https://storage.googleapis.com/clearscape_analytics_demo_data/DEMO_Logo/teradata.svg\" alt=\"Teradata\" style=\"width: 125px; height: auto; margin-top: 20pt;\">\n",
    "    </p>\n",
    "</header>"
   ]
  },
  {
   "cell_type": "markdown",
   "id": "b738d7d9-c96f-4816-ba0d-c480ba1560e2",
   "metadata": {},
   "source": [
    "<p style = 'font-size:20px;font-family:Arial;color:#00233C'><b>Introduction</b></p>\n",
    "<p style = 'font-size:16px;font-family:Arial;color:#00233C'>\n",
    "Hugging Face is a French-American company based in New York City that develops computation tools for building applications using machine learning. They are known for their <b>Transformers Library</b> which provides open-source implementations of transformer models for text, image, video, audio tasks including time-series. These models include well-known architectures like BERT and GPT. The library is compatible with PyTorch, TensorFlow, and JAX deep learning libraries. <br>\n",
    "    Deep Learning Models in HuggingFace are pre-trained by users/open source outfits/companies on various types of data – NLP, Audio, Images, Videos etc. Most popular tool of choice by users is PyTorch (open source python library) which helps create a Deep Learning model from scratch or take an existing model, retrain/fine-tune (Transfer Learning) on new set of data to be published in HF. Models can be inference with CPUs and GPUs with slight performance improvement for smaller models.<br>\n",
    "</p>\n",
    "<p style = 'font-size:18px;font-family:Arial;color:#00233C'><b>Why Vantage?</b></p>  \n",
    "<p style = 'font-size:16px;font-family:Arial;color:#00233C'>As many Hugging Face models are available in <b>ONNX Runtime</b>, we can load them using the <b>BYOM</b> feature of Vantage and run them in Vantage. Because of <b>Graph Optimizations</b> on ONNX Runtime, there are proven benchmarks that show that inference with <b>ONNX Runtime will be 20% faster than a native PyTorch model on a CPU</b>. </p>\n",
    "    \n",
    "<p style = 'font-size:16px;font-family:Arial;color:#00233C'><b>Vantage Parallelism</b> on top of boosted ONNX Runtime inference can turn a Vantage system as effective as inference on GPUs. If we have a <b>Vantage box with 72 AMPs</b>, assuming the table is perfectly distributed, it will <b>closely match the performance of a dedicated GPU and data never moves across the network saving time and I/O operations</b>. As parallelism increases with number of AMPs, the model inference will complete faster in Teradata Vantage with the same amount of text data vs a GPU. We can of course quantize the model (change float8 weights to int8/int4) for inference on CPU to go even faster with some tradeoff with accuracy. However, If Model size goes up GPU advantage will widen – example LLM like LLama3 and costs will be disproportionate with GPU but for smaller models we can get comparable performance. \n",
    "</p>\n",
    "\n",
    "<p style = 'font-size:18px;font-family:Arial;color:#00233C'><b>Overall flow:</b></p>  "
   ]
  },
  {
   "cell_type": "markdown",
   "id": "82a30786-eb41-4518-9abb-dd8bbaa7a640",
   "metadata": {},
   "source": [
    "<center><img src=\"images/pat1.png\" alt=\"Design pattern 1\" width=1200 height=900/></center>"
   ]
  },
  {
   "cell_type": "markdown",
   "id": "9101f149-3076-4bab-aec5-5f1a638cfa44",
   "metadata": {},
   "source": [
    "<hr style='height:2px;border:none;background-color:#00233C;'>\n",
    "<b style = 'font-size:20px;font-family:Arial;color:#00233c'>1. Configuring the environment</b>\n",
    "\n",
    "<p style = 'font-size:18px;font-family:Arial;color:#00233c'><b>1.1 Install the required libraries</b></p>"
   ]
  },
  {
   "cell_type": "code",
   "execution_count": null,
   "id": "7c6405d1-ea63-42e6-a012-2aedb45f0228",
   "metadata": {},
   "outputs": [],
   "source": [
    "%%capture\n",
    "\n",
    "!pip install optimum sentence_transformers"
   ]
  },
  {
   "cell_type": "markdown",
   "id": "968c2d7b-bac0-404d-bab8-6ce396a83711",
   "metadata": {},
   "source": [
    "<div class=\"alert alert-block alert-info\">\n",
    "<p style = 'font-size:16px;font-family:Arial;color:#00233C'><b>Note: </b><i>Please restart the kernel after executing these two lines. The simplest way to restart the Kernel is by typing zero zero: <b> 0 0</b></i></p>"
   ]
  },
  {
   "cell_type": "markdown",
   "id": "5ce275db-9aa2-424f-88bd-edc91f2dcf84",
   "metadata": {},
   "source": [
    "<hr style=\"height:2px;border:none;background-color:#00233C;\">\n",
    "<p style = 'font-size:18px;font-family:Arial;color:#00233c'><b>1.2 Import the required libraries</b></p>\n",
    "\n",
    "<p style = 'font-size:16px;font-family:Arial;color:#00233C'>Here, we import the required libraries and set environment variables and environment paths (if required).</p>"
   ]
  },
  {
   "cell_type": "code",
   "execution_count": null,
   "id": "678dd728-e926-41c8-8c95-1f9a371ed873",
   "metadata": {},
   "outputs": [],
   "source": [
    "# Standard libraries\n",
    "import warnings\n",
    "import json\n",
    "\n",
    "# Teradata libraries\n",
    "from teradataml import (\n",
    "    create_context,\n",
    "    delete_byom,\n",
    "    display,\n",
    "    execute_sql,\n",
    "    save_byom,\n",
    "    remove_context,\n",
    ")\n",
    "\n",
    "display.max_rows = 5\n",
    "\n",
    "# sentence transformers\n",
    "import onnx\n",
    "import onnxruntime as rt\n",
    "import transformers\n",
    "from onnxruntime.tools.onnx_model_utils import *\n",
    "from sentence_transformers.util import cos_sim\n",
    "from sentence_transformers import SentenceTransformer\n",
    "\n",
    "# Suppress warnings\n",
    "warnings.filterwarnings(\"ignore\")\n",
    "warnings.simplefilter(action=\"ignore\", category=DeprecationWarning)\n",
    "warnings.simplefilter(action=\"ignore\", category=RuntimeWarning)\n",
    "warnings.simplefilter(action=\"ignore\", category=FutureWarning)"
   ]
  },
  {
   "cell_type": "markdown",
   "id": "4b218aee-06db-4377-b170-8b1423029bce",
   "metadata": {},
   "source": [
    "<hr style=\"height:2px;border:none;background-color:#00233C;\">\n",
    "<p style = 'font-size:20px;font-family:Arial;color:#00233C'><b>2. Connect to Vantage</b></p>\n",
    "\n",
    "<p style = 'font-size:16px;font-family:Arial;color:#00233C'>We will be prompted to provide the password. We will enter the password, press the Enter key, and then use the down arrow to go to the next cell. Begin running steps with Shift + Enter keys.</p>"
   ]
  },
  {
   "cell_type": "code",
   "execution_count": null,
   "id": "a7fd4855-ac57-4241-9d12-024b0d2cbae0",
   "metadata": {},
   "outputs": [],
   "source": [
    "%run -i ../startup.ipynb\n",
    "eng = create_context(host='host.docker.internal', username='demo_user', password=password)\n",
    "print(eng)"
   ]
  },
  {
   "cell_type": "code",
   "execution_count": null,
   "id": "50ccda78-2923-49ed-873d-58183d725c9b",
   "metadata": {},
   "outputs": [],
   "source": [
    "%%capture\n",
    "execute_sql(\"SET query_band='DEMO=Language_Model_Init_Python.ipynb;' UPDATE FOR SESSION;\")"
   ]
  },
  {
   "cell_type": "markdown",
   "id": "e891059d-98b1-44ef-b956-5310fe9eac82",
   "metadata": {},
   "source": [
    "<hr style=\"height:2px;border:none;background-color:#00233C;\">\n",
    "<p style = 'font-size:20px;font-family:Arial;color:#00233C'><b>3. Creation of functions</b></p>\n",
    "<p style = 'font-size:16px;font-family:Arial;color:#00233C'>Below command will create the database and functions required for text summarization and embedding models using Huggingface PyTorch models in Vantage.</p>\n",
    "\n",
    "<div class=\"alert alert-block alert-info\">\n",
    "    <p style = 'font-size:16px;font-family:Arial;color:#00233C'><i><b>Note:</b>The installation of the required functions will take approximately <b>5 to 6 minutes</b> for the first-time installation. However, if the libraries are already installed, the execution will complete within 50-60 seconds.</i></p>\n",
    "</div>"
   ]
  },
  {
   "cell_type": "code",
   "execution_count": null,
   "id": "8c9159dd-84bb-42e7-acbf-860c8154fdea",
   "metadata": {},
   "outputs": [],
   "source": [
    "with open(\"commands.json\", \"r\") as file:\n",
    "    data = json.load(file)\n",
    "\n",
    "for item in data[\"queries\"]:\n",
    "    try:\n",
    "        execute_sql(item[\"query\"])\n",
    "    except Exception as e:\n",
    "        print(\n",
    "            f\"The initialization steps have already been executed for this environment!\"\n",
    "        )\n",
    "        # print(f\"Error: {e}\")\n",
    "        pass"
   ]
  },
  {
   "cell_type": "markdown",
   "id": "d65e1d32-6c9d-4076-97a3-e7742ed7c579",
   "metadata": {},
   "source": [
    "<hr style=\"height:2px;border:none;background-color:#00233C;\">\n",
    "<p style = 'font-size:20px;font-family:Arial;color:#00233C'><b>4. HuggingFace Model installation</b></p>\n",
    "<p style = 'font-size:16px;font-family:Arial;color:#00233C'>In the below steps we will download and install the HuggingFace Model in Vantage.</p> "
   ]
  },
  {
   "cell_type": "markdown",
   "id": "6bcd268a-92d9-440d-b5a4-8a85ea0bfdf7",
   "metadata": {},
   "source": [
    "<hr style=\"height:1px;border:none;background-color:#00233C;\">\n",
    "<p style = 'font-size:18px;font-family:Arial;color:#00233c'><b>4.1 Download the Model using Optium utility</b></p>\n",
    "\n",
    "<p style = 'font-size:16px;font-family:Arial;color:#00233C'>We will be using <a href = 'https://huggingface.co/BAAI/bge-small-en-v1.5'>BAAI/bge-small-en-v1.5</a><br> The bge-small-en model is a small-scale English text embedding model developed by BAAI (Beijing Academy of Artificial Intelligence) as part of their FlagEmbedding project.</p>"
   ]
  },
  {
   "cell_type": "code",
   "execution_count": null,
   "id": "519fafdd-099f-4b6f-902d-8fb9034bf372",
   "metadata": {},
   "outputs": [],
   "source": [
    "!optimum-cli export onnx --opset 16 --trust-remote-code --task sentence-similarity -m BAAI/bge-small-en-v1.5 bge-small-en-v1.5-onnx"
   ]
  },
  {
   "cell_type": "markdown",
   "id": "83c0b79d-5f7b-4ed0-9c4a-82942c94c0af",
   "metadata": {},
   "source": [
    "<hr style=\"height:1px;border:none;background-color:#00233C;\">\n",
    "<p style = 'font-size:18px;font-family:Arial;color:#00233c'><b>4.2 Model Preparation</b></p>\n",
    "<p style = 'font-size:16px;font-family:Arial;color:#00233C'>In the below steps we will fix dynamic dims, fix versions for compatibility, etc and prepare the model to load in Vantage.</p>"
   ]
  },
  {
   "cell_type": "code",
   "execution_count": null,
   "id": "524ca739-001a-49e4-808b-88e374fd4834",
   "metadata": {},
   "outputs": [],
   "source": [
    "op = onnx.OperatorSetIdProto()\n",
    "op.version = 16\n",
    "\n",
    "model = onnx.load(\"bge-small-en-v1.5-onnx/model.onnx\")\n",
    "\n",
    "# to be sure that we have compatible opset and IR version\n",
    "model_ir8 = onnx.helper.make_model(model.graph, ir_version=8, opset_imports=[op])\n",
    "\n",
    "\n",
    "# fixing the variable dim sizes in our mode\n",
    "rt.tools.onnx_model_utils.make_dim_param_fixed(model_ir8.graph, \"batch_size\", 1)\n",
    "rt.tools.onnx_model_utils.make_dim_param_fixed(model_ir8.graph, \"sequence_length\", 512)\n",
    "rt.tools.onnx_model_utils.make_dim_param_fixed(\n",
    "    model_ir8.graph, \"Divsentence_embedding_dim_1\", 384\n",
    ")\n",
    "\n",
    "\n",
    "# remove useless token_embeddings output from the model\n",
    "for node in model_ir8.graph.output:\n",
    "    if node.name == \"token_embeddings\":\n",
    "        model_ir8.graph.output.remove(node)\n",
    "\n",
    "# saving the model\n",
    "onnx.save(model_ir8, \"bge-small-en-v1.5-onnx/model_fixed.onnx\")"
   ]
  },
  {
   "cell_type": "markdown",
   "id": "68aad59a-c5f0-4e55-b915-650114098bc4",
   "metadata": {},
   "source": [
    "<hr style=\"height:1px;border:none;background-color:#00233C;\">\n",
    "<p style = 'font-size:18px;font-family:Arial;color:#00233c'><b>4.3 Model Results validation</b></p>\n",
    "<p style = 'font-size:16px;font-family:Arial;color:#00233C'>Checking that everything works with ONNX format locally.</p>"
   ]
  },
  {
   "cell_type": "code",
   "execution_count": null,
   "id": "5da55982-2380-4b61-bc27-55bc4e847bdd",
   "metadata": {},
   "outputs": [],
   "source": [
    "sentences_1 = \"How is the weather today?\"\n",
    "sentences_2 = \"What is the current weather like today?\""
   ]
  },
  {
   "cell_type": "code",
   "execution_count": null,
   "id": "7155d04b-92d6-445f-8c1c-67ccb5de8fb8",
   "metadata": {},
   "outputs": [],
   "source": [
    "# ONNX tokenizer\n",
    "tokenizer = transformers.AutoTokenizer.from_pretrained(\"./bge-small-en-v1.5-onnx\")\n",
    "\n",
    "# ONNX model\n",
    "predef_sess = rt.InferenceSession(\"bge-small-en-v1.5-onnx/model_fixed.onnx\")"
   ]
  },
  {
   "cell_type": "code",
   "execution_count": null,
   "id": "0ccf9f13-2d81-4df2-b3b6-d8aa5ddb5591",
   "metadata": {},
   "outputs": [],
   "source": [
    "# get embeddings for sent1 and sent2 with ONNX model\n",
    "enc = tokenizer(sentences_1, max_length=512, padding=\"max_length\")\n",
    "\n",
    "result = predef_sess.run(\n",
    "    None, {\"input_ids\": [enc.input_ids], \"attention_mask\": [enc.attention_mask]}\n",
    ")\n",
    "\n",
    "enc2 = tokenizer(sentences_2, max_length=512, padding=\"max_length\")\n",
    "\n",
    "result2 = predef_sess.run(\n",
    "    None, {\"input_ids\": [enc2.input_ids], \"attention_mask\": [enc2.attention_mask]}\n",
    ")"
   ]
  },
  {
   "cell_type": "code",
   "execution_count": null,
   "id": "37d92421-e70b-4a19-9109-50b917eedced",
   "metadata": {},
   "outputs": [],
   "source": [
    "print(cos_sim(result[0][0], result2[0][0]))"
   ]
  },
  {
   "cell_type": "code",
   "execution_count": null,
   "id": "dd6f9c89-253c-49ec-beec-4db6de11cea1",
   "metadata": {},
   "outputs": [],
   "source": [
    "# huggingface model model\n",
    "model = SentenceTransformer(\"BAAI/bge-small-en-v1.5\")\n",
    "embeddings_1 = model.encode(sentences_1, normalize_embeddings=True)\n",
    "embeddings_2 = model.encode(sentences_2, normalize_embeddings=True)\n",
    "\n",
    "print(cos_sim(embeddings_1, embeddings_2))"
   ]
  },
  {
   "cell_type": "markdown",
   "id": "6033ea38-677b-4e43-b301-8ada166d0233",
   "metadata": {},
   "source": [
    "<hr style=\"height:1px;border:none;background-color:#00233C;\">\n",
    "\n",
    "<p style = 'font-size:18px;font-family:Arial;color:#00233c'><b>4.4 Deploy Model and Tokenizer</b></p>\n",
    "<p style = 'font-size:16px;font-family:Arial;color:#00233C'>In above steps, we have checked that the model is working fine in ONNX format. Now we will deploy the model and tokenizer in database.</p>"
   ]
  },
  {
   "cell_type": "code",
   "execution_count": null,
   "id": "d42f1694-bf8b-46f4-a9ce-2b21854e8517",
   "metadata": {},
   "outputs": [],
   "source": [
    "model_ids = [\"bge-small-en-v1.5\", \"bge-small-en-v1.5\"]\n",
    "model_files = [\n",
    "    \"bge-small-en-v1.5-onnx/model_fixed.onnx\",\n",
    "    \"bge-small-en-v1.5-onnx/tokenizer.json\",\n",
    "]\n",
    "table_names = [\"embeddings_models\", \"embeddings_tokenizers\"]\n",
    "\n",
    "for model_id, model_file, table_name in zip(model_ids, model_files, table_names):\n",
    "    try:\n",
    "        save_byom(model_id=model_id, model_file=model_file, table_name=table_name)\n",
    "    except Exception as e:\n",
    "        # if our model exists, delete and rewrite\n",
    "        if str(e.args).find(\"TDML_2200\") >= 1:\n",
    "            print(f\"{table_name.split('_')[1][:-1]} already exists in the database\")\n",
    "            user_conformation = input(\n",
    "                f\"Do you want to reload the {table_name.split('_')[1][:-1]} (y/n)?\"\n",
    "            )\n",
    "            if user_conformation.lower() == \"y\":\n",
    "                delete_byom(model_id=model_id, table_name=table_name)\n",
    "                save_byom(\n",
    "                    model_id=model_id, model_file=model_file, table_name=table_name\n",
    "                )\n",
    "            else:\n",
    "                pass\n",
    "        else:\n",
    "            raise ValueError(\n",
    "                f\"Unable to save the {table_name.split('_')[1][:-1]} '{model_id}' in '{table_name}' due to the following error: {e}\"\n",
    "            )"
   ]
  },
  {
   "cell_type": "markdown",
   "id": "7fda5b4d-772e-448c-9467-6f52bb8acd1c",
   "metadata": {},
   "source": [
    "<hr style=\"height:2px;border:none;background-color:#00233C;\">\n",
    "<p style = 'font-size:20px;font-family:Arial;color:#00233C'><b>5. Next Steps</b></p>\n",
    "<p style = 'font-size:16px;font-family:Arial;color:#00233C'> Now we have initialized and loaded the model into Vantage.  Now the notebooks listed below can be executed.\n",
    "<ul style = 'font-size:16px;font-family:Arial;color:#00233C'> \n",
    "       <li>Semantic Similarity:Does Embeddings on CFPB complaints and uses TD_VECTORDISTANCE to find complaints that match some theme or topic <a href = './Semantic_Similarity_Python.ipynb'>Semantic Similarity </a></li> \n",
    "     <li>Semantic Clustering:Does Embeddings on CFPB complaints and uses K-MEANS to cluster and does Post-hoc explanations/topic detection on semantic clusters found. <a href = './Semantic_Clustering_Python.ipynb'>Semantic Clustering </a></li> \n",
    "     <li>RAG Notebook for TD Catalog:Does a dump of TD Catalog Metadata on a table. Does embeddings on both Metadata + language model prompt query. Does Semantic Similarity search of Top N Chunks and hands it off to a LLM to answer the prompt.<a href = './RAG_and_Bedrock_Querycatalogue.ipynb'>RAG and Bedrock to query Catalogue </a></li> \n",
    "     <li>RAG Notebook for SEC-10K PDF:Demo with some PDF parsing and chunking with a Teradata SEC-10K PDF, creates embedding and uses language model to answer prompts <a href = './RAG_and_Bedrock_QueryPDF.ipynb'>RAG and Bedrock to query Pdf </a></li> \n",
    "      \n",
    "</ul>\n",
    "    </p>"
   ]
  },
  {
   "cell_type": "markdown",
   "id": "c12180f1-5743-4091-a91a-04b605f66062",
   "metadata": {},
   "source": [
    "<hr style=\"height:1px;border:none;background-color:#00233C;\">\n",
    "<p style = 'font-size:18px;font-family:Arial;color:#00233C'> <b>Clean up </b></p>\n",
    "<p style = 'font-size:16px;font-family:Arial;color:#00233C'>The following code will remove the context.</p>"
   ]
  },
  {
   "cell_type": "code",
   "execution_count": null,
   "id": "87cdfd16-aa93-4d29-a094-bab58c3c083f",
   "metadata": {},
   "outputs": [],
   "source": [
    "remove_context()"
   ]
  },
  {
   "cell_type": "markdown",
   "id": "49407083-7481-463c-8a1f-2762702b78b2",
   "metadata": {},
   "source": [
    "<footer style=\"padding-bottom:35px; background:#f9f9f9; border-bottom:3px solid #00233C\">\n",
    "    <div style=\"float:left;margin-top:14px\">ClearScape Analytics™</div>\n",
    "    <div style=\"float:right;\">\n",
    "        <div style=\"float:left; margin-top:14px\">\n",
    "            Copyright © Teradata Corporation - 2024. All Rights Reserved\n",
    "        </div>\n",
    "    </div>\n",
    "</footer>"
   ]
  }
 ],
 "metadata": {
  "kernelspec": {
   "display_name": "Python 3 (ipykernel)",
   "language": "python",
   "name": "python3"
  },
  "language_info": {
   "codemirror_mode": {
    "name": "ipython",
    "version": 3
   },
   "file_extension": ".py",
   "mimetype": "text/x-python",
   "name": "python",
   "nbconvert_exporter": "python",
   "pygments_lexer": "ipython3",
   "version": "3.9.10"
  }
 },
 "nbformat": 4,
 "nbformat_minor": 5
}
