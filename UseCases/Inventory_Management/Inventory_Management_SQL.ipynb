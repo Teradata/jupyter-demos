{
 "cells": [
  {
   "cell_type": "markdown",
   "id": "3421e9b8-cb16-42e2-80c4-6699c57d5199",
   "metadata": {},
   "source": [
    "<header>\n",
    "   <p  style='font-size:36px;font-family:Arial; color:#F0F0F0; background-color: #00233c; padding-left: 20pt; padding-top: 20pt;padding-bottom: 10pt; padding-right: 20pt;'>\n",
    "       Inventory Management\n",
    "  <br>\n",
    "       <img id=\"teradata-logo\" src=\"https://storage.googleapis.com/clearscape_analytics_demo_data/DEMO_Logo/teradata.svg\" alt=\"Teradata\" style=\"width: 125px; height: auto; margin-top: 20pt;\">\n",
    "    </p>\n",
    "</header>"
   ]
  },
  {
   "cell_type": "markdown",
   "id": "cb4b01e5-9bca-4831-9c1b-1294ce2acbfc",
   "metadata": {},
   "source": [
    "<p style = 'font-size:20px;font-family:Arial;color:#00233C'><b>Introduction</b></p>\n",
    "<p style = 'font-size:16px;font-family:Arial;color:#00233C'>Inventory management focuses on optimizing stock levels to meet customer demand while minimizing holding costs and reducing the risk of stockouts and overstock situations. Effective inventory management enables companies to maintain the right balance between supply and demand, ensuring products are available when needed without tying up capital in excess inventory.\n",
    "<p style = 'font-size:16px;font-family:Arial;color:#00233C'></p>\n",
    "<p style = 'font-size:16px;font-family:Arial;color:#00233C'>The main objectives of Inventory Management are:</p>\n",
    "<li style = 'font-size:16px;font-family:Arial;color:#00233C'><b>Demand Fulfillment:</b> Ensuring sufficient stock levels are maintained to meet customer demand across different products and locations, minimizing lost sales due to stockouts.</li>\n",
    "<li style = 'font-size:16px;font-family:Arial;color:#00233C'><b>Cost Control:</b> Reducing costs associated with overstocking, such as storage and obsolescence, while optimizing replenishment and ordering processes to minimize stock holding costs.</li>\n",
    "<li style = 'font-size:16px;font-family:Arial;color:#00233C'><b>Supply Chain Efficiency:</b> Streamlining processes between suppliers, warehouses, and retail locations to maintain a smooth supply chain flow and reduce lead times.</li>\n",
    "<li style = 'font-size:16px;font-family:Arial;color:#00233C'><b>Inventory Accuracy:</b> Reducing discrepancies between recorded and actual stock levels, which can lead to phantom inventory and stockouts.</li><li style = 'font-size:16px;font-family:Arial;color:#00233C'><b>Data-Driven Insights:</b> Utilizing historical sales data, seasonal trends, and other demand indicators to forecast and manage inventory levels effectively, supporting long-term planning and profitability.</li></p>\n",
    "<p style = 'font-size:18px;font-family:Arial;color:#00233C'><b>Why Vantage?</b></p>\n",
    "<p style = 'font-size:16px;font-family:Arial;color:#00233C'> For effective decision-making, business analysts must analyze data to identify patterns, assess inventory health, and determine when corrective actions are needed in stores or warehouses. By providing a streamlined approach to managing data analysis and making insights readily accessible, we enable more proactive and informed inventory management, support sales growth, reduce waste, and improve overall operational efficiency.<br>\n",
    "Teradata Vantage has a proven track record of performing complex calculations on vast datasets through its advanced parallel processing and scalability. Additionally, ClearScape Analytics offers powerful and flexible tools for attribution analysis, text processing, and statistical techniques that handle millions or even billions of data points. These analytics can be seamlessly combined with other analyses to create AI and ML pipelines directly within the database, eliminating the need to transfer large volumes of data. Thus, leveraging Teradata Vantage significantly enhances decision-making and optimizes strategic outcomes.</p>"
   ]
  },
  {
   "cell_type": "markdown",
   "id": "5de05886-673e-4b19-aec9-5e6b8ae4be76",
   "metadata": {},
   "source": [
    "<hr style=\"height:2px;border:none;background-color:#00233C;\">\n",
    "<p style = 'font-size:20px;font-family:Arial;color:#00233C'><b>1. Connect to Vantage </b></p>\n",
    "<p style = 'font-size:16px;font-family:Arial;color:#00233C'>We will be prompted to provide the password. We will enter the password, press the Enter key, and then use the down arrow to go to the next cell. </p>"
   ]
  },
  {
   "cell_type": "code",
   "execution_count": null,
   "id": "2ef3479f-52bb-44c9-abd7-715fb1a77b66",
   "metadata": {},
   "outputs": [],
   "source": [
    "%connect local"
   ]
  },
  {
   "cell_type": "markdown",
   "id": "5dda1c8e-3bce-414a-b8c6-626e490d5035",
   "metadata": {},
   "source": [
    "<p style = 'font-size:16px;font-family:Arial;color:#00233C'> We will setup for execution of notebook. Begin running steps with Shift + Enter keys.</p>"
   ]
  },
  {
   "cell_type": "code",
   "execution_count": null,
   "id": "82229876-3397-48b7-bdd3-815bc4aa7643",
   "metadata": {},
   "outputs": [],
   "source": [
    "Set query_band='DEMO=Inventory_Management_SQL.ipynb;' update for session;"
   ]
  },
  {
   "cell_type": "markdown",
   "id": "ade88179-e29e-48c6-899a-e388b765a49c",
   "metadata": {},
   "source": [
    "<hr style=\"height:2px;border:none;background-color:#00233C;\">\n",
    "<p style = 'font-size:20px;font-family:Arial;color:#00233C'><b>2. Getting Data for This Demo</b></p>\n",
    "<p style = 'font-size:16px;font-family:Arial;color:#00233C'>We have provided data for this demo on cloud storage. We have the option of either running the demo using foreign tables to access the data without using any storage on our environment or downloading the data to local storage, which may yield somewhat faster execution. However, we need to consider available storage. There are two statements in the following cell, and one is commented out. We may switch which mode we choose by changing the comment string.</p>"
   ]
  },
  {
   "cell_type": "code",
   "execution_count": null,
   "id": "fd27bb0d-3468-4423-8a6e-f3b85dd088d7",
   "metadata": {},
   "outputs": [],
   "source": [
    "call get_data('DEMO_Inventory_cloud'); ---takes about 10 seconds\n",
    "---call get_data('DEMO_Inventory_local'); ---takes about 40 seconds"
   ]
  },
  {
   "cell_type": "markdown",
   "id": "57152167-5f9d-40bd-bbdb-bcada5008ce3",
   "metadata": {},
   "source": [
    "<p style = 'font-size:16px;font-family:Arial;color:#00233C'>Optional step – if you want to see status of databases/tables created and space used.</p>"
   ]
  },
  {
   "cell_type": "code",
   "execution_count": null,
   "id": "a9662714-017b-47b1-8ed9-d3ad43021a00",
   "metadata": {},
   "outputs": [],
   "source": [
    "call space_report();  -- optional, takes about 10 seconds"
   ]
  },
  {
   "cell_type": "markdown",
   "id": "95b9efb2-3646-4068-b1a2-d49a9a4f487f",
   "metadata": {},
   "source": [
    "<hr style=\"height:2px;border:none;background-color:#00233C;\">\n",
    "<p style = 'font-size:20px;font-family:Arial;color:#00233C'><b>3. Data Exploration</b></p>\n",
    "<p style = 'font-size:16px;font-family:Arial;color:#00233C'>Let’s begin by examining our data. We have two datasets: the inventory data, which contains transactional information about inventory, and the vendor data, which includes details about the vendors.</p>"
   ]
  },
  {
   "cell_type": "code",
   "execution_count": null,
   "id": "e074ce26-a824-4716-9ac4-c0f62ff673b3",
   "metadata": {},
   "outputs": [],
   "source": [
    "select top 5* from DEMO_Inventory.Inventory_Data;"
   ]
  },
  {
   "cell_type": "code",
   "execution_count": null,
   "id": "70ae9c52-46ab-4350-a7a1-e2ea7c3c7d14",
   "metadata": {},
   "outputs": [],
   "source": [
    "select top 5* from DEMO_Inventory.Vendor_Data;"
   ]
  },
  {
   "cell_type": "code",
   "execution_count": null,
   "id": "339ab045-1eae-40c7-a82a-57178bce76fb",
   "metadata": {},
   "outputs": [],
   "source": [
    "select min(Sale_Date) as start_date, max(Sale_Date) as end_date from DEMO_Inventory.Inventory_Data;"
   ]
  },
  {
   "cell_type": "markdown",
   "id": "c15feab3-c130-46a0-8842-8e25cc94c840",
   "metadata": {},
   "source": [
    "<hr style=\"height:1px;border:none;background-color:#00233C;\">\n",
    "<p style = 'font-size:18px;font-family:Arial;color:#00233C'><b>3.1 Missing Data</b></p>\n",
    "<p style = 'font-size:16px;font-family:Arial;color:#00233C'>As we have seen above that the minimum date for our inventory data is 2019-01-01 but not all the combinations of Store and Sku have data for each day. This is due to fact that inventory systems mostly log only the changes happening in the inventory. If there is no change there will be no record in the inventory_data table. Thus as the first step in our data preprocessing we'll make sure that our dataset has all the records.<br>For this we will use ClearScape's TD_Resample function which transforms an irregular time series to a regular time series by resampling the data at regular intervals. The function has various interpolation methods to fill in missing data points in the resampled time series.</p>"
   ]
  },
  {
   "cell_type": "code",
   "execution_count": null,
   "id": "9f13c5ed-e281-42cb-badc-3a54351826f4",
   "metadata": {},
   "outputs": [],
   "source": [
    "select Store_Id,Sku,Product_Category,min(Sale_Date) as Start_Date, max(Sale_Date) as End_Date \n",
    "from DEMO_Inventory.Inventory_Data group by Store_Id,Sku,Product_Category;"
   ]
  },
  {
   "cell_type": "markdown",
   "id": "48bf15d6-7b54-418c-9dda-9ffb6762a2bc",
   "metadata": {},
   "source": [
    "<p style = 'font-size:16px;font-family:Arial;color:#00233C'>As we can see from the above output not all the combinations of store, item and product category have the same starting date. For creating the regular series for each store, item and product category we will as a first step insert a record with 0 values so that we can subsequently generate a consistent, continuous series that includes all relevant records.</p>"
   ]
  },
  {
   "cell_type": "code",
   "execution_count": null,
   "id": "af3b5f3a-ce8e-41ba-bb6a-1e3d98b09975",
   "metadata": {},
   "outputs": [],
   "source": [
    "CREATE VOLATILE TABLE all_inv AS\n",
    "    (\n",
    "    SELECT *\n",
    "        FROM DEMO_Inventory.Inventory_Data)WITH DATA\n",
    "    ON COMMIT PRESERVE ROWS;"
   ]
  },
  {
   "cell_type": "code",
   "execution_count": null,
   "id": "3bab9b84-b999-484d-9f4f-09865dba1f6c",
   "metadata": {},
   "outputs": [],
   "source": [
    "--Insert record for start date when not present\n",
    "INSERT INTO all_inv\n",
    "    SELECT DATE '2019-01-01' AS Sale_Date,\n",
    "        x.Store_Id,\n",
    "        x.Sku,\n",
    "        x.Product_Category,\n",
    "        0 AS Total_Sales_Units,\n",
    "        0 AS On_Hand_Inventory_Units,\n",
    "        0 AS Replenishment_Units,\n",
    "        0 AS Inventory_Pipeline,\n",
    "        0 AS Units_In_Transit,\n",
    "        0 AS Units_In_Dc,\n",
    "        0 AS Units_On_Order,\n",
    "        0 AS Units_Under_Promotion,\n",
    "        0 AS Shelf_Capacity\n",
    "        FROM (\n",
    "        SELECT DISTINCT Store_Id,\n",
    "            Sku,\n",
    "            Product_Category\n",
    "            FROM DEMO_Inventory.Inventory_Data \n",
    "            QUALIFY MIN(Sale_Date) OVER (PARTITION BY store_id, sku, product_category ) > '2019-01-01' )x;"
   ]
  },
  {
   "cell_type": "markdown",
   "id": "6ea72350-09e6-49ea-b677-f18306444006",
   "metadata": {},
   "source": [
    "<p style = 'font-size:16px;font-family:Arial;color:#00233C'>Now let us use the TD_Resample function to create a record for each date and make our series a regular series.</p>"
   ]
  },
  {
   "cell_type": "code",
   "execution_count": null,
   "id": "aab64918-5a38-40dd-b5b7-ee5f31857e25",
   "metadata": {},
   "outputs": [],
   "source": [
    "/*create resampled inventory data */\n",
    "EXECUTE FUNCTION INTO ART(Inv_Resampled)\n",
    "    TD_RESAMPLE(\n",
    "    SERIES_SPEC(\n",
    "    TABLE_NAME(all_inv),\n",
    "    ROW_AXIS(TIMECODE(Sale_Date)),\n",
    "    SERIES_ID(store_id,sku,product_category),\n",
    "    PAYLOAD(FIELDS(total_sales_units,\n",
    "    on_hand_inventory_units ,\n",
    "    replenishment_units ,\n",
    "    inventory_pipeline ,\n",
    "    units_in_transit ,\n",
    "    units_in_dc ,\n",
    "    units_on_order ,\n",
    "    units_under_promotion ,\n",
    "    shelf_capacity),CONTENT(MULTIVAR_REAL))\n",
    "    ),\n",
    "    FUNC_PARAMS(\n",
    "    TIMECODE(\n",
    "    START_VALUE(DATE '2019-01-01'),\n",
    "    DURATION(CAL_DAYS(1))\n",
    "    ),\n",
    "    INTERPOLATE(LAG)\n",
    "    ),\n",
    "    OUTPUT_FMT(INDEX_STYLE(FLOW_THROUGH))\n",
    "    );"
   ]
  },
  {
   "cell_type": "markdown",
   "id": "956c0b4d-c7ae-486f-a363-6c904b0c925c",
   "metadata": {},
   "source": [
    "<p style = 'font-size:16px;font-family:Arial;color:#00233C'>For better understanding we will see the data of one store and item.</p>"
   ]
  },
  {
   "cell_type": "code",
   "execution_count": null,
   "id": "df234b87-63ec-4c7b-ab5f-1a6233f302ae",
   "metadata": {},
   "outputs": [],
   "source": [
    "select * from Inv_Resampled where store_id = 171 and sku = 64 order by Row_I;"
   ]
  },
  {
   "cell_type": "markdown",
   "id": "6d2054a3-c936-4786-9bde-44956bb107bb",
   "metadata": {},
   "source": [
    "<p style = 'font-size:16px;font-family:Arial;color:#00233C'>Let us plot on_hand_inventory_units</p>"
   ]
  },
  {
   "cell_type": "code",
   "execution_count": null,
   "id": "27c40c9e-1a55-4293-a488-5daf32ef96d6",
   "metadata": {},
   "outputs": [],
   "source": [
    "EXECUTE FUNCTION\n",
    "TD_Plot\n",
    "(\n",
    "    SERIES_SPEC\n",
    "    (\n",
    "        TABLE_NAME(DEMO_User.Inv_Resampled),\n",
    "        ROW_AXIS(TIMECODE(\"ROW_I\")),\n",
    "        SERIES_ID(store_id,sku,product_category),\n",
    "        PAYLOAD (FIELDS(\"On_hand_inventory_units\"),CONTENT(REAL))\n",
    "    )where store_id = 171 and sku = 64 ,\n",
    "    FUNC_PARAMS\n",
    "    (\n",
    "        PLOTS[(\n",
    "            TYPE('line'),\n",
    "            LEGEND('upper left'),\n",
    "            TITLE('Inventory Units for Store_id 171 and SKU 64')\n",
    "        )],\n",
    "        IMAGE('png')\n",
    "    )\n",
    ");"
   ]
  },
  {
   "cell_type": "markdown",
   "id": "5308cd82-6cc0-43bc-9404-5c8c6f328f33",
   "metadata": {},
   "source": [
    "<hr style=\"height:2px;border:none;background-color:#00233C;\">\n",
    "<p style = 'font-size:20px;font-family:Arial;color:#00233C'><b>4. Issues of Phantom Inventory</b></p>\n",
    "<p style = 'font-size:16px;font-family:Arial;color:#00233C'>Phantom inventory refers to inventory that appears in inventory systems as available but is not actually present in the physical stock. This discrepancy creates an illusion of higher stock levels than what’s really available, leading to problems such as:<ul style = 'font-size:16px;font-family:Arial;color:#00233C'><li>Stockouts: The system believes products are in stock, so new orders aren’t placed in time, leading to stockouts.</li><li>\n",
    "Lost Sales and Customer Dissatisfaction: Customers may place orders expecting products that aren’t physically available, resulting in delays and frustration.</li><li>\n",
    "Inefficient Replenishment: False stock levels cause issues in planning, leading to unnecessary orders or missed replenishments.</li></ul>\n",
    "<p style = 'font-size:16px;font-family:Arial;color:#00233C'>Phantom inventory issues often arise due to system errors, poor tracking, inaccurate manual counts, damage, shrinkage (theft, loss), or unprocessed returns. To catch this in the system we can create a phantom_inventory_flag which is set whenever the stock difference is significantly high. For our example we have taken a five times the average daily sales for that product.<br>For this the we have calculated below values and set the flag accordingly.<ul style = 'font-size:16px;font-family:Arial;color:#00233C'><li>\n",
    "    <b>Daily Sales Calculation:</b> It calculates the average daily sales for each product in each store to understand typical sales patterns over time.</li><li><b>Starting Stock for the Day:</b>\n",
    "For each day we take a look at the previous day's ending stock to set a starting point for today. If there’s no record from the previous day, it estimates the starting stock by adding today’s sales to today’s replenishments.</li><li><b>Ending Stock for the Day:</b>\n",
    "This is the actual count of items in stock at the end of each day. If there’s no data, it assumes zero.</li><li><b>Phantom Inventory Calculation:</b>\n",
    "Phantom inventory is calculated as the difference between expected stock at the end of the day and the actual end-of-day stock. Expected stock is based on yesterday’s leftover items plus any new items that arrived today, minus today’s sales. If these numbers don’t match up, it suggests a \"phantom\" difference that could indicate missing or unaccounted items.</li><li><b>Flagging Large Discrepancies:</b>\n",
    "A flag is set if the phantom inventory (difference) is significant, specifically if it’s more than five times the average daily sales. This helps catch larger, unusual discrepancies, prompting further investigation.\n",
    "In summary, this code flags situations where the difference between expected and actual stock is unusually high, helping identify potential inventory issues.</li></ul>"
   ]
  },
  {
   "cell_type": "code",
   "execution_count": null,
   "id": "6d0a147d-4025-4cd0-a355-49eb73ee6f05",
   "metadata": {},
   "outputs": [],
   "source": [
    "/*CREATE Phantom Inventory */\n",
    "CREATE MULTISET VOLATILE TABLE Phantom_Inventory AS\n",
    "    (\n",
    "    SELECT       \n",
    "        x.ROW_I AS sales_date,\n",
    "        x.store_id AS store_id,\n",
    "        x.sku AS sku,\n",
    "        x.daily_sales_units AS daily_sales_units,\n",
    "        x.on_hand_inventory_units AS on_hand_inventory_units,\n",
    "        x.start_on_hand_units AS start_on_hand_units,\n",
    "        x.replenishment_units AS replenishment_units,\n",
    "        x.total_sales_units AS total_sales_units,\n",
    "        x.end_on_hand_units AS end_on_hand_units,\n",
    "        x.phantom_inventory AS phantom_inventory,\n",
    "        x.phantom_inventory_ind AS phantom_inventory_ind\n",
    "        FROM (\n",
    "        SELECT a.*,\n",
    "            AVG(total_sales_units)OVER(PARTITION BY sku, store_id\n",
    "            ORDER BY row_i) AS daily_sales_units,\n",
    "                COALESCE(LAG(on_hand_inventory_units, 1) OVER(PARTITION BY store_id, sku\n",
    "            ORDER BY row_i), \n",
    "            on_hand_inventory_units + total_sales_units - replenishment_units\n",
    "            ) AS start_on_hand_units,\n",
    "                COALESCE(on_hand_inventory_units, 0) AS end_on_hand_units,\n",
    "                start_on_hand_units + replenishment_units - total_sales_units - end_on_hand_units AS phantom_inventory,\n",
    "                \n",
    "            CASE\n",
    "                WHEN phantom_inventory <> 0 AND ABS(phantom_inventory) > 5 * daily_sales_units THEN 1 \n",
    "            ELSE 0\n",
    "            END AS phantom_inventory_ind\n",
    "            FROM demo_user.Inv_Resampled a\n",
    "        ) x )\n",
    "    WITH DATA ON COMMIT PRESERVE ROWS;"
   ]
  },
  {
   "cell_type": "markdown",
   "id": "ad1650a2-7bb4-4c27-88da-310ee33999c6",
   "metadata": {},
   "source": [
    "<p style = 'font-size:16px;font-family:Arial;color:#00233C'>Let us check the data for the store and item we have picked earlier.</p>"
   ]
  },
  {
   "cell_type": "code",
   "execution_count": null,
   "id": "83fbf2f5-c230-4450-8687-b21b964126ba",
   "metadata": {},
   "outputs": [],
   "source": [
    "select * from Phantom_Inventory where store_id = 171 and sku = 64 order by sales_date;"
   ]
  },
  {
   "cell_type": "markdown",
   "id": "2c047a63-a740-4293-be79-037522f1de6e",
   "metadata": {},
   "source": [
    "<hr style=\"height:2px;border:none;background-color:#00233C;\">\n",
    "<p style = 'font-size:20px;font-family:Arial;color:#00233C'><b>5. Issues of Identify Out of Stocks Items</b></p>\n",
    "<p style = 'font-size:16px;font-family:Arial;color:#00233C'>Out-of-stock situations i.e when the item is not available for purchase, happen when there isn't enough stock to meet customer demand. To avoid this, retailers set a safety stock level, which acts as a warning point. When stock falls below this level, it signals that it’s time to reorder more. The remaining stock should then be enough to cover customer demand until the new stock arrives.<br>There are different ways to figure out the right safety stock level for a product, which is the amount of extra stock to keep on hand to avoid running out. In our demo we will look at two methods that fit the specific situation of each store and product:<ul style = 'font-size:16px;font-family:Arial;color:#00233C'><li><b>\n",
    "    Previous Stock Before Reorders:</b> This approach uses the amount of stock that was on hand before previous reorder times.</li><li><b>Average Daily Sales and Delivery Time:</b> This method calculates safety stock based on how much the product usually sells each day and how long it takes for new stock to arrive after ordering.</li></ul>\n",
    "<p style = 'font-size:16px;font-family:Arial;color:#00233C'>\n",
    "For each store and item, we will choose the smaller of these two values as the safety stock level. For this  we first we will need an estimate of the inventory on hand, which we worked on in the earlier phantom inventory calculations.</p>"
   ]
  },
  {
   "cell_type": "code",
   "execution_count": null,
   "id": "c23015c1-1e0a-4303-8a6d-8e45cbcf6747",
   "metadata": {},
   "outputs": [],
   "source": [
    "/*Identify Out of Stocks*/\n",
    "CREATE MULTISET VOLATILE TABLE inv_pi AS (\n",
    "    SELECT x.store_id AS store_id,\n",
    "        x.sku AS sku,\n",
    "        x.sales_date AS sales_date,\n",
    "        x.product_category AS product_category,\n",
    "        x.total_sales_units AS total_sales_units,\n",
    "        x.on_hand_inventory_units AS on_hand_inventory_units,\n",
    "        x.replenishment_flag AS replenishment_flag,\n",
    "        x.replenishment_units AS replenishment_units,\n",
    "        x.units_on_order AS units_on_order,\n",
    "        x.units_in_transit AS units_in_transit,\n",
    "        x.units_in_dc AS units_in_dc,\n",
    "        x.phantom_inventory AS phantom_inventory,\n",
    "         -- Calculate the running total of estimated on-hand inventory    \n",
    "        GREATEST(\n",
    "        LEAST(\n",
    "        SUM(COALESCE(x.replenishment_units, 0) - COALESCE(x.total_sales_units, 0) - COALESCE(x.phantom_inventory, 0))\n",
    "        OVER (PARTITION BY x.store_id, x.sku\n",
    "        ORDER BY x.sales_date ROWS BETWEEN UNBOUNDED PRECEDING AND CURRENT ROW),\n",
    "        x.on_hand_inventory_units\n",
    "        ),\n",
    "        0\n",
    "        ) AS estimated_on_hand_inventory\n",
    "        FROM (\n",
    "        SELECT       \n",
    "            inv.store_id AS store_id,\n",
    "            inv.sku AS sku,\n",
    "            inv.row_i AS sales_date,\n",
    "            inv.product_category AS product_category,\n",
    "            \n",
    "            CASE\n",
    "                WHEN inv.on_hand_inventory_units < 0 THEN 0 \n",
    "            ELSE inv.on_hand_inventory_units\n",
    "            END AS on_hand_inventory_units,\n",
    "                inv.total_sales_units AS total_sales_units,\n",
    "                \n",
    "            CASE\n",
    "                WHEN inv.replenishment_units > 0 THEN 1\n",
    "            ELSE 0\n",
    "            END AS replenishment_flag,\n",
    "                \n",
    "            CASE\n",
    "                WHEN replenishment_flag = 1 THEN inv.replenishment_units\n",
    "            ELSE 0\n",
    "            END AS replenishment_units,\n",
    "                inv.units_on_order AS units_on_order,\n",
    "                inv.units_in_transit AS units_in_transit,\n",
    "                inv.units_in_dc AS units_in_dc,\n",
    "                COALESCE(pi.phantom_inventory, 0) AS phantom_inventory --0 as estimated_on_hand_inventory\n",
    "            \n",
    "            FROM demo_user.Inv_Resampled inv\n",
    "            JOIN Phantom_Inventory pi\n",
    "            ON inv.store_id = pi.store_id\n",
    "            AND inv.sku = pi.sku\n",
    "            AND inv.row_i = pi.sales_date\n",
    "        )x\n",
    "    ) WITH DATA ON COMMIT PRESERVE ROWS;"
   ]
  },
  {
   "cell_type": "markdown",
   "id": "14e74b4f-5506-43aa-862f-3b6f720c7fb9",
   "metadata": {},
   "source": [
    "<p style = 'font-size:16px;font-family:Arial;color:#00233C'>We have incorporated the below logic in the sql above:<br><b>\n",
    "    Adjusting Inventory Values:</b> It ensures the on-hand inventory doesn’t fall below zero. If the current stock is negative, it’s set to zero to prevent unrealistic numbers. For replenishments we are using a replenishment_flag to indicate whether new units were added, setting it to 1 if there was a restock and 0 if not. Only when this flag is 1 does the replenishment count contribute to the stock.<b>Calculating Estimated On-Hand Inventory:</b>The code calculates an estimated_on_hand_inventory, which is a running total of the on-hand stock based on previous replenishments, sales, and phantom inventory adjustments. For this we are taking \n",
    "<br>Adding/Subtracting Stock Changes: It calculates changes to stock by adding replenishments, subtracting sales, and adjusting for phantom inventory.<br>\n",
    "Setting Upper and Lower Bounds: It ensures that this estimated inventory doesn’t exceed the actual recorded on-hand units or fall below zero.<br><b>\n",
    "    Joining Inventory and Phantom Data</b>:Finally, the inventory data (inv) and phantom inventory data (pi) are combined based on store, product, and sale date. This allows the table to have both real-time stock information and any phantom discrepancies for analysis.<br>\n",
    "In summary, the sql allows us to track inventory changes over time, while controlling for discrepancies and setting boundaries to avoid unrealistic inventory values."
   ]
  },
  {
   "cell_type": "markdown",
   "id": "8771505c-6dcc-48d7-ba36-ff206ca5daab",
   "metadata": {},
   "source": [
    "<hr style=\"height:1px;border:none;background-color:#00233C;\">\n",
    "<p style = 'font-size:18px;font-family:Arial;color:#00233C'><b>5.1 Calculate Average On-Hand and Average Daily Sales Metrics</b></p>\n",
    "<p style = 'font-size:16px;font-family:Arial;color:#00233C'>For calculating safety stock, we will first calculate some key sales metrics. We calculate the average amount on-hand prior to a replenishment event as well as the average number of units sold for each store-item. For both metrics, we'll limit the calculation to the 90 days prior to the current inventory record.</p>"
   ]
  },
  {
   "cell_type": "code",
   "execution_count": null,
   "id": "5abb821c-4540-4876-b541-0220948f9e32",
   "metadata": {},
   "outputs": [],
   "source": [
    "/*inventory metrics */\n",
    "CREATE MULTISET VOLATILE TABLE inv_metrics AS (\n",
    "    SELECT y.store_id AS store_id,\n",
    "        y.sku AS sku,\n",
    "        y.sales_date AS sales_date,\n",
    "        y.product_category AS product_category,\n",
    "        y.on_hand_inventory_units AS on_hand_inventory_units,\n",
    "        y.total_sales_units AS total_sales_units,\n",
    "        y.replenishment_flag AS replenishment_flag,\n",
    "        y.replenishment_units AS replenishment_units,\n",
    "        y.units_on_order AS units_on_order,\n",
    "        y.units_in_transit AS units_in_transit,\n",
    "        y.units_in_dc AS units_in_dc,\n",
    "        y.phantom_inventory AS phantom_inventory,\n",
    "        y.estimated_on_hand_inventory AS estimated_on_hand_inventory,\n",
    "        y.prior_inventory AS prior_inventory,\n",
    "        y.rolling_stock_onhand AS rolling_stock_onhand,\n",
    "        y.rolling_min_expected_stock AS rolling_min_expected_stock,\n",
    "        COALESCE(LAST_VALUE(y.rolling_min_expected_stock) OVER(PARTITION BY y.store_id, y.sku\n",
    "        ORDER BY y.sales_date),0)\n",
    "        AS min_expected_stock,\n",
    "            COALESCE(LAST_VALUE(y.avg_sales_units) OVER(PARTITION BY y.store_id, y.sku\n",
    "        ORDER BY y.sales_date),0)\n",
    "        AS daily_sales_units\n",
    "        FROM (\n",
    "        SELECT x.*,\n",
    "            SUM(x.prior_inventory) OVER(PARTITION BY x.store_id, x.sku\n",
    "            ORDER BY x.sales_date ROWS BETWEEN 90 PRECEDING AND CURRENT ROW) /\n",
    "            (SUM(x.replenishment_flag) OVER(PARTITION BY x.store_id, x.sku\n",
    "            ORDER BY x.sales_date ROWS BETWEEN 90 PRECEDING AND CURRENT ROW) + 1) \n",
    "            AS rolling_stock_onhand,\n",
    "                \n",
    "            CASE\n",
    "                WHEN x.replenishment_flag <> 1 \n",
    "            THEN 0\n",
    "            ELSE COALESCE(rolling_stock_onhand,0)\n",
    "            END AS rolling_min_expected_stock,\n",
    "                AVG(x.total_sales_units) OVER(PARTITION BY x.store_id, x.sku\n",
    "            ORDER BY x.sales_date ROWS BETWEEN 90 PRECEDING AND CURRENT ROW) AS avg_sales_units\n",
    "            FROM (\n",
    "            SELECT a.*,\n",
    "                \n",
    "                CASE\n",
    "                    WHEN a.replenishment_flag = 1 \n",
    "                THEN COALESCE(LAG(a.estimated_on_hand_inventory, 1) OVER(PARTITION BY a.store_id, a.sku\n",
    "                ORDER BY a.sales_date),0)\n",
    "                ELSE 0\n",
    "                END AS prior_inventory\n",
    "                FROM inv_pi a\n",
    "            )x\n",
    "        )y\n",
    "    ) WITH DATA ON COMMIT PRESERVE ROWS;"
   ]
  },
  {
   "cell_type": "markdown",
   "id": "d5f17aa5-9f19-48d4-9c38-53a518af1eb6",
   "metadata": {},
   "source": [
    "<hr style=\"height:1px;border:none;background-color:#00233C;\">\n",
    "<p style = 'font-size:18px;font-family:Arial;color:#00233C'><b>5.2 Calculate Safety Stock</b></p>\n",
    "<p style = 'font-size:16px;font-family:Arial;color:#00233C'> Safety stock is a buffer of extra inventory kept on hand to help avoid running out of inventory due to fluctuations in demand or delays in restocking. It ensures that there is enough product available to meet unexpected demand or delays in replenishment, providing a safety net to maintain consistent availability.<br>Safety stock calculations consider factors like:<ul style = 'font-size:16px;font-family:Arial;color:#00233C'><li>Average demand</li>\n",
    "    <li>Lead time for restocking</li><li>\n",
    "    Variability in demand and lead time</li></ul><p style = 'font-size:16px;font-family:Arial;color:#00233C'>\n",
    "    In the below sql we get the shortest lead time for each Store-SKU based on the lead times for the replenishment of particular SKUs within a given store location. This will let us know the safety stock value for each Store-SKU. With this information calculated we can determine when the<br> On-hand inventory is less than the safety stock level -on_hand_less_than_safety_stock<br>The requested replinishment units are not sufficient to meet safety stock requirements -insufficient_inventory_pipeline_units<br>The inventory pipeline is one day away from not being able to fulfill stocking requirements -insufficient_lead_time    "
   ]
  },
  {
   "cell_type": "code",
   "execution_count": null,
   "id": "8fa75e56-5de6-48c1-86ca-aee4be1e9c95",
   "metadata": {},
   "outputs": [],
   "source": [
    "/* inventory safety stock */\n",
    "CREATE MULTISET VOLATILE TABLE inv_safety_stock AS (\n",
    "    SELECT\n",
    "        inv.sales_date,\n",
    "        inv.store_id,\n",
    "        inv.sku,\n",
    "        inv.product_category,\n",
    "        inv.total_sales_units,\n",
    "        inv.on_hand_inventory_units,\n",
    "        inv.replenishment_units,\n",
    "        inv.replenishment_flag,\n",
    "        inv.phantom_inventory,\n",
    "        inv.estimated_on_hand_inventory,\n",
    "        inv.prior_inventory,\n",
    "        inv.rolling_min_expected_stock,\n",
    "        inv.min_expected_stock,\n",
    "        inv.daily_sales_units,\n",
    "        inv.daily_sales_units * ven.min_lead_time AS ss_sales_velocity,\n",
    "        \n",
    "        CASE\n",
    "            WHEN inv.replenishment_flag <> 1 \n",
    "        THEN 0 \n",
    "        ELSE\n",
    "        CASE\n",
    "            WHEN inv.min_expected_stock < ss_sales_velocity \n",
    "        THEN min_expected_stock \n",
    "        ELSE ss_sales_velocity\n",
    "        END\n",
    "        END AS safety_stock,\n",
    "            inv.units_on_order,\n",
    "            inv.units_in_transit,\n",
    "            inv.units_in_dc,\n",
    "            COALESCE(ven.lead_time_in_transit,0) AS lead_time_in_transit,\n",
    "            COALESCE(ven.lead_time_in_dc,0) AS lead_time_in_dc,\n",
    "            COALESCE(ven.lead_time_on_order,0) AS lead_time_on_order,\n",
    "            \n",
    "        CASE\n",
    "            WHEN estimated_on_hand_inventory <= safety_stock THEN 1 ELSE 0\n",
    "        END AS on_hand_less_than_safety_stock,\n",
    "            \n",
    "        CASE\n",
    "            WHEN  (on_hand_less_than_safety_stock = 1) AND \n",
    "        (inv.units_on_order + inv.units_in_transit + inv.units_in_dc <> 0) AND\n",
    "        ((inv.units_on_order + inv.units_in_transit + inv.units_in_dc) < (safety_stock - estimated_on_hand_inventory))\n",
    "        THEN 1\n",
    "        ELSE 0\n",
    "        END AS insufficient_inventory_pipeline_units,\n",
    "            \n",
    "        CASE\n",
    "            WHEN on_hand_less_than_safety_stock = 1 AND\n",
    "        (inv.units_on_order + inv.units_in_transit + inv.units_in_dc <> 0) AND\n",
    "        ((inv.units_on_order + inv.units_in_transit + inv.units_in_dc) >= (safety_stock - estimated_on_hand_inventory)) \n",
    "        THEN GREATEST(\n",
    "        COALESCE(lead_time_in_transit,0),\n",
    "        COALESCE(lead_time_on_order,0),\n",
    "        COALESCE(lead_time_in_dc,0)\n",
    "        )+1\n",
    "        ELSE NULL\n",
    "        END  AS lead_time\n",
    "        FROM inv_metrics inv\n",
    "        LEFT JOIN (\n",
    "        SELECT a.*,\n",
    "            LEAST(lead_time_in_dc, lead_time_in_transit, lead_time_on_order) AS min_lead_time\n",
    "            FROM demo_inventory.vendor_data a)ven\n",
    "        ON inv.store_id = ven.store_id\n",
    "        AND inv.sku = ven.item_id\n",
    "    )WITH DATA ON COMMIT PRESERVE ROWS;"
   ]
  },
  {
   "cell_type": "code",
   "execution_count": null,
   "id": "2ef64635-81a4-48a4-b98e-1de23033cd7c",
   "metadata": {},
   "outputs": [],
   "source": [
    "CREATE MULTISET VOLATILE TABLE inv_ss_with_lead_times AS (\n",
    "    SELECT store_id,\n",
    "        sku,\n",
    "        sales_date,\n",
    "        lead_time,\n",
    "        lead_date,\n",
    "        prev_lead_time,\n",
    "        day_diff,\n",
    "        \n",
    "        CASE\n",
    "            WHEN (lead_time IS NULL AND (prev_lead_time - day_diff) <= 0) THEN 1\n",
    "        ELSE 0\n",
    "        END \n",
    "        AS insufficient_lead_time\n",
    "        FROM(\n",
    "        SELECT \n",
    "            a.store_id,\n",
    "            a.sku,\n",
    "            a.sales_date,\n",
    "            MAX(a.lead_time) AS lead_time,\n",
    "            MAX(b.sales_date) AS lead_date,\n",
    "            MAX(b.lead_time) AS prev_lead_time,\n",
    "            CAST(MIN((a.sales_date - b.sales_date)DAY(4)) AS BIGINT) AS day_diff\n",
    "            FROM inv_safety_stock a\n",
    "            LEFT JOIN inv_safety_stock b\n",
    "            ON a.store_id=b.store_id \n",
    "            AND a.sku=b.sku \n",
    "            AND a.sales_date > b.sales_date\n",
    "            WHERE b.lead_time IS NOT NULL\n",
    "            GROUP BY 1,\n",
    "                2,\n",
    "                3 )x\n",
    "    )WITH DATA ON COMMIT PRESERVE ROWS; "
   ]
  },
  {
   "cell_type": "code",
   "execution_count": null,
   "id": "8812b9eb-ef60-47fa-addc-241fea5beb9c",
   "metadata": {},
   "outputs": [],
   "source": [
    "CREATE MULTISET VOLATILE TABLE lead_time_alerts AS (\n",
    "    SELECT \n",
    "        inv_ss.sales_date,\n",
    "        inv_ss.store_id,\n",
    "        inv_ss.sku,\n",
    "        inv_ss.product_category,\n",
    "        inv_ss.total_sales_units,\n",
    "        inv_ss.on_hand_inventory_units,\n",
    "        inv_ss.replenishment_units,\n",
    "        inv_ss.replenishment_flag,\n",
    "        inv_ss.phantom_inventory,\n",
    "        inv_ss.estimated_on_hand_inventory,\n",
    "        inv_ss.prior_inventory,\n",
    "        inv_ss.rolling_min_expected_stock,\n",
    "        inv_ss.min_expected_stock,\n",
    "        inv_ss.daily_sales_units,\n",
    "        inv_ss.ss_sales_velocity,\n",
    "        inv_ss.safety_stock,\n",
    "        inv_ss.units_on_order,\n",
    "        inv_ss.units_in_transit,\n",
    "        inv_ss.units_in_dc,\n",
    "        inv_ss.lead_time_in_transit,\n",
    "        inv_ss.lead_time_in_dc,\n",
    "        inv_ss.lead_time_on_order,\n",
    "        inv_ss.on_hand_less_than_safety_stock,\n",
    "        inv_ss.insufficient_inventory_pipeline_units,\n",
    "        inv_ss.lead_time,\n",
    "        inv_lead.insufficient_lead_time\n",
    "        FROM inv_safety_stock inv_ss\n",
    "        JOIN inv_ss_with_lead_times inv_lead\n",
    "        ON inv_ss.store_id = inv_lead.store_id\n",
    "        AND inv_ss.sku = inv_lead.sku\n",
    "        AND inv_ss.sales_date = inv_lead.sales_date\n",
    "    )WITH DATA ON COMMIT PRESERVE ROWS; "
   ]
  },
  {
   "cell_type": "code",
   "execution_count": null,
   "id": "882c74d6-2103-472e-841f-a7a06d55b88d",
   "metadata": {},
   "outputs": [],
   "source": [
    "CREATE MULTISET VOLATILE TABLE out_of_stock_alerts AS (\n",
    "    SELECT sales_date,\n",
    "        store_id,\n",
    "        sku,\n",
    "        product_category,\n",
    "        total_sales_units,\n",
    "        daily_sales_units,\n",
    "        \n",
    "        CASE\n",
    "            WHEN (on_hand_less_than_safety_stock = 1 AND insufficient_inventory_pipeline_units = 1) THEN 1\n",
    "            WHEN (on_hand_less_than_safety_stock = 1 AND insufficient_inventory_pipeline_units <> 1 AND insufficient_lead_time = 1 )\n",
    "        THEN 1\n",
    "        ELSE 0\n",
    "        END \n",
    "        AS oos_alert_indicator\n",
    "        FROM lead_time_alerts\n",
    "    )WITH DATA ON COMMIT PRESERVE ROWS;"
   ]
  },
  {
   "cell_type": "code",
   "execution_count": null,
   "id": "7672e3a3-9909-4c08-accf-88cab0e982ba",
   "metadata": {},
   "outputs": [],
   "source": [
    "select * from out_of_stock_alerts where store_id = 171 and sku = 64 order by sales_date;"
   ]
  },
  {
   "cell_type": "markdown",
   "id": "4a0c9c92-fd82-478b-b317-69e722926cb0",
   "metadata": {
    "tags": []
   },
   "source": [
    "<hr style=\"height:2px;border:none;background-color:#00233C;\">\n",
    "<p style = 'font-size:20px;font-family:Arial;color:#00233C'><b>6. Issues of Identify Zero Sales</b></p>\n",
    "<p style = 'font-size:16px;font-family:Arial;color:#00233C'>Not all products generate sales daily at each store location. However, when a product remains unsold for an extended period, it may indicate a potential issue with its inventory status, warranting verification.The challenge lies in defining what constitutes an \"extended period\" since sales patterns differ widely across products. For example:<br><b>High-demand products</b>: For items that consistently sell hundreds of units each day, a sudden zero-sales day could signal an inventory issue.<br><b>\n",
    "    Low-demand products:</b> Conversely, for products that typically sell only a few units per month, multiple days or even weeks without sales may not be cause for concern.<br>\n",
    "To identify potential inventory issues effectively, we assess the frequency of zero-sales days for each store-SKU combination relative to the total days the product has been available for sale. This approach allows us to estimate the likelihood of a zero-sales day for each product, facilitating a data-driven perspective on which products may require inventory review. "
   ]
  },
  {
   "cell_type": "code",
   "execution_count": null,
   "id": "a5c95382-2414-4367-8b7c-af5a815c8742",
   "metadata": {},
   "outputs": [],
   "source": [
    "/* # calculate ratio of total days of zero sales and total days on shelf across observed period */\n",
    "CREATE MULTISET VOLATILE TABLE zero_sales_totals AS (\n",
    "    SELECT \n",
    "        store_id,\n",
    "        sku,\n",
    "        SUM(\n",
    "        CASE\n",
    "            WHEN total_sales_units = 0 THEN 1 ELSE 0\n",
    "        END) AS total_zero_sales_days,\n",
    "            COUNT(*) AS total_days,\n",
    "            CAST(total_zero_sales_days AS DECIMAL(22,8)) / total_days   AS zero_sales_day_probability\n",
    "        FROM demo_user.Inv_Resampled\n",
    "        GROUP BY store_id,\n",
    "            sku\n",
    "    ) WITH DATA ON COMMIT PRESERVE ROWS;   "
   ]
  },
  {
   "cell_type": "markdown",
   "id": "afb6b54c-77fc-4cb6-bdc7-c8cdab515228",
   "metadata": {},
   "source": [
    "<hr style=\"height:1px;border:none;background-color:#00233C;\">\n",
    "<p style = 'font-size:18px;font-family:Arial;color:#00233C'><b>6.1 Calculate Consecutive Zero Sales Days</b></p>\n",
    "<p style = 'font-size:16px;font-family:Arial;color:#00233C'> We calculate the consecutive days a product has experienced zero-units sold</p>"
   ]
  },
  {
   "cell_type": "code",
   "execution_count": null,
   "id": "6bf5ee00-9603-407e-ae3e-6160639a2204",
   "metadata": {},
   "outputs": [],
   "source": [
    "CREATE MULTISET VOLATILE TABLE zero_sales_days  AS (\n",
    "    SELECT\n",
    "        sales_date,\n",
    "        store_id,\n",
    "        sku,\n",
    "        total_sales_units,\n",
    "        zero_sales_flag_rank,\n",
    "        sales_change_flag_inv,\n",
    "        \n",
    "        CASE\n",
    "            WHEN total_sales_units <> 0 THEN 0 \n",
    "        ELSE SUM(sales_change_flag_inv) OVER(PARTITION BY store_id, sku, zero_sales_flag_rank\n",
    "        ORDER BY sales_date)\n",
    "        END\n",
    "        AS total_days_wo_sales\n",
    "        FROM (\n",
    "        SELECT \n",
    "            sales_date,\n",
    "            store_id,\n",
    "            sku,\n",
    "            total_sales_units,\n",
    "            SUM(sales_change_flag) OVER(PARTITION BY store_id, sku\n",
    "            ORDER BY sales_date ) AS zero_sales_flag_rank,\n",
    "                sales_change_flag_inv\n",
    "            FROM (\n",
    "            SELECT\n",
    "                row_i AS sales_date,\n",
    "                store_id,\n",
    "                sku,\n",
    "                total_sales_units,\n",
    "                \n",
    "                CASE\n",
    "                    WHEN total_sales_units=0 AND LAG(total_sales_units,1) OVER(PARTITION BY store_id, sku\n",
    "                ORDER BY row_i) <> 0 THEN 1 \n",
    "                ELSE 0\n",
    "                END AS sales_change_flag,\n",
    "                    \n",
    "                CASE\n",
    "                    WHEN total_sales_units = 0 THEN 1 ELSE 0\n",
    "                END  AS sales_change_flag_inv\n",
    "                FROM demo_user.Inv_Resampled\n",
    "            ) x)y)\n",
    "    WITH DATA ON COMMIT PRESERVE ROWS;   "
   ]
  },
  {
   "cell_type": "markdown",
   "id": "80652799-d861-4302-956d-97f23a0830b3",
   "metadata": {},
   "source": [
    "<hr style=\"height:1px;border:none;background-color:#00233C;\">\n",
    "<p style = 'font-size:18px;font-family:Arial;color:#00233C'><b>6.2 Calculate Cumulative Probability of Zero Sales Event</b></p>\n",
    "<p style = 'font-size:16px;font-family:Arial;color:#00233C'>If we know the probability that a product will not sell on any given day in a specific store, we can estimate the likelihood that it will experience multiple consecutive days without sales. This calculation involves a simple probability function that evaluates the chance of back-to-back zero-sales days.<br>\n",
    "When this calculated probability reaches or exceeds a certain threshold—in this case, 5%, which indicates a low tolerance for risk—we might consider this a signal to check the product’s inventory. The threshold serves as a trigger point, helping to ensure that inventory checks are focused on situations with a significant likelihood of being problematic.</p>"
   ]
  },
  {
   "cell_type": "code",
   "execution_count": null,
   "id": "2bf4b868-c646-468b-936c-07bc04d29acb",
   "metadata": {},
   "outputs": [],
   "source": [
    "CREATE MULTISET VOLATILE TABLE zero_sales_inventory   AS (\n",
    "    SELECT \n",
    "        a.sales_date,\n",
    "        a.store_id,\n",
    "        a.sku,\n",
    "        a.total_sales_units,\n",
    "        a.zero_sales_flag_rank,\n",
    "        a.sales_change_flag_inv,\n",
    "        a.total_days_wo_sales,\n",
    "        power(CAST(zero_sales_day_probability AS DECIMAL(22,8)), total_days_wo_sales) AS zero_sales_probability,\n",
    "        \n",
    "        CASE\n",
    "            WHEN zero_sales_probability < 0.05 THEN 1 ELSE 0\n",
    "        END AS no_sales_flag\n",
    "        FROM zero_sales_days a\n",
    "        LEFT JOIN zero_sales_totals b\n",
    "        ON a.store_id = b.store_id\n",
    "        AND a.sku = b.sku\n",
    "    )WITH DATA ON COMMIT PRESERVE ROWS;    "
   ]
  },
  {
   "cell_type": "code",
   "execution_count": null,
   "id": "d31f0129-3a07-497e-9140-d57b6700aabd",
   "metadata": {},
   "outputs": [],
   "source": [
    "select * from zero_sales_inventory where store_id = 171 and sku = 64 order by sales_date;"
   ]
  },
  {
   "cell_type": "markdown",
   "id": "ae28a19a-368c-410d-8703-1493a1f216cd",
   "metadata": {},
   "source": [
    "<hr style=\"height:1px;border:none;background-color:#00233C;\">\n",
    "<p style = 'font-size:18px;font-family:Arial;color:#00233C'><b>Conclusion:</b></p>\n",
    "<p style = 'font-size:16px;font-family:Arial;color:#00233C'>\n",
    "In the above demo we have seen how Vantage can solve the complex business problems having multiple calculations and logic involving huge datasets.</p>"
   ]
  },
  {
   "cell_type": "markdown",
   "id": "ba50003a-85f5-4b55-864b-5053104bb4d8",
   "metadata": {},
   "source": [
    "<hr style=\"height:2px;border:none;background-color:#00233C;\">\n",
    "<b style = 'font-size:20px;font-family:Arial;color:#00233C'>7. Cleanup</b>"
   ]
  },
  {
   "cell_type": "markdown",
   "id": "c671ddd0-9da6-47b9-b253-0b0673da657f",
   "metadata": {},
   "source": [
    "<p style = 'font-size:18px;font-family:Arial;color:#00233C'><b>Work Tables</b></p>\n",
    "<p style = 'font-size:16px;font-family:Arial;color:#00233C'>Cleanup work tables to prevent errors next time. This section drops all the tables created during the demonstration.</p>"
   ]
  },
  {
   "cell_type": "code",
   "execution_count": null,
   "id": "644fa3b0-fdf1-418b-ae4e-34c730319681",
   "metadata": {},
   "outputs": [],
   "source": [
    "Drop Table Inv_Resampled;"
   ]
  },
  {
   "cell_type": "markdown",
   "id": "ff679b29-0b29-48ac-a17d-27ad0d62623a",
   "metadata": {},
   "source": [
    "<hr style=\"height:1px;border:none;background-color:#00233C;\">\n",
    "<p style = 'font-size:18px;font-family:Arial;color:#00233C'> <b>Databases and Tables </b></p>\n",
    "<p style = 'font-size:16px;font-family:Arial;color:#00233C'>The following code will clean up tables and databases created above.</p>"
   ]
  },
  {
   "cell_type": "code",
   "execution_count": null,
   "id": "81a34f6a-a8a1-4aa7-9f72-2b19e357bd28",
   "metadata": {},
   "outputs": [],
   "source": [
    "call remove_data('DEMO_Inventory');          -- Takes 5 seconds"
   ]
  },
  {
   "cell_type": "markdown",
   "id": "8c7e6f20-5c07-4a83-9696-a83a11c39476",
   "metadata": {},
   "source": [
    "<hr style=\"height:1px;border:none;background-color:#00233C;\">\n",
    "<b style = 'font-size:18px;font-family:Arial;color:#00233C'>Inventory Data:</b>\n",
    "\n",
    "- `Sale_Date ` : Date of the sale\n",
    "- `Store_Id ` : Unique Id of store\n",
    "- `Sku ` : Item\n",
    "- `Product_Category ` : Category in which item belongs\n",
    "- `Total_Sales_Units ` : Total item units sold\n",
    "- `On_Hand_Inventory_Units ` : Number of item units on hand in store\n",
    "- `Replenishment_Units ` : Number of item units for replenishment\n",
    "- `Inventory_Pipeline ` : Number of item units in pipeline\n",
    "- `Units_In_Transit ` : Number of item units in transit\n",
    "- `Units_In_Dc ` : Number of item units in distribution center\n",
    "- `Units_On_Order ` : Number of item units ordered\n",
    "- `Units_Under_Promotion ` : Number of item units in sales promotion\n",
    "- `Shelf_Capacity` : Storage capacity of item units in the store"
   ]
  },
  {
   "cell_type": "markdown",
   "id": "93cdbe95-d6e2-49b9-a31d-ad70df3c7839",
   "metadata": {},
   "source": [
    "<b style = 'font-size:18px;font-family:Arial;color:#00233C'>Vendor Data:</b>\n",
    "\n",
    "- `Id ` : Unique Id\n",
    "- `Vendor_Id ` : Unique Id of Vendor\n",
    "- `Sub_Vendor_Id ` : Unique Id of Sub Vendor\n",
    "- `Store_Id ` : Store id which vendor caters to\n",
    "- `Item_Id ` : Id of Item, SKU\n",
    "- `Lead_Time_In_DC ` : Lead time for item to reach Distribution Center\n",
    "- `Lead_Time_In_Transit ` : Lead time for item in transit\n",
    "- `Lead_Time_On_Order` : Lead time for item on order placed"
   ]
  },
  {
   "cell_type": "markdown",
   "id": "668c6d1e-a746-4503-be66-c85fe461e7ad",
   "metadata": {},
   "source": [
    "<footer style=\"padding-bottom:35px; background:#f9f9f9; border-bottom:3px solid #00233C\">\n",
    "    <div style=\"float:left;margin-top:14px\">ClearScape Analytics™</div>\n",
    "    <div style=\"float:right;\">\n",
    "        <div style=\"float:left; margin-top:14px\">\n",
    "            Copyright © Teradata Corporation - 2023, 2024. All Rights Reserved\n",
    "        </div>\n",
    "    </div>\n",
    "</footer>"
   ]
  }
 ],
 "metadata": {
  "kernelspec": {
   "display_name": "Teradata SQL",
   "language": "Teradata SQL",
   "name": "teradatasql"
  },
  "language_info": {
   "codemirror_mode": "Teradata SQL",
   "file_extension": ".tdrs",
   "mimetype": "application/vnd.teradata.resultset",
   "name": "Teradata SQL",
   "nbconvert_exporter": "",
   "pygments_lexer": "",
   "version": "16.20"
  }
 },
 "nbformat": 4,
 "nbformat_minor": 5
}
