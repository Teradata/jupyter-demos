{
 "cells": [
  {
   "cell_type": "markdown",
   "id": "d04f16ff-2384-4fb1-b97b-ec2284162244",
   "metadata": {},
   "source": [
    "<header>\n",
    "   <p  style='font-size:36px;font-family:Arial; color:#F0F0F0; background-color: #00233c; padding-left: 20pt; padding-top: 20pt;padding-bottom: 10pt; padding-right: 20pt;'>\n",
    "       RAG solution with Vantage catalogue and AWS Bedrock integration\n",
    "  <br>\n",
    "       <img id=\"teradata-logo\" src=\"https://storage.googleapis.com/clearscape_analytics_demo_data/DEMO_Logo/teradata.svg\" alt=\"Teradata\" style=\"width: 125px; height: auto; margin-top: 20pt;\">\n",
    "    </p>\n",
    "</header>\n",
    "\n",
    "<p style = 'font-size:18px;font-family:Arial;color:#00233c'><b>Introduction</b></p>\n",
    "\n",
    "<p style = 'font-size:16px;font-family:Arial;color:#00233c'>In this demo we will explore how to do extract data from metadata tables of Teradata using embedding and vector db style indexing in Vantage and then query LLM with context/prompts to get the details.</p>\n",
    "\n",
    "<p style = 'font-size:16px;font-family:Arial;color:#00233c'>We use IVSM functions for supporting text summarization and embedding models using Huggingface PyTorch models. In Tok/Detok UDFs we are using the open source Java library originally developed by AWS named DeepJavaLibrary (DJL). This library has a restriction that certain classes could be only loaded into memory once during the JVM lifecycle. In a meanwhile Teradata Java UDF mechanism has a smart class loading mechanism which in a standard situation gives us performance and flexibility could lead to the violation of DJL restriction. To avoid this situation, we are using so called Java Extension Mechanism. This mechanism guarantees only once initialization of classes from some library.</p>\n",
    "\n",
    "<p style = 'font-size:16px;font-family:Arial;color:#00233c'>Teradata has Integration with LLMs with Amazon BedRock etc., and also emerging Open Analytics Framework in the Cloud Lake, where you can host a Language Model etc.</p>\n",
    "\n",
    "<p style = 'font-size:16px;font-family:Arial;color:#00233c'>LLMs are a key artificial intelligence (AI) technology powering intelligent chatbots and other natural language processing (NLP) applications. The goal is to create bots that can answer user questions in various contexts by cross-referencing authoritative knowledge sources. Unfortunately, the nature of LLM technology introduces unpredictability in LLM responses. Additionally, LLM training data is static and introduces a cut-off date on the knowledge it has.</p>\n",
    "\n",
    "<p style = 'font-size:16px;font-family:Arial;color:#00233c'>Known challenges of LLMs include:</p>\n",
    "\n",
    "<li style = 'font-size:16px;font-family:Arial;color:#00233c'>Presenting false information when it does not have the answer.</li>\n",
    "<li style = 'font-size:16px;font-family:Arial;color:#00233c'>Presenting out-of-date or generic information when the user expects a specific, current response.</li>\n",
    "<li style = 'font-size:16px;font-family:Arial;color:#00233c'>Creating a response from non-authoritative sources.</li>\n",
    "<li style = 'font-size:16px;font-family:Arial;color:#00233c'>Creating inaccurate responses due to terminology confusion, wherein different training sources use the same terminology to talk about different things.</li>\n",
    "</p>\n",
    "<p style = 'font-size:16px;font-family:Arial;color:#00233c'>RAG is one approach to solving some of these challenges. It redirects the LLM to retrieve relevant information from authoritative, pre-determined knowledge sources. Organizations have greater control over the generated text output, and users gain insights into how the LLM generates the response.</p>\n",
    "\n",
    "<p style = 'font-size:16px;font-family:Arial;color:#00233c'>In this demo, we will work on creating a catalogue using the tables in the database and use LLM to answer the prompts regarding the catalogue.</p>"
   ]
  },
  {
   "cell_type": "markdown",
   "id": "01ec6bdf-7ebd-4012-b4ca-cc374a3cb14f",
   "metadata": {},
   "source": [
    "<hr style='height:2px;border:none;background-color:#00233C;'>\n",
    "<b style = 'font-size:20px;font-family:Arial;color:#00233c'>1. Configuring the environment</b>\n",
    "\n",
    "<p style = 'font-size:18px;font-family:Arial;color:#00233c'><b>1.1 Install the required libraries</b></p>"
   ]
  },
  {
   "cell_type": "code",
   "execution_count": null,
   "id": "18932935-6f82-48ee-a199-0067dbd72b7d",
   "metadata": {
    "tags": []
   },
   "outputs": [],
   "source": [
    "%%capture\n",
    "!pip install langchain_community pypdf\n",
    "!pip install boto3 awscli\n",
    "!pip install pyopenssl --upgrade --force-reinstall"
   ]
  },
  {
   "cell_type": "markdown",
   "id": "34a73fe1-4b19-40c2-b5f3-64a1efd9976e",
   "metadata": {},
   "source": [
    "<div class=\"alert alert-block alert-info\">\n",
    "<p style = 'font-size:16px;font-family:Arial;color:#00233C'><b>Note: </b><i>Please restart the kernel after executing these two lines. The simplest way to restart the Kernel is by typing zero zero: <b> 0 0</b></i></p>"
   ]
  },
  {
   "cell_type": "markdown",
   "id": "48096e2d-1fb2-400e-8ea2-172315e9246a",
   "metadata": {},
   "source": [
    "<hr style=\"height:1px;border:none;background-color:#00233C;\">\n",
    "<p style = 'font-size:18px;font-family:Arial;color:#00233c'><b>1.2 Import the required libraries</b></p>\n",
    "\n",
    "<p style = 'font-size:16px;font-family:Arial;color:#00233C'>Here, we import the required libraries, set environment variables and environment paths (if required).</p>"
   ]
  },
  {
   "cell_type": "code",
   "execution_count": null,
   "id": "0c24df4b-a5c7-48c0-a9ee-7bded9bf823a",
   "metadata": {},
   "outputs": [],
   "source": [
    "import warnings\n",
    "warnings.filterwarnings('ignore')\n",
    "\n",
    "import os\n",
    "import boto3\n",
    "\n",
    "from langchain_community.document_loaders import PyPDFLoader\n",
    "from langchain.text_splitter import RecursiveCharacterTextSplitter\n",
    "from langchain.callbacks.manager import CallbackManager\n",
    "from langchain.llms.bedrock import Bedrock\n",
    "\n",
    "import pandas as pd\n",
    "from teradataml import *\n",
    "import getpass\n",
    "\n",
    "import warnings\n",
    "warnings.filterwarnings('ignore')\n",
    "from IPython.display import display, Markdown\n",
    "\n",
    "display.max_rows=5\n"
   ]
  },
  {
   "cell_type": "markdown",
   "id": "83d7b265-66ac-4456-bc63-79b71f90e853",
   "metadata": {},
   "source": [
    "<hr style=\"height:1px;border:none;background-color:#00233C;\">\n",
    "<p style = 'font-size:20px;font-family:Arial;color:#00233C'><b>1.3. Connect to Vantage</b></p>\n",
    "\n",
    "<p style = 'font-size:16px;font-family:Arial;color:#00233C'>We will be prompted to provide the password. We will enter the password, press the Enter key, and then use the down arrow to go to the next cell. Begin running steps with Shift + Enter keys.</p>"
   ]
  },
  {
   "cell_type": "code",
   "execution_count": null,
   "id": "ae119d6f-fff0-43fc-a521-43456ef9c0eb",
   "metadata": {},
   "outputs": [],
   "source": [
    "%run -i ../startup.ipynb\n",
    "eng = create_context(host='host.docker.internal', username='demo_user', password=password)\n",
    "print(eng)"
   ]
  },
  {
   "cell_type": "code",
   "execution_count": null,
   "id": "8cf08fe4-23b9-4351-a053-2b7bbc443727",
   "metadata": {},
   "outputs": [],
   "source": [
    "%%capture\n",
    "execute_sql(\"SET query_band='DEMO=Language_Model_RAG_Catalogue_Python.ipynb;' UPDATE FOR SESSION;\")"
   ]
  },
  {
   "cell_type": "markdown",
   "id": "c764a11a-52c0-4397-b790-64126d32e502",
   "metadata": {},
   "source": [
    "<hr style=\"height:2px;border:none;background-color:#00233C;\">\n",
    "<p style = 'font-size:20px;font-family:Arial;color:#00233C'><b>2. Confirmation for functions</b>\n",
    "<p style = 'font-size:16px;font-family:Arial;color:#00233C'>Before starting let us confirm that the required functions are installed.</p>\n",
    " "
   ]
  },
  {
   "cell_type": "code",
   "execution_count": null,
   "id": "398b62a9-2e10-45a2-a03d-9d8fa00cc402",
   "metadata": {},
   "outputs": [],
   "source": [
    "df_check= DataFrame.from_query('''select count(*) as cnt from dbc.tablesV where databasename = 'ivsm';''')\n",
    "if df_check.get_values()[0][0] >= 10:\n",
    "    print('Functions are installed, please continue.')\n",
    "else:\n",
    "    print('Functions are not installed, please go to Instalization notebook before proceeding further')\n",
    "    display(Markdown(\"[Initialization Notebook](./Initialization_and_Model_Load.ipynb)\"))"
   ]
  },
  {
   "cell_type": "markdown",
   "id": "8f664cf2-7a8d-4738-b6d7-385a0a0e98f7",
   "metadata": {},
   "source": [
    "<hr style=\"height:2px;border:none;background-color:#00233C;\">\n",
    "\n",
    "<p style = 'font-size:20px;font-family:Arial;color:#00233C'><b>3. Getting Data for This Demo</b></p>\n",
    "<p style = 'font-size:16px;font-family:Arial;color:#00233C'>We have provided data for this demo on cloud storage. Since we are using embeddings stored in Vantage for this demo we are only using the local storage for the demo. We will only use the option of creating table locally.</p>   \n"
   ]
  },
  {
   "cell_type": "code",
   "execution_count": null,
   "id": "11a1e7d2-83bd-4ade-9818-9e912323d2d2",
   "metadata": {},
   "outputs": [],
   "source": [
    "%run -i ../run_procedure.py \"call get_data('DEMO_SLMRAG_Catalogue_local');\"\n",
    " # Takes about 2 minutes "
   ]
  },
  {
   "cell_type": "markdown",
   "id": "3d98989a-25d7-4157-80fc-e1068ca1a101",
   "metadata": {},
   "source": [
    "<p style = 'font-size:16px;font-family:Arial;color:#00233C'>Optional step – We should execute the below step only if we want to see the status of databases/tables created and space used.</p>"
   ]
  },
  {
   "cell_type": "code",
   "execution_count": null,
   "id": "4d9ca612-1a92-455a-a678-e89e049f6ee2",
   "metadata": {},
   "outputs": [],
   "source": [
    "%run -i ../run_procedure.py \"call space_report();\""
   ]
  },
  {
   "cell_type": "markdown",
   "id": "ac42b64d-db35-43c8-b0bc-1fc625aaeaa5",
   "metadata": {},
   "source": [
    "<hr style=\"height:2px;border:none;background-color:#00233C;\">\n",
    "<p style = 'font-size:20px;font-family:Arial;color:#00233C'><b>4. Create td catalogue using the tables</b></p>\n",
    "<p style = 'font-size:16px;font-family:Arial;color:#00233C'>Here we will create a catalogue from the tables which are present in the database.</p>\n",
    "<p style = 'font-size:16px;font-family:Arial;color:#00233C'>In order to create catalogue, we will first create tables realted to different use cases. We are creating these tables here for showcasing the usecase. In actual production system there will be existing schemas and tables on which we can create the catalogue.</p>"
   ]
  },
  {
   "cell_type": "code",
   "execution_count": null,
   "id": "db1cb1a9-315c-4ef0-bffa-52ebca20ac77",
   "metadata": {},
   "outputs": [],
   "source": [
    "%run -i ../run_procedure.py \"call get_data('DEMO_BankChurn_cloud');\"\n",
    "%run -i ../run_procedure.py \"call get_data('DEMO_UAF_cloud');\"\n",
    "%run -i ../run_procedure.py \"call get_data('DEMO_TelcoNetwork_cloud');\"\n",
    "%run -i ../run_procedure.py \"call get_data('DEMO_5G_cloud');\"\n",
    "%run -i ../run_procedure.py \"call get_data('DEMO_SalesForecasting_cloud');\""
   ]
  },
  {
   "cell_type": "code",
   "execution_count": null,
   "id": "e353b433-07f8-44b0-8ead-1e1845fcf55f",
   "metadata": {},
   "outputs": [],
   "source": [
    "qry = \"\"\"CREATE TABLE td_catalog_for_rag\n",
    "    as\n",
    "    (\n",
    "    \tSELECT \n",
    "    \t\tsum(1) over( rows unbounded preceding ) as id,\n",
    "    \t\tschema as txt\n",
    "    \tFROM(\n",
    "    \t\tSELECT\n",
    "    \t\t    'Database: ' || DATABASENAME ||', Table: ' || TABLENAME || ', Columns: ' || TRIM(TRAILING ',' \n",
    "    \t\t    FROM (XMLAGG(TRIM(ColumnName) || ', ' ORDER BY ColumnId)(VARCHAR(10000)))) AS Schema\n",
    "    \t\tFROM dbc.columnsV\n",
    "    \t\tWHERE TableName NOT LIKE 'ml__%' \n",
    "            and DataBasename like any ('DBC','Demo%','mldb')\n",
    "    \t\tGROUP BY DATABASENAME, TABLENAME \n",
    "    \t) as x\n",
    "    ) with data\n",
    ";\"\"\"\n",
    "\n",
    "try:\n",
    "    execute_sql(qry)\n",
    "    print('Table Created')\n",
    "except:\n",
    "    db_drop_table('td_catalog_for_rag')\n",
    "    execute_sql(qry)\n",
    "    print('Table Created')"
   ]
  },
  {
   "cell_type": "code",
   "execution_count": null,
   "id": "728e09c3-9793-4797-b9f7-4832007c8e98",
   "metadata": {},
   "outputs": [],
   "source": [
    "df = DataFrame('td_catalog_for_rag')\n",
    "df"
   ]
  },
  {
   "cell_type": "markdown",
   "id": "8c674018-74d2-4784-b7ba-191a91152630",
   "metadata": {},
   "source": [
    "<hr style=\"height:2px;border:none;background-color:#00233C;\">\n",
    "<p style = 'font-size:20px;font-family:Arial;color:#00233C'><b>5. Generate embeddings on the TD catalogue</b></p>\n",
    "<p style = 'font-size:16px;font-family:Arial;color:#00233C'>We will create embeddings for the catalogue.</p>"
   ]
  },
  {
   "cell_type": "code",
   "execution_count": null,
   "id": "9762dc3c-5346-4c84-a0dd-00f4065fe4f2",
   "metadata": {},
   "outputs": [],
   "source": [
    "qry = \"\"\"replace view v_td_catalog_tokenized_for_embeddings as (\n",
    "    select\n",
    "        id,\n",
    "        txt,\n",
    "        IDS as input_ids,\n",
    "        attention_mask\n",
    "    from ivsm.tokenizer_encode(\n",
    "        on (select * from td_catalog_for_rag)\n",
    "        on (select model as tokenizer from embeddings_tokenizers where model_id = 'bge-small-en-v1.5') DIMENSION\n",
    "        USING\n",
    "            ColumnsToPreserve('id', 'txt')\n",
    "            OutputFields('IDS', 'ATTENTION_MASK')\n",
    "            MaxLength(1024)\n",
    "            PadToMaxLength('True')\n",
    "            TokenDataType('INT64')\n",
    "    ) a\n",
    ");\"\"\"\n",
    "\n",
    "try:\n",
    "    execute_sql(qry)\n",
    "    print('View Created')\n",
    "except:\n",
    "    print(error)\n",
    "    "
   ]
  },
  {
   "cell_type": "code",
   "execution_count": null,
   "id": "f4bd12cb-3fca-4cca-96e6-6c2c0eecf4fd",
   "metadata": {},
   "outputs": [],
   "source": [
    "qry=\"\"\"replace view td_catalog_embeddings as (\n",
    "    select \n",
    "            *\n",
    "    from ivsm.IVSM_score(\n",
    "            on v_td_catalog_tokenized_for_embeddings  -- table with data to be scored\n",
    "            on (select * from embeddings_models where model_id = 'bge-small-en-v1.5') dimension\n",
    "            using\n",
    "                ColumnsToPreserve('id', 'txt') -- columns to be copied from input table\n",
    "                ModelType('ONNX') -- model format\n",
    "                BinaryInputFields('input_ids', 'attention_mask') -- enables binary input vectors\n",
    "                BinaryOutputFields('sentence_embedding')\n",
    "                Caching('inquery') -- tun on model caching within the query\n",
    "        ) a \n",
    ");\"\"\"\n",
    "\n",
    "try:\n",
    "    execute_sql(qry)\n",
    "    print('View Created')\n",
    "except:\n",
    "    print(error)"
   ]
  },
  {
   "cell_type": "markdown",
   "id": "5623bb1e-623f-40d6-b9fc-afa2118f70b5",
   "metadata": {},
   "source": [
    "<p style = 'font-size:18px;font-family:Arial;color:#00233c'><b> Do you want to generate the embeddings?</b></p>    \n",
    "<p style = 'font-size:16px;font-family:Arial;color:#00233C'>Generating embeddings will take around <b>25-30 minutes.</b></p>\n",
    "<p style = 'font-size:16px;font-family:Arial;color:#00233C'>We have already generated embeddings for the pdf and stored them in <b>Vantage</b> table.</p>\n",
    " \n",
    "<center><img src=\"images/decision_emb_gen_3.svg\" alt=\"embeddings_decision\" width=300 height=400/></center>\n",
    " \n",
    "<div class=\"alert alert-block alert-info\">\n",
    "<p style = 'font-size:16px;font-family:Arial;color:#00233C'><i><b>Note: If you would like to skip the embedding generation step to save the time and move quickly to next step, please enter \"No\" in the next prompt.</b></i></p>\n",
    "</div>\n",
    " \n",
    "<p style = 'font-size:16px;font-family:Arial;color:#00233C'>To save time, you can move to the already generated embeddings section. However, if you would like to see how we generate the embeddings, or if you need to generate the embeddings for a different dataset, then continue to the following section.</p>"
   ]
  },
  {
   "cell_type": "code",
   "execution_count": null,
   "id": "68828d17-453d-46e4-b90d-93da1db0b0e0",
   "metadata": {
    "tags": []
   },
   "outputs": [],
   "source": [
    "import time\n",
    "# Request user's input\n",
    "generate = input(\"Do you want to generate embeddings? ('yes'/'no'): \")\n",
    "\n",
    "# Check the user's input\n",
    "if generate.lower() == 'yes':\n",
    "    print(\"\\nGreat! We'll start by generating embeddings.\")\n",
    "\n",
    "    print(\"\\nGenerating embeddings and Saving to the database, please wait...\")\n",
    "    start = time.time()\n",
    "    qry=\"\"\"create table td_catalog_embeddings_store as (\n",
    "    select *\n",
    "    from ivsm.vector_to_columns(\n",
    "            on td_catalog_embeddings\n",
    "            using\n",
    "                ColumnsToPreserve('id', 'txt') \n",
    "                VectorDataType('FLOAT32')\n",
    "                VectorLength(384)\n",
    "                OutputColumnPrefix('emb_')\n",
    "                InputColumnName('sentence_embedding')\n",
    "        ) a ) with data;\"\"\"\n",
    "\n",
    "    try:\n",
    "        execute_sql(qry)\n",
    "        end = time.time()\n",
    "        print('Table Created')\n",
    "        print(end-start)\n",
    "        \n",
    "    except:\n",
    "        db_drop_table('td_catalog_embeddings_store')\n",
    "        execute_sql(qry)\n",
    "        end = time.time()\n",
    "        print('Table Created')\n",
    "        print(end-start)\n",
    "\n",
    "\n",
    "    print(\"\\nEmbeddings generated and saved successfully!\")\n",
    "\n",
    "elif generate.lower() == 'no':\n",
    "    print(\"\\nLoading embeddings from the Vantage table\")\n",
    "    # Save them to SQL\n",
    "    df_emb = DataFrame(in_schema(\"DEMO_SLMRAG_Catalogue\",\"Catalogue_Embedding_Data\"))\n",
    "    copy_to_sql(\n",
    "        df = df_emb,\n",
    "        table_name = 'td_catalog_embeddings_store',\n",
    "        if_exists = 'replace'\n",
    "    )\n",
    "\n",
    "    print(\"\\nEmbeddings loaded and saved successfully!\")\n",
    "\n",
    "else:\n",
    "    print(\"\\nInvalid input. Please enter 'yes' or 'no' to proceed.\")"
   ]
  },
  {
   "cell_type": "code",
   "execution_count": null,
   "id": "e1042fe1-8b94-404e-8e56-bacc652fef07",
   "metadata": {},
   "outputs": [],
   "source": [
    "df = DataFrame('td_catalog_embeddings_store')\n",
    "df"
   ]
  },
  {
   "cell_type": "markdown",
   "id": "61fb302a-7795-4b8f-840a-730bdfabb7c0",
   "metadata": {},
   "source": [
    "<hr style=\"height:2px;border:none;background-color:#00233C;\">\n",
    "<p style = 'font-size:20px;font-family:Arial;color:#00233C'><b>6. Insert Prompts into a Table</b></p>"
   ]
  },
  {
   "cell_type": "markdown",
   "id": "cc31bb37-ea9b-4858-a6f4-600413bec442",
   "metadata": {},
   "source": [
    "<p style = 'font-size:16px;font-family:Arial;color:#00233C'>We will create the required table and than we will insert different values for the prompts.</p>"
   ]
  },
  {
   "cell_type": "code",
   "execution_count": null,
   "id": "2a5908a2-9da4-4310-8507-075c36af4a03",
   "metadata": {},
   "outputs": [],
   "source": [
    "qry = '''CREATE MULTISET TABLE rag_topics_of_interest(\n",
    "      txt VARCHAR(1024) CHARACTER SET UNICODE NOT CASESPECIFIC,\n",
    "      id INT) NO PRIMARY INDEX''' ;\n",
    "try:\n",
    "    execute_sql(qry)\n",
    "except:\n",
    "    db_drop_table('rag_topics_of_interest')\n",
    "    execute_sql(qry)"
   ]
  },
  {
   "cell_type": "markdown",
   "id": "c0c9447f-0080-4bb9-adff-200b5aa02523",
   "metadata": {},
   "source": [
    "<p style = 'font-size:16px;font-family:Arial;color:#00233C'>We will create prompts for different questions that can be answered from the document. Below are some sample questions that can be asked.</p>"
   ]
  },
  {
   "cell_type": "code",
   "execution_count": null,
   "id": "3f74565e-0342-4850-82d0-2580f6b7a1a3",
   "metadata": {},
   "outputs": [],
   "source": [
    "prompts = [\"I have to demo Teradata features to a Telco network for use case they have. What database or tables \\\n",
    " can I use to prepare for my demo so the presentation is relevant ? Can you write some Teradata SQL queries around these \\\n",
    " tables. Make sure you prefix the relevant database name in front of the tables in the queries\",\n",
    "           \"I have to demo Teradata features to a Bank customer churn for some use case they have. What database or tables \\\n",
    " can I use to prepare for my demo so the presentation is relevant ? Can you write some Teradata SQL queries around these \\\n",
    " tables. Make sure you prefix the relevant database name in front of the tables in the queries\",\n",
    "           \"I have to demo Teradata features for Sales Forecasting for some use case they have. What database or tables \\\n",
    " can I use to prepare for my demo so the presentation is relevant ? Can you write some Teradata SQL queries around these \\\n",
    " tables. Make sure you prefix the relevant database name in front of the tables in the queries\",\n",
    "           \"What logging tables are available in Teradata to check AWT usage ?\",\n",
    "           \"What logging tables are available in Teradata to check CPU usage ?\",\n",
    "           \"What metadata tables are available in Teradata to DBQL Details ?\",\n",
    "           \"What BYOM functions are available in Teradata?\"]\n",
    "\n",
    "for idx, prompt in enumerate(prompts, start=1):\n",
    "    execute_sql(f'''INSERT into rag_topics_of_interest values ('{prompt}', {idx});''')\n",
    "    # print(f'''INSERT into rag_topics_of_interest values ('{prompt}', {idx});''')"
   ]
  },
  {
   "cell_type": "markdown",
   "id": "f7349ce1-bba5-44fb-b4f8-a64d07ade6c7",
   "metadata": {},
   "source": [
    "<hr style=\"height:2px;border:none;background-color:#00233C;\">\n",
    "<p style = 'font-size:20px;font-family:Arial;color:#00233C'><b>7. Generate Embeddings from the Prompts</b></p>\n",
    "<p style = 'font-size:16px;font-family:Arial;color:#00233C'>We will create embeddings for the prompts which we have inserted into the table above.</p>"
   ]
  },
  {
   "cell_type": "code",
   "execution_count": null,
   "id": "a327208b-2e33-4894-b5f7-500c0dc7668c",
   "metadata": {},
   "outputs": [],
   "source": [
    "qry = \"\"\"replace view v_rag_topics_tokenized_for_embeddings as (\n",
    "    select\n",
    "        id,\n",
    "        txt,\n",
    "        IDS as input_ids,\n",
    "        attention_mask\n",
    "    from ivsm.tokenizer_encode(\n",
    "        on (select * from rag_topics_of_interest)\n",
    "        on (select model as tokenizer from embeddings_tokenizers where model_id = 'bge-small-en-v1.5') DIMENSION\n",
    "        USING\n",
    "            ColumnsToPreserve('id', 'txt')\n",
    "            OutputFields('IDS', 'ATTENTION_MASK')\n",
    "            MaxLength(1024)\n",
    "            PadToMaxLength('True')\n",
    "            TokenDataType('INT64')\n",
    "    ) a\n",
    ");\"\"\"\n",
    "\n",
    "try:\n",
    "    execute_sql(qry)\n",
    "    print('View Created')\n",
    "except:\n",
    "    print(error)"
   ]
  },
  {
   "cell_type": "code",
   "execution_count": null,
   "id": "c17209f4-fa02-41b1-99ae-4a0d1e7aa55f",
   "metadata": {},
   "outputs": [],
   "source": [
    "qry=\"\"\"replace view rag_topics_embeddings as (\n",
    "    select \n",
    "            *\n",
    "    from ivsm.IVSM_score(\n",
    "            on v_rag_topics_tokenized_for_embeddings  -- table with data to be scored\n",
    "            on (select * from embeddings_models where model_id = 'bge-small-en-v1.5') dimension\n",
    "            using\n",
    "                ColumnsToPreserve('id', 'txt') -- columns to be copied from input table\n",
    "                ModelType('ONNX') -- model format\n",
    "                BinaryInputFields('input_ids', 'attention_mask') -- enables binary input vectors\n",
    "                BinaryOutputFields('sentence_embedding')\n",
    "                Caching('inquery') -- tun on model caching within the query\n",
    "        ) a \n",
    ");\"\"\"\n",
    "\n",
    "try:\n",
    "    execute_sql(qry)\n",
    "    print('View Created')\n",
    "except:\n",
    "    print(error)"
   ]
  },
  {
   "cell_type": "code",
   "execution_count": null,
   "id": "c3425f36-5068-4faf-a27b-64de7accb22b",
   "metadata": {},
   "outputs": [],
   "source": [
    "qry = \"\"\"create table rag_topics_embeddings_store as (\n",
    "    select \n",
    "            *\n",
    "    from ivsm.vector_to_columns(\n",
    "            on rag_topics_embeddings\n",
    "            using\n",
    "                ColumnsToPreserve('id', 'txt') \n",
    "                VectorDataType('FLOAT32')\n",
    "                VectorLength(384)\n",
    "                OutputColumnPrefix('emb_')\n",
    "                InputColumnName('sentence_embedding')\n",
    "        ) a \n",
    ") with data;\"\"\"\n",
    "\n",
    "try:\n",
    "    execute_sql(qry)\n",
    "    print('Table Created')\n",
    "except:\n",
    "    db_drop_table('rag_topics_embeddings_store')\n",
    "    execute_sql(qry)\n",
    "    print('Table Created')"
   ]
  },
  {
   "cell_type": "code",
   "execution_count": null,
   "id": "d3a94a1f-6eb7-4836-bcd9-2657a6c4bbce",
   "metadata": {},
   "outputs": [],
   "source": [
    "df = DataFrame('rag_topics_embeddings_store')\n",
    "df"
   ]
  },
  {
   "cell_type": "markdown",
   "id": "70bafc59-63d9-418d-a256-8acb0bab089b",
   "metadata": {},
   "source": [
    "<hr style=\"height:2px;border:none;background-color:#00233C;\">\n",
    "<p style = 'font-size:20px;font-family:Arial;color:#00233C'><b>8. Find top 10 matching chunks</b></p>\n",
    "<p style = 'font-size:16px;font-family:Arial;color:#00233C'>We will find the top 10 chunks that match the queries using the TD_VectorDistance. The TD_VectorDistance function accepts a table of target vectors and a table of reference vectors and returns a table that contains the distance between target-reference pairs. The function computes the distance between the target pair and the reference pair from the same table. We must have the same column order in the TargetFeatureColumns argument and the RefFeatureColumns argument. The function ignores the feature values during distance computation if the value is either NULL, NAN, or INF.</p>"
   ]
  },
  {
   "cell_type": "code",
   "execution_count": null,
   "id": "bc39b67e-9b20-4328-a740-b165fb32893c",
   "metadata": {},
   "outputs": [],
   "source": [
    "qry=\"\"\"create multiset table rag_semantic_search_results\n",
    "as (\n",
    "SELECT \n",
    "    dt.target_id,\n",
    "    dt.reference_id,\n",
    "    e_tgt.txt as target_txt,\n",
    "    e_ref.txt as reference_txt,\n",
    "    (1.0 - dt.distance) as similarity \n",
    "FROM\n",
    "    TD_VECTORDISTANCE (\n",
    "        ON rag_topics_embeddings_store AS TargetTable\n",
    "        ON td_catalog_embeddings_store AS ReferenceTable DIMENSION\n",
    "        USING\n",
    "            TargetIDColumn('id')\n",
    "            TargetFeatureColumns('[emb_0:emb_383]')\n",
    "            RefIDColumn('id')\n",
    "            RefFeatureColumns('[emb_0:emb_383]')\n",
    "            DistanceMeasure('cosine')\n",
    "            topk(10)\n",
    "    ) AS dt\n",
    "JOIN rag_topics_embeddings_store e_tgt on e_tgt.id = dt.target_id\n",
    "JOIN td_catalog_embeddings_store e_ref on e_ref.id = dt.reference_id\n",
    ") with data;\"\"\"\n",
    "\n",
    "try:\n",
    "    execute_sql(qry)\n",
    "    print('Table Created')\n",
    "except:\n",
    "    db_drop_table('rag_semantic_search_results')\n",
    "    execute_sql(qry)\n",
    "    print('Table Created')"
   ]
  },
  {
   "cell_type": "code",
   "execution_count": null,
   "id": "01d93ea9-e0db-46b8-b837-5e4ec958173b",
   "metadata": {},
   "outputs": [],
   "source": [
    "df = DataFrame('rag_semantic_search_results').to_pandas()\n",
    "df"
   ]
  },
  {
   "cell_type": "markdown",
   "id": "f62fa75b-b96c-4fb4-b212-b93a56e933f6",
   "metadata": {},
   "source": [
    "<hr style=\"height:2px;border:none;background-color:#00233C;\">\n",
    "<a id=\"rule\"></a>\n",
    "<p style = 'font-size:20px;font-family:Arial;color:#00233C'><b>9. Create Context and Prompt for LLM</b></p>\n",
    "<p style = 'font-size:16px;font-family:Arial;color:#00233C'>We will create context and prepare instructions and prompt to the LLM.</p>"
   ]
  },
  {
   "cell_type": "code",
   "execution_count": null,
   "id": "ddb71199-66ca-40ca-9fbf-9a388bbdf82b",
   "metadata": {},
   "outputs": [],
   "source": [
    "prompt = [\"I have to demo Teradata features to a Telco network for use case they have. What database or tables \\\n",
    " can I use to prepare for my demo so the presentation is relevant ? Can you write some Teradata SQL queries around these \\\n",
    " tables. Make sure you prefix the relevant database name in front of the tables in the queries\"]"
   ]
  },
  {
   "cell_type": "markdown",
   "id": "455776b7-194d-403c-af57-eca93cb26b98",
   "metadata": {},
   "source": [
    "<p style = 'font-size:16px;font-family:Arial;color:#00233C'>Below are some options available.</p>\n",
    "<li style = 'font-size:16px;font-family:Arial;color:#00233C'> prompt = [\"I have to demo Teradata features to a Bank customer churn for some use case they have. What database or tables \\\n",
    " can I use to prepare for my demo so the presentation is relevant ? Can you write some Teradata SQL queries around these \\\n",
    " tables. Make sure you prefix the relevant database name in front of the tables in the queries\"]</li>\n",
    "<li style = 'font-size:16px;font-family:Arial;color:#00233C'> prompt = [\"I have to demo Teradata features for Sales Forecasting for some use case they have. What database or tables \\\n",
    " can I use to prepare for my demo so the presentation is relevant ? Can you write some Teradata SQL queries around these \\\n",
    " tables. Make sure you prefix the relevant database name in front of the tables in the queries\"]</li>\n",
    "<li style = 'font-size:16px;font-family:Arial;color:#00233C'> prompt = [\"What logging tables are available in Teradata to check AWT usage ?\"]</li>\n",
    "<li style = 'font-size:16px;font-family:Arial;color:#00233C'> prompt = [\"What tables are available in Teradata to check CPU usage ?\"]</li>\n",
    "<li style = 'font-size:16px;font-family:Arial;color:#00233C'> prompt = [\"What metadata tables are available in Teradata to DBQL Details ?\"]</li>\n",
    "<li style = 'font-size:16px;font-family:Arial;color:#00233C'> prompt = [\"What BYOM functions are available in Teradata?\"]</li>\n",
    "\n",
    "</p>\n"
   ]
  },
  {
   "cell_type": "code",
   "execution_count": null,
   "id": "3b43947f-1ac5-4208-bea9-7eac2159c1a9",
   "metadata": {},
   "outputs": [],
   "source": [
    "context = str.join('\\n',df['reference_txt'].to_list())"
   ]
  },
  {
   "cell_type": "code",
   "execution_count": null,
   "id": "6d40dbf2-0fa4-4024-85cc-9051d8d933e0",
   "metadata": {},
   "outputs": [],
   "source": [
    "llm_query = \"Answer the question based only on the following context: \" + context + \\\n",
    "\"Answer the question based on the above context: \" + prompt[0] + \\\n",
    "\"\"\" \n",
    "Provide a detailed answer.\n",
    "Don’t justify your answers.\n",
    "Don’t give information not mentioned in the CONTEXT INFORMATION.\n",
    "Do not say \"according to the context\" or \"mentioned in the context\" or similar.\n",
    "\"\"\"\n"
   ]
  },
  {
   "cell_type": "markdown",
   "id": "1de8f8fc-be28-4b01-9300-33c31656d842",
   "metadata": {},
   "source": [
    "<hr style=\"height:2px;border:none;background-color:#00233C;\">\n",
    "<b style = 'font-size:20px;font-family:Arial;color:#00233C'>10. Configuring AWS CLI and Initialize Bedrock Model</b>\n",
    "<p style = 'font-size:16px;font-family:Arial;color:#00233C'>The following cell will prompt us for the following information:</p>\n",
    "<ol style = 'font-size:16px;font-family:Arial;color:#00233C'>\n",
    "<li><b>aws_access_key_id</b>: Enter your AWS access key ID</li>\n",
    "<li><b>aws_secret_access_key</b>: Enter your AWS secret access key</li>\n",
    "<li><b>region name</b>: Enter the AWS region you want to configure (e.g., us-east-1)</li>\n",
    "<ol>"
   ]
  },
  {
   "cell_type": "code",
   "execution_count": null,
   "id": "460d4854-6e33-4931-8b50-2678ae03e118",
   "metadata": {},
   "outputs": [],
   "source": [
    "def configure_aws():\n",
    "    print(\"configure the AWS CLI\")\n",
    "    # enter the access_key/secret_key\n",
    "    access_key = getpass.getpass(\"aws_access_key_id \")\n",
    "    secret_key = getpass.getpass(\"aws_secret_access_key \")\n",
    "    region_name = getpass.getpass(\"region name\")\n",
    "\n",
    "    #set to the env\n",
    "    !aws configure set aws_access_key_id {access_key}\n",
    "    !aws configure set aws_secret_access_key {secret_key}\n",
    "    !aws configure set default.region {region_name}"
   ]
  },
  {
   "cell_type": "code",
   "execution_count": null,
   "id": "ade1001d-174a-4535-843e-25ff48ab5f6b",
   "metadata": {},
   "outputs": [],
   "source": [
    "does_access_key_exists = !aws configure get aws_access_key_id\n",
    "\n",
    "if len(does_access_key_exists) == 0:\n",
    "    configure_aws()"
   ]
  },
  {
   "cell_type": "code",
   "execution_count": null,
   "id": "a1c1516f-22b4-46e5-84d7-85774c00c2b2",
   "metadata": {},
   "outputs": [],
   "source": [
    "!aws configure list"
   ]
  },
  {
   "cell_type": "markdown",
   "id": "061ab82e-dadb-4039-9b61-b3accacfc2fc",
   "metadata": {},
   "source": [
    "<b style = 'font-size:18px;font-family:Arial;color:#00233C'>Initialize the Bedrock Model</b>\n",
    "<ul style = 'font-size:16px;font-family:Arial;color:#00233C'>\n",
    "<li>The code below initializes a Boto3 client for the “bedrock-runtime” service.</li>\n",
    "<li>The get_llm() function creates a Bedrock language model with specific configuration options.</li>\n",
    "<li>The model can be used for natural language generation tasks.</li>\n",
    "<ul>"
   ]
  },
  {
   "cell_type": "code",
   "execution_count": null,
   "id": "40a21d8f-edaa-44c1-ae88-9b521387f9b4",
   "metadata": {},
   "outputs": [],
   "source": [
    "# Create a Boto3 client for the \"bedrock-runtime\" service in the us-east-1 region\n",
    "bedrock = boto3.client(service_name=\"bedrock-runtime\", region_name='us-east-1')\n",
    "\n",
    "def get_llm():\n",
    "    # Create a Bedrock model with specific configuration options\n",
    "    return Bedrock(\n",
    "        model_id=\"mistral.mistral-7b-instruct-v0:2\",\n",
    "        client=bedrock,\n",
    "        model_kwargs={\n",
    "            'temperature': 0.2,\n",
    "            'max_tokens' : 200\n",
    "        }\n",
    "    )\n",
    "\n",
    "# Get the Bedrock model\n",
    "\n",
    "llm = get_llm()"
   ]
  },
  {
   "cell_type": "markdown",
   "id": "9d25cf75-b714-4943-90ab-7e7e8e6237a9",
   "metadata": {},
   "source": [
    "<hr style=\"height:2px;border:none;background-color:#00233C;\">\n",
    "<b style = 'font-size:20px;font-family:Arial;color:#00233C'>11. Pass the question and get Answer from the catalogue</b>\n",
    "<p style = 'font-size:16px;font-family:Arial;color:#00233C'>The following cell will pass the question to the llm model and get the answer using the embeddings created from the catalogue and the prompts.</p>\n"
   ]
  },
  {
   "cell_type": "code",
   "execution_count": null,
   "id": "46727d7a-517e-4d39-a28b-3db6e3eaa505",
   "metadata": {},
   "outputs": [],
   "source": [
    "s = llm(llm_query)\n",
    "print(\"Prompt: \"+prompt[0]+\"\\n\\n\"+\"Answer:\\n\\n\"+s)"
   ]
  },
  {
   "cell_type": "markdown",
   "id": "3c982704-46f2-4dd6-a6a8-4a2fe12fd6f8",
   "metadata": {},
   "source": [
    "<p style = 'font-size:16px;font-family:Arial;color:#00233C'>In case you want to check answer for some other question please enter the question again <a href='#rule'>here</a> and run the following steps again.</p>"
   ]
  },
  {
   "cell_type": "markdown",
   "id": "9ba96cad-5452-4391-aa77-2616b0ee6fc7",
   "metadata": {},
   "source": [
    "<hr style=\"height:2px;border:none;background-color:#00233C;\">\n",
    "<b style = 'font-size:20px;font-family:Arial;color:#00233C'>12. Cleanup</b>"
   ]
  },
  {
   "cell_type": "markdown",
   "id": "98a1c10e-50bb-4f3e-ba27-90c032fa7027",
   "metadata": {},
   "source": [
    "<p style = 'font-size:18px;font-family:Arial;color:#00233C'> <b>Work Tables </b></p>\n",
    "<p style = 'font-size:16px;font-family:Arial;color:#00233C'>The following code will clean up tables created above.</p>"
   ]
  },
  {
   "cell_type": "code",
   "execution_count": null,
   "id": "78d1d17d-a683-425b-a9ef-42e295ec7349",
   "metadata": {},
   "outputs": [],
   "source": [
    "tables = ['td_catalog_for_rag', 'td_catalog_embeddings_store','rag_topics_embeddings_store'\n",
    "          ,'rag_topics_of_interest']\n",
    "\n",
    "# Loop through the list of tables and execute the drop table command for each table\n",
    "for table in tables:\n",
    "    try:\n",
    "        db_drop_table(table_name=table)\n",
    "    except:\n",
    "        pass  \n",
    "    \n",
    "views = ['v_td_catalog_tokenized_for_embeddings','td_catalog_embeddings','v_rag_topics_tokenized_for_embeddings',\n",
    "         'rag_topics_embeddings']   \n",
    "\n",
    "for view in views:\n",
    "    try:\n",
    "        db_drop_view(view_name=view)\n",
    "    except:\n",
    "        pass "
   ]
  },
  {
   "cell_type": "markdown",
   "id": "c1895ad3-9dc5-47c9-a457-fcfb245b7ce2",
   "metadata": {},
   "source": [
    "<p style = 'font-size:18px;font-family:Arial;color:#00233C'> <b>Databases and Tables </b></p>\n",
    "<p style = 'font-size:16px;font-family:Arial;color:#00233C'>The following code will clean up tables and databases created above.</p>"
   ]
  },
  {
   "cell_type": "code",
   "execution_count": null,
   "id": "1fcba03a-2d0a-4b7b-863a-8905f985a54e",
   "metadata": {},
   "outputs": [],
   "source": [
    "%run -i ../run_procedure.py \"call remove_data('DEMO_BankChurn');\"\n",
    "%run -i ../run_procedure.py \"call remove_data('DEMO_UAF');\"\n",
    "%run -i ../run_procedure.py \"call remove_data('DEMO_TelcoNetwork');\"\n",
    "%run -i ../run_procedure.py \"call remove_data('DEMO_5G');\"\n",
    "%run -i ../run_procedure.py \"call remove_data('DEMO_SalesForecasting');\"\n",
    "%run -i ../run_procedure.py \"call remove_data('DEMO_SLMRAG_Catalogue');\"        # Takes 10 seconds"
   ]
  },
  {
   "cell_type": "code",
   "execution_count": null,
   "id": "8a1d31d5-f54f-4fe9-b1f6-9279d15f6d11",
   "metadata": {
    "tags": []
   },
   "outputs": [],
   "source": [
    "remove_context()"
   ]
  },
  {
   "cell_type": "markdown",
   "id": "ce02e3f0-3980-4034-896b-71e7ab4fd880",
   "metadata": {},
   "source": [
    "<footer style=\"padding-bottom:35px; background:#f9f9f9; border-bottom:3px solid #00233C\">\n",
    "    <div style=\"float:left;margin-top:14px\">ClearScape Analytics™</div>\n",
    "    <div style=\"float:right;\">\n",
    "        <div style=\"float:left; margin-top:14px\">\n",
    "            Copyright © Teradata Corporation - 2024. All Rights Reserved\n",
    "        </div>\n",
    "    </div>\n",
    "</footer>"
   ]
  }
 ],
 "metadata": {
  "kernelspec": {
   "display_name": "Python 3 (ipykernel)",
   "language": "python",
   "name": "python3"
  },
  "language_info": {
   "codemirror_mode": {
    "name": "ipython",
    "version": 3
   },
   "file_extension": ".py",
   "mimetype": "text/x-python",
   "name": "python",
   "nbconvert_exporter": "python",
   "pygments_lexer": "ipython3",
   "version": "3.9.10"
  }
 },
 "nbformat": 4,
 "nbformat_minor": 5
}
