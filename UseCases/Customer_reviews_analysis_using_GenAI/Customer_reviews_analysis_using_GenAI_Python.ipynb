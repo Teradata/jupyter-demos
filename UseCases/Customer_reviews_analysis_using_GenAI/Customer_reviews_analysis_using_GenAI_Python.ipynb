{
 "cells": [
  {
   "cell_type": "markdown",
   "id": "38bc532d-c78c-4c89-b191-242da0733f39",
   "metadata": {},
   "source": [
    "<header>\n",
    "   <p  style='font-size:36px;font-family:Arial; color:#F0F0F0; background-color: #00233c; padding-left: 20pt; padding-top: 20pt;padding-bottom: 10pt; padding-right: 20pt;'>\n",
    "       Customer Reviews Analysis using Generative AI with Vantage\n",
    "  <br>\n",
    "       <img id=\"teradata-logo\" src=\"https://storage.googleapis.com/clearscape_analytics_demo_data/DEMO_Logo/teradata.svg\" alt=\"Teradata\" style=\"width: 125px; height: auto; margin-top: 20pt;\">\n",
    "    </p>\n",
    "</header>"
   ]
  },
  {
   "cell_type": "markdown",
   "id": "fff71661-19b4-423a-867a-7c815b064c81",
   "metadata": {},
   "source": [
    "<p style = 'font-size:18px;font-family:Arial;color:#00233C'><b>Introduction:</b></p>\n",
    "\n",
    "<p style = 'font-size:16px;font-family:Arial;color:#00233C'>Customer reviews analysis is a crucial aspect of understanding customer sentiment and preferences. By leveraging the power of <b>OpenAIEmbeddings</b> and <b>Vantage InDB Analytic Function</b>, we can gain valuable insights from customer reviews.</p>\n",
    "\n",
    "<p style = 'font-size:18px;font-family:Arial;color:#00233C'><b>Why Vantage?</b></p>\n",
    "<p style = 'font-size:16px;font-family:Arial;color:#00233C'>In our demo,  we use the <code>TDApiClient</code> Vantage function to generate reviews embeddings in parallel. This approach can significantly enhance the performance of generating the embeddings at scale.</p>\n",
    "\n",
    "<p style = 'font-size:16px;font-family:Arial;color:#00233C'>In this demo, we will build a customer review analysis system using <b>TDApiClient InDB Analytic Function</b>. Customer reviews analysis involves processing and analyzing customer feedback to identify patterns, sentiment, and trends. This analysis can help businesses improve their products, services, and overall customer experience. By integrating <b>OpenAIEmbeddings</b> and <b>Vantage InDB Analytic Function</b>, we can perform advanced natural language processing (NLP) and machine learning techniques to extract meaningful insights from customer reviews. </p>\n",
    "\n",
    "<p style = 'font-size:16px;font-family:Arial;color:#00233C'>The following diagram illustrates the architecture.</p>\n",
    "\n",
    "<center><img src=\"images/review_analysis_main_title.svg\" alt=\"review_analysis1\" width=1400 height=1200/></center>"
   ]
  },
  {
   "cell_type": "markdown",
   "id": "79e54d47-af28-412e-b27d-c2dae812ea11",
   "metadata": {},
   "source": [
    "<br>\n",
    "<p style = 'font-size:16px;font-family:Arial;color:#00233C'>Before going any farther, let's get a better understanding of Embeddings</p>"
   ]
  },
  {
   "cell_type": "markdown",
   "id": "133c67cc-17ae-4317-becd-26f96fd6a444",
   "metadata": {},
   "source": [
    "<br>\n",
    "\n",
    "\n",
    "<ul style = 'font-size:16px;font-family:Arial;color:#00233C'><li> <b>Embeddings:</b></li></ul>\n",
    "\n",
    "<p style = 'font-size:16px;font-family:Arial;color:#00233C'> &emsp;  &emsp; We believe that embeddings are the AI-native way to represent any kind of data, making them the perfect fit for us when working with all kinds of AI-powered tools and algorithms. We can represent text, images, and soon audio and video. We have many options for creating embeddings, whether locally using an installed library or by calling an API.</p>\n",
    "\n",
    "\n",
    "<p style = 'font-size:16px;font-family:Arial;color:#00233C'> Embedding models, like Word2Vec or GloVe, learn vector representations for words based on co-occurrence statistics. For instance, in Word2Vec, a word's vector is optimized to predict surrounding words in a context window. Each word's vector captures semantic relationships, with similar words having closer vectors. In essence, the model learns to represent words in a multi-dimensional space where similar words are close together. For example, \"king\" and \"queen\" might have similar vectors due to their contextual similarity in many sentences.</p>\n",
    "\n",
    "\n",
    "<p style = 'font-size:16px;font-family:Arial;color:#00233C'>Imagine we have a bunch of words, and we want to find a way to represent them in a way that captures their meaning. One way we can do this is by creating a word embedding. A word embedding is a vector of numbers that represents the meaning of a word. We choose the numbers in the vector so that words that are similar in meaning have similar vectors.</p>\n",
    "\n",
    "<p style = 'font-size:16px;font-family:Arial;color:#00233C'>For example, we might have vectors for words like \"cheese,\" \"butter,\" \"chocolate,\" and \"sauce\" that look like the following:</p>\n",
    "\n",
    "<center><img src=\"images/word_embeddings.png\" alt=\"word_embeddings\"  width=1000 height=800/></center>\n",
    "\n",
    "<br>\n",
    "<p style = 'font-size:16px;font-family:Arial;color:#00233C'>In our vector, the numbers don't have any special meaning by themselves. They just represent the way that the word \"cheese\" is related to other words in our vocabulary.</p>\n",
    "\n",
    "<p style = 'font-size:16px;font-family:Arial;color:#00233C'>We can use word embeddings to find the similarity between words. For example, we can calculate the cosine similarity between the vector for \"cheese\" and the vector for \"butter\". The cosine similarity is a measure of how similar two vectors are, and it ranges from 0 to 1. A cosine similarity of 1 means that the two vectors are perfectly aligned, and a cosine similarity of 0 means that the two vectors are completely unrelated.</p>\n",
    "\n",
    "<p style = 'font-size:16px;font-family:Arial;color:#00233C'>We can also use word embeddings to find related words. For example, we can find all of the words that are similar in meaning to \"cheese\". This would include words like \"milk\", \"cream\", \"yogurt\", and \"feta\".</p>\n",
    "\n",
    "<p style = 'font-size:16px;font-family:Arial;color:#00233C'>We find word embeddings to be a powerful tool for natural language processing. We can utilize them for a variety of tasks, such as sentiment analysis, machine translation, and question answering.</p>\n",
    "\n",
    "<p style = 'font-size:16px;font-family:Arial;color:#00233C'>Above is a visual representation of how word embeddings work.</p>\n",
    "\n",
    "<p style = 'font-size:16px;font-family:Arial;color:#00233C'>Imagine we have a bunch of points in a high-dimensional space. Each point represents a word, and our position in space represents the meaning of the word. Words that are similar in meaning will be close together in space, and words that are different in meaning will be far apart.</p>\n",
    "\n",
    "<p style = 'font-size:16px;font-family:Arial;color:#00233C'>Now, imagine that we take a slice through our high-dimensional space. This slice will be a two-dimensional space, and the points in our two-dimensional space will represent our word embeddings. The distance between two points in our two-dimensional space will be a measure of the similarity between the two words.</p>\n",
    "\n",
    "<p style = 'font-size:16px;font-family:Arial;color:#00233C'>In this way, we can use word embeddings to represent the meaning of words in a way that is both compact and informative.</p>"
   ]
  },
  {
   "cell_type": "markdown",
   "id": "2ca49b9d-df0b-400a-acf8-0252ab8a2618",
   "metadata": {},
   "source": [
    "<p style = 'font-size:16px;font-family:Arial;color:#00233C;color:#00233C'><b>Steps in the analysis:</b></p>\n",
    "<ol style = 'font-size:16px;font-family:Arial;color:#00233C'>\n",
    "    <li>Configuring the environment</li>\n",
    "    <li>Connect to Vantage</li>\n",
    "    <li>Data Exploration</li>\n",
    "    <li>Generate the embeddings</li>\n",
    "    <li>Load the existing embeddings to DB</li>\n",
    "    <li>Clustering using Teradata Vantage in-DB function</li>\n",
    "    <li>Visualization of Clusters with Customer review</li>\n",
    "    <li>Sentiment Analysis</li>\n",
    "    <li>Topic Modeling</li>\n",
    "    <li>Cleanup</li>\n",
    "</ol>"
   ]
  },
  {
   "cell_type": "markdown",
   "id": "a833b5bf-74af-42be-8543-3782e1da95dc",
   "metadata": {},
   "source": [
    "<hr style='height:2px;border:none;background-color:#00233C;'>\n",
    "<b style = 'font-size:20px;font-family:Arial;color:#00233c'>1. Configuring the environment</b>"
   ]
  },
  {
   "cell_type": "code",
   "execution_count": null,
   "id": "2f6027a7-888d-441f-abc7-a6ea1c45f0a6",
   "metadata": {},
   "outputs": [],
   "source": [
    "%%capture\n",
    "# '%%capture' suppresses the display of installation steps of the following packages\n",
    "\n",
    "!pip install --upgrade -r requirements.txt --quiet"
   ]
  },
  {
   "cell_type": "markdown",
   "id": "ca97cdce-0d5e-4e54-b404-da7bae24ef51",
   "metadata": {},
   "source": [
    "<p style = 'font-size:16px;font-family:Arial;color:#00233C'>\n",
    "    <i>The above statements will install the required libraries for us to run this demo. To gain access to the installed libraries after running this, we should restart the kernel.</i></p>"
   ]
  },
  {
   "cell_type": "markdown",
   "id": "86b160ce-5ace-4116-86b6-394d6502553b",
   "metadata": {},
   "source": [
    "<div class=\"alert alert-block alert-info\">\n",
    "    <p style='font-size:16px;font-family:Arial;color:#00233C'><i><b>Note:</b> We want to bring to your attention that the above statements may need to be uncommented if you run the notebooks on a platform other than ClearScape Analytics Experience that does not have the libraries installed. If we uncomment those installs, we ensure to restart the kernel after executing those lines to bring the installed libraries into memory. The simplest way to restart the Kernel is by typing zero zero: <b>0 0</b></i></p>\n",
    "</div>"
   ]
  },
  {
   "cell_type": "markdown",
   "id": "61067c88-2e9a-4c92-985b-34dc4ab74a13",
   "metadata": {},
   "source": [
    "<hr style=\"height:1px;border:none;background-color:#00233C;\">\n",
    "\n",
    "<p style = 'font-size:18px;font-family:Arial;color:#00233C;color:#00233C'><b>1.1 Import the required libraries</b></p>\n",
    "\n",
    "<p style = 'font-size:16px;font-family:Arial;color:#00233C'>Here, we import the required libraries, set environment variables and environment paths (if required).</p>"
   ]
  },
  {
   "cell_type": "code",
   "execution_count": null,
   "id": "ea50a4aa-1211-44fc-8166-317c35253207",
   "metadata": {},
   "outputs": [],
   "source": [
    "import io\n",
    "import os\n",
    "import numpy as np\n",
    "import pandas as pd\n",
    "\n",
    "# vis\n",
    "import plotly.express as px\n",
    "import plotly.graph_objects as go\n",
    "\n",
    "import timeit\n",
    "import tqdm\n",
    "from tqdm.notebook import *\n",
    "\n",
    "tqdm_notebook.pandas()\n",
    "\n",
    "\n",
    "# teradata lib\n",
    "from teradataml import *\n",
    "from utils.sql_helper_func import *\n",
    "\n",
    "# Suppress warnings\n",
    "import warnings\n",
    "\n",
    "warnings.filterwarnings(\"ignore\", category=DeprecationWarning)\n",
    "display.max_rows = 5\n",
    "\n",
    "display.print_sqlmr_query = False\n",
    "display.suppress_vantage_runtime_warnings = True\n",
    "pd.set_option(\"display.max_rows\", 20)"
   ]
  },
  {
   "cell_type": "markdown",
   "id": "a59718f8-7af4-4d1a-abc7-a860eb7cbae3",
   "metadata": {},
   "source": [
    "<hr style='height:2px;border:none;background-color:#00233C;'>\n",
    "<b style = 'font-size:20px;font-family:Arial;color:#00233c'>2. Connect to Vantage</b>"
   ]
  },
  {
   "cell_type": "markdown",
   "id": "c60e4d23-3f17-4d43-b9b9-7e125f59b8c7",
   "metadata": {},
   "source": [
    "<hr style='height:1px;border:none;background-color:#00233C;'>\n",
    "<p style = 'font-size:18px;font-family:Arial;color:#00233C;color:#00233C'><b>2.1 Connect to Vantage</b></p>\n",
    "<p style = 'font-size:16px;font-family:Arial;color:#00233C'>We will be prompted to provide the password. We will enter the password, press the Enter key, and then use the down arrow to go to the next cell.</p>"
   ]
  },
  {
   "cell_type": "code",
   "execution_count": null,
   "id": "164cfc91-93ed-45b9-98ba-73b91a50c28b",
   "metadata": {},
   "outputs": [],
   "source": [
    "%run -i ../startup.ipynb\n",
    "eng = create_context(host = 'host.docker.internal', username='demo_user', password = password)\n",
    "print(eng)\n",
    "execute_sql('''SET query_band='DEMO=Customer_reviews_analysis_using_GenAI_Python.ipynb;' UPDATE FOR SESSION;''')"
   ]
  },
  {
   "cell_type": "markdown",
   "id": "b22db506-84a7-406b-be9f-9fe69d268ba4",
   "metadata": {},
   "source": [
    "<p style = 'font-size:16px;font-family:Arial;color:#00233C'>Begin running steps with Shift + Enter keys. </p>"
   ]
  },
  {
   "cell_type": "markdown",
   "id": "8beec557-411b-4418-acf3-2f28d3c6beac",
   "metadata": {},
   "source": [
    "<hr style='height:1px;border:none;background-color:#00233C;'>\n",
    "\n",
    "<p style = 'font-size:18px;font-family:Arial;color:#00233C'><b>2.2 Getting Data for This Demo</b></p>\n",
    "<p style = 'font-size:16px;font-family:Arial;color:#00233C'>We have provided data for this demo on cloud storage. We can either run the demo using foreign tables to access the data without any storage on your environment or download the data to local storage, which may yield faster execution. Still, there could be considerations of available storage. Two statements are in the following cell, and one is commented out. We may switch which mode to choose by changing the comment string.</p>"
   ]
  },
  {
   "cell_type": "code",
   "execution_count": null,
   "id": "c8e72bda-be6b-454d-8a5a-1d759c3f1868",
   "metadata": {},
   "outputs": [],
   "source": [
    "# %run -i ../run_procedure.py \"call get_data('DEMO_CustomerReviews_cloud');\"        # Takes 30 seconds\n",
    "%run -i ../run_procedure.py \"call get_data('DEMO_CustomerReviews_local');\"        # Takes 1 minute"
   ]
  },
  {
   "cell_type": "markdown",
   "id": "f99a16b5-da34-4326-b66b-5f7d5a9d9b04",
   "metadata": {},
   "source": [
    "<p style = 'font-size:16px;font-family:Arial;color:#00233C'>Next is an optional step – if we want to see the status of databases/tables created and space used.</p>"
   ]
  },
  {
   "cell_type": "code",
   "execution_count": null,
   "id": "44e62501-ed7b-4a9b-8f13-fcd53579c476",
   "metadata": {},
   "outputs": [],
   "source": [
    "%run -i ../run_procedure.py \"call space_report();\"        # Takes 10 seconds"
   ]
  },
  {
   "cell_type": "markdown",
   "id": "490f3fe2-ed63-4838-bb19-4c0d0157453d",
   "metadata": {},
   "source": [
    "<hr style='height:2px;border:none;background-color:#00233C;'>\n",
    "<b style = 'font-size:20px;font-family:Arial;color:#00233c'>3. Data Exploration</b>\n",
    "\n",
    "<p style = 'font-size:16px;font-family:Arial;color:#00233C'>The data for this demo comes from the reviews table of TPCx-AI. There are also a few other tables, such as orders, line-items, order_returns, products, etc. However, for this demo, we will only use the reviews table.</p>\n",
    "\n",
    "<p style = 'font-size:16px;font-family:Arial;color:#00233C'>The reviews table contains information about all of the customer reviews that are available in TPCx-AI. This includes the customer id, review, and spam.</p>\n",
    "\n",
    "\n",
    "<p style = 'font-size:16px;font-family:Arial;color:#00233C'>Each row is a snapshot of data taken from the review table, below are the list of columns in the review table:</p>\n",
    "<p style = 'font-size:16px;font-family:Arial;color:#00233C'> \n",
    "<ol style = 'font-size:16px;font-family:Arial;color:#00233C'>\n",
    "    <li>id</li>\n",
    "    <li>review</li>\n",
    "    <li>spam</li>\n",
    "\n",
    "</ol>\n",
    "</p>\n",
    "\n",
    "<p style = 'font-size:16px;font-family:Arial;color:#00233C'>The source data from <a href=\"https://www.tpc.org/tpcx-ai/default5.asp\">TPCx-AI</a> is loaded in Vantage with table named <i>marketplace</i>.</p>\n",
    "\n",
    "<p style = 'font-size:16px;font-family:Arial;color:#00233C'><b><i>*Please click <a href=\"#section102\">here</a> scroll down to the end of the notebook for detailed column descriptions of the dataset.</i></b></p>"
   ]
  },
  {
   "cell_type": "markdown",
   "id": "eda8e565-b58b-4cc6-8d9c-50790ca3dcab",
   "metadata": {},
   "source": [
    "<hr style='height:1px;border:none;background-color:#00233C;'>\n",
    "<p style = 'font-size:18px;font-family:Arial;color:#00233C'><b>3.1 Examine the Customer review table</b></p>    \n",
    "<p style = 'font-size:16px;font-family:Arial;color:#00233C'>Let's look at the sample data in the customer review table.</p>"
   ]
  },
  {
   "cell_type": "code",
   "execution_count": null,
   "id": "4a9951cf-e2b0-40d7-9a8f-a01c7f48ef09",
   "metadata": {},
   "outputs": [],
   "source": [
    "# tdf = DataFrame(\"customer_reviews\")\n",
    "tdf = DataFrame(in_schema(\"DEMO_CustomerReviews\", \"customer_review\"))\n",
    "print(\"Data information: \\n\", tdf.shape)\n",
    "tdf.sort(\"id\")"
   ]
  },
  {
   "cell_type": "markdown",
   "id": "b0d6d954-b72f-41c3-9f8c-bc15cf74d672",
   "metadata": {},
   "source": [
    "<p style = 'font-size:16px;font-family:Arial;color:#00233C'>There are approx 1k sample records in all, and there are 3 variables. Reviews are listed from different customers. We shall analyse reviews for sentiments and major topics.</p>"
   ]
  },
  {
   "cell_type": "markdown",
   "id": "1584ba35-f053-43c4-a802-1e5683aff5c1",
   "metadata": {},
   "source": [
    "<hr style='height:1px;border:none;background-color:#00233C;'>\n",
    "\n",
    "<p style = 'font-size:18px;font-family:Arial;color:#00233C'><b>3.2 Do we want to generate the embeddings?</b></p>    \n",
    "<p style = 'font-size:16px;font-family:Arial;color:#00233C'>We have already generated embeddings for the customer review and stored them in files.</p>\n",
    "\n",
    "<center><img src=\"images/decision_emb_generation.svg\" alt=\"embeddings_decision\" /></center>\n",
    "\n",
    "<div class=\"alert alert-block alert-info\">\n",
    "    <p style = 'font-size:16px;font-family:Arial;color:#00233C'><i><b>Note: If we would like to skip the embedding generation step and move on to the next section, please click  <a href=\"#section501\">here</a> to skip.</b></i></p>\n",
    "</div>\n",
    "\n",
    "<p style = 'font-size:16px;font-family:Arial;color:#00233C'>To save time, we can move to the already generated embeddings section. However, if we would like to see how we generate the embeddings, or if we need to generate the embeddings for a different dataset, then continue to the following section.</p>"
   ]
  },
  {
   "cell_type": "markdown",
   "id": "e5eb99e9-049f-4550-8f66-c9c755f04b54",
   "metadata": {},
   "source": [
    "<hr style='height:2px;border:none;background-color:#00233C;'>\n",
    "<a id='section4'></a>\n",
    "\n",
    "<b style = 'font-size:20px;font-family:Arial;color:#00233c'>4. Generate the embeddings </b>\n",
    "\n",
    "\n",
    "<div class=\"alert alert-block alert-warning\">\n",
    "    <p style = 'font-size:16px;font-family:Arial;color:#00233C'><i><b>In this section, we are creating the OpenAI embeddings for 1000 customer reviews. It will cost us a few dollars on our OpenAI account.</b></i></p>\n",
    "</div>"
   ]
  },
  {
   "cell_type": "markdown",
   "id": "9034de3d-2eaa-453c-8839-4bcd34b27b9f",
   "metadata": {},
   "source": [
    "<hr style='height:1px;border:none;background-color:#00233C;'>\n",
    "\n",
    "<p style = 'font-size:18px;font-family:Arial;color:#00233c'><b>4.1 Get the OpenAI API key</b></p>"
   ]
  },
  {
   "cell_type": "markdown",
   "id": "c28ab4f5-28df-41eb-914c-49d5108f3ce9",
   "metadata": {},
   "source": [
    "<p style = 'font-size:16px;font-family:Arial;color:#00233C'>In order to utilize this demo, you will need an OpenAI API key. If you do not have one, please refer to the instructions provided in this guide to obtain your OpenAI API key: </p>\n",
    "\n",
    "\n",
    "<a href=\"..//Openai_setup_api_key/Openai_setup_api_key.md\" style=\"text-decoration:none;\" target=\"_blank\"><button style=\"font-size:16px;font-family:Arial;color:#fff;background-color:#00233C;border:none;border-radius:5px;cursor:pointer;height:50px;line-height:50px;display:flex;align-items:center;\">OpenAI API Key Guide <span style=\"margin-left:10px;\">&#8658;</span></button>\n",
    "</a>"
   ]
  },
  {
   "cell_type": "code",
   "execution_count": null,
   "id": "fcaa2d69-ffc8-4298-88df-afa04c035547",
   "metadata": {},
   "outputs": [],
   "source": [
    "import getpass\n",
    "\n",
    "# enter your openai api key\n",
    "api_key = getpass.getpass(\"\\n Please Enter OpenAI API key: \")"
   ]
  },
  {
   "cell_type": "markdown",
   "id": "89367d27-22ca-4a0e-b299-0f8e1a669157",
   "metadata": {},
   "source": [
    "<hr style='height:1px;border:none;background-color:#00233C;'>\n",
    "<p style = 'font-size:18px;font-family:Arial;color:#00233c'><b>4.2 Generate the embeddings for customer review via API_Request In-database Function</b></p>    \n",
    "\n",
    "<p style='font-size:16px;font-family:Arial;color:#00233C'>OpenAI and Azure OpenAI, provide multiple APIs for our hosted models. We introduce integration with the embedding API, which can be used in various types of applications: Classification, Search, Recommendations, and Anomaly detection. For more information on our Teradata API Integration, click <a href='https://docs.teradata.com/r/Enterprise_IntelliFlex_VMware/Teradata-VantageTM-API-Integration-Guide-for-Cloud-Machine-Learning/Teradata-Partner-API/Welcome-to-Teradata-API-Integration'>here.</a></p>\n",
    "\n",
    "<p style='font-size:16px;font-family:Arial;color:#00233C'>Under the hood, we will utilize the OpenAI embeddings method to generate the embeddings. OpenAI embeddings are a type of word embedding that we can use to represent review in a way that captures their semantic meaning. To generate embeddings for a customer review table, we will use the review field. We will employ the OpenAI Embeddings API to generate embeddings for each customer review. Please refer to the <a href=\"https://platform.openai.com/docs/guides/embeddings\"> Embeddings documentation</a> for more information about embeddings and types of models available.</p>\n",
    "\n",
    "<p style='font-size:16px;font-family:Arial;color:#00233C'>The OpenAI Embeddings API takes a text string as input and returns a vector of numbers that represent the embedding. The length of the vector depends on the model that we are using. For example, the <b>text-embedding-3-small</b> model returns a vector of 1536 numbers.</p>\n",
    "\n",
    "<p style='font-size:16px;font-family:Arial;color:#00233C'>In this demo, we will use <b>text-embedding-3-small</b> as the model and pass num_embeddings to <b>1536</b>.</p>"
   ]
  },
  {
   "cell_type": "markdown",
   "id": "7bffd2a8-532e-40f1-bf39-66cd2d7cf21c",
   "metadata": {},
   "source": [
    "<p style = 'font-size:16px;font-family:Arial;color:#00233C'>To generate the embeddings, we will call the <b>get_embeddings()</b> function. This function will convert the Teradata DataFrame to a Pandas DataFrame and generate the embeddings. Once the embeddings are generated, we will store them in separate columns so that we can pass them to the <b>K-Means</b> function later on.</p>\n",
    "\n",
    "<div class=\"alert alert-block alert-info\">\n",
    "    <p style = 'font-size:16px;font-family:Arial;color:#00233C'><i><b>Please be patient:</b> Generating embeddings for 1000 review may take from 60 to 100 seconds. It is depends on number of APMs in the database. Since the volume of data is large and the machine is small, going through the below code could take up to 2 minutes. If we prefer to skip this step and proceed to the next section, we can click  <a href=\"#section51\">here</a> to skip. </i></p>\n",
    "</div>"
   ]
  },
  {
   "cell_type": "code",
   "execution_count": null,
   "id": "ce89b03e-e3f0-4f7e-a1ef-7d8511082915",
   "metadata": {},
   "outputs": [],
   "source": [
    "from tdapiclient import TDApiClient\n",
    "\n",
    "start = timeit.default_timer()\n",
    "print(\"embeddings generation started.. please wait\")\n",
    "\n",
    "# set embedding model from openai models\n",
    "embedding_model = \"text-embedding-3-small\"\n",
    "\n",
    "tdf_review_embeddings = TDApiClient.API_Request(\n",
    "    dataframe=tdf,\n",
    "    api_type=\"open-ai-embedding\",\n",
    "    model_name=embedding_model,\n",
    "    authorization=\"\"\"{{\"Key\":\"{}\"}}\"\"\".format(api_key),\n",
    "    text_column=\"review\",\n",
    ")\n",
    "\n",
    "end = timeit.default_timer()\n",
    "load_time = end - start\n",
    "\n",
    "print(\n",
    "    f\"generate the embeddings for {tdf_review_embeddings.shape[0]} text:\\t\",\n",
    "    load_time,\n",
    ")\n",
    "print(\"----- complete -----\")"
   ]
  },
  {
   "cell_type": "markdown",
   "id": "6bcef064-b0b9-4172-b598-edd5baf7bc16",
   "metadata": {},
   "source": [
    "<a id='section42'></a>\n",
    "<hr style='height:1px;border:none;background-color:#00233C;'>\n",
    "\n",
    "<p style = 'font-size:18px;font-family:Arial;color:#00233C'><b>4.3 Display the customer review embeddings</b></p>"
   ]
  },
  {
   "cell_type": "code",
   "execution_count": null,
   "id": "f493589f-75bc-463c-a8c7-e2b1f4231dd7",
   "metadata": {},
   "outputs": [],
   "source": [
    "print(\"Data information: \\n\", tdf_review_embeddings.shape)\n",
    "\n",
    "display.suppress_vantage_runtime_warnings = True\n",
    "tdf_review_embeddings"
   ]
  },
  {
   "cell_type": "markdown",
   "id": "1932e4e0-d66d-40ae-815d-c5213e67065d",
   "metadata": {},
   "source": [
    "<p style = 'font-size:16px;font-family:Arial;color:#00233C'>We can see that generated embeddings for all of the review are in vector of 1536 columns. </p>\n",
    "\n",
    "<p style = 'font-size:16px;font-family:Arial;color:#00233C'>For example: The generated embeddings for review name: <b>Nike SALE Nike UltraBoost These are women's men's\t</b> consists of 1536 numbers and looks like:<br>\n",
    "<code>-0.0197175870\t0.005220166\t-0.017851508\t0.00217428\t-0.00335274\t-0.0050890</code></p>"
   ]
  },
  {
   "cell_type": "markdown",
   "id": "50b85fb4-20be-4b92-a565-271fb7f3a32e",
   "metadata": {},
   "source": [
    "<p style = 'font-size:16px;font-family:Arial;color:#00233C'>Now, we have generated the embeddings from the review names and saved the review embeddings dataframe into a vantage table named <b>review_embeddings</b> to use it further.</p>"
   ]
  },
  {
   "cell_type": "code",
   "execution_count": null,
   "id": "ca1d072f-b855-4ab4-b755-03362692d117",
   "metadata": {},
   "outputs": [],
   "source": [
    "delete_and_copy_embeddings(\n",
    "    table_name=\"review_embeddings\", tdf=tdf_review_embeddings, eng=eng\n",
    ")"
   ]
  },
  {
   "cell_type": "markdown",
   "id": "63c2239a-53df-4e50-91c4-5a6008696da8",
   "metadata": {},
   "source": [
    "<div class=\"alert alert-block alert-info\" id=\"no-azure\">\n",
    "    <p style = 'font-size:16px;font-family:Arial;color:#00233C'><i><b>Note</b>: If you're generating embeddings for a new document and plan to store it as a file, consider uncommenting the code below. Doing so will significantly speed up the process in future runs by skipping section 4 altogether.</i></p>\n",
    "</div>"
   ]
  },
  {
   "cell_type": "code",
   "execution_count": null,
   "id": "15aa0514-87ad-4912-b3de-8c247bff7100",
   "metadata": {},
   "outputs": [],
   "source": [
    "# store the embeddings if you're generating for new document for speed up in next run\n",
    "# df = tdf_review_embeddings.to_pandas().reset_index()\n",
    "# df.to_parquet('./embeddings/review_embeddings_openai_prq_1k.parquet.gzip',compression='gzip')"
   ]
  },
  {
   "cell_type": "markdown",
   "id": "b1b2e5ec-4c01-42ff-b29e-2b2d7b2ec8c2",
   "metadata": {},
   "source": [
    "<a id='section501'></a>\n",
    "\n",
    "<hr style='height:2px;border:none;background-color:#00233C;'>\n",
    "<b style = 'font-size:20px;font-family:Arial;color:#00233c'>5. Load the existing embeddings to DB</b>\n",
    "\n",
    "<hr style='height:1px;border:none;background-color:#00233C;'>\n",
    "<p style = 'font-size:18px;font-family:Arial;color:#00233C'><b>5.1 Load the reviews embeddings</b></p>\n",
    "\n",
    "<p style = 'font-size:16px;font-family:Arial;color:#00233C'>In this demo, we will load existing embeddings from files to a database. This will allow us to perform further processing on the embeddings.</p>\n",
    "\n",
    "<div class=\"alert alert-block alert-info\" id=\"no-azure\">\n",
    "    <p style = 'font-size:16px;font-family:Arial;color:#00233C'><i><b>Note</b>: If you have already executed the Generate the embeddings section, then below code will be skipped automatically.</i></p>\n",
    "</div>"
   ]
  },
  {
   "cell_type": "code",
   "execution_count": null,
   "id": "2b50355d-bf97-44ff-96ab-f656ee6a4d89",
   "metadata": {},
   "outputs": [],
   "source": [
    "is_section4_executed = False\n",
    "try:\n",
    "    is_section4_executed = DataFrame.from_table(\"review_embeddings\").size > 0\n",
    "except:\n",
    "    is_section4_executed = False"
   ]
  },
  {
   "cell_type": "code",
   "execution_count": null,
   "id": "d9e307bd-a0d6-4c28-b087-d454664943df",
   "metadata": {},
   "outputs": [],
   "source": [
    "from IPython.display import display, Markdown\n",
    "\n",
    "def get_section5_desc_start():\n",
    "    return \"\"\"<p style = 'font-size:16px;font-family:Arial;color:#00233C'>The code above first reads the data from the files. The files contain information about the review embeddings. The code then loads the data into a permanent table in SQL. Once the data is loaded, we will use the Vantage InDB Analytic Function  <code>KMeans</code> to clusters the review embeddings. The data contains review embeddings, which are lists of numerical values, or vectors.</p>\n",
    "    <p style = 'font-size:16px;font-family:Arial;color:#00233C'>The embeddings file contains over 1000 records, each with 1536 numerical features. This means that the file is quite large and it may take some time to load it into SQL.</p>\n",
    "    <div class=\"alert alert-block alert-info\" id=\"no-azure\">\n",
    "    <p style = 'font-size:16px;font-family:Arial;color:#00233C'><i><b>Note</b>: Please be patient. The code above is loading data from files and copying it to SQL. This process may take 30-50 seconds.</i></p>\n",
    "    </div>\"\"\"\n",
    "\n",
    "\n",
    "def get_section5_desc_end():\n",
    "    return \"\"\"<a id='section52'></a><hr style='height:1px;border:none;background-color:#00233C;'><p style = 'font-size:18px;font-family:Arial;color:#00233c'><b>5.2 Display the review embeddings</b></p>\n",
    "    <p style = 'font-size:16px;font-family:Arial;color:#00233C'>To give you a better idea of what the embeddings look like, here are the first five rows of the review embeddings:</p>\"\"\"\n",
    "\n",
    "\n",
    "def get_section5_desc_sample():\n",
    "    return \"\"\"<p style = 'font-size:16px;font-family:Arial;color:#00233C'>We can see that generated embeddings for all of the review are in vector of 1536 columns. </p>\n",
    "    <p style = 'font-size:16px;font-family:Arial;color:#00233C'>For example: The generated embeddings for review name: <b>Nike running shoes for man</b> consists of 1536 numbers and looks like:<br>\n",
    "    <code>-0.038744\t-0.016937\t-0.017475\t0.003624\t0.00744\t-0.00275\t0.02374</code></p>\"\"\"\n",
    "\n",
    "def load_the_emb():\n",
    "    is_section5_executed = False\n",
    "    if not is_section4_executed:\n",
    "\n",
    "        is_section5_executed = True\n",
    "\n",
    "        start = timeit.default_timer()\n",
    "        display(Markdown(get_section5_desc_start()))\n",
    "\n",
    "        # load review_embeddings to sql\n",
    "        text_embeddings_os_prq = pd.read_parquet(\n",
    "            \"./embeddings/review_embeddings_openai_prq_1k.parquet.gzip\"\n",
    "        )\n",
    "\n",
    "\n",
    "        print(\"embeddings shape\", text_embeddings_os_prq.shape)\n",
    "        delete_and_copy_embeddings(\n",
    "            table_name=\"review_embeddings\", tdf=text_embeddings_os_prq, eng=eng\n",
    "        )\n",
    "\n",
    "        end = timeit.default_timer()\n",
    "        load_time = end - start\n",
    "        print(f\"embeddings load time:\\t\", load_time)\n",
    "\n",
    "\n",
    "        display(Markdown(get_section5_desc_end()))\n",
    "        review_embeddings_os = DataFrame(in_schema(\"demo_user\", \"review_embeddings\"))\n",
    "        return review_embeddings_os, is_section5_executed\n",
    "    else:\n",
    "        # print(\"Section 4: Generate the embeddings is already executed!\")\n",
    "        display(\n",
    "            Markdown(\n",
    "                \"\"\"<br><div class=\"alert alert-block alert-success\">\n",
    "        <p style = 'font-size:16px;font-family:Arial;color:#00233C'><i>Section 4: Generate the embeddings is already executed! So, skipping the execution of above code.</i></p></div>\"\"\"\n",
    "            )\n",
    "        )\n",
    "\n",
    "\n",
    "        return None, is_section5_executed\n",
    "\n",
    "\n",
    "sample_embeddings, flag = load_the_emb()\n",
    "sample_embeddings.sort(\"id\") if sample_embeddings is not None else None"
   ]
  },
  {
   "cell_type": "markdown",
   "id": "80a8237e-fbd4-4926-ac7d-b7041083caf3",
   "metadata": {},
   "source": [
    "<p style = 'font-size:16px;font-family:Arial;color:#00233C'>The code below will not run if Section 5 has already been skipped.</p>"
   ]
  },
  {
   "cell_type": "code",
   "execution_count": null,
   "id": "b3f0972f-6796-48a1-ac6e-0bdedd0fb991",
   "metadata": {},
   "outputs": [],
   "source": [
    "display(Markdown(get_section5_desc_sample())) if flag else None"
   ]
  },
  {
   "cell_type": "markdown",
   "id": "6d79ecde-2796-4745-baeb-586af0d60847",
   "metadata": {},
   "source": [
    "<hr style='height:2px;border:none;background-color:#00233C;'>\n",
    "<b style = 'font-size:20px;font-family:Arial;color:#00233c'>6. Calculate the K-Means Clusters using Teradata Vantage in-DB function</b>\n",
    "\n",
    "<p style = 'font-size:16px;font-family:Arial;color:#00233C'>The k-means algorithm groups a set of observations into k clusters in which each observation belongs to the cluster with the nearest mean (cluster centers or cluster centroid). This algorithm minimizes the objective function, that is, the total Euclidean distance of all data points from the center of the cluster as follows:</p>\n",
    "<ul style = 'font-size:16px;font-family:Arial;color:#00233C'>\n",
    "<li>Specify or randomly select k initial cluster centroids.</li>\n",
    "<li>Assign each data point to the cluster that has the closest centroid.</li>\n",
    "<li>Recalculate the positions of the k centroids.</li>\n",
    "<li>Repeat steps 2 and 3 until the centroids no longer move.</li>\n",
    "    </ul>"
   ]
  },
  {
   "cell_type": "markdown",
   "id": "e117f30f-5960-42d0-9f0f-ef4c7842067c",
   "metadata": {},
   "source": [
    "<a id='section41'></a>\n",
    "<hr style='height:1px;border:none;background-color:#00233C;'>\n",
    "<p style = 'font-size:18px;font-family:Arial;color:#00233c'><b>6.1 Filter columns from the embeddings</b></p>\n",
    "<p style = 'font-size:16px;font-family:Arial;color:#00233C'>In the steps above we took a sample of the dataset, The sample consisted of 1000 sample reviews from e-commerce customers. we need to find clusters in these reviews. In order to find K-Means clusters we just need the embeddings information so we discard remaining columns from the dataframe</p>"
   ]
  },
  {
   "cell_type": "code",
   "execution_count": null,
   "id": "d53e172e-aa59-482b-bac9-6d55b91fc57a",
   "metadata": {},
   "outputs": [],
   "source": [
    "review_embeddings = sample_embeddings if flag else tdf_review_embeddings\n",
    "embedding_column_list = review_embeddings.drop(columns=[\"id\", \"review\", \"spam\"])\n",
    "embedding_column_names = review_embeddings.columns[3:]"
   ]
  },
  {
   "cell_type": "markdown",
   "id": "c4d35195-c6da-47dd-a0eb-eb6421ae9cd8",
   "metadata": {
    "tags": []
   },
   "source": [
    "<p style = 'font-size:16px;font-family:Arial;color:#00233C'>The next question we face is <b>How many clusters?</b>. To find this number we use a technique called <b>Elbow method</b>. The Elbow Method is a technique used in data science to help determine the optimal number of clusters in a dataset. In the code snippet below we try cluster values ranging from 1 to 40 and record the distortion value. The visualizer shows us where the elbow lies in the graph.</p>\n",
    "\n",
    "<p style = 'font-size:16px;font-family:Arial;color:#00233C'>Vantage's ClearScape Analytics can easily integrate with 3rd party visualization python modules available like plotly, seaborn etc. We can do all the calculations and pre-processing on Vantage and pass only the necessary information to visualization tools, this will not only make the calculation faster but also reduce the time due to less data movement between tools. We do the data transfer for this and the subsequent visualizations wherever necessary.</p>"
   ]
  },
  {
   "cell_type": "markdown",
   "id": "67854451-5d13-4f09-8be6-c450719f68f0",
   "metadata": {},
   "source": [
    "<hr style='height:1px;border:none;background-color:#00233C;'>\n",
    "<p style = 'font-size:18px;font-family:Arial;color:#00233c'><b>6.2 Find the optimal number of clusters</b></p>"
   ]
  },
  {
   "cell_type": "code",
   "execution_count": null,
   "id": "7a9d7b8e-718b-40c3-b11d-f4854700cb47",
   "metadata": {},
   "outputs": [],
   "source": [
    "from yellowbrick.cluster import KElbowVisualizer\n",
    "from sklearn.cluster import KMeans\n",
    "\n",
    "model = KMeans()\n",
    "visualizer = KElbowVisualizer(model, k=(1, 40))"
   ]
  },
  {
   "cell_type": "markdown",
   "id": "28a4161d-4ca1-483a-8255-6414665c1d2f",
   "metadata": {},
   "source": [
    "<div class=\"alert alert-block alert-info\" id=\"no-azure\">\n",
    "    <p style = 'font-size:16px;font-family:Arial;color:#00233C'><i><b>Note</b>: Please be patient. We are currently performing some mathematical calculations. This process may take 3-5 minutes.</i></p>\n",
    "</div>"
   ]
  },
  {
   "cell_type": "code",
   "execution_count": null,
   "id": "866b9acd-5e3a-409f-a37d-35bda49ab612",
   "metadata": {},
   "outputs": [],
   "source": [
    "visualizer.fit(embedding_column_list.to_pandas())\n",
    "no_clusters = visualizer.elbow_value_\n",
    "print(f\"optimal number of clusters: {no_clusters}\")\n",
    "visualizer.show()"
   ]
  },
  {
   "cell_type": "code",
   "execution_count": null,
   "id": "60e39981-5fd0-4c92-8ad1-aa1c61c65176",
   "metadata": {},
   "outputs": [],
   "source": [
    "display(\n",
    "    Markdown(\n",
    "        f\"\"\"<p style = 'font-size:16px;font-family:Arial;color:#00233C'>We observe that elbow lies at <b>{no_clusters}</b>, so thats the optimum number of clusters is <b>{no_clusters}</b>. With that information established we now begin the process of clustering</p>\"\"\"\n",
    "    )\n",
    ")"
   ]
  },
  {
   "cell_type": "markdown",
   "id": "9cb99632-b4a8-4e1b-b2b7-d5459edbfeb5",
   "metadata": {},
   "source": [
    "<hr style='height:1px;border:none;background-color:#00233C;'>\n",
    "<p style = 'font-size:18px;font-family:Arial;color:#00233c'><b>6.3 Apply  K-Means Clusters using Teradata Vantage InDB Analytic Function</b></p>\n",
    "\n",
    "<p style = 'font-size:16px;font-family:Arial;color:#00233C'>The function performs fast K-Means clustering algorithm and returns cluster means\n",
    "    and averages. we also need to find which clusters each of the 1000 customer reviews we took in the sample belongs to.</p>"
   ]
  },
  {
   "cell_type": "code",
   "execution_count": null,
   "id": "ec199b25-0eea-4bdd-9db5-27b5bba1ce81",
   "metadata": {},
   "outputs": [],
   "source": [
    "from teradataml import KMeans\n",
    "\n",
    "kmeans_model = KMeans(\n",
    "    id_column=\"id\",\n",
    "    data=review_embeddings,\n",
    "    target_columns=embedding_column_names,\n",
    "    num_clusters=int(no_clusters),\n",
    "    output_cluster_assignment=True,\n",
    ")"
   ]
  },
  {
   "cell_type": "markdown",
   "id": "e493c069-bc12-45e1-ae6a-76fb3533ca5f",
   "metadata": {},
   "source": [
    "<p style = 'font-size:16px;font-family:Arial;color:#00233C'>To view the number of reviews per cluster. Verify cluster information from the KMeans Model, It shows clusters and number of entries in each cluster.</p>"
   ]
  },
  {
   "cell_type": "code",
   "execution_count": null,
   "id": "1a33a8e3-d0e6-472e-bc95-50d3d8fe8416",
   "metadata": {},
   "outputs": [],
   "source": [
    "selected_result = kmeans_model.result\n",
    "selected_model_n = selected_result[selected_result.td_clusterid_kmeans.ge(0)]\n",
    "selected_model_n.groupby(\"td_clusterid_kmeans\").count()"
   ]
  },
  {
   "cell_type": "code",
   "execution_count": null,
   "id": "47ab67f8-39cc-4347-abbb-c1926636fed2",
   "metadata": {},
   "outputs": [],
   "source": [
    "df_final = selected_model_n.join(\n",
    "    other=review_embeddings, on=[\"id\"], how=\"inner\", lsuffix=\"t1\", rsuffix=\"t2\"\n",
    ")\n",
    "df_final = df_final.drop([\"id_t2\"], axis=1)"
   ]
  },
  {
   "cell_type": "markdown",
   "id": "c9592e79-b280-4567-97b3-c9db4f4ed34d",
   "metadata": {},
   "source": [
    "<p style = 'font-size:16px;font-family:Arial;color:#00233C'>Now, let's copy clustered data to SQL.</p>\n",
    "\n",
    "<div class=\"alert alert-block alert-info\" id=\"no-azure\">\n",
    "    <p style = 'font-size:16px;font-family:Arial;color:#00233C'><i><b>Note</b>: Please be patient. The following code optimizes performance by temporarily transferring data between a dataframe and SQL. This process may take 30-50 seconds.</i></p>\n",
    "    </div>"
   ]
  },
  {
   "cell_type": "code",
   "execution_count": null,
   "id": "2dd785df-a98f-43bf-b93c-1bd600db24cd",
   "metadata": {},
   "outputs": [],
   "source": [
    "copy_to_sql(\n",
    "    df_final,\n",
    "    table_name=\"review_clustered\",\n",
    "    primary_index=\"id_t1\",\n",
    "    if_exists=\"replace\",\n",
    ")\n",
    "\n",
    "# fetch to df\n",
    "df_review_clustered = DataFrame(\"review_clustered\")"
   ]
  },
  {
   "cell_type": "markdown",
   "id": "48323b2b-da36-4904-b487-5cb768aa2787",
   "metadata": {},
   "source": [
    "<p style = 'font-size:16px;font-family:Arial;color:#00233C'>The code below facilitates the visualization of all similar customer reviews in a single cluster, effectively grouping similar reviews together.</p>"
   ]
  },
  {
   "cell_type": "code",
   "execution_count": null,
   "id": "cbe2ce52-fa73-48ad-af21-8d827e337d3b",
   "metadata": {},
   "outputs": [],
   "source": [
    "df_cluster1 = df_review_clustered.loc[df_review_clustered.td_clusterid_kmeans == 1][\n",
    "    [\"id_t1\", \"td_clusterid_kmeans\", \"review\"]\n",
    "]\n",
    "\n",
    "\n",
    "df_cluster1"
   ]
  },
  {
   "cell_type": "markdown",
   "id": "a58e8b53-32fa-486e-b25b-81eb99083216",
   "metadata": {},
   "source": [
    "<hr style='height:2px;border:none;background-color:#00233C;'> \n",
    "\n",
    "<p style='font-size:20px;font-family:Arial;color:#00233c'><b>7. Visualization of Clusters with Customer reviews</b></p> \n",
    "\n",
    "<p style='font-size:16px;font-family:Arial;color:#00233c'>The graph displays the clustering of reviews into distinct groups. Based on the analysis, the data has been divided into n optimal clusters, each representing a unique pattern or category of complaints. This clustering approach helps to identify the key areas or types of reviews that are most prevalent, allowing for more targeted investigation and resolution efforts.</p>"
   ]
  },
  {
   "cell_type": "code",
   "execution_count": null,
   "id": "b5fe1e12-078a-4aaf-92aa-c50855bca57c",
   "metadata": {},
   "outputs": [],
   "source": [
    "clus = df_review_clustered.to_pandas().reset_index()\n",
    "\n",
    "from sklearn.manifold import TSNE\n",
    "\n",
    "tsne = TSNE(n_components=2, random_state=42)\n",
    "tsne_result = tsne.fit_transform(clus.iloc[:, 20:-1])\n",
    "\n",
    "tsne_df = pd.DataFrame(tsne_result, columns=[\"tsne_1\", \"tsne_2\"])\n",
    "tsne_df[\"cluster_id\"] = clus[\"td_clusterid_kmeans\"]\n",
    "tsne_df[\"id\"] = clus[\"review\"]"
   ]
  },
  {
   "cell_type": "code",
   "execution_count": null,
   "id": "23f81bec-a175-4a00-b2e9-7cd0e78c1d8f",
   "metadata": {},
   "outputs": [],
   "source": [
    "import pandas as pd\n",
    "import plotly.express as px\n",
    "\n",
    "# Assuming you have already computed tsne_df as per the previous example\n",
    "\n",
    "# Create a new DataFrame combining t-SNE results with complaint information\n",
    "tsne_complaint_df = pd.DataFrame(tsne_result, columns=[\"tsne_1\", \"tsne_2\"])\n",
    "tsne_complaint_df[\"cluster_id\"] = clus[\"td_clusterid_kmeans\"]\n",
    "tsne_complaint_df[\"id\"] = clus[\"id_t1\"]\n",
    "tsne_complaint_df[\"review\"] = clus[\"review\"]\n",
    "\n",
    "# Truncate text for hover data\n",
    "max_chars = 50  # Maximum characters to display\n",
    "tsne_complaint_df[\"truncted_reviews\"] = clus[\"review\"].apply(\n",
    "    lambda x: x[:max_chars] + \"...\" if len(x) > max_chars else x\n",
    ")\n",
    "\n",
    "# Plot using Plotly Express\n",
    "fig = px.scatter(\n",
    "    tsne_complaint_df,\n",
    "    x=\"tsne_1\",\n",
    "    y=\"tsne_2\",\n",
    "    color=\"cluster_id\",\n",
    "    hover_data=[\"id\", \"truncted_reviews\", \"cluster_id\"],\n",
    ")\n",
    "\n",
    "fig.update_traces(marker=dict(size=15))\n",
    "fig.update_layout(\n",
    "    title=\"t-SNE Visualization of Clusters with Review\",\n",
    "    xaxis_title=\"dimension-1\",\n",
    "    yaxis_title=\"dimension-2\",\n",
    "    xaxis=dict(tickangle=45),\n",
    "    width=1000,\n",
    "    height=800,\n",
    "    hoverlabel=dict(bgcolor=\"white\", font_size=16, font_family=\"Rockwell\"),\n",
    "    autosize=False,\n",
    ")\n",
    "\n",
    "# Customize the hovertemplate\n",
    "fig.update_traces(\n",
    "    hovertemplate=\"<b>ID:</b> %{customdata[0]}<br>\"\n",
    "    \"<b>Review:</b> %{customdata[1]}<br>\"\n",
    "    \"<b>Cluster ID:</b> %{customdata[2]}<br><extra></extra>\"\n",
    ")\n",
    "\n",
    "fig.show()"
   ]
  },
  {
   "cell_type": "markdown",
   "id": "83a2c780-d662-44ab-8f00-64d10c5611a6",
   "metadata": {},
   "source": [
    "<hr style='height:2px;border:none;background-color:#00233C;'> \n",
    "\n",
    "<p style='font-size:20px;font-family:Arial;color:#00233c'><b>8. Sentiment Analysis</b></p> \n",
    "\n",
    "<p style='font-size:16px;font-family:Arial;color:#00233c'>Sentiment analysis using Generative AI involves leveraging cutting-edge technologies to extract insights from unstructured data. This process empowers businesses to swiftly identify and address customer concerns, enhancing overall customer satisfaction and loyalty.</p>\n",
    "\n",
    "<p style='font-size:16px;font-family:Arial;color:#00233c'>In this demo we'll use AWS Bedrock LLM model: <code>amazon.titan-text-premier-v1:0</code> which is very robust in text generation task</p>"
   ]
  },
  {
   "cell_type": "markdown",
   "id": "331fdcc5-f765-4fde-b9e7-31bbe9a8660a",
   "metadata": {},
   "source": [
    "<hr style=\"height:1px;border:none;background-color:#00233C;\">\n",
    "<b style = 'font-size:18px;font-family:Arial;color:#00233C'>8.1 Configuring AWS CLI</b>\n",
    "<p style = 'font-size:16px;font-family:Arial;color:#00233C'>The following cell will prompt us for the following information:</p>\n",
    "<ol style = 'font-size:16px;font-family:Arial;color:#00233C'>\n",
    "<li><b>aws_access_key_id</b>: Enter your AWS access key ID</li>\n",
    "<li><b>aws_secret_access_key</b>: Enter your AWS secret access key</li>\n",
    "<li><b>region name</b>: Enter the AWS region you want to configure (e.g., us-east-1)</li>\n",
    "<ol>"
   ]
  },
  {
   "cell_type": "code",
   "execution_count": null,
   "id": "877396f2-7095-4863-9f10-473655334ccb",
   "metadata": {},
   "outputs": [],
   "source": [
    "def configure_aws():\n",
    "    print(\"configure the AWS CLI\")\n",
    "    # enter the access_key/secret_key\n",
    "    access_key = getpass.getpass(\"aws_access_key_id \")\n",
    "    secret_key = getpass.getpass(\"aws_secret_access_key \")\n",
    "    region_name = getpass.getpass(\"region name\")\n",
    "\n",
    "    #set to the env\n",
    "    !aws configure set aws_access_key_id {access_key}\n",
    "    !aws configure set aws_secret_access_key {secret_key}\n",
    "    !aws configure set default.region {region_name}"
   ]
  },
  {
   "cell_type": "code",
   "execution_count": null,
   "id": "897655f1-d21c-45df-9c8d-448579552b2f",
   "metadata": {},
   "outputs": [],
   "source": [
    "does_access_key_exists = !aws configure get aws_access_key_id\n",
    "\n",
    "if len(does_access_key_exists) == 0:\n",
    "    configure_aws()"
   ]
  },
  {
   "cell_type": "code",
   "execution_count": null,
   "id": "c6587bdf-6a7c-4361-9df4-d535235fd4ac",
   "metadata": {},
   "outputs": [],
   "source": [
    "!aws configure list"
   ]
  },
  {
   "cell_type": "markdown",
   "id": "2f3dc685-15f6-4813-acb9-8498ab28e136",
   "metadata": {},
   "source": [
    "<hr style=\"height:1px;border:none;background-color:#00233C;\">\n",
    "<b style = 'font-size:18px;font-family:Arial;color:#00233C'>8.2 Initialize the Bedrock Model</b>\n",
    "<ul style = 'font-size:16px;font-family:Arial;color:#00233C'>\n",
    "<li>The code below initializes a Boto3 client for the “bedrock-runtime” service.</li>\n",
    "<li>The model can be used for natural language generation tasks.</li>\n",
    "<li>Define the model id: <code>amazon.titan-text-premier-v1:0</code></li>\n",
    "<ul>"
   ]
  },
  {
   "cell_type": "code",
   "execution_count": null,
   "id": "eef6c35e-553c-4296-a0f3-3258ebb7f4f7",
   "metadata": {},
   "outputs": [],
   "source": [
    "import boto3\n",
    "\n",
    "# Use the Conversation API to send a text message to Amazon Titan Text.\n",
    "import boto3\n",
    "from botocore.exceptions import ClientError\n",
    "\n",
    "# Create a Bedrock Runtime client in the AWS Region you want to use.\n",
    "client = boto3.client(\"bedrock-runtime\", region_name=\"us-east-1\")\n",
    "\n",
    "# Set the model ID, e.g., Titan Text Premier.\n",
    "model_id = \"amazon.titan-text-premier-v1:0\""
   ]
  },
  {
   "cell_type": "code",
   "execution_count": null,
   "id": "f17b302f-5666-4fd8-bc5e-e8d94375ca6d",
   "metadata": {},
   "outputs": [],
   "source": [
    "def get_conversation(txt):\n",
    "    # Start a conversation with the user message.\n",
    "    user_message = f\"\"\"User prompt: \n",
    "            The following is text from a review:\n",
    "            {txt}\n",
    "            Categorize the review as one of the following:\n",
    "\n",
    "                    Positive\n",
    "                    Negative\n",
    "                    Neutral\"\"\"\n",
    "\n",
    "    return [\n",
    "        {\n",
    "            \"role\": \"user\",\n",
    "            \"content\": [{\"text\": user_message}],\n",
    "        }\n",
    "    ]"
   ]
  },
  {
   "cell_type": "code",
   "execution_count": null,
   "id": "ba09e220-4be9-46b7-93db-4731ad0a75b9",
   "metadata": {},
   "outputs": [],
   "source": [
    "def sentiment_analysis(df):\n",
    "    for i in tqdm(range(len(df))):\n",
    "        try:\n",
    "            # Send the message to the model, using a basic inference configuration.\n",
    "            response = client.converse(\n",
    "                modelId=model_id,\n",
    "                messages=get_conversation(df.iloc[i, 1]),\n",
    "                inferenceConfig={\"maxTokens\": 512, \"temperature\": 0.2, \"topP\": 0.9},\n",
    "            )\n",
    "\n",
    "            # Extract and print the response text.\n",
    "            response_text = response[\"output\"][\"message\"][\"content\"][0][\"text\"]\n",
    "            df[\"Sentiment\"][i] = response_text\n",
    "\n",
    "        except (ClientError, Exception) as e:\n",
    "            exit(1)\n",
    "    return df"
   ]
  },
  {
   "cell_type": "code",
   "execution_count": null,
   "id": "a334799c-b39e-4882-b2a4-a6d931828e4c",
   "metadata": {},
   "outputs": [],
   "source": [
    "pdf_cluster1 = df_cluster1.to_pandas().reset_index()\n",
    "pdf_cluster1[\"Sentiment\"] = \"\""
   ]
  },
  {
   "cell_type": "code",
   "execution_count": null,
   "id": "d26bc46e-54fc-4eb4-982b-2a19077acee5",
   "metadata": {},
   "outputs": [],
   "source": [
    "response_df = sentiment_analysis(pdf_cluster1)"
   ]
  },
  {
   "cell_type": "code",
   "execution_count": null,
   "id": "41c46db9-b814-49af-bb41-3e791e5d97db",
   "metadata": {},
   "outputs": [],
   "source": [
    "response_df.dropna()[[\"id_t1\", \"review\", \"Sentiment\"]].head()"
   ]
  },
  {
   "cell_type": "markdown",
   "id": "963a6f90-6c95-440c-b45e-6759b9621b78",
   "metadata": {},
   "source": [
    "<hr style=\"height:1px;border:none;background-color:#00233C;\">\n",
    "<b style = 'font-size:18px;font-family:Arial;color:#00233C'>8.3 Sentiment Prediction Visualization</b>\n",
    "\n",
    "<p style='font-size:16px;font-family:Arial;color:#00233c'>This bar graph visualizes the distribution of sentiment predictions from a dataset, showing the total count for each sentiment category (Positive, Negative, Neutral). Created using Plotly Express, the graph includes text labels on each bar for clarity, highlighting the number of occurrences for each sentiment. This visualization provides a concise overview of sentiment trends in the dataset. </p>"
   ]
  },
  {
   "cell_type": "code",
   "execution_count": null,
   "id": "9bd823dc-4617-4919-adaf-5ef0fdad0c6e",
   "metadata": {},
   "outputs": [],
   "source": [
    "from collections import Counter\n",
    "\n",
    "data = Counter(response_df[\"Sentiment\"])\n",
    "\n",
    "# Convert Counter data to DataFrame\n",
    "viz_df = pd.DataFrame.from_dict(data, orient=\"index\", columns=[\"Count\"]).reset_index()\n",
    "\n",
    "\n",
    "# Rename columns\n",
    "viz_df.columns = [\"Prediction\", \"Count\"]\n",
    "\n",
    "\n",
    "# Create bar graph using Plotly Express\n",
    "fig = px.bar(\n",
    "    viz_df,\n",
    "    x=\"Prediction\",\n",
    "    y=\"Count\",\n",
    "    color=\"Prediction\",\n",
    "    labels={\"Count\": \"Number of Occurrences\", \"Prediction\": \"Prediction\"},\n",
    "    text=\"Count\",\n",
    ")\n",
    "\n",
    "# Update layout to show text labels on bars\n",
    "fig.update_traces(texttemplate=\"%{text}\", textposition=\"inside\")\n",
    "\n",
    "# Show the plot\n",
    "fig.show()"
   ]
  },
  {
   "cell_type": "markdown",
   "id": "a20dc2ef-43dd-4593-bf00-fa154e7d09ca",
   "metadata": {},
   "source": [
    "<hr style=\"height:1px;border:none;background-color:#00233C;\">\n",
    "<b style = 'font-size:18px;font-family:Arial;color:#00233C'>8.4 Word Cloud for Negative Reviews Prediction</b>\n",
    "\n",
    "<p style='font-size:16px;font-family:Arial;color:#00233c'>Unlock the power of customer feedback with intuitive word cloud visualization, which provides a comprehensive snapshot of negative reviews sentiment. This innovative tool highlights the most frequently occurring words and pain points in customer feedback, empowering businesses to:</p>\n",
    "\n",
    "<ol style='font-size:16px;font-family:Arial;color:#00233c'>\n",
    "    <li>Identify trends and sentiment patterns</li>\n",
    "    <li>Pinpoint areas for improvement</li>\n",
    "    <li>Make data-driven decisions to enhance customer satisfaction and loyalty</li>\n",
    "</ol>\n",
    "\n",
    "<p style='font-size:16px;font-family:Arial;color:#00233c'>By leveraging this word cloud, businesses can proactively address customer concerns, refine their products and services, and ultimately drive growth through a deeper understanding of their customers' needs and preferences.</p>"
   ]
  },
  {
   "cell_type": "code",
   "execution_count": null,
   "id": "eae633e7-e59f-423e-95ee-d288924ed106",
   "metadata": {},
   "outputs": [],
   "source": [
    "from wordcloud import WordCloud\n",
    "import matplotlib.pyplot as plt\n",
    "\n",
    "\n",
    "text = response_df[response_df[\"Sentiment\"] == \"Negative\"]\n",
    "combine_text = \" \".join(text[\"review\"])\n",
    "\n",
    "# Replace 'X' with blank space\n",
    "modified_string = combine_text.replace(\"X\", \"\").replace(\"Discover\", \"\")\n",
    "\n",
    "wordcloud = WordCloud(collocations=False, background_color=\"white\").generate(\n",
    "    modified_string\n",
    ")\n",
    "\n",
    "# Display the word cloud\n",
    "plt.imshow(wordcloud, interpolation=\"bilinear\")\n",
    "plt.axis(\"off\")\n",
    "plt.show()"
   ]
  },
  {
   "cell_type": "markdown",
   "id": "e8e61cf4-be63-40fe-8f72-92c242571098",
   "metadata": {},
   "source": [
    "<hr style='height:2px;border:none;background-color:#00233C;'> \n",
    "\n",
    "<p style='font-size:20px;font-family:Arial;color:#00233c'><b>9. Topic Modelling</b></p> \n",
    "\n",
    "<p style='font-size:16px;font-family:Arial;color:#00233c'>Topic modeling in the context of categorizing reviews involves assigning each review to one of three categories: functionality, comparison, and spam. This classification helps in organizing the reviews based on their content and relevance, allowing for better analysis and understanding. By counting the frequency of reviews in each category, businesses can gain insights into the primary concerns of their customers and identify potential spam.</p>"
   ]
  },
  {
   "cell_type": "code",
   "execution_count": null,
   "id": "4c7d203d-d450-468e-852c-356cd02a7fad",
   "metadata": {},
   "outputs": [],
   "source": [
    "def get_conversation(txt):\n",
    "    # Start a conversation with the user message.\n",
    "    user_message = f\"\"\"User prompt: \n",
    "            The following is text from a customer review:\n",
    "            {txt}\n",
    "        \n",
    "            \n",
    "            Instructions for Topic:\n",
    "            - The review falls into only one of the following Topics: Comparisons, Functionality, Spam\n",
    "            - Most critical: Must select atleast one topic\n",
    "            - Only select one Topic one out of these \"Comparisons\", \"Functionality\", \"Spam\"\n",
    "\n",
    "            Most important: Choose one topic from the following options: Comparisons, Functionality, or Spam.\"\"\"\n",
    "\n",
    "    return [\n",
    "        {\n",
    "            \"role\": \"user\",\n",
    "            \"content\": [{\"text\": user_message}],\n",
    "        }\n",
    "    ]"
   ]
  },
  {
   "cell_type": "code",
   "execution_count": null,
   "id": "ae69bb83-136b-40a2-811d-73e7d422d8f7",
   "metadata": {},
   "outputs": [],
   "source": [
    "def topic_modelling(df):\n",
    "    for i in tqdm(range(len(df))):\n",
    "\n",
    "        try:\n",
    "            # Send the message to the model, using a basic inference configuration.\n",
    "            response = client.converse(\n",
    "                modelId=model_id,\n",
    "                messages=get_conversation(df.iloc[i, 1]),\n",
    "                inferenceConfig={\"maxTokens\": 512, \"temperature\": 0.2, \"topP\": 0.9},\n",
    "            )\n",
    "\n",
    "            # Extract and print the response text.\n",
    "            response = response[\"output\"][\"message\"][\"content\"][0][\"text\"]\n",
    "\n",
    "            df[\"Predicted_Topic\"][i] = response\n",
    "\n",
    "        except (ClientError, Exception) as e:\n",
    "            exit(1)\n",
    "\n",
    "    return df"
   ]
  },
  {
   "cell_type": "code",
   "execution_count": null,
   "id": "94874efc-6ffc-45ca-b509-8640005e5f73",
   "metadata": {
    "tags": []
   },
   "outputs": [],
   "source": [
    "pdf_cluster1[\"Predicted_Topic\"] = \"\"\n",
    "\n",
    "response_df = topic_modelling(pdf_cluster1)"
   ]
  },
  {
   "cell_type": "code",
   "execution_count": null,
   "id": "62bb868b-ba87-4276-9277-ec23a9dd863a",
   "metadata": {},
   "outputs": [],
   "source": [
    "response_df = response_df.dropna()\n",
    "response_df[\"Predicted_Topic\"] = (\n",
    "    response_df[\"Predicted_Topic\"].str.strip().str.replace(r\"^,+|,+$\", \"\", regex=True)\n",
    ")\n",
    "response_df.head()"
   ]
  },
  {
   "cell_type": "markdown",
   "id": "343c87c8-1032-4fee-b626-3135c21076f9",
   "metadata": {},
   "source": [
    "<hr style=\"height:1px;border:none;background-color:#00233C;\">\n",
    "<b style = 'font-size:18px;font-family:Arial;color:#00233C'>9.1 Review Topics Prediction vs Occurrences</b>\n",
    "\n",
    "<p style='font-size:16px;font-family:Arial;color:#00233c'>A graph illustrating the relationship between review sentiments (positive, negative, neutral) prediction and the number of occurrences. This visual representation helps identify trends, patterns, and areas for improvement, enabling data-driven decision making.</p>"
   ]
  },
  {
   "cell_type": "code",
   "execution_count": null,
   "id": "2616514a-1b54-4cfd-8d7d-628819d95bb3",
   "metadata": {},
   "outputs": [],
   "source": [
    "from collections import Counter\n",
    "\n",
    "data = Counter(response_df[\"Predicted_Topic\"])\n",
    "\n",
    "# Convert Counter data to DataFrame\n",
    "viz_df = pd.DataFrame.from_dict(data, orient=\"index\", columns=[\"Count\"]).reset_index()\n",
    "\n",
    "# Rename columns\n",
    "viz_df.columns = [\"Prediction\", \"Count\"]\n",
    "\n",
    "# Create bar graph using Plotly Express\n",
    "fig = px.bar(\n",
    "    viz_df,\n",
    "    x=\"Prediction\",\n",
    "    y=\"Count\",\n",
    "    color=\"Prediction\",\n",
    "    labels={\"Count\": \"Number of Occurrences\", \"Prediction\": \"Prediction\"},\n",
    "    text=\"Count\",\n",
    ")\n",
    "\n",
    "\n",
    "# Update layout to show text labels on bars\n",
    "fig.update_traces(texttemplate=\"%{text}\", textposition=\"inside\")\n",
    "\n",
    "# Show the plot\n",
    "fig.show()"
   ]
  },
  {
   "cell_type": "markdown",
   "id": "50b8b817-c0ff-42b3-a651-c8268ac40942",
   "metadata": {},
   "source": [
    "<hr style='height:2px;border:none;background-color:#00233C;'>\n",
    "<b style = 'font-size:20px;font-family:Arial;color:#00233c'>10. Cleanup</b>\n",
    "\n",
    "<hr style=\"height:1px;border:none;background-color:#00233C;\">\n",
    "<p style = 'font-size:18px;font-family:Arial;color:#00233C'><b>10.1 Work Tables</b></p>\n",
    "<p style = 'font-size:16px;font-family:Arial;color:#00233C'>Cleanup work tables to prevent errors next time.</p>"
   ]
  },
  {
   "cell_type": "code",
   "execution_count": null,
   "id": "99ccbcfb-8ae5-4a13-80af-262195c6a0fd",
   "metadata": {},
   "outputs": [],
   "source": [
    "# Loop through the list of tables and execute the drop table command for each table\n",
    "for table in db_list_tables()['TableName'].tolist():\n",
    "    try:\n",
    "        db_drop_table(table_name=table, schema_name=\"demo_user\")\n",
    "    except:\n",
    "        pass"
   ]
  },
  {
   "cell_type": "markdown",
   "id": "0aacb87c-0d81-40f0-8754-608d47e602cc",
   "metadata": {},
   "source": [
    "<hr style=\"height:1px;border:none;background-color:#00233C;\">\n",
    "<p style = 'font-size:18px;font-family:Arial;color:#00233C'> <b>10.2 Databases and Tables </b></p>\n",
    "<p style = 'font-size:16px;font-family:Arial;color:#00233C'>The following code will clean up tables and databases created above.</p>"
   ]
  },
  {
   "cell_type": "code",
   "execution_count": null,
   "id": "7b398148-9486-4535-8c06-d3f77669bbdc",
   "metadata": {},
   "outputs": [],
   "source": [
    "%run -i ../run_procedure.py \"call remove_data('DEMO_CustomerReviews');\"        # Takes 5 seconds"
   ]
  },
  {
   "cell_type": "code",
   "execution_count": null,
   "id": "73ef4cbe-1beb-4c65-ac60-ffd6250668a4",
   "metadata": {},
   "outputs": [],
   "source": [
    "remove_context()"
   ]
  },
  {
   "cell_type": "markdown",
   "id": "ae971f90-bef1-4228-bcbf-c333e9843284",
   "metadata": {},
   "source": [
    "<a id=\"section102\"></a>\n",
    "    \n",
    "<hr style=\"height:2px;border:none;background-color:#00233C;\">\n",
    "\n",
    "<b style = 'font-size:20px;font-family:Arial;color:#00233C'>Required Materials</b>\n",
    "<p style = 'font-size:16px;font-family:Arial;color:#00233C'>Let’s look at the elements we have available for reference for this notebook:</p>\n",
    "\n",
    "<p style = 'font-size:18px;font-family:Arial;color:#00233C'><b>Filters:</b></p>\n",
    "<ul style = 'font-size:16px;font-family:Arial;color:#00233C'>\n",
    "    <li><b>Industry:</b> ECommerce</li>\n",
    "    <li><b>Functionality:</b> Generative AI</li>\n",
    "    <li><b>Use Case:</b> Review Analysis</li>\n",
    "</ul>\n",
    "\n",
    "<p style = 'font-size:18px;font-family:Arial;color:#00233C'><b>Related Resources:</b></p>\n",
    "\n",
    "<ul style = 'font-size:16px;font-family:Arial;color:#00233C'>\n",
    "    <li><a href='https://www.teradata.com/Blogs/Fraud-Busting-AI'>Fraud-Busting-AI</a></li>\n",
    "    <li><a href='https://www.teradata.com/Industries/Financial-Services'>Financial Services</a></li>\n",
    "    <li><a href='https://www.teradata.com/Resources/Datasheets/Move-from-Detection-to-Prevention-and-Outsmart-Fraudsters'>Move from Detection to Prevention and Outsmart Tech-Savvy Fraudsters</a></li>\n",
    "</ul>\n",
    "\n",
    "<b style = 'font-size:20px;font-family:Arial;color:#00233C'>Dataset:</b>\n",
    "\n",
    "- `id`: Unique row id\n",
    "- `review`: customer review\n",
    "- `spam` : spam or not spam (Numeric)\n",
    "\n",
    "<b style = 'font-size:16px;font-family:Arial;color:#00233C'>Dataset source: <a href=\"https://www.tpc.org/tpcx-ai/default5.asp\">TPCx-AI</a></b>\n",
    "\n",
    "<p style = 'font-size:18px;font-family:Arial;color:#00233C'><b>Links:</b></p>\n",
    "<ul style = 'font-size:16px;font-family:Arial;color:#00233C'>\n",
    "    <li>Teradataml Python reference: <a href = 'https://docs.teradata.com/search/all?query=Python+Package+User+Guide&content-lang=en-US'>here</a></li>\n",
    "    <li>OpenAI embeddings reference: <a href='https://platform.openai.com/docs/guides/embeddings'>here</a></li>\n",
    "</ul>"
   ]
  },
  {
   "cell_type": "markdown",
   "id": "e5463848-592f-4321-b852-287e133872dd",
   "metadata": {},
   "source": [
    "<footer style=\"padding-bottom:35px; background:#f9f9f9; border-bottom:3px solid #00233C\">\n",
    "    <div style=\"float:left;margin-top:14px\">ClearScape Analytics™</div>\n",
    "    <div style=\"float:right;\">\n",
    "        <div style=\"float:left; margin-top:14px\">\n",
    "            Copyright © Teradata Corporation - 2023, 2024. All Rights Reserved\n",
    "        </div>\n",
    "    </div>\n",
    "</footer>"
   ]
  }
 ],
 "metadata": {
  "kernelspec": {
   "display_name": "Python 3 (ipykernel)",
   "language": "python",
   "name": "python3"
  },
  "language_info": {
   "codemirror_mode": {
    "name": "ipython",
    "version": 3
   },
   "file_extension": ".py",
   "mimetype": "text/x-python",
   "name": "python",
   "nbconvert_exporter": "python",
   "pygments_lexer": "ipython3",
   "version": "3.9.10"
  }
 },
 "nbformat": 4,
 "nbformat_minor": 5
}
