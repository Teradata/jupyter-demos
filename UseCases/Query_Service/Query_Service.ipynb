{
 "cells": [
  {
   "cell_type": "markdown",
   "id": "08c976ca-cd63-49b3-ada8-b3e64ce67bf5",
   "metadata": {},
   "source": [
    "<header>\n",
    "   <p  style='font-size:36px;font-family:Arial; color:#F0F0F0; background-color: #00233c; padding-left: 20pt; padding-top: 20pt;padding-bottom: 10pt; padding-right: 20pt;'>\n",
    "       Query Service\n",
    "  <br>\n",
    "       <img id=\"teradata-logo\" src=\"https://storage.googleapis.com/clearscape_analytics_demo_data/DEMO_Logo/teradata.svg\" alt=\"Teradata\" style=\"width: 125px; height: auto; margin-top: 20pt;\">\n",
    "    </p>\n",
    "</header>"
   ]
  },
  {
   "cell_type": "markdown",
   "id": "34e9fd22-7b16-4e24-b582-71fa740b3af2",
   "metadata": {},
   "source": [
    "<p style = 'font-size:20px;font-family:Arial;color:#00233C'><b>Introduction</b></p>\n",
    "<p style = 'font-size:16px;font-family:Arial;color:#00233C'>Teradata® Query Service is a middleware that provides REST APIs for connecting to Teradata Vantage. Query Service allows you to query a Teradata-supported database from web pages, mobile devices, or scripting language using HTTP as the wire protocol and JSON as the data interchange format. Applications can use Query Service to access a Teradata-supported database without a driver.Query Service provides APIs to:</p>\n",
    "<ul style = 'font-size:16px;font-family:Arial;color:#00233C'> \n",
    "    <li>Configure Teradata-supported systems</li>\n",
    "    <li>Submit SQL queries and access responses</li>\n",
    "    <li>Create database sessions</li>\n",
    "    <li>Access database and object metadata</li>\n",
    "    </ul>\n",
    "<p style = 'font-size:16px;font-family:Arial;color:#00233C'>For more information check  <a href = 'https://docs.teradata.com/search/all?query=Teradata+Query+Service&filters=prodname~%2522Teradata+Query+Service%2522&sort=last_update&content-lang=en-US'>here.</a>  <br>\n",
    " Query Service is a suitable tool in cases when working with a Teradata driver is not practical or feasible, some <ul style = 'font-size:16px;font-family:Arial;color:#00233C'> <li>A web or mobile application that communicates with services that expose their own APIs.\n",
    "     This projects illustrates this specific use case.</li><li>Working with Low Code tools that allow HTTP calls but not the installation of libraries.</li><li>Execution of SQL Queries from the browser.Teradata web-based SQL editors</li></ul></p>\n",
    "     <p style = 'font-size:16px;font-family:Arial;color:#00233C'>In this demo we will see common examples to help you get started with Query Service API. The examples in this document use Python, and you can use these to create examples in your language of choice.</p>\n",
    "<hr style=\"height:2px;border:none;background-color:#00233C;\">"
   ]
  },
  {
   "cell_type": "markdown",
   "id": "63f54c01-b949-4851-b8cb-60bf44ea692e",
   "metadata": {},
   "source": [
    "<p style = 'font-size:20px;font-family:Arial;color:#00233C'><b>1. Connect to Vantage</b></p>"
   ]
  },
  {
   "cell_type": "code",
   "execution_count": 1,
   "id": "fcfe7071-9e45-4c19-85e3-97076acfdf86",
   "metadata": {},
   "outputs": [],
   "source": [
    "# import libraries\n",
    "from teradataml import *"
   ]
  },
  {
   "cell_type": "markdown",
   "id": "d3849b27-ea4c-409a-9413-c297721fee44",
   "metadata": {},
   "source": [
    "<p style = 'font-size:16px;font-family:Arial;color:#00233C'>You will be prompted to provide the password. Enter your password, press the Enter key, then <b>use down arrow</b> to go to next cell.</p>"
   ]
  },
  {
   "cell_type": "code",
   "execution_count": null,
   "id": "e289b16f-65cc-4348-be32-166634b9afea",
   "metadata": {},
   "outputs": [],
   "source": [
    "%run -i ../startup.ipynb\n",
    "eng = create_context(host = 'host.docker.internal', username = 'demo_user', password = password)\n",
    "print(eng)"
   ]
  },
  {
   "cell_type": "code",
   "execution_count": null,
   "id": "62efb564-149c-4345-ac08-3d2bf1b56685",
   "metadata": {},
   "outputs": [],
   "source": [
    "%%capture\n",
    "execute_sql('''SET query_band='DEMO=Query_Service.ipynb;' UPDATE FOR SESSION;''')"
   ]
  },
  {
   "cell_type": "markdown",
   "id": "12665c93-7a4c-4ae2-b5e7-3ecd4d4a5c77",
   "metadata": {},
   "source": [
    "<p style = 'font-size:18px;font-family:Arial;color:#00233C'><b>Getting Data for This Demo</b></p>\n",
    "<p style = 'font-size:16px;font-family:Arial;color:#00233C'>We have provided data for this demo on cloud storage. You have the option of either running the demo using foreign tables to access the data without using any storage on your environment or downloading the data to local storage which may yield somewhat faster execution, but there could be considerations of available storage. There are two statements in the following cell, and one is commented out. You may switch which mode you choose by changing the comment string.<br>We will use query this table from Query Service.</p>"
   ]
  },
  {
   "cell_type": "code",
   "execution_count": null,
   "id": "a98a9496-3caf-4ff3-b9b9-040108d34309",
   "metadata": {},
   "outputs": [],
   "source": [
    "%run -i ../run_procedure.py \"call get_data('DEMO_Telco_cloud');\"    # Takes about 30 seconds\n",
    "# %run -i ../run_procedure.py \"call get_data('DEMO_Telco_local');\"    # Takes about 30 seconds"
   ]
  },
  {
   "cell_type": "markdown",
   "id": "4ee86c32-f90a-405a-b166-0b1bb2856e6a",
   "metadata": {},
   "source": [
    "<p style = 'font-size:16px;font-family:Arial;color:#00233C'>Next is an optional step – if you want to see status of databases/tables created and space used.</p>"
   ]
  },
  {
   "cell_type": "code",
   "execution_count": null,
   "id": "c642b7cf-bc22-47cb-b5ce-cc74327ab6ac",
   "metadata": {},
   "outputs": [],
   "source": [
    "%run -i ../run_procedure.py \"call space_report();\""
   ]
  },
  {
   "cell_type": "markdown",
   "id": "695acc78-1c95-4bd4-8254-b022e302aaf1",
   "metadata": {},
   "source": [
    "<p style = 'font-size:18px;font-family:Arial;color:#00233C'><b>Prerequisites for Query Service</b></p>\n",
    "<p style = 'font-size:16px;font-family:Arial;color:#00233C;'>For the Query Service API's to work we need the following</p>\n",
    "<ul style = 'font-size:16px;font-family:Arial;color:#00233C'><li>Access to a VantageCloud system where Query Service is provisioned, or a VantageCore with Query Service enabled connectivity.</li> <li>Query Service hostname and system name </li><li>Authorization credentials to connect to the database</li>\n",
    "</ul>"
   ]
  },
  {
   "cell_type": "markdown",
   "id": "2a4a0c6a-9974-40d5-82d1-5b83bae6c445",
   "metadata": {},
   "source": [
    "<p style = 'font-size:18px;font-family:Arial;color:#00233C'><b>Getting Query Service hostname and system name </b></p>\n",
    "<p style = 'font-size:16px;font-family:Arial;color:#00233C'><b>QS_HOSTNAME</b>: Server where Query Service is installed. For our demo the hostname can be found from Clearscape Analytics dashboard.<br>Teradata Query Service uses the ports:<li style = 'font-size:16px;font-family:Arial;color:#00233C'>1080 - HTTP</li><li style = 'font-size:16px;font-family:Arial;color:#00233C'>1443 - HTTPS</li>\n",
    "<p style = 'font-size:16px;font-family:Arial;color:#00233C'>Thus for our demo the URL will be https:// &lt;QS_HOSTNAME&gt;:1443/<br><b>SYSTEM_NAME</b>: Preconfigured alias of the system. In CSAE the system name is 'local'<br><br><b>Please replace these values with your own system values.</b></p>\n"
   ]
  },
  {
   "cell_type": "markdown",
   "id": "96033f42-3e7f-4185-a95d-5d196f007e18",
   "metadata": {},
   "source": [
    "<hr style=\"height:2px;border:none;background-color:#00233C;\">\n",
    "<p style = 'font-size:20px;font-family:Arial;color:#00233C'><b>2. Connect to Query Service instance </b></p>\n",
    "<p style = 'font-size:16px;font-family:Arial;color:#00233C'>Provide valid credentials to access the target Analytics Database using HTTP Basic or JWT authentication."
   ]
  },
  {
   "cell_type": "markdown",
   "id": "bb84cbac-406e-4056-ae54-d1350c43c18d",
   "metadata": {},
   "source": [
    "<p style = 'font-size:18px;font-family:Arial;color:#00233C'><b>HTTP Basic authentication</b></p>\n",
    "<p style = 'font-size:16px;font-family:Arial;color:#00233C'>The database username and password are combined into a string (\"username : password\") which is then encoded using Base64. The API response contains the authorization method and encoded credentials.</p>"
   ]
  },
  {
   "cell_type": "code",
   "execution_count": null,
   "id": "e5910273-981c-4db6-b8d0-e6a6c6fa4699",
   "metadata": {},
   "outputs": [],
   "source": [
    "import requests\n",
    "import json\n",
    "import base64\n",
    "import getpass\n",
    "requests.packages.urllib3.disable_warnings()\n",
    "\n",
    "# run it from local.\n",
    "# please update the db_url with your hostname\n",
    "db_url = input(\"Enter the hostname:\")\n",
    "db_user = 'demo_user'\n",
    "db_password = password \n",
    "\n",
    "\n",
    "auth_encoded = db_user + ':' + db_password\n",
    "auth_encoded = base64.b64encode(bytes(auth_encoded, 'utf-8'))\n",
    "auth_str = 'Basic ' + auth_encoded.decode('utf-8')\n",
    "\n",
    "print(auth_str)\n",
    "\n",
    "headers_https = {\n",
    "  'Content-Type': 'application/json',\n",
    "  'Authorization': auth_str # base 64 encoded username:password\n",
    "}\n",
    "\n",
    "print(headers_https)"
   ]
  },
  {
   "cell_type": "markdown",
   "id": "f8f471f0-b718-4070-b2d0-d3c77b1a98bd",
   "metadata": {},
   "source": [
    "<p style = 'font-size:18px;font-family:Arial;color:#00233C'><b>JWT authentication</b></p>\n",
    "<p style = 'font-size:16px;font-family:Arial;color:#00233C'> Prerequisites for JWT authentication is that the user must already exist in the database and the database must be JWT enabled.</p>"
   ]
  },
  {
   "cell_type": "code",
   "execution_count": null,
   "id": "ebd33b55-c936-4120-9c23-f6d4dc72ebbd",
   "metadata": {},
   "outputs": [],
   "source": [
    "auth_encoded_jwt = \"<YOUR_JWT_HERE>\"\n",
    "auth_str = \"Bearer \" + auth_encoded_jwt\n",
    "\n",
    "headers_jwt = {\n",
    "  'Content-Type': 'application/json',\n",
    "  'Authorization': auth_str\n",
    "}\n",
    "\n",
    "print(headers_jwt)"
   ]
  },
  {
   "cell_type": "markdown",
   "id": "764b0dcc-a844-4099-ac9d-5a9d720fb32a",
   "metadata": {},
   "source": [
    "<hr style=\"height:2px;border:none;background-color:#00233C;\">\n",
    "<p style = 'font-size:20px;font-family:Arial;color:#00233C'><b>3. Make a simple API request with basic options </b></p>\n",
    "<p style = 'font-size:16px;font-family:Arial;color:#00233C'>Let's submit a simple query to the system using our connection token.<br>\n",
    "<br>We will run the below query to the system with the alias <b>SYSTEM_NAME</b><br>\n",
    "`SELECT * FROM DBC.DBCInfo;\n",
    "`\n",
    "</p><ul style = 'font-size:16px;font-family:Arial;color:#00233C'><li><b>'format': 'OBJECT' </b>is The format for response. The formats supported are: JSON object, JSON array, and CSV.<br>The JSON object format creates one JSON object per row where the column name is the field name, and the column value is the field value.</li><li><b>'includeColumns': true </b>is the request to include column metadata, such as column names and types, in the response.</li><li><b>'rowLimit': 4 </b>is The number of rows to be returned from a query.</li></ul>"
   ]
  },
  {
   "cell_type": "code",
   "execution_count": null,
   "id": "9e3195fe-5f2d-4f7c-b275-934e9a049afe",
   "metadata": {},
   "outputs": [],
   "source": [
    "qs_url = 'https://' + db_url + ':1443/systems/local/queries'\n",
    "\n",
    "payload = {\n",
    "  'query': 'SELECT CustomerID,Gender,SeniorCitizen,Partner,Dependents FROM DEMO_Telco.Customer_Churn;',\n",
    "  'format': 'OBJECT',\n",
    "  'includeColumns': True,\n",
    "  'rowLimit': 4\n",
    "}\n",
    "\n",
    "payload_json = json.dumps(payload)\n",
    "\n",
    "response = requests.request('POST', qs_url, headers = headers_https, data = payload_json, verify = False)\n",
    "\n",
    "num_rows = response.json().get('results')[0].get('rowCount')\n",
    "print('NUMBER of ROWS', num_rows)\n",
    "print('==========================================================')\n",
    "\n",
    "print(response.json())"
   ]
  },
  {
   "cell_type": "markdown",
   "id": "e77f1bc1-7169-4bc2-8890-f89262dcaea3",
   "metadata": {},
   "source": [
    "<hr style=\"height:2px;border:none;background-color:#00233C;\">\n",
    "<p style = 'font-size:20px;font-family:Arial;color:#00233C'><b>4. Request a response in CSV format</b></p>\n",
    "<p style = 'font-size:16px;font-family:Arial;color:#00233C'>    To return an API response in CSV format, set the format field in the request with the value <b>CSV</b>.<br>The CSV format contains only the query results and not response metadata. The response contains a line for each row, where each line contains the row columns separated by a comma. The following example returns the data as comma-separated values.</p>"
   ]
  },
  {
   "cell_type": "code",
   "execution_count": null,
   "id": "96bac85e-5407-4f8b-8bcf-e432b1de1cd8",
   "metadata": {},
   "outputs": [],
   "source": [
    "# CSV with all rows included\n",
    "qs_url = 'https://' + db_url + ':1443/systems/local/queries'\n",
    "\n",
    "payload = {\n",
    "  'query': 'SELECT CustomerID,Gender,SeniorCitizen,Partner,Dependents FROM DEMO_Telco.Customer_Churn;',\n",
    "  'format': 'CSV',\n",
    "  'includeColumns': True,\n",
    "  'rowLimit': 4\n",
    "}\n",
    "\n",
    "payload_json = json.dumps(payload)\n",
    "\n",
    "response = requests.request('POST', qs_url, headers = headers_https, data = payload_json, verify = False)\n",
    "print(response.text)"
   ]
  },
  {
   "cell_type": "markdown",
   "id": "7a4a72eb-4845-4c79-a60c-cdcca5bdd060",
   "metadata": {},
   "source": [
    "<hr style=\"height:2px;border:none;background-color:#00233C;\">\n",
    "<p style = 'font-size:20px;font-family:Arial;color:#00233C'><b>5. Use explicit session to submit a query </b></p>\n",
    "<p style = 'font-size:16px;font-family:Arial;color:#00233C'>Use explicit sessions when a transaction needs to span multiple requests or when using volatile tables. These sessions are only reused if you reference the sessions in a query request. The request is queued if a request references an explicit session already in use.<br><b>Create a session</b><br>Send a POST request to the /system/&lt;SYSTEM_NAME&gt;/sessions endpoint. The request creates a new database session and returns the session details as the response.</p>"
   ]
  },
  {
   "cell_type": "code",
   "execution_count": null,
   "id": "f3094663-4b65-4b46-a159-183dbdc50279",
   "metadata": {},
   "outputs": [],
   "source": [
    "# first create a session\n",
    "qs_url = 'https://' + db_url + ':1443/systems/local/sessions'\n",
    "\n",
    "payload = {\n",
    "  'auto_commit': True\n",
    "}\n",
    "\n",
    "payload_json = json.dumps(payload)\n",
    "\n",
    "response = requests.request('POST', qs_url, headers = headers_https, data = payload_json, verify = False)\n",
    "\n",
    "print(response.text)"
   ]
  },
  {
   "cell_type": "markdown",
   "id": "51b1166e-1c15-4c4c-8c68-62c0c3087961",
   "metadata": {},
   "source": [
    "<p style = 'font-size:16px;font-family:Arial;color:#00233C'>In the example above the request includes 'auto_commit': True - the request to commit the query upon completion.<br> Use the session created in Step 1(above) to submit queries below.<br>Send a POST request to the /system/&lt;SYSTEM_NAME&gt;/queries endpoint.The request submits queries to the target system and returns the release and version number of the target system.<br>We will run the below query to the system with the alias <b>SYSTEM_NAME</b><br>\n",
    "`SELECT * FROM DBC.DBCInfo;\n",
    "`\n",
    "</p><ul style = 'font-size:16px;font-family:Arial;color:#00233C'><li><b>'format': 'OBJECT' </b>is The format for response.</li><li><b>'Session': &lt;Session ID&gt; </b>is the session ID returned in Step 1 to create an explicit session.   </ul> "
   ]
  },
  {
   "cell_type": "code",
   "execution_count": null,
   "id": "521cfb0e-0c3b-44b0-a571-897437ff20e6",
   "metadata": {},
   "outputs": [],
   "source": [
    "sid = input(\"Enter the session id from returned from above code:\")\n",
    "\n",
    "# use this session to submit queries afterwards\n",
    "\n",
    "qs_url = 'https://' + db_url + ':1443/systems/local/queries'\n",
    "\n",
    "payload = {\n",
    "  'query': 'SELECT CustomerID,Gender,SeniorCitizen,Partner,Dependents FROM DEMO_Telco.Customer_Churn;',\n",
    "  'format': 'OBJECT',\n",
    "  'rowLimit': 4,\n",
    "  'session': sid # <-- sessionId\n",
    "}\n",
    "payload_json = json.dumps(payload)\n",
    "\n",
    "response = requests.request('POST', qs_url, headers = headers_https, data = payload_json, verify = False)\n",
    "\n",
    "print(response.text)"
   ]
  },
  {
   "cell_type": "markdown",
   "id": "fabdd5c0-4dbb-426e-bf5e-d40f9be1bb07",
   "metadata": {},
   "source": [
    "<hr style=\"height:2px;border:none;background-color:#00233C;\">\n",
    "<p style = 'font-size:20px;font-family:Arial;color:#00233C'><b>6. Use asynchronous queries </b></p>\n",
    "<p style = 'font-size:16px;font-family:Arial;color:#00233C'>Use asynchronous queries when a system or network performance is affected by querying a large group of data or long running queries.<br>Submit asynchronous queries to the target system and retrieve a Query ID.<br>Send a POST request to the /system/&lt;SYSTEM_NAME&gt;/queries endpoint.<br>We will run the below query to the system with the alias <b>SYSTEM_NAME</b><br>\n",
    "`SELECT * FROM DBC.DBCInfo;\n",
    "`\n",
    "</p><ul style = 'font-size:16px;font-family:Arial;color:#00233C'><li><b>'format': 'OBJECT' </b>is The format for response.</li><li><b>'spooled_result_set': True </b>is the indication that the request is asynchronous.</ul>"
   ]
  },
  {
   "cell_type": "code",
   "execution_count": null,
   "id": "ef118016-dc4a-4d3e-a016-324463e4f43d",
   "metadata": {},
   "outputs": [],
   "source": [
    "## Run asynchronous query .\n",
    "\n",
    "qs_url = 'https://' + db_url + ':1443/systems/local/queries'\n",
    "\n",
    "payload = {\n",
    "  'query': 'SELECT CustomerID,Gender,SeniorCitizen,Partner,Dependents FROM DEMO_Telco.Customer_Churn sample 100;',\n",
    "  'format': 'OBJECT',\n",
    "  'spooled_result_set': True\n",
    "}\n",
    "\n",
    "payload_json = json.dumps(payload)\n",
    "response = requests.request('POST', qs_url, headers = headers_https, data = payload_json, verify = False)\n",
    "\n",
    "print(response.text)"
   ]
  },
  {
   "cell_type": "markdown",
   "id": "1adb2bea-a214-44af-bede-3f2154e69157",
   "metadata": {},
   "source": [
    "<p style = 'font-size:16px;font-family:Arial;color:#00233C'>Get query details using the ID retrieved from Step 1(above)<br>Send a GET request to the /system/&lt;SYSTEM_NAME&gt;/queries/&lt;queryID&gt; endpoint, replacing &lt;queryID&gt; with the ID retrieved from Step 1.<br>The request returns the details of the specific query, including queryState, queueOrder, queueDuration, and so on.  </p>"
   ]
  },
  {
   "cell_type": "code",
   "execution_count": null,
   "id": "66321a25-84a3-42d7-9a93-68e5ccd517ea",
   "metadata": {},
   "outputs": [],
   "source": [
    "aqid = input(\"Enter the Query id from returned from above code (asynchronous queries):\")\n",
    "#update the queryID below\n",
    "qs_url = 'https://' + db_url + ':1443/systems/local/queries/' + aqid\n",
    "\n",
    "payload_json = json.dumps(payload)\n",
    "response = requests.request('GET', qs_url, headers = headers_https, verify = False)\n",
    "\n",
    "print(response.text)"
   ]
  },
  {
   "cell_type": "markdown",
   "id": "534df67c-cd31-43dd-8352-be86d23ea9a4",
   "metadata": {},
   "source": [
    "<hr style=\"height:2px;border:none;background-color:#00233C;\">\n",
    "<p style = 'font-size:20px;font-family:Arial;color:#00233C'><b>7. View resultset for asynchronous query</b></p>\n",
    "<p style = 'font-size:16px;font-family:Arial;color:#00233C'>\n",
    "Send a GET request to the /system/&lt;SYSTEM_NAME&gt;/queries/&lt;queryID&gt;/results endpoint, replacing &lt;queryID&gt; with the ID retrieved from Step 1. The request returns an array of the result sets and update counts produced by the submitted query.</p>"
   ]
  },
  {
   "cell_type": "code",
   "execution_count": null,
   "id": "9a682e43-3d20-4dac-8c8a-9cda52b1ff1f",
   "metadata": {},
   "outputs": [],
   "source": [
    "#update the queryID below\n",
    "qs_url = 'https://' + db_url + ':1443/systems/local/queries/' + aqid + '/results'\n",
    "\n",
    "payload_json = json.dumps(payload)\n",
    "response = requests.request('GET', qs_url, headers = headers_https, verify = False)\n",
    "\n",
    "print(response.text)"
   ]
  },
  {
   "cell_type": "markdown",
   "id": "aa186b0a-2974-4e44-94ab-740ade426f7a",
   "metadata": {},
   "source": [
    "<hr style=\"height:2px;border:none;background-color:#00233C;\">\n",
    "<p style = 'font-size:20px;font-family:Arial;color:#00233C'><b>8. Get a list of active or queued queries</b></p>\n",
    "<p style = 'font-size:16px;font-family:Arial;color:#00233C'>Send a GET request to the /system/&lt;SYSTEM_NAME&gt;/queries endpoint. The request returns the IDs of active queries.</p>"
   ]
  },
  {
   "cell_type": "code",
   "execution_count": null,
   "id": "31fb9f4b-ae8d-4970-8878-7808c1745a27",
   "metadata": {},
   "outputs": [],
   "source": [
    "qs_url = 'https://' + db_url + ':1443/systems/local/queries/'\n",
    "\n",
    "payload = {}\n",
    "\n",
    "response = requests.request('GET', qs_url, headers=headers_https, data=payload, verify=False)\n",
    "\n",
    "print(response.json())"
   ]
  },
  {
   "cell_type": "markdown",
   "id": "a6b5eb64-8fac-4f6c-a1b8-dd22b8bffc4d",
   "metadata": {},
   "source": [
    "<hr style=\"height:2px;border:none;background-color:#00233C;\">\n",
    "<p style = 'font-size:20px;font-family:Arial;color:#00233C'><b>9. Conclusion</b></p>"
   ]
  },
  {
   "cell_type": "markdown",
   "id": "0c869441-47ce-4f96-a045-0ac36262cb4e",
   "metadata": {},
   "source": [
    "<p style = 'font-size:16px;font-family:Arial;color:#00233C'>In this demo we have seen how we can use Teradata Query Service REST APIs to  query the Vantage system and integrate with the client APIs."
   ]
  },
  {
   "cell_type": "markdown",
   "id": "d6471dbf-268e-483b-bdca-ea97e2df27a5",
   "metadata": {},
   "source": [
    "<hr style=\"height:2px;border:none;background-color:#00233C;\">\n",
    "<p style = 'font-size:20px;font-family:Arial;color:#00233C'><b>10. Cleanup</b></p>"
   ]
  },
  {
   "cell_type": "markdown",
   "id": "98606c23-ceef-432b-b6ac-80fe3c46b1b0",
   "metadata": {},
   "source": [
    "<p style = 'font-size:16px;font-family:Arial;color:#00233C;color:#00233C'><b>Databases and Tables</b></p>\n",
    "<p style = 'font-size:16px;font-family:Arial;color:#00233C'>The following code will clean up tables and databases created above.</p>"
   ]
  },
  {
   "cell_type": "code",
   "execution_count": null,
   "id": "e5e39eb7-46ee-4b41-b4a7-3e43f4fe8346",
   "metadata": {},
   "outputs": [],
   "source": [
    "%run -i ../run_procedure.py \"call remove_data('DEMO_Telco');\"    # Takes 5 seconds"
   ]
  },
  {
   "cell_type": "code",
   "execution_count": null,
   "id": "a6d2af98-81fe-49f1-810a-987dfe3afc0f",
   "metadata": {},
   "outputs": [],
   "source": [
    "remove_context()"
   ]
  },
  {
   "cell_type": "markdown",
   "id": "8442a745-135f-41b4-8036-d14f49022309",
   "metadata": {},
   "source": [
    "<footer style=\"padding-bottom:35px; background:#f9f9f9; border-bottom:3px solid #00233C\">\n",
    "    <div style=\"float:left;margin-top:14px\">ClearScape Analytics™</div>\n",
    "    <div style=\"float:right;\">\n",
    "        <div style=\"float:left; margin-top:14px\">\n",
    "            Copyright © Teradata Corporation - 2023. All Rights Reserved\n",
    "        </div>\n",
    "    </div>\n",
    "</footer>"
   ]
  }
 ],
 "metadata": {
  "kernelspec": {
   "display_name": "Python 3 (ipykernel)",
   "language": "python",
   "name": "python3"
  },
  "language_info": {
   "codemirror_mode": {
    "name": "ipython",
    "version": 3
   },
   "file_extension": ".py",
   "mimetype": "text/x-python",
   "name": "python",
   "nbconvert_exporter": "python",
   "pygments_lexer": "ipython3",
   "version": "3.9.10"
  }
 },
 "nbformat": 4,
 "nbformat_minor": 5
}
