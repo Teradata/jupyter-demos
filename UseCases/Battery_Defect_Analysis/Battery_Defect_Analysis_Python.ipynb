{
 "cells": [
  {
   "cell_type": "markdown",
   "id": "3cc01d17-991a-4788-8d10-344c40bfbb77",
   "metadata": {},
   "source": [
    "<header>\n",
    "   <p  style='font-size:36px;font-family:Arial; color:#F0F0F0; background-color: #00233c; padding-left: 20pt; padding-top: 20pt;padding-bottom: 10pt; padding-right: 20pt;'>\n",
    "       Manufacturing Defect Analysis\n",
    "  <br>\n",
    "       <img id=\"teradata-logo\" src=\"https://storage.googleapis.com/clearscape_analytics_demo_data/DEMO_Logo/teradata.svg\" alt=\"Teradata\" style=\"width: 125px; height: auto; margin-top: 20pt;\">\n",
    "    </p>\n",
    "</header>"
   ]
  },
  {
   "cell_type": "markdown",
   "id": "32d75bfb-bd6e-44d6-9963-cfae5bf33430",
   "metadata": {},
   "source": [
    "<p style = 'font-size:20px;font-family:Arial;color:#00233C'><b>Introduction</b></p>\n",
    "\n",
    "<p style = 'font-size:16px;font-family:Arial;color:#00233C'>Consider a major auto manufacturer as our client. The client has reported a serious business issue with increasing warranty repairs. Battery pack replacements primarily drive the issue for EV(Electric Vehicle). As an EV manufacturer, batteries are one of the most expensive and critical components that go into the product. The client wants you to find the root cause and provide actionable insights.</p>\n",
    "<p style = 'font-size:18px;font-family:Arial;color:#00233C'><b>Data:</b></p>\n",
    "<p style = 'font-size:16px;font-family:Arial;color:#00233C'>The data for this demonstration resides on Vantage as well as AWS S3. In a modern analytic ecosystem, vast amounts of data are collected from manufacturing lines and even sensors on the finished product. That data can be left on inexpensive cloud storage and accessed when investigating a problem. We have low-volume, high-value data referenced frequently inside Vantage that has gone through traditional ETL processes to ensure quality, ease of analysis, and performance.  \n",
    "</p>\n",
    "<p style = 'font-size:16px;font-family:Arial;color:#00233C'>In this demonstration, we will use the structured data inside Vantage to narrow down a problem, then go out to the cloud storage to define a view that shreds a subset of that data so we can join both data sets in a single query to solve our business issue.  A description of the tables involved in this demo is at the end of this notebook.\n",
    "</p>\n",
    "\n",
    "\n",
    "\n",
    "<p style = 'font-size:18px;font-family:Arial;color:#00233C'><b>Steps in the analysis:</b></p>\n",
    "<ol style = 'font-size:16px;font-family:Arial;color:#00233C'>\n",
    "    <li>Initiate a connection to Vantage</li>    \n",
    "    <li>Narrow down to root cause</li>\n",
    "        <ul>\n",
    "            <li>2.1 Were the defects based on the dealers?</li>\n",
    "            <li>2.2 Were the defects based on the model of the cars?</li>\n",
    "            <li>2.3 Were the defects based on the assembly plants?</li>\n",
    "            <li>2.4 Were the defects based on the battery cells?</li>\n",
    "            <li>2.5 Were the defects based on the lot numbers?</li>\n",
    "        </ul>\n",
    "    <li>Analysis of Test reports from Data Lake</li>\n",
    "        <ul>\n",
    "            <li>3.1 Create a foreign table to access the JSON data from Amazon S3</li>\n",
    "            <li>3.2 Access and join the JSON manufacturing test data natively in Vantage</li>\n",
    "        </ul>\n",
    "    <li>Clean-up</li>\n",
    "</ol>"
   ]
  },
  {
   "cell_type": "markdown",
   "id": "8eeb9afa-f8dd-41a5-b333-0624f7b0be68",
   "metadata": {},
   "source": [
    "<hr style=\"height:2px;border:none;background-color:#00233C;\">\n",
    "<b style = 'font-size:20px;font-family:Arial;color:#00233C'>1. Configuring the Environment</b>"
   ]
  },
  {
   "cell_type": "markdown",
   "id": "b1d67d67-68be-47ac-9f25-aa0abb4e1d36",
   "metadata": {},
   "source": [
    "<p style = 'font-size:18px;font-family:Arial;color:#00233C'><b>Installing some dependencies</b>"
   ]
  },
  {
   "cell_type": "code",
   "execution_count": null,
   "id": "b3808423-895d-4ee9-8e05-46ba260a738c",
   "metadata": {},
   "outputs": [],
   "source": [
    "%%capture\n",
    "!pip install --upgrade teradataml"
   ]
  },
  {
   "cell_type": "markdown",
   "id": "6faa3c99-8d69-45da-b172-634997cce819",
   "metadata": {},
   "source": [
    "<div class=\"alert alert-block alert-info\">\n",
    "<p style = 'font-size:16px;font-family:Arial;color:#00233C'><b>Note: </b><i>The above statements may need to be uncommented if you run the notebooks on a platform other than ClearScape Analytics Experience that does not have the libraries installed. If you uncomment those installs, be sure to restart the kernel after executing those lines to bring the installed libraries into memory. The simplest way to restart the Kernel is by typing zero zero: <b> 0 0</b></i></p>\n",
    "</div>\n",
    "<p style = 'font-size:16px;font-family:Arial;color:#00233C'>Here, we import the required libraries, set environment variables and environment paths (if required).</p>"
   ]
  },
  {
   "cell_type": "code",
   "execution_count": null,
   "id": "a2a0fc2c-54e7-4072-a012-d3cb87491528",
   "metadata": {},
   "outputs": [],
   "source": [
    "import pandas as pd\n",
    "import getpass\n",
    "from teradataml import *\n",
    "import plotly.express as px\n",
    "\n",
    "pd.set_option('display.max_colwidth', None)\n",
    "\n",
    "import warnings\n",
    "warnings.filterwarnings('ignore')"
   ]
  },
  {
   "cell_type": "markdown",
   "id": "cbb68a0f-81c6-4525-9ca9-397eba79ab10",
   "metadata": {},
   "source": [
    "<hr style=\"height:2px;border:none;background-color:#00233C;\">\n",
    "<b style = 'font-size:20px;font-family:Arial;color:#00233C'>2. Connect to Vantage</b>\n",
    "<p style = 'font-size:16px;font-family:Arial;color:#00233C'>We will be prompted to provide the password. We will enter the password, press the Enter key, and then use the down arrow to go to the next cell.</p>"
   ]
  },
  {
   "cell_type": "code",
   "execution_count": null,
   "id": "22e4ffe2-6ff9-445a-9345-3cb79cf46809",
   "metadata": {},
   "outputs": [],
   "source": [
    "%run -i ../startup.ipynb\n",
    "eng = create_context(host = 'host.docker.internal', username='demo_user', password = password)\n",
    "print(eng)"
   ]
  },
  {
   "cell_type": "code",
   "execution_count": null,
   "id": "afbd41ea-0cd2-40c1-9237-563ae35277f5",
   "metadata": {},
   "outputs": [],
   "source": [
    "%%capture\n",
    "execute_sql('''SET query_band='DEMO=ManufacturingDefects.ipynb;' UPDATE FOR SESSION; ''')"
   ]
  },
  {
   "cell_type": "markdown",
   "id": "398e6805-d535-4c2e-9989-e6600043852d",
   "metadata": {},
   "source": [
    "<p style = 'font-size:16px;font-family:Arial;color:#00233C'>We begin running steps with Shift + Enter keys. </p>"
   ]
  },
  {
   "cell_type": "markdown",
   "id": "78494b83-a1ce-40a1-adfb-2782117b2ce9",
   "metadata": {},
   "source": [
    "<p style = 'font-size:20px;font-family:Arial;color:#00233C'><b>Getting Data for This Demo</b></p>\n",
    "<p style = 'font-size:16px;font-family:Arial;color:#00233C'>We have provided data for this demo on cloud storage. We have the option of either running the demo using foreign tables to access the data without using any storage on our environment or downloading the data to local storage, which may yield somewhat faster execution. However, we need to consider available storage. There are two statements in the following cell, and one is commented out. We may switch which mode we choose by changing the comment string.</p>"
   ]
  },
  {
   "cell_type": "code",
   "execution_count": null,
   "id": "8d389b95-be2f-4cf5-9ad8-7f644cf1db21",
   "metadata": {},
   "outputs": [],
   "source": [
    "# %run -i ../run_procedure.py \"call get_data('DEMO_EVCarBattery_cloud');\"        # Takes 15 seconds\n",
    "%run -i ../run_procedure.py \"call get_data('DEMO_EVCarBattery_local');\"        # Takes 4 minutes"
   ]
  },
  {
   "cell_type": "markdown",
   "id": "8a85643d-f265-474f-bee5-21e82227f5fc",
   "metadata": {},
   "source": [
    "<p style = 'font-size:16px;font-family:Arial;color:#00233C'>Optional step – We should execute the below step only if we want to see the status of databases/tables created and space used.</p>"
   ]
  },
  {
   "cell_type": "code",
   "execution_count": null,
   "id": "561ac9e9-c79a-4d7d-81fa-0c516dae57ac",
   "metadata": {},
   "outputs": [],
   "source": [
    "%run -i ../run_procedure.py \"call space_report();\"        # Takes 10 seconds"
   ]
  },
  {
   "cell_type": "markdown",
   "id": "5867b7de-4f15-438a-82f5-4ecd94ab168a",
   "metadata": {},
   "source": [
    "<hr style=\"height:2px;border:none;background-color:#00233C;\">\n",
    "<b style = 'font-size:20px;font-family:Arial;color:#00233C'>3. Narrow down the root cause</b>"
   ]
  },
  {
   "cell_type": "markdown",
   "id": "fe5aac93-2eee-4f18-b2f8-1bca6906b806",
   "metadata": {},
   "source": [
    "<p style = 'font-size:16px;font-family:Arial;color:#00233C'>In this section, we will investigate the source of defective batteries. We’ll address questions such as whether we have installed bad batteries in a specific model and whether cars with faulty batteries are sold by a particular dealer.</p>"
   ]
  },
  {
   "cell_type": "code",
   "execution_count": null,
   "id": "991b35ee-6653-4054-916b-0770506eeb1a",
   "metadata": {},
   "outputs": [],
   "source": [
    "dealers = DataFrame(in_schema('DEMO_EVCarBattery', 'dealers'))\n",
    "bad_batteries = DataFrame(in_schema('DEMO_EVCarBattery', 'bad_batteries'))\n",
    "vehicles = DataFrame(in_schema('DEMO_EVCarBattery', 'vehicles'))\n",
    "mfg_plants = DataFrame(in_schema('DEMO_EVCarBattery', 'mfg_plants'))\n",
    "bom = DataFrame(in_schema('DEMO_EVCarBattery', 'bom'))\n",
    "parts = DataFrame(in_schema('DEMO_EVCarBattery', 'parts'))"
   ]
  },
  {
   "cell_type": "markdown",
   "id": "demanding-payday",
   "metadata": {},
   "source": [
    "<hr style=\"height:1px;border:none;background-color:#00233C;\">\n",
    "<p style = 'font-size:18px;font-family:Arial;color:#00233C'><b>3.1 Were the defects based on the dealers?</b></p>\n",
    "<p style = 'font-size:16px;font-family:Arial;color:#00233C'>Is any specific dealer the cause for the increased warranties?</p>"
   ]
  },
  {
   "cell_type": "code",
   "execution_count": null,
   "id": "981b4a9f-b6c1-46f4-a4bf-12698663dd02",
   "metadata": {},
   "outputs": [],
   "source": [
    "res = vehicles.join(bad_batteries, how='inner', on='vin', lprefix='v', rprefix='bb')\\\n",
    "    .join(dealers, how='inner', on=['dealer_id=id'], lprefix='t', rprefix='d')\\\n",
    "    .select(['Company', 'customer_id'])\\\n",
    "    .groupby('Company')\\\n",
    "    .count()\n",
    "\n",
    "res = res.to_pandas()\n",
    "\n",
    "fig = px.pie(\n",
    "    data_frame=res,\n",
    "    values='count_customer_id',\n",
    "    names='Company',\n",
    "    title='Proportion of bad battery warranty claims by dealers'\n",
    ")\n",
    "\n",
    "fig.show()"
   ]
  },
  {
   "cell_type": "markdown",
   "id": "general-seafood",
   "metadata": {},
   "source": [
    "<p style = 'font-size:16px;font-family:Arial;color:#00233C'>Warranty claims for cars with defective batteries are from all dealers equally. So dealers are not the culprits here. The issue is in the earlier stages of the manufacturing pipeline.</p>"
   ]
  },
  {
   "cell_type": "markdown",
   "id": "cheap-adventure",
   "metadata": {},
   "source": [
    "<hr style=\"height:1px;border:none;background-color:#00233C;\">\n",
    "<p style = 'font-size:18px;font-family:Arial;color:#00233C'><b>3.2 Were the defects based on the model of the cars?</b></p>\n",
    "<p style = 'font-size:16px;font-family:Arial;color:#00233C'>Is any specific model of car been installed with defective batteries? We use the same set of battery parts in several different models across our product line.</p>"
   ]
  },
  {
   "cell_type": "code",
   "execution_count": null,
   "id": "fd595140-e7f6-4c2b-aa4c-68f7a5b386ff",
   "metadata": {},
   "outputs": [],
   "source": [
    "res = vehicles.join(bad_batteries, how='inner', on='vin', lprefix='v', rprefix='bb')\\\n",
    "    .select(['model', 'customer_id'])\\\n",
    "    .groupby('model')\\\n",
    "    .count()\n",
    "\n",
    "res = res.to_pandas()\n",
    "\n",
    "fig = px.pie(\n",
    "    data_frame=res,\n",
    "    values='count_customer_id',\n",
    "    names='model',\n",
    "    title='Proportion of bad battery warranty claims by dealers vehicle model'\n",
    ")\n",
    "fig.show()"
   ]
  },
  {
   "cell_type": "markdown",
   "id": "elder-yacht",
   "metadata": {},
   "source": [
    "<p style = 'font-size:16px;font-family:Arial;color:#00233C'>Warranty claims for cars with defective batteries are from all models almost equally. So car models are not the culprits here. The issue is in the earlier stages of the manufacturing pipeline.</p>"
   ]
  },
  {
   "cell_type": "markdown",
   "id": "wanted-worker",
   "metadata": {},
   "source": [
    "<hr style=\"height:1px;border:none;background-color:#00233C;\">\n",
    "<p style = 'font-size:18px;font-family:Arial;color:#00233C'><b>3.3 Were the defects based on the assembly plants?</b></p>\n",
    "<p style = 'font-size:16px;font-family:Arial;color:#00233C'>Is any specific manufacturing plant installing the defective batteries in the cars?</p>"
   ]
  },
  {
   "cell_type": "code",
   "execution_count": null,
   "id": "306d6a57-0ba4-44e1-be8d-6ad047cf1b23",
   "metadata": {},
   "outputs": [],
   "source": [
    "res = vehicles.join(bad_batteries, how='inner', on='vin', lprefix='v', rprefix='bb')\\\n",
    "    .join(mfg_plants, how='inner', on=['mfg_plant_id=id'], lprefix='t', rprefix='mfg')\\\n",
    "    .select(['Company', 'customer_id'])\\\n",
    "    .groupby('Company')\\\n",
    "    .count()\n",
    "\n",
    "res = res.to_pandas()\n",
    "\n",
    "fig = px.pie(\n",
    "    data_frame=res,\n",
    "    values='count_customer_id',\n",
    "    names='Company',\n",
    "    title='Proportion of bad battery warranty claims by manufacturing plant'\n",
    ")\n",
    "\n",
    "fig.show()"
   ]
  },
  {
   "cell_type": "markdown",
   "id": "polish-pantyhose",
   "metadata": {},
   "source": [
    "<p style = 'font-size:16px;font-family:Arial;color:#00233C'>A whopping 81.4% of warranty claims for defective batteries are from a single manufacturing plant, i.e. Jackson Plant. We have found the culprit here!</p>"
   ]
  },
  {
   "cell_type": "markdown",
   "id": "previous-teddy",
   "metadata": {},
   "source": [
    "<hr style=\"height:1px;border:none;background-color:#00233C;\">\n",
    "<p style = 'font-size:18px;font-family:Arial;color:#00233C'><b>3.4 Were the defects based on the battery cell?</b></p>\n",
    "<p style = 'font-size:16px;font-family:Arial;color:#00233C'>Although we have found the manufacturing plant that installed the most defective batteries, it still makes sense to dig deeper and go into finer details. Let's find out what battery cells(type of battery) are installed in cars with bad batteries:</p>"
   ]
  },
  {
   "cell_type": "code",
   "execution_count": null,
   "id": "81f0b0ee-a07e-43b9-8bd4-0952ff0902f9",
   "metadata": {},
   "outputs": [],
   "source": [
    "res = bom.join(bad_batteries, how='inner', on='vin', lprefix='bom', rprefix='bb')\\\n",
    "    .join(parts, how='inner', on='part_no', lprefix='t', rprefix='p')\\\n",
    "    .select(['id', 'p_part_no', 'description'])\\\n",
    "    .groupby(['p_part_no', 'description'])\\\n",
    "    .count()\n",
    "\n",
    "res = res[res.description.like('Battery Cell%')].to_pandas()\n",
    "\n",
    "fig = px.pie(\n",
    "    data_frame=res,\n",
    "    values='count_id',\n",
    "    names='p_part_no',\n",
    "    title='Proportion of bad battery warranty claims by battery cell'\n",
    ")\n",
    "\n",
    "fig.show()"
   ]
  },
  {
   "cell_type": "markdown",
   "id": "suffering-practitioner",
   "metadata": {},
   "source": [
    "<p style = 'font-size:16px;font-family:Arial;color:#00233C'>Ok, we have an issue with part_no '20rd0'! This part(type of EV battery) has led to a majority of warranty claims for bad batteries.</p>"
   ]
  },
  {
   "cell_type": "markdown",
   "id": "informative-weekend",
   "metadata": {},
   "source": [
    "<hr style=\"height:1px;border:none;background-color:#00233C;\">\n",
    "<p style = 'font-size:18px;font-family:Arial;color:#00233C'><b>3.5 Were the defects based on the lot numbers?</b></p>\n",
    "<p style = 'font-size:16px;font-family:Arial;color:#00233C'>In the previous step, we found the exact part that was the cause of the bad batteries. But are all the batteries with part_no '20rd0' faulty or is there any correlation with the lot number? In simple terms, were there any specific lot(s) which produced faulty batteries? We store detailed manufacturing data in our integrated data warehouse. Let us use that to perform the analysis.</p>"
   ]
  },
  {
   "cell_type": "code",
   "execution_count": null,
   "id": "4f9c1b4d-441e-45d2-a777-3e05540eef5c",
   "metadata": {},
   "outputs": [],
   "source": [
    "res = bom.join(bad_batteries, how='inner', on='vin', lprefix='bom', rprefix='bb')\\\n",
    "    .join(parts, how='inner', on='part_no', lprefix='t', rprefix='p')\\\n",
    "    .select(['id', 'p_part_no', 'description', 'lot_no'])\\\n",
    "    .groupby(['p_part_no', 'lot_no', 'description'])\\\n",
    "    .count()\n",
    "\n",
    "res[res.description.like('Battery Cell%')].sort('count_id', ascending = False)"
   ]
  },
  {
   "cell_type": "markdown",
   "id": "under-height",
   "metadata": {},
   "source": [
    "<p style = 'font-size:16px;font-family:Arial;color:#00233C'>Ok, now we know the underlying issue with part_no '20rd0' - the majority of the failures are from battery lot '4102' (which turns out to have been delivered to the Jackson Plant) has a considerable number of faulty batteries that are driving our warranty replacements.\n",
    "<br>\n",
    "<br>\n",
    "Great! So we found out the root cause for the increased warranty claims for faulty batteries. Could we do more to give some actionable insights?</p>"
   ]
  },
  {
   "cell_type": "markdown",
   "id": "a6bb1771-ad69-4600-827a-de781632204d",
   "metadata": {},
   "source": [
    "<hr style=\"height:2px;border:none;background-color:#00233C;\">\n",
    "<b style = 'font-size:20px;font-family:Arial;color:#00233C'>4. Analysis of Test reports from Data Lake</b>"
   ]
  },
  {
   "cell_type": "markdown",
   "id": "0547a00a-30a0-4fd9-8636-e672f4f99949",
   "metadata": {},
   "source": [
    "<p style = 'font-size:16px;font-family:Arial;color:#00233C'>Taking this analysis even further, we want to understand how we can detect bad batteries before they end up in our customers' cars. This will help us avoid expensive warranty repair cycles and poor customer satisfaction in the future. When the cars are manufactured, we store detailed test reports for the various parts and subsystems that comprise the vehicle. These are voluminous semi-structured data and are loaded directly into our Data Lake, which is housed in an object store(AWS S3).\n",
    "<br>\n",
    "<br>\n",
    "Using <b>Teradata Vantage</b> we can <b>natively</b> pull in this data and use it for our analysis!</p>\n",
    "<hr style=\"height:1px;border:none;background-color:#00233C;\">\n",
    "<p style = 'font-size:18px;font-family:Arial;color:#00233C'><b>4.1 Create a foreign table to access the JSON data from Amazon S3</b></p>"
   ]
  },
  {
   "cell_type": "code",
   "execution_count": null,
   "id": "boxed-broadway",
   "metadata": {},
   "outputs": [],
   "source": [
    "%%capture\n",
    "query = '''\n",
    "CREATE FOREIGN TABLE test_reports\n",
    "(\n",
    "    Location VARCHAR(2048) CHARACTER SET UNICODE CASESPECIFIC,\n",
    "    payload JSON(16776192) INLINE LENGTH 64000 CHARACTER SET LATIN)\n",
    "USING (\n",
    "    Location ('/s3/s3.amazonaws.com/trial-datasets/EVCarBattery')\n",
    "), NO PRIMARY INDEX;\n",
    "'''\n",
    "\n",
    "execute_sql(query)"
   ]
  },
  {
   "cell_type": "code",
   "execution_count": null,
   "id": "1ead32b6-1988-4384-b7d7-77845e4fc3a9",
   "metadata": {},
   "outputs": [],
   "source": [
    "DataFrame('test_reports').sample(n=2)"
   ]
  },
  {
   "cell_type": "markdown",
   "id": "interested-projector",
   "metadata": {},
   "source": [
    "<p style = 'font-size:16px;font-family:Arial;color:#00233C'>The above data dump is not readable and hence let us put a user-friendly view on top of the foreign table to shred the files and make the test report data easier to access:</p>"
   ]
  },
  {
   "cell_type": "code",
   "execution_count": null,
   "id": "95b34ab0-729d-440e-bfbf-db6e49e7845b",
   "metadata": {},
   "outputs": [],
   "source": [
    "%%capture\n",
    "query = '''\n",
    "REPLACE VIEW test_reports_v AS\n",
    "(\n",
    "    SELECT tr.part_no, tr.lot_no, test_report,\n",
    "    tr.test_report.\"Rated Capacity\" AS rated_capacity,\n",
    "    tr.test_report.\"Static Capacity Test\".\"Measured Average Capacity\" AS measured_capacity\n",
    "    FROM (SELECT\n",
    "        vin,\n",
    "        part_no,\n",
    "        lot_no,\n",
    "        CAST(test_report AS JSON) test_report\n",
    "    FROM TD_JSONSHRED(\n",
    "        ON (SELECT payload.vin as vin, payload FROM test_reports)\n",
    "                USING\n",
    "                ROWEXPR('parts')\n",
    "                COLEXPR('part_no', 'lot_no', 'test_report') \n",
    "                RETURNTYPES('VARCHAR(17)', 'VARCHAR(1000)', 'VARCHAR(10000)')\n",
    "    ) AS d1 (vin, part_no, lot_no, test_report)) tr\n",
    ")\n",
    "'''\n",
    "\n",
    "execute_sql(query)"
   ]
  },
  {
   "cell_type": "code",
   "execution_count": null,
   "id": "17ebbf17-656f-4fc7-9458-d2c1663d8489",
   "metadata": {
    "tags": []
   },
   "outputs": [],
   "source": [
    "test_reports = DataFrame('test_reports_v')\n",
    "test_reports"
   ]
  },
  {
   "cell_type": "markdown",
   "id": "enhanced-thirty",
   "metadata": {},
   "source": [
    "<p style = 'font-size:16px;font-family:Arial;color:#00233C'>So now we have test reports for parts of each vehicle. Batteries have detailed test reports rather than just pass/fail. Can we use this data to provide any valuable insights?</p>"
   ]
  },
  {
   "cell_type": "markdown",
   "id": "chief-canyon",
   "metadata": {},
   "source": [
    "<hr style=\"height:1px;border:none;background-color:#00233C;\">\n",
    "<p style = 'font-size:18px;font-family:Arial;color:#00233C'><b>4.2 Access and join the JSON manufacturing test data natively in Vantage</b></p>\n",
    "<p style = 'font-size:16px;font-family:Arial;color:#00233C'>Various parts will have different data that gets reported when testing. The test report for the battery has detailed data on its performance after assembling but before fitting it into the vehicle.</p>\n",
    "<p style = 'font-size:16px;font-family:Arial;color:#00233C'>We want to compare the rated and measured capacities along with part/lot numbers for just the batteries - we can easily drill into the JSON data using simple dot notation to access the test results we need.</p>"
   ]
  },
  {
   "cell_type": "code",
   "execution_count": null,
   "id": "514b9bf2-8113-4793-ae66-eb5b1b8960e5",
   "metadata": {},
   "outputs": [],
   "source": [
    "res = test_reports.join(parts, how='inner', on='part_no', lprefix='tr', rprefix='p')\\\n",
    "    .select(['p_part_no', 'description', 'lot_no', 'rated_capacity', 'measured_capacity'])\n",
    "\n",
    "res = res[res.description.like('Battery Cell%')].to_pandas(all_rows = True)\n",
    "res['measured_capacity'] = round(res['measured_capacity'].astype('float'), 2)"
   ]
  },
  {
   "cell_type": "code",
   "execution_count": null,
   "id": "b99094b2-1290-40f9-8dc2-1d5d23239e86",
   "metadata": {},
   "outputs": [],
   "source": [
    "fig = px.violin(res, y = \"measured_capacity\", color = \"lot_no\")\n",
    "fig.add_hline(y = 6.9)\n",
    "fig.add_hline(y = 6.0)\n",
    "fig.show()"
   ]
  },
  {
   "cell_type": "markdown",
   "id": "faced-pantyhose",
   "metadata": {},
   "source": [
    "<p style = 'font-size:16px;font-family:Arial;color:#00233C'>Above graph illustrates the distribution of the measured battery capacity, grouped by lot numbers. Each line (as it appears) represents a violin plot. Feel free to zoom in for a clearer view. Violin plots display the probability density of the data, specifically the measured capacity data per lot. Hover over each violin plot to view details such as minimum, maximum, median, and quantiles.\n",
    "<br>\n",
    "<br>\n",
    "One observation is the pink plot which goes below the lower threshold. This plot is for <b>lot_no 4102</b>. Looking closely, we see that the violin plot for lot_no 4102 is inclined towards the bottom. The next graph shows the violin plot for lot_no 4102 explicitly.</p>"
   ]
  },
  {
   "cell_type": "code",
   "execution_count": null,
   "id": "interested-police",
   "metadata": {},
   "outputs": [],
   "source": [
    "warnings.filterwarnings('ignore')\n",
    "\n",
    "fig = px.violin(res[res.lot_no == '4102'], y=\"measured_capacity\", color = \"lot_no\", points='all')\n",
    "fig.add_hline(y = 6.9)\n",
    "fig.add_hline(y = 6.5)\n",
    "fig.add_hline(y = 6.0)\n",
    "fig.show()"
   ]
  },
  {
   "cell_type": "markdown",
   "id": "associate-needle",
   "metadata": {},
   "source": [
    "<p style = 'font-size:16px;font-family:Arial;color:#00233C'>These battery packs(lot_no = 4102) are within the specification, but the range is much lower than the other battery lots. A significant amount of batteries are concentrated in the lower part of the graph, i.e. with lower measured capacity than what is rated for this lot(6.5).</p>\n",
    "\n",
    "<p style = 'font-size:16px;font-family:Arial;color:#00233C'><b>Insights:</b></p>\n",
    "<ol style = 'font-size:16px;font-family:Arial'>\n",
    "    <li>Test reports need to be proactively monitored in order to avoid installing faulty batteries</li>\n",
    "    <li>Tighten up the acceptance criteria of batteries</li>\n",
    "</ol>\n",
    "<p style = 'font-size:16px;font-family:Arial;color:#00233C'>These initiatives will increase product quality and make sure this doesn't happen again!</p>"
   ]
  },
  {
   "cell_type": "markdown",
   "id": "7cd358e1-45ba-43fd-9f9d-115d265c24a2",
   "metadata": {},
   "source": [
    "<hr style=\"height:2px;border:none;background-color:#00233C;\">\n",
    "<b style = 'font-size:20px;font-family:Arial;color:#00233C'>5. Cleanup</b>"
   ]
  },
  {
   "cell_type": "markdown",
   "id": "47cc5b3e-f61f-4db4-b30f-971de2fb73b7",
   "metadata": {},
   "source": [
    "<p style = 'font-size:18px;font-family:Arial;color:#00233C'><b>Work Tables/Views</b></p>\n",
    "<p style = 'font-size:16px;font-family:Arial;color:#00233C'>We need to clean up our work tables/views to prevent errors next time.</p>"
   ]
  },
  {
   "cell_type": "code",
   "execution_count": null,
   "id": "83cb90ed-a73d-4c7f-b0f7-0f30a6aa807b",
   "metadata": {
    "tags": []
   },
   "outputs": [],
   "source": [
    "db_drop_view(view_name='test_reports_v')"
   ]
  },
  {
   "cell_type": "code",
   "execution_count": null,
   "id": "2c788c4e-b7ce-47e2-b6d7-ae8ee2daf396",
   "metadata": {
    "tags": []
   },
   "outputs": [],
   "source": [
    "db_drop_table(table_name='test_reports')"
   ]
  },
  {
   "cell_type": "markdown",
   "id": "214801d4-dbd4-44cf-b0c5-deda582b7fb1",
   "metadata": {},
   "source": [
    "<p style = 'font-size:18px;font-family:Arial;color:#00233C'> <b>Databases and Tables </b></p>\n",
    "<p style = 'font-size:16px;font-family:Arial;color:#00233C'>We will use the following code to clean up tables and databases created for this demonstration.</p>"
   ]
  },
  {
   "cell_type": "code",
   "execution_count": null,
   "id": "3e014aed-020c-4b45-8ea3-1eae9fccc54c",
   "metadata": {},
   "outputs": [],
   "source": [
    "%run -i ../run_procedure.py \"call remove_data('DEMO_EVCarBattery');\"        # Takes 5 seconds"
   ]
  },
  {
   "cell_type": "code",
   "execution_count": null,
   "id": "587dede0-680e-4e98-9b2d-64788a38e753",
   "metadata": {},
   "outputs": [],
   "source": [
    "remove_context()"
   ]
  },
  {
   "cell_type": "markdown",
   "id": "6353b9cf-78a5-41a1-a1eb-3260aea12ddf",
   "metadata": {},
   "source": [
    "<hr style=\"height:2px;border:none;background-color:#00233C;\">\n",
    "\n",
    "<b style = 'font-size:20px;font-family:Arial;color:#00233C'>Required Materials</b>\n",
    "<p style = 'font-size:16px;font-family:Arial;color:#00233C'>Let’s look at the elements we have available for reference for this notebook:</p>\n",
    "\n",
    "<p style = 'font-size:18px;font-family:Arial;color:#00233C'><b>Filters:</b></p>\n",
    "<ul style = 'font-size:16px;font-family:Arial;color:#00233C'>\n",
    "    <li><b>Industry:</b> Manufacturing</li>\n",
    "    <li><b>Functionality:</b> Data Analysis</li>\n",
    "    <li><b>Use Case:</b> Defect Analysis</li>\n",
    "</ul>\n",
    "\n",
    "<b style = 'font-size:20px;font-family:Arial;color:#00233C'>Dataset:</b>\n",
    "\n",
    "<b><i>bom</i></b> - Bill of materials - contains all major parts that make up each vehicle:\n",
    "<ul>\n",
    "    <li><code>id</code>: unique identifier</li>\n",
    "    <li><code>vin</code>: vehicle identification number</li>\n",
    "    <li><code>part_no</code>: part number</li>\n",
    "    <li><code>vendor_id</code>: vendor the part was produced by (unused)</li>\n",
    "    <li><code>lot_no</code>: lot number from the vendor</li>\n",
    "    <li><code>quantity</code>: how many of this part are in the vehicle</li>\n",
    "</ul>\n",
    "\n",
    "<b><i>dealers</i></b> - Vehicle sales and distributors:\n",
    "<ul>\n",
    "    <li><code>id</code>: unique identifier</li>\n",
    "    <li><code>Company</code>: company name</li>\n",
    "    <li><code>StreetAddress</code>: street address</li>\n",
    "    <li><code>City</code>: city</li>\n",
    "    <li><code>State</code>: state</li>\n",
    "    <li><code>ZipCode</code>: postcode</li>\n",
    "    <li><code>Country</code>: country</li>\n",
    "    <li><code>EmailAddress</code>: main email address</li>\n",
    "    <li><code>TelephoneNumber</code>: telephone number</li>\n",
    "    <li><code>DomainName</code>: URL for company website</li>\n",
    "    <li><code>Latitude</code>: latitude (location)</li>\n",
    "    <li><code>Longitude</code>: longitude (location)</li>\n",
    "</ul>\n",
    "\n",
    "<b><i>mfg_plants</i></b> - Manufacturing facilities:\n",
    "<ul>\n",
    "    <li><code>id</code>: unique identifier</li>\n",
    "    <li><code>Company</code>: facility name</li>\n",
    "    <li><code>StreetAddress</code>: street address</li>\n",
    "    <li><code>City</code>: city</li>\n",
    "    <li><code>State</code>: state</li>\n",
    "    <li><code>ZipCode</code>: postcode</li>\n",
    "    <li><code>Country</code>: country</li>\n",
    "    <li><code>EmailAddress</code>: main email address</li>\n",
    "    <li><code>TelephoneNumber</code>: telephone number</li>\n",
    "    <li><code>DomainName</code>: URL for plant website</li>\n",
    "    <li><code>Latitude</code>: latitude (location)</li>\n",
    "    <li><code>Longitude</code>: longitude (location)</li>\n",
    "</ul>\n",
    "\n",
    "<b><i>parts</i></b> - Master list of parts for all vehicles:\n",
    "<ul>\n",
    "    <li><code>part_no</code>: unique part number</li>\n",
    "    <li><code>description</code>: part description</li>\n",
    "</ul>\n",
    "\n",
    "<b><i>vehicles</i></b> - Vehicles we have built/are building:\n",
    "<ul>\n",
    "    <li><code>vin</code>: unique identifier</li>\n",
    "    <li><code>yr</code>: model year</li>\n",
    "    <li><code>model</code>: vehicle model code</li>\n",
    "    <li><code>customer_id</code>: customer / purchaser</li>\n",
    "    <li><code>dealer_id</code>: dealer where vehicle was sold/delivered</li>\n",
    "    <li><code>mfg_plant_id</code>: plant the vehicle was assembled</li>\n",
    "</ul>"
   ]
  },
  {
   "cell_type": "markdown",
   "id": "perfect-proportion",
   "metadata": {},
   "source": [
    "<footer style=\"padding-bottom:35px; background:#f9f9f9; border-bottom:3px solid #00233C\">\n",
    "    <div style=\"float:left;margin-top:14px\">ClearScape Analytics™</div>\n",
    "    <div style=\"float:right;\">\n",
    "        <div style=\"float:left; margin-top:14px\">\n",
    "            Copyright © Teradata Corporation - 2023, 2024. All Rights Reserved\n",
    "        </div>\n",
    "    </div>\n",
    "</footer>"
   ]
  }
 ],
 "metadata": {
  "kernelspec": {
   "display_name": "Python 3 (ipykernel)",
   "language": "python",
   "name": "python3"
  },
  "language_info": {
   "codemirror_mode": {
    "name": "ipython",
    "version": 3
   },
   "file_extension": ".py",
   "mimetype": "text/x-python",
   "name": "python",
   "nbconvert_exporter": "python",
   "pygments_lexer": "ipython3",
   "version": "3.9.10"
  }
 },
 "nbformat": 4,
 "nbformat_minor": 5
}
