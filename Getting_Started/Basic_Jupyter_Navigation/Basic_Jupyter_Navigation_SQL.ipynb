{
 "cells": [
  {
   "cell_type": "markdown",
   "id": "8154dccb-1747-4184-ac2a-f1b7392824f6",
   "metadata": {},
   "source": [
    "<header>\n",
    "   <p  style='font-size:36px;font-family:Arial; color:#F0F0F0; background-color: #00233c; padding-left: 20pt; padding-top: 20pt;padding-bottom: 10pt; padding-right: 20pt;'>\n",
    "       Getting Started - Jupyter Basic Navigation\n",
    "  <br>\n",
    "       <img id=\"teradata-logo\" src=\"https://storage.googleapis.com/clearscape_analytics_demo_data/DEMO_Logo/teradata.svg\" alt=\"Teradata\" style=\"width: 125px; height: auto; margin-top: 20pt;\">\n",
    "    </p>\n",
    "</header>"
   ]
  },
  {
   "cell_type": "markdown",
   "id": "ea64295a",
   "metadata": {},
   "source": [
    "<p style = 'font-size:20px;font-family:Arial'><b>Introduction</b></p>\n",
    "<p style = 'font-size:16px;font-family:Arial'>Jupyter is an open source application that supports creating notebooks with cells containing documentation and instructions intermixed with queries. While Jupyter was originally created for Python, it is an open framework to which we have added Teradata modules to simplify the execution of queries. \n",
    "<br>\n",
    "<br>\n",
    "A Jupyter notebook consist of text describing what will happen on the next step and blocks of code. You press \"<b>Shift + Enter</b>\" to move from block to block, executing code as you go.  \n",
    "</p>"
   ]
  },
  {
   "cell_type": "markdown",
   "id": "26d580e5-751f-4d05-8627-7884666937f1",
   "metadata": {},
   "source": [
    "<p style='font-size:20px;font-family:Arial'><b>Jupyter User Interface</b></p>\n",
    "\n",
    "<p style = 'font-size:16px;font-family:Arial'>Below is a sample Jupyter screen. Steps in the image below:</p>\n",
    "\n",
    "<ul style='font-size:16px;font-family:Arial'>\n",
    "    <li><b>Step 1</b>: You may have multiple tabs open for different notebooks. One of those may be README.md which is an index by topic to the notebooks.</li>\n",
    "    <li><b>Step 2</b>: If not using the README.md index, at the left is a file navigator of all notebooks and files in the Jupyter notebook.</li>\n",
    "</ul>\n",
    "\n",
    "<img src='images/jupyter_window.jpg' alt='Jupyter Screen' />\n",
    "\n",
    "<ul style='font-size:16px;font-family:Arial'>\n",
    "    <li><b>Step 3:</b> The current step is marked with a blue line and an important set of brackets [ ] to indicate if the step has been executed. There are 3 possible conditions:\n",
    "        <ul>\n",
    "            <li>The following step hasn't been executed yet... the brackets are empty\n",
    "                <br>\n",
    "                <img src='images/not_run_step.jpg' alt='Not Run' />\n",
    "            </li>\n",
    "            <li>This step is currently executing since there is an * between the brackets\n",
    "                <br>\n",
    "                <img src='images/running_step.jpg' alt='Running' />\n",
    "            </li>\n",
    "            <li>This step has been executed, as in this example, it was the 1st step and there is an output window below it.\n",
    "                <br>\n",
    "                <img src='images/completed_step.jpg' alt='Completed' />\n",
    "            </li>\n",
    "        </ul>\n",
    "    </li>\n",
    "    <li><b>Step 4:</b> In the lower left of the screen indicates what software executes the command blocks and the status of that command processing. Example:\n",
    "        <br><code style='font-family: monospace;'>Teradata SQL | IDLE or Teradata SQL | Running</code>\n",
    "    </li>\n",
    "    <li><b>Step 5:</b> In the upper right corner is also an indication of the command processor and a circle that is empty when the processing is idle and filled in when processing is active.</li>\n",
    "</ul>"
   ]
  },
  {
   "cell_type": "markdown",
   "id": "anticipated-welding",
   "metadata": {},
   "source": [
    "<hr style='height:2px;border:none;'>\n",
    "<p style='font-size:18px;font-family:Arial;'><b>Connect to Vantage</b></p>\n",
    "<p style='font-size:16px;font-family:Arial'>\n",
    "Below is a simple command window to connect to a database. If the brackets <b>[ ]</b> indicate it has been run before, you can clear any output window (error or success message) by selecting \"<b>Kernel/Restart Kernel and Clear Outputs</b>\" at the top of the screen. If you've already connected, you may not get a password prompt, so select \"<b>Kernel/Restart Kernel and clear all outputs</b>\". You provide the password when you created your environment.\n",
    "</p>"
   ]
  },
  {
   "cell_type": "code",
   "execution_count": null,
   "id": "later-hunger",
   "metadata": {
    "vscode": {
     "languageId": "teradata sql"
    }
   },
   "outputs": [],
   "source": [
    "%connect local, hidewarnings=true"
   ]
  },
  {
   "cell_type": "markdown",
   "id": "138070c9-fe81-4bd3-93fe-5fdff930c8ad",
   "metadata": {},
   "source": [
    "<p style='font-size:16px;font-family:Arial'>\n",
    "    Cells that prompt for information may leave you on that cell. Once you have entered the password and pressed the <b>Enter</b> key, \n",
    "    you will need to mouse click on the next cell or use the <b>down arrow</b> and press <b>Enter</b> to continue. Then you can just press <b>Shift+Enter</b> to step through the queries.\n",
    "</p>"
   ]
  },
  {
   "cell_type": "code",
   "execution_count": null,
   "id": "7b0ef89b-8540-42a8-bc52-d6f6d388f487",
   "metadata": {
    "vscode": {
     "languageId": "teradata sql"
    }
   },
   "outputs": [],
   "source": [
    "SELECT current_timestamp;"
   ]
  },
  {
   "cell_type": "markdown",
   "id": "8fa0ce78-d9cc-49a1-a089-d925b13ca3ea",
   "metadata": {},
   "source": [
    "<p style='font-size:16px;font-family:Arial'>and then <b>Shift + Enter</b> for the next step.</p>"
   ]
  },
  {
   "cell_type": "code",
   "execution_count": null,
   "id": "12a963b9-2365-46a5-a969-9c3be25a148e",
   "metadata": {
    "vscode": {
     "languageId": "teradata sql"
    }
   },
   "outputs": [],
   "source": [
    "SELECT 2+2 AS I_can_add;"
   ]
  },
  {
   "cell_type": "markdown",
   "id": "05ed5f46-e896-4740-86d7-bc687d38cd6a",
   "metadata": {},
   "source": [
    "<p style='font-size:16px;font-family:Arial'>There are other \"Getting Started notebooks in the \"Getting Started\" directory that will dive deeper into using this demonstration environment.</p>"
   ]
  },
  {
   "cell_type": "markdown",
   "id": "b9ddbda0-99ab-46af-9754-7ac333cf5d5a",
   "metadata": {},
   "source": [
    "<footer style=\"padding-bottom:35px; border-bottom:3px solid #91A0Ab\">\n",
    "    <div style=\"float:left;margin-top:14px\">ClearScape Analytics™</div>\n",
    "    <div style=\"float:right;\">\n",
    "        <div style=\"float:left; margin-top:14px\">\n",
    "            Copyright © Teradata Corporation - 2023. All Rights Reserved\n",
    "        </div>\n",
    "    </div>\n",
    "</footer>"
   ]
  }
 ],
 "metadata": {
  "kernelspec": {
   "display_name": "Teradata SQL",
   "language": "Teradata SQL",
   "name": "teradatasql"
  },
  "language_info": {
   "codemirror_mode": "Teradata SQL",
   "file_extension": ".tdrs",
   "mimetype": "application/vnd.teradata.resultset",
   "name": "Teradata SQL",
   "nbconvert_exporter": "",
   "pygments_lexer": "",
   "version": "16.20"
  }
 },
 "nbformat": 4,
 "nbformat_minor": 5
}
