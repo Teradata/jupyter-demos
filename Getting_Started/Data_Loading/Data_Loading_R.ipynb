{
 "cells": [
  {
   "cell_type": "markdown",
   "id": "a4e39bcc-d920-4702-a10f-c91e891f3a41",
   "metadata": {},
   "source": [
    "<header>\n",
    "   <p  style='font-size:36px;font-family:Arial; color:#F0F0F0; background-color: #00233c; padding-left: 20pt; padding-top: 20pt;padding-bottom: 10pt; padding-right: 20pt;'>\n",
    "       Load data to Vantage in R\n",
    "  <br>\n",
    "       <img id=\"teradata-logo\" src=\"https://storage.googleapis.com/clearscape_analytics_demo_data/DEMO_Logo/teradata.svg\" alt=\"Teradata\" style=\"width: 125px; height: auto; margin-top: 20pt;\">\n",
    "    </p>\n",
    "</header>"
   ]
  },
  {
   "cell_type": "markdown",
   "id": "167af906-3de1-48c6-aa22-9aacfb92f426",
   "metadata": {},
   "source": [
    "<p style = 'font-size:20px;font-family:Arial'><b>Introduction:</b></p>\n",
    "<p style = 'font-size:16px;font-family:Arial'>Welcome to this introductory guide. This guide will walk you through steps are needed to load data in Teradata using R.</p>"
   ]
  },
  {
   "cell_type": "markdown",
   "id": "7ae89b75-0e01-4e7d-bd46-4e6527ec37b8",
   "metadata": {},
   "source": [
    "<hr style=\"height:2px;border:none;\">\n",
    "<b style = 'font-size:20px;font-family:Arial'>1. Configuring the Environment</b>\n",
    "<p style = 'font-size:16px;font-family:Arial'>Here, we import the required libraries, set environment variables and environment paths (if required).</p>"
   ]
  },
  {
   "cell_type": "code",
   "execution_count": null,
   "id": "337c4b4b-304a-451b-a190-f0e1a3b9cb1c",
   "metadata": {},
   "outputs": [],
   "source": [
    "suppressMessages({\n",
    "    library(tdplyr, quietly = T)\n",
    "    library(dbplyr, quietly = T)\n",
    "    library(dplyr, quietly = T)\n",
    "    library(DBI, quietly = T)\n",
    "    require(readr, quietly = T)\n",
    "})"
   ]
  },
  {
   "cell_type": "markdown",
   "id": "ff362808-4c97-4f3a-b3e5-c1e7e03b7273",
   "metadata": {},
   "source": [
    "<hr style=\"height:2px;border:none;\">\n",
    "<b style = 'font-size:20px;font-family:Arial'>2. Connect to Vantage</b>\n",
    "<p style = 'font-size:16px;font-family:Arial'>You will be prompted to provide the password. Enter your password, press Enter, then use down arrow to go to next cell.</p>"
   ]
  },
  {
   "cell_type": "code",
   "execution_count": null,
   "id": "eea8d4bf-ef1d-4c19-92c0-c39e7355a27f",
   "metadata": {},
   "outputs": [],
   "source": [
    "td_create_context(\n",
    "    host = 'host.docker.internal',\n",
    "    uid = \"demo_user\",\n",
    "    pwd = getPass(\"Enter your password: \"),\n",
    "    dType = \"NATIVE\",\n",
    "    logmech = \"TD2\"\n",
    ")"
   ]
  },
  {
   "cell_type": "code",
   "execution_count": null,
   "id": "e521a59c-22a6-49f4-b595-a2bedbbe037c",
   "metadata": {},
   "outputs": [],
   "source": [
    "eng = td_get_context()$connection\n",
    "eng"
   ]
  },
  {
   "cell_type": "code",
   "execution_count": null,
   "id": "397ab263-f861-4552-9324-02caa4ef110c",
   "metadata": {},
   "outputs": [],
   "source": [
    "dbExecute(eng, \"SET query_band='DEMO=PP_Data_Loading_R.ipynb;' UPDATE FOR SESSION;\") "
   ]
  },
  {
   "cell_type": "code",
   "execution_count": null,
   "id": "69553032-1594-4779-9ce1-a067669bab13",
   "metadata": {},
   "outputs": [],
   "source": [
    "# display_analytic_functions()"
   ]
  },
  {
   "cell_type": "markdown",
   "id": "47954dcd-f8b8-4d48-b1e4-df756edcf3f9",
   "metadata": {},
   "source": [
    "<hr style='height:2px;border:none;'>\n",
    "<p style = 'font-size:20px;font-family:Arial'><b>3. Load data from csv file</b></p>"
   ]
  },
  {
   "cell_type": "markdown",
   "id": "ac5247e9-a0c0-4c48-9079-a5426b123074",
   "metadata": {},
   "source": [
    "<p style = 'font-size:16px;font-family:Arial'>\n",
    "    The data we will be loading for this example is in CSV format. The following is a sample of the header followed by the first 5 rows:\n",
    "</p>\n",
    "\n",
    "<p style='font-size:12px;font-family:Courier;'>\n",
    "    InvoiceNo,StockCode,Description,Quantity,InvoiceDate,UnitPrice,CustomerID,Country<br>\n",
    "    536365,85123A,WHITE HANGING HEART T-LIGHT HOLDER,6,2010-01-12 08:26:00,2.55,17850.0,United Kingdom<br>\n",
    "    536365,71053,WHITE METAL LANTERN,6,2010-01-12 08:26:00,3.39,17850.0,United Kingdom<br>\n",
    "    536365,84406B,CREAM CUPID HEARTS COAT HANGER,8,2010-01-12 08:26:00,2.75,17850.0,United Kingdom<br>\n",
    "    536365,84029G,KNITTED UNION FLAG HOT WATER BOTTLE,6,2010-01-12 08:26:00,3.39,17850.0,United Kingdom<br>\n",
    "    536365,84029E,RED WOOLLY HOTTIE WHITE HEART.,6,2010-01-12 08:26:00,3.39,17850.0,United Kingdom<br>\n",
    "</p>\n",
    "\n",
    "<p style = 'font-size:16px;font-family:Arial'>\n",
    "    To load data in Teradata using R, we'll use <code>read.csv()</code> function from R. The dataframe will interpret the first row as column names.\n",
    "</p>"
   ]
  },
  {
   "cell_type": "code",
   "execution_count": null,
   "id": "98e6bbb7-bf44-4bf0-88b8-579cfb7a3e16",
   "metadata": {},
   "outputs": [],
   "source": [
    "df = read.csv('./Retail_Data_sample.csv')"
   ]
  },
  {
   "cell_type": "markdown",
   "id": "50ffba61-4f3d-436e-8914-a5346aeddc3b",
   "metadata": {},
   "source": [
    "<p style = 'font-size:16px;font-family:Arial'>The <code>dim()</code> function in R is used to retrieve the dimensions of an array, matrix, or data frame.</p>"
   ]
  },
  {
   "cell_type": "code",
   "execution_count": null,
   "id": "8c5d5775-05b0-4e06-8f82-4da50438c61c",
   "metadata": {},
   "outputs": [],
   "source": [
    "dim(df)"
   ]
  },
  {
   "cell_type": "markdown",
   "id": "4e5d5f3a-a70f-4f2e-9133-3be1fcb1440b",
   "metadata": {},
   "source": [
    "<p style = 'font-size:16px;font-family:Arial'>The <code>sapply()</code> function in R is part of the apply family and allows you to apply a function to each element of a list, vector, or data frame.</p>"
   ]
  },
  {
   "cell_type": "code",
   "execution_count": null,
   "id": "5ce9bdf5-c9dc-4683-b6c4-8e5c3f4b62ee",
   "metadata": {},
   "outputs": [],
   "source": [
    "sapply(df, class)"
   ]
  },
  {
   "cell_type": "code",
   "execution_count": null,
   "id": "62131c28-1f88-43d1-bde4-f3d4cf10ae04",
   "metadata": {},
   "outputs": [],
   "source": [
    "head(df, n = 5)"
   ]
  },
  {
   "cell_type": "code",
   "execution_count": null,
   "id": "42dcec3b-b615-4103-b482-3c29d8453f71",
   "metadata": {},
   "outputs": [],
   "source": [
    "class(df)"
   ]
  },
  {
   "cell_type": "markdown",
   "id": "2e8d2a0f-ce19-4e67-af4f-72a18dc0fbaa",
   "metadata": {},
   "source": [
    "<p style = 'font-size:16px;font-family:Arial'>Once the data is loaded in the R dataframe, we can copy it to Vantage using the <code>copy_to()</code> function."
   ]
  },
  {
   "cell_type": "code",
   "execution_count": null,
   "id": "5c88925e-0817-4a52-88b6-41387e322645",
   "metadata": {},
   "outputs": [],
   "source": [
    "copy_to(\n",
    "    eng,\n",
    "    df,\n",
    "    name = 'Retail_Data',\n",
    "    overwrite = TRUE\n",
    ")"
   ]
  },
  {
   "cell_type": "markdown",
   "id": "fbc3be66-c630-416e-a845-dd47daa3bacc",
   "metadata": {},
   "source": [
    "<p style = 'font-size:16px;font-family:Arial'>Let us check the table created"
   ]
  },
  {
   "cell_type": "code",
   "execution_count": null,
   "id": "f02ff092-2d32-4231-a714-0add7148ba35",
   "metadata": {},
   "outputs": [],
   "source": [
    "tdf <- tbl(eng, in_schema(\"demo_user\", \"Retail_Data\"))\n",
    "head(tdf, n = 5)"
   ]
  },
  {
   "cell_type": "code",
   "execution_count": null,
   "id": "988f3427-2297-49f4-8426-bab7bf6810bb",
   "metadata": {},
   "outputs": [],
   "source": [
    "class(tdf)"
   ]
  },
  {
   "cell_type": "markdown",
   "id": "70b9c0e9-d5de-44e3-aa60-b8b17a54b07f",
   "metadata": {},
   "source": [
    "<hr style='height:2px;border:none;'>\n",
    "<p style = 'font-size:20px;font-family:Arial'> <b>4. Load data from zip file</b></p>"
   ]
  },
  {
   "cell_type": "markdown",
   "id": "8208afa4-e1fd-4168-a011-485c5a648303",
   "metadata": {},
   "source": [
    "<p style = 'font-size:16px;font-family:Arial;'> We can load zip file in R dataframe using the <code>read_csv()</code> from <code>readr</code> module</p>"
   ]
  },
  {
   "cell_type": "code",
   "execution_count": null,
   "id": "21cbef23-6513-4f71-9cc4-286f381fa535",
   "metadata": {},
   "outputs": [],
   "source": [
    "data <- read_csv(\"Retail_Data_sample.zip\", show_col_types = FALSE)\n",
    "head(data, n = 5)"
   ]
  },
  {
   "cell_type": "code",
   "execution_count": null,
   "id": "40e44252-0d28-4f8b-bdea-51cd8fafe9d8",
   "metadata": {},
   "outputs": [],
   "source": [
    "copy_to(\n",
    "    eng,\n",
    "    data,\n",
    "    name = 'Retail_Data_zip',\n",
    "    overwrite = TRUE\n",
    ")"
   ]
  },
  {
   "cell_type": "code",
   "execution_count": null,
   "id": "d0fa364c-ff2d-425e-b270-1df08f1fd266",
   "metadata": {},
   "outputs": [],
   "source": [
    "tdf_zip <- tbl(eng, in_schema(\"demo_user\", \"Retail_Data_zip\"))\n",
    "head(tdf_zip, n = 5)"
   ]
  },
  {
   "cell_type": "markdown",
   "id": "8a7f85b3-0d0c-4fc6-b951-db1169c3c617",
   "metadata": {},
   "source": [
    "<hr style=\"height:2px;border:none;\">\n",
    "<b style = 'font-size:20px;font-family:Arial'>5. Cleanup</b>"
   ]
  },
  {
   "cell_type": "markdown",
   "id": "0df11f4e-0f29-4e51-8599-461591d8120c",
   "metadata": {},
   "source": [
    "<p style = 'font-size:18px;font-family:Arial'><b>Work Tables</b></p>\n",
    "<p style = 'font-size:16px;font-family:Arial'>Cleanup work tables to prevent errors next time.</p>"
   ]
  },
  {
   "cell_type": "code",
   "execution_count": null,
   "id": "42fd1deb-79b5-498c-9104-74d987a84db0",
   "metadata": {},
   "outputs": [],
   "source": [
    "tables <- c('Retail_Data', 'Retail_Data_zip')\n",
    "\n",
    "# Loop through the list of tables and execute the drop table command for each table\n",
    "for (table in tables) {\n",
    "    tryCatch(\n",
    "        db_drop_table(eng, table)\n",
    "    )\n",
    "}"
   ]
  },
  {
   "cell_type": "markdown",
   "id": "192f73ea-dc24-4382-8a52-2e9f1a8fdb2a",
   "metadata": {},
   "source": [
    "<p style = 'font-size:16px;font-family:Arial'>The following code will remove context.</p>"
   ]
  },
  {
   "cell_type": "code",
   "execution_count": null,
   "id": "a7c8a977-6d72-4053-8acf-b4b6970975d0",
   "metadata": {},
   "outputs": [],
   "source": [
    "td_remove_context()"
   ]
  },
  {
   "cell_type": "markdown",
   "id": "70cb0fb7-a50e-4967-9c3f-a00d2f07c43f",
   "metadata": {},
   "source": [
    "<hr style=\"height:2px;border:none;\">\n",
    "<p style = 'font-size:16px;font-family:Arial'><b>Links:</b></p>\n",
    "<ul style = 'font-size:16px;font-family:Arial'>\n",
    "    <li>Teradata® Package for R Function Reference: <a href = 'https://docs.teradata.com/search/all?query=Teradata+Package+for+R+Function+Reference&content-lang=en-US'>here</a></li>\n",
    "</ul>"
   ]
  },
  {
   "cell_type": "markdown",
   "id": "1a6946c0-00ca-45dd-8a3e-317067451420",
   "metadata": {},
   "source": [
    "<footer style=\"padding-bottom:35px; border-bottom:3px solid #91A0Ab\">\n",
    "    <div style=\"float:left;margin-top:14px\">ClearScape Analytics™</div>\n",
    "    <div style=\"float:right;\">\n",
    "        <div style=\"float:left; margin-top:14px\">\n",
    "            Copyright © Teradata Corporation - 2024. All Rights Reserved\n",
    "        </div>\n",
    "    </div>\n",
    "</footer>"
   ]
  }
 ],
 "metadata": {
  "kernelspec": {
   "display_name": "R",
   "language": "R",
   "name": "ir"
  },
  "language_info": {
   "codemirror_mode": "r",
   "file_extension": ".r",
   "mimetype": "text/x-r-source",
   "name": "R",
   "pygments_lexer": "r",
   "version": "4.1.3"
  }
 },
 "nbformat": 4,
 "nbformat_minor": 5
}
