{
 "cells": [
  {
   "cell_type": "markdown",
   "id": "f7789559-0f7b-4cce-9b5a-6f20dc487b30",
   "metadata": {},
   "source": [
    "<header>\n",
    "   <p  style='font-size:36px;font-family:Arial; color:#F0F0F0; background-color: #00233c; padding-left: 20pt; padding-top: 20pt;padding-bottom: 10pt; padding-right: 20pt;'>\n",
    "       Load data to Vantage\n",
    "  <br>\n",
    "       <img id=\"teradata-logo\" src=\"https://storage.googleapis.com/clearscape_analytics_demo_data/DEMO_Logo/teradata.svg\" alt=\"Teradata\" style=\"width: 125px; height: auto; margin-top: 20pt;\">\n",
    "    </p>\n",
    "</header>\n"
   ]
  },
  {
   "cell_type": "markdown",
   "id": "c2228940-90f4-4be1-83e4-4e5df01d47ba",
   "metadata": {},
   "source": [
    "<p style = 'font-size:16px;font-family:Arial'>Welcome to this introductory guide. This guide will walk you through steps  are needed to load data in Teradata from ipython SQL kernel.  A more extensive notebook with more commands can be found online in the Teradata Vantage Modules for Jupyter <a href = 'https://github.com/Teradata/jupyterextensions/blob/master/notebooks/sql/DataLoad.ipynb'>Here.</a>  "
   ]
  },
  {
   "cell_type": "markdown",
   "id": "46349866-bb4b-4e3d-92d9-6546119017dd",
   "metadata": {},
   "source": [
    "<hr style=\"height:2px;border:none;\">\n",
    "<p style = 'font-size:16px;font-family:Arial'>For help on available \"magic\" commands in the Teradata SQL plugin, run the following cell:</p>"
   ]
  },
  {
   "cell_type": "code",
   "execution_count": null,
   "id": "511059b8-29a6-46bf-9fe2-1d878861c38d",
   "metadata": {},
   "outputs": [],
   "source": [
    "%help"
   ]
  },
  {
   "cell_type": "markdown",
   "id": "1c61a6e4-34d8-47aa-b964-d00b954155b0",
   "metadata": {},
   "source": [
    "<hr style=\"height:2px;border:none;\">\n",
    "<b style = 'font-size:20px;font-family:Arial'>1. Connect to Vantage</b>\n",
    "<p style = 'font-size:16px;font-family:Arial'>You will be prompted to provide the password. Enter your password, press Enter, then use down arrow to go to next cell.</p>"
   ]
  },
  {
   "cell_type": "code",
   "execution_count": null,
   "id": "09c37e53-e9c8-49f5-8e17-ee4c4d673bb2",
   "metadata": {},
   "outputs": [],
   "source": [
    "%connect local, hidewarnings=true"
   ]
  },
  {
   "cell_type": "markdown",
   "id": "bf989a3e-ccd5-4697-a218-db0b1f59dab7",
   "metadata": {},
   "source": [
    "<hr style=\"height:2px;border:none;\">\n",
    "<p style = 'font-size:20px;font-family:Arial'> <b>2. Load data from file present locally </b></p>"
   ]
  },
  {
   "cell_type": "markdown",
   "id": "6a50743f-bc2d-4110-a7d1-07960eae166f",
   "metadata": {},
   "source": [
    "<p style = 'font-size:16px;font-family:Arial'>Apart from the standard Teradata utilities for data load i.e TPT; Teradata SQL plugin for Jupyter has a magic command to load data into the database.</p>"
   ]
  },
  {
   "cell_type": "code",
   "execution_count": null,
   "id": "d12604c4-bdfe-4484-a9b0-8a8e8c428046",
   "metadata": {},
   "outputs": [],
   "source": [
    "%help dataload"
   ]
  },
  {
   "cell_type": "markdown",
   "id": "bbbcfb56-2212-424a-8c10-e59e15d43297",
   "metadata": {},
   "source": [
    "<p style = 'font-size:16px;font-family:Arial'>The data we will be loading for this example is in CSV format. The following is a sample of the header followed by the first 5 rows:</p>\n",
    "\n",
    "<p style = 'font-size:12px;font-family:Courier'>\n",
    "InvoiceNo,StockCode,Description,Quantity,InvoiceDate,UnitPrice,CustomerID,Country<br>\n",
    "536365,85123A,WHITE HANGING HEART T-LIGHT HOLDER,6,2010-01-12 08:26:00,2.55,17850.0,United Kingdom<br>\n",
    "536365,71053,WHITE METAL LANTERN,6,2010-01-12 08:26:00,3.39,17850.0,United Kingdom<br>\n",
    "536365,84406B,CREAM CUPID HEARTS COAT HANGER,8,2010-01-12 08:26:00,2.75,17850.0,United Kingdom<br>\n",
    "536365,84029G,KNITTED UNION FLAG HOT WATER BOTTLE,6,2010-01-12 08:26:00,3.39,17850.0,United Kingdom<br>\n",
    "536365,84029E,RED WOOLLY HOTTIE WHITE HEART.,6,2010-01-12 08:26:00,3.39,17850.0,United Kingdom<br>\n",
    "</p>\n",
    "\n",
    "<p style = 'font-size:16px;font-family:Arial'>We will need to create a table that matches the columns of the data in our file.</p"
   ]
  },
  {
   "cell_type": "code",
   "execution_count": null,
   "id": "9e7d4ad8-86b6-4f69-a9b3-cfa012e911fb",
   "metadata": {},
   "outputs": [],
   "source": [
    "CREATE MULTISET TABLE DEMO_USER.Retail_Data \n",
    "       (InvoiceNo VARCHAR(10) CHARACTER SET UNICODE NOT CASESPECIFIC,\n",
    "        StockCode VARCHAR(10) CHARACTER SET UNICODE NOT CASESPECIFIC,\n",
    "        Description VARCHAR(40) CHARACTER SET UNICODE NOT CASESPECIFIC,\n",
    "        Quantity BIGINT,\n",
    "        InvoiceDate TIMESTAMP(6),\n",
    "        UnitPrice FLOAT,\n",
    "        CustomerID FLOAT,\n",
    "        Country VARCHAR(25) CHARACTER SET UNICODE NOT CASESPECIFIC)\n",
    "  PRIMARY INDEX ( InvoiceNo );"
   ]
  },
  {
   "cell_type": "code",
   "execution_count": null,
   "id": "48822e89-8b4c-4934-bc8d-6d91c957537c",
   "metadata": {},
   "outputs": [],
   "source": [
    "%dataload DATABASE = demo_user, TABLE = Retail_Data, skiprows = 1,\n",
    "FILEPATH = Getting_Started/Data_Loading/Retail_Data_sample.csv"
   ]
  },
  {
   "cell_type": "markdown",
   "id": "e495f240-2058-4d1c-ba53-0ceec3a25fbe",
   "metadata": {},
   "source": [
    "<p style = 'font-size:16px;font-family:Arial'>Let's check the count and sample records loaded. </p>\n"
   ]
  },
  {
   "cell_type": "code",
   "execution_count": null,
   "id": "ebb42ac2-6580-4e32-8150-38efe75969e9",
   "metadata": {},
   "outputs": [],
   "source": [
    "SELECT COUNT(*) FROM Retail_Data;"
   ]
  },
  {
   "cell_type": "code",
   "execution_count": null,
   "id": "b45a863c-9087-4ebf-a6c0-26d9b5e2d40a",
   "metadata": {},
   "outputs": [],
   "source": [
    "SELECT TOP 5 * FROM Retail_Data;"
   ]
  },
  {
   "cell_type": "markdown",
   "id": "614576d8-fc00-4e98-a546-fa06cb726453",
   "metadata": {},
   "source": [
    "<hr style=\"height:2px;border:none;\">\n",
    "<p style = 'font-size:20px;font-family:Arial'> <b>3. Load data from file present in cloud </b></p>"
   ]
  },
  {
   "cell_type": "markdown",
   "id": "79abc5c7-4334-4e13-b774-3e82013845b1",
   "metadata": {},
   "source": [
    "<p style = 'font-size:16px;font-family:Arial'>We can access and load files present in cloud via Vantage's NOS (Native Object Store). For this we need the access id and key for authentication and the location off the file. Please refer <a href ='https://docs.teradata.com/r/Enterprise_IntelliFlex_VMware/Teradata-VantageTM-Native-Object-Store-Getting-Started-Guide-17.20/Reading-Data/Examples-For-Business-Analysts/Sampling-External-Data-In-Place-Using-READ_NOS'>NOS user guide</a>  for more information.<br>\n",
    "  First of all we need to create an Authorization object to access the file. </p> \n",
    "\n",
    "<p style = 'font-size:16px;font-family:Arial'>The command template to create an authorization object is below. If you are loading data from your cloud storage, you would need to substitute for the values in the {  } brackets. </p>\n",
    "\n",
    "<p style = 'font-size:12px;font-family:Courier'> CREATE AUTHORIZATION {name} AS DEFINER TRUSTED<br>\n",
    "USER '{access_key}'<br>\n",
    "PASSWORD '{password}';<br>\n",
    "</p>\n",
    "<p style = 'font-size:16px;font-family:Arial'>For public buckets we dont need any authorizationn. For our example we have a public read-only bucket hence we won't need authorization in queries below. </p>"
   ]
  },
  {
   "cell_type": "markdown",
   "id": "eb936d88-fd45-4783-bf33-680c7f8d2bec",
   "metadata": {},
   "source": [
    "<hr style=\"height:1px;border:none;\">\n",
    "\n",
    "<p style = 'font-size:18px;font-family:Arial'><b>3.1 Sampling External Data</b><br>\n",
    "\n",
    "<p style = 'font-size:16px;font-family:Arial'>\n",
    "Our file Retail_Data_sample.csv is located at /gs/storage.googleapis.com/clearscape_analytics_demo_data/Data_Load/<br>\n",
    "<p style = 'font-size:16px;font-family:Arial'>We can preview the contents of an external object store by using the command below. The location string is prefixed indicating where the data is located.\n",
    "<ul>\n",
    "    <li> \"/gs\" - to access files in google cloud storage, used below</li>\n",
    "    <li> \"/s3\" - to access AWS buckets (Used in the UseCases/Deep_History_via_Object_Store)</li>\n",
    "    <li> \"/az\" - to access Azure blob storage</li>\n",
    "</ul>\n"
   ]
  },
  {
   "cell_type": "code",
   "execution_count": null,
   "id": "102bc99e-5b1b-4a1c-8a89-1cf7f0badd9c",
   "metadata": {},
   "outputs": [],
   "source": [
    "SELECT TOP 2 * FROM (\n",
    "LOCATION = '/gs/storage.googleapis.com/clearscape_analytics_demo_data/Data_Load/Retail_Data_sample.csv'\n",
    ") AS D;"
   ]
  },
  {
   "cell_type": "markdown",
   "id": "867ae638-3be5-4050-8860-2a83a15b967c",
   "metadata": {},
   "source": [
    "<p style = 'font-size:16px;font-family:Arial'> Please keep in mind:\n",
    "<ul style = 'font-size:16px;font-family:Arial'><li>TOP does not return the same results each time it is run.</li>\n",
    "<li>TOP may return records with only a subset of attributes because not all records in different objects contain all of the same attributes.</li>\n",
    "    </ul>"
   ]
  },
  {
   "cell_type": "markdown",
   "id": "538e0fe4-505d-480d-a389-dc8fde213b41",
   "metadata": {},
   "source": [
    "<hr style=\"height:1px;border:none;\">\n",
    "<p style = 'font-size:18px;font-family:Arial'><b>3.2 Using Foreign Table</b>"
   ]
  },
  {
   "cell_type": "code",
   "execution_count": null,
   "id": "660777d2-389e-4d65-9f1a-cdbe8e0e01a6",
   "metadata": {},
   "outputs": [],
   "source": [
    "CREATE FOREIGN TABLE Retail_Data_FT\n",
    "USING (LOCATION('/gs/storage.googleapis.com/clearscape_analytics_demo_data/Data_Load/Retail_Data_sample.csv'));"
   ]
  },
  {
   "cell_type": "code",
   "execution_count": null,
   "id": "da76f1d5-6860-4ca8-b61b-1374e76247b2",
   "metadata": {},
   "outputs": [],
   "source": [
    "SELECT TOP 5 * FROM Retail_Data_FT;"
   ]
  },
  {
   "cell_type": "markdown",
   "id": "e68d964e-3d1e-489f-9604-8c92e33b7e70",
   "metadata": {},
   "source": [
    "<hr style=\"height:1px;border:none;\">\n",
    "<p style = 'font-size:18px;font-family:Arial'><b>3.3 Loading External Data in permanent table</b><br>\n",
    "<p style = 'font-size:16px;font-family:Arial'>If we want to copy data from cloud to permanent table in database we can use the below command"
   ]
  },
  {
   "cell_type": "code",
   "execution_count": null,
   "id": "a8098486-0c98-4a69-bdb6-f66b733920e5",
   "metadata": {},
   "outputs": [],
   "source": [
    "CREATE MULTISET TABLE DEMO_USER.Retail_Data_Perm \n",
    "       (InvoiceNo VARCHAR(10) CHARACTER SET UNICODE NOT CASESPECIFIC,\n",
    "        StockCode VARCHAR(10) CHARACTER SET UNICODE NOT CASESPECIFIC,\n",
    "        Description VARCHAR(40) CHARACTER SET UNICODE NOT CASESPECIFIC,\n",
    "        Quantity BIGINT,\n",
    "        InvoiceDate TIMESTAMP(6),\n",
    "        UnitPrice FLOAT,\n",
    "        CustomerID FLOAT,\n",
    "        Country VARCHAR(25) CHARACTER SET UNICODE NOT CASESPECIFIC)\n",
    "  PRIMARY INDEX ( InvoiceNo );"
   ]
  },
  {
   "cell_type": "code",
   "execution_count": null,
   "id": "a2acc7b6-24cf-459e-88f1-a8c804628095",
   "metadata": {},
   "outputs": [],
   "source": [
    "INSERT DEMO_USER.Retail_Data_Perm \n",
    "SELECT\n",
    "    InvoiceNo,\n",
    "    StockCode,\n",
    "    Description,\n",
    "    Quantity,\n",
    "    InvoiceDate,\n",
    "    UnitPrice,\n",
    "    CustomerID,\n",
    "    Country\n",
    "FROM (\n",
    "    LOCATION = '/gs/storage.googleapis.com/clearscape_analytics_demo_data/Data_Load/Retail_Data_sample.csv'\n",
    ") AS d;"
   ]
  },
  {
   "cell_type": "code",
   "execution_count": null,
   "id": "a1ca1988-6466-4e8d-a7d5-68c734778644",
   "metadata": {},
   "outputs": [],
   "source": [
    "SELECT TOP 5 * FROM Retail_Data_Perm;"
   ]
  },
  {
   "cell_type": "markdown",
   "id": "06550d31-3484-4d97-a752-56e7370c6557",
   "metadata": {},
   "source": [
    "<hr style=\"height:1px;border:none;\">\n",
    "<p style = 'font-size:18px;font-family:Arial'><b>3.4 Parquet Data on AWS</b><br>\n",
    "<p style = 'font-size:16px;font-family:Arial'>As mentioned previously, several of the demonstration notebooks access data on AWS. One of them is:</p>\n",
    "\n",
    "[Deep History via Object Store](../../UseCases/Deep_History_via_Object_Store/Deep_History_via_Object_Store_SQL.ipynb)\n",
    "\n",
    "<p style = 'font-size:16px;font-family:Arial'>The data it accesses is in parquet format. Storage of data in the cloud is frequently broken up into multiple files to allow parallel reading of the data for performance and to allow some partitioning of the data using the directory hierarchy (in this case by year). The data is public so it can be accessed without an Authorization object. The data for that demo is in 28 files which we can view with the following command. </p>"
   ]
  },
  {
   "cell_type": "code",
   "execution_count": null,
   "id": "25a60f4e-a5fa-47d4-9d98-7a9c5db8f999",
   "metadata": {},
   "outputs": [],
   "source": [
    "SELECT TOP 5 location(char(255)), ObjectLength \n",
    "FROM read_nos (\n",
    "USING \n",
    " LOCATION  ('/s3/s3.amazonaws.com/clearscape-analytics-datasets/sales_fact_offload/') \n",
    " RETURNTYPE ('NOSREAD_KEYS')\n",
    ") AS d \n",
    "ORDER BY 1;"
   ]
  },
  {
   "cell_type": "markdown",
   "id": "76de62c4-2a68-46a8-a620-2095ab77fc78",
   "metadata": {},
   "source": [
    "<p style = 'font-size:16px;font-family:Arial'>The definition of the data can be read using the RETURNTYPE 'NOSREAD_PARQUET_SCHEMA'.   In this case we are only going to reference 1 file out of the set for performance.  We will specify FULLSCAN 'TRUE' to read through all rows to determine the maximum column length for varchar columns (if any ... at least for 1 file).  </p>"
   ]
  },
  {
   "cell_type": "code",
   "execution_count": null,
   "id": "cd9ea7bc-1e6f-4213-902a-df4a941cbc2f",
   "metadata": {},
   "outputs": [],
   "source": [
    "SELECT TOP 5 * FROM READ_NOS (\n",
    "      USING\n",
    "      LOCATION  ('/s3/s3.amazonaws.com/clearscape-analytics-datasets/sales_fact_offload/2010/2010/object_33_0_1.parquet')\n",
    "      RETURNTYPE ('NOSREAD_PARQUET_SCHEMA')\n",
    "      FULLSCAN ('TRUE')\n",
    "      )\n",
    "AS d;"
   ]
  },
  {
   "cell_type": "markdown",
   "id": "790a97d6-cd98-42f9-b71e-4cf4d562aebc",
   "metadata": {},
   "source": [
    "<p style = 'font-size:16px;font-family:Arial'>Again, to see a sample of the data, we will only reference one file.  If you remove \"2010/2010/object_33_0_1.parquet\" from the location below, it will run a bit longer.</p>"
   ]
  },
  {
   "cell_type": "code",
   "execution_count": null,
   "id": "1e8e8ecc-4ec3-44be-be99-d88a587b522f",
   "metadata": {},
   "outputs": [],
   "source": [
    "SELECT TOP 5 * FROM READ_NOS (\n",
    "      USING\n",
    "      LOCATION  ('/s3/s3.amazonaws.com/clearscape-analytics-datasets/sales_fact_offload/') --2010/2010/object_33_0_1.parquet')\n",
    "      RETURNTYPE ('NOSREAD_RECORD')\n",
    "      )\n",
    "AS d;"
   ]
  },
  {
   "cell_type": "markdown",
   "id": "a22e8986-4e4b-4f29-8fff-bd217c060816",
   "metadata": {},
   "source": [
    "<p style = 'font-size:16px;font-family:Arial'>The creating of a foreign table or loading into a local table from Parquet on the AWS cloud is similar to the process described above.  For the full example, see the UseCase:</p>\n",
    "\n",
    "[Deep History via Object Store](../../UseCases/Deep_History_via_Object_Store/Deep_History_via_Object_Store_SQL.ipynb)"
   ]
  },
  {
   "cell_type": "markdown",
   "id": "71d2319e-b4ff-44a6-b67d-cab7c70f3b09",
   "metadata": {},
   "source": [
    " <p style = 'font-size:16px;font-family:Arial'> To load other file formats like json or more details about parquet, please refer to: <a href ='https://docs.teradata.com/r/Enterprise_IntelliFlex_VMware/Teradata-VantageTM-Native-Object-Store-Getting-Started-Guide-17.20/Reading-Data/Examples-For-Business-Analysts/Sampling-External-Data-In-Place-Using-READ_NOS'>NOS user guide</a> </p>"
   ]
  },
  {
   "cell_type": "markdown",
   "id": "c10bfe3f-667d-4cfa-89c9-70ae1424e0af",
   "metadata": {},
   "source": [
    "<hr style=\"height:2px;border:none;\">\n",
    "<p style = 'font-size:20px;font-family:Arial'><b>4. Cleanup</b>"
   ]
  },
  {
   "cell_type": "code",
   "execution_count": null,
   "id": "7c70a1d4-84e6-47cf-b1c1-ed0709dd5225",
   "metadata": {},
   "outputs": [],
   "source": [
    "DROP TABLE Retail_Data;"
   ]
  },
  {
   "cell_type": "code",
   "execution_count": null,
   "id": "cf8259f6-5ea8-46b2-9bb9-2e81e626261e",
   "metadata": {},
   "outputs": [],
   "source": [
    "DROP TABLE Retail_Data_FT;"
   ]
  },
  {
   "cell_type": "code",
   "execution_count": null,
   "id": "ea0284d7-5645-46a1-a977-d550e2c79ff2",
   "metadata": {},
   "outputs": [],
   "source": [
    "DROP TABLE Retail_Data_Perm;"
   ]
  },
  {
   "cell_type": "markdown",
   "id": "53cbc994-e90c-4038-923c-102cf23f99fb",
   "metadata": {},
   "source": [
    "<footer style=\"padding-bottom:35px; border-bottom:3px solid #91A0Ab\">\n",
    "    <div style=\"float:left;margin-top:14px\">ClearScape Analytics™</div>\n",
    "    <div style=\"float:right;\">\n",
    "        <div style=\"float:left; margin-top:14px\">\n",
    "            Copyright © Teradata Corporation - 2023. All Rights Reserved\n",
    "        </div>\n",
    "    </div>\n",
    "</footer>"
   ]
  }
 ],
 "metadata": {
  "kernelspec": {
   "display_name": "Teradata SQL",
   "language": "Teradata SQL",
   "name": "teradatasql"
  },
  "language_info": {
   "codemirror_mode": "Teradata SQL",
   "file_extension": ".tdrs",
   "mimetype": "application/vnd.teradata.resultset",
   "name": "Teradata SQL",
   "nbconvert_exporter": "",
   "pygments_lexer": "",
   "version": "16.20"
  }
 },
 "nbformat": 4,
 "nbformat_minor": 5
}
