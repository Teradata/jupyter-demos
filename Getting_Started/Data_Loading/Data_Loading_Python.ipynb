{
 "cells": [
  {
   "cell_type": "markdown",
   "id": "14997a75-9741-42e7-8e96-a4534fc3cdd8",
   "metadata": {},
   "source": [
    "<header>\n",
    "   <p  style='font-size:36px;font-family:Arial; color:#F0F0F0; background-color: #00233c; padding-left: 20pt; padding-top: 20pt;padding-bottom: 10pt; padding-right: 20pt;'>\n",
    "       Load data to Vantage\n",
    "  <br>\n",
    "       <img id=\"teradata-logo\" src=\"https://storage.googleapis.com/clearscape_analytics_demo_data/DEMO_Logo/teradata.svg\" alt=\"Teradata\" style=\"width: 125px; height: auto; margin-top: 20pt;\">\n",
    "    </p>\n",
    "</header>"
   ]
  },
  {
   "cell_type": "markdown",
   "id": "5fc74c5e",
   "metadata": {},
   "source": [
    "<p style = 'font-size:20px;font-family:Arial'><b>Introduction:</b></p>\n",
    "\n",
    "<p style = 'font-size:16px;font-family:Arial'>Welcome to this introductory guide. This guide will walk you through steps are needed to load data in Teradata using Python.</p>"
   ]
  },
  {
   "cell_type": "code",
   "execution_count": null,
   "id": "09c37e53-e9c8-49f5-8e17-ee4c4d673bb2",
   "metadata": {},
   "outputs": [],
   "source": [
    "import numpy as np\n",
    "import pandas as pd\n",
    "import zipfile\n",
    "from teradataml import *\n",
    "\n",
    "display.max_rows = 5"
   ]
  },
  {
   "cell_type": "markdown",
   "id": "383e8f0a-28c3-4b97-ae3b-9e42b918edf1",
   "metadata": {},
   "source": [
    "<hr style='height:2px;border:none;'>\n",
    "\n",
    "<p style='font-size:18px;font-family:Arial;'><b>Connect to Vantage</b></p>\n",
    "<p style = 'font-size:16px;font-family:Arial'>You will be prompted to provide the password. Enter your password, press Enter, then use down arrow to go to next cell.</p>"
   ]
  },
  {
   "cell_type": "code",
   "execution_count": null,
   "id": "f099f842-8aa8-4a41-a95e-cbbc4b552b00",
   "metadata": {},
   "outputs": [],
   "source": [
    "%run -i /home/jovyan/JupyterLabRoot/UseCases/startup.ipynb\n",
    "eng = create_context(host = 'host.docker.internal', username = 'demo_user', password = password)\n",
    "print(eng)"
   ]
  },
  {
   "cell_type": "markdown",
   "id": "17ee2428-24f1-40cb-b1eb-c56ff787c7b7",
   "metadata": {},
   "source": [
    "<hr style='height:2px;border:none;'>\n",
    "<p style = 'font-size:18px;font-family:Arial'> <b>Load data from file present locally </b></p>\n",
    "\n",
    "<p style = 'font-size:16px;font-family:Arial'>\n",
    "    The data we will be loading for this example is in CSV format. The following is a sample of the header followed by the first 5 rows:\n",
    "</p>\n",
    "\n",
    "<p style='font-size:12px;font-family:Courier;'>\n",
    "    InvoiceNo,StockCode,Description,Quantity,InvoiceDate,UnitPrice,CustomerID,Country<br>\n",
    "    536365,85123A,WHITE HANGING HEART T-LIGHT HOLDER,6,2010-01-12 08:26:00,2.55,17850.0,United Kingdom<br>\n",
    "    536365,71053,WHITE METAL LANTERN,6,2010-01-12 08:26:00,3.39,17850.0,United Kingdom<br>\n",
    "    536365,84406B,CREAM CUPID HEARTS COAT HANGER,8,2010-01-12 08:26:00,2.75,17850.0,United Kingdom<br>\n",
    "    536365,84029G,KNITTED UNION FLAG HOT WATER BOTTLE,6,2010-01-12 08:26:00,3.39,17850.0,United Kingdom<br>\n",
    "    536365,84029E,RED WOOLLY HOTTIE WHITE HEART.,6,2010-01-12 08:26:00,3.39,17850.0,United Kingdom<br>\n",
    "</p>\n",
    "\n",
    "<p style = 'font-size:16px;font-family:Arial'>\n",
    "    To load data in Teradata using Python, we first load the file in pandas dataframe. The dataframe will interpret the first row as column names.\n",
    "</p>"
   ]
  },
  {
   "cell_type": "code",
   "execution_count": null,
   "id": "d12604c4-bdfe-4484-a9b0-8a8e8c428046",
   "metadata": {},
   "outputs": [],
   "source": [
    "df = pd.read_csv(\"Retail_Data_sample.csv\")"
   ]
  },
  {
   "cell_type": "code",
   "execution_count": null,
   "id": "22df5a9d-f480-403a-9b04-45f0b6c34e37",
   "metadata": {},
   "outputs": [],
   "source": [
    "df.shape"
   ]
  },
  {
   "cell_type": "code",
   "execution_count": null,
   "id": "0e136f77-397a-4f64-943e-65e87c2eae71",
   "metadata": {},
   "outputs": [],
   "source": [
    "df.dtypes"
   ]
  },
  {
   "cell_type": "code",
   "execution_count": null,
   "id": "f100fd0a-4397-4614-95af-bc5c48f0e43a",
   "metadata": {},
   "outputs": [],
   "source": [
    "df.head(5)"
   ]
  },
  {
   "cell_type": "markdown",
   "id": "a38ed0f1-8cc0-4da4-9967-76d3102f743a",
   "metadata": {},
   "source": [
    "<p style = 'font-size:16px;font-family:Arial'>Once the data is loaded in the pandas dataframe, we can copy it to Vantage using the copy_to_sql function in teradataml module."
   ]
  },
  {
   "cell_type": "code",
   "execution_count": null,
   "id": "02261b95-cb04-458b-b986-5e1dcd2c82a5",
   "metadata": {},
   "outputs": [],
   "source": [
    "copy_to_sql(df, table_name=\"Retail_Data\", if_exists=\"replace\")"
   ]
  },
  {
   "cell_type": "markdown",
   "id": "c5b0bc2c-bbf1-42ce-9583-721dbb8f0d24",
   "metadata": {},
   "source": [
    "<p style = 'font-size:16px;font-family:Arial'>Let us check the table created"
   ]
  },
  {
   "cell_type": "code",
   "execution_count": null,
   "id": "f237b922-8341-4226-9db1-2461dbb56cc0",
   "metadata": {},
   "outputs": [],
   "source": [
    "df_table = DataFrame(\"Retail_Data\")"
   ]
  },
  {
   "cell_type": "code",
   "execution_count": null,
   "id": "e85b22fd-e959-4827-9dde-9ae7507a6c62",
   "metadata": {},
   "outputs": [],
   "source": [
    "df_table"
   ]
  },
  {
   "cell_type": "code",
   "execution_count": null,
   "id": "7e53508b-d80c-4e6a-a4fe-7f1fd2d7c155",
   "metadata": {},
   "outputs": [],
   "source": [
    "type(df_table)"
   ]
  },
  {
   "cell_type": "code",
   "execution_count": null,
   "id": "3bdc448f-d86d-4ab4-aae6-472fadf2ab32",
   "metadata": {},
   "outputs": [],
   "source": [
    "df_table.shape"
   ]
  },
  {
   "cell_type": "markdown",
   "id": "c4623b15-1e52-499f-8bba-85c4be184265",
   "metadata": {},
   "source": [
    "<hr style='height:2px;border:none;'>\n",
    "<p style = 'font-size:18px;font-family:Arial'> <b>Load data from zip file </b></p>\n",
    "\n",
    "<p style = 'font-size:16px;font-family:Arial;'> We can load zip file in pandas dataframe using the zip file module</p>"
   ]
  },
  {
   "cell_type": "code",
   "execution_count": null,
   "id": "3be4f5cb-37d9-41dc-b340-e65f9ecc910c",
   "metadata": {},
   "outputs": [],
   "source": [
    "# read the dataset using the compression zip\n",
    "df_zip = pd.read_csv(\"Retail_Data_sample.zip\", compression=\"zip\")\n",
    "\n",
    "df_zip.head(5)"
   ]
  },
  {
   "cell_type": "markdown",
   "id": "b308db7e-dc90-4e84-86d7-4cbb4fb5a37d",
   "metadata": {},
   "source": [
    "<p style = 'font-size:16px;font-family:Arial;'> Once the data is loaded in the pandas dataframe we can easily load dataframe"
   ]
  },
  {
   "cell_type": "code",
   "execution_count": null,
   "id": "910b2bd9-ab81-4e16-ba7b-4ca32f9d85cf",
   "metadata": {},
   "outputs": [],
   "source": [
    "copy_to_sql(df_zip, table_name=\"Retail_Data_zip\", if_exists=\"replace\")"
   ]
  },
  {
   "cell_type": "code",
   "execution_count": null,
   "id": "735dcc4f-a5df-4a0a-81aa-9be8f73dc55a",
   "metadata": {},
   "outputs": [],
   "source": [
    "df_zip_table = DataFrame(\"Retail_Data_zip\")"
   ]
  },
  {
   "cell_type": "code",
   "execution_count": null,
   "id": "c2599695-2f15-43e0-a75d-d9c10ea5db31",
   "metadata": {},
   "outputs": [],
   "source": [
    "df_zip_table"
   ]
  },
  {
   "cell_type": "markdown",
   "id": "c10bfe3f-667d-4cfa-89c9-70ae1424e0af",
   "metadata": {},
   "source": [
    "<hr style='height:1px;border:none;'>\n",
    "<p style = 'font-size:18px;font-family:Arial'><b>Clean up</b>"
   ]
  },
  {
   "cell_type": "code",
   "execution_count": null,
   "id": "7c70a1d4-84e6-47cf-b1c1-ed0709dd5225",
   "metadata": {},
   "outputs": [],
   "source": [
    "tables = [\"Retail_Data\", \"Retail_Data_zip\"]\n",
    "\n",
    "# Loop through the list of tables and execute the drop table command for each table\n",
    "for table in tables:\n",
    "    try:\n",
    "        db_drop_table(table_name=table)\n",
    "    except:\n",
    "        pass"
   ]
  },
  {
   "cell_type": "code",
   "execution_count": null,
   "id": "93d46102-67e0-4227-9b9e-91f358656771",
   "metadata": {},
   "outputs": [],
   "source": [
    "remove_context()"
   ]
  },
  {
   "cell_type": "markdown",
   "id": "53cbc994-e90c-4038-923c-102cf23f99fb",
   "metadata": {},
   "source": [
    "<footer style=\"padding-bottom:35px; border-bottom:3px solid #91A0Ab\">\n",
    "    <div style=\"float:left;margin-top:14px\">ClearScape Analytics™</div>\n",
    "    <div style=\"float:right;\">\n",
    "        <div style=\"float:left; margin-top:14px\">\n",
    "            Copyright © Teradata Corporation - 2024. All Rights Reserved\n",
    "        </div>\n",
    "    </div>\n",
    "</footer>"
   ]
  }
 ],
 "metadata": {
  "kernelspec": {
   "display_name": "Python 3 (ipykernel)",
   "language": "python",
   "name": "python3"
  },
  "language_info": {
   "codemirror_mode": {
    "name": "ipython",
    "version": 3
   },
   "file_extension": ".py",
   "mimetype": "text/x-python",
   "name": "python",
   "nbconvert_exporter": "python",
   "pygments_lexer": "ipython3",
   "version": "3.9.10"
  }
 },
 "nbformat": 4,
 "nbformat_minor": 5
}
