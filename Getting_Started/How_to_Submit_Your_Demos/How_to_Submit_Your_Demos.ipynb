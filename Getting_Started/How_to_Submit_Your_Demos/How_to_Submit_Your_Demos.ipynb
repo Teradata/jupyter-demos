{
 "cells": [
  {
   "cell_type": "markdown",
   "id": "governmental-imagination",
   "metadata": {},
   "source": [
    "<header>\n",
    "   <p  style='font-size:36px;font-family:Arial; color:#F0F0F0; background-color: #00233c; padding-left: 20pt; padding-top: 20pt;padding-bottom: 10pt; padding-right: 20pt;'>\n",
    "       Sharing Your Demonstrations\n",
    "  <br>\n",
    "       <img id=\"teradata-logo\" src=\"https://storage.googleapis.com/clearscape_analytics_demo_data/DEMO_Logo/teradata.svg\" alt=\"Teradata\" style=\"width: 125px; height: auto; margin-top: 20pt;\">\n",
    "    </p>\n",
    "</header>"
   ]
  },
  {
   "cell_type": "markdown",
   "id": "0cbb4837-4cd2-4dfe-92bc-f34f425f4de4",
   "metadata": {},
   "source": [
    "<p style='font-size:16px;font-family:Arial;'>\n",
    "    You have learned by following the examples of others. Consider \"paying it forward\" by submitting your creative work for others to use.\n",
    "    If you follow some basic practices in the development of your demonstration, it will be much easier to submit and for us to re-publish.\n",
    "    <img src=\"Sharing_Demo.jpg\" style=\"float: right; margin-left: 10px; height: 50px; width: auto;\" />\n",
    "</p>\n",
    "\n",
    "<p style='font-size:16px;font-family:Arial;'>\n",
    "    <b>It is as easy as 1-2-3:</b></p>\n",
    "        <ol style='font-size:16px;font-family:Arial;'>\n",
    "            <li>Put your demo files in a folder</li>\n",
    "            <li>Put your data/objects in a database</li>\n",
    "            <li>Grant us access and send us an e-mail</li>\n",
    "        </ol>\n",
    "\n",
    "<p style='font-size:16px;font-family:Arial;'>\n",
    "    You may choose to submit anonymously or list your name, with or without contact information.\n",
    "    With contact information, you may get improvements or corrections to your demonstration and likely praise for your good work.\n",
    "</p>"
   ]
  },
  {
   "cell_type": "markdown",
   "id": "90b478ce-de8a-4972-9b3e-be8da1191545",
   "metadata": {},
   "source": [
    "<hr style=\"height:2px;border:none;\">\n",
    "<p style = 'font-size:20px;font-family:Arial'><b>1. Organizing Your Demo</b></p>\n",
    "\n",
    "<p style='font-size:16px;font-family:Arial;'>\n",
    "    Your demonstration may use multiple files and/or your Jupyter notebook may include graphics. \n",
    "    It is best to create a directory for your demonstration and put all of the files including the notebook within that directory. \n",
    "    We generally make the directory name the same as the Jupyter Notebook, but without the .ipynb suffix. Example:\n",
    "</p>\n",
    "\n",
    "<pre style='font-size:16px;font-family:Arial;'>\n",
    "- UseCases\n",
    "    - ...\n",
    "    - My_Demo\n",
    "        - My_Demo.ipynb\n",
    "        - images\n",
    "            - My_Demo.jpg           (thumbnail of a major output)\n",
    "            - Picture1.jpg\n",
    "            - Picture2.jpg\n",
    "        - data\n",
    "            - Sample.csv\n",
    "    - ...\n",
    "</pre>"
   ]
  },
  {
   "cell_type": "markdown",
   "id": "fe6cadc0-24f5-4cbf-acc6-39b4f6b430b5",
   "metadata": {},
   "source": [
    "<hr style=\"height:2px;border:none;\">\n",
    "<p style = 'font-size:20px;font-family:Arial'><b>2. Suggested Outline Of Your Notebook</b></p>\n",
    "\n",
    "<ul>\n",
    "    <li style='font-size:16px;font-family:Arial;'>\n",
    "        It is best to start with a paragraph describing the business situation and how this demonstration addresses that business situation.\n",
    "    </li>\n",
    "    <li style='font-size:16px;font-family:Arial;'>\n",
    "        If your notebook has more than a few steps, provide a high level outline of the steps you will be going through. \n",
    "        This is high level. Each step in the notebook may take multiple queries or code blocks.\n",
    "    </li>\n",
    "    <li style='font-size:16px;font-family:Arial;'>\n",
    "        Provide a description before each code block of what that code block will be doing. \n",
    "        If your notebook is more than 20 steps, you may want to put a heading from your high level overview of the notebook using the markdown ## marker before that step name so the user can easily jump to areas of interest.\n",
    "    </li>\n",
    "    <li style='font-size:16px;font-family:Arial;'>\n",
    "        If you have reference information about the functions or citations of the data source or algorithms, include a list of those citations at the end of your notebook.\n",
    "    </li>\n",
    "    <li style='font-size:16px;font-family:Arial;'>\n",
    "        Finally, you may want to list yourself as the author and provide the reader a little background about you.\n",
    "    </li>\n",
    "</ul>"
   ]
  },
  {
   "cell_type": "markdown",
   "id": "00698da2-9450-423a-9817-e2487c185334",
   "metadata": {},
   "source": [
    "<hr style=\"height:2px;border:none;\">\n",
    "<p style = 'font-size:20px;font-family:Arial'><b>3. Organizing The Data Used In Your Demo</b></p>\n",
    "\n",
    "<p style='font-size:16px;font-family:Arial;'>\n",
    "    <b>Let's keep this simple.</b> \n",
    "    Create a database under demo_user that has your tables, views, and any other objects needed for your notebook. Example:\n",
    "</p>\n",
    "\n",
    "<pre style='font-size:16px;font-family:Arial;'>\n",
    "- create database my_demo as perm = 2 * 1024**3;\n",
    "</pre>\n",
    "\n",
    "<p style='font-size:16px;font-family:Arial;'>\n",
    "    When you are ready to submit, grant access to demo_monitor. (We don't have access to your data and can't use DBC to get access to your data)\n",
    "</p>\n",
    "\n",
    "<pre style='font-size:16px;font-family:Arial;'>\n",
    "- grant select on my_demo to demo_monitor;\n",
    "</pre>"
   ]
  },
  {
   "cell_type": "markdown",
   "id": "a37af46f-f420-4eb4-b930-3bf4a0d1f749",
   "metadata": {},
   "source": [
    "<hr style=\"height:2px;border:none;\">\n",
    "<p style = 'font-size:20px;font-family:Arial'><b>4. Submitting Your Demonstration</b></p>\n",
    "<a href=\"mailto:SC230208@teradata.com?subject=ClearScape%20Analytics%20Demo%20Submission\" style='font-size:16px;font-family:Arial;'>Click Here to Submit</a>\n",
    "\n",
    "<p style='font-size:16px;font-family:Arial;'>\n",
    "    Be sure to include \n",
    "</p>\n",
    "<ul style='font-size:16px;font-family:Arial;'>\n",
    "    <li>the name of the database and name of the folder containing your demo</li>\n",
    "    <li>the source of the data. We need to ensure that we have rights to publish the data.</li>\n",
    "    <li>whether you want to remain anonymous or if we may give you and your organization credit for your good work</li>\n",
    "</ul>"
   ]
  },
  {
   "cell_type": "markdown",
   "id": "d1add286-d292-474c-9ab7-bab64f8b2a87",
   "metadata": {},
   "source": [
    "<hr style=\"height:2px;border:none;\">\n",
    "<p style = 'font-size:20px;font-family:Arial'><b>5. What we will do</b></p>\n",
    "<ul style='font-size:16px;font-family:Arial;'>\n",
    "    <li>We will use SCP to make a copy of the folder containing your demo.</li>\n",
    "    <li>We will upload data from your database to the cloud.</li>\n",
    "    <li>We will see if we can install your demo and data on a new machine.</li>\n",
    "    <li>We will curate the demo to ensure it is usable by the general public.</li>\n",
    "    <li>If you've given us permission to give you credit, we will let you review the results of the curation.</li>\n",
    "</ul>\n",
    "\n",
    "<p style='font-size:16px;font-family:Arial;'>\n",
    "    We may come back to you to have you give the demo to us on a recorded Team session so we understand how to deliver it. (We aren't experts on everything)\n",
    "</p>"
   ]
  },
  {
   "cell_type": "markdown",
   "id": "1086bc1f-c732-4397-886c-c89bb5f002b9",
   "metadata": {},
   "source": [
    "<footer style=\"padding-bottom:35px; border-bottom:3px solid #91A0Ab\">\n",
    "    <div style=\"float:left;margin-top:14px\">ClearScape Analytics™</div>\n",
    "    <div style=\"float:right;\">\n",
    "        <div style=\"float:left; margin-top:14px\">\n",
    "            Copyright © Teradata Corporation - 2023. All Rights Reserved\n",
    "        </div>\n",
    "    </div>\n",
    "</footer>"
   ]
  }
 ],
 "metadata": {
  "kernelspec": {
   "display_name": "Teradata SQL",
   "language": "Teradata SQL",
   "name": "teradatasql"
  },
  "language_info": {
   "codemirror_mode": "Teradata SQL",
   "file_extension": ".tdrs",
   "mimetype": "application/vnd.teradata.resultset",
   "name": "Teradata SQL",
   "nbconvert_exporter": "",
   "pygments_lexer": "",
   "version": "16.20"
  }
 },
 "nbformat": 4,
 "nbformat_minor": 5
}
