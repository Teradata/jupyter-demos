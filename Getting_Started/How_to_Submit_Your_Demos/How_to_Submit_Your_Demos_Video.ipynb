{
 "cells": [
  {
   "cell_type": "markdown",
   "id": "48d6e33b-d103-4a4f-839a-7b13b76567fa",
   "metadata": {},
   "source": [
    "<header>\n",
    "   <p  style='font-size:36px;font-family:Arial; color:#F0F0F0; background-color: #00233c; padding-left: 20pt; padding-top: 20pt;padding-bottom: 10pt; padding-right: 20pt;'>\n",
    "       Submitting Demos to ClearScape Analytics Experience\n",
    "  <br>\n",
    "       <img id=\"teradata-logo\" src=\"https://storage.googleapis.com/clearscape_analytics_demo_data/DEMO_Logo/teradata.svg\" alt=\"Teradata\" style=\"width: 125px; height: auto; margin-top: 20pt;\">\n",
    "    </p>\n",
    "</header>"
   ]
  },
  {
   "cell_type": "markdown",
   "id": "24bea28e-c67d-421c-bb0c-b485c1b045e4",
   "metadata": {},
   "source": [
    "<p style='font-size:16px;font-family:Arial;'>\n",
    "    This video provides an overview of the steps to creating and submitting a demonstration for publication on ClearScape Analytics Experience.\n",
    "    <b>It is as easy as 1-2-3:</b>\n",
    "</p>\n",
    "\n",
    "<ol style='font-size:16px;font-family:Arial;'>\n",
    "    <li>Put your demo files in a folder,</li>\n",
    "    <li>Put your data/objects in a database,</li>\n",
    "    <li>Grant us access and send us an e-mail</li>\n",
    "</ol>\n",
    "\n",
    "<p style='font-size:16px;font-family:Arial;'>\n",
    "    Run Time: 1:53 <i>(you can click on icons on lower right to maximize screen or change playback speed)</i>\n",
    "</p>\n",
    "\n",
    "<video controls width=\"800\" height=\"500\" src=\"https://storage.googleapis.com/clearscape_analytics_videos/Submitting_Demos_To_Publish.mp4\" />"
   ]
  },
  {
   "cell_type": "markdown",
   "id": "5012b70c-ee30-403b-99f9-6a25e7903eac",
   "metadata": {},
   "source": [
    "<footer style=\"padding-bottom:35px; border-bottom:3px solid #91A0Ab\">\n",
    "    <div style=\"float:left;margin-top:14px\">ClearScape Analytics™</div>\n",
    "    <div style=\"float:right;\">\n",
    "        <div style=\"float:left; margin-top:14px\">\n",
    "            Copyright © Teradata Corporation - 2023. All Rights Reserved\n",
    "        </div>\n",
    "    </div>\n",
    "</footer>"
   ]
  }
 ],
 "metadata": {
  "kernelspec": {
   "display_name": "Teradata SQL",
   "language": "Teradata SQL",
   "name": "teradatasql"
  },
  "language_info": {
   "codemirror_mode": "Teradata SQL",
   "file_extension": ".tdrs",
   "mimetype": "application/vnd.teradata.resultset",
   "name": "Teradata SQL",
   "nbconvert_exporter": "",
   "pygments_lexer": "",
   "version": "16.20"
  }
 },
 "nbformat": 4,
 "nbformat_minor": 5
}
