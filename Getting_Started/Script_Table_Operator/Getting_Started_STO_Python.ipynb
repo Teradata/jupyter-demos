{
 "cells": [
  {
   "cell_type": "markdown",
   "metadata": {},
   "source": [
    "<header>\n",
    "   <p  style='font-size:36px;font-family:Arial; color:#F0F0F0; background-color: #00233c; padding-left: 20pt; padding-top: 20pt;padding-bottom: 10pt; padding-right: 20pt;'>\n",
    "       Script Table Operator - execute custom python scripts in Vantage\n",
    "  <br>\n",
    "       <img id=\"teradata-logo\" src=\"https://storage.googleapis.com/clearscape_analytics_demo_data/DEMO_Logo/teradata.svg\" alt=\"Teradata\" style=\"width: 125px; height: auto; margin-top: 20pt;\">\n",
    "    </p>\n",
    "</header>"
   ]
  },
  {
   "cell_type": "markdown",
   "metadata": {},
   "source": [
    "<p style = 'font-size:20px;font-family:Arial'><b>Introduction</b></p>\n",
    "\n",
    "<p style = 'font-size:16px;font-family:Arial'>In this functional demo we'll be see how we can run an external custom python script in Vantage using <b>Script Table Operator(STO)</b> to execute custom python scripts on Vantage. The STO operates by executing R and Python scripts from the command line of the Advanced SQL Engine underlying operating system, according to\n",
    "the following sequence:\n",
    "</p>\n",
    "\n",
    "<ol style = 'font-size:16px;font-family:Arial'>\n",
    "  <li>The language script is installed on the Advanced SQL Engine of the target Teradata Vantage system via a call to\n",
    "an External Stored Procedure (XSP)</li>\n",
    "      <li>The script is invoked by executing a SQL query that calls the STO</li>\n",
    "  <li>Each Advanced SQL Engine AMP provides its own portion of input table data, if any, to the script. The script\n",
    "reads its input from the standard input STDIN</li>\n",
    "  <li>Each Advanced SQL Engine AMP runs a different instance of the same script. Hence, the script execution is an\n",
    "operation that scales through system architecture as the same script is run concurrently on all AMPs</li>\n",
    "  <li>The script executes its code and sends its results to the standard output STDOUT. Each Advanced SQL Engine\n",
    "AMP individually picks up the corresponding script instance results, and returns them to the STO</li>\n",
    "</ol>"
   ]
  },
  {
   "cell_type": "markdown",
   "metadata": {},
   "source": [
    "<hr style=\"height:2px;border:none;\">\n",
    "\n",
    "<p style = 'font-size:20px;font-family:Arial'><b>1. Connect to Vantage.</b></p>"
   ]
  },
  {
   "cell_type": "markdown",
   "metadata": {},
   "source": [
    "<p style = 'font-size:16px;font-family:Arial'>In the section, we import the required libraries and set environment variables and environment paths.</p>"
   ]
  },
  {
   "cell_type": "code",
   "execution_count": null,
   "metadata": {},
   "outputs": [],
   "source": [
    "import getpass\n",
    "import pandas as pd\n",
    "import datetime\n",
    "from teradataml import (configure,warnings,\n",
    "                        create_context,remove_context,\n",
    "                        execute_sql,\n",
    "                        DataFrame,in_schema,\n",
    "                        Script,OrderedDict,\n",
    "                        BIGINT,BYTEINT,FLOAT)\n",
    "\n",
    "\n",
    "display.max_rows = 5\n",
    "warnings.filterwarnings('ignore')\n",
    "warnings.simplefilter(action='ignore', category=DeprecationWarning)\n",
    "warnings.simplefilter(action='ignore', category=RuntimeWarning)\n",
    "warnings.simplefilter(action='ignore', category=FutureWarning)"
   ]
  },
  {
   "cell_type": "markdown",
   "metadata": {},
   "source": [
    "<p style = 'font-size:16px;font-family:Arial'>We will be prompted to provide the password. We will enter the password, press the Enter key, and then use the down arrow to go to the next cell. Begin running steps with Shift + Enter keys.</p>"
   ]
  },
  {
   "cell_type": "code",
   "execution_count": null,
   "metadata": {},
   "outputs": [],
   "source": [
    "%run -i ../../UseCases/startup.ipynb\n",
    "eng = create_context(host = 'host.docker.internal', username='demo_user', password = password)\n",
    "print(eng)"
   ]
  },
  {
   "cell_type": "code",
   "execution_count": null,
   "metadata": {},
   "outputs": [],
   "source": [
    "%%capture\n",
    "execute_sql('''SET query_band='DEMO=Getting_Started_STO_Python.ipynb;' UPDATE FOR SESSION; ''')"
   ]
  },
  {
   "cell_type": "markdown",
   "metadata": {},
   "source": [
    "<hr style=\"height:2px;border:none;\">\n",
    "<p style = 'font-size:20px;font-family:Arial'><b>Getting Data for This Demo</b></p>\n",
    "<p style = 'font-size:16px;font-family:Arial'>We have provided data for this demo on cloud storage.  You have the option of either running the demo using foreign tables to access the data without using any storage on your environment or downloading the data to local storage which may yield somewhat faster execution, but there could be considerations of available storage.  There are two statements in the following cell, and one is commented out.  You may switch which mode you choose by changing the comment string.</p>"
   ]
  },
  {
   "cell_type": "code",
   "execution_count": null,
   "metadata": {},
   "outputs": [],
   "source": [
    "%run -i ../../UseCases/run_procedure.py \"call get_data('DEMO_HyperModel_cloud');\"\n",
    " # Takes about 20 seconds\n",
    "#%run -i ../../UseCases/run_procedure.py \"call get_data('DEMO_HyperModel_local');\"\n",
    " # Takes about 50 secs"
   ]
  },
  {
   "cell_type": "markdown",
   "metadata": {},
   "source": [
    "<p style = 'font-size:16px;font-family:Arial'>Optional step – We should execute the below step only if we want to see the status of databases/tables created and space used.</p>"
   ]
  },
  {
   "cell_type": "code",
   "execution_count": null,
   "metadata": {},
   "outputs": [],
   "source": [
    "%run -i ../../UseCases/run_procedure.py \"call space_report();\""
   ]
  },
  {
   "cell_type": "markdown",
   "metadata": {},
   "source": [
    "<hr style=\"height:2px;border:none;\">\n",
    "\n",
    "<p style = 'font-size:20px;font-family:Arial'><b>2. The Dataset</b></p>\n",
    "<p style = 'font-size:16px;font-family:Arial'>Let us take a look at the sample dataset we are using.</p>"
   ]
  },
  {
   "cell_type": "code",
   "execution_count": null,
   "metadata": {},
   "outputs": [],
   "source": [
    "dataset = DataFrame(in_schema('DEMO_HyperModel', 'Dataset'))\n",
    "dataset"
   ]
  },
  {
   "cell_type": "markdown",
   "metadata": {},
   "source": [
    "<hr style=\"height:2px;border:none;\">\n",
    "\n",
    "<p style = 'font-size:20px;font-family:Arial'><b>3. Create the Python Script</b></p>\n",
    "<p style = 'font-size:16px;font-family:Arial'>We will create a python script named script_example.py which will use OneClassSVM from sklearn to identify outliers in the dataset.</p>"
   ]
  },
  {
   "cell_type": "code",
   "execution_count": null,
   "metadata": {},
   "outputs": [],
   "source": [
    "%%writefile script_example.py\n",
    "#!/usr/bin/python\n",
    "\"\"\"\n",
    "This script reads tab-separated values from standard input to form a pandas DataFrame,\n",
    "which it then preprocesses by specifying correct data types for each column. It uses\n",
    "OneClassSVM from sklearn to identify outliers in the dataset. Each record's ID, Partition_ID,\n",
    "and its anomaly status (inlier=1, outlier=-1) are printed as output.\n",
    "\n",
    "The script expects the input data to be in a specific format, with columns specified for\n",
    "float, integer, and categorical data types. The data is expected to be streamed and ends\n",
    "either when a blank line is encountered or EOF is reached.\n",
    "\n",
    "Columns:\n",
    "- Partition_ID, ID (integers)\n",
    "- X1 to X9, Y1 (floats)\n",
    "- flag, Y2 (categorical)\n",
    "- FOLD (integer but not explicitly converted)\n",
    "\n",
    "Usage:\n",
    "- The script is intended to be used in a pipeline where it reads from stdin.\n",
    "- Example: cat data.tsv | ./script_example.py\n",
    "\"\"\"\n",
    "\n",
    "import sys\n",
    "import pandas as pd\n",
    "import numpy as np\n",
    "from sklearn.svm import OneClassSVM\n",
    "from sklearn.preprocessing import StandardScaler\n",
    "\n",
    "# Define column names for the DataFrame to be created\n",
    "column_names     = ['Partition_ID', 'ID', 'X1', 'X2', 'X3', 'X4', 'X5', 'X6', 'X7', 'X8', 'X9', 'flag', 'Y1', 'Y2', 'FOLD']\n",
    "\n",
    "# Specify which columns are to be treated as floating point numbers\n",
    "float_columns    = ['X1', 'X2', 'X3', 'X4', 'X5', 'X6', 'X7', 'X8', 'X9', 'Y1']\n",
    "\n",
    "# Specify which columns are integer\n",
    "integer_columns  = ['Partition_ID', 'ID']\n",
    "\n",
    "# Specify which columns are categorical\n",
    "category_columns = ['flag', 'Y2']\n",
    "\n",
    "# Define the delimiter to be used for splitting input lines\n",
    "DELIMITER        = '\\t'\n",
    "\n",
    "def reconstruct_pandas_dataframe():\n",
    "    \"\"\"\n",
    "    Reads standard input line by line to construct a pandas DataFrame with\n",
    "    appropriate data types specified for each column.\n",
    "\n",
    "    Returns:\n",
    "        df (DataFrame): A DataFrame with data read from standard input,\n",
    "                        with columns typed as float, int, and category as appropriate.\n",
    "    \"\"\"\n",
    "    data_Tbl = []\n",
    "    while True:\n",
    "        try:\n",
    "            line = input()\n",
    "            if line == '':\n",
    "                break\n",
    "            data_Tbl.append([x.replace(\" \",\"\") for x in line.split(DELIMITER)])\n",
    "        except EOFError:\n",
    "            break\n",
    "\n",
    "    df = pd.DataFrame(data_Tbl, columns=column_names)\n",
    "    \n",
    "    for c in float_columns:\n",
    "        df[c] = df[c].astype('float')\n",
    "    for c in integer_columns:\n",
    "        df[c] = df[c].astype('int')\n",
    "    for c in category_columns:\n",
    "        df[c] = df[c].astype('category')\n",
    "\n",
    "    return df\n",
    "\n",
    "df = reconstruct_pandas_dataframe()\n",
    "\n",
    "if df.shape[0] == 0:\n",
    "    sys.exit(\"The input DataFrame is empty. Exiting the script.\")\n",
    "\n",
    "# Extract the columns specified as float_columns from the DataFrame\n",
    "data_subset = df[float_columns]\n",
    "\n",
    "# Initialize a StandardScaler object\n",
    "scaler = StandardScaler()\n",
    "\n",
    "# Fit and transform the data using the scaler object; this standardizes the data\n",
    "data_scaled = scaler.fit_transform(data_subset)\n",
    "\n",
    "# Initialize OneClassSVM with specified parameters\n",
    "ocsvm = OneClassSVM(nu=0.05, kernel='rbf', gamma='auto')\n",
    "\n",
    "# Train the OneClassSVM on the scaled data\n",
    "ocsvm.fit(data_scaled)\n",
    "\n",
    "# Use the trained model to predict anomalies; -1 for outliers and 1 for inliers\n",
    "df['anomaly']           = ocsvm.predict(data_scaled)\n",
    "\n",
    "df['decision_function'] = ocsvm.decision_function(data_scaled)\n",
    "\n",
    "df['anomaly_score']     = ocsvm.score_samples(data_scaled)\n",
    "\n",
    "# Print outputs: Partition_ID, ID, and predicted anomaly status for each record\n",
    "for i, row in df.iterrows():\n",
    "    print(row['Partition_ID'], DELIMITER, row['ID'], DELIMITER, row['anomaly'], DELIMITER, row['decision_function'], DELIMITER, row['anomaly_score'])\n"
   ]
  },
  {
   "cell_type": "markdown",
   "metadata": {},
   "source": [
    "<hr style=\"height:2px;border:none;\">\n",
    "\n",
    "<p style = 'font-size:20px;font-family:Arial'><b>4. Execute the script in Vantage</b></p>\n",
    "<p style = 'font-size:16px;font-family:Arial'>The below cell will perform the following steps:</p>\n",
    "<ol style = 'font-size:16px;font-family:Arial'>\n",
    "    <li>Set SEARCHUIFDBPATH to demo_user</li>\n",
    "    <li>Install the external python file, script_example.py file on Vantage</li>\n",
    "    <li>If the file is already installed, it will remove the file and install it again. This ensures we always have latest script in Vantage.</li>\n",
    "</ol>"
   ]
  },
  {
   "cell_type": "markdown",
   "metadata": {},
   "source": [
    "<hr style=\"height:1px;border:none;\">\n",
    "\n",
    "<p style = 'font-size:18px;font-family:Arial'><b>4.1 Set SEARCHUIFDBPATH</b></p>\n"
   ]
  },
  {
   "cell_type": "code",
   "execution_count": null,
   "metadata": {},
   "outputs": [],
   "source": [
    "database = 'demo_user'\n",
    "execute_sql(f\"SET SESSION SEARCHUIFDBPATH = {database};\")\n",
    "execute_sql(f'DATABASE \"{database}\";')"
   ]
  },
  {
   "cell_type": "markdown",
   "metadata": {},
   "source": [
    "<p style = 'font-size:16px;font-family:Arial'><i>* The above code returns no output as we are only setting the Database value.</i></p>"
   ]
  },
  {
   "cell_type": "markdown",
   "metadata": {},
   "source": [
    "<hr style=\"height:1px;border:none;\">\n",
    "\n",
    "<p style = 'font-size:18px;font-family:Arial'><b>4.2 Install script</b></p>\n",
    "<p style = 'font-size:16px;font-family:Arial'>In the below cell we will install the python script in Vantage with all the required parameter values. If the file already exists we will replace the file.</p>"
   ]
  },
  {
   "cell_type": "code",
   "execution_count": null,
   "metadata": {},
   "outputs": [],
   "source": [
    "sto = Script(\n",
    "    data                  = dataset[dataset.FOLD == 'train'],\n",
    "    script_name           = 'script_example.py',\n",
    "    files_local_path      = '.',\n",
    "    script_command        = f\"tdpython3 ./demo_user/script_example.py\",\n",
    "    data_order_column     = \"ID\",\n",
    "    data_partition_column = 'Partition_ID',\n",
    "    is_local_order        = False,\n",
    "    nulls_first           = False,\n",
    "    sort_ascending        = False,\n",
    "    charset               = 'latin',\n",
    "    returns               = OrderedDict(\n",
    "        [\n",
    "            (\"Partition_ID\" , BIGINT()),\n",
    "            (\"ID\"           , BIGINT()),\n",
    "            (\"ANOMALY\"      , BYTEINT()),\n",
    "            (\"DECISION_FUNCTION\" , FLOAT()),\n",
    "            (\"ANOMALY_SCORE\"     , FLOAT())\n",
    "        ]\n",
    "    )\n",
    ")"
   ]
  },
  {
   "cell_type": "code",
   "execution_count": null,
   "metadata": {},
   "outputs": [],
   "source": [
    "try:\n",
    "    sto.remove_file('script_example')\n",
    "except:\n",
    "    print('the file does not exist. No need to remove it.')\n",
    "sto.install_file(\n",
    "    file_identifier = 'script_example',\n",
    "    file_name       = 'script_example.py',\n",
    "    is_binary       = False\n",
    ")"
   ]
  },
  {
   "cell_type": "markdown",
   "metadata": {},
   "source": [
    "<hr style=\"height:1px;border:none;\">\n",
    "\n",
    "<p style = 'font-size:18px;font-family:Arial'><b>4.3 Script Execution</b></p>\n",
    "<p style = 'font-size:16px;font-family:Arial'>In the below cell we will execute the script and record the total execution time."
   ]
  },
  {
   "cell_type": "code",
   "execution_count": null,
   "metadata": {},
   "outputs": [],
   "source": [
    "%%time\n",
    "tic = time.time()\n",
    "print(sto.execute_script())\n",
    "tac = time.time()\n",
    "print('computation time :', tac-tic,'seconds')"
   ]
  },
  {
   "cell_type": "markdown",
   "metadata": {},
   "source": [
    "<p style = 'font-size:18px;font-family:Arial'><b>Conclusion</b></p>\n",
    "<p style = 'font-size:16px;font-family:Arial'>In this demo we have seen how we can install and execute external python script in Vantage.</p>"
   ]
  },
  {
   "cell_type": "markdown",
   "metadata": {},
   "source": [
    "<hr style=\"height:2px;border:none;\">\n",
    "<p style = 'font-size:20px;font-family:Arial'><b>5. Cleanup</b></p>\n",
    "<p style = 'font-size:18px;font-family:Arial'><b>Databases and Tables</b></p>\n",
    "<p style = 'font-size:16px;font-family:Arial'>The following code will clean up tables and databases created above.</p>"
   ]
  },
  {
   "cell_type": "code",
   "execution_count": null,
   "metadata": {},
   "outputs": [],
   "source": [
    "%run -i ../../UseCases/run_procedure.py \"call remove_data('DEMO_HyperModel');\" \n",
    "#Takes 40 seconds"
   ]
  },
  {
   "cell_type": "code",
   "execution_count": null,
   "metadata": {},
   "outputs": [],
   "source": [
    "remove_context()"
   ]
  },
  {
   "cell_type": "markdown",
   "metadata": {},
   "source": [
    "<footer style=\"padding-bottom:35px; border-bottom:3px solid #91A0Ab\">\n",
    "<div style=\"float:left;margin-top:14px\">ClearScape Analytics™</div>\n",
    "<div style=\"float:right;\">\n",
    "<div style=\"float:left; margin-top:14px\">\n",
    "            Copyright © Teradata Corporation - 2024. All Rights Reserved\n",
    "</div>\n",
    "</div>\n",
    "</footer>"
   ]
  }
 ],
 "metadata": {
  "createdOn": 1712679523493,
  "creator": "dm250067",
  "customFields": {},
  "hide_input": false,
  "kernelspec": {
   "display_name": "Python 3 (ipykernel)",
   "language": "python",
   "name": "python3"
  },
  "language_info": {
   "codemirror_mode": {
    "name": "ipython",
    "version": 3
   },
   "file_extension": ".py",
   "mimetype": "text/x-python",
   "name": "python",
   "nbconvert_exporter": "python",
   "pygments_lexer": "ipython3",
   "version": "3.9.10"
  },
  "modifiedBy": "dm250067",
  "tags": []
 },
 "nbformat": 4,
 "nbformat_minor": 4
}
