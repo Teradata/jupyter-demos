{
 "cells": [
  {
   "cell_type": "markdown",
   "id": "537324bc-2d0e-4d60-88c9-0e077fd23785",
   "metadata": {},
   "source": [
    "<header>\n",
    "   <p  style='font-size:36px;font-family:Arial; color:#F0F0F0; background-color: #00233c; padding-left: 20pt; padding-top: 20pt;padding-bottom: 10pt; padding-right: 20pt;'>\n",
    "      tdplyr R Basics\n",
    "  <br>\n",
    "       <img id=\"teradata-logo\" src=\"https://storage.googleapis.com/clearscape_analytics_demo_data/DEMO_Logo/teradata.svg\" alt=\"Teradata\" style=\"width: 125px; height: auto; margin-top: 20pt;\">\n",
    "    </p>\n",
    "</header>\n",
    "<p style = 'font-size:16px;font-family:Arial'>The Teradata Package for R (tdplyr) is an open-source R library package that combines the benefits of open-source R language environment with the massive parallel processing capabilities of Teradata Vantage, which includes the Machine Learning Engine analytic functions and the Analytics Database in-database analytic functions. Teradata Package for R allows users to develop and run R programs that take advantage of the Big Data and Machine Learning analytics capabilities of Vantage, and can be used in conjunction with open source R capabilities. Moreover, the tdplyr package conforms and works with the functions of the dbplyr package and most of the verbs of the dplyr package.</p>\n",
    "  \n",
    "<p style = 'font-size:16px;font-family:Arial'>This notebook will cover the very basics of the tdplyr package and is a technical demonstration of different functionalities of Teradataml. This is not a business outcome type demo.  Please see the Getting Started Guide online <a href = 'https://docs.teradata.com/search/all?query=Introduction+to+Teradata+Package+for+R&filters=prodname~%2522Teradata+Package+for+R%2522&content-lang=en-US'>here.</a></p>"
   ]
  },
  {
   "cell_type": "markdown",
   "id": "f799b69d-756c-4024-b56f-bcdf017e3539",
   "metadata": {},
   "source": [
    "<hr style=\"height:2px;border:none;\">\n",
    "<p style = 'font-size:20px;font-family:Arial'><b>1. Install and load the necessary Packages and Libraries</b></p>\n",
    "<p style = 'font-size:16px;font-family:Arial'>\n",
    "Installing R only needs to be done once for this environment.\n",
    "<br><br>\n",
    "To install the package, copy this line into the clipboard:\n",
    "<blockquote><i>\n",
    "Rscript -e \"install.packages('tdplyr',repos=c('https://r-repo.teradata.com','https://cloud.r-project.org'))\"\n",
    "</i></blockquote> </p>\n",
    "<p style = 'font-size:16px;font-family:Arial'>Open a terminal window by selecting File --> New --> and the select Terminal.  Then paste the line at the Command Prompt and press Enter.  This will take a few minutes.  It's finished when you are returned to the <b>(base) jovyan@de76f2e68a54:~/JupyterLabRoot$ </b> Command Prompt.\n",
    "</p>\n",
    "\n",
    "    "
   ]
  },
  {
   "cell_type": "code",
   "execution_count": null,
   "id": "ba859a0b-889c-4d86-82f5-ccbb25939540",
   "metadata": {},
   "outputs": [],
   "source": [
    "suppressWarnings({\n",
    "library(tdplyr)\n",
    "library(dbplyr)\n",
    "library(dplyr)\n",
    "library(DBI)    \n",
    "    })"
   ]
  },
  {
   "cell_type": "markdown",
   "id": "ce1ac1f0-a355-47e0-a9a9-b9328ee40ae8",
   "metadata": {},
   "source": [
    "<p style = 'font-size:16px;font-family:Arial'>Help function will list all the documentation related to tdplyr package.</p>"
   ]
  },
  {
   "cell_type": "code",
   "execution_count": null,
   "id": "b26b79a1-78aa-4d03-b2a6-89c3c872fb79",
   "metadata": {},
   "outputs": [],
   "source": [
    "help(package='tdplyr')"
   ]
  },
  {
   "cell_type": "markdown",
   "id": "3eb5f8b1-2d90-4ae7-bc45-15873bf96e43",
   "metadata": {},
   "source": [
    "<p style = 'font-size:16px;font-family:Arial'>Below code is used to check the tdplyr package version installed.</p>"
   ]
  },
  {
   "cell_type": "code",
   "execution_count": null,
   "id": "e30e0dbf-6b4d-4203-847a-f73cf1ea7e40",
   "metadata": {},
   "outputs": [],
   "source": [
    "packageVersion(\"tdplyr\")"
   ]
  },
  {
   "cell_type": "markdown",
   "id": "a6ac6b3e-93ed-44c9-82ae-d156e3f660c9",
   "metadata": {},
   "source": [
    "<hr style=\"height:2px;border:none;\">\n",
    "<p style = 'font-size:20px;font-family:Arial'><b>2. Connect to Vantage</b>\n",
    "<p style = 'font-size:16px;font-family:Arial'>You will be prompted to provide the password. Enter your password, press the Enter key, then use down arrow to go to next cell.</p>"
   ]
  },
  {
   "cell_type": "code",
   "execution_count": null,
   "id": "1491a3bf-75e9-455d-9203-9e22a800d893",
   "metadata": {
    "tags": []
   },
   "outputs": [],
   "source": [
    "con <- td_create_context(host = 'host.docker.internal', uid = \"demo_user\", pwd = getPass(\"Enter your password: \"), dType = \"NATIVE\", logmech = \"TD2\")"
   ]
  },
  {
   "cell_type": "markdown",
   "id": "cb122d7b-8e1a-40ec-b389-2386dbb81673",
   "metadata": {},
   "source": [
    "<p style = 'font-size:16px;font-family:Arial'>Set the queryband, below code will set the queryband for the session.</p>"
   ]
  },
  {
   "cell_type": "code",
   "execution_count": null,
   "id": "48e0c344-58d7-46ca-b811-2140fc1b98eb",
   "metadata": {},
   "outputs": [],
   "source": [
    "dbExecute(con,\"SET query_band='DEMO=tdplyr_R_Basics.ipynb;' UPDATE FOR SESSION;\") "
   ]
  },
  {
   "cell_type": "markdown",
   "id": "92d7b365-f2f8-4ccd-8972-8aeb496b4ac9",
   "metadata": {},
   "source": [
    "<hr style=\"height:2px;border:none;\">\n",
    "<p style = 'font-size:20px;font-family:Arial'><b>3. Getting Data for This Demo</b></p>\n",
    "<p style = 'font-size:16px;font-family:Arial'>We have provided data for this demo on cloud storage.  You have the option of either running the demo using foreign tables to access the data without using any storage on your environment or downloading the data to local storage which may yield somewhat faster execution, but there could be considerations of available storage.  There are two statements in the following cell, and one is commented out.  You may switch which mode you choose by changing the comment string.</p>"
   ]
  },
  {
   "cell_type": "code",
   "execution_count": null,
   "id": "46f7af2d-02a0-4fc6-bee7-09e1de7b8304",
   "metadata": {},
   "outputs": [],
   "source": [
    "dbExecute(con,\"call get_data('DEMO_DataScienceExploration_local');\") \n",
    "#takes 2min to load the data"
   ]
  },
  {
   "cell_type": "markdown",
   "id": "2192e611-4c21-4b8d-ab0f-85491a8a0847",
   "metadata": {},
   "source": [
    "<hr style=\"height:2px;border:none;\">\n",
    "<p style = 'font-size:20px;font-family:Arial'><b>4. Creating a tibble from a Table in Vantage</b>\n",
    "<p style = 'font-size:16px;font-family:Arial'>The tbl() function of the \"dplyr\" package creates a tdplyr tibble from an existing table in a database in Vantage.<br>\n",
    "A tdplyr tibble is an R table that resembles an R tibble, that is, a form of data frame. The difference between a tdplyr tibble and an R tibble is that the output object of tbl() function shows that a tdplyr tibble is a remote source in a database in Vantage.</p>"
   ]
  },
  {
   "cell_type": "code",
   "execution_count": null,
   "id": "35749bc7-f042-47ca-af4d-ad59b36de4ea",
   "metadata": {},
   "outputs": [],
   "source": [
    "tdf <- tbl(con, in_schema(\"DEMO_DataScienceExploration\", \"House_Prices\"))\n",
    "tdf"
   ]
  },
  {
   "cell_type": "markdown",
   "id": "4ef791a0-4fd9-4673-bf23-f61b4c46504e",
   "metadata": {},
   "source": [
    "<p style = 'font-size:16px;font-family:Arial'>glimpse function will give the description of columns in dataframe/tibble.</p>"
   ]
  },
  {
   "cell_type": "code",
   "execution_count": null,
   "id": "f5d441e6-5fba-46e4-8f1a-dc06822363b1",
   "metadata": {},
   "outputs": [],
   "source": [
    "glimpse(tdf)"
   ]
  },
  {
   "cell_type": "markdown",
   "id": "38b4124a-d953-479a-91ae-3b49b83be2a2",
   "metadata": {},
   "source": [
    "<p style = 'font-size:16px;font-family:Arial'>Below code can be used to get the total row count of the tibble</p>"
   ]
  },
  {
   "cell_type": "code",
   "execution_count": null,
   "id": "5750749e-7bfb-4d6a-80f9-0eb588e38d0d",
   "metadata": {},
   "outputs": [],
   "source": [
    "td_nrow(tdf)"
   ]
  },
  {
   "cell_type": "markdown",
   "id": "475efc72-7e72-4a3c-aa29-1e5cb4c199f1",
   "metadata": {},
   "source": [
    "<p style = 'font-size:16px;font-family:Arial'>head will extract first few rows of the tibble.</p>"
   ]
  },
  {
   "cell_type": "code",
   "execution_count": null,
   "id": "c322d8ee-a405-4ecd-a9f2-070df903cda7",
   "metadata": {},
   "outputs": [],
   "source": [
    "tdf %>% head()"
   ]
  },
  {
   "cell_type": "markdown",
   "id": "d50be2c8-cd5f-4197-b19c-b2a3e2cc438c",
   "metadata": {},
   "source": [
    "<hr style=\"height:2px;border:none;\">\n",
    "<p style = 'font-size:20px;font-family:Arial'><b>5. Aggregations</b>\n",
    "<p style = 'font-size:16px;font-family:Arial'>Various aggregations are available for grouping, windowing, time series, etc.</p>"
   ]
  },
  {
   "cell_type": "code",
   "execution_count": null,
   "id": "cb5057c4-f8f6-4246-be72-eab8d375e8b4",
   "metadata": {},
   "outputs": [],
   "source": [
    "tdf %>% group_by(bedrooms) %>% summarize(mean = mean(price), n = n())"
   ]
  },
  {
   "cell_type": "markdown",
   "id": "bb6b5aa4-d93f-4671-ad2b-5eb7ec3e8be1",
   "metadata": {},
   "source": [
    "<p style = 'font-size:16px;font-family:Arial'>\n",
    "<i>mutate(price_per_bed = price / bedrooms) </i><br>\n",
    "is used to create a new column price_per_bed in the tdf table, which contains the result of dividing the price column by the bedrooms column.</p>"
   ]
  },
  {
   "cell_type": "code",
   "execution_count": null,
   "id": "c6403614-4ae1-42cc-ae53-df1b4e5a127c",
   "metadata": {},
   "outputs": [],
   "source": [
    "tdf <- tdf %>% mutate(price_per_bed = price / bedrooms)"
   ]
  },
  {
   "cell_type": "markdown",
   "id": "8cbed088-c3cb-44aa-9624-922b930ae6bd",
   "metadata": {},
   "source": [
    "<p style = 'font-size:16px;font-family:Arial'>\n",
    "Print all columns and a specified number of rows (e.g., 10)"
   ]
  },
  {
   "cell_type": "code",
   "execution_count": null,
   "id": "b714577e-9c50-4ba0-9a73-24aab0446cb8",
   "metadata": {},
   "outputs": [],
   "source": [
    "print(tdf, n = 10, width = Inf)"
   ]
  },
  {
   "cell_type": "markdown",
   "id": "574c5f8d-85dc-45b0-bdc9-37638d0aa80d",
   "metadata": {},
   "source": [
    "<hr style=\"height:2px;border:none;\">\n",
    "<p style = 'font-size:20px;font-family:Arial'><b>6. Cleanup</b></p>\n",
    "<p style = 'font-size:16px;font-family:Arial'>The following code will clean up tables and databases created above.</p>"
   ]
  },
  {
   "cell_type": "code",
   "execution_count": null,
   "id": "0bffec1b-4c94-4e4e-badf-55233f38f061",
   "metadata": {},
   "outputs": [],
   "source": [
    "dbExecute(con,\"call remove_data('DEMO_DataScienceExploration');\") "
   ]
  },
  {
   "cell_type": "markdown",
   "id": "47411b3e-304a-45ef-a643-b54e75138956",
   "metadata": {},
   "source": [
    "<hr style=\"height:1px;border:none;\">\n",
    "<p style = 'font-size:16px;font-family:Arial'>It is a good practice to remove the context that we created to connect to Vantage. The remove_context function removes the current context associated with the Vantage connection.remove_context() not only closes the connection but also garbage collects the intermediate views and tables created by tdplyr. Teradata recommends calling remove_context() to end a session, so that intermediate views and tables created by tdplyr are garbage collected.</p>"
   ]
  },
  {
   "cell_type": "code",
   "execution_count": null,
   "id": "5eee6b98-aa64-431e-b061-c2e26ef3a944",
   "metadata": {},
   "outputs": [],
   "source": [
    "td_remove_context()"
   ]
  },
  {
   "cell_type": "markdown",
   "id": "2b1ebd7f-708f-456a-a974-bb11501c6672",
   "metadata": {},
   "source": [
    "<p style = 'font-size:20px;font-family:Arial'><b>Downloading and Installing the Teradata R package</b></p>\n",
    "<p style = 'font-size:16px;font-family:Arial'>The Teradata Package for R, tdplyr, is available from Teradata GitHub site <a href = 'https://github.com/Teradata/tdplyr'>here.</a> <br>\n",
    "The following command should be run from a Terminal (for Linux and Mac) or Command Prompt (for Windows).  This will download and install the tdplyr package along with the dependent packages, from Amazon AWS and CRAN repository.  \n",
    "<blockquote><i>\n",
    "Rscript -e \"install.packages('tdplyr',repos=c('https://r-repo.teradata.com','https://cloud.r-project.org'))\"\n",
    "</i></blockquote> </p>\n",
    "\n",
    "    "
   ]
  },
  {
   "cell_type": "markdown",
   "id": "211bc4d1-ff13-4fdd-bab6-f7a6be3b77a7",
   "metadata": {},
   "source": [
    "<footer style=\"padding-bottom:35px; border-bottom:3px solid #91A0Ab\">\n",
    "    <div style=\"float:left;margin-top:14px\">ClearScape Analytics™</div>\n",
    "    <div style=\"float:right;\">\n",
    "        <div style=\"float:left; margin-top:14px\">\n",
    "            Copyright © Teradata Corporation - 2024. All Rights Reserved\n",
    "        </div>\n",
    "    </div>\n",
    "</footer>"
   ]
  }
 ],
 "metadata": {
  "kernelspec": {
   "display_name": "R",
   "language": "R",
   "name": "ir"
  },
  "language_info": {
   "codemirror_mode": "r",
   "file_extension": ".r",
   "mimetype": "text/x-r-source",
   "name": "R",
   "pygments_lexer": "r",
   "version": "4.1.3"
  }
 },
 "nbformat": 4,
 "nbformat_minor": 5
}
