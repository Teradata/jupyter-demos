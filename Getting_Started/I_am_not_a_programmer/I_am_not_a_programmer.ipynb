{
 "cells": [
  {
   "cell_type": "markdown",
   "id": "07e3a954-a984-4ce2-8ef3-e1b4b7739399",
   "metadata": {},
   "source": [
    "<header>\n",
    "   <p  style='font-size:36px;font-family:Arial; color:#F0F0F0; background-color: #00233c; padding-left: 20pt; padding-top: 20pt;padding-bottom: 10pt; padding-right: 20pt;'>\n",
    "       I am not a programmer ... That's OK!\n",
    "  <br>\n",
    "       <img id=\"teradata-logo\" src=\"https://storage.googleapis.com/clearscape_analytics_demo_data/DEMO_Logo/teradata.svg\" alt=\"Teradata\" style=\"width: 125px; height: auto; margin-top: 20pt;\">\n",
    "    </p>\n",
    "</header>"
   ]
  },
  {
   "cell_type": "markdown",
   "id": "2e769099-5f69-470c-bfcd-b9c6459f1feb",
   "metadata": {},
   "source": [
    "<p style = 'font-size:16px;font-family:Arial'>The demonstrations implemented with Jupyter notebooks in ClearScape Analytics Experience contain:</p>\n",
    "<ul style = 'font-size:16px;font-family:Arial'>\n",
    "    <li> Description of a business or analytics Use Case </li>\n",
    "    <li> Step-by-step analysis of the problem with:</li>\n",
    "    <ul>\n",
    "        <li>Description of what is about to happen</li>\n",
    "        <li>The pre-written code which you can run using the Shift + Enter Key</li>\n",
    "        <li>The code will produce a table or graphic display (chart, map, etc)</li>\n",
    "        <li>The output is generally followed with a description of what the table or graphic display means</li>\n",
    "    </ul>\n",
    "</ul>"
   ]
  },
  {
   "cell_type": "markdown",
   "id": "b6364071-cc48-495f-ae9d-860e68064767",
   "metadata": {},
   "source": [
    "<p style = 'font-size:16px;font-family:Arial'>Not everyone is a Data Scientist or programmer that comes to this site. Some just want to see what ClearScape Analytics and Vantage can do, so you can just run the code in the notebooks with Shift+Enter keys. You can read the descriptions of how the analysis is done and look at \"the pretty pictures\".   If you are adventurous, the descriptions in the demos may suggest simple modification you can make to the code.</p>\n",
    "<p style = 'font-size:16px;font-family:Arial'><b>Don't worry!! ... do it!!</b>\n",
    "Your environment isn't shared with anyone else and if you screw things up, you can close the notebook without saving.  If you managed to make a massive mistake, delete your environment and create a new one.  You don't need to tell anyone and we won't either!<br> ;) </p> \n",
    "<p style = 'font-size:16px;font-family:Arial'> The notebooks in \"First Time User\" will provide you basic information about navigating around Jupyter and understanding the indicators in Jupyter about what is running. The other notebooks in \"Getting Started\" assume you want to do some development which is not needed if all you want to do is to see what ClearScape Analytics and Vantage can do.</p>\n",
    "<p style = 'font-size:16px;font-family:Arial'>Don't worry about breaking anything!</p>\n",
    "<p style = 'font-size:20px;font-family:Arial'> <b>Have Fun Exploring!!!</b></p>"
   ]
  },
  {
   "cell_type": "markdown",
   "id": "2f2540f8-abf6-4622-9708-64a85024b1fd",
   "metadata": {},
   "source": [
    "<footer style=\"padding-bottom:35px; border-bottom:3px solid #91A0Ab\">\n",
    "    <div style=\"float:left;margin-top:14px\">ClearScape Analytics™</div>\n",
    "    <div style=\"float:right;\">\n",
    "        <div style=\"float:left; margin-top:14px\">\n",
    "            Copyright © Teradata Corporation - 2023. All Rights Reserved\n",
    "        </div>\n",
    "    </div>\n",
    "</footer>"
   ]
  }
 ],
 "metadata": {
  "kernelspec": {
   "display_name": "Teradata SQL",
   "language": "Teradata SQL",
   "name": "teradatasql"
  },
  "language_info": {
   "codemirror_mode": "Teradata SQL",
   "file_extension": ".tdrs",
   "mimetype": "application/vnd.teradata.resultset",
   "name": "Teradata SQL",
   "nbconvert_exporter": "",
   "pygments_lexer": "",
   "version": "16.20"
  }
 },
 "nbformat": 4,
 "nbformat_minor": 5
}
