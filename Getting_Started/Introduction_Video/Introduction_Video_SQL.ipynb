{
 "cells": [
  {
   "cell_type": "markdown",
   "id": "bcc79c7b-86cf-4056-b3aa-4fcd68c06546",
   "metadata": {},
   "source": [
    "<header>\n",
    "   <p  style='font-size:36px;font-family:Arial; color:#F0F0F0; background-color: #00233c; padding-left: 20pt; padding-top: 20pt;padding-bottom: 10pt; padding-right: 20pt;'>\n",
    "       Introduction to Using Jupyter with ClearScape Analytics Demonstration Notebooks\n",
    "  <br>\n",
    "       <img id=\"teradata-logo\" src=\"https://storage.googleapis.com/clearscape_analytics_demo_data/DEMO_Logo/teradata.svg\" alt=\"Teradata\" style=\"width: 125px; height: auto; margin-top: 20pt;\">\n",
    "    </p>\n",
    "</header>"
   ]
  },
  {
   "cell_type": "markdown",
   "id": "9f7a2fa5-b7de-4ffd-ae94-b7879fdea1ae",
   "metadata": {},
   "source": [
    "<p style='font-size:16px;font-family:Arial'>\n",
    "    This video provides an overview of:\n",
    "</p>\n",
    "<ul style='font-size:16px;font-family:Arial'>\n",
    "    <li>how to use the index and folders to locate demonstrations</li>\n",
    "    <li>how to run SQL and Jupyter Notebooks</li>\n",
    "    <li>Options for running notebooks connected to cloud storage via foreign tables or importing into local storage</li>\n",
    "    <li>tips for navigating the notebooks</li>\n",
    "</ul>\n",
    "\n",
    "<p style='font-size:16px;font-family:Arial'>\n",
    "    Run Time: 5:11 <i>(3:27 at 1.5x speed)</i>\n",
    "</p>\n",
    "\n",
    "<p style='font-size:16px;font-family:Arial'>\n",
    "    <i>(you can click on icons on lower right to maximize screen or change playback speed)</i>\n",
    "</p>\n",
    "\n",
    "<video controls width=\"800\" height=\"500\" src=\"https://storage.googleapis.com/clearscape_analytics_videos/ClearScape_Analytics_Intro_V2.mp4\" />"
   ]
  },
  {
   "cell_type": "markdown",
   "id": "8b76509d-cc3a-42ce-a276-09cb72b464e7",
   "metadata": {},
   "source": [
    "<footer style=\"padding-bottom:35px; border-bottom:3px solid #91A0Ab\">\n",
    "    <div style=\"float:left;margin-top:14px\">ClearScape Analytics™</div>\n",
    "    <div style=\"float:right;\">\n",
    "        <div style=\"float:left; margin-top:14px\">\n",
    "            Copyright © Teradata Corporation - 2023. All Rights Reserved\n",
    "        </div>\n",
    "    </div>\n",
    "</footer>"
   ]
  }
 ],
 "metadata": {
  "kernelspec": {
   "display_name": "Teradata SQL",
   "language": "Teradata SQL",
   "name": "teradatasql"
  },
  "language_info": {
   "codemirror_mode": "Teradata SQL",
   "file_extension": ".tdrs",
   "mimetype": "application/vnd.teradata.resultset",
   "name": "Teradata SQL",
   "nbconvert_exporter": "",
   "pygments_lexer": "",
   "version": "16.20"
  }
 },
 "nbformat": 4,
 "nbformat_minor": 5
}
