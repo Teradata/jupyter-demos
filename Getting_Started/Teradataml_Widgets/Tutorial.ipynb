{
 "cells": [
  {
   "cell_type": "markdown",
   "id": "bcd75fce-45ce-4a11-8988-262df0fcc2b5",
   "metadata": {},
   "source": [
    "<header>\n",
    "   <p  style='font-size:36px;font-family:Arial; color:#F0F0F0; background-color: #00233c; padding-left: 20pt; padding-top: 20pt;padding-bottom: 10pt; padding-right: 20pt;'>\n",
    "       Teradataml Widgets\n",
    "  <br>\n",
    "       <img id=\"teradata-logo\" src=\"https://storage.googleapis.com/clearscape_analytics_demo_data/DEMO_Logo/teradata.svg\" alt=\"Teradata\" style=\"width: 125px; height: auto; margin-top: 20pt;\">\n",
    "    </p>\n",
    "</header>"
   ]
  },
  {
   "cell_type": "markdown",
   "id": "98117d5a-0537-444e-8907-c5a4af4ef696",
   "metadata": {},
   "source": [
    "<p style = 'font-size:20px;font-family:Arial'><b>Introduction</b></p>\n",
    "\n",
    "<p style = 'font-size:16px;font-family:Arial'>The Teradataml Widgets (teradatamlwidgets) enhances teradataml’s built-in interaction capabilities with the Teradata Vantage™ Data and Analytics Platform. This provides  visual components for scaled, in-Database Analytics with data that you keep in the Teradata Vantage Analytics Database within a notebook.</p>\n",
    "\n",
    "<p style = 'font-size:16px;font-family:Arial'>With these components, in a notebook you will be able to:</p>\n",
    "\n",
    "<ul style = 'font-size:16px;font-family:Arial'>\n",
    "    <li>Access and execute analytic functions that reside in the Teradata Vantage Analytics Database. The functions are comprised by the following sets:</li>\n",
    "    <ul style = 'font-size:16px;font-family:Arial'>\n",
    "        <li>A select subset of the Analytics Database analytic functions.</li>\n",
    "        <li>The entire Vantage Analytics Library (VAL) functions set.</li>\n",
    "        <li>The Unbounded Array Framework (UAF) time series functions.</li>\n",
    "    </ul>\n",
    "</ul>"
   ]
  },
  {
   "cell_type": "markdown",
   "id": "95bdeda0-8d33-40fd-98d7-acd99c634b8c",
   "metadata": {},
   "source": [
    "<hr style=\"height:2px;border:none;\">\n",
    "<p style = 'font-size:18px;font-family:Arial'><b>Installing some dependencies</b>"
   ]
  },
  {
   "cell_type": "code",
   "execution_count": null,
   "id": "b2670801-d2e1-4f98-b5bd-650a266e2e15",
   "metadata": {},
   "outputs": [],
   "source": [
    "# !pip install teradatamlwidgets ipywidgets --quiet"
   ]
  },
  {
   "cell_type": "markdown",
   "id": "af64a23a-92b9-48f1-8778-5867c2ea4584",
   "metadata": {},
   "source": [
    "<div class=\"alert alert-block alert-info\">\n",
    "<p style = 'font-size:16px;font-family:Arial'><b>Note: </b><i>The above statements may need to be uncommented if you run the notebooks on a platform other than ClearScape Analytics Experience that does not have the libraries installed. If you uncomment those installs, be sure to restart the kernel after executing those lines to bring the installed libraries into memory. The simplest way to restart the Kernel is by typing zero zero: <b> 0 0</b></i></p>\n",
    "</div>"
   ]
  },
  {
   "cell_type": "markdown",
   "id": "dbd9d793-337f-4c4a-a3b9-0db25a2cf47d",
   "metadata": {},
   "source": [
    "<p style = 'font-size:16px;font-family:Arial'>Here, we import the required libraries, set environment variables and environment paths (if required).</p>"
   ]
  },
  {
   "cell_type": "code",
   "execution_count": null,
   "id": "57105370",
   "metadata": {
    "scrolled": true,
    "tags": []
   },
   "outputs": [],
   "source": [
    "%load_ext autoreload\n",
    "%autoreload 2\n",
    "import sys\n",
    "from teradataml import *\n",
    "from teradatamlwidgets.analytic_functions.Ui import *"
   ]
  },
  {
   "cell_type": "markdown",
   "id": "63ee8d25-5364-445b-8b2c-52c7d709c872",
   "metadata": {},
   "source": [
    "<hr style=\"height:2px;border:none;\">\n",
    "<b style = 'font-size:20px;font-family:Arial'>1. Initiate a connection to Vantage</b>"
   ]
  },
  {
   "cell_type": "markdown",
   "id": "4203bda2",
   "metadata": {
    "tags": []
   },
   "source": [
    "<p style = 'font-size:16px;font-family:Arial'>Below is the basic setup of the notebook with just the mandatory parameters for analytic_functions.Ui</p>\n",
    "\n",
    "<ol style = 'font-size:16px;font-family:Arial'>\n",
    "    <li>Import the notebook using the code: </li>\n",
    "        <code>from teradatamlwidgets.analytic_functions.Ui import *</code>\n",
    "    <li>Set up the inputs, this is a list with whichever input table is desired. The schema name is attached to this i.e. “dssDB.company1_stock”, dssDB is the schema and company1_stock is the table name.</li>\n",
    "    <li>Set up the output name of the function. The schema name is also attached here. This will save the output to the execution of the function to this table name chosen under the schema name. This is optional, if not specified, a name will be generated at random.</li>\n",
    "</ol>"
   ]
  },
  {
   "cell_type": "markdown",
   "id": "7790c722",
   "metadata": {},
   "source": [
    "<p style = 'font-size:16px;font-family:Arial'>After running the notebook cell below, a login screen shows.</p>\n",
    "<ul style = 'font-size:16px;font-family:Arial'>\n",
    "    <li><code>Host</code>: host.docker.internal</li>\n",
    "    <li><code>Username</code>: demo_user</li>\n",
    "    <li><code>Password</code>: Enter your database password here</li>\n",
    "    <li><code>Schema</code>: demo_user</li>\n",
    "    <li><code>VALIB</code>: VAL</li>\n",
    "</ul>\n",
    "<p style = 'font-size:16px;font-family:Arial'>Once you type in this information, click Login. After this you will see the notebook interface, click on the bar with the down arrow to see the list of all the UAF, VAL, and SQLE functions to choose from.</p>"
   ]
  },
  {
   "cell_type": "code",
   "execution_count": null,
   "id": "d2308833-0503-479e-b744-5bb0de1ffcae",
   "metadata": {},
   "outputs": [],
   "source": [
    "inputs = [\"ibm_stock\", \"titanic\"]\n",
    "outputs = [\"output_table\"]\n",
    "ui = Ui(\n",
    "    outputs = outputs,\n",
    "    inputs = inputs\n",
    ")"
   ]
  },
  {
   "cell_type": "markdown",
   "id": "9b9f9d5b",
   "metadata": {},
   "source": [
    "<hr style=\"height:2px;border:none;\">\n",
    "<b style = 'font-size:20px;font-family:Arial'>2. Load Tables</b>\n",
    "\n",
    "<p style = 'font-size:16px;font-family:Arial'>In this example we will load some tables using teradataml. As we have already logged in, we can call teradataml load functions:</p>"
   ]
  },
  {
   "cell_type": "code",
   "execution_count": null,
   "id": "de8de54e",
   "metadata": {},
   "outputs": [],
   "source": [
    "# Load the example data.\n",
    "load_example_data(\"movavg\", \"ibm_stock\")\n",
    "load_example_data(\"teradataml\", \"titanic\")"
   ]
  },
  {
   "cell_type": "markdown",
   "id": "6c2c6c7c-bbfb-46cf-a171-9ba178d14e41",
   "metadata": {},
   "source": [
    "<hr style=\"height:2px;border:none;\">\n",
    "<div style=\"background-color:gray;padding:10px;\">\n",
    "  <p style=\"font-size:18px;font-family:Arial;\"><b>Notebook Toolbar Button Functionality</b></p>\n",
    "\n",
    "  <ul style=\"font-size:16px;font-family:Arial;\">\n",
    "    <li><b>Execute: </b>Click this button once you are ready to execute the function after choosing the appropriate desired values for the parameters. It will display as a table with the first couple of rows.</li>\n",
    "    <li><b>Query: </b>Click this button if you want to see the query created based on the parameters chosen for the function before you execute the query.</li>\n",
    "    <li><b>Reset: </b>Click this button if you want to reset the function to the defaults i.e. remove the values you have chosen and restart from scratch.</li>\n",
    "    <li><b>Log Out: </b>Click this button if you want to log out, which will take you to the login dialog.</li>\n",
    "    <li><b>OPTIONAL: Load and Save</b></li>\n",
    "    <ul style=\"font-size:15px;font-family:Arial;\">\n",
    "      <li>The buttons Load and Save will only show if the 'export_settings' is included in the constructor of analytic_functions.Ui.</li>\n",
    "      <li>If this is your first time using this file, then once all the values are entered as desired, click the “Save” button to save the choices out to that specified file name. This way, when you re-run the cell (and include the export_settings filename), the saved values will automatically appear when the cell is run.</li>\n",
    "      <li>If you then make changes on top of this file, and you want to revert back to the original values saved to the file, click the “Load” button.</li>\n",
    "      <li>If you make changes on top of this file and want to save it to the new chosen values, click the “Save” button, which will rewrite the contents inside the file to the new chosen values.</li>\n",
    "    </ul>\n",
    "  </ul>\n",
    "</div>"
   ]
  },
  {
   "cell_type": "markdown",
   "id": "a5f35691",
   "metadata": {},
   "source": [
    "<hr style=\"height:2px;border:none;\">\n",
    "<b style = 'font-size:20px;font-family:Arial'>3. Moving Average</b>"
   ]
  },
  {
   "cell_type": "markdown",
   "id": "995f705b",
   "metadata": {},
   "source": [
    "<p style = 'font-size:16px;font-family:Arial'>For the function “MovingAverage”:</p>\n",
    "\n",
    "<ul style = 'font-size:16px;font-family:Arial'>\n",
    "    <li>In the <i>Required Tab</i>, the <b>Table</b> is “ibm_stock”, Data Partition option is not used because Data By and Order By have no values.</li>\n",
    "    <li>In the <i>Optional Tab</i>, <b>TargetColumns</b> is set to Blank, <b>IncludeFirst</b> is set to False, Alpha is set to 0.1, <b>StartRows</b> is set to 2, <b>WindowSize</b> is set to 10, and <b>MavgType</b> is set to “C”.</li>\n",
    "</ul>\n",
    "\n",
    "<p style = 'font-size:16px;font-family:Arial'>Click Execute button to see the output.</p>"
   ]
  },
  {
   "cell_type": "code",
   "execution_count": null,
   "id": "37fd8c02",
   "metadata": {},
   "outputs": [],
   "source": [
    "inputs = [\"ibm_stock\"]\n",
    "outputs = [\"MovingAverage_Output\"]\n",
    "ui = Ui(\n",
    "    function = 'MovingAverage',\n",
    "    outputs = outputs,\n",
    "    inputs = inputs\n",
    ")"
   ]
  },
  {
   "cell_type": "markdown",
   "id": "9bdbcd2b",
   "metadata": {},
   "source": [
    "<hr style=\"height:2px;border:none;\">\n",
    "<b style = 'font-size:20px;font-family:Arial'>4. Moving Average with parameters from a file</b>"
   ]
  },
  {
   "cell_type": "markdown",
   "id": "bca7cd38-c303-462a-be35-c63f6d747ef5",
   "metadata": {},
   "source": [
    "<p style = 'font-size:16px;font-family:Arial'>As explained in OPTIONAL: Load and Save section above, if the export_settings is set to a json, it will automatically load the parameters that are set in that JSON. You can then modify the parameters if needed and click Save button which will update the JSON accordingly.</p>\n",
    "\n",
    "<p style = 'font-size:16px;font-family:Arial'>In this example notice there is \"export_settings\" added in the constructor of analytic_functions.UI, this way you simply have to run the cell and the parameters will already be set using <b>MovingAverage.json</b> file.</p>\n",
    "\n",
    "<p style = 'font-size:16px;font-family:Arial'>The parameters this time are already set to the following below:</p>\n",
    "<ul style = 'font-size:16px;font-family:Arial'>\n",
    "    <li>In the <i>Required Tab</i>, the <b>Table</b> is “ibm_stock”, Data Partition option is not used because Data By and Order By have no values.</li>\n",
    "    <li>In the <i>Optional Tab</i>, <b>TargetColumns</b> is set to “stockprice”, <b>IncludeFirst</b> is True, <b>Alpha</b> is 0.22, <b>StartRows</b> is 3, <b>WindowSize</b> is 11, and <b>MavgType</b> is “M”.</li>"
   ]
  },
  {
   "cell_type": "code",
   "execution_count": null,
   "id": "ed56c1ec",
   "metadata": {},
   "outputs": [],
   "source": [
    "inputs = [\"ibm_stock\"]\n",
    "outputs = [\"MovingAverage_Output_Test\"]\n",
    "ui = Ui(\n",
    "    function = 'MovingAverage',\n",
    "    outputs = outputs,\n",
    "    inputs = inputs,\n",
    "    export_settings = \"MovingAverage.json\"\n",
    ")"
   ]
  },
  {
   "cell_type": "markdown",
   "id": "e792dcc1",
   "metadata": {},
   "source": [
    "<p style = 'font-size:16px;font-family:Arial'>After you click Execute, you will see the resulting table.  In order to view a better formatted result with access the full output table, use the command ui.get_output_dataframe()</p>"
   ]
  },
  {
   "cell_type": "code",
   "execution_count": null,
   "id": "80757c77",
   "metadata": {
    "scrolled": true,
    "tags": []
   },
   "outputs": [],
   "source": [
    "df = ui.get_output_dataframe()\n",
    "df"
   ]
  },
  {
   "cell_type": "markdown",
   "id": "b725d036",
   "metadata": {},
   "source": [
    "<hr style=\"height:2px;border:none;\">\n",
    "<b style = 'font-size:20px;font-family:Arial'>5. Pipeline Structure</b>"
   ]
  },
  {
   "cell_type": "markdown",
   "id": "47009045",
   "metadata": {},
   "source": [
    "<b style = 'font-size:18px;font-family:Arial'>5.1 VAL Example: Linear Regression</b>"
   ]
  },
  {
   "cell_type": "markdown",
   "id": "66504e6c",
   "metadata": {},
   "source": [
    "<p style = 'font-size:16px;font-family:Arial'>After running the cell, the parameters as mentioned before are already filled out.</p>\n",
    "\n",
    "<ul style = 'font-size:16px;font-family:Arial'>\n",
    "    <li>In the <i>Required Tab</i>, the input <b>Table</b> is “titanic”, the <b>InputColumns</b> are “age” and “p_class”, and <b>Response Column</b> is “fare”.</li>\n",
    "    <li>In the <i>Optional Tab</i>, there are no Group By Columns selected. The <b>Condition Index Threshold</b> is set to 37, the <b>Entrance Criterion</b> and <b>Remove Criterion</b> is 3.84, and the <b>Variance Proportion Threshold</b> is 0.5.</li>"
   ]
  },
  {
   "cell_type": "code",
   "execution_count": null,
   "id": "8975be26",
   "metadata": {},
   "outputs": [],
   "source": [
    "inputs = [\"demo_user.titanic\"]\n",
    "outputs = [\"demo_user.LinearRegression_Output\"]\n",
    "ui = Ui(\n",
    "    outputs = outputs,\n",
    "    function = \"Linear Regression VAL\",\n",
    "    inputs = inputs,\n",
    "    export_settings = \"LinReg.json\"\n",
    ")"
   ]
  },
  {
   "cell_type": "markdown",
   "id": "c20c6839",
   "metadata": {},
   "source": [
    "<p style = 'font-size:16px;font-family:Arial'>After you click Execute, you see the resulting table. This table will be used as the input to Linear Regression Predict VAL.</p>"
   ]
  },
  {
   "cell_type": "markdown",
   "id": "6a22a431",
   "metadata": {},
   "source": [
    "<hr style=\"height:1px;border:none;\">\n",
    "<b style = 'font-size:18px;font-family:Arial'>5.2 VAL Example: Linear Regression Predict</b>"
   ]
  },
  {
   "cell_type": "markdown",
   "id": "678fc8e6",
   "metadata": {},
   "source": [
    "<p style = 'font-size:16px;font-family:Arial'>This is step 2 of the pipeline structure.</p>\n",
    " \n",
    "<p style = 'font-size:16px;font-family:Arial'>Notice that the input is Titanic but ALSO has “demo_user. LinearRegression_Output”, this was the output table name we specified in the previous cell for Linear Regression VAL.</p>\n",
    "\n",
    "<p style = 'font-size:16px;font-family:Arial'>Once again, the export_settings has the saved values for the different parameters.</p>\n",
    "\n",
    "<ul style = 'font-size:16px;font-family:Arial'>\n",
    "    <li>In the <i>Required Tab</i>, has the <b>input_A_role</b> set to “titanic” and has the <b>Table</b> for <b>linear_regression</b> set to “LinearRegression_Output” which is the output from the cell before.</li>\n",
    "    <li>In the <i>Optional Tab</i>, <b>Index Columns</b> has “SURVIVED” selected, <b>Response Column</b> has “fare” selected and <b>Accumulate</b> has “age” and “p_class” selected.</li>"
   ]
  },
  {
   "cell_type": "code",
   "execution_count": null,
   "id": "a88bccb4",
   "metadata": {},
   "outputs": [],
   "source": [
    "inputs = [\"demo_user.titanic\", \"demo_user.LinearRegression_Output\"]\n",
    "outputs = [\"demo_user.LinearRegressionPredict_Output\"]\n",
    "ui2 = Ui(outputs = outputs,\n",
    "        function = \"Linear Regression Predict VAL\",\n",
    "        inputs = inputs,\n",
    "        export_settings = \"LinRegPredict.json\"\n",
    ")"
   ]
  },
  {
   "cell_type": "markdown",
   "id": "ebc976b8",
   "metadata": {},
   "source": [
    "<p style = 'font-size:16px;font-family:Arial'>After executing, the final resulting table of Linear Regression Predict VAL is shown, which was based on the Linear Regression VAL function we created first.</p>"
   ]
  },
  {
   "cell_type": "markdown",
   "id": "a45bdbd4-227f-4791-a99b-943638f37b19",
   "metadata": {},
   "source": [
    "<hr style=\"height:2px;border:none;\">"
   ]
  },
  {
   "cell_type": "markdown",
   "id": "6b2b80ef-5d88-4c90-850a-88ab1ea4de43",
   "metadata": {},
   "source": [
    "<div style=\"background-color:gray;padding:10px;\">\n",
    "<b style = 'font-size:20px;font-family:Arial'>Class: analytic_functions.Ui</b>\n",
    "<br><br>\n",
    "\n",
    "<b style = 'font-size:18px;font-family:Arial'>Constructor</b>\n",
    "\n",
    "<table border=\"1\" style=\"border-collapse:collapse;font-family:Arial\">\n",
    "  <tr>\n",
    "    <th>Argument</th>\n",
    "    <th>Type</th>\n",
    "    <th>Required</th>\n",
    "    <th>Description</th>\n",
    "    <th>Example</th>\n",
    "  </tr>\n",
    "  <tr>\n",
    "    <td>outputs</td>\n",
    "    <td>List String</td>\n",
    "    <td>Optional</td>\n",
    "    <td>A list with output table(s) name. For however many tables the function outputs, it requires that many names to assign to each output table name. It can be written as <i>table_name</i> or <i>schema_name.table_name</i> (schema is optional). If not specified, a name will be generated at random.</td>\n",
    "    <td>outputs = [\"dssDB\".\"my_output\", \"my_test\"]</td>\n",
    "  </tr>\n",
    "  <tr>\n",
    "    <td>inputs</td>\n",
    "    <td>List String</td>\n",
    "    <td>Mandatory</td>\n",
    "    <td>Option 1: A list with whichever input table(s) is desired. The tables that are listed will be the options for you to choose from when you choose the function. Written as <i>table_name</i> or <i>schema_name.table_name</i> (schema is optional). Option 2: A teradataml dataframe.</td>\n",
    "    <td>inputs = [\"dssDB\".\"company1_stock\", \"titanic\"] OR inputs = [DataFrame(\"company1_stock\")]</td>\n",
    "  </tr>\n",
    "  <tr>\n",
    "    <td>function</td>\n",
    "    <td>String</td>\n",
    "    <td>Optional</td>\n",
    "    <td>If a specific function is desired to be selected immediately when the UI shows up, then include the function name.</td>\n",
    "    <td>function=\"Linear Regression VAL\"</td>\n",
    "  </tr>\n",
    "  <tr>\n",
    "    <td>export_settings</td>\n",
    "    <td>String</td>\n",
    "    <td>Optional</td>\n",
    "    <td>In order to load and save your chosen parameters to a file, then set this filename export_settings.</td>\n",
    "    <td>export_settings=\"MyLinReg.json\"</td>\n",
    "  </tr>\n",
    "</table>\n",
    "\n",
    "\n",
    "<b style = 'font-size:18px;font-family:Arial'>Method : get_output_dataframe</b>\n",
    "\n",
    "<table border=\"1\" style=\"border-collapse:collapse;font-family:Arial;\">\n",
    "  <tr>\n",
    "    <th>Argument</th>\n",
    "    <th>Type</th>\n",
    "    <th>Required</th>\n",
    "    <th>Description</th>\n",
    "    <th>Example</th>\n",
    "  </tr>\n",
    "  <tr>\n",
    "    <td>output_index</td>\n",
    "    <td>Int</td>\n",
    "    <td>Optional (Default: 0)</td>\n",
    "    <td>Use this function to get the full output result table.</td>\n",
    "    <td>dataframe = ui.get_output_dataframe()</td>\n",
    "  </tr>\n",
    "</table>\n",
    "\n",
    "<p style = 'font-size:16px;font-family:Arial'><b>Return Value: </b>Type: teradataml.DataFrame. Returns the output of the function as a teradataml DataFrame.</p>\n",
    "</div>"
   ]
  },
  {
   "cell_type": "markdown",
   "id": "66ff20ab-7999-4146-a36b-25e2f7bb25ab",
   "metadata": {},
   "source": [
    "<footer style=\"padding-bottom:35px; border-bottom:3px solid #91A0Ab\">\n",
    "    <div style=\"float:left;margin-top:14px\">ClearScape Analytics™</div>\n",
    "    <div style=\"float:right;\">\n",
    "        <div style=\"float:left; margin-top:14px\">\n",
    "            Copyright © Teradata Corporation - 2024. All Rights Reserved\n",
    "        </div>\n",
    "    </div>\n",
    "</footer>"
   ]
  }
 ],
 "metadata": {
  "kernelspec": {
   "display_name": "Python 3 (ipykernel)",
   "language": "python",
   "name": "python3"
  },
  "language_info": {
   "codemirror_mode": {
    "name": "ipython",
    "version": 3
   },
   "file_extension": ".py",
   "mimetype": "text/x-python",
   "name": "python",
   "nbconvert_exporter": "python",
   "pygments_lexer": "ipython3",
   "version": "3.9.10"
  }
 },
 "nbformat": 4,
 "nbformat_minor": 5
}
