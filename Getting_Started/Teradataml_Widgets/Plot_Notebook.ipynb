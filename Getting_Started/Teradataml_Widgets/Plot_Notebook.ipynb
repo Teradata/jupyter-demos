{
 "cells": [
  {
   "cell_type": "markdown",
   "id": "79fd4b3c-6c41-484f-93be-248f6330f552",
   "metadata": {},
   "source": [
    "<header>\n",
    "   <p  style='font-size:36px;font-family:Arial; color:#F0F0F0; background-color: #00233c; padding-left: 20pt; padding-top: 20pt;padding-bottom: 10pt; padding-right: 20pt;'>\n",
    "       Plotting with Teradataml Widgets\n",
    "  <br>\n",
    "       <img id=\"teradata-logo\" src=\"https://storage.googleapis.com/clearscape_analytics_demo_data/DEMO_Logo/teradata.svg\" alt=\"Teradata\" style=\"width: 125px; height: auto; margin-top: 20pt;\">\n",
    "    </p>\n",
    "</header>"
   ]
  },
  {
   "cell_type": "markdown",
   "id": "47369844-f8f9-41c9-bb1f-21e8ab3862a2",
   "metadata": {},
   "source": [
    "<p style = 'font-size:20px;font-family:Arial'><b>Introduction</b></p>\n",
    "\n",
    "<p style = 'font-size:16px;font-family:Arial'>The Teradataml Widgets (teradatamlwidgets) enhances teradataml’s built-in interaction capabilities with the Teradata Vantage™ Data and Analytics Platform. This provides  visual components for scaled, in-Database Analytics with data that you keep in the Teradata Vantage Analytics Database within a notebook.</p>\n",
    "\n",
    "<p style = 'font-size:16px;font-family:Arial'>With these components, in a notebook you will be able to:</p>\n",
    "\n",
    "<ul style = 'font-size:16px;font-family:Arial'>\n",
    "    <li>Access and execute analytic functions that reside in the Teradata Vantage Analytics Database. The functions are comprised by the following sets:</li>\n",
    "    <ul style = 'font-size:16px;font-family:Arial'>\n",
    "        <li>A select subset of the Analytics Database analytic functions.</li>\n",
    "        <li>The entire Vantage Analytics Library (VAL) functions set.</li>\n",
    "        <li>The Unbounded Array Framework (UAF) time series functions.</li>\n",
    "    </ul>\n",
    "</ul>"
   ]
  },
  {
   "cell_type": "markdown",
   "id": "db2c09e2-531e-4e21-acd2-f1bd2f5cc8cc",
   "metadata": {},
   "source": [
    "<hr style=\"height:2px;border:none;\">\n",
    "<p style = 'font-size:18px;font-family:Arial'><b>Installing some dependencies</b>"
   ]
  },
  {
   "cell_type": "code",
   "execution_count": null,
   "id": "ee4d3803-eed4-4d40-9864-323b21abedc2",
   "metadata": {},
   "outputs": [],
   "source": [
    "# !pip install teradatamlwidgets ipywidgets --quiet"
   ]
  },
  {
   "cell_type": "markdown",
   "id": "1011831a-9536-465e-951a-bdefae2b02a1",
   "metadata": {},
   "source": [
    "<div class=\"alert alert-block alert-info\">\n",
    "<p style = 'font-size:16px;font-family:Arial'><b>Note: </b><i>The above statements may need to be uncommented if you run the notebooks on a platform other than ClearScape Analytics Experience that does not have the libraries installed. If you uncomment those installs, be sure to restart the kernel after executing those lines to bring the installed libraries into memory. The simplest way to restart the Kernel is by typing zero zero: <b> 0 0</b></i></p>\n",
    "</div>\n",
    "<p style = 'font-size:16px;font-family:Arial'>Here, we import the required libraries, set environment variables and environment paths (if required).</p>"
   ]
  },
  {
   "cell_type": "code",
   "execution_count": null,
   "id": "61bed444",
   "metadata": {},
   "outputs": [],
   "source": [
    "%load_ext autoreload\n",
    "%autoreload 2\n",
    "import sys\n",
    "from teradatamlwidgets.plot.Login import *\n",
    "from teradatamlwidgets.plot.ShowPlots import *\n",
    "from teradatamlwidgets.plot.Ui import *\n",
    "from teradataml import *"
   ]
  },
  {
   "cell_type": "markdown",
   "id": "f15ad570-fa49-4944-ac54-1cd11610bd4a",
   "metadata": {},
   "source": [
    "<hr style=\"height:2px;border:none;\">\n",
    "<b style = 'font-size:20px;font-family:Arial'>1. Initiate a connection to Vantage</b>"
   ]
  },
  {
   "cell_type": "markdown",
   "id": "352aec88-bec6-4171-93e7-93904d2dbd79",
   "metadata": {},
   "source": [
    "<p style = 'font-size:16px;font-family:Arial'>First log into the database using the code: Login()</p>\n",
    "\n",
    "<p style = 'font-size:16px;font-family:Arial'>After running the notebook cell, a login screen shows. Once you type in the required information, click Login.</p>\n",
    "\n",
    "<ul style = 'font-size:16px;font-family:Arial'>\n",
    "    <li><code>Host</code>: host.docker.internal</li>\n",
    "    <li><code>Username</code>: demo_user</li>\n",
    "    <li><code>Password</code>: Enter your database password here</li>\n",
    "    <li><code>Schema</code>: demo_user</li>\n",
    "    <li><code>VALIB</code>: VAL</li>\n",
    "</ul>"
   ]
  },
  {
   "cell_type": "code",
   "execution_count": null,
   "id": "a82f35d2",
   "metadata": {},
   "outputs": [],
   "source": [
    "login = Login()"
   ]
  },
  {
   "cell_type": "markdown",
   "id": "ff673cb2",
   "metadata": {},
   "source": [
    "<hr style=\"height:2px;border:none;\">\n",
    "<b style = 'font-size:20px;font-family:Arial'>2. Load Tables</b>\n",
    "\n",
    "<p style = 'font-size:16px;font-family:Arial'>In this example we will load some tables using teradataml. As we have already logged in, we can call teradataml load functions:</p>"
   ]
  },
  {
   "cell_type": "code",
   "execution_count": null,
   "id": "83188a2d",
   "metadata": {},
   "outputs": [],
   "source": [
    "# Load the example data.\n",
    "load_example_data(\"teradataml\", \"titanic\")\n",
    "load_example_data(\"uaf\", \"house_values\")\n",
    "load_example_data(\"movavg\", \"ibm_stock\")\n",
    "load_example_data(\"uaf\", [\"waveletTable\", \"us_air_pass\"])\n",
    "load_example_data(\"teradataml\", \"iris_input\")\n",
    "load_example_data(\"geodataframe\", [\"sample_shapes\"])\n",
    "load_example_data(\"geodataframe\", [\"us_population\", \"us_states_shapes\"])"
   ]
  },
  {
   "cell_type": "markdown",
   "id": "538f542f-c407-4ec3-8ba6-9dd610753bcc",
   "metadata": {},
   "source": [
    "<hr style=\"height:2px;border:none;\">\n",
    "<div style=\"background-color:gray;padding:10px;\">\n",
    "<p style=\"font-size:18px;font-family:Arial;\"><b>Plot Notebook Toolbar Button Functionality</b></p>\n",
    "\n",
    "<ul style=\"font-size:16px;font-family:Arial;\">\n",
    "    <li><b>Plot: </b>Click this button once you are ready to plot after choosing the appropriate desired values for the parameters.</li>\n",
    "    <li><b>Log Out: </b>Click this button if you want to log out, which will take you to the login dialog.</li>\n",
    "</ul>\n",
    "\n",
    "<p style=\"font-size:18px;font-family:Arial;\"><b>Plot Notebook Tabs</b></p>\n",
    "\n",
    "<p style = 'font-size:16px;font-family:Arial'>The parameters in the tabs are from the TD_PLOT function. Please refer to that documentation for the specifics of each parameter.</p>\n",
    "\n",
    "<ul style=\"font-size:16px;font-family:Arial;\">\n",
    "    <li><b>Chart: </b>This tab includes the X value of the input table and the Y values(s) which are the Series[0], Series[1] etc.</li>\n",
    "    <ul style=\"font-size:15px;font-family:Arial;\">\n",
    "        <li>Each time a Series is added, a new series option appears</li>\n",
    "        <li>A tab is available for each series to customize</li>\n",
    "    </ul>\n",
    "    <li><b>Format: </b>This tab includes all the formatting specific parameters for the plot.</li>\n",
    "    <ul style=\"font-size:15px;font-family:Arial;\">\n",
    "        <li>Title, Heading, X-Label, Y-Label, and grid, color map and legend information</li>\n",
    "    </ul>\n",
    "    <li><b>Range: </b> Includes all the range specific parameters</li>\n",
    "    <ul style=\"font-size:15px;font-family:Arial;\">\n",
    "        <li>X-Ticks, Reverse X-Ticks, X Range (Min and Max)</li>\n",
    "        <li>Y-Ticks, Reverse Y-Ticks, Y Range (Min and Max)</li>\n",
    "    </ul>\n",
    "    <li><b>Series Tab(s): </b>Each Series tab has same parameters which is specific to that series.</li>\n",
    "    <ul style=\"font-size:15px;font-family:Arial;\">\n",
    "        <li>Style color, Line Style, Line Width, Marker, Marker Size</li>\n",
    "</div>"
   ]
  },
  {
   "cell_type": "markdown",
   "id": "111c0ec5-59c7-4e6b-9f8d-98780c230a39",
   "metadata": {},
   "source": [
    "<p style = 'font-size:16px;font-family:Arial'>There is “Chart Type” located at the top which provides list of all plot type options.</p>\n",
    "\n",
    "<b style = 'font-size:18px;font-family:Arial'>Choose Plot Type</b>\n",
    "<p style = 'font-size:16px;font-family:Arial'>You can choose the plot type before so that when the UI is run, it automatically has that plot type chosen. This is done by also including the plot type e.g. \"Bar\" in the constructor after the input table.\n",
    "<br><br>\n",
    "Below is a series of instructions for setting up example plots (based on teradataml documentation examples).\n",
    "</p>\n",
    "\n",
    "<b style = 'font-size:18px;font-family:Arial'>Setting up the Plot Notebook : Optional Arguments</b>\n",
    "\n",
    "<p style = 'font-size:16px;font-family:Arial'>Optionally, you can set up any of the parameters in the constructor itself. This way when running the cell, the UI gets populated with the pre-selected choices. Each parameter has an argument associated which is what would be used to set it in the constructor.</p>\n",
    "\n",
    "<p style = 'font-size:16px;font-family:Arial'>You can see the argument for a given parameter by hovering over the parameter, this will give description of the parameter and at the end specifies the argument name.</p>\n",
    "\n",
    "<p style = 'font-size:16px;font-family:Arial'>For example, below we see the Style Color parameter has argument: style, so in the constructor to set this to ‘green’ there is : \n",
    "style = ‘green’</p>\n",
    "\n",
    "<p style = 'font-size:16px;font-family:Arial'>This allows the UI to have that selection upon loading (i.e. when the notebook cell is run).\n",
    "<br><br>\n",
    "The examples below will use this in order to get the parameters to be filled with the appropriate values.</p>"
   ]
  },
  {
   "cell_type": "markdown",
   "id": "cf4bdcf9-5a69-47da-8f59-b846ebc7aed5",
   "metadata": {},
   "source": [
    "<hr style=\"height:2px;border:none;\">\n",
    "<b style = 'font-size:20px;font-family:Arial'>3. Simple Line Plot</b>\n",
    "\n",
    "<p style = 'font-size:16px;font-family:Arial'>For the first plot below, we will do an example of a \"Line\" plot. This uses \"ibm_stock\" as the input table.</p>\n",
    "\n",
    "<ul style = 'font-size:16px;font-family:Arial'>\n",
    "    <li>In the <i>Chart Tab</i>, choose \"period\" for <b>X</b> and \"stockprice\" for <b>Series[0]</b>.</li>\n",
    "    <li>In the <i>Format Tab</i>, for the <b>Title</b> enter \"Line Plot Example\" and for the <b>Heading</b> enter \"Simple Line Plot\".</li> \n",
    "</ul>\n",
    "\n",
    "<p style = 'font-size:16px;font-family:Arial'>Once you are done entering the parameters, click the green Plot button.</p>"
   ]
  },
  {
   "cell_type": "code",
   "execution_count": null,
   "id": "1c441a34",
   "metadata": {},
   "outputs": [],
   "source": [
    "plot1 = Ui(\n",
    "    table_name = \"ibm_stock\",\n",
    "    current_plot = \"Line\",\n",
    "    x = 'period',\n",
    "    series = 'stockprice',\n",
    "    style = 'green',\n",
    "    heading = 'Simple Line Plot',\n",
    "    title = 'Line Plot Example'\n",
    ")"
   ]
  },
  {
   "cell_type": "markdown",
   "id": "3d5a10ba",
   "metadata": {},
   "source": [
    "<hr style=\"height:2px;border:none;\">\n",
    "<b style = 'font-size:20px;font-family:Arial'>4. Simple Bar Plot</b>\n",
    "\n",
    "<p style = 'font-size:16px;font-family:Arial'>For the second plot below, we will do an example of a \"Bar\" plot. This uses \"ibm_stock\" as the input table.</p>\n",
    "\n",
    "<ul style = 'font-size:16px;font-family:Arial'>\n",
    "    <li>In the <i>Chart Tab</i>, choose \"period\" for <b>X</b> and \"stockprice\" for <b>Series[0]</b>.</li>\n",
    "    <li>In the <i>Format Tab</i>, for the <b>X Label</b> enter \"xlabel\" and for the <b>Y Label</b> enter \"ylabel\", for Heading enter “Simple Bar Plot”, and for Title enter “Bar Plot Example”</li>\n",
    "    <li>In the <i>Range Tab</i>, for the <b>X Ticks</b> enter \"MMM\" and for the <b>Y Ticks</b> enter \"9,99.99\".</li>\n",
    "    <li>In the <i>Series[0] Tab</i>, keep <b>Style Color</b> as \"blue\".</li>\n",
    "</ul>\n",
    "\n",
    "<p style = 'font-size:16px;font-family:Arial'>Once you are done entering the parameters, click the green Plot button.<p>"
   ]
  },
  {
   "cell_type": "code",
   "execution_count": null,
   "id": "fe186401",
   "metadata": {},
   "outputs": [],
   "source": [
    "plot2 = Ui(\n",
    "    table_name = \"ibm_stock\",\n",
    "    current_plot = \"Bar\",\n",
    "    x = 'period',\n",
    "    series = 'stockprice',\n",
    "    xlabel = 'xlabel',\n",
    "    ylabel = 'ylabel',\n",
    "    x_ticks = 'MMM',\n",
    "    y_ticks = \"9,99.99\",\n",
    "    style = 'blue', \n",
    "    heading = 'Simple Bar Plot',\n",
    "    title = 'Bar Plot Example'\n",
    ")"
   ]
  },
  {
   "cell_type": "markdown",
   "id": "d766ea86",
   "metadata": {},
   "source": [
    "<hr style=\"height:2px;border:none;\">\n",
    "<b style = 'font-size:20px;font-family:Arial'>5. Composite Bar Plot</b>\n",
    "\n",
    "<p style = 'font-size:16px;font-family:Arial'>The plot below is an example of a Composite Bar chart. It uses \"us_air_pass\" as the input table.</p>\n",
    "\n",
    "<ul style = 'font-size:16px;font-family:Arial'>\n",
    "    <li>In the <i>Chart Tab</i>, choose \"idx\" for <b>X</b> and \"international\" for <b>Series[0]</b> and \"domestic\" for <b>Series[1]</b>.</li>\n",
    "    <li>In the <i>Format Tab</i>, for <b>Title</b> use \"Bar Plot Example 2\" and for <b>Heading</b> use \"Composite Bar Plot\".</li>\n",
    "    <li>In <i>Series[0] Tab</i> the <b>Style Color</b> is kept to the default of blue. But for <i>Series[1] Tab</i> change <b>Style Color</b> to \"orange\".</li>\n",
    "</ul>\n",
    "<p style = 'font-size:16px;font-family:Arial'>Once you are done entering the parameters, click the green Plot button.<p>"
   ]
  },
  {
   "cell_type": "code",
   "execution_count": null,
   "id": "9a2a42ab",
   "metadata": {},
   "outputs": [],
   "source": [
    "plot3 = Ui(\n",
    "    table_name = \"us_air_pass\",\n",
    "    current_plot = \"Bar\",\n",
    "    x = 'idx',\n",
    "    series = ['international','domestic'],\n",
    "    style = ['blue', 'orange'],\n",
    "    heading = 'Composite Bar Plot',\n",
    "    title = 'Bar Plot Example 2'\n",
    ")"
   ]
  },
  {
   "cell_type": "markdown",
   "id": "a191bfec",
   "metadata": {},
   "source": [
    "<hr style=\"height:2px;border:none;\">\n",
    "<b style = 'font-size:20px;font-family:Arial'>6. Scatter Plot</b>\n",
    "\n",
    "<p style = 'font-size:16px;font-family:Arial'>The plot below is an example of a Scatter plot. It uses \"iris_input\" as the input table.</p>\n",
    "\n",
    "<ul style = 'font-size:16px;font-family:Arial'>\n",
    "    <li>In the <i>Chart Tab</i>, for <b>X</b> choose \"sepal_length\" and for <b>Series[0]</b> choose \"petal_length\".</li>\n",
    "    <li>In the <i>Format Tab</i>, for <b>Title</b> enter \"Scatter Plot of sepal_length vs petal_length\", set <b>Heading</b> to “Scatter Plot Example”, <b>X Label</b> to \"sepal_length\" and the <b>Y Label</b> to “petal_length”, set <b>Grid Color</b> to “black”, and set <b>Grid Width</b> to 1.</li>\n",
    "    <li>In <i>Series[0] Tab</i>, keep <b>Style Color</b> as \"blue\".</li>\n",
    "</ul>\n",
    "\n",
    "<p style = 'font-size:16px;font-family:Arial'>Once you are done entering the parameters, click the green Plot button.</p>"
   ]
  },
  {
   "cell_type": "code",
   "execution_count": null,
   "id": "6dcacf18",
   "metadata": {},
   "outputs": [],
   "source": [
    "plot4 = Ui(\n",
    "    table_name = \"iris_input\",\n",
    "    current_plot = \"Scatter\",\n",
    "    x = 'sepal_length',\n",
    "    series = 'petal_length',\n",
    "    xlabel = 'sepal_length',\n",
    "    ylabel = 'petal_length',\n",
    "    grid_color = 'black',\n",
    "    grid_linewidth = 1,\n",
    "    grid_linestyle = \"-\",\n",
    "    style = 'blue', \n",
    "    title = 'Scatter Plot of sepal_length vs petal_length',\n",
    "    heading = 'Scatter Plot Example'\n",
    ")"
   ]
  },
  {
   "cell_type": "markdown",
   "id": "da58382e",
   "metadata": {},
   "source": [
    "<hr style=\"height:2px;border:none;\">\n",
    "<b style = 'font-size:20px;font-family:Arial'>7. Mesh Plot</b>\n",
    "\n",
    "<p style = 'font-size:16px;font-family:Arial'>Below is an example of a Mesh Plot, we use \"waveletTable\" as the input table.</p>\n",
    "\n",
    "<ul style = 'font-size:16px;font-family:Arial'>\n",
    "    <li>In the <i>Chart Tab</i>, set <b>X</b> to \"x\", <b>Scale</b> to \"c\", and <b>Series[0]</b> to \"y\".</li>\n",
    "    <li>In the <i>Format Tab</i>, set <b>Title</b> to “Mesh Plot Example”, set <b>Heading</b> to “Simple Mesh Plot”, set <b>Color Map</b> to \"ice\", and set the <b>Min</b> to -0.5 and <b>Max</b> to 0.5.</li>\n",
    "</ul>"
   ]
  },
  {
   "cell_type": "code",
   "execution_count": null,
   "id": "f8ecb661",
   "metadata": {},
   "outputs": [],
   "source": [
    "plot5 = Ui(\n",
    "    table_name = \"waveletTable\",\n",
    "    current_plot = \"Mesh\",\n",
    "    x = 'x',\n",
    "    scale = \"c\",\n",
    "    series = 'y',\n",
    "    vmin = -0.5,\n",
    "    vmax = 0.5,\n",
    "    cmap = \"ice\",\n",
    "    title = 'Mesh Plot Example',\n",
    "    heading = 'Simple Mesh Plot'\n",
    ")"
   ]
  },
  {
   "cell_type": "markdown",
   "id": "110860f1",
   "metadata": {},
   "source": [
    "<hr style=\"height:2px;border:none;\">\n",
    "<b style = 'font-size:20px;font-family:Arial'>8. Wiggle Plot</b>\n",
    "\n",
    "<p style = 'font-size:16px;font-family:Arial'>Below is an example of a Wiggle Plot, we use \"waveletTable\" as the input table.</p>\n",
    "\n",
    "<ul style = 'font-size:16px;font-family:Arial'>\n",
    "    <li>In the <i>Chart Tab</i>, set <b>X</b> to \"x\", <b>Scale</b> to \"c\", and <b>Series[0]</b> to \"y\".</li>\n",
    "    <li>In the <i>Format Tab</i>, set <b>Title</b> to “Wiggle Plot Example” and <b>Heading</b> to “Simple Wiggle Plot”</li>\n",
    "</ul>"
   ]
  },
  {
   "cell_type": "code",
   "execution_count": null,
   "id": "cdc9b3ff",
   "metadata": {},
   "outputs": [],
   "source": [
    "plot6 = Ui(\n",
    "    table_name = \"waveletTable\",\n",
    "    current_plot = \"Wiggle\",\n",
    "    x = 'x',\n",
    "    scale = \"c\",\n",
    "    series = 'y',\n",
    "    title = 'Wiggle Plot Example',\n",
    "    heading = 'Simple Wiggle Plot'\n",
    ")"
   ]
  },
  {
   "cell_type": "markdown",
   "id": "1da7c102",
   "metadata": {},
   "source": [
    "<hr style=\"height:2px;border:none;\">\n",
    "<b style = 'font-size:20px;font-family:Arial'>9. Geometry Plot</b>\n",
    "\n",
    "<p style = 'font-size:16px;font-family:Arial'>Below is an example of a Geometry Plot, below loads the table and join shapes with population and filter only 1990 data.</p>"
   ]
  },
  {
   "cell_type": "code",
   "execution_count": null,
   "id": "2cb2f442",
   "metadata": {},
   "outputs": [],
   "source": [
    "shapes_df = GeoDataFrame(\"sample_shapes\")\n",
    "us_states_shapes = GeoDataFrame(\"us_states_shapes\")\n",
    "DataFrame(\"us_population\")"
   ]
  },
  {
   "cell_type": "code",
   "execution_count": null,
   "id": "ba444745",
   "metadata": {},
   "outputs": [],
   "source": [
    "population_data = us_states_shapes.join(\n",
    "    DataFrame(\"us_population\"),\n",
    "    on = DataFrame(\"us_population\").state_name == us_states_shapes.state_name,\n",
    "    lprefix = \"us\",\n",
    "    rprefix = \"t2\"\n",
    ")\n",
    "population_data = population_data.select([\"us_state_name\", \"state_shape\", \"population_year\", \"population\"])"
   ]
  },
  {
   "cell_type": "code",
   "execution_count": null,
   "id": "e346a52c",
   "metadata": {},
   "outputs": [],
   "source": [
    "# Generate the geometry plot to show the density of population across the US states in year 1990.\n",
    "population_data_1990 = population_data[population_data.population_year == 1990]"
   ]
  },
  {
   "cell_type": "markdown",
   "id": "e2819e18",
   "metadata": {},
   "source": [
    "<ul style = 'font-size:16px;font-family:Arial'>\n",
    "    <li>In the <i>Chart Tab</i>, set <b>X</b> to \"population_year\" and <b>Series[0]</b> to \"population\".</li>\n",
    "    <li>In the <i>Format Tab</i>, set <b>Title</b> to \"Population Density across the US in 1990\", set <b>Heading</b> to “Map Plot Example”, set <b>Color Map</b> to \"rainbow\", and <b>Width</b> to 800.</li>\n",
    "    <li>In the <i>Range Tab</i>, set <b>Reverse Y Ticks</b> to True.</li>"
   ]
  },
  {
   "cell_type": "code",
   "execution_count": null,
   "id": "e4449897",
   "metadata": {},
   "outputs": [],
   "source": [
    "plot7 = Ui(\n",
    "    df = population_data_1990,\n",
    "    current_plot = \"Geom\",\n",
    "    series = 'population',\n",
    "    title = 'Population Density across the US in 1990',\n",
    "    reverse_yaxis =  True,\n",
    "    cmap = 'rainbow',\n",
    "    width = '800',\n",
    "    heading = 'Map Plot Example'\n",
    ")"
   ]
  },
  {
   "cell_type": "markdown",
   "id": "ca39fe90",
   "metadata": {},
   "source": [
    "<hr style=\"height:2px;border:none;\">\n",
    "<b style = 'font-size:20px;font-family:Arial'>10. Subplot</b>"
   ]
  },
  {
   "cell_type": "markdown",
   "id": "f72f34ac",
   "metadata": {},
   "source": [
    "<p style = 'font-size:16px;font-family:Arial'>Below is the code to have subplots i.e. show multiple plots together. This is a way of showing the plots created previously. It uses the function .ShowPlots() to do this.</p>\n",
    "\n",
    "<p style = 'font-size:16px;font-family:Arial'>ShowPlots takes in the plots wanting to be displayed in a list, and then has nrows for how many rows and ncols for how many columns. It also has a grid parameter which lets you specify which positioning you desire for the plots.</p>"
   ]
  },
  {
   "cell_type": "code",
   "execution_count": null,
   "id": "12e56321",
   "metadata": {},
   "outputs": [],
   "source": [
    "ShowPlots([plot1, plot2, plot3], nrows = 1, ncols = 3)"
   ]
  },
  {
   "cell_type": "code",
   "execution_count": null,
   "id": "3a488b6a",
   "metadata": {},
   "outputs": [],
   "source": [
    "ShowPlots([plot1, plot2, plot3], grid = {(1, 1): (1, 1), (1, 2): (1, 1), (2, 1): (1, 2)})"
   ]
  },
  {
   "cell_type": "markdown",
   "id": "8769f01f-8a07-4974-86c9-19f789ec95ce",
   "metadata": {},
   "source": [
    "<hr style=\"height:2px;border:none;\">"
   ]
  },
  {
   "cell_type": "markdown",
   "id": "1dc12859-ce62-4212-a0c0-47cd4cadfd6f",
   "metadata": {},
   "source": [
    "<div style=\"background-color:gray;padding:10px;\">\n",
    "<b style = 'font-size:20px;font-family:Arial'>Class: plot.Ui</b>\n",
    "<br><br>\n",
    "\n",
    "<b style = 'font-size:18px;font-family:Arial'>Constructor</b>\n",
    "\n",
    "<p style = 'font-size:16px;font-family:Arial'>Description: Opens the Plot UI dialog in the notebook with the following arguments:</p>\n",
    "\n",
    "<table border=\"1\" style=\"border-collapse:collapse; font-family:Arial;\">\n",
    "  <tr>\n",
    "    <th>Argument</th>\n",
    "    <th>Type</th>\n",
    "    <th>Required</th>\n",
    "    <th>Description</th>\n",
    "    <th>Example</th>\n",
    "  </tr>\n",
    "  <tr>\n",
    "    <td>table_name</td>\n",
    "    <td>String</td>\n",
    "    <td>Mandatory (IF df argument not specified)</td>\n",
    "    <td>An input table name to use for plotting.</td>\n",
    "    <td>Ui(table_name = \"titanic\")</td>\n",
    "  </tr>\n",
    "  <tr>\n",
    "    <td>df</td>\n",
    "    <td>teradataml.DataFrame</td>\n",
    "    <td>Mandatory (IF table_name argument not specified)</td>\n",
    "    <td>An input teradataml dataframe to use for plotting.</td>\n",
    "    <td>Ui(df = DataFrame(\"titanic\"))</td>\n",
    "  </tr>\n",
    "  <tr>\n",
    "    <td>current_plot</td>\n",
    "    <td>String</td>\n",
    "    <td>Optional</td>\n",
    "    <td>If you want a chart type pre-selected.</td>\n",
    "    <td>Ui(table_name = \"titanic\", current_plot = \"Bar\")</td>\n",
    "  </tr>\n",
    "  <tr>\n",
    "    <td><i>all other parameter arguments</i></td>\n",
    "    <td></td>\n",
    "    <td>Optional</td>\n",
    "    <td>If you want any other parameters pre-selected, see their argument name in the description.</td>\n",
    "    <td>Ui(table_name = \"titanic\", current_plot = \"Bar\", style='green')</td>\n",
    "  </tr>\n",
    "</table>\n",
    "</div>"
   ]
  },
  {
   "cell_type": "markdown",
   "id": "9858716a-94f3-453b-b108-693e4ca3631f",
   "metadata": {},
   "source": [
    "<footer style=\"padding-bottom:35px; border-bottom:3px solid #91A0Ab\">\n",
    "    <div style=\"float:left;margin-top:14px\">ClearScape Analytics™</div>\n",
    "    <div style=\"float:right;\">\n",
    "        <div style=\"float:left; margin-top:14px\">\n",
    "            Copyright © Teradata Corporation - 2024. All Rights Reserved\n",
    "        </div>\n",
    "    </div>\n",
    "</footer>"
   ]
  }
 ],
 "metadata": {
  "kernelspec": {
   "display_name": "Python 3 (ipykernel)",
   "language": "python",
   "name": "python3"
  },
  "language_info": {
   "codemirror_mode": {
    "name": "ipython",
    "version": 3
   },
   "file_extension": ".py",
   "mimetype": "text/x-python",
   "name": "python",
   "nbconvert_exporter": "python",
   "pygments_lexer": "ipython3",
   "version": "3.9.10"
  }
 },
 "nbformat": 4,
 "nbformat_minor": 5
}
