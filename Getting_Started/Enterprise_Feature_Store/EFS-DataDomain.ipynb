{
 "cells": [
  {
   "cell_type": "markdown",
   "id": "79e2c89c-8628-4e9b-99cb-9655565c9a6c",
   "metadata": {},
   "source": [
    "<header>\n",
    "   <p  style='font-size:36px;font-family:Arial; color:#F0F0F0; background-color: #00233c; padding-left: 20pt; padding-top: 20pt;padding-bottom: 10pt; padding-right: 20pt;'>\n",
    "       Enterprise Feature Store - DataDomain\n",
    "  <br>\n",
    "       <img id=\"teradata-logo\" src=\"https://storage.googleapis.com/clearscape_analytics_demo_data/DEMO_Logo/teradata.svg\" alt=\"Teradata\" style=\"width: 125px; height: auto; margin-top: 20pt;\">\n",
    "    </p>\n",
    "</header>"
   ]
  },
  {
   "cell_type": "markdown",
   "id": "2bb42647-7f4e-4dae-8aad-d5623b63b1e7",
   "metadata": {},
   "source": [
    "<p style = 'font-size:18px;font-family:Arial;'><b>Multi-Domain Feature Store Demo</b></p>\n",
    "<p style = 'font-size:16px;font-family:Arial;'>This notebook demonstrates how to build and manage a feature store across multiple business domains (such as sales and marketing) using TeradataML. Key steps include:\n",
    "<ul style = 'font-size:14px;font-family:Arial;'>\n",
    "  <li>Loading, transforming, and aggregating sales and marketing data to engineer features relevant to each domain.</li>\n",
    "  <li>Creating a centralized feature store repository to manage features, entities, and processes for different data domains.</li>\n",
    "  <li>Ingesting features into separate data domains for robust governance, traceability, and reusability.</li>\n",
    "  <li>Building datasets and exploring the feature landscape for scalable, collaborative machine learning and analytics.</li>\n",
    "</ul>\n",
    "<p style = 'font-size:16px;font-family:Arial;'>The workflow provides a practical example of operationalizing feature engineering and feature management in a modern enterprise environment with multiple subject areas.</p>"
   ]
  },
  {
   "cell_type": "markdown",
   "id": "676bf95e-1066-4c6c-96e2-f9bb5571bac6",
   "metadata": {},
   "source": [
    "<p style = 'font-size:18px;font-family:Arial;'><b>Disclaimer</b></p>\n",
    "\n",
    "<p style = 'font-size:12px;font-family:Arial;'>\n",
    "The sample code (“Sample Code”) provided is not covered by any Teradata agreements. Please be aware that Teradata has no control over the model responses to such sample code and such response may vary. The use of the model by Teradata is strictly for demonstration purposes and does not constitute any form of certification or endorsement. The sample code is provided “AS IS” and any express or implied warranties, including the implied warranties of merchantability and fitness for a particular purpose, are disclaimed. In no event shall Teradata be liable for any direct, indirect, incidental, special, exemplary, or consequential damages (including, but not limited to, procurement of substitute goods or services; loss of use, data, or profits; or business interruption) sustained by you or a third party, however caused and on any theory of liability, whether in contract, strict liability, or tort arising in any way out of the use of this sample code, even if advised of the possibility of such damage.</p>"
   ]
  },
  {
   "cell_type": "markdown",
   "id": "5f25ad94-8313-42b3-8296-bf42ff1ecdaf",
   "metadata": {},
   "source": [
    "<hr style=\"height:2px;border:none;\">\n",
    "<p style = 'font-size:20px;font-family:Arial;'><b>1. Connect to Vantage, Import python packages and explore the dataset</b></p>\n"
   ]
  },
  {
   "cell_type": "code",
   "execution_count": null,
   "id": "f2b7aa90-1485-4710-aef7-6965afa31b90",
   "metadata": {},
   "outputs": [],
   "source": [
    "!pip install teradataml==20.0.0.7 --quiet"
   ]
  },
  {
   "cell_type": "code",
   "execution_count": null,
   "id": "c5ceddda-6e4e-47e4-9cfd-b5aabda1f38d",
   "metadata": {},
   "outputs": [],
   "source": [
    "!pip install pandas>=2.8.4 --quiet"
   ]
  },
  {
   "cell_type": "markdown",
   "id": "db9390fb-1e26-4f89-a323-8ba035c658a2",
   "metadata": {},
   "source": [
    "<div class=\"alert alert-block alert-info\">\n",
    "<p style = 'font-size:16px;font-family:Arial;'><b>Note: </b><i>Please execute the above pip install to get the latest version of the required library. Be sure to restart the kernel after executing those lines to bring the installed libraries into memory. The simplest way to restart the Kernel is by typing zero zero: <b> 0 0</b></i></p>\n",
    "</div>"
   ]
  },
  {
   "cell_type": "code",
   "execution_count": null,
   "id": "f3cdca50-40d4-4e00-9c18-5cfb1342d044",
   "metadata": {},
   "outputs": [],
   "source": [
    "import os\n",
    "from teradataml import *\n",
    "from getpass import getpass\n",
    "from collections import OrderedDict\n",
    "from teradatasqlalchemy import VARCHAR, INTEGER\n",
    "\n",
    "display.max_rows = 5"
   ]
  },
  {
   "cell_type": "markdown",
   "id": "002d59bd-0982-4fbd-bdac-4a931c497207",
   "metadata": {},
   "source": [
    "<hr style=\"height:2px;border:none;\">\n",
    "<b style = 'font-size:18px;font-family:Arial;'> 1.1 Connect to Vantage</b>\n",
    "<p style = 'font-size:16px;font-family:Arial;'>We will be prompted to provide the password. We will enter the password, press the Enter key, and then use the down arrow to go to the next cell.</p>"
   ]
  },
  {
   "cell_type": "code",
   "execution_count": null,
   "id": "ecbf2040-0ab3-48e9-bba3-56e31e5508e0",
   "metadata": {},
   "outputs": [],
   "source": [
    "%run -i ../../UseCases/startup.ipynb\n",
    "eng = create_context(host = 'host.docker.internal', username='demo_user', password = password)\n",
    "print(eng)"
   ]
  },
  {
   "cell_type": "code",
   "execution_count": null,
   "id": "ede01146-5b9b-4e00-8920-8b1daa9f1912",
   "metadata": {},
   "outputs": [],
   "source": [
    "%%capture\n",
    "execute_sql('''SET query_band='DEMO=EFS-DataDomain.ipynb;' UPDATE FOR SESSION; ''')"
   ]
  },
  {
   "cell_type": "markdown",
   "id": "e2c2d7cf-d4c6-44ed-b127-face8938e945",
   "metadata": {},
   "source": [
    "<hr style=\"height:2px;border:none;\">\n",
    "<p style = 'font-size:20px;font-family:Arial;'><b>2. Setup a Feature Store Repository</b></p>\n",
    "<p style = 'font-size:18px;font-family:Arial;'><b>2.1 Create the FeatureStore</b></p>"
   ]
  },
  {
   "cell_type": "code",
   "execution_count": null,
   "id": "e77cacf3-3770-4348-9583-6933fe305857",
   "metadata": {},
   "outputs": [],
   "source": [
    "fs = FeatureStore(repo=\"enterprise_marketing_sales\")"
   ]
  },
  {
   "cell_type": "markdown",
   "id": "9fbf1641-316e-400c-b385-03d2fa6cb854",
   "metadata": {},
   "source": [
    "<p style = 'font-size:18px;font-family:Arial;'><b>2.2 Setup the FeatureStore</b></p>"
   ]
  },
  {
   "cell_type": "code",
   "execution_count": null,
   "id": "f1400cc8-5de8-4ef2-a03d-2a7bf3b28fe1",
   "metadata": {},
   "outputs": [],
   "source": [
    "fs.setup()"
   ]
  },
  {
   "cell_type": "markdown",
   "id": "79330961-34c5-4fa6-8677-d579195d08d5",
   "metadata": {},
   "source": [
    "<p style = 'font-size:18px;font-family:Arial;'><b>2.3 Checking Availability</b></p>"
   ]
  },
  {
   "cell_type": "code",
   "execution_count": null,
   "id": "a3452348-cc21-4e4d-a893-5f6cd9c51889",
   "metadata": {},
   "outputs": [],
   "source": [
    "fs = FeatureStore(repo=\"enterprise_marketing_sales\")"
   ]
  },
  {
   "cell_type": "markdown",
   "id": "879408e8-7443-40b8-9208-d60b2c0fc117",
   "metadata": {},
   "source": [
    "<hr style=\"height:2px;border:none;\">\n",
    "<p style = 'font-size:20px;font-family:Arial;'><b>3. Get Data For demo</b>\n",
    "<p style = 'font-size:18px;font-family:Arial;'><b>3.1 Load the sales_data</b></p>"
   ]
  },
  {
   "cell_type": "code",
   "execution_count": null,
   "id": "b94d31fd-a36f-42f2-b1f9-e6d85d80534c",
   "metadata": {},
   "outputs": [],
   "source": [
    "sales2_dt = OrderedDict(CustomerID=VARCHAR(10), Sales_Q1=INTEGER, Sales_Q2=INTEGER, Region=VARCHAR(20), Loayalty_Score=INTEGER, Channel=VARCHAR(20))\n",
    "sales = read_csv(filepath=r\"data/sales_data.csv\", \n",
    "                 table_name=\"sales2_data\", \n",
    "                 types=sales2_dt)\n",
    "sales.head(3)"
   ]
  },
  {
   "cell_type": "markdown",
   "id": "f73d8016-43ff-4df9-820a-a1d583c970ce",
   "metadata": {},
   "source": [
    "<p style = 'font-size:18px;font-family:Arial;'><b>3.2 Perform Data Transformation</b></p>\n",
    "<p style = 'font-size:16px;font-family:Arial;'><b>Transformation Details:</b>    \n",
    "In this step, we aggregate the sales data by the 'Region' column. For each region, we calculate:\n",
    "<ul>\n",
    "  <li>The mean of the 'Loayalty_Score' to understand average customer loyalty per region.</li>\n",
    "  <li>The count of 'Channel' to determine the number of sales channels or transactions in each region.</li>\n",
    "</ul>\n",
    "<p style = 'font-size:16px;font-family:Arial;'>These aggregated features provide insights into regional sales performance and customer engagement.</p>"
   ]
  },
  {
   "cell_type": "code",
   "execution_count": null,
   "id": "abc74d04-cacb-4160-aec7-05607123c3a7",
   "metadata": {},
   "outputs": [],
   "source": [
    "sales_agg = sales.groupby(\"Region\").agg({\"Loayalty_Score\": \"mean\", \"Channel\": \"count\"})\n",
    "sales_agg"
   ]
  },
  {
   "cell_type": "markdown",
   "id": "4954b325-d81d-4dcb-ac5d-4e10444d6f02",
   "metadata": {},
   "source": [
    "<p style = 'font-size:18px;font-family:Arial;'><b>3.3 Load the marketing_data</b></p>"
   ]
  },
  {
   "cell_type": "code",
   "execution_count": null,
   "id": "c693f6b9-2805-4bee-980b-fd4fab02ae9f",
   "metadata": {},
   "outputs": [],
   "source": [
    "marketing2_dt = OrderedDict(AccountID=VARCHAR(10), Campaign_1=INTEGER, Campaign_2=INTEGER, Region=VARCHAR(20),\n",
    "                            Loayalty_Score=INTEGER, Engagement_Channel=VARCHAR(20))\n",
    "marketing = read_csv(filepath=r\"data/marketing_data.csv\", \n",
    "                     table_name=\"marketing2_data\", \n",
    "                     types=marketing2_dt)\n",
    "marketing.head(3)"
   ]
  },
  {
   "cell_type": "markdown",
   "id": "421b014f-a725-411d-9e8e-c2aa301abdf5",
   "metadata": {},
   "source": [
    "<p style = 'font-size:18px;font-family:Arial;'><b>3.4 Perform Data Transformation</b></p>\n",
    "<p style = 'font-size:16px;font-family:Arial;'><b>Transformation Details:</b>    \n",
    "In this step, we aggregate the sales data by the 'Region' column. For each region, we calculate:\n",
    "<ul>\n",
    "  <li>The mean of the 'Loayalty_Score' to understand average customer loyalty per region.</li>\n",
    "  <li>The count of 'Channel' to determine the number of sales channels or transactions in each region.</li>\n",
    "</ul>\n",
    "<p style = 'font-size:16px;font-family:Arial;'>These aggregated features provide insights into regional sales performance and customer engagement.</p>"
   ]
  },
  {
   "cell_type": "code",
   "execution_count": null,
   "id": "82c2296a-492f-4ec1-9d8d-d7eb489f852b",
   "metadata": {},
   "outputs": [],
   "source": [
    "marketing_agg = marketing.groupby(\"Region\").agg({\"Loayalty_Score\": \"mean\", \"Engagement_Channel\": \"count\"})\n",
    "marketing_agg"
   ]
  },
  {
   "cell_type": "markdown",
   "id": "66ff6408-5f73-447c-8148-6ff7779de571",
   "metadata": {},
   "source": [
    "<hr style=\"height:2px;border:none;\">\n",
    "<p style = 'font-size:20px;font-family:Arial;'><b>4. Store the data transformations</b></p>\n",
    "<p style = 'font-size:16px;font-family:Arial;'>We are storing the transformation here. So, even if underlying data varies, the data transformation steps remain same.</p>"
   ]
  },
  {
   "cell_type": "code",
   "execution_count": null,
   "id": "d25f9c2a-777a-4b03-8084-e2280c25fa04",
   "metadata": {},
   "outputs": [],
   "source": [
    "sales_df = sales_agg.create_view('sales_data_view')\n",
    "marketing_df = marketing_agg.create_view('marketing_data_view')"
   ]
  },
  {
   "cell_type": "markdown",
   "id": "4ac34a4f-0e77-478f-b162-ca0e34225197",
   "metadata": {},
   "source": [
    "<hr style=\"height:2px;border:none;\">\n",
    "<p style = 'font-size:20px;font-family:Arial;'><b>5. Create FeatureStore with sales and marketing domain</b></p>"
   ]
  },
  {
   "cell_type": "code",
   "execution_count": null,
   "id": "ffb709e4-23e5-40c1-adfb-804b7ca18e9b",
   "metadata": {},
   "outputs": [],
   "source": [
    "fs_sales = FeatureStore(\"enterprise_marketing_sales\", data_domain='sales')\n",
    "fs_marketing = FeatureStore(\"enterprise_marketing_sales\", data_domain='marketing')"
   ]
  },
  {
   "cell_type": "markdown",
   "id": "ec1b801e-b848-48e2-ba00-c37f818ed70a",
   "metadata": {},
   "source": [
    "<hr style=\"height:2px;border:none;\">\n",
    "<p style = 'font-size:20px;font-family:Arial;'><b>6. Perform operation in sales domain</b>\n",
    "<p style = 'font-size:18px;font-family:Arial;'><b>6.1 Ingest features from sales data</b></p>\n",
    "<p style = 'font-size:16px;font-family:Arial;'><b>Note:</b> Feature ingestion can also be performed using <code>FeatureStore.get_feature_process()</code>.</p>"
   ]
  },
  {
   "cell_type": "code",
   "execution_count": null,
   "id": "616e226e-356d-4b99-be7e-d04f04ac7bd7",
   "metadata": {},
   "outputs": [],
   "source": [
    "fp_sales = FeatureProcess(repo='enterprise_marketing_sales',\n",
    "                          data_domain='sales',\n",
    "                          entity='Region',\n",
    "                          object=sales_df,\n",
    "                          features=['mean_Loayalty_Score', 'count_Channel'],\n",
    "                          description='Ingesting Features in sales DD')\n",
    "fp_sales.run()"
   ]
  },
  {
   "cell_type": "markdown",
   "id": "46a5e138-4df0-44e5-8941-96a6a3c6de4a",
   "metadata": {},
   "source": [
    "<p style = 'font-size:18px;font-family:Arial;'><b>6.2 Build dataset in sales domain</b></p>"
   ]
  },
  {
   "cell_type": "code",
   "execution_count": null,
   "id": "c815bfc5-b7ac-447a-a429-5e26a3297897",
   "metadata": {},
   "outputs": [],
   "source": [
    "dc_sales = fs_sales.get_dataset_catalog()\n",
    "\n",
    "dc_sales.build_dataset(entity='Region',\n",
    "                       selected_features={'mean_Loayalty_Score': fp_sales.process_id,\n",
    "                                          'count_Channel': fp_sales.process_id},\n",
    "                       view_name=\"sales_dc_view\",\n",
    "                       description=\"Building datatset for sales\")\n"
   ]
  },
  {
   "cell_type": "markdown",
   "id": "7ac04535-4a6b-487e-84b9-dfa43091cbdd",
   "metadata": {},
   "source": [
    "<p style = 'font-size:18px;font-family:Arial;'><b>6.3 See the mind_map for FeatureStore in sales domain</b></p>\n",
    "<p style = 'font-size:16px;font-family:Arial;'>We ingested three features—<code>count_price</code>, <code>max_price</code>, and <code>total_price</code>—from a single feature process. This demonstrates how multiple related features, datasets can be managed and tracked together within the feature store, maintaining their lineage to the originating process.</p>"
   ]
  },
  {
   "cell_type": "code",
   "execution_count": null,
   "id": "c23f36ab-b15a-40bb-a3f7-6cddcbcca671",
   "metadata": {},
   "outputs": [],
   "source": [
    "fs_sales.mind_map()"
   ]
  },
  {
   "cell_type": "markdown",
   "id": "8ee7765a-7862-40bc-8531-ec7ae97023ec",
   "metadata": {},
   "source": [
    "<hr style=\"height:2px;border:none;\">\n",
    "<p style = 'font-size:20px;font-family:Arial;'><b>7. Perform operation in marketing domain</b>\n",
    "<p style = 'font-size:18px;font-family:Arial;'><b>7.1 Ingest features from marketing data</b></p>"
   ]
  },
  {
   "cell_type": "code",
   "execution_count": null,
   "id": "c3028459-ddb0-4760-9aa2-c5e7f840e033",
   "metadata": {},
   "outputs": [],
   "source": [
    "fp_mar = fs_marketing.get_feature_process(entity='Region',\n",
    "                                          features=['mean_Loayalty_Score', 'count_Engagement_Channel'],\n",
    "                                          object=marketing_df,\n",
    "                                          description='Ingesting Features in marketing DD')\n",
    "fp_mar.run()"
   ]
  },
  {
   "cell_type": "markdown",
   "id": "d0fa05c1-55e1-48f4-b2db-51283e152680",
   "metadata": {},
   "source": [
    "<p style = 'font-size:18px;font-family:Arial;'><b>7.2 Build dataset in marketing domain</b></p>"
   ]
  },
  {
   "cell_type": "code",
   "execution_count": null,
   "id": "78c1e165-33e1-4f7d-9c54-cb370320326b",
   "metadata": {},
   "outputs": [],
   "source": [
    "dc_mar = fs_marketing.get_dataset_catalog()\n",
    "\n",
    "dc_mar.build_dataset(entity='Region',\n",
    "                     selected_features={'mean_Loayalty_Score': fp_mar.process_id,\n",
    "                                        'count_Engagement_Channel': fp_mar.process_id},\n",
    "                      view_name='marketing_dc_view',\n",
    "                      description='Building dataset for marketing')"
   ]
  },
  {
   "cell_type": "markdown",
   "id": "9b5a64f3-54b1-478b-8aa6-dea0fb2f0775",
   "metadata": {},
   "source": [
    "<p style = 'font-size:18px;font-family:Arial;'><b>7.3 See the mind_map for FeatureStore in marketing domain</b></p>\n",
    "<p style = 'font-size:16px;font-family:Arial;'>We ingested three features—<code>count_price</code>, <code>max_price</code>, and <code>total_price</code>—from a single feature process. This demonstrates how multiple related features, datasets can be managed and tracked together within the feature store, maintaining their lineage to the originating process.</p>"
   ]
  },
  {
   "cell_type": "code",
   "execution_count": null,
   "id": "53c3614b-5108-4a87-9910-b07bb0dce503",
   "metadata": {},
   "outputs": [],
   "source": [
    "fs_marketing.mind_map()"
   ]
  },
  {
   "cell_type": "markdown",
   "id": "10dc564e-2d6e-4e1a-ab55-eb6348b6cc9b",
   "metadata": {},
   "source": [
    "<hr style=\"height:2px;border:none;\">\n",
    "<p style = 'font-size:20px;font-family:Arial;'><b>8. Explore DataDomain</b>\n",
    "<p style = 'font-size:18px;font-family:Arial;'><b>8.1 Explore <code>sales</code> datadomain</b></p>\n",
    "<p style = 'font-size:16px;font-family:Arial;'>Create DataDomain object for sales </p>"
   ]
  },
  {
   "cell_type": "code",
   "execution_count": null,
   "id": "dec88dd6-eb58-420c-9228-9944c3d1eb80",
   "metadata": {},
   "outputs": [],
   "source": [
    "sales_domain = DataDomain(repo='enterprise_marketing_sales',\n",
    "                          data_domain='sales')\n",
    "sales_domain"
   ]
  },
  {
   "cell_type": "markdown",
   "id": "5ee501f2-a3c0-4931-bb67-ebfbe3651f6b",
   "metadata": {},
   "source": [
    "<p style = 'font-size:18px;font-family:Arial;'><b>Explore properties</b></p>\n",
    "<p style = 'font-size:16px;font-family:Arial;'><b>features:</b> The <code>features</code> property of the dataset catalog lists all features currently available in the datasetcatalog.</p>"
   ]
  },
  {
   "cell_type": "code",
   "execution_count": null,
   "id": "7121da20-97c2-4280-ac6f-d0afe8f90596",
   "metadata": {},
   "outputs": [],
   "source": [
    "sales_domain.features"
   ]
  },
  {
   "cell_type": "markdown",
   "id": "238b1725-1188-4120-9eee-a9c545a035d4",
   "metadata": {},
   "source": [
    "<p style = 'font-size:16px;font-family:Arial;'><b>entities:</b> The <code>entities</code> property of the dataset catalog lists all entities currently available in the datasetcatalog.</p>"
   ]
  },
  {
   "cell_type": "code",
   "execution_count": null,
   "id": "218acc69-c68f-47e3-b490-44a8d6fa7b90",
   "metadata": {},
   "outputs": [],
   "source": [
    "sales_domain.entities"
   ]
  },
  {
   "cell_type": "markdown",
   "id": "909521cf-120a-4488-a8d0-52b8274c509a",
   "metadata": {},
   "source": [
    "<p style = 'font-size:16px;font-family:Arial;'><b>processes:</b> The <code>processes</code> property of the dataset catalog lists all processes currently available in the datasetcatalog.</p>"
   ]
  },
  {
   "cell_type": "code",
   "execution_count": null,
   "id": "a737913d-a13a-4ac2-9bab-ad09453352f2",
   "metadata": {},
   "outputs": [],
   "source": [
    "sales_domain.processes"
   ]
  },
  {
   "cell_type": "markdown",
   "id": "0934e88a-45f9-436e-a786-3bf0b6c1c030",
   "metadata": {},
   "source": [
    "<p style = 'font-size:16px;font-family:Arial;'><b>datasets:</b> The <code>datasets</code> property of the dataset catalog lists all datasets currently available in the datasetcatalog.</p>"
   ]
  },
  {
   "cell_type": "code",
   "execution_count": null,
   "id": "041ee7cb-47b3-430f-ac63-75d99ef752db",
   "metadata": {},
   "outputs": [],
   "source": [
    "sales_domain.datasets"
   ]
  },
  {
   "cell_type": "markdown",
   "id": "f0079af3-d0f0-40e2-83fb-8b893c6d93db",
   "metadata": {},
   "source": [
    "<p style = 'font-size:18px;font-family:Arial;'><b>8.2 Explore `marketing` datadomain</b></p>\n",
    "<p style = 'font-size:16px;font-family:Arial;'>Create DataDomain object for marketing </p>"
   ]
  },
  {
   "cell_type": "code",
   "execution_count": null,
   "id": "c4bedda7-2056-4f51-bef8-d13994992128",
   "metadata": {},
   "outputs": [],
   "source": [
    "marketing_domain = DataDomain(repo='enterprise_marketing_sales',\n",
    "                              data_domain='marketing')\n",
    "marketing_domain"
   ]
  },
  {
   "cell_type": "markdown",
   "id": "d61e6c1c-b58a-4d00-83c3-8f677b2ab3bb",
   "metadata": {},
   "source": [
    "<p style = 'font-size:18px;font-family:Arial;'><b>Explore properties</b></p>\n",
    "<p style = 'font-size:16px;font-family:Arial;'><b>features:</b> The <code>features</code> property of the dataset catalog lists all features currently available in the datasetcatalog.</p>"
   ]
  },
  {
   "cell_type": "code",
   "execution_count": null,
   "id": "00eb2ebd-7771-4320-9874-e5bc81ce4c38",
   "metadata": {},
   "outputs": [],
   "source": [
    "marketing_domain.features"
   ]
  },
  {
   "cell_type": "markdown",
   "id": "8e08e044-1004-4bec-b1e0-948ed1b915bf",
   "metadata": {},
   "source": [
    "<p style = 'font-size:16px;font-family:Arial;'><b>entities:</b> The <code>entities</code> property of the dataset catalog lists all entities currently available in the datasetcatalog.</p>"
   ]
  },
  {
   "cell_type": "code",
   "execution_count": null,
   "id": "d60adbca-f37b-4d19-8f70-cd53e27d9bfc",
   "metadata": {},
   "outputs": [],
   "source": [
    "marketing_domain.entities"
   ]
  },
  {
   "cell_type": "markdown",
   "id": "04035a72-4f82-4a10-946a-b74c16ee51f0",
   "metadata": {},
   "source": [
    "<p style = 'font-size:16px;font-family:Arial;'><b>processes:</b> The <code>processes</code> property of the dataset catalog lists all processes currently available in the datasetcatalog.</p>"
   ]
  },
  {
   "cell_type": "code",
   "execution_count": null,
   "id": "85ddf95c-219e-40b3-929f-c31959cdefa1",
   "metadata": {
    "tags": []
   },
   "outputs": [],
   "source": [
    "marketing_domain.processes"
   ]
  },
  {
   "cell_type": "markdown",
   "id": "27adb7df-77a9-45c5-9d3f-80bb6d762f72",
   "metadata": {},
   "source": [
    "<p style = 'font-size:16px;font-family:Arial;'><b>datasets:</b> The <code>datasets</code> property of the dataset catalog lists all datasets currently available in the datasetcatalog.</p>"
   ]
  },
  {
   "cell_type": "code",
   "execution_count": null,
   "id": "be1c1fd5-c025-4cdf-9bd8-51b07df7edcc",
   "metadata": {},
   "outputs": [],
   "source": [
    "marketing_domain.datasets"
   ]
  },
  {
   "cell_type": "markdown",
   "id": "0826cdcc-d6ce-4887-a865-dd63a1347c12",
   "metadata": {},
   "source": [
    "<hr style=\"height:2px;border:none;\">\n",
    "<b style = 'font-size:20px;font-family:Arial;'>9. Cleanup</b></p>\n",
    "<p style = 'font-size:18px;font-family:Arial;'> <b>Work Tables and Views </b></p>"
   ]
  },
  {
   "cell_type": "code",
   "execution_count": null,
   "id": "d5786707-9b2b-4780-81e7-297f37a687f1",
   "metadata": {},
   "outputs": [],
   "source": [
    "db_drop_view('sales_data_view')"
   ]
  },
  {
   "cell_type": "code",
   "execution_count": null,
   "id": "8875217b-e3c3-4cc6-ac44-5187e0f3c8d7",
   "metadata": {},
   "outputs": [],
   "source": [
    "db_drop_view('marketing_data_view')"
   ]
  },
  {
   "cell_type": "code",
   "execution_count": null,
   "id": "e1b65c2e-c651-449b-aa17-1ea959a53757",
   "metadata": {},
   "outputs": [],
   "source": [
    "db_drop_table('sales2_data')"
   ]
  },
  {
   "cell_type": "code",
   "execution_count": null,
   "id": "744ace7d-d5cb-4b0c-9dbb-057f1c1bae57",
   "metadata": {},
   "outputs": [],
   "source": [
    "db_drop_table('marketing2_data')"
   ]
  },
  {
   "cell_type": "markdown",
   "id": "fa71a365-2803-46b9-af33-40e62e595b93",
   "metadata": {},
   "source": [
    "<p style = 'font-size:18px;font-family:Arial;'><b>9.1 Delete the Feature Store</b></p>\n",
    "<p style = 'font-size:16px;font-family:Arial;'><b>Note :</b> This will drop the database if all objects are removed.</p>"
   ]
  },
  {
   "cell_type": "code",
   "execution_count": null,
   "id": "4f9e55e0-e8b4-44bb-95dc-8b6ecda22b5e",
   "metadata": {},
   "outputs": [],
   "source": [
    "fs = FeatureStore(repo=\"enterprise_marketing_sales\")"
   ]
  },
  {
   "cell_type": "code",
   "execution_count": null,
   "id": "2c2cb939-732c-4c2f-9f97-1367025ccf86",
   "metadata": {},
   "outputs": [],
   "source": [
    "fs.delete()"
   ]
  },
  {
   "cell_type": "code",
   "execution_count": null,
   "id": "009da3c3-fb44-4a9f-b316-c3b6fcf9ecb5",
   "metadata": {},
   "outputs": [],
   "source": [
    "remove_context()"
   ]
  },
  {
   "cell_type": "markdown",
   "id": "4bc04b86-0bf0-4404-831b-27f563e4003e",
   "metadata": {},
   "source": [
    "<footer style=\"padding-bottom:35px; background:#f9f9f9; border-bottom:3px solid \">\n",
    "    <div style=\"float:left;margin-top:14px\">ClearScape Analytics™</div>\n",
    "    <div style=\"float:right;\">\n",
    "        <div style=\"float:left; margin-top:14px\">\n",
    "            Copyright © Teradata Corporation - 2025. All Rights Reserved\n",
    "        </div>\n",
    "    </div>\n",
    "</footer>"
   ]
  }
 ],
 "metadata": {
  "kernelspec": {
   "display_name": "Python 3 (ipykernel)",
   "language": "python",
   "name": "python3"
  },
  "language_info": {
   "codemirror_mode": {
    "name": "ipython",
    "version": 3
   },
   "file_extension": ".py",
   "mimetype": "text/x-python",
   "name": "python",
   "nbconvert_exporter": "python",
   "pygments_lexer": "ipython3",
   "version": "3.9.10"
  }
 },
 "nbformat": 4,
 "nbformat_minor": 5
}
