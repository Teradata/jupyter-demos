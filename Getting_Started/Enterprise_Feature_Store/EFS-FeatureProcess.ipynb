{
 "cells": [
  {
   "cell_type": "markdown",
   "id": "9dbc39ed-14f7-4327-9680-48647822c285",
   "metadata": {},
   "source": [
    "<header>\n",
    "   <p  style='font-size:36px;font-family:Arial; color:#F0F0F0; background-color: #00233c; padding-left: 20pt; padding-top: 20pt;padding-bottom: 10pt; padding-right: 20pt;'>\n",
    "       Enterprise Feature Store - FeatureProcess\n",
    "  <br>\n",
    "       <img id=\"teradata-logo\" src=\"https://storage.googleapis.com/clearscape_analytics_demo_data/DEMO_Logo/teradata.svg\" alt=\"Teradata\" style=\"width: 125px; height: auto; margin-top: 20pt;\">\n",
    "    </p>\n",
    "</header>"
   ]
  },
  {
   "cell_type": "markdown",
   "id": "1f1d8db1-6141-464d-9d78-7366a4cda4de",
   "metadata": {
    "tags": []
   },
   "source": [
    "<p style = 'font-size:18px;font-family:Arial;'><b>Sales Analytics Feature Store Demo</b></p>\n",
    "<p style = 'font-size:16px;font-family:Arial;'>This notebook demonstrates how to build and manage a feature store for sales analytics using TeradataML. It covers the end-to-end process of feature engineering, transformation, and governance for sales transaction data. The workflow includes:\n",
    "<ul>\n",
    "  <li>Loading and transforming raw sales data into engineered features such as transaction counts, maximum and total sales amounts, and region-based aggregations.</li>\n",
    "  <li>Creating and managing a centralized feature store `analytics` within the `sales_transactions` data domain.</li>\n",
    "  <li>Ingesting features like count, max, and total sales per region, as well as new and updated features for iterative analytics.</li>\n",
    "  <li>Demonstrating feature lineage, versioning, and time-travel for reproducible machine learning workflows.</li>\n",
    "  <li>Enabling collaboration and reusability of high-quality, governed features for downstream ML models and analytics.</li>\n",
    "</ul>\n",
    "<p style = 'font-size:16px;font-family:Arial;'>The notebook focuses on features such as aggregated sales metrics, region-based statistics, and temporal feature updates, providing a robust foundation for enterprise-scale sales analytics and machine learning.</p>"
   ]
  },
  {
   "cell_type": "markdown",
   "id": "7f1bb5c4-f89e-41b9-8530-897d6d70c2ce",
   "metadata": {
    "tags": []
   },
   "source": [
    "<p style = 'font-size:18px;font-family:Arial;'><b>Disclaimer</b></p>\n",
    "\n",
    "<p style = 'font-size:12px;font-family:Arial;'>\n",
    "The sample code (“Sample Code”) provided is not covered by any Teradata agreements. Please be aware that Teradata has no control over the model responses to such sample code and such response may vary. The use of the model by Teradata is strictly for demonstration purposes and does not constitute any form of certification or endorsement. The sample code is provided “AS IS” and any express or implied warranties, including the implied warranties of merchantability and fitness for a particular purpose, are disclaimed. In no event shall Teradata be liable for any direct, indirect, incidental, special, exemplary, or consequential damages (including, but not limited to, procurement of substitute goods or services; loss of use, data, or profits; or business interruption) sustained by you or a third party, however caused and on any theory of liability, whether in contract, strict liability, or tort arising in any way out of the use of this sample code, even if advised of the possibility of such damage.</p>"
   ]
  },
  {
   "cell_type": "markdown",
   "id": "3564e251-1907-46bd-9c66-e9c880c11b71",
   "metadata": {},
   "source": [
    "<hr style=\"height:2px;border:none;\">\n",
    "<p style = 'font-size:20px;font-family:Arial;'><b>1. Connect to Vantage, Import python packages and explore the dataset</b></p>"
   ]
  },
  {
   "cell_type": "code",
   "execution_count": null,
   "id": "9c8bbe8c-96de-4e0f-b0f3-fca2846faffd",
   "metadata": {},
   "outputs": [],
   "source": [
    "!pip install teradataml==20.0.0.7 --quiet"
   ]
  },
  {
   "cell_type": "markdown",
   "id": "0af1b558-1b9e-498c-90d3-ae275aeb10e9",
   "metadata": {},
   "source": [
    "<div class=\"alert alert-block alert-info\">\n",
    "<p style = 'font-size:16px;font-family:Arial;'><b>Note: </b><i>Please execute the above pip install to get the latest version of the required library. Be sure to restart the kernel after executing those lines to bring the installed libraries into memory. The simplest way to restart the Kernel is by typing zero zero: <b> 0 0</b></i></p>\n",
    "</div>"
   ]
  },
  {
   "cell_type": "code",
   "execution_count": null,
   "id": "3eca12a0-0a4d-4fe4-b398-d25a581b0a03",
   "metadata": {},
   "outputs": [],
   "source": [
    "import os \n",
    "from teradataml import *\n",
    "from collections import OrderedDict\n",
    "from teradatasqlalchemy import INTEGER, FLOAT, VARCHAR\n",
    "import warnings\n",
    "warnings.filterwarnings('ignore')\n",
    "\n",
    "display.max_rows = 5"
   ]
  },
  {
   "cell_type": "markdown",
   "id": "01e24473-ea2f-4e03-a3d4-f89e0db155b5",
   "metadata": {},
   "source": [
    "<hr style=\"height:2px;border:none;\">\n",
    "<b style = 'font-size:18px;font-family:Arial;'> 1.1 Connect to Vantage</b>\n",
    "<p style = 'font-size:16px;font-family:Arial;'>We will be prompted to provide the password. We will enter the password, press the Enter key, and then use the down arrow to go to the next cell.</p>"
   ]
  },
  {
   "cell_type": "code",
   "execution_count": null,
   "id": "ab2057e9-ddec-4c8a-b1fd-13cdff5ffeec",
   "metadata": {},
   "outputs": [],
   "source": [
    "%run -i ../../UseCases/startup.ipynb\n",
    "eng = create_context(host = 'host.docker.internal', username='demo_user', password = password)\n",
    "print(eng)"
   ]
  },
  {
   "cell_type": "code",
   "execution_count": null,
   "id": "9c5b34c1-e146-40e6-8d1d-2d910bed3737",
   "metadata": {},
   "outputs": [],
   "source": [
    "%%capture\n",
    "execute_sql('''SET query_band='DEMO=EFS-FeatureProcess.ipynb;' UPDATE FOR SESSION; ''')"
   ]
  },
  {
   "cell_type": "markdown",
   "id": "92bb8784-cee3-44dd-9a2b-c4a4f23dea8b",
   "metadata": {},
   "source": [
    "<hr style=\"height:2px;border:none;\">\n",
    "<p style = 'font-size:20px;font-family:Arial;'><b>2. Setup a Feature Store Repository</b></p>\n",
    "<p style = 'font-size:18px;font-family:Arial;'><b>2.1 Create the FeatureStore</b></p>"
   ]
  },
  {
   "cell_type": "code",
   "execution_count": null,
   "id": "b04e2a94-b46f-4f62-ae96-89a3aeb7464e",
   "metadata": {},
   "outputs": [],
   "source": [
    "fs = FeatureStore(repo=\"analytics\", data_domain=\"sales_transactions\")"
   ]
  },
  {
   "cell_type": "markdown",
   "id": "6d72327a-b7a0-439f-a1c1-3745bf517624",
   "metadata": {},
   "source": [
    "<p style = 'font-size:18px;font-family:Arial;'><b>2.2 Setup the FeatureStore</b></p>"
   ]
  },
  {
   "cell_type": "code",
   "execution_count": null,
   "id": "6aa23331-28da-44b6-a6ba-1c62965ff4e2",
   "metadata": {},
   "outputs": [],
   "source": [
    "fs.setup()"
   ]
  },
  {
   "cell_type": "markdown",
   "id": "bde364c9-5d21-4de1-a924-159b1bebbce3",
   "metadata": {},
   "source": [
    "<p style = 'font-size:18px;font-family:Arial;'><b>2.3 Checking Availability</b></p>"
   ]
  },
  {
   "cell_type": "code",
   "execution_count": null,
   "id": "e8955689-c480-434a-8846-ae043dbccd17",
   "metadata": {},
   "outputs": [],
   "source": [
    "fs = FeatureStore(repo=\"analytics\", data_domain=\"sales_transactions\")"
   ]
  },
  {
   "cell_type": "markdown",
   "id": "dadbab6b-e0c1-44ae-a83c-a29c88c69398",
   "metadata": {},
   "source": [
    "<hr style=\"height:2px;border:none;\">\n",
    "<p style = 'font-size:20px;font-family:Arial;'><b>3. Get Data For demo</b>\n",
    "<p style = 'font-size:18px;font-family:Arial;'><b>3.1 Load the sales Data for first current week</b></p>"
   ]
  },
  {
   "cell_type": "code",
   "execution_count": null,
   "id": "08a6c833",
   "metadata": {
    "language": "python",
    "scrolled": true
   },
   "outputs": [],
   "source": [
    "sales_dt = OrderedDict(CustomerID=INTEGER, Quantity=INTEGER, TotalAmount=INTEGER, Region=VARCHAR(20))\n",
    "df1 = read_csv(table_name=\"week1_sales\",\n",
    "               filepath=r\"data/sales.csv\",\n",
    "               types=sales_dt)\n",
    "df1.head(3)"
   ]
  },
  {
   "cell_type": "markdown",
   "id": "777408d3-aa13-419c-996c-a7de3c4c9d6a",
   "metadata": {},
   "source": [
    "<p style = 'font-size:18px;font-family:Arial;'><b>3.2 Perform Data Transformation</b></p>\n",
    "<p style = 'font-size:16px;font-family:Arial;'><b>Transformation Details:</b>    \n",
    "In this step, we group the sales data by the 'Region' column and compute three key aggregated features for each region:\n",
    "<ul>\n",
    "  <li><code>total_TotalAmount</code>: The sum of all sales amounts in the region.</li>\n",
    "  <li><code>count_TotalAmount</code>: The total number of sales transactions in the region.</li>\n",
    "  <li><code>max_TotalAmount</code>: The maximum sales amount for a single transaction in the region.</li>\n",
    "</ul>\n",
    "<p style = 'font-size:16px;font-family:Arial;'>These features are essential for region-level analytics and are used as managed features in the feature store.</p>"
   ]
  },
  {
   "cell_type": "code",
   "execution_count": null,
   "id": "f2b662d6-7bb7-4bc2-a0f4-4c5076e303db",
   "metadata": {},
   "outputs": [],
   "source": [
    "df1 = df1.groupby('Region').assign(total_TotalAmount=df1.TotalAmount.sum(),\n",
    "                                   count_TotalAmount=df1.TotalAmount.count(),\n",
    "                                   max_TotalAmount=df1.TotalAmount.max())\n",
    "df1"
   ]
  },
  {
   "cell_type": "markdown",
   "id": "68d9ee67-ad1b-42ea-80be-4b652db867e7",
   "metadata": {},
   "source": [
    "<p style = 'font-size:18px;font-family:Arial;'><b>3.3 Load the sales Data for week 2</b></p>"
   ]
  },
  {
   "cell_type": "code",
   "execution_count": null,
   "id": "1adb97e6-5a7d-49ad-ad8f-87b4fb1720d1",
   "metadata": {},
   "outputs": [],
   "source": [
    "sales_new_dt = OrderedDict(CustomerID=INTEGER, Quantity=INTEGER, TotalAmount=INTEGER, Region=VARCHAR(20))\n",
    "df2 = read_csv(table_name=\"week2_sales\", \n",
    "               filepath=r\"data/sales_week2.csv\", \n",
    "               types=sales_new_dt)\n",
    "df2.head(3)"
   ]
  },
  {
   "cell_type": "markdown",
   "id": "163d95c6-448d-4c12-8d69-d9d09713163b",
   "metadata": {},
   "source": [
    "<p style = 'font-size:18px;font-family:Arial;'><b>3.4 Perform Data Transformation</b></p>\n",
    "<p style = 'font-size:16px;font-family:Arial;'><b>Transformation Details:</b>    \n",
    "In this step, we perform the following transformations on the sales data for week 2:\n",
    "<br>\n",
    "<b> 1. Group by 'Region' :</b> The data is grouped by the 'Region' column to enable region-level aggregations.\n",
    "<br>\n",
    "<b> 2. Aggregate Features :</b> \n",
    "<ul>\n",
    "  <li><code>total_TotalAmount :</code> Calculates the sum of the `TotalAmount` for each region, representing the total sales amount per region.</li>\n",
    "  <li><code>count_TotalAmount :</code> Counts the number of sales transactions for each region.</li>\n",
    "  <li><code>max_TotalAmount :</code> Finds the maximum `TotalAmount` for a single transaction in each region.</li>\n",
    "</ul>\n",
    "<b> 3. Tentative Feature Engineering :</b> \n",
    "<ul>\n",
    "  <li><code>tentative_incr_in_max_TotalAmount :</code> Adds 100 to the `max_TotalAmount` for each region, simulating a scenario where the maximum sales amount is projected to increase.</li>\n",
    "  <li><code>tentative_incr_in_total_TotalAmount :</code> Adds 150 to the `total_TotalAmount` for each region, simulating a projected increase in total sales.</li>\n",
    "    </ul>\n",
    "<p style = 'font-size:16px;font-family:Arial;'>These engineered features are useful for advanced analytics, scenario planning, and as managed features in the feature store.</p>"
   ]
  },
  {
   "cell_type": "code",
   "execution_count": null,
   "id": "1339d5e5-4aac-4741-ae3e-1546c062e114",
   "metadata": {},
   "outputs": [],
   "source": [
    "df2 = df2.groupby('Region').assign(total_TotalAmount=df2.TotalAmount.sum(),\n",
    "                                   count_TotalAmount=df2.TotalAmount.count(),\n",
    "                                   max_TotalAmount=df2.TotalAmount.max())\n",
    "df2 = df2.assign(tentative_incr_in_max_TotalAmount=df2.max_TotalAmount+100, \n",
    "                tentative_incr_in_total_TotalAmount=df2.total_TotalAmount+150)\n",
    "df2"
   ]
  },
  {
   "cell_type": "markdown",
   "id": "35371665-2ca2-451f-98d1-5b22ad58d268",
   "metadata": {},
   "source": [
    "<hr style=\"height:2px;border:none;\">\n",
    "<p style = 'font-size:20px;font-family:Arial;'><b>4. Store the data transformations</b></p>\n",
    "<p style = 'font-size:16px;font-family:Arial;'>We are storing the transformation here. So, even if underlying data varies, the data transformation steps remain same.</p>"
   ]
  },
  {
   "cell_type": "code",
   "execution_count": null,
   "id": "a2c0ce41",
   "metadata": {
    "language": "python"
   },
   "outputs": [],
   "source": [
    "sales_df1 = df1.create_view(\"week1_sales_view\")\n",
    "sales_df1"
   ]
  },
  {
   "cell_type": "code",
   "execution_count": null,
   "id": "bbb78d0b-0aae-4b9f-8dec-a54e402769a9",
   "metadata": {},
   "outputs": [],
   "source": [
    "sales_df2 = df2.create_view(\"week2_sales_view\")\n",
    "sales_df2"
   ]
  },
  {
   "cell_type": "markdown",
   "id": "19610d5d-8517-4dba-b732-274e81968c14",
   "metadata": {},
   "source": [
    "<hr style=\"height:2px;border:none;\">\n",
    "<p style = 'font-size:20px;font-family:Arial;'><b>5. Ingest the features for current week</b></p>\n",
    "<p style = 'font-size:16px;font-family:Arial;'>\n",
    "<ul>\n",
    "  <li>Store the values of count_TotalAmount, max_TotalAmount, total_TotalAmount for every region.</li>\n",
    "  <li>Run the FeatureProcess</li>\n",
    "</ul>"
   ]
  },
  {
   "cell_type": "markdown",
   "id": "d603574f-2cb9-454f-8257-13df73032934",
   "metadata": {},
   "source": [
    "<p style = 'font-size:18px;font-family:Arial;'><b>5.1 Create the FeatureProcess and run it</b></p>"
   ]
  },
  {
   "cell_type": "code",
   "execution_count": null,
   "id": "a0da9ea8",
   "metadata": {
    "language": "python"
   },
   "outputs": [],
   "source": [
    "fp1 = FeatureProcess(\n",
    "    repo=\"analytics\",\n",
    "    data_domain=\"sales_transactions\",\n",
    "    object=sales_df1,\n",
    "    entity=\"Region\",\n",
    "    features=[\"count_TotalAmount\", \"max_TotalAmount\", \"total_TotalAmount\"]\n",
    ")\n",
    "fp1.run()"
   ]
  },
  {
   "cell_type": "markdown",
   "id": "3fcca5cb-3f27-4a1f-9cc7-de7200f416b2",
   "metadata": {},
   "source": [
    "<p style = 'font-size:18px;font-family:Arial;'><b>5.2 See the mind_map for Feature Store</b></p>\n",
    "<p style = 'font-size:16px;font-family:Arial;'>We ingested three features—<code>count_TotalAmount</code>, <code>max_TotalAmount</code>, and <code>total_TotalAmount</code>—from a single feature process. This demonstrates how multiple related features can be managed and tracked together within the feature store, maintaining their lineage to the originating process.</p>"
   ]
  },
  {
   "cell_type": "code",
   "execution_count": null,
   "id": "6bf3fb53-5bc3-4d93-943c-d4c1090c1ee7",
   "metadata": {},
   "outputs": [],
   "source": [
    "fs.mind_map()"
   ]
  },
  {
   "cell_type": "markdown",
   "id": "5b586e13-91e1-41d3-9a25-77a91b128612",
   "metadata": {},
   "source": [
    "<hr style=\"height:2px;border:none;\">\n",
    "<p style = 'font-size:20px;font-family:Arial;'><b>6. Exploration</b>\n",
    "<p style = 'font-size:18px;font-family:Arial;'><b>6.1 Explore properties</b></p>\n",
    "<p style = 'font-size:16px;font-family:Arial;'><b>process_id:</b> The <code>process_id</code> property provides a unique identifier for this feature process run.</p>"
   ]
  },
  {
   "cell_type": "code",
   "execution_count": null,
   "id": "9342f38a-ec98-4a2f-b000-b3906154ecfd",
   "metadata": {},
   "outputs": [],
   "source": [
    "fp1.process_id"
   ]
  },
  {
   "cell_type": "markdown",
   "id": "8af63d09-9361-4947-a52c-c13e08848b8c",
   "metadata": {},
   "source": [
    "<p style = 'font-size:16px;font-family:Arial;'><b>entity:</b> The <code>entity</code> property indicates the primary key or business entity for which the features were ingested. </p>"
   ]
  },
  {
   "cell_type": "code",
   "execution_count": null,
   "id": "90725245-8c5e-455f-a1fa-90afa4bd67cb",
   "metadata": {},
   "outputs": [],
   "source": [
    "fp1.entity"
   ]
  },
  {
   "cell_type": "markdown",
   "id": "6e2becb1-643d-43df-bf34-834ac9c95de3",
   "metadata": {},
   "source": [
    "<p style = 'font-size:16px;font-family:Arial;'><b>features:</b> The <code>features</code> property lists all the features that were ingested by this feature process. </p>"
   ]
  },
  {
   "cell_type": "code",
   "execution_count": null,
   "id": "3ebad727-e37d-4450-89b6-704650ba6db8",
   "metadata": {},
   "outputs": [],
   "source": [
    "fp1.features"
   ]
  },
  {
   "cell_type": "markdown",
   "id": "bc7b6f0d-b5c2-481a-afd8-d0be026fd527",
   "metadata": {},
   "source": [
    "<p style = 'font-size:16px;font-family:Arial;'><b>status:</b> The <code>status</code> property displays the current execution state of the feature process (e.g., running, completed, failed). </p>"
   ]
  },
  {
   "cell_type": "code",
   "execution_count": null,
   "id": "b74c0044-d31a-4b64-9d38-8ad46dcf3828",
   "metadata": {
    "tags": []
   },
   "outputs": [],
   "source": [
    "fp1.status"
   ]
  },
  {
   "cell_type": "markdown",
   "id": "510f784b-94a2-49f0-bdf2-a414991195d2",
   "metadata": {},
   "source": [
    "<p style = 'font-size:18px;font-family:Arial;'><b>6.2 Let's cross verify week1 ingested data</b></p>\n",
    "<p style = 'font-size:16px;font-family:Arial;'><b>Note :</b> To build real datasets on the ingested features, users should refer to `DatasetCatalog.build_dataset()`. The same applies to time series datasets as well.</p>"
   ]
  },
  {
   "cell_type": "code",
   "execution_count": null,
   "id": "a2e0205b-a6c6-492c-86b4-a625b1b10c2f",
   "metadata": {},
   "outputs": [],
   "source": [
    "df_fp1 = fs.get_data(process_id=fp1.process_id)\n",
    "df_fp1"
   ]
  },
  {
   "cell_type": "markdown",
   "id": "c2e9a90c-4555-44d4-9143-d66d72ca1ad8",
   "metadata": {},
   "source": [
    "<hr style=\"height:2px;border:none;\">\n",
    "<p style = 'font-size:20px;font-family:Arial;'><b>7. Ingest the features for week2</b>\n",
    "<p style = 'font-size:18px;font-family:Arial;'><b>7.1 Create the FeatureProcess and run it for only North_week2 Region</b></p>\n",
    "<p style = 'font-size:16px;font-family:Arial;'>\n",
    "<ul>\n",
    "  <li>Store the values of count_TotalAmount, max_TotalAmount, total_TotalAmount, new_count_TotalAmount, new_max_TotalAmount</li>\n",
    "  <li>Run it for every North_week2 region.</li>\n",
    "</ul>"
   ]
  },
  {
   "cell_type": "code",
   "execution_count": null,
   "id": "f8c487d1-6663-4359-a823-e082996325fd",
   "metadata": {},
   "outputs": [],
   "source": [
    "fp2 = FeatureProcess(\n",
    "    repo=\"analytics\",\n",
    "    data_domain=\"sales_transactions\",\n",
    "    object=sales_df2,\n",
    "    entity=\"Region\",\n",
    "    features=[\"count_TotalAmount\", \"max_TotalAmount\", \"total_TotalAmount\", \n",
    "              \"tentative_incr_in_max_TotalAmount\", \"tentative_incr_in_total_TotalAmount\"]\n",
    ")\n",
    "fp2.run(filters=[f\"Region='North'\"])"
   ]
  },
  {
   "cell_type": "markdown",
   "id": "8da689c6-360f-408e-9ef7-7137b0dbc0b3",
   "metadata": {},
   "source": [
    "<p style = 'font-size:18px;font-family:Arial;'><b>7.2 See the mind_map for Feature Store</b></p>"
   ]
  },
  {
   "cell_type": "code",
   "execution_count": null,
   "id": "3ae235f9-2114-4b81-ad88-41795a10da09",
   "metadata": {},
   "outputs": [],
   "source": [
    "fs.mind_map()"
   ]
  },
  {
   "cell_type": "markdown",
   "id": "7fc16c1d-f20f-4c7e-bb40-8ce9a02f73ae",
   "metadata": {},
   "source": [
    "<p style = 'font-size:18px;font-family:Arial;'><b>7.3 Let's cross verify week2 ingested data for only North region</b></p>\n",
    "<p style = 'font-size:16px;font-family:Arial;'><b>Note :</b> To build real datasets on the ingested features, users should refer to <code>DatasetCatalog.build_dataset()</code>. The same applies to time series datasets as well.</p>"
   ]
  },
  {
   "cell_type": "code",
   "execution_count": null,
   "id": "cd316b65-08c9-4532-8633-6ac24eae3251",
   "metadata": {},
   "outputs": [],
   "source": [
    "df_fp2 = fs.get_data(process_id=fp2.process_id)\n",
    "df_fp2"
   ]
  },
  {
   "cell_type": "markdown",
   "id": "c9cfc90f-bcdf-473f-89d8-0af49517ce75",
   "metadata": {},
   "source": [
    "<hr style=\"height:2px;border:none;\">\n",
    "<p style = 'font-size:20px;font-family:Arial;'><b>8. Ingest the features at specific time</b>\n",
    "<p style = 'font-size:18px;font-family:Arial;'><b>8.1 Get the Feature Version table </p>\n",
    "<p style = 'font-size:16px;font-family:Arial;'>Create FeatureCatalog Object</p>"
   ]
  },
  {
   "cell_type": "code",
   "execution_count": null,
   "id": "05bb1d5b-0818-470d-bf66-62bad4dbe50a",
   "metadata": {},
   "outputs": [],
   "source": [
    "fc = FeatureCatalog(repo=\"analytics\",\n",
    "                    data_domain=\"sales_transactions\")\n",
    "fc"
   ]
  },
  {
   "cell_type": "markdown",
   "id": "5dedf099-d10e-4ad5-9f1d-8608bc6d42fd",
   "metadata": {},
   "source": [
    "<p style = 'font-size:16px;font-family:Arial;'>Check the feature versions</p>"
   ]
  },
  {
   "cell_type": "code",
   "execution_count": null,
   "id": "54abd765-191d-4c95-a4ca-5862d3bd0755",
   "metadata": {},
   "outputs": [],
   "source": [
    "f_ver = fc.list_feature_versions()\n",
    "f_ver"
   ]
  },
  {
   "cell_type": "markdown",
   "id": "a0dd23a9-ba0c-4222-b05e-bbe0dbfaa873",
   "metadata": {},
   "source": [
    "<p style = 'font-size:16px;font-family:Arial;'>Get the data from feature table</p>"
   ]
  },
  {
   "cell_type": "code",
   "execution_count": null,
   "id": "cdf1ae67-5c72-41d4-9b5b-e7ced820c080",
   "metadata": {},
   "outputs": [],
   "source": [
    "feat_df = DataFrame(in_schema('analytics', 'FS_T_74f39696_8ca1_2744_5460_b3d357904b4c'))\n",
    "feat_df"
   ]
  },
  {
   "cell_type": "markdown",
   "id": "af23ae66-999b-46e1-84b1-fa18d9dad1c0",
   "metadata": {},
   "source": [
    "<p style = 'font-size:18px;font-family:Arial;'><b>8.2 Ingest the features at specific time</b></p>\n",
    "<p style = 'font-size:16px;font-family:Arial;'>\n",
    "<ul>\n",
    "    <li>Store the values from FeatureProcess2 at specific time</li>\n",
    "</ul></p>"
   ]
  },
  {
   "cell_type": "code",
   "execution_count": null,
   "id": "8ffdde87-7043-4805-9c67-c363b3ef5658",
   "metadata": {},
   "outputs": [],
   "source": [
    "fp3 = FeatureProcess(\n",
    "    repo=\"analytics\",\n",
    "    data_domain=\"sales_transactions\",\n",
    "    object=fp2.process_id\n",
    ")\n",
    "fp3.run(as_of='2025-09-05 07:21:59.000000+00:00')"
   ]
  },
  {
   "cell_type": "markdown",
   "id": "75018691-b6ec-4cf3-b4ef-539a4d447add",
   "metadata": {},
   "source": [
    "<p style = 'font-size:18px;font-family:Arial;'><b>8.3 See the mind_map for Feature Store</b></p>"
   ]
  },
  {
   "cell_type": "code",
   "execution_count": null,
   "id": "90a5398f-24c0-414b-9de9-32a978064907",
   "metadata": {},
   "outputs": [],
   "source": [
    "fs.mind_map()"
   ]
  },
  {
   "cell_type": "markdown",
   "id": "7bca9807-16b4-4b66-b08a-94245fd11c03",
   "metadata": {},
   "source": [
    "<p style = 'font-size:18px;font-family:Arial;'><b>8.4 Let's cross verify week1 ingested data</b></p>\n",
    "<p style = 'font-size:16px;font-family:Arial;'><b>Note :</b> To build real datasets on the ingested features, users should refer to <code>DatasetCatalog.build_dataset()</code>. The same applies to time series datasets as well.</p>"
   ]
  },
  {
   "cell_type": "code",
   "execution_count": null,
   "id": "f3a3f668-7699-47b8-86e5-37e7f1e32155",
   "metadata": {},
   "outputs": [],
   "source": [
    "df_fp3 = fs.get_data(process_id=fp3.process_id)\n",
    "df_fp3"
   ]
  },
  {
   "cell_type": "markdown",
   "id": "0c59054d-6bcf-4890-ade5-8cbca6e9e1fd",
   "metadata": {},
   "source": [
    "<hr style=\"height:2px;border:none;\">\n",
    "<p style = 'font-size:20px;font-family:Arial;'><b>9. Explore the FeatureCatalog</b>\n",
    "<p style = 'font-size:18px;font-family:Arial;'><b>9.1 Explore FeatureCatalog Properties</b></p>\n",
    "<p style = 'font-size:16px;font-family:Arial;'><b>features:</b> The <code>features</code> property of the dataset catalog lists all features currently available in the datasetcatalog.</p>"
   ]
  },
  {
   "cell_type": "code",
   "execution_count": null,
   "id": "77043fe1-b4ac-4f34-ba19-2cda087da044",
   "metadata": {},
   "outputs": [],
   "source": [
    "fc.features"
   ]
  },
  {
   "cell_type": "markdown",
   "id": "67ddd51a-e681-4c74-8c13-c3023ed127ae",
   "metadata": {},
   "source": [
    "<p style = 'font-size:16px;font-family:Arial;'><b>entities:</b> The <code>entities</code> property of the dataset catalog lists all entities currently available in the datasetcatalog.</p>"
   ]
  },
  {
   "cell_type": "code",
   "execution_count": null,
   "id": "385dc3c9-6b07-4e7e-9489-35f7c0d4d224",
   "metadata": {},
   "outputs": [],
   "source": [
    "fc.entities"
   ]
  },
  {
   "cell_type": "markdown",
   "id": "f0b2dd7b-3c8c-4408-8316-f10f3fa90919",
   "metadata": {},
   "source": [
    "<p style = 'font-size:16px;font-family:Arial;'><b>data_domain:</b> The <code>data_domain</code> property shows the business domain associated with the feature catalog.</p>"
   ]
  },
  {
   "cell_type": "code",
   "execution_count": null,
   "id": "6b747fda-f9d6-44bf-86f8-3a016e010418",
   "metadata": {},
   "outputs": [],
   "source": [
    "fc.data_domain"
   ]
  },
  {
   "cell_type": "markdown",
   "id": "3e5e9031-d0ae-42f1-9c9a-8461176d976a",
   "metadata": {},
   "source": [
    "<p style = 'font-size:18px;font-family:Arial;'><b>9.2 Explore FeatureCatalog Methods</b></p>\n",
    "<p style = 'font-size:16px;font-family:Arial;'><b>List Features</b></p>"
   ]
  },
  {
   "cell_type": "code",
   "execution_count": null,
   "id": "aef7dc32-f270-4c95-9022-e6c74d7c0749",
   "metadata": {},
   "outputs": [],
   "source": [
    "fc.list_features()"
   ]
  },
  {
   "cell_type": "markdown",
   "id": "06b0c090-a85c-472d-8b16-bb0ba6e09926",
   "metadata": {},
   "source": [
    "<p style = 'font-size:16px;font-family:Arial;'><b>Archive Features</b></p>"
   ]
  },
  {
   "cell_type": "code",
   "execution_count": null,
   "id": "2706da53-50fb-4b74-85c0-4fdda0b3691b",
   "metadata": {},
   "outputs": [],
   "source": [
    "fc.archive_features(features='total_TotalAmount')"
   ]
  },
  {
   "cell_type": "code",
   "execution_count": null,
   "id": "5a80ecc1-90c2-467c-b46d-81a12884e339",
   "metadata": {},
   "outputs": [],
   "source": [
    "fc.list_features()"
   ]
  },
  {
   "cell_type": "markdown",
   "id": "5172579a-15e5-494a-bb14-884ad56a423e",
   "metadata": {},
   "source": [
    "<p style = 'font-size:16px;font-family:Arial;'><b>Delete Features</b></p>"
   ]
  },
  {
   "cell_type": "code",
   "execution_count": null,
   "id": "359bbe5d-e2cd-4b4c-8357-2cc34e4c48c4",
   "metadata": {},
   "outputs": [],
   "source": [
    "fc.delete_features(features='total_TotalAmount')"
   ]
  },
  {
   "cell_type": "code",
   "execution_count": null,
   "id": "998b1efe-04e7-4e7d-8077-a85b85cd0759",
   "metadata": {},
   "outputs": [],
   "source": [
    "fc.list_features()"
   ]
  },
  {
   "cell_type": "markdown",
   "id": "90591ade-40cb-4540-ba5d-01d4982edb1c",
   "metadata": {},
   "source": [
    "<hr style=\"height:2px;border:none;\">\n",
    "<p style = 'font-size:20px;font-family:Arial;'><b>10. Explore the FeatureStore</b>\n",
    "<p style = 'font-size:16px;font-family:Arial;'><b>List feature_catalogs</b></p>"
   ]
  },
  {
   "cell_type": "code",
   "execution_count": null,
   "id": "109704c6-644f-4b03-9115-db6efa5727b9",
   "metadata": {},
   "outputs": [],
   "source": [
    "fs.list_feature_catalogs()"
   ]
  },
  {
   "cell_type": "markdown",
   "id": "593a2720-5b83-4323-a395-28a25f59f304",
   "metadata": {},
   "source": [
    "<p style = 'font-size:16px;font-family:Arial;'><b>List Entities</b></p>"
   ]
  },
  {
   "cell_type": "code",
   "execution_count": null,
   "id": "10834590-dd37-41b9-98a0-fe46249da3d1",
   "metadata": {},
   "outputs": [],
   "source": [
    "fs.list_entities()"
   ]
  },
  {
   "cell_type": "markdown",
   "id": "9f069bcc-6e1f-4c3d-853f-76535d6fb5b0",
   "metadata": {},
   "source": [
    "<p style = 'font-size:16px;font-family:Arial;'><b>List feature_processes</b></p>"
   ]
  },
  {
   "cell_type": "code",
   "execution_count": null,
   "id": "364963b9-dc51-4819-a25c-3d51ef453ee5",
   "metadata": {},
   "outputs": [],
   "source": [
    "fs.list_feature_processes()"
   ]
  },
  {
   "cell_type": "markdown",
   "id": "b32b1821-0eb8-42c5-91d2-896a2a8c4379",
   "metadata": {},
   "source": [
    "<p style = 'font-size:16px;font-family:Arial;'><b>List feature_runs</b></p>"
   ]
  },
  {
   "cell_type": "code",
   "execution_count": null,
   "id": "4bbdfe4e-bb05-4f39-bfd5-ecd09f51fb47",
   "metadata": {},
   "outputs": [],
   "source": [
    "fs.list_feature_runs()"
   ]
  },
  {
   "cell_type": "markdown",
   "id": "6edc098e-79b3-44a4-9ec9-0f6af3f5fb13",
   "metadata": {},
   "source": [
    "<p style = 'font-size:16px;font-family:Arial;'><b>List Features</b></p>"
   ]
  },
  {
   "cell_type": "code",
   "execution_count": null,
   "id": "f6f2e0a8-595e-4cd1-ae16-c418dfa36822",
   "metadata": {},
   "outputs": [],
   "source": [
    "fs.list_features()"
   ]
  },
  {
   "cell_type": "markdown",
   "id": "e838acf6-b507-4840-8a8f-212131e61fec",
   "metadata": {},
   "source": [
    "<hr style=\"height:2px;border:none;\">\n",
    "<b style = 'font-size:20px;font-family:Arial;'>11. Cleanup</b></p>\n",
    "<p style = 'font-size:18px;font-family:Arial;'> <b>Work Tables and Views </b></p>"
   ]
  },
  {
   "cell_type": "code",
   "execution_count": null,
   "id": "2006ab4b-fe90-41e9-b871-a8cd4cbb4a0d",
   "metadata": {},
   "outputs": [],
   "source": [
    "db_drop_view('week1_sales_view')"
   ]
  },
  {
   "cell_type": "code",
   "execution_count": null,
   "id": "091d3673-9ef2-4554-835e-aa4792458ea9",
   "metadata": {},
   "outputs": [],
   "source": [
    "db_drop_view('week2_sales_view')"
   ]
  },
  {
   "cell_type": "code",
   "execution_count": null,
   "id": "d0670bbb-5cc8-44c4-842f-0b61f4e011d5",
   "metadata": {},
   "outputs": [],
   "source": [
    "db_drop_table('week1_sales')"
   ]
  },
  {
   "cell_type": "code",
   "execution_count": null,
   "id": "5daf09d8-8eba-4943-ae17-f9c77a6f1dc3",
   "metadata": {},
   "outputs": [],
   "source": [
    "db_drop_table('week2_sales')"
   ]
  },
  {
   "cell_type": "code",
   "execution_count": null,
   "id": "537df17d-fa18-4d50-b6c7-152a6a719031",
   "metadata": {},
   "outputs": [],
   "source": [
    "remove_context()"
   ]
  },
  {
   "cell_type": "markdown",
   "id": "6ff4ed17-59d4-4ce2-bca1-eff13d71638d",
   "metadata": {},
   "source": [
    "<p style = 'font-size:18px;font-family:Arial;'><b>11.1 Delete the Feature Store</b></p>"
   ]
  },
  {
   "cell_type": "code",
   "execution_count": null,
   "id": "2067657f-46b7-4b13-8e5b-9ab0ccb079a6",
   "metadata": {},
   "outputs": [],
   "source": [
    "%run -i ../../UseCases/startup.ipynb\n",
    "eng = create_context(host = 'host.docker.internal', username='demo_user', password = password)\n",
    "print(eng)"
   ]
  },
  {
   "cell_type": "markdown",
   "id": "a55b6baa-1178-45fc-81f2-18b300deb4c8",
   "metadata": {},
   "source": [
    "<p style = 'font-size:16px;font-family:Arial;'><b>Note :</b> This will drop the database if all objects are removed.</p>"
   ]
  },
  {
   "cell_type": "code",
   "execution_count": null,
   "id": "42be2c63-123f-4766-a812-01c5709e9225",
   "metadata": {},
   "outputs": [],
   "source": [
    "fs = FeatureStore(repo=\"analytics\", data_domain=\"sales_transactions\")"
   ]
  },
  {
   "cell_type": "code",
   "execution_count": null,
   "id": "ccb5539b-46c9-4e4a-a9c6-3f3b1bf78589",
   "metadata": {},
   "outputs": [],
   "source": [
    "fs.delete()"
   ]
  },
  {
   "cell_type": "code",
   "execution_count": null,
   "id": "434567e2-de4f-4dcb-abab-0dfb8e8a8506",
   "metadata": {},
   "outputs": [],
   "source": [
    "remove_context()"
   ]
  },
  {
   "cell_type": "markdown",
   "id": "02cac666-c996-4236-86c8-0daa0fa946b4",
   "metadata": {},
   "source": [
    "<footer style=\"padding-bottom:35px; background:#f9f9f9; border-bottom:3px solid #00233C\">\n",
    "    <div style=\"float:left;margin-top:14px\">ClearScape Analytics™</div>\n",
    "    <div style=\"float:right;\">\n",
    "        <div style=\"float:left; margin-top:14px\">\n",
    "            Copyright © Teradata Corporation - 2025. All Rights Reserved\n",
    "        </div>\n",
    "    </div>\n",
    "</footer>"
   ]
  }
 ],
 "metadata": {
  "kernelspec": {
   "display_name": "Python 3 (ipykernel)",
   "language": "python",
   "name": "python3"
  },
  "language_info": {
   "codemirror_mode": {
    "name": "ipython",
    "version": 3
   },
   "file_extension": ".py",
   "mimetype": "text/x-python",
   "name": "python",
   "nbconvert_exporter": "python",
   "pygments_lexer": "ipython3",
   "version": "3.9.10"
  }
 },
 "nbformat": 4,
 "nbformat_minor": 5
}
