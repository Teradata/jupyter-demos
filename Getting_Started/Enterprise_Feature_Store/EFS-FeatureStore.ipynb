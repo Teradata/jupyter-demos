{
 "cells": [
  {
   "cell_type": "markdown",
   "id": "f31ee3be-f3f5-4f1f-a337-da13e23c0bb2",
   "metadata": {},
   "source": [
    "<header>\n",
    "   <p  style='font-size:36px;font-family:Arial; color:#F0F0F0; background-color: #00233c; padding-left: 20pt; padding-top: 20pt;padding-bottom: 10pt; padding-right: 20pt;'>\n",
    "       Enterprise Feature Store - Feature Store\n",
    "  <br>\n",
    "       <img id=\"teradata-logo\" src=\"https://storage.googleapis.com/clearscape_analytics_demo_data/DEMO_Logo/teradata.svg\" alt=\"Teradata\" style=\"width: 125px; height: auto; margin-top: 20pt;\">\n",
    "    </p>\n",
    "</header>"
   ]
  },
  {
   "cell_type": "markdown",
   "id": "288f8f49-0e6b-48a5-acf8-b9e580868e02",
   "metadata": {},
   "source": [
    "<p style = 'font-size:18px;font-family:Arial;'><b>Enterprise Feature Store</b></p>\n",
    "<p style = 'font-size:16px;font-family:Arial;'>This notebook demonstrates how to build, manage, and utilize an enterprise feature store using TeradataML. It covers the end-to-end workflow for feature engineering, ingestion, cataloging, and governance of features derived from business data such as sales, marketing, and transactions. <br>\n",
    "<b>Notebook Purpose:</b>\n",
    "<ul>\n",
    "  <li>Show how to create and manage a centralized feature repository for analytics and machine learning.</li>\n",
    "  <li>Demonstrate feature engineering and ingestion from raw business datasets.</li>\n",
    "  <li>Illustrate feature lineage, versioning, and governance for reproducible ML workflows.</li>\n",
    "</ul>\n"
   ]
  },
  {
   "cell_type": "markdown",
   "id": "81d74455-6f7f-419d-8b6e-a55ffdcff648",
   "metadata": {},
   "source": [
    "<p style = 'font-size:18px;font-family:Arial;'><b>Disclaimer</b></p>\n",
    "\n",
    "<p style = 'font-size:12px;font-family:Arial;'>\n",
    "The sample code (“Sample Code”) provided is not covered by any Teradata agreements. Please be aware that Teradata has no control over the model responses to such sample code and such response may vary. The use of the model by Teradata is strictly for demonstration purposes and does not constitute any form of certification or endorsement. The sample code is provided “AS IS” and any express or implied warranties, including the implied warranties of merchantability and fitness for a particular purpose, are disclaimed. In no event shall Teradata be liable for any direct, indirect, incidental, special, exemplary, or consequential damages (including, but not limited to, procurement of substitute goods or services; loss of use, data, or profits; or business interruption) sustained by you or a third party, however caused and on any theory of liability, whether in contract, strict liability, or tort arising in any way out of the use of this sample code, even if advised of the possibility of such damage.</p>"
   ]
  },
  {
   "cell_type": "markdown",
   "id": "751a2927-1af6-4734-8570-ec7230f04054",
   "metadata": {},
   "source": [
    "<hr style=\"height:2px;border:none;\">\n",
    "<p style = 'font-size:20px;font-family:Arial;'><b>1. Connect to Vantage, Import python packages and explore the dataset</b></p>"
   ]
  },
  {
   "cell_type": "code",
   "execution_count": null,
   "id": "130fa53a-d5ad-4845-9897-17d3014e5258",
   "metadata": {},
   "outputs": [],
   "source": [
    "!pip install teradataml==20.0.0.7 --quiet"
   ]
  },
  {
   "cell_type": "markdown",
   "id": "d0acb67d-ed32-477f-adcf-026363426799",
   "metadata": {},
   "source": [
    "<div class=\"alert alert-block alert-info\">\n",
    "<p style = 'font-size:16px;font-family:Arial;'><b>Note: </b><i>Please execute the above pip install to get the latest version of the required library. Be sure to restart the kernel after executing those lines to bring the installed libraries into memory. The simplest way to restart the Kernel is by typing zero zero: <b> 0 0</b></i></p>\n",
    "</div>"
   ]
  },
  {
   "cell_type": "code",
   "execution_count": null,
   "id": "35177d2f-01c6-4810-8d31-d3f4e37a5290",
   "metadata": {},
   "outputs": [],
   "source": [
    "from teradataml import *\n",
    "from getpass import getpass\n",
    "from collections import OrderedDict\n",
    "from teradatasqlalchemy import INTEGER, FLOAT, VARCHAR, DATE\n",
    "from sqlalchemy import literal_column\n",
    "import warnings\n",
    "warnings.filterwarnings('ignore')\n",
    "\n",
    "display.max_rows = 5"
   ]
  },
  {
   "cell_type": "markdown",
   "id": "29ec3835-3d85-4f27-ac6d-33a9e7bd01d2",
   "metadata": {},
   "source": [
    "<hr style=\"height:2px;border:none;\">\n",
    "<b style = 'font-size:18px;font-family:Arial;'> 1.1 Connect to Vantage</b>\n",
    "<p style = 'font-size:16px;font-family:Arial;'>We will be prompted to provide the password. We will enter the password, press the Enter key, and then use the down arrow to go to the next cell.</p>"
   ]
  },
  {
   "cell_type": "code",
   "execution_count": null,
   "id": "8547be93-f623-421b-b16c-92d0574b6243",
   "metadata": {},
   "outputs": [],
   "source": [
    "%run -i ../../UseCases/startup.ipynb\n",
    "eng = create_context(host = 'host.docker.internal', username='demo_user', password = password)\n",
    "print(eng)"
   ]
  },
  {
   "cell_type": "code",
   "execution_count": null,
   "id": "61669577-9e97-490b-ad74-d81f93cc4818",
   "metadata": {},
   "outputs": [],
   "source": [
    "%%capture\n",
    "execute_sql('''SET query_band='DEMO=EFS-FeatureStore.ipynb;' UPDATE FOR SESSION; ''')"
   ]
  },
  {
   "cell_type": "markdown",
   "id": "2ee5f990-c215-4af0-9e27-f7e58e99bc9c",
   "metadata": {},
   "source": [
    "<hr style=\"height:2px;border:none;\">\n",
    "<p style = 'font-size:20px;font-family:Arial;'><b>2. Setup a Feature Store Repository</b></p>\n",
    "<p style = 'font-size:18px;font-family:Arial;'><b>2.1 Create the FeatureStore</b></p>"
   ]
  },
  {
   "cell_type": "code",
   "execution_count": null,
   "id": "8fb04938-a1ab-4340-87ee-d539c051817f",
   "metadata": {},
   "outputs": [],
   "source": [
    "# Create a repo. \n",
    "fs = FeatureStore(repo='enterprise_feature_repo')"
   ]
  },
  {
   "cell_type": "markdown",
   "id": "a34c8082-eed7-48c9-8f3c-f14c865f93a4",
   "metadata": {},
   "source": [
    "<p style = 'font-size:18px;font-family:Arial;'><b>2.2 Setup the FeatureStore</b></p>"
   ]
  },
  {
   "cell_type": "code",
   "execution_count": null,
   "id": "e52c92b4-da20-42f1-a80c-0ad8b57e2690",
   "metadata": {},
   "outputs": [],
   "source": [
    "fs.setup()"
   ]
  },
  {
   "cell_type": "markdown",
   "id": "3234a08b-c395-4f7b-8390-f82ff4bdc3ae",
   "metadata": {},
   "source": [
    "<p style = 'font-size:18px;font-family:Arial;'><b>2.3 List the available feature stores</b></p>"
   ]
  },
  {
   "cell_type": "code",
   "execution_count": null,
   "id": "7b37bf6a-78da-4572-a446-e6652ae303c2",
   "metadata": {},
   "outputs": [],
   "source": [
    "FeatureStore.list_repos()"
   ]
  },
  {
   "cell_type": "markdown",
   "id": "06da50f5-4f86-40c1-a240-958b837de42e",
   "metadata": {},
   "source": [
    "<p style = 'font-size:18px;font-family:Arial;'><b>2.4 Checking Availability</b></p>"
   ]
  },
  {
   "cell_type": "code",
   "execution_count": null,
   "id": "e865381b-2680-43e9-a19e-6adf3597d374",
   "metadata": {},
   "outputs": [],
   "source": [
    "# First initiate feature store for the repo enterprise_feature_repo. Keep the data domain as analytics.\n",
    "fs = FeatureStore(repo='enterprise_feature_repo', data_domain='Analytics')"
   ]
  },
  {
   "cell_type": "markdown",
   "id": "d9a9a462-5074-4649-95db-f89d55c154b8",
   "metadata": {},
   "source": [
    "<p style = 'font-size:18px;font-family:Arial;'><b>Feature Engineering</b></p>\n",
    "<p style = 'font-size:16px;font-family:Arial;'>In this feature engineering process, we will use the <code>teradataml</code> package to create Teradata DataFrames that implement the required computations. The two main feature engineering tasks are:</p>\n",
    "<ol>\n",
    "    <li>\n",
    "        <strong>Statistics on Customer:</strong> For each <code>customer ID</code>, we will compute:\n",
    "        <ul>\n",
    "            <li>The sum of all transaction amounts.</li>\n",
    "            <li>The average amount per transaction.</li>\n",
    "            <li>The total number of transactions.</li>\n",
    "            <li>The number of days since the last transaction.</li>\n",
    "        </ul>\n",
    "    </li>\n",
    "    <li>\n",
    "        <strong>Spending Category Distribution:</strong> For each transaction category, we will compute:\n",
    "        <ul>\n",
    "            <li>The sum of transaction amounts.</li>\n",
    "            <li>The mean, standard deviation, maximum, and median of transaction amounts.</li>\n",
    "        </ul>\n",
    "    </li>\n",
    "</ol>\n",
    "\n",
    "<p style = 'font-size:16px;font-family:Arial;'>These computations will result in two Teradata DataFrames:</p>\n",
    "\n",
    "<ul>\n",
    "    <li><code>df_eng_feat_cust</code>: Features computed per customer.</li>\n",
    "    <li><code>df_eng_feat_cat</code>: Features computed for spending category distribution.</li>\n",
    "</ul>\n",
    "\n",
    "<p style = 'font-size:16px;font-family:Arial;'>Note that these DataFrames only implement the processing logic and do not generate data until explicitly stored or exported. When displaying the content of these DataFrames, only a sample of the results will be shown. To generate the actual data, you would need to either:</p>\n",
    "<ul>\n",
    "    <li>Store the results in another table within the database.</li>\n",
    "    <li>Export the results to a <code>pandas</code> DataFrame, files, ...</li>\n",
    "</ul>\n",
    "</p>"
   ]
  },
  {
   "cell_type": "markdown",
   "id": "a103fa40-6e5b-400f-ae42-e0445e18c6b2",
   "metadata": {},
   "source": [
    "<hr style=\"height:2px;border:none;\">\n",
    "<p style = 'font-size:20px;font-family:Arial;'><b>3. Get Data For demo</b>\n",
    "<p style = 'font-size:18px;font-family:Arial;'><b>3.1 Load the transaction Data</b></p>"
   ]
  },
  {
   "cell_type": "code",
   "execution_count": null,
   "id": "cc22cfc2-d64b-4235-86aa-5dae212eb203",
   "metadata": {},
   "outputs": [],
   "source": [
    "t_types = OrderedDict(CustomerID=INTEGER, Transaction_Amount=FLOAT, Date_transaction=DATE, Category=VARCHAR(200), MerchantID=INTEGER)\n",
    "df = read_csv(table_name='transactions',\n",
    "               filepath=r\"data/transactions.csv\",\n",
    "              types=t_types)"
   ]
  },
  {
   "cell_type": "markdown",
   "id": "9d11f701-5b03-4792-98c7-986178a0a705",
   "metadata": {},
   "source": [
    "<p style = 'font-size:18px;font-family:Arial;'><b>3.2 Perform Data Transformation</b></p>"
   ]
  },
  {
   "cell_type": "code",
   "execution_count": null,
   "id": "e155724d-bd2b-4e04-8f2f-73d67ae5a9f7",
   "metadata": {},
   "outputs": [],
   "source": [
    "df_eng_feat_cust = df.groupby('CustomerID').agg({'Transaction_Amount' : ['sum','mean','count'], 'Date_transaction':['max']})"
   ]
  },
  {
   "cell_type": "markdown",
   "id": "a44836a8-5947-4dee-9494-0df90d5f37db",
   "metadata": {},
   "source": [
    "<p style = 'font-size:16px;font-family:Arial;'><b>Statistics on customers </b></p>"
   ]
  },
  {
   "cell_type": "code",
   "execution_count": null,
   "id": "ea05de34-99e2-452c-9afd-c0c043fbfb19",
   "metadata": {},
   "outputs": [],
   "source": [
    "df_eng_feat_cust = df.groupby('CustomerID').assign(total_Transaction_Amount=df.Transaction_Amount.sum(),\n",
    "                                                   avg_Transaction_Amount=df.Transaction_Amount.mean(),\n",
    "                                                   count_Transaction_Amount=df.Transaction_Amount.count(),\n",
    "                                                   max_Date_transaction=df.Date_transaction.max()\n",
    "                                                  )\n",
    "df_eng_feat_cust = df_eng_feat_cust.assign(nb_days_since_last_transactions = literal_column('INTERVAL(PERIOD(max_Date_transaction, CURRENT_DATE)) DAY(4)',type_= INTEGER))\n",
    "df_eng_feat_cust = df_eng_feat_cust[['CustomerID','total_Transaction_Amount','avg_Transaction_Amount','count_Transaction_Amount','nb_days_since_last_transactions']]\n",
    "df_eng_feat_cust"
   ]
  },
  {
   "cell_type": "markdown",
   "id": "80ef6359-3afe-4469-8582-ce5d69e7197d",
   "metadata": {},
   "source": [
    "<p style = 'font-size:16px;font-family:Arial;'><b>Spending Category Distribution</b></p>"
   ]
  },
  {
   "cell_type": "code",
   "execution_count": null,
   "id": "16096bc5-68ce-4373-899f-377060f919ab",
   "metadata": {},
   "outputs": [],
   "source": [
    "df_eng_feat_cat = df.groupby('Category').agg({'Transaction_Amount':['sum','mean','std','min','max','median']})\n",
    "df_eng_feat_cat = df_eng_feat_cat.join(\n",
    "    df[['Category','Transaction_Amount']].groupby(\"Category\").percentile(0.25),\n",
    "    on = 'Category',\n",
    "    how = 'inner',\n",
    "    rprefix = 'r'\n",
    ")[df_eng_feat_cat.columns + ['percentile_Transaction_Amount']]\n",
    "df_eng_feat_cat = df_eng_feat_cat.assign(quartile_1_Transaction_Amount=df_eng_feat_cat.percentile_Transaction_Amount)\n",
    "df_eng_feat_cat = df_eng_feat_cat[[c for c in df_eng_feat_cat.columns if c not in ['percentile_Transaction_Amount']]]\n",
    "df_eng_feat_cat = df_eng_feat_cat.join(\n",
    "    df[['Category','Transaction_Amount']].groupby(\"Category\").percentile(0.25),\n",
    "    on = 'Category',\n",
    "    how = 'inner',\n",
    "    rprefix = 'r'\n",
    ")[df_eng_feat_cat.columns + ['percentile_Transaction_Amount']]\n",
    "df_eng_feat_cat = df_eng_feat_cat.assign(quartile_3_Transaction_Amount=df_eng_feat_cat.percentile_Transaction_Amount)\n",
    "df_eng_feat_cat = df_eng_feat_cat[[c for c in df_eng_feat_cat.columns if c not in ['percentile_Transaction_Amount']]]\n",
    "df_eng_feat_cat = df_eng_feat_cat.assign(var_feature = 'test')\n",
    "df_eng_feat_cat"
   ]
  },
  {
   "cell_type": "markdown",
   "id": "2dbf78ae-8a2d-4c62-a1f4-6922a16e73ec",
   "metadata": {},
   "source": [
    "<hr style=\"height:2px;border:none;\">\n",
    "<p style = 'font-size:20px;font-family:Arial;'><b>4. Store the data transformations</b></p>\n",
    "<p style = 'font-size:16px;font-family:Arial;'>We are storing the transformation here. So, even if underlying data varies, the data transformation steps remain same.</p>"
   ]
  },
  {
   "cell_type": "code",
   "execution_count": null,
   "id": "c25e4835-4073-4b0c-870b-0717a49448a9",
   "metadata": {
    "scrolled": true
   },
   "outputs": [],
   "source": [
    "df_eng_feat_cust = df_eng_feat_cust.create_view('FEAT_ENG_CUST')\n",
    "df_eng_feat_cust"
   ]
  },
  {
   "cell_type": "code",
   "execution_count": null,
   "id": "a6705280-5d40-4533-ae0f-66529d2dd00c",
   "metadata": {},
   "outputs": [],
   "source": [
    "df_eng_feat_cat = df_eng_feat_cat.create_view('FEAT_ENG_CAT')\n",
    "df_eng_feat_cat"
   ]
  },
  {
   "cell_type": "markdown",
   "id": "d7ce221b-0029-4125-9f8d-e18028dfacd2",
   "metadata": {},
   "source": [
    "<hr style=\"height:2px;border:none;\">\n",
    "<p style = 'font-size:20px;font-family:Arial;'><b>5. Ingest the features from <code>df_eng_feat_cust</code> datasource</b>\n",
    "<p style = 'font-size:18px;font-family:Arial;'><b>5.1 See the mind_map for Feature Store</b></p>\n",
    "<p style = 'font-size:16px;font-family:Arial;'>Before ingesting the features, first check the mind map of feature store.\n",
    "Since no features are ingested and no datasets are built, it should be empty.</p>"
   ]
  },
  {
   "cell_type": "code",
   "execution_count": null,
   "id": "e27a079c-c78a-4411-991a-88801373347a",
   "metadata": {},
   "outputs": [],
   "source": [
    "fs.mind_map()"
   ]
  },
  {
   "cell_type": "markdown",
   "id": "967becba-9e3c-478e-a38d-2bcf59d5e32f",
   "metadata": {},
   "source": [
    "<p style = 'font-size:18px;font-family:Arial;'><b>5.2 Ingest the features</b></p>"
   ]
  },
  {
   "cell_type": "code",
   "execution_count": null,
   "id": "eb5023c8-4e05-4970-85dd-afe43436cdba",
   "metadata": {},
   "outputs": [],
   "source": [
    "# Ingest the features for data source `df_eng_feat_cust`.\n",
    "fp = fs.get_feature_process(object=df_eng_feat_cust,\n",
    "                            entity='CustomerID',\n",
    "                            features=[\n",
    "                                'total_Transaction_Amount', \n",
    "                                'avg_Transaction_Amount', \n",
    "                                'count_Transaction_Amount', \n",
    "                                'nb_days_since_last_transactions'],\n",
    "                            description='Feature Process for Customers'\n",
    "                           )\n",
    "# Run it to ingest the features.\n",
    "fp.run()"
   ]
  },
  {
   "cell_type": "markdown",
   "id": "ee59cf65-6c5e-4c6e-9a9d-d967ed32b200",
   "metadata": {},
   "source": [
    "<p style = 'font-size:18px;font-family:Arial;'><b>5.3 See the mind_map for Feature Store</b></p>\n",
    "<p style = 'font-size:16px;font-family:Arial;'>We ingested three features—<code>total_Transaction_Amount</code>, <code>avg_Transaction_Amount</code>, <code>count_Transaction_Amount</code> and <code>nb_days_since_last_transactions</code>—from a single feature process. This demonstrates how multiple related features can be managed and tracked together within the feature store, maintaining their lineage to the originating process.</p>"
   ]
  },
  {
   "cell_type": "code",
   "execution_count": null,
   "id": "c9bd56f3-f538-499c-85b3-08bc6d2abee8",
   "metadata": {},
   "outputs": [],
   "source": [
    "# Features are ingested. Before we move to other APIs, look at mind map.\n",
    "fs.mind_map()"
   ]
  },
  {
   "cell_type": "markdown",
   "id": "b7c414a7-fbf9-46b0-9502-61355388d41c",
   "metadata": {},
   "source": [
    "<p style = 'font-size:18px;font-family:Arial;'><b>5.4 Explore FeatureStore for CustomerID entity</b></p>\n",
    "<p style = 'font-size:16px;font-family:Arial;'><b>list feature_processes</b></p>"
   ]
  },
  {
   "cell_type": "code",
   "execution_count": null,
   "id": "b0d92605-8120-405d-bf6c-4cf0a36a4f4e",
   "metadata": {},
   "outputs": [],
   "source": [
    "# List the feature processes.\n",
    "fs.list_feature_processes()"
   ]
  },
  {
   "cell_type": "markdown",
   "id": "3df20b58-9832-4be3-b92f-b03530b833a1",
   "metadata": {},
   "source": [
    "<p style = 'font-size:16px;font-family:Arial;'><b>list feature_catalogs</b></p>"
   ]
  },
  {
   "cell_type": "code",
   "execution_count": null,
   "id": "ca2b75af-97ab-4367-a5b5-a5d42c049393",
   "metadata": {},
   "outputs": [],
   "source": [
    "# Look at feature catalogs.\n",
    "fs.list_feature_catalogs()"
   ]
  },
  {
   "cell_type": "markdown",
   "id": "b622ddda-dbd4-42ad-94f8-b9b92c01e45f",
   "metadata": {},
   "source": [
    "<p style = 'font-size:16px;font-family:Arial;'><b>list feature versions</b></p>"
   ]
  },
  {
   "cell_type": "markdown",
   "id": "c1ddc755-fc11-4092-a7c6-78cb3816755e",
   "metadata": {},
   "source": [
    "<p style = 'font-size:16px;font-family:Arial;'>Get the feature catalog</p>"
   ]
  },
  {
   "cell_type": "code",
   "execution_count": null,
   "id": "8d58ea64-5330-4336-bf03-38210dcae0cc",
   "metadata": {},
   "outputs": [],
   "source": [
    "fc = fs.get_feature_catalog()"
   ]
  },
  {
   "cell_type": "markdown",
   "id": "02c01733-e68b-4144-ae17-238f8d093d06",
   "metadata": {},
   "source": [
    "<p style = 'font-size:16px;font-family:Arial;'>list feature versions</p>"
   ]
  },
  {
   "cell_type": "code",
   "execution_count": null,
   "id": "e02a22ee-f608-433d-92fd-69811e6a3b25",
   "metadata": {},
   "outputs": [],
   "source": [
    "# Get the feature catalog and examine the versions.\n",
    "fc.list_feature_versions()"
   ]
  },
  {
   "cell_type": "markdown",
   "id": "7d45a455-bd32-4006-ae56-2349e140e4ef",
   "metadata": {},
   "source": [
    "<hr style=\"height:2px;border:none;\">\n",
    "<p style = 'font-size:20px;font-family:Arial;'><b>6. Ingest the features from <code>df_eng_feat_cat</code> datasource</b>\n",
    "<p style = 'font-size:18px;font-family:Arial;'><b>6.1 Ingest the features</b></p>"
   ]
  },
  {
   "cell_type": "code",
   "execution_count": null,
   "id": "50d11eca-3893-4c95-8662-38fb24e5dbfc",
   "metadata": {},
   "outputs": [],
   "source": [
    "# Let's ingest features from another data source `df_eng_feat_cat`.\n",
    "fp2 = fs.get_feature_process(object=df_eng_feat_cat,\n",
    "                            entity='Category',\n",
    "                            features=['sum_Transaction_Amount',\n",
    "                                      'mean_Transaction_Amount',\n",
    "                                      'std_Transaction_Amount',\n",
    "                                      'min_Transaction_Amount',\n",
    "                                      'max_Transaction_Amount',\n",
    "                                      'median_Transaction_Amount',\n",
    "                                      'quartile_1_Transaction_Amount',\n",
    "                                      'quartile_3_Transaction_Amount',\n",
    "                                      'var_feature'],\n",
    "                            description='Feature Process for Category'\n",
    "                           )\n",
    "fp2.run()"
   ]
  },
  {
   "cell_type": "markdown",
   "id": "ee4f5c5b-c886-4674-ab5f-27232c9f2ba1",
   "metadata": {},
   "source": [
    "<p style = 'font-size:18px;font-family:Arial;'><b>6.2 See the mind_map for Feature Store</b></p>"
   ]
  },
  {
   "cell_type": "code",
   "execution_count": null,
   "id": "5e157500-e920-42da-8b05-fd811cc4c040",
   "metadata": {},
   "outputs": [],
   "source": [
    "# Let's look at mind map now.\n",
    "fs.mind_map()"
   ]
  },
  {
   "cell_type": "markdown",
   "id": "4be9be0c-1543-4992-99e9-744a7e617863",
   "metadata": {},
   "source": [
    "<p style = 'font-size:18px;font-family:Arial;'><b>6.3 Explore the FeatureStore for the operations that have been done so far</b></p>\n",
    "<p style = 'font-size:16px;font-family:Arial;'><b>List feature processes</b></p>"
   ]
  },
  {
   "cell_type": "code",
   "execution_count": null,
   "id": "c407f184-df41-4d8d-847a-23132728fb88",
   "metadata": {},
   "outputs": [],
   "source": [
    "# # List the feature processes.\n",
    "fs.list_feature_processes()"
   ]
  },
  {
   "cell_type": "markdown",
   "id": "cf1013a9-ef02-401e-8eae-d53efab158d8",
   "metadata": {},
   "source": [
    "<p style = 'font-size:16px;font-family:Arial;'><b>List feature catalogs</b></p>"
   ]
  },
  {
   "cell_type": "code",
   "execution_count": null,
   "id": "63a5b7e2-42a1-4674-8b8e-ce281cbb911a",
   "metadata": {},
   "outputs": [],
   "source": [
    "# Look at feature catalogs.\n",
    "display.max_rows=20\n",
    "fs.list_feature_catalogs()"
   ]
  },
  {
   "cell_type": "markdown",
   "id": "04d0e077-4da9-4c24-91a9-8bde1fa57950",
   "metadata": {},
   "source": [
    "<p style = 'font-size:16px;font-family:Arial;'><b>List feature versions</b></p>"
   ]
  },
  {
   "cell_type": "code",
   "execution_count": null,
   "id": "446c0f4b-3cc3-4900-ba45-27b87d2e76e4",
   "metadata": {},
   "outputs": [],
   "source": [
    "# Get the feature catalog and examine the versions.\n",
    "fc.list_feature_versions()"
   ]
  },
  {
   "cell_type": "markdown",
   "id": "1bc59b2e-fac9-42b4-92d4-963e3846084a",
   "metadata": {},
   "source": [
    "<p style = 'font-size:16px;font-family:Arial;'><b>List dataset catalogs</b></p>"
   ]
  },
  {
   "cell_type": "code",
   "execution_count": null,
   "id": "d75b1a60-01e5-42b2-861b-a2dfb5ec06f8",
   "metadata": {},
   "outputs": [],
   "source": [
    "# Let's look at dataset catalogs. Since no dataset is created, it should be empty.\n",
    "fs.list_dataset_catalogs()"
   ]
  },
  {
   "cell_type": "markdown",
   "id": "10f2a053-58ab-4b2c-a550-9ed995637049",
   "metadata": {},
   "source": [
    "<hr style=\"height:2px;border:none;\">\n",
    "<p style = 'font-size:20px;font-family:Arial;'><b>7. Build Dataset</b>\n",
    "<p style = 'font-size:18px;font-family:Arial;'><b>7.1 Get the dataset catalog</b></p>"
   ]
  },
  {
   "cell_type": "code",
   "execution_count": null,
   "id": "9ca75bcf-a5d5-4dbb-896b-aaf781d99cc9",
   "metadata": {},
   "outputs": [],
   "source": [
    "# Let's build dataset in Dataset catalog. First get the pointer for Dataset catalog.\n",
    "dc = fs.get_dataset_catalog()"
   ]
  },
  {
   "cell_type": "markdown",
   "id": "b957eca4-6852-4b80-bc8a-df8990111605",
   "metadata": {},
   "source": [
    "<p style = 'font-size:18px;font-family:Arial;'><b>7.2 Build the dataset for <code>df_eng_feat_cust</code></b></p>"
   ]
  },
  {
   "cell_type": "code",
   "execution_count": null,
   "id": "e4943e2b-76af-4292-97b2-c6537e787b5b",
   "metadata": {},
   "outputs": [],
   "source": [
    "df = dc.build_dataset(entity='CustomerID',\n",
    "                      selected_features={'avg_Transaction_Amount': fp.process_id,\n",
    "                                         'total_Transaction_Amount': fp.process_id},\n",
    "                      view_name='CustID_Transactions_1'\n",
    "                     )\n",
    "df"
   ]
  },
  {
   "cell_type": "markdown",
   "id": "0ef05bcf-a30d-48bd-8a36-a05dfd6bd24f",
   "metadata": {},
   "source": [
    "<p style = 'font-size:16px;font-family:Arial;'>Verify the data</p>"
   ]
  },
  {
   "cell_type": "code",
   "execution_count": null,
   "id": "505bd992-d145-4670-83bc-ccd87877b35c",
   "metadata": {},
   "outputs": [],
   "source": [
    "df_eng_feat_cust[df.CustomerID.isin([467220, 684935, 642109])]"
   ]
  },
  {
   "cell_type": "markdown",
   "id": "276e0192-35de-4185-92ff-65bcc2fefbc2",
   "metadata": {},
   "source": [
    "<p style = 'font-size:18px;font-family:Arial;'><b>7.3 See the mind_map for Feature Store</b></p>"
   ]
  },
  {
   "cell_type": "code",
   "execution_count": null,
   "id": "c8a70b44-5cdc-4d97-878b-90419735eb71",
   "metadata": {},
   "outputs": [],
   "source": [
    "# Let's look at mind map.\n",
    "fs.mind_map()"
   ]
  },
  {
   "cell_type": "markdown",
   "id": "9f9e1151-78f2-4ae5-b04c-4c80a8fcfc8b",
   "metadata": {},
   "source": [
    "<p style = 'font-size:18px;font-family:Arial;'><b>7.4 Build the time series dataset for <code>df_eng_feat_cust</code></b></p>"
   ]
  },
  {
   "cell_type": "code",
   "execution_count": null,
   "id": "92bfe097-ba5e-48e6-be6a-5ebc2685e0aa",
   "metadata": {},
   "outputs": [],
   "source": [
    "# Let's build a time series. \n",
    "df = dc.build_time_series(entity='Category',\n",
    "                          selected_features={'std_Transaction_Amount': fp2.process_id,\n",
    "                                             'max_Transaction_Amount': fp2.process_id,\n",
    "                                             'median_Transaction_Amount': fp2.process_id,\n",
    "                                             'quartile_3_Transaction_Amount': fp2.process_id},\n",
    "                          view_name='Cat_Transactions_1'\n",
    "                         )\n",
    "df"
   ]
  },
  {
   "cell_type": "markdown",
   "id": "da866cb5-afba-4fd7-a6a7-e30f2b665e0e",
   "metadata": {},
   "source": [
    "<p style = 'font-size:18px;font-family:Arial;'><b>7.4 See the mind_map for Feature Store</b></p>"
   ]
  },
  {
   "cell_type": "code",
   "execution_count": null,
   "id": "0960419a-2f0a-430f-bea5-2a403e169ff0",
   "metadata": {},
   "outputs": [],
   "source": [
    "# Let's look at mind map.\n",
    "fs.mind_map()"
   ]
  },
  {
   "cell_type": "markdown",
   "id": "9cd6da70-5e6b-4b3d-b198-2ebb9be801af",
   "metadata": {},
   "source": [
    "<p style = 'font-size:18px;font-family:Arial;'><b>7.5 List dataset catalogs </b></p>"
   ]
  },
  {
   "cell_type": "code",
   "execution_count": null,
   "id": "b3c43b6c-a48e-4302-8b89-f9aeeb9651af",
   "metadata": {},
   "outputs": [],
   "source": [
    "# Let's look at Dataset catalog. Two datasets created. Hence both should be available.\n",
    "fs.list_dataset_catalogs()"
   ]
  },
  {
   "cell_type": "markdown",
   "id": "5d56da81-e7d5-4cbc-a3bb-123fbbef75fc",
   "metadata": {},
   "source": [
    "<hr style=\"height:2px;border:none;\">\n",
    "<p style = 'font-size:20px;font-family:Arial;'><b>8. Feature Ingestion with filters</b>\n",
    "<p style = 'font-size:18px;font-family:Arial;'><b>8.1 Load the sales data</b></p>"
   ]
  },
  {
   "cell_type": "code",
   "execution_count": null,
   "id": "26a5b239-f2d7-4ef6-9832-3bb68387e9f0",
   "metadata": {},
   "outputs": [],
   "source": [
    "# Ingest the features with filters.\n",
    "load_example_data('dataframe', 'sales')\n",
    "df = DataFrame(\"sales\")\n",
    "df"
   ]
  },
  {
   "cell_type": "markdown",
   "id": "6fd6cd48-cc68-451c-8cb7-f24d98c1876b",
   "metadata": {},
   "source": [
    "<p style = 'font-size:18px;font-family:Arial;'><b>8.2 Ingest the features</b></p>"
   ]
  },
  {
   "cell_type": "code",
   "execution_count": null,
   "id": "a77a0e21-6dfa-4634-9be7-187c8a89f5c2",
   "metadata": {},
   "outputs": [],
   "source": [
    "# Ingest the features only when entities has 'Inc' in it.\n",
    "fp3 = fs.get_feature_process(object=df, \n",
    "                             entity='accounts', \n",
    "                             features=['Jan', 'Feb'])\n",
    "fp3.run(filters=df.accounts.str.contains('Inc')==1)"
   ]
  },
  {
   "cell_type": "markdown",
   "id": "38034c6c-7aeb-42d0-b628-8966eab96476",
   "metadata": {},
   "source": [
    "<p style = 'font-size:18px;font-family:Arial;'><b>8.3 See the mind_map for Feature Store</b></p>"
   ]
  },
  {
   "cell_type": "code",
   "execution_count": null,
   "id": "4edd945e-e896-4d10-ab77-50ccbb72f58c",
   "metadata": {},
   "outputs": [],
   "source": [
    "# Let's look at mind map to see features are ingested or not. \n",
    "fs.mind_map()"
   ]
  },
  {
   "cell_type": "markdown",
   "id": "7ea371ac-af1a-41b2-9858-6d6fa591d21c",
   "metadata": {},
   "source": [
    "<p style = 'font-size:18px;font-family:Arial;'><b>8.4 Look at the feature table</b></p>"
   ]
  },
  {
   "cell_type": "code",
   "execution_count": null,
   "id": "1a542a78-6ead-4884-943b-c97b6f3c728f",
   "metadata": {},
   "outputs": [],
   "source": [
    "# Let's verify whether features ingested for that features or not. Look at catalog table.\n",
    "fc.list_feature_versions()"
   ]
  },
  {
   "cell_type": "code",
   "execution_count": null,
   "id": "53dd9a3f-15b1-472d-8c4e-a8c09ca7ad82",
   "metadata": {},
   "outputs": [],
   "source": [
    "DataFrame(in_schema(fs.repo, \"FS_T_4fb46368_0c60_21bf_20a1_b0a3948fedde\"))"
   ]
  },
  {
   "cell_type": "markdown",
   "id": "1564e094-5585-4eab-bc2b-bbda6c1be304",
   "metadata": {},
   "source": [
    "<p style = 'font-size:18px;font-family:Arial;'><b>8.5 Ingest the features for an incremental load</b></p>"
   ]
  },
  {
   "cell_type": "markdown",
   "id": "ec7f0538-1a31-4292-9e24-9d5062a22d3f",
   "metadata": {},
   "source": [
    "<p style = 'font-size:16px;font-family:Arial;'><b>let's first update the values of features. Otherwise, update is not visible</b></p>"
   ]
  },
  {
   "cell_type": "code",
   "execution_count": null,
   "id": "3236e3e3-caab-486f-a098-503289d2d9a2",
   "metadata": {},
   "outputs": [],
   "source": [
    "execute_sql('update sales set Feb=Feb*2')"
   ]
  },
  {
   "cell_type": "markdown",
   "id": "ffd46780-2ee9-4e57-8809-478121add466",
   "metadata": {},
   "source": [
    "<p style = 'font-size:16px;font-family:Arial;'><b>Store the values for increamental load</b></p>"
   ]
  },
  {
   "cell_type": "code",
   "execution_count": null,
   "id": "e07760a9-f086-4b60-86ce-b9ae4c1477bf",
   "metadata": {},
   "outputs": [],
   "source": [
    "fp4 = fs.get_feature_process(object=df, \n",
    "                             entity='accounts', \n",
    "                             features=['Jan', 'Feb']\n",
    "                            )\n",
    "fp4.run()"
   ]
  },
  {
   "cell_type": "markdown",
   "id": "ca664d16-4979-429e-9a07-dce1e17f94aa",
   "metadata": {},
   "source": [
    "<p style = 'font-size:18px;font-family:Arial;'><b>8.6 Build the dataset</b></p>"
   ]
  },
  {
   "cell_type": "code",
   "execution_count": null,
   "id": "c3592be8-8d42-4512-b494-71b4c7bf744a",
   "metadata": {},
   "outputs": [],
   "source": [
    "# Let's first look at the data. For that, let's build a dataset.\n",
    "df_sales_jan_feb = dc.build_dataset(entity='accounts',\n",
    "                                    selected_features={\n",
    "                                        'Jan': fp4.process_id,\n",
    "                                        'Feb': fp4.process_id\n",
    "                                    },\n",
    "                                   view_name='sales_jan_feb')"
   ]
  },
  {
   "cell_type": "code",
   "execution_count": null,
   "id": "dd4a2d69-b872-424c-8e1d-e6a2e3869ecc",
   "metadata": {},
   "outputs": [],
   "source": [
    "df_sales_jan_feb.sort('accounts')"
   ]
  },
  {
   "cell_type": "markdown",
   "id": "1b1106b0-68cb-487b-9f62-70a996c3d801",
   "metadata": {},
   "source": [
    "<hr style=\"height:2px;border:none;\">\n",
    "<p style = 'font-size:20px;font-family:Arial;'><b>9. Ingest the features at specific time</b>\n",
    "<p style = 'font-size:18px;font-family:Arial;'><b>9.1 Create new data domain for specific time ingestion</b></p>"
   ]
  },
  {
   "cell_type": "code",
   "execution_count": null,
   "id": "911f2793-ba55-4ea1-9a5e-2e676b62b47d",
   "metadata": {},
   "outputs": [],
   "source": [
    "# For that, let's create another data domain.\n",
    "fs_sales_analytics = FeatureStore(repo='enterprise_feature_repo', data_domain='Sales_Analytics')"
   ]
  },
  {
   "cell_type": "markdown",
   "id": "b94fd5ba-c3c7-43c9-b8a9-4b1abba4de25",
   "metadata": {},
   "source": [
    "<p style = 'font-size:18px;font-family:Arial;'><b>9.2 See the FeatureStore for 'Sales_Analytics' data domain</b></p>"
   ]
  },
  {
   "cell_type": "code",
   "execution_count": null,
   "id": "9b53b5af-3d73-450e-aa48-569634d2dd15",
   "metadata": {},
   "outputs": [],
   "source": [
    "# Let's first see what this data domain has. It should be empty.\n",
    "fs_sales_analytics.mind_map()"
   ]
  },
  {
   "cell_type": "markdown",
   "id": "f8e08478-0f95-4ee2-8797-1e22ec8ec635",
   "metadata": {},
   "source": [
    "<p style = 'font-size:18px;font-family:Arial;'><b>9.3 Drop and load the sales data</b></p>"
   ]
  },
  {
   "cell_type": "code",
   "execution_count": null,
   "id": "0b73f8fc-b038-4c38-9e39-6962068736c0",
   "metadata": {},
   "outputs": [],
   "source": [
    "# Let's drop the sales table and load it again.\n",
    "db_drop_table('sales')\n",
    "load_example_data('dataframe', 'sales')\n",
    "df = DataFrame(\"sales\")"
   ]
  },
  {
   "cell_type": "markdown",
   "id": "08b204ca-dde1-4638-8c62-61dff65668d3",
   "metadata": {},
   "source": [
    "<p style = 'font-size:18px;font-family:Arial;'><b>9.4 Ingest the features</b></p>"
   ]
  },
  {
   "cell_type": "code",
   "execution_count": null,
   "id": "2f6438ce-73cf-479b-9065-1adf6dcb9223",
   "metadata": {},
   "outputs": [],
   "source": [
    "# Let's first ingest the features.\n",
    "fp5 = fs_sales_analytics.get_feature_process(object=df, \n",
    "                                             entity='accounts', \n",
    "                                             features=['Jan', 'Feb', 'Mar', 'Apr']\n",
    "                                             )\n",
    "fp5.run()"
   ]
  },
  {
   "cell_type": "code",
   "execution_count": null,
   "id": "d131bc68-9cce-4a91-9ff7-be185fc69eee",
   "metadata": {},
   "outputs": [],
   "source": [
    "fs_sales_analytics.mind_map()"
   ]
  },
  {
   "cell_type": "markdown",
   "id": "47e7e808-1213-4d85-944c-3ed08f7f80e0",
   "metadata": {},
   "source": [
    "<p style = 'font-size:18px;font-family:Arial;'><b>9.5 Look at Jan's values first</b></p>"
   ]
  },
  {
   "cell_type": "code",
   "execution_count": null,
   "id": "52adc197-3c57-4bfe-8f1b-8feac46efb82",
   "metadata": {},
   "outputs": [],
   "source": [
    "fc_sales_analytics = fs_sales_analytics.get_feature_catalog()\n",
    "fc_sales_analytics.list_feature_versions()"
   ]
  },
  {
   "cell_type": "code",
   "execution_count": null,
   "id": "f797d65b-b68d-4a24-b600-9324cff93c7a",
   "metadata": {},
   "outputs": [],
   "source": [
    "# Let's look at Jan's values first.\n",
    "sales_jan = DataFrame(in_schema(fs.repo, \"FS_T_feb531d5_375e_5831_05d7_3ac2ac2a7965\")).as_of(valid_time='current')\n",
    "sales_jan[sales_jan.feature_id == 16]"
   ]
  },
  {
   "cell_type": "markdown",
   "id": "45bf1115-68dd-458a-871f-936e9b1354a4",
   "metadata": {},
   "source": [
    "<p style = 'font-size:18px;font-family:Arial;'><b>9.5 Update the feature values to simulate the data change</b></p>"
   ]
  },
  {
   "cell_type": "code",
   "execution_count": null,
   "id": "578b2685-bf73-43ab-a80c-ae9fd092c491",
   "metadata": {},
   "outputs": [],
   "source": [
    "execute_sql('update sales set Jan=Jan*2, Feb=Feb*2, Mar=Mar*2, Apr=Apr*2')"
   ]
  },
  {
   "cell_type": "markdown",
   "id": "9e809779-80c6-44f6-a7ff-bf2a7687c59c",
   "metadata": {},
   "source": [
    "<p style = 'font-size:18px;font-family:Arial;'><b>9.6 Ingest the same features again</b></p>"
   ]
  },
  {
   "cell_type": "code",
   "execution_count": null,
   "id": "cffa20c5-3f3f-408a-836d-70a6a60877d5",
   "metadata": {},
   "outputs": [],
   "source": [
    "fp6 = fs_sales_analytics.get_feature_process(object=df, \n",
    "                                             entity='accounts', \n",
    "                                             features=['Jan', 'Feb', 'Mar', 'Apr']\n",
    "                                             )\n",
    "fp6.run()"
   ]
  },
  {
   "cell_type": "code",
   "execution_count": null,
   "id": "afc08ba4-944b-445d-afc6-02aebd8f82c5",
   "metadata": {},
   "outputs": [],
   "source": [
    "# Let's look at mind map. No new feature process initiated. Hence it should be same as previous state.\n",
    "fs_sales_analytics.mind_map()"
   ]
  },
  {
   "cell_type": "markdown",
   "id": "129f1b55-12d8-4a9e-a2d1-af3284016016",
   "metadata": {},
   "source": [
    "<p style = 'font-size:16px;font-family:Arial;'><b>look at features again. Observe that only the new values appeared</b></p>\n",
    "<p style = 'font-size:16px;font-family:Arial;'><b>Note:</b> Old values are not visible since function as_of selected only current records.</p>"
   ]
  },
  {
   "cell_type": "code",
   "execution_count": null,
   "id": "a7fb5334-139c-4f90-a6e9-c44d56417978",
   "metadata": {},
   "outputs": [],
   "source": [
    "sales_jan = DataFrame(in_schema(fs.repo, \"FS_T_feb531d5_375e_5831_05d7_3ac2ac2a7965\")).as_of(valid_time='current')\n",
    "sales_jan[sales_jan.feature_id == 16]"
   ]
  },
  {
   "cell_type": "markdown",
   "id": "e9a6d4c4-fb9b-4ad6-b49a-8bd3edea613a",
   "metadata": {},
   "source": [
    "<p style = 'font-size:16px;font-family:Arial;'><b>Select all values. Then notice the difference</b></p>"
   ]
  },
  {
   "cell_type": "code",
   "execution_count": null,
   "id": "0f0b503b-c254-4bd6-86dd-126f6caf96cc",
   "metadata": {},
   "outputs": [],
   "source": [
    "sales_jan = DataFrame(in_schema(fs.repo, \"FS_T_feb531d5_375e_5831_05d7_3ac2ac2a7965\")).as_of(valid_time=None)\n",
    "sales_jan[sales_jan.feature_id == 16].sort(['accounts', 'valid_start'])"
   ]
  },
  {
   "cell_type": "markdown",
   "id": "d3bcfd3d-bf5f-43f3-95d5-783c262ce676",
   "metadata": {},
   "source": [
    "<p style = 'font-size:18px;font-family:Arial;'><b>9.7 Update the data again to ingest for a specific time</b></p>"
   ]
  },
  {
   "cell_type": "code",
   "execution_count": null,
   "id": "4800e03a-878b-47f7-be5c-ba0d979f69be",
   "metadata": {},
   "outputs": [],
   "source": [
    "# Double the data again. This time ingest for a specific time.\n",
    "# Update the feature values to simulate the data change. \n",
    "execute_sql('update sales set Jan=Jan*2, Feb=Feb*2, Mar=Mar*2, Apr=Apr*2')"
   ]
  },
  {
   "cell_type": "markdown",
   "id": "6d560126-8624-4445-9366-c827917c9041",
   "metadata": {},
   "source": [
    "<p style = 'font-size:18px;font-family:Arial;'><b>9.8 Ingest feature value for specific time</b></p>"
   ]
  },
  {
   "cell_type": "code",
   "execution_count": null,
   "id": "949b36d9-671e-4ea5-8d50-b3decdb9763b",
   "metadata": {},
   "outputs": [],
   "source": [
    "# Let's first ingest the features.\n",
    "fp7 = fs_sales_analytics.get_feature_process(object=df, \n",
    "                                             entity='accounts', \n",
    "                                             features=['Jan', 'Feb', 'Mar', 'Apr'],\n",
    "                                             )\n",
    "fp7.run(as_of='2025-09-08 04:51:59.000000+00:00')"
   ]
  },
  {
   "cell_type": "code",
   "execution_count": null,
   "id": "8f73c387-02da-4996-a83e-38bef326791e",
   "metadata": {},
   "outputs": [],
   "source": [
    "# Let's verify the data again.\n",
    "sales_jan = DataFrame(in_schema(fs.repo, \"FS_T_feb531d5_375e_5831_05d7_3ac2ac2a7965\")).as_of(valid_time=None)\n",
    "sales_jan[sales_jan.feature_id == 16].sort(['accounts', 'valid_start'])"
   ]
  },
  {
   "cell_type": "markdown",
   "id": "0f69f3c5-5282-4fec-a698-fc023d4c4689",
   "metadata": {},
   "source": [
    "<p style = 'font-size:18px;font-family:Arial;'><b>9.9 See the mind_map for fs_sales_analytics FeatureStore</b></p>"
   ]
  },
  {
   "cell_type": "code",
   "execution_count": null,
   "id": "e7a0384b-a6ff-4b6c-8fbc-e41769ea92f8",
   "metadata": {},
   "outputs": [],
   "source": [
    "# Remove the whole data domain.\n",
    "# Before removing it, Let's first look at feature store for this data domain.\n",
    "fs_sales_analytics.mind_map()"
   ]
  },
  {
   "cell_type": "markdown",
   "id": "829cc666-dacd-4a78-96bc-72eda80328e5",
   "metadata": {},
   "source": [
    "<hr style=\"height:2px;border:none;\">\n",
    "<p style = 'font-size:20px;font-family:Arial;'><b>10. Remove 'Sales_Analytics' DataDomain</b>\n",
    "<p style = 'font-size:18px;font-family:Arial;'><b>10.1 Remove DataDomain</b></p>"
   ]
  },
  {
   "cell_type": "code",
   "execution_count": null,
   "id": "899fe825-7531-4bf4-9646-551ec2e5485c",
   "metadata": {},
   "outputs": [],
   "source": [
    "# Remove it and then again look at mind map.\n",
    "fs_sales_analytics.remove_data_domain()"
   ]
  },
  {
   "cell_type": "markdown",
   "id": "e81189cc-69aa-431f-be27-830f9b3ef84f",
   "metadata": {},
   "source": [
    "<p style = 'font-size:18px;font-family:Arial;'><b>10.2 See the FeatureStore for Sales_analytics data domain</b></p>"
   ]
  },
  {
   "cell_type": "code",
   "execution_count": null,
   "id": "4cff14fa-6f3d-4644-995a-cb0fa153ee23",
   "metadata": {},
   "outputs": [],
   "source": [
    "# Verify the objects.\n",
    "fs_sales_analytics.mind_map()"
   ]
  },
  {
   "cell_type": "markdown",
   "id": "531357cd-2452-4751-bf72-86a31f992330",
   "metadata": {},
   "source": [
    "<p style = 'font-size:18px;font-family:Arial;'><b>10.3 See the FeatureStore Analytics data domain</b></p>"
   ]
  },
  {
   "cell_type": "code",
   "execution_count": null,
   "id": "e748ca1b-8c40-4026-ac2d-0f8eb82774bc",
   "metadata": {},
   "outputs": [],
   "source": [
    "# Also verify the objects of fs. Since only data domain sales analytics is removed, fs objects should remain as it is.\n",
    "fs.mind_map()"
   ]
  },
  {
   "cell_type": "markdown",
   "id": "13d6ca75-c7ae-42f8-8f6c-b7c5052c9111",
   "metadata": {},
   "source": [
    "<hr style=\"height:2px;border:none;\">\n",
    "<p style = 'font-size:20px;font-family:Arial;'><b>11. Dataset Management</b>\n",
    "<p style = 'font-size:18px;font-family:Arial;'><b>11.1 List datasets</b></p>"
   ]
  },
  {
   "cell_type": "code",
   "execution_count": null,
   "id": "6b3e57dd-f61d-4489-a5a4-76a70c012b40",
   "metadata": {},
   "outputs": [],
   "source": [
    "dc.list_datasets()"
   ]
  },
  {
   "cell_type": "markdown",
   "id": "9715dfc4-8ecd-499a-8a28-e62190e087ee",
   "metadata": {},
   "source": [
    "<p style = 'font-size:18px;font-family:Arial;'><b>11.2 List features</b></p>"
   ]
  },
  {
   "cell_type": "code",
   "execution_count": null,
   "id": "105dd33c-1dc5-4414-8824-2ce9c7e1e7bd",
   "metadata": {},
   "outputs": [],
   "source": [
    "dc.list_features()"
   ]
  },
  {
   "cell_type": "markdown",
   "id": "42553b45-1082-4a3e-90e9-d913c9ee34f6",
   "metadata": {},
   "source": [
    "<p style = 'font-size:18px;font-family:Arial;'><b>11.3 List Entities</b></p>"
   ]
  },
  {
   "cell_type": "code",
   "execution_count": null,
   "id": "de225970-ddd4-4f5e-aebc-d7e71afb9b54",
   "metadata": {},
   "outputs": [],
   "source": [
    "dc.list_entities()"
   ]
  },
  {
   "cell_type": "markdown",
   "id": "fd99aa3e-8a02-4de7-865f-8f0df52917a3",
   "metadata": {},
   "source": [
    "<p style = 'font-size:18px;font-family:Arial;'><b>11.4 Archive datasets</b></p>"
   ]
  },
  {
   "cell_type": "markdown",
   "id": "56391fa3-8cf9-4f71-8dac-417bd6ad7760",
   "metadata": {},
   "source": [
    "<p style = 'font-size:16px;font-family:Arial;'><b>Get the dataset</b></p>\n"
   ]
  },
  {
   "cell_type": "code",
   "execution_count": null,
   "id": "26e72096-1eea-49ed-b7d1-4083754f0169",
   "metadata": {},
   "outputs": [],
   "source": [
    "#Replace the dataset_id from the list entities step - name:sales_jan_feb\n",
    "dc.archive_datasets('3fab75f7-30f2-4faa-b32a-17e703c6258a')"
   ]
  },
  {
   "cell_type": "code",
   "execution_count": null,
   "id": "4ff73bca-a196-4a85-85a3-ecfea308c103",
   "metadata": {},
   "outputs": [],
   "source": [
    "dc.list_datasets()"
   ]
  },
  {
   "cell_type": "markdown",
   "id": "44703ffe-cd83-4a46-8148-d6ef4e30130f",
   "metadata": {},
   "source": [
    "<p style = 'font-size:18px;font-family:Arial;'><b>11.5 Delete datasets</b></p>"
   ]
  },
  {
   "cell_type": "code",
   "execution_count": null,
   "id": "d24696e9-2b09-49a5-9618-02fcf249e233",
   "metadata": {},
   "outputs": [],
   "source": [
    "#Replace the dataset_id from the list entities step - name:sales_jan_feb\n",
    "dc.delete_datasets('3fab75f7-30f2-4faa-b32a-17e703c6258a')"
   ]
  },
  {
   "cell_type": "code",
   "execution_count": null,
   "id": "95f81db9-a40f-4e45-8fce-fbd35a6ccb0b",
   "metadata": {},
   "outputs": [],
   "source": [
    "# Verify the datasets after deleting dataset\n",
    "dc.list_datasets()"
   ]
  },
  {
   "cell_type": "markdown",
   "id": "ab68b221-4abb-408e-88b0-4d29f5df5c33",
   "metadata": {},
   "source": [
    "<p style = 'font-size:18px;font-family:Arial;'><b>11.6 List features</b></p>"
   ]
  },
  {
   "cell_type": "code",
   "execution_count": null,
   "id": "207fd356-7ea0-478c-a13b-051fdbe2dab9",
   "metadata": {},
   "outputs": [],
   "source": [
    "# Verify the features after deleting dataset\n",
    "dc.list_features()"
   ]
  },
  {
   "cell_type": "markdown",
   "id": "8b833614-6068-4c68-b5b2-7a3d5ad584ab",
   "metadata": {},
   "source": [
    "<p style = 'font-size:18px;font-family:Arial;'><b>11.7 List entities</b></p>"
   ]
  },
  {
   "cell_type": "code",
   "execution_count": null,
   "id": "83e3f254-87ab-4301-978a-c70cfbf05513",
   "metadata": {},
   "outputs": [],
   "source": [
    "# Verify the Entities after deleting dataset\n",
    "dc.list_entities()"
   ]
  },
  {
   "cell_type": "markdown",
   "id": "e4e94482-236c-4303-bb32-6712a8427df5",
   "metadata": {},
   "source": [
    "<p style = 'font-size:18px;font-family:Arial;'><b>11.8 See mind_map for FeatureStore after deleting dataset</b></p>"
   ]
  },
  {
   "cell_type": "code",
   "execution_count": null,
   "id": "4bab76cc-ff42-49d4-af71-4d94f9ba566f",
   "metadata": {},
   "outputs": [],
   "source": [
    "# Let's look at mind map of Feature store now. Deleted dataset should not appear.\n",
    "fs.mind_map()"
   ]
  },
  {
   "cell_type": "markdown",
   "id": "0d093fd7-4f1f-449e-b65f-e4a0887f3451",
   "metadata": {},
   "source": [
    "<hr style=\"height:2px;border:none;\">\n",
    "<p style = 'font-size:20px;font-family:Arial;'><b>12. Dataset</b>\n",
    "<p style = 'font-size:18px;font-family:Arial;'><b>12.1 Explore Dataset methods</b></p>\n",
    "<p style = 'font-size:16px;font-family:Arial;'>Get the dataset </p>"
   ]
  },
  {
   "cell_type": "code",
   "execution_count": null,
   "id": "46b058e7-9369-42f5-8798-05bd08405235",
   "metadata": {},
   "outputs": [],
   "source": [
    "#Replace the dataset_id from the list datasets step - name:CustID_Transactions_1\n",
    "ds = dc.get_dataset('a810fc39-c2e1-4d87-95d5-ae623751bcc4')"
   ]
  },
  {
   "cell_type": "markdown",
   "id": "22c86bd5-2e02-4717-86ea-68868a463641",
   "metadata": {},
   "source": [
    "<p style = 'font-size:18px;font-family:Arial;'><b>12.2 Explore properties</b></p>\n",
    "<p style = 'font-size:16px;font-family:Arial;'><b>features:</b> </p>"
   ]
  },
  {
   "cell_type": "code",
   "execution_count": null,
   "id": "66076ec7-f62f-4707-83fd-b69b9235d1dc",
   "metadata": {},
   "outputs": [],
   "source": [
    "ds.features"
   ]
  },
  {
   "cell_type": "markdown",
   "id": "26f808e0-ed89-400c-9c8f-a00164147f62",
   "metadata": {},
   "source": [
    "<p style = 'font-size:16px;font-family:Arial;'><b>entity:</b> </p>"
   ]
  },
  {
   "cell_type": "code",
   "execution_count": null,
   "id": "2b962b00-d24d-4135-99cf-886db9d5f005",
   "metadata": {},
   "outputs": [],
   "source": [
    "ds.entity"
   ]
  },
  {
   "cell_type": "markdown",
   "id": "b154f71f-54ed-4da1-a133-22f6e033dc1e",
   "metadata": {},
   "source": [
    "<p style = 'font-size:16px;font-family:Arial;'><b>id:</b> </p>"
   ]
  },
  {
   "cell_type": "code",
   "execution_count": null,
   "id": "5de55537-d190-4fc9-9ca7-f4286ef22a8c",
   "metadata": {},
   "outputs": [],
   "source": [
    "ds.id"
   ]
  },
  {
   "cell_type": "markdown",
   "id": "477b8545-3ab7-47c3-b2a4-ce556b9ef809",
   "metadata": {},
   "source": [
    "<p style = 'font-size:16px;font-family:Arial;'><b>view_name:</b> </p>"
   ]
  },
  {
   "cell_type": "code",
   "execution_count": null,
   "id": "b9ceb174-acad-47cf-b54a-f90bba70034f",
   "metadata": {},
   "outputs": [],
   "source": [
    "ds.view_name"
   ]
  },
  {
   "cell_type": "markdown",
   "id": "cdf010e9-e133-4495-8cc5-fc5fa62d8268",
   "metadata": {},
   "source": [
    "<hr style=\"height:2px;border:none;\">\n",
    "<p style = 'font-size:20px;font-family:Arial;'><b>13. Feature Management</b>\n",
    "<p style = 'font-size:18px;font-family:Arial;'><b>13.1 List features</b></p>"
   ]
  },
  {
   "cell_type": "code",
   "execution_count": null,
   "id": "8f095a8b-a15b-44bc-a5c8-37afc5947535",
   "metadata": {},
   "outputs": [],
   "source": [
    "fc.list_features()"
   ]
  },
  {
   "cell_type": "markdown",
   "id": "38a9a7a1-ca85-4968-acff-bb7f4c10d82c",
   "metadata": {},
   "source": [
    "<p style = 'font-size:18px;font-family:Arial;'><b>13.2 list feature versions</b></p>"
   ]
  },
  {
   "cell_type": "code",
   "execution_count": null,
   "id": "3cc6cba6-243f-4f3f-ac92-b900dcca2fb1",
   "metadata": {},
   "outputs": [],
   "source": [
    "fc.list_feature_versions()"
   ]
  },
  {
   "cell_type": "code",
   "execution_count": null,
   "id": "3aa69905-abea-4a57-bf49-367f0dc9474c",
   "metadata": {},
   "outputs": [],
   "source": [
    "# Looks to be a bug. Investigation is in progress.\n",
    "fc.features"
   ]
  },
  {
   "cell_type": "code",
   "execution_count": null,
   "id": "55fd2e60-a437-429c-aa22-36c585163e2a",
   "metadata": {},
   "outputs": [],
   "source": [
    "fc.entities"
   ]
  },
  {
   "cell_type": "markdown",
   "id": "1a6d29d6-8535-48cd-b34e-1e05491b38c2",
   "metadata": {},
   "source": [
    "<p style = 'font-size:18px;font-family:Arial;'><b>13.3 Archive features</b></p>"
   ]
  },
  {
   "cell_type": "code",
   "execution_count": null,
   "id": "bf25f562-c65a-429b-b23f-c99c9cf5ce1c",
   "metadata": {},
   "outputs": [],
   "source": [
    "# Let's archive a feature which is associated with any dataset. \n",
    "fc.archive_features('Jan')"
   ]
  },
  {
   "cell_type": "code",
   "execution_count": null,
   "id": "ae486b27-5dac-4174-b16b-28c1e469158a",
   "metadata": {},
   "outputs": [],
   "source": [
    "# Observe that the Jan record is closed.\n",
    "fc.list_features()"
   ]
  },
  {
   "cell_type": "markdown",
   "id": "2cd5d333-28cf-413d-a588-daaace1109b1",
   "metadata": {},
   "source": [
    "<p style = 'font-size:18px;font-family:Arial;'><b>13.4 Look at the feature values also. Even they all should be closed</b></p>"
   ]
  },
  {
   "cell_type": "code",
   "execution_count": null,
   "id": "4be518ca-5924-4b35-b8fd-520a27313fe2",
   "metadata": {
    "scrolled": true
   },
   "outputs": [],
   "source": [
    "# Look at the feature values also. Even they all should be closed.\n",
    "display.max_rows=30\n",
    "fc.list_feature_versions()"
   ]
  },
  {
   "cell_type": "code",
   "execution_count": null,
   "id": "31978fb3-7265-4eea-9bfa-0ee1d72ebbaa",
   "metadata": {},
   "outputs": [],
   "source": [
    "ndf = DataFrame(in_schema(fs.repo, \"FS_T_4fb46368_0c60_21bf_20a1_b0a3948fedde\")).as_of(valid_time='current')\n",
    "ndf[ndf.feature_id==14]"
   ]
  },
  {
   "cell_type": "code",
   "execution_count": null,
   "id": "a7fd12c9-86e1-428a-9e3a-2ad66e5ccec6",
   "metadata": {},
   "outputs": [],
   "source": [
    "# Retrieve all the records. Since Jan is still not deleted, as_of with valid_time as None should still show results.\n",
    "# However, all the records should be closed.\n",
    "ndf = DataFrame(in_schema(fs.repo, \"FS_T_4fb46368_0c60_21bf_20a1_b0a3948fedde\")).as_of(valid_time=None)\n",
    "ndf[ndf.feature_id==14]"
   ]
  },
  {
   "cell_type": "markdown",
   "id": "bac9cebe-c278-4b40-997b-526ac17e29c7",
   "metadata": {},
   "source": [
    "<p style = 'font-size:18px;font-family:Arial;'><b>13.5 Deletes features</b></p>"
   ]
  },
  {
   "cell_type": "code",
   "execution_count": null,
   "id": "5f98a038-f67a-47ae-b298-57eb367dcbb0",
   "metadata": {},
   "outputs": [],
   "source": [
    "# Let's delete the archived feature.\n",
    "fc.delete_features('Jan')"
   ]
  },
  {
   "cell_type": "code",
   "execution_count": null,
   "id": "6d7be5c5-9e1c-4783-b9f6-7b1407363e46",
   "metadata": {},
   "outputs": [],
   "source": [
    "# Verify Jan is completly removed or not.\n",
    "fc.list_features()"
   ]
  },
  {
   "cell_type": "markdown",
   "id": "13f187a7-fc98-49b9-be29-67b133d3f3fd",
   "metadata": {},
   "source": [
    "<p style = 'font-size:18px;font-family:Arial;'><b>13.6 Let's look at the mind_map now</b></p>"
   ]
  },
  {
   "cell_type": "code",
   "execution_count": null,
   "id": "fde2d83d-241c-4fe1-b3b7-4deb5cd3d7a3",
   "metadata": {},
   "outputs": [],
   "source": [
    "# Let's look at mind_map now. \n",
    "fs.mind_map()"
   ]
  },
  {
   "cell_type": "markdown",
   "id": "d962f24a-3f5f-4ca8-90b6-fd48c94be528",
   "metadata": {},
   "source": [
    "<p style = 'font-size:18px;font-family:Arial;'><b>13.7 List feature processes</b></p>"
   ]
  },
  {
   "cell_type": "code",
   "execution_count": null,
   "id": "6e92dbc1-d561-4ddd-8d07-0f86cfca89b3",
   "metadata": {},
   "outputs": [],
   "source": [
    "# Let's remove the feature process. First look at feature processes.\n",
    "fs.list_feature_processes()"
   ]
  },
  {
   "cell_type": "markdown",
   "id": "248ec57d-79b5-44d0-8e2e-51a08c5afa32",
   "metadata": {},
   "source": [
    "<p style = 'font-size:18px;font-family:Arial;'><b>13.8 Achive feature process</b></p>"
   ]
  },
  {
   "cell_type": "code",
   "execution_count": null,
   "id": "e8050023-84a1-4072-ace2-71b923d763c5",
   "metadata": {},
   "outputs": [],
   "source": [
    "#process_id where entity_id:accounts\n",
    "fs.archive_feature_process('7449fefa-a33f-11f0-abbb-0242ac110003')"
   ]
  },
  {
   "cell_type": "code",
   "execution_count": null,
   "id": "07ca72fe-b84d-40ed-9590-42db910d0afa",
   "metadata": {},
   "outputs": [],
   "source": [
    "# Let's look at feature processes. Observe that feature process '85dc42e8-670f-11f0-bb98-c934b24a960f' is also archived. It is closed.\n",
    "fs.list_feature_processes()"
   ]
  },
  {
   "cell_type": "code",
   "execution_count": null,
   "id": "5d7fe63d-6c78-41dd-b1cf-9c2202b122b1",
   "metadata": {
    "tags": []
   },
   "outputs": [],
   "source": [
    "# Let's look at catalog data. Observe that feature Feb is also archived. It is closed.\n",
    "fc.list_features()"
   ]
  },
  {
   "cell_type": "markdown",
   "id": "f222bda0-f183-468d-8866-defb5ce68cb7",
   "metadata": {},
   "source": [
    "<p style = 'font-size:18px;font-family:Arial;'><b>13.9 Delete feature process</b></p>"
   ]
  },
  {
   "cell_type": "code",
   "execution_count": null,
   "id": "9631edb3-3cd2-4953-8405-ff064fc53aff",
   "metadata": {},
   "outputs": [],
   "source": [
    "#process_id where entity_id:accounts\n",
    "fs.delete_feature_process('7449fefa-a33f-11f0-abbb-0242ac110003')"
   ]
  },
  {
   "cell_type": "markdown",
   "id": "c8dd0b3f-dd4d-4393-ab07-ead83fbc7f0c",
   "metadata": {},
   "source": [
    "<p style = 'font-size:18px;font-family:Arial;'><b>13.10 Let's look at mind map now</b></p>"
   ]
  },
  {
   "cell_type": "code",
   "execution_count": null,
   "id": "06a08b8a-ab50-4b3e-bed8-89bfda73bd85",
   "metadata": {},
   "outputs": [],
   "source": [
    "fs.mind_map()"
   ]
  },
  {
   "cell_type": "code",
   "execution_count": null,
   "id": "fff94ba0-6689-48db-8aa9-529a7a8ebbb8",
   "metadata": {},
   "outputs": [],
   "source": [
    "# look at mind map now. All should be empty.\n",
    "fs_sales_analytics.mind_map()"
   ]
  },
  {
   "cell_type": "markdown",
   "id": "562d8745-2e15-4bbd-b704-1b0a52ac325f",
   "metadata": {},
   "source": [
    "<p style = 'font-size:18px;font-family:Arial;'><b>13.11 Remove data domain</b></p>"
   ]
  },
  {
   "cell_type": "code",
   "execution_count": null,
   "id": "6ca629aa-c244-4da1-acae-cc44178a095a",
   "metadata": {},
   "outputs": [],
   "source": [
    "# Let's remove the whole data domain. That should remove all objects.\n",
    "fs.remove_data_domain()"
   ]
  },
  {
   "cell_type": "markdown",
   "id": "97bd75e5-35d5-4819-a0f2-02a9c168701d",
   "metadata": {},
   "source": [
    "<hr style=\"height:2px;border:none;\">\n",
    "<b style = 'font-size:20px;font-family:Arial;'>14. Cleanup</b></p>\n",
    "<p style = 'font-size:18px;font-family:Arial;'> <b>Work Tables and Views </b></p>"
   ]
  },
  {
   "cell_type": "code",
   "execution_count": null,
   "id": "a561fb13-55d0-497e-8a5c-f1ee4cbf5a6a",
   "metadata": {},
   "outputs": [],
   "source": [
    "db_drop_view('FEAT_ENG_CUST')"
   ]
  },
  {
   "cell_type": "code",
   "execution_count": null,
   "id": "3bd48600-26d7-47f5-a867-f7d23a7c2ffc",
   "metadata": {},
   "outputs": [],
   "source": [
    "db_drop_view('FEAT_ENG_CAT')"
   ]
  },
  {
   "cell_type": "code",
   "execution_count": null,
   "id": "2f299167-769f-40a8-b604-c742e8f3841a",
   "metadata": {},
   "outputs": [],
   "source": [
    "db_drop_table('transactions')"
   ]
  },
  {
   "cell_type": "code",
   "execution_count": null,
   "id": "3ce687b5-efee-4ae6-851d-1d61f8e61486",
   "metadata": {},
   "outputs": [],
   "source": [
    "db_drop_table('sales')"
   ]
  },
  {
   "cell_type": "code",
   "execution_count": null,
   "id": "54bba39e-d60a-408a-9925-139e18a3321b",
   "metadata": {},
   "outputs": [],
   "source": [
    "remove_context()"
   ]
  },
  {
   "cell_type": "markdown",
   "id": "d215e7b5-a1b0-4c63-b6a4-f88aa23a966a",
   "metadata": {},
   "source": [
    "<p style = 'font-size:18px;font-family:Arial;'><b>14.1 Delete the Feature Store</b></p>"
   ]
  },
  {
   "cell_type": "code",
   "execution_count": null,
   "id": "aeb8cb52-1732-45ee-94cc-31a1eb3955be",
   "metadata": {},
   "outputs": [],
   "source": [
    "%run -i ../../UseCases/startup.ipynb\n",
    "eng = create_context(host = 'host.docker.internal', username='demo_user', password = password)\n",
    "print(eng)"
   ]
  },
  {
   "cell_type": "markdown",
   "id": "95c4e594-e596-4936-b74f-8f4fe4efc31c",
   "metadata": {},
   "source": [
    "<p style = 'font-size:16px;font-family:Arial;'><b>Note :</b> This will drop the database if all objects are removed.</p>"
   ]
  },
  {
   "cell_type": "code",
   "execution_count": null,
   "id": "dd3286d9-8fac-4e50-9d85-87c8091f0e10",
   "metadata": {},
   "outputs": [],
   "source": [
    "fs.delete()"
   ]
  },
  {
   "cell_type": "code",
   "execution_count": null,
   "id": "ff291887-c2c1-49b2-af29-1e4f73b58a60",
   "metadata": {},
   "outputs": [],
   "source": [
    "# Let's verify the repos. It should be empty.\n",
    "FeatureStore.list_repos()"
   ]
  },
  {
   "cell_type": "code",
   "execution_count": null,
   "id": "dfd03147-069f-4e2a-ad98-acb6e491d173",
   "metadata": {},
   "outputs": [],
   "source": [
    "# Finally disconnect the DB Admin from Vantage.\n",
    "remove_context()"
   ]
  },
  {
   "cell_type": "markdown",
   "id": "b1bfe580-8eea-4996-9552-d7af9bfe1b6c",
   "metadata": {},
   "source": [
    "<footer style=\"padding-bottom:35px; background:#f9f9f9; border-bottom:3px solid #00233C\">\n",
    "    <div style=\"float:left;margin-top:14px\">ClearScape Analytics™</div>\n",
    "    <div style=\"float:right;\">\n",
    "        <div style=\"float:left; margin-top:14px\">\n",
    "            Copyright © Teradata Corporation - 2025. All Rights Reserved\n",
    "        </div>\n",
    "    </div>\n",
    "</footer>"
   ]
  }
 ],
 "metadata": {
  "kernelspec": {
   "display_name": "Python 3 (ipykernel)",
   "language": "python",
   "name": "python3"
  },
  "language_info": {
   "codemirror_mode": {
    "name": "ipython",
    "version": 3
   },
   "file_extension": ".py",
   "mimetype": "text/x-python",
   "name": "python",
   "nbconvert_exporter": "python",
   "pygments_lexer": "ipython3",
   "version": "3.9.10"
  },
  "widgets": {
   "application/vnd.jupyter.widget-state+json": {
    "state": {},
    "version_major": 2,
    "version_minor": 0
   }
  }
 },
 "nbformat": 4,
 "nbformat_minor": 5
}
