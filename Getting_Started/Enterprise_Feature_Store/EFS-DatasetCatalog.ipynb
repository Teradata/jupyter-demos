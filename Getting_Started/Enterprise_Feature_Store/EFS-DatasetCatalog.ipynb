{
 "cells": [
  {
   "cell_type": "markdown",
   "id": "f886146e-54d3-4726-9c5e-b2e08c6711e2",
   "metadata": {},
   "source": [
    "<header>\n",
    "   <p  style='font-size:36px;font-family:Arial; color:#F0F0F0; background-color: #00233c; padding-left: 20pt; padding-top: 20pt;padding-bottom: 10pt; padding-right: 20pt;'>\n",
    "       Enterprise Feature Store - DatasetCatalog\n",
    "  <br>\n",
    "       <img id=\"teradata-logo\" src=\"https://storage.googleapis.com/clearscape_analytics_demo_data/DEMO_Logo/teradata.svg\" alt=\"Teradata\" style=\"width: 125px; height: auto; margin-top: 20pt;\">\n",
    "    </p>\n",
    "</header>"
   ]
  },
  {
   "cell_type": "markdown",
   "id": "d275ad02-f3dd-43b6-afcb-68be60443657",
   "metadata": {},
   "source": [
    "<p style = 'font-size:18px;font-family:Arial;'><b>Retail Computers Feature Store & DatasetCatalog Demo</b></p>\n",
    "<p style = 'font-size:16px;font-family:Arial;'>This notebook demonstrates the end-to-end workflow for building a feature store and dataset catalog for retail computer pricing analytics using TeradataML. Key steps include:\n",
    "<ul>\n",
    "  <li>Loading and transforming raw computer sales data to engineer features such as total, maximum, and count of prices by RAM size.</li>\n",
    "  <li>Creating a centralized feature store `retail_computers_feature_store` within the `computers_pricing` data domain to manage and govern these features.</li>\n",
    "  <li>Ingesting and versioning features using FeatureProcess, enabling traceability and reusability.</li>\n",
    "  <li>Building a DatasetCatalog to assemble curated datasets from selected feature versions for downstream analytics.</li>\n",
    "    <li>Applying the KMeans clustering algorithm to segment computers based on engineered features, supporting business use cases like pricing strategy, inventory management, and targeted marketing.</li>\n",
    "</ul>\n",
    "<p style = 'font-size:16px;font-family:Arial;'>The notebook provides a practical example of operationalizing feature engineering, dataset management, and machine learning in a collaborative, production-ready environment.</p>"
   ]
  },
  {
   "cell_type": "markdown",
   "id": "951a7c05-4c7a-4c78-b741-1c989f8959d5",
   "metadata": {},
   "source": [
    "<p style = 'font-size:18px;font-family:Arial;'><b>Disclaimer</b></p>\n",
    "\n",
    "<p style = 'font-size:12px;font-family:Arial;'>\n",
    "The sample code (“Sample Code”) provided is not covered by any Teradata agreements. Please be aware that Teradata has no control over the model responses to such sample code and such response may vary. The use of the model by Teradata is strictly for demonstration purposes and does not constitute any form of certification or endorsement. The sample code is provided “AS IS” and any express or implied warranties, including the implied warranties of merchantability and fitness for a particular purpose, are disclaimed. In no event shall Teradata be liable for any direct, indirect, incidental, special, exemplary, or consequential damages (including, but not limited to, procurement of substitute goods or services; loss of use, data, or profits; or business interruption) sustained by you or a third party, however caused and on any theory of liability, whether in contract, strict liability, or tort arising in any way out of the use of this sample code, even if advised of the possibility of such damage.</p>"
   ]
  },
  {
   "cell_type": "markdown",
   "id": "548cdd6e-a018-42d6-91ed-db25bad0cc53",
   "metadata": {},
   "source": [
    "<hr style=\"height:2px;border:none;\">\n",
    "<p style = 'font-size:20px;font-family:Arial;'><b>1. Connect to Vantage, Import python packages and explore the dataset</b></p>"
   ]
  },
  {
   "cell_type": "code",
   "execution_count": null,
   "id": "41748ee7-5156-415c-8b03-1483e65cf735",
   "metadata": {},
   "outputs": [],
   "source": [
    "!pip install teradataml==20.0.0.7 --quiet"
   ]
  },
  {
   "cell_type": "markdown",
   "id": "3b93e77e-367b-4579-9c54-5a5fe952b8de",
   "metadata": {},
   "source": [
    "<div class=\"alert alert-block alert-info\">\n",
    "<p style = 'font-size:16px;font-family:Arial;'><b>Note: </b><i>Please execute the above pip install to get the latest version of the required library. Be sure to restart the kernel after executing those lines to bring the installed libraries into memory. The simplest way to restart the Kernel is by typing zero zero: <b> 0 0</b></i></p>\n",
    "</div>"
   ]
  },
  {
   "cell_type": "code",
   "execution_count": null,
   "id": "0c16b504-7963-4bd0-ada8-aebe75071d80",
   "metadata": {},
   "outputs": [],
   "source": [
    "import os\n",
    "from teradataml import *\n",
    "from getpass import getpass\n",
    "import warnings\n",
    "warnings.filterwarnings('ignore')\n",
    "\n",
    "display.max_rows = 5"
   ]
  },
  {
   "cell_type": "markdown",
   "id": "7c4d630d-5ed2-4a18-926b-e9bde85a5a2b",
   "metadata": {},
   "source": [
    "<hr style=\"height:2px;border:none;\">\n",
    "<b style = 'font-size:18px;font-family:Arial;'> 1.1 Connect to Vantage</b>\n",
    "<p style = 'font-size:16px;font-family:Arial;'>We will be prompted to provide the password. We will enter the password, press the Enter key, and then use the down arrow to go to the next cell.</p>"
   ]
  },
  {
   "cell_type": "code",
   "execution_count": null,
   "id": "62eb093a-a127-4f63-8900-1300d09f4549",
   "metadata": {},
   "outputs": [],
   "source": [
    "%run -i ../../UseCases/startup.ipynb\n",
    "eng = create_context(host = 'host.docker.internal', username='demo_user', password = password)\n",
    "print(eng)"
   ]
  },
  {
   "cell_type": "code",
   "execution_count": null,
   "id": "fc369d4f-0fb5-40b0-9079-761b9de448c1",
   "metadata": {},
   "outputs": [],
   "source": [
    "%%capture\n",
    "execute_sql('''SET query_band='DEMO=EFS-DatasetCatalog.ipynb;' UPDATE FOR SESSION; ''')"
   ]
  },
  {
   "cell_type": "markdown",
   "id": "d1e99114-a8f1-4253-99af-27a103d92ae6",
   "metadata": {},
   "source": [
    "<hr style=\"height:2px;border:none;\">\n",
    "<p style = 'font-size:20px;font-family:Arial;'><b>2. Setup a Feature Store Repository</b></p>\n",
    "<p style = 'font-size:18px;font-family:Arial;'><b>2.1 Create the FeatureStore</b></p>"
   ]
  },
  {
   "cell_type": "code",
   "execution_count": null,
   "id": "69a93299-5f2d-48a9-8139-fa09810bf090",
   "metadata": {},
   "outputs": [],
   "source": [
    "fs = FeatureStore(repo=\"retail_computers_feature_store\", data_domain=\"computers_pricing\")"
   ]
  },
  {
   "cell_type": "markdown",
   "id": "99454ac5-81c4-434b-8050-e63598118c08",
   "metadata": {},
   "source": [
    "<p style = 'font-size:18px;font-family:Arial;'><b>2.2 Setup the FeatureStore</b></p>"
   ]
  },
  {
   "cell_type": "code",
   "execution_count": null,
   "id": "d5b67b6c-1ae9-479c-bf02-43eec03baa8f",
   "metadata": {},
   "outputs": [],
   "source": [
    "fs.setup()"
   ]
  },
  {
   "cell_type": "markdown",
   "id": "d418b7f5-8a65-47ba-9b58-73a7045202a8",
   "metadata": {},
   "source": [
    "<p style = 'font-size:18px;font-family:Arial;'><b>2.3 Checking Availability</b></p>"
   ]
  },
  {
   "cell_type": "code",
   "execution_count": null,
   "id": "ebcae0cd-1138-4cdf-a917-1ea283715f42",
   "metadata": {},
   "outputs": [],
   "source": [
    "fs = FeatureStore(repo=\"retail_computers_feature_store\", data_domain=\"computers_pricing\")"
   ]
  },
  {
   "cell_type": "markdown",
   "id": "f5868176-7a5d-4eeb-ae57-7de4b3058dd7",
   "metadata": {},
   "source": [
    "<hr style=\"height:2px;border:none;\">\n",
    "<p style = 'font-size:20px;font-family:Arial;'><b>3. Get Data For demo</b>\n",
    "<p style = 'font-size:18px;font-family:Arial;'><b>3.1 Load the computers_train1 data</b></p>"
   ]
  },
  {
   "cell_type": "code",
   "execution_count": null,
   "id": "6553315e-5078-4115-b5a1-02e1aa16dd7b",
   "metadata": {},
   "outputs": [],
   "source": [
    "load_example_data(\"kmeans\", \"computers_train1\")\n",
    "computers_train1 = DataFrame(\"computers_train1\")\n",
    "computers_train1"
   ]
  },
  {
   "cell_type": "markdown",
   "id": "318a85bd-e20c-4a07-ba7d-3936d1288419",
   "metadata": {},
   "source": [
    "<p style = 'font-size:18px;font-family:Arial;'><b>3.2 Perform Data Transformation</b></p>\n",
    "<p style = 'font-size:16px;font-family:Arial;'><b>Transformation Details:</b>    \n",
    "In this step, we filter the computers dataset to include only records where the price is less than 2000. Then, we group the filtered data by the 'ram' column and compute three aggregated features for each RAM size:\n",
    "<ul>\n",
    "  <li><code>total_price :</code> The sum of prices for all computers with the same RAM size.</li>\n",
    "  <li><code>max_price :</code> The maximum price among computers with the same RAM size.</li>\n",
    "  <li><code>count_price :</code> The total number of computers for each RAM size.</li>\n",
    "</ul>\n",
    "<p style = 'font-size:16px;font-family:Arial;'>These features are essential for understanding pricing trends and inventory distribution by RAM configuration.</p>"
   ]
  },
  {
   "cell_type": "code",
   "execution_count": null,
   "id": "417ec37f-24e5-4dbe-9b05-ac44eca7f478",
   "metadata": {},
   "outputs": [],
   "source": [
    "df1 = computers_train1[computers_train1['price'] < 2000]\n",
    "\n",
    "df2 = df1.groupby('ram').assign(total_price=df1.price.sum(),\n",
    "                                max_price=df1.price.max(),\n",
    "                                count_price=df1.price.count())\n",
    "df2"
   ]
  },
  {
   "cell_type": "markdown",
   "id": "051bddf9-51ce-4c74-86be-5cc9cc34f790",
   "metadata": {},
   "source": [
    "<hr style=\"height:2px;border:none;\">\n",
    "<p style = 'font-size:20px;font-family:Arial;'><b>4. Store the data transformations</b>\n",
    "<p style = 'font-size:16px;font-family:Arial;'>We are storing the transformation here. So, even if underlying data varies, the data transformation steps remain same.</p>"
   ]
  },
  {
   "cell_type": "code",
   "execution_count": null,
   "id": "6c29b049-2608-461e-a4e1-b4071a34bea2",
   "metadata": {},
   "outputs": [],
   "source": [
    "computers_train_df = df2.create_view(view_name=\"computers_train1_view\")"
   ]
  },
  {
   "cell_type": "markdown",
   "id": "2029b146-5c57-4f6e-9958-e613b0cb2226",
   "metadata": {},
   "source": [
    "<hr style=\"height:2px;border:none;\">\n",
    "<p style = 'font-size:20px;font-family:Arial;'><b>5. Ingest the features</b>\n",
    "<p style = 'font-size:16px;font-family:Arial;'>\n",
    "<ul>\n",
    "  <li>Store the feature values of 'count_price', 'max_price', 'total_price' features.</li>\n",
    "  <li>Run the FeatureProcess</li>\n",
    "</ul>"
   ]
  },
  {
   "cell_type": "markdown",
   "id": "7df6fbed-bfc4-4317-9332-ead08d9946ec",
   "metadata": {},
   "source": [
    "<p style = 'font-size:18px;font-family:Arial;'><b>5.1 Create the FeatureProcess and run it</b></p>"
   ]
  },
  {
   "cell_type": "code",
   "execution_count": null,
   "id": "25a674de-7648-4bb7-87dc-20c02de16c4e",
   "metadata": {},
   "outputs": [],
   "source": [
    "fp = FeatureProcess(repo=\"retail_computers_feature_store\",\n",
    "                    data_domain=\"computers_pricing\",\n",
    "                    object=computers_train_df,\n",
    "                    entity='ram',\n",
    "                    features=['count_price', 'max_price', 'total_price'])\n",
    "fp.run()"
   ]
  },
  {
   "cell_type": "markdown",
   "id": "04778d3b-d9c7-41fe-9406-c7e1c8d0bb03",
   "metadata": {},
   "source": [
    "<p style = 'font-size:18px;font-family:Arial;'><b>5.2 See the mind_map for Feature Store</b></p>\n",
    "<p style = 'font-size:16px;font-family:Arial;'>We ingested three features—<code>count_price</code>, <code>max_price</code>, and <code>total_price</code>—from a single feature process. This demonstrates how multiple related features can be managed and tracked together within the feature store, maintaining their lineage to the originating process.</p>"
   ]
  },
  {
   "cell_type": "code",
   "execution_count": null,
   "id": "d9433af7-e5a5-4155-b781-c15c4cbdd306",
   "metadata": {},
   "outputs": [],
   "source": [
    "fs.mind_map()"
   ]
  },
  {
   "cell_type": "markdown",
   "id": "2fc16950-bba5-4466-930e-f173f9438ca1",
   "metadata": {},
   "source": [
    "<hr style=\"height:2px;border:none;\">\n",
    "<p style = 'font-size:20px;font-family:Arial;'><b>6. Build the Dataset</b>\n",
    "<p style = 'font-size:18px;font-family:Arial;'><b>6.1 Create DatasetCatalog object</b></p>"
   ]
  },
  {
   "cell_type": "code",
   "execution_count": null,
   "id": "e67710e4-fe4c-409a-b311-6ae63f7f1f67",
   "metadata": {},
   "outputs": [],
   "source": [
    "dc = DatasetCatalog(repo=\"retail_computers_feature_store\",\n",
    "                    data_domain=\"computers_pricing\")\n",
    "dc"
   ]
  },
  {
   "cell_type": "markdown",
   "id": "e024967b-017a-4d94-b436-53a6617b2e87",
   "metadata": {},
   "source": [
    "<p style = 'font-size:18px;font-family:Arial;'><b>6.2 Build the dataset with ingested features</b></p>"
   ]
  },
  {
   "cell_type": "code",
   "execution_count": null,
   "id": "016d7e0d-ace4-4923-bc3e-611f969cf2a5",
   "metadata": {},
   "outputs": [],
   "source": [
    "dataset_name = \"kmeans_dataset\"\n",
    "\n",
    "# Build dataset with features and their versions (process_id)\n",
    "selected_features = {\"count_price\": fp.process_id,\n",
    "                     \"max_price\": fp.process_id,\n",
    "                     \"total_price\": fp.process_id}"
   ]
  },
  {
   "cell_type": "code",
   "execution_count": null,
   "id": "4c937cbf-aa3a-4b58-b49f-474f51ff0e4d",
   "metadata": {},
   "outputs": [],
   "source": [
    "data = dc.build_dataset(entity=\"ram\", \n",
    "                        selected_features=selected_features, \n",
    "                        view_name=dataset_name,\n",
    "                        description=\"Dataset for KMeans test\")"
   ]
  },
  {
   "cell_type": "markdown",
   "id": "aad0cf0e-7d91-4920-9bc4-cfe4a13725e1",
   "metadata": {},
   "source": [
    "<p style = 'font-size:18px;font-family:Arial;'><b>6.3 See the mind_map for Feature Store</b></p>\n",
    "<p style = 'font-size:16px;font-family:Arial;'>We ingested three features—<code>count_price</code>, <code>max_price</code>, and <code>total_price</code>—from a single feature process. This demonstrates how multiple related features can be managed and tracked together within the feature store, maintaining their lineage to the originating process.</p>"
   ]
  },
  {
   "cell_type": "code",
   "execution_count": null,
   "id": "42824d91-1b9b-4bba-9ae8-ce623d0d7cdc",
   "metadata": {},
   "outputs": [],
   "source": [
    "fs.mind_map()"
   ]
  },
  {
   "cell_type": "markdown",
   "id": "b917c715-492c-4e2e-a4e9-a05373b7c809",
   "metadata": {},
   "source": [
    "<hr style=\"height:2px;border:none;\">\n",
    "<p style = 'font-size:20px;font-family:Arial;'><b>7. Execute KMeans Analytics function on build dataset</b>\n",
    "<p style = 'font-size:16px;font-family:Arial;'><b>KMeans Clustering Details:</b>\n",
    "In this step, we apply the KMeans clustering algorithm to the engineered dataset. The goal is to segment computers into three distinct clusters based on their aggregated features: <code>count_price</code>, <code>max_price</code>, and <code>total_price</code> for each RAM size. This unsupervised learning technique helps identify natural groupings in the data, such as common pricing tiers or inventory segments, which can be used for targeted marketing, inventory management, or further analytics.</p>"
   ]
  },
  {
   "cell_type": "code",
   "execution_count": null,
   "id": "a5bcee41-e4ad-4fdc-955a-0e71f18c8943",
   "metadata": {},
   "outputs": [],
   "source": [
    "KMeans_out = KMeans(id_column=\"ram\",\n",
    "                    target_columns=['count_price', 'max_price', 'total_price'],\n",
    "                    data=data,\n",
    "                    num_clusters=3)"
   ]
  },
  {
   "cell_type": "code",
   "execution_count": null,
   "id": "54803d0e-d01d-43e5-8d25-54271e378236",
   "metadata": {},
   "outputs": [],
   "source": [
    "KMeans_out.result"
   ]
  },
  {
   "cell_type": "markdown",
   "id": "befb3071-ea52-45cf-a61e-4b53badbf742",
   "metadata": {},
   "source": [
    "<hr style=\"height:2px;border:none;\">\n",
    "<p style = 'font-size:20px;font-family:Arial;'><b>8. Explore DataDomain</b>\n",
    "<p style = 'font-size:18px;font-family:Arial;'><b>8.1 Explore DatasetCatalog properties</b></p>\n",
    "<p style = 'font-size:16px;font-family:Arial;'>The <code>data_domain</code> property shows the domain associated with the dataset catalog.</p>"
   ]
  },
  {
   "cell_type": "code",
   "execution_count": null,
   "id": "d57e4288-0999-47cd-adac-126abb63f999",
   "metadata": {},
   "outputs": [],
   "source": [
    "dc.data_domain"
   ]
  },
  {
   "cell_type": "markdown",
   "id": "3574f4d9-d2ad-4987-974f-9639acb220b3",
   "metadata": {},
   "source": [
    "<p style = 'font-size:18px;font-family:Arial;'><b>8.2 Explore DatasetCatalog methods</b></p>\n",
    "<p style = 'font-size:16px;font-family:Arial;'><b>List the datasets</b></p>"
   ]
  },
  {
   "cell_type": "code",
   "execution_count": null,
   "id": "65302808-da46-43da-b18b-4a0876105617",
   "metadata": {},
   "outputs": [],
   "source": [
    "dc.list_datasets()"
   ]
  },
  {
   "cell_type": "markdown",
   "id": "c04781ff-607c-4722-885e-1a1a71644dbe",
   "metadata": {},
   "source": [
    "<p style = 'font-size:16px;font-family:Arial;'><b>List the entities</b></p>"
   ]
  },
  {
   "cell_type": "code",
   "execution_count": null,
   "id": "91334713-7b73-4780-ba3d-c3845d59e568",
   "metadata": {},
   "outputs": [],
   "source": [
    "dc.list_entities()"
   ]
  },
  {
   "cell_type": "markdown",
   "id": "c491b983-5b6c-4949-904d-92b68286a28e",
   "metadata": {},
   "source": [
    "<p style = 'font-size:16px;font-family:Arial;'><b>List the features</b></p>"
   ]
  },
  {
   "cell_type": "code",
   "execution_count": null,
   "id": "d77cccec-b68b-4142-badc-d21c1688f6c1",
   "metadata": {},
   "outputs": [],
   "source": [
    "dc.list_features()"
   ]
  },
  {
   "cell_type": "markdown",
   "id": "c5467d30-e62e-4a84-8d3c-af6e61a850e9",
   "metadata": {},
   "source": [
    "<p style = 'font-size:16px;font-family:Arial;'><b>Get the dataset</b></p>\n",
    "<p style = 'font-size:16px;font-family:Arial;'>This step is going go to require a couple of conversion steps to get the dataset_id from a DataFrame index object into a string object that we can use in the next statements.\n",
    "</p>\n"
   ]
  },
  {
   "cell_type": "code",
   "execution_count": null,
   "id": "374b12c2-ec73-4fde-bbe4-f9d9b9484089",
   "metadata": {},
   "outputs": [],
   "source": [
    "dcdf = dc.list_features()\n",
    "pdf = dcdf.to_pandas()\n",
    "pdf_reset = pdf.reset_index()\n",
    "dataset_id_str = str(pdf.index[0])\n",
    "# print(dataset_id_str)"
   ]
  },
  {
   "cell_type": "code",
   "execution_count": null,
   "id": "fd51111c-b305-4aae-aa54-7efd6a3d9ec0",
   "metadata": {},
   "outputs": [],
   "source": [
    "dc.get_dataset(f'{dataset_id_str}')"
   ]
  },
  {
   "cell_type": "markdown",
   "id": "416c3471-87c9-4488-9004-413f112d75e6",
   "metadata": {},
   "source": [
    "<p style = 'font-size:16px;font-family:Arial;'><b>Archive the dataset</b></p>"
   ]
  },
  {
   "cell_type": "code",
   "execution_count": null,
   "id": "653c419f-94d8-44e1-9841-23e6361831e7",
   "metadata": {},
   "outputs": [],
   "source": [
    "dc.archive_datasets(f'{dataset_id_str}')"
   ]
  },
  {
   "cell_type": "code",
   "execution_count": null,
   "id": "cc727423-208a-4226-a89e-bf5dc89f67b6",
   "metadata": {},
   "outputs": [],
   "source": [
    "dc.list_datasets()"
   ]
  },
  {
   "cell_type": "markdown",
   "id": "5345cec5-6ee5-4bfd-8bab-76675ee652ff",
   "metadata": {},
   "source": [
    "<p style = 'font-size:16px;font-family:Arial;'><b>Delete the dataset</b></p>"
   ]
  },
  {
   "cell_type": "code",
   "execution_count": null,
   "id": "87c61131-e279-4a76-ba07-fb9e65f28bd8",
   "metadata": {},
   "outputs": [],
   "source": [
    "dc.delete_datasets(f'{dataset_id_str}')"
   ]
  },
  {
   "cell_type": "code",
   "execution_count": null,
   "id": "1be46944-5161-4910-87d9-adf1e3b939f6",
   "metadata": {},
   "outputs": [],
   "source": [
    "dc.list_datasets()"
   ]
  },
  {
   "cell_type": "markdown",
   "id": "a1152403-6d33-470b-a134-3da04d30fcda",
   "metadata": {},
   "source": [
    "<hr style=\"height:2px;border:none;\">\n",
    "<b style = 'font-size:20px;font-family:Arial;'>9. Cleanup</b></p>\n",
    "<p style = 'font-size:18px;font-family:Arial;'> <b>Work Tables and Views </b></p>"
   ]
  },
  {
   "cell_type": "code",
   "execution_count": null,
   "id": "961ae1e6-a657-4d77-ab6c-1114b7235a7a",
   "metadata": {},
   "outputs": [],
   "source": [
    "db_drop_view(\"computers_train1_view\")"
   ]
  },
  {
   "cell_type": "code",
   "execution_count": null,
   "id": "1c6c05c1-09f1-4a14-a132-668382a1c55e",
   "metadata": {},
   "outputs": [],
   "source": [
    "db_drop_table(\"computers_train1\")"
   ]
  },
  {
   "cell_type": "code",
   "execution_count": null,
   "id": "cb53a73c-c029-4585-a735-06f794144c17",
   "metadata": {},
   "outputs": [],
   "source": [
    "remove_context()"
   ]
  },
  {
   "cell_type": "markdown",
   "id": "4a7e94e9-eef6-4348-8a02-159f400987fe",
   "metadata": {},
   "source": [
    "<p style = 'font-size:18px;font-family:Arial;'><b>9.1 Delete the Feature Store</b></p>"
   ]
  },
  {
   "cell_type": "code",
   "execution_count": null,
   "id": "44f76e85-634e-4977-95cd-2f2cb05a30a0",
   "metadata": {},
   "outputs": [],
   "source": [
    "%run -i ../../UseCases/startup.ipynb\n",
    "eng = create_context(host = 'host.docker.internal', username='demo_user', password = password)\n",
    "print(eng)"
   ]
  },
  {
   "cell_type": "markdown",
   "id": "a1f75a90-0e7b-4e0f-b439-93291da06ca6",
   "metadata": {},
   "source": [
    "<p style = 'font-size:16px;font-family:Arial;'><b>Note :</b> This will drop the database if all objects are removed.</p>"
   ]
  },
  {
   "cell_type": "code",
   "execution_count": null,
   "id": "a325d4fe-466a-4691-b3fd-2919086a8a09",
   "metadata": {},
   "outputs": [],
   "source": [
    "fs = FeatureStore(repo=\"retail_computers_feature_store\", data_domain=\"computers_pricing\")"
   ]
  },
  {
   "cell_type": "code",
   "execution_count": null,
   "id": "37421d91-ba11-40a5-b085-c2ddcd398e61",
   "metadata": {},
   "outputs": [],
   "source": [
    "fs.delete()"
   ]
  },
  {
   "cell_type": "code",
   "execution_count": null,
   "id": "cf11562b-5436-4f9d-b449-375392486975",
   "metadata": {},
   "outputs": [],
   "source": [
    "remove_context()"
   ]
  },
  {
   "cell_type": "markdown",
   "id": "5e83b475-7266-4a92-b5f1-a444656f97a9",
   "metadata": {},
   "source": [
    "<footer style=\"padding-bottom:35px; background:#f9f9f9; border-bottom:3px solid #00233C\">\n",
    "    <div style=\"float:left;margin-top:14px\">ClearScape Analytics™</div>\n",
    "    <div style=\"float:right;\">\n",
    "        <div style=\"float:left; margin-top:14px\">\n",
    "            Copyright © Teradata Corporation - 2025. All Rights Reserved\n",
    "        </div>\n",
    "    </div>\n",
    "</footer>"
   ]
  }
 ],
 "metadata": {
  "kernelspec": {
   "display_name": "Python 3 (ipykernel)",
   "language": "python",
   "name": "python3"
  },
  "language_info": {
   "codemirror_mode": {
    "name": "ipython",
    "version": 3
   },
   "file_extension": ".py",
   "mimetype": "text/x-python",
   "name": "python",
   "nbconvert_exporter": "python",
   "pygments_lexer": "ipython3",
   "version": "3.9.10"
  }
 },
 "nbformat": 4,
 "nbformat_minor": 5
}
