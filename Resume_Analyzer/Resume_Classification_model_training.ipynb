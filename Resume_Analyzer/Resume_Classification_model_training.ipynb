{
 "cells": [
  {
   "cell_type": "markdown",
   "metadata": {},
   "source": [
    "<header>\n",
    "   <p  style='font-size:36px;font-family:Arial; color:#F0F0F0; background-color: #00233c; padding-left: 20pt; padding-top: 20pt;padding-bottom: 10pt; padding-right: 20pt;'>\n",
    "       Resume Classification Model Training using Vantage In-DB Functions\n",
    "  <br>\n",
    "       <img id=\"teradata-logo\" src=\"https://storage.googleapis.com/clearscape_analytics_demo_data/DEMO_Logo/teradata.svg\" alt=\"Teradata\" style=\"width: 125px; height: auto; margin-top: 20pt;\">\n",
    "    </p>\n",
    "</header>\n",
    "<p style = 'font-size:20px;font-family:Arial'><b>Introduction</b></p>\n",
    "\n",
    "<p style = 'font-size:16px;font-family:Arial'>This notebook is a part of the Resume Analyzer application.\n",
    "In this notebook we will use data from a collection of Resume Examples taken from <a href =\"https://www.kaggle.com/datasets/snehaanbhawal/resume-dataset\"> kaggle </a>\n",
    "for categorizing a given resume into any of the labels defined in the dataset. Resumes are differentiated into their respective labels with filename as the id defined in the csv.</p>\n",
    "<br>\n",
    "\n",
    "<p style = 'font-size:16px;font-family:Arial'><b>The Data used for model training consists of:</b>\n",
    "<li style = 'font-size:14px;font-family:Arial'><code>ID:</code> Unique identifier and file name for the respective pdf. </li>\n",
    "    <li style = 'font-size:14px;font-family:Arial'><code>Resume_str:</code> Contains the resume text only in string format.</li>\n",
    "<li style = 'font-size:14px;font-family:Arial'><code>Category:</code> Category of the job the resume was used to apply.</li>\n",
    "</p>\n",
    "\n",
    "<p></p>    \n",
    "<br>  \n",
    "<p style = 'font-size:16px;font-family:Arial'>Present categories are: HR, Designer, Information-Technology, Teacher, Advocate, Business-Development, Healthcare, Fitness, Agriculture, BPO, Sales, Consultant, Digital-Media, Automobile, Chef, Finance, Apparel, Engineering, Accountant, Construction, Public-Relations, Banking, Arts, Aviation   \n",
    "\n",
    "</p>\n",
    "\n"
   ]
  },
  {
   "cell_type": "markdown",
   "metadata": {},
   "source": [
    "<hr style=\"height:2px;border:none;\">\n",
    "<b style = 'font-size:20px;font-family:Arial'>1. Connect to Vantage</b>\n",
    "<p style = 'font-size:16px;font-family:Arial'>Here, we import the required libraries, set environment variables and environment paths (if required).</p>"
   ]
  },
  {
   "cell_type": "code",
   "execution_count": null,
   "metadata": {},
   "outputs": [],
   "source": [
    "import os\n",
    "import warnings\n",
    "warnings.filterwarnings('ignore')\n",
    "\n",
    "\n",
    "from teradataml import *\n",
    "\n",
    "# Modify the following to match the specific client environment settings\n",
    "display.max_rows = 5"
   ]
  },
  {
   "cell_type": "markdown",
   "metadata": {},
   "source": [
    "\n",
    "<p style = 'font-size:16px;font-family:Arial'>You will be prompted to provide the password. Enter your password, press the Enter key, and then use the down arrow to go to the next cell.</p>"
   ]
  },
  {
   "cell_type": "code",
   "execution_count": null,
   "metadata": {
    "tags": [],
    "vscode": {
     "languageId": "teradata sql"
    }
   },
   "outputs": [],
   "source": [
    "%run -i ../UseCases/startup.ipynb\n",
    "eng = create_context(host = 'host.docker.internal', username='demo_user', password = password)\n",
    "print(eng)"
   ]
  },
  {
   "cell_type": "markdown",
   "metadata": {},
   "source": [
    "<p style = 'font-size:16px;font-family:Arial'>Setup for execution of notebook. Begin running steps with Shift + Enter keys.</p>"
   ]
  },
  {
   "cell_type": "code",
   "execution_count": null,
   "metadata": {
    "vscode": {
     "languageId": "teradata sql"
    }
   },
   "outputs": [],
   "source": [
    "%%capture\n",
    "execute_sql('''SET query_band='DEMO=Resume_Classification_model_training.ipynb;' UPDATE FOR SESSION; ''')"
   ]
  },
  {
   "cell_type": "markdown",
   "metadata": {},
   "source": [
    "<p style = 'font-size:18px;font-family:Arial'><b>Getting Data for This Demo</b></p>\n",
    "<p style = 'font-size:16px;font-family:Arial'>We have provided data for this demo on cloud storage. You can either run the demo using foreign tables to access the data without any storage on your environment or download the data to local storage, which may yield faster execution. Still, there could be considerations of available storage. Two statements are in the following cell, and one of them is commented out. You may switch between the modes by changing the comment string.</p>"
   ]
  },
  {
   "cell_type": "code",
   "execution_count": null,
   "metadata": {
    "vscode": {
     "languageId": "teradata sql"
    }
   },
   "outputs": [],
   "source": [
    "%run -i ../UseCases/run_procedure.py \"call get_data('DEMO_ResumeClassification_local');\"           # Takes 1 minute"
   ]
  },
  {
   "cell_type": "markdown",
   "metadata": {},
   "source": [
    "<p style = 'font-size:16px;font-family:Arial'>Optional step – if you want to see status of databases/tables created and space used.</p>\n"
   ]
  },
  {
   "cell_type": "code",
   "execution_count": null,
   "metadata": {
    "vscode": {
     "languageId": "teradata sql"
    }
   },
   "outputs": [],
   "source": [
    "%run -i ../UseCases/run_procedure.py \"call space_report();\"        # Takes 10 seconds"
   ]
  },
  {
   "cell_type": "markdown",
   "metadata": {},
   "source": [
    "<hr style=\"height:2px;border:none;\">\n",
    "<b style = 'font-size:20px;font-family:Arial'>2. Explore the dataset</b>\n",
    "<p style = 'font-size:16px;font-family:Arial'>The dataset consists of text from from various resumes with the id and category of the resumes.</p>"
   ]
  },
  {
   "cell_type": "code",
   "execution_count": null,
   "metadata": {
    "vscode": {
     "languageId": "teradata sql"
    }
   },
   "outputs": [],
   "source": [
    "tdf = DataFrame(in_schema(\"DEMO_ResumeClassification\", \"Resume_data\"))\n",
    "print(\"Shape of the data: \", tdf.shape)\n",
    "tdf"
   ]
  },
  {
   "cell_type": "markdown",
   "metadata": {},
   "source": [
    "<hr style=\"height:2px;border:none;\">\n",
    "<b style = 'font-size:20px;font-family:Arial'>3. Check model table</b>\n",
    "<br>\n",
    "</p>\n",
    "<p style = 'font-size:16px;font-family:Arial'>Before starting the process we will check if the model table already exists\n",
    "<br>\n",
    "</p>"
   ]
  },
  {
   "cell_type": "code",
   "execution_count": null,
   "metadata": {},
   "outputs": [],
   "source": [
    "from IPython.display import display, Markdown\n",
    "def display_msg(msg):\n",
    "    return display(Markdown(\n",
    "        f\"\"\"<div class=\"alert alert-block alert-info\">\n",
    "        <p style='font-size:20px;font-family:Arial'><b>Note: </b><i>{msg}</i></p>\"\"\"))"
   ]
  },
  {
   "cell_type": "code",
   "execution_count": null,
   "metadata": {},
   "outputs": [],
   "source": [
    "model_df=DataFrame.from_query('''select tablename from dbc.tablesv where databasename = 'demo_user' and tablename = 'resume_category_model_tb';''')\n",
    "if model_df.shape[0]==1:\n",
    "    display_msg('Model table exists. No need to execute the below steps')\n",
    "else:\n",
    "    display_msg('Please continue with the below steps and create the model table')"
   ]
  },
  {
   "cell_type": "markdown",
   "metadata": {},
   "source": [
    "<hr style=\"height:2px;border:none;\">\n",
    "<b style = 'font-size:20px;font-family:Arial'>4. Model Creation</b>\n",
    "<br>\n",
    "</p>\n",
    "<p style = 'font-size:16px;font-family:Arial'>Model table should exist in order to do Resume classification, We can either create the model table from raw data, or load the model table from the cloud. Creation of model table from scratch takes <b>30-35</b> minutes, loading of table from cloud will take <b>1-2</b> minutes</p>\n",
    "</p>"
   ]
  },
  {
   "cell_type": "markdown",
   "metadata": {},
   "source": [
    "<p style = 'font-size:16px;font-family:Arial'><b>Note: If we want to load the model table from cloud please enter \"no\". If we want to create the model table please enter \"yes\" and follow the steps below\"\n",
    "</b>\n",
    "</p>"
   ]
  },
  {
   "cell_type": "code",
   "execution_count": null,
   "metadata": {},
   "outputs": [],
   "source": [
    "# import time\n",
    "# Request user's input\n",
    "generate = input(\"Do you want to create a new model? ('yes'/'no'): \")\n",
    "\n",
    "# Check the user's input\n",
    "if generate.lower() == 'no':\n",
    "    print(\"\\nGreat! We'll load the model table from cloud.\")\n",
    "\n",
    "    print(\"\\nLoading model table from cloud, please wait...\")\n",
    "    # start = time.time()\n",
    "    qry=\"\"\"CREATE MULTISET TABLE DEMO_USER.resume_category_model_tb \n",
    "     (\n",
    "      token VARCHAR(37) CHARACTER SET UNICODE NOT CASESPECIFIC,\n",
    "      category VARCHAR(100) CHARACTER SET UNICODE NOT CASESPECIFIC,\n",
    "      prob FLOAT)\n",
    "    NO PRIMARY INDEX;\"\"\"\n",
    "    \n",
    "    qry1=\"\"\"Insert into resume_category_model_tb \n",
    "        Select \"token\", \"category\", \"prob\" from DEMO_ResumeClassification_db.Resume_Model_Data;\"\"\"\n",
    "\n",
    "    try:\n",
    "        execute_sql(qry)\n",
    "        execute_sql(qry1)\n",
    "        # end = time.time()\n",
    "        print('Table Loaded')\n",
    "        # print(end-start)\n",
    "        \n",
    "    except:\n",
    "        db_drop_table('resume_category_model_tb')\n",
    "        execute_sql(qry)\n",
    "        execute_sql(qry1)\n",
    "        # end = time.time()\n",
    "        print('Table Loaded')\n",
    "        # print(end-start)\n",
    "\n",
    "\n",
    "    display_msg(\"\\nModel table loaded successfully! Please click <a href='#launch_app'>here</a> to launch the app\")\n",
    "\n",
    "elif generate.lower() == 'yes':\n",
    "    display_msg(\"\\nTo create the model again you will have to execute all the steps below\")\n",
    "    \n",
    "else:\n",
    "    print(\"\\nInvalid input. Please enter 'yes' or 'no' to proceed.\")"
   ]
  },
  {
   "cell_type": "markdown",
   "metadata": {},
   "source": [
    "<hr style=\"height:2px;border:none;\">\n",
    "<b style = 'font-size:20px;font-family:Arial'>5. Text Parsing</b>\n",
    "<br>\n",
    "</p>\n",
    "<p style = 'font-size:16px;font-family:Arial'>A text parser, also known as a text tokenizer, is a software component that breaks a text into its constituent parts, such as words, phrases, sentences, or other meaningful units. Text parsing is an important technique in natural language processing (NLP) and is used in a wide range of applications, from search engines and chatbots to email filters and data analysis tools.\n",
    "<br>\n",
    "<p style = 'font-size:16px;font-family:Arial'>The TD_TextParser performs the following operations:\n",
    "<li style = 'font-size:16px;font-family:Arial'>Tokenizes the text in the specified column</li>\n",
    "<li style = 'font-size:16px;font-family:Arial'>Removes the punctuations from the text and converts the text to lowercase</li>\n",
    "<li style = 'font-size:16px;font-family:Arial'>Removes stop words from the text and converts the text to their root forms</li>\n",
    "<li style = 'font-size:16px;font-family:Arial'>Creates a row for each word in the output table</li>\n",
    "<li style = 'font-size:16px;font-family:Arial'>Performs stemming; that is, the function identifies the common root form of a word by removing or replacing word suffixes</li></p>\n",
    "<br>\n",
    "</p>"
   ]
  },
  {
   "cell_type": "code",
   "execution_count": null,
   "metadata": {
    "vscode": {
     "languageId": "teradata sql"
    }
   },
   "outputs": [],
   "source": [
    "if generate.lower() == 'no':\n",
    "    display_msg(\"\\nModel is already loaded from cloud, execution of this steps is not required\")\n",
    "\n",
    "elif generate.lower() == 'yes':\n",
    "    qry = '''CREATE MULTISET TABLE tfidf_input_tokenized AS (\n",
    "        SELECT ResID,\n",
    "            CAST(token AS VARCHAR(15)) AS token,\n",
    "            category\n",
    "            FROM TD_TextParser (\n",
    "            ON DEMO_ResumeClassification.Resume_data AS InputTable\n",
    "            USING\n",
    "            TextColumn ('Resume_str')\n",
    "            ConvertToLowerCase ('true')\n",
    "            OutputByWord ('true')\n",
    "            Punctuation ('\\[.,?\\!\\]')\n",
    "            RemoveStopWords ('true')\n",
    "            StemTokens ('true')\n",
    "            Accumulate('ResID', 'category') \n",
    "            ) AS dt ) WITH DATA Primary Index(ResID);'''\n",
    "\n",
    "    try:\n",
    "        execute_sql(qry)\n",
    "    except:\n",
    "        db_drop_table(\"tfidf_input_tokenized\")\n",
    "        execute_sql(qry)\n",
    "else:\n",
    "    print(\"\\nInvalid input. Please enter 'yes' or 'no' to proceed.\")        "
   ]
  },
  {
   "cell_type": "markdown",
   "metadata": {},
   "source": [
    "<hr style=\"height:2px;border:none;\">\n",
    "<b style = 'font-size:20px;font-family:Arial'>6. TF-IDF</b>\n",
    "<br>\n",
    "</p>\n",
    "<p style = 'font-size:16px;font-family:Arial'>Term Frequency-Inverse Document Frequency (TF-IDF) is a technique for evaluating the importance of a specific term in a specific document in a document set. Term frequency (tf) is the number of times that the term appears in the document and inverse document frequency (idf) is the number of times that the term appears in the document set. The TF-IDF score for a term is tf * idf. A term with a high TF-IDF score is relevant to the specific document.</p>\n",
    "\n",
    "<p style = 'font-size:16px;font-family:Arial'>We can use the TF-IDF scores as input for documents clustering and classification algorithms, including:\n",
    "<li style = 'font-size:16px;font-family:Arial'>Cosine-similarity</li>\n",
    "<li style = 'font-size:16px;font-family:Arial'>Latent Dirichlet allocation</li>\n",
    "<li style = 'font-size:16px;font-family:Arial'>K-means clustering</li>\n",
    "<li style = 'font-size:16px;font-family:Arial'>K-nearest neighbors</li></p>\n",
    "<p style = 'font-size:16px;font-family:Arial'>TD_TFIDF function represents each document as an N-dimensional vector, where N is the number of terms in the document set (therefore, the document vector is sparse). Each entry in the document vector is the TF-IDF score of a term.</p>\n",
    "<br>\n",
    "</p>"
   ]
  },
  {
   "cell_type": "code",
   "execution_count": null,
   "metadata": {},
   "outputs": [],
   "source": [
    "if generate.lower() == 'no':\n",
    "    display_msg(\"\\nModel is already loaded from cloud, execution of this steps is not required\")\n",
    "\n",
    "elif generate.lower() == 'yes':\n",
    "    qry = '''CREATE MULTISET TABLE resume_tf_idf_train AS ( SELECT *\n",
    "                FROM TD_TFIDF(\n",
    "                ON tfidf_input_tokenized AS InputTable\n",
    "                USING\n",
    "                DocIdColumn ('ResID')\n",
    "                TokenColumn ('token')\n",
    "                TFNormalization ('LOG')\n",
    "                IDFNormalization ('SMOOTH')\n",
    "                Regularization ('L2')\n",
    "                Accumulate('category')\n",
    "                ) AS dt ) WITH DATA Primary Index(ResID);'''\n",
    "    try:\n",
    "        execute_sql(qry)\n",
    "    except:\n",
    "        db_drop_table(\"resume_tf_idf_train\")\n",
    "        execute_sql(qry)\n",
    "        \n",
    "else:\n",
    "    print(\"\\nInvalid input. Please enter 'yes' or 'no' to proceed.\")     "
   ]
  },
  {
   "cell_type": "markdown",
   "metadata": {},
   "source": [
    "<hr style=\"height:2px;border:none;\">\n",
    "<b style = 'font-size:20px;font-family:Arial'>7. Naive Bayes Text Classifier</b>\n",
    "<br>\n",
    "</p>\n",
    "<p style = 'font-size:16px;font-family:Arial'>The TD_NaiveBayesTextClassifierTrainer function calculates the conditional probabilities for token-category pairs, the prior probabilities, and the missing token probabilities for all categories. The trainer function trains the model with the probability values, and the predict function uses the values to classify documents into categories.</p>\n",
    "\n",
    "<br>\n",
    "</p>\n",
    "<p style = 'font-size:16px;font-family:Arial'><b>Note: The below query build model table which will take approximately 30 minutes</b></p>"
   ]
  },
  {
   "cell_type": "code",
   "execution_count": null,
   "metadata": {},
   "outputs": [],
   "source": [
    "if generate.lower() == 'no':\n",
    "    display_msg(\"\\nModel is already loaded from cloud, execution of this steps is not required\")\n",
    "\n",
    "elif generate.lower() == 'yes':\n",
    "    qry = '''SELECT TOP 1 'Model table created' as output\n",
    "    FROM TD_NaiveBayesTextClassifierTrainer(\t\n",
    "    ON resume_tf_idf_train AS InputTable\t\n",
    "    OUT PERMANENT  TABLE ModelTable (resume_category_model_tb)\t\n",
    "    USING\t\n",
    "    TokenColumn ('token')\t\n",
    "    ModelType ('Multinomial')\t\n",
    "    DocCategoryColumn ('category')\t\n",
    "    ) AS dt;'''\n",
    "\n",
    "    try:\n",
    "        execute_sql(qry)\n",
    "    except:\n",
    "        db_drop_table(\"resume_category_model_tb\")\n",
    "        execute_sql(qry)\n",
    "    \n",
    "    print(\"Model table Created\")\n",
    "\n",
    "else:\n",
    "    print(\"\\nInvalid input. Please enter 'yes' or 'no' to proceed.\") "
   ]
  },
  {
   "cell_type": "markdown",
   "metadata": {},
   "source": [
    "<a id=\"launch_app\"></a>\n",
    "<hr style=\"height:2px;border:none;\">\n",
    "<b style = 'font-size:20px;font-family:Arial'>8. Launch the Resume Analyzer APP</b>\n",
    "<br>\n",
    "</p>\n",
    "</p>\n",
    "<p style = 'font-size:16px;font-family:Arial'>Please click on the button below to launch the Resume Analyzer Application.</p>"
   ]
  },
  {
   "cell_type": "markdown",
   "metadata": {},
   "source": [
    "<a href=\"https://resume-analyze.ci.clearscape.teradata.com/login/\" target=\"_blank\">\n",
    "  <img src=\"images/app_button.png\" alt=\"Launch App\" width=\"200\"/>\n",
    "</a>"
   ]
  },
  {
   "cell_type": "markdown",
   "metadata": {},
   "source": [
    "<hr style=\"height:2px;border:none;\">\n",
    "<b style = 'font-size:20px;font-family:Arial'>9. Cleanup</b>"
   ]
  },
  {
   "cell_type": "markdown",
   "metadata": {},
   "source": [
    "<p style = 'font-size:18px;font-family:Arial'><b>Work Tables</b></p>\n",
    "<p style = 'font-size:16px;font-family:Arial'>Cleanup work tables to prevent errors next time. This section drops all the tables created during the demonstration.</p>"
   ]
  },
  {
   "cell_type": "code",
   "execution_count": null,
   "metadata": {
    "vscode": {
     "languageId": "teradata sql"
    }
   },
   "outputs": [],
   "source": [
    "try:\n",
    "    db_drop_table(\"resume_tf_idf_train\")\n",
    "    db_drop_table(\"tfidf_input_tokenized\")\n",
    "except:\n",
    "    pass\n",
    "    "
   ]
  },
  {
   "cell_type": "markdown",
   "metadata": {},
   "source": [
    "<div class=\"alert alert-block alert-danger\">\n",
    "<p style = 'font-size:16px;font-family:Arial'><b>Note: <i>If you do not want the model table anymore and do not want to do Resume Classification from the application than go ahead and drop the table using the cell below, else do not drop the model table.</i></b></p>\n",
    "</div>"
   ]
  },
  {
   "cell_type": "code",
   "execution_count": null,
   "metadata": {},
   "outputs": [],
   "source": [
    "# import time\n",
    "# Request user's input\n",
    "modeldrop = input(\"Do you want to drop the model table? ('yes'/'no'): \")\n",
    "\n",
    "# Check the user's input\n",
    "if modeldrop.lower() == 'yes':\n",
    "    try:\n",
    "        db_drop_table(\"resume_category_model_tb\")\n",
    "        display_msg(\"\\nModel table is dropped. If you want to run Resume Classification, you will need to create model table again.\")\n",
    "    except:\n",
    "        pass\n",
    "else:\n",
    "    display_msg(\"\\nModel table is not dropped. Continue with Resume Classification.\")\n",
    "   \n",
    "    "
   ]
  },
  {
   "cell_type": "markdown",
   "metadata": {},
   "source": [
    "<hr style=\"height:1px;border:none;\">\n",
    "<p style = 'font-size:18px;font-family:Arial'> <b>Databases and Tables </b></p>\n",
    "<p style = 'font-size:16px;font-family:Arial'>The following code will clean up tables and databases created above.</p>"
   ]
  },
  {
   "cell_type": "code",
   "execution_count": null,
   "metadata": {
    "vscode": {
     "languageId": "teradata sql"
    }
   },
   "outputs": [],
   "source": [
    "%run -i ../UseCases/run_procedure.py \"call remove_data('DEMO_ResumeClassification');\"        #Takes 5 seconds"
   ]
  },
  {
   "cell_type": "code",
   "execution_count": null,
   "metadata": {},
   "outputs": [],
   "source": [
    "remove_context()"
   ]
  },
  {
   "cell_type": "markdown",
   "metadata": {},
   "source": [
    "<footer style=\"padding-bottom:35px; border-bottom:3px solid #91A0Ab\">\n",
    "    <div style=\"float:left;margin-top:14px\">ClearScape Analytics™</div>\n",
    "    <div style=\"float:right;\">\n",
    "        <div style=\"float:left; margin-top:14px\">\n",
    "            Copyright © Teradata Corporation - 2024. All Rights Reserved\n",
    "        </div>\n",
    "    </div>\n",
    "</footer>"
   ]
  }
 ],
 "metadata": {
  "kernelspec": {
   "display_name": "Python 3 (ipykernel)",
   "language": "python",
   "name": "python3"
  },
  "language_info": {
   "codemirror_mode": {
    "name": "ipython",
    "version": 3
   },
   "file_extension": ".py",
   "mimetype": "text/x-python",
   "name": "python",
   "nbconvert_exporter": "python",
   "pygments_lexer": "ipython3",
   "version": "3.9.10"
  }
 },
 "nbformat": 4,
 "nbformat_minor": 4
}
