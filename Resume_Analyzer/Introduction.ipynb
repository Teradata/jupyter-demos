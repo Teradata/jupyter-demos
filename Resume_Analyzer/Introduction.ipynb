{
 "cells": [
  {
   "cell_type": "markdown",
   "id": "68596918-80ea-4244-9e31-4fbf9f276b02",
   "metadata": {},
   "source": [
    "<header>\n",
    "   <p  style='font-size:36px;font-family:Arial; color:#F0F0F0; background-color: #00233c; padding-left: 20pt; padding-top: 20pt;padding-bottom: 10pt; padding-right: 20pt;'>\n",
    "       Resume Analyzer\n",
    "  <br>\n",
    "       <img id=\"teradata-logo\" src=\"https://storage.googleapis.com/clearscape_analytics_demo_data/DEMO_Logo/teradata.svg\" alt=\"Teradata\" style=\"width: 125px; height: auto; margin-top: 20pt;\">\n",
    "    </p>\n",
    "</header>"
   ]
  },
  {
   "cell_type": "markdown",
   "id": "d4a32b06-944e-4df5-b505-67d75713aae7",
   "metadata": {},
   "source": [
    "<p style = 'font-size:20px;font-family:Arial'><b>Introduction</b></p>\n",
    "\n",
    "<p style = 'font-size:16px;font-family:Arial'>In a competitive job market, companies often receive hundreds or even thousands of resumes for a single job opening. Manually reviewing each resume is time-consuming, labor-intensive, and prone to human bias. The Resume Analyzer aims to automate this process, enabling organizations to quickly identify the most qualified candidates, improve hiring efficiency, and reduce recruitment costs.<br> \n",
    "<p style = 'font-size:16px;font-family:Arial'>\n",
    "To automate this process and help hiring managers to focus on the top candidates, reducing time-to-hire and improving the quality of hires we have implented some of those functionalities as a web application. The homepage of the application looks like this: </p><img id=\"resume_analyzer\" src=\"images/resume.png\" alt=\"homepage\" width=\"1200\" /></p>\n",
    "\n",
    "<p style = 'font-size:16px;font-family:Arial'>The Resume Analyzer application does the following tasks\n",
    "    <li style = 'font-size:16px;font-family:Arial'><b>Named Entity Regonition</b> is a subtask of natural language processing (NLP) that involves identifying and classifying named entities mentioned in unstructured text into predefined categories lile People, Organization or Location etc. </li>\n",
    "    <li style = 'font-size:16px;font-family:Arial'><b>Candidate Matching</b> is the process of comparing a job applicant’s qualifications, skills, experience, and other relevant attributes against the requirements of a specific job position.</li>\n",
    "<li style = 'font-size:16px;font-family:Arial'><b>Resume Classification</b> is a process in which resumes are categorized into different predefined categories or classes based on various factors like job roles, industries, skills, or qualifications. It leverages machine learning, natural language processing (NLP). The goal is to organize and streamline large volumes of resumes, making it easier for recruiters to find candidates for specific roles.<br>For our application we have used Vantage in DB model which we have to train before we can use it in the app. We need to create the model using the \n",
    "    <a href ='./Resume_Classification_model_training.ipynb'>Resume Classification model training notebook</a>\n",
    "    </li>\n",
    "    <li style = 'font-size:16px;font-family:Arial'><b>Resume Analytics</b> It generates strengths, weakness and summary of the resume.</li>\n",
    "    <li style = 'font-size:16px;font-family:Arial'><b>Resume Generation</b> Creates resumes based on candidates data and skills provided.</li>\n",
    "    <li style = 'font-size:16px;font-family:Arial'><b>Chatbot</b> Is an interactive chatbot to query for skills, projects etc from the resumes.</li>\n",
    "    </p>\n"
   ]
  },
  {
   "cell_type": "markdown",
   "id": "7902e40b-cf43-4371-a124-f3c1ac9181a8",
   "metadata": {},
   "source": [
    "<div class=\"alert alert-block alert-warning\">\n",
    "<p style = 'font-size:16px;font-family:Arial'><b><i>*Note: This application needs resumes in pdf format. In case you need some sample resumes, please download from <a href =\"https://storage.googleapis.com/clearscape_analytics_demo_data/DEMO_ResumeClassification/Resume_Files/Sample_Resumes.zip\"> here </a></i></b>\n",
    "</p></div    "
   ]
  },
  {
   "cell_type": "markdown",
   "id": "070bbc37-316b-43a8-874a-bbfa2988d07b",
   "metadata": {},
   "source": [
    "<div class=\"alert alert-block alert-warning\">\n",
    "<p style = 'font-size:16px;font-family:Arial'><b><i>**Note: Before running this web application, models and data need to be loaded\n",
    "in the database.  Please open the notebook \"Resume_Classification_model_training.ipynb\" and execute it before launching this Resume Analyzer app.\n",
    "</i></b>\n",
    "</p></div  "
   ]
  },
  {
   "cell_type": "markdown",
   "id": "b17ca37e-cd8f-451b-84fd-4f8d73b6883d",
   "metadata": {},
   "source": [
    "<a href=\"https://resume-analyze.ci.clearscape.teradata.com/login/\" target=\"_blank\">\n",
    "  <img src=\"images/app_button.png\" alt=\"Launch App\" width=\"200\"/>\n",
    "</a>\n"
   ]
  },
  {
   "cell_type": "markdown",
   "id": "edc5e1b0-9c0c-4b08-b1da-8f5e615aff5b",
   "metadata": {},
   "source": [
    "<p style = 'font-size:16px;font-family:Arial'> Once you click the above the button, the Sign-in screen like below will appear.<br> Please enter the following details:\n",
    "    <li style = 'font-size:16px;font-family:Arial'><b>Host</b>: Host will be the host of your database (xxxxx.env.clearscape.teradata.com). You can get this information from the Clearscape Experience dashboard page.  </li>\n",
    "    <li style = 'font-size:16px;font-family:Arial'><b>Username</b>: demo_user </li>\n",
    "    <li style = 'font-size:16px;font-family:Arial'><b>Password</b>: Please enter your database password</li>   \n",
    "<img id=\"login_screen\" src=\"images/login.png\" alt=\"login\" width=\"400\" />\n"
   ]
  },
  {
   "cell_type": "markdown",
   "id": "5d068799-fc75-486e-8915-739d4c9f70d1",
   "metadata": {},
   "source": [
    "<footer style=\"padding-bottom:35px; border-bottom:3px solid #91A0Ab\">\n",
    "    <div style=\"float:left;margin-top:14px\">ClearScape Analytics™</div>\n",
    "    <div style=\"float:right;\">\n",
    "        <div style=\"float:left; margin-top:14px\">\n",
    "            Copyright © Teradata Corporation - 2024. All Rights Reserved\n",
    "        </div>\n",
    "    </div>\n",
    "</footer>"
   ]
  }
 ],
 "metadata": {
  "kernelspec": {
   "display_name": "Python 3 (ipykernel)",
   "language": "python",
   "name": "python3"
  },
  "language_info": {
   "codemirror_mode": {
    "name": "ipython",
    "version": 3
   },
   "file_extension": ".py",
   "mimetype": "text/x-python",
   "name": "python",
   "nbconvert_exporter": "python",
   "pygments_lexer": "ipython3",
   "version": "3.9.10"
  }
 },
 "nbformat": 4,
 "nbformat_minor": 5
}
