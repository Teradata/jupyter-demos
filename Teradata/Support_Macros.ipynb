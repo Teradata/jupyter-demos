{
 "cells": [
  {
   "cell_type": "markdown",
   "id": "17e11c65-b56f-4ca6-af19-6e61f57d0768",
   "metadata": {},
   "source": [
    "# ClearScape Analytics Experience Support Macros\n",
    "\n",
    "These are used by associates developing and tuning notebooks, so they are not listed in the index of demos.\n",
    "\n",
    "Those are:\n",
    " \n",
    "- **recent** - get the list of sessions in the past hours, parameter is a number and defaults to 8\n",
    "- **qrylog**  - get the queries executed in a session which must be passed as a parameter. If session completed within the last 10 minutes, issue:<br> **flush query logging with all**    \n",
    "<br>\n",
    "- **sessions** - get the sessionid and vproc of sessions logged on and in flight along with execution statistics\n",
    "- **querytext** - for a sessionid and vproc, show the query running                                                                                                 \n",
    "- **steps** - for a sessionid and vproc, show the steps executed and planned for a query in flight                                                       "
   ]
  },
  {
   "cell_type": "code",
   "execution_count": 1,
   "id": "0da3a9e5-61fb-4d09-825f-045f5dfedd25",
   "metadata": {},
   "outputs": [
    {
     "name": "stdin",
     "output_type": "stream",
     "text": [
      "Password: ········\n"
     ]
    },
    {
     "name": "stdout",
     "output_type": "stream",
     "text": [
      "Success: 'local' connection established and activated for user 'demo_user', with default database 'demo_user'\n"
     ]
    }
   ],
   "source": [
    "%connect local, hidewarnings=true"
   ]
  },
  {
   "cell_type": "code",
   "execution_count": null,
   "id": "47b8317e-0bf3-4e20-b71d-7a415d44d648",
   "metadata": {},
   "outputs": [],
   "source": [
    "replace macro recent(hours integer default 48) as (  -- identify sessionid that were recently executed - default 48 hours\n",
    "    select sessionid\n",
    "    , queryband, min(starttime) starting\n",
    "    , max(firstresptime) ending\n",
    "    , count(*)\n",
    "    , sum(cast((firstresptime - starttime second(4)) as decimal(8,2))) RunSecs \n",
    "    from dbc.qrylog \n",
    "    where starttime > current_timestamp - interval '1' hour  * :hours\n",
    "    group by 1,2 order by 1,2;\n",
    ");"
   ]
  },
  {
   "cell_type": "code",
   "execution_count": 3,
   "id": "33eac04a-64f0-49ee-8330-fa57eee07dbd",
   "metadata": {},
   "outputs": [
    {
     "data": {
      "text/plain": [
       "Success: 2 rows affected"
      ]
     },
     "execution_count": 3,
     "metadata": {
      "application/vnd.teradata.resultset": ""
     },
     "output_type": "execute_result"
    }
   ],
   "source": [
    "REPLACE macro qrylog (sess integer default session) as ( -- pull all log records for 1 sessionid\n",
    "    select starttime\n",
    "    , firstresptime - starttime second (4) runsecs\n",
    "    , '\"' || otranslate(otranslate(querytext,'\"',''),chr(10),' ') || '\"' querytext\n",
    "    , queryband, sessionid, ampcputime\n",
    "    , 1-ampcputime/(nullifzero(MaxAMPCPUTime)*NumOfActiveAMPs) cpuskew\n",
    "    , totaliocount\n",
    "    , NosPhysReadIO\n",
    "    , InternalRequestNum\n",
    "    , queryid\n",
    "    , errorcode\n",
    "    , errortext from dbc.dbqlogtbl \n",
    "    where sessionid = :sess order by 1;\n",
    ");"
   ]
  },
  {
   "cell_type": "code",
   "execution_count": null,
   "id": "97748f26-de1d-4952-82d4-2f5deae77f6a",
   "metadata": {},
   "outputs": [],
   "source": [
    "REPLACE  macro sessions as ( -- list out all active sessions\n",
    "    SELECT * FROM TABLE ( syslib.monitorsession(-1,'*',0)) AS x \n",
    "        ORDER BY pestate, username;\n",
    "    );"
   ]
  },
  {
   "cell_type": "code",
   "execution_count": null,
   "id": "0419cd83-9872-4492-94ec-8eb3cf3cc369",
   "metadata": {},
   "outputs": [],
   "source": [
    "replace macro querytext (sess integer default session, vproc smallint default 30719) as ( -- get query text for a query now in flight\n",
    "    select * from table (syslib.MONITORSQLTEXT (1,:sess,:vproc)) as x \n",
    "        order by 3 ;\n",
    "    );"
   ]
  },
  {
   "cell_type": "code",
   "execution_count": null,
   "id": "cacc5846-f8e1-4192-964b-79b1a61eb4cd",
   "metadata": {},
   "outputs": [],
   "source": [
    "replace MACRO steps(sess INTEGER default session, vproc SMALLINT default 30719) AS ( -- get steps from queryplan currently executing\n",
    "    SELECT * FROM TABLE ( syslib.monitorsqlsteps(1,:sess,:vproc)) AS x \n",
    "        ORDER BY 3; \n",
    "    );"
   ]
  }
 ],
 "metadata": {
  "kernelspec": {
   "display_name": "Teradata SQL",
   "language": "Teradata SQL",
   "name": "teradatasql"
  },
  "language_info": {
   "codemirror_mode": "Teradata SQL",
   "file_extension": ".tdrs",
   "mimetype": "application/vnd.teradata.resultset",
   "name": "Teradata SQL",
   "nbconvert_exporter": "",
   "pygments_lexer": "",
   "version": "16.20"
  }
 },
 "nbformat": 4,
 "nbformat_minor": 5
}
