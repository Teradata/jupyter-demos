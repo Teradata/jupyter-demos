{
 "cells": [
  {
   "cell_type": "markdown",
   "id": "196b3822-1ee1-4fdb-86bd-dac6dd603a68",
   "metadata": {},
   "source": [
    "### Under Construction Notebook\n",
    "\n",
    "The following notebooks are not on the index for one or more reasons.\n",
    "\n",
    "[Parkinsons Disease Prediction](../UseCases/.Parkinsons_Disease_Prediction/Parkinsons_Disease_Prediction_PY_SQL.ipynb)\n",
    "Accuracy with current version of Decision Forest prediction\n",
    "\n",
    "[Grocery Recommender using Bert](../UseCases/.BERT_Grocery_Recommender/BERT_Grocery_Recommender.ipynb) Still under development. Uses CSV files not present. Need to get data from cloud\n",
    "\n",
    "[README.md using nbviewer](../.README2.md) Allows read-only notebooks, but not released until we can track usage."
   ]
  },
  {
   "cell_type": "code",
   "execution_count": null,
   "id": "56dd6558-e2be-40cf-9460-f3a676cdcdcb",
   "metadata": {},
   "outputs": [],
   "source": []
  }
 ],
 "metadata": {
  "kernelspec": {
   "display_name": "Python 3 (ipykernel)",
   "language": "python",
   "name": "python3"
  },
  "language_info": {
   "codemirror_mode": {
    "name": "ipython",
    "version": 3
   },
   "file_extension": ".py",
   "mimetype": "text/x-python",
   "name": "python",
   "nbconvert_exporter": "python",
   "pygments_lexer": "ipython3",
   "version": "3.9.10"
  }
 },
 "nbformat": 4,
 "nbformat_minor": 5
}
