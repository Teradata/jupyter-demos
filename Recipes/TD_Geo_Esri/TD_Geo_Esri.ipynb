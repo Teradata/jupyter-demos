{
 "cells": [
  {
   "cell_type": "markdown",
   "id": "78911d3a-d3af-47b4-b251-f362594bf2a5",
   "metadata": {},
   "source": [
    "<header>\n",
    "   <p  style='font-size:36px;font-family:Arial; color:#F0F0F0; background-color: #00233c; padding-left: 20pt; padding-top: 20pt;padding-bottom: 10pt; padding-right: 20pt;'>\n",
    "       TD GeoDataFrame to ESRI conversion\n",
    "  <br>\n",
    "       <img id=\"teradata-logo\" src=\"https://storage.googleapis.com/clearscape_analytics_demo_data/DEMO_Logo/teradata.svg\" alt=\"Teradata\" style=\"width: 125px; height: auto; margin-top: 20pt;\">\n",
    "    </p>\n",
    "</header>"
   ]
  },
  {
   "cell_type": "markdown",
   "id": "8783bde6-09cb-40ab-9678-46dc8ddcc8c2",
   "metadata": {},
   "source": [
    "<p style = 'font-size:20px;font-family:Arial'><b>Introduction</b></p>\n",
    "<p style = 'font-size:16px;font-family:Arial'>\n",
    "Geospatial information identifies the geographic location of features and boundaries on the planet. \n",
    "Vantage provides geospatial types to represent geometries with up to three dimensions. Vantage provides the ST_Geometry, MBB , and MBR data types for creating and manipulating geometric shapes in the database. ST_Geometry is implemented as a user-defined type (UDT). Users can do complex computations involving geospatial data in Vantage using the functions available. This Python program enables users to extract Teradata geospatial data and export it into widely-used formats such as ESRI shapefiles, which can be used for visualizations.</p>\n",
    "    "
   ]
  },
  {
   "cell_type": "markdown",
   "id": "e65cc421-5663-41c9-9830-dbff61b7ba43",
   "metadata": {},
   "source": [
    "<hr style=\"height:2px;border:none;\">\n",
    "<p style = 'font-size:20px;font-family:Arial'><b>1. Connect to Vantage</b></p>"
   ]
  },
  {
   "cell_type": "markdown",
   "id": "300187a5-43dc-4044-9392-4474653975b0",
   "metadata": {},
   "source": [
    "<p style = 'font-size:16px;font-family:Arial'>We start by importing the required libraries and set environment variables and environment paths (if required).</p>"
   ]
  },
  {
   "cell_type": "code",
   "execution_count": null,
   "id": "c6f1717c-8483-4ba5-aaf7-7533d0d49154",
   "metadata": {},
   "outputs": [],
   "source": [
    "!pip install --upgrade geopandas"
   ]
  },
  {
   "cell_type": "markdown",
   "id": "74af8ebd-32ab-4b22-ad06-4b4221122a38",
   "metadata": {},
   "source": [
    "<div class=\"alert alert-block alert-info\">\n",
    "<p style = 'font-size:16px;font-family:Arial'><b>Note: </b><i>The above library needs to be upgraded for some of the functions used in this demonstration. Please be sure to restart the kernel after installing/upgrading the library. The simplest way to restart the Kernel is by typing zero zero: <b> 0 0</b></i></p>\n",
    "</div>"
   ]
  },
  {
   "cell_type": "markdown",
   "id": "194cf732-ebeb-46c7-9a33-3b898e64010f",
   "metadata": {},
   "source": [
    "<p style = 'font-size:16px;font-family:Arial'>In the section, we import the required libraries.</p> "
   ]
  },
  {
   "cell_type": "code",
   "execution_count": null,
   "id": "8ceedd89-e9aa-45da-9c3e-fc8e26a6362e",
   "metadata": {},
   "outputs": [],
   "source": [
    "# Standard libraries\n",
    "import getpass\n",
    "import warnings\n",
    "\n",
    "# Third-party libraries\n",
    "import geopandas as gpd\n",
    "from shapely import wkt\n",
    "import os\n",
    "\n",
    "# Teradata libraries\n",
    "from teradataml import *\n",
    "display.max_rows = 5\n",
    "\n",
    "# Suppress warnings\n",
    "warnings.filterwarnings('ignore')\n",
    "warnings.simplefilter(action='ignore', category=DeprecationWarning)\n",
    "warnings.simplefilter(action='ignore', category=RuntimeWarning)\n",
    "warnings.simplefilter(action='ignore', category=FutureWarning)"
   ]
  },
  {
   "cell_type": "markdown",
   "id": "56a8d63d-9787-4074-bcf3-41f4b9939f74",
   "metadata": {},
   "source": [
    "<p style = 'font-size:16px;font-family:Arial'>We will be prompted to provide the password. We will enter the password, press the Enter key, and then use the down arrow to go to the next cell. Begin running steps with Shift + Enter keys.</p>"
   ]
  },
  {
   "cell_type": "code",
   "execution_count": null,
   "id": "6e628d26-c424-4af6-933b-0e604b9556d5",
   "metadata": {},
   "outputs": [],
   "source": [
    "%run -i ~/JupyterLabRoot/UseCases/startup.ipynb\n",
    "eng = create_context(host = 'host.docker.internal', username='demo_user', password = password)\n",
    "print(eng)"
   ]
  },
  {
   "cell_type": "code",
   "execution_count": null,
   "id": "3a0bdb6d-ea79-4ca7-8431-2bc328d0d77e",
   "metadata": {},
   "outputs": [],
   "source": [
    "%%capture\n",
    "execute_sql('''SET query_band='DEMO=TD_Geo_Esri.ipynb;' UPDATE FOR SESSION; ''')"
   ]
  },
  {
   "cell_type": "markdown",
   "id": "1a33a794-f3f9-4d95-bf04-483cd07c25cb",
   "metadata": {},
   "source": [
    "<hr style=\"height:2px;border:none;\">\n",
    "<p style = 'font-size:20px;font-family:Arial'><b>2. Getting Data for This Demo </b></p>\n",
    "<p style = 'font-size:16px;font-family:Arial'>We have provided data for this demo on cloud storage. We are downloading the data to local storage.</p>"
   ]
  },
  {
   "cell_type": "code",
   "execution_count": null,
   "id": "350a958a-5ea4-44fb-bcde-d9b79af51109",
   "metadata": {},
   "outputs": [],
   "source": [
    "%run -i ~/JupyterLabRoot/UseCases/run_procedure.py \"call get_data('DEMO_TelcoNetwork_local');\" "
   ]
  },
  {
   "cell_type": "markdown",
   "id": "0e8beca9-16db-4926-b7cf-d90aac1b2b9e",
   "metadata": {},
   "source": [
    "<hr style=\"height:2px;border:none;\">\n",
    "<p style = 'font-size:20px;font-family:Arial'><b>3. Geospacial data in tdml GeoDataFrame</b></p>"
   ]
  },
  {
   "cell_type": "markdown",
   "id": "370436c6-b12f-43c0-85f8-f68355b81c37",
   "metadata": {},
   "source": [
    "<p style = 'font-size:16px;font-family:Arial'>For our demo we are taking Cell Tower table from DEMO_TelcoNetwork database in teradataml GeoDataFrame. We use GeoDataFrame when we have any geometry datatype like Point, Linestring etc in our table otherwise we use teradataml DataFrame. </p>"
   ]
  },
  {
   "cell_type": "code",
   "execution_count": null,
   "id": "0d5bab76-7e0e-4396-9129-c9a2f01c649a",
   "metadata": {},
   "outputs": [],
   "source": [
    "res1 = GeoDataFrame(in_schema(\"DEMO_TelcoNetwork\", \"Cell_Towers\"))\n",
    "res1"
   ]
  },
  {
   "cell_type": "markdown",
   "id": "ffa3e0f9-760f-4ade-a6fd-7f8be2511b25",
   "metadata": {},
   "source": [
    "<p style = 'font-size:16px;font-family:Arial'>We check the shape and teradata datatypes of the tdml GeoDataFrame.</p>"
   ]
  },
  {
   "cell_type": "code",
   "execution_count": null,
   "id": "fff82593-c2c6-4b4e-b10d-fe2194f99977",
   "metadata": {},
   "outputs": [],
   "source": [
    "res1.shape"
   ]
  },
  {
   "cell_type": "code",
   "execution_count": null,
   "id": "06c7a503-78fd-4ccd-9a6a-578a3ec6c133",
   "metadata": {},
   "outputs": [],
   "source": [
    "res1.tdtypes"
   ]
  },
  {
   "cell_type": "markdown",
   "id": "f7a90571-240a-494b-a9e6-7a31fa3799ee",
   "metadata": {},
   "source": [
    "<p style = 'font-size:16px;font-family:Arial'>From above we can see that we have 303 records and cell_geom is of Geometry datatype.<br>Now we see what is the equivalent pandas datatype we will get.</p>"
   ]
  },
  {
   "cell_type": "code",
   "execution_count": null,
   "id": "8691211c-185c-4ba3-b8b3-4e3bc4daf57f",
   "metadata": {},
   "outputs": [],
   "source": [
    "res1.dtypes"
   ]
  },
  {
   "cell_type": "markdown",
   "id": "45be7422-2d39-4390-ab58-76ce5f4e0adc",
   "metadata": {},
   "source": [
    "<p style = 'font-size:16px;font-family:Arial'>From above we can see that the Geometry datatype of Teradata is taken as a str in pandas. Once we convert the tdml GeodataFrame to pandas DataFrame we have to convert the cell_geom column to the Geometry datatype.</p>"
   ]
  },
  {
   "cell_type": "markdown",
   "id": "7563ddb4-e9c0-4416-bb45-616e61e424e1",
   "metadata": {},
   "source": [
    "<p style = 'font-size:18px;font-family:Arial'><b>3.1 Converting Pandas DataFrame to GeoPandas DataFrame.</b></p>"
   ]
  },
  {
   "cell_type": "code",
   "execution_count": null,
   "id": "68c7095e-1503-42e6-b4d3-08dee49b6d65",
   "metadata": {},
   "outputs": [],
   "source": [
    "df = res1.to_pandas()\n",
    "type(df)"
   ]
  },
  {
   "cell_type": "code",
   "execution_count": null,
   "id": "d98a7b50-3b1e-4184-9620-3ee5b4d7d74d",
   "metadata": {},
   "outputs": [],
   "source": [
    "# Create a list of column names with GEOMETRY() datatype\n",
    "geo_cols = [col.split()[0] for col in str(res1.tdtypes).split('\\n') if col.split()[1] == 'GEOMETRY()']\n",
    "geo_cols"
   ]
  },
  {
   "cell_type": "markdown",
   "id": "414ede19-2f7d-45bf-8120-009edf2b0f96",
   "metadata": {},
   "source": [
    "<p style = 'font-size:16px;font-family:Arial'>Converting str to geometry in pandas dataframe and then converting the dataframe to GeoPandas Dataframe.</p>"
   ]
  },
  {
   "cell_type": "code",
   "execution_count": null,
   "id": "a3ee4f3e-1a07-48c0-8d06-42e59c3212e3",
   "metadata": {},
   "outputs": [],
   "source": [
    "for i in range(len(geo_cols)):\n",
    "    df[geo_cols[i]] = gpd.GeoSeries.from_wkt(df[geo_cols[i]])"
   ]
  },
  {
   "cell_type": "code",
   "execution_count": null,
   "id": "3146b716-c7ee-4d64-a2d4-e8c5cb1fe267",
   "metadata": {},
   "outputs": [],
   "source": [
    "df.dtypes"
   ]
  },
  {
   "cell_type": "code",
   "execution_count": null,
   "id": "68adb3a5-be15-4573-883d-8ee83bf1756a",
   "metadata": {},
   "outputs": [],
   "source": [
    "type(df)"
   ]
  },
  {
   "cell_type": "code",
   "execution_count": null,
   "id": "99b8e849-a416-41c6-a64c-1835dcd1334d",
   "metadata": {},
   "outputs": [],
   "source": [
    "for i in range(len(geo_cols)):\n",
    "    gdf = gpd.GeoDataFrame(df, geometry=geo_cols[i])\n",
    "    #df[geo_cols[i]] = gpd.GeoSeries.from_wkt(df[geo_cols[i]])"
   ]
  },
  {
   "cell_type": "code",
   "execution_count": null,
   "id": "caae8908-1ae9-4c9d-9a0b-9c55cd56329f",
   "metadata": {},
   "outputs": [],
   "source": [
    "type(gdf)"
   ]
  },
  {
   "cell_type": "markdown",
   "id": "bacee6a4-cb05-48a5-8d33-d653f33a5c8b",
   "metadata": {},
   "source": [
    "<p style = 'font-size:18px;font-family:Arial'><b>3.2 Shape and Tab files</b></p>\n",
    "<p style = 'font-size:16px;font-family:Arial'>Once we have converted our dataframe to Geopandas dataframe we can store it in shape (.shp) or Mapinfo tab formats as needed.</p>"
   ]
  },
  {
   "cell_type": "code",
   "execution_count": null,
   "id": "436791c5-f882-4c81-ab5c-8afad122a820",
   "metadata": {},
   "outputs": [],
   "source": [
    "shp_output_path = \"output_shapefile.shp\"\n",
    "tab_output_path = \"output_tabfile.tab\""
   ]
  },
  {
   "cell_type": "code",
   "execution_count": null,
   "id": "1c55825a-4133-4265-9c18-e98cf5c144d4",
   "metadata": {},
   "outputs": [],
   "source": [
    "# Save to Shapefile\n",
    "gdf.to_file(shp_output_path, driver=\"ESRI Shapefile\")\n",
    "print(f\"Data saved to Shapefile: {shp_output_path}\")"
   ]
  },
  {
   "cell_type": "code",
   "execution_count": null,
   "id": "d11349fa-c379-4909-afb7-190cd2dce993",
   "metadata": {},
   "outputs": [],
   "source": [
    "# Save to MapInfo TAB\n",
    "gdf.to_file(tab_output_path, driver=\"MapInfo File\")\n",
    "print(f\"Data saved to MapInfo TAB: {tab_output_path}\")"
   ]
  },
  {
   "cell_type": "markdown",
   "id": "a8538dfc-3e33-451b-bea6-ab7da4d89cb7",
   "metadata": {},
   "source": [
    "<hr style=\"height:2px;border:none;\">\n",
    "<p style = 'font-size:20px;font-family:Arial'><b>4. Validate the shape files created</b></p>\n",
    "<p style = 'font-size:16px;font-family:Arial'>We can read the shapefile created and validate them.</p>"
   ]
  },
  {
   "cell_type": "code",
   "execution_count": null,
   "id": "4049a736-6112-4a06-938a-fa87239e76b4",
   "metadata": {},
   "outputs": [],
   "source": [
    "# Load the shapefile\n",
    "shapefile_path = \"output_shapefile.shp\"\n",
    "test_gdf = gpd.read_file(shapefile_path)\n",
    "\n",
    "# Display the first few rows\n",
    "print(test_gdf.head())\n",
    "\n",
    "# Check the geometry type\n",
    "print(\"Geometry Type:\", test_gdf.geom_type.unique())\n"
   ]
  },
  {
   "cell_type": "code",
   "execution_count": null,
   "id": "0cb3703f-b81a-4212-86ab-5c1a70e0cb82",
   "metadata": {},
   "outputs": [],
   "source": [
    "from shapely.validation import explain_validity\n",
    "\n",
    "# Check for invalid geometries\n",
    "invalid_geometries = test_gdf[~test_gdf.is_valid]\n",
    "\n",
    "if not invalid_geometries.empty:\n",
    "    print(\"Invalid geometries found:\")\n",
    "    for idx, row in invalid_geometries.iterrows():\n",
    "        print(f\"Index: {idx}, Issue: {explain_validity(row.geometry)}\")\n",
    "else:\n",
    "    print(\"All geometries are valid.\")"
   ]
  },
  {
   "cell_type": "markdown",
   "id": "363ce94e-d079-47a1-a0a4-1fe1936314b5",
   "metadata": {},
   "source": [
    "<p style = 'font-size:20px;font-family:Arial'><b>Conclusion</b></p>\n",
    "<p style = 'font-size:16px;font-family:Arial'>In this functional demo we have seen how we extract the geo data from Teradata and create a .shp or .tab files from it. </p>"
   ]
  },
  {
   "cell_type": "markdown",
   "id": "893ccf58-6e34-4ba2-b1f3-d79c124df336",
   "metadata": {},
   "source": [
    "<hr style=\"height:2px;border:none;\">\n",
    "<p style = 'font-size:20px;font-family:Arial'><b>5. Cleanup</b></p>"
   ]
  },
  {
   "cell_type": "markdown",
   "id": "5ea1f0c8-9c98-45c9-91cf-e5fd9b31c998",
   "metadata": {},
   "source": [
    "<p style = 'font-size:16px;font-family:Arial'>We will use the following code to clean up tables and databases created for this demonstration.</p>"
   ]
  },
  {
   "cell_type": "code",
   "execution_count": null,
   "id": "8e462689-ec4e-4576-823c-d1158a6c0342",
   "metadata": {},
   "outputs": [],
   "source": [
    "%run -i ~/JupyterLabRoot/UseCases/run_procedure.py \"call remove_data('DEMO_TelcoNetwork');\" \n",
    "#Takes 10 seconds"
   ]
  },
  {
   "cell_type": "code",
   "execution_count": null,
   "id": "d99ba188-41f5-4aed-be9b-1bbfd3377453",
   "metadata": {},
   "outputs": [],
   "source": [
    "remove_context()"
   ]
  },
  {
   "cell_type": "markdown",
   "id": "f3e2e4a5-6356-4bee-9db6-77eb21709d10",
   "metadata": {},
   "source": [
    "<footer style=\"padding-bottom:35px; border-bottom:3px solid #91A0Ab\">\n",
    "    <div style=\"float:left;margin-top:14px\">ClearScape Analytics™</div>\n",
    "    <div style=\"float:right;\">\n",
    "        <div style=\"float:left; margin-top:14px\">\n",
    "            Copyright © Teradata Corporation - 2024. All Rights Reserved\n",
    "        </div>\n",
    "    </div>\n",
    "</footer>"
   ]
  }
 ],
 "metadata": {
  "kernelspec": {
   "display_name": "Python 3 (ipykernel)",
   "language": "python",
   "name": "python3"
  },
  "language_info": {
   "codemirror_mode": {
    "name": "ipython",
    "version": 3
   },
   "file_extension": ".py",
   "mimetype": "text/x-python",
   "name": "python",
   "nbconvert_exporter": "python",
   "pygments_lexer": "ipython3",
   "version": "3.9.10"
  }
 },
 "nbformat": 4,
 "nbformat_minor": 5
}
