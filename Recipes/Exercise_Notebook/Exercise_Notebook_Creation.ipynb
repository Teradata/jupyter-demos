{
 "cells": [
  {
   "cell_type": "markdown",
   "id": "3c99412e-456f-4d52-bdbc-9f48bb803fc9",
   "metadata": {},
   "source": [
    "<header>\n",
    "   <p  style='font-size:36px;font-family:Arial;color:#F0F0F0; background-color: #00233c; padding-left: 20pt; padding-top: 20pt;padding-bottom: 10pt; padding-right: 20pt;'>\n",
    "       Exercise Notebook Creation\n",
    "  <br>\n",
    "       <img id=\"teradata-logo\" src=\"https://storage.googleapis.com/clearscape_analytics_demo_data/DEMO_Logo/teradata.svg\" alt=\"Teradata\" style=\"width: 125px; height: auto; margin-top: 20pt;\">\n",
    "    </p>\n",
    "</header>\n",
    "\n",
    "\n",
    "<p style = 'font-size:18px;font-family:Arial;color:#00233C'><b>Introduction</b></p>\n",
    "\n",
    "<p style = 'font-size:16px;font-family:Arial;color:#00233C'>In an era where customer and prospect engagement is vital, especially during workshops and training sessions, creating an interactive and impactful learning experience can significantly enhance outcomes. Workshops often involve passive learning, where participants either observe pre-written code demonstrations or execute them without active involvement. This results in shallow learning experiences, limited engagement, and challenges in catering to varied skill levels within an audience.<br> This notebook addresses these issues by converting code cells into interactive exercises. The create_exercise function intelligently replaces parts of the code in the original notebook with placeholders, requiring participants to actively fill in the gaps. It provides hints and solutions, enabling self-paced learning and accommodating diverse skill levels. Trainers can seamlessly integrate it into existing workshops, ensuring an engaging and productive environment.</p>\n",
    "<p style = 'font-size:18px;font-family:Arial;color:#00233C'><b>Key Features</b></p>\n",
    "<li style = 'font-size:16px;font-family:Arial;color:#00233C'><b>Interactive Exercises:</b> Converts static code cells into exercises with placeholders.</li>\n",
    "<li style = 'font-size:16px;font-family:Arial;color:#00233C'><b>Hints and Solutions:</b> Offers guidance to participants and solutions that can be collapsed or expanded.</li>\n",
    "<li style = 'font-size:16px;font-family:Arial;color:#00233C'><b>Self-Paced Learning:</b> Supports individual progress while maintaining the workshop flow.</li>\n",
    "<li style = 'font-size:16px;font-family:Arial;color:#00233C'><b>Seamless Integration:</b> Works with existing demos in environments like Kiosk Experience.</li>\n",
    "<li style = 'font-size:16px;font-family:Arial;color:#00233C'><b>Customizable Output:</b> Allows trainers to adjust exercises and hints for relevance and clarity.</li></p>"
   ]
  },
  {
   "cell_type": "markdown",
   "id": "4b8d6485-f144-4258-a7b9-0f6dc9bc3676",
   "metadata": {},
   "source": [
    "<hr style=\"height:2px;border:none;background-color:#00233C;\">\n",
    "<p style = 'font-size:20px;font-family:Arial;color:#00233C'><b>1. Configure the environment</b></p>\n",
    "<p style = 'font-size:16px;font-family:Arial;color:#00233C'>In the section, we import the required libraries, get the openAI key and the path of the notebook we want to create the excercise notebook for.</p>"
   ]
  },
  {
   "cell_type": "code",
   "execution_count": null,
   "id": "49969b7b-1254-40bc-8513-8ef3559f7b6a",
   "metadata": {},
   "outputs": [],
   "source": [
    "try:\n",
    "    import openai\n",
    "except:\n",
    "    !pip install openai"
   ]
  },
  {
   "cell_type": "code",
   "execution_count": null,
   "id": "4749c701-861e-47b6-92c9-3c6655af9e80",
   "metadata": {},
   "outputs": [],
   "source": [
    "import create_exercise\n",
    "import getpass"
   ]
  },
  {
   "cell_type": "markdown",
   "id": "6d9d2128-f302-4a74-9e41-53f801991d42",
   "metadata": {},
   "source": [
    "<p style = 'font-size:16px;font-family:Arial;color:#00233C'>Next we will get the path of the notebook we want to create the excercise notebook for. </p>"
   ]
  },
  {
   "cell_type": "code",
   "execution_count": null,
   "id": "007f19ae-3899-4c25-8de5-4570f914b7a5",
   "metadata": {},
   "outputs": [],
   "source": [
    "#use the relative path, e.g ../../UseCases/Anomaly_Detection/Anomaly_Detection_PY_SQL.ipynb\n",
    "filename = input(\"Enter the notebook path:\")"
   ]
  },
  {
   "cell_type": "markdown",
   "id": "8e664235-2a63-4850-bec5-29ee6e7237a8",
   "metadata": {},
   "source": [
    "<p style = 'font-size:16px;font-family:Arial;color:#00233C'>Get the openAi key </p>"
   ]
  },
  {
   "cell_type": "code",
   "execution_count": null,
   "id": "aec3171a-0e8e-4bdf-ad5d-fea5dd72d635",
   "metadata": {},
   "outputs": [],
   "source": [
    "create_exercise.set_openAI_key(getpass.getpass(\"Enter your OpenAI API key here\"))"
   ]
  },
  {
   "cell_type": "markdown",
   "id": "a9530a23-703a-41cf-9091-eabdbc42e25c",
   "metadata": {},
   "source": [
    "<p style = 'font-size:16px;font-family:Arial;color:#00233C'>Call the create_exercise code to create the excercise notebook.</p>"
   ]
  },
  {
   "cell_type": "code",
   "execution_count": null,
   "id": "5fb40f60-24da-4796-8897-cd1e5e158bcf",
   "metadata": {},
   "outputs": [],
   "source": [
    "create_exercise.call_exercise(filename, batch_size=10)"
   ]
  },
  {
   "cell_type": "markdown",
   "id": "1bf339fb-9af4-4716-9e39-9b23f007d886",
   "metadata": {},
   "source": [
    "<p style = 'font-size:16px;font-family:Arial;color:#00233C'>The excercise notebook will be created at the same path as the original notebook having name \"_with-exercise\" appended at the end of notebook name. The next step is to review and adjust the notebook as required. The below image shows the original notebook and the exercise version notebook created using the python function above.</p>\n",
    "<img  src=\"create_exercise/review_and_adjust.png\"/>"
   ]
  },
  {
   "cell_type": "markdown",
   "id": "d976f3b2-fa95-49af-bc0d-fbcbb3721ea9",
   "metadata": {},
   "source": [
    "<footer style=\"padding-bottom:35px; background:#f9f9f9; border-bottom:3px solid #00233C\">\n",
    "<div style=\"float:left;margin-top:14px\">ClearScape Analytics™</div>\n",
    "<div style=\"float:right;\">\n",
    "<div style=\"float:left; margin-top:14px\">\n",
    "            Copyright © Teradata Corporation - 2024. All Rights Reserved\n",
    "</div>\n",
    "</div>\n",
    "</footer>"
   ]
  }
 ],
 "metadata": {
  "kernelspec": {
   "display_name": "Python 3 (ipykernel)",
   "language": "python",
   "name": "python3"
  },
  "language_info": {
   "codemirror_mode": {
    "name": "ipython",
    "version": 3
   },
   "file_extension": ".py",
   "mimetype": "text/x-python",
   "name": "python",
   "nbconvert_exporter": "python",
   "pygments_lexer": "ipython3",
   "version": "3.9.10"
  }
 },
 "nbformat": 4,
 "nbformat_minor": 5
}
