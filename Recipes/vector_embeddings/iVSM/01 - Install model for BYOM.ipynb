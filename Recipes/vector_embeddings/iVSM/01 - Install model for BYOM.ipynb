{
 "cells": [
  {
   "cell_type": "markdown",
   "id": "7ddd76cf-b483-4424-ba27-b1a6a51b345f",
   "metadata": {},
   "source": [
    "# Install a HuggingFace model for BYOM"
   ]
  },
  {
   "cell_type": "markdown",
   "id": "058cad8b-bd6b-417c-b693-23e28807726c",
   "metadata": {},
   "source": [
    "## The installing functions"
   ]
  },
  {
   "cell_type": "code",
   "execution_count": 1,
   "id": "2459ad70-2f87-4d83-98f6-3507a5b52b44",
   "metadata": {},
   "outputs": [],
   "source": [
    "import tdstone2"
   ]
  },
  {
   "cell_type": "markdown",
   "id": "3b5615e5-4e6c-426b-929f-0ebe2c01e15b",
   "metadata": {},
   "source": [
    "## Installing the files in Vantage"
   ]
  },
  {
   "cell_type": "markdown",
   "id": "a164fb78-c36e-4d7d-a823-6481480150b0",
   "metadata": {},
   "source": [
    "### Connect to Vantage"
   ]
  },
  {
   "cell_type": "code",
   "execution_count": 2,
   "id": "cca884a9-b42c-4cf9-b7de-aed56a6c13d3",
   "metadata": {},
   "outputs": [
    {
     "data": {
      "text/plain": [
       "'20.00.00.03'"
      ]
     },
     "execution_count": 2,
     "metadata": {},
     "output_type": "execute_result"
    }
   ],
   "source": [
    "import warnings\n",
    "warnings.filterwarnings('ignore')\n",
    "import time\n",
    "import teradataml as tdml\n",
    "import json\n",
    "import os\n",
    "tdml.__version__"
   ]
  },
  {
   "cell_type": "code",
   "execution_count": 3,
   "id": "159bdb86-59de-49e1-a62d-5711d3cca813",
   "metadata": {},
   "outputs": [
    {
     "data": {
      "text/plain": [
       "Engine(teradatasql://:***@sto-xo0saiv0ot1sxmj2.env.clearscape.teradata.com?DATABASE=demo_user&user=DEMO_USER)"
      ]
     },
     "execution_count": 3,
     "metadata": {},
     "output_type": "execute_result"
    }
   ],
   "source": [
    "with open('../connections/me.json','r') as f:\n",
    "    Param = json.load(f)\n",
    "\n",
    "with open('../connections/csae2.json','r') as f:\n",
    "    Param = json.load(f)\n",
    "\n",
    "with open('../connections/csae.json','r') as f:\n",
    "    Param = json.load(f)\n",
    "\n",
    "with open('../connections/vantage24.json','r') as f:\n",
    "    Param_ = json.load(f)\n",
    "\n",
    "tdml.create_context(**Param)"
   ]
  },
  {
   "cell_type": "code",
   "execution_count": 4,
   "id": "12b68305-0285-4dd7-98bd-34c89b21f683",
   "metadata": {},
   "outputs": [],
   "source": [
    "#tdml.execute_sql('DROP TABLE T_embeddings')\n",
    "#tdml.remove_file(file_identifier='tdstone2_emb_256_prajjwal1_bert_mini', force_remove=True)\n",
    "#tdml.remove_file(file_identifier='tdstone2_emb_256_sentence_transformers_paraphrase_MiniLM_L6_v2',force_remove=True)\n",
    "#tdml.remove_file(file_identifier='tdstone2_emb_256_'+'BAAI/bge-small-en-v1.5'.replace('/','_').replace('.','_').replace('-','_'),force_remove=True)"
   ]
  },
  {
   "cell_type": "markdown",
   "id": "6a900806-df08-4f51-a6e9-283086d50b00",
   "metadata": {},
   "source": [
    "### Install the files on Vantage"
   ]
  },
  {
   "cell_type": "code",
   "execution_count": 5,
   "id": "637c0069-78ae-4b2c-8610-2092aaeb5e72",
   "metadata": {},
   "outputs": [
    {
     "name": "stderr",
     "output_type": "stream",
     "text": [
      "2024-12-20 12:50:45 - WARNING - From C:\\Users\\dm250067\\AppData\\Local\\anaconda3\\envs\\vantage_python\\Lib\\site-packages\\tf_keras\\src\\losses.py:2976: The name tf.losses.sparse_softmax_cross_entropy is deprecated. Please use tf.compat.v1.losses.sparse_softmax_cross_entropy instead.\n",
      "\n",
      "2024-12-20 12:50:45 - INFO - PyTorch version 2.4.1 available.\n",
      "2024-12-20 12:50:45 - INFO - TensorFlow version 2.17.0 available.\n"
     ]
    }
   ],
   "source": [
    "from tdstone2.tdsgenai import install_model_in_vantage_from_name_for_byom"
   ]
  },
  {
   "cell_type": "code",
   "execution_count": 6,
   "id": "63b05a55-3895-4d80-8ddb-b11ae0eccb9c",
   "metadata": {},
   "outputs": [
    {
     "name": "stderr",
     "output_type": "stream",
     "text": [
      "2024-12-20 12:50:46 - INFO - Local directory for model files set to: .\\models\\BAAI_bge-small-en-v1.5\n",
      "2024-12-20 12:50:46 - INFO - Using default database: DEMO_USER\n",
      "2024-12-20 12:50:46 - INFO - Saving tokenizer and embeddings model for: BAAI/bge-small-en-v1.5\n",
      "2024-12-20 12:50:46 - INFO - embeddings model catalog : None in DEMO_USER\n",
      "2024-12-20 12:50:46 - INFO - tokenizer catalog : None in DEMO_USER\n",
      "2024-12-20 12:50:46 - INFO - Created directory: .\\models\\BAAI_bge-small-en-v1.5\n",
      "2024-12-20 12:50:46 - INFO - Downloading tokenizer for model: BAAI/bge-small-en-v1.5\n",
      "2024-12-20 12:50:46 - INFO - Use pytorch device_name: cuda\n",
      "2024-12-20 12:50:46 - INFO - Load pretrained SentenceTransformer: BAAI/bge-small-en-v1.5\n",
      "2024-12-20 12:50:48 - INFO - Tokenizer saved in .\\models\\BAAI_bge-small-en-v1.5\n",
      "2024-12-20 12:50:48 - INFO - the embedding dimension of this model is: 384\n",
      "2024-12-20 12:50:48 - INFO - Embedding dimension saved in .\\models\\BAAI_bge-small-en-v1.5\\embedding_dimension.txt\n",
      "2024-12-20 12:50:48 - INFO - Running optimum-cli export command for model: BAAI/bge-small-en-v1.5\n",
      "2024-12-20 12:50:48 - INFO - optimum-cli command: optimum-cli export onnx --task feature-extraction --opset 16 --trust-remote-code -m BAAI/bge-small-en-v1.5 ./models/BAAI_bge-small-en-v1.5\n",
      "2024-12-20 12:51:06 - INFO - Model exported successfully to ./models/BAAI_bge-small-en-v1.5\n",
      "2024-12-20 12:51:06 - INFO - Refining the ONNX model...\n",
      "2024-12-20 12:51:06 - INFO - Refined ONNX model saved at ./models/BAAI_bge-small-en-v1.5\\full_model.onnx\n",
      "2024-12-20 12:51:06 - INFO - Suboptimal ONNX model ./models/BAAI_bge-small-en-v1.5\\model.onnx removed\n",
      "2024-12-20 12:51:06 - INFO - Install tdstone2_emb_256_BAAI_bge-small-en-v1.5 : upload .\\models\\BAAI_bge-small-en-v1.5\\full_model.onnx in DEMO_USER.TDS_EMBEDDINGS_MODEL_CATALOG\n"
     ]
    },
    {
     "name": "stdout",
     "output_type": "stream",
     "text": [
      "Created the model table 'TDS_EMBEDDINGS_MODEL_CATALOG' as it does not exist.\n"
     ]
    },
    {
     "name": "stderr",
     "output_type": "stream",
     "text": [
      "2024-12-20 12:55:03 - INFO - Install tdstone2_emb_256_BAAI_bge-small-en-v1.5 : upload .\\models\\BAAI_bge-small-en-v1.5\\tokenizer.json in DEMO_USER.TDS_EMBEDDINGS_TOKENIZER_CATALOG\n"
     ]
    },
    {
     "name": "stdout",
     "output_type": "stream",
     "text": [
      "Model is saved.\n",
      "Created the model table 'TDS_EMBEDDINGS_TOKENIZER_CATALOG' as it does not exist.\n"
     ]
    },
    {
     "name": "stderr",
     "output_type": "stream",
     "text": [
      "2024-12-20 12:55:06 - INFO - Database context has been reset to DEMO_USER.\n"
     ]
    },
    {
     "name": "stdout",
     "output_type": "stream",
     "text": [
      "Model is saved.\n"
     ]
    },
    {
     "name": "stderr",
     "output_type": "stream",
     "text": [
      "2024-12-20 12:55:06 - INFO - Model BAAI/bge-small-en-v1.5 has been successfully installed in the DEMO_USER database.\n"
     ]
    }
   ],
   "source": [
    "install_model_in_vantage_from_name_for_byom(sequence_length=256, model_name = 'BAAI/bge-small-en-v1.5', model_task = 'feature-extraction', replace = True)"
   ]
  },
  {
   "cell_type": "markdown",
   "id": "60b728e9-6cc5-41f1-b8d5-6ecd89968a2a",
   "metadata": {},
   "source": [
    "### Check installed files"
   ]
  },
  {
   "cell_type": "code",
   "execution_count": 8,
   "id": "c7855574-8df6-47c2-90df-d192a0964d43",
   "metadata": {},
   "outputs": [],
   "source": [
    "from tdstone2.tdsgenai import list_installed_files_byom"
   ]
  },
  {
   "cell_type": "code",
   "execution_count": 9,
   "id": "1da1fab5-136c-4867-9061-b437feb35072",
   "metadata": {},
   "outputs": [
    {
     "name": "stderr",
     "output_type": "stream",
     "text": [
      "2024-12-20 12:57:59 - INFO - Using default database: DEMO_USER\n",
      "2024-12-20 12:57:59 - INFO - Executing query to list installed embeddings models in TDS_EMBEDDINGS_MODEL_CATALOG and TDS_EMBEDDINGS_TOKENIZER_CATALOG in database DEMO_USER\n",
      "2024-12-20 12:57:59 - INFO - Query executed successfully, returning result\n"
     ]
    },
    {
     "data": {
      "text/html": [
       "<div>\n",
       "<style scoped>\n",
       "    .dataframe tbody tr th:only-of-type {\n",
       "        vertical-align: middle;\n",
       "    }\n",
       "\n",
       "    .dataframe tbody tr th {\n",
       "        vertical-align: top;\n",
       "    }\n",
       "\n",
       "    .dataframe thead th {\n",
       "        text-align: right;\n",
       "    }\n",
       "</style>\n",
       "<table border=\"1\" class=\"dataframe\">\n",
       "  <thead>\n",
       "    <tr style=\"text-align: right;\">\n",
       "      <th></th>\n",
       "      <th>DATABASE_LOCATION</th>\n",
       "      <th>tdstone2_models</th>\n",
       "      <th>file_size</th>\n",
       "      <th>embedding_dimension</th>\n",
       "      <th>sequence_length</th>\n",
       "    </tr>\n",
       "  </thead>\n",
       "  <tbody>\n",
       "    <tr>\n",
       "      <th>0</th>\n",
       "      <td>DEMO_USER</td>\n",
       "      <td>tdstone2_emb_256_BAAI_bge-small-en-v1.5</td>\n",
       "      <td>127.0M</td>\n",
       "      <td>384</td>\n",
       "      <td>256</td>\n",
       "    </tr>\n",
       "  </tbody>\n",
       "</table>\n",
       "</div>"
      ],
      "text/plain": [
       "  DATABASE_LOCATION                          tdstone2_models  \\\n",
       "0         DEMO_USER  tdstone2_emb_256_BAAI_bge-small-en-v1.5   \n",
       "\n",
       "            file_size  embedding_dimension  sequence_length  \n",
       "0              127.0M                  384              256  "
      ]
     },
     "execution_count": 9,
     "metadata": {},
     "output_type": "execute_result"
    }
   ],
   "source": [
    "list_installed_files_byom()"
   ]
  },
  {
   "cell_type": "code",
   "execution_count": 10,
   "id": "ce26c17a-7ad4-43c8-ae5f-6127aa688679",
   "metadata": {},
   "outputs": [
    {
     "data": {
      "text/plain": [
       "True"
      ]
     },
     "execution_count": 10,
     "metadata": {},
     "output_type": "execute_result"
    }
   ],
   "source": [
    "tdml.remove_context()"
   ]
  }
 ],
 "metadata": {
  "kernelspec": {
   "display_name": "Python 3 (ipykernel)",
   "language": "python",
   "name": "python3"
  },
  "language_info": {
   "codemirror_mode": {
    "name": "ipython",
    "version": 3
   },
   "file_extension": ".py",
   "mimetype": "text/x-python",
   "name": "python",
   "nbconvert_exporter": "python",
   "pygments_lexer": "ipython3",
   "version": "3.12.3"
  }
 },
 "nbformat": 4,
 "nbformat_minor": 5
}
