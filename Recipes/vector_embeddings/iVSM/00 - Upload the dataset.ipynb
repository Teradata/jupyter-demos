{
 "cells": [
  {
   "cell_type": "markdown",
   "id": "cee0ad41-ed20-4e2f-9bb9-705ad274623a",
   "metadata": {},
   "source": [
    "## upload the data"
   ]
  },
  {
   "cell_type": "markdown",
   "id": "fef00a06-ff6f-4979-ba41-14e566d7b2b3",
   "metadata": {},
   "source": [
    "### Connect to Vantage"
   ]
  },
  {
   "cell_type": "code",
   "execution_count": 1,
   "id": "ccda4771-4526-4c9c-89a0-f66300c109a2",
   "metadata": {},
   "outputs": [
    {
     "data": {
      "text/plain": [
       "'20.00.00.03'"
      ]
     },
     "execution_count": 1,
     "metadata": {},
     "output_type": "execute_result"
    }
   ],
   "source": [
    "import warnings\n",
    "warnings.filterwarnings('ignore')\n",
    "import time\n",
    "import teradataml as tdml\n",
    "import json\n",
    "import os\n",
    "tdml.__version__"
   ]
  },
  {
   "cell_type": "markdown",
   "id": "55771661-9092-47bb-888a-bb7ee482bb9c",
   "metadata": {},
   "source": [
    "import teradata as tdml\n",
    "import getpass\n",
    "Param = {\n",
    "    'host': '<teradata hostname or ip>',\n",
    "    'user': '<user>',\n",
    "    'password': getpass.getpass(),\n",
    "    'database': '<database par defaut>',\n",
    "    'temp_database_name': '<user name>',\n",
    "    'logmech' : '<LDAP ou TDNEGO ou TD2>'\n",
    "}\n",
    "\n",
    "tdml.create_context(**Param)"
   ]
  },
  {
   "cell_type": "code",
   "execution_count": 2,
   "id": "d5ab5979-a730-406f-8d8f-3c50016d4342",
   "metadata": {},
   "outputs": [
    {
     "name": "stdout",
     "output_type": "stream",
     "text": [
      "{'host': 'sto-xo0saiv0ot1sxmj2.env.clearscape.teradata.com', 'user': 'demo_user', 'password': 'demouser', 'database': 'demo_user', 'temp_database_name': 'demo_user'}\n"
     ]
    },
    {
     "data": {
      "text/plain": [
       "Engine(teradatasql://:***@sto-xo0saiv0ot1sxmj2.env.clearscape.teradata.com?DATABASE=demo_user&user=DEMO_USER)"
      ]
     },
     "execution_count": 2,
     "metadata": {},
     "output_type": "execute_result"
    }
   ],
   "source": [
    "with open('../connections/me.json','r') as f:\n",
    "    Param = json.load(f)\n",
    "\n",
    "with open('../connections/csae2.json','r') as f:\n",
    "    Param = json.load(f)\n",
    "\n",
    "with open('../connections/csae.json','r') as f:\n",
    "    Param = json.load(f)\n",
    "\n",
    "with open('../connections/vantage24.json','r') as f:\n",
    "    Param_ = json.load(f)\n",
    "\n",
    "tdml.create_context(**Param)"
   ]
  },
  {
   "cell_type": "code",
   "execution_count": 3,
   "id": "cf4aca6b-da39-4367-9ce0-426393794f19",
   "metadata": {},
   "outputs": [
    {
     "data": {
      "text/html": [
       "<div>\n",
       "<style scoped>\n",
       "    .dataframe tbody tr th:only-of-type {\n",
       "        vertical-align: middle;\n",
       "    }\n",
       "\n",
       "    .dataframe tbody tr th {\n",
       "        vertical-align: top;\n",
       "    }\n",
       "\n",
       "    .dataframe thead th {\n",
       "        text-align: right;\n",
       "    }\n",
       "</style>\n",
       "<table border=\"1\" class=\"dataframe\">\n",
       "  <thead>\n",
       "    <tr style=\"text-align: right;\">\n",
       "      <th></th>\n",
       "      <th>id</th>\n",
       "      <th>Problem_Type</th>\n",
       "      <th>User_Question</th>\n",
       "    </tr>\n",
       "  </thead>\n",
       "  <tbody>\n",
       "    <tr>\n",
       "      <th>0</th>\n",
       "      <td>0</td>\n",
       "      <td>Installation Issue</td>\n",
       "      <td>Why can't I install the software on my machine?</td>\n",
       "    </tr>\n",
       "    <tr>\n",
       "      <th>1</th>\n",
       "      <td>1</td>\n",
       "      <td>Installation Issue</td>\n",
       "      <td>What do I do if the installer keeps crashing?</td>\n",
       "    </tr>\n",
       "    <tr>\n",
       "      <th>2</th>\n",
       "      <td>2</td>\n",
       "      <td>Installation Issue</td>\n",
       "      <td>How do I resolve dependency errors during inst...</td>\n",
       "    </tr>\n",
       "    <tr>\n",
       "      <th>3</th>\n",
       "      <td>3</td>\n",
       "      <td>Installation Issue</td>\n",
       "      <td>Why is my antivirus blocking the software inst...</td>\n",
       "    </tr>\n",
       "    <tr>\n",
       "      <th>4</th>\n",
       "      <td>4</td>\n",
       "      <td>Performance Issue</td>\n",
       "      <td>Why is the software running so slowly?</td>\n",
       "    </tr>\n",
       "    <tr>\n",
       "      <th>5</th>\n",
       "      <td>5</td>\n",
       "      <td>Performance Issue</td>\n",
       "      <td>How do I fix memory issues causing the softwar...</td>\n",
       "    </tr>\n",
       "    <tr>\n",
       "      <th>6</th>\n",
       "      <td>6</td>\n",
       "      <td>Performance Issue</td>\n",
       "      <td>What can I do if the software takes too long t...</td>\n",
       "    </tr>\n",
       "    <tr>\n",
       "      <th>7</th>\n",
       "      <td>7</td>\n",
       "      <td>Performance Issue</td>\n",
       "      <td>Why is the CPU usage so high when using the so...</td>\n",
       "    </tr>\n",
       "    <tr>\n",
       "      <th>8</th>\n",
       "      <td>8</td>\n",
       "      <td>Functionality Issue</td>\n",
       "      <td>Why is the 'Save' button not working?</td>\n",
       "    </tr>\n",
       "    <tr>\n",
       "      <th>9</th>\n",
       "      <td>9</td>\n",
       "      <td>Functionality Issue</td>\n",
       "      <td>How do I troubleshoot errors when trying to ex...</td>\n",
       "    </tr>\n",
       "    <tr>\n",
       "      <th>10</th>\n",
       "      <td>10</td>\n",
       "      <td>Functionality Issue</td>\n",
       "      <td>Why does the software keep freezing when I try...</td>\n",
       "    </tr>\n",
       "    <tr>\n",
       "      <th>11</th>\n",
       "      <td>11</td>\n",
       "      <td>Functionality Issue</td>\n",
       "      <td>What should I do if features are missing after...</td>\n",
       "    </tr>\n",
       "  </tbody>\n",
       "</table>\n",
       "</div>"
      ],
      "text/plain": [
       "    id         Problem_Type                                      User_Question\n",
       "0    0   Installation Issue    Why can't I install the software on my machine?\n",
       "1    1   Installation Issue      What do I do if the installer keeps crashing?\n",
       "2    2   Installation Issue  How do I resolve dependency errors during inst...\n",
       "3    3   Installation Issue  Why is my antivirus blocking the software inst...\n",
       "4    4    Performance Issue             Why is the software running so slowly?\n",
       "5    5    Performance Issue  How do I fix memory issues causing the softwar...\n",
       "6    6    Performance Issue  What can I do if the software takes too long t...\n",
       "7    7    Performance Issue  Why is the CPU usage so high when using the so...\n",
       "8    8  Functionality Issue              Why is the 'Save' button not working?\n",
       "9    9  Functionality Issue  How do I troubleshoot errors when trying to ex...\n",
       "10  10  Functionality Issue  Why does the software keep freezing when I try...\n",
       "11  11  Functionality Issue  What should I do if features are missing after..."
      ]
     },
     "execution_count": 3,
     "metadata": {},
     "output_type": "execute_result"
    }
   ],
   "source": [
    "import pandas as pd\n",
    "import numpy as np\n",
    "\n",
    "# Define the three types of software problems and corresponding questions\n",
    "problems_data = {\n",
    "    \"Problem_Type\": [\"Installation Issue\", \"Performance Issue\", \"Functionality Issue\"],\n",
    "    \"User_Question\": [\n",
    "        [\n",
    "            \"Why can't I install the software on my machine?\",\n",
    "            \"What do I do if the installer keeps crashing?\",\n",
    "            \"How do I resolve dependency errors during installation?\",\n",
    "            \"Why is my antivirus blocking the software installation?\"\n",
    "        ],\n",
    "        [\n",
    "            \"Why is the software running so slowly?\",\n",
    "            \"How do I fix memory issues causing the software to crash?\",\n",
    "            \"What can I do if the software takes too long to load?\",\n",
    "            \"Why is the CPU usage so high when using the software?\"\n",
    "        ],\n",
    "        [\n",
    "            \"Why is the 'Save' button not working?\",\n",
    "            \"How do I troubleshoot errors when trying to export data?\",\n",
    "            \"Why does the software keep freezing when I try to open certain files?\",\n",
    "            \"What should I do if features are missing after an update?\"\n",
    "        ]\n",
    "    ]\n",
    "}\n",
    "\n",
    "# Convert the dictionary into a pandas DataFrame\n",
    "df = pd.DataFrame(problems_data)\n",
    "\n",
    "# Expanding the dataframe so each row corresponds to one question\n",
    "expanded_rows = []\n",
    "\n",
    "for index, row in df.iterrows():\n",
    "    problem_type = row[\"Problem_Type\"]\n",
    "    questions = row[\"User_Question\"]\n",
    "    for question in questions:\n",
    "        expanded_rows.append({\"Problem_Type\": problem_type, \"User_Question\": question})\n",
    "\n",
    "# Create a new DataFrame with the expanded rows\n",
    "df = pd.DataFrame(expanded_rows)\n",
    "df['id'] = df.index\n",
    "df = df[['id','Problem_Type','User_Question']]\n",
    "df"
   ]
  },
  {
   "cell_type": "code",
   "execution_count": 4,
   "id": "9bb4727a-1cab-4dc2-a86d-6a82381fa3d0",
   "metadata": {},
   "outputs": [],
   "source": [
    "tdml.copy_to_sql(df, schema_name = Param['database'], table_name = 'questions', if_exists = 'replace')"
   ]
  },
  {
   "cell_type": "code",
   "execution_count": 5,
   "id": "19195aff-1ebd-48b3-acb6-a1ef01c8ce0f",
   "metadata": {},
   "outputs": [
    {
     "data": {
      "text/html": [
       "<style type=\"text/css\">\n",
       "\ttable {border:ridge 5px;}\n",
       "\ttable td {border:inset 1px;}\n",
       "\ttable tr#HeaderRow {background-color:grey; color:white;}</style>\n",
       "<html><table>\n",
       "\t<tr id=\"HeaderRow\">\n",
       "\t\t<th>id</th>\n",
       "\t\t<th>Problem_Type</th>\n",
       "\t\t<th>User_Question</th>\n",
       "\t</tr>\n",
       "\t<tr>\n",
       "\t\t<td>2</td>\n",
       "\t\t<td>Installation Issue</td>\n",
       "\t\t<td>How do I resolve dependency errors during installation?</td>\n",
       "\t</tr>\n",
       "\t<tr>\n",
       "\t\t<td>4</td>\n",
       "\t\t<td>Performance Issue</td>\n",
       "\t\t<td>Why is the software running so slowly?</td>\n",
       "\t</tr>\n",
       "\t<tr>\n",
       "\t\t<td>5</td>\n",
       "\t\t<td>Performance Issue</td>\n",
       "\t\t<td>How do I fix memory issues causing the software to crash?</td>\n",
       "\t</tr>\n",
       "\t<tr>\n",
       "\t\t<td>6</td>\n",
       "\t\t<td>Performance Issue</td>\n",
       "\t\t<td>What can I do if the software takes too long to load?</td>\n",
       "\t</tr>\n",
       "\t<tr>\n",
       "\t\t<td>8</td>\n",
       "\t\t<td>Functionality Issue</td>\n",
       "\t\t<td>Why is the 'Save' button not working?</td>\n",
       "\t</tr>\n",
       "\t<tr>\n",
       "\t\t<td>9</td>\n",
       "\t\t<td>Functionality Issue</td>\n",
       "\t\t<td>How do I troubleshoot errors when trying to export data?</td>\n",
       "\t</tr>\n",
       "\t<tr>\n",
       "\t\t<td>7</td>\n",
       "\t\t<td>Performance Issue</td>\n",
       "\t\t<td>Why is the CPU usage so high when using the software?</td>\n",
       "\t</tr>\n",
       "\t<tr>\n",
       "\t\t<td>3</td>\n",
       "\t\t<td>Installation Issue</td>\n",
       "\t\t<td>Why is my antivirus blocking the software installation?</td>\n",
       "\t</tr>\n",
       "\t<tr>\n",
       "\t\t<td>1</td>\n",
       "\t\t<td>Installation Issue</td>\n",
       "\t\t<td>What do I do if the installer keeps crashing?</td>\n",
       "\t</tr>\n",
       "\t<tr>\n",
       "\t\t<td>0</td>\n",
       "\t\t<td>Installation Issue</td>\n",
       "\t\t<td>Why can't I install the software on my machine?</td>\n",
       "\t</tr>\n",
       "</table></html>"
      ],
      "text/plain": [
       "   id         Problem_Type                                              User_Question\n",
       "0   2   Installation Issue    How do I resolve dependency errors during installation?\n",
       "1   4    Performance Issue                     Why is the software running so slowly?\n",
       "2   5    Performance Issue  How do I fix memory issues causing the software to crash?\n",
       "3   6    Performance Issue      What can I do if the software takes too long to load?\n",
       "4   8  Functionality Issue                      Why is the 'Save' button not working?\n",
       "5   9  Functionality Issue   How do I troubleshoot errors when trying to export data?\n",
       "6   7    Performance Issue      Why is the CPU usage so high when using the software?\n",
       "7   3   Installation Issue    Why is my antivirus blocking the software installation?\n",
       "8   1   Installation Issue              What do I do if the installer keeps crashing?\n",
       "9   0   Installation Issue            Why can't I install the software on my machine?"
      ]
     },
     "execution_count": 5,
     "metadata": {},
     "output_type": "execute_result"
    }
   ],
   "source": [
    "dataset = tdml.DataFrame(tdml.in_schema(Param['database'] , 'questions'))\n",
    "dataset"
   ]
  },
  {
   "cell_type": "code",
   "execution_count": 6,
   "id": "6178fbc2-6691-4247-b4a9-cdcee00ed3eb",
   "metadata": {},
   "outputs": [
    {
     "data": {
      "text/plain": [
       "4"
      ]
     },
     "execution_count": 6,
     "metadata": {},
     "output_type": "execute_result"
    }
   ],
   "source": [
    "nb_amps = tdml.execute_sql('SEL HASHAMP()').fetchall()[0][0]+1\n",
    "nb_amps"
   ]
  },
  {
   "cell_type": "code",
   "execution_count": 7,
   "id": "02354b32-c15c-40bc-a855-6d75a4b2f3e4",
   "metadata": {},
   "outputs": [],
   "source": [
    "from tdstone2.data_distribution import InverseHash, EquallyDistribute\n",
    "from tdstone2.dataset_generation import gen_query"
   ]
  },
  {
   "cell_type": "code",
   "execution_count": 8,
   "id": "0e7df3cf-dca2-4d56-9c8a-360cb69b0fb3",
   "metadata": {},
   "outputs": [
    {
     "data": {
      "text/html": [
       "<style type=\"text/css\">\n",
       "\ttable {border:ridge 5px;}\n",
       "\ttable td {border:inset 1px;}\n",
       "\ttable tr#HeaderRow {background-color:grey; color:white;}</style>\n",
       "<html><table>\n",
       "\t<tr id=\"HeaderRow\">\n",
       "\t\t<th>User_Question</th>\n",
       "\t\t<th>Partition_ID</th>\n",
       "\t</tr>\n",
       "\t<tr>\n",
       "\t\t<td>Why can't I install the software on my machine?</td>\n",
       "\t\t<td>2</td>\n",
       "\t</tr>\n",
       "\t<tr>\n",
       "\t\t<td>What do I do if the installer keeps crashing?</td>\n",
       "\t\t<td>0</td>\n",
       "\t</tr>\n",
       "\t<tr>\n",
       "\t\t<td>What do I do if the installer keeps crashing?</td>\n",
       "\t\t<td>1</td>\n",
       "\t</tr>\n",
       "\t<tr>\n",
       "\t\t<td>What do I do if the installer keeps crashing?</td>\n",
       "\t\t<td>2</td>\n",
       "\t</tr>\n",
       "\t<tr>\n",
       "\t\t<td>How do I resolve dependency errors during installation?</td>\n",
       "\t\t<td>0</td>\n",
       "\t</tr>\n",
       "\t<tr>\n",
       "\t\t<td>How do I resolve dependency errors during installation?</td>\n",
       "\t\t<td>1</td>\n",
       "\t</tr>\n",
       "\t<tr>\n",
       "\t\t<td>What do I do if the installer keeps crashing?</td>\n",
       "\t\t<td>3</td>\n",
       "\t</tr>\n",
       "\t<tr>\n",
       "\t\t<td>Why can't I install the software on my machine?</td>\n",
       "\t\t<td>3</td>\n",
       "\t</tr>\n",
       "\t<tr>\n",
       "\t\t<td>Why can't I install the software on my machine?</td>\n",
       "\t\t<td>1</td>\n",
       "\t</tr>\n",
       "\t<tr>\n",
       "\t\t<td>Why can't I install the software on my machine?</td>\n",
       "\t\t<td>0</td>\n",
       "\t</tr>\n",
       "</table></html>"
      ],
      "text/plain": [
       "                                             User_Question  Partition_ID\n",
       "0          Why can't I install the software on my machine?             2\n",
       "1            What do I do if the installer keeps crashing?             0\n",
       "2            What do I do if the installer keeps crashing?             1\n",
       "3            What do I do if the installer keeps crashing?             2\n",
       "4  How do I resolve dependency errors during installation?             0\n",
       "5  How do I resolve dependency errors during installation?             1\n",
       "6            What do I do if the installer keeps crashing?             3\n",
       "7          Why can't I install the software on my machine?             3\n",
       "8          Why can't I install the software on my machine?             1\n",
       "9          Why can't I install the software on my machine?             0"
      ]
     },
     "execution_count": 8,
     "metadata": {},
     "output_type": "execute_result"
    }
   ],
   "source": [
    "df = gen_query(dataset[['User_Question']],n=1)[['User_Question']] # Generate a single partition\n",
    "df = gen_query(df, n=nb_amps, replication_column = 'Partition_ID')\n",
    "df"
   ]
  },
  {
   "cell_type": "code",
   "execution_count": 9,
   "id": "3a2bce2c-8376-436a-86fe-a4c1124c829a",
   "metadata": {},
   "outputs": [],
   "source": [
    "df = EquallyDistribute(df)"
   ]
  },
  {
   "cell_type": "code",
   "execution_count": 10,
   "id": "eed23004-7045-4ed8-9eca-f0dbdf80b284",
   "metadata": {},
   "outputs": [
    {
     "data": {
      "text/html": [
       "<style type=\"text/css\">\n",
       "\ttable {border:ridge 5px;}\n",
       "\ttable td {border:inset 1px;}\n",
       "\ttable tr#HeaderRow {background-color:grey; color:white;}</style>\n",
       "<html><table>\n",
       "\t<tr id=\"HeaderRow\">\n",
       "\t\t<th>Id</th>\n",
       "\t\t<th>Problem_Type</th>\n",
       "\t\t<th>User_Question</th>\n",
       "\t</tr>\n",
       "\t<tr>\n",
       "\t\t<td>135</td>\n",
       "\t\t<td>1</td>\n",
       "\t\t<td>Why is the 'Save' button not working?</td>\n",
       "\t</tr>\n",
       "\t<tr>\n",
       "\t\t<td>59</td>\n",
       "\t\t<td>9</td>\n",
       "\t\t<td>Why is my antivirus blocking the software installation?</td>\n",
       "\t</tr>\n",
       "\t<tr>\n",
       "\t\t<td>99</td>\n",
       "\t\t<td>6</td>\n",
       "\t\t<td>How do I fix memory issues causing the software to crash?</td>\n",
       "\t</tr>\n",
       "\t<tr>\n",
       "\t\t<td>183</td>\n",
       "\t\t<td>1</td>\n",
       "\t\t<td>What should I do if features are missing after an update?</td>\n",
       "\t</tr>\n",
       "\t<tr>\n",
       "\t\t<td>43</td>\n",
       "\t\t<td>9</td>\n",
       "\t\t<td>How do I resolve dependency errors during installation?</td>\n",
       "\t</tr>\n",
       "\t<tr>\n",
       "\t\t<td>139</td>\n",
       "\t\t<td>9</td>\n",
       "\t\t<td>Why is the 'Save' button not working?</td>\n",
       "\t</tr>\n",
       "\t<tr>\n",
       "\t\t<td>179</td>\n",
       "\t\t<td>6</td>\n",
       "\t\t<td>Why does the software keep freezing when I try to open certain files?</td>\n",
       "\t</tr>\n",
       "\t<tr>\n",
       "\t\t<td>11</td>\n",
       "\t\t<td>9</td>\n",
       "\t\t<td>Why can't I install the software on my machine?</td>\n",
       "\t</tr>\n",
       "\t<tr>\n",
       "\t\t<td>131</td>\n",
       "\t\t<td>6</td>\n",
       "\t\t<td>Why is the CPU usage so high when using the software?</td>\n",
       "\t</tr>\n",
       "\t<tr>\n",
       "\t\t<td>19</td>\n",
       "\t\t<td>6</td>\n",
       "\t\t<td>Why can't I install the software on my machine?</td>\n",
       "\t</tr>\n",
       "</table></html>"
      ],
      "text/plain": [
       "     Problem_Type                                                          User_Question\n",
       "Id                                                                                      \n",
       "135             1                                  Why is the 'Save' button not working?\n",
       "59              9                Why is my antivirus blocking the software installation?\n",
       "99              6              How do I fix memory issues causing the software to crash?\n",
       "183             1              What should I do if features are missing after an update?\n",
       "43              9                How do I resolve dependency errors during installation?\n",
       "139             9                                  Why is the 'Save' button not working?\n",
       "179             6  Why does the software keep freezing when I try to open certain files?\n",
       "11              9                        Why can't I install the software on my machine?\n",
       "131             6                  Why is the CPU usage so high when using the software?\n",
       "19              6                        Why can't I install the software on my machine?"
      ]
     },
     "execution_count": 10,
     "metadata": {},
     "output_type": "execute_result"
    }
   ],
   "source": [
    "df = df.assign(Problem_Type = df.Partition_ID)\n",
    "df = tdml.FillRowId(data=df,\n",
    "                    row_id_column='Id'\n",
    "                   ).result\n",
    "df[['Id','Problem_Type','User_Question']].to_sql(\n",
    "    schema_name= Param['database'],\n",
    "    table_name='questions_large',\n",
    "    primary_index = 'Id',\n",
    "    if_exists = 'replace'\n",
    ")\n",
    "dataset_large = tdml.DataFrame(tdml.in_schema(Param['database'], 'questions_large'))\n",
    "dataset_large"
   ]
  },
  {
   "cell_type": "code",
   "execution_count": 11,
   "id": "abad8682-5f0a-42d3-948c-c7dc6756bdf3",
   "metadata": {},
   "outputs": [
    {
     "data": {
      "text/html": [
       "<style type=\"text/css\">\n",
       "\ttable {border:ridge 5px;}\n",
       "\ttable td {border:inset 1px;}\n",
       "\ttable tr#HeaderRow {background-color:grey; color:white;}</style>\n",
       "<html><table>\n",
       "\t<tr id=\"HeaderRow\">\n",
       "\t\t<th>AMP_ID</th>\n",
       "\t\t<th>Nb_Partitions</th>\n",
       "\t\t<th>Nb_rows</th>\n",
       "\t</tr>\n",
       "\t<tr>\n",
       "\t\t<td>1</td>\n",
       "\t\t<td>1</td>\n",
       "\t\t<td>12</td>\n",
       "\t</tr>\n",
       "\t<tr>\n",
       "\t\t<td>2</td>\n",
       "\t\t<td>1</td>\n",
       "\t\t<td>12</td>\n",
       "\t</tr>\n",
       "\t<tr>\n",
       "\t\t<td>3</td>\n",
       "\t\t<td>1</td>\n",
       "\t\t<td>12</td>\n",
       "\t</tr>\n",
       "\t<tr>\n",
       "\t\t<td>0</td>\n",
       "\t\t<td>1</td>\n",
       "\t\t<td>12</td>\n",
       "\t</tr>\n",
       "</table></html>"
      ],
      "text/plain": [
       "   AMP_ID  Nb_Partitions  Nb_rows\n",
       "0       1              1       12\n",
       "1       2              1       12\n",
       "2       3              1       12\n",
       "3       0              1       12"
      ]
     },
     "execution_count": 11,
     "metadata": {},
     "output_type": "execute_result"
    },
    {
     "data": {
      "image/png": "[encoded data removed]",
      "text/plain": [
       "<Figure size 3000x1000 with 1 Axes>"
      ]
     },
     "metadata": {},
     "output_type": "display_data"
    }
   ],
   "source": [
    "from tdstone2.data_distribution import PlotDistribution\n",
    "PlotDistribution(Param['database'], 'questions_large', partition = 'Problem_Type')"
   ]
  },
  {
   "cell_type": "code",
   "execution_count": 12,
   "id": "99ba3f16-7caf-45a2-95f1-5e8a2e623a38",
   "metadata": {},
   "outputs": [
    {
     "data": {
      "text/plain": [
       "True"
      ]
     },
     "execution_count": 12,
     "metadata": {},
     "output_type": "execute_result"
    }
   ],
   "source": [
    "tdml.remove_context()"
   ]
  },
  {
   "cell_type": "code",
   "execution_count": null,
   "id": "b6fe4bf5-8b40-46c1-acf3-3d87a2b3bd9b",
   "metadata": {},
   "outputs": [],
   "source": []
  }
 ],
 "metadata": {
  "kernelspec": {
   "display_name": "Python 3 (ipykernel)",
   "language": "python",
   "name": "python3"
  },
  "language_info": {
   "codemirror_mode": {
    "name": "ipython",
    "version": 3
   },
   "file_extension": ".py",
   "mimetype": "text/x-python",
   "name": "python",
   "nbconvert_exporter": "python",
   "pygments_lexer": "ipython3",
   "version": "3.12.3"
  }
 },
 "nbformat": 4,
 "nbformat_minor": 5
}
