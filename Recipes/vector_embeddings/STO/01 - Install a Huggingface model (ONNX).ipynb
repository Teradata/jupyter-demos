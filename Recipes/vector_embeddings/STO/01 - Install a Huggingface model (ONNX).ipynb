{
 "cells": [
  {
   "cell_type": "markdown",
   "id": "b4cf7317-5117-44f2-ba73-a5d97bfbe6f8",
   "metadata": {},
   "source": [
    "# Install a HuggingFace model for Script Table Operator"
   ]
  },
  {
   "cell_type": "markdown",
   "id": "41c9b7c9-27b9-440b-b2c0-1a3cee88aca1",
   "metadata": {},
   "source": [
    "## The installing functions"
   ]
  },
  {
   "cell_type": "code",
   "execution_count": 1,
   "id": "2d4399f0-f8fb-4862-bc99-e0ced80c14cc",
   "metadata": {},
   "outputs": [],
   "source": [
    "import tdstone2"
   ]
  },
  {
   "cell_type": "markdown",
   "id": "96952ca7-ae22-455c-978d-677cc2c006a2",
   "metadata": {},
   "source": [
    "## Installing the files in Vantage"
   ]
  },
  {
   "cell_type": "markdown",
   "id": "21c4e2f4-919d-4937-ac86-c04bf7015beb",
   "metadata": {},
   "source": [
    "### Connect to Vantage"
   ]
  },
  {
   "cell_type": "code",
   "execution_count": 2,
   "id": "29a7b098-5223-4b9f-8be6-a5ab1064bc2e",
   "metadata": {},
   "outputs": [
    {
     "data": {
      "text/plain": [
       "'20.00.00.03'"
      ]
     },
     "execution_count": 2,
     "metadata": {},
     "output_type": "execute_result"
    }
   ],
   "source": [
    "import warnings\n",
    "warnings.filterwarnings('ignore')\n",
    "import time\n",
    "import teradataml as tdml\n",
    "import json\n",
    "import os\n",
    "tdml.__version__"
   ]
  },
  {
   "cell_type": "code",
   "execution_count": 3,
   "id": "708f8519-d667-4398-8787-9c094e9184c5",
   "metadata": {},
   "outputs": [
    {
     "data": {
      "text/plain": [
       "Engine(teradatasql://:***@sto-xo0saiv0ot1sxmj2.env.clearscape.teradata.com?DATABASE=demo_user&user=DEMO_USER)"
      ]
     },
     "execution_count": 3,
     "metadata": {},
     "output_type": "execute_result"
    }
   ],
   "source": [
    "with open('../connections/me.json','r') as f:\n",
    "    Param = json.load(f)\n",
    "\n",
    "with open('../connections/csae2.json','r') as f:\n",
    "    Param_ = json.load(f)\n",
    "\n",
    "with open('../connections/csae.json','r') as f:\n",
    "    Param = json.load(f)\n",
    "\n",
    "with open('../connections/vantage24.json','r') as f:\n",
    "    Param_ = json.load(f)\n",
    "    \n",
    "tdml.create_context(**Param)"
   ]
  },
  {
   "cell_type": "code",
   "execution_count": 4,
   "id": "ec4663dd-fb59-4689-a61a-f7ad1b92ce45",
   "metadata": {},
   "outputs": [],
   "source": [
    "#tdml.execute_sql('DROP TABLE T_embeddings')\n",
    "#tdml.remove_file(file_identifier='tdstone2_emb_256_prajjwal1_bert_mini', force_remove=True)\n",
    "#tdml.remove_file(file_identifier='tdstone2_emb_256_sentence_transformers_paraphrase_MiniLM_L6_v2',force_remove=True)\n",
    "#tdml.remove_file(file_identifier='tdstone2_emb_256_'+'BAAI/bge-small-en-v1.5'.replace('/','_').replace('.','_').replace('-','_'),force_remove=True)"
   ]
  },
  {
   "cell_type": "markdown",
   "id": "7d4a76ea-7d1b-47c2-9275-5c8879bba23a",
   "metadata": {},
   "source": [
    "### Install tdstone2 framework"
   ]
  },
  {
   "cell_type": "code",
   "execution_count": 5,
   "id": "1b545169-0ab9-4f28-a22c-cc03f85cfbdb",
   "metadata": {},
   "outputs": [
    {
     "name": "stderr",
     "output_type": "stream",
     "text": [
      "Processing tables/views: 100%|██████████| 2/2 [00:00<?, ?table/view/s]\n"
     ]
    }
   ],
   "source": [
    "from tdstone2.utils import cleanup\n",
    "                   \n",
    "cleanup(schema=Param['database'])\n",
    "         "
   ]
  },
  {
   "cell_type": "code",
   "execution_count": 6,
   "id": "4f27f72f-10ff-4b90-891c-66dcae4f4d4d",
   "metadata": {},
   "outputs": [],
   "source": [
    "from tdstone2.tdstone import TDStone\n",
    "sto = TDStone(schema_name = Param['database'], SEARCHUIFDBPATH = Param['database'])"
   ]
  },
  {
   "cell_type": "code",
   "execution_count": 7,
   "id": "541a6657-9fc5-4161-adc0-1e2c7df51732",
   "metadata": {},
   "outputs": [
    {
     "name": "stderr",
     "output_type": "stream",
     "text": [
      "Installing tds_vector_embedding_lake: 100%|██████████| 7/7 [00:00<00:00, 1276.19it/s]\n"
     ]
    },
    {
     "name": "stdout",
     "output_type": "stream",
     "text": [
      "[Version 20.0.0.20] [Session 1131] [Teradata Database] [Error 9852] The file DEMO_USER.tds_feature_engineering does not exist in the database.\n",
      "CALL SYSUIF.REMOVE_FILE('tds_feature_engineering',1);\n",
      "[Version 20.0.0.20] [Session 1131] [Teradata Database] [Error 9852] The file DEMO_USER.tds_feature_engineering_reducer does not exist in the database.\n",
      "CALL SYSUIF.REMOVE_FILE('tds_feature_engineering_reducer',1);\n",
      "[Version 20.0.0.20] [Session 1131] [Teradata Database] [Error 9852] The file DEMO_USER.tds_training does not exist in the database.\n",
      "CALL SYSUIF.REMOVE_FILE('tds_training',1);\n",
      "[Version 20.0.0.20] [Session 1131] [Teradata Database] [Error 9852] The file DEMO_USER.tds_scoring does not exist in the database.\n",
      "CALL SYSUIF.REMOVE_FILE('tds_scoring',1);\n",
      "[Version 20.0.0.20] [Session 1131] [Teradata Database] [Error 9852] The file DEMO_USER.tds_feature_engineering_jsonoutput does not exist in the database.\n",
      "CALL SYSUIF.REMOVE_FILE('tds_feature_engineering_jsonoutput',1);\n",
      "[Version 20.0.0.20] [Session 1131] [Teradata Database] [Error 9852] The file DEMO_USER.tds_vector_embedding does not exist in the database.\n",
      "CALL SYSUIF.REMOVE_FILE('tds_vector_embedding',1);\n",
      "[Version 20.0.0.20] [Session 1131] [Teradata Database] [Error 9852] The file DEMO_USER.tds_vector_embedding_lake does not exist in the database.\n",
      "CALL SYSUIF.REMOVE_FILE('tds_vector_embedding_lake',1);\n"
     ]
    }
   ],
   "source": [
    "sto.PushFile()"
   ]
  },
  {
   "cell_type": "markdown",
   "id": "ce646eaf-a96b-4e02-99c7-d732aa58e1c4",
   "metadata": {},
   "source": [
    "### Install the files on Vantage"
   ]
  },
  {
   "cell_type": "code",
   "execution_count": 8,
   "id": "32bf62bb-b195-4e80-bd11-94e036d44f4d",
   "metadata": {},
   "outputs": [
    {
     "name": "stderr",
     "output_type": "stream",
     "text": [
      "2024-12-20 12:30:21 - WARNING - From C:\\Users\\dm250067\\AppData\\Local\\anaconda3\\envs\\vantage_python\\Lib\\site-packages\\tf_keras\\src\\losses.py:2976: The name tf.losses.sparse_softmax_cross_entropy is deprecated. Please use tf.compat.v1.losses.sparse_softmax_cross_entropy instead.\n",
      "\n",
      "2024-12-20 12:30:21 - INFO - PyTorch version 2.4.1 available.\n",
      "2024-12-20 12:30:21 - INFO - TensorFlow version 2.17.0 available.\n"
     ]
    }
   ],
   "source": [
    "from tdstone2.tdsgenai import install_model_in_vantage_from_name"
   ]
  },
  {
   "cell_type": "code",
   "execution_count": 9,
   "id": "f82d89f2-1ecc-43d9-bf3e-d40b7ebbd2e5",
   "metadata": {},
   "outputs": [
    {
     "name": "stderr",
     "output_type": "stream",
     "text": [
      "2024-12-20 12:30:22 - INFO - Local directory for model files set to: .\\models\\BAAI_bge-small-en-v1.5\n",
      "2024-12-20 12:30:22 - INFO - Using default database: DEMO_USER\n",
      "2024-12-20 12:30:22 - INFO - Saving tokenizer and embeddings model for: BAAI/bge-small-en-v1.5\n",
      "2024-12-20 12:30:22 - INFO - Created directory: .\\models\\BAAI_bge-small-en-v1.5\n",
      "2024-12-20 12:30:22 - INFO - Downloading tokenizer for model: BAAI/bge-small-en-v1.5\n",
      "2024-12-20 12:30:22 - INFO - Use pytorch device_name: cuda\n",
      "2024-12-20 12:30:22 - INFO - Load pretrained SentenceTransformer: BAAI/bge-small-en-v1.5\n",
      "2024-12-20 12:30:23 - INFO - Tokenizer saved in .\\models\\BAAI_bge-small-en-v1.5\n",
      "2024-12-20 12:30:23 - INFO - the embedding dimension of this model is: 384\n",
      "2024-12-20 12:30:23 - INFO - Embedding dimension saved in .\\models\\BAAI_bge-small-en-v1.5\\embedding_dimension.txt\n",
      "2024-12-20 12:30:23 - INFO - Running optimum-cli export command for model: BAAI/bge-small-en-v1.5\n",
      "2024-12-20 12:30:23 - INFO - optimum-cli command: optimum-cli export onnx --task feature-extraction --opset 16 --trust-remote-code -m BAAI/bge-small-en-v1.5 ./models/BAAI_bge-small-en-v1.5\n",
      "2024-12-20 12:30:41 - INFO - Model exported successfully to ./models/BAAI_bge-small-en-v1.5\n",
      "2024-12-20 12:30:41 - INFO - Refining the ONNX model...\n",
      "2024-12-20 12:30:41 - INFO - Refined ONNX model saved at ./models/BAAI_bge-small-en-v1.5\\full_model.onnx\n",
      "2024-12-20 12:30:41 - INFO - Suboptimal ONNX model ./models/BAAI_bge-small-en-v1.5\\model.onnx removed\n",
      "2024-12-20 12:30:41 - INFO - Zipping files in directory: .\\models\\BAAI_bge-small-en-v1.5 to .\\models\\tdstone2_emb_256_BAAI_bge-small-en-v1_5.zip\n",
      "2024-12-20 12:31:01 - INFO - Files have been zipped to .\\models\\tdstone2_emb_256_BAAI_bge-small-en-v1_5.zip\n",
      "2024-12-20 12:31:01 - INFO - Setting session parameters for database: DEMO_USER\n",
      "2024-12-20 12:31:01 - INFO - Installing zip file: .\\models\\tdstone2_emb_256_BAAI_bge-small-en-v1_5.zip in database: DEMO_USER\n",
      "2024-12-20 12:31:01 - INFO - Zip file .\\models\\tdstone2_emb_256_BAAI_bge-small-en-v1_5.zip installation to DEMO_USER database started (tdstone2_emb_256_BAAI_bge_small_en_v1_5)\n",
      "2024-12-20 12:34:55 - INFO - Zip file .\\models\\tdstone2_emb_256_BAAI_bge-small-en-v1_5.zip has been installed in the DEMO_USER database.\n",
      "2024-12-20 12:34:55 - INFO - Zip file .\\models\\tdstone2_emb_256_BAAI_bge-small-en-v1_5.zip has been installed in the DEMO_USER database.\n",
      "2024-12-20 12:34:55 - INFO - Database context has been reset to DEMO_USER.\n"
     ]
    },
    {
     "name": "stdout",
     "output_type": "stream",
     "text": [
      "File tdstone2_emb_256_BAAI_bge-small-en-v1_5.zip installed in Vantage\n"
     ]
    },
    {
     "name": "stderr",
     "output_type": "stream",
     "text": [
      "2024-12-20 12:34:55 - INFO - Model BAAI/bge-small-en-v1.5 has been successfully installed in the DEMO_USER database.\n"
     ]
    }
   ],
   "source": [
    "install_model_in_vantage_from_name(sequence_length=256, model_name = 'BAAI/bge-small-en-v1.5', model_task = 'feature-extraction', replace = False)"
   ]
  },
  {
   "cell_type": "markdown",
   "id": "f2328b90-11a2-4a71-a6f6-64b74a2a1498",
   "metadata": {},
   "source": [
    "### Check installed files"
   ]
  },
  {
   "cell_type": "code",
   "execution_count": 10,
   "id": "7d810c86-06e9-49d8-acc5-dfceaf538355",
   "metadata": {},
   "outputs": [],
   "source": [
    "from tdstone2.tdsgenai import list_installed_files"
   ]
  },
  {
   "cell_type": "code",
   "execution_count": 11,
   "id": "4a8a2c20-2851-485a-9c7e-5dcf56945329",
   "metadata": {},
   "outputs": [
    {
     "name": "stderr",
     "output_type": "stream",
     "text": [
      "2024-12-20 12:34:55 - INFO - Using default database: DEMO_USER\n",
      "2024-12-20 12:34:55 - INFO - Session search path set to database: DEMO_USER\n",
      "2024-12-20 12:34:55 - INFO - Executing query to list installed files starting with 'tdstone2_emb_' and ending with '.zip' in database DEMO_USER\n",
      "2024-12-20 12:34:56 - INFO - Query executed successfully, returning result\n"
     ]
    },
    {
     "data": {
      "text/html": [
       "<div>\n",
       "<style scoped>\n",
       "    .dataframe tbody tr th:only-of-type {\n",
       "        vertical-align: middle;\n",
       "    }\n",
       "\n",
       "    .dataframe tbody tr th {\n",
       "        vertical-align: top;\n",
       "    }\n",
       "\n",
       "    .dataframe thead th {\n",
       "        text-align: right;\n",
       "    }\n",
       "</style>\n",
       "<table border=\"1\" class=\"dataframe\">\n",
       "  <thead>\n",
       "    <tr style=\"text-align: right;\">\n",
       "      <th></th>\n",
       "      <th>DATABASE_LOCATION</th>\n",
       "      <th>tdstone2_models</th>\n",
       "      <th>file_size</th>\n",
       "    </tr>\n",
       "  </thead>\n",
       "  <tbody>\n",
       "    <tr>\n",
       "      <th>0</th>\n",
       "      <td>DEMO_USER</td>\n",
       "      <td>tdstone2_emb_256_BAAI_bge-small-en-v1_5.zip</td>\n",
       "      <td>75M</td>\n",
       "    </tr>\n",
       "  </tbody>\n",
       "</table>\n",
       "</div>"
      ],
      "text/plain": [
       "  DATABASE_LOCATION                              tdstone2_models file_size\n",
       "0         DEMO_USER  tdstone2_emb_256_BAAI_bge-small-en-v1_5.zip       75M"
      ]
     },
     "execution_count": 11,
     "metadata": {},
     "output_type": "execute_result"
    }
   ],
   "source": [
    "list_installed_files()"
   ]
  },
  {
   "cell_type": "code",
   "execution_count": 12,
   "id": "a45925e3-a254-4944-8413-9435b9418655",
   "metadata": {},
   "outputs": [
    {
     "data": {
      "text/plain": [
       "True"
      ]
     },
     "execution_count": 12,
     "metadata": {},
     "output_type": "execute_result"
    }
   ],
   "source": [
    "tdml.remove_context()"
   ]
  },
  {
   "cell_type": "code",
   "execution_count": null,
   "id": "89235188-4210-44aa-838f-91b0b9bc7831",
   "metadata": {},
   "outputs": [],
   "source": []
  }
 ],
 "metadata": {
  "kernelspec": {
   "display_name": "Python 3 (ipykernel)",
   "language": "python",
   "name": "python3"
  },
  "language_info": {
   "codemirror_mode": {
    "name": "ipython",
    "version": 3
   },
   "file_extension": ".py",
   "mimetype": "text/x-python",
   "name": "python",
   "nbconvert_exporter": "python",
   "pygments_lexer": "ipython3",
   "version": "3.12.3"
  }
 },
 "nbformat": 4,
 "nbformat_minor": 5
}
