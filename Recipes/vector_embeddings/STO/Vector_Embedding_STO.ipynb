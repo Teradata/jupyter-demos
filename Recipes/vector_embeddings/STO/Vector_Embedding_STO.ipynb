{
 "cells": [
  {
   "cell_type": "markdown",
   "id": "2ae36d63-ed63-406a-98b9-8b49ab1284a3",
   "metadata": {},
   "source": [
    "<header>\n",
    "   <p  style='font-size:36px;font-family:Arial; color:#F0F0F0; background-color: #00233c; padding-left: 20pt; padding-top: 20pt;padding-bottom: 10pt; padding-right: 20pt;'>\n",
    "       Generate Vector Embeddings using Huggingface model and Script Table Operator(STO)\n",
    "  <br>\n",
    "       <img id=\"teradata-logo\" src=\"https://storage.googleapis.com/clearscape_analytics_demo_data/DEMO_Logo/teradata.svg\" alt=\"Teradata\" style=\"width: 125px; height: auto; margin-top: 20pt;\">\n",
    "    </p>\n",
    "</header>"
   ]
  },
  {
   "cell_type": "markdown",
   "id": "2dbf7674-bcca-4448-9a26-3a7a418aa186",
   "metadata": {},
   "source": [
    "<p style = 'font-size:20px;font-family:Arial;color:#00233C'><b>Introduction:</b></p>\n",
    "\n",
    "<p style = 'font-size:16px;font-family:Arial;color:#00233C'>\n",
    "Hugging Face is a French-American company based in New York City that develops computation tools for building applications using machine learning. They are known for their <b>Transformers Library</b> which provides open-source implementations of transformer models for text, image, video, audio tasks including time-series. These models include well-known architectures like BERT and GPT. The library is compatible with PyTorch, TensorFlow, and JAX deep learning libraries. <br>\n",
    "    Deep Learning Models in HuggingFace are pretrained by users/open source outfits/companies on various types of data – NLP, Audio, Images, Videos etc. Most popular tool of choice by users is PyTorch (open source python library) which helps create a Deep Learning model from scratch or take an existing model, retrain/fine-tune (Transfer Learning) on new set of data to be published in HF. Models can be inferenced with CPUs and GPUs with slight performance improvement for smaller models.<br>\n",
    "</p>\n",
    "<p style = 'font-size:18px;font-family:Arial;color:#00233C'><b>Why Vantage?</b></p>  \n",
    "<p style = 'font-size:16px;font-family:Arial;color:#00233C'>As many Hugging Face models are availble in ONNX Runtime, we can load them using the BYOM feature of Vantage and run them in Vantage. Because of Graph Optimizations on ONNX Runtime, there are proven benchmarks that show that inference with ONNX Runtime will be 20% faster than a native PyTorch model on a CPU. Vantage Parallelism on top of boosted ONNX Runtime inference can turn a Vantage system as effective as inference on GPUs. If we have a Vantage box with 72 AMPs, assuming the table is perfectly distributed, it will closely match the performance of a dedicated GPU and data never moves across the network saving time and I/O operations. As parallelism increases with number of AMPs, the model inference will complete faster in Teradata Vantage with the same amount of text data vs a GPU. We can of course quantize the model (change float8 weights to int8/int4) for inference on CPU to go even faster with some tradeoff with accuracy. However, If Model size goes up GPU advantage will widen – example LLM like LLama2 and costs will be disproportionate with GPU but for smaller models we can get comparable performance. \n",
    "</p>\n",
    "\n",
    "\n",
    "<p style = 'font-size:16px;font-family:Arial;color:#00233C'>\n",
    "    This notebook demonstrates the ability to use Huggingface model in Vantage Script table operator(STO) for an On Prem Enterprise edition of Vantage.\n",
    "</p>"
   ]
  },
  {
   "cell_type": "markdown",
   "id": "22ae5a51-e93b-4011-b583-f598232bb1e2",
   "metadata": {},
   "source": [
    "<hr style=\"height:2px;border:none;background-color:#00233C;\">\n",
    "<b style = 'font-size:20px;font-family:Arial;color:#00233C'>1. Connect to Vantage</b>\n",
    "<p style = 'font-size:16px;font-family:Arial;color:#00233C'>Here, we import the required libraries, set environment variables and environment paths (if required).</p>"
   ]
  },
  {
   "cell_type": "code",
   "execution_count": null,
   "id": "d8dc7fb8-7a49-4951-904a-e8d6c9564517",
   "metadata": {
    "tags": []
   },
   "outputs": [],
   "source": [
    "%%capture\n",
    "!pip install tdstone2 --upgrade"
   ]
  },
  {
   "cell_type": "markdown",
   "id": "7cc9b1fe-ce72-4955-925b-30aa1df83985",
   "metadata": {},
   "source": [
    "<div class=\"alert alert-block alert-info\">\n",
    "<p style = 'font-size:16px;font-family:Arial;color:#00233C'><b>Note: </b><i>The kernel must be restarted to bring the installed libraries into memory. The simplest way to restart the Kernel is by typing zero zero: <b> 0 0</b></i></p>\n",
    "</div>"
   ]
  },
  {
   "cell_type": "code",
   "execution_count": null,
   "id": "6f3deeb2-dec4-4ca4-8a13-1c8b04af52c6",
   "metadata": {},
   "outputs": [],
   "source": [
    "import os\n",
    "import warnings\n",
    "warnings.filterwarnings('ignore')\n",
    "\n",
    "from teradataml import (\n",
    "    create_context,\n",
    "    execute_sql, \n",
    "    copy_to_sql, \n",
    "    DataFrame,\n",
    "    remove_context,\n",
    "    FillRowId)\n",
    "import tdstone2\n",
    "\n",
    "import json\n",
    "\n",
    "# Modify the following to match the specific client environment settings\n",
    "display.max_rows = 5"
   ]
  },
  {
   "cell_type": "markdown",
   "id": "32a7df32-0825-4ae0-a041-77643c4e84ae",
   "metadata": {},
   "source": [
    "\n",
    "<p style = 'font-size:16px;font-family:Arial;color:#00233C'>You will be prompted to provide the password. Enter your password, press the Enter key, and then use the down arrow to go to the next cell.</p>"
   ]
  },
  {
   "cell_type": "code",
   "execution_count": null,
   "id": "3f355715-11ed-40a6-84c3-5fcac187c982",
   "metadata": {
    "tags": [],
    "vscode": {
     "languageId": "teradata sql"
    }
   },
   "outputs": [],
   "source": [
    "%run -i ../../../UseCases/startup.ipynb\n",
    "eng = create_context(host = 'host.docker.internal', username='demo_user', password = password)\n",
    "print(eng)"
   ]
  },
  {
   "cell_type": "markdown",
   "id": "35b9f942-ddb7-471e-9585-16e61f54b5ea",
   "metadata": {},
   "source": [
    "<p style = 'font-size:16px;font-family:Arial;color:#00233C'>Setup for execution of notebook. Begin running steps with Shift + Enter keys.</p>"
   ]
  },
  {
   "cell_type": "code",
   "execution_count": null,
   "id": "19e9e8b8-9c83-4f52-b615-7c8c1f8fc753",
   "metadata": {
    "vscode": {
     "languageId": "teradata sql"
    }
   },
   "outputs": [],
   "source": [
    "%%capture\n",
    "execute_sql('''SET query_band='DEMO=PP_Vector_Embeddings_STO_Python.ipynb;' UPDATE FOR SESSION; ''')"
   ]
  },
  {
   "cell_type": "markdown",
   "id": "6f2c4c22-5971-42d4-bde2-8975daeebf92",
   "metadata": {},
   "source": [
    "<hr style=\"height:2px;border:none;background-color:#00233C;\">\n",
    "<b style = 'font-size:20px;font-family:Arial;color:#00233C'>2. Getting Data for This Demo</b></p>\n"
   ]
  },
  {
   "cell_type": "markdown",
   "id": "39f4633c-1281-4586-b525-e14fff20d921",
   "metadata": {},
   "source": [
    "<p style = 'font-size:16px;font-family:Arial;color:#00233C'>We will generate the required data. The data we are creating is categorized by typical software issues and some questions that are typically asked. To simplify the process we will insert the data into a python dictionary, load it into pandas dataframe, and than copy the dataframeinto a table in Vantage.</p> "
   ]
  },
  {
   "cell_type": "code",
   "execution_count": null,
   "id": "cf4aca6b-da39-4367-9ce0-426393794f19",
   "metadata": {},
   "outputs": [],
   "source": [
    "import pandas as pd\n",
    "import numpy as np\n",
    "\n",
    "# Define the three types of software problems and corresponding questions\n",
    "problems_data = {\n",
    "    \"Problem_Type\": [\"Installation Issue\", \"Performance Issue\", \"Functionality Issue\"],\n",
    "    \"User_Question\": [\n",
    "        [\n",
    "            \"Why can't I install the software on my machine?\",\n",
    "            \"What do I do if the installer keeps crashing?\",\n",
    "            \"How do I resolve dependency errors during installation?\",\n",
    "            \"Why is my antivirus blocking the software installation?\"\n",
    "        ],\n",
    "        [\n",
    "            \"Why is the software running so slowly?\",\n",
    "            \"How do I fix memory issues causing the software to crash?\",\n",
    "            \"What can I do if the software takes too long to load?\",\n",
    "            \"Why is the CPU usage so high when using the software?\"\n",
    "        ],\n",
    "        [\n",
    "            \"Why is the 'Save' button not working?\",\n",
    "            \"How do I troubleshoot errors when trying to export data?\",\n",
    "            \"Why does the software keep freezing when I try to open certain files?\",\n",
    "            \"What should I do if features are missing after an update?\"\n",
    "        ]\n",
    "    ]\n",
    "}\n",
    "\n",
    "# Convert the dictionary into a pandas DataFrame\n",
    "df = pd.DataFrame(problems_data)\n",
    "\n",
    "# Expanding the dataframe so each row corresponds to one question\n",
    "expanded_rows = []\n",
    "\n",
    "for index, row in df.iterrows():\n",
    "    problem_type = row[\"Problem_Type\"]\n",
    "    questions = row[\"User_Question\"]\n",
    "    for question in questions:\n",
    "        expanded_rows.append({\"Problem_Type\": problem_type, \"User_Question\": question})\n",
    "\n",
    "# Create a new DataFrame with the expanded rows\n",
    "df = pd.DataFrame(expanded_rows)\n",
    "df['id'] = df.index\n",
    "df = df[['id','Problem_Type','User_Question']]\n",
    "df"
   ]
  },
  {
   "cell_type": "code",
   "execution_count": null,
   "id": "9bb4727a-1cab-4dc2-a86d-6a82381fa3d0",
   "metadata": {},
   "outputs": [],
   "source": [
    "copy_to_sql(df,  table_name = 'questions', if_exists = 'replace')\n",
    "dataset = DataFrame('questions')\n",
    "dataset"
   ]
  },
  {
   "cell_type": "markdown",
   "id": "b30b1256-02be-436b-9a38-c1be407acfd4",
   "metadata": {},
   "source": [
    "<hr style=\"height:2px;border:none;background-color:#00233C;\">\n",
    "<b style = 'font-size:20px;font-family:Arial;color:#00233C'>3. Data Distribution</b></p>\n"
   ]
  },
  {
   "cell_type": "markdown",
   "id": "30578aa0-28da-4135-b1a1-86d5b0a7890d",
   "metadata": {},
   "source": [
    "<p style = 'font-size:16px;font-family:Arial;color:#00233C'>We will check the number of AMPs available on our system and than based on that we will distribute the data equally on all amps to utilize the complete power of the sytem available to us.</p> "
   ]
  },
  {
   "cell_type": "code",
   "execution_count": null,
   "id": "6178fbc2-6691-4247-b4a9-cdcee00ed3eb",
   "metadata": {},
   "outputs": [],
   "source": [
    "nb_amps = execute_sql('SEL HASHAMP()').fetchall()[0][0]+1\n",
    "nb_amps"
   ]
  },
  {
   "cell_type": "code",
   "execution_count": null,
   "id": "02354b32-c15c-40bc-a855-6d75a4b2f3e4",
   "metadata": {},
   "outputs": [],
   "source": [
    "from tdstone2.data_distribution import InverseHash, EquallyDistribute\n",
    "from tdstone2.dataset_generation import gen_query"
   ]
  },
  {
   "cell_type": "code",
   "execution_count": null,
   "id": "0e7df3cf-dca2-4d56-9c8a-360cb69b0fb3",
   "metadata": {},
   "outputs": [],
   "source": [
    "df = gen_query(dataset[['User_Question']],n=1)[['User_Question']] # Generate a single partition\n",
    "df = gen_query(df, n=nb_amps, replication_column = 'Partition_ID')\n",
    "df"
   ]
  },
  {
   "cell_type": "code",
   "execution_count": null,
   "id": "3a2bce2c-8376-436a-86fe-a4c1124c829a",
   "metadata": {},
   "outputs": [],
   "source": [
    "df = EquallyDistribute(df)"
   ]
  },
  {
   "cell_type": "code",
   "execution_count": null,
   "id": "eed23004-7045-4ed8-9eca-f0dbdf80b284",
   "metadata": {},
   "outputs": [],
   "source": [
    "df = df.assign(Problem_Type = df.Partition_ID)\n",
    "df = FillRowId(data=df,\n",
    "                    row_id_column='Id'\n",
    "                   ).result\n",
    "df[['Id','Problem_Type','User_Question']].to_sql(\n",
    "    table_name='questions_large',\n",
    "    primary_index = 'Id',\n",
    "    if_exists = 'replace'\n",
    ")\n",
    "dataset_large = DataFrame('questions_large')\n",
    "dataset_large"
   ]
  },
  {
   "cell_type": "code",
   "execution_count": null,
   "id": "abad8682-5f0a-42d3-948c-c7dc6756bdf3",
   "metadata": {},
   "outputs": [],
   "source": [
    "from tdstone2.data_distribution import PlotDistribution\n",
    "PlotDistribution('demo_user', 'questions_large', partition = 'Problem_Type')"
   ]
  },
  {
   "cell_type": "markdown",
   "id": "becbcdc2-73a9-4683-96aa-620eba40fda7",
   "metadata": {},
   "source": [
    "<hr style=\"height:2px;border:none;background-color:#00233C;\">\n",
    "<b style = 'font-size:20px;font-family:Arial;color:#00233C'>4. Installing the files in Vantage</b></p>\n"
   ]
  },
  {
   "cell_type": "markdown",
   "id": "5d7b1d02-ac1c-4fb7-be24-88891f80de4e",
   "metadata": {},
   "source": [
    "<p style = 'font-size:16px;font-family:Arial;color:#00233C'>We will Install tdstone2 framework. First step will be to clean up the schema and than setup the framework for sto and than install the required files in Vantage.</p> "
   ]
  },
  {
   "cell_type": "code",
   "execution_count": null,
   "id": "410b65e5-8d1e-4a35-8d26-7da3d99ce193",
   "metadata": {},
   "outputs": [],
   "source": [
    "from tdstone2.utils import cleanup\n",
    "cleanup(schema='demo_user')\n",
    "         "
   ]
  },
  {
   "cell_type": "markdown",
   "id": "a6a8125c-ce22-4146-b17c-f614c66ebcc9",
   "metadata": {},
   "source": [
    "<p style = 'font-size:16px;font-family:Arial;color:#00233C'>We will use the tdstone2 package to install the generic python files that enables the ML training, scoring, feature engineering and vector embedding computations. These files are installed once, and enable user-friendly interactions with the platform. The vector embeddings will be displayed in the following cells.</p> "
   ]
  },
  {
   "cell_type": "code",
   "execution_count": null,
   "id": "5194f0f4-4b95-4f47-9734-1ffb8afa524c",
   "metadata": {},
   "outputs": [],
   "source": [
    "from tdstone2.tdstone import TDStone\n",
    "sto = TDStone(schema_name = 'demo_user', SEARCHUIFDBPATH = 'demo_user')"
   ]
  },
  {
   "cell_type": "markdown",
   "id": "87725a38-bcc4-4319-a89f-f4f4d051d299",
   "metadata": {},
   "source": [
    "<p style = 'font-size:16px;font-family:Arial;color:#00233C'>We will install the necessary libraries into the sto environment of Vantage. PushFile installs the py file, including the py file that implements the vector embedding.</p> "
   ]
  },
  {
   "cell_type": "code",
   "execution_count": null,
   "id": "da57778b-1be2-4fa6-ae99-2d2aa1249823",
   "metadata": {},
   "outputs": [],
   "source": [
    "sto.PushFile()"
   ]
  },
  {
   "cell_type": "markdown",
   "id": "db6f378c-6761-4ec1-8d69-2da86b8d112f",
   "metadata": {},
   "source": [
    "<p style = 'font-size:16px;font-family:Arial;color:#00233C'>We will than install the required models into Vantage. Here, we are using the <code>BAAI/bge-small-en-v1.5</code> model.</p> "
   ]
  },
  {
   "cell_type": "code",
   "execution_count": null,
   "id": "ea2f1498-4c7b-4b74-a383-a25f581de0d9",
   "metadata": {},
   "outputs": [],
   "source": [
    "from tdstone2.tdsgenai import install_model_in_vantage_from_name\n",
    "install_model_in_vantage_from_name(sequence_length=256, model_name = 'BAAI/bge-small-en-v1.5', model_task = 'feature-extraction', replace = False)"
   ]
  },
  {
   "cell_type": "markdown",
   "id": "59399c4d-1a34-4ed6-96c1-8385ee349637",
   "metadata": {},
   "source": [
    "<p style = 'font-size:16px;font-family:Arial;color:#00233C'>We will check the install models using the list function and as we can see the 2 models we installed above are now available in the Vantage environment.</p> "
   ]
  },
  {
   "cell_type": "code",
   "execution_count": null,
   "id": "7b51a5b5-f4a7-4655-9cc5-b8d1391bfe78",
   "metadata": {},
   "outputs": [],
   "source": [
    "from tdstone2.tdsgenai import list_installed_files\n",
    "list_installed_files()"
   ]
  },
  {
   "cell_type": "markdown",
   "id": "1cab8b6b-0915-4aed-bb2c-031dae556d10",
   "metadata": {},
   "source": [
    "<hr style=\"height:2px;border:none;background-color:#00233C;\">\n",
    "<b style = 'font-size:20px;font-family:Arial;color:#00233C'>5. Compute Vector Embeddings</b>"
   ]
  },
  {
   "cell_type": "markdown",
   "id": "6d20c58b-b6ae-4f99-b4d7-a8599698a80a",
   "metadata": {},
   "source": [
    "<p style = 'font-size:16px;font-family:Arial;color:#00233C'>We will than compute the embeddings using the compute function which will use the model and the dataset and than generate the embeddings. The steps involved in the process will be displayed as a part of the output.  compute_vector_embedding function sets up and executes a script for the given model and dataset, ensuring that the text column is VARCHAR\n",
    "and the model exists. Finally, create a pivot view of the results.</p> "
   ]
  },
  {
   "cell_type": "code",
   "execution_count": null,
   "id": "00163537-4b1a-4d44-b3bd-c0921ade51f1",
   "metadata": {},
   "outputs": [],
   "source": [
    "from tdstone2.tdsgenai import compute_vector_embedding"
   ]
  },
  {
   "cell_type": "code",
   "execution_count": null,
   "id": "4491d011-7bf6-4be6-a6df-d5a7bf1d9833",
   "metadata": {},
   "outputs": [],
   "source": [
    "res = compute_vector_embedding(\n",
    "    # choose your language model\n",
    "    model              = 'tdstone2_emb_256_BAAI_bge-small-en-v1_5.zip',\n",
    "    # the description of the dataset\n",
    "    dataset            = dataset,           # the teradata dataframeS\n",
    "    text_column        = 'User_Question',   # the column containing the text\n",
    "    hash_columns       = ['id'],            # the hash column to distribute the computations\n",
    "    accumulate_columns = ['Problem_Type'],  # the columns we want to keep in the output results\n",
    "    # the output table\n",
    "    schema_name        = 'demo_user', # the database \n",
    "    table_name         = 'embeddings'       # the table name (actually a view on a result table)\n",
    ")"
   ]
  },
  {
   "cell_type": "code",
   "execution_count": null,
   "id": "9d1abc81-8deb-46a8-b982-453cf2336424",
   "metadata": {},
   "outputs": [],
   "source": [
    "res"
   ]
  },
  {
   "cell_type": "code",
   "execution_count": null,
   "id": "4857d7fd-afb9-4a5c-b0ba-55fd77df7333",
   "metadata": {},
   "outputs": [],
   "source": [
    "computation_time = res.groupby('jobid').agg({'process_time':['sum','max','count','median'], 'elapsed_time':['sum','max','count','median']})\n",
    "computation_time"
   ]
  },
  {
   "cell_type": "markdown",
   "id": "ebef693f-f5ef-487d-bc2b-5d47b43e3c2c",
   "metadata": {},
   "source": [
    "<hr style=\"height:2px;border:none;background-color:#00233C;\">\n",
    "<p style = 'font-size:20px;font-family:Arial;color:#00233C'><b>6. Cleanup</b></p>\n",
    "<p style = 'font-size:18px;font-family:Arial;color:##00233C'><b>Work Tables</b></p>"
   ]
  },
  {
   "cell_type": "code",
   "execution_count": null,
   "id": "c1802873-7f52-4e66-b4e0-084998667053",
   "metadata": {},
   "outputs": [],
   "source": [
    "tables = ['questions', 'questions_large','embeddings']\n",
    "\n",
    "# Loop through the list of tables and execute the drop table command for each table\n",
    "for table in tables:\n",
    "    try:\n",
    "        db_drop_table(table_name=table)\n",
    "    except:\n",
    "        pass\n",
    "  \n",
    "   "
   ]
  },
  {
   "cell_type": "code",
   "execution_count": null,
   "id": "79c34a7b-5769-4eca-a5ac-e85bacd6f940",
   "metadata": {},
   "outputs": [],
   "source": [
    "remove_context()"
   ]
  },
  {
   "cell_type": "markdown",
   "id": "db9d6f3b-6208-490d-a421-882945848eb5",
   "metadata": {},
   "source": [
    "<footer style=\"padding-bottom:35px; background:#f9f9f9; border-bottom:3px solid #00233C\">\n",
    "    <div style=\"float:left;margin-top:14px\">ClearScape Analytics™</div>\n",
    "    <div style=\"float:right;\">\n",
    "        <div style=\"float:left; margin-top:14px\">\n",
    "            Copyright © Teradata Corporation - 2025. All Rights Reserved\n",
    "        </div>\n",
    "    </div>\n",
    "</footer>"
   ]
  }
 ],
 "metadata": {
  "kernelspec": {
   "display_name": "Python 3 (ipykernel)",
   "language": "python",
   "name": "python3"
  },
  "language_info": {
   "codemirror_mode": {
    "name": "ipython",
    "version": 3
   },
   "file_extension": ".py",
   "mimetype": "text/x-python",
   "name": "python",
   "nbconvert_exporter": "python",
   "pygments_lexer": "ipython3",
   "version": "3.9.10"
  }
 },
 "nbformat": 4,
 "nbformat_minor": 5
}
