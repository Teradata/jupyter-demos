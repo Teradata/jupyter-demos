{
 "cells": [
  {
   "cell_type": "markdown",
   "id": "cbbb6648-bedc-4206-95fe-2a02c8181243",
   "metadata": {},
   "source": [
    "# Deploy a Hyper-Segmented Model with TDStone2 in less than a minute\n",
    "# Using Scikit Learn Regressor Pipeline"
   ]
  },
  {
   "cell_type": "markdown",
   "id": "2de9fe3f-8fba-4c73-af5d-dad51d10e7dd",
   "metadata": {},
   "source": [
    "## 1 - Connect to Vantage"
   ]
  },
  {
   "cell_type": "code",
   "execution_count": 1,
   "id": "8fe6018b-024d-499e-83d0-d7a41236bf0a",
   "metadata": {},
   "outputs": [
    {
     "data": {
      "text/plain": [
       "'20.00.00.03'"
      ]
     },
     "execution_count": 1,
     "metadata": {},
     "output_type": "execute_result"
    }
   ],
   "source": [
    "import teradataml as tdml\n",
    "import json\n",
    "import warnings\n",
    "warnings.filterwarnings('ignore')\n",
    "tdml.configure.byom_install_location = 'mldb'\n",
    "tdml.__version__"
   ]
  },
  {
   "cell_type": "code",
   "execution_count": 2,
   "id": "626a49fe-7b5c-4406-a9eb-e273926fede3",
   "metadata": {},
   "outputs": [
    {
     "data": {
      "text/plain": [
       "Engine(teradatasql://:***@sto-xo0saiv0ot1sxmj2.env.clearscape.teradata.com?DATABASE=demo_user&user=DEMO_USER)"
      ]
     },
     "execution_count": 2,
     "metadata": {},
     "output_type": "execute_result"
    }
   ],
   "source": [
    "with open('../connections/me.json','r') as f:\n",
    "    Param_ = json.load(f)\n",
    "\n",
    "with open('../connections/csae2.json','r') as f:\n",
    "    Param = json.load(f)\n",
    "\n",
    "with open('../connections/csae.json','r') as f:\n",
    "    Param_ = json.load(f)\n",
    "\n",
    "with open('../connections/vantage24.json','r') as f:\n",
    "    Param_ = json.load(f)\n",
    "\n",
    "tdml.create_context(**Param)"
   ]
  },
  {
   "cell_type": "markdown",
   "id": "71c35811-44c1-4ba5-aafe-76481a06316a",
   "metadata": {},
   "source": [
    "## 2 - The Hyper-Segmented Dataset"
   ]
  },
  {
   "cell_type": "code",
   "execution_count": 3,
   "id": "cb52a782-fa57-4afa-97cb-4d0d3941fda9",
   "metadata": {},
   "outputs": [
    {
     "data": {
      "text/html": [
       "<style type=\"text/css\">\n",
       "\ttable {border:ridge 5px;}\n",
       "\ttable td {border:inset 1px;}\n",
       "\ttable tr#HeaderRow {background-color:grey; color:white;}</style>\n",
       "<html><table>\n",
       "\t<tr id=\"HeaderRow\">\n",
       "\t\t<th>Partition_ID</th>\n",
       "\t\t<th>ID</th>\n",
       "\t\t<th>X1</th>\n",
       "\t\t<th>X2</th>\n",
       "\t\t<th>X3</th>\n",
       "\t\t<th>X4</th>\n",
       "\t\t<th>X5</th>\n",
       "\t\t<th>X6</th>\n",
       "\t\t<th>X7</th>\n",
       "\t\t<th>X8</th>\n",
       "\t\t<th>X9</th>\n",
       "\t\t<th>flag</th>\n",
       "\t\t<th>Y1</th>\n",
       "\t\t<th>Y2</th>\n",
       "\t\t<th>FOLD</th>\n",
       "\t</tr>\n",
       "\t<tr>\n",
       "\t\t<td>1</td>\n",
       "\t\t<td>10</td>\n",
       "\t\t<td>-1.3943636803788597</td>\n",
       "\t\t<td>1.0442439732804276</td>\n",
       "\t\t<td>0.5869266486642999</td>\n",
       "\t\t<td>-0.5500792373351924</td>\n",
       "\t\t<td>0.09460275826189339</td>\n",
       "\t\t<td>-1.34775626852841</td>\n",
       "\t\t<td>-0.7346483551701115</td>\n",
       "\t\t<td>-0.3561456066099827</td>\n",
       "\t\t<td>-0.7236299160771967</td>\n",
       "\t\t<td>1</td>\n",
       "\t\t<td>-0.3386557428971961</td>\n",
       "\t\t<td>0</td>\n",
       "\t\t<td>train</td>\n",
       "\t</tr>\n",
       "\t<tr>\n",
       "\t\t<td>1</td>\n",
       "\t\t<td>13</td>\n",
       "\t\t<td>-0.5290938768944691</td>\n",
       "\t\t<td>0.6903393570933072</td>\n",
       "\t\t<td>1.1537722253491944</td>\n",
       "\t\t<td>-0.5504227477456725</td>\n",
       "\t\t<td>0.6151634836663831</td>\n",
       "\t\t<td>0.8021212464260443</td>\n",
       "\t\t<td>-0.6110152048039241</td>\n",
       "\t\t<td>0.3207526094772286</td>\n",
       "\t\t<td>0.14503663819412438</td>\n",
       "\t\t<td>0</td>\n",
       "\t\t<td>-1.0492098083949517</td>\n",
       "\t\t<td>0</td>\n",
       "\t\t<td>train</td>\n",
       "\t</tr>\n",
       "\t<tr>\n",
       "\t\t<td>1</td>\n",
       "\t\t<td>14</td>\n",
       "\t\t<td>-0.598405175793809</td>\n",
       "\t\t<td>0.8340686683287597</td>\n",
       "\t\t<td>0.89004573457406</td>\n",
       "\t\t<td>0.9819208743083102</td>\n",
       "\t\t<td>0.5117475378578401</td>\n",
       "\t\t<td>1.6287891032576154</td>\n",
       "\t\t<td>-0.2755045333598663</td>\n",
       "\t\t<td>1.7659255107743697</td>\n",
       "\t\t<td>0.06473147359001329</td>\n",
       "\t\t<td>1</td>\n",
       "\t\t<td>-0.5724473668434706</td>\n",
       "\t\t<td>0</td>\n",
       "\t\t<td>train</td>\n",
       "\t</tr>\n",
       "\t<tr>\n",
       "\t\t<td>1</td>\n",
       "\t\t<td>15</td>\n",
       "\t\t<td>0.2859261017119707</td>\n",
       "\t\t<td>0.09716157967151284</td>\n",
       "\t\t<td>2.349656188957245</td>\n",
       "\t\t<td>-1.3021487580877988</td>\n",
       "\t\t<td>-0.10565250962147228</td>\n",
       "\t\t<td>-0.02334997181715255</td>\n",
       "\t\t<td>1.6141339448390328</td>\n",
       "\t\t<td>1.2815721200452719</td>\n",
       "\t\t<td>-0.22501852672057815</td>\n",
       "\t\t<td>0</td>\n",
       "\t\t<td>-1.9343733053103433</td>\n",
       "\t\t<td>0</td>\n",
       "\t\t<td>train</td>\n",
       "\t</tr>\n",
       "\t<tr>\n",
       "\t\t<td>1</td>\n",
       "\t\t<td>18</td>\n",
       "\t\t<td>0.2790094163338728</td>\n",
       "\t\t<td>-0.5993945124563128</td>\n",
       "\t\t<td>-0.33743210912394056</td>\n",
       "\t\t<td>-0.568501591445928</td>\n",
       "\t\t<td>0.39819264552127004</td>\n",
       "\t\t<td>1.009874734630375</td>\n",
       "\t\t<td>0.0026066375003983575</td>\n",
       "\t\t<td>-0.6735609305438796</td>\n",
       "\t\t<td>-0.14022970447284688</td>\n",
       "\t\t<td>0</td>\n",
       "\t\t<td>-0.4765066566867408</td>\n",
       "\t\t<td>0</td>\n",
       "\t\t<td>train</td>\n",
       "\t</tr>\n",
       "\t<tr>\n",
       "\t\t<td>1</td>\n",
       "\t\t<td>19</td>\n",
       "\t\t<td>-0.4009889552430267</td>\n",
       "\t\t<td>-0.18047857220268995</td>\n",
       "\t\t<td>-1.029449128949099</td>\n",
       "\t\t<td>0.6158182047188758</td>\n",
       "\t\t<td>-0.15595135343233418</td>\n",
       "\t\t<td>0.7665865621847803</td>\n",
       "\t\t<td>-0.11608572643548498</td>\n",
       "\t\t<td>-0.20567842971103983</td>\n",
       "\t\t<td>1.198469649383455</td>\n",
       "\t\t<td>0</td>\n",
       "\t\t<td>0.8450125207381537</td>\n",
       "\t\t<td>1</td>\n",
       "\t\t<td>train</td>\n",
       "\t</tr>\n",
       "\t<tr>\n",
       "\t\t<td>1</td>\n",
       "\t\t<td>17</td>\n",
       "\t\t<td>-0.5880929389594226</td>\n",
       "\t\t<td>0.477107037715851</td>\n",
       "\t\t<td>-0.2168553352166439</td>\n",
       "\t\t<td>-0.05274077684634872</td>\n",
       "\t\t<td>-0.46211667891337066</td>\n",
       "\t\t<td>-0.311643246160771</td>\n",
       "\t\t<td>-0.06351649783185169</td>\n",
       "\t\t<td>1.2484455788348916</td>\n",
       "\t\t<td>1.4893193936051612</td>\n",
       "\t\t<td>1</td>\n",
       "\t\t<td>-1.8571250105782788</td>\n",
       "\t\t<td>0</td>\n",
       "\t\t<td>train</td>\n",
       "\t</tr>\n",
       "\t<tr>\n",
       "\t\t<td>1</td>\n",
       "\t\t<td>11</td>\n",
       "\t\t<td>-0.3059304495805793</td>\n",
       "\t\t<td>1.3324949515193687</td>\n",
       "\t\t<td>1.2540806720724382</td>\n",
       "\t\t<td>-0.38630974657985606</td>\n",
       "\t\t<td>0.26855053283294333</td>\n",
       "\t\t<td>-0.4658146315919535</td>\n",
       "\t\t<td>-0.5153015032790745</td>\n",
       "\t\t<td>-1.0655645081450833</td>\n",
       "\t\t<td>0.1298707397139366</td>\n",
       "\t\t<td>0</td>\n",
       "\t\t<td>-0.06712115310291952</td>\n",
       "\t\t<td>0</td>\n",
       "\t\t<td>train</td>\n",
       "\t</tr>\n",
       "\t<tr>\n",
       "\t\t<td>1</td>\n",
       "\t\t<td>9</td>\n",
       "\t\t<td>0.09158721666417137</td>\n",
       "\t\t<td>-0.6465926402549871</td>\n",
       "\t\t<td>0.1784250667686505</td>\n",
       "\t\t<td>0.1205870580710051</td>\n",
       "\t\t<td>-1.319806353755415</td>\n",
       "\t\t<td>-0.16685694055988687</td>\n",
       "\t\t<td>0.5778869101906173</td>\n",
       "\t\t<td>-0.3966612279520089</td>\n",
       "\t\t<td>2.2176344103659003</td>\n",
       "\t\t<td>1</td>\n",
       "\t\t<td>-1.012849796211918</td>\n",
       "\t\t<td>0</td>\n",
       "\t\t<td>train</td>\n",
       "\t</tr>\n",
       "\t<tr>\n",
       "\t\t<td>1</td>\n",
       "\t\t<td>6</td>\n",
       "\t\t<td>0.7351511655220212</td>\n",
       "\t\t<td>-0.08227531133025473</td>\n",
       "\t\t<td>0.5291482580000527</td>\n",
       "\t\t<td>-0.2532613061965269</td>\n",
       "\t\t<td>-0.13573158295215673</td>\n",
       "\t\t<td>-0.9660524985979275</td>\n",
       "\t\t<td>-1.362613795443117</td>\n",
       "\t\t<td>0.2312326315018219</td>\n",
       "\t\t<td>0.7547788732509687</td>\n",
       "\t\t<td>1</td>\n",
       "\t\t<td>-0.9613912453980786</td>\n",
       "\t\t<td>0</td>\n",
       "\t\t<td>train</td>\n",
       "\t</tr>\n",
       "</table></html>"
      ],
      "text/plain": [
       "              ID        X1        X2        X3        X4        X5        X6        X7        X8        X9  flag        Y1  Y2   FOLD\n",
       "Partition_ID                                                                                                                         \n",
       "1             10 -1.394364  1.044244  0.586927 -0.550079  0.094603 -1.347756 -0.734648 -0.356146 -0.723630     1 -0.338656   0  train\n",
       "1             13 -0.529094  0.690339  1.153772 -0.550423  0.615163  0.802121 -0.611015  0.320753  0.145037     0 -1.049210   0  train\n",
       "1             14 -0.598405  0.834069  0.890046  0.981921  0.511748  1.628789 -0.275505  1.765926  0.064731     1 -0.572447   0  train\n",
       "1             15  0.285926  0.097162  2.349656 -1.302149 -0.105653 -0.023350  1.614134  1.281572 -0.225019     0 -1.934373   0  train\n",
       "1             18  0.279009 -0.599395 -0.337432 -0.568502  0.398193  1.009875  0.002607 -0.673561 -0.140230     0 -0.476507   0  train\n",
       "1             19 -0.400989 -0.180479 -1.029449  0.615818 -0.155951  0.766587 -0.116086 -0.205678  1.198470     0  0.845013   1  train\n",
       "1             17 -0.588093  0.477107 -0.216855 -0.052741 -0.462117 -0.311643 -0.063516  1.248446  1.489319     1 -1.857125   0  train\n",
       "1             11 -0.305930  1.332495  1.254081 -0.386310  0.268551 -0.465815 -0.515302 -1.065565  0.129871     0 -0.067121   0  train\n",
       "1              9  0.091587 -0.646593  0.178425  0.120587 -1.319806 -0.166857  0.577887 -0.396661  2.217634     1 -1.012850   0  train\n",
       "1              6  0.735151 -0.082275  0.529148 -0.253261 -0.135732 -0.966052 -1.362614  0.231233  0.754779     1 -0.961391   0  train"
      ]
     },
     "execution_count": 3,
     "metadata": {},
     "output_type": "execute_result"
    }
   ],
   "source": [
    "dataset = tdml.DataFrame(tdml.in_schema(Param['database'],'dataset_00'))\n",
    "dataset"
   ]
  },
  {
   "cell_type": "code",
   "execution_count": 4,
   "id": "8f2a2d8c-2839-4be5-a841-4f093afedabb",
   "metadata": {},
   "outputs": [
    {
     "data": {
      "text/html": [
       "<style type=\"text/css\">\n",
       "\ttable {border:ridge 5px;}\n",
       "\ttable td {border:inset 1px;}\n",
       "\ttable tr#HeaderRow {background-color:grey; color:white;}</style>\n",
       "<html><table>\n",
       "\t<tr id=\"HeaderRow\">\n",
       "\t\t<th>Partition_ID</th>\n",
       "\t\t<th>count_ID</th>\n",
       "\t\t<th>count_X1</th>\n",
       "\t\t<th>count_X2</th>\n",
       "\t\t<th>count_X3</th>\n",
       "\t\t<th>count_X4</th>\n",
       "\t\t<th>count_X5</th>\n",
       "\t\t<th>count_X6</th>\n",
       "\t\t<th>count_X7</th>\n",
       "\t\t<th>count_X8</th>\n",
       "\t\t<th>count_X9</th>\n",
       "\t\t<th>count_flag</th>\n",
       "\t\t<th>count_Y1</th>\n",
       "\t\t<th>count_Y2</th>\n",
       "\t\t<th>count_FOLD</th>\n",
       "\t</tr>\n",
       "\t<tr>\n",
       "\t\t<td>1</td>\n",
       "\t\t<td>10000</td>\n",
       "\t\t<td>10000</td>\n",
       "\t\t<td>10000</td>\n",
       "\t\t<td>10000</td>\n",
       "\t\t<td>10000</td>\n",
       "\t\t<td>10000</td>\n",
       "\t\t<td>10000</td>\n",
       "\t\t<td>10000</td>\n",
       "\t\t<td>10000</td>\n",
       "\t\t<td>10000</td>\n",
       "\t\t<td>10000</td>\n",
       "\t\t<td>10000</td>\n",
       "\t\t<td>10000</td>\n",
       "\t\t<td>10000</td>\n",
       "\t</tr>\n",
       "\t<tr>\n",
       "\t\t<td>6</td>\n",
       "\t\t<td>10000</td>\n",
       "\t\t<td>10000</td>\n",
       "\t\t<td>10000</td>\n",
       "\t\t<td>10000</td>\n",
       "\t\t<td>10000</td>\n",
       "\t\t<td>10000</td>\n",
       "\t\t<td>10000</td>\n",
       "\t\t<td>10000</td>\n",
       "\t\t<td>10000</td>\n",
       "\t\t<td>10000</td>\n",
       "\t\t<td>10000</td>\n",
       "\t\t<td>10000</td>\n",
       "\t\t<td>10000</td>\n",
       "\t\t<td>10000</td>\n",
       "\t</tr>\n",
       "\t<tr>\n",
       "\t\t<td>4</td>\n",
       "\t\t<td>10000</td>\n",
       "\t\t<td>10000</td>\n",
       "\t\t<td>10000</td>\n",
       "\t\t<td>10000</td>\n",
       "\t\t<td>10000</td>\n",
       "\t\t<td>10000</td>\n",
       "\t\t<td>10000</td>\n",
       "\t\t<td>10000</td>\n",
       "\t\t<td>10000</td>\n",
       "\t\t<td>10000</td>\n",
       "\t\t<td>10000</td>\n",
       "\t\t<td>10000</td>\n",
       "\t\t<td>10000</td>\n",
       "\t\t<td>10000</td>\n",
       "\t</tr>\n",
       "\t<tr>\n",
       "\t\t<td>9</td>\n",
       "\t\t<td>10000</td>\n",
       "\t\t<td>10000</td>\n",
       "\t\t<td>10000</td>\n",
       "\t\t<td>10000</td>\n",
       "\t\t<td>10000</td>\n",
       "\t\t<td>10000</td>\n",
       "\t\t<td>10000</td>\n",
       "\t\t<td>10000</td>\n",
       "\t\t<td>10000</td>\n",
       "\t\t<td>10000</td>\n",
       "\t\t<td>10000</td>\n",
       "\t\t<td>10000</td>\n",
       "\t\t<td>10000</td>\n",
       "\t\t<td>10000</td>\n",
       "\t</tr>\n",
       "</table></html>"
      ],
      "text/plain": [
       "   Partition_ID  count_ID  count_X1  count_X2  count_X3  count_X4  count_X5  count_X6  count_X7  count_X8  count_X9  count_flag  count_Y1  count_Y2  count_FOLD\n",
       "0             1     10000     10000     10000     10000     10000     10000     10000     10000     10000     10000       10000     10000     10000       10000\n",
       "1             6     10000     10000     10000     10000     10000     10000     10000     10000     10000     10000       10000     10000     10000       10000\n",
       "2             4     10000     10000     10000     10000     10000     10000     10000     10000     10000     10000       10000     10000     10000       10000\n",
       "3             9     10000     10000     10000     10000     10000     10000     10000     10000     10000     10000       10000     10000     10000       10000"
      ]
     },
     "execution_count": 4,
     "metadata": {},
     "output_type": "execute_result"
    }
   ],
   "source": [
    "summary = dataset.groupby('Partition_ID').count()\n",
    "summary"
   ]
  },
  {
   "cell_type": "code",
   "execution_count": 5,
   "id": "07d0147e-af56-4400-8814-70c68efd8f90",
   "metadata": {},
   "outputs": [
    {
     "data": {
      "text/plain": [
       "(4, 15)"
      ]
     },
     "execution_count": 5,
     "metadata": {},
     "output_type": "execute_result"
    }
   ],
   "source": [
    "summary.shape"
   ]
  },
  {
   "cell_type": "markdown",
   "id": "896ca2c5-cef1-4d89-b321-7e29a28bb05b",
   "metadata": {},
   "source": [
    "## 3 - Hyper-segmented model deployment"
   ]
  },
  {
   "cell_type": "markdown",
   "id": "c17a2135-b2a6-4d67-af95-c30b59ecc45f",
   "metadata": {},
   "source": [
    "### 3.1 - Engineering of the scikit-learn classifier pipeline"
   ]
  },
  {
   "cell_type": "code",
   "execution_count": 6,
   "id": "6f7552d2-cb2f-4538-b76e-398167697298",
   "metadata": {},
   "outputs": [],
   "source": [
    "from sklearn.preprocessing import StandardScaler\n",
    "from sklearn.svm import OneClassSVM\n",
    "from sklearn.pipeline import Pipeline\n",
    "\n",
    "# Example usage\n",
    "steps_anomaly_detection = [\n",
    "    ('scaler', StandardScaler()),\n",
    "    ('one_class_svm', OneClassSVM(\n",
    "        kernel='rbf',  # Radial Basis Function Kernel\n",
    "        nu=0.05,       # An upper bound on the fraction of training errors and a lower bound of the fraction of support vectors.\n",
    "        gamma='auto'   # Kernel coefficient for ‘rbf’, ‘poly’ and ‘sigmoid’. If ‘auto’, 1/n_features will be used.\n",
    "    ))\n",
    "]"
   ]
  },
  {
   "cell_type": "markdown",
   "id": "474f18d8-08da-46c4-af28-19421d9bc750",
   "metadata": {},
   "source": [
    "### 3.2 - Deployment of the scikit-learn pipeline"
   ]
  },
  {
   "cell_type": "code",
   "execution_count": 7,
   "id": "9294bc91-4376-404e-b5cd-87fdd71d77a8",
   "metadata": {},
   "outputs": [],
   "source": [
    "from tdstone2.tdshypermodel import HyperModel\n",
    "from tdstone2.tdstone import TDStone\n",
    "sto = TDStone(schema_name = Param['database'], SEARCHUIFDBPATH = Param['user'])"
   ]
  },
  {
   "cell_type": "code",
   "execution_count": 8,
   "id": "a7b196b3-3dde-4940-a4f8-af713e9c8fe0",
   "metadata": {},
   "outputs": [],
   "source": [
    "model_parameters = {\n",
    "    \"column_categorical\": ['flag'],\n",
    "    \"column_names_X\": ['X1','X2','X3','X4','X5','X6','X7','X8','X9','flag']\n",
    "}"
   ]
  },
  {
   "cell_type": "code",
   "execution_count": 9,
   "id": "7c347041-150f-43b8-834b-dfe0af6e7ada",
   "metadata": {},
   "outputs": [
    {
     "name": "stdout",
     "output_type": "stream",
     "text": [
      "registration of mapper with id = fca98df7-3e26-41f5-a8a8-0036c348fb9a\n",
      "creation of dedicated mapper table : demo_user.TDS_MAPPER_fca98df7_3e26_41f5_a8a8_0036c348fb9a\n",
      "creation of the on clause view demo_user.TDS_ON_CLAUSE_TRAINING_fca98df7_3e26_41f5_a8a8_0036c348fb9a\n",
      "creation of the sto view demo_user.TDS_STO_TRAINING_fca98df7_3e26_41f5_a8a8_0036c348fb9a\n",
      "registration of mapper with id = 57d6b26b-7691-4de9-b465-1d48affe93a8\n",
      "creation of dedicated mapper table : demo_user.TDS_MAPPER_57d6b26b_7691_4de9_b465_1d48affe93a8\n",
      "creation of the on clause view demo_user.TDS_ON_CLAUSE_SCORING_57d6b26b_7691_4de9_b465_1d48affe93a8\n",
      "creation of the volatile table on on clause view demo_user.TDS_STO_SCORING_57d6b26b_7691_4de9_b465_1d48affe93a8\n",
      "creation of the sto view demo_user.TDS_STO_SCORING_57d6b26b_7691_4de9_b465_1d48affe93a8\n",
      "register hyper model with id : 533fd2f6-cdf9-4c18-bfd1-11f6c017a587\n",
      "hyper model : 533fd2f6-cdf9-4c18-bfd1-11f6c017a587\n",
      "CPU times: total: 109 ms\n",
      "Wall time: 28.2 s\n"
     ]
    }
   ],
   "source": [
    "%%time\n",
    "model = HyperModel(tdstone            = sto,\n",
    "                   metadata           = {'project': 'test'},\n",
    "                   skl_pipeline_steps = steps_anomaly_detection,\n",
    "                   model_parameters   = model_parameters,\n",
    "                   dataset            = tdml.in_schema(Param['database'],'dataset_00'),\n",
    "                   id_row             = 'ID',\n",
    "                   id_partition       = 'Partition_ID',\n",
    "                   id_fold            = 'FOLD',\n",
    "                   fold_training      = 'train',\n",
    "                   convert_to_onnx    = True\n",
    "                  )"
   ]
  },
  {
   "cell_type": "code",
   "execution_count": 10,
   "id": "22d474e7-7b9b-4792-9af4-fb071803cd9b",
   "metadata": {},
   "outputs": [
    {
     "data": {
      "text/html": [
       "<style type=\"text/css\">\n",
       "\ttable {border:ridge 5px;}\n",
       "\ttable td {border:inset 1px;}\n",
       "\ttable tr#HeaderRow {background-color:grey; color:white;}</style>\n",
       "<html><table>\n",
       "\t<tr id=\"HeaderRow\">\n",
       "\t\t<th>CREATION_DATE</th>\n",
       "\t\t<th>ID</th>\n",
       "\t\t<th>ID_MODEL</th>\n",
       "\t\t<th>ID_MAPPER_TRAINING</th>\n",
       "\t\t<th>ID_MAPPER_SCORING</th>\n",
       "\t\t<th>METADATA</th>\n",
       "\t</tr>\n",
       "\t<tr>\n",
       "\t\t<td>2025-01-08 05:26:48.160000-05:</td>\n",
       "\t\t<td>654b028b-741e-4a46-8e5d-d966ac8a07b1</td>\n",
       "\t\t<td>1feb2a86-622c-4c56-8e94-4c367d1a232e</td>\n",
       "\t\t<td>05842693-ddf1-4589-8d7b-a7ea4e952b95</td>\n",
       "\t\t<td>a93604aa-2204-45a6-b4f5-1edab0414da1</td>\n",
       "\t\t<td>{\"user\": \"dm250067\", \"project\": \"test\"}</td>\n",
       "\t</tr>\n",
       "\t<tr>\n",
       "\t\t<td>2025-01-08 06:28:41.130000-05:</td>\n",
       "\t\t<td>533fd2f6-cdf9-4c18-bfd1-11f6c017a587</td>\n",
       "\t\t<td>0fe42030-d412-411b-9695-8571c07507a0</td>\n",
       "\t\t<td>fca98df7-3e26-41f5-a8a8-0036c348fb9a</td>\n",
       "\t\t<td>57d6b26b-7691-4de9-b465-1d48affe93a8</td>\n",
       "\t\t<td>{\"user\": \"dm250067\", \"project\": \"test\"}</td>\n",
       "\t</tr>\n",
       "\t<tr>\n",
       "\t\t<td>2025-01-08 05:36:52.330000-05:</td>\n",
       "\t\t<td>91fb8620-0b80-4cec-a8a5-e1de531e608e</td>\n",
       "\t\t<td>06e9bc9e-32f1-4f7b-88f9-5a09e1ac8204</td>\n",
       "\t\t<td>72ef3ebe-73d5-4a13-89d3-e093b53c81d1</td>\n",
       "\t\t<td>d14273b9-df63-444b-98ce-0bad17935b12</td>\n",
       "\t\t<td>{\"user\": \"dm250067\", \"project\": \"test\"}</td>\n",
       "\t</tr>\n",
       "\t<tr>\n",
       "\t\t<td>2025-01-08 05:31:04.970000-05:</td>\n",
       "\t\t<td>c5ef0032-dd20-4b48-817e-6fe7e3c42e55</td>\n",
       "\t\t<td>505ea202-bbf4-4b2c-9639-2a18176d97f1</td>\n",
       "\t\t<td>dc1cdd3e-111f-440e-ae0e-c0b3336c0716</td>\n",
       "\t\t<td>431b1e0c-57a4-4ae8-bb3e-3a2372349857</td>\n",
       "\t\t<td>{\"user\": \"dm250067\", \"project\": \"test\"}</td>\n",
       "\t</tr>\n",
       "</table></html>"
      ],
      "text/plain": [
       "                                                       CREATION_DATE                              ID_MODEL                    ID_MAPPER_TRAINING                     ID_MAPPER_SCORING                                 METADATA\n",
       "ID                                                                                                                                                                                                                             \n",
       "654b028b-741e-4a46-8e5d-d966ac8a07b1  2025-01-08 05:26:48.160000-05:  1feb2a86-622c-4c56-8e94-4c367d1a232e  05842693-ddf1-4589-8d7b-a7ea4e952b95  a93604aa-2204-45a6-b4f5-1edab0414da1  {\"user\": \"dm250067\", \"project\": \"test\"}\n",
       "533fd2f6-cdf9-4c18-bfd1-11f6c017a587  2025-01-08 06:28:41.130000-05:  0fe42030-d412-411b-9695-8571c07507a0  fca98df7-3e26-41f5-a8a8-0036c348fb9a  57d6b26b-7691-4de9-b465-1d48affe93a8  {\"user\": \"dm250067\", \"project\": \"test\"}\n",
       "91fb8620-0b80-4cec-a8a5-e1de531e608e  2025-01-08 05:36:52.330000-05:  06e9bc9e-32f1-4f7b-88f9-5a09e1ac8204  72ef3ebe-73d5-4a13-89d3-e093b53c81d1  d14273b9-df63-444b-98ce-0bad17935b12  {\"user\": \"dm250067\", \"project\": \"test\"}\n",
       "c5ef0032-dd20-4b48-817e-6fe7e3c42e55  2025-01-08 05:31:04.970000-05:  505ea202-bbf4-4b2c-9639-2a18176d97f1  dc1cdd3e-111f-440e-ae0e-c0b3336c0716  431b1e0c-57a4-4ae8-bb3e-3a2372349857  {\"user\": \"dm250067\", \"project\": \"test\"}"
      ]
     },
     "execution_count": 10,
     "metadata": {},
     "output_type": "execute_result"
    }
   ],
   "source": [
    "sto.list_hyper_models()"
   ]
  },
  {
   "cell_type": "code",
   "execution_count": 11,
   "id": "35f824de-bd86-403f-bd77-878a1c491dbb",
   "metadata": {},
   "outputs": [
    {
     "data": {
      "text/plain": [
       "'533fd2f6-cdf9-4c18-bfd1-11f6c017a587'"
      ]
     },
     "execution_count": 11,
     "metadata": {},
     "output_type": "execute_result"
    }
   ],
   "source": [
    "id = sto.list_hyper_models()[['ID','CREATION_DATE']].to_pandas().reset_index().sort_values('CREATION_DATE', ascending=False).iloc[0,0]\n",
    "id"
   ]
  },
  {
   "cell_type": "markdown",
   "id": "0bf5924f-5002-4394-b44d-3c941a70df9e",
   "metadata": {},
   "source": [
    "## 4 - Execution of the deployed hypermodel"
   ]
  },
  {
   "cell_type": "markdown",
   "id": "38ceb441-eee6-4652-a1a2-50663fd26d8f",
   "metadata": {},
   "source": [
    "### 4.1 - Models Training"
   ]
  },
  {
   "cell_type": "code",
   "execution_count": 12,
   "id": "086fe28e-fdc6-44fa-ba26-82ada8c97b40",
   "metadata": {},
   "outputs": [
    {
     "name": "stdout",
     "output_type": "stream",
     "text": [
      "insert trained models in demo_user.TDS_TRAINED_MODELS_fca98df7_3e26_41f5_a8a8_0036c348fb9a\n",
      "- access pickle models in demo_user.V_TDS_TRAINED_MODELS_fca98df7_3e26_41f5_a8a8_0036c348fb9a_PICKLE\n",
      "- access  onnx  models in demo_user.V_TDS_TRAINED_MODELS_fca98df7_3e26_41f5_a8a8_0036c348fb9a_ONNX\n",
      "- onnx byom catalog    in demo_user.V_TDS_TRAINED_MODELS_fca98df7_3e26_41f5_a8a8_0036c348fb9a_BYOM_CATALOG\n",
      "CPU times: total: 0 ns\n",
      "Wall time: 12.4 s\n"
     ]
    }
   ],
   "source": [
    "%%time\n",
    "model.train()"
   ]
  },
  {
   "cell_type": "code",
   "execution_count": 13,
   "id": "8f49f1e6-ca1a-4896-bcd5-46193888ee5e",
   "metadata": {},
   "outputs": [
    {
     "name": "stdout",
     "output_type": "stream",
     "text": [
      "demo_user TDS_MODEL_REPOSITORY\n"
     ]
    },
    {
     "data": {
      "text/html": [
       "<style type=\"text/css\">\n",
       "\ttable {border:ridge 5px;}\n",
       "\ttable td {border:inset 1px;}\n",
       "\ttable tr#HeaderRow {background-color:grey; color:white;}</style>\n",
       "<html><table>\n",
       "\t<tr id=\"HeaderRow\">\n",
       "\t\t<th>TD_TIMECODE</th>\n",
       "\t\t<th>MODEL_TYPE</th>\n",
       "\t\t<th>count_ID_PROCESS</th>\n",
       "\t\t<th>count_Partition_ID</th>\n",
       "\t\t<th>count_ID_MODEL</th>\n",
       "\t\t<th>count_ID_TRAINED_MODEL</th>\n",
       "\t\t<th>count_STATUS</th>\n",
       "\t</tr>\n",
       "\t<tr>\n",
       "\t\t<td>9999-01-01 00:00:00.000000-04:</td>\n",
       "\t\t<td>pickle</td>\n",
       "\t\t<td>4</td>\n",
       "\t\t<td>4</td>\n",
       "\t\t<td>4</td>\n",
       "\t\t<td>4</td>\n",
       "\t\t<td>4</td>\n",
       "\t</tr>\n",
       "\t<tr>\n",
       "\t\t<td>9999-01-01 00:00:00.000000-04:</td>\n",
       "\t\t<td>onnx</td>\n",
       "\t\t<td>4</td>\n",
       "\t\t<td>4</td>\n",
       "\t\t<td>4</td>\n",
       "\t\t<td>4</td>\n",
       "\t\t<td>4</td>\n",
       "\t</tr>\n",
       "</table></html>"
      ],
      "text/plain": [
       "                      TD_TIMECODE MODEL_TYPE  count_ID_PROCESS  count_Partition_ID  count_ID_MODEL  count_ID_TRAINED_MODEL  count_STATUS\n",
       "0  9999-01-01 00:00:00.000000-04:     pickle                 4                   4               4                       4             4\n",
       "1  9999-01-01 00:00:00.000000-04:       onnx                 4                   4               4                       4             4"
      ]
     },
     "execution_count": 13,
     "metadata": {},
     "output_type": "execute_result"
    }
   ],
   "source": [
    "model.get_trained_models().groupby(['TD_TIMECODE','MODEL_TYPE']).count().sort(['TD_TIMECODE','MODEL_TYPE'],ascending=False)"
   ]
  },
  {
   "cell_type": "markdown",
   "id": "52136232-6ab6-41c6-9e9a-87a705dad3f7",
   "metadata": {},
   "source": [
    "### 4.2 - Model Scoring"
   ]
  },
  {
   "cell_type": "code",
   "execution_count": 14,
   "id": "f201c42c-e052-40b0-9703-402172e8b2fb",
   "metadata": {},
   "outputs": [
    {
     "name": "stdout",
     "output_type": "stream",
     "text": [
      "creation of the on clause view demo_user.TDS_ON_CLAUSE_SCORING_57d6b26b_7691_4de9_b465_1d48affe93a8\n",
      "creation of the volatile table on on clause view demo_user.TDS_STO_SCORING_57d6b26b_7691_4de9_b465_1d48affe93a8\n",
      "insert scores in demo_user.TDS_SCORES_57d6b26b_7691_4de9_b465_1d48affe93a8\n",
      "CPU times: total: 93.8 ms\n",
      "Wall time: 23 s\n"
     ]
    }
   ],
   "source": [
    "%%time\n",
    "model.score()"
   ]
  },
  {
   "cell_type": "code",
   "execution_count": 15,
   "id": "f849efd8-5890-4636-bfcd-d3903999d617",
   "metadata": {},
   "outputs": [
    {
     "name": "stdout",
     "output_type": "stream",
     "text": [
      "demo_user TDS_SCORES_57d6b26b_7691_4de9_b465_1d48affe93a8\n"
     ]
    },
    {
     "data": {
      "text/html": [
       "<style type=\"text/css\">\n",
       "\ttable {border:ridge 5px;}\n",
       "\ttable td {border:inset 1px;}\n",
       "\ttable tr#HeaderRow {background-color:grey; color:white;}</style>\n",
       "<html><table>\n",
       "\t<tr id=\"HeaderRow\">\n",
       "\t\t<th>TD_TIMECODE</th>\n",
       "\t\t<th>count_ID_PROCESS</th>\n",
       "\t\t<th>count_ID_TRAINED_MODEL</th>\n",
       "\t\t<th>count_Partition_ID</th>\n",
       "\t\t<th>count_ID</th>\n",
       "\t\t<th>count_anomaly_prediction</th>\n",
       "\t\t<th>count_anomaly_score</th>\n",
       "\t\t<th>count_decision_function</th>\n",
       "\t</tr>\n",
       "\t<tr>\n",
       "\t\t<td>9999-01-01 00:00:00.000000-04:</td>\n",
       "\t\t<td>40000</td>\n",
       "\t\t<td>40000</td>\n",
       "\t\t<td>40000</td>\n",
       "\t\t<td>40000</td>\n",
       "\t\t<td>40000</td>\n",
       "\t\t<td>40000</td>\n",
       "\t\t<td>40000</td>\n",
       "\t</tr>\n",
       "</table></html>"
      ],
      "text/plain": [
       "                      TD_TIMECODE  count_ID_PROCESS  count_ID_TRAINED_MODEL  count_Partition_ID  count_ID  count_anomaly_prediction  count_anomaly_score  count_decision_function\n",
       "0  9999-01-01 00:00:00.000000-04:             40000                   40000               40000     40000                     40000                40000                    40000"
      ]
     },
     "execution_count": 15,
     "metadata": {},
     "output_type": "execute_result"
    }
   ],
   "source": [
    "model.get_model_predictions().groupby('TD_TIMECODE').count()"
   ]
  },
  {
   "cell_type": "code",
   "execution_count": 16,
   "id": "5636e4c9-bb03-41be-b3b8-4d45dba39464",
   "metadata": {},
   "outputs": [
    {
     "name": "stdout",
     "output_type": "stream",
     "text": [
      "demo_user TDS_SCORES_57d6b26b_7691_4de9_b465_1d48affe93a8\n"
     ]
    },
    {
     "data": {
      "text/html": [
       "<style type=\"text/css\">\n",
       "\ttable {border:ridge 5px;}\n",
       "\ttable td {border:inset 1px;}\n",
       "\ttable tr#HeaderRow {background-color:grey; color:white;}</style>\n",
       "<html><table>\n",
       "\t<tr id=\"HeaderRow\">\n",
       "\t\t<th>TD_TIMECODE</th>\n",
       "\t\t<th>ID_PROCESS</th>\n",
       "\t\t<th>ID_TRAINED_MODEL</th>\n",
       "\t\t<th>Partition_ID</th>\n",
       "\t\t<th>ID</th>\n",
       "\t\t<th>anomaly_prediction</th>\n",
       "\t\t<th>anomaly_score</th>\n",
       "\t\t<th>decision_function</th>\n",
       "\t</tr>\n",
       "\t<tr>\n",
       "\t\t<td>9999-01-01 00:00:00.000000-04:</td>\n",
       "\t\t<td>TDS_STO_SCORING_57d6b26b_7691_4de9_b465_1d48affe93a8</td>\n",
       "\t\t<td>303151d8-425c-478b-9e60-5034302e069c</td>\n",
       "\t\t<td>4</td>\n",
       "\t\t<td>28365</td>\n",
       "\t\t<td>1.0</td>\n",
       "\t\t<td>9.23391768625777</td>\n",
       "\t\t<td>4.509748264786916</td>\n",
       "\t</tr>\n",
       "\t<tr>\n",
       "\t\t<td>9999-01-01 00:00:00.000000-04:</td>\n",
       "\t\t<td>TDS_STO_SCORING_57d6b26b_7691_4de9_b465_1d48affe93a8</td>\n",
       "\t\t<td>303151d8-425c-478b-9e60-5034302e069c</td>\n",
       "\t\t<td>4</td>\n",
       "\t\t<td>25206</td>\n",
       "\t\t<td>1.0</td>\n",
       "\t\t<td>9.70329233096049</td>\n",
       "\t\t<td>4.979122909489636</td>\n",
       "\t</tr>\n",
       "\t<tr>\n",
       "\t\t<td>9999-01-01 00:00:00.000000-04:</td>\n",
       "\t\t<td>TDS_STO_SCORING_57d6b26b_7691_4de9_b465_1d48affe93a8</td>\n",
       "\t\t<td>1ecac149-c3c2-4f73-953e-cac0493ed72a</td>\n",
       "\t\t<td>1</td>\n",
       "\t\t<td>8496</td>\n",
       "\t\t<td>1.0</td>\n",
       "\t\t<td>7.770037660204008</td>\n",
       "\t\t<td>3.097663240446253</td>\n",
       "\t</tr>\n",
       "\t<tr>\n",
       "\t\t<td>9999-01-01 00:00:00.000000-04:</td>\n",
       "\t\t<td>TDS_STO_SCORING_57d6b26b_7691_4de9_b465_1d48affe93a8</td>\n",
       "\t\t<td>303151d8-425c-478b-9e60-5034302e069c</td>\n",
       "\t\t<td>4</td>\n",
       "\t\t<td>27313</td>\n",
       "\t\t<td>1.0</td>\n",
       "\t\t<td>6.006099905429239</td>\n",
       "\t\t<td>1.2819304839583845</td>\n",
       "\t</tr>\n",
       "\t<tr>\n",
       "\t\t<td>9999-01-01 00:00:00.000000-04:</td>\n",
       "\t\t<td>TDS_STO_SCORING_57d6b26b_7691_4de9_b465_1d48affe93a8</td>\n",
       "\t\t<td>303151d8-425c-478b-9e60-5034302e069c</td>\n",
       "\t\t<td>4</td>\n",
       "\t\t<td>24756</td>\n",
       "\t\t<td>1.0</td>\n",
       "\t\t<td>5.9121897193573805</td>\n",
       "\t\t<td>1.188020297886526</td>\n",
       "\t</tr>\n",
       "\t<tr>\n",
       "\t\t<td>9999-01-01 00:00:00.000000-04:</td>\n",
       "\t\t<td>TDS_STO_SCORING_57d6b26b_7691_4de9_b465_1d48affe93a8</td>\n",
       "\t\t<td>303151d8-425c-478b-9e60-5034302e069c</td>\n",
       "\t\t<td>4</td>\n",
       "\t\t<td>20697</td>\n",
       "\t\t<td>1.0</td>\n",
       "\t\t<td>6.319797705611916</td>\n",
       "\t\t<td>1.5956282841410614</td>\n",
       "\t</tr>\n",
       "\t<tr>\n",
       "\t\t<td>9999-01-01 00:00:00.000000-04:</td>\n",
       "\t\t<td>TDS_STO_SCORING_57d6b26b_7691_4de9_b465_1d48affe93a8</td>\n",
       "\t\t<td>7914e873-7d00-4c18-8506-951c2ff1342a</td>\n",
       "\t\t<td>6</td>\n",
       "\t\t<td>31268</td>\n",
       "\t\t<td>1.0</td>\n",
       "\t\t<td>6.75085965440556</td>\n",
       "\t\t<td>1.9516674462262724</td>\n",
       "\t</tr>\n",
       "\t<tr>\n",
       "\t\t<td>9999-01-01 00:00:00.000000-04:</td>\n",
       "\t\t<td>TDS_STO_SCORING_57d6b26b_7691_4de9_b465_1d48affe93a8</td>\n",
       "\t\t<td>7914e873-7d00-4c18-8506-951c2ff1342a</td>\n",
       "\t\t<td>6</td>\n",
       "\t\t<td>31812</td>\n",
       "\t\t<td>1.0</td>\n",
       "\t\t<td>9.497493993836265</td>\n",
       "\t\t<td>4.6983017856569775</td>\n",
       "\t</tr>\n",
       "\t<tr>\n",
       "\t\t<td>9999-01-01 00:00:00.000000-04:</td>\n",
       "\t\t<td>TDS_STO_SCORING_57d6b26b_7691_4de9_b465_1d48affe93a8</td>\n",
       "\t\t<td>1ecac149-c3c2-4f73-953e-cac0493ed72a</td>\n",
       "\t\t<td>1</td>\n",
       "\t\t<td>3644</td>\n",
       "\t\t<td>1.0</td>\n",
       "\t\t<td>8.801543039734602</td>\n",
       "\t\t<td>4.129168619976847</td>\n",
       "\t</tr>\n",
       "\t<tr>\n",
       "\t\t<td>9999-01-01 00:00:00.000000-04:</td>\n",
       "\t\t<td>TDS_STO_SCORING_57d6b26b_7691_4de9_b465_1d48affe93a8</td>\n",
       "\t\t<td>303151d8-425c-478b-9e60-5034302e069c</td>\n",
       "\t\t<td>4</td>\n",
       "\t\t<td>24306</td>\n",
       "\t\t<td>1.0</td>\n",
       "\t\t<td>9.436023685053652</td>\n",
       "\t\t<td>4.711854263582797</td>\n",
       "\t</tr>\n",
       "</table></html>"
      ],
      "text/plain": [
       "                      TD_TIMECODE                                            ID_PROCESS                      ID_TRAINED_MODEL  Partition_ID     ID  anomaly_prediction  anomaly_score  decision_function\n",
       "0  9999-01-01 00:00:00.000000-04:  TDS_STO_SCORING_57d6b26b_7691_4de9_b465_1d48affe93a8  303151d8-425c-478b-9e60-5034302e069c             4  28365                 1.0       9.233918           4.509748\n",
       "1  9999-01-01 00:00:00.000000-04:  TDS_STO_SCORING_57d6b26b_7691_4de9_b465_1d48affe93a8  303151d8-425c-478b-9e60-5034302e069c             4  25206                 1.0       9.703292           4.979123\n",
       "2  9999-01-01 00:00:00.000000-04:  TDS_STO_SCORING_57d6b26b_7691_4de9_b465_1d48affe93a8  1ecac149-c3c2-4f73-953e-cac0493ed72a             1   8496                 1.0       7.770038           3.097663\n",
       "3  9999-01-01 00:00:00.000000-04:  TDS_STO_SCORING_57d6b26b_7691_4de9_b465_1d48affe93a8  303151d8-425c-478b-9e60-5034302e069c             4  27313                 1.0       6.006100           1.281930\n",
       "4  9999-01-01 00:00:00.000000-04:  TDS_STO_SCORING_57d6b26b_7691_4de9_b465_1d48affe93a8  303151d8-425c-478b-9e60-5034302e069c             4  24756                 1.0       5.912190           1.188020\n",
       "5  9999-01-01 00:00:00.000000-04:  TDS_STO_SCORING_57d6b26b_7691_4de9_b465_1d48affe93a8  303151d8-425c-478b-9e60-5034302e069c             4  20697                 1.0       6.319798           1.595628\n",
       "6  9999-01-01 00:00:00.000000-04:  TDS_STO_SCORING_57d6b26b_7691_4de9_b465_1d48affe93a8  7914e873-7d00-4c18-8506-951c2ff1342a             6  31268                 1.0       6.750860           1.951667\n",
       "7  9999-01-01 00:00:00.000000-04:  TDS_STO_SCORING_57d6b26b_7691_4de9_b465_1d48affe93a8  7914e873-7d00-4c18-8506-951c2ff1342a             6  31812                 1.0       9.497494           4.698302\n",
       "8  9999-01-01 00:00:00.000000-04:  TDS_STO_SCORING_57d6b26b_7691_4de9_b465_1d48affe93a8  1ecac149-c3c2-4f73-953e-cac0493ed72a             1   3644                 1.0       8.801543           4.129169\n",
       "9  9999-01-01 00:00:00.000000-04:  TDS_STO_SCORING_57d6b26b_7691_4de9_b465_1d48affe93a8  303151d8-425c-478b-9e60-5034302e069c             4  24306                 1.0       9.436024           4.711854"
      ]
     },
     "execution_count": 16,
     "metadata": {},
     "output_type": "execute_result"
    }
   ],
   "source": [
    "model.get_model_predictions()"
   ]
  },
  {
   "cell_type": "markdown",
   "id": "b1cebdc4-e239-4efb-a845-5fceeb8a866d",
   "metadata": {},
   "source": [
    "## 5 - A bit of administration: Model Lineage"
   ]
  },
  {
   "cell_type": "markdown",
   "id": "f6a09da4-0ced-4fbb-a36b-195b80f12fc5",
   "metadata": {},
   "source": [
    "### 5.1 - Access to the list of deployed codes"
   ]
  },
  {
   "cell_type": "code",
   "execution_count": 17,
   "id": "b612f08e-abea-4dc0-bb28-9db6bffd07ec",
   "metadata": {},
   "outputs": [
    {
     "data": {
      "text/html": [
       "<style type=\"text/css\">\n",
       "\ttable {border:ridge 5px;}\n",
       "\ttable td {border:inset 1px;}\n",
       "\ttable tr#HeaderRow {background-color:grey; color:white;}</style>\n",
       "<html><table>\n",
       "\t<tr id=\"HeaderRow\">\n",
       "\t\t<th>ID</th>\n",
       "\t\t<th>CODE_TYPE</th>\n",
       "\t\t<th>METADATA</th>\n",
       "\t</tr>\n",
       "\t<tr>\n",
       "\t\t<td>48dea5f2-7862-4f1a-9b71-3f03661772e2</td>\n",
       "\t\t<td>python class</td>\n",
       "\t\t<td>{\"user\": \"dm250067\", \"code_type\": \"python class\", \"project\": \"test\", \"script_path\": \"from memory\"}</td>\n",
       "\t</tr>\n",
       "\t<tr>\n",
       "\t\t<td>0a923c33-9369-407e-80a0-187ffa2a9837</td>\n",
       "\t\t<td>python class</td>\n",
       "\t\t<td>{\"user\": \"dm250067\", \"code_type\": \"python class\", \"project\": \"test\", \"script_path\": \"from memory\"}</td>\n",
       "\t</tr>\n",
       "\t<tr>\n",
       "\t\t<td>c88da75f-4c35-4fb4-8b2b-52105610adf7</td>\n",
       "\t\t<td>python class</td>\n",
       "\t\t<td>{\"user\": \"dm250067\", \"code_type\": \"python class\", \"project\": \"test\", \"script_path\": \"from memory\"}</td>\n",
       "\t</tr>\n",
       "\t<tr>\n",
       "\t\t<td>2498d459-7d97-46c3-8cec-40f350c7230f</td>\n",
       "\t\t<td>python class</td>\n",
       "\t\t<td>{\"user\": \"dm250067\", \"code_type\": \"python class\", \"project\": \"test\", \"script_path\": \"from memory\"}</td>\n",
       "\t</tr>\n",
       "</table></html>"
      ],
      "text/plain": [
       "                                     ID     CODE_TYPE                                                                                            METADATA\n",
       "0  48dea5f2-7862-4f1a-9b71-3f03661772e2  python class  {\"user\": \"dm250067\", \"code_type\": \"python class\", \"project\": \"test\", \"script_path\": \"from memory\"}\n",
       "1  0a923c33-9369-407e-80a0-187ffa2a9837  python class  {\"user\": \"dm250067\", \"code_type\": \"python class\", \"project\": \"test\", \"script_path\": \"from memory\"}\n",
       "2  c88da75f-4c35-4fb4-8b2b-52105610adf7  python class  {\"user\": \"dm250067\", \"code_type\": \"python class\", \"project\": \"test\", \"script_path\": \"from memory\"}\n",
       "3  2498d459-7d97-46c3-8cec-40f350c7230f  python class  {\"user\": \"dm250067\", \"code_type\": \"python class\", \"project\": \"test\", \"script_path\": \"from memory\"}"
      ]
     },
     "execution_count": 17,
     "metadata": {},
     "output_type": "execute_result"
    }
   ],
   "source": [
    "sto.list_codes()"
   ]
  },
  {
   "cell_type": "markdown",
   "id": "a419b40b-96f3-4581-b4ee-2181bc5ccc18",
   "metadata": {},
   "source": [
    "### 5.2 - List of deployed models (code + parameters)"
   ]
  },
  {
   "cell_type": "code",
   "execution_count": 18,
   "id": "c01db108-8688-4ef9-a602-084a38923775",
   "metadata": {},
   "outputs": [
    {
     "data": {
      "text/html": [
       "<style type=\"text/css\">\n",
       "\ttable {border:ridge 5px;}\n",
       "\ttable td {border:inset 1px;}\n",
       "\ttable tr#HeaderRow {background-color:grey; color:white;}</style>\n",
       "<html><table>\n",
       "\t<tr id=\"HeaderRow\">\n",
       "\t\t<th>ID</th>\n",
       "\t\t<th>ID_CODE</th>\n",
       "\t\t<th>ARGUMENTS</th>\n",
       "\t\t<th>METADATA</th>\n",
       "\t</tr>\n",
       "\t<tr>\n",
       "\t\t<td>505ea202-bbf4-4b2c-9639-2a18176d97f1</td>\n",
       "\t\t<td>0a923c33-9369-407e-80a0-187ffa2a9837</td>\n",
       "\t\t<td>{\"sto_parameters\": {\"columnnames\": [\"Partition_ID\", \"ID\", \"X1\", \"X2\", \"X3\", \"X4\", \"X5\", \"X6\", \"X7\", \"X8\", \"X9\", \"flag\", \"Y1\", \"Y2\", \"FOLD\"], \"float_columnames\": [\"X1\", \"X2\", \"X3\", \"X4\", \"X5\", \"X6\", \"X7\", \"X8\", \"X9\", \"Y1\"], \"integer_columnames\": [\"Partition_ID\", \"ID\", \"flag\", \"Y2\"], \"category_columns\": [], \"output_format\": [\"pickle\"]}, \"model_parameters\": {\"target\": \"Y1\", \"column_categorical\": [\"flag\"], \"column_names_X\": [\"X1\", \"X2\", \"X3\", \"X4\", \"X5\", \"X6\", \"X7\", \"X8\", \"X9\", \"flag\"], \"arguments\": {\"regressor__max_depth\": 5, \"regressor__n_estimators\": 95}}}</td>\n",
       "\t\t<td>{\"user\": \"dm250067\", \"project\": \"test\"}</td>\n",
       "\t</tr>\n",
       "\t<tr>\n",
       "\t\t<td>06e9bc9e-32f1-4f7b-88f9-5a09e1ac8204</td>\n",
       "\t\t<td>48dea5f2-7862-4f1a-9b71-3f03661772e2</td>\n",
       "\t\t<td>{\"sto_parameters\": {\"columnnames\": [\"Partition_ID\", \"ID\", \"X1\", \"X2\", \"X3\", \"X4\", \"X5\", \"X6\", \"X7\", \"X8\", \"X9\", \"flag\", \"Y1\", \"Y2\", \"FOLD\"], \"float_columnames\": [\"X1\", \"X2\", \"X3\", \"X4\", \"X5\", \"X6\", \"X7\", \"X8\", \"X9\", \"Y1\"], \"integer_columnames\": [\"Partition_ID\", \"ID\", \"flag\", \"Y2\"], \"category_columns\": [], \"output_format\": [\"pickle\"]}, \"model_parameters\": {\"column_categorical\": [\"flag\"], \"column_names_X\": [\"X1\", \"X2\", \"X3\", \"X4\", \"X5\", \"X6\", \"X7\", \"X8\", \"X9\", \"flag\"], \"target\": \"\", \"arguments\": {\"one_class_svm__gamma\": \"auto\", \"one_class_svm__nu\": 0.05}}}</td>\n",
       "\t\t<td>{\"user\": \"dm250067\", \"project\": \"test\"}</td>\n",
       "\t</tr>\n",
       "\t<tr>\n",
       "\t\t<td>1feb2a86-622c-4c56-8e94-4c367d1a232e</td>\n",
       "\t\t<td>c88da75f-4c35-4fb4-8b2b-52105610adf7</td>\n",
       "\t\t<td>{\"sto_parameters\": {\"columnnames\": [\"Partition_ID\", \"ID\", \"X1\", \"X2\", \"X3\", \"X4\", \"X5\", \"X6\", \"X7\", \"X8\", \"X9\", \"flag\", \"Y1\", \"Y2\", \"FOLD\"], \"float_columnames\": [\"X1\", \"X2\", \"X3\", \"X4\", \"X5\", \"X6\", \"X7\", \"X8\", \"X9\", \"Y1\"], \"integer_columnames\": [\"Partition_ID\", \"ID\", \"flag\", \"Y2\"], \"category_columns\": [], \"output_format\": [\"pickle\"]}, \"model_parameters\": {\"target\": \"Y2\", \"column_categorical\": [\"flag\", \"Y2\"], \"column_names_X\": [\"X1\", \"X2\", \"X3\", \"X4\", \"X5\", \"X6\", \"X7\", \"X8\", \"X9\", \"flag\"], \"arguments\": {\"classifier__max_depth\": 5, \"classifier__n_estimators\": 95}}}</td>\n",
       "\t\t<td>{\"user\": \"dm250067\", \"project\": \"test\"}</td>\n",
       "\t</tr>\n",
       "\t<tr>\n",
       "\t\t<td>0fe42030-d412-411b-9695-8571c07507a0</td>\n",
       "\t\t<td>2498d459-7d97-46c3-8cec-40f350c7230f</td>\n",
       "\t\t<td>{\"sto_parameters\": {\"columnnames\": [\"Partition_ID\", \"ID\", \"X1\", \"X2\", \"X3\", \"X4\", \"X5\", \"X6\", \"X7\", \"X8\", \"X9\", \"flag\", \"Y1\", \"Y2\", \"FOLD\"], \"float_columnames\": [\"X1\", \"X2\", \"X3\", \"X4\", \"X5\", \"X6\", \"X7\", \"X8\", \"X9\", \"Y1\"], \"integer_columnames\": [\"Partition_ID\", \"ID\", \"flag\", \"Y2\"], \"category_columns\": [], \"output_format\": [\"onnx\", \"pickle\"]}, \"model_parameters\": {\"column_categorical\": [\"flag\"], \"column_names_X\": [\"X1\", \"X2\", \"X3\", \"X4\", \"X5\", \"X6\", \"X7\", \"X8\", \"X9\", \"flag\"], \"target\": \"\", \"arguments\": {\"one_class_svm__gamma\": \"auto\", \"one_class_svm__nu\": 0.05}}}</td>\n",
       "\t\t<td>{\"user\": \"dm250067\", \"project\": \"test\"}</td>\n",
       "\t</tr>\n",
       "</table></html>"
      ],
      "text/plain": [
       "                                     ID                               ID_CODE                                                                                                                                                                                                                                                                                                                                                                                                                                                                                                                                                                                  ARGUMENTS                                 METADATA\n",
       "0  505ea202-bbf4-4b2c-9639-2a18176d97f1  0a923c33-9369-407e-80a0-187ffa2a9837          {\"sto_parameters\": {\"columnnames\": [\"Partition_ID\", \"ID\", \"X1\", \"X2\", \"X3\", \"X4\", \"X5\", \"X6\", \"X7\", \"X8\", \"X9\", \"flag\", \"Y1\", \"Y2\", \"FOLD\"], \"float_columnames\": [\"X1\", \"X2\", \"X3\", \"X4\", \"X5\", \"X6\", \"X7\", \"X8\", \"X9\", \"Y1\"], \"integer_columnames\": [\"Partition_ID\", \"ID\", \"flag\", \"Y2\"], \"category_columns\": [], \"output_format\": [\"pickle\"]}, \"model_parameters\": {\"target\": \"Y1\", \"column_categorical\": [\"flag\"], \"column_names_X\": [\"X1\", \"X2\", \"X3\", \"X4\", \"X5\", \"X6\", \"X7\", \"X8\", \"X9\", \"flag\"], \"arguments\": {\"regressor__max_depth\": 5, \"regressor__n_estimators\": 95}}}  {\"user\": \"dm250067\", \"project\": \"test\"}\n",
       "1  06e9bc9e-32f1-4f7b-88f9-5a09e1ac8204  48dea5f2-7862-4f1a-9b71-3f03661772e2           {\"sto_parameters\": {\"columnnames\": [\"Partition_ID\", \"ID\", \"X1\", \"X2\", \"X3\", \"X4\", \"X5\", \"X6\", \"X7\", \"X8\", \"X9\", \"flag\", \"Y1\", \"Y2\", \"FOLD\"], \"float_columnames\": [\"X1\", \"X2\", \"X3\", \"X4\", \"X5\", \"X6\", \"X7\", \"X8\", \"X9\", \"Y1\"], \"integer_columnames\": [\"Partition_ID\", \"ID\", \"flag\", \"Y2\"], \"category_columns\": [], \"output_format\": [\"pickle\"]}, \"model_parameters\": {\"column_categorical\": [\"flag\"], \"column_names_X\": [\"X1\", \"X2\", \"X3\", \"X4\", \"X5\", \"X6\", \"X7\", \"X8\", \"X9\", \"flag\"], \"target\": \"\", \"arguments\": {\"one_class_svm__gamma\": \"auto\", \"one_class_svm__nu\": 0.05}}}  {\"user\": \"dm250067\", \"project\": \"test\"}\n",
       "2  1feb2a86-622c-4c56-8e94-4c367d1a232e  c88da75f-4c35-4fb4-8b2b-52105610adf7  {\"sto_parameters\": {\"columnnames\": [\"Partition_ID\", \"ID\", \"X1\", \"X2\", \"X3\", \"X4\", \"X5\", \"X6\", \"X7\", \"X8\", \"X9\", \"flag\", \"Y1\", \"Y2\", \"FOLD\"], \"float_columnames\": [\"X1\", \"X2\", \"X3\", \"X4\", \"X5\", \"X6\", \"X7\", \"X8\", \"X9\", \"Y1\"], \"integer_columnames\": [\"Partition_ID\", \"ID\", \"flag\", \"Y2\"], \"category_columns\": [], \"output_format\": [\"pickle\"]}, \"model_parameters\": {\"target\": \"Y2\", \"column_categorical\": [\"flag\", \"Y2\"], \"column_names_X\": [\"X1\", \"X2\", \"X3\", \"X4\", \"X5\", \"X6\", \"X7\", \"X8\", \"X9\", \"flag\"], \"arguments\": {\"classifier__max_depth\": 5, \"classifier__n_estimators\": 95}}}  {\"user\": \"dm250067\", \"project\": \"test\"}\n",
       "3  0fe42030-d412-411b-9695-8571c07507a0  2498d459-7d97-46c3-8cec-40f350c7230f   {\"sto_parameters\": {\"columnnames\": [\"Partition_ID\", \"ID\", \"X1\", \"X2\", \"X3\", \"X4\", \"X5\", \"X6\", \"X7\", \"X8\", \"X9\", \"flag\", \"Y1\", \"Y2\", \"FOLD\"], \"float_columnames\": [\"X1\", \"X2\", \"X3\", \"X4\", \"X5\", \"X6\", \"X7\", \"X8\", \"X9\", \"Y1\"], \"integer_columnames\": [\"Partition_ID\", \"ID\", \"flag\", \"Y2\"], \"category_columns\": [], \"output_format\": [\"onnx\", \"pickle\"]}, \"model_parameters\": {\"column_categorical\": [\"flag\"], \"column_names_X\": [\"X1\", \"X2\", \"X3\", \"X4\", \"X5\", \"X6\", \"X7\", \"X8\", \"X9\", \"flag\"], \"target\": \"\", \"arguments\": {\"one_class_svm__gamma\": \"auto\", \"one_class_svm__nu\": 0.05}}}  {\"user\": \"dm250067\", \"project\": \"test\"}"
      ]
     },
     "execution_count": 18,
     "metadata": {},
     "output_type": "execute_result"
    }
   ],
   "source": [
    "sto.list_models()"
   ]
  },
  {
   "cell_type": "markdown",
   "id": "20649235-85ea-43e3-8ce8-76b6420b1a04",
   "metadata": {},
   "source": [
    "### 5.3 - List of available mappers (mapping between partitions and models or trained models)"
   ]
  },
  {
   "cell_type": "code",
   "execution_count": 19,
   "id": "cea5a615-5bbc-4ed2-81c9-f7cc3e96f258",
   "metadata": {},
   "outputs": [
    {
     "data": {
      "text/html": [
       "<style type=\"text/css\">\n",
       "\ttable {border:ridge 5px;}\n",
       "\ttable td {border:inset 1px;}\n",
       "\ttable tr#HeaderRow {background-color:grey; color:white;}</style>\n",
       "<html><table>\n",
       "\t<tr id=\"HeaderRow\">\n",
       "\t\t<th>ID</th>\n",
       "\t\t<th>MAPPER_TYPE</th>\n",
       "\t\t<th>TABLE_NAME</th>\n",
       "\t\t<th>CODE_REPOSITORY</th>\n",
       "\t\t<th>MODEL_REPOSITORY</th>\n",
       "\t\t<th>TRAINED_MODEL_REPOSITORY</th>\n",
       "\t\t<th>FEATURE_REPOSITORY</th>\n",
       "\t\t<th>SCORES_REPOSITORY</th>\n",
       "\t\t<th>DATASET_OBJECT</th>\n",
       "\t\t<th>COL_ID_ROW</th>\n",
       "\t\t<th>COL_ID_PARTITION</th>\n",
       "\t\t<th>COL_FOLD</th>\n",
       "\t\t<th>ON_CLAUSE_VIEW</th>\n",
       "\t\t<th>STO_VIEW</th>\n",
       "\t\t<th>METADATA</th>\n",
       "\t</tr>\n",
       "\t<tr>\n",
       "\t\t<td>72ef3ebe-73d5-4a13-89d3-e093b53c81d1</td>\n",
       "\t\t<td>training</td>\n",
       "\t\t<td>TDS_MAPPER_72ef3ebe_73d5_4a13_89d3_e093b53c81d1</td>\n",
       "\t\t<td>TDS_CODE_REPOSITORY</td>\n",
       "\t\t<td>TDS_MODEL_REPOSITORY</td>\n",
       "\t\t<td>TDS_TRAINED_MODELS_72ef3ebe_73d5_4a13_89d3_e093b53c81d1</td>\n",
       "\t\t<td>None</td>\n",
       "\t\t<td>None</td>\n",
       "\t\t<td>\"demo_user\".\"dataset_00\"</td>\n",
       "\t\t<td>ID</td>\n",
       "\t\t<td>Partition_ID</td>\n",
       "\t\t<td>FOLD</td>\n",
       "\t\t<td>TDS_ON_CLAUSE_TRAINING_72ef3ebe_73d5_4a13_89d3_e093b53c81d1</td>\n",
       "\t\t<td>TDS_STO_TRAINING_72ef3ebe_73d5_4a13_89d3_e093b53c81d1</td>\n",
       "\t\t<td>{\"user\": \"dm250067\"}</td>\n",
       "\t</tr>\n",
       "\t<tr>\n",
       "\t\t<td>d14273b9-df63-444b-98ce-0bad17935b12</td>\n",
       "\t\t<td>scoring</td>\n",
       "\t\t<td>TDS_MAPPER_d14273b9_df63_444b_98ce_0bad17935b12</td>\n",
       "\t\t<td>TDS_CODE_REPOSITORY</td>\n",
       "\t\t<td>TDS_MODEL_REPOSITORY</td>\n",
       "\t\t<td>TDS_TRAINED_MODELS_72ef3ebe_73d5_4a13_89d3_e093b53c81d1</td>\n",
       "\t\t<td>None</td>\n",
       "\t\t<td>TDS_SCORES_d14273b9_df63_444b_98ce_0bad17935b12</td>\n",
       "\t\t<td>\"demo_user\".\"dataset_00\"</td>\n",
       "\t\t<td>ID</td>\n",
       "\t\t<td>Partition_ID</td>\n",
       "\t\t<td>FOLD</td>\n",
       "\t\t<td>TDS_ON_CLAUSE_SCORING_d14273b9_df63_444b_98ce_0bad17935b12</td>\n",
       "\t\t<td>TDS_STO_SCORING_d14273b9_df63_444b_98ce_0bad17935b12</td>\n",
       "\t\t<td>{\"user\": \"dm250067\"}</td>\n",
       "\t</tr>\n",
       "\t<tr>\n",
       "\t\t<td>fca98df7-3e26-41f5-a8a8-0036c348fb9a</td>\n",
       "\t\t<td>training</td>\n",
       "\t\t<td>TDS_MAPPER_fca98df7_3e26_41f5_a8a8_0036c348fb9a</td>\n",
       "\t\t<td>TDS_CODE_REPOSITORY</td>\n",
       "\t\t<td>TDS_MODEL_REPOSITORY</td>\n",
       "\t\t<td>TDS_TRAINED_MODELS_fca98df7_3e26_41f5_a8a8_0036c348fb9a</td>\n",
       "\t\t<td>None</td>\n",
       "\t\t<td>None</td>\n",
       "\t\t<td>\"demo_user\".\"dataset_00\"</td>\n",
       "\t\t<td>ID</td>\n",
       "\t\t<td>Partition_ID</td>\n",
       "\t\t<td>FOLD</td>\n",
       "\t\t<td>TDS_ON_CLAUSE_TRAINING_fca98df7_3e26_41f5_a8a8_0036c348fb9a</td>\n",
       "\t\t<td>TDS_STO_TRAINING_fca98df7_3e26_41f5_a8a8_0036c348fb9a</td>\n",
       "\t\t<td>{\"user\": \"dm250067\"}</td>\n",
       "\t</tr>\n",
       "\t<tr>\n",
       "\t\t<td>431b1e0c-57a4-4ae8-bb3e-3a2372349857</td>\n",
       "\t\t<td>scoring</td>\n",
       "\t\t<td>TDS_MAPPER_431b1e0c_57a4_4ae8_bb3e_3a2372349857</td>\n",
       "\t\t<td>TDS_CODE_REPOSITORY</td>\n",
       "\t\t<td>TDS_MODEL_REPOSITORY</td>\n",
       "\t\t<td>TDS_TRAINED_MODELS_dc1cdd3e_111f_440e_ae0e_c0b3336c0716</td>\n",
       "\t\t<td>None</td>\n",
       "\t\t<td>TDS_SCORES_431b1e0c_57a4_4ae8_bb3e_3a2372349857</td>\n",
       "\t\t<td>\"demo_user\".\"dataset_00\"</td>\n",
       "\t\t<td>ID</td>\n",
       "\t\t<td>Partition_ID</td>\n",
       "\t\t<td>FOLD</td>\n",
       "\t\t<td>TDS_ON_CLAUSE_SCORING_431b1e0c_57a4_4ae8_bb3e_3a2372349857</td>\n",
       "\t\t<td>TDS_STO_SCORING_431b1e0c_57a4_4ae8_bb3e_3a2372349857</td>\n",
       "\t\t<td>{\"user\": \"dm250067\"}</td>\n",
       "\t</tr>\n",
       "\t<tr>\n",
       "\t\t<td>a93604aa-2204-45a6-b4f5-1edab0414da1</td>\n",
       "\t\t<td>scoring</td>\n",
       "\t\t<td>TDS_MAPPER_a93604aa_2204_45a6_b4f5_1edab0414da1</td>\n",
       "\t\t<td>TDS_CODE_REPOSITORY</td>\n",
       "\t\t<td>TDS_MODEL_REPOSITORY</td>\n",
       "\t\t<td>TDS_TRAINED_MODELS_05842693_ddf1_4589_8d7b_a7ea4e952b95</td>\n",
       "\t\t<td>None</td>\n",
       "\t\t<td>TDS_SCORES_a93604aa_2204_45a6_b4f5_1edab0414da1</td>\n",
       "\t\t<td>\"demo_user\".\"dataset_00\"</td>\n",
       "\t\t<td>ID</td>\n",
       "\t\t<td>Partition_ID</td>\n",
       "\t\t<td>FOLD</td>\n",
       "\t\t<td>TDS_ON_CLAUSE_SCORING_a93604aa_2204_45a6_b4f5_1edab0414da1</td>\n",
       "\t\t<td>TDS_STO_SCORING_a93604aa_2204_45a6_b4f5_1edab0414da1</td>\n",
       "\t\t<td>{\"user\": \"dm250067\"}</td>\n",
       "\t</tr>\n",
       "\t<tr>\n",
       "\t\t<td>05842693-ddf1-4589-8d7b-a7ea4e952b95</td>\n",
       "\t\t<td>training</td>\n",
       "\t\t<td>TDS_MAPPER_05842693_ddf1_4589_8d7b_a7ea4e952b95</td>\n",
       "\t\t<td>TDS_CODE_REPOSITORY</td>\n",
       "\t\t<td>TDS_MODEL_REPOSITORY</td>\n",
       "\t\t<td>TDS_TRAINED_MODELS_05842693_ddf1_4589_8d7b_a7ea4e952b95</td>\n",
       "\t\t<td>None</td>\n",
       "\t\t<td>None</td>\n",
       "\t\t<td>\"demo_user\".\"dataset_00\"</td>\n",
       "\t\t<td>ID</td>\n",
       "\t\t<td>Partition_ID</td>\n",
       "\t\t<td>FOLD</td>\n",
       "\t\t<td>TDS_ON_CLAUSE_TRAINING_05842693_ddf1_4589_8d7b_a7ea4e952b95</td>\n",
       "\t\t<td>TDS_STO_TRAINING_05842693_ddf1_4589_8d7b_a7ea4e952b95</td>\n",
       "\t\t<td>{\"user\": \"dm250067\"}</td>\n",
       "\t</tr>\n",
       "\t<tr>\n",
       "\t\t<td>dc1cdd3e-111f-440e-ae0e-c0b3336c0716</td>\n",
       "\t\t<td>training</td>\n",
       "\t\t<td>TDS_MAPPER_dc1cdd3e_111f_440e_ae0e_c0b3336c0716</td>\n",
       "\t\t<td>TDS_CODE_REPOSITORY</td>\n",
       "\t\t<td>TDS_MODEL_REPOSITORY</td>\n",
       "\t\t<td>TDS_TRAINED_MODELS_dc1cdd3e_111f_440e_ae0e_c0b3336c0716</td>\n",
       "\t\t<td>None</td>\n",
       "\t\t<td>None</td>\n",
       "\t\t<td>\"demo_user\".\"dataset_00\"</td>\n",
       "\t\t<td>ID</td>\n",
       "\t\t<td>Partition_ID</td>\n",
       "\t\t<td>FOLD</td>\n",
       "\t\t<td>TDS_ON_CLAUSE_TRAINING_dc1cdd3e_111f_440e_ae0e_c0b3336c0716</td>\n",
       "\t\t<td>TDS_STO_TRAINING_dc1cdd3e_111f_440e_ae0e_c0b3336c0716</td>\n",
       "\t\t<td>{\"user\": \"dm250067\"}</td>\n",
       "\t</tr>\n",
       "\t<tr>\n",
       "\t\t<td>57d6b26b-7691-4de9-b465-1d48affe93a8</td>\n",
       "\t\t<td>scoring</td>\n",
       "\t\t<td>TDS_MAPPER_57d6b26b_7691_4de9_b465_1d48affe93a8</td>\n",
       "\t\t<td>TDS_CODE_REPOSITORY</td>\n",
       "\t\t<td>TDS_MODEL_REPOSITORY</td>\n",
       "\t\t<td>TDS_TRAINED_MODELS_fca98df7_3e26_41f5_a8a8_0036c348fb9a</td>\n",
       "\t\t<td>None</td>\n",
       "\t\t<td>TDS_SCORES_57d6b26b_7691_4de9_b465_1d48affe93a8</td>\n",
       "\t\t<td>\"demo_user\".\"dataset_00\"</td>\n",
       "\t\t<td>ID</td>\n",
       "\t\t<td>Partition_ID</td>\n",
       "\t\t<td>FOLD</td>\n",
       "\t\t<td>TDS_ON_CLAUSE_SCORING_57d6b26b_7691_4de9_b465_1d48affe93a8</td>\n",
       "\t\t<td>TDS_STO_SCORING_57d6b26b_7691_4de9_b465_1d48affe93a8</td>\n",
       "\t\t<td>{\"user\": \"dm250067\"}</td>\n",
       "\t</tr>\n",
       "</table></html>"
      ],
      "text/plain": [
       "                                     ID MAPPER_TYPE                                       TABLE_NAME      CODE_REPOSITORY      MODEL_REPOSITORY                                 TRAINED_MODEL_REPOSITORY FEATURE_REPOSITORY                                SCORES_REPOSITORY            DATASET_OBJECT COL_ID_ROW COL_ID_PARTITION COL_FOLD                                               ON_CLAUSE_VIEW                                               STO_VIEW              METADATA\n",
       "0  72ef3ebe-73d5-4a13-89d3-e093b53c81d1    training  TDS_MAPPER_72ef3ebe_73d5_4a13_89d3_e093b53c81d1  TDS_CODE_REPOSITORY  TDS_MODEL_REPOSITORY  TDS_TRAINED_MODELS_72ef3ebe_73d5_4a13_89d3_e093b53c81d1               None                                             None  \"demo_user\".\"dataset_00\"         ID     Partition_ID     FOLD  TDS_ON_CLAUSE_TRAINING_72ef3ebe_73d5_4a13_89d3_e093b53c81d1  TDS_STO_TRAINING_72ef3ebe_73d5_4a13_89d3_e093b53c81d1  {\"user\": \"dm250067\"}\n",
       "1  d14273b9-df63-444b-98ce-0bad17935b12     scoring  TDS_MAPPER_d14273b9_df63_444b_98ce_0bad17935b12  TDS_CODE_REPOSITORY  TDS_MODEL_REPOSITORY  TDS_TRAINED_MODELS_72ef3ebe_73d5_4a13_89d3_e093b53c81d1               None  TDS_SCORES_d14273b9_df63_444b_98ce_0bad17935b12  \"demo_user\".\"dataset_00\"         ID     Partition_ID     FOLD   TDS_ON_CLAUSE_SCORING_d14273b9_df63_444b_98ce_0bad17935b12   TDS_STO_SCORING_d14273b9_df63_444b_98ce_0bad17935b12  {\"user\": \"dm250067\"}\n",
       "2  fca98df7-3e26-41f5-a8a8-0036c348fb9a    training  TDS_MAPPER_fca98df7_3e26_41f5_a8a8_0036c348fb9a  TDS_CODE_REPOSITORY  TDS_MODEL_REPOSITORY  TDS_TRAINED_MODELS_fca98df7_3e26_41f5_a8a8_0036c348fb9a               None                                             None  \"demo_user\".\"dataset_00\"         ID     Partition_ID     FOLD  TDS_ON_CLAUSE_TRAINING_fca98df7_3e26_41f5_a8a8_0036c348fb9a  TDS_STO_TRAINING_fca98df7_3e26_41f5_a8a8_0036c348fb9a  {\"user\": \"dm250067\"}\n",
       "3  431b1e0c-57a4-4ae8-bb3e-3a2372349857     scoring  TDS_MAPPER_431b1e0c_57a4_4ae8_bb3e_3a2372349857  TDS_CODE_REPOSITORY  TDS_MODEL_REPOSITORY  TDS_TRAINED_MODELS_dc1cdd3e_111f_440e_ae0e_c0b3336c0716               None  TDS_SCORES_431b1e0c_57a4_4ae8_bb3e_3a2372349857  \"demo_user\".\"dataset_00\"         ID     Partition_ID     FOLD   TDS_ON_CLAUSE_SCORING_431b1e0c_57a4_4ae8_bb3e_3a2372349857   TDS_STO_SCORING_431b1e0c_57a4_4ae8_bb3e_3a2372349857  {\"user\": \"dm250067\"}\n",
       "4  a93604aa-2204-45a6-b4f5-1edab0414da1     scoring  TDS_MAPPER_a93604aa_2204_45a6_b4f5_1edab0414da1  TDS_CODE_REPOSITORY  TDS_MODEL_REPOSITORY  TDS_TRAINED_MODELS_05842693_ddf1_4589_8d7b_a7ea4e952b95               None  TDS_SCORES_a93604aa_2204_45a6_b4f5_1edab0414da1  \"demo_user\".\"dataset_00\"         ID     Partition_ID     FOLD   TDS_ON_CLAUSE_SCORING_a93604aa_2204_45a6_b4f5_1edab0414da1   TDS_STO_SCORING_a93604aa_2204_45a6_b4f5_1edab0414da1  {\"user\": \"dm250067\"}\n",
       "5  05842693-ddf1-4589-8d7b-a7ea4e952b95    training  TDS_MAPPER_05842693_ddf1_4589_8d7b_a7ea4e952b95  TDS_CODE_REPOSITORY  TDS_MODEL_REPOSITORY  TDS_TRAINED_MODELS_05842693_ddf1_4589_8d7b_a7ea4e952b95               None                                             None  \"demo_user\".\"dataset_00\"         ID     Partition_ID     FOLD  TDS_ON_CLAUSE_TRAINING_05842693_ddf1_4589_8d7b_a7ea4e952b95  TDS_STO_TRAINING_05842693_ddf1_4589_8d7b_a7ea4e952b95  {\"user\": \"dm250067\"}\n",
       "6  dc1cdd3e-111f-440e-ae0e-c0b3336c0716    training  TDS_MAPPER_dc1cdd3e_111f_440e_ae0e_c0b3336c0716  TDS_CODE_REPOSITORY  TDS_MODEL_REPOSITORY  TDS_TRAINED_MODELS_dc1cdd3e_111f_440e_ae0e_c0b3336c0716               None                                             None  \"demo_user\".\"dataset_00\"         ID     Partition_ID     FOLD  TDS_ON_CLAUSE_TRAINING_dc1cdd3e_111f_440e_ae0e_c0b3336c0716  TDS_STO_TRAINING_dc1cdd3e_111f_440e_ae0e_c0b3336c0716  {\"user\": \"dm250067\"}\n",
       "7  57d6b26b-7691-4de9-b465-1d48affe93a8     scoring  TDS_MAPPER_57d6b26b_7691_4de9_b465_1d48affe93a8  TDS_CODE_REPOSITORY  TDS_MODEL_REPOSITORY  TDS_TRAINED_MODELS_fca98df7_3e26_41f5_a8a8_0036c348fb9a               None  TDS_SCORES_57d6b26b_7691_4de9_b465_1d48affe93a8  \"demo_user\".\"dataset_00\"         ID     Partition_ID     FOLD   TDS_ON_CLAUSE_SCORING_57d6b26b_7691_4de9_b465_1d48affe93a8   TDS_STO_SCORING_57d6b26b_7691_4de9_b465_1d48affe93a8  {\"user\": \"dm250067\"}"
      ]
     },
     "execution_count": 19,
     "metadata": {},
     "output_type": "execute_result"
    }
   ],
   "source": [
    "sto.list_mappers()"
   ]
  },
  {
   "cell_type": "markdown",
   "id": "996957a6-d287-4ef2-8e70-8f8375ccb430",
   "metadata": {},
   "source": [
    "### 5.4 - List of Hypermodels ( models and mappers mapping)"
   ]
  },
  {
   "cell_type": "code",
   "execution_count": 20,
   "id": "b7d55a58-04ce-4202-9762-e8a388140473",
   "metadata": {},
   "outputs": [
    {
     "data": {
      "text/html": [
       "<style type=\"text/css\">\n",
       "\ttable {border:ridge 5px;}\n",
       "\ttable td {border:inset 1px;}\n",
       "\ttable tr#HeaderRow {background-color:grey; color:white;}</style>\n",
       "<html><table>\n",
       "\t<tr id=\"HeaderRow\">\n",
       "\t\t<th>CREATION_DATE</th>\n",
       "\t\t<th>ID</th>\n",
       "\t\t<th>ID_MODEL</th>\n",
       "\t\t<th>ID_MAPPER_TRAINING</th>\n",
       "\t\t<th>ID_MAPPER_SCORING</th>\n",
       "\t\t<th>METADATA</th>\n",
       "\t</tr>\n",
       "\t<tr>\n",
       "\t\t<td>2025-01-08 05:36:52.330000-05:</td>\n",
       "\t\t<td>91fb8620-0b80-4cec-a8a5-e1de531e608e</td>\n",
       "\t\t<td>06e9bc9e-32f1-4f7b-88f9-5a09e1ac8204</td>\n",
       "\t\t<td>72ef3ebe-73d5-4a13-89d3-e093b53c81d1</td>\n",
       "\t\t<td>d14273b9-df63-444b-98ce-0bad17935b12</td>\n",
       "\t\t<td>{\"user\": \"dm250067\", \"project\": \"test\"}</td>\n",
       "\t</tr>\n",
       "\t<tr>\n",
       "\t\t<td>2025-01-08 05:26:48.160000-05:</td>\n",
       "\t\t<td>654b028b-741e-4a46-8e5d-d966ac8a07b1</td>\n",
       "\t\t<td>1feb2a86-622c-4c56-8e94-4c367d1a232e</td>\n",
       "\t\t<td>05842693-ddf1-4589-8d7b-a7ea4e952b95</td>\n",
       "\t\t<td>a93604aa-2204-45a6-b4f5-1edab0414da1</td>\n",
       "\t\t<td>{\"user\": \"dm250067\", \"project\": \"test\"}</td>\n",
       "\t</tr>\n",
       "\t<tr>\n",
       "\t\t<td>2025-01-08 05:31:04.970000-05:</td>\n",
       "\t\t<td>c5ef0032-dd20-4b48-817e-6fe7e3c42e55</td>\n",
       "\t\t<td>505ea202-bbf4-4b2c-9639-2a18176d97f1</td>\n",
       "\t\t<td>dc1cdd3e-111f-440e-ae0e-c0b3336c0716</td>\n",
       "\t\t<td>431b1e0c-57a4-4ae8-bb3e-3a2372349857</td>\n",
       "\t\t<td>{\"user\": \"dm250067\", \"project\": \"test\"}</td>\n",
       "\t</tr>\n",
       "\t<tr>\n",
       "\t\t<td>2025-01-08 06:28:41.130000-05:</td>\n",
       "\t\t<td>533fd2f6-cdf9-4c18-bfd1-11f6c017a587</td>\n",
       "\t\t<td>0fe42030-d412-411b-9695-8571c07507a0</td>\n",
       "\t\t<td>fca98df7-3e26-41f5-a8a8-0036c348fb9a</td>\n",
       "\t\t<td>57d6b26b-7691-4de9-b465-1d48affe93a8</td>\n",
       "\t\t<td>{\"user\": \"dm250067\", \"project\": \"test\"}</td>\n",
       "\t</tr>\n",
       "</table></html>"
      ],
      "text/plain": [
       "                                                       CREATION_DATE                              ID_MODEL                    ID_MAPPER_TRAINING                     ID_MAPPER_SCORING                                 METADATA\n",
       "ID                                                                                                                                                                                                                             \n",
       "91fb8620-0b80-4cec-a8a5-e1de531e608e  2025-01-08 05:36:52.330000-05:  06e9bc9e-32f1-4f7b-88f9-5a09e1ac8204  72ef3ebe-73d5-4a13-89d3-e093b53c81d1  d14273b9-df63-444b-98ce-0bad17935b12  {\"user\": \"dm250067\", \"project\": \"test\"}\n",
       "654b028b-741e-4a46-8e5d-d966ac8a07b1  2025-01-08 05:26:48.160000-05:  1feb2a86-622c-4c56-8e94-4c367d1a232e  05842693-ddf1-4589-8d7b-a7ea4e952b95  a93604aa-2204-45a6-b4f5-1edab0414da1  {\"user\": \"dm250067\", \"project\": \"test\"}\n",
       "c5ef0032-dd20-4b48-817e-6fe7e3c42e55  2025-01-08 05:31:04.970000-05:  505ea202-bbf4-4b2c-9639-2a18176d97f1  dc1cdd3e-111f-440e-ae0e-c0b3336c0716  431b1e0c-57a4-4ae8-bb3e-3a2372349857  {\"user\": \"dm250067\", \"project\": \"test\"}\n",
       "533fd2f6-cdf9-4c18-bfd1-11f6c017a587  2025-01-08 06:28:41.130000-05:  0fe42030-d412-411b-9695-8571c07507a0  fca98df7-3e26-41f5-a8a8-0036c348fb9a  57d6b26b-7691-4de9-b465-1d48affe93a8  {\"user\": \"dm250067\", \"project\": \"test\"}"
      ]
     },
     "execution_count": 20,
     "metadata": {},
     "output_type": "execute_result"
    }
   ],
   "source": [
    "sto.list_hyper_models()"
   ]
  },
  {
   "cell_type": "markdown",
   "id": "f79b848f-337d-4ad3-a550-25b849883797",
   "metadata": {},
   "source": [
    "## 6 - Use BYOM with ONNX models"
   ]
  },
  {
   "cell_type": "code",
   "execution_count": 21,
   "id": "fe7e5045-f1d4-45e4-99aa-39929fadda7a",
   "metadata": {},
   "outputs": [
    {
     "name": "stdout",
     "output_type": "stream",
     "text": [
      "demo_user V_TDS_TRAINED_MODELS_fca98df7_3e26_41f5_a8a8_0036c348fb9a_BYOM_CATALOG\n"
     ]
    },
    {
     "data": {
      "text/html": [
       "<style type=\"text/css\">\n",
       "\ttable {border:ridge 5px;}\n",
       "\ttable td {border:inset 1px;}\n",
       "\ttable tr#HeaderRow {background-color:grey; color:white;}</style>\n",
       "<html><table>\n",
       "\t<tr id=\"HeaderRow\">\n",
       "\t\t<th>model_id</th>\n",
       "\t\t<th>model</th>\n",
       "\t\t<th>Partition_ID</th>\n",
       "\t</tr>\n",
       "\t<tr>\n",
       "\t\t<td>7914e873-7d00-4c18-8506-951c2ff1342a</td>\n",
       "\t\t<td>b'8071208736B6C326F...'</td>\n",
       "\t\t<td>6</td>\n",
       "\t</tr>\n",
       "\t<tr>\n",
       "\t\t<td>69a6e8d3-4e81-4fce-8cdf-95c4a56e4ce7</td>\n",
       "\t\t<td>b'8071208736B6C326F...'</td>\n",
       "\t\t<td>9</td>\n",
       "\t</tr>\n",
       "\t<tr>\n",
       "\t\t<td>303151d8-425c-478b-9e60-5034302e069c</td>\n",
       "\t\t<td>b'8071208736B6C326F...'</td>\n",
       "\t\t<td>4</td>\n",
       "\t</tr>\n",
       "\t<tr>\n",
       "\t\t<td>1ecac149-c3c2-4f73-953e-cac0493ed72a</td>\n",
       "\t\t<td>b'8071208736B6C326F...'</td>\n",
       "\t\t<td>1</td>\n",
       "\t</tr>\n",
       "</table></html>"
      ],
      "text/plain": [
       "                               model_id                    model  Partition_ID\n",
       "0  7914e873-7d00-4c18-8506-951c2ff1342a  b'8071208736B6C326F...'             6\n",
       "1  69a6e8d3-4e81-4fce-8cdf-95c4a56e4ce7  b'8071208736B6C326F...'             9\n",
       "2  303151d8-425c-478b-9e60-5034302e069c  b'8071208736B6C326F...'             4\n",
       "3  1ecac149-c3c2-4f73-953e-cac0493ed72a  b'8071208736B6C326F...'             1"
      ]
     },
     "execution_count": 21,
     "metadata": {},
     "output_type": "execute_result"
    }
   ],
   "source": [
    "onnx_catalog = model.get_byom_catalog()\n",
    "onnx_catalog"
   ]
  },
  {
   "cell_type": "code",
   "execution_count": 22,
   "id": "33664221-33e6-4e57-a32d-13aa21a5ec0c",
   "metadata": {},
   "outputs": [
    {
     "data": {
      "text/html": [
       "<div>\n",
       "<style scoped>\n",
       "    .dataframe tbody tr th:only-of-type {\n",
       "        vertical-align: middle;\n",
       "    }\n",
       "\n",
       "    .dataframe tbody tr th {\n",
       "        vertical-align: top;\n",
       "    }\n",
       "\n",
       "    .dataframe thead th {\n",
       "        text-align: right;\n",
       "    }\n",
       "</style>\n",
       "<table border=\"1\" class=\"dataframe\">\n",
       "  <thead>\n",
       "    <tr style=\"text-align: right;\">\n",
       "      <th></th>\n",
       "      <th>model_id</th>\n",
       "      <th>Partition_ID</th>\n",
       "    </tr>\n",
       "  </thead>\n",
       "  <tbody>\n",
       "    <tr>\n",
       "      <th>0</th>\n",
       "      <td>7914e873-7d00-4c18-8506-951c2ff1342a</td>\n",
       "      <td>6</td>\n",
       "    </tr>\n",
       "  </tbody>\n",
       "</table>\n",
       "</div>"
      ],
      "text/plain": [
       "                               model_id  Partition_ID\n",
       "0  7914e873-7d00-4c18-8506-951c2ff1342a             6"
      ]
     },
     "execution_count": 22,
     "metadata": {},
     "output_type": "execute_result"
    }
   ],
   "source": [
    "onnx_catalog_local = onnx_catalog[['model_id','Partition_ID']].to_pandas(num_rows=1)\n",
    "onnx_catalog_local"
   ]
  },
  {
   "cell_type": "code",
   "execution_count": 23,
   "id": "057c744f-bdb3-4896-9005-e269bd93c993",
   "metadata": {},
   "outputs": [],
   "source": [
    "Partition_ID     = onnx_catalog_local.Partition_ID.values[0]\n",
    "model_id         = onnx_catalog_local.model_id.values[0]"
   ]
  },
  {
   "cell_type": "code",
   "execution_count": 24,
   "id": "f6b5ed89-1d1b-4689-b4a5-2b620498c4cb",
   "metadata": {},
   "outputs": [],
   "source": [
    "predictions_ = tdml.ONNXPredict(\n",
    "    modeldata               = onnx_catalog[onnx_catalog.Partition_ID == Partition_ID],\n",
    "    newdata                 = dataset[dataset.Partition_ID == Partition_ID],\n",
    "    accumulate              = ['Partition_ID', 'ID'],\n",
    "    overwrite_cached_models = '*',\n",
    ")"
   ]
  },
  {
   "cell_type": "code",
   "execution_count": 25,
   "id": "484daef9-af18-4985-988a-631e16fb7e38",
   "metadata": {},
   "outputs": [
    {
     "data": {
      "text/html": [
       "<style type=\"text/css\">\n",
       "\ttable {border:ridge 5px;}\n",
       "\ttable td {border:inset 1px;}\n",
       "\ttable tr#HeaderRow {background-color:grey; color:white;}</style>\n",
       "<html><table>\n",
       "\t<tr id=\"HeaderRow\">\n",
       "\t\t<th>Partition_ID</th>\n",
       "\t\t<th>ID</th>\n",
       "\t\t<th>json_report</th>\n",
       "\t</tr>\n",
       "\t<tr>\n",
       "\t\t<td>6</td>\n",
       "\t\t<td>30010</td>\n",
       "\t\t<td>{\"scores\":[[2.2668543]],\"label\":[[1]]}</td>\n",
       "\t</tr>\n",
       "\t<tr>\n",
       "\t\t<td>6</td>\n",
       "\t\t<td>30013</td>\n",
       "\t\t<td>{\"scores\":[[1.169498]],\"label\":[[1]]}</td>\n",
       "\t</tr>\n",
       "\t<tr>\n",
       "\t\t<td>6</td>\n",
       "\t\t<td>30014</td>\n",
       "\t\t<td>{\"scores\":[[5.387825]],\"label\":[[1]]}</td>\n",
       "\t</tr>\n",
       "\t<tr>\n",
       "\t\t<td>6</td>\n",
       "\t\t<td>30015</td>\n",
       "\t\t<td>{\"scores\":[[0.572155]],\"label\":[[1]]}</td>\n",
       "\t</tr>\n",
       "\t<tr>\n",
       "\t\t<td>6</td>\n",
       "\t\t<td>30018</td>\n",
       "\t\t<td>{\"scores\":[[1.3546047]],\"label\":[[1]]}</td>\n",
       "\t</tr>\n",
       "\t<tr>\n",
       "\t\t<td>6</td>\n",
       "\t\t<td>30019</td>\n",
       "\t\t<td>{\"scores\":[[6.316168]],\"label\":[[1]]}</td>\n",
       "\t</tr>\n",
       "\t<tr>\n",
       "\t\t<td>6</td>\n",
       "\t\t<td>30017</td>\n",
       "\t\t<td>{\"scores\":[[2.3828354]],\"label\":[[1]]}</td>\n",
       "\t</tr>\n",
       "\t<tr>\n",
       "\t\t<td>6</td>\n",
       "\t\t<td>30011</td>\n",
       "\t\t<td>{\"scores\":[[4.159606]],\"label\":[[1]]}</td>\n",
       "\t</tr>\n",
       "\t<tr>\n",
       "\t\t<td>6</td>\n",
       "\t\t<td>30009</td>\n",
       "\t\t<td>{\"scores\":[[-3.0517578E-4]],\"label\":[[-1]]}</td>\n",
       "\t</tr>\n",
       "\t<tr>\n",
       "\t\t<td>6</td>\n",
       "\t\t<td>30006</td>\n",
       "\t\t<td>{\"scores\":[[3.2149105]],\"label\":[[1]]}</td>\n",
       "\t</tr>\n",
       "</table></html>"
      ],
      "text/plain": [
       "   Partition_ID     ID                                  json_report\n",
       "0             6  30010       {\"scores\":[[2.2668543]],\"label\":[[1]]}\n",
       "1             6  30013        {\"scores\":[[1.169498]],\"label\":[[1]]}\n",
       "2             6  30014        {\"scores\":[[5.387825]],\"label\":[[1]]}\n",
       "3             6  30015        {\"scores\":[[0.572155]],\"label\":[[1]]}\n",
       "4             6  30018       {\"scores\":[[1.3546047]],\"label\":[[1]]}\n",
       "5             6  30019        {\"scores\":[[6.316168]],\"label\":[[1]]}\n",
       "6             6  30017       {\"scores\":[[2.3828354]],\"label\":[[1]]}\n",
       "7             6  30011        {\"scores\":[[4.159606]],\"label\":[[1]]}\n",
       "8             6  30009  {\"scores\":[[-3.0517578E-4]],\"label\":[[-1]]}\n",
       "9             6  30006       {\"scores\":[[3.2149105]],\"label\":[[1]]}"
      ]
     },
     "execution_count": 25,
     "metadata": {},
     "output_type": "execute_result"
    }
   ],
   "source": [
    "predictions_.result"
   ]
  },
  {
   "cell_type": "code",
   "execution_count": 26,
   "id": "11fe3d58-8f5c-4021-94fa-a0d912e30a0f",
   "metadata": {},
   "outputs": [
    {
     "data": {
      "text/plain": [
       "True"
      ]
     },
     "execution_count": 26,
     "metadata": {},
     "output_type": "execute_result"
    }
   ],
   "source": [
    "tdml.remove_context()"
   ]
  },
  {
   "cell_type": "code",
   "execution_count": null,
   "id": "882df8df",
   "metadata": {},
   "outputs": [],
   "source": []
  }
 ],
 "metadata": {
  "kernelspec": {
   "display_name": "vantage_python",
   "language": "python",
   "name": "python3"
  },
  "language_info": {
   "codemirror_mode": {
    "name": "ipython",
    "version": 3
   },
   "file_extension": ".py",
   "mimetype": "text/x-python",
   "name": "python",
   "nbconvert_exporter": "python",
   "pygments_lexer": "ipython3",
   "version": "3.12.3"
  }
 },
 "nbformat": 4,
 "nbformat_minor": 5
}
