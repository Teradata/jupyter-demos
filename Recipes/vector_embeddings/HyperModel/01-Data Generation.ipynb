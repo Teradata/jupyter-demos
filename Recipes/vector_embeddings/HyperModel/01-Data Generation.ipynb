{
 "cells": [
  {
   "cell_type": "markdown",
   "id": "cbbb6648-bedc-4206-95fe-2a02c8181243",
   "metadata": {},
   "source": [
    "# Dataset Generation"
   ]
  },
  {
   "cell_type": "markdown",
   "id": "2de9fe3f-8fba-4c73-af5d-dad51d10e7dd",
   "metadata": {},
   "source": [
    "## 1 - Connect to Vantage"
   ]
  },
  {
   "cell_type": "code",
   "execution_count": 1,
   "id": "8fe6018b-024d-499e-83d0-d7a41236bf0a",
   "metadata": {},
   "outputs": [
    {
     "data": {
      "text/plain": [
       "'20.00.00.03'"
      ]
     },
     "execution_count": 1,
     "metadata": {},
     "output_type": "execute_result"
    }
   ],
   "source": [
    "import teradataml as tdml\n",
    "import json\n",
    "tdml.__version__"
   ]
  },
  {
   "cell_type": "code",
   "execution_count": 2,
   "id": "626a49fe-7b5c-4406-a9eb-e273926fede3",
   "metadata": {},
   "outputs": [
    {
     "data": {
      "text/plain": [
       "Engine(teradatasql://:***@sto-xo0saiv0ot1sxmj2.env.clearscape.teradata.com?DATABASE=demo_user&user=DEMO_USER)"
      ]
     },
     "execution_count": 2,
     "metadata": {},
     "output_type": "execute_result"
    }
   ],
   "source": [
    "with open('../connections/me.json','r') as f:\n",
    "    Param_ = json.load(f)\n",
    "\n",
    "with open('../connections/csae2.json','r') as f:\n",
    "    Param = json.load(f)\n",
    "\n",
    "with open('../connections/csae.json','r') as f:\n",
    "    Param_ = json.load(f)\n",
    "\n",
    "with open('../connections/vantage24.json','r') as f:\n",
    "    Param_ = json.load(f)\n",
    "\n",
    "tdml.create_context(**Param)"
   ]
  },
  {
   "cell_type": "code",
   "execution_count": 3,
   "id": "dbe813ee-0e45-4c7f-a97f-ecd010bf56f9",
   "metadata": {},
   "outputs": [
    {
     "data": {
      "text/plain": [
       "4"
      ]
     },
     "execution_count": 3,
     "metadata": {},
     "output_type": "execute_result"
    }
   ],
   "source": [
    "nb_amps = 1 + tdml.execute_sql('SEL hashamp()').fetchall()[0][0]\n",
    "nb_amps"
   ]
  },
  {
   "cell_type": "markdown",
   "id": "71c35811-44c1-4ba5-aafe-76481a06316a",
   "metadata": {},
   "source": [
    "## 2 - Class definition"
   ]
  },
  {
   "cell_type": "code",
   "execution_count": 4,
   "id": "90d89385",
   "metadata": {},
   "outputs": [
    {
     "data": {
      "text/plain": [
       "'0.1.5.1'"
      ]
     },
     "execution_count": 4,
     "metadata": {},
     "output_type": "execute_result"
    }
   ],
   "source": [
    "import tdstone2\n",
    "tdstone2.__version__"
   ]
  },
  {
   "cell_type": "code",
   "execution_count": 5,
   "id": "1b44cf86-ccd5-4363-b909-7e6808882a73",
   "metadata": {},
   "outputs": [],
   "source": [
    "from tdstone2.dataset_generation import GenerateDataSet,GenerateEquallyDistributedDataSet"
   ]
  },
  {
   "cell_type": "code",
   "execution_count": null,
   "id": "11fedb97-8211-43ce-b98d-91691a19f1ab",
   "metadata": {},
   "outputs": [],
   "source": [
    "query, features = GenerateEquallyDistributedDataSet(n_partitions=nb_amps,n_rows=10000)"
   ]
  },
  {
   "cell_type": "code",
   "execution_count": 7,
   "id": "cb0ed772-1cdd-4064-889b-354a7d73c712",
   "metadata": {},
   "outputs": [
    {
     "name": "stdout",
     "output_type": "stream",
     "text": [
      "CPU times: total: 15.6 ms\n",
      "Wall time: 24 s\n"
     ]
    }
   ],
   "source": [
    "%%time\n",
    "tdml.DataFrame.from_query(query).to_sql(schema_name=Param['database'],table_name='dataset_00',if_exists='replace',primary_index='Partition_ID')"
   ]
  },
  {
   "cell_type": "code",
   "execution_count": 8,
   "id": "5f4cc3f9-e514-4baa-8664-68318acec4ce",
   "metadata": {},
   "outputs": [
    {
     "data": {
      "text/html": [
       "<style type=\"text/css\">\n",
       "\ttable {border:ridge 5px;}\n",
       "\ttable td {border:inset 1px;}\n",
       "\ttable tr#HeaderRow {background-color:grey; color:white;}</style>\n",
       "<html><table>\n",
       "\t<tr id=\"HeaderRow\">\n",
       "\t\t<th>Partition_ID</th>\n",
       "\t\t<th>ID</th>\n",
       "\t\t<th>X1</th>\n",
       "\t\t<th>X2</th>\n",
       "\t\t<th>X3</th>\n",
       "\t\t<th>X4</th>\n",
       "\t\t<th>X5</th>\n",
       "\t\t<th>X6</th>\n",
       "\t\t<th>X7</th>\n",
       "\t\t<th>X8</th>\n",
       "\t\t<th>X9</th>\n",
       "\t\t<th>flag</th>\n",
       "\t\t<th>Y1</th>\n",
       "\t\t<th>Y2</th>\n",
       "\t\t<th>FOLD</th>\n",
       "\t</tr>\n",
       "\t<tr>\n",
       "\t\t<td>6</td>\n",
       "\t\t<td>351585</td>\n",
       "\t\t<td>-0.1631493685821003</td>\n",
       "\t\t<td>-1.096813154332773</td>\n",
       "\t\t<td>0.27855174743059175</td>\n",
       "\t\t<td>1.6467752963190412</td>\n",
       "\t\t<td>-0.8772349384672065</td>\n",
       "\t\t<td>0.016851962486606344</td>\n",
       "\t\t<td>1.2638354664690692</td>\n",
       "\t\t<td>1.2299006782940967</td>\n",
       "\t\t<td>-0.20540627818450544</td>\n",
       "\t\t<td>0</td>\n",
       "\t\t<td>2.569565684620476</td>\n",
       "\t\t<td>1</td>\n",
       "\t\t<td>test</td>\n",
       "\t</tr>\n",
       "\t<tr>\n",
       "\t\t<td>6</td>\n",
       "\t\t<td>351588</td>\n",
       "\t\t<td>0.5251759801143872</td>\n",
       "\t\t<td>0.8326095200507567</td>\n",
       "\t\t<td>0.986531250757179</td>\n",
       "\t\t<td>1.0333165466772039</td>\n",
       "\t\t<td>-0.9269581358776107</td>\n",
       "\t\t<td>-0.7459250791183326</td>\n",
       "\t\t<td>0.23331785217615544</td>\n",
       "\t\t<td>0.7596969332265324</td>\n",
       "\t\t<td>-1.1792289015863522</td>\n",
       "\t\t<td>1</td>\n",
       "\t\t<td>-0.7329629848050134</td>\n",
       "\t\t<td>0</td>\n",
       "\t\t<td>test</td>\n",
       "\t</tr>\n",
       "\t<tr>\n",
       "\t\t<td>6</td>\n",
       "\t\t<td>351589</td>\n",
       "\t\t<td>1.741663004985227</td>\n",
       "\t\t<td>-0.10949179330670253</td>\n",
       "\t\t<td>-0.9395742818356816</td>\n",
       "\t\t<td>0.13513927321301253</td>\n",
       "\t\t<td>-0.9853538222089299</td>\n",
       "\t\t<td>0.7835871923636013</td>\n",
       "\t\t<td>-1.3699670034046576</td>\n",
       "\t\t<td>0.7448244108263242</td>\n",
       "\t\t<td>-0.1146818312167657</td>\n",
       "\t\t<td>0</td>\n",
       "\t\t<td>0.9441163908985271</td>\n",
       "\t\t<td>1</td>\n",
       "\t\t<td>test</td>\n",
       "\t</tr>\n",
       "\t<tr>\n",
       "\t\t<td>6</td>\n",
       "\t\t<td>351590</td>\n",
       "\t\t<td>-1.5562357956459623</td>\n",
       "\t\t<td>0.8959438053049256</td>\n",
       "\t\t<td>-1.9475911202698495</td>\n",
       "\t\t<td>0.06033497234510885</td>\n",
       "\t\t<td>0.8539746496902315</td>\n",
       "\t\t<td>-1.0775765421287427</td>\n",
       "\t\t<td>0.7300455006283433</td>\n",
       "\t\t<td>3.1299909327372433</td>\n",
       "\t\t<td>1.9266837934461283</td>\n",
       "\t\t<td>0</td>\n",
       "\t\t<td>1.7005488297785</td>\n",
       "\t\t<td>1</td>\n",
       "\t\t<td>test</td>\n",
       "\t</tr>\n",
       "\t<tr>\n",
       "\t\t<td>6</td>\n",
       "\t\t<td>351592</td>\n",
       "\t\t<td>-0.8780055058060817</td>\n",
       "\t\t<td>-0.5031036664395013</td>\n",
       "\t\t<td>-0.5180040055137646</td>\n",
       "\t\t<td>-0.23179966683911502</td>\n",
       "\t\t<td>-0.5830354184535343</td>\n",
       "\t\t<td>-0.24272049968830822</td>\n",
       "\t\t<td>-0.08095321138935771</td>\n",
       "\t\t<td>0.7222836964060029</td>\n",
       "\t\t<td>0.4527833684471396</td>\n",
       "\t\t<td>0</td>\n",
       "\t\t<td>-0.7917478455201481</td>\n",
       "\t\t<td>0</td>\n",
       "\t\t<td>test</td>\n",
       "\t</tr>\n",
       "\t<tr>\n",
       "\t\t<td>6</td>\n",
       "\t\t<td>351593</td>\n",
       "\t\t<td>1.9504611316893363</td>\n",
       "\t\t<td>-0.049105634471537284</td>\n",
       "\t\t<td>-0.8937431216871966</td>\n",
       "\t\t<td>0.565582924404196</td>\n",
       "\t\t<td>-0.1549956781788508</td>\n",
       "\t\t<td>0.6664174780027479</td>\n",
       "\t\t<td>0.18194148668267793</td>\n",
       "\t\t<td>-0.6927075693218121</td>\n",
       "\t\t<td>1.0051127949497742</td>\n",
       "\t\t<td>1</td>\n",
       "\t\t<td>-2.4135120224468314</td>\n",
       "\t\t<td>0</td>\n",
       "\t\t<td>test</td>\n",
       "\t</tr>\n",
       "\t<tr>\n",
       "\t\t<td>6</td>\n",
       "\t\t<td>351591</td>\n",
       "\t\t<td>0.6377353380106963</td>\n",
       "\t\t<td>0.06014687448416787</td>\n",
       "\t\t<td>-0.29237279071532246</td>\n",
       "\t\t<td>-0.2720571633837945</td>\n",
       "\t\t<td>-0.9840333479858863</td>\n",
       "\t\t<td>0.5264558535424919</td>\n",
       "\t\t<td>2.2599139821988485</td>\n",
       "\t\t<td>-0.9577941585357472</td>\n",
       "\t\t<td>-0.5858972645320824</td>\n",
       "\t\t<td>0</td>\n",
       "\t\t<td>0.4312020857269369</td>\n",
       "\t\t<td>1</td>\n",
       "\t\t<td>test</td>\n",
       "\t</tr>\n",
       "\t<tr>\n",
       "\t\t<td>6</td>\n",
       "\t\t<td>351586</td>\n",
       "\t\t<td>0.3448311200897381</td>\n",
       "\t\t<td>0.09027725144044174</td>\n",
       "\t\t<td>0.9789947755282256</td>\n",
       "\t\t<td>-0.7554943502794226</td>\n",
       "\t\t<td>-2.266347485354949</td>\n",
       "\t\t<td>-0.10268174465693217</td>\n",
       "\t\t<td>-1.0566961882642933</td>\n",
       "\t\t<td>1.0742263733757231</td>\n",
       "\t\t<td>-0.6521917260501873</td>\n",
       "\t\t<td>1</td>\n",
       "\t\t<td>-1.698208674058414</td>\n",
       "\t\t<td>0</td>\n",
       "\t\t<td>test</td>\n",
       "\t</tr>\n",
       "\t<tr>\n",
       "\t\t<td>6</td>\n",
       "\t\t<td>351584</td>\n",
       "\t\t<td>0.14230461848104087</td>\n",
       "\t\t<td>-1.3197697455842938</td>\n",
       "\t\t<td>1.3037056979431247</td>\n",
       "\t\t<td>-0.5442128053599679</td>\n",
       "\t\t<td>0.7384515683935469</td>\n",
       "\t\t<td>-0.33681375759604143</td>\n",
       "\t\t<td>-0.6986217022666343</td>\n",
       "\t\t<td>0.5207189318127039</td>\n",
       "\t\t<td>-1.2204139588221339</td>\n",
       "\t\t<td>1</td>\n",
       "\t\t<td>-4.217816642456988</td>\n",
       "\t\t<td>0</td>\n",
       "\t\t<td>test</td>\n",
       "\t</tr>\n",
       "\t<tr>\n",
       "\t\t<td>6</td>\n",
       "\t\t<td>351582</td>\n",
       "\t\t<td>2.0974732869629453</td>\n",
       "\t\t<td>-0.6413745371539084</td>\n",
       "\t\t<td>0.7389199971410254</td>\n",
       "\t\t<td>-0.7603125533892261</td>\n",
       "\t\t<td>0.5730934353663517</td>\n",
       "\t\t<td>-0.9064288123833675</td>\n",
       "\t\t<td>0.2543157144004138</td>\n",
       "\t\t<td>1.050968602372331</td>\n",
       "\t\t<td>-0.21473054789463505</td>\n",
       "\t\t<td>1</td>\n",
       "\t\t<td>-1.0589261905149907</td>\n",
       "\t\t<td>0</td>\n",
       "\t\t<td>test</td>\n",
       "\t</tr>\n",
       "</table></html>"
      ],
      "text/plain": [
       "                  ID        X1        X2        X3        X4        X5        X6        X7        X8        X9  flag        Y1  Y2  FOLD\n",
       "Partition_ID                                                                                                                            \n",
       "6             351585 -0.163149 -1.096813  0.278552  1.646775 -0.877235  0.016852  1.263835  1.229901 -0.205406     0  2.569566   1  test\n",
       "6             351588  0.525176  0.832610  0.986531  1.033317 -0.926958 -0.745925  0.233318  0.759697 -1.179229     1 -0.732963   0  test\n",
       "6             351589  1.741663 -0.109492 -0.939574  0.135139 -0.985354  0.783587 -1.369967  0.744824 -0.114682     0  0.944116   1  test\n",
       "6             351590 -1.556236  0.895944 -1.947591  0.060335  0.853975 -1.077577  0.730046  3.129991  1.926684     0  1.700549   1  test\n",
       "6             351592 -0.878006 -0.503104 -0.518004 -0.231800 -0.583035 -0.242720 -0.080953  0.722284  0.452783     0 -0.791748   0  test\n",
       "6             351593  1.950461 -0.049106 -0.893743  0.565583 -0.154996  0.666417  0.181941 -0.692708  1.005113     1 -2.413512   0  test\n",
       "6             351591  0.637735  0.060147 -0.292373 -0.272057 -0.984033  0.526456  2.259914 -0.957794 -0.585897     0  0.431202   1  test\n",
       "6             351586  0.344831  0.090277  0.978995 -0.755494 -2.266347 -0.102682 -1.056696  1.074226 -0.652192     1 -1.698209   0  test\n",
       "6             351584  0.142305 -1.319770  1.303706 -0.544213  0.738452 -0.336814 -0.698622  0.520719 -1.220414     1 -4.217817   0  test\n",
       "6             351582  2.097473 -0.641375  0.738920 -0.760313  0.573093 -0.906429  0.254316  1.050969 -0.214731     1 -1.058926   0  test"
      ]
     },
     "execution_count": 8,
     "metadata": {},
     "output_type": "execute_result"
    }
   ],
   "source": [
    "dataset = tdml.DataFrame(tdml.in_schema(Param['database'],'dataset_00'))\n",
    "dataset"
   ]
  },
  {
   "cell_type": "code",
   "execution_count": 9,
   "id": "72db551e-43f0-47dd-8450-a8ba1629e066",
   "metadata": {},
   "outputs": [
    {
     "data": {
      "text/plain": [
       "(400000, 15)"
      ]
     },
     "execution_count": 9,
     "metadata": {},
     "output_type": "execute_result"
    }
   ],
   "source": [
    "dataset.shape"
   ]
  },
  {
   "cell_type": "code",
   "execution_count": 10,
   "id": "19f3a52e",
   "metadata": {},
   "outputs": [
    {
     "data": {
      "text/html": [
       "<style type=\"text/css\">\n",
       "\ttable {border:ridge 5px;}\n",
       "\ttable td {border:inset 1px;}\n",
       "\ttable tr#HeaderRow {background-color:grey; color:white;}</style>\n",
       "<html><table>\n",
       "\t<tr id=\"HeaderRow\">\n",
       "\t\t<th>Partition_ID</th>\n",
       "\t\t<th>FOLD</th>\n",
       "\t\t<th>count_ID</th>\n",
       "\t</tr>\n",
       "\t<tr>\n",
       "\t\t<td>1</td>\n",
       "\t\t<td>test</td>\n",
       "\t\t<td>80000</td>\n",
       "\t</tr>\n",
       "\t<tr>\n",
       "\t\t<td>1</td>\n",
       "\t\t<td>train</td>\n",
       "\t\t<td>20000</td>\n",
       "\t</tr>\n",
       "\t<tr>\n",
       "\t\t<td>4</td>\n",
       "\t\t<td>test</td>\n",
       "\t\t<td>80000</td>\n",
       "\t</tr>\n",
       "\t<tr>\n",
       "\t\t<td>4</td>\n",
       "\t\t<td>train</td>\n",
       "\t\t<td>20000</td>\n",
       "\t</tr>\n",
       "\t<tr>\n",
       "\t\t<td>6</td>\n",
       "\t\t<td>test</td>\n",
       "\t\t<td>80000</td>\n",
       "\t</tr>\n",
       "\t<tr>\n",
       "\t\t<td>6</td>\n",
       "\t\t<td>train</td>\n",
       "\t\t<td>20000</td>\n",
       "\t</tr>\n",
       "\t<tr>\n",
       "\t\t<td>9</td>\n",
       "\t\t<td>test</td>\n",
       "\t\t<td>80000</td>\n",
       "\t</tr>\n",
       "\t<tr>\n",
       "\t\t<td>9</td>\n",
       "\t\t<td>train</td>\n",
       "\t\t<td>20000</td>\n",
       "\t</tr>\n",
       "</table></html>"
      ],
      "text/plain": [
       "   Partition_ID   FOLD  count_ID\n",
       "0             1   test     80000\n",
       "1             1  train     20000\n",
       "2             4   test     80000\n",
       "3             4  train     20000\n",
       "4             6   test     80000\n",
       "5             6  train     20000\n",
       "6             9   test     80000\n",
       "7             9  train     20000"
      ]
     },
     "execution_count": 10,
     "metadata": {},
     "output_type": "execute_result"
    }
   ],
   "source": [
    "summary = dataset[['Partition_ID','FOLD','ID']].groupby(['Partition_ID','FOLD']).count()\n",
    "summary.sort(['Partition_ID','FOLD'])"
   ]
  },
  {
   "cell_type": "code",
   "execution_count": 11,
   "id": "1cbc0fb4-43ac-4242-aa2f-0a0f75a7dec6",
   "metadata": {},
   "outputs": [
    {
     "data": {
      "text/plain": [
       "True"
      ]
     },
     "execution_count": 11,
     "metadata": {},
     "output_type": "execute_result"
    }
   ],
   "source": [
    "tdml.remove_context()"
   ]
  },
  {
   "cell_type": "code",
   "execution_count": null,
   "id": "c688bf2a",
   "metadata": {},
   "outputs": [],
   "source": []
  }
 ],
 "metadata": {
  "kernelspec": {
   "display_name": "vantage_python",
   "language": "python",
   "name": "python3"
  },
  "language_info": {
   "codemirror_mode": {
    "name": "ipython",
    "version": 3
   },
   "file_extension": ".py",
   "mimetype": "text/x-python",
   "name": "python",
   "nbconvert_exporter": "python",
   "pygments_lexer": "ipython3",
   "version": "3.12.3"
  }
 },
 "nbformat": 4,
 "nbformat_minor": 5
}
