{
 "cells": [
  {
   "cell_type": "markdown",
   "id": "cbbb6648-bedc-4206-95fe-2a02c8181243",
   "metadata": {},
   "source": [
    "# Deploy a Hyper-Segmented Model with TDStone2 in less than a minute\n",
    "# Using Scikit Learn Regressor Pipeline"
   ]
  },
  {
   "cell_type": "markdown",
   "id": "2de9fe3f-8fba-4c73-af5d-dad51d10e7dd",
   "metadata": {},
   "source": [
    "## 1 - Connect to Vantage"
   ]
  },
  {
   "cell_type": "code",
   "execution_count": 1,
   "id": "8fe6018b-024d-499e-83d0-d7a41236bf0a",
   "metadata": {},
   "outputs": [
    {
     "data": {
      "text/plain": [
       "'20.00.00.03'"
      ]
     },
     "execution_count": 1,
     "metadata": {},
     "output_type": "execute_result"
    }
   ],
   "source": [
    "import teradataml as tdml\n",
    "import json\n",
    "import warnings\n",
    "warnings.filterwarnings('ignore')\n",
    "tdml.__version__"
   ]
  },
  {
   "cell_type": "code",
   "execution_count": 2,
   "id": "626a49fe-7b5c-4406-a9eb-e273926fede3",
   "metadata": {},
   "outputs": [
    {
     "data": {
      "text/plain": [
       "Engine(teradatasql://:***@sto-xo0saiv0ot1sxmj2.env.clearscape.teradata.com?DATABASE=demo_user&user=DEMO_USER)"
      ]
     },
     "execution_count": 2,
     "metadata": {},
     "output_type": "execute_result"
    }
   ],
   "source": [
    "with open('../connections/me.json','r') as f:\n",
    "    Param_ = json.load(f)\n",
    "\n",
    "with open('../connections/csae2.json','r') as f:\n",
    "    Param = json.load(f)\n",
    "\n",
    "with open('../connections/csae.json','r') as f:\n",
    "    Param_ = json.load(f)\n",
    "\n",
    "with open('../connections/vantage24.json','r') as f:\n",
    "    Param_ = json.load(f)\n",
    "\n",
    "tdml.create_context(**Param)"
   ]
  },
  {
   "cell_type": "markdown",
   "id": "71c35811-44c1-4ba5-aafe-76481a06316a",
   "metadata": {},
   "source": [
    "## 2 - The Hyper-Segmented Dataset"
   ]
  },
  {
   "cell_type": "code",
   "execution_count": 3,
   "id": "cb52a782-fa57-4afa-97cb-4d0d3941fda9",
   "metadata": {},
   "outputs": [
    {
     "data": {
      "text/html": [
       "<style type=\"text/css\">\n",
       "\ttable {border:ridge 5px;}\n",
       "\ttable td {border:inset 1px;}\n",
       "\ttable tr#HeaderRow {background-color:grey; color:white;}</style>\n",
       "<html><table>\n",
       "\t<tr id=\"HeaderRow\">\n",
       "\t\t<th>Partition_ID</th>\n",
       "\t\t<th>ID</th>\n",
       "\t\t<th>X1</th>\n",
       "\t\t<th>X2</th>\n",
       "\t\t<th>X3</th>\n",
       "\t\t<th>X4</th>\n",
       "\t\t<th>X5</th>\n",
       "\t\t<th>X6</th>\n",
       "\t\t<th>X7</th>\n",
       "\t\t<th>X8</th>\n",
       "\t\t<th>X9</th>\n",
       "\t\t<th>flag</th>\n",
       "\t\t<th>Y1</th>\n",
       "\t\t<th>Y2</th>\n",
       "\t\t<th>FOLD</th>\n",
       "\t</tr>\n",
       "\t<tr>\n",
       "\t\t<td>6</td>\n",
       "\t\t<td>30010</td>\n",
       "\t\t<td>-0.6159002164442977</td>\n",
       "\t\t<td>0.14080392983716347</td>\n",
       "\t\t<td>0.15889642964183437</td>\n",
       "\t\t<td>1.085758574614208</td>\n",
       "\t\t<td>1.0241507354618067</td>\n",
       "\t\t<td>2.2879807373865955</td>\n",
       "\t\t<td>1.248066060664809</td>\n",
       "\t\t<td>-0.2606740117351424</td>\n",
       "\t\t<td>-0.7335729690489351</td>\n",
       "\t\t<td>1</td>\n",
       "\t\t<td>-3.5550050814907093</td>\n",
       "\t\t<td>0</td>\n",
       "\t\t<td>train</td>\n",
       "\t</tr>\n",
       "\t<tr>\n",
       "\t\t<td>6</td>\n",
       "\t\t<td>30013</td>\n",
       "\t\t<td>2.014246542658942</td>\n",
       "\t\t<td>1.1276736739000246</td>\n",
       "\t\t<td>0.9270218987818085</td>\n",
       "\t\t<td>-1.481457917950641</td>\n",
       "\t\t<td>-0.250524210252159</td>\n",
       "\t\t<td>1.3736025167780217</td>\n",
       "\t\t<td>0.11833821335213064</td>\n",
       "\t\t<td>0.20324762078742337</td>\n",
       "\t\t<td>-0.2578441088485678</td>\n",
       "\t\t<td>1</td>\n",
       "\t\t<td>0.07612901906702242</td>\n",
       "\t\t<td>1</td>\n",
       "\t\t<td>train</td>\n",
       "\t</tr>\n",
       "\t<tr>\n",
       "\t\t<td>6</td>\n",
       "\t\t<td>30014</td>\n",
       "\t\t<td>-0.319454244703348</td>\n",
       "\t\t<td>-0.26647934999098355</td>\n",
       "\t\t<td>-0.8855616476232634</td>\n",
       "\t\t<td>1.0956373292993418</td>\n",
       "\t\t<td>0.4434036622230671</td>\n",
       "\t\t<td>-0.7549072657852008</td>\n",
       "\t\t<td>-0.3220580895497687</td>\n",
       "\t\t<td>0.3554228691175283</td>\n",
       "\t\t<td>0.37396912918459113</td>\n",
       "\t\t<td>1</td>\n",
       "\t\t<td>2.1522057679593285</td>\n",
       "\t\t<td>1</td>\n",
       "\t\t<td>train</td>\n",
       "\t</tr>\n",
       "\t<tr>\n",
       "\t\t<td>6</td>\n",
       "\t\t<td>30015</td>\n",
       "\t\t<td>-0.5504866066204547</td>\n",
       "\t\t<td>-1.574888997452571</td>\n",
       "\t\t<td>-0.77900638523968</td>\n",
       "\t\t<td>-1.483422934695842</td>\n",
       "\t\t<td>0.7921706663712172</td>\n",
       "\t\t<td>0.9782544528314772</td>\n",
       "\t\t<td>1.8178991885389517</td>\n",
       "\t\t<td>-0.6817641511315384</td>\n",
       "\t\t<td>-2.0605602446759614</td>\n",
       "\t\t<td>1</td>\n",
       "\t\t<td>-1.3233448815023607</td>\n",
       "\t\t<td>0</td>\n",
       "\t\t<td>train</td>\n",
       "\t</tr>\n",
       "\t<tr>\n",
       "\t\t<td>6</td>\n",
       "\t\t<td>30018</td>\n",
       "\t\t<td>0.044239193425873395</td>\n",
       "\t\t<td>-1.6933428540319742</td>\n",
       "\t\t<td>-0.056453960392806084</td>\n",
       "\t\t<td>1.2965356620186717</td>\n",
       "\t\t<td>-0.21712514958245874</td>\n",
       "\t\t<td>-0.6307579561491885</td>\n",
       "\t\t<td>-1.7585648287677427</td>\n",
       "\t\t<td>1.7064927180056626</td>\n",
       "\t\t<td>-0.1277308494333046</td>\n",
       "\t\t<td>0</td>\n",
       "\t\t<td>-1.5730006932435168</td>\n",
       "\t\t<td>0</td>\n",
       "\t\t<td>train</td>\n",
       "\t</tr>\n",
       "\t<tr>\n",
       "\t\t<td>6</td>\n",
       "\t\t<td>30019</td>\n",
       "\t\t<td>-0.8104370397714358</td>\n",
       "\t\t<td>-0.8973745738715776</td>\n",
       "\t\t<td>0.14048511415936155</td>\n",
       "\t\t<td>0.017814656048642106</td>\n",
       "\t\t<td>0.12192930944603292</td>\n",
       "\t\t<td>0.0899094795998071</td>\n",
       "\t\t<td>0.5012314471422181</td>\n",
       "\t\t<td>0.14968813866691935</td>\n",
       "\t\t<td>0.7221007636114213</td>\n",
       "\t\t<td>1</td>\n",
       "\t\t<td>-1.1312422594196083</td>\n",
       "\t\t<td>0</td>\n",
       "\t\t<td>train</td>\n",
       "\t</tr>\n",
       "\t<tr>\n",
       "\t\t<td>6</td>\n",
       "\t\t<td>30017</td>\n",
       "\t\t<td>-1.2254194266972793</td>\n",
       "\t\t<td>0.22362867806228284</td>\n",
       "\t\t<td>1.6718585615517347</td>\n",
       "\t\t<td>0.8667485952008627</td>\n",
       "\t\t<td>-1.233638698141816</td>\n",
       "\t\t<td>-0.5351216076408845</td>\n",
       "\t\t<td>-0.17009354142100885</td>\n",
       "\t\t<td>1.2487484730759668</td>\n",
       "\t\t<td>0.507666715822585</td>\n",
       "\t\t<td>0</td>\n",
       "\t\t<td>-0.9344959332955182</td>\n",
       "\t\t<td>0</td>\n",
       "\t\t<td>train</td>\n",
       "\t</tr>\n",
       "\t<tr>\n",
       "\t\t<td>6</td>\n",
       "\t\t<td>30011</td>\n",
       "\t\t<td>0.9085979319083528</td>\n",
       "\t\t<td>-0.12273633906514257</td>\n",
       "\t\t<td>-0.1924983184913712</td>\n",
       "\t\t<td>-0.08551225690095689</td>\n",
       "\t\t<td>-0.529210304049312</td>\n",
       "\t\t<td>-1.424598154291598</td>\n",
       "\t\t<td>-0.7672687747877786</td>\n",
       "\t\t<td>-1.23778383521349</td>\n",
       "\t\t<td>-0.22277129947493943</td>\n",
       "\t\t<td>0</td>\n",
       "\t\t<td>2.4392101587122745</td>\n",
       "\t\t<td>1</td>\n",
       "\t\t<td>train</td>\n",
       "\t</tr>\n",
       "\t<tr>\n",
       "\t\t<td>6</td>\n",
       "\t\t<td>30009</td>\n",
       "\t\t<td>0.9896646792044919</td>\n",
       "\t\t<td>0.4844067783112346</td>\n",
       "\t\t<td>-0.828941349703854</td>\n",
       "\t\t<td>-0.08840387865308055</td>\n",
       "\t\t<td>-0.6517543675902613</td>\n",
       "\t\t<td>-0.5395411066877841</td>\n",
       "\t\t<td>2.664306600799727</td>\n",
       "\t\t<td>-2.3323792258512976</td>\n",
       "\t\t<td>-1.5727275532456393</td>\n",
       "\t\t<td>0</td>\n",
       "\t\t<td>-0.04463101382350978</td>\n",
       "\t\t<td>0</td>\n",
       "\t\t<td>train</td>\n",
       "\t</tr>\n",
       "\t<tr>\n",
       "\t\t<td>6</td>\n",
       "\t\t<td>30006</td>\n",
       "\t\t<td>1.1189112609154879</td>\n",
       "\t\t<td>-0.1394489429107103</td>\n",
       "\t\t<td>0.3675636706503788</td>\n",
       "\t\t<td>1.2139417083538135</td>\n",
       "\t\t<td>0.659723049081594</td>\n",
       "\t\t<td>0.42289915056236166</td>\n",
       "\t\t<td>0.9614196487091969</td>\n",
       "\t\t<td>-1.8089968924242852</td>\n",
       "\t\t<td>-0.07330263194893605</td>\n",
       "\t\t<td>0</td>\n",
       "\t\t<td>1.7074154119360592</td>\n",
       "\t\t<td>1</td>\n",
       "\t\t<td>train</td>\n",
       "\t</tr>\n",
       "</table></html>"
      ],
      "text/plain": [
       "                 ID        X1        X2        X3        X4        X5        X6        X7        X8        X9  flag        Y1  Y2   FOLD\n",
       "Partition_ID                                                                                                                            \n",
       "6             30010 -0.615900  0.140804  0.158896  1.085759  1.024151  2.287981  1.248066 -0.260674 -0.733573     1 -3.555005   0  train\n",
       "6             30013  2.014247  1.127674  0.927022 -1.481458 -0.250524  1.373603  0.118338  0.203248 -0.257844     1  0.076129   1  train\n",
       "6             30014 -0.319454 -0.266479 -0.885562  1.095637  0.443404 -0.754907 -0.322058  0.355423  0.373969     1  2.152206   1  train\n",
       "6             30015 -0.550487 -1.574889 -0.779006 -1.483423  0.792171  0.978254  1.817899 -0.681764 -2.060560     1 -1.323345   0  train\n",
       "6             30018  0.044239 -1.693343 -0.056454  1.296536 -0.217125 -0.630758 -1.758565  1.706493 -0.127731     0 -1.573001   0  train\n",
       "6             30019 -0.810437 -0.897375  0.140485  0.017815  0.121929  0.089909  0.501231  0.149688  0.722101     1 -1.131242   0  train\n",
       "6             30017 -1.225419  0.223629  1.671859  0.866749 -1.233639 -0.535122 -0.170094  1.248748  0.507667     0 -0.934496   0  train\n",
       "6             30011  0.908598 -0.122736 -0.192498 -0.085512 -0.529210 -1.424598 -0.767269 -1.237784 -0.222771     0  2.439210   1  train\n",
       "6             30009  0.989665  0.484407 -0.828941 -0.088404 -0.651754 -0.539541  2.664307 -2.332379 -1.572728     0 -0.044631   0  train\n",
       "6             30006  1.118911 -0.139449  0.367564  1.213942  0.659723  0.422899  0.961420 -1.808997 -0.073303     0  1.707415   1  train"
      ]
     },
     "execution_count": 3,
     "metadata": {},
     "output_type": "execute_result"
    }
   ],
   "source": [
    "dataset = tdml.DataFrame(tdml.in_schema(Param['database'],'dataset_00'))\n",
    "dataset"
   ]
  },
  {
   "cell_type": "code",
   "execution_count": 4,
   "id": "8f2a2d8c-2839-4be5-a841-4f093afedabb",
   "metadata": {},
   "outputs": [
    {
     "data": {
      "text/html": [
       "<style type=\"text/css\">\n",
       "\ttable {border:ridge 5px;}\n",
       "\ttable td {border:inset 1px;}\n",
       "\ttable tr#HeaderRow {background-color:grey; color:white;}</style>\n",
       "<html><table>\n",
       "\t<tr id=\"HeaderRow\">\n",
       "\t\t<th>Partition_ID</th>\n",
       "\t\t<th>count_ID</th>\n",
       "\t\t<th>count_X1</th>\n",
       "\t\t<th>count_X2</th>\n",
       "\t\t<th>count_X3</th>\n",
       "\t\t<th>count_X4</th>\n",
       "\t\t<th>count_X5</th>\n",
       "\t\t<th>count_X6</th>\n",
       "\t\t<th>count_X7</th>\n",
       "\t\t<th>count_X8</th>\n",
       "\t\t<th>count_X9</th>\n",
       "\t\t<th>count_flag</th>\n",
       "\t\t<th>count_Y1</th>\n",
       "\t\t<th>count_Y2</th>\n",
       "\t\t<th>count_FOLD</th>\n",
       "\t</tr>\n",
       "\t<tr>\n",
       "\t\t<td>4</td>\n",
       "\t\t<td>10000</td>\n",
       "\t\t<td>10000</td>\n",
       "\t\t<td>10000</td>\n",
       "\t\t<td>10000</td>\n",
       "\t\t<td>10000</td>\n",
       "\t\t<td>10000</td>\n",
       "\t\t<td>10000</td>\n",
       "\t\t<td>10000</td>\n",
       "\t\t<td>10000</td>\n",
       "\t\t<td>10000</td>\n",
       "\t\t<td>10000</td>\n",
       "\t\t<td>10000</td>\n",
       "\t\t<td>10000</td>\n",
       "\t\t<td>10000</td>\n",
       "\t</tr>\n",
       "\t<tr>\n",
       "\t\t<td>9</td>\n",
       "\t\t<td>10000</td>\n",
       "\t\t<td>10000</td>\n",
       "\t\t<td>10000</td>\n",
       "\t\t<td>10000</td>\n",
       "\t\t<td>10000</td>\n",
       "\t\t<td>10000</td>\n",
       "\t\t<td>10000</td>\n",
       "\t\t<td>10000</td>\n",
       "\t\t<td>10000</td>\n",
       "\t\t<td>10000</td>\n",
       "\t\t<td>10000</td>\n",
       "\t\t<td>10000</td>\n",
       "\t\t<td>10000</td>\n",
       "\t\t<td>10000</td>\n",
       "\t</tr>\n",
       "\t<tr>\n",
       "\t\t<td>1</td>\n",
       "\t\t<td>10000</td>\n",
       "\t\t<td>10000</td>\n",
       "\t\t<td>10000</td>\n",
       "\t\t<td>10000</td>\n",
       "\t\t<td>10000</td>\n",
       "\t\t<td>10000</td>\n",
       "\t\t<td>10000</td>\n",
       "\t\t<td>10000</td>\n",
       "\t\t<td>10000</td>\n",
       "\t\t<td>10000</td>\n",
       "\t\t<td>10000</td>\n",
       "\t\t<td>10000</td>\n",
       "\t\t<td>10000</td>\n",
       "\t\t<td>10000</td>\n",
       "\t</tr>\n",
       "\t<tr>\n",
       "\t\t<td>6</td>\n",
       "\t\t<td>10000</td>\n",
       "\t\t<td>10000</td>\n",
       "\t\t<td>10000</td>\n",
       "\t\t<td>10000</td>\n",
       "\t\t<td>10000</td>\n",
       "\t\t<td>10000</td>\n",
       "\t\t<td>10000</td>\n",
       "\t\t<td>10000</td>\n",
       "\t\t<td>10000</td>\n",
       "\t\t<td>10000</td>\n",
       "\t\t<td>10000</td>\n",
       "\t\t<td>10000</td>\n",
       "\t\t<td>10000</td>\n",
       "\t\t<td>10000</td>\n",
       "\t</tr>\n",
       "</table></html>"
      ],
      "text/plain": [
       "   Partition_ID  count_ID  count_X1  count_X2  count_X3  count_X4  count_X5  count_X6  count_X7  count_X8  count_X9  count_flag  count_Y1  count_Y2  count_FOLD\n",
       "0             4     10000     10000     10000     10000     10000     10000     10000     10000     10000     10000       10000     10000     10000       10000\n",
       "1             9     10000     10000     10000     10000     10000     10000     10000     10000     10000     10000       10000     10000     10000       10000\n",
       "2             1     10000     10000     10000     10000     10000     10000     10000     10000     10000     10000       10000     10000     10000       10000\n",
       "3             6     10000     10000     10000     10000     10000     10000     10000     10000     10000     10000       10000     10000     10000       10000"
      ]
     },
     "execution_count": 4,
     "metadata": {},
     "output_type": "execute_result"
    }
   ],
   "source": [
    "summary = dataset.groupby('Partition_ID').count()\n",
    "summary"
   ]
  },
  {
   "cell_type": "code",
   "execution_count": 5,
   "id": "07d0147e-af56-4400-8814-70c68efd8f90",
   "metadata": {},
   "outputs": [
    {
     "data": {
      "text/plain": [
       "(4, 15)"
      ]
     },
     "execution_count": 5,
     "metadata": {},
     "output_type": "execute_result"
    }
   ],
   "source": [
    "summary.shape"
   ]
  },
  {
   "cell_type": "markdown",
   "id": "896ca2c5-cef1-4d89-b321-7e29a28bb05b",
   "metadata": {},
   "source": [
    "## 3 - Hyper-segmented model deployment"
   ]
  },
  {
   "cell_type": "markdown",
   "id": "c17a2135-b2a6-4d67-af95-c30b59ecc45f",
   "metadata": {},
   "source": [
    "### 3.1 - Engineering of the scikit-learn classifier pipeline"
   ]
  },
  {
   "cell_type": "code",
   "execution_count": 6,
   "id": "6f7552d2-cb2f-4538-b76e-398167697298",
   "metadata": {},
   "outputs": [],
   "source": [
    "from sklearn.preprocessing import StandardScaler\n",
    "from sklearn.linear_model import LassoLarsCV\n",
    "from sklearn.pipeline import Pipeline\n",
    "\n",
    "# Setting up the pipeline for regression with LassoLarsCV\n",
    "steps_lasso_lars_cv = [\n",
    "    ('scaler', StandardScaler()),\n",
    "    ('lasso_lars_cv', LassoLarsCV(\n",
    "        cv        = 5,     # Number of cross-validation folds. Adjust this based on your dataset size and requirements.\n",
    "        max_iter  = 1000,  # Maximum number of iterations. Adjust as needed.\n",
    "    ))\n",
    "]"
   ]
  },
  {
   "cell_type": "markdown",
   "id": "474f18d8-08da-46c4-af28-19421d9bc750",
   "metadata": {},
   "source": [
    "### 3.2 - Deployment of the scikit-learn pipeline"
   ]
  },
  {
   "cell_type": "code",
   "execution_count": 7,
   "id": "9294bc91-4376-404e-b5cd-87fdd71d77a8",
   "metadata": {},
   "outputs": [],
   "source": [
    "from tdstone2.tdshypermodel import HyperModel\n",
    "from tdstone2.tdstone import TDStone\n",
    "sto = TDStone(schema_name = Param['database'], SEARCHUIFDBPATH = Param['user'])"
   ]
  },
  {
   "cell_type": "code",
   "execution_count": null,
   "id": "a7b196b3-3dde-4940-a4f8-af713e9c8fe0",
   "metadata": {},
   "outputs": [],
   "source": [
    "model_parameters = {\n",
    "    \"target\": 'Y1',\n",
    "    \"column_categorical\": ['flag'],\n",
    "    \"column_names_X\": ['X1','X2','X3','X4','X5','X6','X7','X8','X9','flag']\n",
    "}"
   ]
  },
  {
   "cell_type": "code",
   "execution_count": 9,
   "id": "7c347041-150f-43b8-834b-dfe0af6e7ada",
   "metadata": {},
   "outputs": [
    {
     "name": "stdout",
     "output_type": "stream",
     "text": [
      "registration of mapper with id = 2e06e335-a352-4480-805d-182f66dca5e7\n",
      "creation of dedicated mapper table : demo_user.TDS_MAPPER_2e06e335_a352_4480_805d_182f66dca5e7\n",
      "creation of the on clause view demo_user.TDS_ON_CLAUSE_TRAINING_2e06e335_a352_4480_805d_182f66dca5e7\n",
      "creation of the sto view demo_user.TDS_STO_TRAINING_2e06e335_a352_4480_805d_182f66dca5e7\n",
      "registration of mapper with id = cddb9b47-acc7-4638-a61b-802aea11f0d7\n",
      "creation of dedicated mapper table : demo_user.TDS_MAPPER_cddb9b47_acc7_4638_a61b_802aea11f0d7\n",
      "creation of the on clause view demo_user.TDS_ON_CLAUSE_SCORING_cddb9b47_acc7_4638_a61b_802aea11f0d7\n",
      "creation of the volatile table on on clause view demo_user.TDS_STO_SCORING_cddb9b47_acc7_4638_a61b_802aea11f0d7\n",
      "creation of the sto view demo_user.TDS_STO_SCORING_cddb9b47_acc7_4638_a61b_802aea11f0d7\n",
      "register hyper model with id : f17adbc1-cd51-4281-87ca-2fb179d4ccd0\n",
      "hyper model : f17adbc1-cd51-4281-87ca-2fb179d4ccd0\n",
      "CPU times: total: 141 ms\n",
      "Wall time: 28.2 s\n"
     ]
    }
   ],
   "source": [
    "%%time\n",
    "model = HyperModel(tdstone            = sto,\n",
    "                   metadata           = {'project': 'test'},\n",
    "                   skl_pipeline_steps = steps_lasso_lars_cv,\n",
    "                   model_parameters   = model_parameters,\n",
    "                   dataset            = tdml.in_schema(Param['database'],'dataset_00'),\n",
    "                   id_row             = 'ID',\n",
    "                   id_partition       = 'Partition_ID',\n",
    "                   id_fold            = 'FOLD',\n",
    "                   fold_training      = 'train')"
   ]
  },
  {
   "cell_type": "code",
   "execution_count": 10,
   "id": "22d474e7-7b9b-4792-9af4-fb071803cd9b",
   "metadata": {},
   "outputs": [
    {
     "data": {
      "text/html": [
       "<style type=\"text/css\">\n",
       "\ttable {border:ridge 5px;}\n",
       "\ttable td {border:inset 1px;}\n",
       "\ttable tr#HeaderRow {background-color:grey; color:white;}</style>\n",
       "<html><table>\n",
       "\t<tr id=\"HeaderRow\">\n",
       "\t\t<th>CREATION_DATE</th>\n",
       "\t\t<th>ID</th>\n",
       "\t\t<th>ID_MODEL</th>\n",
       "\t\t<th>ID_MAPPER_TRAINING</th>\n",
       "\t\t<th>ID_MAPPER_SCORING</th>\n",
       "\t\t<th>METADATA</th>\n",
       "\t</tr>\n",
       "\t<tr>\n",
       "\t\t<td>2025-01-08 05:26:48.160000-05:</td>\n",
       "\t\t<td>654b028b-741e-4a46-8e5d-d966ac8a07b1</td>\n",
       "\t\t<td>1feb2a86-622c-4c56-8e94-4c367d1a232e</td>\n",
       "\t\t<td>05842693-ddf1-4589-8d7b-a7ea4e952b95</td>\n",
       "\t\t<td>a93604aa-2204-45a6-b4f5-1edab0414da1</td>\n",
       "\t\t<td>{\"user\": \"dm250067\", \"project\": \"test\"}</td>\n",
       "\t</tr>\n",
       "\t<tr>\n",
       "\t\t<td>2025-01-08 05:31:04.970000-05:</td>\n",
       "\t\t<td>c5ef0032-dd20-4b48-817e-6fe7e3c42e55</td>\n",
       "\t\t<td>505ea202-bbf4-4b2c-9639-2a18176d97f1</td>\n",
       "\t\t<td>dc1cdd3e-111f-440e-ae0e-c0b3336c0716</td>\n",
       "\t\t<td>431b1e0c-57a4-4ae8-bb3e-3a2372349857</td>\n",
       "\t\t<td>{\"user\": \"dm250067\", \"project\": \"test\"}</td>\n",
       "\t</tr>\n",
       "\t<tr>\n",
       "\t\t<td>2025-01-08 06:33:41.570000-05:</td>\n",
       "\t\t<td>f17adbc1-cd51-4281-87ca-2fb179d4ccd0</td>\n",
       "\t\t<td>479b48a6-e0e5-4d18-b637-de6f1ee63d8a</td>\n",
       "\t\t<td>2e06e335-a352-4480-805d-182f66dca5e7</td>\n",
       "\t\t<td>cddb9b47-acc7-4638-a61b-802aea11f0d7</td>\n",
       "\t\t<td>{\"user\": \"dm250067\", \"project\": \"test\"}</td>\n",
       "\t</tr>\n",
       "\t<tr>\n",
       "\t\t<td>2025-01-08 05:36:52.330000-05:</td>\n",
       "\t\t<td>91fb8620-0b80-4cec-a8a5-e1de531e608e</td>\n",
       "\t\t<td>06e9bc9e-32f1-4f7b-88f9-5a09e1ac8204</td>\n",
       "\t\t<td>72ef3ebe-73d5-4a13-89d3-e093b53c81d1</td>\n",
       "\t\t<td>d14273b9-df63-444b-98ce-0bad17935b12</td>\n",
       "\t\t<td>{\"user\": \"dm250067\", \"project\": \"test\"}</td>\n",
       "\t</tr>\n",
       "\t<tr>\n",
       "\t\t<td>2025-01-08 06:28:41.130000-05:</td>\n",
       "\t\t<td>533fd2f6-cdf9-4c18-bfd1-11f6c017a587</td>\n",
       "\t\t<td>0fe42030-d412-411b-9695-8571c07507a0</td>\n",
       "\t\t<td>fca98df7-3e26-41f5-a8a8-0036c348fb9a</td>\n",
       "\t\t<td>57d6b26b-7691-4de9-b465-1d48affe93a8</td>\n",
       "\t\t<td>{\"user\": \"dm250067\", \"project\": \"test\"}</td>\n",
       "\t</tr>\n",
       "</table></html>"
      ],
      "text/plain": [
       "                                                       CREATION_DATE                              ID_MODEL                    ID_MAPPER_TRAINING                     ID_MAPPER_SCORING                                 METADATA\n",
       "ID                                                                                                                                                                                                                             \n",
       "654b028b-741e-4a46-8e5d-d966ac8a07b1  2025-01-08 05:26:48.160000-05:  1feb2a86-622c-4c56-8e94-4c367d1a232e  05842693-ddf1-4589-8d7b-a7ea4e952b95  a93604aa-2204-45a6-b4f5-1edab0414da1  {\"user\": \"dm250067\", \"project\": \"test\"}\n",
       "c5ef0032-dd20-4b48-817e-6fe7e3c42e55  2025-01-08 05:31:04.970000-05:  505ea202-bbf4-4b2c-9639-2a18176d97f1  dc1cdd3e-111f-440e-ae0e-c0b3336c0716  431b1e0c-57a4-4ae8-bb3e-3a2372349857  {\"user\": \"dm250067\", \"project\": \"test\"}\n",
       "f17adbc1-cd51-4281-87ca-2fb179d4ccd0  2025-01-08 06:33:41.570000-05:  479b48a6-e0e5-4d18-b637-de6f1ee63d8a  2e06e335-a352-4480-805d-182f66dca5e7  cddb9b47-acc7-4638-a61b-802aea11f0d7  {\"user\": \"dm250067\", \"project\": \"test\"}\n",
       "91fb8620-0b80-4cec-a8a5-e1de531e608e  2025-01-08 05:36:52.330000-05:  06e9bc9e-32f1-4f7b-88f9-5a09e1ac8204  72ef3ebe-73d5-4a13-89d3-e093b53c81d1  d14273b9-df63-444b-98ce-0bad17935b12  {\"user\": \"dm250067\", \"project\": \"test\"}\n",
       "533fd2f6-cdf9-4c18-bfd1-11f6c017a587  2025-01-08 06:28:41.130000-05:  0fe42030-d412-411b-9695-8571c07507a0  fca98df7-3e26-41f5-a8a8-0036c348fb9a  57d6b26b-7691-4de9-b465-1d48affe93a8  {\"user\": \"dm250067\", \"project\": \"test\"}"
      ]
     },
     "execution_count": 10,
     "metadata": {},
     "output_type": "execute_result"
    }
   ],
   "source": [
    "sto.list_hyper_models()"
   ]
  },
  {
   "cell_type": "code",
   "execution_count": 11,
   "id": "35f824de-bd86-403f-bd77-878a1c491dbb",
   "metadata": {},
   "outputs": [
    {
     "data": {
      "text/plain": [
       "'f17adbc1-cd51-4281-87ca-2fb179d4ccd0'"
      ]
     },
     "execution_count": 11,
     "metadata": {},
     "output_type": "execute_result"
    }
   ],
   "source": [
    "id = sto.list_hyper_models()[['ID','CREATION_DATE']].to_pandas().reset_index().sort_values('CREATION_DATE', ascending=False).iloc[0,0]\n",
    "id"
   ]
  },
  {
   "cell_type": "markdown",
   "id": "0bf5924f-5002-4394-b44d-3c941a70df9e",
   "metadata": {},
   "source": [
    "## 4 - Execution of the deployed hypermodel"
   ]
  },
  {
   "cell_type": "markdown",
   "id": "38ceb441-eee6-4652-a1a2-50663fd26d8f",
   "metadata": {},
   "source": [
    "### 4.1 - Models Training"
   ]
  },
  {
   "cell_type": "code",
   "execution_count": 12,
   "id": "086fe28e-fdc6-44fa-ba26-82ada8c97b40",
   "metadata": {},
   "outputs": [
    {
     "name": "stdout",
     "output_type": "stream",
     "text": [
      "insert trained models in demo_user.TDS_TRAINED_MODELS_2e06e335_a352_4480_805d_182f66dca5e7\n",
      "- access pickle models in demo_user.V_TDS_TRAINED_MODELS_2e06e335_a352_4480_805d_182f66dca5e7_PICKLE\n",
      "- access  onnx  models in demo_user.V_TDS_TRAINED_MODELS_2e06e335_a352_4480_805d_182f66dca5e7_ONNX\n",
      "- onnx byom catalog    in demo_user.V_TDS_TRAINED_MODELS_2e06e335_a352_4480_805d_182f66dca5e7_BYOM_CATALOG\n",
      "CPU times: total: 31.2 ms\n",
      "Wall time: 9.75 s\n"
     ]
    }
   ],
   "source": [
    "%%time\n",
    "model.train()"
   ]
  },
  {
   "cell_type": "code",
   "execution_count": 13,
   "id": "8f49f1e6-ca1a-4896-bcd5-46193888ee5e",
   "metadata": {},
   "outputs": [
    {
     "name": "stdout",
     "output_type": "stream",
     "text": [
      "demo_user TDS_MODEL_REPOSITORY\n"
     ]
    },
    {
     "data": {
      "text/html": [
       "<style type=\"text/css\">\n",
       "\ttable {border:ridge 5px;}\n",
       "\ttable td {border:inset 1px;}\n",
       "\ttable tr#HeaderRow {background-color:grey; color:white;}</style>\n",
       "<html><table>\n",
       "\t<tr id=\"HeaderRow\">\n",
       "\t\t<th>TD_TIMECODE</th>\n",
       "\t\t<th>count_ID_PROCESS</th>\n",
       "\t\t<th>count_Partition_ID</th>\n",
       "\t\t<th>count_ID_MODEL</th>\n",
       "\t\t<th>count_ID_TRAINED_MODEL</th>\n",
       "\t\t<th>count_MODEL_TYPE</th>\n",
       "\t\t<th>count_STATUS</th>\n",
       "\t</tr>\n",
       "\t<tr>\n",
       "\t\t<td>9999-01-01 00:00:00.000000-04:</td>\n",
       "\t\t<td>4</td>\n",
       "\t\t<td>4</td>\n",
       "\t\t<td>4</td>\n",
       "\t\t<td>4</td>\n",
       "\t\t<td>4</td>\n",
       "\t\t<td>4</td>\n",
       "\t</tr>\n",
       "</table></html>"
      ],
      "text/plain": [
       "                      TD_TIMECODE  count_ID_PROCESS  count_Partition_ID  count_ID_MODEL  count_ID_TRAINED_MODEL  count_MODEL_TYPE  count_STATUS\n",
       "0  9999-01-01 00:00:00.000000-04:                 4                   4               4                       4                 4             4"
      ]
     },
     "execution_count": 13,
     "metadata": {},
     "output_type": "execute_result"
    }
   ],
   "source": [
    "model.get_trained_models().groupby('TD_TIMECODE').count()"
   ]
  },
  {
   "cell_type": "markdown",
   "id": "52136232-6ab6-41c6-9e9a-87a705dad3f7",
   "metadata": {},
   "source": [
    "### 4.2 - Model Scoring"
   ]
  },
  {
   "cell_type": "code",
   "execution_count": 14,
   "id": "f201c42c-e052-40b0-9703-402172e8b2fb",
   "metadata": {},
   "outputs": [
    {
     "name": "stdout",
     "output_type": "stream",
     "text": [
      "creation of the on clause view demo_user.TDS_ON_CLAUSE_SCORING_cddb9b47_acc7_4638_a61b_802aea11f0d7\n",
      "creation of the volatile table on on clause view demo_user.TDS_STO_SCORING_cddb9b47_acc7_4638_a61b_802aea11f0d7\n",
      "insert scores in demo_user.TDS_SCORES_cddb9b47_acc7_4638_a61b_802aea11f0d7\n",
      "CPU times: total: 31.2 ms\n",
      "Wall time: 19.9 s\n"
     ]
    }
   ],
   "source": [
    "%%time\n",
    "model.score()"
   ]
  },
  {
   "cell_type": "code",
   "execution_count": 15,
   "id": "f849efd8-5890-4636-bfcd-d3903999d617",
   "metadata": {},
   "outputs": [
    {
     "name": "stdout",
     "output_type": "stream",
     "text": [
      "demo_user TDS_SCORES_cddb9b47_acc7_4638_a61b_802aea11f0d7\n"
     ]
    },
    {
     "data": {
      "text/html": [
       "<style type=\"text/css\">\n",
       "\ttable {border:ridge 5px;}\n",
       "\ttable td {border:inset 1px;}\n",
       "\ttable tr#HeaderRow {background-color:grey; color:white;}</style>\n",
       "<html><table>\n",
       "\t<tr id=\"HeaderRow\">\n",
       "\t\t<th>TD_TIMECODE</th>\n",
       "\t\t<th>count_ID_PROCESS</th>\n",
       "\t\t<th>count_ID_TRAINED_MODEL</th>\n",
       "\t\t<th>count_Partition_ID</th>\n",
       "\t\t<th>count_ID</th>\n",
       "\t\t<th>count_Y1_prediction</th>\n",
       "\t</tr>\n",
       "\t<tr>\n",
       "\t\t<td>9999-01-01 00:00:00.000000-04:</td>\n",
       "\t\t<td>40000</td>\n",
       "\t\t<td>40000</td>\n",
       "\t\t<td>40000</td>\n",
       "\t\t<td>40000</td>\n",
       "\t\t<td>40000</td>\n",
       "\t</tr>\n",
       "</table></html>"
      ],
      "text/plain": [
       "                      TD_TIMECODE  count_ID_PROCESS  count_ID_TRAINED_MODEL  count_Partition_ID  count_ID  count_Y1_prediction\n",
       "0  9999-01-01 00:00:00.000000-04:             40000                   40000               40000     40000                40000"
      ]
     },
     "execution_count": 15,
     "metadata": {},
     "output_type": "execute_result"
    }
   ],
   "source": [
    "model.get_model_predictions().groupby('TD_TIMECODE').count()"
   ]
  },
  {
   "cell_type": "code",
   "execution_count": 16,
   "id": "5636e4c9-bb03-41be-b3b8-4d45dba39464",
   "metadata": {},
   "outputs": [
    {
     "name": "stdout",
     "output_type": "stream",
     "text": [
      "demo_user TDS_SCORES_cddb9b47_acc7_4638_a61b_802aea11f0d7\n"
     ]
    },
    {
     "data": {
      "text/html": [
       "<style type=\"text/css\">\n",
       "\ttable {border:ridge 5px;}\n",
       "\ttable td {border:inset 1px;}\n",
       "\ttable tr#HeaderRow {background-color:grey; color:white;}</style>\n",
       "<html><table>\n",
       "\t<tr id=\"HeaderRow\">\n",
       "\t\t<th>TD_TIMECODE</th>\n",
       "\t\t<th>ID_PROCESS</th>\n",
       "\t\t<th>ID_TRAINED_MODEL</th>\n",
       "\t\t<th>Partition_ID</th>\n",
       "\t\t<th>ID</th>\n",
       "\t\t<th>Y1_prediction</th>\n",
       "\t</tr>\n",
       "\t<tr>\n",
       "\t\t<td>9999-01-01 00:00:00.000000-04:</td>\n",
       "\t\t<td>TDS_STO_SCORING_cddb9b47_acc7_4638_a61b_802aea11f0d7</td>\n",
       "\t\t<td>0fd9d643-9a31-4560-9ab9-4e8fbc7194cb</td>\n",
       "\t\t<td>6</td>\n",
       "\t\t<td>39884</td>\n",
       "\t\t<td>0.0709809863307359</td>\n",
       "\t</tr>\n",
       "\t<tr>\n",
       "\t\t<td>9999-01-01 00:00:00.000000-04:</td>\n",
       "\t\t<td>TDS_STO_SCORING_cddb9b47_acc7_4638_a61b_802aea11f0d7</td>\n",
       "\t\t<td>f68bdbf5-56ef-4e81-8e35-6e3c0a812b93</td>\n",
       "\t\t<td>4</td>\n",
       "\t\t<td>21115</td>\n",
       "\t\t<td>0.018697822801857347</td>\n",
       "\t</tr>\n",
       "\t<tr>\n",
       "\t\t<td>9999-01-01 00:00:00.000000-04:</td>\n",
       "\t\t<td>TDS_STO_SCORING_cddb9b47_acc7_4638_a61b_802aea11f0d7</td>\n",
       "\t\t<td>0ea9f0ea-01ae-47b5-a207-a75487efe313</td>\n",
       "\t\t<td>9</td>\n",
       "\t\t<td>18864</td>\n",
       "\t\t<td>-0.05335791349929137</td>\n",
       "\t</tr>\n",
       "\t<tr>\n",
       "\t\t<td>9999-01-01 00:00:00.000000-04:</td>\n",
       "\t\t<td>TDS_STO_SCORING_cddb9b47_acc7_4638_a61b_802aea11f0d7</td>\n",
       "\t\t<td>f68bdbf5-56ef-4e81-8e35-6e3c0a812b93</td>\n",
       "\t\t<td>4</td>\n",
       "\t\t<td>23179</td>\n",
       "\t\t<td>0.018697822801857347</td>\n",
       "\t</tr>\n",
       "\t<tr>\n",
       "\t\t<td>9999-01-01 00:00:00.000000-04:</td>\n",
       "\t\t<td>TDS_STO_SCORING_cddb9b47_acc7_4638_a61b_802aea11f0d7</td>\n",
       "\t\t<td>f68bdbf5-56ef-4e81-8e35-6e3c0a812b93</td>\n",
       "\t\t<td>4</td>\n",
       "\t\t<td>29371</td>\n",
       "\t\t<td>0.018697822801857347</td>\n",
       "\t</tr>\n",
       "\t<tr>\n",
       "\t\t<td>9999-01-01 00:00:00.000000-04:</td>\n",
       "\t\t<td>TDS_STO_SCORING_cddb9b47_acc7_4638_a61b_802aea11f0d7</td>\n",
       "\t\t<td>f68bdbf5-56ef-4e81-8e35-6e3c0a812b93</td>\n",
       "\t\t<td>4</td>\n",
       "\t\t<td>20083</td>\n",
       "\t\t<td>0.018697822801857347</td>\n",
       "\t</tr>\n",
       "\t<tr>\n",
       "\t\t<td>9999-01-01 00:00:00.000000-04:</td>\n",
       "\t\t<td>TDS_STO_SCORING_cddb9b47_acc7_4638_a61b_802aea11f0d7</td>\n",
       "\t\t<td>f68bdbf5-56ef-4e81-8e35-6e3c0a812b93</td>\n",
       "\t\t<td>4</td>\n",
       "\t\t<td>27307</td>\n",
       "\t\t<td>0.018697822801857347</td>\n",
       "\t</tr>\n",
       "\t<tr>\n",
       "\t\t<td>9999-01-01 00:00:00.000000-04:</td>\n",
       "\t\t<td>TDS_STO_SCORING_cddb9b47_acc7_4638_a61b_802aea11f0d7</td>\n",
       "\t\t<td>0ea9f0ea-01ae-47b5-a207-a75487efe313</td>\n",
       "\t\t<td>9</td>\n",
       "\t\t<td>13198</td>\n",
       "\t\t<td>-0.04490876728584044</td>\n",
       "\t</tr>\n",
       "\t<tr>\n",
       "\t\t<td>9999-01-01 00:00:00.000000-04:</td>\n",
       "\t\t<td>TDS_STO_SCORING_cddb9b47_acc7_4638_a61b_802aea11f0d7</td>\n",
       "\t\t<td>f68bdbf5-56ef-4e81-8e35-6e3c0a812b93</td>\n",
       "\t\t<td>4</td>\n",
       "\t\t<td>26275</td>\n",
       "\t\t<td>0.018697822801857347</td>\n",
       "\t</tr>\n",
       "\t<tr>\n",
       "\t\t<td>9999-01-01 00:00:00.000000-04:</td>\n",
       "\t\t<td>TDS_STO_SCORING_cddb9b47_acc7_4638_a61b_802aea11f0d7</td>\n",
       "\t\t<td>f68bdbf5-56ef-4e81-8e35-6e3c0a812b93</td>\n",
       "\t\t<td>4</td>\n",
       "\t\t<td>22147</td>\n",
       "\t\t<td>0.018697822801857347</td>\n",
       "\t</tr>\n",
       "</table></html>"
      ],
      "text/plain": [
       "                      TD_TIMECODE                                            ID_PROCESS                      ID_TRAINED_MODEL  Partition_ID     ID  Y1_prediction\n",
       "0  9999-01-01 00:00:00.000000-04:  TDS_STO_SCORING_cddb9b47_acc7_4638_a61b_802aea11f0d7  0fd9d643-9a31-4560-9ab9-4e8fbc7194cb             6  39884       0.070981\n",
       "1  9999-01-01 00:00:00.000000-04:  TDS_STO_SCORING_cddb9b47_acc7_4638_a61b_802aea11f0d7  f68bdbf5-56ef-4e81-8e35-6e3c0a812b93             4  21115       0.018698\n",
       "2  9999-01-01 00:00:00.000000-04:  TDS_STO_SCORING_cddb9b47_acc7_4638_a61b_802aea11f0d7  0ea9f0ea-01ae-47b5-a207-a75487efe313             9  18864      -0.053358\n",
       "3  9999-01-01 00:00:00.000000-04:  TDS_STO_SCORING_cddb9b47_acc7_4638_a61b_802aea11f0d7  f68bdbf5-56ef-4e81-8e35-6e3c0a812b93             4  23179       0.018698\n",
       "4  9999-01-01 00:00:00.000000-04:  TDS_STO_SCORING_cddb9b47_acc7_4638_a61b_802aea11f0d7  f68bdbf5-56ef-4e81-8e35-6e3c0a812b93             4  29371       0.018698\n",
       "5  9999-01-01 00:00:00.000000-04:  TDS_STO_SCORING_cddb9b47_acc7_4638_a61b_802aea11f0d7  f68bdbf5-56ef-4e81-8e35-6e3c0a812b93             4  20083       0.018698\n",
       "6  9999-01-01 00:00:00.000000-04:  TDS_STO_SCORING_cddb9b47_acc7_4638_a61b_802aea11f0d7  f68bdbf5-56ef-4e81-8e35-6e3c0a812b93             4  27307       0.018698\n",
       "7  9999-01-01 00:00:00.000000-04:  TDS_STO_SCORING_cddb9b47_acc7_4638_a61b_802aea11f0d7  0ea9f0ea-01ae-47b5-a207-a75487efe313             9  13198      -0.044909\n",
       "8  9999-01-01 00:00:00.000000-04:  TDS_STO_SCORING_cddb9b47_acc7_4638_a61b_802aea11f0d7  f68bdbf5-56ef-4e81-8e35-6e3c0a812b93             4  26275       0.018698\n",
       "9  9999-01-01 00:00:00.000000-04:  TDS_STO_SCORING_cddb9b47_acc7_4638_a61b_802aea11f0d7  f68bdbf5-56ef-4e81-8e35-6e3c0a812b93             4  22147       0.018698"
      ]
     },
     "execution_count": 16,
     "metadata": {},
     "output_type": "execute_result"
    }
   ],
   "source": [
    "model.get_model_predictions()"
   ]
  },
  {
   "cell_type": "markdown",
   "id": "b1cebdc4-e239-4efb-a845-5fceeb8a866d",
   "metadata": {},
   "source": [
    "## 5 - A bit of administration: Model Lineage"
   ]
  },
  {
   "cell_type": "markdown",
   "id": "f6a09da4-0ced-4fbb-a36b-195b80f12fc5",
   "metadata": {},
   "source": [
    "### 5.1 - Access to the list of deployed codes"
   ]
  },
  {
   "cell_type": "code",
   "execution_count": 17,
   "id": "b612f08e-abea-4dc0-bb28-9db6bffd07ec",
   "metadata": {},
   "outputs": [
    {
     "data": {
      "text/html": [
       "<style type=\"text/css\">\n",
       "\ttable {border:ridge 5px;}\n",
       "\ttable td {border:inset 1px;}\n",
       "\ttable tr#HeaderRow {background-color:grey; color:white;}</style>\n",
       "<html><table>\n",
       "\t<tr id=\"HeaderRow\">\n",
       "\t\t<th>ID</th>\n",
       "\t\t<th>CODE_TYPE</th>\n",
       "\t\t<th>METADATA</th>\n",
       "\t</tr>\n",
       "\t<tr>\n",
       "\t\t<td>48dea5f2-7862-4f1a-9b71-3f03661772e2</td>\n",
       "\t\t<td>python class</td>\n",
       "\t\t<td>{\"user\": \"dm250067\", \"code_type\": \"python class\", \"project\": \"test\", \"script_path\": \"from memory\"}</td>\n",
       "\t</tr>\n",
       "\t<tr>\n",
       "\t\t<td>85be8eae-22c2-4a82-9ec1-a2af5c134374</td>\n",
       "\t\t<td>python class</td>\n",
       "\t\t<td>{\"user\": \"dm250067\", \"code_type\": \"python class\", \"project\": \"test\", \"script_path\": \"from memory\"}</td>\n",
       "\t</tr>\n",
       "\t<tr>\n",
       "\t\t<td>0a923c33-9369-407e-80a0-187ffa2a9837</td>\n",
       "\t\t<td>python class</td>\n",
       "\t\t<td>{\"user\": \"dm250067\", \"code_type\": \"python class\", \"project\": \"test\", \"script_path\": \"from memory\"}</td>\n",
       "\t</tr>\n",
       "\t<tr>\n",
       "\t\t<td>c88da75f-4c35-4fb4-8b2b-52105610adf7</td>\n",
       "\t\t<td>python class</td>\n",
       "\t\t<td>{\"user\": \"dm250067\", \"code_type\": \"python class\", \"project\": \"test\", \"script_path\": \"from memory\"}</td>\n",
       "\t</tr>\n",
       "\t<tr>\n",
       "\t\t<td>2498d459-7d97-46c3-8cec-40f350c7230f</td>\n",
       "\t\t<td>python class</td>\n",
       "\t\t<td>{\"user\": \"dm250067\", \"code_type\": \"python class\", \"project\": \"test\", \"script_path\": \"from memory\"}</td>\n",
       "\t</tr>\n",
       "</table></html>"
      ],
      "text/plain": [
       "                                     ID     CODE_TYPE                                                                                            METADATA\n",
       "0  48dea5f2-7862-4f1a-9b71-3f03661772e2  python class  {\"user\": \"dm250067\", \"code_type\": \"python class\", \"project\": \"test\", \"script_path\": \"from memory\"}\n",
       "1  85be8eae-22c2-4a82-9ec1-a2af5c134374  python class  {\"user\": \"dm250067\", \"code_type\": \"python class\", \"project\": \"test\", \"script_path\": \"from memory\"}\n",
       "2  0a923c33-9369-407e-80a0-187ffa2a9837  python class  {\"user\": \"dm250067\", \"code_type\": \"python class\", \"project\": \"test\", \"script_path\": \"from memory\"}\n",
       "3  c88da75f-4c35-4fb4-8b2b-52105610adf7  python class  {\"user\": \"dm250067\", \"code_type\": \"python class\", \"project\": \"test\", \"script_path\": \"from memory\"}\n",
       "4  2498d459-7d97-46c3-8cec-40f350c7230f  python class  {\"user\": \"dm250067\", \"code_type\": \"python class\", \"project\": \"test\", \"script_path\": \"from memory\"}"
      ]
     },
     "execution_count": 17,
     "metadata": {},
     "output_type": "execute_result"
    }
   ],
   "source": [
    "sto.list_codes()"
   ]
  },
  {
   "cell_type": "markdown",
   "id": "a419b40b-96f3-4581-b4ee-2181bc5ccc18",
   "metadata": {},
   "source": [
    "### 5.2 - List of deployed models (code + parameters)"
   ]
  },
  {
   "cell_type": "code",
   "execution_count": 18,
   "id": "c01db108-8688-4ef9-a602-084a38923775",
   "metadata": {},
   "outputs": [
    {
     "data": {
      "text/html": [
       "<style type=\"text/css\">\n",
       "\ttable {border:ridge 5px;}\n",
       "\ttable td {border:inset 1px;}\n",
       "\ttable tr#HeaderRow {background-color:grey; color:white;}</style>\n",
       "<html><table>\n",
       "\t<tr id=\"HeaderRow\">\n",
       "\t\t<th>ID</th>\n",
       "\t\t<th>ID_CODE</th>\n",
       "\t\t<th>ARGUMENTS</th>\n",
       "\t\t<th>METADATA</th>\n",
       "\t</tr>\n",
       "\t<tr>\n",
       "\t\t<td>505ea202-bbf4-4b2c-9639-2a18176d97f1</td>\n",
       "\t\t<td>0a923c33-9369-407e-80a0-187ffa2a9837</td>\n",
       "\t\t<td>{\"sto_parameters\": {\"columnnames\": [\"Partition_ID\", \"ID\", \"X1\", \"X2\", \"X3\", \"X4\", \"X5\", \"X6\", \"X7\", \"X8\", \"X9\", \"flag\", \"Y1\", \"Y2\", \"FOLD\"], \"float_columnames\": [\"X1\", \"X2\", \"X3\", \"X4\", \"X5\", \"X6\", \"X7\", \"X8\", \"X9\", \"Y1\"], \"integer_columnames\": [\"Partition_ID\", \"ID\", \"flag\", \"Y2\"], \"category_columns\": [], \"output_format\": [\"pickle\"]}, \"model_parameters\": {\"target\": \"Y1\", \"column_categorical\": [\"flag\"], \"column_names_X\": [\"X1\", \"X2\", \"X3\", \"X4\", \"X5\", \"X6\", \"X7\", \"X8\", \"X9\", \"flag\"], \"arguments\": {\"regressor__max_depth\": 5, \"regressor__n_estimators\": 95}}}</td>\n",
       "\t\t<td>{\"user\": \"dm250067\", \"project\": \"test\"}</td>\n",
       "\t</tr>\n",
       "\t<tr>\n",
       "\t\t<td>06e9bc9e-32f1-4f7b-88f9-5a09e1ac8204</td>\n",
       "\t\t<td>48dea5f2-7862-4f1a-9b71-3f03661772e2</td>\n",
       "\t\t<td>{\"sto_parameters\": {\"columnnames\": [\"Partition_ID\", \"ID\", \"X1\", \"X2\", \"X3\", \"X4\", \"X5\", \"X6\", \"X7\", \"X8\", \"X9\", \"flag\", \"Y1\", \"Y2\", \"FOLD\"], \"float_columnames\": [\"X1\", \"X2\", \"X3\", \"X4\", \"X5\", \"X6\", \"X7\", \"X8\", \"X9\", \"Y1\"], \"integer_columnames\": [\"Partition_ID\", \"ID\", \"flag\", \"Y2\"], \"category_columns\": [], \"output_format\": [\"pickle\"]}, \"model_parameters\": {\"column_categorical\": [\"flag\"], \"column_names_X\": [\"X1\", \"X2\", \"X3\", \"X4\", \"X5\", \"X6\", \"X7\", \"X8\", \"X9\", \"flag\"], \"target\": \"\", \"arguments\": {\"one_class_svm__gamma\": \"auto\", \"one_class_svm__nu\": 0.05}}}</td>\n",
       "\t\t<td>{\"user\": \"dm250067\", \"project\": \"test\"}</td>\n",
       "\t</tr>\n",
       "\t<tr>\n",
       "\t\t<td>479b48a6-e0e5-4d18-b637-de6f1ee63d8a</td>\n",
       "\t\t<td>85be8eae-22c2-4a82-9ec1-a2af5c134374</td>\n",
       "\t\t<td>{\"sto_parameters\": {\"columnnames\": [\"Partition_ID\", \"ID\", \"X1\", \"X2\", \"X3\", \"X4\", \"X5\", \"X6\", \"X7\", \"X8\", \"X9\", \"flag\", \"Y1\", \"Y2\", \"FOLD\"], \"float_columnames\": [\"X1\", \"X2\", \"X3\", \"X4\", \"X5\", \"X6\", \"X7\", \"X8\", \"X9\", \"Y1\"], \"integer_columnames\": [\"Partition_ID\", \"ID\", \"flag\", \"Y2\"], \"category_columns\": [], \"output_format\": [\"pickle\"]}, \"model_parameters\": {\"target\": \"Y1\", \"column_categorical\": [\"flag\"], \"column_names_X\": [\"X1\", \"X2\", \"X3\", \"X4\", \"X5\", \"X6\", \"X7\", \"X8\", \"X9\", \"flag\"], \"arguments\": {\"lasso_lars_cv__cv\": 5, \"lasso_lars_cv__max_iter\": 1000}}}</td>\n",
       "\t\t<td>{\"user\": \"dm250067\", \"project\": \"test\"}</td>\n",
       "\t</tr>\n",
       "\t<tr>\n",
       "\t\t<td>1feb2a86-622c-4c56-8e94-4c367d1a232e</td>\n",
       "\t\t<td>c88da75f-4c35-4fb4-8b2b-52105610adf7</td>\n",
       "\t\t<td>{\"sto_parameters\": {\"columnnames\": [\"Partition_ID\", \"ID\", \"X1\", \"X2\", \"X3\", \"X4\", \"X5\", \"X6\", \"X7\", \"X8\", \"X9\", \"flag\", \"Y1\", \"Y2\", \"FOLD\"], \"float_columnames\": [\"X1\", \"X2\", \"X3\", \"X4\", \"X5\", \"X6\", \"X7\", \"X8\", \"X9\", \"Y1\"], \"integer_columnames\": [\"Partition_ID\", \"ID\", \"flag\", \"Y2\"], \"category_columns\": [], \"output_format\": [\"pickle\"]}, \"model_parameters\": {\"target\": \"Y2\", \"column_categorical\": [\"flag\", \"Y2\"], \"column_names_X\": [\"X1\", \"X2\", \"X3\", \"X4\", \"X5\", \"X6\", \"X7\", \"X8\", \"X9\", \"flag\"], \"arguments\": {\"classifier__max_depth\": 5, \"classifier__n_estimators\": 95}}}</td>\n",
       "\t\t<td>{\"user\": \"dm250067\", \"project\": \"test\"}</td>\n",
       "\t</tr>\n",
       "\t<tr>\n",
       "\t\t<td>0fe42030-d412-411b-9695-8571c07507a0</td>\n",
       "\t\t<td>2498d459-7d97-46c3-8cec-40f350c7230f</td>\n",
       "\t\t<td>{\"sto_parameters\": {\"columnnames\": [\"Partition_ID\", \"ID\", \"X1\", \"X2\", \"X3\", \"X4\", \"X5\", \"X6\", \"X7\", \"X8\", \"X9\", \"flag\", \"Y1\", \"Y2\", \"FOLD\"], \"float_columnames\": [\"X1\", \"X2\", \"X3\", \"X4\", \"X5\", \"X6\", \"X7\", \"X8\", \"X9\", \"Y1\"], \"integer_columnames\": [\"Partition_ID\", \"ID\", \"flag\", \"Y2\"], \"category_columns\": [], \"output_format\": [\"onnx\", \"pickle\"]}, \"model_parameters\": {\"column_categorical\": [\"flag\"], \"column_names_X\": [\"X1\", \"X2\", \"X3\", \"X4\", \"X5\", \"X6\", \"X7\", \"X8\", \"X9\", \"flag\"], \"target\": \"\", \"arguments\": {\"one_class_svm__gamma\": \"auto\", \"one_class_svm__nu\": 0.05}}}</td>\n",
       "\t\t<td>{\"user\": \"dm250067\", \"project\": \"test\"}</td>\n",
       "\t</tr>\n",
       "</table></html>"
      ],
      "text/plain": [
       "                                     ID                               ID_CODE                                                                                                                                                                                                                                                                                                                                                                                                                                                                                                                                                                                  ARGUMENTS                                 METADATA\n",
       "0  505ea202-bbf4-4b2c-9639-2a18176d97f1  0a923c33-9369-407e-80a0-187ffa2a9837          {\"sto_parameters\": {\"columnnames\": [\"Partition_ID\", \"ID\", \"X1\", \"X2\", \"X3\", \"X4\", \"X5\", \"X6\", \"X7\", \"X8\", \"X9\", \"flag\", \"Y1\", \"Y2\", \"FOLD\"], \"float_columnames\": [\"X1\", \"X2\", \"X3\", \"X4\", \"X5\", \"X6\", \"X7\", \"X8\", \"X9\", \"Y1\"], \"integer_columnames\": [\"Partition_ID\", \"ID\", \"flag\", \"Y2\"], \"category_columns\": [], \"output_format\": [\"pickle\"]}, \"model_parameters\": {\"target\": \"Y1\", \"column_categorical\": [\"flag\"], \"column_names_X\": [\"X1\", \"X2\", \"X3\", \"X4\", \"X5\", \"X6\", \"X7\", \"X8\", \"X9\", \"flag\"], \"arguments\": {\"regressor__max_depth\": 5, \"regressor__n_estimators\": 95}}}  {\"user\": \"dm250067\", \"project\": \"test\"}\n",
       "1  06e9bc9e-32f1-4f7b-88f9-5a09e1ac8204  48dea5f2-7862-4f1a-9b71-3f03661772e2           {\"sto_parameters\": {\"columnnames\": [\"Partition_ID\", \"ID\", \"X1\", \"X2\", \"X3\", \"X4\", \"X5\", \"X6\", \"X7\", \"X8\", \"X9\", \"flag\", \"Y1\", \"Y2\", \"FOLD\"], \"float_columnames\": [\"X1\", \"X2\", \"X3\", \"X4\", \"X5\", \"X6\", \"X7\", \"X8\", \"X9\", \"Y1\"], \"integer_columnames\": [\"Partition_ID\", \"ID\", \"flag\", \"Y2\"], \"category_columns\": [], \"output_format\": [\"pickle\"]}, \"model_parameters\": {\"column_categorical\": [\"flag\"], \"column_names_X\": [\"X1\", \"X2\", \"X3\", \"X4\", \"X5\", \"X6\", \"X7\", \"X8\", \"X9\", \"flag\"], \"target\": \"\", \"arguments\": {\"one_class_svm__gamma\": \"auto\", \"one_class_svm__nu\": 0.05}}}  {\"user\": \"dm250067\", \"project\": \"test\"}\n",
       "2  479b48a6-e0e5-4d18-b637-de6f1ee63d8a  85be8eae-22c2-4a82-9ec1-a2af5c134374           {\"sto_parameters\": {\"columnnames\": [\"Partition_ID\", \"ID\", \"X1\", \"X2\", \"X3\", \"X4\", \"X5\", \"X6\", \"X7\", \"X8\", \"X9\", \"flag\", \"Y1\", \"Y2\", \"FOLD\"], \"float_columnames\": [\"X1\", \"X2\", \"X3\", \"X4\", \"X5\", \"X6\", \"X7\", \"X8\", \"X9\", \"Y1\"], \"integer_columnames\": [\"Partition_ID\", \"ID\", \"flag\", \"Y2\"], \"category_columns\": [], \"output_format\": [\"pickle\"]}, \"model_parameters\": {\"target\": \"Y1\", \"column_categorical\": [\"flag\"], \"column_names_X\": [\"X1\", \"X2\", \"X3\", \"X4\", \"X5\", \"X6\", \"X7\", \"X8\", \"X9\", \"flag\"], \"arguments\": {\"lasso_lars_cv__cv\": 5, \"lasso_lars_cv__max_iter\": 1000}}}  {\"user\": \"dm250067\", \"project\": \"test\"}\n",
       "3  1feb2a86-622c-4c56-8e94-4c367d1a232e  c88da75f-4c35-4fb4-8b2b-52105610adf7  {\"sto_parameters\": {\"columnnames\": [\"Partition_ID\", \"ID\", \"X1\", \"X2\", \"X3\", \"X4\", \"X5\", \"X6\", \"X7\", \"X8\", \"X9\", \"flag\", \"Y1\", \"Y2\", \"FOLD\"], \"float_columnames\": [\"X1\", \"X2\", \"X3\", \"X4\", \"X5\", \"X6\", \"X7\", \"X8\", \"X9\", \"Y1\"], \"integer_columnames\": [\"Partition_ID\", \"ID\", \"flag\", \"Y2\"], \"category_columns\": [], \"output_format\": [\"pickle\"]}, \"model_parameters\": {\"target\": \"Y2\", \"column_categorical\": [\"flag\", \"Y2\"], \"column_names_X\": [\"X1\", \"X2\", \"X3\", \"X4\", \"X5\", \"X6\", \"X7\", \"X8\", \"X9\", \"flag\"], \"arguments\": {\"classifier__max_depth\": 5, \"classifier__n_estimators\": 95}}}  {\"user\": \"dm250067\", \"project\": \"test\"}\n",
       "4  0fe42030-d412-411b-9695-8571c07507a0  2498d459-7d97-46c3-8cec-40f350c7230f   {\"sto_parameters\": {\"columnnames\": [\"Partition_ID\", \"ID\", \"X1\", \"X2\", \"X3\", \"X4\", \"X5\", \"X6\", \"X7\", \"X8\", \"X9\", \"flag\", \"Y1\", \"Y2\", \"FOLD\"], \"float_columnames\": [\"X1\", \"X2\", \"X3\", \"X4\", \"X5\", \"X6\", \"X7\", \"X8\", \"X9\", \"Y1\"], \"integer_columnames\": [\"Partition_ID\", \"ID\", \"flag\", \"Y2\"], \"category_columns\": [], \"output_format\": [\"onnx\", \"pickle\"]}, \"model_parameters\": {\"column_categorical\": [\"flag\"], \"column_names_X\": [\"X1\", \"X2\", \"X3\", \"X4\", \"X5\", \"X6\", \"X7\", \"X8\", \"X9\", \"flag\"], \"target\": \"\", \"arguments\": {\"one_class_svm__gamma\": \"auto\", \"one_class_svm__nu\": 0.05}}}  {\"user\": \"dm250067\", \"project\": \"test\"}"
      ]
     },
     "execution_count": 18,
     "metadata": {},
     "output_type": "execute_result"
    }
   ],
   "source": [
    "sto.list_models()"
   ]
  },
  {
   "cell_type": "markdown",
   "id": "20649235-85ea-43e3-8ce8-76b6420b1a04",
   "metadata": {},
   "source": [
    "### 5.3 - List of available mappers (mapping between partitions and models or trained models)"
   ]
  },
  {
   "cell_type": "code",
   "execution_count": 19,
   "id": "cea5a615-5bbc-4ed2-81c9-f7cc3e96f258",
   "metadata": {},
   "outputs": [
    {
     "data": {
      "text/html": [
       "<style type=\"text/css\">\n",
       "\ttable {border:ridge 5px;}\n",
       "\ttable td {border:inset 1px;}\n",
       "\ttable tr#HeaderRow {background-color:grey; color:white;}</style>\n",
       "<html><table>\n",
       "\t<tr id=\"HeaderRow\">\n",
       "\t\t<th>ID</th>\n",
       "\t\t<th>MAPPER_TYPE</th>\n",
       "\t\t<th>TABLE_NAME</th>\n",
       "\t\t<th>CODE_REPOSITORY</th>\n",
       "\t\t<th>MODEL_REPOSITORY</th>\n",
       "\t\t<th>TRAINED_MODEL_REPOSITORY</th>\n",
       "\t\t<th>FEATURE_REPOSITORY</th>\n",
       "\t\t<th>SCORES_REPOSITORY</th>\n",
       "\t\t<th>DATASET_OBJECT</th>\n",
       "\t\t<th>COL_ID_ROW</th>\n",
       "\t\t<th>COL_ID_PARTITION</th>\n",
       "\t\t<th>COL_FOLD</th>\n",
       "\t\t<th>ON_CLAUSE_VIEW</th>\n",
       "\t\t<th>STO_VIEW</th>\n",
       "\t\t<th>METADATA</th>\n",
       "\t</tr>\n",
       "\t<tr>\n",
       "\t\t<td>a93604aa-2204-45a6-b4f5-1edab0414da1</td>\n",
       "\t\t<td>scoring</td>\n",
       "\t\t<td>TDS_MAPPER_a93604aa_2204_45a6_b4f5_1edab0414da1</td>\n",
       "\t\t<td>TDS_CODE_REPOSITORY</td>\n",
       "\t\t<td>TDS_MODEL_REPOSITORY</td>\n",
       "\t\t<td>TDS_TRAINED_MODELS_05842693_ddf1_4589_8d7b_a7ea4e952b95</td>\n",
       "\t\t<td>None</td>\n",
       "\t\t<td>TDS_SCORES_a93604aa_2204_45a6_b4f5_1edab0414da1</td>\n",
       "\t\t<td>\"demo_user\".\"dataset_00\"</td>\n",
       "\t\t<td>ID</td>\n",
       "\t\t<td>Partition_ID</td>\n",
       "\t\t<td>FOLD</td>\n",
       "\t\t<td>TDS_ON_CLAUSE_SCORING_a93604aa_2204_45a6_b4f5_1edab0414da1</td>\n",
       "\t\t<td>TDS_STO_SCORING_a93604aa_2204_45a6_b4f5_1edab0414da1</td>\n",
       "\t\t<td>{\"user\": \"dm250067\"}</td>\n",
       "\t</tr>\n",
       "\t<tr>\n",
       "\t\t<td>05842693-ddf1-4589-8d7b-a7ea4e952b95</td>\n",
       "\t\t<td>training</td>\n",
       "\t\t<td>TDS_MAPPER_05842693_ddf1_4589_8d7b_a7ea4e952b95</td>\n",
       "\t\t<td>TDS_CODE_REPOSITORY</td>\n",
       "\t\t<td>TDS_MODEL_REPOSITORY</td>\n",
       "\t\t<td>TDS_TRAINED_MODELS_05842693_ddf1_4589_8d7b_a7ea4e952b95</td>\n",
       "\t\t<td>None</td>\n",
       "\t\t<td>None</td>\n",
       "\t\t<td>\"demo_user\".\"dataset_00\"</td>\n",
       "\t\t<td>ID</td>\n",
       "\t\t<td>Partition_ID</td>\n",
       "\t\t<td>FOLD</td>\n",
       "\t\t<td>TDS_ON_CLAUSE_TRAINING_05842693_ddf1_4589_8d7b_a7ea4e952b95</td>\n",
       "\t\t<td>TDS_STO_TRAINING_05842693_ddf1_4589_8d7b_a7ea4e952b95</td>\n",
       "\t\t<td>{\"user\": \"dm250067\"}</td>\n",
       "\t</tr>\n",
       "\t<tr>\n",
       "\t\t<td>d14273b9-df63-444b-98ce-0bad17935b12</td>\n",
       "\t\t<td>scoring</td>\n",
       "\t\t<td>TDS_MAPPER_d14273b9_df63_444b_98ce_0bad17935b12</td>\n",
       "\t\t<td>TDS_CODE_REPOSITORY</td>\n",
       "\t\t<td>TDS_MODEL_REPOSITORY</td>\n",
       "\t\t<td>TDS_TRAINED_MODELS_72ef3ebe_73d5_4a13_89d3_e093b53c81d1</td>\n",
       "\t\t<td>None</td>\n",
       "\t\t<td>TDS_SCORES_d14273b9_df63_444b_98ce_0bad17935b12</td>\n",
       "\t\t<td>\"demo_user\".\"dataset_00\"</td>\n",
       "\t\t<td>ID</td>\n",
       "\t\t<td>Partition_ID</td>\n",
       "\t\t<td>FOLD</td>\n",
       "\t\t<td>TDS_ON_CLAUSE_SCORING_d14273b9_df63_444b_98ce_0bad17935b12</td>\n",
       "\t\t<td>TDS_STO_SCORING_d14273b9_df63_444b_98ce_0bad17935b12</td>\n",
       "\t\t<td>{\"user\": \"dm250067\"}</td>\n",
       "\t</tr>\n",
       "\t<tr>\n",
       "\t\t<td>2e06e335-a352-4480-805d-182f66dca5e7</td>\n",
       "\t\t<td>training</td>\n",
       "\t\t<td>TDS_MAPPER_2e06e335_a352_4480_805d_182f66dca5e7</td>\n",
       "\t\t<td>TDS_CODE_REPOSITORY</td>\n",
       "\t\t<td>TDS_MODEL_REPOSITORY</td>\n",
       "\t\t<td>TDS_TRAINED_MODELS_2e06e335_a352_4480_805d_182f66dca5e7</td>\n",
       "\t\t<td>None</td>\n",
       "\t\t<td>None</td>\n",
       "\t\t<td>\"demo_user\".\"dataset_00\"</td>\n",
       "\t\t<td>ID</td>\n",
       "\t\t<td>Partition_ID</td>\n",
       "\t\t<td>FOLD</td>\n",
       "\t\t<td>TDS_ON_CLAUSE_TRAINING_2e06e335_a352_4480_805d_182f66dca5e7</td>\n",
       "\t\t<td>TDS_STO_TRAINING_2e06e335_a352_4480_805d_182f66dca5e7</td>\n",
       "\t\t<td>{\"user\": \"dm250067\"}</td>\n",
       "\t</tr>\n",
       "\t<tr>\n",
       "\t\t<td>431b1e0c-57a4-4ae8-bb3e-3a2372349857</td>\n",
       "\t\t<td>scoring</td>\n",
       "\t\t<td>TDS_MAPPER_431b1e0c_57a4_4ae8_bb3e_3a2372349857</td>\n",
       "\t\t<td>TDS_CODE_REPOSITORY</td>\n",
       "\t\t<td>TDS_MODEL_REPOSITORY</td>\n",
       "\t\t<td>TDS_TRAINED_MODELS_dc1cdd3e_111f_440e_ae0e_c0b3336c0716</td>\n",
       "\t\t<td>None</td>\n",
       "\t\t<td>TDS_SCORES_431b1e0c_57a4_4ae8_bb3e_3a2372349857</td>\n",
       "\t\t<td>\"demo_user\".\"dataset_00\"</td>\n",
       "\t\t<td>ID</td>\n",
       "\t\t<td>Partition_ID</td>\n",
       "\t\t<td>FOLD</td>\n",
       "\t\t<td>TDS_ON_CLAUSE_SCORING_431b1e0c_57a4_4ae8_bb3e_3a2372349857</td>\n",
       "\t\t<td>TDS_STO_SCORING_431b1e0c_57a4_4ae8_bb3e_3a2372349857</td>\n",
       "\t\t<td>{\"user\": \"dm250067\"}</td>\n",
       "\t</tr>\n",
       "\t<tr>\n",
       "\t\t<td>cddb9b47-acc7-4638-a61b-802aea11f0d7</td>\n",
       "\t\t<td>scoring</td>\n",
       "\t\t<td>TDS_MAPPER_cddb9b47_acc7_4638_a61b_802aea11f0d7</td>\n",
       "\t\t<td>TDS_CODE_REPOSITORY</td>\n",
       "\t\t<td>TDS_MODEL_REPOSITORY</td>\n",
       "\t\t<td>TDS_TRAINED_MODELS_2e06e335_a352_4480_805d_182f66dca5e7</td>\n",
       "\t\t<td>None</td>\n",
       "\t\t<td>TDS_SCORES_cddb9b47_acc7_4638_a61b_802aea11f0d7</td>\n",
       "\t\t<td>\"demo_user\".\"dataset_00\"</td>\n",
       "\t\t<td>ID</td>\n",
       "\t\t<td>Partition_ID</td>\n",
       "\t\t<td>FOLD</td>\n",
       "\t\t<td>TDS_ON_CLAUSE_SCORING_cddb9b47_acc7_4638_a61b_802aea11f0d7</td>\n",
       "\t\t<td>TDS_STO_SCORING_cddb9b47_acc7_4638_a61b_802aea11f0d7</td>\n",
       "\t\t<td>{\"user\": \"dm250067\"}</td>\n",
       "\t</tr>\n",
       "\t<tr>\n",
       "\t\t<td>fca98df7-3e26-41f5-a8a8-0036c348fb9a</td>\n",
       "\t\t<td>training</td>\n",
       "\t\t<td>TDS_MAPPER_fca98df7_3e26_41f5_a8a8_0036c348fb9a</td>\n",
       "\t\t<td>TDS_CODE_REPOSITORY</td>\n",
       "\t\t<td>TDS_MODEL_REPOSITORY</td>\n",
       "\t\t<td>TDS_TRAINED_MODELS_fca98df7_3e26_41f5_a8a8_0036c348fb9a</td>\n",
       "\t\t<td>None</td>\n",
       "\t\t<td>None</td>\n",
       "\t\t<td>\"demo_user\".\"dataset_00\"</td>\n",
       "\t\t<td>ID</td>\n",
       "\t\t<td>Partition_ID</td>\n",
       "\t\t<td>FOLD</td>\n",
       "\t\t<td>TDS_ON_CLAUSE_TRAINING_fca98df7_3e26_41f5_a8a8_0036c348fb9a</td>\n",
       "\t\t<td>TDS_STO_TRAINING_fca98df7_3e26_41f5_a8a8_0036c348fb9a</td>\n",
       "\t\t<td>{\"user\": \"dm250067\"}</td>\n",
       "\t</tr>\n",
       "\t<tr>\n",
       "\t\t<td>72ef3ebe-73d5-4a13-89d3-e093b53c81d1</td>\n",
       "\t\t<td>training</td>\n",
       "\t\t<td>TDS_MAPPER_72ef3ebe_73d5_4a13_89d3_e093b53c81d1</td>\n",
       "\t\t<td>TDS_CODE_REPOSITORY</td>\n",
       "\t\t<td>TDS_MODEL_REPOSITORY</td>\n",
       "\t\t<td>TDS_TRAINED_MODELS_72ef3ebe_73d5_4a13_89d3_e093b53c81d1</td>\n",
       "\t\t<td>None</td>\n",
       "\t\t<td>None</td>\n",
       "\t\t<td>\"demo_user\".\"dataset_00\"</td>\n",
       "\t\t<td>ID</td>\n",
       "\t\t<td>Partition_ID</td>\n",
       "\t\t<td>FOLD</td>\n",
       "\t\t<td>TDS_ON_CLAUSE_TRAINING_72ef3ebe_73d5_4a13_89d3_e093b53c81d1</td>\n",
       "\t\t<td>TDS_STO_TRAINING_72ef3ebe_73d5_4a13_89d3_e093b53c81d1</td>\n",
       "\t\t<td>{\"user\": \"dm250067\"}</td>\n",
       "\t</tr>\n",
       "\t<tr>\n",
       "\t\t<td>dc1cdd3e-111f-440e-ae0e-c0b3336c0716</td>\n",
       "\t\t<td>training</td>\n",
       "\t\t<td>TDS_MAPPER_dc1cdd3e_111f_440e_ae0e_c0b3336c0716</td>\n",
       "\t\t<td>TDS_CODE_REPOSITORY</td>\n",
       "\t\t<td>TDS_MODEL_REPOSITORY</td>\n",
       "\t\t<td>TDS_TRAINED_MODELS_dc1cdd3e_111f_440e_ae0e_c0b3336c0716</td>\n",
       "\t\t<td>None</td>\n",
       "\t\t<td>None</td>\n",
       "\t\t<td>\"demo_user\".\"dataset_00\"</td>\n",
       "\t\t<td>ID</td>\n",
       "\t\t<td>Partition_ID</td>\n",
       "\t\t<td>FOLD</td>\n",
       "\t\t<td>TDS_ON_CLAUSE_TRAINING_dc1cdd3e_111f_440e_ae0e_c0b3336c0716</td>\n",
       "\t\t<td>TDS_STO_TRAINING_dc1cdd3e_111f_440e_ae0e_c0b3336c0716</td>\n",
       "\t\t<td>{\"user\": \"dm250067\"}</td>\n",
       "\t</tr>\n",
       "\t<tr>\n",
       "\t\t<td>57d6b26b-7691-4de9-b465-1d48affe93a8</td>\n",
       "\t\t<td>scoring</td>\n",
       "\t\t<td>TDS_MAPPER_57d6b26b_7691_4de9_b465_1d48affe93a8</td>\n",
       "\t\t<td>TDS_CODE_REPOSITORY</td>\n",
       "\t\t<td>TDS_MODEL_REPOSITORY</td>\n",
       "\t\t<td>TDS_TRAINED_MODELS_fca98df7_3e26_41f5_a8a8_0036c348fb9a</td>\n",
       "\t\t<td>None</td>\n",
       "\t\t<td>TDS_SCORES_57d6b26b_7691_4de9_b465_1d48affe93a8</td>\n",
       "\t\t<td>\"demo_user\".\"dataset_00\"</td>\n",
       "\t\t<td>ID</td>\n",
       "\t\t<td>Partition_ID</td>\n",
       "\t\t<td>FOLD</td>\n",
       "\t\t<td>TDS_ON_CLAUSE_SCORING_57d6b26b_7691_4de9_b465_1d48affe93a8</td>\n",
       "\t\t<td>TDS_STO_SCORING_57d6b26b_7691_4de9_b465_1d48affe93a8</td>\n",
       "\t\t<td>{\"user\": \"dm250067\"}</td>\n",
       "\t</tr>\n",
       "</table></html>"
      ],
      "text/plain": [
       "                                     ID MAPPER_TYPE                                       TABLE_NAME      CODE_REPOSITORY      MODEL_REPOSITORY                                 TRAINED_MODEL_REPOSITORY FEATURE_REPOSITORY                                SCORES_REPOSITORY            DATASET_OBJECT COL_ID_ROW COL_ID_PARTITION COL_FOLD                                               ON_CLAUSE_VIEW                                               STO_VIEW              METADATA\n",
       "0  a93604aa-2204-45a6-b4f5-1edab0414da1     scoring  TDS_MAPPER_a93604aa_2204_45a6_b4f5_1edab0414da1  TDS_CODE_REPOSITORY  TDS_MODEL_REPOSITORY  TDS_TRAINED_MODELS_05842693_ddf1_4589_8d7b_a7ea4e952b95               None  TDS_SCORES_a93604aa_2204_45a6_b4f5_1edab0414da1  \"demo_user\".\"dataset_00\"         ID     Partition_ID     FOLD   TDS_ON_CLAUSE_SCORING_a93604aa_2204_45a6_b4f5_1edab0414da1   TDS_STO_SCORING_a93604aa_2204_45a6_b4f5_1edab0414da1  {\"user\": \"dm250067\"}\n",
       "1  05842693-ddf1-4589-8d7b-a7ea4e952b95    training  TDS_MAPPER_05842693_ddf1_4589_8d7b_a7ea4e952b95  TDS_CODE_REPOSITORY  TDS_MODEL_REPOSITORY  TDS_TRAINED_MODELS_05842693_ddf1_4589_8d7b_a7ea4e952b95               None                                             None  \"demo_user\".\"dataset_00\"         ID     Partition_ID     FOLD  TDS_ON_CLAUSE_TRAINING_05842693_ddf1_4589_8d7b_a7ea4e952b95  TDS_STO_TRAINING_05842693_ddf1_4589_8d7b_a7ea4e952b95  {\"user\": \"dm250067\"}\n",
       "2  d14273b9-df63-444b-98ce-0bad17935b12     scoring  TDS_MAPPER_d14273b9_df63_444b_98ce_0bad17935b12  TDS_CODE_REPOSITORY  TDS_MODEL_REPOSITORY  TDS_TRAINED_MODELS_72ef3ebe_73d5_4a13_89d3_e093b53c81d1               None  TDS_SCORES_d14273b9_df63_444b_98ce_0bad17935b12  \"demo_user\".\"dataset_00\"         ID     Partition_ID     FOLD   TDS_ON_CLAUSE_SCORING_d14273b9_df63_444b_98ce_0bad17935b12   TDS_STO_SCORING_d14273b9_df63_444b_98ce_0bad17935b12  {\"user\": \"dm250067\"}\n",
       "3  2e06e335-a352-4480-805d-182f66dca5e7    training  TDS_MAPPER_2e06e335_a352_4480_805d_182f66dca5e7  TDS_CODE_REPOSITORY  TDS_MODEL_REPOSITORY  TDS_TRAINED_MODELS_2e06e335_a352_4480_805d_182f66dca5e7               None                                             None  \"demo_user\".\"dataset_00\"         ID     Partition_ID     FOLD  TDS_ON_CLAUSE_TRAINING_2e06e335_a352_4480_805d_182f66dca5e7  TDS_STO_TRAINING_2e06e335_a352_4480_805d_182f66dca5e7  {\"user\": \"dm250067\"}\n",
       "4  431b1e0c-57a4-4ae8-bb3e-3a2372349857     scoring  TDS_MAPPER_431b1e0c_57a4_4ae8_bb3e_3a2372349857  TDS_CODE_REPOSITORY  TDS_MODEL_REPOSITORY  TDS_TRAINED_MODELS_dc1cdd3e_111f_440e_ae0e_c0b3336c0716               None  TDS_SCORES_431b1e0c_57a4_4ae8_bb3e_3a2372349857  \"demo_user\".\"dataset_00\"         ID     Partition_ID     FOLD   TDS_ON_CLAUSE_SCORING_431b1e0c_57a4_4ae8_bb3e_3a2372349857   TDS_STO_SCORING_431b1e0c_57a4_4ae8_bb3e_3a2372349857  {\"user\": \"dm250067\"}\n",
       "5  cddb9b47-acc7-4638-a61b-802aea11f0d7     scoring  TDS_MAPPER_cddb9b47_acc7_4638_a61b_802aea11f0d7  TDS_CODE_REPOSITORY  TDS_MODEL_REPOSITORY  TDS_TRAINED_MODELS_2e06e335_a352_4480_805d_182f66dca5e7               None  TDS_SCORES_cddb9b47_acc7_4638_a61b_802aea11f0d7  \"demo_user\".\"dataset_00\"         ID     Partition_ID     FOLD   TDS_ON_CLAUSE_SCORING_cddb9b47_acc7_4638_a61b_802aea11f0d7   TDS_STO_SCORING_cddb9b47_acc7_4638_a61b_802aea11f0d7  {\"user\": \"dm250067\"}\n",
       "6  fca98df7-3e26-41f5-a8a8-0036c348fb9a    training  TDS_MAPPER_fca98df7_3e26_41f5_a8a8_0036c348fb9a  TDS_CODE_REPOSITORY  TDS_MODEL_REPOSITORY  TDS_TRAINED_MODELS_fca98df7_3e26_41f5_a8a8_0036c348fb9a               None                                             None  \"demo_user\".\"dataset_00\"         ID     Partition_ID     FOLD  TDS_ON_CLAUSE_TRAINING_fca98df7_3e26_41f5_a8a8_0036c348fb9a  TDS_STO_TRAINING_fca98df7_3e26_41f5_a8a8_0036c348fb9a  {\"user\": \"dm250067\"}\n",
       "7  72ef3ebe-73d5-4a13-89d3-e093b53c81d1    training  TDS_MAPPER_72ef3ebe_73d5_4a13_89d3_e093b53c81d1  TDS_CODE_REPOSITORY  TDS_MODEL_REPOSITORY  TDS_TRAINED_MODELS_72ef3ebe_73d5_4a13_89d3_e093b53c81d1               None                                             None  \"demo_user\".\"dataset_00\"         ID     Partition_ID     FOLD  TDS_ON_CLAUSE_TRAINING_72ef3ebe_73d5_4a13_89d3_e093b53c81d1  TDS_STO_TRAINING_72ef3ebe_73d5_4a13_89d3_e093b53c81d1  {\"user\": \"dm250067\"}\n",
       "8  dc1cdd3e-111f-440e-ae0e-c0b3336c0716    training  TDS_MAPPER_dc1cdd3e_111f_440e_ae0e_c0b3336c0716  TDS_CODE_REPOSITORY  TDS_MODEL_REPOSITORY  TDS_TRAINED_MODELS_dc1cdd3e_111f_440e_ae0e_c0b3336c0716               None                                             None  \"demo_user\".\"dataset_00\"         ID     Partition_ID     FOLD  TDS_ON_CLAUSE_TRAINING_dc1cdd3e_111f_440e_ae0e_c0b3336c0716  TDS_STO_TRAINING_dc1cdd3e_111f_440e_ae0e_c0b3336c0716  {\"user\": \"dm250067\"}\n",
       "9  57d6b26b-7691-4de9-b465-1d48affe93a8     scoring  TDS_MAPPER_57d6b26b_7691_4de9_b465_1d48affe93a8  TDS_CODE_REPOSITORY  TDS_MODEL_REPOSITORY  TDS_TRAINED_MODELS_fca98df7_3e26_41f5_a8a8_0036c348fb9a               None  TDS_SCORES_57d6b26b_7691_4de9_b465_1d48affe93a8  \"demo_user\".\"dataset_00\"         ID     Partition_ID     FOLD   TDS_ON_CLAUSE_SCORING_57d6b26b_7691_4de9_b465_1d48affe93a8   TDS_STO_SCORING_57d6b26b_7691_4de9_b465_1d48affe93a8  {\"user\": \"dm250067\"}"
      ]
     },
     "execution_count": 19,
     "metadata": {},
     "output_type": "execute_result"
    }
   ],
   "source": [
    "sto.list_mappers()"
   ]
  },
  {
   "cell_type": "markdown",
   "id": "996957a6-d287-4ef2-8e70-8f8375ccb430",
   "metadata": {},
   "source": [
    "### 5.4 - List of Hypermodels ( models and mappers mapping)"
   ]
  },
  {
   "cell_type": "code",
   "execution_count": 20,
   "id": "b7d55a58-04ce-4202-9762-e8a388140473",
   "metadata": {},
   "outputs": [
    {
     "data": {
      "text/html": [
       "<style type=\"text/css\">\n",
       "\ttable {border:ridge 5px;}\n",
       "\ttable td {border:inset 1px;}\n",
       "\ttable tr#HeaderRow {background-color:grey; color:white;}</style>\n",
       "<html><table>\n",
       "\t<tr id=\"HeaderRow\">\n",
       "\t\t<th>CREATION_DATE</th>\n",
       "\t\t<th>ID</th>\n",
       "\t\t<th>ID_MODEL</th>\n",
       "\t\t<th>ID_MAPPER_TRAINING</th>\n",
       "\t\t<th>ID_MAPPER_SCORING</th>\n",
       "\t\t<th>METADATA</th>\n",
       "\t</tr>\n",
       "\t<tr>\n",
       "\t\t<td>2025-01-08 05:26:48.160000-05:</td>\n",
       "\t\t<td>654b028b-741e-4a46-8e5d-d966ac8a07b1</td>\n",
       "\t\t<td>1feb2a86-622c-4c56-8e94-4c367d1a232e</td>\n",
       "\t\t<td>05842693-ddf1-4589-8d7b-a7ea4e952b95</td>\n",
       "\t\t<td>a93604aa-2204-45a6-b4f5-1edab0414da1</td>\n",
       "\t\t<td>{\"user\": \"dm250067\", \"project\": \"test\"}</td>\n",
       "\t</tr>\n",
       "\t<tr>\n",
       "\t\t<td>2025-01-08 05:31:04.970000-05:</td>\n",
       "\t\t<td>c5ef0032-dd20-4b48-817e-6fe7e3c42e55</td>\n",
       "\t\t<td>505ea202-bbf4-4b2c-9639-2a18176d97f1</td>\n",
       "\t\t<td>dc1cdd3e-111f-440e-ae0e-c0b3336c0716</td>\n",
       "\t\t<td>431b1e0c-57a4-4ae8-bb3e-3a2372349857</td>\n",
       "\t\t<td>{\"user\": \"dm250067\", \"project\": \"test\"}</td>\n",
       "\t</tr>\n",
       "\t<tr>\n",
       "\t\t<td>2025-01-08 06:33:41.570000-05:</td>\n",
       "\t\t<td>f17adbc1-cd51-4281-87ca-2fb179d4ccd0</td>\n",
       "\t\t<td>479b48a6-e0e5-4d18-b637-de6f1ee63d8a</td>\n",
       "\t\t<td>2e06e335-a352-4480-805d-182f66dca5e7</td>\n",
       "\t\t<td>cddb9b47-acc7-4638-a61b-802aea11f0d7</td>\n",
       "\t\t<td>{\"user\": \"dm250067\", \"project\": \"test\"}</td>\n",
       "\t</tr>\n",
       "\t<tr>\n",
       "\t\t<td>2025-01-08 05:36:52.330000-05:</td>\n",
       "\t\t<td>91fb8620-0b80-4cec-a8a5-e1de531e608e</td>\n",
       "\t\t<td>06e9bc9e-32f1-4f7b-88f9-5a09e1ac8204</td>\n",
       "\t\t<td>72ef3ebe-73d5-4a13-89d3-e093b53c81d1</td>\n",
       "\t\t<td>d14273b9-df63-444b-98ce-0bad17935b12</td>\n",
       "\t\t<td>{\"user\": \"dm250067\", \"project\": \"test\"}</td>\n",
       "\t</tr>\n",
       "\t<tr>\n",
       "\t\t<td>2025-01-08 06:28:41.130000-05:</td>\n",
       "\t\t<td>533fd2f6-cdf9-4c18-bfd1-11f6c017a587</td>\n",
       "\t\t<td>0fe42030-d412-411b-9695-8571c07507a0</td>\n",
       "\t\t<td>fca98df7-3e26-41f5-a8a8-0036c348fb9a</td>\n",
       "\t\t<td>57d6b26b-7691-4de9-b465-1d48affe93a8</td>\n",
       "\t\t<td>{\"user\": \"dm250067\", \"project\": \"test\"}</td>\n",
       "\t</tr>\n",
       "</table></html>"
      ],
      "text/plain": [
       "                                                       CREATION_DATE                              ID_MODEL                    ID_MAPPER_TRAINING                     ID_MAPPER_SCORING                                 METADATA\n",
       "ID                                                                                                                                                                                                                             \n",
       "654b028b-741e-4a46-8e5d-d966ac8a07b1  2025-01-08 05:26:48.160000-05:  1feb2a86-622c-4c56-8e94-4c367d1a232e  05842693-ddf1-4589-8d7b-a7ea4e952b95  a93604aa-2204-45a6-b4f5-1edab0414da1  {\"user\": \"dm250067\", \"project\": \"test\"}\n",
       "c5ef0032-dd20-4b48-817e-6fe7e3c42e55  2025-01-08 05:31:04.970000-05:  505ea202-bbf4-4b2c-9639-2a18176d97f1  dc1cdd3e-111f-440e-ae0e-c0b3336c0716  431b1e0c-57a4-4ae8-bb3e-3a2372349857  {\"user\": \"dm250067\", \"project\": \"test\"}\n",
       "f17adbc1-cd51-4281-87ca-2fb179d4ccd0  2025-01-08 06:33:41.570000-05:  479b48a6-e0e5-4d18-b637-de6f1ee63d8a  2e06e335-a352-4480-805d-182f66dca5e7  cddb9b47-acc7-4638-a61b-802aea11f0d7  {\"user\": \"dm250067\", \"project\": \"test\"}\n",
       "91fb8620-0b80-4cec-a8a5-e1de531e608e  2025-01-08 05:36:52.330000-05:  06e9bc9e-32f1-4f7b-88f9-5a09e1ac8204  72ef3ebe-73d5-4a13-89d3-e093b53c81d1  d14273b9-df63-444b-98ce-0bad17935b12  {\"user\": \"dm250067\", \"project\": \"test\"}\n",
       "533fd2f6-cdf9-4c18-bfd1-11f6c017a587  2025-01-08 06:28:41.130000-05:  0fe42030-d412-411b-9695-8571c07507a0  fca98df7-3e26-41f5-a8a8-0036c348fb9a  57d6b26b-7691-4de9-b465-1d48affe93a8  {\"user\": \"dm250067\", \"project\": \"test\"}"
      ]
     },
     "execution_count": 20,
     "metadata": {},
     "output_type": "execute_result"
    }
   ],
   "source": [
    "sto.list_hyper_models()"
   ]
  },
  {
   "cell_type": "code",
   "execution_count": 21,
   "id": "d8067ee8-696a-4dee-87eb-22fc294bb5f8",
   "metadata": {},
   "outputs": [
    {
     "name": "stdout",
     "output_type": "stream",
     "text": [
      "demo_user TDS_SCORES_cddb9b47_acc7_4638_a61b_802aea11f0d7\n"
     ]
    },
    {
     "data": {
      "text/html": [
       "<style type=\"text/css\">\n",
       "\ttable {border:ridge 5px;}\n",
       "\ttable td {border:inset 1px;}\n",
       "\ttable tr#HeaderRow {background-color:grey; color:white;}</style>\n",
       "<html><table>\n",
       "\t<tr id=\"HeaderRow\">\n",
       "\t\t<th>TD_TIMECODE</th>\n",
       "\t\t<th>ID_PROCESS</th>\n",
       "\t\t<th>ID_TRAINED_MODEL</th>\n",
       "\t\t<th>Partition_ID</th>\n",
       "\t\t<th>ID</th>\n",
       "\t\t<th>Y1_prediction</th>\n",
       "\t</tr>\n",
       "\t<tr>\n",
       "\t\t<td>9999-01-01 00:00:00.000000-04:</td>\n",
       "\t\t<td>TDS_STO_SCORING_cddb9b47_acc7_4638_a61b_802aea11f0d7</td>\n",
       "\t\t<td>f68bdbf5-56ef-4e81-8e35-6e3c0a812b93</td>\n",
       "\t\t<td>4</td>\n",
       "\t\t<td>29371</td>\n",
       "\t\t<td>0.018697822801857347</td>\n",
       "\t</tr>\n",
       "\t<tr>\n",
       "\t\t<td>9999-01-01 00:00:00.000000-04:</td>\n",
       "\t\t<td>TDS_STO_SCORING_cddb9b47_acc7_4638_a61b_802aea11f0d7</td>\n",
       "\t\t<td>f68bdbf5-56ef-4e81-8e35-6e3c0a812b93</td>\n",
       "\t\t<td>4</td>\n",
       "\t\t<td>21115</td>\n",
       "\t\t<td>0.018697822801857347</td>\n",
       "\t</tr>\n",
       "\t<tr>\n",
       "\t\t<td>9999-01-01 00:00:00.000000-04:</td>\n",
       "\t\t<td>TDS_STO_SCORING_cddb9b47_acc7_4638_a61b_802aea11f0d7</td>\n",
       "\t\t<td>0ea9f0ea-01ae-47b5-a207-a75487efe313</td>\n",
       "\t\t<td>9</td>\n",
       "\t\t<td>18864</td>\n",
       "\t\t<td>-0.05335791349929137</td>\n",
       "\t</tr>\n",
       "\t<tr>\n",
       "\t\t<td>9999-01-01 00:00:00.000000-04:</td>\n",
       "\t\t<td>TDS_STO_SCORING_cddb9b47_acc7_4638_a61b_802aea11f0d7</td>\n",
       "\t\t<td>f68bdbf5-56ef-4e81-8e35-6e3c0a812b93</td>\n",
       "\t\t<td>4</td>\n",
       "\t\t<td>24211</td>\n",
       "\t\t<td>0.018697822801857347</td>\n",
       "\t</tr>\n",
       "\t<tr>\n",
       "\t\t<td>9999-01-01 00:00:00.000000-04:</td>\n",
       "\t\t<td>TDS_STO_SCORING_cddb9b47_acc7_4638_a61b_802aea11f0d7</td>\n",
       "\t\t<td>0fd9d643-9a31-4560-9ab9-4e8fbc7194cb</td>\n",
       "\t\t<td>6</td>\n",
       "\t\t<td>39884</td>\n",
       "\t\t<td>0.0709809863307359</td>\n",
       "\t</tr>\n",
       "\t<tr>\n",
       "\t\t<td>9999-01-01 00:00:00.000000-04:</td>\n",
       "\t\t<td>TDS_STO_SCORING_cddb9b47_acc7_4638_a61b_802aea11f0d7</td>\n",
       "\t\t<td>f68bdbf5-56ef-4e81-8e35-6e3c0a812b93</td>\n",
       "\t\t<td>4</td>\n",
       "\t\t<td>20083</td>\n",
       "\t\t<td>0.018697822801857347</td>\n",
       "\t</tr>\n",
       "\t<tr>\n",
       "\t\t<td>9999-01-01 00:00:00.000000-04:</td>\n",
       "\t\t<td>TDS_STO_SCORING_cddb9b47_acc7_4638_a61b_802aea11f0d7</td>\n",
       "\t\t<td>f68bdbf5-56ef-4e81-8e35-6e3c0a812b93</td>\n",
       "\t\t<td>4</td>\n",
       "\t\t<td>27307</td>\n",
       "\t\t<td>0.018697822801857347</td>\n",
       "\t</tr>\n",
       "\t<tr>\n",
       "\t\t<td>9999-01-01 00:00:00.000000-04:</td>\n",
       "\t\t<td>TDS_STO_SCORING_cddb9b47_acc7_4638_a61b_802aea11f0d7</td>\n",
       "\t\t<td>0ea9f0ea-01ae-47b5-a207-a75487efe313</td>\n",
       "\t\t<td>9</td>\n",
       "\t\t<td>13198</td>\n",
       "\t\t<td>-0.04490876728584044</td>\n",
       "\t</tr>\n",
       "\t<tr>\n",
       "\t\t<td>9999-01-01 00:00:00.000000-04:</td>\n",
       "\t\t<td>TDS_STO_SCORING_cddb9b47_acc7_4638_a61b_802aea11f0d7</td>\n",
       "\t\t<td>f68bdbf5-56ef-4e81-8e35-6e3c0a812b93</td>\n",
       "\t\t<td>4</td>\n",
       "\t\t<td>25243</td>\n",
       "\t\t<td>0.018697822801857347</td>\n",
       "\t</tr>\n",
       "\t<tr>\n",
       "\t\t<td>9999-01-01 00:00:00.000000-04:</td>\n",
       "\t\t<td>TDS_STO_SCORING_cddb9b47_acc7_4638_a61b_802aea11f0d7</td>\n",
       "\t\t<td>f68bdbf5-56ef-4e81-8e35-6e3c0a812b93</td>\n",
       "\t\t<td>4</td>\n",
       "\t\t<td>22147</td>\n",
       "\t\t<td>0.018697822801857347</td>\n",
       "\t</tr>\n",
       "</table></html>"
      ],
      "text/plain": [
       "                      TD_TIMECODE                                            ID_PROCESS                      ID_TRAINED_MODEL  Partition_ID     ID  Y1_prediction\n",
       "0  9999-01-01 00:00:00.000000-04:  TDS_STO_SCORING_cddb9b47_acc7_4638_a61b_802aea11f0d7  f68bdbf5-56ef-4e81-8e35-6e3c0a812b93             4  29371       0.018698\n",
       "1  9999-01-01 00:00:00.000000-04:  TDS_STO_SCORING_cddb9b47_acc7_4638_a61b_802aea11f0d7  f68bdbf5-56ef-4e81-8e35-6e3c0a812b93             4  21115       0.018698\n",
       "2  9999-01-01 00:00:00.000000-04:  TDS_STO_SCORING_cddb9b47_acc7_4638_a61b_802aea11f0d7  0ea9f0ea-01ae-47b5-a207-a75487efe313             9  18864      -0.053358\n",
       "3  9999-01-01 00:00:00.000000-04:  TDS_STO_SCORING_cddb9b47_acc7_4638_a61b_802aea11f0d7  f68bdbf5-56ef-4e81-8e35-6e3c0a812b93             4  24211       0.018698\n",
       "4  9999-01-01 00:00:00.000000-04:  TDS_STO_SCORING_cddb9b47_acc7_4638_a61b_802aea11f0d7  0fd9d643-9a31-4560-9ab9-4e8fbc7194cb             6  39884       0.070981\n",
       "5  9999-01-01 00:00:00.000000-04:  TDS_STO_SCORING_cddb9b47_acc7_4638_a61b_802aea11f0d7  f68bdbf5-56ef-4e81-8e35-6e3c0a812b93             4  20083       0.018698\n",
       "6  9999-01-01 00:00:00.000000-04:  TDS_STO_SCORING_cddb9b47_acc7_4638_a61b_802aea11f0d7  f68bdbf5-56ef-4e81-8e35-6e3c0a812b93             4  27307       0.018698\n",
       "7  9999-01-01 00:00:00.000000-04:  TDS_STO_SCORING_cddb9b47_acc7_4638_a61b_802aea11f0d7  0ea9f0ea-01ae-47b5-a207-a75487efe313             9  13198      -0.044909\n",
       "8  9999-01-01 00:00:00.000000-04:  TDS_STO_SCORING_cddb9b47_acc7_4638_a61b_802aea11f0d7  f68bdbf5-56ef-4e81-8e35-6e3c0a812b93             4  25243       0.018698\n",
       "9  9999-01-01 00:00:00.000000-04:  TDS_STO_SCORING_cddb9b47_acc7_4638_a61b_802aea11f0d7  f68bdbf5-56ef-4e81-8e35-6e3c0a812b93             4  22147       0.018698"
      ]
     },
     "execution_count": 21,
     "metadata": {},
     "output_type": "execute_result"
    }
   ],
   "source": [
    "model.get_model_predictions()"
   ]
  },
  {
   "cell_type": "code",
   "execution_count": 22,
   "id": "13ad898c-1312-4f5d-bab9-eabf0a94031b",
   "metadata": {},
   "outputs": [
    {
     "data": {
      "text/plain": [
       "True"
      ]
     },
     "execution_count": 22,
     "metadata": {},
     "output_type": "execute_result"
    }
   ],
   "source": [
    "tdml.remove_context()"
   ]
  }
 ],
 "metadata": {
  "kernelspec": {
   "display_name": "vantage_python",
   "language": "python",
   "name": "python3"
  },
  "language_info": {
   "codemirror_mode": {
    "name": "ipython",
    "version": 3
   },
   "file_extension": ".py",
   "mimetype": "text/x-python",
   "name": "python",
   "nbconvert_exporter": "python",
   "pygments_lexer": "ipython3",
   "version": "3.12.3"
  }
 },
 "nbformat": 4,
 "nbformat_minor": 5
}
