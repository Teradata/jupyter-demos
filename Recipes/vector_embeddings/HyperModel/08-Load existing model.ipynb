{
 "cells": [
  {
   "cell_type": "markdown",
   "id": "cbbb6648-bedc-4206-95fe-2a02c8181243",
   "metadata": {
    "tags": []
   },
   "source": [
    "# Re-use a deployed Hyper-Segmented Model with TDStone2 in less than a minute"
   ]
  },
  {
   "cell_type": "markdown",
   "id": "2de9fe3f-8fba-4c73-af5d-dad51d10e7dd",
   "metadata": {},
   "source": [
    "## 1 - Connect to Vantage"
   ]
  },
  {
   "cell_type": "code",
   "execution_count": 1,
   "id": "8fe6018b-024d-499e-83d0-d7a41236bf0a",
   "metadata": {},
   "outputs": [
    {
     "data": {
      "text/plain": [
       "'20.00.00.03'"
      ]
     },
     "execution_count": 1,
     "metadata": {},
     "output_type": "execute_result"
    }
   ],
   "source": [
    "import teradataml as tdml\n",
    "import json\n",
    "tdml.__version__"
   ]
  },
  {
   "cell_type": "code",
   "execution_count": 2,
   "id": "8e0ac5af-adad-4cb5-9626-f7b4c76c4a1d",
   "metadata": {},
   "outputs": [
    {
     "data": {
      "text/plain": [
       "'0.1.5.3'"
      ]
     },
     "execution_count": 2,
     "metadata": {},
     "output_type": "execute_result"
    }
   ],
   "source": [
    "import tdstone2\n",
    "tdstone2.__version__"
   ]
  },
  {
   "cell_type": "code",
   "execution_count": 3,
   "id": "626a49fe-7b5c-4406-a9eb-e273926fede3",
   "metadata": {},
   "outputs": [
    {
     "data": {
      "text/plain": [
       "Engine(teradatasql://:***@sto-xo0saiv0ot1sxmj2.env.clearscape.teradata.com?DATABASE=demo_user&user=DEMO_USER)"
      ]
     },
     "execution_count": 3,
     "metadata": {},
     "output_type": "execute_result"
    }
   ],
   "source": [
    "with open('../connections/me.json','r') as f:\n",
    "    Param_ = json.load(f)\n",
    "\n",
    "with open('../connections/csae2.json','r') as f:\n",
    "    Param = json.load(f)\n",
    "\n",
    "with open('../connections/csae.json','r') as f:\n",
    "    Param_ = json.load(f)\n",
    "\n",
    "with open('../connections/vantage24.json','r') as f:\n",
    "    Param_ = json.load(f)\n",
    "\n",
    "tdml.create_context(**Param)"
   ]
  },
  {
   "cell_type": "markdown",
   "id": "71c35811-44c1-4ba5-aafe-76481a06316a",
   "metadata": {},
   "source": [
    "## 2 - Retrieve the hyper segmented model"
   ]
  },
  {
   "cell_type": "code",
   "execution_count": 4,
   "id": "e91c6bed-dcbb-4619-b058-1a5d96b36725",
   "metadata": {},
   "outputs": [
    {
     "name": "stderr",
     "output_type": "stream",
     "text": [
      "c:\\users\\dm250067\\onedrive - teradata\\documents\\01 - code development\\tdstone2\\tdstone2\\tdsmapper.py:870: SyntaxWarning: invalid escape sequence '\\s'\n",
      "  \"\"\"\n",
      "c:\\users\\dm250067\\onedrive - teradata\\documents\\01 - code development\\tdstone2\\tdstone2\\tdsmapper.py:915: SyntaxWarning: invalid escape sequence '\\s'\n",
      "  \"\"\"\n",
      "c:\\users\\dm250067\\onedrive - teradata\\documents\\01 - code development\\tdstone2\\tdstone2\\tdsmapper.py:970: SyntaxWarning: invalid escape sequence '\\s'\n",
      "  \"\"\"\n"
     ]
    }
   ],
   "source": [
    "from tdstone2.tdshypermodel import HyperModel\n",
    "from tdstone2.tdstone import TDStone\n",
    "sto = TDStone(schema_name = Param['database'], SEARCHUIFDBPATH = Param['user'])"
   ]
  },
  {
   "cell_type": "code",
   "execution_count": 5,
   "id": "24acd3ac-ea2b-4c67-b32c-75661d85b4b5",
   "metadata": {},
   "outputs": [
    {
     "data": {
      "text/html": [
       "<style type=\"text/css\">\n",
       "\ttable {border:ridge 5px;}\n",
       "\ttable td {border:inset 1px;}\n",
       "\ttable tr#HeaderRow {background-color:grey; color:white;}</style>\n",
       "<html><table>\n",
       "\t<tr id=\"HeaderRow\">\n",
       "\t\t<th>CREATION_DATE</th>\n",
       "\t\t<th>ID</th>\n",
       "\t\t<th>ID_MODEL</th>\n",
       "\t\t<th>ID_MAPPER_TRAINING</th>\n",
       "\t\t<th>ID_MAPPER_SCORING</th>\n",
       "\t\t<th>METADATA</th>\n",
       "\t</tr>\n",
       "\t<tr>\n",
       "\t\t<td>2025-01-08 05:31:04.970000-05:</td>\n",
       "\t\t<td>c5ef0032-dd20-4b48-817e-6fe7e3c42e55</td>\n",
       "\t\t<td>505ea202-bbf4-4b2c-9639-2a18176d97f1</td>\n",
       "\t\t<td>dc1cdd3e-111f-440e-ae0e-c0b3336c0716</td>\n",
       "\t\t<td>431b1e0c-57a4-4ae8-bb3e-3a2372349857</td>\n",
       "\t\t<td>{\"user\": \"dm250067\", \"project\": \"test\"}</td>\n",
       "\t</tr>\n",
       "\t<tr>\n",
       "\t\t<td>2025-01-08 05:26:48.160000-05:</td>\n",
       "\t\t<td>654b028b-741e-4a46-8e5d-d966ac8a07b1</td>\n",
       "\t\t<td>1feb2a86-622c-4c56-8e94-4c367d1a232e</td>\n",
       "\t\t<td>05842693-ddf1-4589-8d7b-a7ea4e952b95</td>\n",
       "\t\t<td>a93604aa-2204-45a6-b4f5-1edab0414da1</td>\n",
       "\t\t<td>{\"user\": \"dm250067\", \"project\": \"test\"}</td>\n",
       "\t</tr>\n",
       "\t<tr>\n",
       "\t\t<td>2025-01-08 05:36:52.330000-05:</td>\n",
       "\t\t<td>91fb8620-0b80-4cec-a8a5-e1de531e608e</td>\n",
       "\t\t<td>06e9bc9e-32f1-4f7b-88f9-5a09e1ac8204</td>\n",
       "\t\t<td>72ef3ebe-73d5-4a13-89d3-e093b53c81d1</td>\n",
       "\t\t<td>d14273b9-df63-444b-98ce-0bad17935b12</td>\n",
       "\t\t<td>{\"user\": \"dm250067\", \"project\": \"test\"}</td>\n",
       "\t</tr>\n",
       "\t<tr>\n",
       "\t\t<td>2025-01-08 06:33:41.570000-05:</td>\n",
       "\t\t<td>f17adbc1-cd51-4281-87ca-2fb179d4ccd0</td>\n",
       "\t\t<td>479b48a6-e0e5-4d18-b637-de6f1ee63d8a</td>\n",
       "\t\t<td>2e06e335-a352-4480-805d-182f66dca5e7</td>\n",
       "\t\t<td>cddb9b47-acc7-4638-a61b-802aea11f0d7</td>\n",
       "\t\t<td>{\"user\": \"dm250067\", \"project\": \"test\"}</td>\n",
       "\t</tr>\n",
       "\t<tr>\n",
       "\t\t<td>2025-01-08 06:28:41.130000-05:</td>\n",
       "\t\t<td>533fd2f6-cdf9-4c18-bfd1-11f6c017a587</td>\n",
       "\t\t<td>0fe42030-d412-411b-9695-8571c07507a0</td>\n",
       "\t\t<td>fca98df7-3e26-41f5-a8a8-0036c348fb9a</td>\n",
       "\t\t<td>57d6b26b-7691-4de9-b465-1d48affe93a8</td>\n",
       "\t\t<td>{\"user\": \"dm250067\", \"project\": \"test\"}</td>\n",
       "\t</tr>\n",
       "</table></html>"
      ],
      "text/plain": [
       "                                                       CREATION_DATE                              ID_MODEL                    ID_MAPPER_TRAINING                     ID_MAPPER_SCORING                                 METADATA\n",
       "ID                                                                                                                                                                                                                             \n",
       "c5ef0032-dd20-4b48-817e-6fe7e3c42e55  2025-01-08 05:31:04.970000-05:  505ea202-bbf4-4b2c-9639-2a18176d97f1  dc1cdd3e-111f-440e-ae0e-c0b3336c0716  431b1e0c-57a4-4ae8-bb3e-3a2372349857  {\"user\": \"dm250067\", \"project\": \"test\"}\n",
       "654b028b-741e-4a46-8e5d-d966ac8a07b1  2025-01-08 05:26:48.160000-05:  1feb2a86-622c-4c56-8e94-4c367d1a232e  05842693-ddf1-4589-8d7b-a7ea4e952b95  a93604aa-2204-45a6-b4f5-1edab0414da1  {\"user\": \"dm250067\", \"project\": \"test\"}\n",
       "91fb8620-0b80-4cec-a8a5-e1de531e608e  2025-01-08 05:36:52.330000-05:  06e9bc9e-32f1-4f7b-88f9-5a09e1ac8204  72ef3ebe-73d5-4a13-89d3-e093b53c81d1  d14273b9-df63-444b-98ce-0bad17935b12  {\"user\": \"dm250067\", \"project\": \"test\"}\n",
       "f17adbc1-cd51-4281-87ca-2fb179d4ccd0  2025-01-08 06:33:41.570000-05:  479b48a6-e0e5-4d18-b637-de6f1ee63d8a  2e06e335-a352-4480-805d-182f66dca5e7  cddb9b47-acc7-4638-a61b-802aea11f0d7  {\"user\": \"dm250067\", \"project\": \"test\"}\n",
       "533fd2f6-cdf9-4c18-bfd1-11f6c017a587  2025-01-08 06:28:41.130000-05:  0fe42030-d412-411b-9695-8571c07507a0  fca98df7-3e26-41f5-a8a8-0036c348fb9a  57d6b26b-7691-4de9-b465-1d48affe93a8  {\"user\": \"dm250067\", \"project\": \"test\"}"
      ]
     },
     "execution_count": 5,
     "metadata": {},
     "output_type": "execute_result"
    }
   ],
   "source": [
    "sto.list_hyper_models()"
   ]
  },
  {
   "cell_type": "code",
   "execution_count": 6,
   "id": "4ada6bd7-c32d-46ea-94a4-0d97ef75008b",
   "metadata": {},
   "outputs": [
    {
     "data": {
      "text/plain": [
       "'f17adbc1-cd51-4281-87ca-2fb179d4ccd0'"
      ]
     },
     "execution_count": 6,
     "metadata": {},
     "output_type": "execute_result"
    }
   ],
   "source": [
    "id = sto.list_hyper_models()[['ID']].to_pandas().reset_index().iloc[0,0]\n",
    "id"
   ]
  },
  {
   "cell_type": "code",
   "execution_count": 7,
   "id": "a6e200fd-ed8c-4f9f-829b-7290565f994e",
   "metadata": {},
   "outputs": [],
   "source": [
    "existing_model = HyperModel(tdstone=sto)"
   ]
  },
  {
   "cell_type": "code",
   "execution_count": 8,
   "id": "8ff9c4fc-6a82-4356-a507-2ecbbecf76cb",
   "metadata": {},
   "outputs": [],
   "source": [
    "existing_model.download(id=id)"
   ]
  },
  {
   "cell_type": "markdown",
   "id": "eb6af9b3-5688-433e-ad2f-cbe5fd0ee68c",
   "metadata": {},
   "source": [
    "## 3 - Update the training"
   ]
  },
  {
   "cell_type": "code",
   "execution_count": 9,
   "id": "14564d0e-c386-499c-8fbc-10b3a9b85810",
   "metadata": {},
   "outputs": [
    {
     "name": "stdout",
     "output_type": "stream",
     "text": [
      "insert trained models in demo_user.TDS_TRAINED_MODELS_2e06e335_a352_4480_805d_182f66dca5e7\n",
      "- access pickle models in demo_user.V_TDS_TRAINED_MODELS_2e06e335_a352_4480_805d_182f66dca5e7_PICKLE\n",
      "- access  onnx  models in demo_user.V_TDS_TRAINED_MODELS_2e06e335_a352_4480_805d_182f66dca5e7_ONNX\n",
      "- onnx byom catalog    in demo_user.V_TDS_TRAINED_MODELS_2e06e335_a352_4480_805d_182f66dca5e7_BYOM_CATALOG\n",
      "CPU times: total: 46.9 ms\n",
      "Wall time: 11.1 s\n"
     ]
    }
   ],
   "source": [
    "%%time\n",
    "existing_model.train()"
   ]
  },
  {
   "cell_type": "code",
   "execution_count": 10,
   "id": "c63fad75-7730-43a4-9d25-ccffb6e8a8d5",
   "metadata": {},
   "outputs": [
    {
     "name": "stdout",
     "output_type": "stream",
     "text": [
      "demo_user TDS_MODEL_REPOSITORY\n"
     ]
    },
    {
     "data": {
      "text/html": [
       "<style type=\"text/css\">\n",
       "\ttable {border:ridge 5px;}\n",
       "\ttable td {border:inset 1px;}\n",
       "\ttable tr#HeaderRow {background-color:grey; color:white;}</style>\n",
       "<html><table>\n",
       "\t<tr id=\"HeaderRow\">\n",
       "\t\t<th>TD_TIMECODE</th>\n",
       "\t\t<th>count_ID_PROCESS</th>\n",
       "\t\t<th>count_Partition_ID</th>\n",
       "\t\t<th>count_ID_MODEL</th>\n",
       "\t\t<th>count_ID_TRAINED_MODEL</th>\n",
       "\t\t<th>count_MODEL_TYPE</th>\n",
       "\t\t<th>count_STATUS</th>\n",
       "\t</tr>\n",
       "\t<tr>\n",
       "\t\t<td>9999-01-01 00:00:00.000000-04:</td>\n",
       "\t\t<td>8</td>\n",
       "\t\t<td>8</td>\n",
       "\t\t<td>8</td>\n",
       "\t\t<td>8</td>\n",
       "\t\t<td>8</td>\n",
       "\t\t<td>8</td>\n",
       "\t</tr>\n",
       "</table></html>"
      ],
      "text/plain": [
       "                      TD_TIMECODE  count_ID_PROCESS  count_Partition_ID  count_ID_MODEL  count_ID_TRAINED_MODEL  count_MODEL_TYPE  count_STATUS\n",
       "0  9999-01-01 00:00:00.000000-04:                 8                   8               8                       8                 8             8"
      ]
     },
     "execution_count": 10,
     "metadata": {},
     "output_type": "execute_result"
    }
   ],
   "source": [
    "existing_model.get_trained_models().groupby('TD_TIMECODE').count()"
   ]
  },
  {
   "cell_type": "code",
   "execution_count": 11,
   "id": "f65ccf73-cce8-40c1-a117-f540227a10b9",
   "metadata": {},
   "outputs": [
    {
     "name": "stdout",
     "output_type": "stream",
     "text": [
      "demo_user TDS_MODEL_REPOSITORY\n"
     ]
    },
    {
     "data": {
      "text/html": [
       "<style type=\"text/css\">\n",
       "\ttable {border:ridge 5px;}\n",
       "\ttable td {border:inset 1px;}\n",
       "\ttable tr#HeaderRow {background-color:grey; color:white;}</style>\n",
       "<html><table>\n",
       "\t<tr id=\"HeaderRow\">\n",
       "\t\t<th>TD_TIMECODE</th>\n",
       "\t\t<th>ID_MODEL</th>\n",
       "\t\t<th>ID_TRAINED_MODEL</th>\n",
       "\t\t<th>Partition_ID</th>\n",
       "\t</tr>\n",
       "\t<tr>\n",
       "\t\t<td>9999-01-01 00:00:00.000000-04:</td>\n",
       "\t\t<td>479b48a6-e0e5-4d18-b637-de6f1ee63d8a</td>\n",
       "\t\t<td>8fc82f36-58a0-4c99-b135-9186bbf53a42</td>\n",
       "\t\t<td>1</td>\n",
       "\t</tr>\n",
       "\t<tr>\n",
       "\t\t<td>9999-01-01 00:00:00.000000-04:</td>\n",
       "\t\t<td>479b48a6-e0e5-4d18-b637-de6f1ee63d8a</td>\n",
       "\t\t<td>67fcd039-f526-4c18-9414-0e30484b812e</td>\n",
       "\t\t<td>1</td>\n",
       "\t</tr>\n",
       "</table></html>"
      ],
      "text/plain": [
       "                                 TD_TIMECODE                              ID_MODEL                      ID_TRAINED_MODEL\n",
       "Partition_ID                                                                                                            \n",
       "1             9999-01-01 00:00:00.000000-04:  479b48a6-e0e5-4d18-b637-de6f1ee63d8a  8fc82f36-58a0-4c99-b135-9186bbf53a42\n",
       "1             9999-01-01 00:00:00.000000-04:  479b48a6-e0e5-4d18-b637-de6f1ee63d8a  67fcd039-f526-4c18-9414-0e30484b812e"
      ]
     },
     "execution_count": 11,
     "metadata": {},
     "output_type": "execute_result"
    }
   ],
   "source": [
    "models = existing_model.get_trained_models()\n",
    "\n",
    "models[['TD_TIMECODE','ID_MODEL','ID_TRAINED_MODEL','Partition_ID']][models.Partition_ID ==1 ]"
   ]
  },
  {
   "cell_type": "markdown",
   "id": "37b23bd6-db22-4d52-af7d-27b5ec1fa23e",
   "metadata": {},
   "source": [
    "## 4 - Update the scoring"
   ]
  },
  {
   "cell_type": "code",
   "execution_count": 12,
   "id": "060fb18f-a932-4ca2-a1eb-d432d7d82811",
   "metadata": {},
   "outputs": [
    {
     "name": "stdout",
     "output_type": "stream",
     "text": [
      "creation of the on clause view demo_user.TDS_ON_CLAUSE_SCORING_cddb9b47_acc7_4638_a61b_802aea11f0d7\n",
      "creation of the volatile table on on clause view demo_user.TDS_STO_SCORING_cddb9b47_acc7_4638_a61b_802aea11f0d7\n",
      "insert scores in demo_user.TDS_SCORES_cddb9b47_acc7_4638_a61b_802aea11f0d7\n",
      "CPU times: total: 78.1 ms\n",
      "Wall time: 23.1 s\n"
     ]
    }
   ],
   "source": [
    "%%time\n",
    "existing_model.score()"
   ]
  },
  {
   "cell_type": "code",
   "execution_count": 13,
   "id": "56bca5f5-5fcd-4889-a6b9-e96d5881b482",
   "metadata": {},
   "outputs": [
    {
     "name": "stdout",
     "output_type": "stream",
     "text": [
      "demo_user TDS_SCORES_cddb9b47_acc7_4638_a61b_802aea11f0d7\n"
     ]
    },
    {
     "data": {
      "text/html": [
       "<style type=\"text/css\">\n",
       "\ttable {border:ridge 5px;}\n",
       "\ttable td {border:inset 1px;}\n",
       "\ttable tr#HeaderRow {background-color:grey; color:white;}</style>\n",
       "<html><table>\n",
       "\t<tr id=\"HeaderRow\">\n",
       "\t\t<th>TD_TIMECODE</th>\n",
       "\t\t<th>count_ID_PROCESS</th>\n",
       "\t\t<th>count_ID_TRAINED_MODEL</th>\n",
       "\t\t<th>count_Partition_ID</th>\n",
       "\t\t<th>count_ID</th>\n",
       "\t\t<th>count_Y1_prediction</th>\n",
       "\t</tr>\n",
       "\t<tr>\n",
       "\t\t<td>9999-01-01 00:00:00.000000-04:</td>\n",
       "\t\t<td>80000</td>\n",
       "\t\t<td>80000</td>\n",
       "\t\t<td>80000</td>\n",
       "\t\t<td>80000</td>\n",
       "\t\t<td>80000</td>\n",
       "\t</tr>\n",
       "</table></html>"
      ],
      "text/plain": [
       "                      TD_TIMECODE  count_ID_PROCESS  count_ID_TRAINED_MODEL  count_Partition_ID  count_ID  count_Y1_prediction\n",
       "0  9999-01-01 00:00:00.000000-04:             80000                   80000               80000     80000                80000"
      ]
     },
     "execution_count": 13,
     "metadata": {},
     "output_type": "execute_result"
    }
   ],
   "source": [
    "existing_model.get_model_predictions().groupby('TD_TIMECODE').count()"
   ]
  },
  {
   "cell_type": "code",
   "execution_count": 14,
   "id": "6618d422-6e9d-4b15-87cb-faf6b7e9864f",
   "metadata": {
    "tags": []
   },
   "outputs": [
    {
     "name": "stdout",
     "output_type": "stream",
     "text": [
      "demo_user TDS_SCORES_cddb9b47_acc7_4638_a61b_802aea11f0d7\n"
     ]
    },
    {
     "data": {
      "text/html": [
       "<style type=\"text/css\">\n",
       "\ttable {border:ridge 5px;}\n",
       "\ttable td {border:inset 1px;}\n",
       "\ttable tr#HeaderRow {background-color:grey; color:white;}</style>\n",
       "<html><table>\n",
       "\t<tr id=\"HeaderRow\">\n",
       "\t\t<th>FEATURE_NAME</th>\n",
       "\t\t<th>count_TD_TIMECODE</th>\n",
       "\t\t<th>count_ID_PROCESS</th>\n",
       "\t\t<th>count_Partition_ID</th>\n",
       "\t\t<th>count_ID</th>\n",
       "\t\t<th>count_FEATURE_VALUE</th>\n",
       "\t\t<th>count_FEATURE_TYPE</th>\n",
       "\t\t<th>count_STATUS</th>\n",
       "\t\t<th>count_ID_TRAINED_MODEL</th>\n",
       "\t</tr>\n",
       "\t<tr>\n",
       "\t\t<td>Y1_prediction</td>\n",
       "\t\t<td>80000</td>\n",
       "\t\t<td>80000</td>\n",
       "\t\t<td>80000</td>\n",
       "\t\t<td>80000</td>\n",
       "\t\t<td>80000</td>\n",
       "\t\t<td>80000</td>\n",
       "\t\t<td>80000</td>\n",
       "\t\t<td>80000</td>\n",
       "\t</tr>\n",
       "</table></html>"
      ],
      "text/plain": [
       "    FEATURE_NAME  count_TD_TIMECODE  count_ID_PROCESS  count_Partition_ID  count_ID  count_FEATURE_VALUE  count_FEATURE_TYPE  count_STATUS  count_ID_TRAINED_MODEL\n",
       "0  Y1_prediction              80000             80000               80000     80000                80000               80000         80000                   80000"
      ]
     },
     "execution_count": 14,
     "metadata": {},
     "output_type": "execute_result"
    }
   ],
   "source": [
    "existing_model.get_model_predictions(denormalized_view=False).groupby('FEATURE_NAME').count()"
   ]
  },
  {
   "cell_type": "code",
   "execution_count": 15,
   "id": "15522e20-5315-47db-bf67-c58ab54f97f8",
   "metadata": {},
   "outputs": [
    {
     "name": "stdout",
     "output_type": "stream",
     "text": [
      "demo_user TDS_SCORES_cddb9b47_acc7_4638_a61b_802aea11f0d7\n"
     ]
    },
    {
     "data": {
      "text/html": [
       "<style type=\"text/css\">\n",
       "\ttable {border:ridge 5px;}\n",
       "\ttable td {border:inset 1px;}\n",
       "\ttable tr#HeaderRow {background-color:grey; color:white;}</style>\n",
       "<html><table>\n",
       "\t<tr id=\"HeaderRow\">\n",
       "\t\t<th>TD_TIMECODE</th>\n",
       "\t\t<th>ID_PROCESS</th>\n",
       "\t\t<th>Partition_ID</th>\n",
       "\t\t<th>ID</th>\n",
       "\t\t<th>FEATURE_NAME</th>\n",
       "\t\t<th>FEATURE_VALUE</th>\n",
       "\t\t<th>FEATURE_TYPE</th>\n",
       "\t\t<th>STATUS</th>\n",
       "\t\t<th>ID_TRAINED_MODEL</th>\n",
       "\t</tr>\n",
       "\t<tr>\n",
       "\t\t<td>9999-01-01 00:00:00.000000-04:</td>\n",
       "\t\t<td>TDS_STO_SCORING_cddb9b47_acc7_4638_a61b_802aea11f0d7</td>\n",
       "\t\t<td>1</td>\n",
       "\t\t<td>1</td>\n",
       "\t\t<td>Y1_prediction</td>\n",
       "\t\t<td>0.000806164912880007</td>\n",
       "\t\t<td><class 'numpy.float64'></td>\n",
       "\t\t<td>{\"error\": \"successful\", \"batch\": 1, \"job\": \"bdfb793f-4f53-499e-ad54-66dfedb4004a\", \"batch_size\": 1}</td>\n",
       "\t\t<td>67fcd039-f526-4c18-9414-0e30484b812e</td>\n",
       "\t</tr>\n",
       "\t<tr>\n",
       "\t\t<td>9999-01-01 00:00:00.000000-04:</td>\n",
       "\t\t<td>TDS_STO_SCORING_cddb9b47_acc7_4638_a61b_802aea11f0d7</td>\n",
       "\t\t<td>1</td>\n",
       "\t\t<td>1</td>\n",
       "\t\t<td>Y1_prediction</td>\n",
       "\t\t<td>0.000806164912880007</td>\n",
       "\t\t<td><class 'numpy.float64'></td>\n",
       "\t\t<td>{\"error\": \"successful\", \"batch\": 1, \"job\": \"c74c49ea-a378-4741-b67b-4294fd711e59\", \"batch_size\": 1}</td>\n",
       "\t\t<td>8fc82f36-58a0-4c99-b135-9186bbf53a42</td>\n",
       "\t</tr>\n",
       "\t<tr>\n",
       "\t\t<td>9999-01-01 00:00:00.000000-04:</td>\n",
       "\t\t<td>TDS_STO_SCORING_cddb9b47_acc7_4638_a61b_802aea11f0d7</td>\n",
       "\t\t<td>1</td>\n",
       "\t\t<td>2</td>\n",
       "\t\t<td>Y1_prediction</td>\n",
       "\t\t<td>0.000806164912880007</td>\n",
       "\t\t<td><class 'numpy.float64'></td>\n",
       "\t\t<td>{\"error\": \"successful\", \"batch\": 2, \"job\": \"bdfb793f-4f53-499e-ad54-66dfedb4004a\", \"batch_size\": 9999}</td>\n",
       "\t\t<td>67fcd039-f526-4c18-9414-0e30484b812e</td>\n",
       "\t</tr>\n",
       "\t<tr>\n",
       "\t\t<td>9999-01-01 00:00:00.000000-04:</td>\n",
       "\t\t<td>TDS_STO_SCORING_cddb9b47_acc7_4638_a61b_802aea11f0d7</td>\n",
       "\t\t<td>1</td>\n",
       "\t\t<td>2</td>\n",
       "\t\t<td>Y1_prediction</td>\n",
       "\t\t<td>0.000806164912880007</td>\n",
       "\t\t<td><class 'numpy.float64'></td>\n",
       "\t\t<td>{\"error\": \"successful\", \"batch\": 2, \"job\": \"c74c49ea-a378-4741-b67b-4294fd711e59\", \"batch_size\": 9999}</td>\n",
       "\t\t<td>8fc82f36-58a0-4c99-b135-9186bbf53a42</td>\n",
       "\t</tr>\n",
       "\t<tr>\n",
       "\t\t<td>9999-01-01 00:00:00.000000-04:</td>\n",
       "\t\t<td>TDS_STO_SCORING_cddb9b47_acc7_4638_a61b_802aea11f0d7</td>\n",
       "\t\t<td>1</td>\n",
       "\t\t<td>3</td>\n",
       "\t\t<td>Y1_prediction</td>\n",
       "\t\t<td>0.000806164912880007</td>\n",
       "\t\t<td><class 'numpy.float64'></td>\n",
       "\t\t<td>{\"error\": \"successful\", \"batch\": 2, \"job\": \"bdfb793f-4f53-499e-ad54-66dfedb4004a\", \"batch_size\": 9999}</td>\n",
       "\t\t<td>67fcd039-f526-4c18-9414-0e30484b812e</td>\n",
       "\t</tr>\n",
       "\t<tr>\n",
       "\t\t<td>9999-01-01 00:00:00.000000-04:</td>\n",
       "\t\t<td>TDS_STO_SCORING_cddb9b47_acc7_4638_a61b_802aea11f0d7</td>\n",
       "\t\t<td>1</td>\n",
       "\t\t<td>3</td>\n",
       "\t\t<td>Y1_prediction</td>\n",
       "\t\t<td>0.000806164912880007</td>\n",
       "\t\t<td><class 'numpy.float64'></td>\n",
       "\t\t<td>{\"error\": \"successful\", \"batch\": 2, \"job\": \"c74c49ea-a378-4741-b67b-4294fd711e59\", \"batch_size\": 9999}</td>\n",
       "\t\t<td>8fc82f36-58a0-4c99-b135-9186bbf53a42</td>\n",
       "\t</tr>\n",
       "\t<tr>\n",
       "\t\t<td>9999-01-01 00:00:00.000000-04:</td>\n",
       "\t\t<td>TDS_STO_SCORING_cddb9b47_acc7_4638_a61b_802aea11f0d7</td>\n",
       "\t\t<td>1</td>\n",
       "\t\t<td>4</td>\n",
       "\t\t<td>Y1_prediction</td>\n",
       "\t\t<td>0.000806164912880007</td>\n",
       "\t\t<td><class 'numpy.float64'></td>\n",
       "\t\t<td>{\"error\": \"successful\", \"batch\": 2, \"job\": \"bdfb793f-4f53-499e-ad54-66dfedb4004a\", \"batch_size\": 9999}</td>\n",
       "\t\t<td>67fcd039-f526-4c18-9414-0e30484b812e</td>\n",
       "\t</tr>\n",
       "\t<tr>\n",
       "\t\t<td>9999-01-01 00:00:00.000000-04:</td>\n",
       "\t\t<td>TDS_STO_SCORING_cddb9b47_acc7_4638_a61b_802aea11f0d7</td>\n",
       "\t\t<td>1</td>\n",
       "\t\t<td>4</td>\n",
       "\t\t<td>Y1_prediction</td>\n",
       "\t\t<td>0.000806164912880007</td>\n",
       "\t\t<td><class 'numpy.float64'></td>\n",
       "\t\t<td>{\"error\": \"successful\", \"batch\": 2, \"job\": \"c74c49ea-a378-4741-b67b-4294fd711e59\", \"batch_size\": 9999}</td>\n",
       "\t\t<td>8fc82f36-58a0-4c99-b135-9186bbf53a42</td>\n",
       "\t</tr>\n",
       "\t<tr>\n",
       "\t\t<td>9999-01-01 00:00:00.000000-04:</td>\n",
       "\t\t<td>TDS_STO_SCORING_cddb9b47_acc7_4638_a61b_802aea11f0d7</td>\n",
       "\t\t<td>1</td>\n",
       "\t\t<td>5</td>\n",
       "\t\t<td>Y1_prediction</td>\n",
       "\t\t<td>0.000806164912880007</td>\n",
       "\t\t<td><class 'numpy.float64'></td>\n",
       "\t\t<td>{\"error\": \"successful\", \"batch\": 2, \"job\": \"bdfb793f-4f53-499e-ad54-66dfedb4004a\", \"batch_size\": 9999}</td>\n",
       "\t\t<td>67fcd039-f526-4c18-9414-0e30484b812e</td>\n",
       "\t</tr>\n",
       "\t<tr>\n",
       "\t\t<td>9999-01-01 00:00:00.000000-04:</td>\n",
       "\t\t<td>TDS_STO_SCORING_cddb9b47_acc7_4638_a61b_802aea11f0d7</td>\n",
       "\t\t<td>1</td>\n",
       "\t\t<td>5</td>\n",
       "\t\t<td>Y1_prediction</td>\n",
       "\t\t<td>0.000806164912880007</td>\n",
       "\t\t<td><class 'numpy.float64'></td>\n",
       "\t\t<td>{\"error\": \"successful\", \"batch\": 2, \"job\": \"c74c49ea-a378-4741-b67b-4294fd711e59\", \"batch_size\": 9999}</td>\n",
       "\t\t<td>8fc82f36-58a0-4c99-b135-9186bbf53a42</td>\n",
       "\t</tr>\n",
       "</table></html>"
      ],
      "text/plain": [
       "                                                                                                                              TD_TIMECODE   FEATURE_NAME         FEATURE_VALUE             FEATURE_TYPE                                                                                                  STATUS\n",
       "ID_PROCESS                                           Partition_ID ID ID_TRAINED_MODEL                                                                                                                                                                                                                          \n",
       "TDS_STO_SCORING_cddb9b47_acc7_4638_a61b_802aea11f0d7 1            1  67fcd039-f526-4c18-9414-0e30484b812e  9999-01-01 00:00:00.000000-04:  Y1_prediction  0.000806164912880007  <class 'numpy.float64'>     {\"error\": \"successful\", \"batch\": 1, \"job\": \"bdfb793f-4f53-499e-ad54-66dfedb4004a\", \"batch_size\": 1}\n",
       "                                                                     8fc82f36-58a0-4c99-b135-9186bbf53a42  9999-01-01 00:00:00.000000-04:  Y1_prediction  0.000806164912880007  <class 'numpy.float64'>     {\"error\": \"successful\", \"batch\": 1, \"job\": \"c74c49ea-a378-4741-b67b-4294fd711e59\", \"batch_size\": 1}\n",
       "                                                                  2  67fcd039-f526-4c18-9414-0e30484b812e  9999-01-01 00:00:00.000000-04:  Y1_prediction  0.000806164912880007  <class 'numpy.float64'>  {\"error\": \"successful\", \"batch\": 2, \"job\": \"bdfb793f-4f53-499e-ad54-66dfedb4004a\", \"batch_size\": 9999}\n",
       "                                                                     8fc82f36-58a0-4c99-b135-9186bbf53a42  9999-01-01 00:00:00.000000-04:  Y1_prediction  0.000806164912880007  <class 'numpy.float64'>  {\"error\": \"successful\", \"batch\": 2, \"job\": \"c74c49ea-a378-4741-b67b-4294fd711e59\", \"batch_size\": 9999}\n",
       "                                                                  3  67fcd039-f526-4c18-9414-0e30484b812e  9999-01-01 00:00:00.000000-04:  Y1_prediction  0.000806164912880007  <class 'numpy.float64'>  {\"error\": \"successful\", \"batch\": 2, \"job\": \"bdfb793f-4f53-499e-ad54-66dfedb4004a\", \"batch_size\": 9999}\n",
       "                                                                     8fc82f36-58a0-4c99-b135-9186bbf53a42  9999-01-01 00:00:00.000000-04:  Y1_prediction  0.000806164912880007  <class 'numpy.float64'>  {\"error\": \"successful\", \"batch\": 2, \"job\": \"c74c49ea-a378-4741-b67b-4294fd711e59\", \"batch_size\": 9999}\n",
       "                                                                  4  67fcd039-f526-4c18-9414-0e30484b812e  9999-01-01 00:00:00.000000-04:  Y1_prediction  0.000806164912880007  <class 'numpy.float64'>  {\"error\": \"successful\", \"batch\": 2, \"job\": \"bdfb793f-4f53-499e-ad54-66dfedb4004a\", \"batch_size\": 9999}\n",
       "                                                                     8fc82f36-58a0-4c99-b135-9186bbf53a42  9999-01-01 00:00:00.000000-04:  Y1_prediction  0.000806164912880007  <class 'numpy.float64'>  {\"error\": \"successful\", \"batch\": 2, \"job\": \"c74c49ea-a378-4741-b67b-4294fd711e59\", \"batch_size\": 9999}\n",
       "                                                                  5  67fcd039-f526-4c18-9414-0e30484b812e  9999-01-01 00:00:00.000000-04:  Y1_prediction  0.000806164912880007  <class 'numpy.float64'>  {\"error\": \"successful\", \"batch\": 2, \"job\": \"bdfb793f-4f53-499e-ad54-66dfedb4004a\", \"batch_size\": 9999}\n",
       "                                                                     8fc82f36-58a0-4c99-b135-9186bbf53a42  9999-01-01 00:00:00.000000-04:  Y1_prediction  0.000806164912880007  <class 'numpy.float64'>  {\"error\": \"successful\", \"batch\": 2, \"job\": \"c74c49ea-a378-4741-b67b-4294fd711e59\", \"batch_size\": 9999}"
      ]
     },
     "execution_count": 15,
     "metadata": {},
     "output_type": "execute_result"
    }
   ],
   "source": [
    "res = existing_model.get_model_predictions(denormalized_view=False)\n",
    "\n",
    "res[(res.Partition_ID == 1)].sort(['ID','TD_TIMECODE','FEATURE_NAME'])"
   ]
  },
  {
   "cell_type": "code",
   "execution_count": 16,
   "id": "6add3847-6569-4701-bed8-deaf512e94e4",
   "metadata": {},
   "outputs": [
    {
     "data": {
      "text/plain": [
       "'cddb9b47-acc7-4638-a61b-802aea11f0d7'"
      ]
     },
     "execution_count": 16,
     "metadata": {},
     "output_type": "execute_result"
    }
   ],
   "source": [
    "ID_MAPPER_SCORING = sto.list_hyper_models()[['ID_MAPPER_SCORING']].to_pandas().iloc[0,0]\n",
    "ID_MAPPER_SCORING"
   ]
  },
  {
   "cell_type": "code",
   "execution_count": 17,
   "id": "3fda7f47-3bb3-4f2d-8fa6-e3dd8592d6fa",
   "metadata": {},
   "outputs": [],
   "source": [
    "df = sto.list_mappers()\n",
    "mapper_table_name = df[df.ID == ID_MAPPER_SCORING][['TABLE_NAME']].to_pandas().iloc[0,0]"
   ]
  },
  {
   "cell_type": "code",
   "execution_count": 18,
   "id": "f36438b5-370e-4803-b70d-ba34960af39a",
   "metadata": {},
   "outputs": [
    {
     "data": {
      "text/html": [
       "<style type=\"text/css\">\n",
       "\ttable {border:ridge 5px;}\n",
       "\ttable td {border:inset 1px;}\n",
       "\ttable tr#HeaderRow {background-color:grey; color:white;}</style>\n",
       "<html><table>\n",
       "\t<tr id=\"HeaderRow\">\n",
       "\t\t<th>ID_TRAINED_MODEL</th>\n",
       "\t\t<th>Partition_ID</th>\n",
       "\t\t<th>ID</th>\n",
       "\t\t<th>STATUS</th>\n",
       "\t\t<th>METADATA</th>\n",
       "\t\t<th>ValidStart</th>\n",
       "\t\t<th>ValidEnd</th>\n",
       "\t</tr>\n",
       "\t<tr>\n",
       "\t\t<td>67fcd039-f526-4c18-9414-0e30484b812e</td>\n",
       "\t\t<td>1</td>\n",
       "\t\t<td>None</td>\n",
       "\t\t<td>enabled</td>\n",
       "\t\t<td>None</td>\n",
       "\t\t<td>2025-01-08 06:33:59-05:00</td>\n",
       "\t\t<td>2025-01-08 06:47:37-05:00</td>\n",
       "\t</tr>\n",
       "\t<tr>\n",
       "\t\t<td>8fc82f36-58a0-4c99-b135-9186bbf53a42</td>\n",
       "\t\t<td>1</td>\n",
       "\t\t<td>None</td>\n",
       "\t\t<td>enabled</td>\n",
       "\t\t<td>None</td>\n",
       "\t\t<td>2025-01-08 06:47:37-05:00</td>\n",
       "\t\t<td>9999-12-31 23:59:59+00:00</td>\n",
       "\t</tr>\n",
       "</table></html>"
      ],
      "text/plain": [
       "                       ID_TRAINED_MODEL  Partition_ID    ID   STATUS METADATA                 ValidStart                   ValidEnd\n",
       "0  67fcd039-f526-4c18-9414-0e30484b812e             1  None  enabled     None  2025-01-08 06:33:59-05:00  2025-01-08 06:47:37-05:00\n",
       "1  8fc82f36-58a0-4c99-b135-9186bbf53a42             1  None  enabled     None  2025-01-08 06:47:37-05:00  9999-12-31 23:59:59+00:00"
      ]
     },
     "execution_count": 18,
     "metadata": {},
     "output_type": "execute_result"
    }
   ],
   "source": [
    "tdml.DataFrame.from_query(f\"SEL * FROM {Param['database']}.{mapper_table_name} where Partition_ID = 1\")"
   ]
  },
  {
   "cell_type": "code",
   "execution_count": 19,
   "id": "f5df0b34-5a78-4871-8083-ae67f6442e25",
   "metadata": {},
   "outputs": [
    {
     "data": {
      "text/html": [
       "<style type=\"text/css\">\n",
       "\ttable {border:ridge 5px;}\n",
       "\ttable td {border:inset 1px;}\n",
       "\ttable tr#HeaderRow {background-color:grey; color:white;}</style>\n",
       "<html><table>\n",
       "\t<tr id=\"HeaderRow\">\n",
       "\t\t<th>ID_TRAINED_MODEL</th>\n",
       "\t\t<th>Partition_ID</th>\n",
       "\t\t<th>ID</th>\n",
       "\t\t<th>STATUS</th>\n",
       "\t\t<th>METADATA</th>\n",
       "\t</tr>\n",
       "\t<tr>\n",
       "\t\t<td>8fc82f36-58a0-4c99-b135-9186bbf53a42</td>\n",
       "\t\t<td>1</td>\n",
       "\t\t<td>None</td>\n",
       "\t\t<td>enabled</td>\n",
       "\t\t<td>None</td>\n",
       "\t</tr>\n",
       "</table></html>"
      ],
      "text/plain": [
       "                       ID_TRAINED_MODEL  Partition_ID    ID   STATUS METADATA\n",
       "0  8fc82f36-58a0-4c99-b135-9186bbf53a42             1  None  enabled     None"
      ]
     },
     "execution_count": 19,
     "metadata": {},
     "output_type": "execute_result"
    }
   ],
   "source": [
    "tdml.DataFrame.from_query(f\"CURRENT VALIDTIME SEL * FROM {Param['database']}.{mapper_table_name} where Partition_ID = 1\")"
   ]
  },
  {
   "cell_type": "code",
   "execution_count": 20,
   "id": "1d89fab7-2d5b-491f-bff4-e738d10e7a99",
   "metadata": {},
   "outputs": [
    {
     "data": {
      "text/plain": [
       "True"
      ]
     },
     "execution_count": 20,
     "metadata": {},
     "output_type": "execute_result"
    }
   ],
   "source": [
    "tdml.remove_context()"
   ]
  }
 ],
 "metadata": {
  "kernelspec": {
   "display_name": "vantage_python",
   "language": "python",
   "name": "python3"
  },
  "language_info": {
   "codemirror_mode": {
    "name": "ipython",
    "version": 3
   },
   "file_extension": ".py",
   "mimetype": "text/x-python",
   "name": "python",
   "nbconvert_exporter": "python",
   "pygments_lexer": "ipython3",
   "version": "3.12.3"
  }
 },
 "nbformat": 4,
 "nbformat_minor": 5
}
