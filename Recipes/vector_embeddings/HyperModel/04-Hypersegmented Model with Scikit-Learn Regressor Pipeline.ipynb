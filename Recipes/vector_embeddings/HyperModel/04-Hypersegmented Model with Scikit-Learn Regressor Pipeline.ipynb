{
 "cells": [
  {
   "cell_type": "markdown",
   "id": "cbbb6648-bedc-4206-95fe-2a02c8181243",
   "metadata": {},
   "source": [
    "# Deploy a Hyper-Segmented Model with TDStone2 in less than a minute\n",
    "# Using Scikit Learn Regressor Pipeline"
   ]
  },
  {
   "cell_type": "markdown",
   "id": "2de9fe3f-8fba-4c73-af5d-dad51d10e7dd",
   "metadata": {},
   "source": [
    "## 1 - Connect to Vantage"
   ]
  },
  {
   "cell_type": "code",
   "execution_count": 1,
   "id": "8fe6018b-024d-499e-83d0-d7a41236bf0a",
   "metadata": {},
   "outputs": [
    {
     "data": {
      "text/plain": [
       "'20.00.00.03'"
      ]
     },
     "execution_count": 1,
     "metadata": {},
     "output_type": "execute_result"
    }
   ],
   "source": [
    "import teradataml as tdml\n",
    "import json\n",
    "import warnings\n",
    "warnings.filterwarnings('ignore')\n",
    "tdml.__version__"
   ]
  },
  {
   "cell_type": "code",
   "execution_count": 2,
   "id": "626a49fe-7b5c-4406-a9eb-e273926fede3",
   "metadata": {},
   "outputs": [
    {
     "data": {
      "text/plain": [
       "Engine(teradatasql://:***@sto-xo0saiv0ot1sxmj2.env.clearscape.teradata.com?DATABASE=demo_user&user=DEMO_USER)"
      ]
     },
     "execution_count": 2,
     "metadata": {},
     "output_type": "execute_result"
    }
   ],
   "source": [
    "with open('../connections/me.json','r') as f:\n",
    "    Param_ = json.load(f)\n",
    "\n",
    "with open('../connections/csae2.json','r') as f:\n",
    "    Param = json.load(f)\n",
    "\n",
    "with open('../connections/csae.json','r') as f:\n",
    "    Param_ = json.load(f)\n",
    "\n",
    "with open('../connections/vantage24.json','r') as f:\n",
    "    Param_ = json.load(f)\n",
    "\n",
    "tdml.create_context(**Param)"
   ]
  },
  {
   "cell_type": "markdown",
   "id": "71c35811-44c1-4ba5-aafe-76481a06316a",
   "metadata": {},
   "source": [
    "## 2 - The Hyper-Segmented Dataset"
   ]
  },
  {
   "cell_type": "code",
   "execution_count": 3,
   "id": "cb52a782-fa57-4afa-97cb-4d0d3941fda9",
   "metadata": {},
   "outputs": [
    {
     "data": {
      "text/html": [
       "<style type=\"text/css\">\n",
       "\ttable {border:ridge 5px;}\n",
       "\ttable td {border:inset 1px;}\n",
       "\ttable tr#HeaderRow {background-color:grey; color:white;}</style>\n",
       "<html><table>\n",
       "\t<tr id=\"HeaderRow\">\n",
       "\t\t<th>Partition_ID</th>\n",
       "\t\t<th>ID</th>\n",
       "\t\t<th>X1</th>\n",
       "\t\t<th>X2</th>\n",
       "\t\t<th>X3</th>\n",
       "\t\t<th>X4</th>\n",
       "\t\t<th>X5</th>\n",
       "\t\t<th>X6</th>\n",
       "\t\t<th>X7</th>\n",
       "\t\t<th>X8</th>\n",
       "\t\t<th>X9</th>\n",
       "\t\t<th>flag</th>\n",
       "\t\t<th>Y1</th>\n",
       "\t\t<th>Y2</th>\n",
       "\t\t<th>FOLD</th>\n",
       "\t</tr>\n",
       "\t<tr>\n",
       "\t\t<td>9</td>\n",
       "\t\t<td>10010</td>\n",
       "\t\t<td>0.2958804484987114</td>\n",
       "\t\t<td>0.003716488369000244</td>\n",
       "\t\t<td>0.01722984108468596</td>\n",
       "\t\t<td>-0.8980370254646806</td>\n",
       "\t\t<td>-0.7133844217285864</td>\n",
       "\t\t<td>1.4033073897256012</td>\n",
       "\t\t<td>0.09585056813091393</td>\n",
       "\t\t<td>-1.5727605216032974</td>\n",
       "\t\t<td>0.24669220433822078</td>\n",
       "\t\t<td>0</td>\n",
       "\t\t<td>0.30614073239501466</td>\n",
       "\t\t<td>1</td>\n",
       "\t\t<td>train</td>\n",
       "\t</tr>\n",
       "\t<tr>\n",
       "\t\t<td>9</td>\n",
       "\t\t<td>10013</td>\n",
       "\t\t<td>0.21218527816317997</td>\n",
       "\t\t<td>2.166812356509659</td>\n",
       "\t\t<td>-0.1266757732207366</td>\n",
       "\t\t<td>1.9474973269441456</td>\n",
       "\t\t<td>0.13917028091362654</td>\n",
       "\t\t<td>0.20430437102374058</td>\n",
       "\t\t<td>-1.3606770865820423</td>\n",
       "\t\t<td>-0.05685071859701827</td>\n",
       "\t\t<td>2.291005491276908</td>\n",
       "\t\t<td>0</td>\n",
       "\t\t<td>-0.9461899572379499</td>\n",
       "\t\t<td>0</td>\n",
       "\t\t<td>train</td>\n",
       "\t</tr>\n",
       "\t<tr>\n",
       "\t\t<td>9</td>\n",
       "\t\t<td>10014</td>\n",
       "\t\t<td>0.2696428584641046</td>\n",
       "\t\t<td>0.09665053813760335</td>\n",
       "\t\t<td>-1.0018103382973418</td>\n",
       "\t\t<td>0.2303663593320063</td>\n",
       "\t\t<td>-1.4484362655020413</td>\n",
       "\t\t<td>0.3048885822345157</td>\n",
       "\t\t<td>0.5428096467932015</td>\n",
       "\t\t<td>2.495707581732601</td>\n",
       "\t\t<td>-1.9600913126996844</td>\n",
       "\t\t<td>0</td>\n",
       "\t\t<td>-0.7660544464255463</td>\n",
       "\t\t<td>0</td>\n",
       "\t\t<td>train</td>\n",
       "\t</tr>\n",
       "\t<tr>\n",
       "\t\t<td>9</td>\n",
       "\t\t<td>10015</td>\n",
       "\t\t<td>1.0352969567784633</td>\n",
       "\t\t<td>1.7180803172505401</td>\n",
       "\t\t<td>-1.212333026542816</td>\n",
       "\t\t<td>0.23062189483724332</td>\n",
       "\t\t<td>0.09487671261837792</td>\n",
       "\t\t<td>1.4785411000201696</td>\n",
       "\t\t<td>-0.1915928514243548</td>\n",
       "\t\t<td>0.2738925677755579</td>\n",
       "\t\t<td>0.4567414265556841</td>\n",
       "\t\t<td>0</td>\n",
       "\t\t<td>1.1925536062692985</td>\n",
       "\t\t<td>1</td>\n",
       "\t\t<td>train</td>\n",
       "\t</tr>\n",
       "\t<tr>\n",
       "\t\t<td>9</td>\n",
       "\t\t<td>10018</td>\n",
       "\t\t<td>-0.056727019348374944</td>\n",
       "\t\t<td>0.10544771580930327</td>\n",
       "\t\t<td>1.8454204127385498</td>\n",
       "\t\t<td>0.3616908074784603</td>\n",
       "\t\t<td>1.2205212060733945</td>\n",
       "\t\t<td>-0.06193245371322754</td>\n",
       "\t\t<td>-0.5530192900801478</td>\n",
       "\t\t<td>-0.43005691181938516</td>\n",
       "\t\t<td>-0.4488047777379936</td>\n",
       "\t\t<td>1</td>\n",
       "\t\t<td>-1.837775730009315</td>\n",
       "\t\t<td>0</td>\n",
       "\t\t<td>train</td>\n",
       "\t</tr>\n",
       "\t<tr>\n",
       "\t\t<td>9</td>\n",
       "\t\t<td>10019</td>\n",
       "\t\t<td>0.9477234671587255</td>\n",
       "\t\t<td>-1.0709365555193369</td>\n",
       "\t\t<td>0.4104635207616072</td>\n",
       "\t\t<td>-0.19428923876533416</td>\n",
       "\t\t<td>0.9744406394994841</td>\n",
       "\t\t<td>-1.595214852414057</td>\n",
       "\t\t<td>1.7279071952164111</td>\n",
       "\t\t<td>-0.1411204037244582</td>\n",
       "\t\t<td>0.8182704738164543</td>\n",
       "\t\t<td>0</td>\n",
       "\t\t<td>1.9734907309554794</td>\n",
       "\t\t<td>1</td>\n",
       "\t\t<td>train</td>\n",
       "\t</tr>\n",
       "\t<tr>\n",
       "\t\t<td>9</td>\n",
       "\t\t<td>10017</td>\n",
       "\t\t<td>-2.0955851487485213</td>\n",
       "\t\t<td>-0.12377353233081276</td>\n",
       "\t\t<td>0.753201306001975</td>\n",
       "\t\t<td>-0.5383166736630877</td>\n",
       "\t\t<td>-0.6259345787552749</td>\n",
       "\t\t<td>0.08287535513834084</td>\n",
       "\t\t<td>0.8284104984331996</td>\n",
       "\t\t<td>0.2097047767930522</td>\n",
       "\t\t<td>-0.4857437685427433</td>\n",
       "\t\t<td>0</td>\n",
       "\t\t<td>-0.07178812944773284</td>\n",
       "\t\t<td>0</td>\n",
       "\t\t<td>train</td>\n",
       "\t</tr>\n",
       "\t<tr>\n",
       "\t\t<td>9</td>\n",
       "\t\t<td>10011</td>\n",
       "\t\t<td>-0.21262362685570874</td>\n",
       "\t\t<td>-1.6603317529582815</td>\n",
       "\t\t<td>1.7388731099892527</td>\n",
       "\t\t<td>-1.5923116289115609</td>\n",
       "\t\t<td>0.26452601206465765</td>\n",
       "\t\t<td>-0.46762101872188044</td>\n",
       "\t\t<td>-1.0733257888941525</td>\n",
       "\t\t<td>-0.6245670487544273</td>\n",
       "\t\t<td>0.24821063575400967</td>\n",
       "\t\t<td>0</td>\n",
       "\t\t<td>2.183759325597856</td>\n",
       "\t\t<td>1</td>\n",
       "\t\t<td>train</td>\n",
       "\t</tr>\n",
       "\t<tr>\n",
       "\t\t<td>9</td>\n",
       "\t\t<td>10009</td>\n",
       "\t\t<td>-0.19855839525509705</td>\n",
       "\t\t<td>1.5590910463488572</td>\n",
       "\t\t<td>-0.24941730720279</td>\n",
       "\t\t<td>1.3439589643048995</td>\n",
       "\t\t<td>-0.2727814812771797</td>\n",
       "\t\t<td>-1.3409329048433465</td>\n",
       "\t\t<td>-1.855851730498525</td>\n",
       "\t\t<td>-0.6037874835632588</td>\n",
       "\t\t<td>-1.1436998323386687</td>\n",
       "\t\t<td>0</td>\n",
       "\t\t<td>1.6793888752832822</td>\n",
       "\t\t<td>1</td>\n",
       "\t\t<td>train</td>\n",
       "\t</tr>\n",
       "\t<tr>\n",
       "\t\t<td>9</td>\n",
       "\t\t<td>10006</td>\n",
       "\t\t<td>0.8715036971507598</td>\n",
       "\t\t<td>-0.9547011166837505</td>\n",
       "\t\t<td>-0.7212371657720575</td>\n",
       "\t\t<td>-0.513759234558512</td>\n",
       "\t\t<td>0.16062548990127876</td>\n",
       "\t\t<td>-0.09512967554627166</td>\n",
       "\t\t<td>-0.35991104923966133</td>\n",
       "\t\t<td>-0.8666125648617071</td>\n",
       "\t\t<td>-0.764595423910862</td>\n",
       "\t\t<td>1</td>\n",
       "\t\t<td>-0.3168103113201745</td>\n",
       "\t\t<td>0</td>\n",
       "\t\t<td>train</td>\n",
       "\t</tr>\n",
       "</table></html>"
      ],
      "text/plain": [
       "                 ID        X1        X2        X3        X4        X5        X6        X7        X8        X9  flag        Y1  Y2   FOLD\n",
       "Partition_ID                                                                                                                            \n",
       "9             10010  0.295880  0.003716  0.017230 -0.898037 -0.713384  1.403307  0.095851 -1.572761  0.246692     0  0.306141   1  train\n",
       "9             10013  0.212185  2.166812 -0.126676  1.947497  0.139170  0.204304 -1.360677 -0.056851  2.291005     0 -0.946190   0  train\n",
       "9             10014  0.269643  0.096651 -1.001810  0.230366 -1.448436  0.304889  0.542810  2.495708 -1.960091     0 -0.766054   0  train\n",
       "9             10015  1.035297  1.718080 -1.212333  0.230622  0.094877  1.478541 -0.191593  0.273893  0.456741     0  1.192554   1  train\n",
       "9             10018 -0.056727  0.105448  1.845420  0.361691  1.220521 -0.061932 -0.553019 -0.430057 -0.448805     1 -1.837776   0  train\n",
       "9             10019  0.947723 -1.070937  0.410464 -0.194289  0.974441 -1.595215  1.727907 -0.141120  0.818270     0  1.973491   1  train\n",
       "9             10017 -2.095585 -0.123774  0.753201 -0.538317 -0.625935  0.082875  0.828410  0.209705 -0.485744     0 -0.071788   0  train\n",
       "9             10011 -0.212624 -1.660332  1.738873 -1.592312  0.264526 -0.467621 -1.073326 -0.624567  0.248211     0  2.183759   1  train\n",
       "9             10009 -0.198558  1.559091 -0.249417  1.343959 -0.272781 -1.340933 -1.855852 -0.603787 -1.143700     0  1.679389   1  train\n",
       "9             10006  0.871504 -0.954701 -0.721237 -0.513759  0.160625 -0.095130 -0.359911 -0.866613 -0.764595     1 -0.316810   0  train"
      ]
     },
     "execution_count": 3,
     "metadata": {},
     "output_type": "execute_result"
    }
   ],
   "source": [
    "dataset = tdml.DataFrame(tdml.in_schema(Param['database'],'dataset_00'))\n",
    "dataset"
   ]
  },
  {
   "cell_type": "code",
   "execution_count": 4,
   "id": "8f2a2d8c-2839-4be5-a841-4f093afedabb",
   "metadata": {},
   "outputs": [
    {
     "data": {
      "text/html": [
       "<style type=\"text/css\">\n",
       "\ttable {border:ridge 5px;}\n",
       "\ttable td {border:inset 1px;}\n",
       "\ttable tr#HeaderRow {background-color:grey; color:white;}</style>\n",
       "<html><table>\n",
       "\t<tr id=\"HeaderRow\">\n",
       "\t\t<th>Partition_ID</th>\n",
       "\t\t<th>count_ID</th>\n",
       "\t\t<th>count_X1</th>\n",
       "\t\t<th>count_X2</th>\n",
       "\t\t<th>count_X3</th>\n",
       "\t\t<th>count_X4</th>\n",
       "\t\t<th>count_X5</th>\n",
       "\t\t<th>count_X6</th>\n",
       "\t\t<th>count_X7</th>\n",
       "\t\t<th>count_X8</th>\n",
       "\t\t<th>count_X9</th>\n",
       "\t\t<th>count_flag</th>\n",
       "\t\t<th>count_Y1</th>\n",
       "\t\t<th>count_Y2</th>\n",
       "\t\t<th>count_FOLD</th>\n",
       "\t</tr>\n",
       "\t<tr>\n",
       "\t\t<td>9</td>\n",
       "\t\t<td>10000</td>\n",
       "\t\t<td>10000</td>\n",
       "\t\t<td>10000</td>\n",
       "\t\t<td>10000</td>\n",
       "\t\t<td>10000</td>\n",
       "\t\t<td>10000</td>\n",
       "\t\t<td>10000</td>\n",
       "\t\t<td>10000</td>\n",
       "\t\t<td>10000</td>\n",
       "\t\t<td>10000</td>\n",
       "\t\t<td>10000</td>\n",
       "\t\t<td>10000</td>\n",
       "\t\t<td>10000</td>\n",
       "\t\t<td>10000</td>\n",
       "\t</tr>\n",
       "\t<tr>\n",
       "\t\t<td>6</td>\n",
       "\t\t<td>10000</td>\n",
       "\t\t<td>10000</td>\n",
       "\t\t<td>10000</td>\n",
       "\t\t<td>10000</td>\n",
       "\t\t<td>10000</td>\n",
       "\t\t<td>10000</td>\n",
       "\t\t<td>10000</td>\n",
       "\t\t<td>10000</td>\n",
       "\t\t<td>10000</td>\n",
       "\t\t<td>10000</td>\n",
       "\t\t<td>10000</td>\n",
       "\t\t<td>10000</td>\n",
       "\t\t<td>10000</td>\n",
       "\t\t<td>10000</td>\n",
       "\t</tr>\n",
       "\t<tr>\n",
       "\t\t<td>1</td>\n",
       "\t\t<td>10000</td>\n",
       "\t\t<td>10000</td>\n",
       "\t\t<td>10000</td>\n",
       "\t\t<td>10000</td>\n",
       "\t\t<td>10000</td>\n",
       "\t\t<td>10000</td>\n",
       "\t\t<td>10000</td>\n",
       "\t\t<td>10000</td>\n",
       "\t\t<td>10000</td>\n",
       "\t\t<td>10000</td>\n",
       "\t\t<td>10000</td>\n",
       "\t\t<td>10000</td>\n",
       "\t\t<td>10000</td>\n",
       "\t\t<td>10000</td>\n",
       "\t</tr>\n",
       "\t<tr>\n",
       "\t\t<td>4</td>\n",
       "\t\t<td>10000</td>\n",
       "\t\t<td>10000</td>\n",
       "\t\t<td>10000</td>\n",
       "\t\t<td>10000</td>\n",
       "\t\t<td>10000</td>\n",
       "\t\t<td>10000</td>\n",
       "\t\t<td>10000</td>\n",
       "\t\t<td>10000</td>\n",
       "\t\t<td>10000</td>\n",
       "\t\t<td>10000</td>\n",
       "\t\t<td>10000</td>\n",
       "\t\t<td>10000</td>\n",
       "\t\t<td>10000</td>\n",
       "\t\t<td>10000</td>\n",
       "\t</tr>\n",
       "</table></html>"
      ],
      "text/plain": [
       "   Partition_ID  count_ID  count_X1  count_X2  count_X3  count_X4  count_X5  count_X6  count_X7  count_X8  count_X9  count_flag  count_Y1  count_Y2  count_FOLD\n",
       "0             9     10000     10000     10000     10000     10000     10000     10000     10000     10000     10000       10000     10000     10000       10000\n",
       "1             6     10000     10000     10000     10000     10000     10000     10000     10000     10000     10000       10000     10000     10000       10000\n",
       "2             1     10000     10000     10000     10000     10000     10000     10000     10000     10000     10000       10000     10000     10000       10000\n",
       "3             4     10000     10000     10000     10000     10000     10000     10000     10000     10000     10000       10000     10000     10000       10000"
      ]
     },
     "execution_count": 4,
     "metadata": {},
     "output_type": "execute_result"
    }
   ],
   "source": [
    "summary = dataset.groupby('Partition_ID').count()\n",
    "summary"
   ]
  },
  {
   "cell_type": "code",
   "execution_count": 5,
   "id": "07d0147e-af56-4400-8814-70c68efd8f90",
   "metadata": {},
   "outputs": [
    {
     "data": {
      "text/plain": [
       "(4, 15)"
      ]
     },
     "execution_count": 5,
     "metadata": {},
     "output_type": "execute_result"
    }
   ],
   "source": [
    "summary.shape"
   ]
  },
  {
   "cell_type": "markdown",
   "id": "896ca2c5-cef1-4d89-b321-7e29a28bb05b",
   "metadata": {},
   "source": [
    "## 3 - Hyper-segmented model deployment"
   ]
  },
  {
   "cell_type": "markdown",
   "id": "c17a2135-b2a6-4d67-af95-c30b59ecc45f",
   "metadata": {},
   "source": [
    "### 3.1 - Engineering of the scikit-learn classifier pipeline"
   ]
  },
  {
   "cell_type": "code",
   "execution_count": 6,
   "id": "6f7552d2-cb2f-4538-b76e-398167697298",
   "metadata": {},
   "outputs": [],
   "source": [
    "from sklearn.preprocessing import StandardScaler\n",
    "from sklearn.ensemble import RandomForestRegressor\n",
    "# Example usage\n",
    "steps_classifier = [\n",
    "    ('scaler', StandardScaler()),\n",
    "    ('regressor', RandomForestRegressor(\n",
    "        max_depth = 5,\n",
    "        n_estimators = 95 \n",
    "    ))]"
   ]
  },
  {
   "cell_type": "markdown",
   "id": "474f18d8-08da-46c4-af28-19421d9bc750",
   "metadata": {},
   "source": [
    "### 3.2 - Deployment of the scikit-learn pipeline"
   ]
  },
  {
   "cell_type": "code",
   "execution_count": 7,
   "id": "9294bc91-4376-404e-b5cd-87fdd71d77a8",
   "metadata": {},
   "outputs": [],
   "source": [
    "from tdstone2.tdshypermodel import HyperModel\n",
    "from tdstone2.tdstone import TDStone\n",
    "sto = TDStone(schema_name = Param['database'], SEARCHUIFDBPATH = Param['user'])"
   ]
  },
  {
   "cell_type": "code",
   "execution_count": null,
   "id": "a7b196b3-3dde-4940-a4f8-af713e9c8fe0",
   "metadata": {},
   "outputs": [],
   "source": [
    "model_parameters = {\n",
    "    \"target\": 'Y1',\n",
    "    \"column_categorical\": ['flag'],\n",
    "    \"column_names_X\": ['X1','X2','X3','X4','X5','X6','X7','X8','X9','flag']\n",
    "}"
   ]
  },
  {
   "cell_type": "code",
   "execution_count": 9,
   "id": "7c347041-150f-43b8-834b-dfe0af6e7ada",
   "metadata": {},
   "outputs": [
    {
     "name": "stdout",
     "output_type": "stream",
     "text": [
      "registration of mapper with id = dc1cdd3e-111f-440e-ae0e-c0b3336c0716\n",
      "creation of dedicated mapper table : demo_user.TDS_MAPPER_dc1cdd3e_111f_440e_ae0e_c0b3336c0716\n",
      "creation of the on clause view demo_user.TDS_ON_CLAUSE_TRAINING_dc1cdd3e_111f_440e_ae0e_c0b3336c0716\n",
      "creation of the sto view demo_user.TDS_STO_TRAINING_dc1cdd3e_111f_440e_ae0e_c0b3336c0716\n",
      "registration of mapper with id = 431b1e0c-57a4-4ae8-bb3e-3a2372349857\n",
      "creation of dedicated mapper table : demo_user.TDS_MAPPER_431b1e0c_57a4_4ae8_bb3e_3a2372349857\n",
      "creation of the on clause view demo_user.TDS_ON_CLAUSE_SCORING_431b1e0c_57a4_4ae8_bb3e_3a2372349857\n",
      "creation of the volatile table on on clause view demo_user.TDS_STO_SCORING_431b1e0c_57a4_4ae8_bb3e_3a2372349857\n",
      "creation of the sto view demo_user.TDS_STO_SCORING_431b1e0c_57a4_4ae8_bb3e_3a2372349857\n",
      "register hyper model with id : c5ef0032-dd20-4b48-817e-6fe7e3c42e55\n",
      "hyper model : c5ef0032-dd20-4b48-817e-6fe7e3c42e55\n",
      "CPU times: total: 188 ms\n",
      "Wall time: 27.6 s\n"
     ]
    }
   ],
   "source": [
    "%%time\n",
    "model = HyperModel(tdstone            = sto,\n",
    "                   metadata           = {'project': 'test'},\n",
    "                   skl_pipeline_steps = steps_classifier,\n",
    "                   model_parameters   = model_parameters,\n",
    "                   dataset            = tdml.in_schema(Param['database'],'dataset_00'),\n",
    "                   id_row             = 'ID',\n",
    "                   id_partition       = 'Partition_ID',\n",
    "                   id_fold            = 'FOLD',\n",
    "                   fold_training      = 'train')"
   ]
  },
  {
   "cell_type": "code",
   "execution_count": 10,
   "id": "22d474e7-7b9b-4792-9af4-fb071803cd9b",
   "metadata": {},
   "outputs": [
    {
     "data": {
      "text/html": [
       "<style type=\"text/css\">\n",
       "\ttable {border:ridge 5px;}\n",
       "\ttable td {border:inset 1px;}\n",
       "\ttable tr#HeaderRow {background-color:grey; color:white;}</style>\n",
       "<html><table>\n",
       "\t<tr id=\"HeaderRow\">\n",
       "\t\t<th>CREATION_DATE</th>\n",
       "\t\t<th>ID</th>\n",
       "\t\t<th>ID_MODEL</th>\n",
       "\t\t<th>ID_MAPPER_TRAINING</th>\n",
       "\t\t<th>ID_MAPPER_SCORING</th>\n",
       "\t\t<th>METADATA</th>\n",
       "\t</tr>\n",
       "\t<tr>\n",
       "\t\t<td>2025-01-08 05:31:04.970000-05:</td>\n",
       "\t\t<td>c5ef0032-dd20-4b48-817e-6fe7e3c42e55</td>\n",
       "\t\t<td>505ea202-bbf4-4b2c-9639-2a18176d97f1</td>\n",
       "\t\t<td>dc1cdd3e-111f-440e-ae0e-c0b3336c0716</td>\n",
       "\t\t<td>431b1e0c-57a4-4ae8-bb3e-3a2372349857</td>\n",
       "\t\t<td>{\"user\": \"dm250067\", \"project\": \"test\"}</td>\n",
       "\t</tr>\n",
       "\t<tr>\n",
       "\t\t<td>2025-01-08 05:26:48.160000-05:</td>\n",
       "\t\t<td>654b028b-741e-4a46-8e5d-d966ac8a07b1</td>\n",
       "\t\t<td>1feb2a86-622c-4c56-8e94-4c367d1a232e</td>\n",
       "\t\t<td>05842693-ddf1-4589-8d7b-a7ea4e952b95</td>\n",
       "\t\t<td>a93604aa-2204-45a6-b4f5-1edab0414da1</td>\n",
       "\t\t<td>{\"user\": \"dm250067\", \"project\": \"test\"}</td>\n",
       "\t</tr>\n",
       "</table></html>"
      ],
      "text/plain": [
       "                                                       CREATION_DATE                              ID_MODEL                    ID_MAPPER_TRAINING                     ID_MAPPER_SCORING                                 METADATA\n",
       "ID                                                                                                                                                                                                                             \n",
       "c5ef0032-dd20-4b48-817e-6fe7e3c42e55  2025-01-08 05:31:04.970000-05:  505ea202-bbf4-4b2c-9639-2a18176d97f1  dc1cdd3e-111f-440e-ae0e-c0b3336c0716  431b1e0c-57a4-4ae8-bb3e-3a2372349857  {\"user\": \"dm250067\", \"project\": \"test\"}\n",
       "654b028b-741e-4a46-8e5d-d966ac8a07b1  2025-01-08 05:26:48.160000-05:  1feb2a86-622c-4c56-8e94-4c367d1a232e  05842693-ddf1-4589-8d7b-a7ea4e952b95  a93604aa-2204-45a6-b4f5-1edab0414da1  {\"user\": \"dm250067\", \"project\": \"test\"}"
      ]
     },
     "execution_count": 10,
     "metadata": {},
     "output_type": "execute_result"
    }
   ],
   "source": [
    "sto.list_hyper_models()"
   ]
  },
  {
   "cell_type": "code",
   "execution_count": 11,
   "id": "35f824de-bd86-403f-bd77-878a1c491dbb",
   "metadata": {},
   "outputs": [
    {
     "data": {
      "text/plain": [
       "'c5ef0032-dd20-4b48-817e-6fe7e3c42e55'"
      ]
     },
     "execution_count": 11,
     "metadata": {},
     "output_type": "execute_result"
    }
   ],
   "source": [
    "id = sto.list_hyper_models()[['ID','CREATION_DATE']].to_pandas().reset_index().sort_values('CREATION_DATE', ascending=False).iloc[0,0]\n",
    "id"
   ]
  },
  {
   "cell_type": "markdown",
   "id": "0bf5924f-5002-4394-b44d-3c941a70df9e",
   "metadata": {},
   "source": [
    "## 4 - Execution of the deployed hypermodel"
   ]
  },
  {
   "cell_type": "markdown",
   "id": "38ceb441-eee6-4652-a1a2-50663fd26d8f",
   "metadata": {},
   "source": [
    "### 4.1 - Models Training"
   ]
  },
  {
   "cell_type": "code",
   "execution_count": 12,
   "id": "086fe28e-fdc6-44fa-ba26-82ada8c97b40",
   "metadata": {},
   "outputs": [
    {
     "name": "stdout",
     "output_type": "stream",
     "text": [
      "insert trained models in demo_user.TDS_TRAINED_MODELS_dc1cdd3e_111f_440e_ae0e_c0b3336c0716\n",
      "- access pickle models in demo_user.V_TDS_TRAINED_MODELS_dc1cdd3e_111f_440e_ae0e_c0b3336c0716_PICKLE\n",
      "- access  onnx  models in demo_user.V_TDS_TRAINED_MODELS_dc1cdd3e_111f_440e_ae0e_c0b3336c0716_ONNX\n",
      "- onnx byom catalog    in demo_user.V_TDS_TRAINED_MODELS_dc1cdd3e_111f_440e_ae0e_c0b3336c0716_BYOM_CATALOG\n",
      "CPU times: total: 0 ns\n",
      "Wall time: 11.7 s\n"
     ]
    }
   ],
   "source": [
    "%%time\n",
    "model.train()"
   ]
  },
  {
   "cell_type": "code",
   "execution_count": 13,
   "id": "8f49f1e6-ca1a-4896-bcd5-46193888ee5e",
   "metadata": {},
   "outputs": [
    {
     "name": "stdout",
     "output_type": "stream",
     "text": [
      "demo_user TDS_MODEL_REPOSITORY\n"
     ]
    },
    {
     "data": {
      "text/html": [
       "<style type=\"text/css\">\n",
       "\ttable {border:ridge 5px;}\n",
       "\ttable td {border:inset 1px;}\n",
       "\ttable tr#HeaderRow {background-color:grey; color:white;}</style>\n",
       "<html><table>\n",
       "\t<tr id=\"HeaderRow\">\n",
       "\t\t<th>TD_TIMECODE</th>\n",
       "\t\t<th>count_ID_PROCESS</th>\n",
       "\t\t<th>count_Partition_ID</th>\n",
       "\t\t<th>count_ID_MODEL</th>\n",
       "\t\t<th>count_ID_TRAINED_MODEL</th>\n",
       "\t\t<th>count_MODEL_TYPE</th>\n",
       "\t\t<th>count_STATUS</th>\n",
       "\t</tr>\n",
       "\t<tr>\n",
       "\t\t<td>9999-01-01 00:00:00.000000-04:</td>\n",
       "\t\t<td>4</td>\n",
       "\t\t<td>4</td>\n",
       "\t\t<td>4</td>\n",
       "\t\t<td>4</td>\n",
       "\t\t<td>4</td>\n",
       "\t\t<td>4</td>\n",
       "\t</tr>\n",
       "</table></html>"
      ],
      "text/plain": [
       "                      TD_TIMECODE  count_ID_PROCESS  count_Partition_ID  count_ID_MODEL  count_ID_TRAINED_MODEL  count_MODEL_TYPE  count_STATUS\n",
       "0  9999-01-01 00:00:00.000000-04:                 4                   4               4                       4                 4             4"
      ]
     },
     "execution_count": 13,
     "metadata": {},
     "output_type": "execute_result"
    }
   ],
   "source": [
    "model.get_trained_models().groupby('TD_TIMECODE').count()"
   ]
  },
  {
   "cell_type": "markdown",
   "id": "52136232-6ab6-41c6-9e9a-87a705dad3f7",
   "metadata": {},
   "source": [
    "### 4.2 - Model Scoring"
   ]
  },
  {
   "cell_type": "code",
   "execution_count": 14,
   "id": "f201c42c-e052-40b0-9703-402172e8b2fb",
   "metadata": {},
   "outputs": [
    {
     "name": "stdout",
     "output_type": "stream",
     "text": [
      "creation of the on clause view demo_user.TDS_ON_CLAUSE_SCORING_431b1e0c_57a4_4ae8_bb3e_3a2372349857\n",
      "creation of the volatile table on on clause view demo_user.TDS_STO_SCORING_431b1e0c_57a4_4ae8_bb3e_3a2372349857\n",
      "insert scores in demo_user.TDS_SCORES_431b1e0c_57a4_4ae8_bb3e_3a2372349857\n",
      "CPU times: total: 0 ns\n",
      "Wall time: 16.4 s\n"
     ]
    }
   ],
   "source": [
    "%%time\n",
    "model.score()"
   ]
  },
  {
   "cell_type": "code",
   "execution_count": 15,
   "id": "f849efd8-5890-4636-bfcd-d3903999d617",
   "metadata": {},
   "outputs": [
    {
     "name": "stdout",
     "output_type": "stream",
     "text": [
      "demo_user TDS_SCORES_431b1e0c_57a4_4ae8_bb3e_3a2372349857\n"
     ]
    },
    {
     "data": {
      "text/html": [
       "<style type=\"text/css\">\n",
       "\ttable {border:ridge 5px;}\n",
       "\ttable td {border:inset 1px;}\n",
       "\ttable tr#HeaderRow {background-color:grey; color:white;}</style>\n",
       "<html><table>\n",
       "\t<tr id=\"HeaderRow\">\n",
       "\t\t<th>TD_TIMECODE</th>\n",
       "\t\t<th>count_ID_PROCESS</th>\n",
       "\t\t<th>count_ID_TRAINED_MODEL</th>\n",
       "\t\t<th>count_Partition_ID</th>\n",
       "\t\t<th>count_ID</th>\n",
       "\t\t<th>count_Y1_prediction</th>\n",
       "\t</tr>\n",
       "\t<tr>\n",
       "\t\t<td>9999-01-01 00:00:00.000000-04:</td>\n",
       "\t\t<td>40000</td>\n",
       "\t\t<td>40000</td>\n",
       "\t\t<td>40000</td>\n",
       "\t\t<td>40000</td>\n",
       "\t\t<td>40000</td>\n",
       "\t</tr>\n",
       "</table></html>"
      ],
      "text/plain": [
       "                      TD_TIMECODE  count_ID_PROCESS  count_ID_TRAINED_MODEL  count_Partition_ID  count_ID  count_Y1_prediction\n",
       "0  9999-01-01 00:00:00.000000-04:             40000                   40000               40000     40000                40000"
      ]
     },
     "execution_count": 15,
     "metadata": {},
     "output_type": "execute_result"
    }
   ],
   "source": [
    "model.get_model_predictions().groupby('TD_TIMECODE').count()"
   ]
  },
  {
   "cell_type": "code",
   "execution_count": 16,
   "id": "5636e4c9-bb03-41be-b3b8-4d45dba39464",
   "metadata": {},
   "outputs": [
    {
     "name": "stdout",
     "output_type": "stream",
     "text": [
      "demo_user TDS_SCORES_431b1e0c_57a4_4ae8_bb3e_3a2372349857\n"
     ]
    },
    {
     "data": {
      "text/html": [
       "<style type=\"text/css\">\n",
       "\ttable {border:ridge 5px;}\n",
       "\ttable td {border:inset 1px;}\n",
       "\ttable tr#HeaderRow {background-color:grey; color:white;}</style>\n",
       "<html><table>\n",
       "\t<tr id=\"HeaderRow\">\n",
       "\t\t<th>TD_TIMECODE</th>\n",
       "\t\t<th>ID_PROCESS</th>\n",
       "\t\t<th>ID_TRAINED_MODEL</th>\n",
       "\t\t<th>Partition_ID</th>\n",
       "\t\t<th>ID</th>\n",
       "\t\t<th>Y1_prediction</th>\n",
       "\t</tr>\n",
       "\t<tr>\n",
       "\t\t<td>9999-01-01 00:00:00.000000-04:</td>\n",
       "\t\t<td>TDS_STO_SCORING_431b1e0c_57a4_4ae8_bb3e_3a2372349857</td>\n",
       "\t\t<td>5cc8f430-6299-453e-81e5-84129c6d0a83</td>\n",
       "\t\t<td>4</td>\n",
       "\t\t<td>28742</td>\n",
       "\t\t<td>0.0395799030283947</td>\n",
       "\t</tr>\n",
       "\t<tr>\n",
       "\t\t<td>9999-01-01 00:00:00.000000-04:</td>\n",
       "\t\t<td>TDS_STO_SCORING_431b1e0c_57a4_4ae8_bb3e_3a2372349857</td>\n",
       "\t\t<td>de9b490e-a88e-45d7-b825-243ed9ebdc21</td>\n",
       "\t\t<td>6</td>\n",
       "\t\t<td>36986</td>\n",
       "\t\t<td>1.7912688347819974</td>\n",
       "\t</tr>\n",
       "\t<tr>\n",
       "\t\t<td>9999-01-01 00:00:00.000000-04:</td>\n",
       "\t\t<td>TDS_STO_SCORING_431b1e0c_57a4_4ae8_bb3e_3a2372349857</td>\n",
       "\t\t<td>5cc8f430-6299-453e-81e5-84129c6d0a83</td>\n",
       "\t\t<td>4</td>\n",
       "\t\t<td>20158</td>\n",
       "\t\t<td>0.06744816554339858</td>\n",
       "\t</tr>\n",
       "\t<tr>\n",
       "\t\t<td>9999-01-01 00:00:00.000000-04:</td>\n",
       "\t\t<td>TDS_STO_SCORING_431b1e0c_57a4_4ae8_bb3e_3a2372349857</td>\n",
       "\t\t<td>5cc8f430-6299-453e-81e5-84129c6d0a83</td>\n",
       "\t\t<td>4</td>\n",
       "\t\t<td>27596</td>\n",
       "\t\t<td>0.00294134516987689</td>\n",
       "\t</tr>\n",
       "\t<tr>\n",
       "\t\t<td>9999-01-01 00:00:00.000000-04:</td>\n",
       "\t\t<td>TDS_STO_SCORING_431b1e0c_57a4_4ae8_bb3e_3a2372349857</td>\n",
       "\t\t<td>de9b490e-a88e-45d7-b825-243ed9ebdc21</td>\n",
       "\t\t<td>6</td>\n",
       "\t\t<td>36073</td>\n",
       "\t\t<td>0.02698896376185059</td>\n",
       "\t</tr>\n",
       "\t<tr>\n",
       "\t\t<td>9999-01-01 00:00:00.000000-04:</td>\n",
       "\t\t<td>TDS_STO_SCORING_431b1e0c_57a4_4ae8_bb3e_3a2372349857</td>\n",
       "\t\t<td>a3071898-3304-430c-8576-cf5b00e8c610</td>\n",
       "\t\t<td>9</td>\n",
       "\t\t<td>18306</td>\n",
       "\t\t<td>0.03793123140570147</td>\n",
       "\t</tr>\n",
       "\t<tr>\n",
       "\t\t<td>9999-01-01 00:00:00.000000-04:</td>\n",
       "\t\t<td>TDS_STO_SCORING_431b1e0c_57a4_4ae8_bb3e_3a2372349857</td>\n",
       "\t\t<td>de9b490e-a88e-45d7-b825-243ed9ebdc21</td>\n",
       "\t\t<td>6</td>\n",
       "\t\t<td>32307</td>\n",
       "\t\t<td>0.0327810051781828</td>\n",
       "\t</tr>\n",
       "\t<tr>\n",
       "\t\t<td>9999-01-01 00:00:00.000000-04:</td>\n",
       "\t\t<td>TDS_STO_SCORING_431b1e0c_57a4_4ae8_bb3e_3a2372349857</td>\n",
       "\t\t<td>5cc8f430-6299-453e-81e5-84129c6d0a83</td>\n",
       "\t\t<td>4</td>\n",
       "\t\t<td>23877</td>\n",
       "\t\t<td>-0.04959107234946412</td>\n",
       "\t</tr>\n",
       "\t<tr>\n",
       "\t\t<td>9999-01-01 00:00:00.000000-04:</td>\n",
       "\t\t<td>TDS_STO_SCORING_431b1e0c_57a4_4ae8_bb3e_3a2372349857</td>\n",
       "\t\t<td>a3071898-3304-430c-8576-cf5b00e8c610</td>\n",
       "\t\t<td>9</td>\n",
       "\t\t<td>13503</td>\n",
       "\t\t<td>-0.0765072842653416</td>\n",
       "\t</tr>\n",
       "\t<tr>\n",
       "\t\t<td>9999-01-01 00:00:00.000000-04:</td>\n",
       "\t\t<td>TDS_STO_SCORING_431b1e0c_57a4_4ae8_bb3e_3a2372349857</td>\n",
       "\t\t<td>16ddf980-c03c-4fcc-936c-0ba7ca631548</td>\n",
       "\t\t<td>1</td>\n",
       "\t\t<td>7828</td>\n",
       "\t\t<td>0.07985155274176071</td>\n",
       "\t</tr>\n",
       "</table></html>"
      ],
      "text/plain": [
       "                      TD_TIMECODE                                            ID_PROCESS                      ID_TRAINED_MODEL  Partition_ID     ID  Y1_prediction\n",
       "0  9999-01-01 00:00:00.000000-04:  TDS_STO_SCORING_431b1e0c_57a4_4ae8_bb3e_3a2372349857  5cc8f430-6299-453e-81e5-84129c6d0a83             4  28742       0.039580\n",
       "1  9999-01-01 00:00:00.000000-04:  TDS_STO_SCORING_431b1e0c_57a4_4ae8_bb3e_3a2372349857  de9b490e-a88e-45d7-b825-243ed9ebdc21             6  36986       1.791269\n",
       "2  9999-01-01 00:00:00.000000-04:  TDS_STO_SCORING_431b1e0c_57a4_4ae8_bb3e_3a2372349857  5cc8f430-6299-453e-81e5-84129c6d0a83             4  20158       0.067448\n",
       "3  9999-01-01 00:00:00.000000-04:  TDS_STO_SCORING_431b1e0c_57a4_4ae8_bb3e_3a2372349857  5cc8f430-6299-453e-81e5-84129c6d0a83             4  27596       0.002941\n",
       "4  9999-01-01 00:00:00.000000-04:  TDS_STO_SCORING_431b1e0c_57a4_4ae8_bb3e_3a2372349857  de9b490e-a88e-45d7-b825-243ed9ebdc21             6  36073       0.026989\n",
       "5  9999-01-01 00:00:00.000000-04:  TDS_STO_SCORING_431b1e0c_57a4_4ae8_bb3e_3a2372349857  a3071898-3304-430c-8576-cf5b00e8c610             9  18306       0.037931\n",
       "6  9999-01-01 00:00:00.000000-04:  TDS_STO_SCORING_431b1e0c_57a4_4ae8_bb3e_3a2372349857  de9b490e-a88e-45d7-b825-243ed9ebdc21             6  32307       0.032781\n",
       "7  9999-01-01 00:00:00.000000-04:  TDS_STO_SCORING_431b1e0c_57a4_4ae8_bb3e_3a2372349857  5cc8f430-6299-453e-81e5-84129c6d0a83             4  23877      -0.049591\n",
       "8  9999-01-01 00:00:00.000000-04:  TDS_STO_SCORING_431b1e0c_57a4_4ae8_bb3e_3a2372349857  a3071898-3304-430c-8576-cf5b00e8c610             9  13503      -0.076507\n",
       "9  9999-01-01 00:00:00.000000-04:  TDS_STO_SCORING_431b1e0c_57a4_4ae8_bb3e_3a2372349857  16ddf980-c03c-4fcc-936c-0ba7ca631548             1   7828       0.079852"
      ]
     },
     "execution_count": 16,
     "metadata": {},
     "output_type": "execute_result"
    }
   ],
   "source": [
    "model.get_model_predictions()"
   ]
  },
  {
   "cell_type": "markdown",
   "id": "b1cebdc4-e239-4efb-a845-5fceeb8a866d",
   "metadata": {},
   "source": [
    "## 5 - A bit of administration: Model Lineage"
   ]
  },
  {
   "cell_type": "markdown",
   "id": "f6a09da4-0ced-4fbb-a36b-195b80f12fc5",
   "metadata": {},
   "source": [
    "### 5.1 - Access to the list of deployed codes"
   ]
  },
  {
   "cell_type": "code",
   "execution_count": 17,
   "id": "b612f08e-abea-4dc0-bb28-9db6bffd07ec",
   "metadata": {},
   "outputs": [
    {
     "data": {
      "text/html": [
       "<style type=\"text/css\">\n",
       "\ttable {border:ridge 5px;}\n",
       "\ttable td {border:inset 1px;}\n",
       "\ttable tr#HeaderRow {background-color:grey; color:white;}</style>\n",
       "<html><table>\n",
       "\t<tr id=\"HeaderRow\">\n",
       "\t\t<th>ID</th>\n",
       "\t\t<th>CODE_TYPE</th>\n",
       "\t\t<th>METADATA</th>\n",
       "\t</tr>\n",
       "\t<tr>\n",
       "\t\t<td>c88da75f-4c35-4fb4-8b2b-52105610adf7</td>\n",
       "\t\t<td>python class</td>\n",
       "\t\t<td>{\"user\": \"dm250067\", \"code_type\": \"python class\", \"project\": \"test\", \"script_path\": \"from memory\"}</td>\n",
       "\t</tr>\n",
       "\t<tr>\n",
       "\t\t<td>0a923c33-9369-407e-80a0-187ffa2a9837</td>\n",
       "\t\t<td>python class</td>\n",
       "\t\t<td>{\"user\": \"dm250067\", \"code_type\": \"python class\", \"project\": \"test\", \"script_path\": \"from memory\"}</td>\n",
       "\t</tr>\n",
       "</table></html>"
      ],
      "text/plain": [
       "                                     ID     CODE_TYPE                                                                                            METADATA\n",
       "0  c88da75f-4c35-4fb4-8b2b-52105610adf7  python class  {\"user\": \"dm250067\", \"code_type\": \"python class\", \"project\": \"test\", \"script_path\": \"from memory\"}\n",
       "1  0a923c33-9369-407e-80a0-187ffa2a9837  python class  {\"user\": \"dm250067\", \"code_type\": \"python class\", \"project\": \"test\", \"script_path\": \"from memory\"}"
      ]
     },
     "execution_count": 17,
     "metadata": {},
     "output_type": "execute_result"
    }
   ],
   "source": [
    "sto.list_codes()"
   ]
  },
  {
   "cell_type": "markdown",
   "id": "a419b40b-96f3-4581-b4ee-2181bc5ccc18",
   "metadata": {},
   "source": [
    "### 5.2 - List of deployed models (code + parameters)"
   ]
  },
  {
   "cell_type": "code",
   "execution_count": 18,
   "id": "c01db108-8688-4ef9-a602-084a38923775",
   "metadata": {},
   "outputs": [
    {
     "data": {
      "text/html": [
       "<style type=\"text/css\">\n",
       "\ttable {border:ridge 5px;}\n",
       "\ttable td {border:inset 1px;}\n",
       "\ttable tr#HeaderRow {background-color:grey; color:white;}</style>\n",
       "<html><table>\n",
       "\t<tr id=\"HeaderRow\">\n",
       "\t\t<th>ID</th>\n",
       "\t\t<th>ID_CODE</th>\n",
       "\t\t<th>ARGUMENTS</th>\n",
       "\t\t<th>METADATA</th>\n",
       "\t</tr>\n",
       "\t<tr>\n",
       "\t\t<td>505ea202-bbf4-4b2c-9639-2a18176d97f1</td>\n",
       "\t\t<td>0a923c33-9369-407e-80a0-187ffa2a9837</td>\n",
       "\t\t<td>{\"sto_parameters\": {\"columnnames\": [\"Partition_ID\", \"ID\", \"X1\", \"X2\", \"X3\", \"X4\", \"X5\", \"X6\", \"X7\", \"X8\", \"X9\", \"flag\", \"Y1\", \"Y2\", \"FOLD\"], \"float_columnames\": [\"X1\", \"X2\", \"X3\", \"X4\", \"X5\", \"X6\", \"X7\", \"X8\", \"X9\", \"Y1\"], \"integer_columnames\": [\"Partition_ID\", \"ID\", \"flag\", \"Y2\"], \"category_columns\": [], \"output_format\": [\"pickle\"]}, \"model_parameters\": {\"target\": \"Y1\", \"column_categorical\": [\"flag\"], \"column_names_X\": [\"X1\", \"X2\", \"X3\", \"X4\", \"X5\", \"X6\", \"X7\", \"X8\", \"X9\", \"flag\"], \"arguments\": {\"regressor__max_depth\": 5, \"regressor__n_estimators\": 95}}}</td>\n",
       "\t\t<td>{\"user\": \"dm250067\", \"project\": \"test\"}</td>\n",
       "\t</tr>\n",
       "\t<tr>\n",
       "\t\t<td>1feb2a86-622c-4c56-8e94-4c367d1a232e</td>\n",
       "\t\t<td>c88da75f-4c35-4fb4-8b2b-52105610adf7</td>\n",
       "\t\t<td>{\"sto_parameters\": {\"columnnames\": [\"Partition_ID\", \"ID\", \"X1\", \"X2\", \"X3\", \"X4\", \"X5\", \"X6\", \"X7\", \"X8\", \"X9\", \"flag\", \"Y1\", \"Y2\", \"FOLD\"], \"float_columnames\": [\"X1\", \"X2\", \"X3\", \"X4\", \"X5\", \"X6\", \"X7\", \"X8\", \"X9\", \"Y1\"], \"integer_columnames\": [\"Partition_ID\", \"ID\", \"flag\", \"Y2\"], \"category_columns\": [], \"output_format\": [\"pickle\"]}, \"model_parameters\": {\"target\": \"Y2\", \"column_categorical\": [\"flag\", \"Y2\"], \"column_names_X\": [\"X1\", \"X2\", \"X3\", \"X4\", \"X5\", \"X6\", \"X7\", \"X8\", \"X9\", \"flag\"], \"arguments\": {\"classifier__max_depth\": 5, \"classifier__n_estimators\": 95}}}</td>\n",
       "\t\t<td>{\"user\": \"dm250067\", \"project\": \"test\"}</td>\n",
       "\t</tr>\n",
       "</table></html>"
      ],
      "text/plain": [
       "                                     ID                               ID_CODE                                                                                                                                                                                                                                                                                                                                                                                                                                                                                                                                                                                  ARGUMENTS                                 METADATA\n",
       "0  505ea202-bbf4-4b2c-9639-2a18176d97f1  0a923c33-9369-407e-80a0-187ffa2a9837          {\"sto_parameters\": {\"columnnames\": [\"Partition_ID\", \"ID\", \"X1\", \"X2\", \"X3\", \"X4\", \"X5\", \"X6\", \"X7\", \"X8\", \"X9\", \"flag\", \"Y1\", \"Y2\", \"FOLD\"], \"float_columnames\": [\"X1\", \"X2\", \"X3\", \"X4\", \"X5\", \"X6\", \"X7\", \"X8\", \"X9\", \"Y1\"], \"integer_columnames\": [\"Partition_ID\", \"ID\", \"flag\", \"Y2\"], \"category_columns\": [], \"output_format\": [\"pickle\"]}, \"model_parameters\": {\"target\": \"Y1\", \"column_categorical\": [\"flag\"], \"column_names_X\": [\"X1\", \"X2\", \"X3\", \"X4\", \"X5\", \"X6\", \"X7\", \"X8\", \"X9\", \"flag\"], \"arguments\": {\"regressor__max_depth\": 5, \"regressor__n_estimators\": 95}}}  {\"user\": \"dm250067\", \"project\": \"test\"}\n",
       "1  1feb2a86-622c-4c56-8e94-4c367d1a232e  c88da75f-4c35-4fb4-8b2b-52105610adf7  {\"sto_parameters\": {\"columnnames\": [\"Partition_ID\", \"ID\", \"X1\", \"X2\", \"X3\", \"X4\", \"X5\", \"X6\", \"X7\", \"X8\", \"X9\", \"flag\", \"Y1\", \"Y2\", \"FOLD\"], \"float_columnames\": [\"X1\", \"X2\", \"X3\", \"X4\", \"X5\", \"X6\", \"X7\", \"X8\", \"X9\", \"Y1\"], \"integer_columnames\": [\"Partition_ID\", \"ID\", \"flag\", \"Y2\"], \"category_columns\": [], \"output_format\": [\"pickle\"]}, \"model_parameters\": {\"target\": \"Y2\", \"column_categorical\": [\"flag\", \"Y2\"], \"column_names_X\": [\"X1\", \"X2\", \"X3\", \"X4\", \"X5\", \"X6\", \"X7\", \"X8\", \"X9\", \"flag\"], \"arguments\": {\"classifier__max_depth\": 5, \"classifier__n_estimators\": 95}}}  {\"user\": \"dm250067\", \"project\": \"test\"}"
      ]
     },
     "execution_count": 18,
     "metadata": {},
     "output_type": "execute_result"
    }
   ],
   "source": [
    "sto.list_models()"
   ]
  },
  {
   "cell_type": "markdown",
   "id": "20649235-85ea-43e3-8ce8-76b6420b1a04",
   "metadata": {},
   "source": [
    "### 5.3 - List of available mappers (mapping between partitions and models or trained models)"
   ]
  },
  {
   "cell_type": "code",
   "execution_count": 19,
   "id": "cea5a615-5bbc-4ed2-81c9-f7cc3e96f258",
   "metadata": {},
   "outputs": [
    {
     "data": {
      "text/html": [
       "<style type=\"text/css\">\n",
       "\ttable {border:ridge 5px;}\n",
       "\ttable td {border:inset 1px;}\n",
       "\ttable tr#HeaderRow {background-color:grey; color:white;}</style>\n",
       "<html><table>\n",
       "\t<tr id=\"HeaderRow\">\n",
       "\t\t<th>ID</th>\n",
       "\t\t<th>MAPPER_TYPE</th>\n",
       "\t\t<th>TABLE_NAME</th>\n",
       "\t\t<th>CODE_REPOSITORY</th>\n",
       "\t\t<th>MODEL_REPOSITORY</th>\n",
       "\t\t<th>TRAINED_MODEL_REPOSITORY</th>\n",
       "\t\t<th>FEATURE_REPOSITORY</th>\n",
       "\t\t<th>SCORES_REPOSITORY</th>\n",
       "\t\t<th>DATASET_OBJECT</th>\n",
       "\t\t<th>COL_ID_ROW</th>\n",
       "\t\t<th>COL_ID_PARTITION</th>\n",
       "\t\t<th>COL_FOLD</th>\n",
       "\t\t<th>ON_CLAUSE_VIEW</th>\n",
       "\t\t<th>STO_VIEW</th>\n",
       "\t\t<th>METADATA</th>\n",
       "\t</tr>\n",
       "\t<tr>\n",
       "\t\t<td>05842693-ddf1-4589-8d7b-a7ea4e952b95</td>\n",
       "\t\t<td>training</td>\n",
       "\t\t<td>TDS_MAPPER_05842693_ddf1_4589_8d7b_a7ea4e952b95</td>\n",
       "\t\t<td>TDS_CODE_REPOSITORY</td>\n",
       "\t\t<td>TDS_MODEL_REPOSITORY</td>\n",
       "\t\t<td>TDS_TRAINED_MODELS_05842693_ddf1_4589_8d7b_a7ea4e952b95</td>\n",
       "\t\t<td>None</td>\n",
       "\t\t<td>None</td>\n",
       "\t\t<td>\"demo_user\".\"dataset_00\"</td>\n",
       "\t\t<td>ID</td>\n",
       "\t\t<td>Partition_ID</td>\n",
       "\t\t<td>FOLD</td>\n",
       "\t\t<td>TDS_ON_CLAUSE_TRAINING_05842693_ddf1_4589_8d7b_a7ea4e952b95</td>\n",
       "\t\t<td>TDS_STO_TRAINING_05842693_ddf1_4589_8d7b_a7ea4e952b95</td>\n",
       "\t\t<td>{\"user\": \"dm250067\"}</td>\n",
       "\t</tr>\n",
       "\t<tr>\n",
       "\t\t<td>431b1e0c-57a4-4ae8-bb3e-3a2372349857</td>\n",
       "\t\t<td>scoring</td>\n",
       "\t\t<td>TDS_MAPPER_431b1e0c_57a4_4ae8_bb3e_3a2372349857</td>\n",
       "\t\t<td>TDS_CODE_REPOSITORY</td>\n",
       "\t\t<td>TDS_MODEL_REPOSITORY</td>\n",
       "\t\t<td>TDS_TRAINED_MODELS_dc1cdd3e_111f_440e_ae0e_c0b3336c0716</td>\n",
       "\t\t<td>None</td>\n",
       "\t\t<td>TDS_SCORES_431b1e0c_57a4_4ae8_bb3e_3a2372349857</td>\n",
       "\t\t<td>\"demo_user\".\"dataset_00\"</td>\n",
       "\t\t<td>ID</td>\n",
       "\t\t<td>Partition_ID</td>\n",
       "\t\t<td>FOLD</td>\n",
       "\t\t<td>TDS_ON_CLAUSE_SCORING_431b1e0c_57a4_4ae8_bb3e_3a2372349857</td>\n",
       "\t\t<td>TDS_STO_SCORING_431b1e0c_57a4_4ae8_bb3e_3a2372349857</td>\n",
       "\t\t<td>{\"user\": \"dm250067\"}</td>\n",
       "\t</tr>\n",
       "\t<tr>\n",
       "\t\t<td>dc1cdd3e-111f-440e-ae0e-c0b3336c0716</td>\n",
       "\t\t<td>training</td>\n",
       "\t\t<td>TDS_MAPPER_dc1cdd3e_111f_440e_ae0e_c0b3336c0716</td>\n",
       "\t\t<td>TDS_CODE_REPOSITORY</td>\n",
       "\t\t<td>TDS_MODEL_REPOSITORY</td>\n",
       "\t\t<td>TDS_TRAINED_MODELS_dc1cdd3e_111f_440e_ae0e_c0b3336c0716</td>\n",
       "\t\t<td>None</td>\n",
       "\t\t<td>None</td>\n",
       "\t\t<td>\"demo_user\".\"dataset_00\"</td>\n",
       "\t\t<td>ID</td>\n",
       "\t\t<td>Partition_ID</td>\n",
       "\t\t<td>FOLD</td>\n",
       "\t\t<td>TDS_ON_CLAUSE_TRAINING_dc1cdd3e_111f_440e_ae0e_c0b3336c0716</td>\n",
       "\t\t<td>TDS_STO_TRAINING_dc1cdd3e_111f_440e_ae0e_c0b3336c0716</td>\n",
       "\t\t<td>{\"user\": \"dm250067\"}</td>\n",
       "\t</tr>\n",
       "\t<tr>\n",
       "\t\t<td>a93604aa-2204-45a6-b4f5-1edab0414da1</td>\n",
       "\t\t<td>scoring</td>\n",
       "\t\t<td>TDS_MAPPER_a93604aa_2204_45a6_b4f5_1edab0414da1</td>\n",
       "\t\t<td>TDS_CODE_REPOSITORY</td>\n",
       "\t\t<td>TDS_MODEL_REPOSITORY</td>\n",
       "\t\t<td>TDS_TRAINED_MODELS_05842693_ddf1_4589_8d7b_a7ea4e952b95</td>\n",
       "\t\t<td>None</td>\n",
       "\t\t<td>TDS_SCORES_a93604aa_2204_45a6_b4f5_1edab0414da1</td>\n",
       "\t\t<td>\"demo_user\".\"dataset_00\"</td>\n",
       "\t\t<td>ID</td>\n",
       "\t\t<td>Partition_ID</td>\n",
       "\t\t<td>FOLD</td>\n",
       "\t\t<td>TDS_ON_CLAUSE_SCORING_a93604aa_2204_45a6_b4f5_1edab0414da1</td>\n",
       "\t\t<td>TDS_STO_SCORING_a93604aa_2204_45a6_b4f5_1edab0414da1</td>\n",
       "\t\t<td>{\"user\": \"dm250067\"}</td>\n",
       "\t</tr>\n",
       "</table></html>"
      ],
      "text/plain": [
       "                                     ID MAPPER_TYPE                                       TABLE_NAME      CODE_REPOSITORY      MODEL_REPOSITORY                                 TRAINED_MODEL_REPOSITORY FEATURE_REPOSITORY                                SCORES_REPOSITORY            DATASET_OBJECT COL_ID_ROW COL_ID_PARTITION COL_FOLD                                               ON_CLAUSE_VIEW                                               STO_VIEW              METADATA\n",
       "0  05842693-ddf1-4589-8d7b-a7ea4e952b95    training  TDS_MAPPER_05842693_ddf1_4589_8d7b_a7ea4e952b95  TDS_CODE_REPOSITORY  TDS_MODEL_REPOSITORY  TDS_TRAINED_MODELS_05842693_ddf1_4589_8d7b_a7ea4e952b95               None                                             None  \"demo_user\".\"dataset_00\"         ID     Partition_ID     FOLD  TDS_ON_CLAUSE_TRAINING_05842693_ddf1_4589_8d7b_a7ea4e952b95  TDS_STO_TRAINING_05842693_ddf1_4589_8d7b_a7ea4e952b95  {\"user\": \"dm250067\"}\n",
       "1  431b1e0c-57a4-4ae8-bb3e-3a2372349857     scoring  TDS_MAPPER_431b1e0c_57a4_4ae8_bb3e_3a2372349857  TDS_CODE_REPOSITORY  TDS_MODEL_REPOSITORY  TDS_TRAINED_MODELS_dc1cdd3e_111f_440e_ae0e_c0b3336c0716               None  TDS_SCORES_431b1e0c_57a4_4ae8_bb3e_3a2372349857  \"demo_user\".\"dataset_00\"         ID     Partition_ID     FOLD   TDS_ON_CLAUSE_SCORING_431b1e0c_57a4_4ae8_bb3e_3a2372349857   TDS_STO_SCORING_431b1e0c_57a4_4ae8_bb3e_3a2372349857  {\"user\": \"dm250067\"}\n",
       "2  dc1cdd3e-111f-440e-ae0e-c0b3336c0716    training  TDS_MAPPER_dc1cdd3e_111f_440e_ae0e_c0b3336c0716  TDS_CODE_REPOSITORY  TDS_MODEL_REPOSITORY  TDS_TRAINED_MODELS_dc1cdd3e_111f_440e_ae0e_c0b3336c0716               None                                             None  \"demo_user\".\"dataset_00\"         ID     Partition_ID     FOLD  TDS_ON_CLAUSE_TRAINING_dc1cdd3e_111f_440e_ae0e_c0b3336c0716  TDS_STO_TRAINING_dc1cdd3e_111f_440e_ae0e_c0b3336c0716  {\"user\": \"dm250067\"}\n",
       "3  a93604aa-2204-45a6-b4f5-1edab0414da1     scoring  TDS_MAPPER_a93604aa_2204_45a6_b4f5_1edab0414da1  TDS_CODE_REPOSITORY  TDS_MODEL_REPOSITORY  TDS_TRAINED_MODELS_05842693_ddf1_4589_8d7b_a7ea4e952b95               None  TDS_SCORES_a93604aa_2204_45a6_b4f5_1edab0414da1  \"demo_user\".\"dataset_00\"         ID     Partition_ID     FOLD   TDS_ON_CLAUSE_SCORING_a93604aa_2204_45a6_b4f5_1edab0414da1   TDS_STO_SCORING_a93604aa_2204_45a6_b4f5_1edab0414da1  {\"user\": \"dm250067\"}"
      ]
     },
     "execution_count": 19,
     "metadata": {},
     "output_type": "execute_result"
    }
   ],
   "source": [
    "sto.list_mappers()"
   ]
  },
  {
   "cell_type": "markdown",
   "id": "996957a6-d287-4ef2-8e70-8f8375ccb430",
   "metadata": {},
   "source": [
    "### 5.4 - List of Hypermodels ( models and mappers mapping)"
   ]
  },
  {
   "cell_type": "code",
   "execution_count": 20,
   "id": "b7d55a58-04ce-4202-9762-e8a388140473",
   "metadata": {},
   "outputs": [
    {
     "data": {
      "text/html": [
       "<style type=\"text/css\">\n",
       "\ttable {border:ridge 5px;}\n",
       "\ttable td {border:inset 1px;}\n",
       "\ttable tr#HeaderRow {background-color:grey; color:white;}</style>\n",
       "<html><table>\n",
       "\t<tr id=\"HeaderRow\">\n",
       "\t\t<th>CREATION_DATE</th>\n",
       "\t\t<th>ID</th>\n",
       "\t\t<th>ID_MODEL</th>\n",
       "\t\t<th>ID_MAPPER_TRAINING</th>\n",
       "\t\t<th>ID_MAPPER_SCORING</th>\n",
       "\t\t<th>METADATA</th>\n",
       "\t</tr>\n",
       "\t<tr>\n",
       "\t\t<td>2025-01-08 05:31:04.970000-05:</td>\n",
       "\t\t<td>c5ef0032-dd20-4b48-817e-6fe7e3c42e55</td>\n",
       "\t\t<td>505ea202-bbf4-4b2c-9639-2a18176d97f1</td>\n",
       "\t\t<td>dc1cdd3e-111f-440e-ae0e-c0b3336c0716</td>\n",
       "\t\t<td>431b1e0c-57a4-4ae8-bb3e-3a2372349857</td>\n",
       "\t\t<td>{\"user\": \"dm250067\", \"project\": \"test\"}</td>\n",
       "\t</tr>\n",
       "\t<tr>\n",
       "\t\t<td>2025-01-08 05:26:48.160000-05:</td>\n",
       "\t\t<td>654b028b-741e-4a46-8e5d-d966ac8a07b1</td>\n",
       "\t\t<td>1feb2a86-622c-4c56-8e94-4c367d1a232e</td>\n",
       "\t\t<td>05842693-ddf1-4589-8d7b-a7ea4e952b95</td>\n",
       "\t\t<td>a93604aa-2204-45a6-b4f5-1edab0414da1</td>\n",
       "\t\t<td>{\"user\": \"dm250067\", \"project\": \"test\"}</td>\n",
       "\t</tr>\n",
       "</table></html>"
      ],
      "text/plain": [
       "                                                       CREATION_DATE                              ID_MODEL                    ID_MAPPER_TRAINING                     ID_MAPPER_SCORING                                 METADATA\n",
       "ID                                                                                                                                                                                                                             \n",
       "c5ef0032-dd20-4b48-817e-6fe7e3c42e55  2025-01-08 05:31:04.970000-05:  505ea202-bbf4-4b2c-9639-2a18176d97f1  dc1cdd3e-111f-440e-ae0e-c0b3336c0716  431b1e0c-57a4-4ae8-bb3e-3a2372349857  {\"user\": \"dm250067\", \"project\": \"test\"}\n",
       "654b028b-741e-4a46-8e5d-d966ac8a07b1  2025-01-08 05:26:48.160000-05:  1feb2a86-622c-4c56-8e94-4c367d1a232e  05842693-ddf1-4589-8d7b-a7ea4e952b95  a93604aa-2204-45a6-b4f5-1edab0414da1  {\"user\": \"dm250067\", \"project\": \"test\"}"
      ]
     },
     "execution_count": 20,
     "metadata": {},
     "output_type": "execute_result"
    }
   ],
   "source": [
    "sto.list_hyper_models()"
   ]
  },
  {
   "cell_type": "code",
   "execution_count": 21,
   "id": "edb38da5-ec22-424d-a2a4-10c78e10efd8",
   "metadata": {},
   "outputs": [
    {
     "data": {
      "text/plain": [
       "True"
      ]
     },
     "execution_count": 21,
     "metadata": {},
     "output_type": "execute_result"
    }
   ],
   "source": [
    "tdml.remove_context()"
   ]
  },
  {
   "cell_type": "code",
   "execution_count": null,
   "id": "0c12f345",
   "metadata": {},
   "outputs": [],
   "source": []
  }
 ],
 "metadata": {
  "kernelspec": {
   "display_name": "vantage_python",
   "language": "python",
   "name": "python3"
  },
  "language_info": {
   "codemirror_mode": {
    "name": "ipython",
    "version": 3
   },
   "file_extension": ".py",
   "mimetype": "text/x-python",
   "name": "python",
   "nbconvert_exporter": "python",
   "pygments_lexer": "ipython3",
   "version": "3.12.3"
  }
 },
 "nbformat": 4,
 "nbformat_minor": 5
}
