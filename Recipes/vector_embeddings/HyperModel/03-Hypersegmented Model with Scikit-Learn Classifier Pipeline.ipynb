{
 "cells": [
  {
   "cell_type": "markdown",
   "id": "cbbb6648-bedc-4206-95fe-2a02c8181243",
   "metadata": {},
   "source": [
    "# Deploy a Hyper-Segmented Model with TDStone2 in less than a minute\n",
    "# Using Scikit Learn Pipeline"
   ]
  },
  {
   "cell_type": "markdown",
   "id": "2de9fe3f-8fba-4c73-af5d-dad51d10e7dd",
   "metadata": {},
   "source": [
    "## 1 - Connect to Vantage"
   ]
  },
  {
   "cell_type": "code",
   "execution_count": 1,
   "id": "8fe6018b-024d-499e-83d0-d7a41236bf0a",
   "metadata": {},
   "outputs": [
    {
     "data": {
      "text/plain": [
       "'20.00.00.03'"
      ]
     },
     "execution_count": 1,
     "metadata": {},
     "output_type": "execute_result"
    }
   ],
   "source": [
    "import teradataml as tdml\n",
    "import json\n",
    "import warnings\n",
    "warnings.filterwarnings('ignore')\n",
    "tdml.__version__"
   ]
  },
  {
   "cell_type": "code",
   "execution_count": 2,
   "id": "626a49fe-7b5c-4406-a9eb-e273926fede3",
   "metadata": {},
   "outputs": [
    {
     "data": {
      "text/plain": [
       "Engine(teradatasql://:***@sto-xo0saiv0ot1sxmj2.env.clearscape.teradata.com?DATABASE=demo_user&user=DEMO_USER)"
      ]
     },
     "execution_count": 2,
     "metadata": {},
     "output_type": "execute_result"
    }
   ],
   "source": [
    "with open('../connections/me.json','r') as f:\n",
    "    Param_ = json.load(f)\n",
    "\n",
    "with open('../connections/csae2.json','r') as f:\n",
    "    Param = json.load(f)\n",
    "\n",
    "with open('../connections/csae.json','r') as f:\n",
    "    Param_ = json.load(f)\n",
    "\n",
    "with open('../connections/vantage24.json','r') as f:\n",
    "    Param_ = json.load(f)\n",
    "\n",
    "tdml.create_context(**Param)"
   ]
  },
  {
   "cell_type": "markdown",
   "id": "71c35811-44c1-4ba5-aafe-76481a06316a",
   "metadata": {},
   "source": [
    "## 2 - The Hyper-Segmented Dataset"
   ]
  },
  {
   "cell_type": "code",
   "execution_count": 3,
   "id": "cb52a782-fa57-4afa-97cb-4d0d3941fda9",
   "metadata": {},
   "outputs": [
    {
     "data": {
      "text/html": [
       "<style type=\"text/css\">\n",
       "\ttable {border:ridge 5px;}\n",
       "\ttable td {border:inset 1px;}\n",
       "\ttable tr#HeaderRow {background-color:grey; color:white;}</style>\n",
       "<html><table>\n",
       "\t<tr id=\"HeaderRow\">\n",
       "\t\t<th>Partition_ID</th>\n",
       "\t\t<th>ID</th>\n",
       "\t\t<th>X1</th>\n",
       "\t\t<th>X2</th>\n",
       "\t\t<th>X3</th>\n",
       "\t\t<th>X4</th>\n",
       "\t\t<th>X5</th>\n",
       "\t\t<th>X6</th>\n",
       "\t\t<th>X7</th>\n",
       "\t\t<th>X8</th>\n",
       "\t\t<th>X9</th>\n",
       "\t\t<th>flag</th>\n",
       "\t\t<th>Y1</th>\n",
       "\t\t<th>Y2</th>\n",
       "\t\t<th>FOLD</th>\n",
       "\t</tr>\n",
       "\t<tr>\n",
       "\t\t<td>4</td>\n",
       "\t\t<td>29648</td>\n",
       "\t\t<td>0.28282495218209436</td>\n",
       "\t\t<td>-1.0703957567450237</td>\n",
       "\t\t<td>-1.7195871460461145</td>\n",
       "\t\t<td>0.09867314115091429</td>\n",
       "\t\t<td>2.6292861131429452</td>\n",
       "\t\t<td>-1.13725681301724</td>\n",
       "\t\t<td>0.258325751306629</td>\n",
       "\t\t<td>0.6074351282431332</td>\n",
       "\t\t<td>-0.5536088422409077</td>\n",
       "\t\t<td>0</td>\n",
       "\t\t<td>0.46112412738130715</td>\n",
       "\t\t<td>1</td>\n",
       "\t\t<td>test</td>\n",
       "\t</tr>\n",
       "\t<tr>\n",
       "\t\t<td>4</td>\n",
       "\t\t<td>29651</td>\n",
       "\t\t<td>0.6684390731457177</td>\n",
       "\t\t<td>-0.11775964104374642</td>\n",
       "\t\t<td>0.5424975414395571</td>\n",
       "\t\t<td>-1.6390967569621533</td>\n",
       "\t\t<td>-0.36987669786403915</td>\n",
       "\t\t<td>0.19054996041864974</td>\n",
       "\t\t<td>-1.0819066069820205</td>\n",
       "\t\t<td>-1.3112922389467692</td>\n",
       "\t\t<td>-1.0081519902189837</td>\n",
       "\t\t<td>1</td>\n",
       "\t\t<td>-1.0849818092385104</td>\n",
       "\t\t<td>0</td>\n",
       "\t\t<td>test</td>\n",
       "\t</tr>\n",
       "\t<tr>\n",
       "\t\t<td>4</td>\n",
       "\t\t<td>29652</td>\n",
       "\t\t<td>1.0278822444662743</td>\n",
       "\t\t<td>0.05138244299455315</td>\n",
       "\t\t<td>0.5670716341186771</td>\n",
       "\t\t<td>0.10600295014530614</td>\n",
       "\t\t<td>1.1756205739131305</td>\n",
       "\t\t<td>0.7480286296749381</td>\n",
       "\t\t<td>-0.5816091052096549</td>\n",
       "\t\t<td>-0.9525826081949808</td>\n",
       "\t\t<td>-0.9388201991236989</td>\n",
       "\t\t<td>0</td>\n",
       "\t\t<td>-1.097017086845877</td>\n",
       "\t\t<td>0</td>\n",
       "\t\t<td>test</td>\n",
       "\t</tr>\n",
       "\t<tr>\n",
       "\t\t<td>4</td>\n",
       "\t\t<td>29653</td>\n",
       "\t\t<td>-0.2548656740144003</td>\n",
       "\t\t<td>0.702755753627121</td>\n",
       "\t\t<td>0.3589478098762991</td>\n",
       "\t\t<td>0.1399641718877776</td>\n",
       "\t\t<td>0.07242467586354712</td>\n",
       "\t\t<td>0.24727918892770925</td>\n",
       "\t\t<td>-0.6332113216549093</td>\n",
       "\t\t<td>-0.15277149133103296</td>\n",
       "\t\t<td>0.379743155138039</td>\n",
       "\t\t<td>0</td>\n",
       "\t\t<td>0.004575222141596948</td>\n",
       "\t\t<td>1</td>\n",
       "\t\t<td>test</td>\n",
       "\t</tr>\n",
       "\t<tr>\n",
       "\t\t<td>4</td>\n",
       "\t\t<td>29656</td>\n",
       "\t\t<td>-0.986502621331066</td>\n",
       "\t\t<td>-0.28481950474934</td>\n",
       "\t\t<td>-0.06758300377624557</td>\n",
       "\t\t<td>0.5471628321129705</td>\n",
       "\t\t<td>-1.590327288924158</td>\n",
       "\t\t<td>0.5223728136949378</td>\n",
       "\t\t<td>-1.1821746627947485</td>\n",
       "\t\t<td>0.3482962183213171</td>\n",
       "\t\t<td>-0.9542402918504372</td>\n",
       "\t\t<td>1</td>\n",
       "\t\t<td>-0.24091180300867168</td>\n",
       "\t\t<td>0</td>\n",
       "\t\t<td>test</td>\n",
       "\t</tr>\n",
       "\t<tr>\n",
       "\t\t<td>4</td>\n",
       "\t\t<td>29657</td>\n",
       "\t\t<td>-0.4367522868124594</td>\n",
       "\t\t<td>-0.04468358857597126</td>\n",
       "\t\t<td>-0.6137165229199535</td>\n",
       "\t\t<td>0.3863132734859432</td>\n",
       "\t\t<td>-0.29923248363291133</td>\n",
       "\t\t<td>-0.43278617150997234</td>\n",
       "\t\t<td>-0.06953476659423839</td>\n",
       "\t\t<td>-1.3241766653033715</td>\n",
       "\t\t<td>0.7027164024669853</td>\n",
       "\t\t<td>1</td>\n",
       "\t\t<td>0.15799688193828518</td>\n",
       "\t\t<td>1</td>\n",
       "\t\t<td>test</td>\n",
       "\t</tr>\n",
       "\t<tr>\n",
       "\t\t<td>4</td>\n",
       "\t\t<td>29655</td>\n",
       "\t\t<td>0.7284711693816118</td>\n",
       "\t\t<td>-0.49410164881283375</td>\n",
       "\t\t<td>0.6065375390243897</td>\n",
       "\t\t<td>-0.21103530167619802</td>\n",
       "\t\t<td>1.2191370921647808</td>\n",
       "\t\t<td>-0.21484071793754658</td>\n",
       "\t\t<td>-0.2821973288760446</td>\n",
       "\t\t<td>-1.9664477193262777</td>\n",
       "\t\t<td>-1.1690710430987223</td>\n",
       "\t\t<td>0</td>\n",
       "\t\t<td>-1.067045055038608</td>\n",
       "\t\t<td>0</td>\n",
       "\t\t<td>test</td>\n",
       "\t</tr>\n",
       "\t<tr>\n",
       "\t\t<td>4</td>\n",
       "\t\t<td>29649</td>\n",
       "\t\t<td>0.6790031066881759</td>\n",
       "\t\t<td>0.4500589671905496</td>\n",
       "\t\t<td>0.5955921116093522</td>\n",
       "\t\t<td>0.8887681753414973</td>\n",
       "\t\t<td>1.0453881036438217</td>\n",
       "\t\t<td>-0.16950294544591937</td>\n",
       "\t\t<td>-0.3399336173250339</td>\n",
       "\t\t<td>-0.1515121398525592</td>\n",
       "\t\t<td>-1.322191005423316</td>\n",
       "\t\t<td>1</td>\n",
       "\t\t<td>-0.5104725405020154</td>\n",
       "\t\t<td>0</td>\n",
       "\t\t<td>test</td>\n",
       "\t</tr>\n",
       "\t<tr>\n",
       "\t\t<td>4</td>\n",
       "\t\t<td>29647</td>\n",
       "\t\t<td>1.254546828504672</td>\n",
       "\t\t<td>0.7414044713069771</td>\n",
       "\t\t<td>0.817800474289231</td>\n",
       "\t\t<td>0.5526914119773194</td>\n",
       "\t\t<td>0.4892795954876792</td>\n",
       "\t\t<td>1.7922746804936653</td>\n",
       "\t\t<td>-0.5642548636971005</td>\n",
       "\t\t<td>1.596741726630448</td>\n",
       "\t\t<td>-0.8901255724688466</td>\n",
       "\t\t<td>0</td>\n",
       "\t\t<td>2.990229851073103</td>\n",
       "\t\t<td>1</td>\n",
       "\t\t<td>test</td>\n",
       "\t</tr>\n",
       "\t<tr>\n",
       "\t\t<td>4</td>\n",
       "\t\t<td>29644</td>\n",
       "\t\t<td>0.3274161320177766</td>\n",
       "\t\t<td>-0.5985959689559489</td>\n",
       "\t\t<td>2.255029156227695</td>\n",
       "\t\t<td>-0.19990027641749877</td>\n",
       "\t\t<td>0.9945770246351141</td>\n",
       "\t\t<td>-0.6840761116404813</td>\n",
       "\t\t<td>1.2721291568713036</td>\n",
       "\t\t<td>0.8893120069031607</td>\n",
       "\t\t<td>0.9173607923291388</td>\n",
       "\t\t<td>0</td>\n",
       "\t\t<td>1.2601971093468245</td>\n",
       "\t\t<td>1</td>\n",
       "\t\t<td>test</td>\n",
       "\t</tr>\n",
       "</table></html>"
      ],
      "text/plain": [
       "                 ID        X1        X2        X3        X4        X5        X6        X7        X8        X9  flag        Y1  Y2  FOLD\n",
       "Partition_ID                                                                                                                           \n",
       "4             29648  0.282825 -1.070396 -1.719587  0.098673  2.629286 -1.137257  0.258326  0.607435 -0.553609     0  0.461124   1  test\n",
       "4             29651  0.668439 -0.117760  0.542498 -1.639097 -0.369877  0.190550 -1.081907 -1.311292 -1.008152     1 -1.084982   0  test\n",
       "4             29652  1.027882  0.051382  0.567072  0.106003  1.175621  0.748029 -0.581609 -0.952583 -0.938820     0 -1.097017   0  test\n",
       "4             29653 -0.254866  0.702756  0.358948  0.139964  0.072425  0.247279 -0.633211 -0.152771  0.379743     0  0.004575   1  test\n",
       "4             29656 -0.986503 -0.284820 -0.067583  0.547163 -1.590327  0.522373 -1.182175  0.348296 -0.954240     1 -0.240912   0  test\n",
       "4             29657 -0.436752 -0.044684 -0.613717  0.386313 -0.299232 -0.432786 -0.069535 -1.324177  0.702716     1  0.157997   1  test\n",
       "4             29655  0.728471 -0.494102  0.606538 -0.211035  1.219137 -0.214841 -0.282197 -1.966448 -1.169071     0 -1.067045   0  test\n",
       "4             29649  0.679003  0.450059  0.595592  0.888768  1.045388 -0.169503 -0.339934 -0.151512 -1.322191     1 -0.510473   0  test\n",
       "4             29647  1.254547  0.741404  0.817800  0.552691  0.489280  1.792275 -0.564255  1.596742 -0.890126     0  2.990230   1  test\n",
       "4             29644  0.327416 -0.598596  2.255029 -0.199900  0.994577 -0.684076  1.272129  0.889312  0.917361     0  1.260197   1  test"
      ]
     },
     "execution_count": 3,
     "metadata": {},
     "output_type": "execute_result"
    }
   ],
   "source": [
    "dataset = tdml.DataFrame(tdml.in_schema(Param['database'],'dataset_00'))\n",
    "dataset"
   ]
  },
  {
   "cell_type": "code",
   "execution_count": 4,
   "id": "81eb701e-09c8-4ce1-9a6c-5550a78ed67b",
   "metadata": {},
   "outputs": [
    {
     "data": {
      "text/plain": [
       "(40000, 15)"
      ]
     },
     "execution_count": 4,
     "metadata": {},
     "output_type": "execute_result"
    }
   ],
   "source": [
    "dataset.shape"
   ]
  },
  {
   "cell_type": "code",
   "execution_count": 5,
   "id": "8f2a2d8c-2839-4be5-a841-4f093afedabb",
   "metadata": {},
   "outputs": [
    {
     "data": {
      "text/html": [
       "<style type=\"text/css\">\n",
       "\ttable {border:ridge 5px;}\n",
       "\ttable td {border:inset 1px;}\n",
       "\ttable tr#HeaderRow {background-color:grey; color:white;}</style>\n",
       "<html><table>\n",
       "\t<tr id=\"HeaderRow\">\n",
       "\t\t<th>Partition_ID</th>\n",
       "\t\t<th>FOLD</th>\n",
       "\t\t<th>count_ID</th>\n",
       "\t</tr>\n",
       "\t<tr>\n",
       "\t\t<td>1</td>\n",
       "\t\t<td>test</td>\n",
       "\t\t<td>8000</td>\n",
       "\t</tr>\n",
       "\t<tr>\n",
       "\t\t<td>1</td>\n",
       "\t\t<td>train</td>\n",
       "\t\t<td>2000</td>\n",
       "\t</tr>\n",
       "\t<tr>\n",
       "\t\t<td>4</td>\n",
       "\t\t<td>test</td>\n",
       "\t\t<td>8000</td>\n",
       "\t</tr>\n",
       "\t<tr>\n",
       "\t\t<td>4</td>\n",
       "\t\t<td>train</td>\n",
       "\t\t<td>2000</td>\n",
       "\t</tr>\n",
       "\t<tr>\n",
       "\t\t<td>6</td>\n",
       "\t\t<td>test</td>\n",
       "\t\t<td>8000</td>\n",
       "\t</tr>\n",
       "\t<tr>\n",
       "\t\t<td>6</td>\n",
       "\t\t<td>train</td>\n",
       "\t\t<td>2000</td>\n",
       "\t</tr>\n",
       "\t<tr>\n",
       "\t\t<td>9</td>\n",
       "\t\t<td>test</td>\n",
       "\t\t<td>8000</td>\n",
       "\t</tr>\n",
       "\t<tr>\n",
       "\t\t<td>9</td>\n",
       "\t\t<td>train</td>\n",
       "\t\t<td>2000</td>\n",
       "\t</tr>\n",
       "</table></html>"
      ],
      "text/plain": [
       "   Partition_ID   FOLD  count_ID\n",
       "0             1   test      8000\n",
       "1             1  train      2000\n",
       "2             4   test      8000\n",
       "3             4  train      2000\n",
       "4             6   test      8000\n",
       "5             6  train      2000\n",
       "6             9   test      8000\n",
       "7             9  train      2000"
      ]
     },
     "execution_count": 5,
     "metadata": {},
     "output_type": "execute_result"
    }
   ],
   "source": [
    "summary = dataset[['Partition_ID','FOLD','ID']].groupby(['Partition_ID','FOLD']).count()\n",
    "summary.sort(['Partition_ID','FOLD'])"
   ]
  },
  {
   "cell_type": "code",
   "execution_count": 6,
   "id": "07d0147e-af56-4400-8814-70c68efd8f90",
   "metadata": {},
   "outputs": [
    {
     "data": {
      "text/plain": [
       "(8, 3)"
      ]
     },
     "execution_count": 6,
     "metadata": {},
     "output_type": "execute_result"
    }
   ],
   "source": [
    "summary.shape"
   ]
  },
  {
   "cell_type": "markdown",
   "id": "896ca2c5-cef1-4d89-b321-7e29a28bb05b",
   "metadata": {},
   "source": [
    "## 3 - Hyper-segmented model deployment"
   ]
  },
  {
   "cell_type": "markdown",
   "id": "c17a2135-b2a6-4d67-af95-c30b59ecc45f",
   "metadata": {},
   "source": [
    "### 3.1 - Engineering of the scikit-learn classifier pipeline"
   ]
  },
  {
   "cell_type": "code",
   "execution_count": 7,
   "id": "6f7552d2-cb2f-4538-b76e-398167697298",
   "metadata": {},
   "outputs": [],
   "source": [
    "from sklearn.preprocessing import StandardScaler\n",
    "from sklearn.ensemble import RandomForestClassifier\n",
    "# Example usage\n",
    "steps_classifier = [\n",
    "    ('scaler', StandardScaler()),\n",
    "    ('classifier', RandomForestClassifier(\n",
    "        max_depth = 5,\n",
    "        n_estimators = 95 \n",
    "    ))]"
   ]
  },
  {
   "cell_type": "markdown",
   "id": "474f18d8-08da-46c4-af28-19421d9bc750",
   "metadata": {},
   "source": [
    "### 3.2 - Deployment of the scikit-learn pipeline"
   ]
  },
  {
   "cell_type": "code",
   "execution_count": 8,
   "id": "9294bc91-4376-404e-b5cd-87fdd71d77a8",
   "metadata": {},
   "outputs": [],
   "source": [
    "from tdstone2.tdshypermodel import HyperModel\n",
    "from tdstone2.tdstone import TDStone\n",
    "sto = TDStone(schema_name = Param['database'], SEARCHUIFDBPATH = Param['user'])"
   ]
  },
  {
   "cell_type": "code",
   "execution_count": 9,
   "id": "a7b196b3-3dde-4940-a4f8-af713e9c8fe0",
   "metadata": {},
   "outputs": [],
   "source": [
    "model_parameters = {\n",
    "    \"target\": 'Y2',\n",
    "    \"column_categorical\": ['flag','Y2'],\n",
    "    \"column_names_X\": ['X1','X2','X3','X4','X5','X6','X7','X8','X9','flag']\n",
    "}"
   ]
  },
  {
   "cell_type": "code",
   "execution_count": 10,
   "id": "7c347041-150f-43b8-834b-dfe0af6e7ada",
   "metadata": {},
   "outputs": [
    {
     "name": "stdout",
     "output_type": "stream",
     "text": [
      "registration of mapper with id = 05842693-ddf1-4589-8d7b-a7ea4e952b95\n",
      "creation of dedicated mapper table : demo_user.TDS_MAPPER_05842693_ddf1_4589_8d7b_a7ea4e952b95\n",
      "creation of the on clause view demo_user.TDS_ON_CLAUSE_TRAINING_05842693_ddf1_4589_8d7b_a7ea4e952b95\n",
      "creation of the sto view demo_user.TDS_STO_TRAINING_05842693_ddf1_4589_8d7b_a7ea4e952b95\n",
      "registration of mapper with id = a93604aa-2204-45a6-b4f5-1edab0414da1\n",
      "creation of dedicated mapper table : demo_user.TDS_MAPPER_a93604aa_2204_45a6_b4f5_1edab0414da1\n",
      "creation of the on clause view demo_user.TDS_ON_CLAUSE_SCORING_a93604aa_2204_45a6_b4f5_1edab0414da1\n",
      "creation of the volatile table on on clause view demo_user.TDS_STO_SCORING_a93604aa_2204_45a6_b4f5_1edab0414da1\n",
      "creation of the sto view demo_user.TDS_STO_SCORING_a93604aa_2204_45a6_b4f5_1edab0414da1\n",
      "register hyper model with id : 654b028b-741e-4a46-8e5d-d966ac8a07b1\n",
      "hyper model : 654b028b-741e-4a46-8e5d-d966ac8a07b1\n",
      "CPU times: total: 141 ms\n",
      "Wall time: 28.1 s\n"
     ]
    }
   ],
   "source": [
    "%%time\n",
    "model = HyperModel(tdstone            = sto,\n",
    "                   metadata           = {'project': 'test'},\n",
    "                   skl_pipeline_steps = steps_classifier,\n",
    "                   model_parameters   = model_parameters,\n",
    "                   dataset            = tdml.in_schema(Param['database'],'dataset_00'),\n",
    "                   id_row             = 'ID',\n",
    "                   id_partition       = 'Partition_ID',\n",
    "                   id_fold            = 'FOLD',\n",
    "                   fold_training      = 'train')"
   ]
  },
  {
   "cell_type": "code",
   "execution_count": 11,
   "id": "22d474e7-7b9b-4792-9af4-fb071803cd9b",
   "metadata": {},
   "outputs": [
    {
     "data": {
      "text/html": [
       "<style type=\"text/css\">\n",
       "\ttable {border:ridge 5px;}\n",
       "\ttable td {border:inset 1px;}\n",
       "\ttable tr#HeaderRow {background-color:grey; color:white;}</style>\n",
       "<html><table>\n",
       "\t<tr id=\"HeaderRow\">\n",
       "\t\t<th>CREATION_DATE</th>\n",
       "\t\t<th>ID</th>\n",
       "\t\t<th>ID_MODEL</th>\n",
       "\t\t<th>ID_MAPPER_TRAINING</th>\n",
       "\t\t<th>ID_MAPPER_SCORING</th>\n",
       "\t\t<th>METADATA</th>\n",
       "\t</tr>\n",
       "\t<tr>\n",
       "\t\t<td>2025-01-08 05:26:48.160000-05:</td>\n",
       "\t\t<td>654b028b-741e-4a46-8e5d-d966ac8a07b1</td>\n",
       "\t\t<td>1feb2a86-622c-4c56-8e94-4c367d1a232e</td>\n",
       "\t\t<td>05842693-ddf1-4589-8d7b-a7ea4e952b95</td>\n",
       "\t\t<td>a93604aa-2204-45a6-b4f5-1edab0414da1</td>\n",
       "\t\t<td>{\"user\": \"dm250067\", \"project\": \"test\"}</td>\n",
       "\t</tr>\n",
       "</table></html>"
      ],
      "text/plain": [
       "                                                       CREATION_DATE                              ID_MODEL                    ID_MAPPER_TRAINING                     ID_MAPPER_SCORING                                 METADATA\n",
       "ID                                                                                                                                                                                                                             \n",
       "654b028b-741e-4a46-8e5d-d966ac8a07b1  2025-01-08 05:26:48.160000-05:  1feb2a86-622c-4c56-8e94-4c367d1a232e  05842693-ddf1-4589-8d7b-a7ea4e952b95  a93604aa-2204-45a6-b4f5-1edab0414da1  {\"user\": \"dm250067\", \"project\": \"test\"}"
      ]
     },
     "execution_count": 11,
     "metadata": {},
     "output_type": "execute_result"
    }
   ],
   "source": [
    "sto.list_hyper_models()"
   ]
  },
  {
   "cell_type": "code",
   "execution_count": 12,
   "id": "2701f78c",
   "metadata": {},
   "outputs": [
    {
     "data": {
      "text/plain": [
       "'05842693-ddf1-4589-8d7b-a7ea4e952b95'"
      ]
     },
     "execution_count": 12,
     "metadata": {},
     "output_type": "execute_result"
    }
   ],
   "source": [
    "id_mapper = sto.list_hyper_models()[['CREATION_DATE','ID_MAPPER_TRAINING']].sort('CREATION_DATE',ascending=False).to_pandas()['ID_MAPPER_TRAINING'].values[0]\n",
    "id_mapper"
   ]
  },
  {
   "cell_type": "markdown",
   "id": "0bf5924f-5002-4394-b44d-3c941a70df9e",
   "metadata": {},
   "source": [
    "## 4 - Execution of the deployed hypermodel"
   ]
  },
  {
   "cell_type": "markdown",
   "id": "38ceb441-eee6-4652-a1a2-50663fd26d8f",
   "metadata": {},
   "source": [
    "### 4.1 - Models Training"
   ]
  },
  {
   "cell_type": "code",
   "execution_count": 13,
   "id": "086fe28e-fdc6-44fa-ba26-82ada8c97b40",
   "metadata": {},
   "outputs": [
    {
     "name": "stdout",
     "output_type": "stream",
     "text": [
      "insert trained models in demo_user.TDS_TRAINED_MODELS_05842693_ddf1_4589_8d7b_a7ea4e952b95\n",
      "- access pickle models in demo_user.V_TDS_TRAINED_MODELS_05842693_ddf1_4589_8d7b_a7ea4e952b95_PICKLE\n",
      "- access  onnx  models in demo_user.V_TDS_TRAINED_MODELS_05842693_ddf1_4589_8d7b_a7ea4e952b95_ONNX\n",
      "- onnx byom catalog    in demo_user.V_TDS_TRAINED_MODELS_05842693_ddf1_4589_8d7b_a7ea4e952b95_BYOM_CATALOG\n",
      "CPU times: total: 31.2 ms\n",
      "Wall time: 9.15 s\n"
     ]
    }
   ],
   "source": [
    "%%time\n",
    "model.train()"
   ]
  },
  {
   "cell_type": "markdown",
   "id": "1f5f6009",
   "metadata": {},
   "source": [
    "query = f\"SELECT * FROM {Param['database']}.{'TDS_TRAINED_MODELS_'+ID_MAPPER_TRAINING.replace('-','_')}\"\n",
    "print(query)\n",
    "tdml.DataFrame.from_query(\"query\")"
   ]
  },
  {
   "cell_type": "code",
   "execution_count": 14,
   "id": "8f49f1e6-ca1a-4896-bcd5-46193888ee5e",
   "metadata": {},
   "outputs": [
    {
     "name": "stdout",
     "output_type": "stream",
     "text": [
      "demo_user TDS_MODEL_REPOSITORY\n"
     ]
    },
    {
     "data": {
      "text/html": [
       "<style type=\"text/css\">\n",
       "\ttable {border:ridge 5px;}\n",
       "\ttable td {border:inset 1px;}\n",
       "\ttable tr#HeaderRow {background-color:grey; color:white;}</style>\n",
       "<html><table>\n",
       "\t<tr id=\"HeaderRow\">\n",
       "\t\t<th>TD_TIMECODE</th>\n",
       "\t\t<th>count_ID_PROCESS</th>\n",
       "\t\t<th>count_Partition_ID</th>\n",
       "\t\t<th>count_ID_MODEL</th>\n",
       "\t\t<th>count_ID_TRAINED_MODEL</th>\n",
       "\t\t<th>count_MODEL_TYPE</th>\n",
       "\t\t<th>count_STATUS</th>\n",
       "\t</tr>\n",
       "\t<tr>\n",
       "\t\t<td>9999-01-01 00:00:00.000000-04:</td>\n",
       "\t\t<td>4</td>\n",
       "\t\t<td>4</td>\n",
       "\t\t<td>4</td>\n",
       "\t\t<td>4</td>\n",
       "\t\t<td>4</td>\n",
       "\t\t<td>4</td>\n",
       "\t</tr>\n",
       "</table></html>"
      ],
      "text/plain": [
       "                      TD_TIMECODE  count_ID_PROCESS  count_Partition_ID  count_ID_MODEL  count_ID_TRAINED_MODEL  count_MODEL_TYPE  count_STATUS\n",
       "0  9999-01-01 00:00:00.000000-04:                 4                   4               4                       4                 4             4"
      ]
     },
     "execution_count": 14,
     "metadata": {},
     "output_type": "execute_result"
    }
   ],
   "source": [
    "model.get_trained_models().groupby('TD_TIMECODE').count()"
   ]
  },
  {
   "cell_type": "markdown",
   "id": "52136232-6ab6-41c6-9e9a-87a705dad3f7",
   "metadata": {},
   "source": [
    "### 4.2 - Model Scoring"
   ]
  },
  {
   "cell_type": "code",
   "execution_count": 15,
   "id": "f201c42c-e052-40b0-9703-402172e8b2fb",
   "metadata": {},
   "outputs": [
    {
     "name": "stdout",
     "output_type": "stream",
     "text": [
      "creation of the on clause view demo_user.TDS_ON_CLAUSE_SCORING_a93604aa_2204_45a6_b4f5_1edab0414da1\n",
      "creation of the volatile table on on clause view demo_user.TDS_STO_SCORING_a93604aa_2204_45a6_b4f5_1edab0414da1\n",
      "insert scores in demo_user.TDS_SCORES_a93604aa_2204_45a6_b4f5_1edab0414da1\n",
      "CPU times: total: 31.2 ms\n",
      "Wall time: 20.7 s\n"
     ]
    }
   ],
   "source": [
    "%%time\n",
    "model.score()"
   ]
  },
  {
   "cell_type": "markdown",
   "id": "f849efd8-5890-4636-bfcd-d3903999d617",
   "metadata": {},
   "source": [
    "model.get_model_predictions().groupby('TD_TIMECODE').count()"
   ]
  },
  {
   "cell_type": "code",
   "execution_count": 16,
   "id": "65c46b15",
   "metadata": {},
   "outputs": [
    {
     "name": "stdout",
     "output_type": "stream",
     "text": [
      "demo_user TDS_SCORES_a93604aa_2204_45a6_b4f5_1edab0414da1\n"
     ]
    },
    {
     "data": {
      "text/html": [
       "<style type=\"text/css\">\n",
       "\ttable {border:ridge 5px;}\n",
       "\ttable td {border:inset 1px;}\n",
       "\ttable tr#HeaderRow {background-color:grey; color:white;}</style>\n",
       "<html><table>\n",
       "\t<tr id=\"HeaderRow\">\n",
       "\t\t<th>TD_TIMECODE</th>\n",
       "\t\t<th>ID_PROCESS</th>\n",
       "\t\t<th>ID_TRAINED_MODEL</th>\n",
       "\t\t<th>Partition_ID</th>\n",
       "\t\t<th>ID</th>\n",
       "\t\t<th>Y2_proba_0</th>\n",
       "\t\t<th>Y2_prediction</th>\n",
       "\t\t<th>Y2_proba_1</th>\n",
       "\t</tr>\n",
       "\t<tr>\n",
       "\t\t<td>9999-01-01 00:00:00.000000-04:</td>\n",
       "\t\t<td>TDS_STO_SCORING_a93604aa_2204_45a6_b4f5_1edab0414da1</td>\n",
       "\t\t<td>fc56bacc-46fc-4d5d-9e01-185507aff61c</td>\n",
       "\t\t<td>4</td>\n",
       "\t\t<td>28920</td>\n",
       "\t\t<td>0.506687021404579</td>\n",
       "\t\t<td>0.0</td>\n",
       "\t\t<td>0.4933129785954211</td>\n",
       "\t</tr>\n",
       "\t<tr>\n",
       "\t\t<td>9999-01-01 00:00:00.000000-04:</td>\n",
       "\t\t<td>TDS_STO_SCORING_a93604aa_2204_45a6_b4f5_1edab0414da1</td>\n",
       "\t\t<td>d52d31c3-861f-4531-9962-a454537ce4b8</td>\n",
       "\t\t<td>1</td>\n",
       "\t\t<td>8482</td>\n",
       "\t\t<td>0.5692973860684621</td>\n",
       "\t\t<td>0.0</td>\n",
       "\t\t<td>0.43070261393153786</td>\n",
       "\t</tr>\n",
       "\t<tr>\n",
       "\t\t<td>9999-01-01 00:00:00.000000-04:</td>\n",
       "\t\t<td>TDS_STO_SCORING_a93604aa_2204_45a6_b4f5_1edab0414da1</td>\n",
       "\t\t<td>fc56bacc-46fc-4d5d-9e01-185507aff61c</td>\n",
       "\t\t<td>4</td>\n",
       "\t\t<td>25937</td>\n",
       "\t\t<td>0.41632612387294277</td>\n",
       "\t\t<td>1.0</td>\n",
       "\t\t<td>0.5836738761270576</td>\n",
       "\t</tr>\n",
       "\t<tr>\n",
       "\t\t<td>9999-01-01 00:00:00.000000-04:</td>\n",
       "\t\t<td>TDS_STO_SCORING_a93604aa_2204_45a6_b4f5_1edab0414da1</td>\n",
       "\t\t<td>57e118d6-b9b8-4d65-97a5-58c2ef185a94</td>\n",
       "\t\t<td>9</td>\n",
       "\t\t<td>18632</td>\n",
       "\t\t<td>0.518110961183082</td>\n",
       "\t\t<td>0.0</td>\n",
       "\t\t<td>0.4818890388169181</td>\n",
       "\t</tr>\n",
       "\t<tr>\n",
       "\t\t<td>9999-01-01 00:00:00.000000-04:</td>\n",
       "\t\t<td>TDS_STO_SCORING_a93604aa_2204_45a6_b4f5_1edab0414da1</td>\n",
       "\t\t<td>57e118d6-b9b8-4d65-97a5-58c2ef185a94</td>\n",
       "\t\t<td>9</td>\n",
       "\t\t<td>18126</td>\n",
       "\t\t<td>0.5057575063087655</td>\n",
       "\t\t<td>0.0</td>\n",
       "\t\t<td>0.4942424936912345</td>\n",
       "\t</tr>\n",
       "\t<tr>\n",
       "\t\t<td>9999-01-01 00:00:00.000000-04:</td>\n",
       "\t\t<td>TDS_STO_SCORING_a93604aa_2204_45a6_b4f5_1edab0414da1</td>\n",
       "\t\t<td>57e118d6-b9b8-4d65-97a5-58c2ef185a94</td>\n",
       "\t\t<td>9</td>\n",
       "\t\t<td>12779</td>\n",
       "\t\t<td>0.4496898608965424</td>\n",
       "\t\t<td>1.0</td>\n",
       "\t\t<td>0.5503101391034577</td>\n",
       "\t</tr>\n",
       "\t<tr>\n",
       "\t\t<td>9999-01-01 00:00:00.000000-04:</td>\n",
       "\t\t<td>TDS_STO_SCORING_a93604aa_2204_45a6_b4f5_1edab0414da1</td>\n",
       "\t\t<td>d52d31c3-861f-4531-9962-a454537ce4b8</td>\n",
       "\t\t<td>1</td>\n",
       "\t\t<td>8002</td>\n",
       "\t\t<td>0.44500775245813345</td>\n",
       "\t\t<td>1.0</td>\n",
       "\t\t<td>0.5549922475418664</td>\n",
       "\t</tr>\n",
       "\t<tr>\n",
       "\t\t<td>9999-01-01 00:00:00.000000-04:</td>\n",
       "\t\t<td>TDS_STO_SCORING_a93604aa_2204_45a6_b4f5_1edab0414da1</td>\n",
       "\t\t<td>57e118d6-b9b8-4d65-97a5-58c2ef185a94</td>\n",
       "\t\t<td>9</td>\n",
       "\t\t<td>18885</td>\n",
       "\t\t<td>0.5137767972279962</td>\n",
       "\t\t<td>0.0</td>\n",
       "\t\t<td>0.4862232027720039</td>\n",
       "\t</tr>\n",
       "\t<tr>\n",
       "\t\t<td>9999-01-01 00:00:00.000000-04:</td>\n",
       "\t\t<td>TDS_STO_SCORING_a93604aa_2204_45a6_b4f5_1edab0414da1</td>\n",
       "\t\t<td>fc56bacc-46fc-4d5d-9e01-185507aff61c</td>\n",
       "\t\t<td>4</td>\n",
       "\t\t<td>27517</td>\n",
       "\t\t<td>0.5136606167115186</td>\n",
       "\t\t<td>0.0</td>\n",
       "\t\t<td>0.4863393832884814</td>\n",
       "\t</tr>\n",
       "\t<tr>\n",
       "\t\t<td>9999-01-01 00:00:00.000000-04:</td>\n",
       "\t\t<td>TDS_STO_SCORING_a93604aa_2204_45a6_b4f5_1edab0414da1</td>\n",
       "\t\t<td>fc56bacc-46fc-4d5d-9e01-185507aff61c</td>\n",
       "\t\t<td>4</td>\n",
       "\t\t<td>26845</td>\n",
       "\t\t<td>0.5184381906873906</td>\n",
       "\t\t<td>0.0</td>\n",
       "\t\t<td>0.48156180931260945</td>\n",
       "\t</tr>\n",
       "</table></html>"
      ],
      "text/plain": [
       "                      TD_TIMECODE                                            ID_PROCESS                      ID_TRAINED_MODEL  Partition_ID     ID  Y2_proba_0  Y2_prediction  Y2_proba_1\n",
       "0  9999-01-01 00:00:00.000000-04:  TDS_STO_SCORING_a93604aa_2204_45a6_b4f5_1edab0414da1  fc56bacc-46fc-4d5d-9e01-185507aff61c             4  28920    0.506687            0.0    0.493313\n",
       "1  9999-01-01 00:00:00.000000-04:  TDS_STO_SCORING_a93604aa_2204_45a6_b4f5_1edab0414da1  d52d31c3-861f-4531-9962-a454537ce4b8             1   8482    0.569297            0.0    0.430703\n",
       "2  9999-01-01 00:00:00.000000-04:  TDS_STO_SCORING_a93604aa_2204_45a6_b4f5_1edab0414da1  fc56bacc-46fc-4d5d-9e01-185507aff61c             4  25937    0.416326            1.0    0.583674\n",
       "3  9999-01-01 00:00:00.000000-04:  TDS_STO_SCORING_a93604aa_2204_45a6_b4f5_1edab0414da1  57e118d6-b9b8-4d65-97a5-58c2ef185a94             9  18632    0.518111            0.0    0.481889\n",
       "4  9999-01-01 00:00:00.000000-04:  TDS_STO_SCORING_a93604aa_2204_45a6_b4f5_1edab0414da1  57e118d6-b9b8-4d65-97a5-58c2ef185a94             9  18126    0.505758            0.0    0.494242\n",
       "5  9999-01-01 00:00:00.000000-04:  TDS_STO_SCORING_a93604aa_2204_45a6_b4f5_1edab0414da1  57e118d6-b9b8-4d65-97a5-58c2ef185a94             9  12779    0.449690            1.0    0.550310\n",
       "6  9999-01-01 00:00:00.000000-04:  TDS_STO_SCORING_a93604aa_2204_45a6_b4f5_1edab0414da1  d52d31c3-861f-4531-9962-a454537ce4b8             1   8002    0.445008            1.0    0.554992\n",
       "7  9999-01-01 00:00:00.000000-04:  TDS_STO_SCORING_a93604aa_2204_45a6_b4f5_1edab0414da1  57e118d6-b9b8-4d65-97a5-58c2ef185a94             9  18885    0.513777            0.0    0.486223\n",
       "8  9999-01-01 00:00:00.000000-04:  TDS_STO_SCORING_a93604aa_2204_45a6_b4f5_1edab0414da1  fc56bacc-46fc-4d5d-9e01-185507aff61c             4  27517    0.513661            0.0    0.486339\n",
       "9  9999-01-01 00:00:00.000000-04:  TDS_STO_SCORING_a93604aa_2204_45a6_b4f5_1edab0414da1  fc56bacc-46fc-4d5d-9e01-185507aff61c             4  26845    0.518438            0.0    0.481562"
      ]
     },
     "execution_count": 16,
     "metadata": {},
     "output_type": "execute_result"
    }
   ],
   "source": [
    "model.get_model_predictions()"
   ]
  },
  {
   "cell_type": "code",
   "execution_count": 17,
   "id": "de0f439e",
   "metadata": {},
   "outputs": [
    {
     "name": "stdout",
     "output_type": "stream",
     "text": [
      "demo_user TDS_SCORES_a93604aa_2204_45a6_b4f5_1edab0414da1\n"
     ]
    },
    {
     "data": {
      "text/html": [
       "<style type=\"text/css\">\n",
       "\ttable {border:ridge 5px;}\n",
       "\ttable td {border:inset 1px;}\n",
       "\ttable tr#HeaderRow {background-color:grey; color:white;}</style>\n",
       "<html><table>\n",
       "\t<tr id=\"HeaderRow\">\n",
       "\t\t<th>TD_TIMECODE</th>\n",
       "\t\t<th>count_ID_PROCESS</th>\n",
       "\t\t<th>count_ID_TRAINED_MODEL</th>\n",
       "\t\t<th>count_Partition_ID</th>\n",
       "\t\t<th>count_ID</th>\n",
       "\t\t<th>count_Y2_proba_0</th>\n",
       "\t\t<th>count_Y2_prediction</th>\n",
       "\t\t<th>count_Y2_proba_1</th>\n",
       "\t</tr>\n",
       "\t<tr>\n",
       "\t\t<td>9999-01-01 00:00:00.000000-04:</td>\n",
       "\t\t<td>40000</td>\n",
       "\t\t<td>40000</td>\n",
       "\t\t<td>40000</td>\n",
       "\t\t<td>40000</td>\n",
       "\t\t<td>40000</td>\n",
       "\t\t<td>40000</td>\n",
       "\t\t<td>40000</td>\n",
       "\t</tr>\n",
       "</table></html>"
      ],
      "text/plain": [
       "                      TD_TIMECODE  count_ID_PROCESS  count_ID_TRAINED_MODEL  count_Partition_ID  count_ID  count_Y2_proba_0  count_Y2_prediction  count_Y2_proba_1\n",
       "0  9999-01-01 00:00:00.000000-04:             40000                   40000               40000     40000             40000                40000             40000"
      ]
     },
     "execution_count": 17,
     "metadata": {},
     "output_type": "execute_result"
    }
   ],
   "source": [
    "model.get_model_predictions().groupby('TD_TIMECODE').count()"
   ]
  },
  {
   "cell_type": "code",
   "execution_count": 18,
   "id": "9212654e",
   "metadata": {},
   "outputs": [
    {
     "name": "stdout",
     "output_type": "stream",
     "text": [
      "demo_user TDS_SCORES_a93604aa_2204_45a6_b4f5_1edab0414da1\n"
     ]
    },
    {
     "data": {
      "text/html": [
       "<style type=\"text/css\">\n",
       "\ttable {border:ridge 5px;}\n",
       "\ttable td {border:inset 1px;}\n",
       "\ttable tr#HeaderRow {background-color:grey; color:white;}</style>\n",
       "<html><table>\n",
       "\t<tr id=\"HeaderRow\">\n",
       "\t\t<th>TD_TIMECODE</th>\n",
       "\t\t<th>ID_PROCESS</th>\n",
       "\t\t<th>Partition_ID</th>\n",
       "\t\t<th>ID</th>\n",
       "\t\t<th>FEATURE_NAME</th>\n",
       "\t\t<th>FEATURE_VALUE</th>\n",
       "\t\t<th>FEATURE_TYPE</th>\n",
       "\t\t<th>STATUS</th>\n",
       "\t\t<th>ID_TRAINED_MODEL</th>\n",
       "\t</tr>\n",
       "\t<tr>\n",
       "\t\t<td>9999-01-01 00:00:00.000000-04:</td>\n",
       "\t\t<td>TDS_STO_SCORING_a93604aa_2204_45a6_b4f5_1edab0414da1</td>\n",
       "\t\t<td>6</td>\n",
       "\t\t<td>32739</td>\n",
       "\t\t<td>Y2_prediction</td>\n",
       "\t\t<td>1.0</td>\n",
       "\t\t<td><class 'numpy.float64'></td>\n",
       "\t\t<td>{\"error\": \"successful\", \"batch\": 2, \"job\": \"3d227dc3-16bf-47ab-a689-ce36e4704da5\", \"batch_size\": 9999}</td>\n",
       "\t\t<td>a67f5aa1-95c3-4447-a430-2164389f26e6</td>\n",
       "\t</tr>\n",
       "\t<tr>\n",
       "\t\t<td>9999-01-01 00:00:00.000000-04:</td>\n",
       "\t\t<td>TDS_STO_SCORING_a93604aa_2204_45a6_b4f5_1edab0414da1</td>\n",
       "\t\t<td>9</td>\n",
       "\t\t<td>12219</td>\n",
       "\t\t<td>Y2_prediction</td>\n",
       "\t\t<td>0.0</td>\n",
       "\t\t<td><class 'numpy.float64'></td>\n",
       "\t\t<td>{\"error\": \"successful\", \"batch\": 2, \"job\": \"8833c748-5d4f-45f0-9786-08c678cf2881\", \"batch_size\": 9999}</td>\n",
       "\t\t<td>57e118d6-b9b8-4d65-97a5-58c2ef185a94</td>\n",
       "\t</tr>\n",
       "\t<tr>\n",
       "\t\t<td>9999-01-01 00:00:00.000000-04:</td>\n",
       "\t\t<td>TDS_STO_SCORING_a93604aa_2204_45a6_b4f5_1edab0414da1</td>\n",
       "\t\t<td>9</td>\n",
       "\t\t<td>12219</td>\n",
       "\t\t<td>Y2_proba_0</td>\n",
       "\t\t<td>0.589502095573109</td>\n",
       "\t\t<td><class 'numpy.float64'></td>\n",
       "\t\t<td>{\"error\": \"successful\", \"batch\": 2, \"job\": \"8833c748-5d4f-45f0-9786-08c678cf2881\", \"batch_size\": 9999}</td>\n",
       "\t\t<td>57e118d6-b9b8-4d65-97a5-58c2ef185a94</td>\n",
       "\t</tr>\n",
       "\t<tr>\n",
       "\t\t<td>9999-01-01 00:00:00.000000-04:</td>\n",
       "\t\t<td>TDS_STO_SCORING_a93604aa_2204_45a6_b4f5_1edab0414da1</td>\n",
       "\t\t<td>1</td>\n",
       "\t\t<td>7957</td>\n",
       "\t\t<td>Y2_proba_0</td>\n",
       "\t\t<td>0.441110175402526</td>\n",
       "\t\t<td><class 'numpy.float64'></td>\n",
       "\t\t<td>{\"error\": \"successful\", \"batch\": 2, \"job\": \"a52ea8ed-d290-4c13-a74a-46661d9fe7c4\", \"batch_size\": 9999}</td>\n",
       "\t\t<td>d52d31c3-861f-4531-9962-a454537ce4b8</td>\n",
       "\t</tr>\n",
       "\t<tr>\n",
       "\t\t<td>9999-01-01 00:00:00.000000-04:</td>\n",
       "\t\t<td>TDS_STO_SCORING_a93604aa_2204_45a6_b4f5_1edab0414da1</td>\n",
       "\t\t<td>1</td>\n",
       "\t\t<td>7957</td>\n",
       "\t\t<td>Y2_prediction</td>\n",
       "\t\t<td>1.0</td>\n",
       "\t\t<td><class 'numpy.float64'></td>\n",
       "\t\t<td>{\"error\": \"successful\", \"batch\": 2, \"job\": \"a52ea8ed-d290-4c13-a74a-46661d9fe7c4\", \"batch_size\": 9999}</td>\n",
       "\t\t<td>d52d31c3-861f-4531-9962-a454537ce4b8</td>\n",
       "\t</tr>\n",
       "\t<tr>\n",
       "\t\t<td>9999-01-01 00:00:00.000000-04:</td>\n",
       "\t\t<td>TDS_STO_SCORING_a93604aa_2204_45a6_b4f5_1edab0414da1</td>\n",
       "\t\t<td>4</td>\n",
       "\t\t<td>29769</td>\n",
       "\t\t<td>Y2_proba_1</td>\n",
       "\t\t<td>0.5069693058971968</td>\n",
       "\t\t<td><class 'numpy.float64'></td>\n",
       "\t\t<td>{\"error\": \"successful\", \"batch\": 2, \"job\": \"2920aee2-2b53-4098-8a8f-b1dca7d4ca64\", \"batch_size\": 9999}</td>\n",
       "\t\t<td>fc56bacc-46fc-4d5d-9e01-185507aff61c</td>\n",
       "\t</tr>\n",
       "\t<tr>\n",
       "\t\t<td>9999-01-01 00:00:00.000000-04:</td>\n",
       "\t\t<td>TDS_STO_SCORING_a93604aa_2204_45a6_b4f5_1edab0414da1</td>\n",
       "\t\t<td>1</td>\n",
       "\t\t<td>7957</td>\n",
       "\t\t<td>Y2_proba_1</td>\n",
       "\t\t<td>0.558889824597474</td>\n",
       "\t\t<td><class 'numpy.float64'></td>\n",
       "\t\t<td>{\"error\": \"successful\", \"batch\": 2, \"job\": \"a52ea8ed-d290-4c13-a74a-46661d9fe7c4\", \"batch_size\": 9999}</td>\n",
       "\t\t<td>d52d31c3-861f-4531-9962-a454537ce4b8</td>\n",
       "\t</tr>\n",
       "\t<tr>\n",
       "\t\t<td>9999-01-01 00:00:00.000000-04:</td>\n",
       "\t\t<td>TDS_STO_SCORING_a93604aa_2204_45a6_b4f5_1edab0414da1</td>\n",
       "\t\t<td>9</td>\n",
       "\t\t<td>12219</td>\n",
       "\t\t<td>Y2_proba_1</td>\n",
       "\t\t<td>0.41049790442689105</td>\n",
       "\t\t<td><class 'numpy.float64'></td>\n",
       "\t\t<td>{\"error\": \"successful\", \"batch\": 2, \"job\": \"8833c748-5d4f-45f0-9786-08c678cf2881\", \"batch_size\": 9999}</td>\n",
       "\t\t<td>57e118d6-b9b8-4d65-97a5-58c2ef185a94</td>\n",
       "\t</tr>\n",
       "\t<tr>\n",
       "\t\t<td>9999-01-01 00:00:00.000000-04:</td>\n",
       "\t\t<td>TDS_STO_SCORING_a93604aa_2204_45a6_b4f5_1edab0414da1</td>\n",
       "\t\t<td>6</td>\n",
       "\t\t<td>32739</td>\n",
       "\t\t<td>Y2_proba_0</td>\n",
       "\t\t<td>0.4183413105151959</td>\n",
       "\t\t<td><class 'numpy.float64'></td>\n",
       "\t\t<td>{\"error\": \"successful\", \"batch\": 2, \"job\": \"3d227dc3-16bf-47ab-a689-ce36e4704da5\", \"batch_size\": 9999}</td>\n",
       "\t\t<td>a67f5aa1-95c3-4447-a430-2164389f26e6</td>\n",
       "\t</tr>\n",
       "\t<tr>\n",
       "\t\t<td>9999-01-01 00:00:00.000000-04:</td>\n",
       "\t\t<td>TDS_STO_SCORING_a93604aa_2204_45a6_b4f5_1edab0414da1</td>\n",
       "\t\t<td>6</td>\n",
       "\t\t<td>32739</td>\n",
       "\t\t<td>Y2_proba_1</td>\n",
       "\t\t<td>0.581658689484804</td>\n",
       "\t\t<td><class 'numpy.float64'></td>\n",
       "\t\t<td>{\"error\": \"successful\", \"batch\": 2, \"job\": \"3d227dc3-16bf-47ab-a689-ce36e4704da5\", \"batch_size\": 9999}</td>\n",
       "\t\t<td>a67f5aa1-95c3-4447-a430-2164389f26e6</td>\n",
       "\t</tr>\n",
       "</table></html>"
      ],
      "text/plain": [
       "                                                                                                                                 TD_TIMECODE   FEATURE_NAME        FEATURE_VALUE             FEATURE_TYPE                                                                                                  STATUS\n",
       "ID_PROCESS                                           Partition_ID ID    ID_TRAINED_MODEL                                                                                                                                                                                                                         \n",
       "TDS_STO_SCORING_a93604aa_2204_45a6_b4f5_1edab0414da1 6            32739 a67f5aa1-95c3-4447-a430-2164389f26e6  9999-01-01 00:00:00.000000-04:  Y2_prediction                  1.0  <class 'numpy.float64'>  {\"error\": \"successful\", \"batch\": 2, \"job\": \"3d227dc3-16bf-47ab-a689-ce36e4704da5\", \"batch_size\": 9999}\n",
       "                                                     9            12219 57e118d6-b9b8-4d65-97a5-58c2ef185a94  9999-01-01 00:00:00.000000-04:  Y2_prediction                  0.0  <class 'numpy.float64'>  {\"error\": \"successful\", \"batch\": 2, \"job\": \"8833c748-5d4f-45f0-9786-08c678cf2881\", \"batch_size\": 9999}\n",
       "                                                                        57e118d6-b9b8-4d65-97a5-58c2ef185a94  9999-01-01 00:00:00.000000-04:     Y2_proba_0    0.589502095573109  <class 'numpy.float64'>  {\"error\": \"successful\", \"batch\": 2, \"job\": \"8833c748-5d4f-45f0-9786-08c678cf2881\", \"batch_size\": 9999}\n",
       "                                                     1            7957  d52d31c3-861f-4531-9962-a454537ce4b8  9999-01-01 00:00:00.000000-04:     Y2_proba_0    0.441110175402526  <class 'numpy.float64'>  {\"error\": \"successful\", \"batch\": 2, \"job\": \"a52ea8ed-d290-4c13-a74a-46661d9fe7c4\", \"batch_size\": 9999}\n",
       "                                                                        d52d31c3-861f-4531-9962-a454537ce4b8  9999-01-01 00:00:00.000000-04:  Y2_prediction                  1.0  <class 'numpy.float64'>  {\"error\": \"successful\", \"batch\": 2, \"job\": \"a52ea8ed-d290-4c13-a74a-46661d9fe7c4\", \"batch_size\": 9999}\n",
       "                                                     4            29769 fc56bacc-46fc-4d5d-9e01-185507aff61c  9999-01-01 00:00:00.000000-04:     Y2_proba_1   0.5069693058971968  <class 'numpy.float64'>  {\"error\": \"successful\", \"batch\": 2, \"job\": \"2920aee2-2b53-4098-8a8f-b1dca7d4ca64\", \"batch_size\": 9999}\n",
       "                                                     1            7957  d52d31c3-861f-4531-9962-a454537ce4b8  9999-01-01 00:00:00.000000-04:     Y2_proba_1    0.558889824597474  <class 'numpy.float64'>  {\"error\": \"successful\", \"batch\": 2, \"job\": \"a52ea8ed-d290-4c13-a74a-46661d9fe7c4\", \"batch_size\": 9999}\n",
       "                                                     9            12219 57e118d6-b9b8-4d65-97a5-58c2ef185a94  9999-01-01 00:00:00.000000-04:     Y2_proba_1  0.41049790442689105  <class 'numpy.float64'>  {\"error\": \"successful\", \"batch\": 2, \"job\": \"8833c748-5d4f-45f0-9786-08c678cf2881\", \"batch_size\": 9999}\n",
       "                                                     6            32739 a67f5aa1-95c3-4447-a430-2164389f26e6  9999-01-01 00:00:00.000000-04:     Y2_proba_0   0.4183413105151959  <class 'numpy.float64'>  {\"error\": \"successful\", \"batch\": 2, \"job\": \"3d227dc3-16bf-47ab-a689-ce36e4704da5\", \"batch_size\": 9999}\n",
       "                                                                        a67f5aa1-95c3-4447-a430-2164389f26e6  9999-01-01 00:00:00.000000-04:     Y2_proba_1    0.581658689484804  <class 'numpy.float64'>  {\"error\": \"successful\", \"batch\": 2, \"job\": \"3d227dc3-16bf-47ab-a689-ce36e4704da5\", \"batch_size\": 9999}"
      ]
     },
     "execution_count": 18,
     "metadata": {},
     "output_type": "execute_result"
    }
   ],
   "source": [
    "model.get_model_predictions(denormalized_view=False)"
   ]
  },
  {
   "cell_type": "markdown",
   "id": "b1cebdc4-e239-4efb-a845-5fceeb8a866d",
   "metadata": {},
   "source": [
    "## 5 - A bit of administration: Model Lineage"
   ]
  },
  {
   "cell_type": "markdown",
   "id": "f6a09da4-0ced-4fbb-a36b-195b80f12fc5",
   "metadata": {},
   "source": [
    "### 5.1 - Access to the list of deployed codes"
   ]
  },
  {
   "cell_type": "code",
   "execution_count": 19,
   "id": "b612f08e-abea-4dc0-bb28-9db6bffd07ec",
   "metadata": {},
   "outputs": [
    {
     "data": {
      "text/html": [
       "<style type=\"text/css\">\n",
       "\ttable {border:ridge 5px;}\n",
       "\ttable td {border:inset 1px;}\n",
       "\ttable tr#HeaderRow {background-color:grey; color:white;}</style>\n",
       "<html><table>\n",
       "\t<tr id=\"HeaderRow\">\n",
       "\t\t<th>ID</th>\n",
       "\t\t<th>CODE_TYPE</th>\n",
       "\t\t<th>METADATA</th>\n",
       "\t</tr>\n",
       "\t<tr>\n",
       "\t\t<td>c88da75f-4c35-4fb4-8b2b-52105610adf7</td>\n",
       "\t\t<td>python class</td>\n",
       "\t\t<td>{\"user\": \"dm250067\", \"code_type\": \"python class\", \"project\": \"test\", \"script_path\": \"from memory\"}</td>\n",
       "\t</tr>\n",
       "</table></html>"
      ],
      "text/plain": [
       "                                     ID     CODE_TYPE                                                                                            METADATA\n",
       "0  c88da75f-4c35-4fb4-8b2b-52105610adf7  python class  {\"user\": \"dm250067\", \"code_type\": \"python class\", \"project\": \"test\", \"script_path\": \"from memory\"}"
      ]
     },
     "execution_count": 19,
     "metadata": {},
     "output_type": "execute_result"
    }
   ],
   "source": [
    "sto.list_codes()"
   ]
  },
  {
   "cell_type": "markdown",
   "id": "a419b40b-96f3-4581-b4ee-2181bc5ccc18",
   "metadata": {},
   "source": [
    "### 5.2 - List of deployed models (code + parameters)"
   ]
  },
  {
   "cell_type": "code",
   "execution_count": 20,
   "id": "c01db108-8688-4ef9-a602-084a38923775",
   "metadata": {},
   "outputs": [
    {
     "data": {
      "text/html": [
       "<style type=\"text/css\">\n",
       "\ttable {border:ridge 5px;}\n",
       "\ttable td {border:inset 1px;}\n",
       "\ttable tr#HeaderRow {background-color:grey; color:white;}</style>\n",
       "<html><table>\n",
       "\t<tr id=\"HeaderRow\">\n",
       "\t\t<th>ID</th>\n",
       "\t\t<th>ID_CODE</th>\n",
       "\t\t<th>ARGUMENTS</th>\n",
       "\t\t<th>METADATA</th>\n",
       "\t</tr>\n",
       "\t<tr>\n",
       "\t\t<td>1feb2a86-622c-4c56-8e94-4c367d1a232e</td>\n",
       "\t\t<td>c88da75f-4c35-4fb4-8b2b-52105610adf7</td>\n",
       "\t\t<td>{\"sto_parameters\": {\"columnnames\": [\"Partition_ID\", \"ID\", \"X1\", \"X2\", \"X3\", \"X4\", \"X5\", \"X6\", \"X7\", \"X8\", \"X9\", \"flag\", \"Y1\", \"Y2\", \"FOLD\"], \"float_columnames\": [\"X1\", \"X2\", \"X3\", \"X4\", \"X5\", \"X6\", \"X7\", \"X8\", \"X9\", \"Y1\"], \"integer_columnames\": [\"Partition_ID\", \"ID\", \"flag\", \"Y2\"], \"category_columns\": [], \"output_format\": [\"pickle\"]}, \"model_parameters\": {\"target\": \"Y2\", \"column_categorical\": [\"flag\", \"Y2\"], \"column_names_X\": [\"X1\", \"X2\", \"X3\", \"X4\", \"X5\", \"X6\", \"X7\", \"X8\", \"X9\", \"flag\"], \"arguments\": {\"classifier__max_depth\": 5, \"classifier__n_estimators\": 95}}}</td>\n",
       "\t\t<td>{\"user\": \"dm250067\", \"project\": \"test\"}</td>\n",
       "\t</tr>\n",
       "</table></html>"
      ],
      "text/plain": [
       "                                     ID                               ID_CODE                                                                                                                                                                                                                                                                                                                                                                                                                                                                                                                                                                                  ARGUMENTS                                 METADATA\n",
       "0  1feb2a86-622c-4c56-8e94-4c367d1a232e  c88da75f-4c35-4fb4-8b2b-52105610adf7  {\"sto_parameters\": {\"columnnames\": [\"Partition_ID\", \"ID\", \"X1\", \"X2\", \"X3\", \"X4\", \"X5\", \"X6\", \"X7\", \"X8\", \"X9\", \"flag\", \"Y1\", \"Y2\", \"FOLD\"], \"float_columnames\": [\"X1\", \"X2\", \"X3\", \"X4\", \"X5\", \"X6\", \"X7\", \"X8\", \"X9\", \"Y1\"], \"integer_columnames\": [\"Partition_ID\", \"ID\", \"flag\", \"Y2\"], \"category_columns\": [], \"output_format\": [\"pickle\"]}, \"model_parameters\": {\"target\": \"Y2\", \"column_categorical\": [\"flag\", \"Y2\"], \"column_names_X\": [\"X1\", \"X2\", \"X3\", \"X4\", \"X5\", \"X6\", \"X7\", \"X8\", \"X9\", \"flag\"], \"arguments\": {\"classifier__max_depth\": 5, \"classifier__n_estimators\": 95}}}  {\"user\": \"dm250067\", \"project\": \"test\"}"
      ]
     },
     "execution_count": 20,
     "metadata": {},
     "output_type": "execute_result"
    }
   ],
   "source": [
    "sto.list_models()"
   ]
  },
  {
   "cell_type": "markdown",
   "id": "20649235-85ea-43e3-8ce8-76b6420b1a04",
   "metadata": {},
   "source": [
    "### 5.3 - List of available mappers (mapping between partitions and models or trained models)"
   ]
  },
  {
   "cell_type": "code",
   "execution_count": 21,
   "id": "cea5a615-5bbc-4ed2-81c9-f7cc3e96f258",
   "metadata": {},
   "outputs": [
    {
     "data": {
      "text/html": [
       "<style type=\"text/css\">\n",
       "\ttable {border:ridge 5px;}\n",
       "\ttable td {border:inset 1px;}\n",
       "\ttable tr#HeaderRow {background-color:grey; color:white;}</style>\n",
       "<html><table>\n",
       "\t<tr id=\"HeaderRow\">\n",
       "\t\t<th>ID</th>\n",
       "\t\t<th>MAPPER_TYPE</th>\n",
       "\t\t<th>TABLE_NAME</th>\n",
       "\t\t<th>CODE_REPOSITORY</th>\n",
       "\t\t<th>MODEL_REPOSITORY</th>\n",
       "\t\t<th>TRAINED_MODEL_REPOSITORY</th>\n",
       "\t\t<th>FEATURE_REPOSITORY</th>\n",
       "\t\t<th>SCORES_REPOSITORY</th>\n",
       "\t\t<th>DATASET_OBJECT</th>\n",
       "\t\t<th>COL_ID_ROW</th>\n",
       "\t\t<th>COL_ID_PARTITION</th>\n",
       "\t\t<th>COL_FOLD</th>\n",
       "\t\t<th>ON_CLAUSE_VIEW</th>\n",
       "\t\t<th>STO_VIEW</th>\n",
       "\t\t<th>METADATA</th>\n",
       "\t</tr>\n",
       "\t<tr>\n",
       "\t\t<td>05842693-ddf1-4589-8d7b-a7ea4e952b95</td>\n",
       "\t\t<td>training</td>\n",
       "\t\t<td>TDS_MAPPER_05842693_ddf1_4589_8d7b_a7ea4e952b95</td>\n",
       "\t\t<td>TDS_CODE_REPOSITORY</td>\n",
       "\t\t<td>TDS_MODEL_REPOSITORY</td>\n",
       "\t\t<td>TDS_TRAINED_MODELS_05842693_ddf1_4589_8d7b_a7ea4e952b95</td>\n",
       "\t\t<td>None</td>\n",
       "\t\t<td>None</td>\n",
       "\t\t<td>\"demo_user\".\"dataset_00\"</td>\n",
       "\t\t<td>ID</td>\n",
       "\t\t<td>Partition_ID</td>\n",
       "\t\t<td>FOLD</td>\n",
       "\t\t<td>TDS_ON_CLAUSE_TRAINING_05842693_ddf1_4589_8d7b_a7ea4e952b95</td>\n",
       "\t\t<td>TDS_STO_TRAINING_05842693_ddf1_4589_8d7b_a7ea4e952b95</td>\n",
       "\t\t<td>{\"user\": \"dm250067\"}</td>\n",
       "\t</tr>\n",
       "\t<tr>\n",
       "\t\t<td>a93604aa-2204-45a6-b4f5-1edab0414da1</td>\n",
       "\t\t<td>scoring</td>\n",
       "\t\t<td>TDS_MAPPER_a93604aa_2204_45a6_b4f5_1edab0414da1</td>\n",
       "\t\t<td>TDS_CODE_REPOSITORY</td>\n",
       "\t\t<td>TDS_MODEL_REPOSITORY</td>\n",
       "\t\t<td>TDS_TRAINED_MODELS_05842693_ddf1_4589_8d7b_a7ea4e952b95</td>\n",
       "\t\t<td>None</td>\n",
       "\t\t<td>TDS_SCORES_a93604aa_2204_45a6_b4f5_1edab0414da1</td>\n",
       "\t\t<td>\"demo_user\".\"dataset_00\"</td>\n",
       "\t\t<td>ID</td>\n",
       "\t\t<td>Partition_ID</td>\n",
       "\t\t<td>FOLD</td>\n",
       "\t\t<td>TDS_ON_CLAUSE_SCORING_a93604aa_2204_45a6_b4f5_1edab0414da1</td>\n",
       "\t\t<td>TDS_STO_SCORING_a93604aa_2204_45a6_b4f5_1edab0414da1</td>\n",
       "\t\t<td>{\"user\": \"dm250067\"}</td>\n",
       "\t</tr>\n",
       "</table></html>"
      ],
      "text/plain": [
       "                                     ID MAPPER_TYPE                                       TABLE_NAME      CODE_REPOSITORY      MODEL_REPOSITORY                                 TRAINED_MODEL_REPOSITORY FEATURE_REPOSITORY                                SCORES_REPOSITORY            DATASET_OBJECT COL_ID_ROW COL_ID_PARTITION COL_FOLD                                               ON_CLAUSE_VIEW                                               STO_VIEW              METADATA\n",
       "0  05842693-ddf1-4589-8d7b-a7ea4e952b95    training  TDS_MAPPER_05842693_ddf1_4589_8d7b_a7ea4e952b95  TDS_CODE_REPOSITORY  TDS_MODEL_REPOSITORY  TDS_TRAINED_MODELS_05842693_ddf1_4589_8d7b_a7ea4e952b95               None                                             None  \"demo_user\".\"dataset_00\"         ID     Partition_ID     FOLD  TDS_ON_CLAUSE_TRAINING_05842693_ddf1_4589_8d7b_a7ea4e952b95  TDS_STO_TRAINING_05842693_ddf1_4589_8d7b_a7ea4e952b95  {\"user\": \"dm250067\"}\n",
       "1  a93604aa-2204-45a6-b4f5-1edab0414da1     scoring  TDS_MAPPER_a93604aa_2204_45a6_b4f5_1edab0414da1  TDS_CODE_REPOSITORY  TDS_MODEL_REPOSITORY  TDS_TRAINED_MODELS_05842693_ddf1_4589_8d7b_a7ea4e952b95               None  TDS_SCORES_a93604aa_2204_45a6_b4f5_1edab0414da1  \"demo_user\".\"dataset_00\"         ID     Partition_ID     FOLD   TDS_ON_CLAUSE_SCORING_a93604aa_2204_45a6_b4f5_1edab0414da1   TDS_STO_SCORING_a93604aa_2204_45a6_b4f5_1edab0414da1  {\"user\": \"dm250067\"}"
      ]
     },
     "execution_count": 21,
     "metadata": {},
     "output_type": "execute_result"
    }
   ],
   "source": [
    "sto.list_mappers()"
   ]
  },
  {
   "cell_type": "markdown",
   "id": "996957a6-d287-4ef2-8e70-8f8375ccb430",
   "metadata": {},
   "source": [
    "### 5.4 - List of Hypermodels ( models and mappers mapping)"
   ]
  },
  {
   "cell_type": "code",
   "execution_count": 22,
   "id": "b7d55a58-04ce-4202-9762-e8a388140473",
   "metadata": {},
   "outputs": [
    {
     "data": {
      "text/html": [
       "<style type=\"text/css\">\n",
       "\ttable {border:ridge 5px;}\n",
       "\ttable td {border:inset 1px;}\n",
       "\ttable tr#HeaderRow {background-color:grey; color:white;}</style>\n",
       "<html><table>\n",
       "\t<tr id=\"HeaderRow\">\n",
       "\t\t<th>CREATION_DATE</th>\n",
       "\t\t<th>ID</th>\n",
       "\t\t<th>ID_MODEL</th>\n",
       "\t\t<th>ID_MAPPER_TRAINING</th>\n",
       "\t\t<th>ID_MAPPER_SCORING</th>\n",
       "\t\t<th>METADATA</th>\n",
       "\t</tr>\n",
       "\t<tr>\n",
       "\t\t<td>2025-01-08 05:26:48.160000-05:</td>\n",
       "\t\t<td>654b028b-741e-4a46-8e5d-d966ac8a07b1</td>\n",
       "\t\t<td>1feb2a86-622c-4c56-8e94-4c367d1a232e</td>\n",
       "\t\t<td>05842693-ddf1-4589-8d7b-a7ea4e952b95</td>\n",
       "\t\t<td>a93604aa-2204-45a6-b4f5-1edab0414da1</td>\n",
       "\t\t<td>{\"user\": \"dm250067\", \"project\": \"test\"}</td>\n",
       "\t</tr>\n",
       "</table></html>"
      ],
      "text/plain": [
       "                                                       CREATION_DATE                              ID_MODEL                    ID_MAPPER_TRAINING                     ID_MAPPER_SCORING                                 METADATA\n",
       "ID                                                                                                                                                                                                                             \n",
       "654b028b-741e-4a46-8e5d-d966ac8a07b1  2025-01-08 05:26:48.160000-05:  1feb2a86-622c-4c56-8e94-4c367d1a232e  05842693-ddf1-4589-8d7b-a7ea4e952b95  a93604aa-2204-45a6-b4f5-1edab0414da1  {\"user\": \"dm250067\", \"project\": \"test\"}"
      ]
     },
     "execution_count": 22,
     "metadata": {},
     "output_type": "execute_result"
    }
   ],
   "source": [
    "sto.list_hyper_models()"
   ]
  },
  {
   "cell_type": "code",
   "execution_count": 23,
   "id": "fe3d02f4-b6f7-4f83-afde-2a6fbac8f4a6",
   "metadata": {},
   "outputs": [
    {
     "data": {
      "text/plain": [
       "'05842693-ddf1-4589-8d7b-a7ea4e952b95'"
      ]
     },
     "execution_count": 23,
     "metadata": {},
     "output_type": "execute_result"
    }
   ],
   "source": [
    "ID_MAPPER_TRAINING = sto.list_hyper_models().to_pandas().reset_index().sort_values('CREATION_DATE', ascending=False).ID_MAPPER_TRAINING.values[0]\n",
    "ID_MAPPER_TRAINING"
   ]
  },
  {
   "cell_type": "code",
   "execution_count": 24,
   "id": "edb38da5-ec22-424d-a2a4-10c78e10efd8",
   "metadata": {},
   "outputs": [
    {
     "data": {
      "text/html": [
       "<style type=\"text/css\">\n",
       "\ttable {border:ridge 5px;}\n",
       "\ttable td {border:inset 1px;}\n",
       "\ttable tr#HeaderRow {background-color:grey; color:white;}</style>\n",
       "<html><table>\n",
       "\t<tr id=\"HeaderRow\">\n",
       "\t\t<th>ID_MODEL</th>\n",
       "\t\t<th>Partition_ID</th>\n",
       "\t\t<th>STATUS</th>\n",
       "\t\t<th>METADATA</th>\n",
       "\t</tr>\n",
       "\t<tr>\n",
       "\t\t<td>1feb2a86-622c-4c56-8e94-4c367d1a232e</td>\n",
       "\t\t<td>4</td>\n",
       "\t\t<td>enabled</td>\n",
       "\t\t<td>None</td>\n",
       "\t</tr>\n",
       "\t<tr>\n",
       "\t\t<td>1feb2a86-622c-4c56-8e94-4c367d1a232e</td>\n",
       "\t\t<td>6</td>\n",
       "\t\t<td>enabled</td>\n",
       "\t\t<td>None</td>\n",
       "\t</tr>\n",
       "\t<tr>\n",
       "\t\t<td>1feb2a86-622c-4c56-8e94-4c367d1a232e</td>\n",
       "\t\t<td>9</td>\n",
       "\t\t<td>enabled</td>\n",
       "\t\t<td>None</td>\n",
       "\t</tr>\n",
       "\t<tr>\n",
       "\t\t<td>1feb2a86-622c-4c56-8e94-4c367d1a232e</td>\n",
       "\t\t<td>1</td>\n",
       "\t\t<td>enabled</td>\n",
       "\t\t<td>None</td>\n",
       "\t</tr>\n",
       "</table></html>"
      ],
      "text/plain": [
       "                               ID_MODEL  Partition_ID   STATUS METADATA\n",
       "0  1feb2a86-622c-4c56-8e94-4c367d1a232e             4  enabled     None\n",
       "1  1feb2a86-622c-4c56-8e94-4c367d1a232e             6  enabled     None\n",
       "2  1feb2a86-622c-4c56-8e94-4c367d1a232e             9  enabled     None\n",
       "3  1feb2a86-622c-4c56-8e94-4c367d1a232e             1  enabled     None"
      ]
     },
     "execution_count": 24,
     "metadata": {},
     "output_type": "execute_result"
    }
   ],
   "source": [
    "tdml.DataFrame.from_query(f'CURRENT VALIDTIME SEL * FROM TDS_MAPPER_{ID_MAPPER_TRAINING.replace(\"-\",\"_\")}')"
   ]
  },
  {
   "cell_type": "code",
   "execution_count": 25,
   "id": "ab7f0bfb-1426-4e91-8a7e-a92fbd6b1631",
   "metadata": {},
   "outputs": [
    {
     "data": {
      "text/plain": [
       "'a93604aa-2204-45a6-b4f5-1edab0414da1'"
      ]
     },
     "execution_count": 25,
     "metadata": {},
     "output_type": "execute_result"
    }
   ],
   "source": [
    "ID_MAPPER_SCORING = sto.list_hyper_models().to_pandas().reset_index().sort_values('CREATION_DATE', ascending=False).ID_MAPPER_SCORING.values[0]\n",
    "ID_MAPPER_SCORING"
   ]
  },
  {
   "cell_type": "code",
   "execution_count": 26,
   "id": "4251de4e-2a2a-4117-81e1-24b47098ac88",
   "metadata": {},
   "outputs": [
    {
     "data": {
      "text/html": [
       "<style type=\"text/css\">\n",
       "\ttable {border:ridge 5px;}\n",
       "\ttable td {border:inset 1px;}\n",
       "\ttable tr#HeaderRow {background-color:grey; color:white;}</style>\n",
       "<html><table>\n",
       "\t<tr id=\"HeaderRow\">\n",
       "\t\t<th>ID_TRAINED_MODEL</th>\n",
       "\t\t<th>Partition_ID</th>\n",
       "\t\t<th>ID</th>\n",
       "\t\t<th>STATUS</th>\n",
       "\t\t<th>METADATA</th>\n",
       "\t</tr>\n",
       "\t<tr>\n",
       "\t\t<td>a67f5aa1-95c3-4447-a430-2164389f26e6</td>\n",
       "\t\t<td>6</td>\n",
       "\t\t<td>None</td>\n",
       "\t\t<td>enabled</td>\n",
       "\t\t<td>None</td>\n",
       "\t</tr>\n",
       "\t<tr>\n",
       "\t\t<td>d52d31c3-861f-4531-9962-a454537ce4b8</td>\n",
       "\t\t<td>1</td>\n",
       "\t\t<td>None</td>\n",
       "\t\t<td>enabled</td>\n",
       "\t\t<td>None</td>\n",
       "\t</tr>\n",
       "\t<tr>\n",
       "\t\t<td>fc56bacc-46fc-4d5d-9e01-185507aff61c</td>\n",
       "\t\t<td>4</td>\n",
       "\t\t<td>None</td>\n",
       "\t\t<td>enabled</td>\n",
       "\t\t<td>None</td>\n",
       "\t</tr>\n",
       "\t<tr>\n",
       "\t\t<td>57e118d6-b9b8-4d65-97a5-58c2ef185a94</td>\n",
       "\t\t<td>9</td>\n",
       "\t\t<td>None</td>\n",
       "\t\t<td>enabled</td>\n",
       "\t\t<td>None</td>\n",
       "\t</tr>\n",
       "</table></html>"
      ],
      "text/plain": [
       "                       ID_TRAINED_MODEL  Partition_ID    ID   STATUS METADATA\n",
       "0  a67f5aa1-95c3-4447-a430-2164389f26e6             6  None  enabled     None\n",
       "1  d52d31c3-861f-4531-9962-a454537ce4b8             1  None  enabled     None\n",
       "2  fc56bacc-46fc-4d5d-9e01-185507aff61c             4  None  enabled     None\n",
       "3  57e118d6-b9b8-4d65-97a5-58c2ef185a94             9  None  enabled     None"
      ]
     },
     "execution_count": 26,
     "metadata": {},
     "output_type": "execute_result"
    }
   ],
   "source": [
    "tdml.DataFrame.from_query(f'CURRENT VALIDTIME SEL * FROM TDS_MAPPER_{ID_MAPPER_SCORING.replace(\"-\",\"_\")}')"
   ]
  },
  {
   "cell_type": "code",
   "execution_count": 27,
   "id": "d50f94d2-a4a9-4ccb-aeb7-cf79a80d4cd7",
   "metadata": {},
   "outputs": [
    {
     "data": {
      "text/plain": [
       "True"
      ]
     },
     "execution_count": 27,
     "metadata": {},
     "output_type": "execute_result"
    }
   ],
   "source": [
    "tdml.remove_context()"
   ]
  }
 ],
 "metadata": {
  "kernelspec": {
   "display_name": "vantage_python",
   "language": "python",
   "name": "python3"
  },
  "language_info": {
   "codemirror_mode": {
    "name": "ipython",
    "version": 3
   },
   "file_extension": ".py",
   "mimetype": "text/x-python",
   "name": "python",
   "nbconvert_exporter": "python",
   "pygments_lexer": "ipython3",
   "version": "3.12.3"
  }
 },
 "nbformat": 4,
 "nbformat_minor": 5
}
