{
 "cells": [
  {
   "cell_type": "markdown",
   "id": "cbbb6648-bedc-4206-95fe-2a02c8181243",
   "metadata": {},
   "source": [
    "# HyperSegmentedModel with TDStone2"
   ]
  },
  {
   "cell_type": "markdown",
   "id": "2de9fe3f-8fba-4c73-af5d-dad51d10e7dd",
   "metadata": {},
   "source": [
    "## 1 - Connect to Vantage"
   ]
  },
  {
   "cell_type": "code",
   "execution_count": 1,
   "id": "8fe6018b-024d-499e-83d0-d7a41236bf0a",
   "metadata": {},
   "outputs": [
    {
     "data": {
      "text/plain": [
       "'20.00.00.03'"
      ]
     },
     "execution_count": 1,
     "metadata": {},
     "output_type": "execute_result"
    }
   ],
   "source": [
    "import teradataml as tdml\n",
    "import json\n",
    "tdml.__version__"
   ]
  },
  {
   "cell_type": "code",
   "execution_count": 2,
   "id": "8e0ac5af-adad-4cb5-9626-f7b4c76c4a1d",
   "metadata": {},
   "outputs": [
    {
     "data": {
      "text/plain": [
       "'0.1.5.3'"
      ]
     },
     "execution_count": 2,
     "metadata": {},
     "output_type": "execute_result"
    }
   ],
   "source": [
    "import tdstone2\n",
    "tdstone2.__version__"
   ]
  },
  {
   "cell_type": "code",
   "execution_count": 3,
   "id": "626a49fe-7b5c-4406-a9eb-e273926fede3",
   "metadata": {},
   "outputs": [
    {
     "data": {
      "text/plain": [
       "Engine(teradatasql://:***@sto-xo0saiv0ot1sxmj2.env.clearscape.teradata.com?DATABASE=demo_user&user=DEMO_USER)"
      ]
     },
     "execution_count": 3,
     "metadata": {},
     "output_type": "execute_result"
    }
   ],
   "source": [
    "with open('../connections/me.json','r') as f:\n",
    "    Param_ = json.load(f)\n",
    "\n",
    "with open('../connections/csae2.json','r') as f:\n",
    "    Param = json.load(f)\n",
    "\n",
    "with open('../connections/csae.json','r') as f:\n",
    "    Param_ = json.load(f)\n",
    "\n",
    "with open('../connections/vantage24.json','r') as f:\n",
    "    Param_ = json.load(f)\n",
    "\n",
    "tdml.create_context(**Param)"
   ]
  },
  {
   "cell_type": "markdown",
   "id": "71c35811-44c1-4ba5-aafe-76481a06316a",
   "metadata": {},
   "source": [
    "## 2 - Setup of the sto framework"
   ]
  },
  {
   "cell_type": "code",
   "execution_count": 4,
   "id": "da1635fc-acca-469c-9719-53a2c3c49038",
   "metadata": {},
   "outputs": [
    {
     "name": "stderr",
     "output_type": "stream",
     "text": [
      "c:\\Users\\dm250067\\AppData\\Local\\anaconda3\\envs\\vantage_python\\Lib\\site-packages\\teradataml\\dbutils\\dbutils.py:333: UserWarning: pandas only supports SQLAlchemy connectable (engine/connection) or database string URI or sqlite3 DBAPI2 connection. Other DBAPI2 objects are not tested. Please consider using SQLAlchemy.\n",
      "  pddf = pd.read_sql(query, tdmlctx.td_connection.connection)\n",
      "c:\\Users\\dm250067\\AppData\\Local\\anaconda3\\envs\\vantage_python\\Lib\\site-packages\\teradataml\\dbutils\\dbutils.py:339: UserWarning: pandas only supports SQLAlchemy connectable (engine/connection) or database string URI or sqlite3 DBAPI2 connection. Other DBAPI2 objects are not tested. Please consider using SQLAlchemy.\n",
      "  vtdf = pd.read_sql(vtquery, tdmlctx.td_connection.connection)\n",
      "Processing tables/views: 100%|██████████| 26/26 [00:05<00:00,  4.59table/view/s, Dropped TABLE demo_user.TDS_MAPPER_2cf3e19f_a506_482e_b5e0_46f5d91f069b]                      \n"
     ]
    }
   ],
   "source": [
    "from tdstone2.utils import cleanup\n",
    "                   \n",
    "cleanup(schema=Param['database'])\n",
    "         "
   ]
  },
  {
   "cell_type": "code",
   "execution_count": 5,
   "id": "8e6ad143-ae7f-4c4f-ae4d-1c1657c35e73",
   "metadata": {},
   "outputs": [
    {
     "name": "stderr",
     "output_type": "stream",
     "text": [
      "2025-01-08 11:25:55 - INFO - Starting setup: Creating repositories.\n",
      "2025-01-08 11:25:55 - INFO - Code repository created.\n",
      "2025-01-08 11:25:55 - INFO - Model repository created.\n",
      "2025-01-08 11:25:56 - INFO - Mapper repository created.\n",
      "2025-01-08 11:25:56 - INFO - Hypermodel repository created.\n",
      "2025-01-08 11:25:56 - INFO - Feature engineering process repository created.\n",
      "2025-01-08 11:25:56 - INFO - Environment detected as Vantage Enterprise. Starting file installation with PushFile.\n",
      "Installing tds_vector_embedding_lake: 100%|██████████| 9/9 [00:00<00:00, 1368.40it/s]\n",
      "2025-01-08 11:26:01 - INFO - Setup complete.\n"
     ]
    }
   ],
   "source": [
    "from tdstone2.tdstone import TDStone\n",
    "sto = TDStone(schema_name = Param['database'], SEARCHUIFDBPATH = Param['user'])\n",
    "sto.setup()"
   ]
  },
  {
   "cell_type": "code",
   "execution_count": 6,
   "id": "e18ac340-3ae1-4980-846a-93195dec0bf7",
   "metadata": {},
   "outputs": [
    {
     "name": "stderr",
     "output_type": "stream",
     "text": [
      "Installing tds_vector_embedding_lake: 100%|██████████| 9/9 [00:00<00:00, 2417.47it/s]\n"
     ]
    }
   ],
   "source": [
    "sto.PushFile()"
   ]
  },
  {
   "cell_type": "markdown",
   "id": "64f97317",
   "metadata": {},
   "source": [
    "tdml.execute_sql('SET SESSION SEARCHUIFDBPATH = \"demo_user\"')\n",
    "query = f\"\"\"\n",
    "    SELECT TOP 100\n",
    "        EXECUTION_TIME AS TD_TIMECODE,\n",
    "        'TDS_STO_SCORING_27739a86_2d82_47f0_8126_e48bcb94012b' AS ID_PROCESS,\n",
    "        Partition_ID,\n",
    "        ID,\n",
    "        FEATURE_NAME,\n",
    "        FEATURE_VALUE,\n",
    "        FEATURE_TYPE,\n",
    "        STATUS,\n",
    "        ID_TRAINED_MODEL\n",
    "        FROM SCRIPT(\n",
    "        ON demo_user.TDS_ON_CLAUSE_SCORING_90770514_d7b3_4aa3_abee_0af3a92c5b21\n",
    "        --ON DEMO_USER.TDS_VOLATILE_ON_CLAUSE_SCORING_27739a86_2d82_47f0_8126_e48bcb94012b\n",
    "        PARTITION BY Partition_ID --,  STO_MODEL_ID ,FOLD\n",
    "        \n",
    "        ORDER BY ID\n",
    "        SCRIPT_COMMAND(\n",
    "        'tdpython3 ./demo_user/tds_scoring.py  | awk -F\"\t\" \"NF == 10\"'\n",
    "        )\n",
    "        /*\n",
    "        SCRIPT_COMMAND(\n",
    "        'tdpython3 ./demo_user/tds_scoring.py'\n",
    "        )\n",
    "        */\n",
    "        RETURNS(\n",
    "        'Partition_ID INTEGER', \n",
    "        'ID VARCHAR(2000)'\n",
    "        ,\t'FEATURE_NAME     VARCHAR(2000)'\n",
    "        ,\t'FEATURE_VALUE    VARCHAR(2000)'\n",
    "        ,\t'FEATURE_TYPE     VARCHAR(20000)'\n",
    "        ,\t'STATUS           VARCHAR(20000)'\n",
    "        ,   'ID_MODEL         VARCHAR(36)'\n",
    "        ,\t'MODEL_TYPE       VARCHAR(255)'\n",
    "        ,\t'ID_TRAINED_MODEL VARCHAR(36)'\n",
    "        ,   'EXECUTION_TIME   TIMESTAMP(6) WITH TIME ZONE'\n",
    "        )\n",
    "        CHARSET('LATIN')\n",
    "        ) AS d;\n",
    "\"\"\"\n",
    "tdml.execute_sql(query).fetchall()"
   ]
  },
  {
   "cell_type": "code",
   "execution_count": 7,
   "id": "036eca78-069a-4bca-91cc-5ae2ea3f1abf",
   "metadata": {},
   "outputs": [
    {
     "data": {
      "text/plain": [
       "True"
      ]
     },
     "execution_count": 7,
     "metadata": {},
     "output_type": "execute_result"
    }
   ],
   "source": [
    "tdml.remove_context()"
   ]
  }
 ],
 "metadata": {
  "kernelspec": {
   "display_name": "vantage_python",
   "language": "python",
   "name": "python3"
  },
  "language_info": {
   "codemirror_mode": {
    "name": "ipython",
    "version": 3
   },
   "file_extension": ".py",
   "mimetype": "text/x-python",
   "name": "python",
   "nbconvert_exporter": "python",
   "pygments_lexer": "ipython3",
   "version": "3.12.3"
  }
 },
 "nbformat": 4,
 "nbformat_minor": 5
}
