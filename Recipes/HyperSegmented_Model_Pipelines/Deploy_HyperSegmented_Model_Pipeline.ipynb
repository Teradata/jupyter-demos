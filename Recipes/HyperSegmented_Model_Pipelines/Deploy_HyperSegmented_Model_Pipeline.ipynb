{
 "cells": [
  {
   "cell_type": "markdown",
   "id": "b0225172-34f7-4926-a4a7-f1edcd8fe17c",
   "metadata": {},
   "source": [
    "<header>\n",
    "   <p  style='font-size:36px;font-family:Arial; color:#F0F0F0; background-color: #00233c; padding-left: 20pt; padding-top: 20pt;padding-bottom: 10pt; padding-right: 20pt;'>\n",
    "       Deploy a Hyper-Segmented Model Scikit Learn Pipeline in Vantage with TDStone2\n",
    "  <br>\n",
    "       <img id=\"teradata-logo\" src=\"https://storage.googleapis.com/clearscape_analytics_demo_data/DEMO_Logo/teradata.svg\" alt=\"Teradata\" style=\"width: 125px; height: auto; margin-top: 20pt;\">\n",
    "    </p>\n",
    "</header>"
   ]
  },
  {
   "cell_type": "markdown",
   "id": "a2b0ba66-fe89-4e35-a266-4bc1d3f6e0e8",
   "metadata": {},
   "source": [
    "<p style = 'font-size:16px;font-family:Arial'>\n",
    "This notebook demonstrates how to deploy a hyper-segmented model created using the Python Scikit-Learn module, and how to load and run it in Vantage using the TDStone2 module.</p>"
   ]
  },
  {
   "cell_type": "markdown",
   "id": "3e766216-cfcf-4336-978e-42fb725c72e5",
   "metadata": {},
   "source": [
    "<hr style=\"height:2px;border:none;\">\n",
    "<b style = 'font-size:20px;font-family:Arial'>1. Connect to Vantage</b>\n",
    "<p style = 'font-size:16px;font-family:Arial'>Here, we import the required libraries, set environment variables and environment paths (if required).</p>"
   ]
  },
  {
   "cell_type": "code",
   "execution_count": null,
   "id": "b74ad71d-ee01-43ca-84b0-98263f481773",
   "metadata": {},
   "outputs": [],
   "source": [
    "%%capture\n",
    "!pip install tdstone2 --upgrade"
   ]
  },
  {
   "cell_type": "markdown",
   "id": "44b9a060-173b-4701-8922-95311a7a2f7e",
   "metadata": {},
   "source": [
    "<div class=\"alert alert-block alert-info\">\n",
    "<p style = 'font-size:16px;font-family:Arial'><b>Note: </b><i>The kernel must be restarted to bring the installed libraries into memory. The simplest way to restart the Kernel is by typing zero zero: <b> 0 0</b></i></p>\n",
    "</div>"
   ]
  },
  {
   "cell_type": "code",
   "execution_count": null,
   "id": "c9b1719d-d214-4053-a6f1-e4257b071f38",
   "metadata": {},
   "outputs": [],
   "source": [
    "import warnings\n",
    "warnings.filterwarnings('ignore')\n",
    "\n",
    "from teradataml import (\n",
    "    create_context,\n",
    "    execute_sql, \n",
    "    copy_to_sql, \n",
    "    DataFrame,\n",
    "    in_schema,\n",
    "    remove_context,\n",
    "    db_drop_table\n",
    "    )\n",
    "import tdstone2\n",
    "\n",
    "\n",
    "# Modify the following to match the specific client environment settings\n",
    "display.max_rows = 5"
   ]
  },
  {
   "cell_type": "markdown",
   "id": "c40d357a-00c5-41dc-979c-e631a491557f",
   "metadata": {},
   "source": [
    "<p style = 'font-size:16px;font-family:Arial'>You will be prompted to provide the password. Enter your password, press the Enter key, and then use the down arrow to go to the next cell.</p>"
   ]
  },
  {
   "cell_type": "code",
   "execution_count": null,
   "id": "79dc9356-b4d6-4f47-a8f2-1afd07dea3ed",
   "metadata": {},
   "outputs": [],
   "source": [
    "%run -i ../../UseCases/startup.ipynb\n",
    "eng = create_context(host = 'host.docker.internal', username='demo_user', password = password)\n",
    "print(eng)"
   ]
  },
  {
   "cell_type": "markdown",
   "id": "f8d59651-593b-4682-a380-6c1de09bca27",
   "metadata": {},
   "source": [
    "<p style = 'font-size:16px;font-family:Arial'>Setup for execution of notebook. Begin running steps with Shift + Enter keys.</p>"
   ]
  },
  {
   "cell_type": "code",
   "execution_count": null,
   "id": "de58e18a-8f7a-434c-a3d0-5009435b06bd",
   "metadata": {},
   "outputs": [],
   "source": [
    "%%capture\n",
    "execute_sql('''SET query_band='DEMO=PP_Deploy_HyperSegmented_Model_Pipeline_Python.ipynb;' \n",
    "               UPDATE FOR SESSION; ''')"
   ]
  },
  {
   "cell_type": "markdown",
   "id": "06d63f58-2556-46a0-bc9c-be3817606dd1",
   "metadata": {},
   "source": [
    "<hr style=\"height:2px;border:none;\">\n",
    "<b style = 'font-size:20px;font-family:Arial'>2. Getting Data for This Demo</b></p>"
   ]
  },
  {
   "cell_type": "markdown",
   "id": "f8955154-675a-45c2-bd16-49ccb0c16ca7",
   "metadata": {},
   "source": [
    "<p style = 'font-size:16px;font-family:Arial'>We will generate the required data. The data we are creating is categorized by typical software issues and some questions that are typically asked. To simplify the process we will insert the data into a python dictionary, load it into pandas dataframe, and than copy the dataframeinto a table in Vantage.</p> "
   ]
  },
  {
   "cell_type": "code",
   "execution_count": null,
   "id": "afb5e7da-ab4d-417a-aaa8-de624f3201bd",
   "metadata": {},
   "outputs": [],
   "source": [
    "nb_amps = 1 + execute_sql('SEL hashamp()').fetchall()[0][0]\n",
    "nb_amps"
   ]
  },
  {
   "cell_type": "code",
   "execution_count": null,
   "id": "bbd96e5a-b4cf-472b-8b6a-67c556c82bb8",
   "metadata": {},
   "outputs": [],
   "source": [
    "from tdstone2.dataset_generation import GenerateDataSet,GenerateEquallyDistributedDataSet"
   ]
  },
  {
   "cell_type": "code",
   "execution_count": null,
   "id": "e5ab6b07-3b21-474e-9cfe-a80ae0865de3",
   "metadata": {},
   "outputs": [],
   "source": [
    "query, features = GenerateEquallyDistributedDataSet(n_partitions=nb_amps,n_rows=10000)"
   ]
  },
  {
   "cell_type": "code",
   "execution_count": null,
   "id": "22e5461e-5e95-4aec-9796-e94efbb66a09",
   "metadata": {},
   "outputs": [],
   "source": [
    "DataFrame.from_query(query).to_sql(\n",
    "    schema_name= 'demo_user',\n",
    "    table_name='dataset_00',\n",
    "    if_exists='replace',\n",
    "    primary_index='Partition_ID')"
   ]
  },
  {
   "cell_type": "markdown",
   "id": "070a48e9-8e5a-4ea2-be86-51e2abb0945d",
   "metadata": {},
   "source": [
    "<hr style=\"height:2px;border:none;\">\n",
    "<b style = 'font-size:20px;font-family:Arial'>3. Installing the files in Vantage</b></p>"
   ]
  },
  {
   "cell_type": "markdown",
   "id": "06c3c457-1e5a-4342-bf74-2447fc125172",
   "metadata": {},
   "source": [
    "<p style = 'font-size:16px;font-family:Arial'>We will Install tdstone2 framework. First step will be to clean up the schema and than setup the framework for sto and than install the required files in Vantage.</p> "
   ]
  },
  {
   "cell_type": "code",
   "execution_count": null,
   "id": "dfc0cd96-c1d3-467c-995d-dbd8672b6575",
   "metadata": {},
   "outputs": [],
   "source": [
    "from tdstone2.utils import cleanup\n",
    "cleanup(schema='demo_user')"
   ]
  },
  {
   "cell_type": "markdown",
   "id": "8b9b2f5c-e65c-474e-af13-b4ac735977d6",
   "metadata": {},
   "source": [
    "<p style = 'font-size:16px;font-family:Arial'>We will use the tdstone2 package to install the generic python files that enables the ML training, scoring, feature engineering and vector embedding computations. These files are installed once, and enable user-friendly interactions with the platform.</p> "
   ]
  },
  {
   "cell_type": "code",
   "execution_count": null,
   "id": "c85bd4fe-80d7-4c00-9597-5a1dde6c2fab",
   "metadata": {},
   "outputs": [],
   "source": [
    "from tdstone2.tdstone import TDStone\n",
    "sto = TDStone(schema_name = 'demo_user', SEARCHUIFDBPATH = 'demo_user')\n",
    "sto.setup()"
   ]
  },
  {
   "cell_type": "markdown",
   "id": "19396790-ceaa-481c-894e-00e6f62d8b92",
   "metadata": {},
   "source": [
    "<p style = 'font-size:16px;font-family:Arial'>We will install the necessary libraries into the sto environment of Vantage. PushFile installs the py files.</p> "
   ]
  },
  {
   "cell_type": "code",
   "execution_count": null,
   "id": "45d490a9-e934-47b3-94e6-29f9958c36d7",
   "metadata": {},
   "outputs": [],
   "source": [
    "sto.PushFile()"
   ]
  },
  {
   "cell_type": "markdown",
   "id": "b24a7f9c-c9a2-4cfa-8039-8aea500b97cd",
   "metadata": {},
   "source": [
    "<hr style=\"height:2px;border:none;\">\n",
    "<p style = 'font-size:20px;font-family:Arial'><b>4. Hyper Model Dataset</b></p>\n",
    "<p style = 'font-size:16px;font-family:Arial'> Let's have a look at the dataset</p>"
   ]
  },
  {
   "cell_type": "code",
   "execution_count": null,
   "id": "cb52a782-fa57-4afa-97cb-4d0d3941fda9",
   "metadata": {},
   "outputs": [],
   "source": [
    "dataset = DataFrame(in_schema('demo_user','dataset_00'))\n",
    "dataset"
   ]
  },
  {
   "cell_type": "code",
   "execution_count": null,
   "id": "81eb701e-09c8-4ce1-9a6c-5550a78ed67b",
   "metadata": {},
   "outputs": [],
   "source": [
    "dataset.shape"
   ]
  },
  {
   "cell_type": "code",
   "execution_count": null,
   "id": "8f2a2d8c-2839-4be5-a841-4f093afedabb",
   "metadata": {},
   "outputs": [],
   "source": [
    "summary = dataset[['Partition_ID','FOLD','ID']].groupby(['Partition_ID','FOLD']).count()\n",
    "summary.sort(['Partition_ID','FOLD'])"
   ]
  },
  {
   "cell_type": "code",
   "execution_count": null,
   "id": "07d0147e-af56-4400-8814-70c68efd8f90",
   "metadata": {},
   "outputs": [],
   "source": [
    "summary.shape"
   ]
  },
  {
   "cell_type": "markdown",
   "id": "896ca2c5-cef1-4d89-b321-7e29a28bb05b",
   "metadata": {},
   "source": [
    "<hr style=\"height:2px;border:none;\">\n",
    "<b style = 'font-size:20px;font-family:Arial'>4. Hyper-Segmented Model Deployment</b>"
   ]
  },
  {
   "cell_type": "markdown",
   "id": "8ca6e4a3-cb88-46ce-953a-b907d97b0d09",
   "metadata": {},
   "source": [
    "<p style = 'font-size:16px;font-family:Arial'>In this section we will see how we can create multiple pipelines and deploy and run them. We have created four pipelines in this demo.</p>"
   ]
  },
  {
   "cell_type": "markdown",
   "id": "c17a2135-b2a6-4d67-af95-c30b59ecc45f",
   "metadata": {},
   "source": [
    "<hr style=\"height:1px;border:none;\">\n",
    "<b style = 'font-size:18px;font-family:Arial'>4.1 Classifier Pipeline</b><br>\n",
    "<b style = 'font-size:18px;font-family:Arial'>4.1.1 Engineering of the Scikit-Learn Classifier Pipeline </b>"
   ]
  },
  {
   "cell_type": "code",
   "execution_count": null,
   "id": "6f7552d2-cb2f-4538-b76e-398167697298",
   "metadata": {},
   "outputs": [],
   "source": [
    "from sklearn.preprocessing import StandardScaler\n",
    "from sklearn.ensemble import RandomForestClassifier\n",
    "# Example usage\n",
    "steps_classifier = [\n",
    "    ('scaler', StandardScaler()),\n",
    "    ('classifier', RandomForestClassifier(\n",
    "        max_depth = 5,\n",
    "        n_estimators = 95 \n",
    "    ))]"
   ]
  },
  {
   "cell_type": "markdown",
   "id": "474f18d8-08da-46c4-af28-19421d9bc750",
   "metadata": {},
   "source": [
    "<hr style=\"height:1px;border:none;\">\n",
    "<b style = 'font-size:18px;font-family:Arial'>4.1.2 Deployment of the Scikit-Learn Classifier Pipeline</b>"
   ]
  },
  {
   "cell_type": "code",
   "execution_count": null,
   "id": "9294bc91-4376-404e-b5cd-87fdd71d77a8",
   "metadata": {},
   "outputs": [],
   "source": [
    "from tdstone2.tdshypermodel import HyperModel\n",
    "from tdstone2.tdstone import TDStone\n",
    "sto = TDStone(schema_name = 'demo_user', SEARCHUIFDBPATH = 'demo_user')"
   ]
  },
  {
   "cell_type": "code",
   "execution_count": null,
   "id": "a7b196b3-3dde-4940-a4f8-af713e9c8fe0",
   "metadata": {},
   "outputs": [],
   "source": [
    "model_cl_parameters = {\n",
    "    \"target\": 'Y2',\n",
    "    \"column_categorical\": ['flag','Y2'],\n",
    "    \"column_names_X\": ['X1','X2','X3','X4','X5','X6','X7','X8','X9','flag']\n",
    "}"
   ]
  },
  {
   "cell_type": "code",
   "execution_count": null,
   "id": "7c347041-150f-43b8-834b-dfe0af6e7ada",
   "metadata": {},
   "outputs": [],
   "source": [
    "model_cl = HyperModel(tdstone            = sto,\n",
    "                   metadata           = {'project': 'test'},\n",
    "                   skl_pipeline_steps = steps_classifier,\n",
    "                   model_parameters   = model_cl_parameters,\n",
    "                   dataset            = in_schema('demo_user','dataset_00'),\n",
    "                   id_row             = 'ID',\n",
    "                   id_partition       = 'Partition_ID',\n",
    "                   id_fold            = 'FOLD',\n",
    "                   fold_training      = 'train')"
   ]
  },
  {
   "cell_type": "code",
   "execution_count": null,
   "id": "22d474e7-7b9b-4792-9af4-fb071803cd9b",
   "metadata": {},
   "outputs": [],
   "source": [
    "sto.list_hyper_models()"
   ]
  },
  {
   "cell_type": "code",
   "execution_count": null,
   "id": "2701f78c",
   "metadata": {},
   "outputs": [],
   "source": [
    "id_mapper = sto.list_hyper_models()[['CREATION_DATE','ID_MAPPER_TRAINING']].sort('CREATION_DATE',ascending=False).to_pandas()['ID_MAPPER_TRAINING'].values[0]\n",
    "id_mapper"
   ]
  },
  {
   "cell_type": "markdown",
   "id": "39e3c683-1304-4882-859b-e4f8d1806946",
   "metadata": {},
   "source": [
    "<hr style=\"height:1px;border:none;\">\n",
    "<b style = 'font-size:18px;font-family:Arial'>4.2 Regressor Pipeline</b><br>\n",
    "<b style = 'font-size:18px;font-family:Arial'>4.2.1 Engineering of the Scikit-Learn Regressor Pipeline </b>"
   ]
  },
  {
   "cell_type": "code",
   "execution_count": null,
   "id": "085c75cd-df3c-4c01-b881-923b37445b07",
   "metadata": {},
   "outputs": [],
   "source": [
    "from sklearn.preprocessing import StandardScaler\n",
    "from sklearn.ensemble import RandomForestRegressor\n",
    "# Example usage\n",
    "steps_regressor = [\n",
    "    ('scaler', StandardScaler()),\n",
    "    ('regressor', RandomForestRegressor(\n",
    "        max_depth = 5,\n",
    "        n_estimators = 95 \n",
    "    ))]"
   ]
  },
  {
   "cell_type": "markdown",
   "id": "7d5c5176-8984-44e0-8bfd-c79076aeab7a",
   "metadata": {},
   "source": [
    "<hr style=\"height:1px;border:none;\">\n",
    "<b style = 'font-size:18px;font-family:Arial'>4.2.2 Deployment of the Scikit-Learn Regressor Pipeline</b>"
   ]
  },
  {
   "cell_type": "code",
   "execution_count": null,
   "id": "5bf8fbb1-8044-48bc-9c30-2f127c1573fe",
   "metadata": {},
   "outputs": [],
   "source": [
    "model_rg_parameters = {\n",
    "    \"target\": 'Y1',\n",
    "    \"column_categorical\": ['flag'],\n",
    "    \"column_names_X\": ['X1','X2','X3','X4','X5','X6','X7','X8','X9','flag']\n",
    "}"
   ]
  },
  {
   "cell_type": "code",
   "execution_count": null,
   "id": "5e06d4ac-dfa3-48ca-8baf-c6c9ec8d7729",
   "metadata": {},
   "outputs": [],
   "source": [
    "model_rg = HyperModel(tdstone            = sto,\n",
    "                   metadata           = {'project': 'test'},\n",
    "                   skl_pipeline_steps = steps_regressor,\n",
    "                   model_parameters   = model_rg_parameters,\n",
    "                   dataset            = in_schema('demo_user','dataset_00'),\n",
    "                   id_row             = 'ID',\n",
    "                   id_partition       = 'Partition_ID',\n",
    "                   id_fold            = 'FOLD',\n",
    "                   fold_training      = 'train')"
   ]
  },
  {
   "cell_type": "code",
   "execution_count": null,
   "id": "66b5cf26-16f4-43e4-992e-98d1ca9d29b7",
   "metadata": {},
   "outputs": [],
   "source": [
    "sto.list_hyper_models()"
   ]
  },
  {
   "cell_type": "markdown",
   "id": "a1273c5a-5771-40ca-b01a-8a9b6aa45584",
   "metadata": {},
   "source": [
    "<hr style=\"height:1px;border:none;\">\n",
    "<b style = 'font-size:18px;font-family:Arial'>4.3 Linear Model Pipeline</b><br>\n",
    "<b style = 'font-size:18px;font-family:Arial'>4.3.1 Engineering of the Scikit-Learn Linear Model Pipeline </b>"
   ]
  },
  {
   "cell_type": "code",
   "execution_count": null,
   "id": "12ecad2a-506c-416e-9260-6acaf015e6de",
   "metadata": {},
   "outputs": [],
   "source": [
    "from sklearn.preprocessing import StandardScaler\n",
    "from sklearn.linear_model import LassoLarsCV\n",
    "from sklearn.pipeline import Pipeline\n",
    "\n",
    "# Setting up the pipeline for regression with LassoLarsCV\n",
    "steps_lasso_lars_cv = [\n",
    "    ('scaler', StandardScaler()),\n",
    "    ('lasso_lars_cv', LassoLarsCV(\n",
    "        cv        = 5,     # Number of cross-validation folds. Adjust this based on your dataset size and requirements.\n",
    "        max_iter  = 1000,  # Maximum number of iterations. Adjust as needed.\n",
    "    ))\n",
    "]"
   ]
  },
  {
   "cell_type": "markdown",
   "id": "4568eab8-5460-46cf-8711-b9013d6b71a8",
   "metadata": {},
   "source": [
    "<hr style=\"height:1px;border:none;\">\n",
    "<b style = 'font-size:18px;font-family:Arial'>4.3.2 Deployment of the Scikit-Learn Linear Model Pipeline</b>"
   ]
  },
  {
   "cell_type": "code",
   "execution_count": null,
   "id": "6d28d08c-54c8-4148-9e09-e7c94dc1e01e",
   "metadata": {},
   "outputs": [],
   "source": [
    "model_cv_parameters = {\n",
    "    \"target\": 'Y1',\n",
    "    \"column_categorical\": ['flag'],\n",
    "    \"column_names_X\": ['X1','X2','X3','X4','X5','X6','X7','X8','X9','flag']\n",
    "}"
   ]
  },
  {
   "cell_type": "code",
   "execution_count": null,
   "id": "f6785598-b98c-466c-ac2d-57f234c60d05",
   "metadata": {},
   "outputs": [],
   "source": [
    "model_cv = HyperModel(tdstone            = sto,\n",
    "                   metadata           = {'project': 'test'},\n",
    "                   skl_pipeline_steps = steps_lasso_lars_cv,\n",
    "                   model_parameters   = model_cv_parameters,\n",
    "                   dataset            = in_schema('demo_user','dataset_00'),\n",
    "                   id_row             = 'ID',\n",
    "                   id_partition       = 'Partition_ID',\n",
    "                   id_fold            = 'FOLD',\n",
    "                   fold_training      = 'train')"
   ]
  },
  {
   "cell_type": "code",
   "execution_count": null,
   "id": "9d6ef856-f0ec-4490-84bb-f93b2ae09f8c",
   "metadata": {},
   "outputs": [],
   "source": [
    "sto.list_hyper_models()"
   ]
  },
  {
   "cell_type": "markdown",
   "id": "a535ce4c-14e7-41a2-a820-3931331f5831",
   "metadata": {},
   "source": [
    "<hr style=\"height:1px;border:none;\">\n",
    "<b style = 'font-size:18px;font-family:Arial'>4.4 OneClassSVM Pipeline</b><br>\n",
    "<b style = 'font-size:18px;font-family:Arial'>4.4.1 Engineering of the Scikit-Learn OneClassSVM Pipeline </b>"
   ]
  },
  {
   "cell_type": "code",
   "execution_count": null,
   "id": "3f43a105-a524-4392-bf34-360a21c350a6",
   "metadata": {},
   "outputs": [],
   "source": [
    "from sklearn.preprocessing import StandardScaler\n",
    "from sklearn.svm import OneClassSVM\n",
    "from sklearn.pipeline import Pipeline\n",
    "\n",
    "# Example usage\n",
    "steps_anomaly_detection = [\n",
    "    ('scaler', StandardScaler()),\n",
    "    ('one_class_svm', OneClassSVM(\n",
    "        kernel='rbf',  # Radial Basis Function Kernel\n",
    "        nu=0.05,       # An upper bound on the fraction of training errors and a lower bound of the fraction of support vectors.\n",
    "        gamma='auto'   # Kernel coefficient for ‘rbf’, ‘poly’ and ‘sigmoid’. If ‘auto’, 1/n_features will be used.\n",
    "    ))\n",
    "]"
   ]
  },
  {
   "cell_type": "markdown",
   "id": "e5fcba68-ff06-4fcf-ab72-c5a9f507bab9",
   "metadata": {},
   "source": [
    "<hr style=\"height:1px;border:none;\">\n",
    "<b style = 'font-size:18px;font-family:Arial'>4.4.2 Deployment of the Scikit-Learn OneClassSVM Pipeline</b>"
   ]
  },
  {
   "cell_type": "code",
   "execution_count": null,
   "id": "b4fd5da9-2d9b-4e2c-a467-c8ca180abb1f",
   "metadata": {},
   "outputs": [],
   "source": [
    "model_svm_parameters = {\n",
    "    \"column_categorical\": ['flag'],\n",
    "    \"column_names_X\": ['X1','X2','X3','X4','X5','X6','X7','X8','X9','flag']\n",
    "}"
   ]
  },
  {
   "cell_type": "code",
   "execution_count": null,
   "id": "e8d3e1d5-582f-4c9d-9f6d-75baeadd9f95",
   "metadata": {},
   "outputs": [],
   "source": [
    "model_svm = HyperModel(tdstone            = sto,\n",
    "                   metadata           = {'project': 'test'},\n",
    "                   skl_pipeline_steps = steps_anomaly_detection,\n",
    "                   model_parameters   = model_svm_parameters,\n",
    "                   dataset            = in_schema('demo_user','dataset_00'),\n",
    "                   id_row             = 'ID',\n",
    "                   id_partition       = 'Partition_ID',\n",
    "                   id_fold            = 'FOLD',\n",
    "                   fold_training      = 'train',\n",
    "                   convert_to_onnx    = True\n",
    "                  )"
   ]
  },
  {
   "cell_type": "code",
   "execution_count": null,
   "id": "64627ebf-7e28-4585-bde5-4fe5bffd2922",
   "metadata": {},
   "outputs": [],
   "source": [
    "sto.list_hyper_models()"
   ]
  },
  {
   "cell_type": "markdown",
   "id": "0bf5924f-5002-4394-b44d-3c941a70df9e",
   "metadata": {},
   "source": [
    "<hr style=\"height:2px;border:none;\">\n",
    "<b style = 'font-size:20px;font-family:Arial'>5. Execution of the Deployed Hypermodels</b>"
   ]
  },
  {
   "cell_type": "markdown",
   "id": "64ef8940-430a-4469-a6a0-77024a461d13",
   "metadata": {},
   "source": [
    "<p style = 'font-size:16px;font-family:Arial'><i>* We are running the commands in this  section for a single model. The similar commands can be run for the other three models as well.</i></p>"
   ]
  },
  {
   "cell_type": "markdown",
   "id": "38ceb441-eee6-4652-a1a2-50663fd26d8f",
   "metadata": {},
   "source": [
    "<hr style=\"height:1px;border:none;\">\n",
    "<b style = 'font-size:18px;font-family:Arial'>5.1 Model Training</b>"
   ]
  },
  {
   "cell_type": "markdown",
   "id": "bbabbab2-5ee0-4144-85bf-a36ab610ceb5",
   "metadata": {},
   "source": [
    "<p style = 'font-size:16px;font-family:Arial'>Let's train the models we have deployed.</p>"
   ]
  },
  {
   "cell_type": "code",
   "execution_count": null,
   "id": "086fe28e-fdc6-44fa-ba26-82ada8c97b40",
   "metadata": {},
   "outputs": [],
   "source": [
    "#classifier model\n",
    "model_cl.train()"
   ]
  },
  {
   "cell_type": "markdown",
   "id": "5937dc8d-d9a6-489d-b33c-911a406de207",
   "metadata": {},
   "source": [
    "```python\n",
    "query = f\"SELECT * FROM {Param['database']}.{'TDS_TRAINED_MODELS_'+ID_MAPPER_TRAINING.replace('-','_')}\"\n",
    "print(query)\n",
    "tdml.DataFrame.from_query(\"query\")\n",
    "```"
   ]
  },
  {
   "cell_type": "code",
   "execution_count": null,
   "id": "8f49f1e6-ca1a-4896-bcd5-46193888ee5e",
   "metadata": {},
   "outputs": [],
   "source": [
    "model_cl.get_trained_models().groupby('TD_TIMECODE').count()"
   ]
  },
  {
   "cell_type": "markdown",
   "id": "52136232-6ab6-41c6-9e9a-87a705dad3f7",
   "metadata": {},
   "source": [
    "<hr style=\"height:1px;border:none;\">\n",
    "<b style = 'font-size:18px;font-family:Arial'>5.2 Model Scoring</b>"
   ]
  },
  {
   "cell_type": "code",
   "execution_count": null,
   "id": "f201c42c-e052-40b0-9703-402172e8b2fb",
   "metadata": {},
   "outputs": [],
   "source": [
    "model_cl.score()"
   ]
  },
  {
   "cell_type": "code",
   "execution_count": null,
   "id": "65c46b15",
   "metadata": {},
   "outputs": [],
   "source": [
    "model_cl.get_model_predictions()"
   ]
  },
  {
   "cell_type": "code",
   "execution_count": null,
   "id": "de0f439e",
   "metadata": {},
   "outputs": [],
   "source": [
    "model_cl.get_model_predictions().groupby('TD_TIMECODE').count()"
   ]
  },
  {
   "cell_type": "code",
   "execution_count": null,
   "id": "9212654e",
   "metadata": {},
   "outputs": [],
   "source": [
    "model_cl.get_model_predictions(denormalized_view=False)"
   ]
  },
  {
   "cell_type": "markdown",
   "id": "b1cebdc4-e239-4efb-a845-5fceeb8a866d",
   "metadata": {},
   "source": [
    "<hr style=\"height:2px;border:none;\">\n",
    "<b style = 'font-size:20px;font-family:Arial'>6. Model Lineage</b></p>"
   ]
  },
  {
   "cell_type": "markdown",
   "id": "c01dd2b9-5771-4835-b382-a6c3e33f6885",
   "metadata": {},
   "source": [
    "<p style = 'font-size:16px;font-family:Arial'>In this section we are looking at the commands that are used for admininstrator work.</p>"
   ]
  },
  {
   "cell_type": "markdown",
   "id": "f6a09da4-0ced-4fbb-a36b-195b80f12fc5",
   "metadata": {},
   "source": [
    "<hr style=\"height:1px;border:none;\">\n",
    "<b style = 'font-size:18px;font-family:Arial'>6.1 Access to the List of Deployed Codes</b>"
   ]
  },
  {
   "cell_type": "code",
   "execution_count": null,
   "id": "b612f08e-abea-4dc0-bb28-9db6bffd07ec",
   "metadata": {},
   "outputs": [],
   "source": [
    "sto.list_codes()"
   ]
  },
  {
   "cell_type": "markdown",
   "id": "a419b40b-96f3-4581-b4ee-2181bc5ccc18",
   "metadata": {},
   "source": [
    "<hr style=\"height:1px;border:none;\">\n",
    "<b style = 'font-size:18px;font-family:Arial'>6.2 List of Deployed Models (Code + Parameters)</b>"
   ]
  },
  {
   "cell_type": "code",
   "execution_count": null,
   "id": "c01db108-8688-4ef9-a602-084a38923775",
   "metadata": {},
   "outputs": [],
   "source": [
    "sto.list_models()"
   ]
  },
  {
   "cell_type": "markdown",
   "id": "20649235-85ea-43e3-8ce8-76b6420b1a04",
   "metadata": {},
   "source": [
    "<hr style=\"height:1px;border:none;\">\n",
    "<b style = 'font-size:18px;font-family:Arial'>6.3 List of Available Mappers (Mapping Between Partitions and Models or Trained Models)</b>"
   ]
  },
  {
   "cell_type": "code",
   "execution_count": null,
   "id": "cea5a615-5bbc-4ed2-81c9-f7cc3e96f258",
   "metadata": {},
   "outputs": [],
   "source": [
    "sto.list_mappers()"
   ]
  },
  {
   "cell_type": "markdown",
   "id": "996957a6-d287-4ef2-8e70-8f8375ccb430",
   "metadata": {},
   "source": [
    "<hr style=\"height:1px;border:none;\">\n",
    "<b style = 'font-size:18px;font-family:Arial'>6.4 List of Hypermodels ( Models and Mappers Mapping)</b>"
   ]
  },
  {
   "cell_type": "code",
   "execution_count": null,
   "id": "b7d55a58-04ce-4202-9762-e8a388140473",
   "metadata": {},
   "outputs": [],
   "source": [
    "sto.list_hyper_models()"
   ]
  },
  {
   "cell_type": "code",
   "execution_count": null,
   "id": "fe3d02f4-b6f7-4f83-afde-2a6fbac8f4a6",
   "metadata": {},
   "outputs": [],
   "source": [
    "ID_MAPPER_TRAINING = sto.list_hyper_models().to_pandas().reset_index().sort_values('CREATION_DATE', ascending=False).ID_MAPPER_TRAINING.values[0]\n",
    "ID_MAPPER_TRAINING"
   ]
  },
  {
   "cell_type": "code",
   "execution_count": null,
   "id": "edb38da5-ec22-424d-a2a4-10c78e10efd8",
   "metadata": {},
   "outputs": [],
   "source": [
    "DataFrame.from_query(f'CURRENT VALIDTIME SEL * FROM TDS_MAPPER_{ID_MAPPER_TRAINING.replace(\"-\",\"_\")}')"
   ]
  },
  {
   "cell_type": "code",
   "execution_count": null,
   "id": "ab7f0bfb-1426-4e91-8a7e-a92fbd6b1631",
   "metadata": {},
   "outputs": [],
   "source": [
    "ID_MAPPER_SCORING = sto.list_hyper_models().to_pandas().reset_index().sort_values('CREATION_DATE', ascending=False).ID_MAPPER_SCORING.values[0]\n",
    "ID_MAPPER_SCORING"
   ]
  },
  {
   "cell_type": "code",
   "execution_count": null,
   "id": "4251de4e-2a2a-4117-81e1-24b47098ac88",
   "metadata": {},
   "outputs": [],
   "source": [
    "DataFrame.from_query(f'CURRENT VALIDTIME SEL * FROM TDS_MAPPER_{ID_MAPPER_SCORING.replace(\"-\",\"_\")}')"
   ]
  },
  {
   "cell_type": "markdown",
   "id": "4ac87915-4cd2-4010-960c-f0f2ea5cf214",
   "metadata": {},
   "source": [
    "<hr style=\"height:2px;border:none;\">\n",
    "<p style = 'font-size:20px;font-family:Arial'><b>7. Cleanup</b></p>\n",
    "<p style = 'font-size:18px;font-family:Arial;color:##00233C'><b>Work Tables</b></p>"
   ]
  },
  {
   "cell_type": "code",
   "execution_count": null,
   "id": "a168252a-2594-4fda-b7b0-e5d04e503c05",
   "metadata": {},
   "outputs": [],
   "source": [
    "db_drop_table(table_name=\"dataset_00\")"
   ]
  },
  {
   "cell_type": "code",
   "execution_count": null,
   "id": "ccfc8a4b-2bbf-43e1-806f-69f497aa9df1",
   "metadata": {},
   "outputs": [],
   "source": [
    "remove_context()"
   ]
  },
  {
   "cell_type": "markdown",
   "id": "d8052b6e-2abf-4b3a-9da5-13510ca66702",
   "metadata": {},
   "source": [
    "<footer style=\"padding-bottom:35px; border-bottom:3px solid #91A0Ab\">\n",
    "    <div style=\"float:left;margin-top:14px\">ClearScape Analytics™</div>\n",
    "    <div style=\"float:right;\">\n",
    "        <div style=\"float:left; margin-top:14px\">\n",
    "            Copyright © Teradata Corporation - 2025. All Rights Reserved\n",
    "        </div>\n",
    "    </div>\n",
    "</footer>"
   ]
  }
 ],
 "metadata": {
  "kernelspec": {
   "display_name": "Python 3 (ipykernel)",
   "language": "python",
   "name": "python3"
  },
  "language_info": {
   "codemirror_mode": {
    "name": "ipython",
    "version": 3
   },
   "file_extension": ".py",
   "mimetype": "text/x-python",
   "name": "python",
   "nbconvert_exporter": "python",
   "pygments_lexer": "ipython3",
   "version": "3.9.10"
  }
 },
 "nbformat": 4,
 "nbformat_minor": 5
}
