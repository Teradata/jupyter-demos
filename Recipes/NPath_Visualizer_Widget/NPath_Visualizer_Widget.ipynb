{
 "cells": [
  {
   "cell_type": "markdown",
   "id": "510d7ad9-c472-45ed-8bd3-509865ff039d",
   "metadata": {},
   "source": [
    "<header>\n",
    "   <p  style='font-size:36px;font-family:Arial;color:#F0F0F0; background-color: #00233c; padding-left: 20pt; padding-top: 20pt;padding-bottom: 10pt; padding-right: 20pt;'>\n",
    "       Interactive NPath Widget - generate Sankey and Icicle Charts from Event Logs\n",
    "  <br>\n",
    "       <img id=\"teradata-logo\" src=\"https://storage.googleapis.com/clearscape_analytics_demo_data/DEMO_Logo/teradata.svg\" alt=\"Teradata\" style=\"width: 125px; height: auto; margin-top: 20pt;\">\n",
    "    </p>\n",
    "</header>"
   ]
  },
  {
   "cell_type": "markdown",
   "id": "d6c97b6a-9e23-43ef-a0f6-063a35024229",
   "metadata": {},
   "source": [
    "<p style = 'font-size:18px;font-family:Arial'><b>Introduction</b></p>\n",
    "<p style = 'font-size:16px;font-family:Arial'>This Notebook demonstrates a No-Code ipywidget that allows business users to leverage the power of NPath path analysis.</p>\n",
    "<p style = 'font-size:16px;font-family:Arial'>Execute the next cell to watch a video that is an example of using the widget.</p>"
   ]
  },
  {
   "cell_type": "code",
   "execution_count": null,
   "id": "4fac4adf-ad81-483e-8f75-6f21e5859d7b",
   "metadata": {},
   "outputs": [],
   "source": [
    "from IPython.display import HTML\n",
    "HTML(\"\"\"\n",
    "<video width=\"700\" height=\"700\" controls> <source src=\"./images/demo.gif.mp4\" type=\"video/mp4\"> </video>\n",
    "\"\"\")"
   ]
  },
  {
   "cell_type": "markdown",
   "id": "071e8d21-976d-4628-8f3f-0e944b7e743e",
   "metadata": {
    "tags": []
   },
   "source": [
    "<hr style=\"height:2px;border:none;\">\n",
    "\n",
    "<p style = 'font-size:20px;font-family:Arial'><b>1. Connect to Vantage.</b></p>"
   ]
  },
  {
   "cell_type": "markdown",
   "id": "58929a2d-3502-4c82-a173-415aa42db3e7",
   "metadata": {},
   "source": [
    "<p style = 'font-size:16px;font-family:Arial'>In the section, we import the required libraries and set environment variables and environment paths (if required).</p>"
   ]
  },
  {
   "cell_type": "code",
   "execution_count": null,
   "id": "47cbbc2c-850f-4b12-9a3a-801f071dadd2",
   "metadata": {},
   "outputs": [],
   "source": [
    "%%capture\n",
    "# # '%%capture' suppresses the display of installation steps of the following packages\n",
    "!pip install --upgrade tdnpathviz>=0.1.3.1"
   ]
  },
  {
   "cell_type": "markdown",
   "id": "83c6c29a-c898-4fa0-8b83-b28ad2b716e2",
   "metadata": {},
   "source": [
    "<div class=\"alert alert-block alert-info\">\n",
    "<p style = 'font-size:16px;font-family:Arial'><b>Note: </b><i>The kernel must be restarted to bring the installed libraries into memory. Please select <b>Kernel</b> from the menu and then select <b>Restart Kernel...</b></i></p>\n",
    "</div>"
   ]
  },
  {
   "cell_type": "code",
   "execution_count": null,
   "id": "af76543c-a082-4800-adff-8b786b898491",
   "metadata": {},
   "outputs": [],
   "source": [
    "from teradataml import create_context, execute_sql, db_list_tables, remove_context, db_drop_view\n",
    "from tdnpathviz import npath_widget"
   ]
  },
  {
   "cell_type": "markdown",
   "id": "909f2124-4408-4e9c-8aa7-5c319fb2ce0f",
   "metadata": {
    "tags": []
   },
   "source": [
    "<p style = 'font-size:16px;font-family:Arial'>We will be prompted to provide the password. We will enter the password, press the Enter key, and then use the down arrow to go to the next cell. Begin running steps with Shift + Enter keys.</p>"
   ]
  },
  {
   "cell_type": "code",
   "execution_count": null,
   "id": "fe183a24-71b3-4310-b9a2-25bac5cb43ec",
   "metadata": {},
   "outputs": [],
   "source": [
    "%run -i ../../UseCases/startup.ipynb\n",
    "eng = create_context(host = 'host.docker.internal', username='demo_user', password = password)\n",
    "print(eng)"
   ]
  },
  {
   "cell_type": "code",
   "execution_count": null,
   "id": "86852069-bccd-4853-a551-7aa306abcb4a",
   "metadata": {},
   "outputs": [],
   "source": [
    "%%capture\n",
    "execute_sql('''SET query_band='DEMO=PP_NPath_Visualizer_Widget.ipynb;' UPDATE FOR SESSION; ''')"
   ]
  },
  {
   "cell_type": "markdown",
   "id": "fd2caf56-913b-4fbb-ad9b-6c5a25dd5006",
   "metadata": {},
   "source": [
    "<hr style=\"height:2px;border:none;\">\n",
    "\n",
    "<p style = 'font-size:20px;font-family:Arial'><b>2. Getting Data for This Demo</b></p>\n",
    "<p style = 'font-size:16px;font-family:Arial'>For this demo we will use data that has been originally prepared for a set of other demos. Like this, we can switch between different types of data and show the versatility of the NPath widget.</p>   \n"
   ]
  },
  {
   "cell_type": "code",
   "execution_count": null,
   "id": "83c82fde-c387-4f2a-babf-fe5d4c52b1c1",
   "metadata": {},
   "outputs": [],
   "source": [
    "# Takes about 1 minute\n",
    "%run -i ../../UseCases/run_procedure.py \"call get_data('DEMO_DigitalEvents_cloud');\"\n",
    "%run -i ../../UseCases/run_procedure.py \"call get_data('DEMO_KneeReplacement_cloud');\"\n",
    "%run -i ../../UseCases/run_procedure.py \"call get_data('DEMO_TrainDelay_cloud');\"\n",
    "%run -i ../../UseCases/run_procedure.py \"call get_data('DEMO_MultiTouchAttribution_cloud');\""
   ]
  },
  {
   "cell_type": "markdown",
   "id": "d50d524d-bd0e-4c1e-998a-306b7407171e",
   "metadata": {},
   "source": [
    "<p style = 'font-size:16px;font-family:Arial'>Optional step – We should execute the below step only if we want to see the status of databases/tables created and space used.</p>"
   ]
  },
  {
   "cell_type": "code",
   "execution_count": null,
   "id": "a70f9a79-61a1-4037-8b9b-40365620e356",
   "metadata": {},
   "outputs": [],
   "source": [
    "%run -i ../../UseCases/run_procedure.py \"call space_report();\""
   ]
  },
  {
   "cell_type": "markdown",
   "id": "eeda84b9-ef5c-4d64-9cbb-fef647d433ab",
   "metadata": {},
   "source": [
    "<hr style=\"height:2px;border:none;\">\n",
    "\n",
    "<p style = 'font-size:20px;font-family:Arial'><b>3. Create Database with View pointing at the events tables.</b></p>\n",
    "\n",
    "<p style = 'font-size:16px;font-family:Arial'>For this demo, we want to have all the data for the exploration in the same database. The easiest way to do this by creating a database that just contains views pointing at the tables. This is necessary because the <code>tdnpathviz.npath_widget()</code> function requires a database name as input.</p>\n",
    "\n"
   ]
  },
  {
   "cell_type": "code",
   "execution_count": null,
   "id": "f70b8b9e-f9d2-4127-a370-90d503a7ac01",
   "metadata": {},
   "outputs": [],
   "source": [
    "execute_sql(\"CREATE DATABASE npath_input FROM demo_user AS PERMANENT = 100\")\n",
    "execute_sql(\"REPLACE VIEW npath_input.Digital_Retail_Events  AS SEL * FROM DEMO_DigitalEvents.Digital_Retail_Events\")\n",
    "execute_sql(\"REPLACE VIEW npath_input.Knee_Replacement  AS SEL * FROM DEMO_KneeReplacement.Knee_Replacement\")\n",
    "execute_sql(\"REPLACE VIEW npath_input.Train_Dataset  AS SEL * FROM DEMO_TrainDelay.Train_Dataset\")\n",
    "execute_sql(\"REPLACE VIEW npath_input.Attribution_Data  AS SEL * FROM DEMO_MultiTouchAttribution.Attribution_Data\")"
   ]
  },
  {
   "cell_type": "markdown",
   "id": "f1d9f400-e445-43e6-87b5-ac344bca23cd",
   "metadata": {},
   "source": [
    "<p style = 'font-size:16px;font-family:Arial'>Now let's check if we were successful.</p>"
   ]
  },
  {
   "cell_type": "code",
   "execution_count": null,
   "id": "b5e1fdcc-0ad5-4710-9d42-35529f268fdd",
   "metadata": {},
   "outputs": [],
   "source": [
    "db_list_tables(schema_name = \"npath_input\")"
   ]
  },
  {
   "cell_type": "markdown",
   "id": "3c90061b-d658-4cf3-82e4-13fa6c1216c3",
   "metadata": {},
   "source": [
    "<hr style=\"height:2px;border:none;\">\n",
    "\n",
    "<p style = 'font-size:20px;font-family:Arial'><b>4. NPath Widget</b></p>\n",
    "<p style = 'font-size:16px;font-family:Arial'>We will start by trying out the widget. Be sure to test all different tables with different settings and different charts. You can also save the charts in files.</p>"
   ]
  },
  {
   "cell_type": "code",
   "execution_count": null,
   "id": "889b0b82-ccf2-4be6-a1a1-ecb1927991cd",
   "metadata": {},
   "outputs": [],
   "source": [
    "npath_widget(database=\"npath_input\")"
   ]
  },
  {
   "cell_type": "markdown",
   "id": "8ba7cae9-64fe-42f8-9012-bf7128561134",
   "metadata": {},
   "source": [
    "<br>\n",
    "<br>\n",
    "<br>\n",
    "<hr style=\"height:2px;border:none;\">\n",
    "\n",
    "<p style = 'font-size:20px;font-family:Arial'><b>5. Cleanup</b></p>\n",
    "<p style = 'font-size:18px;font-family:Arial'><b>Work Tables</b></p>\n",
    "<p style = 'font-size:16px;font-family:Arial'>We need to clean up our work tables to prevent errors next time.</p>"
   ]
  },
  {
   "cell_type": "code",
   "execution_count": null,
   "id": "7bbafd69-a9b1-47f9-9e17-a878117fdf6b",
   "metadata": {},
   "outputs": [],
   "source": [
    "views = ['Digital_Retail_Events', 'Knee_Replacement', 'Train_Dataset','Attribution_Data']\n",
    "\n",
    "# Loop through the list of views and execute the drop view command for each view\n",
    "for view in views:\n",
    "    try:\n",
    "        db_drop_view(view_name = view, schema_name = 'npath_input') \n",
    "    except:\n",
    "        pass"
   ]
  },
  {
   "cell_type": "markdown",
   "id": "02d271e5-97c2-4461-b434-0f1c573c1d88",
   "metadata": {},
   "source": [
    "<p style = 'font-size:18px;font-family:Arial'> <b>Databases and Tables </b></p>\n",
    "<p style = 'font-size:16px;font-family:Arial'>We will use the following code to clean up tables and databases created for this demonstration.</p>"
   ]
  },
  {
   "cell_type": "code",
   "execution_count": null,
   "id": "057bfd5c-53fa-40c3-8b64-4d85b8add4e5",
   "metadata": {},
   "outputs": [],
   "source": [
    "execute_sql(\"DROP DATABASE npath_input\")"
   ]
  },
  {
   "cell_type": "code",
   "execution_count": null,
   "id": "1e9e6cc1-9544-4839-b75d-4960801dd808",
   "metadata": {},
   "outputs": [],
   "source": [
    "%run -i ../../UseCases/run_procedure.py \"call remove_data('DEMO_DigitalEvents');\" \n",
    "%run -i ../../UseCases/run_procedure.py \"call remove_data('DEMO_KneeReplacement');\" \n",
    "%run -i ../../UseCases/run_procedure.py \"call remove_data('DEMO_TrainDelay');\" \n",
    "%run -i ../../UseCases/run_procedure.py \"call remove_data('DEMO_MultiTouchAttribution');\" "
   ]
  },
  {
   "cell_type": "code",
   "execution_count": null,
   "id": "0c4fe20e-6cb6-472e-8cfc-59f9e0d9279a",
   "metadata": {},
   "outputs": [],
   "source": [
    "remove_context()"
   ]
  },
  {
   "cell_type": "markdown",
   "id": "70018e32-6313-4b90-b5d1-e2c634500e7b",
   "metadata": {},
   "source": [
    "<hr style=\"height:2px;border:none;\">\n",
    "<b style = 'font-size:20px;font-family:Arial'>Required Materials</b>\n",
    "<p style = 'font-size:16px;font-family:Arial'>Let’s look at the elements we have available for reference for this notebook:</p>\n",
    "<p style = 'font-size:16px;font-family:Arial'>Check more details regarding the tdnpathviz package <a href='https://pypi.org/project/tdnpathviz/'>here.</a></p>\n",
    "\n",
    "<b style = 'font-size:18px;font-family:Arial'>Related Resources:</b>\n",
    "<li style = 'font-size:16px;font-family:Arial'><a href = 'https://docs.teradata.com/search/all?query=NPath&content-lang=en-US'>NPath documentation</a> </li>\n",
    "\n",
    "\n"
   ]
  },
  {
   "cell_type": "markdown",
   "id": "69b7f69e-e6a3-4ae6-af78-e1b77208f309",
   "metadata": {
    "tags": []
   },
   "source": [
    "<footer style=\"padding-bottom:35px; border-bottom:3px solid #91A0Ab\">\n",
    "    <div style=\"float:left;margin-top:14px\">ClearScape Analytics™</div>\n",
    "    <div style=\"float:right;\">\n",
    "        <div style=\"float:left; margin-top:14px\">\n",
    "            Copyright © Teradata Corporation - 2025. All Rights Reserved.\n",
    "        </div>\n",
    "    </div>\n",
    "</footer>"
   ]
  }
 ],
 "metadata": {
  "kernelspec": {
   "display_name": "Python 3 (ipykernel)",
   "language": "python",
   "name": "python3"
  },
  "language_info": {
   "codemirror_mode": {
    "name": "ipython",
    "version": 3
   },
   "file_extension": ".py",
   "mimetype": "text/x-python",
   "name": "python",
   "nbconvert_exporter": "python",
   "pygments_lexer": "ipython3",
   "version": "3.9.10"
  }
 },
 "nbformat": 4,
 "nbformat_minor": 5
}
