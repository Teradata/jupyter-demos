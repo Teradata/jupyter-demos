{
 "cells": [
  {
   "cell_type": "markdown",
   "id": "bc549e6c-0cc4-4188-94a3-a9bdd3ae3dfa",
   "metadata": {},
   "source": [
    "<header>\n",
    "   <p  style='font-size:36px;font-family:Arial; color:#F0F0F0; background-color: #00233c; padding-left: 20pt; padding-top: 20pt;padding-bottom: 10pt; padding-right: 20pt;'>\n",
    "       ChiSq function in Vantage\n",
    "  <br>\n",
    "       <img id=\"teradata-logo\" src=\"https://storage.googleapis.com/clearscape_analytics_demo_data/DEMO_Logo/teradata.svg\" alt=\"Teradata\" style=\"width: 125px; height: auto; margin-top: 20pt;\">\n",
    "    </p>\n",
    "</header>"
   ]
  },
  {
   "cell_type": "markdown",
   "id": "7ae7611a-0795-4168-b716-01fee6880cbd",
   "metadata": {},
   "source": [
    "<p style = 'font-size:20px;font-family:Arial'><b>Introduction</b></p>\n",
    "<p style = 'font-size:16px;font-family:Arial'> A Pearson’s chi-square test is a statistical test for categorical data. The chi-square test of independence is used to test whether two categorical variables are related to each other. In this notebook we will see how we can use the ChiSq Function available in Vantage.</p>"
   ]
  },
  {
   "cell_type": "markdown",
   "id": "6b3a00b4-6661-4c91-9b2d-cb7b0b403140",
   "metadata": {},
   "source": [
    "<hr style=\"height:2px;border:none;\">\n",
    "<b style = 'font-size:20px;font-family:Arial'>1. Initiate a connection to Vantage</b>"
   ]
  },
  {
   "cell_type": "markdown",
   "id": "2346857f-e0d3-488a-8a3f-ac6dff752c2b",
   "metadata": {},
   "source": [
    "<p style = 'font-size:16px;font-family:Arial'>In the section, we import the required libraries and set environment variables and environment paths (if required)."
   ]
  },
  {
   "cell_type": "code",
   "execution_count": null,
   "id": "c5af5af3-29d5-4f6a-8334-9df6924e7787",
   "metadata": {},
   "outputs": [],
   "source": [
    "from teradataml import *\n",
    "\n",
    "# Modify the following to match the specific client environment settings\n",
    "display.max_rows = 5"
   ]
  },
  {
   "cell_type": "markdown",
   "id": "ad3dd7b4-831c-4fb3-ab71-719c8c99a71c",
   "metadata": {},
   "source": [
    "<hr style=\"height:1px;border:none;\">\n",
    "<p style = 'font-size:18px;font-family:Arial'><b>1.1 Connect to Vantage</b></p>\n",
    "<p style = 'font-size:16px;font-family:Arial'>You will be prompted to provide the password. Enter your password, press the Enter key, and then use the down arrow to go to the next cell.</p>"
   ]
  },
  {
   "cell_type": "code",
   "execution_count": null,
   "id": "2742444c-4349-4b0f-b4e5-b068a8785cd9",
   "metadata": {},
   "outputs": [],
   "source": [
    "%run -i ../../UseCases/startup.ipynb\n",
    "eng = create_context(host = 'host.docker.internal', username='demo_user', password = password)\n",
    "print(eng)"
   ]
  },
  {
   "cell_type": "code",
   "execution_count": null,
   "id": "41ca5904-752a-45bb-a601-51f515f6c5d7",
   "metadata": {},
   "outputs": [],
   "source": [
    "%%capture\n",
    "execute_sql('''SET query_band='DEMO=PP_ChiSq_Python.ipynb;' UPDATE FOR SESSION; ''')"
   ]
  },
  {
   "cell_type": "markdown",
   "id": "efe2fd2d-63ff-4278-9157-8b9110d682e8",
   "metadata": {},
   "source": [
    "<p style = 'font-size:16px;font-family:Arial'>Begin running steps with Shift + Enter keys. </p>"
   ]
  },
  {
   "cell_type": "markdown",
   "id": "f003f332-7489-4bdd-a740-4af2a0a22280",
   "metadata": {},
   "source": [
    "<hr style='height:1px;border:none;'>\n",
    "\n",
    "<p style = 'font-size:18px;font-family:Arial'><b>1.2 Getting Data for This Demo</b></p>\n",
    "\n",
    "<p style = 'font-size:16px;font-family:Arial'>We have provided data for this demo on cloud storage. You can either run the demo using foreign tables to access the data without any storage on your environment or download the data to local storage, which may yield faster execution. Still, there could be considerations of available storage. Two statements are in the following cell, and one is commented out. You may switch which mode you choose by changing the comment string.</p>"
   ]
  },
  {
   "cell_type": "code",
   "execution_count": null,
   "id": "45c86176-734c-4b1c-ace0-d0c88657b4f8",
   "metadata": {},
   "outputs": [],
   "source": [
    "%run -i ../../UseCases/run_procedure.py \"call get_data('DEMO_BankChurn_cloud');\"        # Takes 30 seconds\n",
    "#%run -i ../../UseCases/run_procedure.py \"call get_data('DEMO_BankChurn_local');\" "
   ]
  },
  {
   "cell_type": "markdown",
   "id": "2401d6d3-4fcd-46fc-8a94-7cafcd1258b0",
   "metadata": {},
   "source": [
    "<p style = 'font-size:16px;font-family:Arial'>Next is an optional step – if you want to see the status of databases/tables created and space used.</p>"
   ]
  },
  {
   "cell_type": "code",
   "execution_count": null,
   "id": "87429200-db02-450d-9472-4d1e2030124d",
   "metadata": {},
   "outputs": [],
   "source": [
    "%run -i ../../UseCases/run_procedure.py \"call space_report();\"        # Takes 10 seconds"
   ]
  },
  {
   "cell_type": "markdown",
   "id": "2a3762ac-ba27-4fa3-adba-d577262a4290",
   "metadata": {},
   "source": [
    "<hr style=\"height:2px;border:none;\">\n",
    "<b style = 'font-size:20px;font-family:Arial'>2. Data Exploration</b>\n",
    "<p style = 'font-size:16px;font-family:Arial'>Create a \"Virtual DataFrame\" that points to the data set in Vantage. Check the shape of the dataframe as check the datatype of all the columns of the dataframe.</p>"
   ]
  },
  {
   "cell_type": "code",
   "execution_count": null,
   "id": "3d936fab-7ca7-4e94-ba64-95c1da08b74f",
   "metadata": {},
   "outputs": [],
   "source": [
    "tdf = DataFrame(in_schema(\"DEMO_BankChurn\", \"customer_churn\"))\n",
    "print(\"Shape of the data: \", tdf.shape)\n",
    "tdf"
   ]
  },
  {
   "cell_type": "code",
   "execution_count": null,
   "id": "3c5a0992-f651-49bc-9080-828fd9c0c982",
   "metadata": {},
   "outputs": [],
   "source": [
    "tdf.tdtypes"
   ]
  },
  {
   "cell_type": "markdown",
   "id": "ffef7ff5-0fad-4e47-a415-a1d58e0b37fd",
   "metadata": {},
   "source": [
    "<p style = 'font-size:16px;font-family:Arial'>As we can see from above, we have customer churn data and we can use this to answer some simple questions like <br> <b>Question: Is there a relationship between Geography (France, Germany, Spain) and whether customers are IsActiveMember (1 or 0)?</b><br>\n",
    "Insight: Understand if customer activity varies significantly across countries.\n",
    "<br> We can answer this question using Vantage's <b>ChiSq </b>Function."
   ]
  },
  {
   "cell_type": "code",
   "execution_count": null,
   "id": "866a3ed7-6973-4d7c-9191-75fe20f2fc18",
   "metadata": {
    "tags": []
   },
   "outputs": [],
   "source": [
    "help(ChiSq)"
   ]
  },
  {
   "cell_type": "markdown",
   "id": "8f38625b-f3a8-417a-ab9e-f48297cb921b",
   "metadata": {},
   "source": [
    "<p style = 'font-size:16px;font-family:Arial'>As a first step to use ChiSq function we will get the counts of each varible to create the contigency table.</p>"
   ]
  },
  {
   "cell_type": "code",
   "execution_count": null,
   "id": "4a75d2ce-7dc5-4964-a6f8-633777d3d15f",
   "metadata": {},
   "outputs": [],
   "source": [
    "d=tdf.groupby(['IsActiveMember' , 'Geography']).count()\n",
    "d1=d.select(['Geography','IsActiveMember','count_RowNumber'])\n",
    "d1"
   ]
  },
  {
   "cell_type": "markdown",
   "id": "8753134c-8233-4d94-acb4-679cba2d5345",
   "metadata": {},
   "source": [
    "<p style = 'font-size:16px;font-family:Arial'>Now, let us pivot this table to create the contingency table that is needed by the ChiSq function.</p>\n"
   ]
  },
  {
   "cell_type": "code",
   "execution_count": null,
   "id": "f1726be2-bd78-404f-85c0-81d799e5ab2e",
   "metadata": {
    "tags": []
   },
   "outputs": [],
   "source": [
    "d1_pivot = d1.pivot(columns=d1.IsActiveMember,\n",
    "                    aggfuncs=[d1.count_RowNumber.sum()],\n",
    "                    returns=[\"inactive_member\", \"active_member\"])\n",
    "d1_pivot"
   ]
  },
  {
   "cell_type": "code",
   "execution_count": null,
   "id": "1dd9a362-3608-41bd-b83e-27bb4d435ec8",
   "metadata": {},
   "outputs": [],
   "source": [
    "obj = ChiSq(data=d1_pivot,\n",
    "            alpha=0.5)\n",
    "\n",
    "obj.output"
   ]
  },
  {
   "cell_type": "code",
   "execution_count": null,
   "id": "56c104a0-7444-4921-99f1-8b0a284ad46e",
   "metadata": {},
   "outputs": [],
   "source": [
    "#Expected Frequencies Table\n",
    "obj.output_data"
   ]
  },
  {
   "cell_type": "markdown",
   "id": "ab6a9a63-7f1e-4964-b3f5-bfedd7a4c28d",
   "metadata": {},
   "source": [
    "<p style = 'font-size:16px;font-family:Arial'>From the result we can see that the p-value has come to 0.07 which is > 0.05 hence the hypothesis is not rejected i.e There is no statistical evidence to suggest that there is significant relationship exists between Geography and IsActiveMember.</p>"
   ]
  },
  {
   "cell_type": "markdown",
   "id": "151d5db4-29a9-49d9-8a61-d53f9627a294",
   "metadata": {},
   "source": [
    "<hr style=\"height:2px;border:none;\">\n",
    "<b style = 'font-size:20px;font-family:Arial'>2. Cleanup</b>"
   ]
  },
  {
   "cell_type": "markdown",
   "id": "a562f058-fb24-4966-a25d-f2960e6ddfb8",
   "metadata": {},
   "source": [
    "<hr style=\"height:1px;border:none;\">\n",
    "<p style = 'font-size:18px;font-family:Arial'> <b>Databases and Tables </b></p>\n",
    "<p style = 'font-size:16px;font-family:Arial'>The following code will clean up tables and databases created above.</p>"
   ]
  },
  {
   "cell_type": "code",
   "execution_count": null,
   "id": "e6b3935b-47c2-4a96-bec2-68106d172116",
   "metadata": {},
   "outputs": [],
   "source": [
    "%run -i ../../UseCases/run_procedure.py \"call remove_data('DEMO_BankChurn');\"        # Takes 10 seconds"
   ]
  },
  {
   "cell_type": "code",
   "execution_count": null,
   "id": "157fe3d4-4e0e-4d92-b343-9f758f3bf690",
   "metadata": {},
   "outputs": [],
   "source": [
    "remove_context()"
   ]
  },
  {
   "cell_type": "markdown",
   "id": "4317a6cf-1479-4aa8-b30a-ee0a3b5231a8",
   "metadata": {},
   "source": [
    "<hr style=\"height:1px;border:none;\">\n",
    "<b style = 'font-size:18px;font-family:Arial'>Dataset:</b>\n",
    "\n",
    "- `Surname`: Surname\n",
    "- `CreditScore`: Credit score\n",
    "- `Geography`: Country (Germany / France / Spain)\n",
    "- `Gender`: Gender (Female / Male)\n",
    "- `Age`: Age\n",
    "- `Tenure`: No of years the customer has been associated with the bank\n",
    "- `Balance`: Balance\n",
    "- `NumOfProducts`: No of bank products used\n",
    "- `HasCrCard`: Credit card status (0 = No, 1 = Yes)\n",
    "- `IsActiveMember`: Active membership status (0 = No, 1 = Yes)\n",
    "- `EstimatedSalary`: Estimated salary\n",
    "- `Exited`: Abandoned or not? (0 = No, 1 = Yes)\n",
    "\n",
    "<p style = 'font-size:16px;font-family:Arial'><b>Links:</b></p>\n",
    "<ul style = 'font-size:16px;font-family:Arial'>\n",
    "    <li>Teradataml Python reference: <a href = 'https://docs.teradata.com/search/all?query=Python+Package+User+Guide&content-lang=en-US'>here</a></li>\n",
    "    <li>ChiSq function reference: <a href = 'https://docs.teradata.com/search/all?query=ChiSq&content-lang=en-US'>here</a></li>\n",
    "</ul>"
   ]
  },
  {
   "cell_type": "markdown",
   "id": "b2dcca28-5de5-44d7-88cb-45a12153b3f8",
   "metadata": {},
   "source": [
    "<footer style=\"padding-bottom:35px; border-bottom:3px solid #91A0Ab\">\n",
    "    <div style=\"float:left;margin-top:14px\">ClearScape Analytics™</div>\n",
    "    <div style=\"float:right;\">\n",
    "        <div style=\"float:left; margin-top:14px\">\n",
    "            Copyright © Teradata Corporation - 2025. All Rights Reserved\n",
    "        </div>\n",
    "    </div>\n",
    "</footer>"
   ]
  }
 ],
 "metadata": {
  "kernelspec": {
   "display_name": "Python 3 (ipykernel)",
   "language": "python",
   "name": "python3"
  },
  "language_info": {
   "codemirror_mode": {
    "name": "ipython",
    "version": 3
   },
   "file_extension": ".py",
   "mimetype": "text/x-python",
   "name": "python",
   "nbconvert_exporter": "python",
   "pygments_lexer": "ipython3",
   "version": "3.9.10"
  }
 },
 "nbformat": 4,
 "nbformat_minor": 5
}
