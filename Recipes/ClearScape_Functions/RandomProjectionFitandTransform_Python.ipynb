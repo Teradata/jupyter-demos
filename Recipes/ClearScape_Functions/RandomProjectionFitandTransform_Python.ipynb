{
 "cells": [
  {
   "cell_type": "markdown",
   "id": "608b8a39-5e08-4e03-a682-368314208444",
   "metadata": {},
   "source": [
    "<header>\n",
    "   <p  style='font-size:36px;font-family:Arial; color:#F0F0F0; background-color: #00233c; padding-left: 20pt; padding-top: 20pt;padding-bottom: 10pt; padding-right: 20pt;'>\n",
    "       RandomProjectionMinComponents, RandomProjectionFit and RandomProjectionTransform function in Vantage\n",
    "  <br>\n",
    "       <img id=\"teradata-logo\" src=\"https://storage.googleapis.com/clearscape_analytics_demo_data/DEMO_Logo/teradata.svg\" alt=\"Teradata\" style=\"width: 125px; height: auto; margin-top: 20pt;\">\n",
    "    </p>\n",
    "</header>"
   ]
  },
  {
   "cell_type": "markdown",
   "id": "549a5b45-589a-463e-8e29-a68e25f18f98",
   "metadata": {},
   "source": [
    "<p style = 'font-size:20px;font-family:Arial'><b>Introduction</b></p>\n",
    "<p style = 'font-size:16px;font-family:Arial'>The RandomProjectionFit function returns a random projection matrix\n",
    "    based on the specified arguments.The minimum value allowed for the \"num_components\" argument\n",
    "        is calculated using the RandomProjectionMinComponents function.<br>\n",
    "    The RandomProjectionTransform function converts the\n",
    "    high-dimensional input data to a low-dimensional space\n",
    "    using the RandomProjectionFit function output.\n",
    "<br> In this notebook, we will explore how to use the RandomProjectionFit and RandomProjectionTransform functions available in Vantage to perform dimensionality reduction on a dataset.</p>"
   ]
  },
  {
   "cell_type": "markdown",
   "id": "fd126744-7330-47d3-943f-b6c3b7d5ab92",
   "metadata": {},
   "source": [
    "<hr style=\"height:2px;border:none;\">\n",
    "<b style = 'font-size:20px;font-family:Arial'>1. Initiate a connection to Vantage</b>"
   ]
  },
  {
   "cell_type": "markdown",
   "id": "0a087e5b-ae67-428e-883d-9c389e64c5b4",
   "metadata": {},
   "source": [
    "<p style = 'font-size:16px;font-family:Arial'>The function to work without warning we need to upgarde teradataml to 20.0.0.3 version or higher.</p>"
   ]
  },
  {
   "cell_type": "code",
   "execution_count": null,
   "id": "cbc40a26-6e71-41d4-a15d-7f2228f16ead",
   "metadata": {},
   "outputs": [],
   "source": [
    "%%capture\n",
    "!pip install --upgrade teradataml"
   ]
  },
  {
   "cell_type": "markdown",
   "id": "357600d5-9ac1-4df8-a432-76c1657f0168",
   "metadata": {},
   "source": [
    "<div class=\"alert alert-block alert-info\">\n",
    "<p style = 'font-size:16px;font-family:Arial;color:#00233C'><b>Note: </b><i>Please be sure to restart the kernel after installing/upgrading the library. The simplest way to restart the Kernel is by typing zero zero: <b> 0 0</b></i></p>\n",
    "</div>"
   ]
  },
  {
   "cell_type": "code",
   "execution_count": null,
   "id": "52c08446-0da7-4954-8c34-7bf47cc0f1d6",
   "metadata": {},
   "outputs": [],
   "source": [
    "from teradataml import *\n",
    "\n",
    "# Modify the following to match the specific client environment settings\n",
    "display.max_rows = 5"
   ]
  },
  {
   "cell_type": "markdown",
   "id": "673eee1b-1df1-4a9d-8926-96d9ac5e66e5",
   "metadata": {},
   "source": [
    "<hr style=\"height:1px;border:none;\">\n",
    "<p style = 'font-size:18px;font-family:Arial'><b>1.1 Connect to Vantage</b></p>\n",
    "<p style = 'font-size:16px;font-family:Arial'>You will be prompted to provide the password. Enter your password, press the Enter key, and then use the down arrow to go to the next cell.</p>"
   ]
  },
  {
   "cell_type": "code",
   "execution_count": null,
   "id": "72c5dc26-ab85-4866-81f6-fba374d12717",
   "metadata": {},
   "outputs": [],
   "source": [
    "%run -i ../../UseCases/startup.ipynb\n",
    "eng = create_context(host = 'host.docker.internal', username='demo_user', password = password)\n",
    "print(eng)"
   ]
  },
  {
   "cell_type": "code",
   "execution_count": null,
   "id": "e1228036-e2e9-4df7-8164-65323ae7e883",
   "metadata": {},
   "outputs": [],
   "source": [
    "%%capture\n",
    "execute_sql('''SET query_band='DEMO=PP_RandomProjectionFitandTransform_Python.ipynb;' UPDATE FOR SESSION; ''')"
   ]
  },
  {
   "cell_type": "markdown",
   "id": "e8a023a2-ea7d-4714-842c-938093ec49af",
   "metadata": {},
   "source": [
    "<hr style='height:1px;border:none;'>\n",
    "\n",
    "<p style = 'font-size:18px;font-family:Arial'><b>1.2 Getting Data for This Demo</b></p>\n",
    "\n",
    "<p style = 'font-size:16px;font-family:Arial'>Here, we will get the data which is available in the teradataml library and use the same to show the usage of the function.</p>"
   ]
  },
  {
   "cell_type": "code",
   "execution_count": null,
   "id": "14a8de64-4a91-4fd8-ae5b-46b362a1db5c",
   "metadata": {},
   "outputs": [],
   "source": [
    "load_example_data(\"teradataml\", [\"stock_movement\"])"
   ]
  },
  {
   "cell_type": "markdown",
   "id": "29ad2582-a2ab-4c28-90f8-fb0c369ea4e8",
   "metadata": {},
   "source": [
    "<hr style=\"height:2px;border:none;\">\n",
    "<b style = 'font-size:20px;font-family:Arial'>2. Data Exploration</b>\n",
    "<p style = 'font-size:16px;font-family:Arial'>Create a \"Virtual DataFrame\" that points to the data set in Vantage. Check the shape of the dataframe as check the datatype of all the columns of the dataframe.</p>"
   ]
  },
  {
   "cell_type": "code",
   "execution_count": null,
   "id": "c654c140-3625-4eeb-ac03-d05880333797",
   "metadata": {},
   "outputs": [],
   "source": [
    "tdf = DataFrame.from_table(\"stock_movement\")\n",
    "print(\"Shape of the data: \", tdf.shape)\n",
    "tdf"
   ]
  },
  {
   "cell_type": "markdown",
   "id": "a3da64d5-76d3-4297-9762-f8144f88628a",
   "metadata": {},
   "source": [
    "<p style = 'font-size:16px;font-family:Arial'>A financial institution wants to analyze stock movement patterns to improve trading strategies. However, high-dimensional datasets can be computationally expensive and challenging to interpret. We apply Random Projection, which transforms high-dimensional data into a lower-dimensional space while preserving its key structural properties. This enables faster processing and more efficient analysis without significant loss of information.First we will use RandomProjectionMinComponents function to calculate the minimum number of components needed and then we will use this value in fit and transform functions. Detailed help can be found by passing function name to built-in help function.\n",
    "</p>"
   ]
  },
  {
   "cell_type": "code",
   "execution_count": null,
   "id": "c940d169-9b53-453b-928d-a464cad92a91",
   "metadata": {},
   "outputs": [],
   "source": [
    "help(RandomProjectionMinComponents)"
   ]
  },
  {
   "cell_type": "code",
   "execution_count": null,
   "id": "1e6dab21-75e5-4e7b-ba97-749c45a8c7ed",
   "metadata": {},
   "outputs": [],
   "source": [
    "# Example 1 : Calculate the minimum number of components required\n",
    "#             for applying RandomProjectionFit().\n",
    "RandomProjectionMinComponents_out = RandomProjectionMinComponents(data = tdf,\n",
    "                                                                  target_columns = \"1:\",\n",
    "                                                                   epsilon =0.25)\n",
    "    \n",
    "# Print the result DataFrame.\n",
    "RandomProjectionMinComponents_out"
   ]
  },
  {
   "cell_type": "code",
   "execution_count": null,
   "id": "f84719af-06e6-4752-8f33-e69157ee13a0",
   "metadata": {
    "tags": []
   },
   "outputs": [],
   "source": [
    "help(RandomProjectionFit)"
   ]
  },
  {
   "cell_type": "code",
   "execution_count": null,
   "id": "6e024e26-4d72-46ec-83fa-38ffb4debb24",
   "metadata": {},
   "outputs": [],
   "source": [
    "fit_result = RandomProjectionFit(data = tdf,\n",
    "    target_columns = \"1:\",\n",
    "    epsilon = 0.9,\n",
    "    num_components = 353\n",
    ")"
   ]
  },
  {
   "cell_type": "markdown",
   "id": "21590fb2-7887-47b1-99ea-640d3bf808ec",
   "metadata": {},
   "source": [
    "<p style = 'font-size:16px;font-family:Arial'>Applying the trained Random Projection model to transform the stock_movement dataset into a lower-dimensional feature space \n",
    "</p>"
   ]
  },
  {
   "cell_type": "code",
   "execution_count": null,
   "id": "bfa3e09d-6bf1-4cfd-8b79-01df2fce0359",
   "metadata": {},
   "outputs": [],
   "source": [
    "help(RandomProjectionTransform)"
   ]
  },
  {
   "cell_type": "code",
   "execution_count": null,
   "id": "d2c05ae3-df5d-4f5f-9182-569fdb64418c",
   "metadata": {},
   "outputs": [],
   "source": [
    "# Generating feature matrix\n",
    "transformed_data = RandomProjectionTransform(object = fit_result.result,\n",
    "     data = tdf)"
   ]
  },
  {
   "cell_type": "markdown",
   "id": "51e583fe-be99-4421-bbb4-de8794aef675",
   "metadata": {},
   "source": [
    "<p style = 'font-size:16px;font-family:Arial'>The Random Projection technique successfully reduced the dimensionality of the stock_movement dataset, preserving essential structural properties while improving computational efficiency.\n",
    "</p>"
   ]
  },
  {
   "cell_type": "code",
   "execution_count": null,
   "id": "0acca39d-209a-4605-9725-7240208b42c8",
   "metadata": {},
   "outputs": [],
   "source": [
    "# Result after dimensionality reduction\n",
    "transformed_data.result.shape"
   ]
  },
  {
   "cell_type": "code",
   "execution_count": null,
   "id": "f0ed6c47-d414-4ef0-ac1b-c96d51b8b231",
   "metadata": {},
   "outputs": [],
   "source": [
    "# Print the result DataFrame.\n",
    "transformed_data.result"
   ]
  },
  {
   "cell_type": "markdown",
   "id": "f86bfbe1-105f-4e55-ab2e-0ece89ac8740",
   "metadata": {},
   "source": [
    "<hr style=\"height:2px;border:none;\">\n",
    "<b style = 'font-size:20px;font-family:Arial'>3. Cleanup</b>"
   ]
  },
  {
   "cell_type": "markdown",
   "id": "a0cd58c7-16b3-4085-96c9-85676ff3656c",
   "metadata": {},
   "source": [
    "<hr style=\"height:1px;border:none;\">\n",
    "<p style = 'font-size:18px;font-family:Arial'> <b>Databases and Tables </b></p>\n",
    "<p style = 'font-size:16px;font-family:Arial'>The following code will clean up tables and databases created above.</p>"
   ]
  },
  {
   "cell_type": "code",
   "execution_count": null,
   "id": "f2b0644d-1b72-40d6-9c88-2e589660f787",
   "metadata": {},
   "outputs": [],
   "source": [
    "remove_context()"
   ]
  },
  {
   "cell_type": "markdown",
   "id": "84f6a59f-206c-474c-b702-586063d01a12",
   "metadata": {},
   "source": [
    "<hr style=\"height:1px;border:none;\">\n",
    "<b style = 'font-size:18px;font-family:Arial'>Dataset: stock_movement</b>\n",
    "\n",
    "<p style = 'font-size:16px;font-family:Arial'><b>Links:</b></p>\n",
    "<ul style = 'font-size:16px;font-family:Arial'>\n",
    "    <li>Teradataml Python reference: <a href = 'https://docs.teradata.com/search/all?query=Python+Package+User+Guide&content-lang=en-US'>here</a></li>\n",
    "    <li>RandomProjectionFit function reference: <a href = 'https://docs.teradata.com/search/all?query=RandomProjectionFit&value-filters=prodname~%2522Teradata+Package+for+Python%2522*vrm_release~%252220.00.00.03%2522&content-lang=en-US&_gl=1*3a7qi*_gcl_aw*R0NMLjE3MzMyMDc4MjguRUFJYUlRb2JDaE1JeVpYM3BQNktpZ01WSWpLREF4MmluUmowRUFBWUFTQUFFZ0tSRVBEX0J3RQ..*_gcl_au*MTM2MDk0NzQ4OS4xNzM3NTI3NTA5*_ga*NTU2MTUwNDQ1LjE2OTM4MDU3NjE.*_ga_7PE2TMW3FE*MTczOTE2Nzc1NS4xNTUuMS4xNzM5MTY3ODI1LjYwLjAuMA..'>here</a></li>\n",
    "    <li>RandomProjectionMinComponents function reference: <a href = 'https://docs.teradata.com/search/all?query=RandomProjectionMinComponents&value-filters=prodname~%2522Teradata+Package+for+Python%2522*vrm_release~%252220.00.00.03%2522&content-lang=en-US&_gl=1*3a7qi*_gcl_aw*R0NMLjE3MzMyMDc4MjguRUFJYUlRb2JDaE1JeVpYM3BQNktpZ01WSWpLREF4MmluUmowRUFBWUFTQUFFZ0tSRVBEX0J3RQ..*_gcl_au*MTM2MDk0NzQ4OS4xNzM3NTI3NTA5*_ga*NTU2MTUwNDQ1LjE2OTM4MDU3NjE.*_ga_7PE2TMW3FE*MTczOTE2Nzc1NS4xNTUuMS4xNzM5MTY3ODI1LjYwLjAuMA..'>here</a></li>\n",
    "    <li>RandomProjectionTransform function reference: <a href = 'https://docs.teradata.com/search/all?query=RandomProjectionTransform&value-filters=prodname~%2522Teradata+Package+for+Python%2522*vrm_release~%252220.00.00.03%2522&content-lang=en-US&_gl=1*3a7qi*_gcl_aw*R0NMLjE3MzMyMDc4MjguRUFJYUlRb2JDaE1JeVpYM3BQNktpZ01WSWpLREF4MmluUmowRUFBWUFTQUFFZ0tSRVBEX0J3RQ..*_gcl_au*MTM2MDk0NzQ4OS4xNzM3NTI3NTA5*_ga*NTU2MTUwNDQ1LjE2OTM4MDU3NjE.*_ga_7PE2TMW3FE*MTczOTE2Nzc1NS4xNTUuMS4xNzM5MTY3ODI1LjYwLjAuMA..'>here</a></li></li>\n",
    "</ul>"
   ]
  },
  {
   "cell_type": "markdown",
   "id": "877624f7-56b6-403e-92bc-809432343ee9",
   "metadata": {},
   "source": [
    "<footer style=\"padding-bottom:35px; border-bottom:3px solid #91A0Ab\">\n",
    "    <div style=\"float:left;margin-top:14px\">ClearScape Analytics™</div>\n",
    "    <div style=\"float:right;\">\n",
    "        <div style=\"float:left; margin-top:14px\">\n",
    "            Copyright © Teradata Corporation - 2025. All Rights Reserved\n",
    "        </div>\n",
    "    </div>\n",
    "</footer>"
   ]
  }
 ],
 "metadata": {
  "kernelspec": {
   "display_name": "Python 3 (ipykernel)",
   "language": "python",
   "name": "python3"
  },
  "language_info": {
   "codemirror_mode": {
    "name": "ipython",
    "version": 3
   },
   "file_extension": ".py",
   "mimetype": "text/x-python",
   "name": "python",
   "nbconvert_exporter": "python",
   "pygments_lexer": "ipython3",
   "version": "3.9.10"
  }
 },
 "nbformat": 4,
 "nbformat_minor": 5
}
