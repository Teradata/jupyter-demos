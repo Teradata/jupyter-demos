{
 "cells": [
  {
   "cell_type": "markdown",
   "id": "bc549e6c-0cc4-4188-94a3-a9bdd3ae3dfa",
   "metadata": {},
   "source": [
    "<header>\n",
    "   <p  style='font-size:36px;font-family:Arial; color:#F0F0F0; background-color: #00233c; padding-left: 20pt; padding-top: 20pt;padding-bottom: 10pt; padding-right: 20pt;'>\n",
    "       QQNorm function in Vantage\n",
    "  <br>\n",
    "       <img id=\"teradata-logo\" src=\"https://storage.googleapis.com/clearscape_analytics_demo_data/DEMO_Logo/teradata.svg\" alt=\"Teradata\" style=\"width: 125px; height: auto; margin-top: 20pt;\">\n",
    "    </p>\n",
    "</header>"
   ]
  },
  {
   "cell_type": "markdown",
   "id": "7ae7611a-0795-4168-b716-01fee6880cbd",
   "metadata": {},
   "source": [
    "<p style = 'font-size:20px;font-family:Arial'><b>Introduction</b></p>\n",
    "<p style = 'font-size:16px;font-family:Arial'><b>QQNorm </b> Function determines if values in input data columns follow normal distribution or not. \n",
    "    It returns the quantiles of the column values and corresponding theoretical quantile\n",
    "    values from a normal distribution. If the column values are normally distributed, then\n",
    "    the quantiles of column values and normal quantile values appear in a straight line\n",
    "    when plotted on a 2D graph.\n",
    "         <br> In this notebook we will see how we can use the QQ_Norm function available in Vantage.</p>"
   ]
  },
  {
   "cell_type": "markdown",
   "id": "6b3a00b4-6661-4c91-9b2d-cb7b0b403140",
   "metadata": {},
   "source": [
    "<hr style=\"height:2px;border:none;\">\n",
    "<b style = 'font-size:20px;font-family:Arial'>1. Initiate a connection to Vantage</b>"
   ]
  },
  {
   "cell_type": "markdown",
   "id": "2346857f-e0d3-488a-8a3f-ac6dff752c2b",
   "metadata": {},
   "source": [
    "<p style = 'font-size:16px;font-family:Arial'>In the section, we import the required libraries and set environment variables and environment paths (if required)."
   ]
  },
  {
   "cell_type": "code",
   "execution_count": null,
   "id": "c5af5af3-29d5-4f6a-8334-9df6924e7787",
   "metadata": {},
   "outputs": [],
   "source": [
    "from teradataml import *\n",
    "\n",
    "# Modify the following to match the specific client environment settings\n",
    "display.max_rows = 5"
   ]
  },
  {
   "cell_type": "markdown",
   "id": "ad3dd7b4-831c-4fb3-ab71-719c8c99a71c",
   "metadata": {},
   "source": [
    "<hr style=\"height:1px;border:none;\">\n",
    "<p style = 'font-size:18px;font-family:Arial'><b>1.1 Connect to Vantage</b></p>\n",
    "<p style = 'font-size:16px;font-family:Arial'>You will be prompted to provide the password. Enter your password, press the Enter key, and then use the down arrow to go to the next cell.</p>"
   ]
  },
  {
   "cell_type": "code",
   "execution_count": null,
   "id": "2742444c-4349-4b0f-b4e5-b068a8785cd9",
   "metadata": {},
   "outputs": [],
   "source": [
    "%run -i ../../UseCases/startup.ipynb\n",
    "eng = create_context(host = 'host.docker.internal', username='demo_user', password = password)\n",
    "print(eng)"
   ]
  },
  {
   "cell_type": "code",
   "execution_count": null,
   "id": "47458a05-2ad5-496b-b548-8fd5a2538ae1",
   "metadata": {},
   "outputs": [],
   "source": [
    "%%capture\n",
    "execute_sql('''SET query_band='DEMO=PP_QQNorm_Python.ipynb;' UPDATE FOR SESSION; ''')"
   ]
  },
  {
   "cell_type": "markdown",
   "id": "efe2fd2d-63ff-4278-9157-8b9110d682e8",
   "metadata": {},
   "source": [
    "<p style = 'font-size:16px;font-family:Arial'>Begin running steps with Shift + Enter keys. </p>"
   ]
  },
  {
   "cell_type": "markdown",
   "id": "f003f332-7489-4bdd-a740-4af2a0a22280",
   "metadata": {},
   "source": [
    "<hr style='height:1px;border:none;'>\n",
    "\n",
    "<p style = 'font-size:18px;font-family:Arial'><b>1.2 Getting Data for This Demo</b></p>\n",
    "\n",
    "<p style = 'font-size:16px;font-family:Arial'>We have provided data for this demo on cloud storage. You can either run the demo using foreign tables to access the data without any storage on your environment or download the data to local storage, which may yield faster execution. Still, there could be considerations of available storage. Two statements are in the following cell, and one is commented out. You may switch which mode you choose by changing the comment string.</p>"
   ]
  },
  {
   "cell_type": "code",
   "execution_count": null,
   "id": "45c86176-734c-4b1c-ace0-d0c88657b4f8",
   "metadata": {},
   "outputs": [],
   "source": [
    "%run -i ../../UseCases/run_procedure.py \"call get_data('DEMO_TitanicSurvival_cloud');\"        # Takes 30 seconds\n",
    "#%run -i ../../UseCases/run_procedure.py \"call get_data('DEMO_TitanicSurvival_local');\" "
   ]
  },
  {
   "cell_type": "markdown",
   "id": "2401d6d3-4fcd-46fc-8a94-7cafcd1258b0",
   "metadata": {},
   "source": [
    "<p style = 'font-size:16px;font-family:Arial'>Next is an optional step – if you want to see the status of databases/tables created and space used.</p>"
   ]
  },
  {
   "cell_type": "code",
   "execution_count": null,
   "id": "87429200-db02-450d-9472-4d1e2030124d",
   "metadata": {},
   "outputs": [],
   "source": [
    "%run -i ../../UseCases/run_procedure.py \"call space_report();\"        # Takes 10 seconds"
   ]
  },
  {
   "cell_type": "markdown",
   "id": "2a3762ac-ba27-4fa3-adba-d577262a4290",
   "metadata": {},
   "source": [
    "<hr style=\"height:2px;border:none;\">\n",
    "<b style = 'font-size:20px;font-family:Arial'>2. Data Exploration</b>\n",
    "<p style = 'font-size:16px;font-family:Arial'>Create a \"Virtual DataFrame\" that points to the data set in Vantage. Check the shape of the dataframe as check the datatype of all the columns of the dataframe.</p>"
   ]
  },
  {
   "cell_type": "code",
   "execution_count": null,
   "id": "3d936fab-7ca7-4e94-ba64-95c1da08b74f",
   "metadata": {},
   "outputs": [],
   "source": [
    "tdf = DataFrame(in_schema(\"DEMO_TitanicSurvival\", \"Passenger_Data\"))\n",
    "print(\"Shape of the data: \", tdf.shape)\n",
    "tdf"
   ]
  },
  {
   "cell_type": "code",
   "execution_count": null,
   "id": "3c5a0992-f651-49bc-9080-828fd9c0c982",
   "metadata": {},
   "outputs": [],
   "source": [
    "tdf.tdtypes"
   ]
  },
  {
   "cell_type": "markdown",
   "id": "78e062c7-59af-468f-a7bc-51473a61353f",
   "metadata": {},
   "source": [
    "<p style = 'font-size:16px;font-family:Arial'>Getting NULL percentage for all columns and imputing the values for NULLs</p>"
   ]
  },
  {
   "cell_type": "code",
   "execution_count": null,
   "id": "0e7a741f-afcb-4b9e-ad46-00b75c022924",
   "metadata": {
    "tags": []
   },
   "outputs": [],
   "source": [
    "colsum = ColumnSummary(\n",
    "    data  = tdf,\n",
    "    target_columns = [':']\n",
    ")\n",
    "colsum.result\n",
    "cs = colsum.result.filter(items = ['ColumnName', 'Datatype', 'NullPercentage', 'NullCount'])\n",
    "cs[cs['NullPercentage'] > 0.0]"
   ]
  },
  {
   "cell_type": "markdown",
   "id": "a4b6658d-6141-470a-87ad-79e8743a8b84",
   "metadata": {
    "tags": []
   },
   "source": [
    "<p style = 'font-size:16px;font-family:Arial'>Imputing missing value of age with mean value.</p>"
   ]
  },
  {
   "cell_type": "code",
   "execution_count": null,
   "id": "ecf4b196-a7a6-404f-86f9-0915da1fe533",
   "metadata": {},
   "outputs": [],
   "source": [
    "si_fit_obj = SimpleImputeFit(data=tdf,\n",
    "                              stats_columns=\"age\",\n",
    "                              stats=\"median\"\n",
    "                              )\n",
    "si_fit_obj.output"
   ]
  },
  {
   "cell_type": "code",
   "execution_count": null,
   "id": "38821742-5c1d-4e64-b620-6300b68167e2",
   "metadata": {},
   "outputs": [],
   "source": [
    "si_trans_obj = SimpleImputeTransform(data=tdf,\n",
    "                                 object=si_fit_obj.output\n",
    "                                 )\n",
    "si_trans_obj.result"
   ]
  },
  {
   "cell_type": "code",
   "execution_count": null,
   "id": "1a6908f6-dc8c-40f8-a672-703b50e46891",
   "metadata": {},
   "outputs": [],
   "source": [
    "titanic_si = si_trans_obj.result"
   ]
  },
  {
   "cell_type": "code",
   "execution_count": null,
   "id": "4fccb96f-6650-410a-b1f7-6f58bcddcf38",
   "metadata": {
    "tags": []
   },
   "outputs": [],
   "source": [
    "window_func_age= titanic_si.age.window(order_columns=\"age\")"
   ]
  },
  {
   "cell_type": "code",
   "execution_count": null,
   "id": "ca24a1d9-1418-43ce-97a7-2fa5310c05c7",
   "metadata": {},
   "outputs": [],
   "source": [
    "rank_age = titanic_si.assign(rank_age=window_func_age.rank())\n",
    "rank_age.select(['passenger','age','rank_age']).sort('rank_age')"
   ]
  },
  {
   "cell_type": "code",
   "execution_count": null,
   "id": "fd6912a1-898c-4a81-9806-58bfdcede358",
   "metadata": {},
   "outputs": [],
   "source": [
    "help(QQNorm)"
   ]
  },
  {
   "cell_type": "code",
   "execution_count": null,
   "id": "d7bec746-270a-4313-9b4b-a6950ff3525c",
   "metadata": {},
   "outputs": [],
   "source": [
    "obj_QQ = QQNorm(data=rank_age,\n",
    "                 target_columns=[\"age\"],\n",
    "                 rank_columns=[\"rank_age\"])"
   ]
  },
  {
   "cell_type": "code",
   "execution_count": null,
   "id": "c7a5b694-5e8a-43b9-8ae9-0b83d912d55b",
   "metadata": {},
   "outputs": [],
   "source": [
    "df_qq = obj_QQ.result\n",
    "df_qq"
   ]
  },
  {
   "cell_type": "code",
   "execution_count": null,
   "id": "56d63ab4-9056-4a97-83c0-7db48e3129ae",
   "metadata": {},
   "outputs": [],
   "source": [
    "plot = df_qq.plot(x=df_qq.age,\n",
    "                y=df_qq.age_theoretical_quantiles,\n",
    "                title=\"age distribution\",\n",
    "               kind=\"scatter\")\n",
    "plot.show()"
   ]
  },
  {
   "cell_type": "markdown",
   "id": "151d5db4-29a9-49d9-8a61-d53f9627a294",
   "metadata": {},
   "source": [
    "<hr style=\"height:2px;border:none;\">\n",
    "<b style = 'font-size:20px;font-family:Arial'>2. Cleanup</b>"
   ]
  },
  {
   "cell_type": "markdown",
   "id": "a562f058-fb24-4966-a25d-f2960e6ddfb8",
   "metadata": {},
   "source": [
    "<hr style=\"height:1px;border:none;\">\n",
    "<p style = 'font-size:18px;font-family:Arial'> <b>Databases and Tables </b></p>\n",
    "<p style = 'font-size:16px;font-family:Arial'>The following code will clean up tables and databases created above.</p>"
   ]
  },
  {
   "cell_type": "code",
   "execution_count": null,
   "id": "e6b3935b-47c2-4a96-bec2-68106d172116",
   "metadata": {},
   "outputs": [],
   "source": [
    "%run -i ../../UseCases/run_procedure.py \"call remove_data('DEMO_TitanicSurvival');\"        # Takes 10 seconds"
   ]
  },
  {
   "cell_type": "code",
   "execution_count": null,
   "id": "157fe3d4-4e0e-4d92-b343-9f758f3bf690",
   "metadata": {},
   "outputs": [],
   "source": [
    "remove_context()"
   ]
  },
  {
   "cell_type": "markdown",
   "id": "4317a6cf-1479-4aa8-b30a-ee0a3b5231a8",
   "metadata": {},
   "source": [
    "<hr style=\"height:1px;border:none;\">\n",
    "<p style = 'font-size:16px;font-family:Arial'><b>Links:</b></p>\n",
    "<ul style = 'font-size:16px;font-family:Arial'>\n",
    "    <li>Teradataml Python reference: <a href = 'https://docs.teradata.com/search/all?query=Python+Package+User+Guide&content-lang=en-US'>here</a></li>\n",
    "    <li>QQNorm function reference: <a href = 'https://docs.teradata.com/search/all?query=TD_QQNorm&content-lang=en-US'>here</a></li>\n",
    "</ul>"
   ]
  },
  {
   "cell_type": "markdown",
   "id": "b2dcca28-5de5-44d7-88cb-45a12153b3f8",
   "metadata": {},
   "source": [
    "<footer style=\"padding-bottom:35px; border-bottom:3px solid #91A0Ab\">\n",
    "    <div style=\"float:left;margin-top:14px\">ClearScape Analytics™</div>\n",
    "    <div style=\"float:right;\">\n",
    "        <div style=\"float:left; margin-top:14px\">\n",
    "            Copyright © Teradata Corporation - 2025. All Rights Reserved\n",
    "        </div>\n",
    "    </div>\n",
    "</footer>"
   ]
  }
 ],
 "metadata": {
  "kernelspec": {
   "display_name": "Python 3 (ipykernel)",
   "language": "python",
   "name": "python3"
  },
  "language_info": {
   "codemirror_mode": {
    "name": "ipython",
    "version": 3
   },
   "file_extension": ".py",
   "mimetype": "text/x-python",
   "name": "python",
   "nbconvert_exporter": "python",
   "pygments_lexer": "ipython3",
   "version": "3.9.10"
  }
 },
 "nbformat": 4,
 "nbformat_minor": 5
}
