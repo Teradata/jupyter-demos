{
 "cells": [
  {
   "cell_type": "markdown",
   "id": "bc549e6c-0cc4-4188-94a3-a9bdd3ae3dfa",
   "metadata": {},
   "source": [
    "<header>\n",
    "   <p  style='font-size:36px;font-family:Arial; color:#F0F0F0; background-color: #00233c; padding-left: 20pt; padding-top: 20pt;padding-bottom: 10pt; padding-right: 20pt;'>\n",
    "       SeasonalNormalize and Unnormalize function in Vantage\n",
    "  <br>\n",
    "       <img id=\"teradata-logo\" src=\"https://storage.googleapis.com/clearscape_analytics_demo_data/DEMO_Logo/teradata.svg\" alt=\"Teradata\" style=\"width: 125px; height: auto; margin-top: 20pt;\">\n",
    "    </p>\n",
    "</header>"
   ]
  },
  {
   "cell_type": "markdown",
   "id": "7ae7611a-0795-4168-b716-01fee6880cbd",
   "metadata": {},
   "source": [
    "<p style = 'font-size:20px;font-family:Arial;color:#00233C'><b>Introduction</b></p>\n",
    "<p style = 'font-size:16px;font-family:Arial;color:#00233C'> SeasonalNormalize() takes a non-stationary series and normalizes the series by first dividing the series into cycles and intervals, then averaging and normalizing with respect to each interval over all cycles. This form of normalization is effective relative to eliminating non-stationary properties such as unit roots and periodicities.</p>\n",
    " \n",
    "<p style = 'font-size:16px;font-family:Arial;color:#00233C'>The following procedure is an example of how to use SeasonalNormalize():</p>\n",
    "<li style = 'font-size:16px;font-family:Arial;color:#00233C'>Detect the unit roots using DickeyFuller().</li>\n",
    "<li style = 'font-size:16px;font-family:Arial;color:#00233C'>Use SeasonalNormalize() to create a series with potentially the unit roots eliminated.</li>\n",
    "<li style = 'font-size:16px;font-family:Arial;color:#00233C'>Use DickeyFuller() to verify that unit roots were eliminated from the newly-formed normalized series.</li>\n",
    "<li style = 'font-size:16px;font-family:Arial;color:#00233C'>Use ArimaEstimate() and ArimaValidate() to create an ARIMA model from the normalized series.</li>\n",
    "<li style = 'font-size:16px;font-family:Arial;color:#00233C'>Use ArimaForecast() to forecast the normalized series.</li>\n",
    "<li style = 'font-size:16px;font-family:Arial;color:#00233C'>Use Unnormalize() passing in the forecasted series and the original unnormalized series to produce a forecasted series with the effects of SeasonalNormalize() removed.</li>\n",
    " </p>\n",
    " \n",
    "<p style = 'font-size:16px;font-family:Arial;color:#00233C'>Here, we will just see the usage of SeasonalNormalize and Unnormalize functions</p>"
   ]
  },
  {
   "cell_type": "markdown",
   "id": "6b3a00b4-6661-4c91-9b2d-cb7b0b403140",
   "metadata": {},
   "source": [
    "<hr style=\"height:2px;border:none;background-color:#00233C;\">\n",
    "<b style = 'font-size:20px;font-family:Arial;color:#00233C'>1. Initiate a connection to Vantage</b>"
   ]
  },
  {
   "cell_type": "markdown",
   "id": "2346857f-e0d3-488a-8a3f-ac6dff752c2b",
   "metadata": {},
   "source": [
    "<p style = 'font-size:16px;font-family:Arial;color:#00233C'>In the section, we import the required libraries and set environment variables and environment paths (if required)."
   ]
  },
  {
   "cell_type": "code",
   "execution_count": null,
   "id": "c5af5af3-29d5-4f6a-8334-9df6924e7787",
   "metadata": {},
   "outputs": [],
   "source": [
    "from teradataml import (\n",
    "    create_context,\n",
    "    execute_sql,\n",
    "    load_example_data,\n",
    "    DataFrame,\n",
    "    in_schema,\n",
    "    TDSeries,\n",
    "    SeasonalNormalize,\n",
    "    Unnormalize,\n",
    "    Figure,\n",
    "    plot,\n",
    "    db_drop_view,\n",
    "    remove_context,\n",
    "    copy_to_sql,\n",
    "    db_drop_table\n",
    "    )\n",
    "\n",
    "from teradatasqlalchemy.types import *\n",
    "\n",
    "from teradataml import to_numeric\n",
    "# Modify the following to match the specific client environment settings\n",
    "display.max_rows = 5"
   ]
  },
  {
   "cell_type": "markdown",
   "id": "ad3dd7b4-831c-4fb3-ab71-719c8c99a71c",
   "metadata": {},
   "source": [
    "<hr style=\"height:1px;border:none;background-color:#00233C;\">\n",
    "<p style = 'font-size:18px;font-family:Arial;color:#00233c'><b>1.1 Connect to Vantage</b></p>\n",
    "<p style = 'font-size:16px;font-family:Arial;color:#00233C'>You will be prompted to provide the password. Enter your password, press the Enter key, and then use the down arrow to go to the next cell.</p>"
   ]
  },
  {
   "cell_type": "code",
   "execution_count": null,
   "id": "2742444c-4349-4b0f-b4e5-b068a8785cd9",
   "metadata": {},
   "outputs": [],
   "source": [
    "%run -i ../../UseCases/startup.ipynb\n",
    "eng = create_context(host = 'host.docker.internal', username='demo_user', password = password)\n",
    "print(eng)"
   ]
  },
  {
   "cell_type": "code",
   "execution_count": null,
   "id": "01c4a128-d106-46ea-8dee-34acc5abd29f",
   "metadata": {},
   "outputs": [],
   "source": [
    "%%capture\n",
    "execute_sql('''SET query_band='DEMO=PP_SeasonalNormalize_Unnnormalize_Python.ipynb;' UPDATE FOR SESSION; ''')"
   ]
  },
  {
   "cell_type": "markdown",
   "id": "efe2fd2d-63ff-4278-9157-8b9110d682e8",
   "metadata": {},
   "source": [
    "<p style = 'font-size:16px;font-family:Arial;color:#00233C'>Begin running steps with Shift + Enter keys. </p>"
   ]
  },
  {
   "cell_type": "markdown",
   "id": "f003f332-7489-4bdd-a740-4af2a0a22280",
   "metadata": {},
   "source": [
    "<hr style='height:1px;border:none;background-color:#00233C;'>\n",
    "\n",
    "<p style = 'font-size:18px;font-family:Arial;color:#00233c'><b>1.2 Getting Data for This Demo</b></p>\n",
    "\n",
    "<p style = 'font-size:16px;font-family:Arial;color:#00233C'>We have provided data for this demo on cloud storage. You can either run the demo using foreign tables to access the data without any storage on your environment or download the data to local storage, which may yield faster execution. Still, there could be considerations of available storage. Two statements are in the following cell, and one is commented out. You may switch which mode you choose by changing the comment string.</p>"
   ]
  },
  {
   "cell_type": "code",
   "execution_count": null,
   "id": "04b3da5c-3b34-492a-a70d-f582c19169bb",
   "metadata": {},
   "outputs": [],
   "source": [
    "# %run -i ../run_procedure.py \"call get_data('DEMO_SalesForecastingUAF_cloud');\"        # Takes 1 minute\n",
    "%run -i ../../UseCases/run_procedure.py \"call get_data('DEMO_SalesForecastingUAF_local');\"        # Takes 2 minutes"
   ]
  },
  {
   "cell_type": "markdown",
   "id": "2401d6d3-4fcd-46fc-8a94-7cafcd1258b0",
   "metadata": {},
   "source": [
    "<p style = 'font-size:16px;font-family:Arial;color:#00233C'>Next is an optional step – if you want to see the status of databases/tables created and space used.</p>"
   ]
  },
  {
   "cell_type": "code",
   "execution_count": null,
   "id": "87429200-db02-450d-9472-4d1e2030124d",
   "metadata": {},
   "outputs": [],
   "source": [
    "%run -i ../../UseCases/run_procedure.py \"call space_report();\"        # Takes 10 seconds"
   ]
  },
  {
   "cell_type": "markdown",
   "id": "2a3762ac-ba27-4fa3-adba-d577262a4290",
   "metadata": {},
   "source": [
    "<hr style=\"height:2px;border:none;background-color:#00233C;\">\n",
    "<b style = 'font-size:20px;font-family:Arial;color:#00233C'>2. Data Exploration</b>\n",
    "<p style = 'font-size:16px;font-family:Arial;color:#00233C'>Create a \"Virtual DataFrame\" that points to the data set in Vantage. Check the shape of the dataframe as check the datatype of all the columns of the dataframe.</p>"
   ]
  },
  {
   "cell_type": "code",
   "execution_count": null,
   "id": "9672d80d-cdcc-4f4c-9399-7c367e7970b1",
   "metadata": {},
   "outputs": [],
   "source": [
    "sales_data = DataFrame(in_schema('DEMO_SalesForecastingUAF', 'Weekly_Sales'))\n",
    "feature_data = DataFrame(in_schema('DEMO_SalesForecastingUAF', 'Features')).drop(['IsHoliday'], axis=1)\n",
    "store_data = DataFrame(in_schema('DEMO_SalesForecastingUAF', 'Stores'))"
   ]
  },
  {
   "cell_type": "markdown",
   "id": "69cde900-07d5-4064-b445-4181c0c3e3b9",
   "metadata": {},
   "source": [
    "<p style = 'font-size:16px;font-family:Arial;color:#00233C'>We will join datasets to create the Analytic Data Set using tdml for basic dataframe manipulations</p>"
   ]
  },
  {
   "cell_type": "code",
   "execution_count": null,
   "id": "d31db9d4-e290-44a7-be24-461936ec3bba",
   "metadata": {
    "ExecuteTime": {
     "end_time": "2022-12-15T17:11:20.075888Z",
     "start_time": "2022-12-15T17:11:19.284616Z"
    }
   },
   "outputs": [],
   "source": [
    "# Join store_data with sales_data\n",
    "sales_data = (\n",
    "    sales_data.join(store_data, on='Store', how='left', lprefix='t1', rprefix='t2')\n",
    "    .drop(['t2_Store'], axis=1)\n",
    ")\n",
    "sales_data = sales_data.assign(Store=sales_data['t1_Store'])\n",
    "sales_data = sales_data.drop(['t1_Store'], axis=1)\n",
    "\n",
    "# Join feature_data with sales_data\n",
    "sales_data = (\n",
    "    sales_data.join(feature_data, on=['Store', 'Date'], how='left', lprefix='t1', rprefix='t3')\n",
    "    .drop(['t3_Store'], axis=1)\n",
    "    .drop(['t3_Date'], axis=1)\n",
    ")\n",
    "sales_data = sales_data.assign(Store=sales_data['t1_Store'])\n",
    "sales_data = sales_data.assign(Date=sales_data['t1_Date'])\n",
    "sales_data = sales_data.drop(['t1_Store'], axis=1)\n",
    "sales_data = sales_data.drop(['t1_Date'], axis=1)"
   ]
  },
  {
   "cell_type": "markdown",
   "id": "4cde0c00-1583-478d-a03b-47f73899bb38",
   "metadata": {},
   "source": [
    "<p style = 'font-size:16px;font-family:Arial;color:#00233C'>We will creating time series identifier for partitioning the data. We will join the department and store ID which provides a unique ID for every time series to create a column for partitioning.</p>"
   ]
  },
  {
   "cell_type": "code",
   "execution_count": null,
   "id": "72716411-adf2-425a-993d-c0e6f0006077",
   "metadata": {
    "ExecuteTime": {
     "end_time": "2022-12-15T17:11:22.088738Z",
     "start_time": "2022-12-15T17:11:21.067081Z"
    }
   },
   "outputs": [],
   "source": [
    "# Assign a new column 'idcols' based on string concatenation\n",
    "sales_data = sales_data.assign(idcols=sales_data.Dept.str.strip() + '-' + sales_data.Store.str.strip())\n",
    "sales_data = sales_data.assign(idcols=sales_data.idcols.cast(type_=VARCHAR(10)))\n",
    "\n",
    "# Check the shape of the DataFrame\n",
    "sales_data.shape"
   ]
  },
  {
   "cell_type": "markdown",
   "id": "92e17b4c-5f50-4be3-b401-44ed0186122a",
   "metadata": {},
   "source": [
    "<p style = 'font-size:16px;font-family:Arial;color:#00233C'>The dataset we created contains more than 421k rows and 19 columns. This final dataset will be copied to Vantage database</p>"
   ]
  },
  {
   "cell_type": "code",
   "execution_count": null,
   "id": "c63261c1-5145-4a98-889d-ad02ec71407c",
   "metadata": {
    "ExecuteTime": {
     "end_time": "2022-12-15T17:11:27.910956Z",
     "start_time": "2022-12-15T17:11:22.094679Z"
    }
   },
   "outputs": [],
   "source": [
    "copy_to_sql(df = sales_data, table_name = \"az_sf_joined\", if_exists = \"replace\")"
   ]
  },
  {
   "cell_type": "markdown",
   "id": "4a2f79a0-eb16-4c3b-bec2-c313e97ac940",
   "metadata": {},
   "source": [
    "<hr style=\"height:2px;border:none;background-color:#00233C;\">\n",
    "<b style = 'font-size:20px;font-family:Arial;color:#00233C'>3. SeasonalNormalize</b>\n",
    "<p style = 'font-size:16px;font-family:Arial;color:#00233C'>SeasonalNormalize() takes a non-stationary series and normalizes the series by first dividing the series into cycles and intervals, then averaging and normalizing with respect to each interval over all cycles.</p>\n",
    "\n",
    "<p style = 'font-size:16px;font-family:Arial;color:#00233C'>The first step is to convert the time series data into TDSeries, which is required for the input time series which are passed to the convolve function.</p>\n"
   ]
  },
  {
   "cell_type": "code",
   "execution_count": null,
   "id": "0c91ad72-2e3d-46dd-b6fd-895ad4b29194",
   "metadata": {},
   "outputs": [],
   "source": [
    "from teradataml import TDSeries, Resample\n",
    "\n",
    "data_series_df = TDSeries(\n",
    "    data=sales_data,\n",
    "    id=\"idcols\",\n",
    "    row_index=(\"times\"),\n",
    "    row_index_style=\"TIMECODE\",\n",
    "    payload_field=\"Weekly_Sales\",\n",
    "    payload_content=\"REAL\"\n",
    ")\n",
    "uaf_out1 = Resample(data=data_series_df,\n",
    "                    interpolate='LINEAR',\n",
    "                    timecode_start_value=\"TIMESTAMP '2010-02-05 00:00:00'\",\n",
    "                    timecode_duration=\"WEEKS(1)\")\n",
    "\n",
    "df=uaf_out1.result\n",
    "df1=df.select(['idcols','ROW_I', 'Weekly_Sales']).assign(Sales_Date=df.ROW_I)\n",
    "df1"
   ]
  },
  {
   "cell_type": "code",
   "execution_count": null,
   "id": "a711f58c-fbd3-4457-9f6a-9cd5c1b192dc",
   "metadata": {},
   "outputs": [],
   "source": [
    "data_series_df_norm = TDSeries(data=df1,\n",
    "                              id=\"idcols\",\n",
    "                              row_index=\"Sales_Date\",\n",
    "                              row_index_style=\"TIMECODE\",\n",
    "                              payload_field=\"Weekly_Sales\",\n",
    "                              payload_content=\"REAL\",\n",
    "                              interval=\"WEEKS(1)\") "
   ]
  },
  {
   "cell_type": "code",
   "execution_count": null,
   "id": "8965392c-404e-4e25-b5b8-c7ef06069154",
   "metadata": {},
   "outputs": [],
   "source": [
    "# Normalize the series by removing the unit roots.\n",
    "from teradataml import SeasonalNormalize\n",
    "uaf_out = SeasonalNormalize(data=data_series_df_norm,\n",
    "                                season_cycle=\"WEEKS\",\n",
    "                                cycle_duration=1,\n",
    "                                output_fmt_index_style = 'FLOW_THROUGH')\n",
    "norm_df = uaf_out.result\n",
    "norm_df"
   ]
  },
  {
   "cell_type": "code",
   "execution_count": null,
   "id": "791a93e6-c664-4287-921d-e04e40267259",
   "metadata": {},
   "outputs": [],
   "source": [
    "uaf_out.metadata"
   ]
  },
  {
   "cell_type": "markdown",
   "id": "54bc4a6d-7c80-4c60-8c16-f125dc4dad7c",
   "metadata": {},
   "source": [
    "<hr style=\"height:2px;border:none;background-color:#00233C;\">\n",
    "<b style = 'font-size:20px;font-family:Arial;color:#00233C'>4. Unnormalize</b>\n",
    "<p style = 'font-size:16px;font-family:Arial;color:#00233C'>The Unnormalize() function reconstructs a series created by SeasonalNormalize(). The function is usually used for the forecasting phase of modeling.</p>\n",
    " \n",
    "<p style = 'font-size:16px;font-family:Arial;color:#00233C'>The following procedure is an example of how to use function when the series to be modeled is found to be unstationary:</p>\n",
    "<li style = 'font-size:16px;font-family:Arial;color:#00233C'>Use SeasonalNormalize() to make the series stationary.</li>\n",
    "<li style = 'font-size:16px;font-family:Arial;color:#00233C'>Develop the ARIMA forecast model.</li>\n",
    "<li style = 'font-size:16px;font-family:Arial;color:#00233C'>Use the ARIMA model to forecast the normalized series.</li>\n",
    "<li style = 'font-size:16px;font-family:Arial;color:#00233C'>Use function on the forecasted normalized series to undo the effects of normalization and produce the final forecasted series result.</li>\n",
    "          \n",
    "</p>          \n",
    "\n",
    "<p style = 'font-size:16px;font-family:Arial;color:#00233C'>The first step is to convert the time series data into TDSeries, which is required for the input time series which are passed to the convolve function.</p>\n"
   ]
  },
  {
   "cell_type": "code",
   "execution_count": null,
   "id": "7b4e9983-08c4-4b3e-be24-91775745efc8",
   "metadata": {},
   "outputs": [],
   "source": [
    "# Create teradataml TDSeries objects.\n",
    "td_series1 = TDSeries(data=uaf_out.result,\n",
    "                          id=\"idcols\",\n",
    "                          row_index=\"ROW_I\",\n",
    "                          row_index_style=\"TIMECODE\",\n",
    "                          payload_field=\"Weekly_Sales\",\n",
    "                          payload_content=\"REAL\",\n",
    "                          interval=\"WEEKS(1)\"\n",
    "                          )"
   ]
  },
  {
   "cell_type": "code",
   "execution_count": null,
   "id": "21a7576e-671e-4686-b9d3-afc65276374f",
   "metadata": {},
   "outputs": [],
   "source": [
    "# Example 1 : Function reverse the effects of normalization and\n",
    "#             produce the final forecasted series result using TDSeries.\n",
    " \n",
    "# Create teradataml TDSeries objects.\n",
    "td_series2 = TDSeries(data=uaf_out.metadata,\n",
    "                          id=\"idcols\",\n",
    "                          row_index=\"ROW_I\",\n",
    "                          row_index_style=\"SEQUENCE\",\n",
    "                          payload_field=[\"MEAN_Weekly_Sales\", \"SD_Weekly_Sales\"],\n",
    "                          payload_content=\"MULTIVAR_REAL\"\n",
    "                          )"
   ]
  },
  {
   "cell_type": "code",
   "execution_count": null,
   "id": "56df9974-540e-49f9-93ec-07f54ae45013",
   "metadata": {},
   "outputs": [],
   "source": [
    "uaf_out = Unnormalize(data1=td_series1,\n",
    "                          data2=td_series2,\n",
    "                          input_fmt_input_mode=\"MATCH\",\n",
    "                          output_fmt_index_style=\"FLOW_THROUGH\")\n",
    " \n",
    "# Print the result DataFrame.\n",
    "unnorm_df=uaf_out.result\n",
    "unnorm_df"
   ]
  },
  {
   "cell_type": "markdown",
   "id": "c25fdaf1-098b-4dea-984b-579c6412557e",
   "metadata": {},
   "source": [
    "<hr style=\"height:2px;border:none;background-color:#00233C;\">\n",
    "<b style = 'font-size:20px;font-family:Arial;color:#00233C'>5. Cleanup</b>"
   ]
  },
  {
   "cell_type": "markdown",
   "id": "82901004-be46-4ec0-9ef6-d181023b0c17",
   "metadata": {},
   "source": [
    "<p style = 'font-size:18px;font-family:Arial;color:#00233C'><b>Work Tables</b></p>\n",
    "<p style = 'font-size:16px;font-family:Arial;color:#00233C'>The following code will clean up intermediate tables.</p>"
   ]
  },
  {
   "cell_type": "code",
   "execution_count": null,
   "id": "d969f206-a1bd-45a3-9aba-da67c5390114",
   "metadata": {},
   "outputs": [],
   "source": [
    "db_drop_table(table_name='az_sf_joined')"
   ]
  },
  {
   "cell_type": "markdown",
   "id": "a5d460af-1a32-4681-8094-360c3f25dc1f",
   "metadata": {},
   "source": [
    "<p style = 'font-size:18px;font-family:Arial;color:#00233C'><b>Databases and Tables</b></p>\n",
    "<p style = 'font-size:16px;font-family:Arial;color:#00233C'>The following code will clean up tables and databases created above.</p>"
   ]
  },
  {
   "cell_type": "code",
   "execution_count": null,
   "id": "9dff9677-dae1-4cc5-b78e-3d197cc41e0c",
   "metadata": {},
   "outputs": [],
   "source": [
    "%run -i ../../UseCases/run_procedure.py \"call remove_data('DEMO_SalesForecastingUAF');\" \n",
    "#Takes 45 seconds"
   ]
  },
  {
   "cell_type": "code",
   "execution_count": null,
   "id": "9b96168c-7973-4259-b3e0-668b92fd846e",
   "metadata": {},
   "outputs": [],
   "source": [
    "remove_context()"
   ]
  },
  {
   "cell_type": "markdown",
   "id": "4317a6cf-1479-4aa8-b30a-ee0a3b5231a8",
   "metadata": {},
   "source": [
    "<hr style=\"height:1px;border:none;background-color:#00233C;\">\n",
    "\n",
    "<p style = 'font-size:16px;font-family:Arial;color:#00233C'><b>Links:</b></p>\n",
    "<ul style = 'font-size:16px;font-family:Arial'>\n",
    "    <li>Teradataml Python reference: <a href = 'https://docs.teradata.com/search/all?query=Python+Package+User+Guide&content-lang=en-US'>here</a></li>\n",
    "    <li>SeasonalNormalize function reference: <a href = 'https://docs.teradata.com/search/all?query=SeasonalNormalize&content-lang=en-US'>here</a></li>\n",
    "    <li>Unnormalize function reference: <a href = 'https://docs.teradata.com/search/all?query=Unnormalize&content-lang=en-US'>here</a></li>\n",
    "</ul>"
   ]
  },
  {
   "cell_type": "markdown",
   "id": "b2dcca28-5de5-44d7-88cb-45a12153b3f8",
   "metadata": {},
   "source": [
    "<footer style=\"padding-bottom:35px; background:#f9f9f9; border-bottom:3px solid #00233C\">\n",
    "    <div style=\"float:left;margin-top:14px\">ClearScape Analytics™</div>\n",
    "    <div style=\"float:right;\">\n",
    "        <div style=\"float:left; margin-top:14px\">\n",
    "            Copyright © Teradata Corporation - 2025. All Rights Reserved\n",
    "        </div>\n",
    "    </div>\n",
    "</footer>"
   ]
  }
 ],
 "metadata": {
  "kernelspec": {
   "display_name": "Python 3 (ipykernel)",
   "language": "python",
   "name": "python3"
  },
  "language_info": {
   "codemirror_mode": {
    "name": "ipython",
    "version": 3
   },
   "file_extension": ".py",
   "mimetype": "text/x-python",
   "name": "python",
   "nbconvert_exporter": "python",
   "pygments_lexer": "ipython3",
   "version": "3.9.10"
  }
 },
 "nbformat": 4,
 "nbformat_minor": 5
}
