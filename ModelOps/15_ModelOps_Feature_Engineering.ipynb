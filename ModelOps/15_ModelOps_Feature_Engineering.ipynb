{
 "cells": [
  {
   "cell_type": "markdown",
   "id": "93451e5b",
   "metadata": {},
   "source": [
    "<header>\n",
    "   <p  style='font-size:36px;font-family:Arial; color:#F0F0F0; background-color: #00233c; padding-left: 20pt; padding-top: 20pt;padding-bottom: 10pt; padding-right: 20pt;'>\n",
    "       ModelOps Feature Engineering\n",
    "  <br>\n",
    "       <img id=\"teradata-logo\" src=\"https://storage.googleapis.com/clearscape_analytics_demo_data/DEMO_Logo/teradata.svg\" alt=\"Teradata\" style=\"width: 125px; height: auto; margin-top: 20pt;\">\n",
    "    </p>\n",
    "</header>"
   ]
  },
  {
   "cell_type": "markdown",
   "id": "fb8c4e05-6a39-44bd-8443-be26e433c14f",
   "metadata": {},
   "source": [
    "<div style=\"display: flex; justify-content: center; gap: 20px; align-items: center; font-family: Arial, sans-serif;\">\n",
    "  <div style=\"text-align: center;\">\n",
    "    <img src=\"images/01_08.png\" alt=\"BYOM Model Lifecycle - Light Mode\" width=\"500\" height=\"500\" style = \"border: 1px solid #00233C; border-radius: 10px; box-shadow: 0 4px 8px rgba(0, 0, 0, 0.2);\"/>\n",
    "  </div>\n",
    "  <div style=\"text-align: center;\">\n",
    "    <img src=\"images/01_40.png\" alt=\"BYOM Model Lifecycle - Dark Mode\" width=\"500\" height=\"500\" style = \"border: 1px solid #00233C; border-radius: 10px; box-shadow: 0 4px 8px rgba(0, 0, 0, 0.2);\"/>\n",
    "  </div>\n",
    "  <div style=\"text-align: center;\">\n",
    "    <img src=\"images/01_37.png\" alt=\"BYOM Model Lifecycle - Light Mode\" width=\"500\" height=\"500\" style = \"border: 1px solid #00233C; border-radius: 10px; box-shadow: 0 4px 8px rgba(0, 0, 0, 0.2);\"/>\n",
    "  </div>\n",
    "  <div style=\"text-align: center;\">\n",
    "    <img src=\"images/01_41.png\" alt=\"BYOM Model Lifecycle - Light Mode\" width=\"500\" height=\"500\" style = \"border: 1px solid #00233C; border-radius: 10px; box-shadow: 0 4px 8px rgba(0, 0, 0, 0.2);\"/>\n",
    "  </div>\n",
    "</div>"
   ]
  },
  {
   "cell_type": "markdown",
   "id": "4fecc4a9",
   "metadata": {},
   "source": [
    "<p style = 'font-size:20px;font-family:Arial'><b>Introduction</b></p>\n",
    "<p style = 'font-size:16px;font-family:Arial'><b><i>Teradata ClearScape Analytics ModelOps</i></b> is the Model Management framework that empowers data scientists and machine learning engineers to deploy and manage their advanced analytics models within Teradata Vantage. ClearScape Analytics ModelOps provides a comprehensive methodology, intuitive user interface, and an automation agent to guide users in seamlessly integrating their models into business processes in production. The ModelOps Agent ensures continuous optimization of both models and data for performance and accuracy. This leads to faster time-to-value, reduced operational risks, and enhanced decision-making capabilities.</p>\n",
    "\n",
    "\n",
    "<p style = 'font-size:16px;font-family:Arial'>Feature engineering scripts enable users to preprocess and transform data within the ModelOps pipeline, ensuring that features are prepared consistently for model training, testing, and deployment. These scripts can be integrated to automate data transformations, such as handling missing values, scaling, encoding, and generating new features.</p>"
   ]
  },
  {
   "cell_type": "markdown",
   "id": "507cc7f4-6dd9-4f0c-8afd-d8b1154b5662",
   "metadata": {},
   "source": [
    "<hr style=\"height:2px;border:none;\">\n",
    "<p style = 'font-size:20px;font-family:Arial'><b>1. Create a project and connection (ModelOps) </b></p>"
   ]
  },
  {
   "cell_type": "markdown",
   "id": "37c4a7e1-bc1c-4e11-911a-29f9425541b2",
   "metadata": {},
   "source": [
    "<p style = 'font-size:16px;font-family:Arial'>A project is used in ModelOps to organize your Model Catalog with your model version. It is linked to a git repository, and can be assigned to a user or a group of users for collaboration.</p>\n",
    "\n",
    "<p style = 'font-size:16px;font-family:Arial'>To create a new project sign in into ModelOps using this button below, then select Projects from the navigation bar. Click on <b>Create Project</b> and fill in the required details.</p>"
   ]
  },
  {
   "cell_type": "markdown",
   "id": "8b4b6b52-b28f-4721-942b-ac42a9ab8540",
   "metadata": {},
   "source": [
    "<a href=\"/modelops\" style=\"display: inline-flex; align-items: center; justify-content: center; background-color: #017373; color: #FFFFFF; font-family: Arial, sans-serif; font-size: 16px; font-weight: bold; text-decoration: none; padding: 12px 24px; border: none; border-radius: 8px; box-shadow: 0 4px 6px rgba(0, 0, 0, 0.1); cursor: pointer; transition: all 0.3s ease;\">\n",
    "  LAUNCH MODELOPS\n",
    "  <img src=\"https://img.icons8.com/ios-filled/50/ffffff/external-link.png\" alt=\"External Link Icon\" style=\"margin-left: 8px; width: 20px; height: 20px;\">\n",
    "</a>"
   ]
  },
  {
   "cell_type": "markdown",
   "id": "8d5308c6-d614-451a-89d1-073860e270dc",
   "metadata": {},
   "source": [
    "<img src=\"images/15_14.png\" alt=\"BYOM model lifecycle\" width=\"600\" height=\"400\" style = \"border: 1px solid #00233C; border-radius: 10px; box-shadow: 0 4px 8px rgba(0, 0, 0, 0.2);\"/>"
   ]
  },
  {
   "cell_type": "markdown",
   "id": "aa148d6f-d6db-4ec5-8879-6f9a76cecd89",
   "metadata": {},
   "source": [
    "<table style = 'font-size:16px;font-family:Arial;width:50%;border: 1px solid black;align: left;margin-left: 10px;'>\n",
    "  <tr style = 'font-size:16px;font-family:Arial;width:50%;border: 1px solid black'>\n",
    "    <th>Property</th>\n",
    "    <th>Description</th>\n",
    "    \n",
    "  </tr>\n",
    "  <tr style = 'font-size:16px;font-family:Arial;width:100%;border: 1px solid black;text-align: center'>\n",
    "    <td>Name</td>\n",
    "    <td>Feature Engineering Demo</td>\n",
    "    \n",
    "  </tr>\n",
    "  <tr style = 'font-size:16px;font-family:Arial;width:100%;border: 1px solid black;text-align: center'>\n",
    "    <td>Description</td>\n",
    "    <td>A demo for Feature Engineering</td>\n",
    "    \n",
    "  </tr>\n",
    "  <tr style = 'font-size:16px;font-family:Arial;width:100%;border: 1px solid black;text-align: center'>\n",
    "    <td>Group</td>\n",
    "    <td>Demo</td>\n",
    "    \n",
    "  </tr>\n",
    "  <tr style = 'font-size:16px;font-family:Arial;width:100%;border: 1px solid black;text-align: center'>\n",
    "    <td>Path</td>\n",
    "    <td>/app/built-in/empty</td>\n",
    "    \n",
    "  </tr>\n",
    "  <tr style = 'font-size:16px;font-family:Arial;width:100%;border: 1px solid black;text-align: center'>\n",
    "    <td>Credentials</td>\n",
    "    <td>No Credentials</td>\n",
    "    \n",
    "  </tr>\n",
    "</table>"
   ]
  },
  {
   "cell_type": "markdown",
   "id": "d7171ea9-ee96-446f-ac9e-c62500c3dd19",
   "metadata": {},
   "source": [
    "<img src=\"images/15_15.png\" alt=\"BYOM model lifecycle\" width=\"400\" height=\"200\" style = \"border: 1px solid #00233C; border-radius: 10px; box-shadow: 0 4px 8px rgba(0, 0, 0, 0.2);\"/>"
   ]
  },
  {
   "cell_type": "markdown",
   "id": "d4d76249-ca81-4d68-b0c5-419e6db30ccd",
   "metadata": {},
   "source": [
    "<p style = 'font-size:16px;font-family:Arial'>After we <b>Save & continue</b> we will have to add a Personal connection.</p>\n",
    "<p>\n",
    "<img src=\"images/15_16.png\" alt=\"PersonalConn\" width=\"300\" height=\"100\" style = \"border: 1px solid #00233C; border-radius: 10px; box-shadow: 0 4px 8px rgba(0, 0, 0, 0.2);\"/>\n",
    "    </p>"
   ]
  },
  {
   "cell_type": "markdown",
   "id": "ea928363-9a30-478b-8101-f124ed710604",
   "metadata": {},
   "source": [
    "<p style = 'font-size:16px;font-family:Arial'>We need to add the details for the Vantage connection and click on <b>Save</b>, and than Save the project.</p>\n",
    "<p>\n",
    "<img src=\"images/15_17.png\" alt=\"PersonalConn\" width=\"300\" height=\"100\" style = \"border: 1px solid #00233C; border-radius: 10px; box-shadow: 0 4px 8px rgba(0, 0, 0, 0.2);\"/>\n",
    "    </p>"
   ]
  },
  {
   "cell_type": "markdown",
   "id": "97ddb63a-5101-4398-a9d2-51dd7499afe7",
   "metadata": {},
   "source": [
    "<hr style=\"height:2px;border:none;\">\n",
    "<p><b style = 'font-size:20px;font-family:Arial'>2. Create feature engineering script <i>(Optional)</i></b></p>\n",
    "\n",
    "<p style = 'font-size:16px;font-family:Arial'>The feature engineering function takes the following shape </p>\n",
    "\n",
    "```python\n",
    "def run_task(context: ModelContext, **kwargs):\n",
    "    aoa_create_context()\n",
    "    \n",
    "    # your feature engineering code\n",
    "    df = DataFrame.from_query(\"SELECT * FROM DEMO_ModelOps.pima_patient_features\")\n",
    "    \n",
    "    # Write DataFrame to a Teradata table\n",
    "    copy_to_sql(\n",
    "        df=transformed_data,\n",
    "        table_name='transformed_data',\n",
    "        if_exists='replace'\n",
    "    )\n",
    "```\n",
    "<p style = 'font-size:16px;font-family:Arial'>You can execute this from the CLI or directly within the notebook as shown.</p>"
   ]
  },
  {
   "cell_type": "markdown",
   "id": "aa90ccd0-6abb-41aa-bae8-007985624770",
   "metadata": {},
   "source": [
    "<div class=\"alert alert-block alert-warning\">\n",
    "<p style = 'font-size:16px;font-family:Arial'><b>Note: </b><i>If your <b>git</b> is not set up, please refer to the notebook located at</i> <b>ModelOps/06_ModelOps_GIT_Project_Setup.ipynb</b></p>\n",
    "    <a href=\"./06_ModelOps_GIT_Project_Setup.ipynb\" style=\"font-size:16px; font-family:Arial; color:white; background-color:#007bff; padding:10px 20px; border-radius:5px; text-decoration:none; display:inline-block;\">\n",
    "  06_ModelOps_GIT_Project_Setup.ipynb &gt;&gt;\n",
    "    </a>\n",
    "</div>"
   ]
  },
  {
   "cell_type": "code",
   "execution_count": null,
   "id": "5e00eb62-4425-470d-b56a-740579de5fc8",
   "metadata": {},
   "outputs": [],
   "source": [
    "model_local_path = '~/modelops-demo-models/feature_engineering_tasks'"
   ]
  },
  {
   "cell_type": "code",
   "execution_count": null,
   "id": "b612e2bd-3d12-429b-88d8-fe3478bd736c",
   "metadata": {},
   "outputs": [],
   "source": [
    "!mkdir $model_local_path/pima_data_prep"
   ]
  },
  {
   "cell_type": "code",
   "execution_count": null,
   "id": "51bb236e",
   "metadata": {},
   "outputs": [],
   "source": [
    "%%writefile $model_local_path/pima_data_prep/task.py\n",
    "from teradataml import *\n",
    "from aoa import (aoa_create_context, ModelContext)\n",
    "import pandas as pd\n",
    "import numpy as np\n",
    "\n",
    "def run_task(context: ModelContext, **kwargs):\n",
    "    aoa_create_context()\n",
    "    df = DataFrame.from_query(\"SELECT * FROM DEMO_ModelOps.pima_patient_features\")\n",
    "    \n",
    "    scale_fit = ScaleFit(\n",
    "        data=df,\n",
    "        target_columns=[\"1:\"],\n",
    "        scale_method=\"RANGE\",\n",
    "        miss_value=\"KEEP\",\n",
    "        global_scale=False\n",
    "    ).output\n",
    "    \n",
    "    transformed_data = ColumnTransformer(\n",
    "        input_data=df,\n",
    "        scale_fit_data=scale_fit,\n",
    "    ).result\n",
    "    \n",
    "    # Write DataFrame to a Teradata table\n",
    "    copy_to_sql(\n",
    "        df=transformed_data,\n",
    "        table_name='transformed_data',\n",
    "        if_exists='replace'\n",
    "    )\n",
    "    \n",
    "    # Create a teradataml DataFrame from the table\n",
    "    tdf = DataFrame('transformed_data')\n",
    "    \n",
    "    print(df)\n",
    "    with open(f\"{context.artifact_output_path}/transformation_report.txt\", \"w\") as f:\n",
    "        print(tdf.describe(), file=f)\n",
    "    \n",
    "    # Store build properties as a file artifact\n",
    "    with open(f\"{context.artifact_output_path}/build_properties.txt\", \"w\") as f:\n",
    "        f.write(str(kwargs))"
   ]
  },
  {
   "cell_type": "code",
   "execution_count": null,
   "id": "e279d6bb-0418-407f-95d1-50642d040c8a",
   "metadata": {},
   "outputs": [],
   "source": [
    "%%writefile $model_local_path/pima_data_prep/requirements.txt\n",
    "teradatamodelops\n",
    "teradataml\n",
    "pandas\n",
    "numpy"
   ]
  },
  {
   "cell_type": "markdown",
   "id": "db250d48-66e5-4588-ad71-6cfa199f892a",
   "metadata": {},
   "source": [
    "<hr style=\"height:2px;border:none;\">\n",
    "<p><b style = 'font-size:20px;font-family:Arial'>3. Commit and Push to Git to let ModelOps manage <i>(Optional)</i></b></p>\n",
    "\n",
    "<p style = 'font-size:16px;font-family:Arial'>Run the command below to commit and push changes to our forked repository, so ModelOps can fetch the changes to the model.</p>"
   ]
  },
  {
   "cell_type": "code",
   "execution_count": null,
   "id": "d06a4ec5-d7d6-4d8a-b672-4d85baef5201",
   "metadata": {},
   "outputs": [],
   "source": [
    "!cd $model_local_path/.. && git add . && git commit -m \"Added Feature Engineering task\" && git push"
   ]
  },
  {
   "cell_type": "markdown",
   "id": "b24b510a-2013-4c03-88ea-b8cb699cb302",
   "metadata": {},
   "source": [
    "<p style = 'font-size:16px;font-family:Arial'>Now that changes are pushed, you can make the Feature engineering lifecycle inside <b>ModelOps User Interface</b>.</p>"
   ]
  },
  {
   "cell_type": "markdown",
   "id": "8bc40798-004b-4fd7-b8a1-db4ac5191fed",
   "metadata": {},
   "source": [
    "<hr style=\"height:2px;border:none;\">\n",
    "<p style = 'font-size:20px;font-family:Arial'><b>Step 4. Create feature engineering task </b></p>"
   ]
  },
  {
   "cell_type": "markdown",
   "id": "818a4113-852a-48d0-aef3-2832b2725c0f",
   "metadata": {},
   "source": [
    "<ol style=\"font-size:16px; font-family:Arial;\">\n",
    "    <li>Go to your Project</li>\n",
    "    <li>From the menu bar select <b>Feature engineering</b></li>\n",
    "    <img src=\"images/15_01.png\" alt=\"BYOM model lifecycle\" width=\"600\" height=\"400\" style = \"border: 1px solid #00233C; border-radius: 10px; box-shadow: 0 4px 8px rgba(0, 0, 0, 0.2);\"/>\n",
    "    <li>Click <b>Create task</b>: Here you have the option to import the script from your local machine or from the git repository.</li>\n",
    "    <p style = 'font-size:16px;font-family:Arial'><b>Option 1: From git repository</b></p>\n",
    "    <table style='font-size:16px;font-family:Arial;width:100%;border: 1px solid black;align: left;margin-left: 10px;'>\n",
    "  <tr style='font-size:16px;font-family:Arial;width:100%;border: 1px solid black'>\n",
    "    <th>Property</th>\n",
    "    <th>Description</th>\n",
    "  </tr>\n",
    "  <tr style='font-size:16px;font-family:Arial;width:100%;border: 1px solid black;text-align: center;'>\n",
    "    <td>Name</td>\n",
    "    <td>Demo FE Task</td>\n",
    "  </tr>\n",
    "  <tr style='font-size:16px;font-family:Arial;width:100%;border: 1px solid black;text-align: center;'>\n",
    "    <td>Description</td>\n",
    "    <td>A demo feature engineering task</td>\n",
    "  </tr>\n",
    "  <tr style='font-size:16px;font-family:Arial;width:100%;border: 1px solid black;text-align: center;'>\n",
    "    <td>Language</td>\n",
    "    <td>Python</td>\n",
    "  </tr>\n",
    "  <tr style='font-size:16px;font-family:Arial;width:100%;border: 1px solid black;text-align: center;'>\n",
    "    <td>Script Source</td>\n",
    "    <td>GIT location</td>\n",
    "  </tr>\n",
    "  <tr style='font-size:16px;font-family:Arial;width:100%;border: 1px solid black;text-align: center;'>\n",
    "    <td>Path to GIT folder</td>\n",
    "    <td>feature_engineering_tasks/pima_data_prep</td>\n",
    "  </tr>\n",
    "  <tr style='font-size:16px;font-family:Arial;width:100%;border: 1px solid black;text-align: center;'>\n",
    "    <td>Python file</td>\n",
    "    <td>task.py</td>\n",
    "  </tr>\n",
    "  <tr style='font-size:16px;font-family:Arial;width:100%;border: 1px solid black;text-align: center;'>\n",
    "    <td>function name</td>\n",
    "    <td>run_task</td>\n",
    "  </tr>\n",
    "</table>\n",
    "    <img src=\"images/15_02.png\" alt=\"BYOM model lifecycle\" width=\"400\" height=\"200\" style = \"border: 1px solid #00233C; border-radius: 10px; box-shadow: 0 4px 8px rgba(0, 0, 0, 0.2);\"/>\n",
    "    <p style = 'font-size:16px;font-family:Arial'><b>Option 2: From local machine</b></p>\n",
    "    <table style='font-size:16px;font-family:Arial;width:100%;border: 1px solid black;align: left;margin-left: 10px;'>\n",
    "  <tr style='font-size:16px;font-family:Arial;width:100%;border: 1px solid black'>\n",
    "    <th>Property</th>\n",
    "    <th>Description</th>\n",
    "  </tr>\n",
    "  <tr style='font-size:16px;font-family:Arial;width:100%;border: 1px solid black;text-align: center;'>\n",
    "    <td>Name</td>\n",
    "    <td>Demo FE Task</td>\n",
    "  </tr>\n",
    "  <tr style='font-size:16px;font-family:Arial;width:100%;border: 1px solid black;text-align: center;'>\n",
    "    <td>Description</td>\n",
    "    <td>A demo feature engineering task</td>\n",
    "  </tr>\n",
    "  <tr style='font-size:16px;font-family:Arial;width:100%;border: 1px solid black;text-align: center;'>\n",
    "    <td>Language</td>\n",
    "    <td>Python</td>\n",
    "  </tr>\n",
    "  <tr style='font-size:16px;font-family:Arial;width:100%;border: 1px solid black;text-align: center;'>\n",
    "    <td>Script Source</td>\n",
    "    <td>Upload files</td>\n",
    "  </tr>\n",
    "  <tr style='font-size:16px;font-family:Arial;width:100%;border: 1px solid black;text-align: center;'>\n",
    "    <td>Python files</td>\n",
    "    <td><a href='./artifacts/task.py'>task.py</a>, <a href='./artifacts/requirements.txt'>requirements.txt</a></td>\n",
    "  </tr>\n",
    "  <tr style='font-size:16px;font-family:Arial;width:100%;border: 1px solid black;text-align: center;'>\n",
    "    <td>function name</td>\n",
    "    <td>run_task</td>\n",
    "  </tr>\n",
    "</table>\n",
    "    <img src=\"images/15_03.png\" alt=\"BYOM model lifecycle\" width=\"400\" height=\"200\" style = \"border: 1px solid #00233C; border-radius: 10px; box-shadow: 0 4px 8px rgba(0, 0, 0, 0.2);\"/>\n",
    "    <li>Click <b>Save</b></li>\n",
    "</ol>"
   ]
  },
  {
   "cell_type": "markdown",
   "id": "374c2187-de67-4ff9-bf40-d9822ff247f5",
   "metadata": {},
   "source": [
    "<a href=\"/modelops\" style=\"display: inline-flex; align-items: center; justify-content: center; background-color: #017373; color: #FFFFFF; font-family: Arial, sans-serif; font-size: 16px; font-weight: bold; text-decoration: none; padding: 12px 24px; border: none; border-radius: 8px; box-shadow: 0 4px 6px rgba(0, 0, 0, 0.1); cursor: pointer; transition: all 0.3s ease;\">\n",
    "  LAUNCH MODELOPS\n",
    "  <img src=\"https://img.icons8.com/ios-filled/50/ffffff/external-link.png\" alt=\"External Link Icon\" style=\"margin-left: 8px; width: 20px; height: 20px;\">\n",
    "</a>"
   ]
  },
  {
   "cell_type": "markdown",
   "id": "291d384c-2d0a-4af5-9828-05d21c55fcfb",
   "metadata": {},
   "source": [
    "<hr style=\"height:2px;border:none;\">\n",
    "<p style = 'font-size:20px;font-family:Arial'><b>Step 5. Run feature engineering task</b></p>"
   ]
  },
  {
   "cell_type": "markdown",
   "id": "a7d2b781-15b3-40bd-aa55-8ad76cca1088",
   "metadata": {},
   "source": [
    "<ol style=\"font-size:16px; font-family:Arial;\">\n",
    "    <li>From the Feature engineering page click on your newly created task</li>\n",
    "    <img src=\"images/15_04.png\" alt=\"BYOM model lifecycle\" width=\"600\" height=\"400\" style = \"border: 1px solid #00233C; border-radius: 10px; box-shadow: 0 4px 8px rgba(0, 0, 0, 0.2);\"/>\n",
    "    <li>Click <b>Run</b></li>\n",
    "    <li>Select <b>Demo User Personal</b> for the data connection</li>\n",
    "    <img src=\"images/15_05.png\" alt=\"BYOM model lifecycle\" width=\"400\" height=\"200\" style = \"border: 1px solid #00233C; border-radius: 10px; box-shadow: 0 4px 8px rgba(0, 0, 0, 0.2);\"/>\n",
    "    <li>Click <b>Run</b></li>\n",
    "    <img src=\"images/15_06.png\" alt=\"BYOM model lifecycle\" width=\"400\" height=\"200\" style = \"border: 1px solid #00233C; border-radius: 10px; box-shadow: 0 4px 8px rgba(0, 0, 0, 0.2);\"/>\n",
    "</ol>"
   ]
  },
  {
   "cell_type": "markdown",
   "id": "863119f1-9765-47bb-9391-2137672f7bb3",
   "metadata": {},
   "source": [
    "<hr style=\"height:2px;border:none;\">\n",
    "<p style = 'font-size:20px;font-family:Arial'><b>Step 6. Approve the Feature Engineering task</b></p>"
   ]
  },
  {
   "cell_type": "markdown",
   "id": "e45aa323-47ff-4cbc-b98d-9aa88176ef8b",
   "metadata": {},
   "source": [
    "<ol style=\"font-size:16px; font-family:Arial;\">\n",
    "    <li>From the feature engineering lifecycle screen, click on <b>Approve</b></li>\n",
    "    <img src=\"images/15_07.png\" alt=\"BYOM model lifecycle\" width=\"400\" height=\"200\" style = \"border: 1px solid #00233C; border-radius: 10px; box-shadow: 0 4px 8px rgba(0, 0, 0, 0.2);\"/>"
   ]
  },
  {
   "cell_type": "markdown",
   "id": "17f5db1c-f78f-4c14-9c91-684b831ec594",
   "metadata": {},
   "source": [
    "<hr style=\"height:2px;border:none;\">\n",
    "<p style = 'font-size:20px;font-family:Arial'><b>Step 7. Deploy the Feature Engineering task</b></p>"
   ]
  },
  {
   "cell_type": "markdown",
   "id": "8a986676-e17a-434e-8190-6616c5f4e173",
   "metadata": {},
   "source": [
    "<ol style=\"font-size:16px; font-family:Arial;\">\n",
    "    <li>From the feature engineering lifecycle screen, click on <b>deploy</b></li>\n",
    "</ol>"
   ]
  },
  {
   "cell_type": "markdown",
   "id": "be5b6458-60c2-4101-8a59-a43d60064d7e",
   "metadata": {},
   "source": [
    "<p style=\"font-size:16px; font-family:Arial;\"><b>Select Engine</b></p>\n",
    "<p style=\"font-size:16px; font-family:Arial;\">\n",
    "  Enter the required fields:\n",
    "    <table style = 'font-size:16px;font-family:Arial;width:50%;border: 1px solid black;align: left;margin-left: 10px;'>\n",
    "  <tr style = 'font-size:16px;font-family:Arial;width:50%;border: 1px solid black'>\n",
    "    <th>Property</th>\n",
    "    <th>Description</th>\n",
    "    \n",
    "  </tr>\n",
    "  <tr style = 'font-size:16px;font-family:Arial;width:100%;border: 1px solid black;text-align: center'>\n",
    "    <td>Engine Type</td>\n",
    "    <td>Docker</td>\n",
    "    \n",
    "  </tr>\n",
    "  <tr style = 'font-size:16px;font-family:Arial;width:100%;border: 1px solid black;text-align: center'>\n",
    "    <td>Deployment Mode</td>\n",
    "    <td>Batch</td>\n",
    "    \n",
    "  </tr>\n",
    "</table>\n",
    "</p>\n",
    "\n",
    "<img src=\"images/15_08.png\" alt=\"BYOM model lifecycle\" width=\"400\" height=\"200\" style = \"border: 1px solid #00233C; border-radius: 10px; box-shadow: 0 4px 8px rgba(0, 0, 0, 0.2);\"/>"
   ]
  },
  {
   "cell_type": "markdown",
   "id": "67ac0b17-f461-4b5f-aa6c-941514945c6e",
   "metadata": {},
   "source": [
    "<p style=\"font-size:16px; font-family:Arial;\"><b>Publish</b></p>\n",
    "<p style=\"font-size:16px; font-family:Arial;\">\n",
    "  Enter the required fields:\n",
    "    <table style = 'font-size:16px;font-family:Arial;width:50%;border: 1px solid black;align: left;margin-left: 10px;'>\n",
    "  <tr style = 'font-size:16px;font-family:Arial;width:50%;border: 1px solid black'>\n",
    "    <th>Property</th>\n",
    "    <th>Description</th>\n",
    "    \n",
    "  </tr>\n",
    "  <tr style = 'font-size:16px;font-family:Arial;width:100%;border: 1px solid black;text-align: center'>\n",
    "    <td>Connection</td>\n",
    "    <td>Demo User Personal</td>\n",
    "    \n",
    "  </tr>\n",
    "</table>\n",
    "</p>\n",
    "\n",
    "<img src=\"images/15_09.png\" alt=\"BYOM model lifecycle\" width=\"400\" height=\"200\" style = \"border: 1px solid #00233C; border-radius: 10px; box-shadow: 0 4px 8px rgba(0, 0, 0, 0.2);\"/>"
   ]
  },
  {
   "cell_type": "markdown",
   "id": "bcd8de41-94b4-42e1-8ca0-891228ad3299",
   "metadata": {},
   "source": [
    "<p style=\"font-size:16px; font-family:Arial;\"><b>Schedule</b></p>\n",
    "<p style=\"font-size:16px; font-family:Arial;\">\n",
    "  Enter the required fields:\n",
    "    <table style = 'font-size:16px;font-family:Arial;width:50%;border: 1px solid black;align: left;margin-left: 10px;'>\n",
    "  <tr style = 'font-size:16px;font-family:Arial;width:50%;border: 1px solid black'>\n",
    "    <th>Property</th>\n",
    "    <th>Description</th>\n",
    "    \n",
    "  </tr>\n",
    "  <tr style = 'font-size:16px;font-family:Arial;width:100%;border: 1px solid black;text-align: center'>\n",
    "    <td>Enable scheduling</td>\n",
    "    <td>Enabled</td>\n",
    "    \n",
    "  </tr>\n",
    "  <tr style = 'font-size:16px;font-family:Arial;width:100%;border: 1px solid black;text-align: center'>\n",
    "    <td>Scheduling options</td>\n",
    "    <td>Manual</td>\n",
    "    \n",
    "  </tr>\n",
    "</table>\n",
    "</p>\n",
    "\n",
    "<img src=\"images/15_10.png\" alt=\"BYOM model lifecycle\" width=\"400\" height=\"200\" style = \"border: 1px solid #00233C; border-radius: 10px; box-shadow: 0 4px 8px rgba(0, 0, 0, 0.2);\"/>\n",
    "\n",
    "<p style=\"font-size:16px; font-family:Arial;\"><b>Deploy</b></p>\n",
    "\n",
    "<img src=\"images/15_11.png\" alt=\"BYOM model lifecycle\" width=\"400\" height=\"200\" style = \"border: 1px solid #00233C; border-radius: 10px; box-shadow: 0 4px 8px rgba(0, 0, 0, 0.2);\"/>"
   ]
  },
  {
   "cell_type": "markdown",
   "id": "5f6e22ef-1886-42c8-b599-2eccbf358397",
   "metadata": {},
   "source": [
    "<p style=\"font-size:16px; font-family:Arial;\"><b>Deployment Details</b></p>\n",
    "<ol style=\"font-size:16px; font-family:Arial;\">\n",
    "    <li>Go to the left-hand menu <b>Deployments</b></li>\n",
    "    <li>Click on it to see the details and go to the <b>Jobs</b> tab</li>\n",
    "    <li>Click on <b>Run now</b></li>\n",
    "    <img src=\"images/15_12.png\" alt=\"BYOM model lifecycle\" width=\"400\" height=\"200\" style = \"border: 1px solid #00233C; border-radius: 10px; box-shadow: 0 4px 8px rgba(0, 0, 0, 0.2);\"/>\n",
    "</ol>\n",
    "\n",
    "<p style=\"font-size:16px; font-family:Arial;\">After executing the feature engineering job, it should look like this:</p>\n",
    "<img src=\"images/15_13.png\" alt=\"BYOM model lifecycle\" width=\"600\" height=\"400\" style = \"border: 1px solid #00233C; border-radius: 10px; box-shadow: 0 4px 8px rgba(0, 0, 0, 0.2);\"/>"
   ]
  },
  {
   "cell_type": "markdown",
   "id": "b65f7ca5-24c5-4d4e-9a5e-7c624894d288",
   "metadata": {},
   "source": [
    "<p style=\"font-size:16px; font-family:Arial;\">\n",
    "  <b>Congratulations!</b> You’ve successfully executed Feature Engineering task.\n",
    "</p>"
   ]
  },
  {
   "cell_type": "markdown",
   "id": "39027294-ff7f-43fb-9554-505a95acaefb",
   "metadata": {},
   "source": [
    "<hr style=\"height:2px;border:none;\">\n",
    "<p style = 'font-size:16px;font-family:Arial'>Go and try this functionality by yourself. Launch ModelOps from this button below:</p>\n",
    "\n",
    "<a href=\"/modelops\" style=\"display: inline-flex; align-items: center; justify-content: center; background-color: #007373; color: #FFFFFF; font-family: Arial, sans-serif; font-size: 16px; font-weight: bold; text-decoration: none; padding: 12px 24px; border: none; border-radius: 8px; box-shadow: 0 4px 6px rgba(0, 0, 0, 0.1); cursor: pointer; transition: all 0.3s ease;\">\n",
    "  LAUNCH MODELOPS\n",
    "  <img src=\"https://img.icons8.com/ios-filled/50/ffffff/external-link.png\" alt=\"External Link Icon\" style=\"margin-left: 8px; width: 20px; height: 20px;\">\n",
    "</a>"
   ]
  },
  {
   "cell_type": "markdown",
   "id": "79100115-0a89-4ea8-bf73-b068ef435841",
   "metadata": {},
   "source": [
    "<a href=\"./00_ModelOps_Introduction.ipynb\" style=\"font-size:16px; font-family:Arial; color:white; background-color:#007bff; padding:10px 20px; border-radius:5px; text-decoration:none; display:inline-block;\">\n",
    "  &lt;&lt; Back to Introduction\n",
    "</a>"
   ]
  },
  {
   "cell_type": "markdown",
   "id": "36c63233",
   "metadata": {},
   "source": [
    "<footer style=\"padding-bottom:35px; border-bottom:3px solid #91A0Ab\">\n",
    "    <div style=\"float:left;margin-top:14px\">ClearScape Analytics™</div>\n",
    "    <div style=\"float:right;\">\n",
    "        <div style=\"float:left; margin-top:14px\">\n",
    "            Copyright © Teradata Corporation - 2024. All Rights Reserved\n",
    "        </div>\n",
    "    </div>\n",
    "</footer>"
   ]
  }
 ],
 "metadata": {
  "kernelspec": {
   "display_name": "Python 3 (ipykernel)",
   "language": "python",
   "name": "python3"
  },
  "language_info": {
   "codemirror_mode": {
    "name": "ipython",
    "version": 3
   },
   "file_extension": ".py",
   "mimetype": "text/x-python",
   "name": "python",
   "nbconvert_exporter": "python",
   "pygments_lexer": "ipython3",
   "version": "3.9.10"
  }
 },
 "nbformat": 4,
 "nbformat_minor": 5
}
