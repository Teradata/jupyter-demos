{
 "cells": [
  {
   "cell_type": "markdown",
   "id": "1107b836-ccdc-40b6-81a5-f7661dd87e82",
   "metadata": {},
   "source": [
    "<header>\n",
    "   <p  style='font-size:36px;font-family:Arial; color:#F0F0F0; background-color: #00233c; padding-left: 20pt; padding-top: 20pt;padding-bottom: 10pt; padding-right: 20pt;'>\n",
    "       ModelOps demo: Model Factory Accelerator\n",
    "  <br>\n",
    "       <img id=\"teradata-logo\" src=\"https://storage.googleapis.com/clearscape_analytics_demo_data/DEMO_Logo/teradata.svg\" alt=\"Teradata\" style=\"width: 125px; height: auto; margin-top: 20pt;\">\n",
    "    </p>\n",
    "</header>"
   ]
  },
  {
   "cell_type": "markdown",
   "id": "4dd9fbaf-a458-4e74-8885-77128ea419bb",
   "metadata": {},
   "source": [
    "<p style ='font-size:18px;font-family:Arial;color:#00233C'><b>Introduction</b></p>\n",
    "\n",
    "<p style='font-size:16px;font-family:Arial;color:#00233C'>The purpose of the <strong>Model Factory Solution Accelerator</strong> using ClearScape Analytics is to demonstrate a streamlined and accelerated approach to the end-to-end process of developing, deploying, and managing machine learning models within an organization, with <strong>Horizontal Scale</strong>, by operationalizing <strong>hundreds of models with minimum effort</strong>. It leverages the scalability of in-database analytics and the openness of supporting common model formats such as H2O, Dataiku and DataRobot. This unique combination enhances efficiency, scalability, and consistency across various stages of the machine learning lifecycle in Enterprise environments.</p>\n",
    "\n",
    "<p style='font-size:16px;font-family:Arial;color:#00233C'>By incorporating best practices, automation, and standardized workflows, Model Factory enables teams to rapidly select the data to be used, configure any required models, ensure reuse, and deploy <strong>an unlimited numbers of models</strong> seamlessly into production. Ultimately, it aims to reduce the time-to-value for machine learning initiatives and promote a more structured and efficient approach to building and deploying models at scale. Here is the diagram of an automated Workflow:</p>"
   ]
  },
  {
   "cell_type": "markdown",
   "id": "33e32aee-2bc0-48a6-98f3-88bd6679fa07",
   "metadata": {
    "tags": []
   },
   "source": [
    "![image](images/12_01.png) "
   ]
  },
  {
   "cell_type": "markdown",
   "id": "5622a682-0b34-460d-acd3-4ab8d4f01337",
   "metadata": {},
   "source": [
    "<p style='font-size:16px;font-family:Arial;color:#00233C'>Similarly we can achieve this Model Factory solution using <b><u>Airflow</u></b>. The steps to be followed are mentioned<a href='https://quickstarts.teradata.com/modelops/execute-airflow-workflows-with-clearscape-analytics-modelops-model-factory-solution.html#_initialize_airflow_in_docker_compose'> here</a> in the quick starts.</p>"
   ]
  },
  {
   "cell_type": "markdown",
   "id": "6fdebbd7-450e-4181-a908-f6f7fb362e79",
   "metadata": {
    "tags": []
   },
   "source": [
    "<p style = 'font-size:18px;font-family:Arial;color:#00233C'><b>Steps in this Notebook</b></p>\n",
    "<ol style = 'font-size:16px;font-family:Arial;color:#00233C'>\n",
    " <li>Configure the Environment </li>\n",
    " <li>Parameters definition and Environment Variables</li>\n",
    " <li>Secure connection to ModelOps</li>\n",
    " <li>Model Lifecycle Workflow functions</li>\n",
    " <li>Execution of the Workflow</li>"
   ]
  },
  {
   "cell_type": "markdown",
   "id": "07450857-b2ed-48fd-b964-0ca01e368589",
   "metadata": {},
   "source": [
    "<p style ='font-size:16px;font-family:Arial;color:#00233C'>Here are the steps to implement Model Factory Solution Accelerator using Python commands with the Restful API layer of ClearScape Analytics ModelOps. Restful API layer is all documented in the ModelOps user interface at using Swagger, it can be used to orchestrate ModelOps Agent process from external applications or schedulers such as Airflow or Gitlab. An example of using Airflow can be found at <a href=\"https://quickstarts.teradata.com\">Teradata Getting Started</a></p>"
   ]
  },
  {
   "cell_type": "markdown",
   "id": "a45bf65a-6e8e-4264-be21-7dd5c1db9149",
   "metadata": {},
   "source": [
    "<hr style=\"height:2px;border:none;background-color:#00233C;\">\n",
    "<p><b style = 'font-size:20px;font-family:Arial;color:#00233C'>1. Configure the Environment</b></p>\n",
    "\n",
    "<p style = 'font-size:16px;font-family:Arial;color:#00233C'>Here, we import the required libraries, set environment variables and environment paths (if required).</p>"
   ]
  },
  {
   "cell_type": "markdown",
   "id": "7092f592-7027-4cbe-8cbf-6f560c268079",
   "metadata": {},
   "source": [
    "<p style = 'font-size:18px;font-family:Arial;color:#00233C'><b>1.1 Libraries installation</b></p>\n",
    "\n",
    "<p style = 'font-size:16px;font-family:Arial;color:#00233C'><b>A restart of the Kernel is needed to confirm changes</b>. We use -q parameter for a non-verbose log of the installation command, you may remove this parameter if you want to know all the steps of the pip installation.</p>"
   ]
  },
  {
   "cell_type": "code",
   "execution_count": null,
   "id": "f79b2e2f-a7d3-4cab-a447-8d61e4009b93",
   "metadata": {},
   "outputs": [],
   "source": [
    "#%pip install -q teradataml==20.0.0.2 teradatamodelops==7.0.6 matplotlib==3.8.2"
   ]
  },
  {
   "cell_type": "markdown",
   "id": "d5149df7-a95f-43cc-846c-ec7b47e8d8e3",
   "metadata": {},
   "source": [
    "<div class=\"alert alert-block alert-info\">\n",
    "<p style = 'font-size:16px;font-family:Arial;color:#00233C'><b>Note: </b><i>The above statements may need to be uncommented if you run the notebooks on a platform other than ClearScape Analytics Experience that does not have the mentioned versions of the libraries installed. If you uncomment those installs, be sure to restart the kernel after executing those lines to bring the installed libraries into memory. The simplest way to restart the Kernel is by typing zero zero: <b> 0 0</b></i></p>\n",
    "</div>"
   ]
  },
  {
   "cell_type": "markdown",
   "id": "3987b762-c042-48c7-ac8f-bbe9df12f317",
   "metadata": {},
   "source": [
    "<hr style=\"height:1px;border:none;background-color:#00233C;\">\n",
    "<p style = 'font-size:18px;font-family:Arial;color:#00233C'><b>1.2 Libraries import</b></p>"
   ]
  },
  {
   "cell_type": "code",
   "execution_count": null,
   "id": "5dbc3d39-4f2b-4765-9d49-abc5c26b1a22",
   "metadata": {
    "tags": []
   },
   "outputs": [],
   "source": [
    "import requests\n",
    "import json\n",
    "import time\n",
    "import logging\n",
    "import os\n",
    "import sys\n",
    "from getpass import getpass\n",
    "\n",
    "logging.basicConfig(encoding=\"utf-8\", level=logging.INFO)\n",
    "requests.packages.urllib3.disable_warnings()\n"
   ]
  },
  {
   "cell_type": "markdown",
   "id": "8838564f-3936-4a4e-8c5f-de79baee068f",
   "metadata": {},
   "source": [
    "<hr style=\"height:2px;border:none;background-color:#00233C;\">\n",
    "<p><b style = 'font-size:20px;font-family:Arial;color:#00233C'>2. Parameters definition and Environment Variables</b></p>"
   ]
  },
  {
   "cell_type": "markdown",
   "id": "7fee101d-ddfb-4d48-99a0-cb76c4b6cebf",
   "metadata": {},
   "source": [
    "<p style = 'font-size:18px;font-family:Arial;color:#00233C'><b>2.1 ModelOps parameters</b></p>"
   ]
  },
  {
   "cell_type": "markdown",
   "id": "9e712e9b-f0ad-463d-85d9-21defaed2cbf",
   "metadata": {},
   "source": [
    "<div class=\"alert alert-block alert-warning\">\n",
    "<p style = 'font-size:16px;font-family:Arial;color:#00233C'><b>Important Note: </b>Replace to use your ModelOps URL. You can copy the HOST address from the Connection details on your dashboard for the url</p>\n",
    "</div>"
   ]
  },
  {
   "cell_type": "code",
   "execution_count": null,
   "id": "90c06ba6-22b7-431a-9c48-89a38070123a",
   "metadata": {},
   "outputs": [],
   "source": [
    "# Example modelops-apr24-ver20-63z6fpyuh8lhkz39.env.clearscape.teradata.com\n",
    "hostname = input(\"Host NAME of the machine for ModelOps:\")"
   ]
  },
  {
   "cell_type": "code",
   "execution_count": null,
   "id": "fc95baff-ccb9-4650-aa13-b15d919e6f78",
   "metadata": {
    "tags": []
   },
   "outputs": [],
   "source": [
    "# base domain for ModelOps\n",
    "url = \"https://\" + \"web-\"+ hostname + \"/modelops\"\n",
    "print(url)"
   ]
  },
  {
   "cell_type": "markdown",
   "id": "2b21c6f5-b2d5-4485-bc73-cc335aacfc1a",
   "metadata": {},
   "source": [
    "<p style = 'font-size:16px;font-family:Arial;color:#00233C'> These configuration parameters include the IDs of Project, Model, Dataset Connection, Dataset training, Dataset Evaluation, Dataset template.</p>\n",
    "<p style = 'font-size:16px;font-family:Arial;color:#00233C'>\n",
    "These IDs have been taken from preloaded Demo project of ModelOps using XGBoost classification model. Additional preloaded models are available, you can get the Model ID by doing a right click at the Model ID from the Model catalog list.\n",
    "</p>\n",
    "<p style = 'font-size:16px;font-family:Arial;color:#00233C'>Additional parameters like Python Image for training and deployment are set.\n",
    "</p>\n",
    "<p style = 'font-size:16px;font-family:Arial;color:#00233C'>Then we are applying specific hyper parameters for the training logic, and applying resources (CPU, memory) for training, evaluation and deployment jobs.\n",
    "</p>\n",
    "<p style = 'font-size:16px;font-family:Arial;color:#00233C'>In this case the model will be deployed as <b>batch</b> and scheduled as <b>run once</b>.</p>"
   ]
  },
  {
   "cell_type": "code",
   "execution_count": null,
   "id": "a65ffe4b-3be1-4ffb-815d-5c5abdf563c3",
   "metadata": {
    "tags": []
   },
   "outputs": [],
   "source": [
    "# secret for account \"service-account-modelops-cli\"\n",
    "#secret = \"\"\n",
    "# or user's password\n",
    "password = getpass(\"Enter user's password: \")\n",
    "# project id\n",
    "project = \"23e1df4b-b630-47a1-ab80-7ad5385fcd8d\"\n",
    "# model id\n",
    "model = \"f937b5d8-02c6-5150-80c7-1e4ff07fea31\"\n",
    "# dataset connection id\n",
    "dataset_connection = \"151abf05-1914-4d38-a90d-272d850f212c\"\n",
    "# dataset training id\n",
    "dataset_train = \"ba39e766-2fdf-426f-ba5c-4ca3e90955fc\"\n",
    "# dataset evaluation id\n",
    "dataset_eval = \"74489d62-2af5-4402-b264-715e151a420a\"\n",
    "# dataset template id, useful for batch deployment\n",
    "dataset_template = \"d8a35d98-21ce-47d0-b9f2-00d355777de1\"\n",
    "# Docker image for training\n",
    "training_image = \"artifacts.td.teradata.com/tdproduct-docker-snapshot/avmo/aoa-python-base:3.9.13-1\"\n",
    "# Docker image for deployment\n",
    "deployment_image = \"artifacts.td.teradata.com/tdproduct-docker-snapshot/avmo/aoa-python-base:3.9.13-1\"\n",
    "# hyperparameters for training, set to empty dictionary if none\n",
    "hyper_params = {\"eta\": 0.2, \"max_depth\": 6}\n",
    "# performance settings\n",
    "train_cpu = \"1000m\"\n",
    "train_memory = \"1Gi\"\n",
    "eval_cpu = \"2000m\"\n",
    "eval_memory = \"5Gi\"\n",
    "deploy_memory = \"3Gi\"\n",
    "deploy_cpu = \"3000m\"\n",
    "\n",
    "deployment_type = \"batch\" # batch or restful\n",
    "batch_type = \"run_once\" # publish_only or run_once . Option only for batch deployment"
   ]
  },
  {
   "cell_type": "markdown",
   "id": "5186c5f3-b866-4b97-928d-53516eed61ff",
   "metadata": {},
   "source": [
    "<hr style=\"height:1px;border:none;background-color:#00233C;\">\n",
    "<p style = 'font-size:18px;font-family:Arial;color:#00233C'><b>2.2 Additional Environment variables for deployment</b></p>"
   ]
  },
  {
   "cell_type": "markdown",
   "id": "0fee2deb-ebc6-4b0c-b916-cc45e53c2d2d",
   "metadata": {},
   "source": [
    "<p style = 'font-size:16px;font-family:Arial;color:#00233C'> This environment variable is needed for Resftul deployments. Variables that start with `DEPLOYVAR_` will be stripped from the prefix and passed to deployment variables.\\\n",
    "Example: `os.environ[\"DEPLOYVAR_REPLICAS\"]` becomes `REPLICAS` in deployment arguments"
   ]
  },
  {
   "cell_type": "code",
   "execution_count": null,
   "id": "08cfb70b-2b86-49c8-8c40-44558ac4ba2f",
   "metadata": {
    "tags": []
   },
   "outputs": [],
   "source": [
    "os.environ[\"DEPLOYVAR_REPLICAS\"] = \"1\"\n",
    "#os.environ[\"DEPLOYVAR_INGRESS_NAME\"] = \"semantic-search-ai\""
   ]
  },
  {
   "cell_type": "markdown",
   "id": "6ab2f981-bfc5-4554-8240-2b447f023c00",
   "metadata": {
    "tags": []
   },
   "source": [
    "<hr style=\"height:1px;border:none;background-color:#00233C;\">\n",
    "<p style = 'font-size:18px;font-family:Arial;color:#00233C'><b>2.3 Jobs statuses categories</b></p>"
   ]
  },
  {
   "cell_type": "markdown",
   "id": "148c599a-5a3f-4cd3-bed0-e03e3f7b997f",
   "metadata": {},
   "source": [
    "<p style = 'font-size:16px;font-family:Arial;color:#00233C'> We have included following status for failure, success and running:"
   ]
  },
  {
   "cell_type": "code",
   "execution_count": null,
   "id": "3ddb2589-b2e5-4a96-b8a4-3ce00f9d3ea2",
   "metadata": {
    "tags": []
   },
   "outputs": [],
   "source": [
    "failure_cases = [\"ERROR\", \"CANCELLED\"]\n",
    "success_cases = [\n",
    "    \"EVALUATED\",\n",
    "    \"TRAINED\",\n",
    "    \"IMPORTED\",\n",
    "    \"DEPLOYED\",\n",
    "    \"APPROVED\",\n",
    "    \"COMPLETED\",\n",
    "]\n",
    "running_cases = [\"CREATED\", \"SCHEDULED\", \"RUNNING\", \"WAITING\", \"ASSIGNED\"]"
   ]
  },
  {
   "cell_type": "markdown",
   "id": "1093e906-dd96-453f-8059-272ea416ea08",
   "metadata": {},
   "source": [
    "<hr style=\"height:2px;border:none;background-color:#00233C;\">\n",
    "<p><b style = 'font-size:20px;font-family:Arial;color:#00233C'>3. Secure connection to ModelOps</b></p>\n",
    "\n"
   ]
  },
  {
   "cell_type": "markdown",
   "id": "2cc659d7-95c3-4fb4-a02f-5b4ae4c41aca",
   "metadata": {},
   "source": [
    "<p style = 'font-size:16px;font-family:Arial;color:#00233C'> We are assuming Model Factory will be an automated execution, therefore we will be using a service connection for ModelOps. Here we will use the secret credential using the url and the password entered in the above step.</p>"
   ]
  },
  {
   "cell_type": "markdown",
   "id": "1aa69d39-56e6-409c-b3c7-25a653a050a2",
   "metadata": {},
   "source": [
    "<p style = 'font-size:18px;font-family:Arial;color:#00233C'><b>3.1 Get a token from Keycloak through the secret credential</b></p>"
   ]
  },
  {
   "cell_type": "code",
   "execution_count": null,
   "id": "5fe18031-abe9-4ed1-94f8-b92d9b761f3f",
   "metadata": {
    "tags": []
   },
   "outputs": [],
   "source": [
    "def get_token_from_secret(url, secret):\n",
    "    data = {\n",
    "        \"grant_type\": \"client_credentials\",\n",
    "        \"client_id\": \"modelops-cli\",\n",
    "        \"client_secret\": secret,\n",
    "    }\n",
    "    try:\n",
    "        r = requests.post(\n",
    "            url + \"/sso/realms/teradata/protocol/openid-connect/token\",\n",
    "            data=data,\n",
    "            verify=False,\n",
    "        )\n",
    "        r.raise_for_status()\n",
    "    except requests.exceptions.HTTPError as e:\n",
    "        logging.error(f\"HTTP Error {e.args[0]}\")\n",
    "        sys.exit(1)\n",
    "    return r.json()[\"access_token\"]\n",
    "\n",
    "def get_token_from_password(url, password):\n",
    "    data = {\n",
    "        \"grant_type\": \"password\",\n",
    "        \"client_id\": \"modelops\",\n",
    "        \"username\": \"demo_user\",\n",
    "        \"password\": password,\n",
    "    }\n",
    "    try:\n",
    "        r = requests.post(\n",
    "            url + \"/sso/realms/teradata/protocol/openid-connect/token\",\n",
    "            data=data,\n",
    "            verify=False,\n",
    "        )\n",
    "        r.raise_for_status()\n",
    "    except requests.exceptions.HTTPError as e:\n",
    "        logging.error(f\"HTTP Error {e.args[0]}\")\n",
    "        sys.exit(1)\n",
    "    return r.json()[\"access_token\"]\n"
   ]
  },
  {
   "cell_type": "markdown",
   "id": "e633aece-b397-45f9-b9ba-e455ac2fb6dd",
   "metadata": {},
   "source": [
    "<hr style=\"height:2px;border:none;background-color:#00233C;\">\n",
    "<p><b style = 'font-size:20px;font-family:Arial;color:#00233C'>4. Model Lifecycle Workflow functions</b></p>\n",
    "\n"
   ]
  },
  {
   "cell_type": "markdown",
   "id": "fd48c2c9-9aa8-4140-9243-2381d2cda9d2",
   "metadata": {},
   "source": [
    "<p style = 'font-size:16px;font-family:Arial;color:#00233C'> For each ModelOps job in the model lifecycle, we are preparing a specific function, that will take the input parameters and will do the Post into the Restful layer. This is done for Model Training, Evaluation, Approval, Deployment and Retirement"
   ]
  },
  {
   "cell_type": "markdown",
   "id": "8ee96e05-d4b2-4269-b58a-8b1e7417370d",
   "metadata": {},
   "source": [
    "<p style = 'font-size:18px;font-family:Arial;color:#00233C'><b>4.1 Model Training function</b></p>"
   ]
  },
  {
   "cell_type": "markdown",
   "id": "60aed3bb-be5e-4d50-a002-331d13b98b90",
   "metadata": {},
   "source": [
    "<p style = 'font-size:16px;font-family:Arial;color:#00233C'>We take all the required input parameters, that we have already predefined in the beginning of this notebook, for the Training Job</p>\n",
    "<p style = 'font-size:16px;font-family:Arial;color:#00233C'> The  parameters used for training job are :</p>\n",
    "<ul style = 'font-size:16px;font-family:Arial;color:#00233C'>\n",
    "    <li>url</li>\n",
    "    <li>token</li>\n",
    "    <li>model</li>\n",
    "    <li>dataset_connection</li>\n",
    "    <li>dataset_train</li>\n",
    "    <li>train_memory</li>\n",
    "    <li>train_cpu</li>\n",
    "    <li>hyper_params</li>\n",
    "    <li>training_image</li>    </ul></p>"
   ]
  },
  {
   "cell_type": "code",
   "execution_count": null,
   "id": "3eb059a8-f2ac-4999-9046-920b74134bbf",
   "metadata": {
    "tags": []
   },
   "outputs": [],
   "source": [
    "def train(url, token, project, model, dataset_connection, dataset_train, train_memory, train_cpu, hyper_params, training_image):\n",
    "    headers = {\n",
    "        \"AOA-Project-ID\": project,\n",
    "        \"Authorization\": f\"Bearer {token}\",\n",
    "        \"Content-Type\": \"application/json\",\n",
    "    }\n",
    "    data = {\n",
    "        \"datasetId\": dataset_train,\n",
    "        \"datasetConnectionId\": dataset_connection,\n",
    "        \"automationOverrides\": {\n",
    "                \"resources\": {\"memory\": train_memory, \"cpu\": train_cpu},\n",
    "                \"dockerImage\": training_image,\n",
    "            },\n",
    "        \"modelConfigurationOverrides\": {\n",
    "            \"hyperParameters\": hyper_params,\n",
    "        },\n",
    "    }\n",
    "    try:\n",
    "        r = requests.post(\n",
    "            f\"{url}/core/api/models/{model}/train\",\n",
    "            data=json.dumps(data),\n",
    "            headers=headers,\n",
    "            verify=False,\n",
    "        )\n",
    "        r.raise_for_status()\n",
    "    except requests.exceptions.HTTPError as e:\n",
    "        logging.error(f\"HTTP Error {e.args[0]}\")\n",
    "        sys.exit(1)\n",
    "    return r.json()[\"id\"]\n"
   ]
  },
  {
   "cell_type": "markdown",
   "id": "883520a0-7a21-4989-acf6-37efbcbf1f27",
   "metadata": {},
   "source": [
    "<hr style=\"height:1px;border:none;background-color:#00233C;\">\n",
    "<p style = 'font-size:18px;font-family:Arial;color:#00233C'><b>4.2 Model Evaluation function</b></p>"
   ]
  },
  {
   "cell_type": "markdown",
   "id": "a5458889-e416-456b-8de4-3e0a5e7c7afc",
   "metadata": {},
   "source": [
    "<p style = 'font-size:16px;font-family:Arial;color:#00233C'> We take all the required input parameters, that we have already predefined in the beginning of this notebook, for the Evaluation Job</p>\n",
    "<p style = 'font-size:16px;font-family:Arial;color:#00233C'> The  parameters used for evaluation job are :</p>\n",
    "<ul style = 'font-size:16px;font-family:Arial;color:#00233C'>\n",
    "    <li>url</li>\n",
    "    <li>token</li>\n",
    "    <li>project</li>\n",
    "    <li>version_id</li>\n",
    "    <li>dataset_connection</li>\n",
    "    <li>dataset_eval</li>\n",
    "    <li>eval_memory</li>\n",
    "    <li>eval_cpu</li>\n",
    "    <li>hyper_params</li>\n",
    "    <li>deployment_image</li>    </ul></p>"
   ]
  },
  {
   "cell_type": "code",
   "execution_count": null,
   "id": "ebedfc24-cb4b-467e-832a-1f6bf8d954ff",
   "metadata": {
    "tags": []
   },
   "outputs": [],
   "source": [
    "def evaluate(url, token, project, version_id, dataset_connection, dataset_eval, eval_memory, eval_cpu, hyper_params, deployment_image):\n",
    "    headers = {\n",
    "        \"AOA-Project-ID\": project,\n",
    "        \"Authorization\": f\"Bearer {token}\",\n",
    "        \"Content-Type\": \"application/json\",\n",
    "    }\n",
    "    data = {\n",
    "        \"datasetId\": dataset_eval,\n",
    "        \"datasetConnectionId\": dataset_connection,\n",
    "        \"automationOverrides\": {\n",
    "                \"resources\": {\"memory\": eval_memory, \"cpu\": eval_cpu},\n",
    "                \"dockerImage\": deployment_image,\n",
    "            },\n",
    "        \"modelConfigurationOverrides\": {\n",
    "            \"hyperParameters\": hyper_params,\n",
    "        },\n",
    "    }\n",
    "    try:\n",
    "        r = requests.post(\n",
    "            f\"{url}/core/api/trainedModels/{version_id}/evaluate\",\n",
    "            data=json.dumps(data),\n",
    "            headers=headers,\n",
    "            verify=False,\n",
    "        )\n",
    "        r.raise_for_status()\n",
    "    except requests.exceptions.HTTPError as e:\n",
    "        logging.error(f\"HTTP Error {e.args[0]}\")\n",
    "        sys.exit(1)\n",
    "    return r.json()[\"id\"]\n"
   ]
  },
  {
   "cell_type": "markdown",
   "id": "d04092bd-154c-4f09-a861-3ff6d2f73210",
   "metadata": {},
   "source": [
    "<hr style=\"height:1px;border:none;background-color:#00233C;\">\n",
    "<p style = 'font-size:18px;font-family:Arial;color:#00233C'><b>4.3 Model Approval function</b></p>"
   ]
  },
  {
   "cell_type": "markdown",
   "id": "156aa571-4da2-45f6-bd61-bd0ba7a598ae",
   "metadata": {},
   "source": [
    "<p style = 'font-size:16px;font-family:Arial;color:#00233C'>  We take all the required input parameters, that we have already predefined in the beginning of this notebook, for the Approval Job. If you'd like to change the comment then you can replace the \"Approved\" message with the message of your choice </p>\n",
    "\n",
    "<p style = 'font-size:16px;font-family:Arial;color:#00233C'> The  parameters used for approval job are :</p>\n",
    "<ul style = 'font-size:16px;font-family:Arial;color:#00233C'>\n",
    "    <li>url</li>\n",
    "    <li>token</li>\n",
    "    <li>project</li>\n",
    "    <li>version_id</li>\n",
    "      </ul></p>"
   ]
  },
  {
   "cell_type": "code",
   "execution_count": null,
   "id": "4fa390bf-c3c4-48ec-b088-667addbf26d2",
   "metadata": {
    "tags": []
   },
   "outputs": [],
   "source": [
    "def approve(url, token, project, version_id):\n",
    "    from base64 import encodebytes as b6\n",
    "\n",
    "    comment = b6(b\"Approved\").decode().strip()\n",
    "    headers = {\n",
    "        \"AOA-Project-ID\": project,\n",
    "        \"Authorization\": f\"Bearer {token}\",\n",
    "        \"Content-Type\": \"application/json\",\n",
    "    }\n",
    "    try:\n",
    "        r = requests.post(\n",
    "            f\"{url}/core/api/trainedModels/{version_id}/approve\",\n",
    "            headers=headers,\n",
    "            data=json.dumps({\"comments\": comment}),\n",
    "            verify=False,\n",
    "        )\n",
    "        r.raise_for_status()\n",
    "    except requests.exceptions.HTTPError as e:\n",
    "        logging.error(f\"HTTP Error {e.args[0]}\")\n",
    "        sys.exit(1)\n",
    "    return r.json()[\"id\"]\n"
   ]
  },
  {
   "cell_type": "markdown",
   "id": "9699087a-4a86-42a7-bf2e-722d40472098",
   "metadata": {},
   "source": [
    "<hr style=\"height:1px;border:none;background-color:#00233C;\">\n",
    "<p style = 'font-size:18px;font-family:Arial;color:#00233C'><b>4.4 Model Deployment function</b></p>"
   ]
  },
  {
   "cell_type": "markdown",
   "id": "f110db93-3699-46eb-8753-71acba7a98df",
   "metadata": {},
   "source": [
    "<p style = 'font-size:16px;font-family:Arial;color:#00233C'> Here we need to get the environment variable we defined in the beginning for number of replicas."
   ]
  },
  {
   "cell_type": "markdown",
   "id": "59973cc9-842d-486d-a99e-8add1b402aa6",
   "metadata": {},
   "source": [
    "<p style = 'font-size:16px;font-family:Arial;color:#00233C'>Pick and transform the deployment variables</p>"
   ]
  },
  {
   "cell_type": "code",
   "execution_count": null,
   "id": "a7585e7b-88a1-42f9-aba5-e562a7857975",
   "metadata": {
    "tags": []
   },
   "outputs": [],
   "source": [
    "def get_extravars():\n",
    "    extravars = {}\n",
    "    for v in os.environ.keys():\n",
    "        if \"DEPLOYVAR_\" in v:\n",
    "            extravars[v.replace(\"DEPLOYVAR_\", \"\")] = os.environ[v]\n",
    "    return extravars\n"
   ]
  },
  {
   "cell_type": "markdown",
   "id": "eec968bc-6d0f-4d35-9054-30bf9bf6250a",
   "metadata": {},
   "source": [
    "<p style = 'font-size:16px;font-family:Arial;color:#00233C'>Deployment Python function</p>"
   ]
  },
  {
   "cell_type": "markdown",
   "id": "212f0d1a-36ce-4378-b1e6-413436bd52d0",
   "metadata": {},
   "source": [
    "<p style = 'font-size:16px;font-family:Arial;color:#00233C'>  We take all the required input parameters, that we have already predefined in the beginning of this notebook, for the Deployment Job </p>\n",
    "<p style = 'font-size:16px;font-family:Arial;color:#00233C'> The  parameters used for deployment job are :</p>\n",
    "<ul style = 'font-size:16px;font-family:Arial;color:#00233C'>\n",
    "    <li>url</li>\n",
    "    <li>token</li>\n",
    "    <li>project</li>\n",
    "    <li>version_id</li>\n",
    "    <li>deploy_memory</li>\n",
    "    <li>deploy_cpu</li>\n",
    "    <li>dataset_connection</li>\n",
    "    <li>dataset_template</li>\n",
    "    <li>deployment_image</li>\n",
    "       </ul></p>"
   ]
  },
  {
   "cell_type": "code",
   "execution_count": null,
   "id": "c295c4c0-94e6-491c-b8dd-ff0c7f39da16",
   "metadata": {
    "tags": []
   },
   "outputs": [],
   "source": [
    "def deploy(url, token, project, version_id, deploy_memory, deploy_cpu, dataset_connection, dataset_template, deployment_image):\n",
    "    headers = {\n",
    "        \"AOA-Project-ID\": project,\n",
    "        \"Authorization\": f\"Bearer {token}\",\n",
    "        \"Content-Type\": \"application/json\",\n",
    "    }\n",
    "    extravars = get_extravars()\n",
    "    data = { \"engineTypeConfig\": {\n",
    "            \"dockerImage\": deployment_image,\n",
    "            \"resources\": {\"memory\": deploy_memory, \"cpu\": deploy_cpu},\n",
    "        },\n",
    "            \"language\": \"python\",\n",
    "            \"args\": extravars\n",
    "    }\n",
    "    \n",
    "    if deployment_type == \"restful\":\n",
    "        data[\"engineType\"] = \"DOCKER_RESTFUL\"\n",
    "        data[\"publishOnly\"] = False\n",
    "        data[\"engineTypeConfig\"][\"replicas\"] = 1\n",
    "        data[\"engineTypeConfig\"][\"engine\"] = \"python\"\n",
    "    elif deployment_type == \"batch\":\n",
    "        data[\"engineType\"] = \"DOCKER_BATCH\"\n",
    "        data[\"datasetConnectionId\"] = dataset_connection\n",
    "        data[\"datasetTemplateId\"] = dataset_template\n",
    "        data[\"engineTypeConfig\"][\"engine\"] = \"python-batch\"\n",
    "        if batch_type == \"publish_only\":\n",
    "            data[\"publishOnly\"] = True\n",
    "        elif batch_type == \"run_once\":\n",
    "            data[\"publishOnly\"] = False\n",
    "            data[\"cron\"] = \"@once\"\n",
    "        else:\n",
    "            logging.error(\"\\\"batch_type\\\" variable must be one of \\\"publish_only\\\" or \\\"run_once\\\"\")\n",
    "            sys.exit(1)   \n",
    "    else:\n",
    "        logging.error(\"\\\"deployment\\\" variable must be one of \\\"restful\\\" or \\\"batch\\\"\")\n",
    "        sys.exit(1)\n",
    "        \n",
    "    try:\n",
    "        r = requests.post(\n",
    "            f\"{url}/core/api/trainedModels/{version_id}/deploy\",\n",
    "            data=json.dumps(data),\n",
    "            headers=headers,\n",
    "            verify=False,\n",
    "        )\n",
    "        r.raise_for_status()\n",
    "    except requests.exceptions.HTTPError as e:\n",
    "        logging.error(f\"HTTP Error {e.args[0]}\")\n",
    "        sys.exit(1)\n",
    "    return r.json()[\"id\"]\n",
    "\n",
    "\n"
   ]
  },
  {
   "cell_type": "markdown",
   "id": "b0138c0b-d9b2-46fd-bc96-af4726fd181c",
   "metadata": {},
   "source": [
    "<hr style=\"height:1px;border:none;background-color:#00233C;\">\n",
    "<p style = 'font-size:18px;font-family:Arial;color:#00233C'><b>4.5 Model Retirement function</b></p>"
   ]
  },
  {
   "cell_type": "markdown",
   "id": "a8a37da3-0289-4d71-ae58-08ba9a10e428",
   "metadata": {},
   "source": [
    "<p style = 'font-size:16px;font-family:Arial;color:#00233C'> We take all the required input parameters, that we have already predefined in the beginning of this notebook, for the Retirement Job. In this case we retire all the model versions that are not the same as the model version we trained in this notebook. </p>\n",
    "<p style = 'font-size:16px;font-family:Arial;color:#00233C'> The  parameters used for retirement job are :</p>\n",
    "<ul style = 'font-size:16px;font-family:Arial;color:#00233C'>\n",
    "    <li>url</li>\n",
    "    <li>token</li>\n",
    "    <li>project</li>\n",
    "    <li>model</li>\n",
    "    <li>version_id</li>      </ul></p> "
   ]
  },
  {
   "cell_type": "code",
   "execution_count": null,
   "id": "4b6d9aa2-d178-423b-ae67-5f58f5b59ff7",
   "metadata": {
    "tags": []
   },
   "outputs": [],
   "source": [
    "def retire_others(url, token, project, model, version_id):\n",
    "    deployments = []\n",
    "    headers = {\n",
    "        \"AOA-Project-ID\": project,\n",
    "        \"Authorization\": f\"Bearer {token}\",\n",
    "        \"Content-Type\": \"application/json\",\n",
    "    }\n",
    "    try:\n",
    "        logging.info(\"Retrieving deployments\")\n",
    "        r = requests.get(\n",
    "            f\"{url}/core/api/deployments/search/findByStatus?status=DEPLOYED&projection=expandDeployment\",\n",
    "            headers=headers,\n",
    "            verify=False,\n",
    "        )\n",
    "        r.raise_for_status()\n",
    "        deploy_list = r.json()[\"_embedded\"][\"deployments\"]\n",
    "        deployments = [\n",
    "            {\n",
    "                \"model\": x[\"model\"][\"id\"],\n",
    "                \"version\": x[\"trainedModel\"][\"id\"],\n",
    "                \"deployment\": x[\"id\"],\n",
    "            }\n",
    "            for x in deploy_list\n",
    "        ]\n",
    "    except requests.exceptions.HTTPError as e:\n",
    "        logging.error(f\"HTTP Error {e.args[0]}\")\n",
    "        sys.exit(1)\n",
    "    for dep in deployments:\n",
    "        if dep[\"model\"] == model and dep[\"version\"] != version_id:\n",
    "            logging.info(f\"Retiring deployment {dep['deployment']}\")\n",
    "            try:\n",
    "                data = {\"deploymentId\": dep[\"deployment\"]}\n",
    "                logging.info(data)\n",
    "                r = requests.post(\n",
    "                    f\"{url}/core/api/trainedModels/{dep['version']}/retire\",\n",
    "                    data=json.dumps(data),\n",
    "                    headers=headers,\n",
    "                    verify=False,\n",
    "                )\n",
    "                r.raise_for_status()\n",
    "            except requests.exceptions.HTTPError as e:\n",
    "                logging.error(\n",
    "                    f\"Problem retiring deployment {dep['deployment']}: {e.args[0]}\"\n",
    "                )\n",
    "                sys.exit(1)\n",
    "            logging.info(f\"Created job ID {r.json()['id']}\")\n"
   ]
  },
  {
   "cell_type": "markdown",
   "id": "fbecf98e-d82f-428d-bd6a-e7cf3ddb7b57",
   "metadata": {},
   "source": [
    "<hr style=\"height:1px;border:none;background-color:#00233C;\">\n",
    "<p style = 'font-size:18px;font-family:Arial;color:#00233C'><b>4.6 Additional functions</b></p>"
   ]
  },
  {
   "cell_type": "markdown",
   "id": "44b901f0-531a-404d-b644-37d7354e9e60",
   "metadata": {},
   "source": [
    "<p style = 'font-size:16px;font-family:Arial;color:#00233C'>Generic function to watch the job and get the model version id </p>"
   ]
  },
  {
   "cell_type": "code",
   "execution_count": null,
   "id": "5a27e50d-c136-411d-9b61-2c20ca71ef24",
   "metadata": {
    "tags": []
   },
   "outputs": [],
   "source": [
    "def get_job_status(url, token, project, job_id):\n",
    "    status = \"RUNNING\"\n",
    "    headers = {\n",
    "        \"AOA-Project-ID\": project,\n",
    "        \"Authorization\": f\"Bearer {token}\",\n",
    "        \"Content-Type\": \"application/json\",\n",
    "    }\n",
    "    while status not in success_cases + failure_cases:\n",
    "        time.sleep(20)\n",
    "        logging.info(f\"Job in status {status}, retrying in 20 seconds\")\n",
    "        try:\n",
    "            r = requests.get(\n",
    "                f\"{url}/core/api/jobs/{job_id}?projection=expandJob\",\n",
    "                headers=headers,\n",
    "                verify=False,\n",
    "            )\n",
    "            r.raise_for_status()\n",
    "            status = r.json()[\"status\"]\n",
    "        except requests.exceptions.HTTPError as e:\n",
    "            logging.error(f\"HTTP Error {e.args[0]}\")\n",
    "            sys.exit(1)\n",
    "        if status in failure_cases:\n",
    "            logging.error(f\"Job failed with status {status}\")\n",
    "            sys.exit(1)\n",
    "    logging.info(\"Success\")\n",
    "    return r.json()[\"metadata\"][\"trainedModel\"][\"id\"]\n"
   ]
  },
  {
   "cell_type": "markdown",
   "id": "e6032d67-3c60-4b7c-afbc-c61cdfdf6266",
   "metadata": {},
   "source": [
    "<hr style=\"height:2px;border:none;background-color:#00233C;\">\n",
    "<p><b style = 'font-size:20px;font-family:Arial;color:#00233C'>5. Execution of the Workflow</b></p>\n",
    "\n"
   ]
  },
  {
   "cell_type": "markdown",
   "id": "a6a9d36d-9719-47e6-8d97-03937bb84b97",
   "metadata": {},
   "source": [
    "<p style = 'font-size:16px;font-family:Arial;color:#00233C'>When running the ModelOps Agent for the model lifecycle job, you can check the status of each job in this Notebook, or you can check the Jobs panel in the left-hand menu of the DEMO project in ModelOps. "
   ]
  },
  {
   "cell_type": "markdown",
   "id": "4d847652-a3cd-4033-a049-9a13d6c1ed1c",
   "metadata": {},
   "source": [
    "<img src=\"images/12_02.png\" alt=\"Jobs panel\" />"
   ]
  },
  {
   "cell_type": "markdown",
   "id": "8daf2508-b00a-4460-840c-7b6625065f50",
   "metadata": {},
   "source": [
    "<p style = 'font-size:16px;font-family:Arial;color:#00233C'>Use this button to Launch ModelOps and check by yourself. Use \"demo_user\" as your username and your password of the environment"
   ]
  },
  {
   "cell_type": "markdown",
   "id": "0c040a31-16be-4276-bc34-93cd8c193546",
   "metadata": {},
   "source": [
    "[![image](images/launchModelOps.png)](/modelops)"
   ]
  },
  {
   "cell_type": "markdown",
   "id": "02b5d357-de46-4b2f-b728-5e70426bd05f",
   "metadata": {},
   "source": [
    "<p style = 'font-size:16px;font-family:Arial;color:#00233C'>Obtain the token</p>"
   ]
  },
  {
   "cell_type": "code",
   "execution_count": null,
   "id": "f8ae5862-ae90-40fc-9e77-7d736ef7dfdd",
   "metadata": {
    "tags": []
   },
   "outputs": [],
   "source": [
    "logging.info(\"Obtaining token\")\n",
    "token = get_token_from_password(url, password)"
   ]
  },
  {
   "cell_type": "markdown",
   "id": "bdbbbb2b-5259-4ebb-b1f1-acd6e464773a",
   "metadata": {},
   "source": [
    "<hr style=\"height:1px;border:none;background-color:#00233C;\">\n",
    "<p style = 'font-size:18px;font-family:Arial;color:#00233C'><b>5.1 Model Training execution</b></p>"
   ]
  },
  {
   "cell_type": "markdown",
   "id": "b1194a82-c8e4-4c94-bc31-d27cc9213124",
   "metadata": {},
   "source": [
    "<p style = 'font-size:16px;font-family:Arial;color:#00233C'>Running the ModelOps Agent for training job and get the job id</p>"
   ]
  },
  {
   "cell_type": "code",
   "execution_count": null,
   "id": "a4b65f7c-a8f5-418d-b547-668fbfc8f347",
   "metadata": {
    "tags": []
   },
   "outputs": [],
   "source": [
    "logging.info(\"Training\")\n",
    "train_job = train(url, token, project, model, dataset_connection, dataset_train, train_memory, train_cpu, hyper_params, training_image)"
   ]
  },
  {
   "cell_type": "markdown",
   "id": "43e410b7-8cd5-484f-8317-29f1d6d9649a",
   "metadata": {},
   "source": [
    "<p style = 'font-size:16px;font-family:Arial;color:#00233C'>Watch the job status and get model version id</p>"
   ]
  },
  {
   "cell_type": "code",
   "execution_count": null,
   "id": "72ecf02c-31d5-4f9b-a107-4e069eb28038",
   "metadata": {
    "tags": []
   },
   "outputs": [],
   "source": [
    "logging.info(\"Getting training status\")\n",
    "version_id = get_job_status(url, token, project, train_job)\n"
   ]
  },
  {
   "cell_type": "markdown",
   "id": "3444281f-cb55-4811-933e-d9f43182e9f6",
   "metadata": {},
   "source": [
    "<hr style=\"height:1px;border:none;background-color:#00233C;\">\n",
    "<p style = 'font-size:18px;font-family:Arial;color:#00233C'><b>5.2 Model Evaluation execution</b></p>"
   ]
  },
  {
   "cell_type": "markdown",
   "id": "090393d6-6d4d-4eab-821b-2857c22b3b21",
   "metadata": {},
   "source": [
    "<p style = 'font-size:16px;font-family:Arial;color:#00233C'>Running the ModelOps Agent for evaluation job and get the job id</p>"
   ]
  },
  {
   "cell_type": "code",
   "execution_count": null,
   "id": "c09c8926-42a7-4cc2-802d-a18e74e40ad5",
   "metadata": {
    "tags": []
   },
   "outputs": [],
   "source": [
    "logging.info(\"Evaluation\")\n",
    "evaluate_job = evaluate(url, token, project, version_id, dataset_connection, dataset_eval, eval_memory, eval_cpu, hyper_params, deployment_image)"
   ]
  },
  {
   "cell_type": "markdown",
   "id": "ff7c254b-0d57-4a37-a4f7-b1e695edc169",
   "metadata": {},
   "source": [
    "<p style = 'font-size:16px;font-family:Arial;color:#00233C'>Watch the job status</p>"
   ]
  },
  {
   "cell_type": "code",
   "execution_count": null,
   "id": "1607d32d-df15-48a3-86ea-b4192a44827b",
   "metadata": {
    "tags": []
   },
   "outputs": [],
   "source": [
    "logging.info(\"Getting evaluation status\")\n",
    "version_id2 = get_job_status(url, token, project, evaluate_job)"
   ]
  },
  {
   "cell_type": "markdown",
   "id": "cba45ca9-9d93-4904-a17e-bf1eaca692a3",
   "metadata": {},
   "source": [
    "<hr style=\"height:1px;border:none;background-color:#00233C;\">\n",
    "<p style = 'font-size:18px;font-family:Arial;color:#00233C'><b>5.3 Model Approval</b></p>"
   ]
  },
  {
   "cell_type": "markdown",
   "id": "bcfa7765-8cc8-4da0-8475-48878b311619",
   "metadata": {},
   "source": [
    "<p style = 'font-size:16px;font-family:Arial;color:#00233C'>Running the ModelOps Agent for Approval job and get the job id</p>"
   ]
  },
  {
   "cell_type": "code",
   "execution_count": null,
   "id": "720516a1-105d-410d-a42e-19a7ca1919a3",
   "metadata": {
    "tags": []
   },
   "outputs": [],
   "source": [
    "logging.info(\"Approval\")\n",
    "approve_job = approve(url, token, project, version_id)"
   ]
  },
  {
   "cell_type": "markdown",
   "id": "bbf72e67-7347-48e3-9a79-e458fce45dd1",
   "metadata": {},
   "source": [
    "<hr style=\"height:1px;border:none;background-color:#00233C;\">\n",
    "<p style = 'font-size:18px;font-family:Arial;color:#00233C'><b>5.3 Model Deployment execution</b></p>"
   ]
  },
  {
   "cell_type": "markdown",
   "id": "e4336800-ba90-4d12-a166-1de43f5f7344",
   "metadata": {},
   "source": [
    "<p style = 'font-size:16px;font-family:Arial;color:#00233C'>Running the ModelOps Agent for Deployment job and get the job id</p>"
   ]
  },
  {
   "cell_type": "code",
   "execution_count": null,
   "id": "f4d4fbed-b74e-4f3e-9169-a10334fa63bf",
   "metadata": {
    "tags": []
   },
   "outputs": [],
   "source": [
    "logging.info(\"Deployment\")\n",
    "deploy_job = deploy(url, token, project, version_id, deploy_memory, deploy_cpu, dataset_connection, dataset_template, deployment_image)"
   ]
  },
  {
   "cell_type": "markdown",
   "id": "ad083696-b859-4ac8-88da-672efb20a4ba",
   "metadata": {},
   "source": [
    "<p style = 'font-size:16px;font-family:Arial;color:#00233C'>Watch the job status</p>"
   ]
  },
  {
   "cell_type": "code",
   "execution_count": null,
   "id": "ea2f6102-24cf-433f-8e89-0d019c454e03",
   "metadata": {
    "tags": []
   },
   "outputs": [],
   "source": [
    "logging.info(\"Getting deployment status\")\n",
    "version_id3 = get_job_status(url, token, project, deploy_job)"
   ]
  },
  {
   "cell_type": "markdown",
   "id": "3034d879-18af-46d3-92dd-f6c0c1a149e0",
   "metadata": {},
   "source": [
    "<hr style=\"height:1px;border:none;background-color:#00233C;\">\n",
    "<p style = 'font-size:18px;font-family:Arial;color:#00233C'><b>5.2 Previous Model Retirement execution (optional)</b></p>"
   ]
  },
  {
   "cell_type": "markdown",
   "id": "28e4320f-6d4d-44bd-afb8-8df7e1cde4ad",
   "metadata": {},
   "source": [
    "<div class=\"alert alert-block alert-warning\">\n",
    "<p style = 'font-size:16px;font-family:Arial;color:#00233C'><b>Important Note: </b>The below cell should be uncommented and executed only if we want to retire the model version.</p>\n",
    "</div>"
   ]
  },
  {
   "cell_type": "markdown",
   "id": "000d3ed6-8839-4bbb-81be-8ff8444a8f7a",
   "metadata": {},
   "source": [
    "<p style = 'font-size:16px;font-family:Arial;color:#00233C'>Running the ModelOps Agent for retiring the deployments associated to the previous model versions in this model</p>"
   ]
  },
  {
   "cell_type": "code",
   "execution_count": null,
   "id": "b649ab32-e7a8-4c51-97ae-b4df86f394f0",
   "metadata": {
    "tags": []
   },
   "outputs": [],
   "source": [
    "# retirement_job = retire_others(url, token, project, model, version_id)"
   ]
  },
  {
   "cell_type": "markdown",
   "id": "d0e52a04-f5d6-4bee-a78d-d882b8f6deb0",
   "metadata": {},
   "source": [
    "<footer style=\"padding-bottom:35px; background:#f9f9f9; border-bottom:3px solid #00233C\">\n",
    "    <div style=\"float:left;margin-top:14px\">ClearScape Analytics™</div>\n",
    "    <div style=\"float:right;\">\n",
    "        <div style=\"float:left; margin-top:14px\">\n",
    "            © 2024 Teradata. All rights reserved.\n",
    "        </div>\n",
    "    </div>\n",
    "</footer>"
   ]
  }
 ],
 "metadata": {
  "kernelspec": {
   "display_name": "Python 3 (ipykernel)",
   "language": "python",
   "name": "python3"
  },
  "language_info": {
   "codemirror_mode": {
    "name": "ipython",
    "version": 3
   },
   "file_extension": ".py",
   "mimetype": "text/x-python",
   "name": "python",
   "nbconvert_exporter": "python",
   "pygments_lexer": "ipython3",
   "version": "3.9.10"
  }
 },
 "nbformat": 4,
 "nbformat_minor": 5
}
