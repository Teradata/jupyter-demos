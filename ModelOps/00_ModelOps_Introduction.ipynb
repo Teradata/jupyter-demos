{
 "cells": [
  {
   "cell_type": "markdown",
   "id": "2d696522",
   "metadata": {},
   "source": [
    "<header>\n",
    "   <p  style='font-size:36px;font-family:Arial; color:#F0F0F0; background-color: #00233c; padding-left: 20pt; padding-top: 20pt;padding-bottom: 10pt; padding-right: 20pt;'>\n",
    "       ClearScape Analytics™ ModelOps Demonstrations\n",
    "  <br>\n",
    "       <img id=\"teradata-logo\" src=\"https://storage.googleapis.com/clearscape_analytics_demo_data/DEMO_Logo/teradata.svg\" alt=\"Teradata\" style=\"width: 125px; height: auto; margin-top: 20pt;\">\n",
    "    </p>\n",
    "</header>"
   ]
  },
  {
   "cell_type": "markdown",
   "id": "b654efac-b4fa-4d09-b4ec-f79c6d61e41b",
   "metadata": {},
   "source": [
    "[Skip to \"Table of Contents\"](#TOC)"
   ]
  },
  {
   "cell_type": "markdown",
   "id": "4c4cd255-41d0-45d8-84d3-76365f9c7569",
   "metadata": {},
   "source": [
    "<p style = 'font-size:16px;font-family:Arial'>According to Gartner, <b>65% predictive models are never implemented in production</b> and according to Accenture 63% of organizations lack mature strategies and capabilities to operationalize AI/ML at scale. With the capabilities of <b>ClearScape Analytics ModelOps</b>, Analytics-driven organizations can follow a mature methodology and automated capabilities to solve this gap and make efficient model operationalization at Scale in Vantage.<br><br>ClearScape Analytics ModelOps manages the operationalization of advanced analytics in Teradata Vantage providing Deployment, Governance and Monitoring of your AI/ML models at scale. ModelOps provides an easy-to-use web-based user interface (UI), a command line interface (CLI) and Python/R Software Development Kit (SDK).<br><br>For functionality testing, we have prepared one single demo Project (PIMA Diabetes prediction) with different demonstrations based on notebooks to walk you through the functionality of ModelOps in ClearScape Analytics Experience:</p>"
   ]
  },
  {
   "cell_type": "markdown",
   "id": "8457fb2f-7234-4b56-9663-9ad7a299c6aa",
   "metadata": {},
   "source": [
    "![image](images/00_00.png)"
   ]
  },
  {
   "cell_type": "markdown",
   "id": "16014979-108c-4b6c-9202-0d10f8d704d7",
   "metadata": {},
   "source": [
    "<a id='TOC'> </a><p style = 'font-size:16px;font-family:Arial'>We recommend you go through these steps in sequence to familiarize with ModelOps methodology and interface.</p>"
   ]
  },
  {
   "cell_type": "markdown",
   "id": "d269e1d8-1cea-4338-8586-b108bd423cda",
   "metadata": {},
   "source": [
    "<b style = 'font-size:16px;font-family:Arial'>First explore the ModelOps User Interface and Capabilities</b>\n",
    "* [01 - ModelOps Getting Started](01_ModelOps_Getting_Started.ipynb)</li>\n",
    "\n",
    "\n",
    "<b style = 'font-size:16px;font-family:Arial'>Understand the PIMA Diabetes use case from Jupyter </b>\n",
    "* [02 - ModelOps PIMA Jupyter-only Data Exploration and Experimentation](02_ModelOps_PIMA_Experimentation.ipynb)\n",
    "\n",
    "<b style = 'font-size:16px;font-family:Arial'>Try the BYOM no code operationalization (Easiest to operationalize)</b>\n",
    "\n",
    "* [03 - ModelOps-BYOM  with PMML](03_ModelOps_BYOM_PIMA_PMML.ipynb)\n",
    "* [04 - ModelOps-BYOM  with ONNX](04_ModelOps_BYOM_PIMA_ONNX.ipynb)\n",
    "* [05 - ModelOps-BYOM  with H2O](05_ModelOps_BYOM_PIMA_H2O.ipynb)\n",
    "* Dataiku with ModelOps BYOM no code (available soon)\n",
    "* DataRobot with ModelOps BYOM no code (available soon)\n",
    "\n",
    "<b style = 'font-size:16px;font-family:Arial'>Try the In-database functions (Most scalable)</b>\n",
    "\n",
    "* [06 - ModelOps-GIT GIT Project and Dataset Setup](06_ModelOps_GIT_Project_Setup.ipynb)  <-- Setup needed for this and following section\n",
    "* [07 - ModelOps-GIT with Python In-database GLM](07_ModelOps_GIT_PIMA_Python_Indb_GLM.ipynb)\n",
    "* [11 - ModelOps-GIT with Python In-database XGBoost](11_ModelOps_GIT_PIMA_Python_indb_XGboost.ipynb)\n",
    "* [13 - ModelOps-GIT with teradataml OpenSourceML DecisionTree](13_ModelOps_GIT_PIMA_Python_osml_DecisionTree.ipynb)\n",
    "* [14 - ModelOps-GIT with Python In-database LightGBM](14_ModelOps_GIT_PIMA_Python_osml_LightGBM.ipynb)\n",
    "\n",
    "<b style = 'font-size:16px;font-family:Arial'>Try the Open Analytics operationalization (Most Compatible)</b>\n",
    "\n",
    "* [06 - ModelOps-GIT GIT Project and Dataset Setup](06_ModelOps_GIT_Project_Setup.ipynb)  <-- Setup needed for this and previous section\n",
    "* [08 - ModelOps-GIT with Python H2O AutoML](08_ModelOps_GIT_PIMA_Python_H2OAutoML.ipynb)\n",
    "* [09 - ModelOps-GIT with Python XGboost](09_ModelOps_GIT_PIMA_Python_XGboost.ipynb)\n",
    "* [10 - ModelOps-GIT with R GBM](10_ModelOps_GIT_PIMA_R_GBM.ipynb)\n",
    "\n",
    "<b style = 'font-size:16px;font-family:Arial'>Understand how you can create Model Factory Solutions</b>\n",
    "* [12 - ModelOps-Model Factory using RESTful API in Python](12_ModelOps_Model_Factory_REST_Python.ipynb)"
   ]
  },
  {
   "cell_type": "markdown",
   "id": "f07dc09a-ccda-4563-88db-40724201aec4",
   "metadata": {},
   "source": [
    "<div class=\"alert alert-block alert-warning\">\n",
    "<p style = 'font-size:16px;font-family:Arial'><b>Note: </b><i>The ModelOps framework initialization will take approximately 5 minutes after the Clearscape environment is created. During this period, the ModelOps home page will be unresponsive, and the login screen will not appear. Full access will be available shortly thereafter.</i></p>\n",
    "</div>\n",
    "\n",
    "<p style = 'font-size:16px;font-family:Arial'>If you are already familiar with ModelOps, and want to try the pre-loaded Demos you can go directly into ModelOps dashboard here using <b>demo_user</b> and your environment/host password:"
   ]
  },
  {
   "cell_type": "markdown",
   "id": "910d4ff9-21a6-4de7-bfaf-bf7ceaa40d76",
   "metadata": {},
   "source": [
    "[![image](images/launchModelOps.png)](/modelops)"
   ]
  },
  {
   "cell_type": "markdown",
   "id": "2342870f-cb27-49f4-81ce-3f4d54d22ed3",
   "metadata": {},
   "source": [
    "[Continue to Getting Started >>](./01_ModelOps_Getting_Started.ipynb)"
   ]
  },
  {
   "cell_type": "markdown",
   "id": "77ae6ce7",
   "metadata": {},
   "source": [
    "<footer style=\"padding-bottom:35px; border-bottom:3px solid #91A0Ab\">\n",
    "    <div style=\"float:left;margin-top:14px\">ClearScape Analytics™</div>\n",
    "    <div style=\"float:right;\">\n",
    "        <div style=\"float:left; margin-top:14px\">\n",
    "            Copyright © Teradata Corporation - 2023,2024. All Rights Reserved\n",
    "        </div>\n",
    "    </div>\n",
    "</footer>"
   ]
  }
 ],
 "metadata": {
  "kernelspec": {
   "display_name": "Python 3 (ipykernel)",
   "language": "python",
   "name": "python3"
  },
  "language_info": {
   "codemirror_mode": {
    "name": "ipython",
    "version": 3
   },
   "file_extension": ".py",
   "mimetype": "text/x-python",
   "name": "python",
   "nbconvert_exporter": "python",
   "pygments_lexer": "ipython3",
   "version": "3.9.10"
  }
 },
 "nbformat": 4,
 "nbformat_minor": 5
}
