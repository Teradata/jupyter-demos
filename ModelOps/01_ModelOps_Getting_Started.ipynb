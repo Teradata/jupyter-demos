{
 "cells": [
  {
   "cell_type": "markdown",
   "id": "93451e5b",
   "metadata": {},
   "source": [
    "<header>\n",
    "   <p  style='font-size:36px;font-family:Arial; color:#F0F0F0; background-color: #00233c; padding-left: 20pt; padding-top: 20pt;padding-bottom: 10pt; padding-right: 20pt;'>\n",
    "       ModelOps Getting Started\n",
    "  <br>\n",
    "       <img id=\"teradata-logo\" src=\"https://storage.googleapis.com/clearscape_analytics_demo_data/DEMO_Logo/teradata.svg\" alt=\"Teradata\" style=\"width: 125px; height: auto; margin-top: 20pt;\">\n",
    "    </p>\n",
    "</header>"
   ]
  },
  {
   "cell_type": "markdown",
   "id": "fb8c4e05-6a39-44bd-8443-be26e433c14f",
   "metadata": {},
   "source": [
    "<div style=\"display: flex; justify-content: center; gap: 20px; align-items: center; font-family: Arial, sans-serif;\">\n",
    "  <div style=\"text-align: center;\">\n",
    "    <img src=\"images/01_08.png\" alt=\"BYOM Model Lifecycle - Light Mode\" width=\"500\" height=\"500\" style = \"border: 1px solid #00233C; border-radius: 10px; box-shadow: 0 4px 8px rgba(0, 0, 0, 0.2);\"/>\n",
    "  </div>\n",
    "  <div style=\"text-align: center;\">\n",
    "    <img src=\"images/01_40.png\" alt=\"BYOM Model Lifecycle - Dark Mode\" width=\"500\" height=\"500\" style = \"border: 1px solid #00233C; border-radius: 10px; box-shadow: 0 4px 8px rgba(0, 0, 0, 0.2);\"/>\n",
    "  </div>\n",
    "  <div style=\"text-align: center;\">\n",
    "    <img src=\"images/01_37.png\" alt=\"BYOM Model Lifecycle - Light Mode\" width=\"500\" height=\"500\" style = \"border: 1px solid #00233C; border-radius: 10px; box-shadow: 0 4px 8px rgba(0, 0, 0, 0.2);\"/>\n",
    "  </div>\n",
    "  <div style=\"text-align: center;\">\n",
    "    <img src=\"images/01_41.png\" alt=\"BYOM Model Lifecycle - Light Mode\" width=\"500\" height=\"500\" style = \"border: 1px solid #00233C; border-radius: 10px; box-shadow: 0 4px 8px rgba(0, 0, 0, 0.2);\"/>\n",
    "  </div>\n",
    "</div>"
   ]
  },
  {
   "cell_type": "markdown",
   "id": "4fecc4a9",
   "metadata": {},
   "source": [
    "<p style = 'font-size:20px;font-family:Arial'><b>Introduction</b></p>\n",
    "<p style = 'font-size:16px;font-family:Arial'><b><i>Teradata ClearScape Analytics ModelOps</i></b> is the Model Management framework that empowers data scientists and machine learning engineers to deploy and manage their advanced analytics models within Teradata Vantage. ClearScape Analytics ModelOps provides a comprehensive methodology, intuitive user interface, and an automation agent to guide users in seamlessly integrating their models int business processes in production. The ModelOps Agent ensures continuous optimization of both models and data for performance and accuracy. This leads to faster time-to-value, reduced operational risks, and enhanced decision-making capabilities.</p>"
   ]
  },
  {
   "cell_type": "markdown",
   "id": "1fbd2a56-adb1-4d96-9b65-2e98410c6fdc",
   "metadata": {},
   "source": [
    "<div class=\"alert alert-block alert-warning\">\n",
    "<p style = 'font-size:16px;font-family:Arial'><b>Note: </b><i>The ModelOps framework initialization will take approximately 5 minutes after the Clearscape environment is created. During this period, the ModelOps home page will be unresponsive, and the login screen will not appear. Full access will be available shortly thereafter.</i></p>\n",
    "</div>"
   ]
  },
  {
   "cell_type": "markdown",
   "id": "d8f8d824-5be3-4303-8a5f-183645ad250d",
   "metadata": {},
   "source": [
    "<div style=\"font-size:16px; font-family:Arial; background-color:#F9F9F9; border:2px solid #0066CC; border-radius:8px; padding:15px; width:100%; box-sizing:border-box; text-align:center; box-shadow:0 4px 6px rgba(0,0,0,0.1);\">\n",
    "  <p style=\"margin:0;\">\n",
    "    🎥 <strong>Watch Now:</strong> Discover the \n",
    "    <a href=\"https://www.youtube.com/watch?v=ZRqREsOMnXI&ab_channel=Teradata\" style=\"color:#0066CC; text-decoration:none; font-weight:bold;\">\n",
    "      ModelOps User Interface\n",
    "    </a> in action!\n",
    "  </p>\n",
    "  <a href=\"https://www.youtube.com/watch?v=ZRqREsOMnXI&ab_channel=Teradata\" style=\"text-decoration:none;\">\n",
    "    <img src=\"https://img.icons8.com/clouds/100/youtube-play.png\" alt=\"View Video\" style=\"width:80px; height:auto; margin-top:10px;\">\n",
    "  </a>\n",
    "</div>"
   ]
  },
  {
   "cell_type": "markdown",
   "id": "ba5c685a-dde5-4850-a4b3-785e1455b804",
   "metadata": {},
   "source": [
    "<p style = 'font-size:20px;font-family:Arial'><b>Steps in this Notebook</b></p>\n",
    "<ol style = 'font-size:16px;font-family:Arial'>\n",
    "    <li>Understand the ModelOps Methodology</li>\n",
    "    <li>Login to ModelOps </li>\n",
    "    <li>Navigate through Demo Projects, Models and Datasets</li>\n",
    "    <li>Preloaded Models - Train, Evaluate, Approve and Deploy a new model version</li>\n",
    "    <li>Monitoring Capabilities</li>\n",
    "</ol>"
   ]
  },
  {
   "cell_type": "markdown",
   "id": "8bc40798-004b-4fd7-b8a1-db4ac5191fed",
   "metadata": {},
   "source": [
    "<hr style=\"height:2px;border:none;\">\n",
    "<p style = 'font-size:20px;font-family:Arial'><b>Step 1. Understand the ModelOps Methodology </b></p>"
   ]
  },
  {
   "cell_type": "markdown",
   "id": "818a4113-852a-48d0-aef3-2832b2725c0f",
   "metadata": {},
   "source": [
    "<div style=\"font-size:16px; font-family:Arial; line-height:1.6;\">\n",
    "  <p>\n",
    "    In the <strong>ModelOps methodology</strong>, the user interface is utilized when the model is ready to be operationalized. This diagram will be referenced in every demo notebook to help understand our position in the methodology.\n",
    "  </p>\n",
    "  <ul>\n",
    "    <li><strong>Data Ingestion:</strong> We have preloaded the PIMA diabetes data tables into Vantage and created the dataset templates in ModelOps for these demos.</li>\n",
    "    <li><strong>Create Project:</strong> A demo project has already been preloaded in ModelOps.</li>\n",
    "    <li><strong>Discovery:</strong> This phase involves exploring and creating new data features in the notebook, as well as experimenting to find the best model.</li>\n",
    "    <li><strong>Finalize AI Model:</strong> We will demonstrate how to prepare and test models using our SDK and CLI tools before operationalization.</li>\n",
    "    <li><strong>ModelOps User Interface:</strong> We will walk through the ModelOps screens to track the model lifecycle, including training/import, evaluation, approval, deployment, scoring, and monitoring.</li>\n",
    "  </ul>\n",
    "</div>\n"
   ]
  },
  {
   "cell_type": "markdown",
   "id": "81e13d71-28ee-41ac-be8f-e2c5b38e5eab",
   "metadata": {},
   "source": [
    "![image](images/01_01.png)"
   ]
  },
  {
   "cell_type": "markdown",
   "id": "863119f1-9765-47bb-9391-2137672f7bb3",
   "metadata": {},
   "source": [
    "<hr style=\"height:2px;border:none;\">\n",
    "<p style = 'font-size:20px;font-family:Arial'><b>Step 2. Login to ModelOps</b></p>"
   ]
  },
  {
   "cell_type": "markdown",
   "id": "e45aa323-47ff-4cbc-b98d-9aa88176ef8b",
   "metadata": {},
   "source": [
    "<p style = 'font-size:16px;font-family:Arial'>Launch ModelOps from this button below:</p>"
   ]
  },
  {
   "cell_type": "markdown",
   "id": "5d4b739b-6d53-4fcb-9dac-c13ba164fe64",
   "metadata": {},
   "source": [
    "<a href=\"/modelops\" style=\"display: inline-flex; align-items: center; justify-content: center; background-color: #017373; color: #FFFFFF; font-family: Arial, sans-serif; font-size: 16px; font-weight: bold; text-decoration: none; padding: 12px 24px; border: none; border-radius: 8px; box-shadow: 0 4px 6px rgba(0, 0, 0, 0.1); cursor: pointer; transition: all 0.3s ease;\">\n",
    "  LAUNCH MODELOPS\n",
    "  <img src=\"https://img.icons8.com/ios-filled/50/ffffff/external-link.png\" alt=\"External Link Icon\" style=\"margin-left: 8px; width: 20px; height: 20px;\">\n",
    "</a>"
   ]
  },
  {
   "cell_type": "markdown",
   "id": "be5b6458-60c2-4101-8a59-a43d60064d7e",
   "metadata": {},
   "source": [
    "<p style=\"font-size:16px; font-family:Arial;\">\n",
    "  When launching <strong>ModelOps</strong>, you will be prompted to enter your login credentials. Use <strong>\"demo_user\"</strong> as the username, and your password from the <strong>ClearScape Analytics Experience</strong> environment.\n",
    "</p>"
   ]
  },
  {
   "cell_type": "markdown",
   "id": "5c221114-a09b-4387-9935-673116494298",
   "metadata": {},
   "source": [
    "<img src=\"images/01_02.png\" alt=\"BYOM model lifecycle\" width=\"400\" height=\"400\" style = \"border: 1px solid #00233C; border-radius: 10px; box-shadow: 0 4px 8px rgba(0, 0, 0, 0.2);\"/>"
   ]
  },
  {
   "cell_type": "markdown",
   "id": "afb4b0c1-5816-4d79-9887-38d46a13e9d4",
   "metadata": {},
   "source": [
    "<p style=\"font-size:16px; font-family:Arial;\">\n",
    "  When you first access <strong>ModelOps</strong>, the Home Page will be displayed in either <strong>Light Mode</strong> or <strong>Dark Mode</strong>, depending on your browser's preferences.\n",
    "</p>\n"
   ]
  },
  {
   "cell_type": "markdown",
   "id": "078888f4-ba9b-4781-80e5-e9a9e576d1e3",
   "metadata": {},
   "source": [
    "<div style=\"display: flex; justify-content: center; gap: 20px; align-items: center; font-family: Arial, sans-serif;\">\n",
    "  <div style=\"text-align: center;\">\n",
    "    <h3 style=\"color: #00233C;\">Light Mode</h3>\n",
    "    <img src=\"images/01_03.png\" alt=\"BYOM Model Lifecycle - Light Mode\" width=\"500\" height=\"500\" style = \"border: 1px solid #00233C; border-radius: 10px; box-shadow: 0 4px 8px rgba(0, 0, 0, 0.2);\"/>\n",
    "  </div>\n",
    "  <div style=\"text-align: center;\">\n",
    "    <h3 style=\"color: #00233C;\">Dark Mode</h3>\n",
    "    <img src=\"images/01_04.png\" alt=\"BYOM Model Lifecycle - Dark Mode\" width=\"500\" height=\"500\" style = \"border: 1px solid #00233C; border-radius: 10px; box-shadow: 0 4px 8px rgba(0, 0, 0, 0.2);\"/>\n",
    "  </div>\n",
    "</div>"
   ]
  },
  {
   "cell_type": "markdown",
   "id": "9a64add1-b0dc-45c8-b842-177d2978bbb1",
   "metadata": {},
   "source": [
    "<p style=\"font-size:16px; font-family:Arial;\">\n",
    "  Launch <strong>ModelOps</strong> to try this step yourself, then return to continue the tutorial.\n",
    "</p>\n",
    "<p style=\"font-size:16px; font-family:Arial;\">\n",
    "  You can switch between <strong>Dark Mode</strong> and <strong>Light Mode</strong> themes by clicking on the user icon.\n",
    "</p>\n"
   ]
  },
  {
   "cell_type": "markdown",
   "id": "ce4e54be-26aa-44e5-b461-87d4049ccb20",
   "metadata": {},
   "source": [
    "<img src=\"images/01_05.png\" alt=\"BYOM model lifecycle\" width=\"300\" height=\"300\" style = \"border: 1px solid #00233C; border-radius: 10px; box-shadow: 0 4px 8px rgba(0, 0, 0, 0.2);\"/>"
   ]
  },
  {
   "cell_type": "markdown",
   "id": "e871f430-8281-4f8e-b67c-64aad65a8717",
   "metadata": {},
   "source": [
    "<p style = 'font-size:16px;font-family:Arial'>Go and try this Step by yourself. Launch ModelOps from this button below:</p>\n",
    "\n",
    "<a href=\"/modelops\" style=\"display: inline-flex; align-items: center; justify-content: center; background-color: #007373; color: #FFFFFF; font-family: Arial, sans-serif; font-size: 16px; font-weight: bold; text-decoration: none; padding: 12px 24px; border: none; border-radius: 8px; box-shadow: 0 4px 6px rgba(0, 0, 0, 0.1); cursor: pointer; transition: all 0.3s ease;\">\n",
    "  LAUNCH MODELOPS\n",
    "  <img src=\"https://img.icons8.com/ios-filled/50/ffffff/external-link.png\" alt=\"External Link Icon\" style=\"margin-left: 8px; width: 20px; height: 20px;\">\n",
    "</a>"
   ]
  },
  {
   "cell_type": "markdown",
   "id": "9c21b608-585f-42fb-939e-edbb5243e368",
   "metadata": {
    "tags": []
   },
   "source": [
    "<hr style=\"height:2px;border:none;\">\n",
    "<p style = 'font-size:20px;font-family:Arial'><b>Step 3. Navigate through Demo Projects, Models and Datasets</b></p>"
   ]
  },
  {
   "cell_type": "markdown",
   "id": "33fbd2d1-f270-41b7-bf34-a2533eda7f94",
   "metadata": {},
   "source": [
    "<p style = 'font-size:18px;font-family:Arial'><b>3.1 Projects</b></p>\n",
    "<p style=\"font-size:16px; font-family:Arial;\">\n",
    "  <strong>ModelOps</strong> organizes the models into projects. Understanding what is a project and how projects work in ModelOps is crucial to leveraging its full capabilities. Projects serve as groups of models that reside in the same code repository, sharing datasets and connections to <strong>Vantage</strong>. Projects can be created for individual users or groups (linked to <strong>Keycloak</strong> groups), facilitating collaboration among users.\n",
    "</p>"
   ]
  },
  {
   "cell_type": "markdown",
   "id": "10975dbc-f8d0-4ad6-b022-426e8b131bee",
   "metadata": {
    "jp-MarkdownHeadingCollapsed": true,
    "tags": []
   },
   "source": [
    "<img src=\"images/01_06.png\" alt=\"BYOM model lifecycle\" width=\"1000\" height=\"200\" style = \"border: 1px solid #00233C; border-radius: 10px; box-shadow: 0 4px 8px rgba(0, 0, 0, 0.2);\"/>"
   ]
  },
  {
   "cell_type": "markdown",
   "id": "86e048e4-436c-456f-81d9-a028bbe61a33",
   "metadata": {},
   "source": [
    "<p style=\"font-size:16px; font-family:Arial;\">\n",
    "  Each project is associated with a <strong>GIT repository</strong>. You can test the connection to GIT directly within the project creation panel.\n",
    "</p>\n",
    "<p style=\"font-size:16px; font-family:Arial;\">\n",
    "  For demo purposes, you can use the internal Demo GIT repository. The repository path for the preloaded demo project is <code>/app/built-in/demo-models</code>, with <code>tmo</code> as the branch (where <strong>tmo</strong> stands for Teradata ModelOps).\n",
    "</p>"
   ]
  },
  {
   "cell_type": "markdown",
   "id": "b9ad0e2d-f671-499d-a338-f592ea53f9b8",
   "metadata": {},
   "source": [
    "<img src=\"images/01_07.png\" alt=\"BYOM model lifecycle\" width=\"400\" height=\"200\" style = \"border: 1px solid #00233C; border-radius: 10px; box-shadow: 0 4px 8px rgba(0, 0, 0, 0.2);\"/>"
   ]
  },
  {
   "cell_type": "markdown",
   "id": "bb856410-a168-4968-abd0-4f6ae6856c18",
   "metadata": {
    "tags": []
   },
   "source": [
    "<p style=\"font-size:16px; font-family:Arial;\">Simply click on it to open and access the models within the project directly.</p>"
   ]
  },
  {
   "cell_type": "markdown",
   "id": "77187e7e-7291-4906-a8fe-0392930afa60",
   "metadata": {
    "tags": []
   },
   "source": [
    "<hr style=\"height:1px;border:none;\">\n",
    "<p style = 'font-size:18px;font-family:Arial'><b>3.2 Models</b></p>"
   ]
  },
  {
   "cell_type": "markdown",
   "id": "11a82550-38b9-4e9d-9e48-aa008ae17f31",
   "metadata": {
    "tags": []
   },
   "source": [
    "<p style = 'font-size:16px;font-family:Arial'>ModelOps goal is to serve the users as an Open and Connected framework users, letting the user to operationalize models to deploy any type of model that can be written in Python/R code using Teradata Vantage code clients. It also provides the possibility to operationalize already trained models that are compatible with Bring-your-own-model (BYOM) like PMML, ONNX, H2O, Dataiku and DataRobot; and Script table Operator (STO) formats: Python or R Scripts. From version 7.1 we provide possibility to manage SAS scoring in-database models. From the version 7.1.2 we also provide the compatibility to deploy .ipynb (Jupyter Notebooks) formats.</p>"
   ]
  },
  {
   "cell_type": "markdown",
   "id": "10dee4ec-3ce1-4df0-9e38-731ebafae70f",
   "metadata": {},
   "source": [
    "<img src=\"images/01_08.png\" alt=\"BYOM model lifecycle\" width=\"1000\" height=\"200\" style = \"border: 1px solid #00233C; border-radius: 10px; box-shadow: 0 4px 8px rgba(0, 0, 0, 0.2);\"/>"
   ]
  },
  {
   "cell_type": "markdown",
   "id": "7ca833dd-8ce6-419f-827f-ab643249de7e",
   "metadata": {
    "tags": []
   },
   "source": [
    "<hr style=\"height:1px;border:none;\">\n",
    "<p style = 'font-size:18px;font-family:Arial'><b>3.3 Datasets</b></p>\n",
    "<p style=\"font-size:16px; font-family:Arial;\">\n",
    "<strong>Datasets</strong> in ModelOps are essential for every training, evaluation, and scoring job. Users first create a dataset template, followed by dataset instances to be utilized in model jobs. Dataset templates can include multiple training and evaluation datasets specifically designed for ModelOps tasks. For this demo, we have one preloaded dataset template with two datasets: one for training and another for evaluation.</p>\n",
    "\n",
    "<p style=\"font-size:16px; font-family:Arial;\">Access the dataset template and edit the training dataset as needed. You can also view the query and preview the data associated with it.</p>"
   ]
  },
  {
   "cell_type": "markdown",
   "id": "d2c66c86-874c-42eb-af72-38c1fed3d89d",
   "metadata": {},
   "source": [
    "<img src=\"images/01_09.png\" alt=\"BYOM model lifecycle\" width=\"1000\" height=\"200\" style = \"border: 1px solid #00233C; border-radius: 10px; box-shadow: 0 4px 8px rgba(0, 0, 0, 0.2);\"/>"
   ]
  },
  {
   "cell_type": "markdown",
   "id": "526023e1-7d5e-4c13-b040-ca3d4ba406b7",
   "metadata": {},
   "source": [
    "<div style=\"display: flex; justify-content: center; gap: 30px; align-items: center; font-family: Arial, sans-serif;\">\n",
    "  <div style=\"text-align: center; padding: 10px; background-color: #F8F8F8; border-radius: 12px; box-shadow: 0 4px 8px rgba(0, 0, 0, 0.1);\">\n",
    "    <img src=\"images/01_10.png\" alt=\"BYOM Model Lifecycle\" \n",
    "         style=\"width: 300px; height: 300px; border: 1px solid #00233C; border-radius: 10px;\">\n",
    "  </div>\n",
    "  <div style=\"text-align: center; padding: 10px; background-color: #F8F8F8; border-radius: 12px; box-shadow: 0 4px 8px rgba(0, 0, 0, 0.1);\">\n",
    "    <img src=\"images/01_11.png\" alt=\"BYOM Model Lifecycle\" \n",
    "         style=\"width: 300px; height: 300px; border: 1px solid #00233C; border-radius: 10px;\">\n",
    "  </div>\n",
    "  <div style=\"text-align: center; padding: 10px; background-color: #F8F8F8; border-radius: 12px; box-shadow: 0 4px 8px rgba(0, 0, 0, 0.1);\">\n",
    "    <img src=\"images/01_12.png\" alt=\"BYOM Model Lifecycle\" \n",
    "         style=\"width: 300px; height: 300px; border: 1px solid #00233C; border-radius: 10px;\">\n",
    "  </div>\n",
    "</div>"
   ]
  },
  {
   "cell_type": "markdown",
   "id": "016b97d2-b494-47fe-b274-51007f1d3741",
   "metadata": {
    "tags": []
   },
   "source": [
    "<hr style=\"height:1px;border:none;\">\n",
    "<p style = 'font-size:18px;font-family:Arial'><b>3.4 Settings</b></p>"
   ]
  },
  {
   "cell_type": "markdown",
   "id": "75fd5aaf-cada-42a4-a944-ad93819d42b0",
   "metadata": {},
   "source": [
    "<p style=\"font-size:16px; font-family:Arial;\">\n",
    "  Explore the Project Settings, where you can create personal or service connections to Vantage, set a default email for ModelOps job notifications, and view logs of ModelOps services.<br><br>\n",
    "  A connection with <b>demo_user</b> and your password has already been established for Vantage. You can review the connection settings and details by selecting the <b>\"View details\"</b> option. This feature is particularly helpful when connecting to a Production instance, allowing you to verify that you have the correct permissions to run ModelOps jobs. The <b>HealthCheck</b> panel ensures that essential components, such as the Vantage Analytic Library (VAL) and Bring Your Own Model (BYOM) libraries, are installed and that the connection is properly configured.\n",
    "</p>\n"
   ]
  },
  {
   "cell_type": "markdown",
   "id": "32a32ccb-222e-4ce9-aaf8-f9520477c5a5",
   "metadata": {},
   "source": [
    "<img src=\"images/01_13.png\" alt=\"BYOM model lifecycle\" width=\"1000\" height=\"200\" style = \"border: 1px solid #00233C; border-radius: 10px; box-shadow: 0 4px 8px rgba(0, 0, 0, 0.2);\"/>\n",
    "\n",
    "<div style=\"display: flex; justify-content: center; gap: 30px; align-items: center; font-family: Arial, sans-serif;\">\n",
    "  <div style=\"text-align: center; padding: 10px; background-color: #F8F8F8; border-radius: 12px; box-shadow: 0 4px 8px rgba(0, 0, 0, 0.1);\">\n",
    "    <img src=\"images/01_14.png\" alt=\"BYOM model lifecycle\" width=\"200\" height=\"200\" style = \"border: 1px solid #00233C; border-radius: 10px; box-shadow: 0 4px 8px rgba(0, 0, 0, 0.2);\"/>\n",
    "  </div>\n",
    "  <div style=\"text-align: center; padding: 10px; background-color: #F8F8F8; border-radius: 12px; box-shadow: 0 4px 8px rgba(0, 0, 0, 0.1);\">\n",
    "    <img src=\"images/01_15.png\" alt=\"BYOM model lifecycle\" width=\"400\" height=\"400\" style = \"border: 1px solid #00233C; border-radius: 10px; box-shadow: 0 4px 8px rgba(0, 0, 0, 0.2);\"/>\n",
    "  </div>\n",
    "</div>"
   ]
  },
  {
   "cell_type": "markdown",
   "id": "49348347-5ca9-46be-84b7-5f9bca0b61d9",
   "metadata": {},
   "source": [
    "<p style = 'font-size:16px;font-family:Arial'>Go and try this Step by yourself. Launch ModelOps from this button below:</p>\n",
    "\n",
    "<a href=\"/modelops\" style=\"display: inline-flex; align-items: center; justify-content: center; background-color: #007373; color: #FFFFFF; font-family: Arial, sans-serif; font-size: 16px; font-weight: bold; text-decoration: none; padding: 12px 24px; border: none; border-radius: 8px; box-shadow: 0 4px 6px rgba(0, 0, 0, 0.1); cursor: pointer; transition: all 0.3s ease;\">\n",
    "  LAUNCH MODELOPS\n",
    "  <img src=\"https://img.icons8.com/ios-filled/50/ffffff/external-link.png\" alt=\"External Link Icon\" style=\"margin-left: 8px; width: 20px; height: 20px;\">\n",
    "</a>"
   ]
  },
  {
   "cell_type": "markdown",
   "id": "9014a16e-ea4c-4304-9dc2-ff92cbbce640",
   "metadata": {
    "tags": []
   },
   "source": [
    "<hr style=\"height:2px;border:none;\">\n",
    "<p style = 'font-size:20px;font-family:Arial'><b>Step 4. Preloaded Models - Train, Evaluate, Approve and Deploy a new model version</b></p>"
   ]
  },
  {
   "cell_type": "markdown",
   "id": "4cacc7fc-1333-45e0-8d5d-3d14027e422b",
   "metadata": {},
   "source": [
    "<p style=\"font-size:16px; font-family:Arial;\">\n",
    "  Navigate to the <b>Models</b> section and open your model, <b>Python Diabetes Prediction</b>.  \n",
    "  Currently, there are no model versions available in ModelOps. To proceed, you need to train a model.\n",
    "</p>\n"
   ]
  },
  {
   "cell_type": "markdown",
   "id": "fc5fbb2f-27a8-4b8c-af24-82e36a2f3f10",
   "metadata": {
    "tags": []
   },
   "source": [
    "<img src=\"images/01_16.png\" alt=\"BYOM model lifecycle\" width=\"1000\" height=\"200\" style = \"border: 1px solid #00233C; border-radius: 10px; box-shadow: 0 4px 8px rgba(0, 0, 0, 0.2);\"/>"
   ]
  },
  {
   "cell_type": "markdown",
   "id": "d054e92e-8732-4969-8ebf-1e8510bc1291",
   "metadata": {},
   "source": [
    "<p style=\"font-size:16px; font-family:Arial;\">\n",
    "  To train a new model version, click the <b>Train model</b> button and leave the hyperparameters unchanged.\n",
    "</p>"
   ]
  },
  {
   "cell_type": "markdown",
   "id": "ce479ceb-6032-4917-ace0-7dff96bf2769",
   "metadata": {},
   "source": [
    "<div style=\"display: flex; justify-content: center; gap: 30px; align-items: center; font-family: Arial, sans-serif;\">\n",
    "  <div style=\"text-align: center; padding: 10px; background-color: #F8F8F8; border-radius: 12px; box-shadow: 0 4px 8px rgba(0, 0, 0, 0.1);\">\n",
    "    <img src=\"images/01_17.png\" alt=\"BYOM model lifecycle\" width=\"350\" height=\"400\" style = \"border: 1px solid #00233C; border-radius: 10px; box-shadow: 0 4px 8px rgba(0, 0, 0, 0.2);\"/>\n",
    "  </div>\n",
    "  <div style=\"text-align: center; padding: 10px; background-color: #F8F8F8; border-radius: 12px; box-shadow: 0 4px 8px rgba(0, 0, 0, 0.1);\">\n",
    "    <img src=\"images/01_18.png\" alt=\"BYOM model lifecycle\" width=\"450\" height=\"400\" style = \"border: 1px solid #00233C; border-radius: 10px; box-shadow: 0 4px 8px rgba(0, 0, 0, 0.2);\"/>\n",
    "  </div>\n",
    "</div>"
   ]
  },
  {
   "cell_type": "markdown",
   "id": "a32115d4-d3e5-49f2-b4b0-8ec30dbd194c",
   "metadata": {},
   "source": [
    "<p style=\"font-size:16px; font-family:Arial;\">\n",
    "  Wait for the model version to complete training, which should take approximately 2 minutes. You can monitor the progress by navigating to the <b>Jobs</b> screen via the left menu (<i>Menu → Jobs</i>).\n",
    "</p>"
   ]
  },
  {
   "cell_type": "markdown",
   "id": "54ef53bf-dcab-40c0-8272-b7d857dc665e",
   "metadata": {},
   "source": [
    "<img src=\"images/01_19.png\" alt=\"BYOM model lifecycle\" width=\"1000\" height=\"200\" style = \"border: 1px solid #00233C; border-radius: 10px; box-shadow: 0 4px 8px rgba(0, 0, 0, 0.2);\"/>"
   ]
  },
  {
   "cell_type": "markdown",
   "id": "f7440e33-8636-4dd1-957b-be3cdfc247ef",
   "metadata": {},
   "source": [
    "<p style=\"font-size:16px; font-family:Arial;\">\n",
    "  Once the model version is trained, open it to access the lifecycle screen. Click the <b>Evaluate</b> button to evaluate the model and generate a Model Report. This will initiate a new job, which will take approximately 2 minutes to complete.\n",
    "</p>"
   ]
  },
  {
   "cell_type": "markdown",
   "id": "22363a11-cbc3-4733-af63-a43724f0ae92",
   "metadata": {
    "tags": []
   },
   "source": [
    "<img src=\"images/01_20.png\" alt=\"BYOM model lifecycle\" width=\"1000\" height=\"200\" style = \"border: 1px solid #00233C; border-radius: 10px; box-shadow: 0 4px 8px rgba(0, 0, 0, 0.2);\"/>\n",
    "\n",
    "<div style=\"display: flex; justify-content: center; gap: 30px; align-items: center; font-family: Arial, sans-serif;\">\n",
    "  <div style=\"text-align: center; padding: 10px; background-color: #F8F8F8; border-radius: 12px; box-shadow: 0 4px 8px rgba(0, 0, 0, 0.1);\">\n",
    "    <img src=\"images/01_19.png\" alt=\"BYOM model lifecycle\" width=\"350\" height=\"200\" style = \"border: 1px solid #00233C; border-radius: 10px; box-shadow: 0 4px 8px rgba(0, 0, 0, 0.2);\"/>\n",
    "  </div>\n",
    "  <div style=\"text-align: center; padding: 10px; background-color: #F8F8F8; border-radius: 12px; box-shadow: 0 4px 8px rgba(0, 0, 0, 0.1);\">\n",
    "    <img src=\"images/01_20.png\" alt=\"BYOM model lifecycle\" width=\"450\" height=\"200\" style = \"border: 1px solid #00233C; border-radius: 10px; box-shadow: 0 4px 8px rgba(0, 0, 0, 0.2);\"/>\n",
    "  </div>\n",
    "</div>"
   ]
  },
  {
   "cell_type": "markdown",
   "id": "cda1a3c1-b870-4340-9166-20f58f991645",
   "metadata": {},
   "source": [
    "<p style=\"font-size:16px; font-family:Arial;\">\n",
    "  Wait for the evaluation to complete, then review the evaluation details. Click on <b>View report</b> to review the model report with metrics and charts.\n",
    "</p>"
   ]
  },
  {
   "cell_type": "markdown",
   "id": "6fbe7a08-a39a-4a72-b3ed-ded728aafb96",
   "metadata": {},
   "source": [
    "<img src=\"images/01_24.png\" alt=\"BYOM model lifecycle\" width=\"1000\" height=\"100\"/>\n",
    "\n",
    "<img src=\"images/01_23.png\" alt=\"BYOM model lifecycle\" width=\"1000\" height=\"200\"/>"
   ]
  },
  {
   "cell_type": "markdown",
   "id": "fae014b2-f195-4473-85a9-26447ce4632c",
   "metadata": {},
   "source": [
    "<p style=\"font-size:16px; font-family:Arial;\">\n",
    "  You can now <b>Approve</b> the model to move it to Production.\n",
    "</p>"
   ]
  },
  {
   "cell_type": "markdown",
   "id": "57119ee8-fdb4-430a-96b0-b5c96c4faa3b",
   "metadata": {},
   "source": [
    "<img src=\"images/01_25.png\" alt=\"BYOM model lifecycle\" width=\"400\" height=\"200\"/>"
   ]
  },
  {
   "cell_type": "markdown",
   "id": "27c65b5e-d53b-4828-b311-a45f03bd5a84",
   "metadata": {},
   "source": [
    "<p style=\"font-size:16px; font-family:Arial;\">\n",
    "  Next, <b>Deploy</b> the model by selecting one of the following options:\n",
    "</p>\n",
    "<ul style=\"font-size:16px; font-family:Arial;\">\n",
    "  <li><b>In Vantage</b> - Deploys the model as PMML in Vantage.</li>\n",
    "  <li><b>Docker (Batch)</b> - Deploys the model in a ModelOps container, allowing you to schedule it as needed.</li>\n",
    "</ul>\n",
    "\n",
    "<p style=\"font-size:16px; font-family:Arial;\">\n",
    "  Deploy the model in these two scenarios as per your requirements.\n",
    "</p>"
   ]
  },
  {
   "cell_type": "markdown",
   "id": "6e336a2b-a5d2-4297-b427-cfe8611311c5",
   "metadata": {},
   "source": [
    "<img src=\"images/01_26.png\" alt=\"BYOM model lifecycle\" width=\"400\" height=\"200\" style = \"border: 1px solid #00233C; border-radius: 10px; box-shadow: 0 4px 8px rgba(0, 0, 0, 0.2);\"/>"
   ]
  },
  {
   "cell_type": "markdown",
   "id": "c40637b6-5cfb-4e1d-a2f5-f64d53af57c0",
   "metadata": {},
   "source": [
    "<p style=\"font-size:16px; font-family:Arial;\">\n",
    "  For <b>In-Vantage Deployment</b>:\n",
    "</p>\n",
    "<ul style=\"font-size:16px; font-family:Arial;\">\n",
    "  <li>Select <b>In Vantage</b> as the engine on the first screen.</li>\n",
    "  <li>Use <b>modelops</b> as the database and <b>aoa_byom_models</b> as the table.</li>\n",
    "  <li>Click <b>Deploy</b>.</li>\n",
    "</ul>\n",
    "\n",
    "<p style=\"font-size:16px; font-family:Arial;\">\n",
    "  Wait for the deployment job to complete, which should take around 10 seconds.\n",
    "</p>"
   ]
  },
  {
   "cell_type": "markdown",
   "id": "550f97f0-dc23-446f-bcc8-150f8b463eda",
   "metadata": {},
   "source": [
    "<div style=\"display: flex; justify-content: center; gap: 30px; align-items: center; font-family: Arial, sans-serif;\">\n",
    "  <div style=\"text-align: center; padding: 10px; background-color: #F8F8F8; border-radius: 12px; box-shadow: 0 4px 8px rgba(0, 0, 0, 0.1);\">\n",
    "    <img src=\"images/01_27.png\" alt=\"BYOM model lifecycle\" width=\"400\" height=\"400\" style = \"border: 1px solid #00233C; border-radius: 10px; box-shadow: 0 4px 8px rgba(0, 0, 0, 0.2);\"/>\n",
    "  </div>\n",
    "  <div style=\"text-align: center; padding: 10px; background-color: #F8F8F8; border-radius: 12px; box-shadow: 0 4px 8px rgba(0, 0, 0, 0.1);\">\n",
    "    <img src=\"images/01_28.png\" alt=\"BYOM model lifecycle\" width=\"400\" height=\"400\" style = \"border: 1px solid #00233C; border-radius: 10px; box-shadow: 0 4px 8px rgba(0, 0, 0, 0.2);\"/>\n",
    "  </div>\n",
    "</div>"
   ]
  },
  {
   "cell_type": "markdown",
   "id": "d2674512-32bd-4a71-ab34-08daddbc628a",
   "metadata": {},
   "source": [
    "<p style=\"font-size:16px; font-family:Arial;\">\n",
    "  For <b>Docker Batch Deployment</b>:\n",
    "</p>\n",
    "<ul style=\"font-size:16px; font-family:Arial;\">\n",
    "  <li>Select <b>Docker - Batch</b> as the deployment option.</li>\n",
    "  <li>Proceed to <b>Schedule</b>.</li>\n",
    "  <li>Select <b>Run Once</b> to schedule the deployment.</li>\n",
    "</ul>\n",
    "\n",
    "<p style=\"font-size:16px; font-family:Arial;\">\n",
    "  Wait for the deployment job to finish, which should take approximately 10 seconds.\n",
    "</p>"
   ]
  },
  {
   "cell_type": "markdown",
   "id": "e3eb3c2d-e817-451e-adc5-fc20e9de905b",
   "metadata": {},
   "source": [
    "<div style=\"display: flex; justify-content: center; gap: 30px; align-items: center; font-family: Arial, sans-serif;\">\n",
    "  <div style=\"text-align: center; padding: 10px; background-color: #F8F8F8; border-radius: 12px; box-shadow: 0 4px 8px rgba(0, 0, 0, 0.1);\">\n",
    "    <img src=\"images/01_29.png\" alt=\"BYOM model lifecycle\" width=\"400\" height=\"400\" style = \"border: 1px solid #00233C; border-radius: 10px; box-shadow: 0 4px 8px rgba(0, 0, 0, 0.2);\"/>\n",
    "  </div>\n",
    "  <div style=\"text-align: center; padding: 10px; background-color: #F8F8F8; border-radius: 12px; box-shadow: 0 4px 8px rgba(0, 0, 0, 0.1);\">\n",
    "    <img src=\"images/01_30.png\" alt=\"BYOM model lifecycle\" width=\"400\" height=\"400\" style = \"border: 1px solid #00233C; border-radius: 10px; box-shadow: 0 4px 8px rgba(0, 0, 0, 0.2);\"/>\n",
    "  </div>\n",
    "</div>"
   ]
  },
  {
   "cell_type": "markdown",
   "id": "e9660470-3f9f-4f77-8b5f-364e14f2c12c",
   "metadata": {},
   "source": [
    "<div style=\"display: flex; justify-content: center; gap: 30px; align-items: center; font-family: Arial, sans-serif;\">\n",
    "  <div style=\"text-align: center; padding: 10px; background-color: #F8F8F8; border-radius: 12px; box-shadow: 0 4px 8px rgba(0, 0, 0, 0.1);\">\n",
    "    <img src=\"images/01_31.png\" alt=\"BYOM model lifecycle\" width=\"450\" height=\"400\" style = \"border: 1px solid #00233C; border-radius: 10px; box-shadow: 0 4px 8px rgba(0, 0, 0, 0.2);\"/>\n",
    "  </div>\n",
    "  <div style=\"text-align: center; padding: 10px; background-color: #F8F8F8; border-radius: 12px; box-shadow: 0 4px 8px rgba(0, 0, 0, 0.1);\">\n",
    "    <img src=\"images/01_32.png\" alt=\"BYOM model lifecycle\" width=\"350\" height=\"400\" style = \"border: 1px solid #00233C; border-radius: 10px; box-shadow: 0 4px 8px rgba(0, 0, 0, 0.2);\"/>\n",
    "  </div>\n",
    "</div>"
   ]
  },
  {
   "cell_type": "markdown",
   "id": "4ddf423d-1cf3-43a7-a44d-959c9cdcfa63",
   "metadata": {},
   "source": [
    "<p style = 'font-size:16px;font-family:Arial'>Go and try this Step by yourself. Launch ModelOps from this button below:</p>\n",
    "\n",
    "<a href=\"/modelops\" style=\"display: inline-flex; align-items: center; justify-content: center; background-color: #007373; color: #FFFFFF; font-family: Arial, sans-serif; font-size: 16px; font-weight: bold; text-decoration: none; padding: 12px 24px; border: none; border-radius: 8px; box-shadow: 0 4px 6px rgba(0, 0, 0, 0.1); cursor: pointer; transition: all 0.3s ease;\">\n",
    "  LAUNCH MODELOPS\n",
    "  <img src=\"https://img.icons8.com/ios-filled/50/ffffff/external-link.png\" alt=\"External Link Icon\" style=\"margin-left: 8px; width: 20px; height: 20px;\">\n",
    "</a>"
   ]
  },
  {
   "cell_type": "markdown",
   "id": "75c86020-ed4a-4c36-b53b-61da5d1ce527",
   "metadata": {
    "tags": []
   },
   "source": [
    "<hr style=\"height:2px;border:none;\">\n",
    "<p style = 'font-size:20px;font-family:Arial'><b>Step 5. Monitoring Capabilities</b></p>"
   ]
  },
  {
   "cell_type": "markdown",
   "id": "b6c1da83-a328-4f89-ab96-41f920f0af5d",
   "metadata": {},
   "source": [
    "<p style=\"font-size:16px; font-family:Arial;\">\n",
    "  Now, navigate to the <b>Deployments</b> screen, where you'll see the model version deployed in both Vantage and Docker-Batch.\n",
    "</p>"
   ]
  },
  {
   "cell_type": "markdown",
   "id": "77c557ff-0e77-4cb4-823d-59490964afda",
   "metadata": {},
   "source": [
    "<img src=\"images/01_33.png\" alt=\"BYOM model lifecycle\" width=\"1000\" height=\"200\" style = \"border: 1px solid #00233C; border-radius: 10px; box-shadow: 0 4px 8px rgba(0, 0, 0, 0.2);\"/>"
   ]
  },
  {
   "cell_type": "markdown",
   "id": "35538f29-412c-445a-a87b-0f7b0be87666",
   "metadata": {},
   "source": [
    "<p style=\"font-size:16px; font-family:Arial;\">\n",
    "  Enter the <b>Docker Batch</b> deployment to view detailed information. Go to the <b>Jobs</b> tab, where your scoring job might be in progress or completed. <br>\n",
    "  You can also initiate a new scoring job here. Additionally, this can be scheduled externally in other environments using the <b>REST API</b> or <b>Python SDK</b>.\n",
    "</p>"
   ]
  },
  {
   "cell_type": "markdown",
   "id": "431092bf-fa3d-44b4-a278-d9b230fb97d1",
   "metadata": {},
   "source": [
    "<img src=\"images/01_34.png\" alt=\"BYOM model lifecycle\" width=\"1000\" height=\"200\" style = \"border: 1px solid #00233C; border-radius: 10px; box-shadow: 0 4px 8px rgba(0, 0, 0, 0.2);\"/>"
   ]
  },
  {
   "cell_type": "markdown",
   "id": "2e93ad81-84d1-4358-bd09-7eae72d28746",
   "metadata": {},
   "source": [
    "<p style=\"font-size:16px; font-family:Arial;\">\n",
    "  Let’s review the <b>Predictions</b> from this screen.\n",
    "</p>"
   ]
  },
  {
   "cell_type": "markdown",
   "id": "36224479-3258-40e1-b70f-93bc69488b20",
   "metadata": {},
   "source": [
    "<div style=\"display: flex; justify-content: center; gap: 30px; align-items: center; font-family: Arial, sans-serif;\">\n",
    "  <div style=\"text-align: center; padding: 10px; background-color: #F8F8F8; border-radius: 12px; box-shadow: 0 4px 8px rgba(0, 0, 0, 0.1);\">\n",
    "    <img src=\"images/01_35.png\" alt=\"BYOM model lifecycle\" width=\"300\" height=\"300\" style = \"border: 1px solid #00233C; border-radius: 10px; box-shadow: 0 4px 8px rgba(0, 0, 0, 0.2);\"/>\n",
    "  </div>\n",
    "  <div style=\"text-align: center; padding: 10px; background-color: #F8F8F8; border-radius: 12px; box-shadow: 0 4px 8px rgba(0, 0, 0, 0.1);\">\n",
    "    <img src=\"images/01_36.png\" alt=\"BYOM model lifecycle\" width=\"400\" height=\"400\" style = \"border: 1px solid #00233C; border-radius: 10px; box-shadow: 0 4px 8px rgba(0, 0, 0, 0.2);\"/>\n",
    "  </div>\n",
    "</div>"
   ]
  },
  {
   "cell_type": "markdown",
   "id": "87ff5267-dd51-4d9c-9077-6fc7d2241526",
   "metadata": {},
   "source": [
    "<p style=\"font-size:16px; font-family:Arial;\">\n",
    "  Now, let’s explore <b>Monitoring of Data Drift</b> — including <b>Feature Drift</b> and <b>Prediction Drift</b>. <br>\n",
    "  This is automatically configured using the <b>Population Stability Index (PSI)</b>, which compares the distribution of data histograms between Training and Scoring.\n",
    "</p>"
   ]
  },
  {
   "cell_type": "markdown",
   "id": "a19613ad-a859-4711-a261-98062456d2e4",
   "metadata": {},
   "source": [
    "<img src=\"images/01_37.png\" alt=\"BYOM model lifecycle\" width=\"1000\" height=\"200\" style = \"border: 1px solid #00233C; border-radius: 10px; box-shadow: 0 4px 8px rgba(0, 0, 0, 0.2);\"/>"
   ]
  },
  {
   "cell_type": "markdown",
   "id": "facc9972-f505-40b9-977a-09d77dc68017",
   "metadata": {},
   "source": [
    "<img src=\"images/01_38.png\" alt=\"BYOM model lifecycle\" width=\"1000\" height=\"200\" style = \"border: 1px solid #00233C; border-radius: 10px; box-shadow: 0 4px 8px rgba(0, 0, 0, 0.2);\"/>"
   ]
  },
  {
   "cell_type": "markdown",
   "id": "098a1926-52e0-4594-9b72-fc2d2e58dc22",
   "metadata": {},
   "source": [
    "<p style=\"font-size:16px; font-family:Arial;\">\n",
    "  Finally, let’s look at <b>Performance Drift</b>. This monitors the metrics generated for each evaluation. You can create a new dataset and re-evaluate the model to observe the trend of these metrics. (This will be covered in the Advanced section.)\n",
    "</p>"
   ]
  },
  {
   "cell_type": "markdown",
   "id": "60f7335f-a842-4e85-89b4-85ddda7f1460",
   "metadata": {},
   "source": [
    "<img src=\"images/01_39.png\" alt=\"BYOM model lifecycle\" width=\"1000\" height=\"200\" style = \"border: 1px solid #00233C; border-radius: 10px; box-shadow: 0 4px 8px rgba(0, 0, 0, 0.2);\"/>"
   ]
  },
  {
   "cell_type": "markdown",
   "id": "39027294-ff7f-43fb-9554-505a95acaefb",
   "metadata": {},
   "source": [
    "<p style = 'font-size:16px;font-family:Arial'>Go and try this Step by yourself. Launch ModelOps from this button below:</p>\n",
    "\n",
    "<a href=\"/modelops\" style=\"display: inline-flex; align-items: center; justify-content: center; background-color: #007373; color: #FFFFFF; font-family: Arial, sans-serif; font-size: 16px; font-weight: bold; text-decoration: none; padding: 12px 24px; border: none; border-radius: 8px; box-shadow: 0 4px 6px rgba(0, 0, 0, 0.1); cursor: pointer; transition: all 0.3s ease;\">\n",
    "  LAUNCH MODELOPS\n",
    "  <img src=\"https://img.icons8.com/ios-filled/50/ffffff/external-link.png\" alt=\"External Link Icon\" style=\"margin-left: 8px; width: 20px; height: 20px;\">\n",
    "</a>"
   ]
  },
  {
   "cell_type": "markdown",
   "id": "103a00bb-c971-4061-843b-63b5aa9f5373",
   "metadata": {},
   "source": [
    "<p style=\"font-size:16px; font-family:Arial;\">\n",
    "  <b>Congratulations!</b> You’ve successfully operationalized your first model with ModelOps. You now know how to navigate through the application and track the lifecycle of your models, including all the associated jobs.\n",
    "</p>\n"
   ]
  },
  {
   "cell_type": "markdown",
   "id": "79100115-0a89-4ea8-bf73-b068ef435841",
   "metadata": {},
   "source": [
    "<a href=\"./00_ModelOps_Introduction.ipynb\" style=\"font-size:16px; font-family:Arial; color:white; background-color:#007bff; padding:10px 20px; border-radius:5px; text-decoration:none; display:inline-block;\">\n",
    "  &lt;&lt; Back to Introduction\n",
    "</a> | \n",
    "<a href=\"./02_ModelOps_PIMA_Experimentation.ipynb\" style=\"font-size:16px; font-family:Arial; color:white; background-color:#007bff; padding:10px 20px; border-radius:5px; text-decoration:none; display:inline-block;\">\n",
    "  Continue to PIMA Experimentation &gt;&gt;\n",
    "</a>\n"
   ]
  },
  {
   "cell_type": "markdown",
   "id": "36c63233",
   "metadata": {},
   "source": [
    "<footer style=\"padding-bottom:35px; border-bottom:3px solid #91A0Ab\">\n",
    "    <div style=\"float:left;margin-top:14px\">ClearScape Analytics™</div>\n",
    "    <div style=\"float:right;\">\n",
    "        <div style=\"float:left; margin-top:14px\">\n",
    "            Copyright © Teradata Corporation - 2023, 2024. All Rights Reserved\n",
    "        </div>\n",
    "    </div>\n",
    "</footer>"
   ]
  }
 ],
 "metadata": {
  "kernelspec": {
   "display_name": "Python 3 (ipykernel)",
   "language": "python",
   "name": "python3"
  },
  "language_info": {
   "codemirror_mode": {
    "name": "ipython",
    "version": 3
   },
   "file_extension": ".py",
   "mimetype": "text/x-python",
   "name": "python",
   "nbconvert_exporter": "python",
   "pygments_lexer": "ipython3",
   "version": "3.9.10"
  }
 },
 "nbformat": 4,
 "nbformat_minor": 5
}
