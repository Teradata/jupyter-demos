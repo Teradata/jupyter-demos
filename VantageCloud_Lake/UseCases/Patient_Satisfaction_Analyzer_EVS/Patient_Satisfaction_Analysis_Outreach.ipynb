{
 "cells": [
  {
   "cell_type": "markdown",
   "metadata": {},
   "source": [
    "<header>\n",
    "   <p  style='font-size:36px;font-family:Arial; color:#F0F0F0; background-color: #00233c; padding-left: 20pt; padding-top: 20pt;padding-bottom: 10pt; padding-right: 20pt;'>\n",
    "      Patient Satisfaction Analytics using Large Language Models and Enteprise Vector Store\n",
    "  <br>\n",
    "       <img id=\"teradata-logo\" src=\"https://storage.googleapis.com/clearscape_analytics_demo_data/DEMO_Logo/teradata.svg\" alt=\"Teradata\" style=\"width: 125px; height: auto; margin-top: 20pt;\">\n",
    "    </p>\n",
    "</header>\n"
   ]
  },
  {
   "cell_type": "markdown",
   "metadata": {},
   "source": [
    "<p style=\"font-size:20px;font-family:Arial\"><b>Introduction:</b></p>\n",
    "\n",
    "<b style = 'font-size:18px;font-family:Arial'>What is Patient Satisfaction?</b>\n",
    "<p style = 'font-size:16px;font-family:Arial'>Patient satisfaction measures how happy a patient is with their healthcare experience, reflecting whether their expectations were met. It's a key indicator of quality and impacts various aspects of healthcare, including clinical outcomes, patient retention, and legal claims. Effective communication, efficient processes, and positive interactions all contribute to higher patient satisfaction.</p>\n",
    "\n",
    "<b style = 'font-size:18px;font-family:Arial'>Why is Patient Satisfaction so important?</b>\n",
    "\n",
    "<p style = 'font-size:16px;font-family:Arial'>Patient satisfaction is crucial in healthcare because it's a key indicator of both the quality of care and the overall patient experience. Satisfied patients are more likely to adhere to treatment plans, have better health outcomes, and recommend their healthcare providers. Additionally, patient satisfaction can influence factors like patient retention, loyalty, and the financial well-being of healthcare organizations. And provider reimbursement in healthcare is increasingly linked to patient satisfaction through higher reimbursement rates.</p>\n",
    "\n",
    "<p style = 'font-size:18px;font-family:Arial'><b>Challenges with operationalizing AI</b></p>\n",
    "\n",
    "<p style = 'font-size:16px;font-family:Arial'>Healthcare organizations of all types are struggling with how to best leverage the promise and the power of new Large Language Model and other AI models, tools, and techniques.  Some of the top challenges include:</p>\n",
    "\n",
    "<ul style = 'font-size:16px;font-family:Arial'>\n",
    "    <li><b>Privacy and confidentiality</b>.  Many model services require users to send their data and/or prompts to third-party systems over the open internet. Furthermore, models have not been trained or augmented with any non-public data; and therefore may not even be able to provide any actionable results</li>\n",
    "    <li><b>Actionable insights</b>.  AI tools provide unprecedented capabilities in extracting <b>meaning</b> from unstructured data (text, images, audio, etc.).  Insight alone isn't enough - organizations must contextualize this meaning with existing analytics and data</li>\n",
    "    <li><b>Scale</b>.  Value increases with automation and scale.  Processing and analyzing millions or billions of records, providing analytics to users, applications, and customers in real-time are both critical requirements for deriving true business value from AI</li>\n",
    "    </ul>\n",
    "\n",
    "<b style = 'font-size:18px;font-family:Arial'>Demonstrations</b>\n",
    "<hr>\n",
    "\n",
    "<table style = 'width:100%;table-layout:fixed;font-family:Arial'>\n",
    "    <tr><td style = 'vertical-align:top' width = '25%'><p style = 'font-size:20px;font-family:Arial'><b>Patient Sentiment Analysis</b>\n",
    "            <ol style = 'font-size:16px;font-family:Arial'>\n",
    "                <li>Connect and inspect call center transcripts stored in Vantage, object storage, or third-party systems</li>\n",
    "                <br>      \n",
    "                <li>Extract sentiment using native ClearScape Analytics functions accessing external LLMs</li>\n",
    "                <br>\n",
    "                <li>Analyze results using native analytics functions</li>\n",
    "            </ol>\n",
    "        </td><td><img src = 'images/Sentiment_Analysis_AWS.png' width = '100%'></td></tr>\n",
    "    </table>\n",
    "    <hr>\n",
    "<table style = 'width:100%;table-layout:fixed;font-family:Arial'>\n",
    "    <tr><td style = 'vertical-align:top' width = '25%'><p style = 'font-size:20px;font-family:Arial'><b>Semantic Search for Targeted Patient Outreach</b>\n",
    "            <ol style = 'font-size:16px;font-family:Arial'>\n",
    "                <li>Connect and inspect call center transcripts stored in Vantage, object storage, or third-party systems</li>\n",
    "                <br>      \n",
    "                <li>Generate embeddings based on the semantic meaning of the call-center transcripts</li>\n",
    "                <br>\n",
    "                <li>Identify patients for targeted outreach using built-in analytics and RAG capabilities</li>\n",
    "            </ol>\n",
    "        </td><td><img src = 'images/Semantic_Search_AWS.png' width = '100%'></td></tr>\n",
    "</table>"
   ]
  },
  {
   "cell_type": "markdown",
   "metadata": {},
   "source": [
    "<hr style='height:2px;border:none'>\n",
    "<b style = 'font-size:20px;font-family:Arial'>1. Configure the environment</b>"
   ]
  },
  {
   "cell_type": "code",
   "execution_count": null,
   "metadata": {
    "tags": []
   },
   "outputs": [],
   "source": [
    "!pip install -r requirements.txt --quiet"
   ]
  },
  {
   "cell_type": "code",
   "execution_count": null,
   "metadata": {
    "tags": []
   },
   "outputs": [],
   "source": [
    "!pip install --force-reinstall pillow ipywidgets --quiet"
   ]
  },
  {
   "cell_type": "markdown",
   "metadata": {},
   "source": [
    "<div class=\"alert alert-block alert-info\">\n",
    "<p style = 'font-size:16px;font-family:Arial'><b>Please</b><i> restart the kernel after executing the above cell to include/update these libraries into memory for this kernel. The simplest way to restart the Kernel is by typing zero zero: <b> 0 0</b></i> and then clicking <b>Restart</b>.</p>\n",
    "</div>"
   ]
  },
  {
   "cell_type": "code",
   "execution_count": null,
   "metadata": {
    "tags": []
   },
   "outputs": [],
   "source": [
    "from teradataml import *\n",
    "from teradatagenai import TeradataAI, TextAnalyticsAI, VSManager, VectorStore, VSApi\n",
    "from teradatasqlalchemy.types import *\n",
    "import pandas as pd\n",
    "import csv, sys, os, warnings, getpass\n",
    "# from collections import OrderedDict\n",
    "import ipywidgets as widgets\n",
    "from wordcloud import WordCloud, STOPWORDS\n",
    "import plotly.express as px\n",
    "import plotly.graph_objects as go\n",
    "\n",
    "from IPython.display import clear_output , display as ipydisplay, Markdown\n",
    "import matplotlib.pyplot as plt\n",
    "\n",
    "# Set display options for dataframes, plots, and warnings\n",
    "%matplotlib inline\n",
    "warnings.filterwarnings('ignore')\n",
    "display.suppress_vantage_runtime_warnings = True"
   ]
  },
  {
   "cell_type": "markdown",
   "metadata": {
    "tags": []
   },
   "source": [
    "<hr style=\"height:2px;border:none\">\n",
    "<p style = 'font-size:20px;font-family:Arial'><b>2. Connect to VantageCloud Lake</b></p>\n",
    "<p style = 'font-size:16px;font-family:Arial'>Connect to VantageCloud using `create_context` from the teradataml Python library. Input your connection details, including the host, username, password and Analytic Compute Group name.</p>"
   ]
  },
  {
   "cell_type": "code",
   "execution_count": null,
   "metadata": {},
   "outputs": [],
   "source": [
    "print(\"Checking if this environment is ready to connect to VantageCloud Lake...\")\n",
    "\n",
    "if os.path.exists(\"/home/jovyan/JupyterLabRoot/VantageCloud_Lake/.config/.env\"):\n",
    "    print(\"Your environment parameter file exist.  Please proceed with this use case.\")\n",
    "    # Load all the variables from the .env file into a dictionary\n",
    "    env_vars = dotenv_values(\"/home/jovyan/JupyterLabRoot/VantageCloud_Lake/.config/.env\")\n",
    "    # Create the Context\n",
    "    eng = create_context(host=env_vars.get(\"host\"), username=env_vars.get(\"username\"), password=env_vars.get(\"my_variable\"))\n",
    "    execute_sql('''SET query_band='DEMO=Patient_Satisfaction_Analyzer_EVS_VCL.ipynb;' UPDATE FOR SESSION;''')\n",
    "    print(\"Connected to VantageCloud Lake with:\", eng)\n",
    "else:\n",
    "    print(\"Your environment has not been prepared for connecting to VantageCloud Lake.\")\n",
    "    print(\"Please contact the support team.\")"
   ]
  },
  {
   "cell_type": "markdown",
   "metadata": {},
   "source": [
    "<hr style=\"height:2px;border:none;\">\n",
    "<p style=\"font-size:20px;font-family:Arial\"><b>3. Authenticate into User Environment Service (UES) for Container Management</b></p>\n",
    "\n",
    "<p style=\"font-size:16px;font-family:Arial\"><b>UES authentication</b> is required to create and manage the Python or R environments that we will be creating.  A VantageCloud Lake user can easily create the authentication objects using the Console in a VantageCloud Lake environment.  The step to create these authentication objects has already been performed for you.\n",
    "</p>\n",
    "<p style=\"font-size:16px;font-family:Arial\">\n",
    "   \n",
    "<ul style=\"font-size:16px;font-family:Arial; margin-top:4px;\">\n",
    "  <li><a href=\"https://docs.teradata.com/r/Teradata-VantageCloud-Lake/Analyzing-Your-Data/Teradata-Package-for-Python-on-VantageCloud-Lake/Working-with-Open-Analytics/APIs-to-Use-with-Open-Analytics-Framework/API-to-Set-Authentication-Token/set_auth_token\">Click here</a> to see more details about using the Teradata APIs to set the authentication objects.</li>\n",
    "\n",
    "  <li>Check out <a href=\"https://medium.com/teradata/deploy-hugging-face-llms-on-teradata-vantagecloud-lake-with-nvidia-gpu-acceleration-d94d999edaa5\">Step 4</a> of this tutorial to to see more details about configuring a VantageCloud Lake Environment to use our Open Analytics Framework</li>\n",
    "</ul>"
   ]
  },
  {
   "cell_type": "code",
   "execution_count": null,
   "metadata": {},
   "outputs": [],
   "source": [
    "# We've already loaded all the values into our environment variables and into a dictionary, env_vars.\n",
    "# username=env_vars.get(\"username\") isn't required when using base_url, pat and pem.\n",
    "ues_uri=env_vars.get(\"ues_uri\")\n",
    "base_uri=ues_uri[:-15]\n",
    "if set_auth_token(base_url=ues_uri,\n",
    "                  pat_token=env_vars.get(\"access_token\"), \n",
    "                  pem_file=env_vars.get(\"pem_file\")\n",
    "                 ):\n",
    "    print(\"UES Authentication successful\")\n",
    "else:\n",
    "    print(\"UES Authentication failed. Check credentials.\")\n",
    "    sys.exit(1)"
   ]
  },
  {
   "cell_type": "markdown",
   "metadata": {},
   "source": [
    "<hr style=\"height:2px;border:none;\">\n",
    "<p style=\"font-size:20px;font-family:Arial\"><b>4. Sentiment Analysis</b></p>\n",
    "\n",
    "<p style = 'font-size:16px;font-family:Arial'>Extract the emotion (anger, joy, sadness, love) and strength of that emotion (0-1) based on analysis of unstructured call center transcripts.  Inspect the distribution of how strongly patients are feeling these emotions - are we reaching a point where we need to change business practices or improve outreach?</p>\n",
    "\n",
    "<table style = 'width:100%;table-layout:fixed;font-family:Arial'>\n",
    "    <tr><td style = 'vertical-align:top' width = '25%'>\n",
    "            <ol style = 'font-size:16px;font-family:Arial'>\n",
    "                <li>Connect and inspect call center transcripts stored in Vantage, object storage, or third-party systems</li>\n",
    "                <br>      \n",
    "                <li>Extract sentiment using native ClearScape Analytics functions accessing external LLMs</li>\n",
    "                <br>\n",
    "                <li>Analyze results using native analytics functions</li>\n",
    "            </ol>\n",
    "        </td><td><img src = 'images/Sentiment_Analysis_AWS.png' width = '100%'></td></tr>\n",
    "    </table>\n",
    "\n",
    "\n",
    "<hr style=\"height:2px;border:none;\">\n",
    "<p style = 'font-size:20px;font-family:Arial'><b>5. Load the Data</b></p>\n",
    "\n",
    "<p style = 'font-size:16px;font-family:Arial'>We have provided data for this demo in the lake environment. The data is available in the database \"DEMO_SalesForecasting\". Your user should have read access to the database. In case of any issues please write a mail to the support group (\"SC230208@teradata.com\").</p>\n",
    "\n",
    "<p style = 'font-size:16px;font-family:Arial'>**Note: The tables are available in DEMO_PatientSatisfaction_DB database and we have created views in DEMO_PatientSatisfaction database which are used in the cells below.</p>\n"
   ]
  },
  {
   "cell_type": "code",
   "execution_count": null,
   "metadata": {
    "tags": []
   },
   "outputs": [],
   "source": [
    "tdf_transcripts = DataFrame(in_schema(\"DEMO_PatientSatisfaction\",\"patient_feedback\"))\n",
    "tdf_transcripts"
   ]
  },
  {
   "cell_type": "markdown",
   "metadata": {},
   "source": [
    "\n",
    "<hr style=\"height:2px;border:none;\">\n",
    "<p style = 'font-size:20px;font-family:Arial'><b>6. Sentiment Extraction</b></p>\n",
    "\n",
    "\n",
    "<p style = 'font-size:18px;font-family:Arial'><b>6.1 Set up Sentiment Extraction Model</b></p>\n",
    "\n",
    "<p style = 'font-size:16px;font-family:Arial'>The <b>teradatagenai</b> python library can both connect to cloud-based LLM services as well as instantiate private models running <b>at scale</b> on local GPU compute. In this case we will use the AWS Bedrock implementation of Anthropic claude-v2 for a balance of price and performance.  Enter a valid key/secret/region that has this model enabled, or use an auth object.</p>\n",
    "\n",
    "<b style = 'font-size:20px;font-family:Arial;color:#00233C'>Configuring AWS CLI</b>\n",
    "<p style = 'font-size:16px;font-family:Arial;color:#00233C'>The following cell will prompt us for the following information:</p>\n",
    "<ol style = 'font-size:16px;font-family:Arial;color:#00233C'>\n",
    "<li><b>aws_access_key_id</b>: Enter your AWS access key ID</li>\n",
    "<li><b>aws_secret_access_key</b>: Enter your AWS secret access key</li>\n",
    "<li><b>region name</b>: Enter the AWS region you want to configure (e.g., us-east-1)</li>\n",
    "<ol>\n"
   ]
  },
  {
   "cell_type": "code",
   "execution_count": null,
   "metadata": {
    "tags": []
   },
   "outputs": [],
   "source": [
    "access_key = input('AWS Access Key <enter for none>: ')\n",
    "secret_key = getpass.getpass('AWS Secret Key <enter for none>: ')\n",
    "auth = input('Auth object <enter for none>:')\n",
    "region = input('Region: ')"
   ]
  },
  {
   "cell_type": "code",
   "execution_count": null,
   "metadata": {
    "tags": []
   },
   "outputs": [],
   "source": [
    "# Provide model details\n",
    "# anthropic.claude-3-5-sonnet-20240620-v1:0\n",
    "# anthropic.claude-3-5-sonnet-20241022-v2:0\n",
    "# anthropic.claude-3-haiku-20240307-v1:0\n",
    "# anthropic.claude-3-5-haiku-20241022-v1:0\n",
    "model_name = 'anthropic.claude-v2'#'anthropic.claude-v2'#'anthropic.claude-instant-v1'\n",
    "# 'anthropic.claude-v2'\n",
    "# 'anthropic.claude-instant-v1'\n",
    "\n",
    "if access_key == '': # if using an auth object\n",
    "    \n",
    "    # Select in-database or external model\n",
    "    llm = TeradataAI(api_type = 'AWS',\n",
    "                     model_name = model_name,\n",
    "                     region = region,\n",
    "                     authorization = auth)\n",
    "else:\n",
    "    # Select in-database or external model\n",
    "    llm = TeradataAI(api_type = 'AWS',\n",
    "                     model_name = model_name,\n",
    "                     region = region,\n",
    "                     access_key = access_key,\n",
    "                     secret_key = secret_key)\n",
    "\n",
    "\n",
    "obj = TextAnalyticsAI(llm=llm)"
   ]
  },
  {
   "cell_type": "markdown",
   "metadata": {},
   "source": [
    "\n",
    "<hr style=\"height:1px;border:none;\">\n",
    "<p style = 'font-size:18px;font-family:Arial'><b>6.2 Extract Patient Sentiment</b></p>\n",
    "\n",
    "<p style = 'font-size:16px;font-family:Arial'>A simple method call will extract the sentiment for patient comments <b>in-database</b> using the desired LLM and CSP provider.</p>"
   ]
  },
  {
   "cell_type": "code",
   "execution_count": null,
   "metadata": {},
   "outputs": [],
   "source": [
    "tdf_transcripts_5=tdf_transcripts.iloc[0:100]\n",
    "tdf_transcripts_5.shape"
   ]
  },
  {
   "cell_type": "code",
   "execution_count": null,
   "metadata": {
    "tags": []
   },
   "outputs": [],
   "source": [
    "%%time\n",
    "tdf_sentiment = obj.analyze_sentiment(column='Transcript', data=tdf_transcripts_5)\n",
    "tdf_sentiment"
   ]
  },
  {
   "cell_type": "markdown",
   "metadata": {},
   "source": [
    "\n",
    "<hr style=\"height:1px;border:none;\">\n",
    "<p style = 'font-size:18px;font-family:Arial'><b>6.3 Execute simple descriptive analytics</b></p>\n",
    "\n",
    "<p style = 'font-size:16px;font-family:Arial'>Now, we can begin asking increasingly more complex questions of the data; what's the distribution of sentiment?  Or - does any individual patient have increasing feelings of anger, fear, or sadness?  Native, in-database <b>ClearScape Analytics</b> functions can answer these questions at extreme speed and scale.</p>"
   ]
  },
  {
   "cell_type": "code",
   "execution_count": null,
   "metadata": {
    "tags": []
   },
   "outputs": [],
   "source": [
    "CategoricalSummary(data = tdf_sentiment, target_columns = 'Sentiment').result"
   ]
  },
  {
   "cell_type": "code",
   "execution_count": null,
   "metadata": {
    "tags": []
   },
   "outputs": [],
   "source": [
    "df = CategoricalSummary(data = tdf_sentiment, target_columns = 'Sentiment').result.to_pandas()\n",
    "fig = px.bar(df, x = 'DistinctValue', y = 'DistinctValueCount')\n",
    "fig.show()"
   ]
  },
  {
   "cell_type": "markdown",
   "metadata": {},
   "source": [
    "\n",
    "<hr style=\"height:2px;border:none;\">\n",
    "<p style = 'font-size:20px;font-family:Arial'><b>7. Develop targeted patient outreach with Semantic Search</b></p>\n"
   ]
  },
  {
   "cell_type": "markdown",
   "metadata": {},
   "source": [
    "<p style = 'font-size:16px;font-family:Arial'>Match our patients with <b>targeted</b> outreach programs based on the <b>Semantic Meaning</b> of their comments history.  This can allow our organization to provide tailored programs or assistance based on the intent of the commentary, allowing for more accurate targeting.</p>\n",
    "\n",
    "<table style = 'width:100%;table-layout:fixed;font-family:Arial'>\n",
    "    <tr><td style = 'vertical-align:top' width = '25%'>\n",
    "            <ol style = 'font-size:16px;font-family:Arial'>\n",
    "                <li>Create a Vector Store using CSP LLM services and store data in Vantage</li>\n",
    "                <br>      \n",
    "                <li>Perform interactive analysis and generate recommended responses to customer complaints</li>\n",
    "                <br>\n",
    "                <li>Identify patients for targeted outreach using similarity search functions</li>\n",
    "            </ol>\n",
    "        </td><td><img src = 'images/Semantic_Search_AWS.png' width = '100%'></td></tr>\n",
    "</table>\n",
    "\n",
    "\n",
    "\n",
    "<hr style=\"height:1px;border:none;\">\n",
    "<p style = 'font-size:18px;font-family:Arial'><b>7.1 Enterprise Vector Store</b></p>\n",
    "\n",
    "<p style = 'font-size:16px;font-family:Arial'><b>Vector Embedding</b> is a numerical representation of data that captures semantic relationships and similarities, making it possible to perform mathematical operations and comparisons on the data for various tasks like text analysis and recommendation systems.</p>\n",
    "\n",
    "<p style = 'font-size:18px;font-family:Arial'><b>Generative Responses</b></p>\n",
    "\n",
    "<p style = 'font-size:16px;font-family:Arial'><b>Use Natural Language</b> to inspect the patient complaints data, and leverage <b>Private LLMs</b> to generate rich, actionable responses.</p>\n",
    "\n",
    "<p style = 'font-size:16px;font-family:Arial'><b>Hyper-personalize</b> the appropriate action based on AI-based semantic analysis and search.</p>"
   ]
  },
  {
   "cell_type": "code",
   "execution_count": null,
   "metadata": {
    "tags": []
   },
   "outputs": [],
   "source": [
    "vs = VectorStore(name = 'Transcript_Analysis')"
   ]
  },
  {
   "cell_type": "code",
   "execution_count": null,
   "metadata": {
    "tags": []
   },
   "outputs": [],
   "source": [
    "# if desired, destroy and recreate the vector store - or to use an existing one\n",
    "# skip to the \"similarity_search\" code below\n",
    "# vs.destroy()"
   ]
  },
  {
   "cell_type": "code",
   "execution_count": null,
   "metadata": {
    "tags": []
   },
   "outputs": [],
   "source": [
    "# Python\n",
    "vs.create(search_algorithm = 'VECTORDISTANCE',\n",
    "          object_names = DataFrame(in_schema(\"DEMO_PatientSatisfaction\",\"patient_detail_feedback\")),\n",
    "          key_columns = ['Call_ID', 'first_name', 'last_name'],\n",
    "          data_columns = ['Transcript'],\n",
    "          vector_column = 'Embedding')"
   ]
  },
  {
   "cell_type": "code",
   "execution_count": null,
   "metadata": {
    "tags": []
   },
   "outputs": [],
   "source": [
    "vs.status()"
   ]
  },
  {
   "cell_type": "code",
   "execution_count": null,
   "metadata": {
    "tags": []
   },
   "outputs": [],
   "source": [
    "vs.similarity_search(question = 'top 10 most angry unique callers').similar_objects[['score','Call_ID','Transcript']]"
   ]
  },
  {
   "cell_type": "code",
   "execution_count": null,
   "metadata": {
    "tags": []
   },
   "outputs": [],
   "source": [
    "from IPython.display import Markdown\n",
    "Markdown(vs.ask(question = 'the top angry customers', prompt = 'suggest a targeted outreach program'))"
   ]
  },
  {
   "cell_type": "markdown",
   "metadata": {},
   "source": [
    "\n",
    "<hr style=\"height:1px;border:none;\">\n",
    "<p style = 'font-size:18px;font-family:Arial'><b>7.2 Construct a list of patient care programs</b></p>\n",
    "\n",
    "<p style = 'font-size:16px;font-family:Arial'>Create a small list of topics that will represent the outreach programs we want to target.  This could represent existing outreach or marketing programs we want to more accurately target.\n",
    "\n",
    "<p style = 'font-size:16px;font-family:Arial'><b>Sample patient care programs</b></p>\n",
    "<ul style = 'font-size:16px;font-family:Arial'>\n",
    "    <li><b>Late test results</b></li>\n",
    "    <li><b>Long wait times</b></li>\n",
    "    <li><b>Missing prescriptions</b></li>\n",
    "    <li><b>Argumentative staff</b></li>\n",
    "    <li><b>Unhelpful advice</b></li>\n",
    "    </ul>"
   ]
  },
  {
   "cell_type": "code",
   "execution_count": null,
   "metadata": {
    "tags": []
   },
   "outputs": [],
   "source": [
    "l = ['Late test results',\n",
    "      'Long wait times',\n",
    "      'Missing prescriptions',\n",
    "      'Argumentative staff',\n",
    "      'Unhelpful advice'\n",
    "      ]"
   ]
  },
  {
   "cell_type": "markdown",
   "metadata": {},
   "source": [
    "\n",
    "<hr style=\"height:1px;border:none;\">\n",
    "<p style = 'font-size:18px;font-family:Arial'><b>7.3 Identify patient and program match</b></p>\n",
    "\n",
    "<p style = 'font-size:16px;font-family:Arial'>Provide these results in real-time to call center agent dashboards, content management systems, or other marketing automation applications.</p>"
   ]
  },
  {
   "cell_type": "code",
   "execution_count": null,
   "metadata": {
    "tags": []
   },
   "outputs": [],
   "source": [
    "topics_list = l\n",
    "\n",
    "d = widgets.Dropdown(options=topics_list)\n",
    "\n",
    "output = widgets.Output()\n",
    "\n",
    "def on_change(change):\n",
    "    if change['type'] == 'change' and change['name'] == 'value':\n",
    "        with output:\n",
    "            clear_output()\n",
    "            local_df = vs.similarity_search(question = change['new']).similar_objects[['first_name', 'last_name','Transcript']].to_pandas()\n",
    "            ipydisplay(local_df)\n",
    "            text = \" \".join(comment for comment in local_df['Transcript'])\n",
    "            stopwords = set(STOPWORDS)\n",
    "            wordcloud = WordCloud(stopwords = stopwords, width = 800, height=400, \n",
    "                                  max_words=100, min_word_length=1, \n",
    "                                  collocations = True, background_color = 'white').generate(text)\n",
    "            plt.figure(figsize=(10, 5))\n",
    "            plt.imshow(wordcloud, interpolation='gaussian')\n",
    "            plt.axis('off')\n",
    "            plt.title(f'Word Cloud for Search Topic')\n",
    "            plt.show()\n",
    "            \n",
    "d.observe(on_change)\n",
    "\n",
    "print('Select Topic to Search:')\n",
    "ipydisplay(d, output)\n"
   ]
  },
  {
   "cell_type": "markdown",
   "metadata": {},
   "source": [
    "<hr>\n",
    "<p style = 'font-size:24px;font-family:Arial'><b>Conclusion - Operationalizing AI-powered analytics</b></p>\n",
    "\n",
    "\n",
    "\n",
    "<p style = 'font-size:16px;font-family:Arial'>The preceding demo showed two real-world applications of AI-powered analytics that leverages <b>private</b> data <b>securely</b>, to allow for deeper insight into unstructured data that can improve patient satisfaction.</p>\n",
    "\n",
    "\n",
    "<hr style=\"height:2px;border:none;\">\n",
    "<p style = 'font-size:20px;font-family:Arial'><b>8. Cleanup</b></p>\n",
    "\n",
    "\n",
    "\n",
    "<p style = 'font-size:16px;font-family:Arial'>Call the destroy() method of the VS object to clean up the objects created during this demo.</p>"
   ]
  },
  {
   "cell_type": "code",
   "execution_count": null,
   "metadata": {
    "tags": []
   },
   "outputs": [],
   "source": [
    "vs.destroy()"
   ]
  },
  {
   "cell_type": "code",
   "execution_count": null,
   "metadata": {},
   "outputs": [],
   "source": [
    "remove_context()"
   ]
  },
  {
   "cell_type": "markdown",
   "metadata": {},
   "source": [
    "<footer style=\"padding-bottom:35px; border-bottom:3px solid #91A0Ab\">\n",
    "    <div style=\"float:left;margin-top:14px\">ClearScape Analytics™</div>\n",
    "    <div style=\"float:right;\">\n",
    "        <div style=\"float:left; margin-top:14px\">\n",
    "            Copyright © Teradata Corporation - 2025. All Rights Reserved\n",
    "        </div>\n",
    "    </div>\n",
    "</footer>"
   ]
  }
 ],
 "metadata": {
  "kernelspec": {
   "display_name": "Python 3 (ipykernel)",
   "language": "python",
   "name": "python3"
  },
  "language_info": {
   "codemirror_mode": {
    "name": "ipython",
    "version": 3
   },
   "file_extension": ".py",
   "mimetype": "text/x-python",
   "name": "python",
   "nbconvert_exporter": "python",
   "pygments_lexer": "ipython3",
   "version": "3.9.10"
  }
 },
 "nbformat": 4,
 "nbformat_minor": 4
}
