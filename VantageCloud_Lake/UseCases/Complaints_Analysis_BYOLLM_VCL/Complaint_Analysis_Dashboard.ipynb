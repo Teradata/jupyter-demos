{
 "cells": [
  {
   "cell_type": "markdown",
   "id": "551d92a1-a80f-4162-89a2-522369bf2e33",
   "metadata": {},
   "source": [
    "<header>\n",
    "   <p style=\"font-size: 36px; font-family: Arial; color: #F0F0F0; background-color: #00233c; padding: 20pt;\">\n",
    "       Customer Complaint Analyzer with Gen-AI (Google Gemini)\n",
    "       <br>\n",
    "       <img id=\"teradata-logo\" src=\"https://storage.googleapis.com/clearscape_analytics_demo_data/DEMO_Logo/teradata.svg\" alt=\"Teradata\" style=\"width: 125px; height: auto; margin-top: 20pt;\">\n",
    "   </p>\n",
    "</header>"
   ]
  },
  {
   "cell_type": "markdown",
   "id": "92a7b9ae-674d-4414-9597-b10e860063c7",
   "metadata": {},
   "source": [
    "<!-- Tile 1 -->\n",
    "<div style=\"border: 1px solid #00233c; padding: 20px; background-color: #F5F5F5; margin-bottom: 20px;\">\n",
    "    <h2>Customer 360</h2>\n",
    "    <p style='font-size:16px;font-family:Arial;color:#00233C'>This demo shows Complaints Analysis Integration with Customer360 which is a comprehensive approach to managing customer complaints and feedback within the framework of a Customer 360-degree view using <b>Teradata Vantage</b> and <b>Google Gemini</b>. This integration aims to provide a seamless and personalized customer experience by leveraging data from various sources, including CRM systems, marketing platforms, and social media.</p>\n",
    "    <img src=\"./images/cusotmer360_gemini.jpg\" style=\"width: 100%; height: auto; margin-bottom: 10px;\" alt=\"Customer 360\" />\n",
    "    <p><em>Integrating Complaints Analysis with Customer360 data</em></p>\n",
    "    <div style=\"text-align: right;\">\n",
    "        <a href=\"./Complaint_Analysis_Customer360.ipynb\" style=\"padding: 10px; background-color: #00233c; color: #FFFFFF; text-decoration: none; border-radius: 5px;\">\n",
    "            Open Demo\n",
    "        </a>\n",
    "    </div>\n",
    "</div>"
   ]
  },
  {
   "cell_type": "markdown",
   "id": "b836f94d-9d43-4ce8-a681-88b8298d3a02",
   "metadata": {},
   "source": [
    "<!-- Tile 3 -->\n",
    "<div style=\"border: 1px solid #00233c; padding: 20px; background-color: #F5F5F5; margin-bottom: 20px;\">\n",
    "    <h2>Speech Analysis with Gemini</h2>\n",
    "    <p style='font-size:16px;font-family:Arial;color:#00233C'>This demo shows Speech Recognition using <b>Teradata Vantage</b> on Google and <b>Google Gemini LLM model</b> is a cutting-edge technology that leverages the power of cloud computing and advanced algorithms to accurately recognize and transcribe spoken words. This innovative solution integrates the capabilities of Teradata Vantage, Google Cloud, and Gemini to provide a robust and efficient speech recognition system.</p>\n",
    "    <img src=\"./images/voice-note.jpg\" alt=\"Speech Recognition\" style=\"width: 100%; height: auto; margin-bottom: 10px;\" />\n",
    "    <p><em>Speech Analysis with Google Gemini</em></p>\n",
    "    <div style=\"text-align: right;\">\n",
    "        <a href=\"./Speech_Recognition.ipynb\" style=\"padding: 10px; background-color: #00233c; color: #FFFFFF; text-decoration: none; border-radius: 5px;\">\n",
    "            Open Demo\n",
    "        </a>\n",
    "    </div>\n",
    "</div>"
   ]
  },
  {
   "cell_type": "markdown",
   "id": "2dcf689a-baa1-42ff-b223-715b1bf68d1d",
   "metadata": {},
   "source": [
    "<!-- Tile 4 -->\n",
    "<div style=\"border: 1px solid #00233c; padding: 20px; background-color: #F5F5F5; margin-bottom: 20px;\">\n",
    "    <h2>Sentiment Analysis</h2>\n",
    "    <p style = 'font-size:16px;font-family:Arial;color:#00233C'>This demo shows sentiment analysis using <b>Teradata Vantage</b> and the advanced <b>Google Gemini</b> model involves leveraging cutting-edge technologies to extract insights from unstructured data. This process empowers businesses to swiftly identify and address customer concerns, enhancing overall customer satisfaction and loyalty.</p>\n",
    "    <img src=\"./images/sentiment_analysis.png\" alt=\"Sentiment Analysis Bedrock\" style=\"width: 100%; height: auto; margin-bottom: 10px;\" />\n",
    "    <p><em>Sentiment Analysis Using Vantage and Google Gemini</em></p>\n",
    "    <div style=\"text-align: right;\">\n",
    "        <a href=\"./Sentiment_Analysis.ipynb\" style=\"padding: 10px; background-color: #00233c; color: #FFFFFF; text-decoration: none; border-radius: 5px;\">\n",
    "            Open Demo\n",
    "        </a>\n",
    "    </div>\n",
    "</div>"
   ]
  },
  {
   "cell_type": "markdown",
   "id": "90e0f124-1476-4e95-af54-0bc62c467b4e",
   "metadata": {},
   "source": [
    "<!-- Tile 5 -->\n",
    "<div style=\"border: 1px solid #00233c; padding: 20px; background-color: #F5F5F5; margin-bottom: 20px;\">\n",
    "    <h2>Complaints Clustering</h2>\n",
    "    <p style=\"font-size:16px;font-family:Arial;color:#00233c\">This demo uses advanced clustering techniques powered by <b>Teradata Vantage</b> and <b>Google Gemini's Generative AI Embeddings</b> model to group similar customer complaints together. By identifying common themes and patterns, this functionality provides valuable insights into the key issues and pain points experienced by customers.</p>\n",
    "    <img src=\"./images/clustering.png\" alt=\"Complaints Clustering\" style=\"width: 100%; height: auto; margin-bottom: 10px;\" />\n",
    "    <p><em>Complaints Clustering using Vantage and Google Gemini</em></p>\n",
    "    <div style=\"text-align: right;\">\n",
    "        <a href=\"./Complaints_Clustering.ipynb\" style=\"padding: 10px; background-color: #00233c; color: #FFFFFF; text-decoration: none; border-radius: 5px;\">\n",
    "            Open Demo\n",
    "        </a>\n",
    "    </div>\n",
    "</div>"
   ]
  },
  {
   "cell_type": "markdown",
   "id": "a8554f25-c10b-461f-93fb-1920c7cc90d0",
   "metadata": {},
   "source": [
    "<!-- Tile 6 -->\n",
    "<div style=\"border: 1px solid #00233c; padding: 20px; background-color: #F5F5F5; margin-bottom: 20px;\">\n",
    "    <h2>Complaints Classification</h2>\n",
    "    <p style = 'font-size:16px;font-family:Arial;color:#00233C'>This demo shows a revolutionary way for  customer complaint resolution with our pioneering solution, which seamlessly integrates the capabilities of <b>Teradata Vantage</b> and <b>Google Gemini</b> model as LLM. This powerful synergy enables businesses to classify customer complaints with unmatched precision and speed, allowing them to swiftly identify and address concerns, thereby elevating overall customer satisfaction and loyalty.</p>\n",
    "    <img src=\"./images/classification.png\" alt=\"Complaints Classification\" style=\"width: 100%; height: auto; margin-bottom: 10px;\" />\n",
    "    <p><em>Complaints Classification using Vantage and Google Gemini</em></p>\n",
    "    <div style=\"text-align: right;\">\n",
    "        <a href=\"./Complaints_Classification.ipynb\" style=\"padding: 10px; background-color: #00233c; color: #FFFFFF; text-decoration: none; border-radius: 5px;\">\n",
    "            Open Demo\n",
    "        </a>\n",
    "    </div>\n",
    "</div>"
   ]
  },
  {
   "cell_type": "markdown",
   "id": "45f63b0b-8665-433d-8776-0f285844cd29",
   "metadata": {},
   "source": [
    "<!-- Tile 7 -->\n",
    "<div style=\"border: 1px solid #00233c; padding: 20px; background-color: #F5F5F5; margin-bottom: 20px;\">\n",
    "    <h2>Complaints Summarization</h2>\n",
    "    <p style='font-size:16px;font-family:Arial;color:#00233C'>This demo shows  Complaints Summarization using <b>Teradata Vantage</b> and <b>Google Gemini</b> model. This cutting-edge solution empowers organizations to efficiently manage and analyze customer complaints, providing actionable insights to enhance customer satisfaction and improve business operations.</p> \n",
    "    <img src=\"./images/summarization.png\" style=\"width: 100%; height: auto; margin-bottom: 10px;\" alt=\"Complaints Summarization\" />\n",
    "    <p><em>Complaints Summarization Using Vantage and Google Gemini</em></p>\n",
    "    <div style=\"text-align: right;\">\n",
    "        <a href=\"./Complaint_Summarization.ipynb\" style=\"padding: 10px; background-color: #00233c; color: #FFFFFF; text-decoration: none; border-radius: 5px;\">\n",
    "            Open Demo\n",
    "        </a>\n",
    "    </div>\n",
    "</div>"
   ]
  },
  {
   "cell_type": "markdown",
   "id": "7c1cb232-1fa2-487b-860e-2999f30f12e0",
   "metadata": {},
   "source": [
    "<!-- Tile 8 -->\n",
    "<div style=\"border: 1px solid #00233c; padding: 20px; background-color: #F5F5F5; margin-bottom: 20px;\">\n",
    "    <h2>Topic Modelling</h2>\n",
    "    <p style='font-size:16px;font-family:Arial;color:#00233C'>This demo shows world of topic modeling using <b>Teradata Vantage</b> and <b>Google Gemini LLM model</b>. This cutting-edge technology empowers businesses to uncover hidden insights from vast amounts of consumer complaints data, enabling them to identify trends, improve customer satisfaction, and enhance their overall brand reputation.</p> \n",
    "    <img src=\"./images/topics.png\" style=\"width: 100%; height: auto; margin-bottom: 10px;\" alt=\"Topic Modelling\" />\n",
    "    <p><em>Topic Modelling using Vantage and Google Gemini</em></p>\n",
    "    <div style=\"text-align: right;\">\n",
    "        <a href=\"./Topic_Modelling.ipynb\" style=\"padding: 10px; background-color: #00233c; color: #FFFFFF; text-decoration: none; border-radius: 5px;\">\n",
    "            Open Demo\n",
    "        </a>\n",
    "    </div>\n",
    "</div>"
   ]
  },
  {
   "cell_type": "markdown",
   "id": "54a71f39-741a-4a22-9d02-83468fc96993",
   "metadata": {},
   "source": [
    "<footer style=\"padding-bottom: 35px; background: #f9f9f9; border-bottom: 3px solid #00233C\">\n",
    "    <div style=\"float: left; margin-top: 14px;\">ClearScape Analytics™</div>\n",
    "    <div style=\"float: right;\">\n",
    "        <div style=\"float: left; margin-top: 14px;\">Copyright © Teradata Corporation - 2024. All Rights Reserved.</div>\n",
    "    </div>\n",
    "</footer>"
   ]
  }
 ],
 "metadata": {
  "kernelspec": {
   "display_name": "Python 3 (ipykernel)",
   "language": "python",
   "name": "python3"
  },
  "language_info": {
   "codemirror_mode": {
    "name": "ipython",
    "version": 3
   },
   "file_extension": ".py",
   "mimetype": "text/x-python",
   "name": "python",
   "nbconvert_exporter": "python",
   "pygments_lexer": "ipython3",
   "version": "3.9.10"
  }
 },
 "nbformat": 4,
 "nbformat_minor": 5
}
