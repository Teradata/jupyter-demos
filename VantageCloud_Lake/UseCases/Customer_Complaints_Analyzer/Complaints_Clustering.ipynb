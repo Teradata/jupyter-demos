{
 "cells": [
  {
   "cell_type": "markdown",
   "id": "473a7d4a-dc19-4b44-a062-7da705197114",
   "metadata": {},
   "source": [
    "<header>\n",
    "   <p  style='font-size:36px;font-family:Arial; color:#F0F0F0; background-color: #00233c; padding-left: 20pt; padding-top: 20pt;padding-bottom: 10pt; padding-right: 20pt;'>\n",
    "       Complaints Clustering using Vantage and LLM\n",
    "  <br>\n",
    "       <img id=\"teradata-logo\" src=\"https://storage.googleapis.com/clearscape_analytics_demo_data/DEMO_Logo/teradata.svg\" alt=\"Teradata\" style=\"width: 125px; height: auto; margin-top: 20pt;\">\n",
    "    </p>\n",
    "</header>"
   ]
  },
  {
   "cell_type": "markdown",
   "id": "0b39f161-0198-4044-9956-3dc9c9b304b0",
   "metadata": {},
   "source": [
    "<p style = 'font-size:20px;font-family:Arial'><b>Introduction:</b></p>\n",
    "\n",
    "<p style=\"font-size:16px;font-family:Arial\">This feature uses advanced clustering techniques powered by <b>Teradata Vantage</b> and <b>AWS Bedrock - Amazon's Titan embeddings model</b> model to group similar customer complaints together. By identifying common themes and patterns, this functionality provides valuable insights into the key issues and pain points experienced by customers.</p>\n",
    "\n",
    "\n",
    "<p style=\"font-size:16px;font-family:Arial\"><b>Key Features of Complaints Clustering:</b></p>\n",
    "<ul style=\"font-size:16px;font-family:Arial\">\n",
    "  <li>Leverages advanced clustering algorithms powered by <b>Teradata Vantage</b> and <b>Amazon's Titan embeddings.</b></li>\n",
    "  <li>Groups similar customer complaints together, revealing common themes and pain points.</li>\n",
    "  <li>Provides clients with a deeper understanding of the key issues affecting their customers.</li>\n",
    "  <li>Enables clients to prioritize and address the most pressing concerns more effectively.</li>\n",
    "  <li>Helps clients identify opportunities for product improvements and enhanced customer experience.</li>\n",
    "</ul>\n",
    "\n",
    "\n",
    "<p style = 'font-size:16px;font-family:Arial'>Unlock the revolutionary potential of Generative AI to categorize and analyze complaints with unparalleled efficiency.</p>\n",
    "\n",
    "<p style = 'font-size:16px;font-family:Arial'><b>Steps in the analysis:</b></p>\n",
    "<ol style = 'font-size:16px;font-family:Arial'>\n",
    "    <li>Configuring the environment</li>\n",
    "    <li>Connect to Vantage</li>\n",
    "    <li>Data Exploration</li>\n",
    "    <li>Configuring AWS Titan Embeddings</li>\n",
    "    <li>Cluster the Complaints</li>\n",
    "    <li>Cleanup</li>\n",
    "</ol>"
   ]
  },
  {
   "cell_type": "markdown",
   "id": "16ffb0c2-17a5-475f-9e98-1f86919a9ec9",
   "metadata": {},
   "source": [
    "<hr style='height:2px;border:none;'>\n",
    "<b style = 'font-size:20px;font-family:Arial'>1. Configuring the environment</b>\n",
    "<hr style=\"height:1px;border:none;\">\n",
    "<p style = 'font-size:18px;font-family:Arial'><b>1.1 Downloading and installing additional software needed</b>"
   ]
  },
  {
   "cell_type": "code",
   "execution_count": null,
   "id": "0e97af3c-0907-4a05-adf1-40b4ea1cded0",
   "metadata": {
    "tags": []
   },
   "outputs": [],
   "source": [
    "%%capture\n",
    "!pip install -r requirements.txt --upgrade --quiet"
   ]
  },
  {
   "cell_type": "markdown",
   "id": "3a81070d-da02-49db-a422-c36143018277",
   "metadata": {},
   "source": [
    "<div class=\"alert alert-block alert-info\">\n",
    "    <p style = 'font-size:16px;font-family:Arial'><b>Note: </b><i>Please restart the kernel after executing these two lines. The simplest way to restart the Kernel is by typing zero zero: <b> 0 0</b></i></p>\n",
    "</div>"
   ]
  },
  {
   "cell_type": "markdown",
   "id": "034d8e59-1e9e-410c-9e56-d77543163727",
   "metadata": {},
   "source": [
    "<hr style=\"height:1px;border:none;\">\n",
    "<p style = 'font-size:18px;font-family:Arial'><b>1.2 Import the required libraries</b></p>\n",
    "<p style = 'font-size:16px;font-family:Arial'>Here, we import the required libraries, set environment variables and environment paths (if required).</p>"
   ]
  },
  {
   "cell_type": "code",
   "execution_count": null,
   "id": "c9f49cf5-f7b9-461a-a59c-867a414d3bcc",
   "metadata": {
    "tags": []
   },
   "outputs": [],
   "source": [
    "# Data manipulation and analysis\n",
    "import pandas as pd\n",
    "\n",
    "# Suppress warnings\n",
    "import warnings\n",
    "warnings.filterwarnings(\"ignore\", category=DeprecationWarning)\n",
    "\n",
    "# General imports\n",
    "import os\n",
    "import getpass\n",
    "\n",
    "# Plotting packages\n",
    "import plotly.express as px\n",
    "import plotly.graph_objects as go\n",
    "\n",
    "# Teradata library\n",
    "from teradataml import *\n",
    "from teradatagenai import TeradataAI, TextAnalyticsAI, VSManager, VectorStore, VSApi\n",
    "from sqlalchemy import func\n",
    "\n",
    "# Display settings\n",
    "display.max_rows = 5\n",
    "display.print_sqlmr_query = False\n",
    "display.suppress_vantage_runtime_warnings = True\n",
    "configure.val_install_location = \"val\"\n",
    "configure.byom_install_location = \"byom\""
   ]
  },
  {
   "cell_type": "markdown",
   "id": "8452ad4b-84f7-4b7d-b523-5f24125264c7",
   "metadata": {},
   "source": [
    "<hr style=\"height:2px;border:none;\">\n",
    "<b style = 'font-size:20px;font-family:Arial'>2. Connect to Vantage</b>\n",
    "<p style = 'font-size:16px;font-family:Arial'>We will be prompted to provide the password. We will enter the password, press the Enter key, and then use the down arrow to go to the next cell.</p>"
   ]
  },
  {
   "cell_type": "code",
   "execution_count": null,
   "id": "c25f3d12-a0db-43ce-8244-294ce0132097",
   "metadata": {
    "tags": []
   },
   "outputs": [],
   "source": [
    "print(\"Checking if this environment is ready to connect to VantageCloud Lake...\")\n",
    "\n",
    "if os.path.exists(\"/home/jovyan/JupyterLabRoot/VantageCloud_Lake/.config/.env\"):\n",
    "    print(\"Your environment parameter file exist.  Please proceed with this use case.\")\n",
    "    # Load all the variables from the .env file into a dictionary\n",
    "    env_vars = dotenv_values(\"/home/jovyan/JupyterLabRoot/VantageCloud_Lake/.config/.env\")\n",
    "    # Create the Context\n",
    "    eng = create_context(host=env_vars.get(\"host\"), username=env_vars.get(\"username\"), password=env_vars.get(\"my_variable\"))\n",
    "    execute_sql('''SET query_band='DEMO=text_analytics_teradatagenai_aws_huggingface.ipynb;' UPDATE FOR SESSION;''')\n",
    "    print(\"Connected to VantageCloud Lake with:\", eng)\n",
    "else:\n",
    "    print(\"Your environment has not been prepared for connecting to VantageCloud Lake.\")\n",
    "    print(\"Please contact the support team.\")"
   ]
  },
  {
   "cell_type": "markdown",
   "id": "11417221-3825-471d-af67-2f38de4059b7",
   "metadata": {},
   "source": [
    "<p style = 'font-size:16px;font-family:Arial'>Begin running steps with Shift + Enter keys. </p>"
   ]
  },
  {
   "cell_type": "markdown",
   "id": "62bbb47c-6490-45a9-b3c0-f9281f49ae35",
   "metadata": {},
   "source": [
    "<hr style='height:2px;border:none'>\n",
    "<p style = 'font-size:20px;font-family:Arial'><b>2.  Set up the LLM connection</b></p>\n",
    "\n",
    "<p style = 'font-size:16px;font-family:Arial'>The <b>teradatagenai</b> python library can both connect to cloud-based LLM services as well as instantiate private models running <b>at scale</b> on local GPU compute. In this case we will use anthropoc claude-instant-v1 for low-cost, high-throughput tasks.</p>\n",
    "\n",
    "<ol style = 'font-size:16px;font-family:Arial'>\n",
    "<li><b>aws_access_key_id</b>: Enter your AWS access key ID</li>\n",
    "<li><b>aws_secret_access_key</b>: Enter your AWS secret access key</li>\n",
    "<li><b>region name</b>: Enter the AWS region you want to configure (e.g., us-east-1)</li>\n",
    "<ol>"
   ]
  },
  {
   "cell_type": "code",
   "execution_count": null,
   "id": "09c6a41f-08af-4c99-8b02-ef1e9e6759e4",
   "metadata": {
    "tags": []
   },
   "outputs": [],
   "source": [
    "access_key = getpass.getpass('aws_access_key_id: ')\n",
    "secret_key = getpass.getpass('aws_secret_access_key: ')\n",
    "region_name = getpass.getpass('region name: ')"
   ]
  },
  {
   "cell_type": "markdown",
   "id": "86e2a715-df46-4090-908f-496e63908371",
   "metadata": {},
   "source": [
    "<hr style=\"height:2px;border:none;\">\n",
    "<b style = 'font-size:20px;font-family:Arial'>3. Data Exploration</b>"
   ]
  },
  {
   "cell_type": "code",
   "execution_count": null,
   "id": "d35afaed-2485-4a3f-9784-8fe5fd6c08f4",
   "metadata": {},
   "outputs": [],
   "source": [
    "df = DataFrame(in_schema('DEMO_ComplaintAnalysis', 'Consumer_Complaints'))"
   ]
  },
  {
   "cell_type": "code",
   "execution_count": null,
   "id": "94557669-e96c-496a-a35c-d4b23ca93e15",
   "metadata": {},
   "outputs": [],
   "source": [
    "# df.columns"
   ]
  },
  {
   "cell_type": "markdown",
   "id": "9cb7fca4-365a-41b3-a2f8-feb472be6786",
   "metadata": {},
   "source": [
    "<hr style='height:1px;border:none;'>\n",
    "<p style = 'font-size:18px;font-family:Arial'><b>3.1 Graph for Count of Product Complaints Over Years</b></p>\n",
    "\n",
    "<p style='font-size:16px;font-family:Arial'>The provided graph visualizes the count of complaints over the past few years, categorized by product names.</p>"
   ]
  },
  {
   "cell_type": "code",
   "execution_count": null,
   "id": "4ab30b1b-13e4-4720-9df2-a2901cf92785",
   "metadata": {
    "tags": []
   },
   "outputs": [],
   "source": [
    "viz_df = df.assign(year = func.td_year_of_calendar(df.date_received.expression))"
   ]
  },
  {
   "cell_type": "code",
   "execution_count": null,
   "id": "4b692e80-8976-4240-9599-5aac385c94ef",
   "metadata": {},
   "outputs": [],
   "source": [
    "pd_df = viz_df.select(['product','year','complaint_id']).groupby(['product', 'year']).agg(['count']).to_pandas()"
   ]
  },
  {
   "cell_type": "code",
   "execution_count": null,
   "id": "4161f6ec-4250-4c0c-823f-c832daea1192",
   "metadata": {
    "tags": []
   },
   "outputs": [],
   "source": [
    "# Sorting the DataFrame by year for each product\n",
    "pd_df_sorted = pd_df.sort_values(by = ['product', 'year'])\n",
    "\n",
    "# Plotting using Plotly\n",
    "fig = px.line(\n",
    "    pd_df_sorted,\n",
    "    x = 'year',\n",
    "    y = 'count_complaint_id',\n",
    "    color = 'product',\n",
    "    markers = True,\n",
    "    title = 'Count of Product Complaints Over Years'\n",
    ")\n",
    "\n",
    "fig.update_layout(\n",
    "    xaxis_title = 'Year',\n",
    "    yaxis_title = 'Count',\n",
    "    legend_title = 'Product',\n",
    "    width = 1200,\n",
    "    height = 600\n",
    ")\n",
    "\n",
    "fig.show()"
   ]
  },
  {
   "cell_type": "markdown",
   "id": "d595d54c-e906-4411-b744-3cc61585dd5e",
   "metadata": {},
   "source": [
    "<hr style='height:1px;border:none;'> \n",
    "<p style='font-size:18px;font-family:Arial'><b>3.2 Graph for Count of Complaints by Months</b></p> \n",
    "<p style='font-size:16px;font-family:Arial'>The provided graph visualizes the count of complaints by months. We can see that the mean count is above 500, and the July and August months have the maximum complaints count.</p>"
   ]
  },
  {
   "cell_type": "code",
   "execution_count": null,
   "id": "1d99c576-05c8-470c-b7a5-afaa1c71086c",
   "metadata": {},
   "outputs": [],
   "source": [
    "df = df.assign(complaint_month = func.td_month_of_year(df.date_received.expression))\n",
    "grp_gen = df.select(['complaint_month','complaint_id']).groupby(['complaint_month']).agg(['count']).to_pandas()\n",
    "\n",
    "# Define a reverse mapping dictionary\n",
    "reverse_month_mapping = {1: 'January', 2: 'February', 3: 'March', 4: 'April', 5: 'May', 6: 'June',\n",
    "                         7: 'July', 8: 'August', 9: 'September', 10: 'October', 11: 'November', 12: 'December'}\n",
    "\n",
    "# Create a new column with month names based on reverse mapping\n",
    "grp_gen['month'] = grp_gen['complaint_month'].map(reverse_month_mapping)\n",
    "\n",
    "\n",
    "fig = px.bar(\n",
    "    grp_gen.sort_values(by = 'complaint_month'),\n",
    "    x = 'month', y = 'count_complaint_id',\n",
    "    labels = {\n",
    "        'count_complaint_id': 'Number of Complaints',\n",
    "        'month': 'Complaint Month'\n",
    "    },\n",
    "    title = 'Number of Complaints by Month'\n",
    ")\n",
    "\n",
    "# Add hover information\n",
    "fig.update_traces(hovertemplate = 'Month: %{x}<br>Number of Complaints: %{y:,}')\n",
    "\n",
    "fig.show()"
   ]
  },
  {
   "cell_type": "markdown",
   "id": "5c43d615-4487-4b26-9339-c5a26515e949",
   "metadata": {},
   "source": [
    "<hr style='height:1px;border:none;'> \n",
    "\n",
    "<p style='font-size:18px;font-family:Arial'><b>3.3 Graph for Number of Complaints by Product</b></p> <p style='font-size:16px;font-family:Arial'>The graph displays the number of complaints received for different products. The data shows that the highest number of complaints are related to credit cards or prepaid cards, as well as credit reporting and credit repair services.</p>"
   ]
  },
  {
   "cell_type": "code",
   "execution_count": null,
   "id": "d1797ad2-aa25-4945-aa85-e30611ae96da",
   "metadata": {
    "tags": []
   },
   "outputs": [],
   "source": [
    "grp_gen = df.select(['product','complaint_id']).groupby(['product']).agg(['count']).to_pandas()\n",
    "\n",
    "fig = px.bar(\n",
    "    grp_gen,\n",
    "    x = 'product',\n",
    "    y = 'count_complaint_id',\n",
    "    labels = {\n",
    "        'count_complaint_id': 'Number of Complaints',\n",
    "        'product': 'Product'\n",
    "    },\n",
    "    title = 'Number of Complaints by Product'\n",
    ")\n",
    "\n",
    "# Add hover information\n",
    "fig.update_traces(hovertemplate = 'Product: %{x}<br>Number of Complaints: %{y:,}')\n",
    "\n",
    "fig.show()"
   ]
  },
  {
   "cell_type": "markdown",
   "id": "2b83e400-c23c-438f-8e40-218e90e36e7f",
   "metadata": {},
   "source": [
    "<hr style='height:1px;border:none;'> \n",
    "\n",
    "<p style='font-size:18px;font-family:Arial'><b>3.4 Graph for Number of Complaints by Issue</b></p> <p style='font-size:16px;font-family:Arial'>The graph displays the number of complaints received for different issues. The data shows that the highest number of complaints are related to issue of incorrect information on your report.</p>"
   ]
  },
  {
   "cell_type": "code",
   "execution_count": null,
   "id": "eab68ba2-e74b-418d-bee4-46750a90a444",
   "metadata": {
    "tags": []
   },
   "outputs": [],
   "source": [
    "grp_gen = df.select(['issue','complaint_id']).groupby(['issue']).agg(['count']).to_pandas()\n",
    "\n",
    "grp_gen = grp_gen.sort_values('count_complaint_id', ascending = False)[:10]\n",
    "\n",
    "fig = px.bar(\n",
    "    grp_gen,\n",
    "    x = 'issue',\n",
    "    y = 'count_complaint_id',\n",
    "    labels = {\n",
    "        'count_complaint_id': 'Number of Complaints',\n",
    "        'issue': 'Issue'\n",
    "    },\n",
    "    title = 'Number of Complaints by Issue(Top 10)'\n",
    ")\n",
    "\n",
    "# Add hover information\n",
    "fig.update_traces(hovertemplate = 'Issue: %{x}<br>Number of Complaints: %{y:,}')\n",
    "\n",
    "fig.show()"
   ]
  },
  {
   "cell_type": "markdown",
   "id": "9655211c-4ba2-4a33-b3f2-777633fbc889",
   "metadata": {},
   "source": [
    "<hr style='height:1px;border:none;'> \n",
    "\n",
    "<p style='font-size:18px;font-family:Arial'><b>3.5 Graph for Number of Complaints by Sub-Issue</b></p> \n",
    "\n",
    "<p style='font-size:16px;font-family:Arial'>The graph displays the number of complaints received for different sub-issues. The data shows that the highest number of complaints are related to issue of information belongs to someone else.</p>"
   ]
  },
  {
   "cell_type": "code",
   "execution_count": null,
   "id": "5d456215-beee-4133-9ff5-70131299bdf0",
   "metadata": {},
   "outputs": [],
   "source": [
    "grp_gen = df.select(['sub_issue','complaint_id']).groupby(['sub_issue']).agg(['count']).to_pandas()\n",
    "\n",
    "grp_gen = grp_gen.sort_values('count_complaint_id', ascending = False)[:10]\n",
    "\n",
    "fig = px.bar(\n",
    "    grp_gen,\n",
    "    x = 'sub_issue',\n",
    "    y = 'count_complaint_id',\n",
    "    labels = {\n",
    "        'count_complaint_id': 'Number of Complaints',\n",
    "        'sub_issue': 'Sub-Issue'\n",
    "    },\n",
    "    title='Number of Complaints by Sub-Issue(Top 10)'\n",
    ")\n",
    "\n",
    "# Add hover information\n",
    "fig.update_traces(hovertemplate = 'Sub-Issue: %{x}<br>Number of Complaints: %{y:,}')\n",
    "\n",
    "fig.show()"
   ]
  },
  {
   "cell_type": "markdown",
   "id": "17a98018-d49e-49a3-9e98-b0e5cd2bdc86",
   "metadata": {},
   "source": [
    "<hr style='height:1px;border:none;'> \n",
    "\n",
    "<p style='font-size:18px;font-family:Arial'><b>3.6 Graph for Number of Complaints by Channel</b></p>\n",
    "\n",
    "<p style='font-size:16px;font-family:Arial'>The graph displays the number of complaints received for different issues. The data shows that the all the complaints are submitted by web channel.</p>"
   ]
  },
  {
   "cell_type": "code",
   "execution_count": null,
   "id": "c63e282f-4e6f-40d5-8edf-852c07b1cb4c",
   "metadata": {},
   "outputs": [],
   "source": [
    "grp_gen = df.select(['submitted_via','complaint_id']).groupby(['submitted_via']).agg(['count']).to_pandas()\n",
    "\n",
    "# Create a mapping of numbers to product names\n",
    "product_mapping = {i: product for i, product in enumerate(grp_gen['submitted_via'])}\n",
    "\n",
    "# Replace product names with numbers in the DataFrame\n",
    "grp_gen['product_num'] = grp_gen['submitted_via'].map(\n",
    "    {product: i for i, product in enumerate(grp_gen['submitted_via'])}\n",
    ")\n",
    "\n",
    "fig = px.bar(\n",
    "    grp_gen,\n",
    "    x = 'submitted_via',\n",
    "    y = 'count_complaint_id',\n",
    "    labels = {\n",
    "                'count_complaint_id': 'Number of Complaints',\n",
    "                'submitted_via': 'Submitted Via'\n",
    "    },\n",
    "    title = 'Number of Complaints by Channel'\n",
    ")\n",
    "\n",
    "# Add hover information\n",
    "fig.update_traces(hovertemplate = 'Submitted Via: %{x}<br>Number of Complaints: %{y:,}')\n",
    "\n",
    "fig.show()"
   ]
  },
  {
   "cell_type": "markdown",
   "id": "03493ca9-52b0-4546-96d8-e4d26485f557",
   "metadata": {},
   "source": [
    "<hr style=\"height:2px;border:none;\">\n",
    "<b style='font-size:20px;font-family:Arial'>4. Generating Embeddings</b>\n",
    "\n",
    "<p style='font-size:16px; font-family:Arial;'>\n",
    "<div style=\"display: flex; align-items: center; gap: 30px; margin-top: 10px;\">\n",
    "  <div style=\"flex: 1; font-size:16px; font-family:Arial;\">\n",
    "    <p>\n",
    "      The <code>embeddings()</code> function generates vector representations of text from a specified column, capturing the semantic meaning of each entry.\n",
    "    </p>\n",
    "    <p>\n",
    "      These embeddings can then be used for tasks such as semantic similarity, clustering, retrieval, or as input features for downstream machine learning models.\n",
    "    </p>\n",
    "  </div>\n",
    "</div>"
   ]
  },
  {
   "cell_type": "code",
   "execution_count": null,
   "id": "21d9ffd0-1fdb-40e0-9091-df5666858ad6",
   "metadata": {},
   "outputs": [],
   "source": [
    "len(df.columns)"
   ]
  },
  {
   "cell_type": "code",
   "execution_count": null,
   "id": "0e7a1554-d70d-4b0d-8404-b4acec6a5adc",
   "metadata": {},
   "outputs": [],
   "source": [
    "# Instantiate the TeradataAI class with the Amazon Bedrock model.\n",
    "llm_embedding = TeradataAI(api_type=\"aws\",                      \n",
    "               model_name=\"amazon.titan-embed-text-v2:0\",\n",
    "               access_key=access_key,\n",
    "               secret_key=secret_key,\n",
    "               region=\"us-west-2\")"
   ]
  },
  {
   "cell_type": "code",
   "execution_count": null,
   "id": "5d3c9f4a-6cf8-42ba-a329-87e297f47461",
   "metadata": {},
   "outputs": [],
   "source": [
    "# Instantiate the TextAnalyticsAI class with the embedding model.\n",
    "obj_embeddings = TextAnalyticsAI(llm=llm_embedding)"
   ]
  },
  {
   "cell_type": "code",
   "execution_count": null,
   "id": "cc30cc34-3739-486d-a91b-fa2f2c863331",
   "metadata": {},
   "outputs": [],
   "source": [
    "# Generate embeddings\n",
    "tdf_embeddings = obj_embeddings.embeddings(column=\"consumer_complaint_narrative\",data=df.iloc[:10],accumulate=\"0:17\",output_format='VECTOR')"
   ]
  },
  {
   "cell_type": "code",
   "execution_count": null,
   "id": "abbb2073-7169-4d43-ae30-cd855a9842f1",
   "metadata": {},
   "outputs": [],
   "source": [
    "tdf_embeddings.info()"
   ]
  },
  {
   "cell_type": "code",
   "execution_count": null,
   "id": "7fc26c6b-9474-4876-8071-fc27f3d93402",
   "metadata": {},
   "outputs": [],
   "source": [
    "tdf_embeddings.columns[:5] + tdf_embeddings.columns[6:-3] + [\"Message\"]"
   ]
  },
  {
   "cell_type": "code",
   "execution_count": null,
   "id": "e1e3d86d-9b64-4e5e-a3fe-0ca7dd5a35f4",
   "metadata": {},
   "outputs": [],
   "source": [
    "tdf_embeddings = tdf_embeddings.drop(columns=tdf_embeddings.columns[:5] + tdf_embeddings.columns[6:-3] + [\"Message\"])"
   ]
  },
  {
   "cell_type": "code",
   "execution_count": null,
   "id": "41bc94fd-f53a-4fd3-8027-9c7c746c0595",
   "metadata": {},
   "outputs": [],
   "source": [
    "copy_to_sql(df = tdf_embeddings, table_name = 'complaints_embeddings', if_exists = 'replace')"
   ]
  },
  {
   "cell_type": "markdown",
   "id": "1c4e6736-9070-4713-a010-bbb1a7a1f9d0",
   "metadata": {},
   "source": [
    "<hr style=\"height:2px;border:none;\">\n",
    "<b style = 'font-size:20px;font-family:Arial'>5. Cluster the Complaints</b>\n",
    "\n",
    "<p style = 'font-size:16px;font-family:Arial'>For our complaint clustering task, we'll be using a sample of the data to cluster the complaints. This approach will allow us to effectively analyze and categorize the complaints without using the entire dataset.</p>"
   ]
  },
  {
   "cell_type": "code",
   "execution_count": null,
   "id": "d8511855-c7f5-4783-8e5a-5a2b14b79b4f",
   "metadata": {
    "tags": []
   },
   "outputs": [],
   "source": [
    "KMeans_Model = KMeans(\n",
    "    data = DataFrame('complaints_embeddings'),\n",
    "    id_column = \"complaint_id\",\n",
    "    target_columns = [\"Embedding\"],\n",
    "    output_cluster_assignment = True,\n",
    "    num_clusters = 5\n",
    ")"
   ]
  },
  {
   "cell_type": "code",
   "execution_count": null,
   "id": "63a55e88-1632-46eb-b86c-3ee3d16edd8a",
   "metadata": {
    "tags": []
   },
   "outputs": [],
   "source": [
    "print(\"Data information: \\n\", KMeans_Model.model_data.shape)"
   ]
  },
  {
   "cell_type": "code",
   "execution_count": null,
   "id": "7d5a3743-a51a-46cd-888c-eecd85e3f3ab",
   "metadata": {
    "tags": []
   },
   "outputs": [],
   "source": [
    "KMeans_Model.result"
   ]
  },
  {
   "cell_type": "code",
   "execution_count": null,
   "id": "7cd95cbc-7434-4248-84f8-20260410bd7e",
   "metadata": {
    "tags": []
   },
   "outputs": [],
   "source": [
    "embeddings_cluster = DataFrame('complaints_embeddings').join(\n",
    "    other = KMeans_Model.result,\n",
    "    how = \"inner\",\n",
    "    on = \"complaint_id=complaint_id\",\n",
    "    lprefix =  \"L_\"\n",
    ")"
   ]
  },
  {
   "cell_type": "code",
   "execution_count": null,
   "id": "94563f0e-6d80-4b73-ac5a-8aa787ddfc9b",
   "metadata": {
    "tags": []
   },
   "outputs": [],
   "source": [
    "# View complaints in cluster 1\n",
    "embeddings_cluster[['td_clusterid_kmeans','complaint_id','consumer_complaint_narrative']] \\\n",
    "                    .loc[embeddings_cluster.td_clusterid_kmeans == 1]"
   ]
  },
  {
   "cell_type": "markdown",
   "id": "f8f29be4-9609-4c96-a7ab-e2f4a60ec106",
   "metadata": {},
   "source": [
    "<hr style=\"height:2px;border:none;\">\n",
    "<b style = 'font-size:20px;font-family:Arial'>6. Cleanup</b>"
   ]
  },
  {
   "cell_type": "markdown",
   "id": "9140d843-0e89-4f1a-9018-dbde4e41f389",
   "metadata": {},
   "source": [
    "<p style = 'font-size:18px;font-family:Arial'><b>Work Tables</b></p>\n",
    "<p style = 'font-size:16px;font-family:Arial'>Cleanup work tables to prevent errors next time.</p>"
   ]
  },
  {
   "cell_type": "code",
   "execution_count": null,
   "id": "9da55306-cfe5-4d34-978d-16c236504630",
   "metadata": {
    "tags": []
   },
   "outputs": [],
   "source": [
    "tables = ['complaints_embeddings']\n",
    "\n",
    "# Loop through the list of tables and execute the drop table command for each table\n",
    "for table in tables:\n",
    "    try:\n",
    "        db_drop_table(table_name=table)\n",
    "    except:\n",
    "        pass"
   ]
  },
  {
   "cell_type": "markdown",
   "id": "73a8ead8-0698-4449-bc11-5a07351e3fb6",
   "metadata": {},
   "source": [
    "<p style = 'font-size:18px;font-family:Arial'> <b>Databases and Tables </b></p>\n",
    "<p style = 'font-size:16px;font-family:Arial'>The following code will clean up tables and databases created above.</p>"
   ]
  },
  {
   "cell_type": "code",
   "execution_count": null,
   "id": "7e697922-8d63-4709-b7b3-0f705a938255",
   "metadata": {},
   "outputs": [],
   "source": [
    "remove_context()"
   ]
  },
  {
   "cell_type": "markdown",
   "id": "75e7e6a6-1413-4b18-b800-4899bcdfb31a",
   "metadata": {},
   "source": [
    "<hr style=\"height:1px;border:none;\">\n",
    "<b style = 'font-size:18px;font-family:Arial'>Dataset:</b>\n",
    "<br>\n",
    "<br>\n",
    "<p style='font-size: 16px; font-family: Arial;'>The dataset is sourced from <a href='https://www.consumerfinance.gov/data-research/consumer-complaints/'>Consumer Financial Protection Bureau</a></p>"
   ]
  },
  {
   "cell_type": "markdown",
   "id": "f9586bbb-6521-4988-bc00-40a67b08b695",
   "metadata": {},
   "source": [
    "<footer style=\"padding-bottom:35px; border-bottom:3px solid #91A0Ab\">\n",
    "    <div style=\"float:left;margin-top:14px\">ClearScape Analytics™</div>\n",
    "    <div style=\"float:right;\">\n",
    "        <div style=\"float:left; margin-top:14px\">\n",
    "            Copyright © Teradata Corporation - 2024. All Rights Reserved\n",
    "        </div>\n",
    "    </div>\n",
    "</footer>"
   ]
  }
 ],
 "metadata": {
  "kernelspec": {
   "display_name": "Python 3 (ipykernel)",
   "language": "python",
   "name": "python3"
  },
  "language_info": {
   "codemirror_mode": {
    "name": "ipython",
    "version": 3
   },
   "file_extension": ".py",
   "mimetype": "text/x-python",
   "name": "python",
   "nbconvert_exporter": "python",
   "pygments_lexer": "ipython3",
   "version": "3.9.10"
  }
 },
 "nbformat": 4,
 "nbformat_minor": 5
}
