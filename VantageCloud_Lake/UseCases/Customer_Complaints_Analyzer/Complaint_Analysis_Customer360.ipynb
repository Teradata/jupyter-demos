{
 "cells": [
  {
   "cell_type": "markdown",
   "id": "1f44f3bc-51cc-47e3-a033-f2883ed97408",
   "metadata": {},
   "source": [
    "<header>\n",
    "   <p  style='font-size:36px;font-family:Arial; color:#F0F0F0; background-color: #00233c; padding-left: 20pt; padding-top: 20pt;padding-bottom: 10pt; padding-right: 20pt;'>\n",
    "       In-Database Complaints Analysis Integration with Customer360 using LLMs\n",
    "  <br>\n",
    "       <img id=\"teradata-logo\" src=\"https://storage.googleapis.com/clearscape_analytics_demo_data/DEMO_Logo/teradata.svg\" alt=\"Teradata\" style=\"width: 125px; height: auto; margin-top: 20pt;\">\n",
    "    </p>\n",
    "</header>"
   ]
  },
  {
   "cell_type": "markdown",
   "id": "19c23c87-b5a5-4905-913e-d4f7980497fa",
   "metadata": {},
   "source": [
    "<p style = 'font-size:20px;font-family:Arial'><b>Introduction:</b></p>\n",
    "<p style='font-size:16px;font-family:Arial'>Complaints Analysis Integration with Customer360 is a comprehensive approach to managing customer complaints and feedback within the framework of a Customer 360-degree view using <b>Teradata Vantage</b> and <b>Amazon Bedrock</b>. This integration aims to provide a seamless and personalized customer experience by leveraging data from various sources, including CRM systems, marketing platforms, and social media.</p> <p style='font-size:16px;font-family:Arial'>The key components of this integration include:</p> \n",
    "\n",
    "<ol style='font-size:16px;font-family:Arial'> <li><b>Customer 360 Data Manager</b>: Responsible for managing and maintaining a comprehensive view of customer data, including collection, integration, and analysis from multiple sources.</li> <li><b>Complaints Management Dashboard</b>: Analyzes customer complaints, providing insights into complaint volume, trends, and resolution progress.</li> <li><b>Customer Insights</b>: Tools for gaining insights into customer behavior and preferences, enabling targeted marketing campaigns and informed business decisions.</li> </ol> <p style='font-size:16px;font-family:Arial'>The benefits of this integration include:</p> <ol style='font-size:16px;font-family:Arial'> <li><b>Improved Customer Experience</b>: By integrating complaints analysis with Customer 360, businesses can address customer complaints more effectively, leading to increased customer satisfaction and loyalty.</li> <li><b>Data-Driven Decision Making</b>: The integration provides a centralized platform for analyzing customer data, enabling businesses to make informed decisions about product development, marketing strategies, and customer engagement.</li> <li><b>Enhanced Customer Insights</b>: The comprehensive view of customer data allows businesses to better understand customer needs and preferences, leading to more targeted and effective marketing efforts.</li> </ol> \n",
    "\n",
    "\n",
    "<p style='font-size:16px;font-family:Arial'>By integrating complaints analysis with Customer 360, businesses can create a more comprehensive and personalized customer experience, driving business growth and customer satisfaction.</p> \n",
    "\n",
    "<p style = 'font-size:16px;font-family:Arial'><b>Steps in the analysis:</b></p>\n",
    "<ol style = 'font-size:16px;font-family:Arial'>\n",
    "    <li>Connect to Vantage</li>\n",
    "    <li>Configure server-side LLM access using Teradatagenai package</li>\n",
    "    <li>Execute in-database Sentiment Analysis, Topic Modelling and Complaint Summarization</li>\n",
    "    <li>Integrate data with customer 360</li>\n",
    "    <li>Cleanup</li>\n",
    "</ol>"
   ]
  },
  {
   "cell_type": "markdown",
   "id": "439c593b-d12a-4edf-8b5f-6070f1122914",
   "metadata": {},
   "source": [
    "<hr style=\"height:1px;border:none;\">\n",
    "<p style = 'font-size:18px;font-family:Arial;'><b>Download and install additional software as needed</b>"
   ]
  },
  {
   "cell_type": "code",
   "execution_count": null,
   "id": "ebc0a97b-78f8-4274-9844-d3b1d31848e6",
   "metadata": {},
   "outputs": [],
   "source": [
    "%pip install --upgrade -r requirements.txt --quiet"
   ]
  },
  {
   "cell_type": "markdown",
   "id": "7a8a5583-362f-4d11-8b3a-17b20637f517",
   "metadata": {},
   "source": [
    "<div class=\"alert alert-block alert-info\">\n",
    "<p style = 'font-size:16px;font-family:Arial'><b>Note: </b><i>Please restart the kernel after executing these two lines. The simplest way to restart the Kernel is by typing zero zero: <b> 0 0</b></i></p>"
   ]
  },
  {
   "cell_type": "markdown",
   "id": "7e7e5046-3c5f-4f6d-aeaf-60028655ff13",
   "metadata": {},
   "source": [
    "<hr style='height:1px;border:none'>\n",
    "<p style = 'font-size:16px;font-family:Arial'>Here, we import the required libraries, set environment variables and environment paths (if required).</p>"
   ]
  },
  {
   "cell_type": "code",
   "execution_count": null,
   "id": "83dc0922-f932-4378-a505-3bb2d1f1243b",
   "metadata": {
    "tags": []
   },
   "outputs": [],
   "source": [
    "import numpy as np\n",
    "import pandas as pd\n",
    "import json, warnings\n",
    "import getpass\n",
    "from teradataml import *\n",
    "from teradatagenai import TeradataAI, TextAnalyticsAI, VSManager, VectorStore, VSApi\n",
    "\n",
    "\n",
    "# Set display options for dataframes, plots, and warnings\n",
    "%matplotlib inline\n",
    "warnings.filterwarnings('ignore')\n",
    "display.max_rows = 5\n",
    "pd.set_option('display.max_colwidth', None)\n",
    "display.suppress_vantage_runtime_warnings = True"
   ]
  },
  {
   "cell_type": "markdown",
   "id": "768bf2ed-ae11-4969-b20a-88496e4a2b67",
   "metadata": {},
   "source": [
    "<hr style='height:2px;border:none'>\n",
    "<b style = 'font-size:20px;font-family:Arial'>1. Connect to Vantage</b>\n",
    "<p style = 'font-size:16px;font-family:Arial'>Connection information has been defined in an external file - adjust as necessary.</p>"
   ]
  },
  {
   "cell_type": "code",
   "execution_count": null,
   "id": "454a2e81-c377-4058-9e68-78abd801ad9c",
   "metadata": {
    "tags": []
   },
   "outputs": [],
   "source": [
    "print(\"Checking if this environment is ready to connect to VantageCloud Lake...\")\n",
    "\n",
    "if os.path.exists(\"/home/jovyan/JupyterLabRoot/VantageCloud_Lake/.config/.env\"):\n",
    "    print(\"Your environment parameter file exist.  Please proceed with this use case.\")\n",
    "    # Load all the variables from the .env file into a dictionary\n",
    "    env_vars = dotenv_values(\"/home/jovyan/JupyterLabRoot/VantageCloud_Lake/.config/.env\")\n",
    "    # Create the Context\n",
    "    eng = create_context(host=env_vars.get(\"host\"), username=env_vars.get(\"username\"), password=env_vars.get(\"my_variable\"))\n",
    "    execute_sql('''SET query_band='DEMO=text_analytics_teradatagenai_aws_huggingface.ipynb;' UPDATE FOR SESSION;''')\n",
    "    print(\"Connected to VantageCloud Lake with:\", eng)\n",
    "else:\n",
    "    print(\"Your environment has not been prepared for connecting to VantageCloud Lake.\")\n",
    "    print(\"Please contact the support team.\")"
   ]
  },
  {
   "cell_type": "markdown",
   "id": "c62b56de-5a86-4c82-9d47-17d7a3314974",
   "metadata": {
    "tags": []
   },
   "source": [
    "<hr style='height:2px;border:none'>\n",
    "<p style = 'font-size:20px;font-family:Arial'><b>2.  Set up the LLM connection</b></p>\n",
    "\n",
    "<p style = 'font-size:16px;font-family:Arial'>The <b>teradatagenai</b> python library can both connect to cloud-based LLM services as well as instantiate private models running <b>at scale</b> on local GPU compute. In this case we will use anthropoc claude-instant-v1 for low-cost, high-throughput tasks.</p>\n",
    "\n",
    "<ol style = 'font-size:16px;font-family:Arial'>\n",
    "<li><b>aws_access_key_id</b>: Enter your AWS access key ID</li>\n",
    "<li><b>aws_secret_access_key</b>: Enter your AWS secret access key</li>\n",
    "<li><b>region name</b>: Enter the AWS region you want to configure (e.g., us-east-1)</li>\n",
    "<ol>"
   ]
  },
  {
   "cell_type": "code",
   "execution_count": null,
   "id": "49e92709-9a74-4372-a57a-7b078fe2ae2c",
   "metadata": {},
   "outputs": [],
   "source": [
    "access_key = getpass.getpass('aws_access_key_id: ')\n",
    "secret_key = getpass.getpass('aws_secret_access_key: ')\n",
    "region_name = getpass.getpass('region name: ')"
   ]
  },
  {
   "cell_type": "markdown",
   "id": "6ae3eee2-4c49-4b5a-921f-9a310b2796e1",
   "metadata": {},
   "source": [
    "<hr style='height:2px;border:none'>\n",
    "<p style='font-size:20px;font-family:Arial'><b>3. Use the <code>TextAnalyticsAI</code> API to Perform Various Text Analytics Tasks</b></p>\n",
    "<p style='font-size:16px;font-family:Arial'>You can execute the help function at the bottom of this notebook to read more about this API.</p>"
   ]
  },
  {
   "cell_type": "code",
   "execution_count": null,
   "id": "d47859af-aebc-41c7-a3a1-919dccf57584",
   "metadata": {
    "tags": []
   },
   "outputs": [],
   "source": [
    "# Provide model details\n",
    "model_name=\"anthropic.claude-v2\"\n",
    "\n",
    "# Select in-database or external model\n",
    "llm = TeradataAI(api_type = 'AWS',\n",
    "         model_name = model_name,\n",
    "         region = region_name,\n",
    "         # authorization = 'Repositories.BedrockAuth'\n",
    "         access_key = access_key,\n",
    "         secret_key = secret_key)\n",
    "\n",
    "obj = TextAnalyticsAI(llm=llm)"
   ]
  },
  {
   "cell_type": "markdown",
   "id": "69cdee3e-feb5-4cfd-b8d5-99baadcde44e",
   "metadata": {},
   "source": [
    "<hr style='height:2px;border:none'>\n",
    "<b style = 'font-size:20px;font-family:Arial'>4. Using LLM for Sentiment Analysis, Topic Modeling and Complaint Summarization</b>\n",
    "\n",
    "<p style = 'font-size:16px;font-family:Arial'>Sentiment Analysis, Topic Modeling and Complaint Summarization using Large Language Models (LLMs) revolutionizes the way we understand and categorize vast collections of text data. LLMs excel in understanding the semantics and context of words, enabling sophisticated topic modeling techniques.</p>\n",
    "\n",
    "<p style='font-size:16px;font-family:Arial'>Sentiment Analysis Using Large Language Models (LLMs) is a cutting-edge approach to understanding customer opinions and emotions expressed through text-based data. This advanced technique leverages the capabilities of LLMs to accurately identify and categorize sentiment as positive, negative, or neutral, providing businesses with valuable insights into customer perceptions and preferences.</p>\n",
    "\n",
    "<p style = 'font-size:16px;font-family:Arial'>LLMs can generate coherent topics without needing predefined categories, making them ideal for exploratory analysis of diverse datasets. Moreover, their ability to capture subtle nuances in language allows for more precise topic identification, even in noisy or ambiguous texts.</p>\n",
    "\n",
    "<hr style='height:1px;border:none'>\n",
    "<p style = 'font-size:18px;font-family:Arial'><b>4.1 Inspect source data</b></p>\n",
    "\n",
    "<p style = 'font-size:16px;font-family:Arial'>The Teradata python package (teradataml) allows users to work with data using common python syntax and methods <b>without</b> moving data to the client - all operations are pushed to the MPP platform, allowing rapid, performant analytics on data at any scale.  In this case, the DataFrame object represents a table or query <b>in-database</b> which could contain millions or billions of records.</p>"
   ]
  },
  {
   "cell_type": "code",
   "execution_count": null,
   "id": "3506e344-bf92-44f4-9cee-7d85eac3290b",
   "metadata": {
    "tags": []
   },
   "outputs": [],
   "source": [
    "customer_data = DataFrame('\"DEMO_ComplaintAnalysis\".\"Customer_360_Details\"')\n",
    "customer_data"
   ]
  },
  {
   "cell_type": "code",
   "execution_count": null,
   "id": "fb0b5121-6071-42cd-a928-af0116094289",
   "metadata": {
    "tags": []
   },
   "outputs": [],
   "source": [
    "complaints_data = DataFrame(in_schema('DEMO_ComplaintAnalysis', 'Customer_360_Complaints'))\n",
    "complaints_data"
   ]
  },
  {
   "cell_type": "markdown",
   "id": "85336f1f-88af-4a03-ba6d-23a69df6a881",
   "metadata": {},
   "source": [
    "<hr style='height:1px;border:none'>\n",
    "<p style = 'font-size:18px;font-family:Arial'><b>4.2 Sentiment Analysis</b></p>\n",
    "\n",
    "<p style = 'font-size:16px;font-family:Arial'>Extract the sentiment (positive, negative, neutral) using in-database functions that can execute in-platform or call out to Large Language Models of choice.</p>"
   ]
  },
  {
   "cell_type": "markdown",
   "id": "d1eb6496-37ca-4060-82b9-4137b27a733d",
   "metadata": {},
   "source": [
    "<p style = 'font-size:16px;font-family:Arial'>A simple method call will extract the sentiment for patient comments <b>in-database</b> using the desired LLM and CSP provider.</p>"
   ]
  },
  {
   "cell_type": "code",
   "execution_count": null,
   "id": "7da87396-1753-49ec-a9c2-cf4eed6ad304",
   "metadata": {
    "tags": []
   },
   "outputs": [],
   "source": [
    "tdf_sentiment = obj.analyze_sentiment(column = 'consumer_complaint_narrative', \n",
    "                                      data = complaints_data)[['Customer_ID','Sentiment','consumer_complaint_narrative']]\n",
    "tdf_sentiment"
   ]
  },
  {
   "cell_type": "markdown",
   "id": "c023695d-eb93-4a57-bb26-95d45b13152a",
   "metadata": {},
   "source": [
    "<hr style='height:1px;border:none'>\n",
    "<p style = 'font-size:18px;font-family:Arial'><b>4.3 Topic Modeling</b></p>\n",
    "\n",
    "\n",
    "<p style = 'font-size:16px;font-family:Arial'>LLMs can generate coherent topics without needing predefined categories, making them ideal for exploratory analysis of diverse datasets. Moreover, their ability to capture subtle nuances in language allows for more precise topic identification, even in noisy or ambiguous texts. In this case, we are looking for specific topics to drive downstream analytics.</p>\n",
    "<p style = 'font-size:16px;font-family:Arial'>Provide a list of topics to use for classification.</p>"
   ]
  },
  {
   "cell_type": "code",
   "execution_count": null,
   "id": "f93540a7-731a-4cfb-a047-a8dbd3241b32",
   "metadata": {
    "tags": []
   },
   "outputs": [],
   "source": [
    "tdf_topics = obj.classify(column = 'consumer_complaint_narrative', \n",
    "                          data = complaints_data,\n",
    "                          labels = ['Mortgage Application',\n",
    "                                    'Payment Trouble',\n",
    "                                    'Mortgage Closing',\n",
    "                                    'Report Inaccuracy',\n",
    "                                    'Payment Struggle'])[['Customer_ID','Labels','consumer_complaint_narrative']]\n",
    "tdf_topics"
   ]
  },
  {
   "cell_type": "markdown",
   "id": "394cf875-57a4-4f2a-8c5e-e4fa6424f037",
   "metadata": {},
   "source": [
    "<hr style='height:1px;border:none'>\n",
    "<p style = 'font-size:18px;font-family:Arial'><b>4.3 Summarization</b></p>\n",
    "\n",
    "\n",
    "<p style = 'font-size:16px;font-family:Arial'>The summarize method uses the model to summarize the text in the specified column of a database table. It generates an abstractive summary for the input using different levels. The conciseness of the summary can be adjusted using different levels. Higher levels yield more concise summaries.</p>"
   ]
  },
  {
   "cell_type": "code",
   "execution_count": null,
   "id": "d3bd5286-1dd5-4e59-8f36-edbfcde946bf",
   "metadata": {
    "tags": []
   },
   "outputs": [],
   "source": [
    "tdf_summary = obj.summarize(column = 'consumer_complaint_narrative', \n",
    "                          data = complaints_data,\n",
    "                          levels = 2 # higher values provide more concise summary\n",
    "                           )[['Customer_ID','Summary','consumer_complaint_narrative']]\n",
    "\n",
    "tdf_summary"
   ]
  },
  {
   "cell_type": "markdown",
   "id": "6830c6a0-a260-4c0a-8643-d68fa5509d68",
   "metadata": {},
   "source": [
    "<hr style='height:2px;border:none'>\n",
    "<b style = 'font-size:20px;font-family:Arial'>5. Consolidated data in-database Customer360</b>\n",
    "\n",
    "<p style = 'font-size:16px;font-family:Arial'>The developer can now perform simple joins on the data <b>in-database</b> to provide a consolidated view of the complaint summary, sentiment, topic label, and customer information.</p>"
   ]
  },
  {
   "cell_type": "code",
   "execution_count": null,
   "id": "72d12627-7440-4988-bab3-cd4811474f18",
   "metadata": {
    "tags": []
   },
   "outputs": [],
   "source": [
    "tdf_combined = customer_data.join(tdf_topics.drop('consumer_complaint_narrative', axis = 1), on = ['\"Customer Identifier\" = Customer_ID']).drop('Customer_ID', axis = 1)\n",
    "tdf_combined = tdf_combined.join(tdf_summary.drop('consumer_complaint_narrative', axis = 1), on = ['\"Customer Identifier\" = Customer_ID']).drop('Customer_ID', axis = 1)\n",
    "tdf_combined = tdf_combined.join(tdf_sentiment.drop('consumer_complaint_narrative', axis = 1), on = ['\"Customer Identifier\"= Customer_ID']).drop('Customer_ID', axis = 1)"
   ]
  },
  {
   "cell_type": "code",
   "execution_count": null,
   "id": "ed87a62b-a38a-4acb-9e94-51475866afbd",
   "metadata": {
    "tags": []
   },
   "outputs": [],
   "source": [
    "tdf_combined[['Customer Identifier','Name','Sentiment','Labels','Summary']]"
   ]
  },
  {
   "cell_type": "markdown",
   "id": "06cbb0f4-d026-4a0b-8ab8-6982b7f7777a",
   "metadata": {},
   "source": [
    "<hr style='height:1px;border:none'>\n",
    "<p style = 'font-size:18px;font-family:Arial'><b>5.1 Persist the dataset</b></p>\n",
    "<p style = 'font-size:16px;font-family:Arial'>Simple python methods will materialize the data to a permanent table if desired.</p>"
   ]
  },
  {
   "cell_type": "code",
   "execution_count": null,
   "id": "2aae2e32-0a4b-4fef-9e65-501c41f98564",
   "metadata": {
    "tags": []
   },
   "outputs": [],
   "source": [
    "copy_to_sql(tdf_combined, table_name = 'Customer360', temporary = True, if_exists = 'replace')"
   ]
  },
  {
   "cell_type": "markdown",
   "id": "561ff317-6468-4941-bf9b-840849bfb09d",
   "metadata": {},
   "source": [
    "<hr style=\"height:2px;border:none;\">\n",
    "<b style = 'font-size:20px;font-family:Arial;'>6. Cleanup</b>"
   ]
  },
  {
   "cell_type": "markdown",
   "id": "476fb82b-d7a0-4e29-a6d4-8372a247cea8",
   "metadata": {},
   "source": [
    "<p style = 'font-size:18px;font-family:Arial'> <b>Databases and Tables </b></p>\n",
    "<p style = 'font-size:16px;font-family:Arial'>The following code will clean up tables and databases created above.</p>"
   ]
  },
  {
   "cell_type": "code",
   "execution_count": null,
   "id": "358f56a0-ad97-4317-ab4c-88be00b8d179",
   "metadata": {},
   "outputs": [],
   "source": [
    "remove_context()"
   ]
  },
  {
   "cell_type": "markdown",
   "id": "6cf670cd-4594-458d-af98-8efff5a72f73",
   "metadata": {},
   "source": [
    "<hr style=\"height:1px;border:none;\">\n",
    "<b style = 'font-size:18px;font-family:Arial'>Dataset:</b>\n",
    "<br>\n",
    "<br>\n",
    "<p style='font-size: 16px; font-family: Arial;'>The dataset is sourced from <a href='https://www.consumerfinance.gov/data-research/consumer-complaints/'>Consumer Financial Protection Bureau</a></p>"
   ]
  },
  {
   "cell_type": "markdown",
   "id": "eeebf3ab-357c-488e-ba9d-78bf82f4d0dd",
   "metadata": {},
   "source": [
    "<footer style=\"padding-bottom:35px; border-bottom:3px solid #91A0Ab\">\n",
    "    <div style=\"float:left;margin-top:14px\">ClearScape Analytics™</div>\n",
    "    <div style=\"float:right;\">\n",
    "        <div style=\"float:left; margin-top:14px\">\n",
    "            Copyright © Teradata Corporation - 2024, 2025. All Rights Reserved\n",
    "        </div>\n",
    "    </div>\n",
    "</footer>"
   ]
  }
 ],
 "metadata": {
  "kernelspec": {
   "display_name": "Python 3 (ipykernel)",
   "language": "python",
   "name": "python3"
  },
  "language_info": {
   "codemirror_mode": {
    "name": "ipython",
    "version": 3
   },
   "file_extension": ".py",
   "mimetype": "text/x-python",
   "name": "python",
   "nbconvert_exporter": "python",
   "pygments_lexer": "ipython3",
   "version": "3.9.10"
  }
 },
 "nbformat": 4,
 "nbformat_minor": 5
}
