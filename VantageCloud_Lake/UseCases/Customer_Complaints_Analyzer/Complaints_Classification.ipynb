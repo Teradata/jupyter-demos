{
 "cells": [
  {
   "cell_type": "raw",
   "id": "9fa8099b-5aa9-4a85-ab26-21e7df9e5a9a",
   "metadata": {},
   "source": [
    "<header>\n",
    "   <p  style='font-size:36px;font-family:Arial; color:#F0F0F0; background-color: #00233c; padding-left: 20pt; padding-top: 20pt;padding-bottom: 10pt; padding-right: 20pt;'>\n",
    "       Complaints Classification using Vantage and LLM\n",
    "  <br>\n",
    "       <img id=\"teradata-logo\" src=\"https://storage.googleapis.com/clearscape_analytics_demo_data/DEMO_Logo/teradata.svg\" alt=\"Teradata\" style=\"width: 125px; height: auto; margin-top: 20pt;\">\n",
    "    </p>\n",
    "</header>"
   ]
  },
  {
   "cell_type": "markdown",
   "id": "bbae5cd8-f5bd-4b0c-9ae6-ff8ef4bdd737",
   "metadata": {},
   "source": [
    "<p style = 'font-size:20px;font-family:Arial'><b>Introduction:</b></p>\n",
    "\n",
    "<p style = 'font-size:16px;font-family:Arial'>Revolutionize customer complaint resolution with our pioneering solution, which seamlessly integrates the capabilities of <b>Teradata Vantage</b> and <b>AWS Bedrock - Anthropic's Claude LLM model</b> model as LLM. This powerful synergy enables businesses to classify customer complaints with unmatched precision and speed, allowing them to swiftly identify and address concerns, thereby elevating overall customer satisfaction and loyalty.</p>\n",
    "\n",
    "<p style = 'font-size:16px;font-family:Arial'><b>Key Features:</b></p>\n",
    "<ul style = 'font-size:16px;font-family:Arial'>\n",
    "    <li><b>Automated Classification:</b> Our AI-driven model categorizes complaints into predefined categories, ensuring consistency and reducing manual effort.</li>\n",
    "    <li><b>Contextual Understanding:</b> The system comprehends the nuances of customer feedback, capturing subtle differences in tone and language.</li>\n",
    "    <li><b>Real-time Insights:</b> Generate instant reports and analytics to identify trends, patterns, and areas for improvement.</li>\n",
    "</ul>\n",
    "\n",
    "\n",
    "<p style = 'font-size:16px;font-family:Arial'><b>Benefits:</b></p>\n",
    "<ul style = 'font-size:16px;font-family:Arial'>\n",
    "    <li><b>Enhanced Customer Experience:</b> Swiftly address customer concerns, fostering trust and loyalty.</li>\n",
    "    <li><b>Improved Operational Efficiency:</b> Reduce manual processing time, allowing teams to focus on high-value tasks.</li>\n",
    "    <li><b>Data-Driven Decision Making: </b> Make informed decisions with actionable insights from complaint data.</li>\n",
    "</ul>\n",
    "\n",
    "<p style = 'font-size:16px;font-family:Arial'>Experience the transformative power of Generative AI in complaints classification.</p>\n",
    "\n",
    "<p style = 'font-size:16px;font-family:Arial'><b>Steps in the analysis:</b></p>\n",
    "<ol style = 'font-size:16px;font-family:Arial'>\n",
    "    <li>Configuring the environment</li>\n",
    "    <li>Connect to Vantage</li>\n",
    "    <li>Configuring AWS Bedrock - Anthropic's Claude LLM model</li>\n",
    "    <li>Classify Complaints</li>\n",
    "    <li>Cleanup</li>\n",
    "</ol>"
   ]
  },
  {
   "cell_type": "markdown",
   "id": "6eb81395-b727-4eaa-a514-09f67c11b888",
   "metadata": {},
   "source": [
    "<hr style='height:2px;border:none;'>\n",
    "<b style = 'font-size:20px;font-family:Arial'>1. Configuring the environment</b>\n",
    "<hr style=\"height:1px;border:none;\">\n",
    "<p style = 'font-size:18px;font-family:Arial'><b>1.1 Downloading and installing additional software needed</b>"
   ]
  },
  {
   "cell_type": "code",
   "execution_count": null,
   "id": "74720dfc-1195-403e-a596-c9a55773fedc",
   "metadata": {
    "tags": []
   },
   "outputs": [],
   "source": [
    "%%capture\n",
    "!pip install -r requirements.txt --upgrade --quiet"
   ]
  },
  {
   "cell_type": "markdown",
   "id": "3e8d47d7-1a44-4da1-afa5-46ce90312021",
   "metadata": {},
   "source": [
    "<div class=\"alert alert-block alert-info\">\n",
    "    <p style = 'font-size:16px;font-family:Arial'><b>Note: </b><i>Please restart the kernel after executing these two lines. The simplest way to restart the Kernel is by typing zero zero: <b> 0 0</b></i></p>\n",
    "</div>"
   ]
  },
  {
   "cell_type": "markdown",
   "id": "7bfc2916-153f-4a56-95ff-ebeb08c0112c",
   "metadata": {},
   "source": [
    "<hr style=\"height:1px;border:none;\">\n",
    "<p style = 'font-size:18px;font-family:Arial'><b>1.2 Import the required libraries</b></p>\n",
    "<p style = 'font-size:16px;font-family:Arial'>Here, we import the required libraries, set environment variables and environment paths (if required).</p>"
   ]
  },
  {
   "cell_type": "code",
   "execution_count": null,
   "id": "83dc0922-f932-4378-a505-3bb2d1f1243b",
   "metadata": {
    "tags": []
   },
   "outputs": [],
   "source": [
    "# Data manipulation and analysis\n",
    "import numpy as np\n",
    "import pandas as pd\n",
    "import json, warnings\n",
    "import getpass\n",
    "\n",
    "# Visualization\n",
    "import plotly.express as px\n",
    "import matplotlib.pyplot as plt\n",
    "from wordcloud import WordCloud\n",
    "\n",
    "# Progress bar\n",
    "from tqdm import tqdm\n",
    "\n",
    "# Machine learning and other utilities from Teradata\n",
    "from teradataml import *\n",
    "from teradatagenai import TeradataAI, TextAnalyticsAI, VSManager, VectorStore, VSApi\n",
    "\n",
    "# Requests\n",
    "import requests\n",
    "\n",
    "# Display settings\n",
    "display.max_rows = 5\n",
    "pd.set_option('display.max_colwidth', None)\n",
    "# Set display options for dataframes, plots, and warnings\n",
    "%matplotlib inline\n",
    "warnings.filterwarnings('ignore')\n",
    "display.suppress_vantage_runtime_warnings = True"
   ]
  },
  {
   "cell_type": "markdown",
   "id": "e365debb-d67d-45b9-aaad-e54bcc474818",
   "metadata": {},
   "source": [
    "<hr style=\"height:2px;border:none;\">\n",
    "<b style = 'font-size:20px;font-family:Arial'>2. Connect to Vantage</b>\n",
    "<p style = 'font-size:16px;font-family:Arial'>We will be prompted to provide the password. We will enter the password, press the Enter key, and then use the down arrow to go to the next cell.</p>"
   ]
  },
  {
   "cell_type": "code",
   "execution_count": null,
   "id": "454a2e81-c377-4058-9e68-78abd801ad9c",
   "metadata": {
    "tags": []
   },
   "outputs": [],
   "source": [
    "print(\"Checking if this environment is ready to connect to VantageCloud Lake...\")\n",
    "\n",
    "if os.path.exists(\"/home/jovyan/JupyterLabRoot/VantageCloud_Lake/.config/.env\"):\n",
    "    print(\"Your environment parameter file exist.  Please proceed with this use case.\")\n",
    "    # Load all the variables from the .env file into a dictionary\n",
    "    env_vars = dotenv_values(\"/home/jovyan/JupyterLabRoot/VantageCloud_Lake/.config/.env\")\n",
    "    # Create the Context\n",
    "    eng = create_context(host=env_vars.get(\"host\"), username=env_vars.get(\"username\"), password=env_vars.get(\"my_variable\"))\n",
    "    execute_sql('''SET query_band='DEMO=text_analytics_teradatagenai_aws_huggingface.ipynb;' UPDATE FOR SESSION;''')\n",
    "    print(\"Connected to VantageCloud Lake with:\", eng)\n",
    "else:\n",
    "    print(\"Your environment has not been prepared for connecting to VantageCloud Lake.\")\n",
    "    print(\"Please contact the support team.\")"
   ]
  },
  {
   "cell_type": "markdown",
   "id": "dee44870-6034-4353-96df-f5bd00970fa9",
   "metadata": {},
   "source": [
    "<p style = 'font-size:16px;font-family:Arial'>Begin running steps with Shift + Enter keys. </p>"
   ]
  },
  {
   "cell_type": "markdown",
   "id": "6cbcc301-e792-46b4-84de-e775832be566",
   "metadata": {},
   "source": [
    "<hr style='height:2px;border:none'>\n",
    "<p style = 'font-size:20px;font-family:Arial'><b>2.  Set up the LLM connection</b></p>\n",
    "\n",
    "<p style = 'font-size:16px;font-family:Arial'>The <b>teradatagenai</b> python library can both connect to cloud-based LLM services as well as instantiate private models running <b>at scale</b> on local GPU compute. In this case we will use anthropoc claude-instant-v1 for low-cost, high-throughput tasks.</p>\n",
    "\n",
    "<ol style = 'font-size:16px;font-family:Arial'>\n",
    "<li><b>aws_access_key_id</b>: Enter your AWS access key ID</li>\n",
    "<li><b>aws_secret_access_key</b>: Enter your AWS secret access key</li>\n",
    "<li><b>region name</b>: Enter the AWS region you want to configure (e.g., us-east-1)</li>\n",
    "<ol>"
   ]
  },
  {
   "cell_type": "code",
   "execution_count": null,
   "id": "c20b89e0-4e61-4603-be2a-033437b2c568",
   "metadata": {
    "tags": []
   },
   "outputs": [],
   "source": [
    "access_key = getpass.getpass('aws_access_key_id: ')\n",
    "secret_key = getpass.getpass('aws_secret_access_key: ')\n",
    "region_name = getpass.getpass('region name: ')"
   ]
  },
  {
   "cell_type": "markdown",
   "id": "5385eddb-7912-41dd-bf5a-d44d9bc53f9c",
   "metadata": {},
   "source": [
    "<hr style='height:2px;border:none'>\n",
    "<p style='font-size:20px;font-family:Arial'><b>3. Use the <code>TextAnalyticsAI</code> API to Perform Various Text Analytics Tasks</b></p>\n",
    "<p style='font-size:16px;font-family:Arial'>You can execute the help function at the bottom of this notebook to read more about this API.</p>"
   ]
  },
  {
   "cell_type": "code",
   "execution_count": null,
   "id": "bbb331fe-a3ff-42cf-a491-8347d53818e8",
   "metadata": {},
   "outputs": [],
   "source": [
    "# Provide model details\n",
    "model_name=\"anthropic.claude-v2\"\n",
    "\n",
    "# Select in-database or external model\n",
    "llm = TeradataAI(api_type = 'AWS',\n",
    "         model_name = model_name,\n",
    "         region = region_name,\n",
    "         # authorization = 'Repositories.BedrockAuth'\n",
    "         access_key = access_key,\n",
    "         secret_key = secret_key)\n",
    "\n",
    "obj = TextAnalyticsAI(llm=llm)"
   ]
  },
  {
   "cell_type": "markdown",
   "id": "3d1a07c7-a9d7-49a7-a2ac-1e68c0a1282c",
   "metadata": {},
   "source": [
    "<hr style=\"height:2px;border:none;\">\n",
    "<b style = 'font-size:20px;font-family:Arial'>4. Classify Complaints</b>\n",
    "<p style = 'font-size:16px;font-family:Arial'>We'll use a sample of the data to classify complaints</p>"
   ]
  },
  {
   "cell_type": "code",
   "execution_count": null,
   "id": "cac31f37-2eab-410a-b1ec-9fda12f141c5",
   "metadata": {
    "tags": []
   },
   "outputs": [],
   "source": [
    "tdf = DataFrame(in_schema('DEMO_ComplaintAnalysis', 'Consumer_Complaints'))\n",
    "tdf = tdf.assign(id = tdf.complaint_id).drop('complaint_id', axis = 1)"
   ]
  },
  {
   "cell_type": "code",
   "execution_count": null,
   "id": "b3f38a59-8ffb-4010-897d-5d571692365a",
   "metadata": {},
   "outputs": [],
   "source": [
    "tdf_classified = obj.classify(\n",
    "    column=\"consumer_complaint_narrative\",\n",
    "    data=tdf,\n",
    "    accumulate=\"0:5\",\n",
    "    labels=[\"Complaint\", \"Non-Complaint\"],\n",
    "    multi_label=True\n",
    ")"
   ]
  },
  {
   "cell_type": "code",
   "execution_count": null,
   "id": "7734659a-5b9e-4989-b334-1e17b77754d4",
   "metadata": {},
   "outputs": [],
   "source": [
    "tdf_classified = tdf_classified.assign(Prediction = tdf_classified.Labels.oreplace(\"[\").oreplace(\"]\")).drop(columns=['Labels', 'Message'])\n",
    "tdf_classified = tdf_classified.assign(Prediction = tdf_classified.Prediction.cast(type_=VARCHAR(15)))\n",
    "tdf_classified = tdf_classified.assign(Prediction = tdf_classified.Prediction.str.strip())"
   ]
  },
  {
   "cell_type": "code",
   "execution_count": null,
   "id": "60feb089-0011-44db-83cd-f4f70f5ff79b",
   "metadata": {},
   "outputs": [],
   "source": [
    "tdf_classified"
   ]
  },
  {
   "cell_type": "markdown",
   "id": "e8daa142-e48f-4caf-bd3a-4e85e93d2e6e",
   "metadata": {},
   "source": [
    "<hr style='height:1px;border:none;'>\n",
    "<p style = 'font-size:18px;font-family:Arial'><b>4.1 Consumer Complaints Prediction vs Occurrences</b></p>\n",
    "\n",
    "<p style = 'font-size:16px;font-family:Arial'>A graph illustrating the relationship between consumer complaints prediction and the number of occurrences. This visual representation helps identify trends, patterns, and areas for improvement, enabling data-driven decision making.</p>"
   ]
  },
  {
   "cell_type": "code",
   "execution_count": null,
   "id": "32919a9a-7a29-410a-9207-341b0f857652",
   "metadata": {},
   "outputs": [],
   "source": [
    "from IPython.display import display, Markdown\n",
    "def display_helper(msg):\n",
    "    return display(Markdown(\n",
    "        f\"\"\"<div class=\"alert alert-block alert-info\">\n",
    "<p style = 'font-size:16px;font-family:Arial'><b>Note: </b>\n",
    "<i>{msg}</i></p>\"\"\"))"
   ]
  },
  {
   "cell_type": "code",
   "execution_count": null,
   "id": "141400a2-a4a6-42ea-9f44-651534e474d6",
   "metadata": {
    "tags": []
   },
   "outputs": [],
   "source": [
    "from collections import Counter\n",
    "df = tdf_classified.to_pandas()\n",
    "data = Counter(df['Prediction'])\n",
    "\n",
    "# Convert Counter data to DataFrame\n",
    "viz_df = pd.DataFrame.from_dict(data, orient='index', columns=['Count']).reset_index()\n",
    "\n",
    "# Rename columns\n",
    "viz_df.columns = ['Prediction', 'Count']\n",
    "\n",
    "# Create bar graph using Plotly Express\n",
    "fig = px.bar(viz_df, x='Prediction', y='Count', color='Prediction',\n",
    "             labels={'Count': 'Number of Occurrences', 'Prediction': 'Prediction'})\n",
    "\n",
    "# Show the plot\n",
    "fig.show()"
   ]
  },
  {
   "cell_type": "markdown",
   "id": "5cc01cc7-269f-4136-a945-fcc149b04e37",
   "metadata": {},
   "source": [
    "<hr style='height:1px;border:none;'>\n",
    "<p style = 'font-size:18px;font-family:Arial'><b>4.2 Word Cloud for Consumer Complaints Prediction</b></p>\n",
    "\n",
    "<p style = 'font-size:16px;font-family:Arial'>A visual representation of <b>consumer complaints prediction</b>, highlighting the most frequent words and pain points in customer feedback. This word cloud helps identify trends, sentiment, and areas for improvement, enabling data-driven decision making.</p>"
   ]
  },
  {
   "cell_type": "code",
   "execution_count": null,
   "id": "df58cb69-27f5-4878-a0d3-132c501a95e8",
   "metadata": {
    "tags": []
   },
   "outputs": [],
   "source": [
    "complaint = df[df['Prediction'] == 'Complaint']\n",
    "complaint_text = ' '.join(complaint['consumer_complaint_narrative'])\n",
    "\n",
    "# Replace 'X' with blank space\n",
    "modified_string = complaint_text.replace('X', '')\n",
    "\n",
    "if len(modified_string) > 0:\n",
    "    wordcloud = WordCloud(width=800, height=400, background_color='white').generate(modified_string)\n",
    "\n",
    "    # Display the word cloud\n",
    "    plt.imshow(wordcloud, interpolation='bilinear')\n",
    "    plt.title(\"Complaints\")\n",
    "    plt.tight_layout()\n",
    "    plt.axis(\"off\")\n",
    "    plt.show()\n",
    "else:\n",
    "    display_helper(\"We included both complaint and non-complaint options for completeness. But since this is a complaints dataset, we don't expect to see any complaints.\")"
   ]
  },
  {
   "cell_type": "markdown",
   "id": "afe85dc8-e179-4f31-93db-1ba497724aa4",
   "metadata": {},
   "source": [
    "<hr style='height:1px;border:none;'>\n",
    "<p style = 'font-size:18px;font-family:Arial'><b>4.3 Word Cloud for Non-Complaints Prediction</b></p>\n",
    "\n",
    "<p style = 'font-size:16px;font-family:Arial'>A visual representation of <b>non-complaints prediction</b>, highlighting the most frequent words and positive sentiments in customer feedback. This word cloud helps identify trends, sentiment, and areas of satisfaction, enabling data-driven decision making.</p>"
   ]
  },
  {
   "cell_type": "code",
   "execution_count": null,
   "id": "fef35daa-b6a9-44a8-8562-a464d49d92f5",
   "metadata": {
    "tags": []
   },
   "outputs": [],
   "source": [
    "non_complaint = df[df['Prediction'] == 'Non-Complaint']\n",
    "non_complaint_text = ' '.join(non_complaint['consumer_complaint_narrative'])\n",
    "\n",
    "# Replace 'X' with blank space\n",
    "modified_string = non_complaint_text.replace('X', '')\n",
    "\n",
    "if len(modified_string) > 0:\n",
    "    wordcloud = WordCloud(width=800, height=400, background_color='white').generate(modified_string)\n",
    "\n",
    "    # Display the word cloud\n",
    "    plt.imshow(wordcloud, interpolation='bilinear')\n",
    "    plt.title(\"Non-Complaints\")\n",
    "    plt.tight_layout()\n",
    "    plt.axis(\"off\")\n",
    "    plt.show()\n",
    "else:\n",
    "    display_helper(\"We included both complaint and non-complaint options for completeness. But since this is a complaints dataset, we don't expect to see any non-complaints.\")"
   ]
  },
  {
   "cell_type": "markdown",
   "id": "8522801e-48fb-4c6d-af93-3538e13ea294",
   "metadata": {},
   "source": [
    "<p style = 'font-size:16px;font-family:Arial'>Now the results can be saved back to Vantage.</p>"
   ]
  },
  {
   "cell_type": "code",
   "execution_count": null,
   "id": "2b2d6203-9526-43ed-8b25-f5548376a10c",
   "metadata": {},
   "outputs": [],
   "source": [
    "copy_to_sql(df = df, table_name = 'complaints_classified', if_exists = 'replace')"
   ]
  },
  {
   "cell_type": "markdown",
   "id": "d37c5d71-e309-496a-a0d9-5ac9b3567fe0",
   "metadata": {},
   "source": [
    "<hr style=\"height:2px;border:none;\">\n",
    "<b style = 'font-size:20px;font-family:Arial'>5. Cleanup</b>"
   ]
  },
  {
   "cell_type": "markdown",
   "id": "04a9cf3a-a133-4695-b683-72c4a448bbaa",
   "metadata": {},
   "source": [
    "<p style = 'font-size:18px;font-family:Arial'><b>Work Tables</b></p>\n",
    "<p style = 'font-size:16px;font-family:Arial'>Cleanup work tables to prevent errors next time.</p>"
   ]
  },
  {
   "cell_type": "code",
   "execution_count": null,
   "id": "fe618c2d-b637-4577-a6c7-01a417c2e27d",
   "metadata": {},
   "outputs": [],
   "source": [
    "tables = ['complaints_classified']\n",
    "\n",
    "# Loop through the list of tables and execute the drop table command for each table\n",
    "for table in tables:\n",
    "    try:\n",
    "        db_drop_table(table_name=table)\n",
    "    except:\n",
    "        pass"
   ]
  },
  {
   "cell_type": "markdown",
   "id": "3265d0a0-2b15-4383-b657-c6329d547ece",
   "metadata": {},
   "source": [
    "<p style = 'font-size:18px;font-family:Arial'> <b>Databases and Tables </b></p>\n",
    "<p style = 'font-size:16px;font-family:Arial'>The following code will clean up tables and databases created above.</p>"
   ]
  },
  {
   "cell_type": "code",
   "execution_count": null,
   "id": "358f56a0-ad97-4317-ab4c-88be00b8d179",
   "metadata": {
    "tags": []
   },
   "outputs": [],
   "source": [
    "remove_context()"
   ]
  },
  {
   "cell_type": "markdown",
   "id": "b82f52a3-2aad-44d8-b4dd-606249c85962",
   "metadata": {},
   "source": [
    "<hr style=\"height:1px;border:none;\">\n",
    "<b style = 'font-size:18px;font-family:Arial'>Dataset:</b>\n",
    "<br>\n",
    "<br>\n",
    "<p style='font-size: 16px; font-family: Arial;'>The dataset is sourced from <a href='https://www.consumerfinance.gov/data-research/consumer-complaints/'>Consumer Financial Protection Bureau</a></p>"
   ]
  },
  {
   "cell_type": "markdown",
   "id": "ffa325e2-7b1b-49c1-a932-e75f71bf002d",
   "metadata": {},
   "source": [
    "<footer style=\"padding-bottom:35px; border-bottom:3px solid #91A0Ab\">\n",
    "    <div style=\"float:left;margin-top:14px\">ClearScape Analytics™</div>\n",
    "    <div style=\"float:right;\">\n",
    "        <div style=\"float:left; margin-top:14px\">\n",
    "            Copyright © Teradata Corporation - 2024. All Rights Reserved\n",
    "        </div>\n",
    "    </div>\n",
    "</footer>"
   ]
  }
 ],
 "metadata": {
  "kernelspec": {
   "display_name": "Python 3 (ipykernel)",
   "language": "python",
   "name": "python3"
  },
  "language_info": {
   "codemirror_mode": {
    "name": "ipython",
    "version": 3
   },
   "file_extension": ".py",
   "mimetype": "text/x-python",
   "name": "python",
   "nbconvert_exporter": "python",
   "pygments_lexer": "ipython3",
   "version": "3.9.10"
  }
 },
 "nbformat": 4,
 "nbformat_minor": 5
}
